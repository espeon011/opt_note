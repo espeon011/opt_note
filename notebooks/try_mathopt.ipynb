{
 "cells": [
  {
   "cell_type": "code",
   "execution_count": 1,
   "id": "e5758bf5-77cf-4a4c-89f3-2383a903edd0",
   "metadata": {
    "editable": true,
    "slideshow": {
     "slide_type": ""
    },
    "tags": []
   },
   "outputs": [],
   "source": [
    "from ortools.math_opt.python import mathopt"
   ]
  },
  {
   "cell_type": "code",
   "execution_count": 2,
   "id": "7de0da52-e4f4-455a-9552-d61f334c7909",
   "metadata": {
    "editable": true,
    "slideshow": {
     "slide_type": ""
    },
    "tags": []
   },
   "outputs": [],
   "source": [
    "# Build the model.\n",
    "model = mathopt.Model(name=\"getting_started_lp\")\n",
    "x = model.add_variable(lb=-1.0, ub=1.5, name=\"x\")\n",
    "#y = model.add_variable(lb=0.0, ub=1.0, name=\"y\")\n",
    "y = model.add_binary_variable(name=\"y\")\n",
    "model.add_linear_constraint(x + y <= 1.5)\n",
    "#model.maximize(x + 2 * y)\n",
    "model.maximize(x + 2 * y * y)"
   ]
  },
  {
   "cell_type": "code",
   "execution_count": 3,
   "id": "bc1840d6-b52b-4246-b945-88ad30c00f74",
   "metadata": {
    "editable": true,
    "slideshow": {
     "slide_type": ""
    },
    "tags": []
   },
   "outputs": [
    {
     "name": "stdout",
     "output_type": "stream",
     "text": [
      "feasible solution found by trivial heuristic after 0.0 seconds, objective value 0.000000e+00\n",
      "presolving:\n",
      "(round 1, fast)       1 del vars, 1 del conss, 0 add conss, 1 chg bounds, 0 chg sides, 0 chg coeffs, 1 upgd conss, 0 impls, 0 clqs\n",
      "(round 2, fast)       2 del vars, 2 del conss, 0 add conss, 2 chg bounds, 0 chg sides, 0 chg coeffs, 1 upgd conss, 0 impls, 0 clqs\n",
      "   Deactivated symmetry handling methods, since SCIP was built without symmetry detector (SYM=none).\n",
      "presolving (3 rounds: 3 fast, 1 medium, 1 exhaustive):\n",
      " 3 deleted vars, 2 deleted constraints, 0 added constraints, 2 tightened bounds, 0 added holes, 0 changed sides, 0 changed coefficients\n",
      " 0 implications, 0 cliques\n",
      "transformed 1/4 original solutions to the transformed problem space\n",
      "Presolving Time: 0.00\n",
      "\n",
      "SCIP Status        : problem is solved [optimal solution found]\n",
      "Solving Time (sec) : 0.00\n",
      "Solving Nodes      : 0\n",
      "Primal Bound       : +2.50000000000000e+00 (4 solutions)\n",
      "Dual Bound         : +2.50000000000000e+00\n",
      "Gap                : 0.00 %\n"
     ]
    }
   ],
   "source": [
    "# Solve and ensure an optimal solution was found with no errors.\n",
    "# (mathopt.solve may raise a RuntimeError on invalid input or internal solver\n",
    "# errors.)\n",
    "params = mathopt.SolveParameters(enable_output=True)\n",
    "#result = mathopt.solve(model, mathopt.SolverType.CP_SAT, params=params)\n",
    "result = mathopt.solve(model, mathopt.SolverType.GSCIP, params=params)\n",
    "#result = mathopt.solve(model, mathopt.SolverType.HIGHS, params=params)\n",
    "if result.termination.reason != mathopt.TerminationReason.OPTIMAL:\n",
    "    raise RuntimeError(f\"model failed to solve: {result.termination}\")"
   ]
  },
  {
   "cell_type": "code",
   "execution_count": 4,
   "id": "7451ceef-9f55-4c19-958f-983fa3923372",
   "metadata": {},
   "outputs": [
    {
     "name": "stdout",
     "output_type": "stream",
     "text": [
      "MathOpt solve succeeded\n",
      "Objective value: 2.5\n",
      "x: 0.5\n",
      "y: 1.0\n"
     ]
    }
   ],
   "source": [
    "# Print some information from the result.\n",
    "print(\"MathOpt solve succeeded\")\n",
    "print(\"Objective value:\", result.objective_value())\n",
    "print(\"x:\", result.variable_values()[x])\n",
    "print(\"y:\", result.variable_values()[y])"
   ]
  },
  {
   "cell_type": "code",
   "execution_count": null,
   "id": "7833f48a-7509-439c-9d8a-dbfb93f2bfdd",
   "metadata": {
    "editable": true,
    "slideshow": {
     "slide_type": ""
    },
    "tags": []
   },
   "outputs": [],
   "source": []
  }
 ],
 "metadata": {
  "kernelspec": {
   "display_name": "Python 3 (ipykernel)",
   "language": "python",
   "name": "python3"
  },
  "language_info": {
   "codemirror_mode": {
    "name": "ipython",
    "version": 3
   },
   "file_extension": ".py",
   "mimetype": "text/x-python",
   "name": "python",
   "nbconvert_exporter": "python",
   "pygments_lexer": "ipython3",
   "version": "3.12.2"
  }
 },
 "nbformat": 4,
 "nbformat_minor": 5
}
