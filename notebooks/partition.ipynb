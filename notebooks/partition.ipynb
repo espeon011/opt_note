{
 "cells": [
  {
   "cell_type": "markdown",
   "id": "60473acb-c6f4-4ecb-bb2f-bf4c8e4f32ae",
   "metadata": {},
   "source": [
    "# 数分割問題"
   ]
  },
  {
   "cell_type": "markdown",
   "id": "72dffc42-bac3-4b2c-bbea-abdffcc2e532",
   "metadata": {},
   "source": [
    "与えられた変数のリストを, 要素の和が等しくなるよう 2 つのリストに分割する. "
   ]
  },
  {
   "cell_type": "code",
   "execution_count": 1,
   "id": "c4dcfa66-e905-4fa9-a86f-6f71e8a8634b",
   "metadata": {
    "editable": true,
    "slideshow": {
     "slide_type": ""
    },
    "tags": []
   },
   "outputs": [],
   "source": [
    "from ortools.sat.python import cp_model"
   ]
  },
  {
   "cell_type": "code",
   "execution_count": 2,
   "id": "08a7f262-93d7-43b2-b40f-e42388188cdf",
   "metadata": {},
   "outputs": [],
   "source": [
    "class SolutionPrinter(cp_model.CpSolverSolutionCallback):\n",
    "    def __init__(self, numbers, variable):\n",
    "        cp_model.CpSolverSolutionCallback.__init__(self)\n",
    "        self.__variable = variable\n",
    "        self.__solution_count = 0\n",
    "        self.__n_sets = len(variable[0])\n",
    "\n",
    "    def on_solution_callback(self):\n",
    "        self.__solution_count += 1\n",
    "        for s_id in range(self.__n_sets):\n",
    "            print(\"[\", end=\" \")\n",
    "            for n_id, n in enumerate(numbers):\n",
    "                if self.value(self.__variable[n_id][s_id]) != 1:\n",
    "                    continue\n",
    "                print(f\"{n}\", end=\" \")\n",
    "            print(\"]\", end=\" \")\n",
    "        print()\n",
    "\n",
    "    @property\n",
    "    def solution_count(self):\n",
    "        return self.__solution_count"
   ]
  },
  {
   "cell_type": "code",
   "execution_count": 3,
   "id": "b77bcb88-2b55-4b31-af17-b10eca50eebf",
   "metadata": {
    "editable": true,
    "slideshow": {
     "slide_type": ""
    },
    "tags": []
   },
   "outputs": [],
   "source": [
    "class Model:\n",
    "    def __init__(self, numbers: list[int], n_partition=2):\n",
    "        self.numbers = numbers\n",
    "        self.n_partition = n_partition\n",
    "        self.sets = list(range(self.n_partition))\n",
    "\n",
    "        if sum(self.numbers) % self.n_partition != 0:\n",
    "            print(\"実行不能です(リストの総和が分割数で割り切れない)\")\n",
    "            return\n",
    "\n",
    "        self.mean = sum(self.numbers) // self.n_partition\n",
    "\n",
    "        self.model = cp_model.CpModel()\n",
    "        self.x = [[self.model.new_bool_var(f\"{n_id}_th_number_{n}_assigned_to_set_{s_id}\") for s_id in self.sets] for n_id, n in enumerate(self.numbers)]\n",
    "\n",
    "        for n_id, n in enumerate(self.numbers):\n",
    "            self.model.add_exactly_one([self.x[n_id][s_id] for s_id in self.sets])\n",
    "\n",
    "        for s_id in self.sets:\n",
    "            self.model.add(sum([n * self.x[n_id][s_id] for n_id, n in enumerate(self.numbers)]) == self.mean)\n",
    "\n",
    "    def solve(self):\n",
    "        solver = cp_model.CpSolver()\n",
    "        solution_printer = SolutionPrinter(self.numbers, self.x)\n",
    "        solver.parameters.enumerate_all_solutions = True\n",
    "        status = solver.solve(self.model, solution_printer)"
   ]
  },
  {
   "cell_type": "code",
   "execution_count": 4,
   "id": "583ad5ed-15f3-41e6-a443-4fe899afb87a",
   "metadata": {},
   "outputs": [
    {
     "name": "stdout",
     "output_type": "stream",
     "text": [
      "[ 19 13 ] [ 6 9 17 ] \n",
      "[ 6 9 17 ] [ 19 13 ] \n"
     ]
    }
   ],
   "source": [
    "numbers = [6, 9, 19, 13, 17]\n",
    "model = Model(numbers)\n",
    "model.solve()"
   ]
  },
  {
   "cell_type": "code",
   "execution_count": 5,
   "id": "e502a158-5eba-4676-8a1b-b6866ea7c098",
   "metadata": {},
   "outputs": [
    {
     "name": "stdout",
     "output_type": "stream",
     "text": [
      "実行不能です(リストの総和が分割数で割り切れない)\n"
     ]
    }
   ],
   "source": [
    "numbers = [3, 20, 13, 6, 30, 40, 73]\n",
    "model = Model(numbers)"
   ]
  },
  {
   "cell_type": "code",
   "execution_count": null,
   "id": "6ac424d4-f8fb-4308-bbfd-e066d5c620ad",
   "metadata": {},
   "outputs": [],
   "source": []
  }
 ],
 "metadata": {
  "kernelspec": {
   "display_name": "Python 3 (ipykernel)",
   "language": "python",
   "name": "python3"
  },
  "language_info": {
   "codemirror_mode": {
    "name": "ipython",
    "version": 3
   },
   "file_extension": ".py",
   "mimetype": "text/x-python",
   "name": "python",
   "nbconvert_exporter": "python",
   "pygments_lexer": "ipython3",
   "version": "3.12.2"
  }
 },
 "nbformat": 4,
 "nbformat_minor": 5
}
