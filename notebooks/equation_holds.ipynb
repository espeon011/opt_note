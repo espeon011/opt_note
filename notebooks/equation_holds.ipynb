{
 "cells": [
  {
   "cell_type": "markdown",
   "id": "cada0aa4-9dd8-4c99-b089-168dc4b9b203",
   "metadata": {},
   "source": [
    "# 方程式が成立するかどうかを表す Bool 変数"
   ]
  },
  {
   "cell_type": "markdown",
   "id": "d512ba5f-b86e-4b24-b3df-ffff309bdb7f",
   "metadata": {},
   "source": [
    "$x$ を 0-1 決定変数, $a, b$ を整数決定変数として\n",
    "\n",
    "$$\n",
    "x = 1 \\iff a = b\n",
    "$$\n",
    "\n",
    "を実現する制約条件を考えたい. \n",
    "まずは不等式の場合から考える. "
   ]
  },
  {
   "cell_type": "markdown",
   "id": "e6d97d90-e511-4c4e-9a5c-d5aa30bb02ed",
   "metadata": {},
   "source": [
    "## 不等式の場合"
   ]
  },
  {
   "cell_type": "markdown",
   "id": "336ced5c-d63e-48f7-8347-ac125af6b2d9",
   "metadata": {},
   "source": [
    "$x$ を 0-1 決定変数, $a, b$ を整数決定変数として\n",
    "\n",
    "$$\n",
    "x = 1 \\iff a \\leq b\n",
    "$$\n",
    "\n",
    "を実現する制約は big-M 法を使えば次のように線形に書ける. \n",
    "\n",
    "\\begin{align*}\n",
    "a &\\leq b + M (1 - x) \\\\\n",
    "a - 1 &\\geq b - M x\n",
    "\\end{align*}"
   ]
  },
  {
   "cell_type": "code",
   "execution_count": 1,
   "id": "8f71109c-812f-463f-bf67-8be2c098648c",
   "metadata": {},
   "outputs": [],
   "source": [
    "from ortools.sat.python import cp_model"
   ]
  },
  {
   "cell_type": "code",
   "execution_count": 2,
   "id": "9ec490d7-2779-4312-b0d5-06c7daae22fa",
   "metadata": {},
   "outputs": [],
   "source": [
    "class VarArraySolutionPrinter(cp_model.CpSolverSolutionCallback):\n",
    "    def __init__(self, variables):\n",
    "        cp_model.CpSolverSolutionCallback.__init__(self)\n",
    "        self.__variables = variables\n",
    "        self.__solution_count = 0\n",
    "\n",
    "    def on_solution_callback(self):\n",
    "        self.__solution_count += 1\n",
    "        for v in self.__variables:\n",
    "            print(f\"{v}={self.value(v)}\", end=\" \")\n",
    "        print()\n",
    "\n",
    "    @property\n",
    "    def solution_count(self):\n",
    "        return self.__solution_count"
   ]
  },
  {
   "cell_type": "code",
   "execution_count": 3,
   "id": "22ea3dde-ef75-41ea-a7ba-7a31a79e67dc",
   "metadata": {},
   "outputs": [
    {
     "data": {
      "text/plain": [
       "<ortools.sat.python.cp_model.CpModel at 0x10a9ba000>"
      ]
     },
     "execution_count": 3,
     "metadata": {},
     "output_type": "execute_result"
    }
   ],
   "source": [
    "lb_a, ub_a = 1, 5\n",
    "lb_b, ub_b = 1, 5\n",
    "\n",
    "model = cp_model.CpModel()\n",
    "\n",
    "x = model.new_bool_var(\"(a<=b)\")\n",
    "a = model.new_int_var(lb_a, ub_a, \"a\")\n",
    "b = model.new_int_var(lb_b, ub_b, \"b\")\n",
    "m = ub_b - lb_a + 1\n",
    "\n",
    "model.add(a <= b + m * (1 - x))\n",
    "model.add(a - 1 >= b - m * x)\n",
    "\n",
    "model"
   ]
  },
  {
   "cell_type": "code",
   "execution_count": 4,
   "id": "721dcfac-9d59-4cc4-adfb-9568906bfb47",
   "metadata": {
    "editable": true,
    "slideshow": {
     "slide_type": ""
    },
    "tags": []
   },
   "outputs": [
    {
     "name": "stdout",
     "output_type": "stream",
     "text": [
      "(a<=b)=0 a=2 b=1 \n",
      "(a<=b)=0 a=3 b=1 \n",
      "(a<=b)=0 a=4 b=1 \n",
      "(a<=b)=0 a=4 b=2 \n",
      "(a<=b)=0 a=3 b=2 \n",
      "(a<=b)=0 a=5 b=2 \n",
      "(a<=b)=0 a=5 b=1 \n",
      "(a<=b)=0 a=5 b=3 \n",
      "(a<=b)=0 a=4 b=3 \n",
      "(a<=b)=0 a=5 b=4 \n",
      "(a<=b)=1 a=5 b=5 \n",
      "(a<=b)=1 a=4 b=4 \n",
      "(a<=b)=1 a=3 b=4 \n",
      "(a<=b)=1 a=3 b=3 \n",
      "(a<=b)=1 a=3 b=5 \n",
      "(a<=b)=1 a=4 b=5 \n",
      "(a<=b)=1 a=1 b=5 \n",
      "(a<=b)=1 a=1 b=4 \n",
      "(a<=b)=1 a=1 b=3 \n",
      "(a<=b)=1 a=1 b=2 \n",
      "(a<=b)=1 a=2 b=2 \n",
      "(a<=b)=1 a=2 b=3 \n",
      "(a<=b)=1 a=2 b=4 \n",
      "(a<=b)=1 a=2 b=5 \n",
      "(a<=b)=1 a=1 b=1 \n"
     ]
    }
   ],
   "source": [
    "solver = cp_model.CpSolver()\n",
    "solution_printer = VarArraySolutionPrinter([x, a, b])\n",
    "solver.parameters.enumerate_all_solutions = True\n",
    "status = solver.solve(model, solution_printer)"
   ]
  },
  {
   "cell_type": "code",
   "execution_count": 5,
   "id": "da5ab63e-3448-4f79-ab2c-ce7c2aa9d8c9",
   "metadata": {},
   "outputs": [
    {
     "name": "stdout",
     "output_type": "stream",
     "text": [
      "Number of solutions found: 25\n",
      "\n",
      "status = OPTIMAL\n",
      "time = 0.004654\n",
      "objective value = 0.0\n"
     ]
    }
   ],
   "source": [
    "print(f\"Number of solutions found: {solution_printer.solution_count}\\n\")\n",
    "\n",
    "statuses = {\n",
    "    cp_model.OPTIMAL: \"OPTIMAL\",\n",
    "    cp_model.FEASIBLE: \"FEASIBLE\",\n",
    "    cp_model.INFEASIBLE: \"INFEASIBLE\",\n",
    "    cp_model.MODEL_INVALID: \"MODEL_INVALID\",\n",
    "    cp_model.UNKNOWN: \"UNKNOWN\",\n",
    "}\n",
    "\n",
    "print(f\"status = {statuses[status]}\")\n",
    "print(f\"time = {solver.wall_time}\")\n",
    "print(f\"objective value = {solver.objective_value}\")"
   ]
  },
  {
   "cell_type": "markdown",
   "id": "92dcd547-c580-414b-8820-a68dc26f8bd8",
   "metadata": {},
   "source": [
    "## 方程式の場合"
   ]
  },
  {
   "cell_type": "markdown",
   "id": "3e816ade-a8fe-44b1-9534-eeaffb3fd975",
   "metadata": {
    "editable": true,
    "slideshow": {
     "slide_type": ""
    },
    "tags": []
   },
   "source": [
    "big-M 法を用いれば方程式の場合も線形に表すことができる. \n",
    "\n",
    "- $x = 1 \\iff a \\leq b$ を表す制約\n",
    "  - $a \\leq b + M (1 - x)$\n",
    "  - $a - 1 \\geq b - M x$\n",
    "- $y = 1 \\iff a \\geq b$ を表す制約\n",
    "  - $b \\leq a + M (1 - y)$\n",
    "  - $b - 1 \\geq a - M y$\n",
    "- $z = x \\land y$ を表す制約\n",
    "  - $z + 1 \\geq x + y$\n",
    "  - $2 z \\leq x + y$\n",
    "\n",
    "これで\n",
    "$z = 1 \\iff a = b$\n",
    "となる. "
   ]
  },
  {
   "cell_type": "code",
   "execution_count": 6,
   "id": "e412c4da-5de0-40ac-861e-ae8c8c2fbc53",
   "metadata": {
    "editable": true,
    "slideshow": {
     "slide_type": ""
    },
    "tags": []
   },
   "outputs": [
    {
     "data": {
      "text/plain": [
       "<ortools.sat.python.cp_model.CpModel at 0x10d47bef0>"
      ]
     },
     "execution_count": 6,
     "metadata": {},
     "output_type": "execute_result"
    }
   ],
   "source": [
    "lb_a, ub_a = 1, 5\n",
    "lb_b, ub_b = 1, 5\n",
    "\n",
    "model = cp_model.CpModel()\n",
    "\n",
    "x = model.new_bool_var(\"(a<=b)\")\n",
    "y = model.new_bool_var(\"(a>=b)\")\n",
    "z = model.new_bool_var(\"(a==b)\")\n",
    "a = model.new_int_var(lb_a, ub_a, \"a\")\n",
    "b = model.new_int_var(lb_b, ub_b, \"b\")\n",
    "m = max(ub_a - lb_b + 1, ub_b - lb_a + 1)\n",
    "\n",
    "model.add(a <= b + m * (1 - x))\n",
    "model.add(a - 1 >= b - m * x)\n",
    "model.add(b <= a + m * (1 - y))\n",
    "model.add(b - 1 >= a - m * y)\n",
    "model.add(z + 1 >= x + y)\n",
    "model.add(2 * z <= x + y)\n",
    "\n",
    "model"
   ]
  },
  {
   "cell_type": "code",
   "execution_count": 7,
   "id": "d57a811c-eae8-4946-bd41-c5afb687f2b5",
   "metadata": {},
   "outputs": [
    {
     "name": "stdout",
     "output_type": "stream",
     "text": [
      "(a==b)=0 (a<=b)=1 (a>=b)=0 a=1 b=2 \n",
      "(a==b)=1 (a<=b)=1 (a>=b)=1 a=1 b=1 \n",
      "(a==b)=1 (a<=b)=1 (a>=b)=1 a=2 b=2 \n",
      "(a==b)=1 (a<=b)=1 (a>=b)=1 a=3 b=3 \n",
      "(a==b)=0 (a<=b)=1 (a>=b)=0 a=2 b=3 \n",
      "(a==b)=0 (a<=b)=1 (a>=b)=0 a=1 b=3 \n",
      "(a==b)=0 (a<=b)=1 (a>=b)=0 a=1 b=4 \n",
      "(a==b)=0 (a<=b)=1 (a>=b)=0 a=1 b=5 \n",
      "(a==b)=0 (a<=b)=1 (a>=b)=0 a=2 b=5 \n",
      "(a==b)=0 (a<=b)=1 (a>=b)=0 a=2 b=4 \n",
      "(a==b)=0 (a<=b)=1 (a>=b)=0 a=3 b=4 \n",
      "(a==b)=0 (a<=b)=1 (a>=b)=0 a=3 b=5 \n",
      "(a==b)=0 (a<=b)=1 (a>=b)=0 a=4 b=5 \n",
      "(a==b)=1 (a<=b)=1 (a>=b)=1 a=5 b=5 \n",
      "(a==b)=1 (a<=b)=1 (a>=b)=1 a=4 b=4 \n",
      "(a==b)=0 (a<=b)=0 (a>=b)=1 a=5 b=4 \n",
      "(a==b)=0 (a<=b)=0 (a>=b)=1 a=4 b=3 \n",
      "(a==b)=0 (a<=b)=0 (a>=b)=1 a=5 b=3 \n",
      "(a==b)=0 (a<=b)=0 (a>=b)=1 a=5 b=1 \n",
      "(a==b)=0 (a<=b)=0 (a>=b)=1 a=5 b=2 \n",
      "(a==b)=0 (a<=b)=0 (a>=b)=1 a=4 b=2 \n",
      "(a==b)=0 (a<=b)=0 (a>=b)=1 a=4 b=1 \n",
      "(a==b)=0 (a<=b)=0 (a>=b)=1 a=3 b=1 \n",
      "(a==b)=0 (a<=b)=0 (a>=b)=1 a=3 b=2 \n",
      "(a==b)=0 (a<=b)=0 (a>=b)=1 a=2 b=1 \n"
     ]
    }
   ],
   "source": [
    "solver = cp_model.CpSolver()\n",
    "solution_printer = VarArraySolutionPrinter([z, x, y, a, b])\n",
    "solver.parameters.enumerate_all_solutions = True\n",
    "status = solver.solve(model, solution_printer)"
   ]
  },
  {
   "cell_type": "code",
   "execution_count": 8,
   "id": "cba8caa3-0991-4ea6-bbab-af3dc85f2b22",
   "metadata": {},
   "outputs": [
    {
     "name": "stdout",
     "output_type": "stream",
     "text": [
      "Number of solutions found: 25\n",
      "\n",
      "status = OPTIMAL\n",
      "time = 0.002258\n",
      "objective value = 0.0\n"
     ]
    }
   ],
   "source": [
    "print(f\"Number of solutions found: {solution_printer.solution_count}\\n\")\n",
    "\n",
    "statuses = {\n",
    "    cp_model.OPTIMAL: \"OPTIMAL\",\n",
    "    cp_model.FEASIBLE: \"FEASIBLE\",\n",
    "    cp_model.INFEASIBLE: \"INFEASIBLE\",\n",
    "    cp_model.MODEL_INVALID: \"MODEL_INVALID\",\n",
    "    cp_model.UNKNOWN: \"UNKNOWN\",\n",
    "}\n",
    "\n",
    "print(f\"status = {statuses[status]}\")\n",
    "print(f\"time = {solver.wall_time}\")\n",
    "print(f\"objective value = {solver.objective_value}\")"
   ]
  },
  {
   "cell_type": "markdown",
   "id": "400c05e0-5ba7-4c4a-a529-0ad69422e200",
   "metadata": {},
   "source": [
    "## `only_enforce_if()` の利用"
   ]
  },
  {
   "cell_type": "markdown",
   "id": "3d118644-e6c2-4887-a380-57d78cc7e941",
   "metadata": {},
   "source": [
    "後から気づいたが Google OR-Tools には `only_enforce_if()` 関数があり, \n",
    "特定の Bool 変数が `True` のときのみ制約を ON にすることができる. "
   ]
  },
  {
   "cell_type": "markdown",
   "id": "db22f277-126d-4f25-8cc5-f714a503141d",
   "metadata": {},
   "source": [
    "### 同値でなくてもよい場合"
   ]
  },
  {
   "cell_type": "markdown",
   "id": "c7db0263-3b00-429f-8211-8cd7b1a63cf0",
   "metadata": {},
   "source": [
    "下記を直接制約に加える. \n",
    "\n",
    "$$\n",
    "x = 1 \\Longrightarrow a = b\n",
    "$$"
   ]
  },
  {
   "cell_type": "code",
   "execution_count": 9,
   "id": "5507cee3-1835-480e-97ea-bdec2698c023",
   "metadata": {
    "editable": true,
    "slideshow": {
     "slide_type": ""
    },
    "tags": []
   },
   "outputs": [
    {
     "data": {
      "text/plain": [
       "<ortools.sat.python.cp_model.CpModel at 0x10d484e90>"
      ]
     },
     "execution_count": 9,
     "metadata": {},
     "output_type": "execute_result"
    }
   ],
   "source": [
    "lb_a, ub_a = 1, 5\n",
    "lb_b, ub_b = 1, 5\n",
    "\n",
    "model = cp_model.CpModel()\n",
    "\n",
    "x = model.new_bool_var(\"(a==b)\")\n",
    "a = model.new_int_var(lb_a, ub_a, \"a\")\n",
    "b = model.new_int_var(lb_b, ub_b, \"b\")\n",
    "\n",
    "model.add(a == b).only_enforce_if(x)\n",
    "\n",
    "model"
   ]
  },
  {
   "cell_type": "code",
   "execution_count": 10,
   "id": "c3ce58bc-d99f-40b7-bacd-5cfbbe41c02b",
   "metadata": {},
   "outputs": [
    {
     "name": "stdout",
     "output_type": "stream",
     "text": [
      "(a==b)=0 a=1 b=1 \n",
      "(a==b)=0 a=2 b=1 \n",
      "(a==b)=0 a=2 b=2 \n",
      "(a==b)=0 a=1 b=2 \n",
      "(a==b)=0 a=3 b=2 \n",
      "(a==b)=0 a=3 b=1 \n",
      "(a==b)=0 a=3 b=3 \n",
      "(a==b)=0 a=2 b=3 \n",
      "(a==b)=0 a=1 b=3 \n",
      "(a==b)=0 a=4 b=3 \n",
      "(a==b)=0 a=4 b=2 \n",
      "(a==b)=0 a=4 b=1 \n",
      "(a==b)=0 a=4 b=4 \n",
      "(a==b)=0 a=3 b=4 \n",
      "(a==b)=0 a=2 b=4 \n",
      "(a==b)=0 a=1 b=4 \n",
      "(a==b)=0 a=5 b=4 \n",
      "(a==b)=0 a=5 b=3 \n",
      "(a==b)=0 a=5 b=2 \n",
      "(a==b)=0 a=5 b=1 \n",
      "(a==b)=0 a=5 b=5 \n",
      "(a==b)=0 a=4 b=5 \n",
      "(a==b)=0 a=3 b=5 \n",
      "(a==b)=0 a=2 b=5 \n",
      "(a==b)=0 a=1 b=5 \n",
      "(a==b)=1 a=1 b=1 \n",
      "(a==b)=1 a=2 b=2 \n",
      "(a==b)=1 a=3 b=3 \n",
      "(a==b)=1 a=4 b=4 \n",
      "(a==b)=1 a=5 b=5 \n"
     ]
    }
   ],
   "source": [
    "solver = cp_model.CpSolver()\n",
    "solution_printer = VarArraySolutionPrinter([x, a, b])\n",
    "solver.parameters.enumerate_all_solutions = True\n",
    "status = solver.solve(model, solution_printer)"
   ]
  },
  {
   "cell_type": "code",
   "execution_count": 11,
   "id": "a7a772ab-6b32-4fd2-a638-62d978a755fb",
   "metadata": {},
   "outputs": [
    {
     "name": "stdout",
     "output_type": "stream",
     "text": [
      "Number of solutions found: 30\n",
      "\n",
      "status = OPTIMAL\n",
      "time = 0.001708\n",
      "objective value = 0.0\n"
     ]
    }
   ],
   "source": [
    "print(f\"Number of solutions found: {solution_printer.solution_count}\\n\")\n",
    "\n",
    "statuses = {\n",
    "    cp_model.OPTIMAL: \"OPTIMAL\",\n",
    "    cp_model.FEASIBLE: \"FEASIBLE\",\n",
    "    cp_model.INFEASIBLE: \"INFEASIBLE\",\n",
    "    cp_model.MODEL_INVALID: \"MODEL_INVALID\",\n",
    "    cp_model.UNKNOWN: \"UNKNOWN\",\n",
    "}\n",
    "\n",
    "print(f\"status = {statuses[status]}\")\n",
    "print(f\"time = {solver.wall_time}\")\n",
    "print(f\"objective value = {solver.objective_value}\")"
   ]
  },
  {
   "cell_type": "markdown",
   "id": "21df903a-eae0-40e1-a18e-a3549156f42d",
   "metadata": {},
   "source": [
    "### 同値にしたい場合"
   ]
  },
  {
   "cell_type": "markdown",
   "id": "b52a8ddf-e3bc-4ec4-adff-327e6142fa0f",
   "metadata": {},
   "source": [
    "上記の\n",
    "\n",
    "$$\n",
    "x = 1 \\Longrightarrow a = b\n",
    "$$\n",
    "\n",
    "に加えてその裏を制約に入れることで同値にできる: \n",
    "\n",
    "$$\n",
    "x = 0 \\Longrightarrow a \\ne b\n",
    "$$"
   ]
  },
  {
   "cell_type": "code",
   "execution_count": 12,
   "id": "7fce9cca-acd6-44e7-9464-1a1273d87330",
   "metadata": {},
   "outputs": [
    {
     "data": {
      "text/plain": [
       "<ortools.sat.python.cp_model.CpModel at 0x10cf69280>"
      ]
     },
     "execution_count": 12,
     "metadata": {},
     "output_type": "execute_result"
    }
   ],
   "source": [
    "lb_a, ub_a = 1, 5\n",
    "lb_b, ub_b = 1, 5\n",
    "\n",
    "model = cp_model.CpModel()\n",
    "\n",
    "x = model.new_bool_var(\"(a==b)\")\n",
    "a = model.new_int_var(lb_a, ub_a, \"a\")\n",
    "b = model.new_int_var(lb_b, ub_b, \"b\")\n",
    "\n",
    "model.add(a == b).only_enforce_if(x)\n",
    "model.add(a != b).only_enforce_if(x.negated())\n",
    "\n",
    "model"
   ]
  },
  {
   "cell_type": "code",
   "execution_count": 13,
   "id": "9bf67b53-4495-4a8a-a8e2-d5e659435b85",
   "metadata": {},
   "outputs": [
    {
     "name": "stdout",
     "output_type": "stream",
     "text": [
      "(a==b)=0 a=1 b=2 \n",
      "(a==b)=0 a=2 b=1 \n",
      "(a==b)=0 a=3 b=1 \n",
      "(a==b)=0 a=4 b=1 \n",
      "(a==b)=0 a=4 b=2 \n",
      "(a==b)=0 a=3 b=2 \n",
      "(a==b)=0 a=5 b=2 \n",
      "(a==b)=0 a=5 b=1 \n",
      "(a==b)=0 a=5 b=3 \n",
      "(a==b)=0 a=4 b=3 \n",
      "(a==b)=0 a=5 b=4 \n",
      "(a==b)=0 a=4 b=5 \n",
      "(a==b)=0 a=3 b=4 \n",
      "(a==b)=0 a=3 b=5 \n",
      "(a==b)=0 a=2 b=5 \n",
      "(a==b)=0 a=2 b=4 \n",
      "(a==b)=0 a=2 b=3 \n",
      "(a==b)=0 a=1 b=3 \n",
      "(a==b)=0 a=1 b=4 \n",
      "(a==b)=0 a=1 b=5 \n",
      "(a==b)=1 a=1 b=1 \n",
      "(a==b)=1 a=2 b=2 \n",
      "(a==b)=1 a=3 b=3 \n",
      "(a==b)=1 a=4 b=4 \n",
      "(a==b)=1 a=5 b=5 \n"
     ]
    }
   ],
   "source": [
    "solver = cp_model.CpSolver()\n",
    "solution_printer = VarArraySolutionPrinter([x, a, b])\n",
    "solver.parameters.enumerate_all_solutions = True\n",
    "status = solver.solve(model, solution_printer)"
   ]
  },
  {
   "cell_type": "code",
   "execution_count": 14,
   "id": "cd86be0e-66e1-4999-a68a-025ea5a5d6dc",
   "metadata": {},
   "outputs": [
    {
     "name": "stdout",
     "output_type": "stream",
     "text": [
      "Number of solutions found: 25\n",
      "\n",
      "status = OPTIMAL\n",
      "time = 0.001345\n",
      "objective value = 0.0\n"
     ]
    }
   ],
   "source": [
    "print(f\"Number of solutions found: {solution_printer.solution_count}\\n\")\n",
    "\n",
    "statuses = {\n",
    "    cp_model.OPTIMAL: \"OPTIMAL\",\n",
    "    cp_model.FEASIBLE: \"FEASIBLE\",\n",
    "    cp_model.INFEASIBLE: \"INFEASIBLE\",\n",
    "    cp_model.MODEL_INVALID: \"MODEL_INVALID\",\n",
    "    cp_model.UNKNOWN: \"UNKNOWN\",\n",
    "}\n",
    "\n",
    "print(f\"status = {statuses[status]}\")\n",
    "print(f\"time = {solver.wall_time}\")\n",
    "print(f\"objective value = {solver.objective_value}\")"
   ]
  },
  {
   "cell_type": "markdown",
   "id": "5c805c49-3434-4cb8-b811-8875e568ad4c",
   "metadata": {
    "editable": true,
    "slideshow": {
     "slide_type": ""
    },
    "tags": []
   },
   "source": [
    "## 応用: 誰が祠を"
   ]
  },
  {
   "cell_type": "markdown",
   "id": "de55625e-2682-4f0c-9600-f0a1e7f51413",
   "metadata": {},
   "source": [
    "X のポスト([https://x.com/mrsolyu/status/1846512850879275074](https://x.com/mrsolyu/status/1846512850879275074))でこういった問題があったので定式化して犯人を求める. \n",
    "\n",
    "> お前達の誰かが、あの祠を壊したんか！？\n",
    "> \n",
    "> A「俺がやりました」\\\n",
    "> B「犯人は2人いる」\\\n",
    "> C「Dが犯人でないなら僕が犯人」\\\n",
    "> D「4人の中で嘘つきは奇数人」\n",
    "> \n",
    "> 犯人はこの中にいるはずじゃ。そして呪いで嘘しかつけなくなっておるわい。\n",
    "> 誰が祠を壊したかのう？\n",
    "\n",
    "総当たりで探索しても一瞬で終わる程度の規模ではあるが, 練習のために定式化と実装を行う. "
   ]
  },
  {
   "cell_type": "markdown",
   "id": "41a409dc-864f-4f35-923f-193d3f25a627",
   "metadata": {},
   "source": [
    "### 定式化"
   ]
  },
  {
   "cell_type": "markdown",
   "id": "d7291542-2052-4edb-9e3c-0ab2598c25b6",
   "metadata": {},
   "source": [
    "#### 変数"
   ]
  },
  {
   "cell_type": "markdown",
   "id": "c896e2e5-c86e-459a-832b-d93a6ef0eca7",
   "metadata": {},
   "source": [
    "- $x_A, x_B, x_C, x_D$: A ~ D が嘘つきのとき $1$, 正直もののとき $0$\n",
    "- $y_A, y_B, y_C, y_D$: A ~ D が犯人のとき $1$, そうでないとき $0$"
   ]
  },
  {
   "cell_type": "markdown",
   "id": "eabdb131-7379-4378-bac8-665ed87b96fc",
   "metadata": {},
   "source": [
    "#### 制約"
   ]
  },
  {
   "cell_type": "markdown",
   "id": "e1250028-7c84-4abe-850d-750ea4dd4828",
   "metadata": {},
   "source": [
    "- 祠を壊したものは呪いで嘘しかつけなくなっている\n",
    "  - $y_* <= x_*$\n",
    "- A「俺がやりました」\n",
    "  - $x_A = 0 \\Longrightarrow y_A = 1$\n",
    "  - $x_A = 1 \\Longrightarrow y_A = 0$\n",
    "  - 上記 2 つをまとめて $x_A = 1 - y_A$ と書ける\n",
    "- B「犯人は2人いる」\n",
    "    - $x_B = 0 \\Longrightarrow y_A + y_B + y_C + y_D = 2$\n",
    "    - $x_B = 1 \\Longrightarrow y_A + y_B + y_C + y_D \\ne 2$\n",
    "- C「Dが犯人でないなら僕が犯人」\n",
    "  - $x_C = 0 \\Longrightarrow$ 「$y_D = 0 \\Longrightarrow y_C = 1$」だがこれは $1 - x_C \\leq y_C + y_D$ と同値\n",
    "  - $x_C = 1 \\Longrightarrow$ 「$y_D = 0 \\land y_C = 0$」だがこれは $2 (1 - x_C) \\geq y_C + y_D$ と同値\n",
    "- D「4人の中で嘘つきは奇数人」\n",
    "  - $x_D = 0 \\Longrightarrow x_A + x_B + x_C + x_D \\equiv 1 \\mod 2$\n",
    "  - $x_D = 1 \\Longrightarrow x_A + x_B + x_C + x_D \\equiv 0 \\mod 2$\n",
    "  - 上記をまとめて $x_A + x_B + x_C + x_D \\equiv 1 - x_D \\mod 2$ として実装する\n",
    "  - この条件は線形にすることができる.\n",
    "    $e, o$ を 0-1 決定変数とし, 嘘つきの数が偶数人か奇数人かに対応させるとする.\n",
    "    この条件は次のように書ける. $s_e, z$ を整数決定変数として,\n",
    "\n",
    "    - $e + o = 1$\n",
    "    - $x_D = e$\n",
    "    - $s_e = 2 * z$\n",
    "    - $x_A + x_B + x_C + x_D = s_e + o$\n",
    "\n",
    "    とすればよい.\n",
    "    こうして A から D までの全ての条件は線形制約で記述できる. "
   ]
  },
  {
   "cell_type": "markdown",
   "id": "ef7f6c78-931c-44f7-8199-7c2085c7a0da",
   "metadata": {},
   "source": [
    "### 実装"
   ]
  },
  {
   "cell_type": "code",
   "execution_count": 15,
   "id": "018b687e-a1a2-4199-99f6-b6cc7602eb14",
   "metadata": {
    "editable": true,
    "slideshow": {
     "slide_type": ""
    },
    "tags": []
   },
   "outputs": [
    {
     "data": {
      "text/plain": [
       "<ortools.sat.python.cp_model.Constraint at 0x10d48e150>"
      ]
     },
     "execution_count": 15,
     "metadata": {},
     "output_type": "execute_result"
    }
   ],
   "source": [
    "model = cp_model.CpModel()\n",
    "\n",
    "suspects = [\"A\", \"B\", \"C\", \"D\"]\n",
    "\n",
    "liar = {s: model.new_bool_var(f\"{s}_is_liar\") for s in suspects}\n",
    "culprit = {s: model.new_bool_var(f\"{s}_is_culprit\") for s in suspects}\n",
    "\n",
    "# 祠を壊したものは呪いで嘘しかつけなくなっている\n",
    "for s in suspects:\n",
    "    model.add_implication(culprit[s], liar[s])\n",
    "\n",
    "# A「俺がやりました」\n",
    "model.add_bool_xor(liar[\"A\"], culprit[\"A\"])\n",
    "\n",
    "# B「犯人は2人いる」\n",
    "model.add(sum(culprit[s] for s in suspects) == 2).only_enforce_if(liar[\"B\"].negated())\n",
    "model.add(sum(culprit[s] for s in suspects) != 2).only_enforce_if(liar[\"B\"])\n",
    "\n",
    "# C「Dが犯人でないなら僕が犯人」\n",
    "model.add_implication(culprit[\"D\"].negated(), culprit[\"C\"]).only_enforce_if(liar[\"C\"].negated())\n",
    "model.add(culprit[\"C\"] == 0).only_enforce_if(liar[\"C\"])\n",
    "model.add(culprit[\"D\"] == 0).only_enforce_if(liar[\"C\"])\n",
    "\n",
    "# D「4人の中で嘘つきは奇数人」\n",
    "n_liar = model.new_int_var(0, len(suspects), \"num_of_liars\")\n",
    "model.add(n_liar == sum(liar[s] for s in suspects))\n",
    "model.add_modulo_equality(liar[\"D\"].negated(), n_liar, 2)\n",
    "\n",
    "# 追加: 犯人は必ず 1 人はいる\n",
    "model.add(sum(culprit[s] for s in suspects) >= 1)"
   ]
  },
  {
   "cell_type": "code",
   "execution_count": 16,
   "id": "e9e44792-81f3-4c78-ba97-a0774e256ada",
   "metadata": {},
   "outputs": [
    {
     "name": "stdout",
     "output_type": "stream",
     "text": [
      "A_is_liar=1 B_is_liar=1 C_is_liar=1 D_is_liar=0 A_is_culprit=0 B_is_culprit=1 C_is_culprit=0 D_is_culprit=0 \n",
      "A_is_liar=1 B_is_liar=1 C_is_liar=1 D_is_liar=1 A_is_culprit=0 B_is_culprit=1 C_is_culprit=0 D_is_culprit=0 \n"
     ]
    }
   ],
   "source": [
    "solver = cp_model.CpSolver()\n",
    "solution_printer = VarArraySolutionPrinter(list(liar.values()) + list(culprit.values()))\n",
    "solver.parameters.enumerate_all_solutions = True\n",
    "status = solver.solve(model, solution_printer)"
   ]
  },
  {
   "cell_type": "code",
   "execution_count": 17,
   "id": "09b4e486-5d42-498d-b21b-d8fc44cc6b8e",
   "metadata": {},
   "outputs": [
    {
     "name": "stdout",
     "output_type": "stream",
     "text": [
      "Number of solutions found: 2\n",
      "\n",
      "status = OPTIMAL\n",
      "time = 0.0007970000000000001\n",
      "objective value = 0.0\n"
     ]
    }
   ],
   "source": [
    "print(f\"Number of solutions found: {solution_printer.solution_count}\\n\")\n",
    "\n",
    "statuses = {\n",
    "    cp_model.OPTIMAL: \"OPTIMAL\",\n",
    "    cp_model.FEASIBLE: \"FEASIBLE\",\n",
    "    cp_model.INFEASIBLE: \"INFEASIBLE\",\n",
    "    cp_model.MODEL_INVALID: \"MODEL_INVALID\",\n",
    "    cp_model.UNKNOWN: \"UNKNOWN\",\n",
    "}\n",
    "\n",
    "print(f\"status = {statuses[status]}\")\n",
    "print(f\"time = {solver.wall_time}\")\n",
    "print(f\"objective value = {solver.objective_value}\")"
   ]
  },
  {
   "cell_type": "markdown",
   "id": "a94980fc-68af-47dc-8d0c-986067361b8e",
   "metadata": {
    "editable": true,
    "slideshow": {
     "slide_type": ""
    },
    "tags": []
   },
   "source": [
    "### 実装(線形版)"
   ]
  },
  {
   "cell_type": "code",
   "execution_count": 18,
   "id": "beab78e5-44b1-4d19-85e7-90a8a78ed600",
   "metadata": {
    "editable": true,
    "slideshow": {
     "slide_type": ""
    },
    "tags": []
   },
   "outputs": [
    {
     "data": {
      "text/plain": [
       "<ortools.sat.python.cp_model.CpModel at 0x10d48dbb0>"
      ]
     },
     "execution_count": 18,
     "metadata": {},
     "output_type": "execute_result"
    }
   ],
   "source": [
    "# 祠を壊したものは呪いで嘘しかつけなくなっている\n",
    "for s in suspects:\n",
    "    model.add(culprit[s] <= liar[s])\n",
    "\n",
    "# A「俺がやりました」\n",
    "model.add(1 - liar[\"A\"] == culprit[\"A\"])\n",
    "\n",
    "# B「犯人は2人いる」\n",
    "y = model.new_bool_var(\"(culprits<=2)\")\n",
    "z = model.new_bool_var(\"(culprits>=2)\")\n",
    "m = 10\n",
    "model.add(sum(culprit[s] for s in suspects) <= 2 + m * (1 - y))\n",
    "model.add(sum(culprit[s] for s in suspects) - 1 >= 2 - m * y)\n",
    "model.add(2 <= sum(culprit[s] for s in suspects) + m * (1 - z))\n",
    "model.add(2 - 1 >= sum(culprit[s] for s in suspects) - m * z)\n",
    "model.add((1 - liar[\"B\"]) + 1 >= y + z)\n",
    "model.add(2 * (1 - liar[\"B\"]) <= y + z)\n",
    "\n",
    "# C「Dが犯人でないなら僕が犯人」\n",
    "model.add(1 - liar[\"C\"] <= culprit[\"C\"] + culprit[\"D\"])\n",
    "model.add(2 * (1 - liar[\"C\"]) >= culprit[\"C\"] + culprit[\"D\"])\n",
    "\n",
    "# D「4人の中で嘘つきは奇数人」\n",
    "e = model.new_bool_var(\"n_liar_is_even\")\n",
    "o = model.new_bool_var(\"n_liar_is_odd\")\n",
    "model.add(e + o == 1)\n",
    "model.add(liar[\"D\"] == e)\n",
    "se = model.new_int_var(0, len(liar) // 2, \"n_liar//2\")\n",
    "model.add(sum(liar[s] for s in suspects) == 2 * se + o)\n",
    "\n",
    "# 追加: 犯人は必ず 1 人はいる\n",
    "model.add(sum(culprit[s] for s in suspects) >= 1)\n",
    "\n",
    "model"
   ]
  },
  {
   "cell_type": "code",
   "execution_count": 19,
   "id": "f18edd6f-40e2-4dac-827e-d323dc16f608",
   "metadata": {},
   "outputs": [
    {
     "name": "stdout",
     "output_type": "stream",
     "text": [
      "A_is_liar=1 B_is_liar=1 C_is_liar=1 D_is_liar=0 A_is_culprit=0 B_is_culprit=1 C_is_culprit=0 D_is_culprit=0 \n",
      "A_is_liar=1 B_is_liar=1 C_is_liar=1 D_is_liar=1 A_is_culprit=0 B_is_culprit=1 C_is_culprit=0 D_is_culprit=0 \n"
     ]
    }
   ],
   "source": [
    "solver = cp_model.CpSolver()\n",
    "solution_printer = VarArraySolutionPrinter(list(liar.values()) + list(culprit.values()))\n",
    "solver.parameters.enumerate_all_solutions = True\n",
    "status = solver.solve(model, solution_printer)"
   ]
  },
  {
   "cell_type": "code",
   "execution_count": 20,
   "id": "259e51f0-21c0-42d6-abe4-df90fdb1976f",
   "metadata": {},
   "outputs": [
    {
     "name": "stdout",
     "output_type": "stream",
     "text": [
      "Number of solutions found: 2\n",
      "\n",
      "status = OPTIMAL\n",
      "time = 0.0006940000000000001\n",
      "objective value = 0.0\n"
     ]
    }
   ],
   "source": [
    "print(f\"Number of solutions found: {solution_printer.solution_count}\\n\")\n",
    "\n",
    "statuses = {\n",
    "    cp_model.OPTIMAL: \"OPTIMAL\",\n",
    "    cp_model.FEASIBLE: \"FEASIBLE\",\n",
    "    cp_model.INFEASIBLE: \"INFEASIBLE\",\n",
    "    cp_model.MODEL_INVALID: \"MODEL_INVALID\",\n",
    "    cp_model.UNKNOWN: \"UNKNOWN\",\n",
    "}\n",
    "\n",
    "print(f\"status = {statuses[status]}\")\n",
    "print(f\"time = {solver.wall_time}\")\n",
    "print(f\"objective value = {solver.objective_value}\")"
   ]
  },
  {
   "cell_type": "markdown",
   "id": "d8667584-dd64-4fcc-85e0-ec60c1eeebf3",
   "metadata": {},
   "source": [
    "### 結果"
   ]
  },
  {
   "cell_type": "markdown",
   "id": "c45bce75-3c98-4c00-810f-fce6168da024",
   "metadata": {
    "editable": true,
    "slideshow": {
     "slide_type": ""
    },
    "tags": []
   },
   "source": [
    "犯人が 1 人以上いると仮定すると犯人は B でそれ以外は無実という結果になった. \n",
    "全員が犯人でないケースもあり得たが今回は除外した. \n",
    "嘘つきかどうかに関しては D 以外は全員嘘つきで確定していて, D は嘘つきでも正直ものでもどちらでも整合した. \n",
    "\n",
    "`add_modulo_equality()` の引数に式をそのまま入れてしまうと `MODEL_INVALID` になってしまった. \n",
    "他の関数, 例えば `add_multiplication_equality()` でも同様のことが起こったため, \n",
    "線形でない制約を追加する際は式を新しい変数に格納してから渡すと安全そう. \n",
    "\n",
    "また, `add_modulo_equality()` の返り値に `only_enforce_if()` を繋げたら `MODEL_INVALID` となってしまった. \n",
    "ドキュメントには書かれていなかったが `only_enforce_if()` が使える制約と使えない制約があるようで, \n",
    "例えば `add_bool_xor()` は明確に\n",
    "\n",
    "> In contrast to add_bool_or and add_bool_and, it does not support .only_enforce_if().\n",
    "\n",
    "と書かれている. \n",
    "(`model.add(a != b)` には `only_enforce_if()` をつなげることができたのでなぜこうなっているかは謎)"
   ]
  }
 ],
 "metadata": {
  "kernelspec": {
   "display_name": "Python 3 (ipykernel)",
   "language": "python",
   "name": "python3"
  },
  "language_info": {
   "codemirror_mode": {
    "name": "ipython",
    "version": 3
   },
   "file_extension": ".py",
   "mimetype": "text/x-python",
   "name": "python",
   "nbconvert_exporter": "python",
   "pygments_lexer": "ipython3",
   "version": "3.12.2"
  }
 },
 "nbformat": 4,
 "nbformat_minor": 5
}
