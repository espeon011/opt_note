{
 "cells": [
  {
   "cell_type": "code",
   "execution_count": null,
   "id": "Hbol",
   "metadata": {},
   "outputs": [],
   "source": [
    "import marimo as mo"
   ]
  },
  {
   "cell_type": "markdown",
   "id": "MJUe",
   "metadata": {
    "marimo": {
     "config": {
      "hide_code": true
     }
    }
   },
   "source": [
    "# 方程式が成立するかどうかを表す Bool 変数"
   ]
  },
  {
   "cell_type": "markdown",
   "id": "vblA",
   "metadata": {
    "marimo": {
     "config": {
      "hide_code": true
     }
    }
   },
   "source": [
    "$x$ を 0-1 決定変数, $a, b$ を整数決定変数として\n",
    "\n",
    "$$\n",
    "x = 1 \\iff a = b\n",
    "$$\n",
    "\n",
    "を実現する制約条件を考えたい.\n",
    "まずは不等式の場合から考える."
   ]
  },
  {
   "cell_type": "markdown",
   "id": "bkHC",
   "metadata": {
    "marimo": {
     "config": {
      "hide_code": true
     }
    }
   },
   "source": [
    "## 不等式の場合"
   ]
  },
  {
   "cell_type": "markdown",
   "id": "lEQa",
   "metadata": {
    "marimo": {
     "config": {
      "hide_code": true
     }
    }
   },
   "source": [
    "$x$ を 0-1 決定変数, $a, b$ を整数決定変数として\n",
    "\n",
    "$$\n",
    "x = 1 \\iff a \\leq b\n",
    "$$\n",
    "\n",
    "を実現する制約は big-M 法を使えば次のように線形に書ける.\n",
    "\n",
    "\\begin{align*}\n",
    "a &\\leq b + M (1 - x) \\\\\n",
    "a - 1 &\\geq b - M x\n",
    "\\end{align*}"
   ]
  },
  {
   "cell_type": "code",
   "execution_count": null,
   "id": "PKri",
   "metadata": {},
   "outputs": [],
   "source": [
    "from ortools.sat.python import cp_model"
   ]
  },
  {
   "cell_type": "code",
   "execution_count": null,
   "id": "Xref",
   "metadata": {},
   "outputs": [],
   "source": [
    "class VarArraySolutionPrinter(cp_model.CpSolverSolutionCallback):\n",
    "\n",
    "    def __init__(self, variables):\n",
    "        cp_model.CpSolverSolutionCallback.__init__(self)\n",
    "        self.__variables = variables\n",
    "        self.__solution_count = 0\n",
    "\n",
    "    def on_solution_callback(self):\n",
    "        self.__solution_count = self.__solution_count + 1\n",
    "        for v in self.__variables:\n",
    "            print(f'{v}={self.value(v)}', end=' ')\n",
    "        print()\n",
    "\n",
    "    @property\n",
    "    def solution_count(self):\n",
    "        return self.__solution_count"
   ]
  },
  {
   "cell_type": "code",
   "execution_count": null,
   "id": "SFPL",
   "metadata": {},
   "outputs": [
    {
     "name": "stdout",
     "output_type": "stream",
     "text": [
      "(a<=b)=0 a=2 b=1 \n",
      "(a<=b)=0 a=3 b=1 \n",
      "(a<=b)=0 a=4 b=1 \n",
      "(a<=b)=0 a=4 b=2 \n",
      "(a<=b)=0 a=3 b=2 \n",
      "(a<=b)=0 a=5 b=2 \n",
      "(a<=b)=0 a=5 b=1 \n",
      "(a<=b)=0 a=5 b=3 \n",
      "(a<=b)=0 a=4 b=3 \n",
      "(a<=b)=0 a=5 b=4 \n",
      "(a<=b)=1 a=5 b=5 \n",
      "(a<=b)=1 a=4 b=4 \n",
      "(a<=b)=1 a=3 b=4 \n",
      "(a<=b)=1 a=3 b=3 \n",
      "(a<=b)=1 a=3 b=5 \n",
      "(a<=b)=1 a=4 b=5 \n",
      "(a<=b)=1 a=1 b=5 \n",
      "(a<=b)=1 a=1 b=4 \n",
      "(a<=b)=1 a=1 b=3 \n",
      "(a<=b)=1 a=1 b=2 \n",
      "(a<=b)=1 a=2 b=2 \n",
      "(a<=b)=1 a=2 b=3 \n",
      "(a<=b)=1 a=2 b=4 \n",
      "(a<=b)=1 a=2 b=5 \n",
      "(a<=b)=1 a=1 b=1 \n"
     ]
    }
   ],
   "source": [
    "lb_a, ub_a = (1, 5)\n",
    "lb_b, ub_b = (1, 5)\n",
    "model = cp_model.CpModel()\n",
    "x = model.new_bool_var('(a<=b)')\n",
    "a = model.new_int_var(lb_a, ub_a, 'a')\n",
    "b = model.new_int_var(lb_b, ub_b, 'b')\n",
    "_m = ub_b - lb_a + 1\n",
    "model.add(a <= b + _m * (1 - x))\n",
    "model.add(a - 1 >= b - _m * x)\n",
    "model\n",
    "\n",
    "solver = cp_model.CpSolver()\n",
    "solution_printer = VarArraySolutionPrinter([x, a, b])\n",
    "solver.parameters.enumerate_all_solutions = True\n",
    "status = solver.solve(model, solution_printer)"
   ]
  },
  {
   "cell_type": "code",
   "execution_count": null,
   "id": "BYtC",
   "metadata": {},
   "outputs": [
    {
     "name": "stdout",
     "output_type": "stream",
     "text": [
      "Number of solutions found: 25\n",
      "\n",
      "status = OPTIMAL\n",
      "time = 0.007018000000000001\n",
      "objective value = 0.0\n"
     ]
    }
   ],
   "source": [
    "print(f'Number of solutions found: {solution_printer.solution_count}\\n')\n",
    "_statuses = {cp_model.OPTIMAL: 'OPTIMAL', cp_model.FEASIBLE: 'FEASIBLE', cp_model.INFEASIBLE: 'INFEASIBLE', cp_model.MODEL_INVALID: 'MODEL_INVALID', cp_model.UNKNOWN: 'UNKNOWN'}\n",
    "print(f'status = {_statuses[status]}')\n",
    "print(f'time = {solver.wall_time}')\n",
    "print(f'objective value = {solver.objective_value}')"
   ]
  },
  {
   "cell_type": "markdown",
   "id": "RGSE",
   "metadata": {
    "marimo": {
     "config": {
      "hide_code": true
     }
    }
   },
   "source": [
    "## 方程式の場合"
   ]
  },
  {
   "cell_type": "markdown",
   "id": "Kclp",
   "metadata": {
    "marimo": {
     "config": {
      "hide_code": true
     }
    }
   },
   "source": [
    "big-M 法を用いれば方程式の場合も線形に表すことができる.\n",
    "\n",
    "- $x = 1 \\iff a \\leq b$ を表す制約\n",
    "  - $a \\leq b + M (1 - x)$\n",
    "  - $a - 1 \\geq b - M x$\n",
    "- $y = 1 \\iff a \\geq b$ を表す制約\n",
    "  - $b \\leq a + M (1 - y)$\n",
    "  - $b - 1 \\geq a - M y$\n",
    "- $z = x \\land y$ を表す制約\n",
    "  - $z + 1 \\geq x + y$\n",
    "  - $2 z \\leq x + y$\n",
    "\n",
    "これで\n",
    "$z = 1 \\iff a = b$\n",
    "となる."
   ]
  },
  {
   "cell_type": "code",
   "execution_count": null,
   "id": "emfo",
   "metadata": {},
   "outputs": [
    {
     "name": "stdout",
     "output_type": "stream",
     "text": [
      "(a==b)=0 (a<=b)=1 (a>=b)=0 a=1 b=2 \n",
      "(a==b)=1 (a<=b)=1 (a>=b)=1 a=1 b=1 \n",
      "(a==b)=1 (a<=b)=1 (a>=b)=1 a=2 b=2 \n",
      "(a==b)=1 (a<=b)=1 (a>=b)=1 a=3 b=3 \n",
      "(a==b)=0 (a<=b)=1 (a>=b)=0 a=2 b=3 \n",
      "(a==b)=0 (a<=b)=1 (a>=b)=0 a=1 b=3 \n",
      "(a==b)=0 (a<=b)=1 (a>=b)=0 a=1 b=4 \n",
      "(a==b)=0 (a<=b)=1 (a>=b)=0 a=1 b=5 \n",
      "(a==b)=0 (a<=b)=1 (a>=b)=0 a=2 b=5 \n",
      "(a==b)=0 (a<=b)=1 (a>=b)=0 a=2 b=4 \n",
      "(a==b)=0 (a<=b)=1 (a>=b)=0 a=3 b=4 \n",
      "(a==b)=0 (a<=b)=1 (a>=b)=0 a=3 b=5 \n",
      "(a==b)=0 (a<=b)=1 (a>=b)=0 a=4 b=5 \n",
      "(a==b)=1 (a<=b)=1 (a>=b)=1 a=5 b=5 \n",
      "(a==b)=1 (a<=b)=1 (a>=b)=1 a=4 b=4 \n",
      "(a==b)=0 (a<=b)=0 (a>=b)=1 a=5 b=4 \n",
      "(a==b)=0 (a<=b)=0 (a>=b)=1 a=4 b=3 \n",
      "(a==b)=0 (a<=b)=0 (a>=b)=1 a=5 b=3 \n",
      "(a==b)=0 (a<=b)=0 (a>=b)=1 a=5 b=1 \n",
      "(a==b)=0 (a<=b)=0 (a>=b)=1 a=5 b=2 \n",
      "(a==b)=0 (a<=b)=0 (a>=b)=1 a=4 b=2 \n",
      "(a==b)=0 (a<=b)=0 (a>=b)=1 a=4 b=1 \n",
      "(a==b)=0 (a<=b)=0 (a>=b)=1 a=3 b=1 \n",
      "(a==b)=0 (a<=b)=0 (a>=b)=1 a=3 b=2 \n",
      "(a==b)=0 (a<=b)=0 (a>=b)=1 a=2 b=1 \n"
     ]
    }
   ],
   "source": [
    "lb_a_1, ub_a_1 = (1, 5)\n",
    "lb_b_1, ub_b_1 = (1, 5)\n",
    "model_1 = cp_model.CpModel()\n",
    "x_1 = model_1.new_bool_var('(a<=b)')\n",
    "y = model_1.new_bool_var('(a>=b)')\n",
    "z = model_1.new_bool_var('(a==b)')\n",
    "a_1 = model_1.new_int_var(lb_a_1, ub_a_1, 'a')\n",
    "b_1 = model_1.new_int_var(lb_b_1, ub_b_1, 'b')\n",
    "_m = max(ub_a_1 - lb_b_1 + 1, ub_b_1 - lb_a_1 + 1)\n",
    "model_1.add(a_1 <= b_1 + _m * (1 - x_1))\n",
    "model_1.add(a_1 - 1 >= b_1 - _m * x_1)\n",
    "model_1.add(b_1 <= a_1 + _m * (1 - y))\n",
    "model_1.add(b_1 - 1 >= a_1 - _m * y)\n",
    "model_1.add(z + 1 >= x_1 + y)\n",
    "model_1.add(2 * z <= x_1 + y)\n",
    "model_1\n",
    "\n",
    "solver_1 = cp_model.CpSolver()\n",
    "solution_printer_1 = VarArraySolutionPrinter([z, x_1, y, a_1, b_1])\n",
    "solver_1.parameters.enumerate_all_solutions = True\n",
    "status_1 = solver_1.solve(model_1, solution_printer_1)"
   ]
  },
  {
   "cell_type": "code",
   "execution_count": null,
   "id": "Hstk",
   "metadata": {},
   "outputs": [
    {
     "name": "stdout",
     "output_type": "stream",
     "text": [
      "Number of solutions found: 25\n",
      "\n",
      "status = OPTIMAL\n",
      "time = 0.0010910000000000002\n",
      "objective value = 0.0\n"
     ]
    }
   ],
   "source": [
    "print(f'Number of solutions found: {solution_printer_1.solution_count}\\n')\n",
    "_statuses = {cp_model.OPTIMAL: 'OPTIMAL', cp_model.FEASIBLE: 'FEASIBLE', cp_model.INFEASIBLE: 'INFEASIBLE', cp_model.MODEL_INVALID: 'MODEL_INVALID', cp_model.UNKNOWN: 'UNKNOWN'}\n",
    "print(f'status = {_statuses[status_1]}')\n",
    "print(f'time = {solver_1.wall_time}')\n",
    "print(f'objective value = {solver_1.objective_value}')"
   ]
  },
  {
   "cell_type": "markdown",
   "id": "nWHF",
   "metadata": {
    "marimo": {
     "config": {
      "hide_code": true
     }
    }
   },
   "source": [
    "## `only_enforce_if()` の利用"
   ]
  },
  {
   "cell_type": "markdown",
   "id": "iLit",
   "metadata": {
    "marimo": {
     "config": {
      "hide_code": true
     }
    }
   },
   "source": [
    "Google OR-Tools には `only_enforce_if()` 関数があり,\n",
    "特定の Bool 変数が `True` のときのみ制約を ON にすることができる."
   ]
  },
  {
   "cell_type": "markdown",
   "id": "ZHCJ",
   "metadata": {
    "marimo": {
     "config": {
      "hide_code": true
     }
    }
   },
   "source": [
    "### 同値でなくてもよい場合"
   ]
  },
  {
   "cell_type": "markdown",
   "id": "ROlb",
   "metadata": {
    "marimo": {
     "config": {
      "hide_code": true
     }
    }
   },
   "source": [
    "下記を直接制約に加える.\n",
    "\n",
    "$$\n",
    "x = 1 \\Longrightarrow a = b\n",
    "$$"
   ]
  },
  {
   "cell_type": "code",
   "execution_count": null,
   "id": "qnkX",
   "metadata": {},
   "outputs": [
    {
     "name": "stdout",
     "output_type": "stream",
     "text": [
      "(a==b)=0 a=1 b=1 \n",
      "(a==b)=0 a=2 b=1 \n",
      "(a==b)=0 a=2 b=2 \n",
      "(a==b)=0 a=1 b=2 \n",
      "(a==b)=0 a=3 b=2 \n",
      "(a==b)=0 a=3 b=1 \n",
      "(a==b)=0 a=3 b=3 \n",
      "(a==b)=0 a=2 b=3 \n",
      "(a==b)=0 a=1 b=3 \n",
      "(a==b)=0 a=4 b=3 \n",
      "(a==b)=0 a=4 b=2 \n",
      "(a==b)=0 a=4 b=1 \n",
      "(a==b)=0 a=4 b=4 \n",
      "(a==b)=0 a=3 b=4 \n",
      "(a==b)=0 a=2 b=4 \n",
      "(a==b)=0 a=1 b=4 \n",
      "(a==b)=0 a=5 b=4 \n",
      "(a==b)=0 a=5 b=3 \n",
      "(a==b)=0 a=5 b=2 \n",
      "(a==b)=0 a=5 b=1 \n",
      "(a==b)=0 a=5 b=5 \n",
      "(a==b)=0 a=4 b=5 \n",
      "(a==b)=0 a=3 b=5 \n",
      "(a==b)=0 a=2 b=5 \n",
      "(a==b)=0 a=1 b=5 \n",
      "(a==b)=1 a=1 b=1 \n",
      "(a==b)=1 a=2 b=2 \n",
      "(a==b)=1 a=3 b=3 \n",
      "(a==b)=1 a=4 b=4 \n",
      "(a==b)=1 a=5 b=5 \n"
     ]
    }
   ],
   "source": [
    "lb_a_2, ub_a_2 = (1, 5)\n",
    "lb_b_2, ub_b_2 = (1, 5)\n",
    "model_2 = cp_model.CpModel()\n",
    "x_2 = model_2.new_bool_var('(a==b)')\n",
    "a_2 = model_2.new_int_var(lb_a_2, ub_a_2, 'a')\n",
    "b_2 = model_2.new_int_var(lb_b_2, ub_b_2, 'b')\n",
    "model_2.add(a_2 == b_2).only_enforce_if(x_2)\n",
    "model_2\n",
    "\n",
    "solver_2 = cp_model.CpSolver()\n",
    "solution_printer_2 = VarArraySolutionPrinter([x_2, a_2, b_2])\n",
    "solver_2.parameters.enumerate_all_solutions = True\n",
    "status_2 = solver_2.solve(model_2, solution_printer_2)"
   ]
  },
  {
   "cell_type": "code",
   "execution_count": null,
   "id": "TqIu",
   "metadata": {},
   "outputs": [
    {
     "name": "stdout",
     "output_type": "stream",
     "text": [
      "Number of solutions found: 30\n",
      "\n",
      "status = OPTIMAL\n",
      "time = 0.0010060000000000002\n",
      "objective value = 0.0\n"
     ]
    }
   ],
   "source": [
    "print(f'Number of solutions found: {solution_printer_2.solution_count}\\n')\n",
    "_statuses = {cp_model.OPTIMAL: 'OPTIMAL', cp_model.FEASIBLE: 'FEASIBLE', cp_model.INFEASIBLE: 'INFEASIBLE', cp_model.MODEL_INVALID: 'MODEL_INVALID', cp_model.UNKNOWN: 'UNKNOWN'}\n",
    "print(f'status = {_statuses[status_2]}')\n",
    "print(f'time = {solver_2.wall_time}')\n",
    "print(f'objective value = {solver_2.objective_value}')"
   ]
  },
  {
   "cell_type": "markdown",
   "id": "Vxnm",
   "metadata": {
    "marimo": {
     "config": {
      "hide_code": true
     }
    }
   },
   "source": [
    "### 同値にしたい場合"
   ]
  },
  {
   "cell_type": "markdown",
   "id": "DnEU",
   "metadata": {
    "marimo": {
     "config": {
      "hide_code": true
     }
    }
   },
   "source": [
    "上記の\n",
    "\n",
    "$$\n",
    "x = 1 \\Longrightarrow a = b\n",
    "$$\n",
    "\n",
    "に加えてその裏を制約に入れることで同値にできる:\n",
    "\n",
    "$$\n",
    "x = 0 \\Longrightarrow a \\ne b\n",
    "$$"
   ]
  },
  {
   "cell_type": "code",
   "execution_count": null,
   "id": "ulZA",
   "metadata": {},
   "outputs": [
    {
     "name": "stdout",
     "output_type": "stream",
     "text": [
      "(a==b)=0 a=1 b=2 \n",
      "(a==b)=0 a=2 b=1 \n",
      "(a==b)=0 a=3 b=1 \n",
      "(a==b)=0 a=4 b=1 \n",
      "(a==b)=0 a=4 b=2 \n",
      "(a==b)=0 a=3 b=2 \n",
      "(a==b)=0 a=5 b=2 \n",
      "(a==b)=0 a=5 b=1 \n",
      "(a==b)=0 a=5 b=3 \n",
      "(a==b)=0 a=4 b=3 \n",
      "(a==b)=0 a=5 b=4 \n",
      "(a==b)=0 a=4 b=5 \n",
      "(a==b)=0 a=3 b=4 \n",
      "(a==b)=0 a=3 b=5 \n",
      "(a==b)=0 a=2 b=5 \n",
      "(a==b)=0 a=2 b=4 \n",
      "(a==b)=0 a=2 b=3 \n",
      "(a==b)=0 a=1 b=3 \n",
      "(a==b)=0 a=1 b=4 \n",
      "(a==b)=0 a=1 b=5 \n",
      "(a==b)=1 a=1 b=1 \n",
      "(a==b)=1 a=2 b=2 \n",
      "(a==b)=1 a=3 b=3 \n",
      "(a==b)=1 a=4 b=4 \n",
      "(a==b)=1 a=5 b=5 \n"
     ]
    }
   ],
   "source": [
    "lb_a_3, ub_a_3 = (1, 5)\n",
    "lb_b_3, ub_b_3 = (1, 5)\n",
    "model_3 = cp_model.CpModel()\n",
    "x_3 = model_3.new_bool_var('(a==b)')\n",
    "a_3 = model_3.new_int_var(lb_a_3, ub_a_3, 'a')\n",
    "b_3 = model_3.new_int_var(lb_b_3, ub_b_3, 'b')\n",
    "model_3.add(a_3 == b_3).only_enforce_if(x_3)\n",
    "model_3.add(a_3 != b_3).only_enforce_if(x_3.negated())\n",
    "model_3\n",
    "\n",
    "solver_3 = cp_model.CpSolver()\n",
    "solution_printer_3 = VarArraySolutionPrinter([x_3, a_3, b_3])\n",
    "solver_3.parameters.enumerate_all_solutions = True\n",
    "status_3 = solver_3.solve(model_3, solution_printer_3)"
   ]
  },
  {
   "cell_type": "code",
   "execution_count": null,
   "id": "ecfG",
   "metadata": {},
   "outputs": [
    {
     "name": "stdout",
     "output_type": "stream",
     "text": [
      "Number of solutions found: 25\n",
      "\n",
      "status = OPTIMAL\n",
      "time = 0.0008280000000000001\n",
      "objective value = 0.0\n"
     ]
    }
   ],
   "source": [
    "print(f'Number of solutions found: {solution_printer_3.solution_count}\\n')\n",
    "_statuses = {cp_model.OPTIMAL: 'OPTIMAL', cp_model.FEASIBLE: 'FEASIBLE', cp_model.INFEASIBLE: 'INFEASIBLE', cp_model.MODEL_INVALID: 'MODEL_INVALID', cp_model.UNKNOWN: 'UNKNOWN'}\n",
    "print(f'status = {_statuses[status_3]}')\n",
    "print(f'time = {solver_3.wall_time}')\n",
    "print(f'objective value = {solver_3.objective_value}')"
   ]
  },
  {
   "cell_type": "markdown",
   "id": "Pvdt",
   "metadata": {
    "marimo": {
     "config": {
      "hide_code": true
     }
    }
   },
   "source": [
    "## 応用: 誰が祠を"
   ]
  },
  {
   "cell_type": "markdown",
   "id": "ZBYS",
   "metadata": {
    "marimo": {
     "config": {
      "hide_code": true
     }
    }
   },
   "source": [
    "X のポスト([https://x.com/mrsolyu/status/1846512850879275074](https://x.com/mrsolyu/status/1846512850879275074))でこういった問題があったので定式化して犯人を求める.\n",
    "\n",
    "> お前達の誰かが、あの祠を壊したんか！？\n",
    ">\n",
    "> A「俺がやりました」\\\n",
    "> B「犯人は2人いる」\\\n",
    "> C「Dが犯人でないなら僕が犯人」\\\n",
    "> D「4人の中で嘘つきは奇数人」\n",
    ">\n",
    "> 犯人はこの中にいるはずじゃ。そして呪いで嘘しかつけなくなっておるわい。\n",
    "> 誰が祠を壊したかのう？\n",
    "\n",
    "総当たりで探索しても一瞬で終わる程度の規模ではあるが, 練習のために定式化と実装を行う."
   ]
  },
  {
   "cell_type": "markdown",
   "id": "aLJB",
   "metadata": {
    "marimo": {
     "config": {
      "hide_code": true
     }
    }
   },
   "source": [
    "### 定式化"
   ]
  },
  {
   "cell_type": "markdown",
   "id": "nHfw",
   "metadata": {
    "marimo": {
     "config": {
      "hide_code": true
     }
    }
   },
   "source": [
    "#### 変数\n",
    "\n",
    "- $x_A, x_B, x_C, x_D$: A ~ D が嘘つきのとき $1$, 正直もののとき $0$\n",
    "- $y_A, y_B, y_C, y_D$: A ~ D が犯人のとき $1$, そうでないとき $0$\n",
    "\n",
    "#### 制約\n",
    "\n",
    "- 祠を壊したものは呪いで嘘しかつけなくなっている\n",
    "  - $y_* <= x_*$\n",
    "- A「俺がやりました」\n",
    "  - $x_A = 0 \\Longrightarrow y_A = 1$\n",
    "  - $x_A = 1 \\Longrightarrow y_A = 0$\n",
    "  - 上記 2 つをまとめて $x_A = 1 - y_A$ と書ける\n",
    "- B「犯人は2人いる」\n",
    "    - $x_B = 0 \\Longrightarrow y_A + y_B + y_C + y_D = 2$\n",
    "    - $x_B = 1 \\Longrightarrow y_A + y_B + y_C + y_D \\ne 2$\n",
    "- C「Dが犯人でないなら僕が犯人」\n",
    "  - $x_C = 0 \\Longrightarrow$ 「$y_D = 0 \\Longrightarrow y_C = 1$」だがこれは $1 - x_C \\leq y_C + y_D$ と同値\n",
    "  - $x_C = 1 \\Longrightarrow$ 「$y_D = 0 \\land y_C = 0$」だがこれは $2 (1 - x_C) \\geq y_C + y_D$ と同値\n",
    "- D「4人の中で嘘つきは奇数人」\n",
    "  - $x_D = 0 \\Longrightarrow x_A + x_B + x_C + x_D \\equiv 1 \\mod 2$\n",
    "  - $x_D = 1 \\Longrightarrow x_A + x_B + x_C + x_D \\equiv 0 \\mod 2$\n",
    "  - 上記をまとめて $x_A + x_B + x_C + x_D \\equiv 1 - x_D \\mod 2$ として実装する\n",
    "  - この条件は線形にすることができる.\n",
    "    $e, o$ を 0-1 決定変数とし, 嘘つきの数が偶数人か奇数人かに対応させるとする.\n",
    "    この条件は次のように書ける. $s_e, z$ を整数決定変数として,\n",
    "\n",
    "    - $e + o = 1$\n",
    "    - $x_D = e$\n",
    "    - $s_e = 2 * z$\n",
    "    - $x_A + x_B + x_C + x_D = s_e + o$\n",
    "\n",
    "    とすればよい.\n",
    "    こうして A から D までの全ての条件は線形制約で記述できる."
   ]
  },
  {
   "cell_type": "markdown",
   "id": "xXTn",
   "metadata": {
    "marimo": {
     "config": {
      "hide_code": true
     }
    }
   },
   "source": [
    "### 実装"
   ]
  },
  {
   "cell_type": "code",
   "execution_count": null,
   "id": "AjVT",
   "metadata": {},
   "outputs": [
    {
     "name": "stdout",
     "output_type": "stream",
     "text": [
      "A_is_liar=1 B_is_liar=1 C_is_liar=1 D_is_liar=0 A_is_culprit=0 B_is_culprit=1 C_is_culprit=0 D_is_culprit=0 \n",
      "A_is_liar=1 B_is_liar=1 C_is_liar=1 D_is_liar=1 A_is_culprit=0 B_is_culprit=1 C_is_culprit=0 D_is_culprit=0 \n"
     ]
    }
   ],
   "source": [
    "model_4 = cp_model.CpModel()\n",
    "suspects = ['A', 'B', 'C', 'D']\n",
    "liar = {s: model_4.new_bool_var(f'{s}_is_liar') for s in suspects}\n",
    "culprit = {s: model_4.new_bool_var(f'{s}_is_culprit') for s in suspects}\n",
    "for _s in suspects:\n",
    "    model_4.add_implication(culprit[_s], liar[_s])\n",
    "model_4.add_bool_xor(liar['A'], culprit['A'])\n",
    "model_4.add(sum((culprit[_s] for _s in suspects)) == 2).only_enforce_if(liar['B'].negated())\n",
    "model_4.add(sum((culprit[_s] for _s in suspects)) != 2).only_enforce_if(liar['B'])\n",
    "model_4.add_implication(culprit['D'].negated(), culprit['C']).only_enforce_if(liar['C'].negated())\n",
    "model_4.add(culprit['C'] == 0).only_enforce_if(liar['C'])\n",
    "model_4.add(culprit['D'] == 0).only_enforce_if(liar['C'])\n",
    "n_liar = model_4.new_int_var(0, len(suspects), 'num_of_liars')\n",
    "model_4.add(n_liar == sum((liar[_s] for _s in suspects)))\n",
    "model_4.add_modulo_equality(liar['D'].negated(), n_liar, 2)\n",
    "model_4.add(sum((culprit[_s] for _s in suspects)) >= 1)\n",
    "\n",
    "solver_4 = cp_model.CpSolver()\n",
    "solution_printer_4 = VarArraySolutionPrinter(list(liar.values()) + list(culprit.values()))\n",
    "solver_4.parameters.enumerate_all_solutions = True\n",
    "status_4 = solver_4.solve(model_4, solution_printer_4)"
   ]
  },
  {
   "cell_type": "code",
   "execution_count": null,
   "id": "pHFh",
   "metadata": {},
   "outputs": [
    {
     "name": "stdout",
     "output_type": "stream",
     "text": [
      "Number of solutions found: 2\n",
      "\n",
      "status = OPTIMAL\n",
      "time = 0.000299\n",
      "objective value = 0.0\n"
     ]
    }
   ],
   "source": [
    "print(f'Number of solutions found: {solution_printer_4.solution_count}\\n')\n",
    "_statuses = {cp_model.OPTIMAL: 'OPTIMAL', cp_model.FEASIBLE: 'FEASIBLE', cp_model.INFEASIBLE: 'INFEASIBLE', cp_model.MODEL_INVALID: 'MODEL_INVALID', cp_model.UNKNOWN: 'UNKNOWN'}\n",
    "print(f'status = {_statuses[status_4]}')\n",
    "print(f'time = {solver_4.wall_time}')\n",
    "print(f'objective value = {solver_4.objective_value}')"
   ]
  },
  {
   "cell_type": "markdown",
   "id": "NCOB",
   "metadata": {
    "marimo": {
     "config": {
      "hide_code": true
     }
    }
   },
   "source": [
    "### 実装(線形版)"
   ]
  },
  {
   "cell_type": "code",
   "execution_count": null,
   "id": "aqbW",
   "metadata": {},
   "outputs": [
    {
     "name": "stdout",
     "output_type": "stream",
     "text": [
      "A_is_liar=1 B_is_liar=1 C_is_liar=1 D_is_liar=0 A_is_culprit=0 B_is_culprit=1 C_is_culprit=0 D_is_culprit=0 \n",
      "A_is_liar=1 B_is_liar=1 C_is_liar=1 D_is_liar=1 A_is_culprit=0 B_is_culprit=1 C_is_culprit=0 D_is_culprit=0 \n"
     ]
    }
   ],
   "source": [
    "for _s in suspects:\n",
    "    model_4.add(culprit[_s] <= liar[_s])\n",
    "model_4.add(1 - liar['A'] == culprit['A'])\n",
    "y_1 = model_4.new_bool_var('(culprits<=2)')\n",
    "z_1 = model_4.new_bool_var('(culprits>=2)')\n",
    "_m = 10\n",
    "model_4.add(sum((culprit[_s] for _s in suspects)) <= 2 + _m * (1 - y_1))\n",
    "model_4.add(sum((culprit[_s] for _s in suspects)) - 1 >= 2 - _m * y_1)\n",
    "model_4.add(2 <= sum((culprit[_s] for _s in suspects)) + _m * (1 - z_1))\n",
    "model_4.add(2 - 1 >= sum((culprit[_s] for _s in suspects)) - _m * z_1)\n",
    "model_4.add(1 - liar['B'] + 1 >= y_1 + z_1)\n",
    "model_4.add(2 * (1 - liar['B']) <= y_1 + z_1)\n",
    "model_4.add(1 - liar['C'] <= culprit['C'] + culprit['D'])\n",
    "model_4.add(2 * (1 - liar['C']) >= culprit['C'] + culprit['D'])\n",
    "e = model_4.new_bool_var('n_liar_is_even')\n",
    "o = model_4.new_bool_var('n_liar_is_odd')\n",
    "model_4.add(e + o == 1)\n",
    "model_4.add(liar['D'] == e)\n",
    "se = model_4.new_int_var(0, len(liar) // 2, 'n_liar//2')\n",
    "model_4.add(sum((liar[_s] for _s in suspects)) == 2 * se + o)\n",
    "model_4.add(sum((culprit[_s] for _s in suspects)) >= 1)\n",
    "model_4\n",
    "\n",
    "solver_5 = cp_model.CpSolver()\n",
    "solution_printer_5 = VarArraySolutionPrinter(list(liar.values()) + list(culprit.values()))\n",
    "solver_5.parameters.enumerate_all_solutions = True\n",
    "status_5 = solver_5.solve(model_4, solution_printer_5)"
   ]
  },
  {
   "cell_type": "code",
   "execution_count": null,
   "id": "TRpd",
   "metadata": {},
   "outputs": [
    {
     "name": "stdout",
     "output_type": "stream",
     "text": [
      "Number of solutions found: 2\n",
      "\n",
      "status = OPTIMAL\n",
      "time = 0.000255\n",
      "objective value = 0.0\n"
     ]
    }
   ],
   "source": [
    "print(f'Number of solutions found: {solution_printer_5.solution_count}\\n')\n",
    "_statuses = {cp_model.OPTIMAL: 'OPTIMAL', cp_model.FEASIBLE: 'FEASIBLE', cp_model.INFEASIBLE: 'INFEASIBLE', cp_model.MODEL_INVALID: 'MODEL_INVALID', cp_model.UNKNOWN: 'UNKNOWN'}\n",
    "print(f'status = {_statuses[status_5]}')\n",
    "print(f'time = {solver_5.wall_time}')\n",
    "print(f'objective value = {solver_5.objective_value}')"
   ]
  },
  {
   "cell_type": "markdown",
   "id": "TXez",
   "metadata": {
    "marimo": {
     "config": {
      "hide_code": true
     }
    }
   },
   "source": [
    "### 補足\n",
    "\n",
    "犯人が 1 人以上いると仮定すると犯人は B でそれ以外は無実だった.\n",
    "全員が犯人でないケースもあり得たが今回は除外.\n",
    "嘘つきかどうかに関しては D 以外は全員嘘つきで確定していて, D は嘘つきでも正直ものでもどちらでも整合する.\n",
    "\n",
    "`add_modulo_equality()` の引数に式をそのまま入れてしまうと `MODEL_INVALID` になってしまった.\n",
    "他の関数, 例えば `add_multiplication_equality()` でも同様のことが起こったため,\n",
    "線形でない制約を追加する際は式を新しい変数に格納してから渡すと安全そう.\n",
    "\n",
    "また, `add_modulo_equality()` の返り値に `only_enforce_if()` を繋げたら `MODEL_INVALID` となってしまった.\n",
    "ドキュメントには書かれていなかったが `only_enforce_if()` が使える制約と使えない制約があるようで,\n",
    "例えば `add_bool_xor()` は明確に\n",
    "\n",
    "> In contrast to add_bool_or and add_bool_and, it does not support .only_enforce_if().\n",
    "\n",
    "と書かれている.\n",
    "(`model.add(a != b)` には `only_enforce_if()` をつなげることができたのでなぜこうなっているかは謎)"
   ]
  }
 ],
 "metadata": {},
 "nbformat": 4,
 "nbformat_minor": 5
}
