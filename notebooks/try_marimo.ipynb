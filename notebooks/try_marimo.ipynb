{
 "cells": [
  {
   "cell_type": "code",
   "execution_count": null,
   "id": "Hbol",
   "metadata": {},
   "outputs": [],
   "source": [
    "import marimo as mo"
   ]
  },
  {
   "cell_type": "code",
   "execution_count": null,
   "id": "MJUe",
   "metadata": {},
   "outputs": [],
   "source": [
    "from ortools.math_opt.python import mathopt"
   ]
  },
  {
   "cell_type": "code",
   "execution_count": null,
   "id": "vblA",
   "metadata": {},
   "outputs": [],
   "source": [
    "# Build the model.\n",
    "model = mathopt.Model(name=\"getting_started_lp\")\n",
    "x = model.add_variable(lb=-1.0, ub=1.5, name=\"x\")\n",
    "#y = model.add_variable(lb=0.0, ub=1.0, name=\"y\")\n",
    "y = model.add_binary_variable(name=\"y\")\n",
    "model.add_linear_constraint(x + y <= 1.5)\n",
    "#model.maximize(x + 2 * y)\n",
    "model.maximize(x + 2 * y * y)"
   ]
  },
  {
   "cell_type": "code",
   "execution_count": null,
   "id": "bkHC",
   "metadata": {},
   "outputs": [
    {
     "name": "stdout",
     "output_type": "stream",
     "text": [
      "feasible solution found by trivial heuristic after 0.0 seconds, objective value 0.000000e+00\n",
      "presolving:\n",
      "(round 1, fast)       1 del vars, 1 del conss, 0 add conss, 1 chg bounds, 0 chg sides, 0 chg coeffs, 1 upgd conss, 0 impls, 0 clqs\n",
      "(round 2, fast)       2 del vars, 2 del conss, 0 add conss, 2 chg bounds, 0 chg sides, 0 chg coeffs, 1 upgd conss, 0 impls, 0 clqs\n",
      "   Deactivated symmetry handling methods, since SCIP was built without symmetry detector (SYM=none).\n",
      "presolving (3 rounds: 3 fast, 1 medium, 1 exhaustive):\n",
      " 3 deleted vars, 2 deleted constraints, 0 added constraints, 2 tightened bounds, 0 added holes, 0 changed sides, 0 changed coefficients\n",
      " 0 implications, 0 cliques\n",
      "transformed 1/4 original solutions to the transformed problem space\n",
      "Presolving Time: 0.00\n",
      "\n",
      "SCIP Status        : problem is solved [optimal solution found]\n",
      "Solving Time (sec) : 0.00\n",
      "Solving Nodes      : 0\n",
      "Primal Bound       : +2.50000000000000e+00 (4 solutions)\n",
      "Dual Bound         : +2.50000000000000e+00\n",
      "Gap                : 0.00 %\n"
     ]
    }
   ],
   "source": [
    "# Solve and ensure an optimal solution was found with no errors.\n",
    "# (mathopt.solve may raise a RuntimeError on invalid input or internal solver\n",
    "# errors.)\n",
    "params = mathopt.SolveParameters(enable_output=True)\n",
    "#result = mathopt.solve(model, mathopt.SolverType.CP_SAT, params=params)\n",
    "result = mathopt.solve(model, mathopt.SolverType.GSCIP, params=params)\n",
    "#result = mathopt.solve(model, mathopt.SolverType.HIGHS, params=params)\n",
    "if result.termination.reason != mathopt.TerminationReason.OPTIMAL:\n",
    "    raise RuntimeError(f\"model failed to solve: {result.termination}\")"
   ]
  },
  {
   "cell_type": "code",
   "execution_count": null,
   "id": "lEQa",
   "metadata": {},
   "outputs": [
    {
     "name": "stdout",
     "output_type": "stream",
     "text": [
      "MathOpt solve succeeded\n",
      "Objective value: 2.5\n",
      "x: 0.5\n",
      "y: 1.0\n"
     ]
    }
   ],
   "source": [
    "# Print some information from the result.\n",
    "print(\"MathOpt solve succeeded\")\n",
    "print(\"Objective value:\", result.objective_value())\n",
    "print(\"x:\", result.variable_values()[x])\n",
    "print(\"y:\", result.variable_values()[y])"
   ]
  },
  {
   "cell_type": "code",
   "execution_count": null,
   "id": "PKri",
   "metadata": {},
   "outputs": [],
   "source": []
  }
 ],
 "metadata": {},
 "nbformat": 4,
 "nbformat_minor": 5
}
