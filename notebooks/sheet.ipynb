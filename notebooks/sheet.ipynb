{
 "cells": [
  {
   "cell_type": "markdown",
   "id": "d48ceb07-a0fd-4818-8a7f-0e4c6405751d",
   "metadata": {},
   "source": [
    "# 忘年会席決め計算"
   ]
  },
  {
   "cell_type": "markdown",
   "id": "a21521b0-044c-4208-81b4-302cdfbf8833",
   "metadata": {},
   "source": [
    "## 問題"
   ]
  },
  {
   "cell_type": "markdown",
   "id": "89188fd6-6b3d-4f63-af86-2ecf4f938c99",
   "metadata": {},
   "source": [
    "$n$ 人を $n$ 個の座席に配置する. \n",
    "このとき以下のように配置する. \n",
    "\n",
    "- 同一プロジェクトに配属されている人はできるだけ違うテーブルに配置\n",
    "- 同一グループに所属している人はできるだけ違うテーブルに配置\n",
    "- 同年代はできるだけ違うテーブルに配置(社員の年齢が確認できる場合)\n",
    "- その他同属性の社員はできるだけ違うテーブルに配置"
   ]
  },
  {
   "cell_type": "markdown",
   "id": "0562819c-661a-475f-a962-34cc5004ca45",
   "metadata": {},
   "source": [
    "## 定式化"
   ]
  },
  {
   "cell_type": "markdown",
   "id": "476fe14b-20d5-4373-831a-a95c62b427b0",
   "metadata": {},
   "source": [
    "座席ごとではなくテーブル単位で割り当てる"
   ]
  },
  {
   "cell_type": "markdown",
   "id": "3d2490d2-9e6d-4c8c-9794-fbd7aa8f60cb",
   "metadata": {},
   "source": [
    "### パラメータ"
   ]
  },
  {
   "cell_type": "markdown",
   "id": "1431284b-d214-4b0d-a414-4be407d54af5",
   "metadata": {
    "jp-MarkdownHeadingCollapsed": true
   },
   "source": [
    "- $S_t$: テーブル $t$ の座席集合\n",
    "- $E_p$: プロジェクト $p$ に配属されているメンバー\n",
    "- $E_g$: グループ $g$ に配属されているメンバー\n",
    "- $E_a$: 年代 $a$ に属しているメンバー"
   ]
  },
  {
   "cell_type": "markdown",
   "id": "28f7be82-296c-4c02-b2ea-e19f97c40f98",
   "metadata": {},
   "source": [
    "### 変数"
   ]
  },
  {
   "cell_type": "markdown",
   "id": "50ca9dfc-d231-484e-b88f-7770f7f5a24c",
   "metadata": {},
   "source": [
    "- $x_{it}$: 人 $i$ をテーブル $t$ に配置するとき $1$, そうでないとき $0$"
   ]
  },
  {
   "cell_type": "markdown",
   "id": "b5441051-1037-425f-8530-8af58f65d15f",
   "metadata": {},
   "source": [
    "### 制約"
   ]
  },
  {
   "cell_type": "markdown",
   "id": "3c24b58a-15c6-4cf1-bc1e-636ce853b787",
   "metadata": {},
   "source": [
    "- $\\sum_i x_{it} \\leq |S_t|$ (for all $t$): 1 つのテーブルに座れるのはテーブルのキャパシティ以下だけ\n",
    "- $\\sum_t x_{it} = 1$ (for all $i$): 1 人の人は 1 つのテーブルにだけ割り当てられる"
   ]
  },
  {
   "cell_type": "markdown",
   "id": "be6f6f20-039b-46aa-876a-2a028ca427e1",
   "metadata": {},
   "source": [
    "### 目的関数"
   ]
  },
  {
   "cell_type": "markdown",
   "id": "4ea39db2-6e20-41ae-b92c-f8787e4271f7",
   "metadata": {},
   "source": [
    "以下のコスト関数を重み付けして足す. \n",
    "\n",
    "- 同一プロジェクト同一テーブル配置ペナルティ\n",
    "  - $\\sum_p \\sum_t \\left( \\sum_{i \\in E_p} x_{i t} \\right)^2$\n",
    "- 同一グループ同一テーブル配置ペナルティ\n",
    "  - $\\sum_g \\sum_t \\left( \\sum_{i \\in E_g} x_{i t} \\right)^2$\n",
    "- 同一世代同一テーブル配置ペナルティ\n",
    "  - $\\sum_a \\sum_t \\left( \\sum_{i \\in E_a} x_{i t} \\right)^2$\n",
    "\n",
    "2 乗になっている部分を展開して 0-1 変数の席の部分を線形制約で表現すれば線形目的関数にすることができる. \n",
    "また, 近い位置にあるテーブルに同属性の社員を配置したくない場合は 2 乗の部分を単一テーブルではなく複数のテーブルも対象にすればよい. "
   ]
  },
  {
   "cell_type": "markdown",
   "id": "0b7d5285-eea6-47a5-b63b-296a8eb7a71f",
   "metadata": {},
   "source": [
    "## テスト実装"
   ]
  },
  {
   "cell_type": "code",
   "execution_count": 1,
   "id": "5b05cfc3-fd1b-4d03-8c31-31a884e89a95",
   "metadata": {},
   "outputs": [],
   "source": [
    "from ortools.sat.python import cp_model\n",
    "import random"
   ]
  },
  {
   "cell_type": "code",
   "execution_count": 2,
   "id": "b59634bf-1878-4180-b4c4-64fb65e1d874",
   "metadata": {},
   "outputs": [],
   "source": [
    "class Employee:\n",
    "    def __init__(self, id, projects, group, age, name=\"\"):\n",
    "        self.id = id\n",
    "        self.group = group.id\n",
    "        self.projects = [p.id for p in  projects]\n",
    "        self.age = age.id\n",
    "        self.name = name\n",
    "\n",
    "        for p in projects:\n",
    "            p.members.append(self.id)\n",
    "        group.members.append(self.id)\n",
    "        age.members.append(self.id)\n",
    "\n",
    "class Project:\n",
    "    def __init__(self, id, name=\"\"):\n",
    "        self.id = id\n",
    "        self.members = []\n",
    "        self.name = name\n",
    "\n",
    "class Group:\n",
    "    def __init__(self, id, name=\"\"):\n",
    "        self.id = id\n",
    "        self.members = []\n",
    "        self.name = name\n",
    "\n",
    "class Age:\n",
    "    def __init__(self, id, name=\"\"):\n",
    "        self.id = id\n",
    "        self.members = []\n",
    "        self.name=name\n",
    "\n",
    "class Sheet:\n",
    "    def __init__(self, id, table, name=\"\"):\n",
    "        self.id = id\n",
    "        self.table = table.id\n",
    "        self.name = name\n",
    "\n",
    "        table.sheets.append(self.id)\n",
    "\n",
    "class Table:\n",
    "    def __init__(self, id, name=\"\"):\n",
    "        self.id = id\n",
    "        self.sheets = []\n",
    "        self.name = name\n",
    "\n",
    "    @property\n",
    "    def capacity(self):\n",
    "        return len(self.sheets)"
   ]
  },
  {
   "cell_type": "code",
   "execution_count": 3,
   "id": "ec661faa-4b13-42fa-9912-efde512b0e5d",
   "metadata": {},
   "outputs": [],
   "source": [
    "# n_all: 人数\n",
    "# s_per_t: 1 テーブルあたりの席数\n",
    "n_all = 65\n",
    "s_per_t = 5\n",
    "\n",
    "s_all = n_all\n",
    "t_all = (s_all + s_per_t - 1) // s_per_t\n",
    "\n",
    "# テーブルは順番に番号付ける\n",
    "tables = [Table(t_id) for t_id in range(t_all)]\n",
    "sheets = [Sheet(s_id, tables[s_id // s_per_t]) for s_id in range(s_all)]\n",
    "\n",
    "# プロジェクト, グループ, 年代を適当に生成\n",
    "p_all = 5\n",
    "g_all = 4\n",
    "projects = [Project(p_id) for p_id in range(p_all)]\n",
    "groups = [Group(g_id) for g_id in range(g_all)]\n",
    "ages = [Age(id, name) for id, name in enumerate([\"20~30 代\", \"40~50 代\", \"60 代以上\"])]\n",
    "\n",
    "random.seed(0)\n",
    "employees = []\n",
    "for e_id in range(n_all):\n",
    "    e_group = random.choice(groups)\n",
    "    e_projects = random.sample(projects, random.randint(1, len(projects) // 2))  # プロジェクトをランダムに割り当て\n",
    "    e_age = random.choice(ages)\n",
    "\n",
    "    employees.append(Employee(e_id, e_projects, e_group, e_age))"
   ]
  },
  {
   "cell_type": "code",
   "execution_count": 4,
   "id": "b0d06b0e-5713-4285-838d-36f3c3ac45cd",
   "metadata": {},
   "outputs": [
    {
     "name": "stdout",
     "output_type": "stream",
     "text": [
      "Employee 0: group=3 projects=[0, 2] age=2(60 代以上)\n",
      "Employee 1: group=3 projects=[2, 3] age=1(40~50 代)\n",
      "Employee 2: group=1 projects=[2] age=0(20~30 代)\n",
      "Employee 3: group=0 projects=[4, 1] age=1(40~50 代)\n",
      "Employee 4: group=0 projects=[2] age=1(40~50 代)\n",
      "Employee 5: group=0 projects=[3, 2] age=2(60 代以上)\n",
      "Employee 6: group=1 projects=[3, 2] age=0(20~30 代)\n",
      "Employee 7: group=0 projects=[3] age=2(60 代以上)\n",
      "Employee 8: group=0 projects=[2, 1] age=2(60 代以上)\n",
      "Employee 9: group=2 projects=[1] age=2(60 代以上)\n",
      "Employee 10: group=1 projects=[1] age=2(60 代以上)\n",
      "Employee 11: group=3 projects=[0] age=1(40~50 代)\n",
      "Employee 12: group=3 projects=[2] age=2(60 代以上)\n",
      "Employee 13: group=2 projects=[4] age=1(40~50 代)\n",
      "Employee 14: group=1 projects=[3, 0] age=2(60 代以上)\n",
      "Employee 15: group=3 projects=[4, 1] age=1(40~50 代)\n",
      "Employee 16: group=1 projects=[1] age=0(20~30 代)\n",
      "Employee 17: group=2 projects=[0, 4] age=2(60 代以上)\n",
      "Employee 18: group=1 projects=[0] age=0(20~30 代)\n",
      "Employee 19: group=3 projects=[4, 1] age=0(20~30 代)\n",
      "Employee 20: group=3 projects=[3, 4] age=2(60 代以上)\n",
      "Employee 21: group=2 projects=[2] age=2(60 代以上)\n",
      "Employee 22: group=0 projects=[4, 2] age=0(20~30 代)\n",
      "Employee 23: group=1 projects=[2] age=0(20~30 代)\n",
      "Employee 24: group=1 projects=[1, 2] age=1(40~50 代)\n",
      "Employee 25: group=0 projects=[1] age=2(60 代以上)\n",
      "Employee 26: group=1 projects=[4] age=2(60 代以上)\n",
      "Employee 27: group=0 projects=[0] age=2(60 代以上)\n",
      "Employee 28: group=1 projects=[3] age=0(20~30 代)\n",
      "Employee 29: group=2 projects=[0] age=2(60 代以上)\n",
      "Employee 30: group=0 projects=[1] age=2(60 代以上)\n",
      "Employee 31: group=0 projects=[1, 0] age=2(60 代以上)\n",
      "Employee 32: group=0 projects=[4, 0] age=1(40~50 代)\n",
      "Employee 33: group=0 projects=[0] age=2(60 代以上)\n",
      "Employee 34: group=2 projects=[3, 1] age=0(20~30 代)\n",
      "Employee 35: group=3 projects=[4] age=0(20~30 代)\n",
      "Employee 36: group=3 projects=[2] age=1(40~50 代)\n",
      "Employee 37: group=3 projects=[1] age=0(20~30 代)\n",
      "Employee 38: group=1 projects=[2] age=2(60 代以上)\n",
      "Employee 39: group=2 projects=[4] age=1(40~50 代)\n",
      "Employee 40: group=1 projects=[3] age=2(60 代以上)\n",
      "Employee 41: group=3 projects=[2, 3] age=2(60 代以上)\n",
      "Employee 42: group=2 projects=[4] age=2(60 代以上)\n",
      "Employee 43: group=0 projects=[0, 2] age=2(60 代以上)\n",
      "Employee 44: group=0 projects=[1, 4] age=1(40~50 代)\n",
      "Employee 45: group=2 projects=[2, 1] age=2(60 代以上)\n",
      "Employee 46: group=2 projects=[3, 0] age=0(20~30 代)\n",
      "Employee 47: group=1 projects=[1, 4] age=0(20~30 代)\n",
      "Employee 48: group=3 projects=[4, 3] age=0(20~30 代)\n",
      "Employee 49: group=3 projects=[0, 1] age=1(40~50 代)\n",
      "Employee 50: group=0 projects=[1, 3] age=2(60 代以上)\n",
      "Employee 51: group=3 projects=[0] age=1(40~50 代)\n",
      "Employee 52: group=2 projects=[3, 0] age=1(40~50 代)\n",
      "Employee 53: group=1 projects=[1] age=0(20~30 代)\n",
      "Employee 54: group=3 projects=[2, 0] age=0(20~30 代)\n",
      "Employee 55: group=0 projects=[4] age=2(60 代以上)\n",
      "Employee 56: group=0 projects=[0] age=2(60 代以上)\n",
      "Employee 57: group=1 projects=[2, 1] age=0(20~30 代)\n",
      "Employee 58: group=3 projects=[0, 4] age=1(40~50 代)\n",
      "Employee 59: group=3 projects=[2] age=0(20~30 代)\n",
      "Employee 60: group=2 projects=[1] age=1(40~50 代)\n",
      "Employee 61: group=0 projects=[0] age=0(20~30 代)\n",
      "Employee 62: group=2 projects=[2, 0] age=2(60 代以上)\n",
      "Employee 63: group=3 projects=[3, 2] age=2(60 代以上)\n",
      "Employee 64: group=1 projects=[3] age=2(60 代以上)\n"
     ]
    }
   ],
   "source": [
    "for e in employees:\n",
    "    print(f\"Employee {e.id}\", end=\": \")\n",
    "    print(f\"group={e.group}\", end=\" \")\n",
    "    print(f\"projects={e.projects}\", end=\" \")\n",
    "    print(f\"age={e.age}({ages[e.age].name})\")"
   ]
  },
  {
   "cell_type": "code",
   "execution_count": 5,
   "id": "486f5beb-c16f-4934-afca-e33cdb6c29b9",
   "metadata": {},
   "outputs": [
    {
     "name": "stdout",
     "output_type": "stream",
     "text": [
      "Project 0: members=[0, 11, 14, 17, 18, 27, 29, 31, 32, 33, 43, 46, 49, 51, 52, 54, 56, 58, 61, 62]\n",
      "Project 1: members=[3, 8, 9, 10, 15, 16, 19, 24, 25, 30, 31, 34, 37, 44, 45, 47, 49, 50, 53, 57, 60]\n",
      "Project 2: members=[0, 1, 2, 4, 5, 6, 8, 12, 21, 22, 23, 24, 36, 38, 41, 43, 45, 54, 57, 59, 62, 63]\n",
      "Project 3: members=[1, 5, 6, 7, 14, 20, 28, 34, 40, 41, 46, 48, 50, 52, 63, 64]\n",
      "Project 4: members=[3, 13, 15, 17, 19, 20, 22, 26, 32, 35, 39, 42, 44, 47, 48, 55, 58]\n"
     ]
    }
   ],
   "source": [
    "for p in projects:\n",
    "    print(f\"Project {p.id}: members={p.members}\")"
   ]
  },
  {
   "cell_type": "code",
   "execution_count": 6,
   "id": "8e4e8fcc-1e98-40b1-a85b-ca6df29ec549",
   "metadata": {},
   "outputs": [
    {
     "name": "stdout",
     "output_type": "stream",
     "text": [
      "Group 0: members=[3, 4, 5, 7, 8, 22, 25, 27, 30, 31, 32, 33, 43, 44, 50, 55, 56, 61]\n",
      "Group 1: members=[2, 6, 10, 14, 16, 18, 23, 24, 26, 28, 38, 40, 47, 53, 57, 64]\n",
      "Group 2: members=[9, 13, 17, 21, 29, 34, 39, 42, 45, 46, 52, 60, 62]\n",
      "Group 3: members=[0, 1, 11, 12, 15, 19, 20, 35, 36, 37, 41, 48, 49, 51, 54, 58, 59, 63]\n"
     ]
    }
   ],
   "source": [
    "for g in groups:\n",
    "    print(f\"Group {g.id}: members={g.members}\")"
   ]
  },
  {
   "cell_type": "code",
   "execution_count": 7,
   "id": "b9aca892-0513-4481-95df-fdd0f5cd821b",
   "metadata": {},
   "outputs": [
    {
     "name": "stdout",
     "output_type": "stream",
     "text": [
      "Age 0: members=[2, 6, 16, 18, 19, 22, 23, 28, 34, 35, 37, 46, 47, 48, 53, 54, 57, 59, 61]\n",
      "Age 1: members=[1, 3, 4, 11, 13, 15, 24, 32, 36, 39, 44, 49, 51, 52, 58, 60]\n",
      "Age 2: members=[0, 5, 7, 8, 9, 10, 12, 14, 17, 20, 21, 25, 26, 27, 29, 30, 31, 33, 38, 40, 41, 42, 43, 45, 50, 55, 56, 62, 63, 64]\n"
     ]
    }
   ],
   "source": [
    "for a in ages:\n",
    "    print(f\"Age {a.id}: members={a.members}\")"
   ]
  },
  {
   "cell_type": "code",
   "execution_count": 8,
   "id": "84b3895a-3035-4ef6-8b9f-b8af0d86e448",
   "metadata": {},
   "outputs": [
    {
     "name": "stdout",
     "output_type": "stream",
     "text": [
      "Table 0: sheets=[0, 1, 2, 3, 4]\n",
      "Table 1: sheets=[5, 6, 7, 8, 9]\n",
      "Table 2: sheets=[10, 11, 12, 13, 14]\n",
      "Table 3: sheets=[15, 16, 17, 18, 19]\n",
      "Table 4: sheets=[20, 21, 22, 23, 24]\n",
      "Table 5: sheets=[25, 26, 27, 28, 29]\n",
      "Table 6: sheets=[30, 31, 32, 33, 34]\n",
      "Table 7: sheets=[35, 36, 37, 38, 39]\n",
      "Table 8: sheets=[40, 41, 42, 43, 44]\n",
      "Table 9: sheets=[45, 46, 47, 48, 49]\n",
      "Table 10: sheets=[50, 51, 52, 53, 54]\n",
      "Table 11: sheets=[55, 56, 57, 58, 59]\n",
      "Table 12: sheets=[60, 61, 62, 63, 64]\n"
     ]
    }
   ],
   "source": [
    "for t in tables:\n",
    "    print(f\"Table {t.id}: sheets={t.sheets}\")"
   ]
  },
  {
   "cell_type": "markdown",
   "id": "d7560968-ee82-49b9-8674-e1c13615b65c",
   "metadata": {},
   "source": [
    "### モデル化"
   ]
  },
  {
   "cell_type": "code",
   "execution_count": 9,
   "id": "ecdd1492-a50e-41cb-b207-b3abab14c397",
   "metadata": {
    "editable": true,
    "slideshow": {
     "slide_type": ""
    },
    "tags": []
   },
   "outputs": [],
   "source": [
    "model = cp_model.CpModel()\n",
    "x = [[model.new_bool_var(f\"e {e.id} -> t {t.id}\") for t in tables] for e in employees]\n",
    "\n",
    "for e in employees:\n",
    "    model.add_exactly_one([x[e.id][t.id] for t in tables])\n",
    "\n",
    "for t in tables:\n",
    "    model.add(sum(x[e.id][t.id] for e in employees) <= t.capacity)\n",
    "\n",
    "obj_p = 0\n",
    "obj_g = 0\n",
    "obj_a = 0\n",
    "\n",
    "for t in tables:\n",
    "    for p in projects:\n",
    "        tp1 = model.new_int_var(0, min(t.capacity, len(p.members)), f\"number_of_employee_in_project{p.id}_in_table{t.id}\")\n",
    "        model.add(tp1 == sum(x[e_id][t.id] for e_id in p.members))\n",
    "        tp2 = model.new_int_var(0, min(t.capacity, len(p.members)) ** 2, \"\")\n",
    "        model.add_multiplication_equality(tp2, [tp1, tp1])\n",
    "        obj_p += tp2\n",
    "\n",
    "    for g in groups:\n",
    "        tp1 = model.new_int_var(0, min(t.capacity, len(g.members)), f\"number_of_employee_in_group{g.id}_in_table{t.id}\")\n",
    "        model.add(tp1 == sum(x[e_id][t.id] for e_id in g.members))\n",
    "        tp2 = model.new_int_var(0, min(t.capacity, len(g.members)) ** 2, \"\")\n",
    "        model.add_multiplication_equality(tp2, [tp1, tp1])\n",
    "        obj_g += tp2\n",
    "\n",
    "    for a in ages:\n",
    "        tp1 = model.new_int_var(0, min(t.capacity, len(a.members)), f\"number_of_employee_in_age{a.id}_in_table{t.id}\")\n",
    "        model.add(tp1 == sum(x[e_id][t.id] for e_id in a.members))\n",
    "        tp2 = model.new_int_var(0, min(t.capacity, len(a.members)) ** 2, \"\")\n",
    "        model.add_multiplication_equality(tp2, [tp1, tp1])\n",
    "        obj_a += tp2\n",
    "\n",
    "model.minimize(obj_p + obj_g + obj_a)"
   ]
  },
  {
   "cell_type": "code",
   "execution_count": 10,
   "id": "ea111164-dddd-4ddf-be07-2a6dc87cd595",
   "metadata": {},
   "outputs": [
    {
     "name": "stdout",
     "output_type": "stream",
     "text": [
      "status = OPTIMAL\n",
      "time = 0.73694\n",
      "objective value = 374.0\n"
     ]
    }
   ],
   "source": [
    "solver = cp_model.CpSolver()\n",
    "status = solver.solve(model)\n",
    "\n",
    "statuses = {\n",
    "    cp_model.OPTIMAL: \"OPTIMAL\",\n",
    "    cp_model.FEASIBLE: \"FEASIBLE\",\n",
    "    cp_model.INFEASIBLE: \"INFEASIBLE\",\n",
    "    cp_model.MODEL_INVALID: \"MODEL_INVALID\",\n",
    "    cp_model.UNKNOWN: \"UNKNOWN\",\n",
    "}\n",
    "\n",
    "print(f\"status = {statuses[status]}\")\n",
    "print(f\"time = {solver.wall_time}\")\n",
    "print(f\"objective value = {solver.objective_value}\")"
   ]
  },
  {
   "cell_type": "code",
   "execution_count": 11,
   "id": "8155761f-d123-43bb-bc4d-56421b349c89",
   "metadata": {},
   "outputs": [
    {
     "name": "stdout",
     "output_type": "stream",
     "text": [
      "Table 0:\n",
      "  employee 11: projects=[0] group=3 age=1\n",
      "  employee 20: projects=[3, 4] group=3 age=2\n",
      "  employee 23: projects=[2] group=1 age=0\n",
      "  employee 45: projects=[2, 1] group=2 age=2\n",
      "  employee 61: projects=[0] group=0 age=0\n",
      "Table 1:\n",
      "  employee 3: projects=[4, 1] group=0 age=1\n",
      "  employee 17: projects=[0, 4] group=2 age=2\n",
      "  employee 18: projects=[0] group=1 age=0\n",
      "  employee 57: projects=[2, 1] group=1 age=0\n",
      "  employee 63: projects=[3, 2] group=3 age=2\n",
      "Table 2:\n",
      "  employee 2: projects=[2] group=1 age=0\n",
      "  employee 9: projects=[1] group=2 age=2\n",
      "  employee 41: projects=[2, 3] group=3 age=2\n",
      "  employee 44: projects=[1, 4] group=0 age=1\n",
      "  employee 56: projects=[0] group=0 age=2\n",
      "Table 3:\n",
      "  employee 10: projects=[1] group=1 age=2\n",
      "  employee 15: projects=[4, 1] group=3 age=1\n",
      "  employee 43: projects=[0, 2] group=0 age=2\n",
      "  employee 46: projects=[3, 0] group=2 age=0\n",
      "  employee 59: projects=[2] group=3 age=0\n",
      "Table 4:\n",
      "  employee 25: projects=[1] group=0 age=2\n",
      "  employee 29: projects=[0] group=2 age=2\n",
      "  employee 36: projects=[2] group=3 age=1\n",
      "  employee 48: projects=[4, 3] group=3 age=0\n",
      "  employee 64: projects=[3] group=1 age=2\n",
      "Table 5:\n",
      "  employee 14: projects=[3, 0] group=1 age=2\n",
      "  employee 24: projects=[1, 2] group=1 age=1\n",
      "  employee 34: projects=[3, 1] group=2 age=0\n",
      "  employee 54: projects=[2, 0] group=3 age=0\n",
      "  employee 55: projects=[4] group=0 age=2\n",
      "Table 6:\n",
      "  employee 12: projects=[2] group=3 age=2\n",
      "  employee 31: projects=[1, 0] group=0 age=2\n",
      "  employee 35: projects=[4] group=3 age=0\n",
      "  employee 38: projects=[2] group=1 age=2\n",
      "  employee 52: projects=[3, 0] group=2 age=1\n",
      "Table 7:\n",
      "  employee 7: projects=[3] group=0 age=2\n",
      "  employee 22: projects=[4, 2] group=0 age=0\n",
      "  employee 26: projects=[4] group=1 age=2\n",
      "  employee 51: projects=[0] group=3 age=1\n",
      "  employee 60: projects=[1] group=2 age=1\n",
      "Table 8:\n",
      "  employee 0: projects=[0, 2] group=3 age=2\n",
      "  employee 42: projects=[4] group=2 age=2\n",
      "  employee 50: projects=[1, 3] group=0 age=2\n",
      "  employee 53: projects=[1] group=1 age=0\n",
      "  employee 58: projects=[0, 4] group=3 age=1\n",
      "Table 9:\n",
      "  employee 6: projects=[3, 2] group=1 age=0\n",
      "  employee 8: projects=[2, 1] group=0 age=2\n",
      "  employee 13: projects=[4] group=2 age=1\n",
      "  employee 27: projects=[0] group=0 age=2\n",
      "  employee 37: projects=[1] group=3 age=0\n",
      "Table 10:\n",
      "  employee 4: projects=[2] group=0 age=1\n",
      "  employee 19: projects=[4, 1] group=3 age=0\n",
      "  employee 21: projects=[2] group=2 age=2\n",
      "  employee 28: projects=[3] group=1 age=0\n",
      "  employee 33: projects=[0] group=0 age=2\n",
      "Table 11:\n",
      "  employee 5: projects=[3, 2] group=0 age=2\n",
      "  employee 39: projects=[4] group=2 age=1\n",
      "  employee 40: projects=[3] group=1 age=2\n",
      "  employee 47: projects=[1, 4] group=1 age=0\n",
      "  employee 49: projects=[0, 1] group=3 age=1\n",
      "Table 12:\n",
      "  employee 1: projects=[2, 3] group=3 age=1\n",
      "  employee 16: projects=[1] group=1 age=0\n",
      "  employee 30: projects=[1] group=0 age=2\n",
      "  employee 32: projects=[4, 0] group=0 age=1\n",
      "  employee 62: projects=[2, 0] group=2 age=2\n"
     ]
    }
   ],
   "source": [
    "if status == cp_model.OPTIMAL or status == cp_model.FEASIBLE:\n",
    "    for t in tables:\n",
    "        print(f\"Table {t.id}:\")\n",
    "        for e in employees:\n",
    "            if not solver.value(x[e.id][t.id]) == 1:\n",
    "                continue\n",
    "\n",
    "            print(f\"  employee {e.id}: projects={e.projects} group={e.group} age={e.age}\")"
   ]
  },
  {
   "cell_type": "code",
   "execution_count": null,
   "id": "a194b257-b576-4a38-8bd7-6b774e61d473",
   "metadata": {},
   "outputs": [],
   "source": []
  }
 ],
 "metadata": {
  "kernelspec": {
   "display_name": "Python 3 (ipykernel)",
   "language": "python",
   "name": "python3"
  },
  "language_info": {
   "codemirror_mode": {
    "name": "ipython",
    "version": 3
   },
   "file_extension": ".py",
   "mimetype": "text/x-python",
   "name": "python",
   "nbconvert_exporter": "python",
   "pygments_lexer": "ipython3",
   "version": "3.12.2"
  }
 },
 "nbformat": 4,
 "nbformat_minor": 5
}
