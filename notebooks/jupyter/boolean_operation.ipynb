{
 "cells": [
  {
   "cell_type": "code",
   "execution_count": null,
   "id": "Hbol",
   "metadata": {},
   "outputs": [],
   "source": [
    "import marimo as mo"
   ]
  },
  {
   "cell_type": "markdown",
   "id": "MJUe",
   "metadata": {
    "marimo": {
     "config": {
      "hide_code": true
     }
    }
   },
   "source": [
    "# MIP における論理演算の扱い"
   ]
  },
  {
   "cell_type": "markdown",
   "id": "vblA",
   "metadata": {
    "marimo": {
     "config": {
      "hide_code": true
     }
    }
   },
   "source": [
    "$a, b$ を 0-1 決定変数とする.\n",
    "このとき以下のような制約を持つ決定変数 $c$ の定め方を説明する.\n",
    "\n",
    "- AND: $c = a \\land b$\n",
    "- OR: $c = a \\lor b$\n",
    "- NAND: $c = a \\uparrow b$\n",
    "- NOR: $c = a \\downarrow b$\n",
    "- XOR: $c = a \\veebar b$\n",
    "- XNOR: $c = (a \\Leftrightarrow b)$"
   ]
  },
  {
   "cell_type": "markdown",
   "id": "bkHC",
   "metadata": {
    "marimo": {
     "config": {
      "hide_code": true
     }
    }
   },
   "source": [
    "## 定式化と実装"
   ]
  },
  {
   "cell_type": "code",
   "execution_count": null,
   "id": "lEQa",
   "metadata": {},
   "outputs": [],
   "source": [
    "from ortools.sat.python import cp_model"
   ]
  },
  {
   "cell_type": "code",
   "execution_count": null,
   "id": "PKri",
   "metadata": {},
   "outputs": [],
   "source": [
    "class VarArraySolutionPrinter(cp_model.CpSolverSolutionCallback):\n",
    "    def __init__(self, variables):\n",
    "        cp_model.CpSolverSolutionCallback.__init__(self)\n",
    "        self.__variables = variables\n",
    "        self.__solution_count = 0\n",
    "\n",
    "    def on_solution_callback(self):\n",
    "        self.__solution_count += 1\n",
    "        for v in self.__variables:\n",
    "            print(f\"{v}={self.value(v)}\", end=\" \")\n",
    "        print()\n",
    "\n",
    "    @property\n",
    "    def solution_count(self):\n",
    "        return self.__solution_count"
   ]
  },
  {
   "cell_type": "markdown",
   "id": "Xref",
   "metadata": {
    "marimo": {
     "config": {
      "hide_code": true
     }
    }
   },
   "source": [
    "### AND"
   ]
  },
  {
   "cell_type": "markdown",
   "id": "SFPL",
   "metadata": {
    "marimo": {
     "config": {
      "hide_code": true
     }
    }
   },
   "source": [
    "$a \\land b \\Rightarrow c$ と $c \\Rightarrow a \\land b$ を表現すればよい.\n",
    "($x \\Rightarrow y$ は $x \\leq y$ で書けることに注意)\n",
    "\n",
    "- $a + b \\leq 1 + c$\n",
    "- $2 c \\leq a + b$"
   ]
  },
  {
   "cell_type": "code",
   "execution_count": null,
   "id": "BYtC",
   "metadata": {},
   "outputs": [
    {
     "name": "stdout",
     "output_type": "stream",
     "text": [
      "A=0 B=0 AandB=0 \n",
      "A=0 B=1 AandB=0 \n",
      "A=1 B=1 AandB=1 \n",
      "A=1 B=0 AandB=0 \n"
     ]
    }
   ],
   "source": [
    "_model = cp_model.CpModel()\n",
    "_a = _model.new_bool_var(\"A\")\n",
    "_b = _model.new_bool_var(\"B\")\n",
    "_c = _model.new_bool_var(f\"{_a}and{_b}\")\n",
    "_model.add(_a + _b <= 1 + _c)\n",
    "_model.add(2 * _c <= _a + _b)\n",
    "_solver = cp_model.CpSolver()\n",
    "_solution_printer = VarArraySolutionPrinter([_a, _b, _c])\n",
    "_solver.parameters.enumerate_all_solutions = True\n",
    "_status = _solver.solve(_model, _solution_printer)"
   ]
  },
  {
   "cell_type": "markdown",
   "id": "RGSE",
   "metadata": {
    "marimo": {
     "config": {
      "hide_code": true
     }
    }
   },
   "source": [
    "### OR"
   ]
  },
  {
   "cell_type": "markdown",
   "id": "Kclp",
   "metadata": {
    "marimo": {
     "config": {
      "hide_code": true
     }
    }
   },
   "source": [
    "$a \\lor b \\Rightarrow c$ と $c \\Rightarrow a \\lor b$ を表現すればよい.\n",
    "\n",
    "- $a + b \\leq 2 c$\n",
    "- $c \\leq a + b$"
   ]
  },
  {
   "cell_type": "code",
   "execution_count": null,
   "id": "emfo",
   "metadata": {},
   "outputs": [
    {
     "name": "stdout",
     "output_type": "stream",
     "text": [
      "A=0 B=0 AorB=0 \n",
      "A=0 B=1 AorB=1 \n",
      "A=1 B=1 AorB=1 \n",
      "A=1 B=0 AorB=1 \n"
     ]
    }
   ],
   "source": [
    "_model = cp_model.CpModel()\n",
    "_a = _model.new_bool_var(\"A\")\n",
    "_b = _model.new_bool_var(\"B\")\n",
    "_c = _model.new_bool_var(f\"{_a}or{_b}\")\n",
    "_model.add(_a + _b <= 2 * _c)\n",
    "_model.add(_c <= _a + _b)\n",
    "_solver = cp_model.CpSolver()\n",
    "_solution_printer = VarArraySolutionPrinter([_a, _b, _c])\n",
    "_solver.parameters.enumerate_all_solutions = True\n",
    "_status = _solver.solve(_model, _solution_printer)"
   ]
  },
  {
   "cell_type": "markdown",
   "id": "Hstk",
   "metadata": {
    "marimo": {
     "config": {
      "hide_code": true
     }
    }
   },
   "source": [
    "### NAND"
   ]
  },
  {
   "cell_type": "markdown",
   "id": "nWHF",
   "metadata": {
    "marimo": {
     "config": {
      "hide_code": true
     }
    }
   },
   "source": [
    "AND の定式化における $c$ を $1 - c$ に置き換えればよい.\n",
    "\n",
    "- $a + b \\leq 1 + (1 - c)$\n",
    "- $2 (1 - c) \\leq a + b$\n",
    "\n",
    "あるいは AND で定式化した $c$ に対して $1 - c$ を用いる."
   ]
  },
  {
   "cell_type": "code",
   "execution_count": null,
   "id": "iLit",
   "metadata": {},
   "outputs": [
    {
     "name": "stdout",
     "output_type": "stream",
     "text": [
      "A=1 B=1 AnandB=0 \n",
      "A=1 B=0 AnandB=1 \n",
      "A=0 B=0 AnandB=1 \n",
      "A=0 B=1 AnandB=1 \n"
     ]
    }
   ],
   "source": [
    "_model = cp_model.CpModel()\n",
    "_a = _model.new_bool_var(\"A\")\n",
    "_b = _model.new_bool_var(\"B\")\n",
    "_c = _model.new_bool_var(f\"{_a}nand{_b}\")\n",
    "_model.add(_a + _b <= 1 + (1 - _c))\n",
    "_model.add(2 * (1 - _c) <= _a + _b)\n",
    "_solver = cp_model.CpSolver()\n",
    "_solution_printer = VarArraySolutionPrinter([_a, _b, _c])\n",
    "_solver.parameters.enumerate_all_solutions = True\n",
    "_status = _solver.solve(_model, _solution_printer)"
   ]
  },
  {
   "cell_type": "markdown",
   "id": "ZHCJ",
   "metadata": {
    "marimo": {
     "config": {
      "hide_code": true
     }
    }
   },
   "source": [
    "### NOR"
   ]
  },
  {
   "cell_type": "markdown",
   "id": "ROlb",
   "metadata": {
    "marimo": {
     "config": {
      "hide_code": true
     }
    }
   },
   "source": [
    "OR の定式化における $c$ を $1 - c$ に置き換えれば良い.\n",
    "\n",
    "- $a + b \\leq 2 (1 - c)$\n",
    "- $1 - c \\leq a + b$\n",
    "\n",
    "あるいは OR で定式化した $c$ に対して $1 - c$ を用いる."
   ]
  },
  {
   "cell_type": "code",
   "execution_count": null,
   "id": "qnkX",
   "metadata": {},
   "outputs": [
    {
     "name": "stdout",
     "output_type": "stream",
     "text": [
      "A=0 B=1 AnorB=0 \n",
      "A=0 B=0 AnorB=1 \n",
      "A=1 B=0 AnorB=0 \n",
      "A=1 B=1 AnorB=0 \n"
     ]
    }
   ],
   "source": [
    "_model = cp_model.CpModel()\n",
    "_a = _model.new_bool_var(\"A\")\n",
    "_b = _model.new_bool_var(\"B\")\n",
    "_c = _model.new_bool_var(f\"{_a}nor{_b}\")\n",
    "_model.add(_a + _b <= 2 * (1 - _c))\n",
    "_model.add(1 - _c <= _a + _b)\n",
    "_solver = cp_model.CpSolver()\n",
    "_solution_printer = VarArraySolutionPrinter([_a, _b, _c])\n",
    "_solver.parameters.enumerate_all_solutions = True\n",
    "_status = _solver.solve(_model, _solution_printer)"
   ]
  },
  {
   "cell_type": "markdown",
   "id": "TqIu",
   "metadata": {
    "marimo": {
     "config": {
      "hide_code": true
     }
    }
   },
   "source": [
    "### XOR"
   ]
  },
  {
   "cell_type": "markdown",
   "id": "Vxnm",
   "metadata": {
    "marimo": {
     "config": {
      "hide_code": true
     }
    }
   },
   "source": [
    "$(a = 0 \\land b = 0) \\Rightarrow c = 0$, $(a = 1 \\land b = 1) \\Rightarrow c = 0$, $(a = 1 \\land b = 0) \\Rightarrow c = 1$, $(a = 0 \\land b = 1) \\Rightarrow c = 1$ を全て表現する.\n",
    "\n",
    "- $(1 - a) + (1 - b) \\leq 1 + (1 - c)$\n",
    "- $a + b \\leq 1 + (1 - c)$\n",
    "- $a + (1 - b) \\leq 1 + c$\n",
    "- $(1 - a) + b \\leq 1 + c$"
   ]
  },
  {
   "cell_type": "code",
   "execution_count": null,
   "id": "DnEU",
   "metadata": {},
   "outputs": [
    {
     "name": "stdout",
     "output_type": "stream",
     "text": [
      "A=0 B=0 AxorB=0 \n",
      "A=0 B=1 AxorB=1 \n",
      "A=1 B=1 AxorB=0 \n",
      "A=1 B=0 AxorB=1 \n"
     ]
    }
   ],
   "source": [
    "_model = cp_model.CpModel()\n",
    "_a = _model.new_bool_var(\"A\")\n",
    "_b = _model.new_bool_var(\"B\")\n",
    "_c = _model.new_bool_var(f\"{_a}xor{_b}\")\n",
    "_model.add(1 - _a + (1 - _b) <= 1 + (1 - _c))\n",
    "_model.add(_a + _b <= 1 + (1 - _c))\n",
    "_model.add(_a + (1 - _b) <= 1 + _c)\n",
    "_model.add(1 - _a + _b <= 1 + _c)\n",
    "_solver = cp_model.CpSolver()\n",
    "_solution_printer = VarArraySolutionPrinter([_a, _b, _c])\n",
    "_solver.parameters.enumerate_all_solutions = True\n",
    "_status = _solver.solve(_model, _solution_printer)"
   ]
  },
  {
   "cell_type": "markdown",
   "id": "ulZA",
   "metadata": {
    "marimo": {
     "config": {
      "hide_code": true
     }
    }
   },
   "source": [
    "### XNOR"
   ]
  },
  {
   "cell_type": "markdown",
   "id": "ecfG",
   "metadata": {
    "marimo": {
     "config": {
      "hide_code": true
     }
    }
   },
   "source": [
    "XOR の定式化における $c$ を $1 - c$ に置き換えれば良い.\n",
    "\n",
    "- $(1 - a) + (1 - b) \\leq 1 + c$\n",
    "- $a + b \\leq 1 + c$\n",
    "- $a + (1 - b) \\leq 1 + (1 - c)$\n",
    "- $(1 - a) + b \\leq 1 + (1 - c)$\n",
    "\n",
    "あるいは XOR で定式化した $c$ に対して $1 - c$ を用いる."
   ]
  },
  {
   "cell_type": "code",
   "execution_count": null,
   "id": "Pvdt",
   "metadata": {},
   "outputs": [
    {
     "name": "stdout",
     "output_type": "stream",
     "text": [
      "A=0 B=1 AxorB=0 \n",
      "A=0 B=0 AxorB=1 \n",
      "A=1 B=0 AxorB=0 \n",
      "A=1 B=1 AxorB=1 \n"
     ]
    }
   ],
   "source": [
    "_model = cp_model.CpModel()\n",
    "_a = _model.new_bool_var(\"A\")\n",
    "_b = _model.new_bool_var(\"B\")\n",
    "_c = _model.new_bool_var(f\"{_a}xor{_b}\")\n",
    "_model.add(1 - _a + (1 - _b) <= 1 + _c)\n",
    "_model.add(_a + _b <= 1 + _c)\n",
    "_model.add(_a + (1 - _b) <= 1 + (1 - _c))\n",
    "_model.add(1 - _a + _b <= 1 + (1 - _c))\n",
    "_solver = cp_model.CpSolver()\n",
    "_solution_printer = VarArraySolutionPrinter([_a, _b, _c])\n",
    "_solver.parameters.enumerate_all_solutions = True\n",
    "_status = _solver.solve(_model, _solution_printer)"
   ]
  }
 ],
 "metadata": {},
 "nbformat": 4,
 "nbformat_minor": 5
}
