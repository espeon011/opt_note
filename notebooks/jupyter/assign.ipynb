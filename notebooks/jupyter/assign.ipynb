{
 "cells": [
  {
   "cell_type": "code",
   "execution_count": null,
   "id": "Hbol",
   "metadata": {},
   "outputs": [],
   "source": [
    "import marimo as mo"
   ]
  },
  {
   "cell_type": "markdown",
   "id": "MJUe",
   "metadata": {
    "marimo": {
     "config": {
      "hide_code": true
     }
    }
   },
   "source": [
    "# 割当問題"
   ]
  },
  {
   "cell_type": "code",
   "execution_count": null,
   "id": "vblA",
   "metadata": {},
   "outputs": [],
   "source": [
    "import numpy as np\n",
    "from scipy.optimize import linear_sum_assignment\n",
    "from ortools.math_opt.python import mathopt\n",
    "import time"
   ]
  },
  {
   "cell_type": "code",
   "execution_count": null,
   "id": "bkHC",
   "metadata": {},
   "outputs": [],
   "source": [
    "n = 1000\n",
    "np.random.seed(seed=0)\n",
    "cost = np.random.randint(100, 1000, size=(n, n))\n",
    "v = list(range(n))"
   ]
  },
  {
   "cell_type": "code",
   "execution_count": null,
   "id": "lEQa",
   "metadata": {},
   "outputs": [
    {
     "name": "stdout",
     "output_type": "stream",
     "text": [
      "100961\n",
      "Wall time: 0.019531726837158203 s\n"
     ]
    }
   ],
   "source": [
    "_start = time.time()\n",
    "row_ind, col_ind = linear_sum_assignment(cost)\n",
    "_end = time.time()\n",
    "_elapsed = _end - _start\n",
    "print(cost[row_ind, col_ind].sum())\n",
    "print(f\"Wall time: {_elapsed} s\")"
   ]
  },
  {
   "cell_type": "code",
   "execution_count": null,
   "id": "PKri",
   "metadata": {},
   "outputs": [],
   "source": [
    "model = mathopt.Model(name=\"assign\")\n",
    "\n",
    "x = {}\n",
    "for i in v:\n",
    "    for j in v:\n",
    "        # x[i, j] = model.add_binary_variable(name=f\"x[{i},{j}]\")\n",
    "        x[i, j] = model.add_variable(lb=0, ub=1, name=f\"x[{j},{i}]\") # 割り当て問題は連続変数でも解が 0 か 1 になる\n",
    "\n",
    "for j in v:\n",
    "    model.add_linear_constraint(sum(x[i, j] for i in v) == 1)\n",
    "for i in v:\n",
    "    model.add_linear_constraint(sum(x[i, j] for j in v) == 1)\n",
    "\n",
    "model.minimize(sum(cost[i, j] * x[i, j] for i in v for j in v))"
   ]
  },
  {
   "cell_type": "code",
   "execution_count": null,
   "id": "Xref",
   "metadata": {},
   "outputs": [
    {
     "name": "stdout",
     "output_type": "stream",
     "text": [
      "presolving:\n"
     ]
    },
    {
     "name": "stdout",
     "output_type": "stream",
     "text": [
      "   Deactivated symmetry handling methods, since SCIP was built without symmetry detector (SYM=none).\n"
     ]
    },
    {
     "name": "stdout",
     "output_type": "stream",
     "text": [
      "   Deactivated symmetry handling methods, since SCIP was built without symmetry detector (SYM=none).\n"
     ]
    },
    {
     "name": "stdout",
     "output_type": "stream",
     "text": [
      "presolving (1 rounds: 1 fast, 1 medium, 1 exhaustive):\n",
      " 0 deleted vars, 0 deleted constraints, 0 added constraints, 0 tightened bounds, 0 added holes, 0 changed sides, 0 changed coefficients\n",
      " 0 implications, 0 cliques\n",
      "presolved problem has 1000000 variables (0 bin, 0 int, 0 impl, 1000000 cont) and 2000 constraints\n",
      "   2000 constraints of type <linear>\n",
      "Presolving Time: 1.86\n"
     ]
    },
    {
     "name": "stdout",
     "output_type": "stream",
     "text": [
      "\n"
     ]
    },
    {
     "name": "stdout",
     "output_type": "stream",
     "text": [
      " time | node  | left  |LP iter|LP it/n|mem/heur|mdpt |vars |cons |rows |cuts |sepa|confs|strbr|  dualbound   | primalbound  |  gap   | compl. \n",
      "* 4.8s|     1 |     0 |  2462 |     - |    LP  |   0 |1000k|2000 |2000 |   0 |  0 |   0 |   0 | 1.009610e+05 | 1.009610e+05 |   0.00%| unknown\n",
      "  4.8s|     1 |     0 |  2462 |     - |  3546M |   0 |1000k|2000 |2000 |   0 |  0 |   0 |   0 | 1.009610e+05 | 1.009610e+05 |   0.00%| unknown\n",
      "\n",
      "SCIP Status        : problem is solved [optimal solution found]\n",
      "Solving Time (sec) : 4.81\n",
      "Solving Nodes      : 1\n",
      "Primal Bound       : +1.00961000000000e+05 (1 solutions)\n",
      "Dual Bound         : +1.00961000000000e+05\n",
      "Gap                : 0.00 %\n"
     ]
    }
   ],
   "source": [
    "_params = mathopt.SolveParameters(enable_output=True)\n",
    "_result = mathopt.solve(model, mathopt.SolverType.GSCIP, params=_params)\n",
    "if _result.termination.reason != mathopt.TerminationReason.OPTIMAL:\n",
    "    raise RuntimeError(f'model failed to solve: {_result.termination}')"
   ]
  },
  {
   "cell_type": "code",
   "execution_count": null,
   "id": "SFPL",
   "metadata": {},
   "outputs": [
    {
     "name": "stdout",
     "output_type": "stream",
     "text": [
      "Coefficient ranges:\n",
      "  Matrix [1e+00, 1e+00]\n",
      "  Cost   [1e+02, 1e+03]\n",
      "  Bound  [1e+00, 1e+00]\n",
      "  RHS    [1e+00, 1e+00]\n"
     ]
    },
    {
     "name": "stdout",
     "output_type": "stream",
     "text": [
      "Presolving model\n"
     ]
    },
    {
     "name": "stdout",
     "output_type": "stream",
     "text": [
      "2000 rows, 1000000 cols, 2000000 nonzeros  0s\n"
     ]
    },
    {
     "name": "stdout",
     "output_type": "stream",
     "text": [
      "1999 rows, 1000000 cols, 1999000 nonzeros  1s\n"
     ]
    },
    {
     "name": "stdout",
     "output_type": "stream",
     "text": [
      "Presolve : Reductions: rows 1999(-1); columns 1000000(-0); elements 1999000(-1000)\n",
      "Solving the presolved LP\n"
     ]
    },
    {
     "name": "stdout",
     "output_type": "stream",
     "text": [
      "Using EKK dual simplex solver - serial\n"
     ]
    },
    {
     "name": "stdout",
     "output_type": "stream",
     "text": [
      "  Iteration        Objective     Infeasibilities num(sum)\n",
      "          0     0.0000000000e+00 Pr: 1999(1999) 2s\n"
     ]
    },
    {
     "name": "stdout",
     "output_type": "stream",
     "text": [
      "       9204     1.0096100000e+05 Pr: 0(0) 5s\n"
     ]
    },
    {
     "name": "stdout",
     "output_type": "stream",
     "text": [
      "Solving the original LP from the solution after postsolve\n"
     ]
    },
    {
     "name": "stdout",
     "output_type": "stream",
     "text": [
      "Model   status      : Optimal\n",
      "Simplex   iterations: 9204\n",
      "Objective value     :  1.0096100000e+05\n",
      "HiGHS run time      :          5.07\n"
     ]
    }
   ],
   "source": [
    "_params = mathopt.SolveParameters(enable_output=True)\n",
    "_result = mathopt.solve(model, mathopt.SolverType.HIGHS, params=_params)\n",
    "if _result.termination.reason != mathopt.TerminationReason.OPTIMAL:\n",
    "    raise RuntimeError(f'model failed to solve: {_result.termination}')"
   ]
  },
  {
   "cell_type": "code",
   "execution_count": null,
   "id": "BYtC",
   "metadata": {},
   "outputs": [
    {
     "name": "stdout",
     "output_type": "stream",
     "text": [
      "\n",
      "Initial problem: 2000 rows, 1000000 columns, 2000000 entries with magnitude in [1.000000e+00, 1.000000e+00]\n",
      "Objective stats: 1000000 non-zeros, range [1.000000e+02, 9.990000e+02]\n",
      "Bounds stats: 1004000 non-zeros, range [1.000000e+00, 1.000000e+00]\n"
     ]
    },
    {
     "name": "stdout",
     "output_type": "stream",
     "text": [
      "Parameters: log_search_progress: true\n"
     ]
    },
    {
     "name": "stdout",
     "output_type": "stream",
     "text": [
      "\n",
      "Starting presolve...\n"
     ]
    },
    {
     "name": "stdout",
     "output_type": "stream",
     "text": [
      "Reached fixed point after presolve pass #0\n"
     ]
    },
    {
     "name": "stdout",
     "output_type": "stream",
     "text": [
      "ScalingPreprocessor                          : 2000(0) rows, 1000000(0) columns, 2000000(0) entries. (0.031822s)\n",
      "\n",
      "Presolved problem: 2000 rows, 1000000 columns, 2000000 entries with magnitude in [1.000000e+00, 1.000000e+00]\n",
      "Objective stats: 1000000 non-zeros, range [1.000000e+00, 9.990000e+00]\n",
      "Bounds stats: 1004000 non-zeros, range [1.000000e+00, 1.000000e+00]\n",
      "\n"
     ]
    },
    {
     "name": "stdout",
     "output_type": "stream",
     "text": [
      "Starting basis: create from scratch.\n",
      "Trying to remove 2000 fixed variables from the initial basis.\n"
     ]
    },
    {
     "name": "stdout",
     "output_type": "stream",
     "text": [
      "The matrix with slacks has 2000 rows, 1002000 columns, 2002000 entries.\n",
      "Number of basic infeasible variables: 478\n",
      "Number of basic slack variables: 1\n",
      "Number of basic variables at bound: 1521\n",
      "Number of basic fixed variables: 1\n",
      "Number of basic free variables: 0\n",
      "Number of super-basic variables: 0\n",
      "\n",
      "Primal feasibility phase, iteration # 0, sum_primal_infeasibilities = 1.179000000000000E+03 [norms]\n"
     ]
    },
    {
     "name": "stdout",
     "output_type": "stream",
     "text": [
      "Primal feasibility phase, iteration # 65, sum_primal_infeasibilities = 2.980000000000000E+02\n"
     ]
    },
    {
     "name": "stdout",
     "output_type": "stream",
     "text": [
      "Primal feasibility phase, iteration # 130, sum_primal_infeasibilities = 7.900000000000000E+01\n"
     ]
    },
    {
     "name": "stdout",
     "output_type": "stream",
     "text": [
      "Primal feasibility phase, iteration # 196, sum_primal_infeasibilities = 2.100000000000000E+01\n"
     ]
    },
    {
     "name": "stdout",
     "output_type": "stream",
     "text": [
      "Primal feasibility phase, iteration # 233, sum_primal_infeasibilities = 0.000000000000000E+00 [check]\n",
      "Current status: PRIMAL_FEASIBLE\n",
      "Primal infeasibility (bounds) = 0\n",
      "Primal residual |A.x - b| = 0\n",
      "Dual infeasibility (reduced costs) = 44.33\n",
      "Dual residual |c_B - y.B| = 1.77636e-15\n",
      "\n"
     ]
    },
    {
     "name": "stdout",
     "output_type": "stream",
     "text": [
      "Primal optimization phase, iteration # 0, objective = 1.731440000000000E+05\n"
     ]
    },
    {
     "name": "stdout",
     "output_type": "stream",
     "text": [
      "Primal optimization phase, iteration # 69, objective = 1.634399999725941E+05\n"
     ]
    },
    {
     "name": "stdout",
     "output_type": "stream",
     "text": [
      "Primal optimization phase, iteration # 136, objective = 1.548749999556949E+05\n"
     ]
    },
    {
     "name": "stdout",
     "output_type": "stream",
     "text": [
      "Primal optimization phase, iteration # 207, objective = 1.447689999332502E+05\n"
     ]
    },
    {
     "name": "stdout",
     "output_type": "stream",
     "text": [
      "Primal optimization phase, iteration # 277, objective = 1.375549999169285E+05\n"
     ]
    },
    {
     "name": "stdout",
     "output_type": "stream",
     "text": [
      "Primal optimization phase, iteration # 343, objective = 1.320489999050237E+05\n"
     ]
    },
    {
     "name": "stdout",
     "output_type": "stream",
     "text": [
      "Primal optimization phase, iteration # 412, objective = 1.258259999023975E+05\n"
     ]
    },
    {
     "name": "stdout",
     "output_type": "stream",
     "text": [
      "Primal optimization phase, iteration # 483, objective = 1.219919998919854E+05\n"
     ]
    },
    {
     "name": "stdout",
     "output_type": "stream",
     "text": [
      "Primal optimization phase, iteration # 552, objective = 1.196269998792222E+05\n"
     ]
    },
    {
     "name": "stdout",
     "output_type": "stream",
     "text": [
      "Primal optimization phase, iteration # 619, objective = 1.158199998762870E+05\n"
     ]
    },
    {
     "name": "stdout",
     "output_type": "stream",
     "text": [
      "Primal optimization phase, iteration # 690, objective = 1.129219998714686E+05\n"
     ]
    },
    {
     "name": "stdout",
     "output_type": "stream",
     "text": [
      "Primal optimization phase, iteration # 759, objective = 1.107359998638924E+05\n"
     ]
    },
    {
     "name": "stdout",
     "output_type": "stream",
     "text": [
      "Primal optimization phase, iteration # 824, objective = 1.098019998593217E+05\n",
      "Primal optimization phase, iteration # 825, objective = 1.095359998593217E+05\n"
     ]
    },
    {
     "name": "stdout",
     "output_type": "stream",
     "text": [
      "Primal optimization phase, iteration # 893, objective = 1.075559998590677E+05\n"
     ]
    },
    {
     "name": "stdout",
     "output_type": "stream",
     "text": [
      "Primal optimization phase, iteration # 958, objective = 1.068709998577139E+05\n"
     ]
    },
    {
     "name": "stdout",
     "output_type": "stream",
     "text": [
      "Primal optimization phase, iteration # 1024, objective = 1.062149998609649E+05\n"
     ]
    },
    {
     "name": "stdout",
     "output_type": "stream",
     "text": [
      "Primal optimization phase, iteration # 1089, objective = 1.057819998551867E+05\n"
     ]
    },
    {
     "name": "stdout",
     "output_type": "stream",
     "text": [
      "Primal optimization phase, iteration # 1154, objective = 1.048739998570503E+05\n"
     ]
    },
    {
     "name": "stdout",
     "output_type": "stream",
     "text": [
      "Primal optimization phase, iteration # 1221, objective = 1.043359998557528E+05\n"
     ]
    },
    {
     "name": "stdout",
     "output_type": "stream",
     "text": [
      "Primal optimization phase, iteration # 1288, objective = 1.039179998536205E+05\n"
     ]
    },
    {
     "name": "stdout",
     "output_type": "stream",
     "text": [
      "Primal optimization phase, iteration # 1353, objective = 1.037029998533167E+05\n"
     ]
    },
    {
     "name": "stdout",
     "output_type": "stream",
     "text": [
      "Primal optimization phase, iteration # 1418, objective = 1.035679998491060E+05\n"
     ]
    },
    {
     "name": "stdout",
     "output_type": "stream",
     "text": [
      "Primal optimization phase, iteration # 1483, objective = 1.032409998522020E+05\n"
     ]
    },
    {
     "name": "stdout",
     "output_type": "stream",
     "text": [
      "Primal optimization phase, iteration # 1549, objective = 1.028839998509777E+05\n"
     ]
    },
    {
     "name": "stdout",
     "output_type": "stream",
     "text": [
      "Primal optimization phase, iteration # 1614, objective = 1.026449998522521E+05\n"
     ]
    },
    {
     "name": "stdout",
     "output_type": "stream",
     "text": [
      "Primal optimization phase, iteration # 1679, objective = 1.025109998509504E+05\n"
     ]
    },
    {
     "name": "stdout",
     "output_type": "stream",
     "text": [
      "Primal optimization phase, iteration # 1745, objective = 1.024259998503299E+05\n"
     ]
    },
    {
     "name": "stdout",
     "output_type": "stream",
     "text": [
      "Primal optimization phase, iteration # 1810, objective = 1.022669998534638E+05\n"
     ]
    },
    {
     "name": "stdout",
     "output_type": "stream",
     "text": [
      "Primal optimization phase, iteration # 1875, objective = 1.021529998511346E+05\n"
     ]
    },
    {
     "name": "stdout",
     "output_type": "stream",
     "text": [
      "Primal optimization phase, iteration # 1940, objective = 1.020689998490457E+05\n"
     ]
    },
    {
     "name": "stdout",
     "output_type": "stream",
     "text": [
      "Primal optimization phase, iteration # 2005, objective = 1.019549998485519E+05\n"
     ]
    },
    {
     "name": "stdout",
     "output_type": "stream",
     "text": [
      "Primal optimization phase, iteration # 2070, objective = 1.018349998492055E+05\n"
     ]
    },
    {
     "name": "stdout",
     "output_type": "stream",
     "text": [
      "Primal optimization phase, iteration # 2135, objective = 1.017619998494189E+05\n"
     ]
    },
    {
     "name": "stdout",
     "output_type": "stream",
     "text": [
      "Primal optimization phase, iteration # 2200, objective = 1.016969998501390E+05\n"
     ]
    },
    {
     "name": "stdout",
     "output_type": "stream",
     "text": [
      "Primal optimization phase, iteration # 2265, objective = 1.016679998492189E+05\n"
     ]
    },
    {
     "name": "stdout",
     "output_type": "stream",
     "text": [
      "Primal optimization phase, iteration # 2331, objective = 1.016449998485334E+05\n"
     ]
    },
    {
     "name": "stdout",
     "output_type": "stream",
     "text": [
      "Primal optimization phase, iteration # 2396, objective = 1.015669998492457E+05\n"
     ]
    },
    {
     "name": "stdout",
     "output_type": "stream",
     "text": [
      "Primal optimization phase, iteration # 2461, objective = 1.015399998490533E+05\n"
     ]
    },
    {
     "name": "stdout",
     "output_type": "stream",
     "text": [
      "Primal optimization phase, iteration # 2526, objective = 1.015119998477775E+05\n"
     ]
    },
    {
     "name": "stdout",
     "output_type": "stream",
     "text": [
      "Primal optimization phase, iteration # 2591, objective = 1.014729998483882E+05\n"
     ]
    },
    {
     "name": "stdout",
     "output_type": "stream",
     "text": [
      "Primal optimization phase, iteration # 2657, objective = 1.014309998494386E+05\n"
     ]
    },
    {
     "name": "stdout",
     "output_type": "stream",
     "text": [
      "Primal optimization phase, iteration # 2722, objective = 1.013879998501321E+05\n"
     ]
    },
    {
     "name": "stdout",
     "output_type": "stream",
     "text": [
      "Primal optimization phase, iteration # 2787, objective = 1.013879998465984E+05\n"
     ]
    },
    {
     "name": "stdout",
     "output_type": "stream",
     "text": [
      "Primal optimization phase, iteration # 2852, objective = 1.013319998486356E+05\n"
     ]
    },
    {
     "name": "stdout",
     "output_type": "stream",
     "text": [
      "Primal optimization phase, iteration # 2917, objective = 1.013319998474580E+05\n"
     ]
    },
    {
     "name": "stdout",
     "output_type": "stream",
     "text": [
      "Primal optimization phase, iteration # 2983, objective = 1.012689998488078E+05\n"
     ]
    },
    {
     "name": "stdout",
     "output_type": "stream",
     "text": [
      "Primal optimization phase, iteration # 3049, objective = 1.012609998471523E+05\n"
     ]
    },
    {
     "name": "stdout",
     "output_type": "stream",
     "text": [
      "Primal optimization phase, iteration # 3114, objective = 1.012149998484910E+05\n"
     ]
    },
    {
     "name": "stdout",
     "output_type": "stream",
     "text": [
      "Primal optimization phase, iteration # 3179, objective = 1.012149998477648E+05\n"
     ]
    },
    {
     "name": "stdout",
     "output_type": "stream",
     "text": [
      "Primal optimization phase, iteration # 3244, objective = 1.011889998483448E+05\n"
     ]
    },
    {
     "name": "stdout",
     "output_type": "stream",
     "text": [
      "Primal optimization phase, iteration # 3309, objective = 1.011669998483890E+05\n"
     ]
    },
    {
     "name": "stdout",
     "output_type": "stream",
     "text": [
      "Primal optimization phase, iteration # 3374, objective = 1.011669998476421E+05\n"
     ]
    },
    {
     "name": "stdout",
     "output_type": "stream",
     "text": [
      "Primal optimization phase, iteration # 3439, objective = 1.011449998472155E+05\n"
     ]
    },
    {
     "name": "stdout",
     "output_type": "stream",
     "text": [
      "Primal optimization phase, iteration # 3504, objective = 1.011169998482170E+05\n"
     ]
    },
    {
     "name": "stdout",
     "output_type": "stream",
     "text": [
      "Primal optimization phase, iteration # 3569, objective = 1.011069998479231E+05\n"
     ]
    },
    {
     "name": "stdout",
     "output_type": "stream",
     "text": [
      "Primal optimization phase, iteration # 3634, objective = 1.011069998471288E+05\n"
     ]
    },
    {
     "name": "stdout",
     "output_type": "stream",
     "text": [
      "Primal optimization phase, iteration # 3699, objective = 1.010799998478646E+05\n"
     ]
    },
    {
     "name": "stdout",
     "output_type": "stream",
     "text": [
      "Primal optimization phase, iteration # 3764, objective = 1.010799998474537E+05\n"
     ]
    },
    {
     "name": "stdout",
     "output_type": "stream",
     "text": [
      "Primal optimization phase, iteration # 3829, objective = 1.010559998479542E+05\n"
     ]
    },
    {
     "name": "stdout",
     "output_type": "stream",
     "text": [
      "Primal optimization phase, iteration # 3895, objective = 1.010539998474910E+05\n"
     ]
    },
    {
     "name": "stdout",
     "output_type": "stream",
     "text": [
      "Primal optimization phase, iteration # 3960, objective = 1.010389998473642E+05\n"
     ]
    },
    {
     "name": "stdout",
     "output_type": "stream",
     "text": [
      "Primal optimization phase, iteration # 4025, objective = 1.010249998475518E+05\n"
     ]
    },
    {
     "name": "stdout",
     "output_type": "stream",
     "text": [
      "Primal optimization phase, iteration # 4090, objective = 1.010189998474250E+05\n"
     ]
    },
    {
     "name": "stdout",
     "output_type": "stream",
     "text": [
      "Primal optimization phase, iteration # 4155, objective = 1.010189998472088E+05\n"
     ]
    },
    {
     "name": "stdout",
     "output_type": "stream",
     "text": [
      "Primal optimization phase, iteration # 4220, objective = 1.010009998475080E+05\n"
     ]
    },
    {
     "name": "stdout",
     "output_type": "stream",
     "text": [
      "Primal optimization phase, iteration # 4285, objective = 1.009949998475502E+05\n"
     ]
    },
    {
     "name": "stdout",
     "output_type": "stream",
     "text": [
      "Primal optimization phase, iteration # 4350, objective = 1.009949998472262E+05\n"
     ]
    },
    {
     "name": "stdout",
     "output_type": "stream",
     "text": [
      "Primal optimization phase, iteration # 4415, objective = 1.009949998468496E+05\n"
     ]
    },
    {
     "name": "stdout",
     "output_type": "stream",
     "text": [
      "Primal optimization phase, iteration # 4480, objective = 1.009809998474125E+05\n"
     ]
    },
    {
     "name": "stdout",
     "output_type": "stream",
     "text": [
      "Primal optimization phase, iteration # 4545, objective = 1.009809998472084E+05\n"
     ]
    },
    {
     "name": "stdout",
     "output_type": "stream",
     "text": [
      "Primal optimization phase, iteration # 4610, objective = 1.009719998474856E+05\n"
     ]
    },
    {
     "name": "stdout",
     "output_type": "stream",
     "text": [
      "Primal optimization phase, iteration # 4675, objective = 1.009699998474010E+05\n"
     ]
    },
    {
     "name": "stdout",
     "output_type": "stream",
     "text": [
      "Primal optimization phase, iteration # 4740, objective = 1.009669998474645E+05\n"
     ]
    },
    {
     "name": "stdout",
     "output_type": "stream",
     "text": [
      "Primal optimization phase, iteration # 4805, objective = 1.009639998474439E+05\n"
     ]
    },
    {
     "name": "stdout",
     "output_type": "stream",
     "text": [
      "Primal optimization phase, iteration # 4870, objective = 1.009629998473760E+05\n"
     ]
    },
    {
     "name": "stdout",
     "output_type": "stream",
     "text": [
      "Primal optimization phase, iteration # 4935, objective = 1.009609998473882E+05\n"
     ]
    },
    {
     "name": "stdout",
     "output_type": "stream",
     "text": [
      "Primal optimization phase, iteration # 4978, objective = 1.009609998473471E+05 [check]\n",
      "Current status: OPTIMAL\n",
      "Primal infeasibility (bounds) = 0\n",
      "Primal residual |A.x - b| = 0\n"
     ]
    },
    {
     "name": "stdout",
     "output_type": "stream",
     "text": [
      "Dual infeasibility (reduced costs) = 0\n",
      "Dual residual |c_B - y.B| = 0\n",
      "\n",
      "Final unscaled solution:\n"
     ]
    },
    {
     "name": "stdout",
     "output_type": "stream",
     "text": [
      "Primal objective (before moving primal/dual values) = 1.009610000000000E+05\n",
      "Dual objective (before moving primal/dual values) = 1.009610000000000E+05\n",
      "Max. primal values move = 0\n",
      "Max. dual values move = 0\n",
      "Primal objective (after moving primal/dual values) = 1.009610000000000E+05\n",
      "Max. rhs perturbation = 0\n",
      "Max. cost perturbation = 1.42109e-14\n"
     ]
    },
    {
     "name": "stdout",
     "output_type": "stream",
     "text": [
      "Max. primal infeasibility = 0\n",
      "Max. dual infeasibility = 0\n",
      "Objective error <= 549.78\n",
      "status: OPTIMAL\n",
      "objective: 100961\n",
      "iterations: 5211\n",
      "time: 8.53399\n",
      "deterministic_time: 9.12147\n",
      "\n"
     ]
    }
   ],
   "source": [
    "_params = mathopt.SolveParameters(enable_output=True)\n",
    "_result = mathopt.solve(model, mathopt.SolverType.GLOP, params=_params)\n",
    "if _result.termination.reason != mathopt.TerminationReason.OPTIMAL:\n",
    "    raise RuntimeError(f'model failed to solve: {_result.termination}')"
   ]
  },
  {
   "cell_type": "code",
   "execution_count": null,
   "id": "RGSE",
   "metadata": {},
   "outputs": [],
   "source": []
  }
 ],
 "metadata": {},
 "nbformat": 4,
 "nbformat_minor": 5
}
