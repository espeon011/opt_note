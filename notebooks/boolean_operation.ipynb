{
 "cells": [
  {
   "cell_type": "markdown",
   "id": "02b3815e-5858-4380-8f6f-2c124b2ec97b",
   "metadata": {},
   "source": [
    "# MIP における論理演算の扱い"
   ]
  },
  {
   "cell_type": "markdown",
   "id": "93cc056b-09f0-4ad2-b5d8-392ae7c10e08",
   "metadata": {},
   "source": [
    "$a, b$ を 0-1 決定変数とする. \n",
    "このとき以下のような制約を持つ決定変数 $c$ の定め方を説明する.\n",
    "\n",
    "- AND: $c = a \\land b$\n",
    "- OR: $c = a \\lor b$\n",
    "- NAND: $c = a \\uparrow b$\n",
    "- NOR: $c = a \\downarrow b$\n",
    "- XOR: $c = a \\veebar b$\n",
    "- XNOR: $c = (a \\Leftrightarrow b)$"
   ]
  },
  {
   "cell_type": "markdown",
   "id": "4ea0b6c4-f929-4523-8958-c58b2b22ecac",
   "metadata": {},
   "source": [
    "## 定式化と実装"
   ]
  },
  {
   "cell_type": "code",
   "execution_count": 1,
   "id": "6d3a84c6-4d9c-41b3-9761-20ab6097705d",
   "metadata": {},
   "outputs": [],
   "source": [
    "from ortools.sat.python import cp_model"
   ]
  },
  {
   "cell_type": "code",
   "execution_count": 2,
   "id": "ac63c6b3-5869-4e38-b1df-df07268d962a",
   "metadata": {},
   "outputs": [],
   "source": [
    "class VarArraySolutionPrinter(cp_model.CpSolverSolutionCallback):\n",
    "    def __init__(self, variables):\n",
    "        cp_model.CpSolverSolutionCallback.__init__(self)\n",
    "        self.__variables = variables\n",
    "        self.__solution_count = 0\n",
    "\n",
    "    def on_solution_callback(self):\n",
    "        self.__solution_count += 1\n",
    "        for v in self.__variables:\n",
    "            print(f\"{v}={self.value(v)}\", end=\" \")\n",
    "        print()\n",
    "\n",
    "    @property\n",
    "    def solution_count(self):\n",
    "        return self.__solution_count"
   ]
  },
  {
   "cell_type": "markdown",
   "id": "9e6508a0-a211-4996-887c-0f3a9bc21e75",
   "metadata": {},
   "source": [
    "### AND"
   ]
  },
  {
   "cell_type": "markdown",
   "id": "f12dc605-c18a-4f9e-8613-c7a374258f4d",
   "metadata": {},
   "source": [
    "$a \\land b \\Rightarrow c$ と $c \\Rightarrow a \\land b$ を表現すればよい. \n",
    "($x \\Rightarrow y$ は $x \\leq y$ で書けることに注意)\n",
    "\n",
    "- $a + b \\leq 1 + c$\n",
    "- $2 c \\leq a + b$"
   ]
  },
  {
   "cell_type": "code",
   "execution_count": 3,
   "id": "e4817564-153f-454f-a32f-5e15006f8083",
   "metadata": {},
   "outputs": [
    {
     "name": "stdout",
     "output_type": "stream",
     "text": [
      "A=0 B=0 AandB=0 \n",
      "A=0 B=1 AandB=0 \n",
      "A=1 B=1 AandB=1 \n",
      "A=1 B=0 AandB=0 \n"
     ]
    }
   ],
   "source": [
    "model = cp_model.CpModel()\n",
    "\n",
    "a = model.new_bool_var(\"A\")\n",
    "b = model.new_bool_var(\"B\")\n",
    "c = model.new_bool_var(f\"{a}and{b}\")\n",
    "\n",
    "model.add(a + b <= 1 + c)\n",
    "model.add(2 * c <= a + b)\n",
    "\n",
    "solver = cp_model.CpSolver()\n",
    "solution_printer = VarArraySolutionPrinter([a, b, c])\n",
    "solver.parameters.enumerate_all_solutions = True\n",
    "status = solver.solve(model, solution_printer)"
   ]
  },
  {
   "cell_type": "markdown",
   "id": "6d09aba4-de86-4127-9fa1-11ef6ba8e3d1",
   "metadata": {},
   "source": [
    "### OR"
   ]
  },
  {
   "cell_type": "markdown",
   "id": "413fae4e-71a8-4b09-89dc-18f68944eb9c",
   "metadata": {},
   "source": [
    "$a \\lor b \\Rightarrow c$ と $c \\Rightarrow a \\lor b$ を表現すればよい. \n",
    "\n",
    "- $a + b \\leq 2 c$\n",
    "- $c \\leq a + b$"
   ]
  },
  {
   "cell_type": "code",
   "execution_count": 4,
   "id": "d1412b13-ede7-40c9-9e7f-81c9f25b92d1",
   "metadata": {},
   "outputs": [
    {
     "name": "stdout",
     "output_type": "stream",
     "text": [
      "A=0 B=0 AorB=0 \n",
      "A=0 B=1 AorB=1 \n",
      "A=1 B=1 AorB=1 \n",
      "A=1 B=0 AorB=1 \n"
     ]
    }
   ],
   "source": [
    "model = cp_model.CpModel()\n",
    "\n",
    "a = model.new_bool_var(\"A\")\n",
    "b = model.new_bool_var(\"B\")\n",
    "c = model.new_bool_var(f\"{a}or{b}\")\n",
    "\n",
    "model.add(a + b <= 2 * c)\n",
    "model.add(c <= a + b)\n",
    "\n",
    "solver = cp_model.CpSolver()\n",
    "solution_printer = VarArraySolutionPrinter([a, b, c])\n",
    "solver.parameters.enumerate_all_solutions = True\n",
    "status = solver.solve(model, solution_printer)"
   ]
  },
  {
   "cell_type": "markdown",
   "id": "6078398c-1ee2-4e31-bb6c-efef131da729",
   "metadata": {},
   "source": [
    "### NAND"
   ]
  },
  {
   "cell_type": "markdown",
   "id": "4a217d29-581e-4c3d-9992-7f6b238602de",
   "metadata": {},
   "source": [
    "AND の定式化における $c$ を $1 - c$ に置き換えればよい. \n",
    "\n",
    "- $a + b \\leq 1 + (1 - c)$\n",
    "- $2 (1 - c) \\leq a + b$\n",
    "\n",
    "あるいは AND で定式化した $c$ に対して $1 - c$ を用いる. "
   ]
  },
  {
   "cell_type": "code",
   "execution_count": 5,
   "id": "bcb348a7-8823-4573-88d9-e2e36af20eb9",
   "metadata": {},
   "outputs": [
    {
     "name": "stdout",
     "output_type": "stream",
     "text": [
      "A=1 B=1 AnandB=0 \n",
      "A=1 B=0 AnandB=1 \n",
      "A=0 B=0 AnandB=1 \n",
      "A=0 B=1 AnandB=1 \n"
     ]
    }
   ],
   "source": [
    "model = cp_model.CpModel()\n",
    "\n",
    "a = model.new_bool_var(\"A\")\n",
    "b = model.new_bool_var(\"B\")\n",
    "c = model.new_bool_var(f\"{a}nand{b}\")\n",
    "\n",
    "model.add(a + b <= 1 + (1 - c))\n",
    "model.add(2 * (1 - c) <= a + b)\n",
    "\n",
    "solver = cp_model.CpSolver()\n",
    "solution_printer = VarArraySolutionPrinter([a, b, c])\n",
    "solver.parameters.enumerate_all_solutions = True\n",
    "status = solver.solve(model, solution_printer)"
   ]
  },
  {
   "cell_type": "markdown",
   "id": "45a28cc6-75d2-49af-a12f-cb8fe3d76731",
   "metadata": {},
   "source": [
    "### NOR"
   ]
  },
  {
   "cell_type": "markdown",
   "id": "0b4190ba-5ef3-4fd9-84e5-e2717aa7c2aa",
   "metadata": {},
   "source": [
    "OR の定式化における $c$ を $1 - c$ に置き換えれば良い. \n",
    "\n",
    "- $a + b \\leq 2 (1 - c)$\n",
    "- $1 - c \\leq a + b$\n",
    "\n",
    "あるいは OR で定式化した $c$ に対して $1 - c$ を用いる. "
   ]
  },
  {
   "cell_type": "code",
   "execution_count": 6,
   "id": "6ad0eace-b812-455d-86c1-bbd1452b59cb",
   "metadata": {},
   "outputs": [
    {
     "name": "stdout",
     "output_type": "stream",
     "text": [
      "A=0 B=1 AnorB=0 \n",
      "A=0 B=0 AnorB=1 \n",
      "A=1 B=0 AnorB=0 \n",
      "A=1 B=1 AnorB=0 \n"
     ]
    }
   ],
   "source": [
    "model = cp_model.CpModel()\n",
    "\n",
    "a = model.new_bool_var(\"A\")\n",
    "b = model.new_bool_var(\"B\")\n",
    "c = model.new_bool_var(f\"{a}nor{b}\")\n",
    "\n",
    "model.add(a + b <= 2 * (1 - c))\n",
    "model.add(1 - c <= a + b)\n",
    "\n",
    "solver = cp_model.CpSolver()\n",
    "solution_printer = VarArraySolutionPrinter([a, b, c])\n",
    "solver.parameters.enumerate_all_solutions = True\n",
    "status = solver.solve(model, solution_printer)"
   ]
  },
  {
   "cell_type": "markdown",
   "id": "9dab0663-cd52-4107-af85-05d0b5882b4f",
   "metadata": {},
   "source": [
    "### XOR"
   ]
  },
  {
   "cell_type": "markdown",
   "id": "e5423d51-54e8-4ac7-a914-8f3c0557d841",
   "metadata": {},
   "source": [
    "$(a = 0 \\land b = 0) \\Rightarrow c = 0$, $(a = 1 \\land b = 1) \\Rightarrow c = 0$, $(a = 1 \\land b = 0) \\Rightarrow c = 1$, $(a = 0 \\land b = 1) \\Rightarrow c = 1$ を全て表現する. \n",
    "\n",
    "- $(1 - a) + (1 - b) \\leq 1 + (1 - c)$\n",
    "- $a + b \\leq 1 + (1 - c)$\n",
    "- $a + (1 - b) \\leq 1 + c$\n",
    "- $(1 - a) + b \\leq 1 + c$"
   ]
  },
  {
   "cell_type": "code",
   "execution_count": 7,
   "id": "05b430a6-0b92-4be3-95c9-e78e941e95bc",
   "metadata": {},
   "outputs": [
    {
     "name": "stdout",
     "output_type": "stream",
     "text": [
      "A=0 B=0 AxorB=0 \n",
      "A=0 B=1 AxorB=1 \n",
      "A=1 B=1 AxorB=0 \n",
      "A=1 B=0 AxorB=1 \n"
     ]
    }
   ],
   "source": [
    "model = cp_model.CpModel()\n",
    "\n",
    "a = model.new_bool_var(\"A\")\n",
    "b = model.new_bool_var(\"B\")\n",
    "c = model.new_bool_var(f\"{a}xor{b}\")\n",
    "\n",
    "model.add((1 - a) + (1 - b) <= 1 + (1 - c))\n",
    "model.add(a + b <= 1 + (1 - c))\n",
    "model.add(a + (1 - b) <= 1 + c)\n",
    "model.add((1 - a) + b <= 1 + c)\n",
    "\n",
    "solver = cp_model.CpSolver()\n",
    "solution_printer = VarArraySolutionPrinter([a, b, c])\n",
    "solver.parameters.enumerate_all_solutions = True\n",
    "status = solver.solve(model, solution_printer)"
   ]
  },
  {
   "cell_type": "markdown",
   "id": "95ddf159-ef48-47e5-96db-f558a9f12d30",
   "metadata": {},
   "source": [
    "### XNOR"
   ]
  },
  {
   "cell_type": "markdown",
   "id": "60911341-7e4a-4ea9-8743-0e70e91712db",
   "metadata": {},
   "source": [
    "XOR の定式化における $c$ を $1 - c$ に置き換えれば良い. \n",
    "\n",
    "- $(1 - a) + (1 - b) \\leq 1 + c$\n",
    "- $a + b \\leq 1 + c$\n",
    "- $a + (1 - b) \\leq 1 + (1 - c)$\n",
    "- $(1 - a) + b \\leq 1 + (1 - c)$\n",
    "\n",
    "あるいは XOR で定式化した $c$ に対して $1 - c$ を用いる. "
   ]
  },
  {
   "cell_type": "code",
   "execution_count": 8,
   "id": "4ca06616-882a-4c9e-8e31-3bca56444f88",
   "metadata": {},
   "outputs": [
    {
     "name": "stdout",
     "output_type": "stream",
     "text": [
      "A=0 B=1 AxorB=0 \n",
      "A=0 B=0 AxorB=1 \n",
      "A=1 B=0 AxorB=0 \n",
      "A=1 B=1 AxorB=1 \n"
     ]
    }
   ],
   "source": [
    "model = cp_model.CpModel()\n",
    "\n",
    "a = model.new_bool_var(\"A\")\n",
    "b = model.new_bool_var(\"B\")\n",
    "c = model.new_bool_var(f\"{a}xor{b}\")\n",
    "\n",
    "model.add((1 - a) + (1 - b) <= 1 + c)\n",
    "model.add(a + b <= 1 + c)\n",
    "model.add(a + (1 - b) <= 1 + (1 - c))\n",
    "model.add((1 - a) + b <= 1 + (1 - c))\n",
    "\n",
    "solver = cp_model.CpSolver()\n",
    "solution_printer = VarArraySolutionPrinter([a, b, c])\n",
    "solver.parameters.enumerate_all_solutions = True\n",
    "status = solver.solve(model, solution_printer)"
   ]
  },
  {
   "cell_type": "code",
   "execution_count": null,
   "id": "c45783ac-b646-4a6a-af40-7cb7d6b3008a",
   "metadata": {},
   "outputs": [],
   "source": []
  }
 ],
 "metadata": {
  "kernelspec": {
   "display_name": "Python 3 (ipykernel)",
   "language": "python",
   "name": "python3"
  },
  "language_info": {
   "codemirror_mode": {
    "name": "ipython",
    "version": 3
   },
   "file_extension": ".py",
   "mimetype": "text/x-python",
   "name": "python",
   "nbconvert_exporter": "python",
   "pygments_lexer": "ipython3",
   "version": "3.12.2"
  }
 },
 "nbformat": 4,
 "nbformat_minor": 5
}
