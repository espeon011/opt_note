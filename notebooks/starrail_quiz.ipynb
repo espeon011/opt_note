{
 "cells": [
  {
   "cell_type": "markdown",
   "id": "4eddbe6d-a7da-4766-8b11-5f0cbb9cd117",
   "metadata": {},
   "source": [
    "# 崩壊スターレイル 教育部の難問"
   ]
  },
  {
   "cell_type": "markdown",
   "id": "2f7ae362-a0e0-446f-8e50-7eed5e8afdd9",
   "metadata": {},
   "source": [
    "崩壊スターレイル 教育部の難問 の一部を数理最適化で解く"
   ]
  },
  {
   "cell_type": "code",
   "execution_count": 1,
   "id": "b3080284-07bf-4d71-91d8-de518f85f565",
   "metadata": {},
   "outputs": [],
   "source": [
    "from ortools.sat.python import cp_model"
   ]
  },
  {
   "cell_type": "code",
   "execution_count": 2,
   "id": "6851f084-99b5-48be-b692-06d8d18a11f6",
   "metadata": {},
   "outputs": [],
   "source": [
    "class VarArraySolutionPrinter(cp_model.CpSolverSolutionCallback):\n",
    "    def __init__(self, variables):\n",
    "        cp_model.CpSolverSolutionCallback.__init__(self)\n",
    "        self.__variables = variables\n",
    "        self.__solution_count = 0\n",
    "\n",
    "    def on_solution_callback(self):\n",
    "        self.__solution_count += 1\n",
    "        for v in self.__variables:\n",
    "            print(f\"{v}={self.value(v)}\", end=\" \")\n",
    "        print()\n",
    "\n",
    "    @property\n",
    "    def solution_count(self):\n",
    "        return self.__solution_count"
   ]
  },
  {
   "cell_type": "markdown",
   "id": "1158ea49-6aa5-4e03-a90b-f8bf7b94995f",
   "metadata": {},
   "source": [
    "## その 3"
   ]
  },
  {
   "cell_type": "markdown",
   "id": "63807953-78b9-4d35-9881-f7349836e303",
   "metadata": {},
   "source": [
    "### 問題文"
   ]
  },
  {
   "cell_type": "markdown",
   "id": "dd453109-bb07-46de-953d-7682d86ec797",
   "metadata": {},
   "source": [
    "> 数日前にレムスティーン家でタイヤを盗んだ犯人を見つけました。\n",
    "> 当時、シルバーメインは容疑者をジャック、クリス、エリックの3人に絞り込んでいました。3人は言い争って譲りません。\n",
    "> ジャックは「タイヤを盗んだのはクリスだ！」と言いました。\n",
    "> 頭のいいジェパードはすぐに犯人を察しました。\n",
    "> 自分の副官を試すため、ジェパードはすぐに誰が泥棒かを言わずに、「おかしいな。3人の中で泥棒だけが嘘をついてない」と言いました。\n",
    "> レムスティーン家の車のタイヤを盗んだのは一体誰でしょう？"
   ]
  },
  {
   "cell_type": "markdown",
   "id": "169ceab7-b330-46e7-9b8e-55d265d2ea9c",
   "metadata": {},
   "source": [
    "### 解き方"
   ]
  },
  {
   "cell_type": "markdown",
   "id": "76c8e4b3-d727-4f2a-9273-04fb1c095d63",
   "metadata": {},
   "source": [
    "暗黙の了解として犯人は 1 人だけであるとする. \n",
    "ジャックが犯人だとするとジェパードの発言から正直者のはずだが, ジャックは犯人はクリスであると主張しているため, 矛盾. \n",
    "従ってジャックは犯人ではなく, ジェパ―ドの発言から嘘をついていることになる. \n",
    "ジャックの発言は嘘であるためタイヤを盗んだのはクリスではなく, 残ったエリックが犯人となる. \n",
    "\n",
    "仮に犯人が 1 人だけではなく, 1 人以上と条件を緩めた場合, \n",
    "\n",
    "- 3 人とも犯人\n",
    "- ジャックとクリスが犯人でエリックは無実\n",
    "\n",
    "のパターンも存在する. \n",
    "\n",
    "犯人が 0 人の場合も許すと全員が無実である(よって全員嘘つき)ような解も存在する. "
   ]
  },
  {
   "cell_type": "markdown",
   "id": "e373aaf1-15db-4a79-a65f-50247a2e81b0",
   "metadata": {},
   "source": [
    "### 定式化"
   ]
  },
  {
   "cell_type": "markdown",
   "id": "efef1438-5c65-43c7-b294-b67efdff5e7e",
   "metadata": {},
   "source": [
    "ジャック, クリス, エリックをそれぞれ $1$, $2$, $3$ とする. \n",
    "\n",
    "- 決定変数\n",
    "  - $x_i \\in \\{0, 1\\}$ (for $i = 1, 2, 3$): $i$ は正直者\n",
    "  - $y_i \\in \\{0, 1\\}$ (for $i = 1, 2, 3$): $i$ は嘘つき\n",
    "  - $z_i \\in \\{0, 1\\}$ (for $i = 1, 2, 3$): $i$ は犯人\n",
    "- 制約条件\n",
    "  - $x_i + y_i = 1$ (for $i = 1, 2, 3$): 正直者か嘘つきのどちらか一方\n",
    "  - $x_1 = z_2$: ジャックはクリスが犯人だと主張している(以下の 2 つと同じ)\n",
    "\t- $x_1 \\le z_2$: ジャックが正直者ならクリスは犯人\n",
    "\t- $y_1 \\le 1 - z_2$: ジャックが嘘つきならクリスは犯人ではない\n",
    "  - $z_i = x_i$ (for $i = 1, 2, 3$): 犯人だけが正直者(以下の 2 つと同じ)\n",
    "\t- $z_i \\le x_i$ (for $i = 1, 2, 3$): 犯人は嘘をついていない\n",
    "\t- $1 - z_i \\le y_i$ (for $i = 1, 2, 3$): 犯人以外は嘘をついている"
   ]
  },
  {
   "cell_type": "markdown",
   "id": "1831265e-8416-4a7d-a606-27d9795fd138",
   "metadata": {},
   "source": [
    "### 実装"
   ]
  },
  {
   "cell_type": "code",
   "execution_count": 3,
   "id": "3a3f3b72-74db-4a6f-b619-dd4518f027da",
   "metadata": {},
   "outputs": [
    {
     "name": "stdout",
     "output_type": "stream",
     "text": [
      "jack_is_liar=1 chris_is_liar=1 eric_is_liar=0 jack_is_culprit=0 chris_is_culprit=0 eric_is_culprit=1 \n"
     ]
    }
   ],
   "source": [
    "model = cp_model.CpModel()\n",
    "\n",
    "suspects = [\"jack\", \"chris\", \"eric\"]\n",
    "liar = {s: model.new_bool_var(f\"{s}_is_liar\") for s in suspects}\n",
    "culprit = {s: model.new_bool_var(f\"{s}_is_culprit\") for s in suspects}\n",
    "\n",
    "# ジャックはクリスが犯人だと主張している\n",
    "model.add(culprit[\"chris\"] == 1).only_enforce_if(liar[\"jack\"].negated())\n",
    "model.add(culprit[\"chris\"] == 0).only_enforce_if(liar[\"jack\"])\n",
    "\n",
    "# 犯人だけが正直者\n",
    "for s in suspects:\n",
    "    model.add(culprit[s] == (1 - liar[s]))\n",
    "\n",
    "# 犯人は 1 人だけ(Optional)\n",
    "model.add_exactly_one(list(culprit.values()))\n",
    "\n",
    "solver = cp_model.CpSolver()\n",
    "solution_printer = VarArraySolutionPrinter(list(liar.values()) + list(culprit.values()))\n",
    "solver.parameters.enumerate_all_solutions = True\n",
    "status = solver.solve(model, solution_printer)"
   ]
  },
  {
   "cell_type": "markdown",
   "id": "6e3ae518-8f4c-4231-a570-9efac89e2811",
   "metadata": {},
   "source": [
    "犯人が 1 人だけという仮定を外すと全員犯人の場合と, 犯人が 2 人いる場合と, 犯人がいない場合の解も出てくる. "
   ]
  },
  {
   "cell_type": "markdown",
   "id": "fdb4df07-b1fa-4915-a831-5a3afaf2a790",
   "metadata": {},
   "source": [
    "## その 4"
   ]
  },
  {
   "cell_type": "markdown",
   "id": "a5be0b31-819f-4235-86f5-38bf64201a4a",
   "metadata": {},
   "source": [
    "### 問題文"
   ]
  },
  {
   "cell_type": "markdown",
   "id": "1be15674-07e6-410e-b819-df6e29679319",
   "metadata": {},
   "source": [
    "> ハワード、フィリップ、ジョイスの3人のうち、1人は善人、1人は悪人、1人は嘘つきです。\n",
    "> 善人は事実しか言わず、悪人は嘘しか言いません。\n",
    "> 嘘つきは事実を言ったかと思えば、嘘を言うというように、何でも言います。\n",
    "> ある日、ジョイスが「フィリップは善人ではなく悪人だ」と言いました。\n",
    "> そしてフィリップは「ハワードとジョイスのどちらか1人は善人だ」と言いました。\n",
    "> 3人のうち、嘘つきは誰でしょうか？"
   ]
  },
  {
   "cell_type": "markdown",
   "id": "e7c13bc9-dde0-4a00-837b-bf608388ccc8",
   "metadata": {},
   "source": [
    "### 解き方"
   ]
  },
  {
   "cell_type": "markdown",
   "id": "f0932c0d-517f-4d86-86c2-461c62a41ea7",
   "metadata": {},
   "source": [
    "フィリップの発言に注目する. \n",
    "フィリップが善人だとすると発言内容は事実であるはずだが, フィリップ以外にももう 1 人善人がいることになり, 矛盾. \n",
    "フィリップが悪人だとすると発言内容は誤りであるはずだが, ハワードとジョイスは両方とも善人でないとなると今度は善人が 1 人もいなくなるので矛盾. \n",
    "従って嘘つきはフィリップである. \n",
    "ちなみにフィリップが嘘つきなのでジョイスの主張は誤りとなり, ジョイスが悪人で確定する. よってハワードが善人であることもわかる. "
   ]
  },
  {
   "cell_type": "markdown",
   "id": "6c06f982-5aeb-4f82-9641-b331cd8f4922",
   "metadata": {},
   "source": [
    "### 定式化"
   ]
  },
  {
   "cell_type": "markdown",
   "id": "32ded112-1bca-481d-b131-dec6d6d09575",
   "metadata": {},
   "source": [
    "ハワード, フィリップ, ジョイスをそれぞれ $1$, $2$, $3$ とする. \n",
    "\n",
    "- 決定変数\n",
    "  - $x_i \\in \\{0, 1\\}$: (for $i = 1, 2, 3$): $i$ は善人\n",
    "  - $y_i \\in \\{0, 1\\}$: (for $i = 1, 2, 3$): $i$ は悪人\n",
    "  - $z_i \\in \\{0, 1\\}$: (for $i = 1, 2, 3$): $i$ は嘘つき\n",
    "- 制約条件\n",
    "  - $x_i + y_i + z_i = 1$ (for $i = 1, 2, 3$): 善人か悪人か嘘つきのどれか\n",
    "  - 善人は 1 人: $\\sum_{i=1}^3 x_i = 1$\n",
    "  - 悪人は 1 人: $\\sum_{i=1}^3 y_i = 1$\n",
    "  - 嘘つきは 1 人: $\\sum_{i=1}^3 z_i = 1$\n",
    "  - $x_3 \\le 1 - x_2$ and $x_3 \\le y_2$: ジョイスはフィリップが善人ではなく悪人であると主張している\n",
    "  - $y_3 \\le x_2 + (1 - y_2)$: ジョイスが悪人である場合, 上記の NOT が成立する. \n",
    "  - $x_2 \\le x_1 + x_3$: フィリップはハワードとジョイスのどちらか 1 人は善人であると主張している\n",
    "  - $y_2 \\le 1 - x_1$ and $y_2 \\le 1 - x_3$: フィリップが悪人である場合, 上記の NOT が成立する"
   ]
  },
  {
   "cell_type": "markdown",
   "id": "5121adc8-4782-48ba-b690-0fdd027224ce",
   "metadata": {},
   "source": [
    "### 実装"
   ]
  },
  {
   "cell_type": "code",
   "execution_count": 4,
   "id": "7e1720d4-a777-4238-8782-b7d393b7abbd",
   "metadata": {},
   "outputs": [
    {
     "name": "stdout",
     "output_type": "stream",
     "text": [
      "howard_is_goodguy=1 philip_is_goodguy=0 joyce_is_goodguy=0 howard_is_badguy=0 philip_is_badguy=0 joyce_is_badguy=1 howard_is_liar=0 philip_is_liar=1 joyce_is_liar=0 \n"
     ]
    }
   ],
   "source": [
    "model = cp_model.CpModel()\n",
    "\n",
    "members = [\"howard\", \"philip\", \"joyce\"]\n",
    "good_guys = {m: model.new_bool_var(f\"{m}_is_goodguy\") for m in members}\n",
    "bad_guys = {m: model.new_bool_var(f\"{m}_is_badguy\") for m in members}\n",
    "liars = {m: model.new_bool_var(f\"{m}_is_liar\") for m in members}\n",
    "\n",
    "# 各々善人か悪人か嘘つきのどれか\n",
    "for m in members:\n",
    "    model.add_exactly_one([good_guys[m], bad_guys[m], liars[m]])\n",
    "\n",
    "# 善人, 悪人, 嘘つきはそれぞれ 1 人しかいない\n",
    "model.add_exactly_one(list(good_guys.values()))\n",
    "model.add_exactly_one(list(bad_guys.values()))\n",
    "model.add_exactly_one(list(liars.values()))\n",
    "\n",
    "# ジョイスはフィリップが善人ではなく悪人であると主張している\n",
    "model.add_bool_and([good_guys[\"philip\"].negated(), bad_guys[\"philip\"]]).only_enforce_if(good_guys[\"joyce\"])\n",
    "model.add_bool_or([good_guys[\"philip\"], bad_guys[\"philip\"].negated()]).only_enforce_if(bad_guys[\"joyce\"])\n",
    "\n",
    "# フィリップはハワードとジョイスのどちらか 1 人は善人であると主張している\n",
    "model.add_bool_or([good_guys[\"howard\"], good_guys[\"joyce\"]]).only_enforce_if(good_guys[\"philip\"])\n",
    "model.add_bool_and([good_guys[\"howard\"].negated(), good_guys[\"joyce\"].negated()]).only_enforce_if(bad_guys[\"philip\"])\n",
    "\n",
    "solver = cp_model.CpSolver()\n",
    "solution_printer = VarArraySolutionPrinter(list(good_guys.values()) + list(bad_guys.values()) + list(liars.values()))\n",
    "solver.parameters.enumerate_all_solutions = True\n",
    "status = solver.solve(model, solution_printer)"
   ]
  },
  {
   "cell_type": "markdown",
   "id": "620ecb2c-d6d7-435c-84a4-f8dd56558a40",
   "metadata": {},
   "source": [
    "ハワードが善人, ジョイスが悪人, フィリップが嘘つきという解しかないことがわかる. "
   ]
  },
  {
   "cell_type": "markdown",
   "id": "c5c8521b-2a35-4932-913f-e6520904d67f",
   "metadata": {},
   "source": [
    "## その 7"
   ]
  },
  {
   "cell_type": "markdown",
   "id": "704e1264-381c-4ae3-a7f8-928cfda02d2d",
   "metadata": {},
   "source": [
    "### 問題文"
   ]
  },
  {
   "cell_type": "markdown",
   "id": "3f747f7a-02af-44a8-a49e-8af2e7195487",
   "metadata": {},
   "source": [
    "> 人目のつかない雪原の片隅に、古代の宝物が隠されているといわれています。\n",
    "> 探検家~~サンポ~~青髪のイケメンは数々の苦労を乗り越え、ついにその宝が隠された秘密の場所を見つけました。\n",
    "> そこには言葉を話す2つの扉がありました。\n",
    "> 1つは金の扉、もう1つは銀の扉です。\n",
    "> その2つの扉のうち、片方の扉は真実を話しますが、もう片方の扉は嘘しか言いません。\n",
    "> 片方の扉の奥には財宝があり、もう片方の扉の奥には古代のモンスターがいます。\n",
    "> 宝の地図によると、2つの扉は1つの質問にしか答えてくれません。\n",
    "> 頭のいい~~サンポ~~青髪のイケメンはしばらく考えこんだ末に、銀の扉に向かって「金の扉はあなたの奥に何があると言いますか？」と聞きました。\n",
    "> 銀の扉は「この後ろにあるのは財宝であると言うのだろう」と答えました。\n",
    "> ~~サンポ~~青髪のイケメンはどちらの扉を開けるでしょうか？"
   ]
  },
  {
   "cell_type": "markdown",
   "id": "a6c72a75-14d4-4e93-9861-247cff0f9c4d",
   "metadata": {},
   "source": [
    "### 解き方"
   ]
  },
  {
   "cell_type": "markdown",
   "id": "b680a99b-eafe-4f93-a73a-61cf032952fa",
   "metadata": {},
   "source": [
    "金の扉が真実を話す場合, 銀の扉は嘘しか言わなくなる. \n",
    "\n",
    "- 銀の扉の後ろに財宝がある場合\n",
    "  - 金の扉(真実)「銀の扉の後ろには財宝がある」\n",
    "  - 銀の扉(嘘)「『この後ろには古代のモンスターがいる』と言うだろう」\n",
    "- 銀の扉の後ろに古代のモンスターがいる場合\n",
    "  - 金の扉(真実)「銀の扉の後ろには古代のモンスターがいる」\n",
    "  - 銀の扉(嘘)「『この後ろには財宝がある』と言うだろう」\n",
    "\n",
    "金の扉が嘘しか言わない場合, 銀の扉は真実を話すことになる. \n",
    "\n",
    "- 銀の扉の後ろに財宝がある場合\n",
    "  - 金の扉(嘘)「銀の扉の後ろには古代のモンスターがいる」\n",
    "  - 銀の扉(真実)「『この後ろには古代のモンスターがいる』と言うだろう」\n",
    "- 銀の扉の後ろに古代のモンスターがいる場合\n",
    "  - 金の扉(嘘)「銀の扉の後ろには財宝がある」\n",
    "  - 銀の扉(真実)「『この後ろには財宝がある』と言うだろう」\n",
    "\n",
    "銀の扉は金の扉が「後ろに財宝がある」と主張すると言っているので銀の扉の後ろには古代のモンスターがおり, 金の扉の後ろに財宝がある. \n",
    "\n",
    "一般に $A$ と $B$ のどちらか一方が正直者でどちらか一方が嘘つきである場合, Yes か No で回答する質問 $X$ に対して「 $A$ は $X$ に Yes と回答するか? 」と $B$ に聞くと $X$ についての事実と逆の回答が返ってくる. (嘘つきの回答を丁度 1 回経由するため)\n",
    "\n",
    "今回 $X$ は「銀の扉の後ろに財宝があるか」で, 回答は Yes であったため実際は No であり銀の扉の後ろに財宝はない. "
   ]
  },
  {
   "cell_type": "markdown",
   "id": "54ebd803-b208-48a6-bc77-09ab68a023df",
   "metadata": {},
   "source": [
    "### 定式化"
   ]
  },
  {
   "cell_type": "markdown",
   "id": "06b91a2c-1b16-473d-9697-4b5043f39f64",
   "metadata": {},
   "source": [
    "金の扉, 銀の扉をそれぞれ $1$, $2$ とする. \n",
    "\n",
    "- 決定変数\n",
    "  - $x_i \\in \\{0, 1\\}$ (for $i = 1, 2$): $i$ は真実を話す\n",
    "  - $y_i \\in \\{0, 1\\}$ (for $i = 1, 2$): $i$ は嘘を話す\n",
    "  - $v_i \\in \\{0, 1\\}$ (for $i = 1, 2$): $i$ の後ろには財宝がある\n",
    "  - $w_i \\in \\{0, 1\\}$ (for $i = 1, 2$): $i$ の後ろには古代のモンスターがいる\n",
    "  - $s \\in \\{0, 1\\}$: 金の扉は銀の扉の後ろには財宝があると主張する\n",
    "  - $t \\in \\{0, 1\\}$: 金の扉は銀の扉の後ろには古代のモンスターがいると主張する\n",
    "  - $p \\in \\{0, 1\\}$: 銀の扉は「金の扉が銀の扉の後ろに財宝があると言う」と主張する\n",
    "  - $q \\in \\{0, 1\\}$: 銀の扉は「金の扉が銀の扉の後ろにモンスターがいると言う」と主張する\n",
    "- 制約条件\n",
    "  - $x_i + y_i = 1$ (for $i = 1, 2$): 真実を話すか嘘を話すかどちらか一方\n",
    "  - 片方は真実を話し, 片方は嘘を話す: $\\sum_{i=1}^2 x_i = 1 \\quad \\text{and} \\quad \\sum_{i=1}^2 y_i = 1$\n",
    "  - $v_i + w_i = 1$ (for $i = 1, 2$): 扉の後ろには財宝かモンスターのどちらか一方がある\n",
    "  - 片方の後ろには財宝があり, 片方の後ろにはモンスターがいる: $\\sum_{i=1}^2 v_i = 1 \\quad \\text{and} \\quad \\sum_{i=1}^2 w_i = 1$\n",
    "  - $s + t = 1$: 金の扉の主張はどちらか一方のみ\n",
    "  - $x_1 + v_2 \\le 1 + s$: 金の扉が正直者で銀の扉の後ろに財宝があればそのように主張する\n",
    "  - $x_1 + w_2 \\le 1 + t$: 金の扉が正直者で銀の扉の後ろにモンスターがいればそのように主張する\n",
    "  - $y_1 + v_2 \\le 1 + t$: 金の扉が嘘つきで銀の扉の後ろに財宝があれば逆の主張する\n",
    "  - $y_1 + w_2 \\le 1 + s$: 金の扉が嘘つきで銀の扉の後ろにモンスターがいれば逆の主張する\n",
    "  - $p + q = 1$: 銀の盾の主張はどちらか一方のみ\n",
    "  - $x_2 + s \\le 1 + p$: 銀の扉が正直者であれば金の扉が「銀の扉の後ろには財宝がある」と言うであろうことをそのまま伝える\n",
    "  - $x_2 + t \\le 1 + q$: 銀の扉が正直者であれば金の扉が「銀の扉の後ろにはモンスターがいる」と言うであろうことをそのまま伝える\n",
    "  - $y_2 + s \\le 1 + q$: 銀の扉が嘘つきであれば金の扉が「銀の扉の後ろには財宝がある」と言うであろう場合逆のことを話す\n",
    "  - $y_2 + t \\le 1 + p$: 銀の扉が嘘つきであれば金の扉が「銀の扉の後ろにはモンスターがいる」と言うであろう場合逆のことを話す\n",
    "  - $p = 1$: 銀の扉は「(金の扉は)この後ろにあるのは財宝であると言うのだろう」と答えた"
   ]
  },
  {
   "cell_type": "markdown",
   "id": "65ce2fed-386e-4afa-9e4a-bc313acf0cc4",
   "metadata": {},
   "source": [
    "### 実装"
   ]
  },
  {
   "cell_type": "code",
   "execution_count": 5,
   "id": "18126e8f-7899-4e0e-b347-05441278063d",
   "metadata": {},
   "outputs": [
    {
     "name": "stdout",
     "output_type": "stream",
     "text": [
      "gold_gate_is_honest=0 silver_gate_is_honest=1 gold_gate_has_treasure=1 silver_gate_has_treasure=0 \n",
      "gold_gate_is_honest=1 silver_gate_is_honest=0 gold_gate_has_treasure=1 silver_gate_has_treasure=0 \n"
     ]
    }
   ],
   "source": [
    "model = cp_model.CpModel()\n",
    "\n",
    "gates = [\"gold\", \"silver\"]\n",
    "\n",
    "# 片方は真実を話し, もう片方は嘘を話す\n",
    "honests = {g: model.new_bool_var(f\"{g}_gate_is_honest\") for g in gates}\n",
    "liars = {g: honests[g].negated() for g in gates}\n",
    "model.add_exactly_one(list(honests.values()))\n",
    "#model.add_exactly_one(list(liars.values())\n",
    "\n",
    "# どちらかの扉の後ろには財宝があり, もう片方の後ろにはモンスターがいる\n",
    "treasures = {g: model.new_bool_var(f\"{g}_gate_has_treasure\") for g in gates}\n",
    "monsters = {g: treasures[g].negated() for g in gates}\n",
    "model.add_exactly_one(list(treasures.values()))\n",
    "#model.add_exactly_one(list(monsters.values()))\n",
    "\n",
    "# 銀の扉は「この後ろにあるのは財宝であると言うのだろう」と答えた\n",
    "silver_says_gold_says = model.new_bool_var(\"silver_says_gold_says_silver_has_treasure\")\n",
    "model.add(silver_says_gold_says == 1)\n",
    "gold_says = model.new_bool_var(\"gold_says_silver_has_treasure\")\n",
    "model.add(gold_says == silver_says_gold_says).only_enforce_if(honests[\"silver\"])\n",
    "model.add(gold_says.negated() == silver_says_gold_says).only_enforce_if(liars[\"silver\"])\n",
    "model.add(treasures[\"silver\"] == gold_says).only_enforce_if(honests[\"gold\"])\n",
    "model.add(treasures[\"silver\"].negated() == gold_says).only_enforce_if(liars[\"gold\"])\n",
    "\n",
    "solver = cp_model.CpSolver()\n",
    "solution_printer = VarArraySolutionPrinter(list(honests.values()) + list(treasures.values()))\n",
    "solver.parameters.enumerate_all_solutions = True\n",
    "status = solver.solve(model, solution_printer)"
   ]
  },
  {
   "cell_type": "code",
   "execution_count": null,
   "id": "ace5fd4c-6997-40fd-8148-bcfe4f360d47",
   "metadata": {},
   "outputs": [],
   "source": []
  }
 ],
 "metadata": {
  "kernelspec": {
   "display_name": "Python 3 (ipykernel)",
   "language": "python",
   "name": "python3"
  },
  "language_info": {
   "codemirror_mode": {
    "name": "ipython",
    "version": 3
   },
   "file_extension": ".py",
   "mimetype": "text/x-python",
   "name": "python",
   "nbconvert_exporter": "python",
   "pygments_lexer": "ipython3",
   "version": "3.12.2"
  }
 },
 "nbformat": 4,
 "nbformat_minor": 5
}
