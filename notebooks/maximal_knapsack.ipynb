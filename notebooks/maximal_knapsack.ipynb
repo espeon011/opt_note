{
 "cells": [
  {
   "cell_type": "code",
   "execution_count": null,
   "id": "Hbol",
   "metadata": {},
   "outputs": [],
   "source": [
    "import marimo as mo"
   ]
  },
  {
   "cell_type": "markdown",
   "id": "MJUe",
   "metadata": {
    "marimo": {
     "config": {
      "hide_code": true
     }
    }
   },
   "source": [
    "# 極大ナップサック問題"
   ]
  },
  {
   "cell_type": "markdown",
   "id": "vblA",
   "metadata": {
    "marimo": {
     "config": {
      "hide_code": true
     }
    }
   },
   "source": [
    "## 問題"
   ]
  },
  {
   "cell_type": "markdown",
   "id": "bkHC",
   "metadata": {
    "marimo": {
     "config": {
      "hide_code": true
     }
    }
   },
   "source": [
    "正整数の配列 $a = [ a_1, \\dots, a_n]$ と整数 $\\tau$ が与えられる.\n",
    "このとき $a$ の部分配列でその**総積**が $\\tau$ 以下になるもので極大なものを全て列挙せよ."
   ]
  },
  {
   "cell_type": "markdown",
   "id": "lEQa",
   "metadata": {
    "marimo": {
     "config": {
      "hide_code": true
     }
    }
   },
   "source": [
    "## 定式化"
   ]
  },
  {
   "cell_type": "markdown",
   "id": "PKri",
   "metadata": {
    "marimo": {
     "config": {
      "hide_code": true
     }
    }
   },
   "source": [
    "$x = [x_1, \\dots, x_n]$ を 0-1 決定変数とする.\n",
    "$x_i$ が $1$ のとき $a_i$ を採用し, $0$ のとき採用しない.\n",
    "また, 決定変数 $y = [y_1, \\dots, y_n]$ を用意し $y_i = (a_i - 1) x_i + 1$ を課す.\n",
    "こうすると $y_i$ は $x_i$ が $1$ のとき $a_i$ を値に取り, $0$ のとき $1$ を値にとる.\n",
    "同様に $z_i = (a_i - 1) (1 - x_i) + 1$ とおく.\n",
    "こちらは $y_i$ とは逆に採用されてない $a_i$ に対してだけ値 $a_i$ を取り, 採用されているものについては $1$ を取る.\n",
    "\n",
    "Google OR-Tools は整数変数の積をそのまま扱えるため, 線形ではない定式化を行う.\n",
    "\n",
    "- $\\prod_{i=1}^n y_i \\leq \\tau$: 採用した $a_i$ の積が $\\tau$ を超えない.\n",
    "- $z_j \\prod_{i=1}^n y_i > \\tau (1 - x_j) \\quad (\\forall j = 1, \\dots, n)$: 採用しなかった $a_j$ を掛けたら $\\tau$ を超えてしまう.\n",
    "\n",
    "また, Google OR-Tools の CP-SAT ソルバーは目的関数を設定しない場合,\n",
    "実行可能解を全て求めるよう指示できるのでそれを使って全ての極大元を求める."
   ]
  },
  {
   "cell_type": "markdown",
   "id": "Xref",
   "metadata": {
    "marimo": {
     "config": {
      "hide_code": true
     }
    }
   },
   "source": [
    "## 実装"
   ]
  },
  {
   "cell_type": "code",
   "execution_count": null,
   "id": "SFPL",
   "metadata": {},
   "outputs": [],
   "source": [
    "from ortools.sat.python import cp_model\n",
    "import math\n",
    "import time"
   ]
  },
  {
   "cell_type": "code",
   "execution_count": null,
   "id": "BYtC",
   "metadata": {},
   "outputs": [],
   "source": [
    "class SolutionPrinter(cp_model.CpSolverSolutionCallback):\n",
    "\n",
    "    def __init__(self, a, solution: list[cp_model.IntVar]):\n",
    "        cp_model.CpSolverSolutionCallback.__init__(self)\n",
    "        self.__solution = solution\n",
    "        self.__a = a\n",
    "        self.__solution_count = 0\n",
    "        self.__all_solutions = []\n",
    "        self.__start_time = time.time()\n",
    "\n",
    "    @property\n",
    "    def solution_count(self) -> int:\n",
    "        return self.__solution_count\n",
    "\n",
    "    @property\n",
    "    def all_solutions(self):\n",
    "        return self.__all_solutions\n",
    "\n",
    "    def on_solution_callback(self):\n",
    "        current_time = time.time()\n",
    "        self.__solution_count = self.__solution_count + 1\n",
    "        print(f'Solution {self.__solution_count}, time = {current_time - self.__start_time} s')\n",
    "        print('  [', end=' ')\n",
    "        for x in self.__solution:\n",
    "            print(f'{self.value(x)}', end=' ')\n",
    "        print(']')\n",
    "        print('  [', end=' ')\n",
    "        solution = []\n",
    "        for i, x in enumerate(self.__solution):\n",
    "            if self.value(x) == 1:\n",
    "                solution.append(self.__a[i])\n",
    "                print(f'{self.__a[i]}', end=' ')\n",
    "        print(']')\n",
    "        self.__all_solutions.append(solution)"
   ]
  },
  {
   "cell_type": "code",
   "execution_count": null,
   "id": "RGSE",
   "metadata": {},
   "outputs": [],
   "source": [
    "class Model:\n",
    "    def __init__(self, a, tau):\n",
    "        self.a = a\n",
    "        self.tau = tau\n",
    "\n",
    "        self.model = cp_model.CpModel()\n",
    "        self.solver = cp_model.CpSolver()\n",
    "\n",
    "        self.x = [self.model.new_bool_var(f\"a{i} is used\") for i in range(len(self.a))]\n",
    "        y = [self.model.new_int_var(1, self.a[i], \"\") for i in range(len(self.a))]\n",
    "        z = [self.model.new_int_var(1, self.a[i], \"\") for i in range(len(self.a))]\n",
    "\n",
    "        for i in range(len(self.a)):\n",
    "            self.model.add(y[i] == (self.a[i] - 1) * self.x[i] + 1)\n",
    "            self.model.add(z[i] == (self.a[i] - 1) * (1 - self.x[i]) + 1)\n",
    "\n",
    "        y_prod = self.model.new_int_var(1, tau, \"\")\n",
    "        self.model.add_multiplication_equality(y_prod, y)\n",
    "        for j in range(len(self.a)):\n",
    "            y_prod_zj = self.model.new_int_var(1, tau * self.a[j], \"\")\n",
    "            self.model.add_multiplication_equality(y_prod_zj, [z[j], y_prod])\n",
    "            self.model.add(y_prod_zj >= self.tau * (1 - self.x[j]) + 1)\n",
    "\n",
    "    def solve(self):\n",
    "        self.solution_printer = SolutionPrinter(self.a, self.x)\n",
    "        self.solver.parameters.enumerate_all_solutions = True\n",
    "        #self.solver.parameters.log_search_progress = True\n",
    "        self.solver.solve(self.model, self.solution_printer)"
   ]
  },
  {
   "cell_type": "code",
   "execution_count": null,
   "id": "Kclp",
   "metadata": {},
   "outputs": [
    {
     "name": "stdout",
     "output_type": "stream",
     "text": [
      "a = [1, 2, 3, 4, 5, 6, 7, 8, 9, 10, 11, 12, 13, 14, 15, 16, 17, 18, 19, 20]\n",
      "tau = 100\n"
     ]
    }
   ],
   "source": [
    "# a = list(range(1, 5+1))\n",
    "# tau = 10\n",
    "\n",
    "# a = list(range(1, 10+1))\n",
    "# tau = 50\n",
    "\n",
    "a = list(range(1, 20+1))\n",
    "tau = 100\n",
    "\n",
    "# a = [2] * 20 # 終わらない\n",
    "# tau = 2 ** 10\n",
    "\n",
    "print(f\"a = {a}\")\n",
    "print(f\"tau = {tau}\")"
   ]
  },
  {
   "cell_type": "code",
   "execution_count": null,
   "id": "emfo",
   "metadata": {},
   "outputs": [
    {
     "name": "stdout",
     "output_type": "stream",
     "text": [
      "Solution 1, time = 0.019679784774780273 s\n",
      "  [ 1 1 0 0 0 0 0 0 0 0 0 0 0 0 0 0 0 0 0 1 ]\n",
      "  [ 1 2 20 ]\n",
      "Solution 2, time = 0.029220104217529297 s\n",
      "  [ 1 1 0 0 0 0 0 0 0 0 0 0 0 0 0 0 0 0 1 0 ]\n",
      "  [ 1 2 19 ]\n"
     ]
    },
    {
     "name": "stdout",
     "output_type": "stream",
     "text": [
      "Solution 3, time = 0.03765606880187988 s\n",
      "  [ 1 1 0 0 0 1 1 0 0 0 0 0 0 0 0 0 0 0 0 0 ]\n",
      "  [ 1 2 6 7 ]\n",
      "Solution 4, time = 0.043617963790893555 s\n",
      "  [ 1 1 1 0 0 1 0 0 0 0 0 0 0 0 0 0 0 0 0 0 ]\n",
      "  [ 1 2 3 6 ]\n",
      "Solution 5, time = 0.046922922134399414 s\n",
      "  [ 1 1 1 0 1 0 0 0 0 0 0 0 0 0 0 0 0 0 0 0 ]\n",
      "  [ 1 2 3 5 ]\n"
     ]
    },
    {
     "name": "stdout",
     "output_type": "stream",
     "text": [
      "Solution 6, time = 0.051133155822753906 s\n",
      "  [ 1 0 0 1 0 0 0 0 0 0 0 0 1 0 0 0 0 0 0 0 ]\n",
      "  [ 1 4 13 ]\n",
      "Solution 7, time = 0.05532407760620117 s\n",
      "  [ 1 1 1 0 0 0 0 1 0 0 0 0 0 0 0 0 0 0 0 0 ]\n",
      "  [ 1 2 3 8 ]\n",
      "Solution 8, time = 0.057424068450927734 s\n",
      "  [ 1 0 0 0 1 0 0 0 0 0 0 0 0 1 0 0 0 0 0 0 ]\n",
      "  [ 1 5 14 ]\n",
      "Solution 9, time = 0.05888700485229492 s\n",
      "  [ 1 0 0 1 0 0 0 0 0 0 0 0 0 1 0 0 0 0 0 0 ]\n",
      "  [ 1 4 14 ]\n",
      "Solution 10, time = 0.06005597114562988 s\n",
      "  [ 1 0 0 0 0 1 0 0 0 0 0 0 0 1 0 0 0 0 0 0 ]\n",
      "  [ 1 6 14 ]\n"
     ]
    },
    {
     "name": "stdout",
     "output_type": "stream",
     "text": [
      "Solution 11, time = 0.06553483009338379 s\n",
      "  [ 1 1 1 1 0 0 0 0 0 0 0 0 0 0 0 0 0 0 0 0 ]\n",
      "  [ 1 2 3 4 ]\n",
      "Solution 12, time = 0.07052302360534668 s\n",
      "  [ 1 0 0 0 0 1 0 0 1 0 0 0 0 0 0 0 0 0 0 0 ]\n",
      "  [ 1 6 9 ]\n",
      "Solution 13, time = 0.07253694534301758 s\n",
      "  [ 1 1 0 0 1 0 0 0 1 0 0 0 0 0 0 0 0 0 0 0 ]\n",
      "  [ 1 2 5 9 ]\n",
      "Solution 14, time = 0.07389688491821289 s\n",
      "  [ 1 1 0 1 0 0 0 0 1 0 0 0 0 0 0 0 0 0 0 0 ]\n",
      "  [ 1 2 4 9 ]\n",
      "Solution 15, time = 0.07505393028259277 s\n",
      "  [ 1 1 1 0 0 0 0 0 1 0 0 0 0 0 0 0 0 0 0 0 ]\n",
      "  [ 1 2 3 9 ]\n"
     ]
    },
    {
     "name": "stdout",
     "output_type": "stream",
     "text": [
      "Solution 16, time = 0.07918691635131836 s\n",
      "  [ 1 0 0 0 1 0 0 0 0 0 0 0 0 0 1 0 0 0 0 0 ]\n",
      "  [ 1 5 15 ]\n",
      "Solution 17, time = 0.08150696754455566 s\n",
      "  [ 1 0 0 0 1 0 0 0 0 0 0 1 0 0 0 0 0 0 0 0 ]\n",
      "  [ 1 5 12 ]\n",
      "Solution 18, time = 0.08482694625854492 s\n",
      "  [ 1 0 0 0 1 0 0 0 0 0 0 0 1 0 0 0 0 0 0 0 ]\n",
      "  [ 1 5 13 ]\n",
      "Solution 19, time = 0.08705401420593262 s\n",
      "  [ 1 0 0 0 1 0 0 0 0 0 0 0 0 0 0 0 0 0 0 1 ]\n",
      "  [ 1 5 20 ]\n"
     ]
    },
    {
     "name": "stdout",
     "output_type": "stream",
     "text": [
      "Solution 20, time = 0.0972280502319336 s\n",
      "  [ 1 1 0 1 1 0 0 0 0 0 0 0 0 0 0 0 0 0 0 0 ]\n",
      "  [ 1 2 4 5 ]\n",
      "Solution 21, time = 0.10079407691955566 s\n",
      "  [ 1 0 1 1 0 1 0 0 0 0 0 0 0 0 0 0 0 0 0 0 ]\n",
      "  [ 1 3 4 6 ]\n",
      "Solution 22, time = 0.10345697402954102 s\n",
      "  [ 1 0 1 0 0 0 0 0 0 0 0 0 0 0 0 0 0 0 0 1 ]\n",
      "  [ 1 3 20 ]\n"
     ]
    },
    {
     "name": "stdout",
     "output_type": "stream",
     "text": [
      "Solution 23, time = 0.10839295387268066 s\n",
      "  [ 1 0 1 1 0 0 0 1 0 0 0 0 0 0 0 0 0 0 0 0 ]\n",
      "  [ 1 3 4 8 ]\n",
      "Solution 24, time = 0.11360406875610352 s\n",
      "  [ 1 0 0 0 0 1 0 0 0 0 0 1 0 0 0 0 0 0 0 0 ]\n",
      "  [ 1 6 12 ]\n"
     ]
    },
    {
     "name": "stdout",
     "output_type": "stream",
     "text": [
      "Solution 25, time = 0.1199789047241211 s\n",
      "  [ 1 0 1 0 0 0 0 0 0 0 0 0 0 0 0 0 1 0 0 0 ]\n",
      "  [ 1 3 17 ]\n",
      "Solution 26, time = 0.12923407554626465 s\n",
      "  [ 1 1 0 1 0 0 0 0 0 0 0 1 0 0 0 0 0 0 0 0 ]\n",
      "  [ 1 2 4 12 ]\n"
     ]
    },
    {
     "name": "stdout",
     "output_type": "stream",
     "text": [
      "Solution 27, time = 0.14280104637145996 s\n",
      "  [ 1 0 0 0 0 1 0 0 0 0 0 0 1 0 0 0 0 0 0 0 ]\n",
      "  [ 1 6 13 ]\n",
      "Solution 28, time = 0.14795780181884766 s\n",
      "  [ 1 1 0 1 0 1 0 0 0 0 0 0 0 0 0 0 0 0 0 0 ]\n",
      "  [ 1 2 4 6 ]\n",
      "Solution 29, time = 0.1522359848022461 s\n",
      "  [ 1 1 0 1 0 0 0 0 0 0 1 0 0 0 0 0 0 0 0 0 ]\n",
      "  [ 1 2 4 11 ]\n"
     ]
    },
    {
     "name": "stdout",
     "output_type": "stream",
     "text": [
      "Solution 30, time = 0.15820002555847168 s\n",
      "  [ 1 1 0 0 0 0 0 0 0 0 0 0 0 0 0 0 1 0 0 0 ]\n",
      "  [ 1 2 17 ]\n",
      "Solution 31, time = 0.1672508716583252 s\n",
      "  [ 1 1 1 0 0 0 0 0 0 0 0 0 0 0 1 0 0 0 0 0 ]\n",
      "  [ 1 2 3 15 ]\n"
     ]
    },
    {
     "name": "stdout",
     "output_type": "stream",
     "text": [
      "Solution 32, time = 0.1696949005126953 s\n",
      "  [ 1 1 0 1 0 0 0 0 0 1 0 0 0 0 0 0 0 0 0 0 ]\n",
      "  [ 1 2 4 10 ]\n",
      "Solution 33, time = 0.1802959442138672 s\n",
      "  [ 1 1 1 0 0 0 0 0 0 0 0 1 0 0 0 0 0 0 0 0 ]\n",
      "  [ 1 2 3 12 ]\n"
     ]
    },
    {
     "name": "stdout",
     "output_type": "stream",
     "text": [
      "Solution 34, time = 0.18898296356201172 s\n",
      "  [ 1 1 1 0 0 0 0 0 0 1 0 0 0 0 0 0 0 0 0 0 ]\n",
      "  [ 1 2 3 10 ]\n",
      "Solution 35, time = 0.20119786262512207 s\n",
      "  [ 1 1 1 0 0 0 0 0 0 0 0 0 0 1 0 0 0 0 0 0 ]\n",
      "  [ 1 2 3 14 ]\n"
     ]
    },
    {
     "name": "stdout",
     "output_type": "stream",
     "text": [
      "Solution 36, time = 0.2106647491455078 s\n",
      "  [ 1 1 0 0 0 0 0 0 0 0 0 0 0 0 0 0 0 1 0 0 ]\n",
      "  [ 1 2 18 ]\n"
     ]
    },
    {
     "name": "stdout",
     "output_type": "stream",
     "text": [
      "Solution 37, time = 0.2265620231628418 s\n",
      "  [ 1 1 0 1 0 0 0 1 0 0 0 0 0 0 0 0 0 0 0 0 ]\n",
      "  [ 1 2 4 8 ]\n",
      "Solution 38, time = 0.23424792289733887 s\n",
      "  [ 1 1 0 0 1 1 0 0 0 0 0 0 0 0 0 0 0 0 0 0 ]\n",
      "  [ 1 2 5 6 ]\n"
     ]
    },
    {
     "name": "stdout",
     "output_type": "stream",
     "text": [
      "Solution 39, time = 0.23739194869995117 s\n",
      "  [ 1 1 0 0 0 1 0 1 0 0 0 0 0 0 0 0 0 0 0 0 ]\n",
      "  [ 1 2 6 8 ]\n",
      "Solution 40, time = 0.24071097373962402 s\n",
      "  [ 1 1 0 0 1 0 0 1 0 0 0 0 0 0 0 0 0 0 0 0 ]\n",
      "  [ 1 2 5 8 ]\n",
      "Solution 41, time = 0.24266386032104492 s\n",
      "  [ 1 1 0 0 1 0 0 0 0 1 0 0 0 0 0 0 0 0 0 0 ]\n",
      "  [ 1 2 5 10 ]\n",
      "Solution 42, time = 0.24696803092956543 s\n",
      "  [ 1 0 0 1 0 0 0 0 0 0 0 0 0 0 1 0 0 0 0 0 ]\n",
      "  [ 1 4 15 ]\n"
     ]
    },
    {
     "name": "stdout",
     "output_type": "stream",
     "text": [
      "Solution 43, time = 0.2523210048675537 s\n",
      "  [ 1 0 0 1 0 0 0 0 0 0 0 0 0 0 0 0 0 0 0 1 ]\n",
      "  [ 1 4 20 ]\n",
      "Solution 44, time = 0.2573270797729492 s\n",
      "  [ 1 0 0 0 0 0 0 0 1 1 0 0 0 0 0 0 0 0 0 0 ]\n",
      "  [ 1 9 10 ]\n",
      "Solution 45, time = 0.2595388889312744 s\n",
      "  [ 1 0 0 0 0 1 0 0 0 1 0 0 0 0 0 0 0 0 0 0 ]\n",
      "  [ 1 6 10 ]\n",
      "Solution 46, time = 0.2606368064880371 s\n",
      "  [ 1 0 0 0 0 0 0 1 0 1 0 0 0 0 0 0 0 0 0 0 ]\n",
      "  [ 1 8 10 ]\n"
     ]
    },
    {
     "name": "stdout",
     "output_type": "stream",
     "text": [
      "Solution 47, time = 0.26395106315612793 s\n",
      "  [ 1 0 0 1 0 0 0 0 0 0 0 0 0 0 0 0 0 1 0 0 ]\n",
      "  [ 1 4 18 ]\n",
      "Solution 48, time = 0.2739241123199463 s\n",
      "  [ 1 0 0 0 0 0 0 1 0 0 0 1 0 0 0 0 0 0 0 0 ]\n",
      "  [ 1 8 12 ]\n"
     ]
    },
    {
     "name": "stdout",
     "output_type": "stream",
     "text": [
      "Solution 49, time = 0.2838709354400635 s\n",
      "  [ 1 1 1 0 0 0 0 0 0 0 0 0 1 0 0 0 0 0 0 0 ]\n",
      "  [ 1 2 3 13 ]\n",
      "Solution 50, time = 0.2869107723236084 s\n",
      "  [ 1 1 1 0 0 0 0 0 0 0 0 0 0 0 0 1 0 0 0 0 ]\n",
      "  [ 1 2 3 16 ]\n",
      "Solution 51, time = 0.29321908950805664 s\n",
      "  [ 1 1 1 0 0 0 0 0 0 0 1 0 0 0 0 0 0 0 0 0 ]\n",
      "  [ 1 2 3 11 ]\n"
     ]
    },
    {
     "name": "stdout",
     "output_type": "stream",
     "text": [
      "Solution 52, time = 0.30067896842956543 s\n",
      "  [ 1 0 1 0 0 0 0 0 0 0 0 0 0 0 0 0 0 0 1 0 ]\n",
      "  [ 1 3 19 ]\n",
      "Solution 53, time = 0.30615997314453125 s\n",
      "  [ 1 0 0 1 0 0 0 0 0 0 0 0 0 0 0 0 0 0 1 0 ]\n",
      "  [ 1 4 19 ]\n"
     ]
    },
    {
     "name": "stdout",
     "output_type": "stream",
     "text": [
      "Solution 54, time = 0.3123188018798828 s\n",
      "  [ 1 0 0 1 0 0 0 0 0 0 0 0 0 0 0 0 1 0 0 0 ]\n",
      "  [ 1 4 17 ]\n",
      "Solution 55, time = 0.3185539245605469 s\n",
      "  [ 1 1 0 1 0 0 1 0 0 0 0 0 0 0 0 0 0 0 0 0 ]\n",
      "  [ 1 2 4 7 ]\n"
     ]
    },
    {
     "name": "stdout",
     "output_type": "stream",
     "text": [
      "Solution 56, time = 0.32444310188293457 s\n",
      "  [ 1 0 0 0 0 0 1 1 0 0 0 0 0 0 0 0 0 0 0 0 ]\n",
      "  [ 1 7 8 ]\n",
      "Solution 57, time = 0.32634782791137695 s\n",
      "  [ 1 0 0 0 0 0 1 0 0 1 0 0 0 0 0 0 0 0 0 0 ]\n",
      "  [ 1 7 10 ]\n",
      "Solution 58, time = 0.3295111656188965 s\n",
      "  [ 1 0 0 0 0 0 1 0 0 0 0 0 0 1 0 0 0 0 0 0 ]\n",
      "  [ 1 7 14 ]\n"
     ]
    },
    {
     "name": "stdout",
     "output_type": "stream",
     "text": [
      "Solution 59, time = 0.3420829772949219 s\n",
      "  [ 1 0 0 0 0 0 1 0 1 0 0 0 0 0 0 0 0 0 0 0 ]\n",
      "  [ 1 7 9 ]\n",
      "Solution 60, time = 0.34866976737976074 s\n",
      "  [ 1 0 0 0 0 0 0 1 1 0 0 0 0 0 0 0 0 0 0 0 ]\n",
      "  [ 1 8 9 ]\n"
     ]
    },
    {
     "name": "stdout",
     "output_type": "stream",
     "text": [
      "Solution 61, time = 0.35857605934143066 s\n",
      "  [ 1 0 0 1 0 0 0 0 0 0 0 0 0 0 0 1 0 0 0 0 ]\n",
      "  [ 1 4 16 ]\n",
      "Solution 62, time = 0.36176085472106934 s\n",
      "  [ 1 0 0 0 0 1 0 0 0 0 0 0 0 0 0 1 0 0 0 0 ]\n",
      "  [ 1 6 16 ]\n",
      "Solution 63, time = 0.36429786682128906 s\n",
      "  [ 1 0 0 0 0 1 0 0 0 0 0 0 0 0 1 0 0 0 0 0 ]\n",
      "  [ 1 6 15 ]\n"
     ]
    },
    {
     "name": "stdout",
     "output_type": "stream",
     "text": [
      "Solution 64, time = 0.3744359016418457 s\n",
      "  [ 1 0 0 0 1 0 0 0 0 0 0 0 0 0 0 1 0 0 0 0 ]\n",
      "  [ 1 5 16 ]\n",
      "Solution 65, time = 0.37927699089050293 s\n",
      "  [ 1 0 0 0 1 0 0 0 0 0 0 0 0 0 0 0 1 0 0 0 ]\n",
      "  [ 1 5 17 ]\n"
     ]
    },
    {
     "name": "stdout",
     "output_type": "stream",
     "text": [
      "Solution 66, time = 0.386185884475708 s\n",
      "  [ 1 0 0 0 1 0 0 0 0 0 0 0 0 0 0 0 0 0 1 0 ]\n",
      "  [ 1 5 19 ]\n",
      "Solution 67, time = 0.39344286918640137 s\n",
      "  [ 1 0 1 1 1 0 0 0 0 0 0 0 0 0 0 0 0 0 0 0 ]\n",
      "  [ 1 3 4 5 ]\n"
     ]
    },
    {
     "name": "stdout",
     "output_type": "stream",
     "text": [
      "Solution 68, time = 0.39930009841918945 s\n",
      "  [ 1 0 1 0 1 1 0 0 0 0 0 0 0 0 0 0 0 0 0 0 ]\n",
      "  [ 1 3 5 6 ]\n",
      "Solution 69, time = 0.4068429470062256 s\n",
      "  [ 1 1 1 0 0 0 1 0 0 0 0 0 0 0 0 0 0 0 0 0 ]\n",
      "  [ 1 2 3 7 ]\n"
     ]
    },
    {
     "name": "stdout",
     "output_type": "stream",
     "text": [
      "Solution 70, time = 0.41297197341918945 s\n",
      "  [ 1 0 0 0 0 0 1 0 0 0 0 0 1 0 0 0 0 0 0 0 ]\n",
      "  [ 1 7 13 ]\n",
      "Solution 71, time = 0.42084503173828125 s\n",
      "  [ 1 0 1 1 0 0 1 0 0 0 0 0 0 0 0 0 0 0 0 0 ]\n",
      "  [ 1 3 4 7 ]\n"
     ]
    },
    {
     "name": "stdout",
     "output_type": "stream",
     "text": [
      "Solution 72, time = 0.42584896087646484 s\n",
      "  [ 1 0 0 0 0 0 1 0 0 0 0 1 0 0 0 0 0 0 0 0 ]\n",
      "  [ 1 7 12 ]\n",
      "Solution 73, time = 0.43099308013916016 s\n",
      "  [ 1 1 0 0 1 0 1 0 0 0 0 0 0 0 0 0 0 0 0 0 ]\n",
      "  [ 1 2 5 7 ]\n"
     ]
    },
    {
     "name": "stdout",
     "output_type": "stream",
     "text": [
      "Solution 74, time = 0.4394559860229492 s\n",
      "  [ 1 0 0 0 1 0 0 0 0 0 0 0 0 0 0 0 0 1 0 0 ]\n",
      "  [ 1 5 18 ]\n"
     ]
    },
    {
     "name": "stdout",
     "output_type": "stream",
     "text": [
      "Solution 75, time = 0.4528648853302002 s\n",
      "  [ 1 0 0 0 0 0 0 1 0 0 1 0 0 0 0 0 0 0 0 0 ]\n",
      "  [ 1 8 11 ]\n",
      "Solution 76, time = 0.459061861038208 s\n",
      "  [ 1 0 0 0 1 0 0 0 0 0 1 0 0 0 0 0 0 0 0 0 ]\n",
      "  [ 1 5 11 ]\n",
      "Solution 77, time = 0.46144890785217285 s\n",
      "  [ 1 0 1 0 0 0 0 0 0 0 0 0 0 0 0 0 0 1 0 0 ]\n",
      "  [ 1 3 18 ]\n"
     ]
    },
    {
     "name": "stdout",
     "output_type": "stream",
     "text": [
      "Solution 78, time = 0.46491098403930664 s\n",
      "  [ 1 0 0 0 0 0 0 0 1 0 1 0 0 0 0 0 0 0 0 0 ]\n",
      "  [ 1 9 11 ]\n",
      "Solution 79, time = 0.46686887741088867 s\n",
      "  [ 1 0 0 0 0 0 1 0 0 0 1 0 0 0 0 0 0 0 0 0 ]\n",
      "  [ 1 7 11 ]\n",
      "Solution 80, time = 0.46729207038879395 s\n",
      "  [ 1 0 0 0 0 1 0 0 0 0 1 0 0 0 0 0 0 0 0 0 ]\n",
      "  [ 1 6 11 ]\n"
     ]
    }
   ],
   "source": [
    "model = Model(a, tau)\n",
    "model.solve()"
   ]
  },
  {
   "cell_type": "code",
   "execution_count": null,
   "id": "Hstk",
   "metadata": {},
   "outputs": [
    {
     "data": {
      "application/json": "[[1, 2, 20], [1, 2, 19], [1, 2, 6, 7], [1, 2, 3, 6], [1, 2, 3, 5], [1, 4, 13], [1, 2, 3, 8], [1, 5, 14], [1, 4, 14], [1, 6, 14], [1, 2, 3, 4], [1, 6, 9], [1, 2, 5, 9], [1, 2, 4, 9], [1, 2, 3, 9], [1, 5, 15], [1, 5, 12], [1, 5, 13], [1, 5, 20], [1, 2, 4, 5], [1, 3, 4, 6], [1, 3, 20], [1, 3, 4, 8], [1, 6, 12], [1, 3, 17], [1, 2, 4, 12], [1, 6, 13], [1, 2, 4, 6], [1, 2, 4, 11], [1, 2, 17], [1, 2, 3, 15], [1, 2, 4, 10], [1, 2, 3, 12], [1, 2, 3, 10], [1, 2, 3, 14], [1, 2, 18], [1, 2, 4, 8], [1, 2, 5, 6], [1, 2, 6, 8], [1, 2, 5, 8], [1, 2, 5, 10], [1, 4, 15], [1, 4, 20], [1, 9, 10], [1, 6, 10], [1, 8, 10], [1, 4, 18], [1, 8, 12], [1, 2, 3, 13], [1, 2, 3, 16], [1, 2, 3, 11], [1, 3, 19], [1, 4, 19], [1, 4, 17], [1, 2, 4, 7], [1, 7, 8], [1, 7, 10], [1, 7, 14], [1, 7, 9], [1, 8, 9], [1, 4, 16], [1, 6, 16], [1, 6, 15], [1, 5, 16], [1, 5, 17], [1, 5, 19], [1, 3, 4, 5], [1, 3, 5, 6], [1, 2, 3, 7], [1, 7, 13], [1, 3, 4, 7], [1, 7, 12], [1, 2, 5, 7], [1, 5, 18], [1, 8, 11], [1, 5, 11], [1, 3, 18], [1, 9, 11], [1, 7, 11], [1, 6, 11]]"
     },
     "metadata": {},
     "output_type": "display_data"
    }
   ],
   "source": [
    "model.solution_printer.all_solutions"
   ]
  },
  {
   "cell_type": "code",
   "execution_count": null,
   "id": "nWHF",
   "metadata": {},
   "outputs": [
    {
     "name": "stdout",
     "output_type": "stream",
     "text": [
      "Statistics\n",
      "  conflicts      : 130\n",
      "  branches       : 12601\n",
      "  wall time      : 0.462936 s\n",
      "  solutions found: 80\n"
     ]
    }
   ],
   "source": [
    "print(\"Statistics\")\n",
    "print(f\"  conflicts      : {model.solver.num_conflicts}\")\n",
    "print(f\"  branches       : {model.solver.num_branches}\")\n",
    "print(f\"  wall time      : {model.solver.wall_time} s\")\n",
    "print(f\"  solutions found: {model.solution_printer.solution_count}\")"
   ]
  },
  {
   "cell_type": "markdown",
   "id": "iLit",
   "metadata": {
    "marimo": {
     "config": {
      "hide_code": true
     }
    }
   },
   "source": [
    "## 結果\n",
    "\n",
    "掛け算を使った定式化は厳密ではあるものの数値が大きくなりすぎてしまう問題がある.\n",
    "おとなしく $\\log$ を使って線形計画問題にしよう."
   ]
  },
  {
   "cell_type": "markdown",
   "id": "ZHCJ",
   "metadata": {
    "marimo": {
     "config": {
      "hide_code": true
     }
    }
   },
   "source": [
    "## 定式化(MILP)"
   ]
  },
  {
   "cell_type": "markdown",
   "id": "ROlb",
   "metadata": {
    "marimo": {
     "config": {
      "hide_code": true
     }
    }
   },
   "source": [
    "$x = [x_1, \\dots, x_n]$ を 0-1 決定変数とする.\n",
    "$x_i$ が $1$ のとき $a_i$ を採用し, $0$ のとき採用しない.\n",
    "\n",
    "$$\n",
    "w := \\log(a_1) x_1 + \\dots + \\log(a_n) x_n\n",
    "$$\n",
    "\n",
    "とすると制約条件は以下のように書ける.\n",
    "\n",
    "- $w \\leq \\log(\\tau)$: 採用した $a_i$ の積が $\\tau$ を超えない\n",
    "- $w + \\log(a_i) (1 - x_i) > \\log(\\tau) (1 - x_i) \\quad (\\forall i = 1, \\dots, n)$: 採用しなかった $a_j$ を掛けたら $\\tau$ を超えてしまう.\n",
    "\n",
    "CP-SAT ソルバーは整数しか扱えないので $\\log(a_i)$ や $\\log(\\tau)$ は適当にスケールして小数点以下を切り捨てることにする.\n",
    "これによって誤差が出るかもしれない."
   ]
  },
  {
   "cell_type": "markdown",
   "id": "qnkX",
   "metadata": {
    "marimo": {
     "config": {
      "hide_code": true
     }
    }
   },
   "source": [
    "## 実装(MILP)"
   ]
  },
  {
   "cell_type": "code",
   "execution_count": null,
   "id": "TqIu",
   "metadata": {},
   "outputs": [],
   "source": [
    "class ModelLinear:\n",
    "    def __init__(self, a, tau):\n",
    "        self.a = a\n",
    "        self.tau = tau\n",
    "        base = 1000000\n",
    "        self.log_a = [math.floor(math.log(ai) * base) for ai in a]\n",
    "        self.log_tau = math.floor(math.log(self.tau) * base)\n",
    "        print(f\"log_a = {self.log_a}\")\n",
    "        print(f\"log_tau = {self.log_tau}\")\n",
    "        self.model = cp_model.CpModel()\n",
    "        self.solver = cp_model.CpSolver()\n",
    "        self.x = [self.model.new_bool_var(f\"a{i} is used\") for i in range(len(self.a))]\n",
    "        w = sum(a * x for a, x in zip(self.log_a, self.x))\n",
    "\n",
    "        self.model.add(w <= self.log_tau)\n",
    "        for a, x in zip(self.log_a, self.x):\n",
    "            self.model.add(w + a * (1 - x) >= (self.log_tau + 1) * (1 - x))\n",
    "\n",
    "    def solve(self):\n",
    "        self.solution_printer = SolutionPrinter(self.a, self.x)\n",
    "        self.solver.parameters.enumerate_all_solutions = True\n",
    "        #self.solver.parameters.log_search_progress = True\n",
    "        self.solver.solve(self.model, self.solution_printer)"
   ]
  },
  {
   "cell_type": "code",
   "execution_count": null,
   "id": "Vxnm",
   "metadata": {},
   "outputs": [
    {
     "name": "stdout",
     "output_type": "stream",
     "text": [
      "a = [1, 2, 3, 4, 5, 6, 7, 8, 9, 10, 11, 12, 13, 14, 15, 16, 17, 18, 19, 20]\n",
      "tau = 100\n"
     ]
    }
   ],
   "source": [
    "print(f\"a = {a}\")\n",
    "print(f\"tau = {tau}\")"
   ]
  },
  {
   "cell_type": "code",
   "execution_count": null,
   "id": "DnEU",
   "metadata": {},
   "outputs": [
    {
     "name": "stdout",
     "output_type": "stream",
     "text": [
      "log_a = [0, 693147, 1098612, 1386294, 1609437, 1791759, 1945910, 2079441, 2197224, 2302585, 2397895, 2484906, 2564949, 2639057, 2708050, 2772588, 2833213, 2890371, 2944438, 2995732]\n",
      "log_tau = 4605170\n",
      "Solution 1, time = 0.0018808841705322266 s\n",
      "  [ 1 0 1 1 1 0 0 0 0 0 0 0 0 0 0 0 0 0 0 0 ]\n",
      "  [ 1 3 4 5 ]\n",
      "Solution 2, time = 0.001984119415283203 s\n",
      "  [ 1 0 1 1 0 1 0 0 0 0 0 0 0 0 0 0 0 0 0 0 ]\n",
      "  [ 1 3 4 6 ]\n",
      "Solution 3, time = 0.0020720958709716797 s\n",
      "  [ 1 0 1 0 1 1 0 0 0 0 0 0 0 0 0 0 0 0 0 0 ]\n",
      "  [ 1 3 5 6 ]\n",
      "Solution 4, time = 0.0021598339080810547 s\n",
      "  [ 1 0 1 1 0 0 1 0 0 0 0 0 0 0 0 0 0 0 0 0 ]\n",
      "  [ 1 3 4 7 ]\n",
      "Solution 5, time = 0.0022690296173095703 s\n",
      "  [ 1 0 1 1 0 0 0 1 0 0 0 0 0 0 0 0 0 0 0 0 ]\n",
      "  [ 1 3 4 8 ]\n",
      "Solution 6, time = 0.002359151840209961 s\n",
      "  [ 1 0 0 0 0 0 1 1 0 0 0 0 0 0 0 0 0 0 0 0 ]\n",
      "  [ 1 7 8 ]\n",
      "Solution 7, time = 0.0024509429931640625 s\n",
      "  [ 1 0 0 0 0 1 0 0 1 0 0 0 0 0 0 0 0 0 0 0 ]\n",
      "  [ 1 6 9 ]\n",
      "Solution 8, time = 0.0025348663330078125 s\n",
      "  [ 1 0 0 0 0 0 1 0 1 0 0 0 0 0 0 0 0 0 0 0 ]\n",
      "  [ 1 7 9 ]\n"
     ]
    },
    {
     "name": "stdout",
     "output_type": "stream",
     "text": [
      "Solution 9, time = 0.0026891231536865234 s\n",
      "  [ 1 0 0 0 0 0 0 1 1 0 0 0 0 0 0 0 0 0 0 0 ]\n",
      "  [ 1 8 9 ]\n",
      "Solution 10, time = 0.002782106399536133 s\n",
      "  [ 1 0 0 0 0 1 0 0 0 1 0 0 0 0 0 0 0 0 0 0 ]\n",
      "  [ 1 6 10 ]\n",
      "Solution 11, time = 0.002864837646484375 s\n",
      "  [ 1 0 0 0 0 0 1 0 0 1 0 0 0 0 0 0 0 0 0 0 ]\n",
      "  [ 1 7 10 ]\n",
      "Solution 12, time = 0.0029468536376953125 s\n",
      "  [ 1 0 0 0 0 0 0 1 0 1 0 0 0 0 0 0 0 0 0 0 ]\n",
      "  [ 1 8 10 ]\n",
      "Solution 13, time = 0.0030279159545898438 s\n",
      "  [ 1 0 0 0 0 0 0 0 1 1 0 0 0 0 0 0 0 0 0 0 ]\n",
      "  [ 1 9 10 ]\n",
      "Solution 14, time = 0.003113985061645508 s\n",
      "  [ 1 0 0 0 1 0 0 0 0 0 1 0 0 0 0 0 0 0 0 0 ]\n",
      "  [ 1 5 11 ]\n",
      "Solution 15, time = 0.0031960010528564453 s\n",
      "  [ 1 0 0 0 0 1 0 0 0 0 1 0 0 0 0 0 0 0 0 0 ]\n",
      "  [ 1 6 11 ]\n",
      "Solution 16, time = 0.0032830238342285156 s\n",
      "  [ 1 0 0 0 0 0 1 0 0 0 1 0 0 0 0 0 0 0 0 0 ]\n",
      "  [ 1 7 11 ]\n",
      "Solution 17, time = 0.0033648014068603516 s\n",
      "  [ 1 0 0 0 0 0 0 1 0 0 1 0 0 0 0 0 0 0 0 0 ]\n",
      "  [ 1 8 11 ]\n",
      "Solution 18, time = 0.003448963165283203 s\n",
      "  [ 1 0 0 0 0 0 0 0 1 0 1 0 0 0 0 0 0 0 0 0 ]\n",
      "  [ 1 9 11 ]\n",
      "Solution 19, time = 0.0035359859466552734 s\n",
      "  [ 1 0 0 0 1 0 0 0 0 0 0 1 0 0 0 0 0 0 0 0 ]\n",
      "  [ 1 5 12 ]\n",
      "Solution 20, time = 0.0036170482635498047 s\n",
      "  [ 1 0 0 0 0 1 0 0 0 0 0 1 0 0 0 0 0 0 0 0 ]\n",
      "  [ 1 6 12 ]\n",
      "Solution 21, time = 0.004004955291748047 s\n",
      "  [ 1 0 0 0 0 0 1 0 0 0 0 1 0 0 0 0 0 0 0 0 ]\n",
      "  [ 1 7 12 ]\n",
      "Solution 22, time = 0.004091024398803711 s\n",
      "  [ 1 0 0 0 0 0 0 1 0 0 0 1 0 0 0 0 0 0 0 0 ]\n",
      "  [ 1 8 12 ]\n",
      "Solution 23, time = 0.0041768550872802734 s\n",
      "  [ 1 0 0 1 0 0 0 0 0 0 0 0 1 0 0 0 0 0 0 0 ]\n",
      "  [ 1 4 13 ]\n",
      "Solution 24, time = 0.004259824752807617 s\n",
      "  [ 1 0 0 0 1 0 0 0 0 0 0 0 1 0 0 0 0 0 0 0 ]\n",
      "  [ 1 5 13 ]\n",
      "Solution 25, time = 0.004359006881713867 s\n",
      "  [ 1 0 0 0 0 1 0 0 0 0 0 0 1 0 0 0 0 0 0 0 ]\n",
      "  [ 1 6 13 ]\n",
      "Solution 26, time = 0.004467964172363281 s\n",
      "  [ 1 0 0 0 0 0 1 0 0 0 0 0 1 0 0 0 0 0 0 0 ]\n",
      "  [ 1 7 13 ]\n",
      "Solution 27, time = 0.004561901092529297 s\n",
      "  [ 1 0 0 1 0 0 0 0 0 0 0 0 0 1 0 0 0 0 0 0 ]\n",
      "  [ 1 4 14 ]\n",
      "Solution 28, time = 0.0046539306640625 s\n",
      "  [ 1 0 0 0 1 0 0 0 0 0 0 0 0 1 0 0 0 0 0 0 ]\n",
      "  [ 1 5 14 ]\n",
      "Solution 29, time = 0.00474095344543457 s\n",
      "  [ 1 0 0 0 0 1 0 0 0 0 0 0 0 1 0 0 0 0 0 0 ]\n",
      "  [ 1 6 14 ]\n",
      "Solution 30, time = 0.004824161529541016 s\n",
      "  [ 1 0 0 0 0 0 1 0 0 0 0 0 0 1 0 0 0 0 0 0 ]\n",
      "  [ 1 7 14 ]\n",
      "Solution 31, time = 0.004910945892333984 s\n",
      "  [ 1 0 0 1 0 0 0 0 0 0 0 0 0 0 1 0 0 0 0 0 ]\n",
      "  [ 1 4 15 ]\n",
      "Solution 32, time = 0.004995822906494141 s\n",
      "  [ 1 0 0 0 1 0 0 0 0 0 0 0 0 0 1 0 0 0 0 0 ]\n",
      "  [ 1 5 15 ]\n",
      "Solution 33, time = 0.005082845687866211 s\n",
      "  [ 1 0 0 0 0 1 0 0 0 0 0 0 0 0 1 0 0 0 0 0 ]\n",
      "  [ 1 6 15 ]\n",
      "Solution 34, time = 0.0051729679107666016 s\n",
      "  [ 1 0 0 1 0 0 0 0 0 0 0 0 0 0 0 1 0 0 0 0 ]\n",
      "  [ 1 4 16 ]\n",
      "Solution 35, time = 0.005268096923828125 s\n",
      "  [ 1 0 0 0 1 0 0 0 0 0 0 0 0 0 0 1 0 0 0 0 ]\n",
      "  [ 1 5 16 ]\n",
      "Solution 36, time = 0.0053560733795166016 s\n",
      "  [ 1 0 0 0 0 1 0 0 0 0 0 0 0 0 0 1 0 0 0 0 ]\n",
      "  [ 1 6 16 ]\n",
      "Solution 37, time = 0.0054438114166259766 s\n",
      "  [ 1 0 1 0 0 0 0 0 0 0 0 0 0 0 0 0 1 0 0 0 ]\n",
      "  [ 1 3 17 ]\n",
      "Solution 38, time = 0.005603790283203125 s\n",
      "  [ 1 0 0 1 0 0 0 0 0 0 0 0 0 0 0 0 1 0 0 0 ]\n",
      "  [ 1 4 17 ]\n",
      "Solution 39, time = 0.005705118179321289 s\n",
      "  [ 1 0 0 0 1 0 0 0 0 0 0 0 0 0 0 0 1 0 0 0 ]\n",
      "  [ 1 5 17 ]\n",
      "Solution 40, time = 0.005794048309326172 s\n",
      "  [ 1 0 1 0 0 0 0 0 0 0 0 0 0 0 0 0 0 1 0 0 ]\n",
      "  [ 1 3 18 ]\n",
      "Solution 41, time = 0.005880117416381836 s\n",
      "  [ 1 0 0 1 0 0 0 0 0 0 0 0 0 0 0 0 0 1 0 0 ]\n",
      "  [ 1 4 18 ]\n",
      "Solution 42, time = 0.005970954895019531 s\n",
      "  [ 1 0 0 0 1 0 0 0 0 0 0 0 0 0 0 0 0 1 0 0 ]\n",
      "  [ 1 5 18 ]\n",
      "Solution 43, time = 0.0060689449310302734 s\n",
      "  [ 1 0 1 0 0 0 0 0 0 0 0 0 0 0 0 0 0 0 1 0 ]\n",
      "  [ 1 3 19 ]\n",
      "Solution 44, time = 0.0061571598052978516 s\n",
      "  [ 1 0 0 1 0 0 0 0 0 0 0 0 0 0 0 0 0 0 1 0 ]\n",
      "  [ 1 4 19 ]\n",
      "Solution 45, time = 0.0062448978424072266 s\n",
      "  [ 1 0 0 0 1 0 0 0 0 0 0 0 0 0 0 0 0 0 1 0 ]\n",
      "  [ 1 5 19 ]\n",
      "Solution 46, time = 0.006358146667480469 s\n",
      "  [ 1 0 1 0 0 0 0 0 0 0 0 0 0 0 0 0 0 0 0 1 ]\n",
      "  [ 1 3 20 ]\n",
      "Solution 47, time = 0.006453037261962891 s\n",
      "  [ 1 0 0 1 0 0 0 0 0 0 0 0 0 0 0 0 0 0 0 1 ]\n",
      "  [ 1 4 20 ]\n",
      "Solution 48, time = 0.0065479278564453125 s\n",
      "  [ 1 0 0 0 1 0 0 0 0 0 0 0 0 0 0 0 0 0 0 1 ]\n",
      "  [ 1 5 20 ]\n",
      "Solution 49, time = 0.0066471099853515625 s\n",
      "  [ 1 1 0 1 1 0 0 0 0 0 0 0 0 0 0 0 0 0 0 0 ]\n",
      "  [ 1 2 4 5 ]\n",
      "Solution 50, time = 0.006741046905517578 s\n",
      "  [ 1 1 0 1 0 1 0 0 0 0 0 0 0 0 0 0 0 0 0 0 ]\n",
      "  [ 1 2 4 6 ]\n",
      "Solution 51, time = 0.006829977035522461 s\n",
      "  [ 1 1 0 0 1 1 0 0 0 0 0 0 0 0 0 0 0 0 0 0 ]\n",
      "  [ 1 2 5 6 ]\n",
      "Solution 52, time = 0.0069179534912109375 s\n",
      "  [ 1 1 0 1 0 0 1 0 0 0 0 0 0 0 0 0 0 0 0 0 ]\n",
      "  [ 1 2 4 7 ]\n",
      "Solution 53, time = 0.007008075714111328 s\n",
      "  [ 1 1 0 0 1 0 1 0 0 0 0 0 0 0 0 0 0 0 0 0 ]\n",
      "  [ 1 2 5 7 ]\n",
      "Solution 54, time = 0.007097959518432617 s\n",
      "  [ 1 1 0 0 0 1 1 0 0 0 0 0 0 0 0 0 0 0 0 0 ]\n",
      "  [ 1 2 6 7 ]\n",
      "Solution 55, time = 0.007185935974121094 s\n",
      "  [ 1 1 0 1 0 0 0 1 0 0 0 0 0 0 0 0 0 0 0 0 ]\n",
      "  [ 1 2 4 8 ]\n",
      "Solution 56, time = 0.007272005081176758 s\n",
      "  [ 1 1 0 0 1 0 0 1 0 0 0 0 0 0 0 0 0 0 0 0 ]\n",
      "  [ 1 2 5 8 ]\n",
      "Solution 57, time = 0.007359981536865234 s\n",
      "  [ 1 1 0 0 0 1 0 1 0 0 0 0 0 0 0 0 0 0 0 0 ]\n",
      "  [ 1 2 6 8 ]\n",
      "Solution 58, time = 0.007447004318237305 s\n",
      "  [ 1 1 0 1 0 0 0 0 1 0 0 0 0 0 0 0 0 0 0 0 ]\n",
      "  [ 1 2 4 9 ]\n",
      "Solution 59, time = 0.007536888122558594 s\n",
      "  [ 1 1 0 0 1 0 0 0 1 0 0 0 0 0 0 0 0 0 0 0 ]\n",
      "  [ 1 2 5 9 ]\n",
      "Solution 60, time = 0.007629871368408203 s\n",
      "  [ 1 1 0 1 0 0 0 0 0 1 0 0 0 0 0 0 0 0 0 0 ]\n",
      "  [ 1 2 4 10 ]\n",
      "Solution 61, time = 0.0077190399169921875 s\n",
      "  [ 1 1 0 0 1 0 0 0 0 1 0 0 0 0 0 0 0 0 0 0 ]\n",
      "  [ 1 2 5 10 ]\n",
      "Solution 62, time = 0.007807016372680664 s\n",
      "  [ 1 1 0 1 0 0 0 0 0 0 1 0 0 0 0 0 0 0 0 0 ]\n",
      "  [ 1 2 4 11 ]\n",
      "Solution 63, time = 0.007896184921264648 s\n",
      "  [ 1 1 0 1 0 0 0 0 0 0 0 1 0 0 0 0 0 0 0 0 ]\n",
      "  [ 1 2 4 12 ]\n",
      "Solution 64, time = 0.007997989654541016 s\n",
      "  [ 1 1 0 0 0 0 0 0 0 0 0 0 0 0 0 0 1 0 0 0 ]\n",
      "  [ 1 2 17 ]\n",
      "Solution 65, time = 0.008088111877441406 s\n",
      "  [ 1 1 0 0 0 0 0 0 0 0 0 0 0 0 0 0 0 1 0 0 ]\n",
      "  [ 1 2 18 ]\n",
      "Solution 66, time = 0.008177042007446289 s\n",
      "  [ 1 1 0 0 0 0 0 0 0 0 0 0 0 0 0 0 0 0 1 0 ]\n",
      "  [ 1 2 19 ]\n",
      "Solution 67, time = 0.008269786834716797 s\n",
      "  [ 1 1 0 0 0 0 0 0 0 0 0 0 0 0 0 0 0 0 0 1 ]\n",
      "  [ 1 2 20 ]\n",
      "Solution 68, time = 0.008361101150512695 s\n",
      "  [ 1 1 1 0 1 0 0 0 0 0 0 0 0 0 0 0 0 0 0 0 ]\n",
      "  [ 1 2 3 5 ]\n",
      "Solution 69, time = 0.008441925048828125 s\n",
      "  [ 1 1 1 0 0 1 0 0 0 0 0 0 0 0 0 0 0 0 0 0 ]\n",
      "  [ 1 2 3 6 ]\n",
      "Solution 70, time = 0.008525848388671875 s\n",
      "  [ 1 1 1 0 0 0 1 0 0 0 0 0 0 0 0 0 0 0 0 0 ]\n",
      "  [ 1 2 3 7 ]\n",
      "Solution 71, time = 0.008608102798461914 s\n",
      "  [ 1 1 1 0 0 0 0 1 0 0 0 0 0 0 0 0 0 0 0 0 ]\n",
      "  [ 1 2 3 8 ]\n",
      "Solution 72, time = 0.008708953857421875 s\n",
      "  [ 1 1 1 0 0 0 0 0 1 0 0 0 0 0 0 0 0 0 0 0 ]\n",
      "  [ 1 2 3 9 ]\n",
      "Solution 73, time = 0.008792877197265625 s\n",
      "  [ 1 1 1 0 0 0 0 0 0 1 0 0 0 0 0 0 0 0 0 0 ]\n",
      "  [ 1 2 3 10 ]\n",
      "Solution 74, time = 0.00887608528137207 s\n",
      "  [ 1 1 1 0 0 0 0 0 0 0 1 0 0 0 0 0 0 0 0 0 ]\n",
      "  [ 1 2 3 11 ]\n",
      "Solution 75, time = 0.008959054946899414 s\n",
      "  [ 1 1 1 0 0 0 0 0 0 0 0 1 0 0 0 0 0 0 0 0 ]\n",
      "  [ 1 2 3 12 ]\n",
      "Solution 76, time = 0.009042024612426758 s\n",
      "  [ 1 1 1 0 0 0 0 0 0 0 0 0 1 0 0 0 0 0 0 0 ]\n",
      "  [ 1 2 3 13 ]\n",
      "Solution 77, time = 0.009123802185058594 s\n",
      "  [ 1 1 1 0 0 0 0 0 0 0 0 0 0 1 0 0 0 0 0 0 ]\n",
      "  [ 1 2 3 14 ]\n",
      "Solution 78, time = 0.009207010269165039 s\n",
      "  [ 1 1 1 0 0 0 0 0 0 0 0 0 0 0 1 0 0 0 0 0 ]\n",
      "  [ 1 2 3 15 ]\n",
      "Solution 79, time = 0.009289026260375977 s\n",
      "  [ 1 1 1 0 0 0 0 0 0 0 0 0 0 0 0 1 0 0 0 0 ]\n",
      "  [ 1 2 3 16 ]\n",
      "Solution 80, time = 0.00937199592590332 s\n",
      "  [ 1 1 1 1 0 0 0 0 0 0 0 0 0 0 0 0 0 0 0 0 ]\n",
      "  [ 1 2 3 4 ]\n"
     ]
    }
   ],
   "source": [
    "model_1 = ModelLinear(a, tau)\n",
    "model_1.solve()"
   ]
  },
  {
   "cell_type": "code",
   "execution_count": null,
   "id": "ulZA",
   "metadata": {},
   "outputs": [
    {
     "data": {
      "application/json": "[[1, 3, 4, 5], [1, 3, 4, 6], [1, 3, 5, 6], [1, 3, 4, 7], [1, 3, 4, 8], [1, 7, 8], [1, 6, 9], [1, 7, 9], [1, 8, 9], [1, 6, 10], [1, 7, 10], [1, 8, 10], [1, 9, 10], [1, 5, 11], [1, 6, 11], [1, 7, 11], [1, 8, 11], [1, 9, 11], [1, 5, 12], [1, 6, 12], [1, 7, 12], [1, 8, 12], [1, 4, 13], [1, 5, 13], [1, 6, 13], [1, 7, 13], [1, 4, 14], [1, 5, 14], [1, 6, 14], [1, 7, 14], [1, 4, 15], [1, 5, 15], [1, 6, 15], [1, 4, 16], [1, 5, 16], [1, 6, 16], [1, 3, 17], [1, 4, 17], [1, 5, 17], [1, 3, 18], [1, 4, 18], [1, 5, 18], [1, 3, 19], [1, 4, 19], [1, 5, 19], [1, 3, 20], [1, 4, 20], [1, 5, 20], [1, 2, 4, 5], [1, 2, 4, 6], [1, 2, 5, 6], [1, 2, 4, 7], [1, 2, 5, 7], [1, 2, 6, 7], [1, 2, 4, 8], [1, 2, 5, 8], [1, 2, 6, 8], [1, 2, 4, 9], [1, 2, 5, 9], [1, 2, 4, 10], [1, 2, 5, 10], [1, 2, 4, 11], [1, 2, 4, 12], [1, 2, 17], [1, 2, 18], [1, 2, 19], [1, 2, 20], [1, 2, 3, 5], [1, 2, 3, 6], [1, 2, 3, 7], [1, 2, 3, 8], [1, 2, 3, 9], [1, 2, 3, 10], [1, 2, 3, 11], [1, 2, 3, 12], [1, 2, 3, 13], [1, 2, 3, 14], [1, 2, 3, 15], [1, 2, 3, 16], [1, 2, 3, 4]]"
     },
     "metadata": {},
     "output_type": "display_data"
    }
   ],
   "source": [
    "model_1.solution_printer.all_solutions"
   ]
  },
  {
   "cell_type": "code",
   "execution_count": null,
   "id": "ecfG",
   "metadata": {},
   "outputs": [
    {
     "name": "stdout",
     "output_type": "stream",
     "text": [
      "Statistics\n",
      " conflicts : 14\n",
      " branches : 1186\n",
      " wall time : 0.009435 s\n",
      " solutions found: 80\n"
     ]
    }
   ],
   "source": [
    "print('Statistics')\n",
    "print(f' conflicts : {model_1.solver.num_conflicts}')\n",
    "print(f' branches : {model_1.solver.num_branches}')\n",
    "print(f' wall time : {model_1.solver.wall_time} s')\n",
    "print(f' solutions found: {model_1.solution_printer.solution_count}')"
   ]
  }
 ],
 "metadata": {},
 "nbformat": 4,
 "nbformat_minor": 5
}
