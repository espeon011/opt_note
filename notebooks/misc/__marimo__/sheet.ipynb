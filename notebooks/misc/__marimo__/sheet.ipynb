{
 "cells": [
  {
   "cell_type": "code",
   "execution_count": null,
   "id": "Hbol",
   "metadata": {},
   "outputs": [],
   "source": [
    "import marimo as mo\n",
    "import nbformat"
   ]
  },
  {
   "cell_type": "code",
   "execution_count": null,
   "id": "MJUe",
   "metadata": {},
   "outputs": [],
   "source": [
    "from ortools.sat.python import cp_model\n",
    "from ortools.math_opt.python import mathopt\n",
    "import random\n",
    "import datetime"
   ]
  },
  {
   "cell_type": "markdown",
   "id": "vblA",
   "metadata": {
    "marimo": {
     "config": {
      "hide_code": true
     }
    }
   },
   "source": [
    "# 忘年会席決め計算"
   ]
  },
  {
   "cell_type": "markdown",
   "id": "bkHC",
   "metadata": {
    "marimo": {
     "config": {
      "hide_code": true
     }
    }
   },
   "source": [
    "## 問題"
   ]
  },
  {
   "cell_type": "markdown",
   "id": "lEQa",
   "metadata": {
    "marimo": {
     "config": {
      "hide_code": true
     }
    }
   },
   "source": [
    "$n$ 人を $n$ 個の座席に配置する.\n",
    "このとき以下のように配置する.\n",
    "\n",
    "- 同一プロジェクトに配属されている人はできるだけ違うテーブルに配置\n",
    "- 同一グループに所属している人はできるだけ違うテーブルに配置\n",
    "- 同年代はできるだけ違うテーブルに配置(社員の年齢が確認できる場合)\n",
    "- その他同属性の社員はできるだけ違うテーブルに配置"
   ]
  },
  {
   "cell_type": "markdown",
   "id": "PKri",
   "metadata": {
    "marimo": {
     "config": {
      "hide_code": true
     }
    }
   },
   "source": [
    "## 定式化"
   ]
  },
  {
   "cell_type": "markdown",
   "id": "Xref",
   "metadata": {
    "marimo": {
     "config": {
      "hide_code": true
     }
    }
   },
   "source": [
    "座席ごとではなくテーブル単位で割り当てる"
   ]
  },
  {
   "cell_type": "markdown",
   "id": "SFPL",
   "metadata": {
    "marimo": {
     "config": {
      "hide_code": true
     }
    }
   },
   "source": [
    "### パラメータ"
   ]
  },
  {
   "cell_type": "markdown",
   "id": "BYtC",
   "metadata": {
    "marimo": {
     "config": {
      "hide_code": true
     }
    }
   },
   "source": [
    "- $S_t$: テーブル $t$ の座席集合\n",
    "- $E_p$: プロジェクト $p$ に配属されているメンバー\n",
    "- $E_g$: グループ $g$ に配属されているメンバー\n",
    "- $E_a$: 年代 $a$ に属しているメンバー"
   ]
  },
  {
   "cell_type": "markdown",
   "id": "RGSE",
   "metadata": {
    "marimo": {
     "config": {
      "hide_code": true
     }
    }
   },
   "source": [
    "### 変数"
   ]
  },
  {
   "cell_type": "markdown",
   "id": "Kclp",
   "metadata": {
    "marimo": {
     "config": {
      "hide_code": true
     }
    }
   },
   "source": [
    "- $x_{it}$: 人 $i$ をテーブル $t$ に配置するとき $1$, そうでないとき $0$"
   ]
  },
  {
   "cell_type": "markdown",
   "id": "emfo",
   "metadata": {
    "marimo": {
     "config": {
      "hide_code": true
     }
    }
   },
   "source": [
    "### 制約"
   ]
  },
  {
   "cell_type": "markdown",
   "id": "Hstk",
   "metadata": {
    "marimo": {
     "config": {
      "hide_code": true
     }
    }
   },
   "source": [
    "- $\\sum_i x_{it} \\leq |S_t|$ (for all $t$): 1 つのテーブルに座れるのはテーブルのキャパシティ以下だけ\n",
    "- $\\sum_t x_{it} = 1$ (for all $i$): 1 人の人は 1 つのテーブルにだけ割り当てられる"
   ]
  },
  {
   "cell_type": "markdown",
   "id": "nWHF",
   "metadata": {
    "marimo": {
     "config": {
      "hide_code": true
     }
    }
   },
   "source": [
    "### 目的関数"
   ]
  },
  {
   "cell_type": "markdown",
   "id": "iLit",
   "metadata": {
    "marimo": {
     "config": {
      "hide_code": true
     }
    }
   },
   "source": [
    "以下のコスト関数を重み付けして足す.\n",
    "\n",
    "- 同一プロジェクト同一テーブル配置ペナルティ\n",
    "  - $\\sum_p \\sum_t \\left( \\sum_{i \\in E_p} x_{i t} \\right)^2$\n",
    "- 同一グループ同一テーブル配置ペナルティ\n",
    "  - $\\sum_g \\sum_t \\left( \\sum_{i \\in E_g} x_{i t} \\right)^2$\n",
    "- 同一世代同一テーブル配置ペナルティ\n",
    "  - $\\sum_a \\sum_t \\left( \\sum_{i \\in E_a} x_{i t} \\right)^2$\n",
    "\n",
    "2 乗になっている部分を展開して 0-1 変数の席の部分を線形制約で表現すれば線形目的関数にすることができる.\n",
    "また, 近い位置にあるテーブルに同属性の社員を配置したくない場合は 2 乗の部分を単一テーブルではなく複数のテーブルも対象にすればよい."
   ]
  },
  {
   "cell_type": "markdown",
   "id": "ZHCJ",
   "metadata": {
    "marimo": {
     "config": {
      "hide_code": true
     }
    }
   },
   "source": [
    "## テスト実装"
   ]
  },
  {
   "cell_type": "markdown",
   "id": "ROlb",
   "metadata": {
    "marimo": {
     "config": {
      "hide_code": true
     }
    }
   },
   "source": [
    "### データ生成"
   ]
  },
  {
   "cell_type": "code",
   "execution_count": null,
   "id": "qnkX",
   "metadata": {
    "marimo": {
     "name": "*Employee"
    }
   },
   "outputs": [],
   "source": [
    "class Employee:\n",
    "    def __init__(self, id, projects, group, age, name=\"\"):\n",
    "        self.id = id\n",
    "        self.group = group.id\n",
    "        self.projects = [_p.id for _p in projects]\n",
    "        self.age = age.id\n",
    "        self.name = name\n",
    "        for _p in projects:\n",
    "            _p.members.append(self.id)\n",
    "        group.members.append(self.id)\n",
    "        age.members.append(self.id)"
   ]
  },
  {
   "cell_type": "code",
   "execution_count": null,
   "id": "TqIu",
   "metadata": {
    "marimo": {
     "name": "*Project"
    }
   },
   "outputs": [],
   "source": [
    "class Project:\n",
    "    def __init__(self, id, name=\"\"):\n",
    "        self.id = id\n",
    "        self.members = []\n",
    "        self.name = name"
   ]
  },
  {
   "cell_type": "code",
   "execution_count": null,
   "id": "Vxnm",
   "metadata": {
    "marimo": {
     "name": "*Group"
    }
   },
   "outputs": [],
   "source": [
    "class Group:\n",
    "    def __init__(self, id, name=\"\"):\n",
    "        self.id = id\n",
    "        self.members = []\n",
    "        self.name = name"
   ]
  },
  {
   "cell_type": "code",
   "execution_count": null,
   "id": "DnEU",
   "metadata": {
    "marimo": {
     "name": "*Age"
    }
   },
   "outputs": [],
   "source": [
    "class Age:\n",
    "    def __init__(self, id, name=\"\"):\n",
    "        self.id = id\n",
    "        self.members = []\n",
    "        self.name = name"
   ]
  },
  {
   "cell_type": "code",
   "execution_count": null,
   "id": "ulZA",
   "metadata": {
    "marimo": {
     "name": "*Sheet"
    }
   },
   "outputs": [],
   "source": [
    "class Sheet:\n",
    "    def __init__(self, id, table, name=\"\"):\n",
    "        self.id = id\n",
    "        self.table = table.id\n",
    "        self.name = name\n",
    "        table.sheets.append(self.id)"
   ]
  },
  {
   "cell_type": "code",
   "execution_count": null,
   "id": "ecfG",
   "metadata": {
    "marimo": {
     "name": "*Table"
    }
   },
   "outputs": [],
   "source": [
    "class Table:\n",
    "    def __init__(self, id, name=\"\"):\n",
    "        self.id = id\n",
    "        self.sheets = []\n",
    "        self.name = name\n",
    "\n",
    "    @property\n",
    "    def capacity(self):\n",
    "        return len(self.sheets)"
   ]
  },
  {
   "cell_type": "code",
   "execution_count": null,
   "id": "Pvdt",
   "metadata": {},
   "outputs": [],
   "source": [
    "# n_all: 人数\n",
    "# s_per_t: 1 テーブルあたりの席数\n",
    "n_all = 65\n",
    "s_per_t = 5\n",
    "\n",
    "s_all = n_all\n",
    "t_all = (s_all + s_per_t - 1) // s_per_t\n",
    "\n",
    "# テーブルは順番に番号付ける\n",
    "tables = [Table(t_id) for t_id in range(t_all)]\n",
    "sheets = [Sheet(s_id, tables[s_id // s_per_t]) for s_id in range(s_all)]\n",
    "\n",
    "# プロジェクト, グループ, 年代を適当に生成\n",
    "p_all = 5\n",
    "g_all = 4\n",
    "projects = [Project(p_id) for p_id in range(p_all)]\n",
    "groups = [Group(g_id) for g_id in range(g_all)]\n",
    "ages = [\n",
    "    Age(id, name)\n",
    "    for id, name in enumerate([\"20~30 代\", \"40~50 代\", \"60 代以上\"])\n",
    "]\n",
    "\n",
    "random.seed(0)\n",
    "employees = []\n",
    "for e_id in range(n_all):\n",
    "    e_group = random.choice(groups)\n",
    "    e_projects = random.sample(\n",
    "        projects, random.randint(1, len(projects) // 2)\n",
    "    )  # プロジェクトをランダムに割り当て\n",
    "    e_age = random.choice(ages)\n",
    "\n",
    "    employees.append(Employee(e_id, e_projects, e_group, e_age))"
   ]
  },
  {
   "cell_type": "code",
   "execution_count": null,
   "id": "ZBYS",
   "metadata": {},
   "outputs": [
    {
     "name": "stdout",
     "output_type": "stream",
     "text": [
      "Employee 0: group=3 projects=[0, 2] age=2(60 代以上)\n",
      "Employee 1: group=3 projects=[2, 3] age=1(40~50 代)\n",
      "Employee 2: group=1 projects=[2] age=0(20~30 代)\n",
      "Employee 3: group=0 projects=[4, 1] age=1(40~50 代)\n",
      "Employee 4: group=0 projects=[2] age=1(40~50 代)\n",
      "Employee 5: group=0 projects=[3, 2] age=2(60 代以上)\n",
      "Employee 6: group=1 projects=[3, 2] age=0(20~30 代)\n",
      "Employee 7: group=0 projects=[3] age=2(60 代以上)\n",
      "Employee 8: group=0 projects=[2, 1] age=2(60 代以上)\n",
      "Employee 9: group=2 projects=[1] age=2(60 代以上)\n",
      "Employee 10: group=1 projects=[1] age=2(60 代以上)\n",
      "Employee 11: group=3 projects=[0] age=1(40~50 代)\n",
      "Employee 12: group=3 projects=[2] age=2(60 代以上)\n",
      "Employee 13: group=2 projects=[4] age=1(40~50 代)\n",
      "Employee 14: group=1 projects=[3, 0] age=2(60 代以上)\n",
      "Employee 15: group=3 projects=[4, 1] age=1(40~50 代)\n",
      "Employee 16: group=1 projects=[1] age=0(20~30 代)\n",
      "Employee 17: group=2 projects=[0, 4] age=2(60 代以上)\n",
      "Employee 18: group=1 projects=[0] age=0(20~30 代)\n",
      "Employee 19: group=3 projects=[4, 1] age=0(20~30 代)\n",
      "Employee 20: group=3 projects=[3, 4] age=2(60 代以上)\n",
      "Employee 21: group=2 projects=[2] age=2(60 代以上)\n",
      "Employee 22: group=0 projects=[4, 2] age=0(20~30 代)\n",
      "Employee 23: group=1 projects=[2] age=0(20~30 代)\n",
      "Employee 24: group=1 projects=[1, 2] age=1(40~50 代)\n",
      "Employee 25: group=0 projects=[1] age=2(60 代以上)\n",
      "Employee 26: group=1 projects=[4] age=2(60 代以上)\n",
      "Employee 27: group=0 projects=[0] age=2(60 代以上)\n",
      "Employee 28: group=1 projects=[3] age=0(20~30 代)\n",
      "Employee 29: group=2 projects=[0] age=2(60 代以上)\n",
      "Employee 30: group=0 projects=[1] age=2(60 代以上)\n",
      "Employee 31: group=0 projects=[1, 0] age=2(60 代以上)\n",
      "Employee 32: group=0 projects=[4, 0] age=1(40~50 代)\n",
      "Employee 33: group=0 projects=[0] age=2(60 代以上)\n",
      "Employee 34: group=2 projects=[3, 1] age=0(20~30 代)\n",
      "Employee 35: group=3 projects=[4] age=0(20~30 代)\n",
      "Employee 36: group=3 projects=[2] age=1(40~50 代)\n",
      "Employee 37: group=3 projects=[1] age=0(20~30 代)\n",
      "Employee 38: group=1 projects=[2] age=2(60 代以上)\n",
      "Employee 39: group=2 projects=[4] age=1(40~50 代)\n",
      "Employee 40: group=1 projects=[3] age=2(60 代以上)\n",
      "Employee 41: group=3 projects=[2, 3] age=2(60 代以上)\n",
      "Employee 42: group=2 projects=[4] age=2(60 代以上)\n",
      "Employee 43: group=0 projects=[0, 2] age=2(60 代以上)\n",
      "Employee 44: group=0 projects=[1, 4] age=1(40~50 代)\n",
      "Employee 45: group=2 projects=[2, 1] age=2(60 代以上)\n",
      "Employee 46: group=2 projects=[3, 0] age=0(20~30 代)\n",
      "Employee 47: group=1 projects=[1, 4] age=0(20~30 代)\n",
      "Employee 48: group=3 projects=[4, 3] age=0(20~30 代)\n",
      "Employee 49: group=3 projects=[0, 1] age=1(40~50 代)\n",
      "Employee 50: group=0 projects=[1, 3] age=2(60 代以上)\n",
      "Employee 51: group=3 projects=[0] age=1(40~50 代)\n",
      "Employee 52: group=2 projects=[3, 0] age=1(40~50 代)\n",
      "Employee 53: group=1 projects=[1] age=0(20~30 代)\n",
      "Employee 54: group=3 projects=[2, 0] age=0(20~30 代)\n",
      "Employee 55: group=0 projects=[4] age=2(60 代以上)\n",
      "Employee 56: group=0 projects=[0] age=2(60 代以上)\n",
      "Employee 57: group=1 projects=[2, 1] age=0(20~30 代)\n",
      "Employee 58: group=3 projects=[0, 4] age=1(40~50 代)\n",
      "Employee 59: group=3 projects=[2] age=0(20~30 代)\n",
      "Employee 60: group=2 projects=[1] age=1(40~50 代)\n",
      "Employee 61: group=0 projects=[0] age=0(20~30 代)\n",
      "Employee 62: group=2 projects=[2, 0] age=2(60 代以上)\n",
      "Employee 63: group=3 projects=[3, 2] age=2(60 代以上)\n",
      "Employee 64: group=1 projects=[3] age=2(60 代以上)\n"
     ]
    }
   ],
   "source": [
    "for _e in employees:\n",
    "    print(f\"Employee {_e.id}\", end=\": \")\n",
    "    print(f\"group={_e.group}\", end=\" \")\n",
    "    print(f\"projects={_e.projects}\", end=\" \")\n",
    "    print(f\"age={_e.age}({ages[_e.age].name})\")"
   ]
  },
  {
   "cell_type": "code",
   "execution_count": null,
   "id": "aLJB",
   "metadata": {},
   "outputs": [
    {
     "name": "stdout",
     "output_type": "stream",
     "text": [
      "Project 0: members=[0, 11, 14, 17, 18, 27, 29, 31, 32, 33, 43, 46, 49, 51, 52, 54, 56, 58, 61, 62]\n",
      "Project 1: members=[3, 8, 9, 10, 15, 16, 19, 24, 25, 30, 31, 34, 37, 44, 45, 47, 49, 50, 53, 57, 60]\n",
      "Project 2: members=[0, 1, 2, 4, 5, 6, 8, 12, 21, 22, 23, 24, 36, 38, 41, 43, 45, 54, 57, 59, 62, 63]\n",
      "Project 3: members=[1, 5, 6, 7, 14, 20, 28, 34, 40, 41, 46, 48, 50, 52, 63, 64]\n",
      "Project 4: members=[3, 13, 15, 17, 19, 20, 22, 26, 32, 35, 39, 42, 44, 47, 48, 55, 58]\n"
     ]
    }
   ],
   "source": [
    "for _p in projects:\n",
    "    print(f\"Project {_p.id}: members={_p.members}\")"
   ]
  },
  {
   "cell_type": "code",
   "execution_count": null,
   "id": "nHfw",
   "metadata": {},
   "outputs": [
    {
     "name": "stdout",
     "output_type": "stream",
     "text": [
      "Group 0: members=[3, 4, 5, 7, 8, 22, 25, 27, 30, 31, 32, 33, 43, 44, 50, 55, 56, 61]\n",
      "Group 1: members=[2, 6, 10, 14, 16, 18, 23, 24, 26, 28, 38, 40, 47, 53, 57, 64]\n",
      "Group 2: members=[9, 13, 17, 21, 29, 34, 39, 42, 45, 46, 52, 60, 62]\n",
      "Group 3: members=[0, 1, 11, 12, 15, 19, 20, 35, 36, 37, 41, 48, 49, 51, 54, 58, 59, 63]\n"
     ]
    }
   ],
   "source": [
    "for _g in groups:\n",
    "    print(f\"Group {_g.id}: members={_g.members}\")"
   ]
  },
  {
   "cell_type": "code",
   "execution_count": null,
   "id": "xXTn",
   "metadata": {},
   "outputs": [
    {
     "name": "stdout",
     "output_type": "stream",
     "text": [
      "Age 0: members=[2, 6, 16, 18, 19, 22, 23, 28, 34, 35, 37, 46, 47, 48, 53, 54, 57, 59, 61]\n",
      "Age 1: members=[1, 3, 4, 11, 13, 15, 24, 32, 36, 39, 44, 49, 51, 52, 58, 60]\n",
      "Age 2: members=[0, 5, 7, 8, 9, 10, 12, 14, 17, 20, 21, 25, 26, 27, 29, 30, 31, 33, 38, 40, 41, 42, 43, 45, 50, 55, 56, 62, 63, 64]\n"
     ]
    }
   ],
   "source": [
    "for _a in ages:\n",
    "    print(f\"Age {_a.id}: members={_a.members}\")"
   ]
  },
  {
   "cell_type": "code",
   "execution_count": null,
   "id": "AjVT",
   "metadata": {},
   "outputs": [
    {
     "name": "stdout",
     "output_type": "stream",
     "text": [
      "Table 0: sheets=[0, 1, 2, 3, 4]\n",
      "Table 1: sheets=[5, 6, 7, 8, 9]\n",
      "Table 2: sheets=[10, 11, 12, 13, 14]\n",
      "Table 3: sheets=[15, 16, 17, 18, 19]\n",
      "Table 4: sheets=[20, 21, 22, 23, 24]\n",
      "Table 5: sheets=[25, 26, 27, 28, 29]\n",
      "Table 6: sheets=[30, 31, 32, 33, 34]\n",
      "Table 7: sheets=[35, 36, 37, 38, 39]\n",
      "Table 8: sheets=[40, 41, 42, 43, 44]\n",
      "Table 9: sheets=[45, 46, 47, 48, 49]\n",
      "Table 10: sheets=[50, 51, 52, 53, 54]\n",
      "Table 11: sheets=[55, 56, 57, 58, 59]\n",
      "Table 12: sheets=[60, 61, 62, 63, 64]\n"
     ]
    }
   ],
   "source": [
    "for _t in tables:\n",
    "    print(f\"Table {_t.id}: sheets={_t.sheets}\")"
   ]
  },
  {
   "cell_type": "markdown",
   "id": "pHFh",
   "metadata": {
    "marimo": {
     "config": {
      "hide_code": true
     }
    }
   },
   "source": [
    "### モデル化(CP-SAT)"
   ]
  },
  {
   "cell_type": "code",
   "execution_count": null,
   "id": "NCOB",
   "metadata": {},
   "outputs": [],
   "source": [
    "model = cp_model.CpModel()\n",
    "x = [\n",
    "    [model.new_bool_var(f\"e {_e.id} -> t {_t.id}\") for _t in tables]\n",
    "    for _e in employees\n",
    "]\n",
    "for _e in employees:\n",
    "    model.add_exactly_one([x[_e.id][_t.id] for _t in tables])\n",
    "for _t in tables:\n",
    "    model.add(sum((x[_e.id][_t.id] for _e in employees)) <= _t.capacity)\n",
    "_obj_p = 0\n",
    "_obj_g = 0\n",
    "_obj_a = 0\n",
    "for _t in tables:\n",
    "    for _p in projects:\n",
    "        tp1 = model.new_int_var(\n",
    "            0,\n",
    "            min(_t.capacity, len(_p.members)),\n",
    "            f\"number_of_employee_in_project{_p.id}_in_table{_t.id}\",\n",
    "        )\n",
    "        model.add(tp1 == sum((x[e_id][_t.id] for e_id in _p.members)))\n",
    "        tp2 = model.new_int_var(0, min(_t.capacity, len(_p.members)) ** 2, \"\")\n",
    "        model.add_multiplication_equality(tp2, [tp1, tp1])\n",
    "        _obj_p = _obj_p + tp2\n",
    "    for _g in groups:\n",
    "        tp1 = model.new_int_var(\n",
    "            0,\n",
    "            min(_t.capacity, len(_g.members)),\n",
    "            f\"number_of_employee_in_group{_g.id}_in_table{_t.id}\",\n",
    "        )\n",
    "        model.add(tp1 == sum((x[e_id][_t.id] for e_id in _g.members)))\n",
    "        tp2 = model.new_int_var(0, min(_t.capacity, len(_g.members)) ** 2, \"\")\n",
    "        model.add_multiplication_equality(tp2, [tp1, tp1])\n",
    "        _obj_g = _obj_g + tp2\n",
    "    for _a in ages:\n",
    "        tp1 = model.new_int_var(\n",
    "            0,\n",
    "            min(_t.capacity, len(_a.members)),\n",
    "            f\"number_of_employee_in_age{_a.id}_in_table{_t.id}\",\n",
    "        )\n",
    "        model.add(tp1 == sum((x[e_id][_t.id] for e_id in _a.members)))\n",
    "        tp2 = model.new_int_var(0, min(_t.capacity, len(_a.members)) ** 2, \"\")\n",
    "        model.add_multiplication_equality(tp2, [tp1, tp1])\n",
    "        _obj_a = _obj_a + tp2\n",
    "model.minimize(_obj_p + _obj_g + _obj_a)"
   ]
  },
  {
   "cell_type": "code",
   "execution_count": null,
   "id": "aqbW",
   "metadata": {},
   "outputs": [
    {
     "name": "stdout",
     "output_type": "stream",
     "text": [
      "status = OPTIMAL\n",
      "time = 0.8570429380000001\n",
      "objective value = 374.0\n"
     ]
    }
   ],
   "source": [
    "solver = cp_model.CpSolver()\n",
    "status = solver.solve(model)\n",
    "\n",
    "statuses = {\n",
    "    cp_model.OPTIMAL: \"OPTIMAL\",\n",
    "    cp_model.FEASIBLE: \"FEASIBLE\",\n",
    "    cp_model.INFEASIBLE: \"INFEASIBLE\",\n",
    "    cp_model.MODEL_INVALID: \"MODEL_INVALID\",\n",
    "    cp_model.UNKNOWN: \"UNKNOWN\",\n",
    "}\n",
    "\n",
    "print(f\"status = {statuses[status]}\")\n",
    "print(f\"time = {solver.wall_time}\")\n",
    "print(f\"objective value = {solver.objective_value}\")"
   ]
  },
  {
   "cell_type": "code",
   "execution_count": null,
   "id": "TRpd",
   "metadata": {},
   "outputs": [
    {
     "name": "stdout",
     "output_type": "stream",
     "text": [
      "Table 0:\n",
      "  employee 10: projects=[1] group=1 age=2\n",
      "  employee 28: projects=[3] group=1 age=0\n",
      "  employee 32: projects=[4, 0] group=0 age=1\n",
      "  employee 45: projects=[2, 1] group=2 age=2\n",
      "  employee 59: projects=[2] group=3 age=0\n",
      "Table 1:\n",
      "  employee 7: projects=[3] group=0 age=2\n",
      "  employee 8: projects=[2, 1] group=0 age=2\n",
      "  employee 11: projects=[0] group=3 age=1\n",
      "  employee 23: projects=[2] group=1 age=0\n",
      "  employee 39: projects=[4] group=2 age=1\n",
      "Table 2:\n",
      "  employee 29: projects=[0] group=2 age=2\n",
      "  employee 41: projects=[2, 3] group=3 age=2\n",
      "  employee 44: projects=[1, 4] group=0 age=1\n",
      "  employee 47: projects=[1, 4] group=1 age=0\n",
      "  employee 54: projects=[2, 0] group=3 age=0\n",
      "Table 3:\n",
      "  employee 17: projects=[0, 4] group=2 age=2\n",
      "  employee 36: projects=[2] group=3 age=1\n",
      "  employee 37: projects=[1] group=3 age=0\n",
      "  employee 40: projects=[3] group=1 age=2\n",
      "  employee 61: projects=[0] group=0 age=0\n",
      "Table 4:\n",
      "  employee 5: projects=[3, 2] group=0 age=2\n",
      "  employee 19: projects=[4, 1] group=3 age=0\n",
      "  employee 43: projects=[0, 2] group=0 age=2\n",
      "  employee 60: projects=[1] group=2 age=1\n",
      "  employee 64: projects=[3] group=1 age=2\n",
      "Table 5:\n",
      "  employee 3: projects=[4, 1] group=0 age=1\n",
      "  employee 12: projects=[2] group=3 age=2\n",
      "  employee 27: projects=[0] group=0 age=2\n",
      "  employee 46: projects=[3, 0] group=2 age=0\n",
      "  employee 57: projects=[2, 1] group=1 age=0\n",
      "Table 6:\n",
      "  employee 14: projects=[3, 0] group=1 age=2\n",
      "  employee 15: projects=[4, 1] group=3 age=1\n",
      "  employee 22: projects=[4, 2] group=0 age=0\n",
      "  employee 38: projects=[2] group=1 age=2\n",
      "  employee 52: projects=[3, 0] group=2 age=1\n",
      "Table 7:\n",
      "  employee 2: projects=[2] group=1 age=0\n",
      "  employee 20: projects=[3, 4] group=3 age=2\n",
      "  employee 21: projects=[2] group=2 age=2\n",
      "  employee 25: projects=[1] group=0 age=2\n",
      "  employee 49: projects=[0, 1] group=3 age=1\n",
      "Table 8:\n",
      "  employee 18: projects=[0] group=1 age=0\n",
      "  employee 24: projects=[1, 2] group=1 age=1\n",
      "  employee 35: projects=[4] group=3 age=0\n",
      "  employee 50: projects=[1, 3] group=0 age=2\n",
      "  employee 62: projects=[2, 0] group=2 age=2\n",
      "Table 9:\n",
      "  employee 0: projects=[0, 2] group=3 age=2\n",
      "  employee 13: projects=[4] group=2 age=1\n",
      "  employee 48: projects=[4, 3] group=3 age=0\n",
      "  employee 53: projects=[1] group=1 age=0\n",
      "  employee 56: projects=[0] group=0 age=2\n",
      "Table 10:\n",
      "  employee 1: projects=[2, 3] group=3 age=1\n",
      "  employee 16: projects=[1] group=1 age=0\n",
      "  employee 33: projects=[0] group=0 age=2\n",
      "  employee 42: projects=[4] group=2 age=2\n",
      "  employee 58: projects=[0, 4] group=3 age=1\n",
      "Table 11:\n",
      "  employee 6: projects=[3, 2] group=1 age=0\n",
      "  employee 9: projects=[1] group=2 age=2\n",
      "  employee 30: projects=[1] group=0 age=2\n",
      "  employee 51: projects=[0] group=3 age=1\n",
      "  employee 55: projects=[4] group=0 age=2\n",
      "Table 12:\n",
      "  employee 4: projects=[2] group=0 age=1\n",
      "  employee 26: projects=[4] group=1 age=2\n",
      "  employee 31: projects=[1, 0] group=0 age=2\n",
      "  employee 34: projects=[3, 1] group=2 age=0\n",
      "  employee 63: projects=[3, 2] group=3 age=2\n"
     ]
    }
   ],
   "source": [
    "if status == cp_model.OPTIMAL or status == cp_model.FEASIBLE:\n",
    "    for _t in tables:\n",
    "        print(f\"Table {_t.id}:\")\n",
    "        for _e in employees:\n",
    "            if not solver.value(x[_e.id][_t.id]) == 1:\n",
    "                continue\n",
    "            print(\n",
    "                f\"  employee {_e.id}: projects={_e.projects} group={_e.group} age={_e.age}\"\n",
    "            )"
   ]
  },
  {
   "cell_type": "markdown",
   "id": "TXez",
   "metadata": {
    "marimo": {
     "config": {
      "hide_code": true
     }
    }
   },
   "source": [
    "### モデル化(SCIP)"
   ]
  },
  {
   "cell_type": "code",
   "execution_count": null,
   "id": "dNNg",
   "metadata": {},
   "outputs": [],
   "source": [
    "model_scip = mathopt.Model(name=\"sheet\")\n",
    "x_1 = [\n",
    "    [\n",
    "        model_scip.add_binary_variable(name=f\"e {_e.id} -> t {_t.id}\")\n",
    "        for _t in tables\n",
    "    ]\n",
    "    for _e in employees\n",
    "]\n",
    "for _e in employees:\n",
    "    model_scip.add_linear_constraint(\n",
    "        sum((x_1[_e.id][_t.id] for _t in tables)) == 1\n",
    "    )\n",
    "for _t in tables:\n",
    "    model_scip.add_linear_constraint(\n",
    "        sum((x_1[_e.id][_t.id] for _e in employees)) <= _t.capacity\n",
    "    )\n",
    "_obj_p = 0\n",
    "_obj_g = 0\n",
    "_obj_a = 0\n",
    "for _t in tables:\n",
    "    for _p in projects:\n",
    "        _tp = model_scip.add_integer_variable(\n",
    "            lb=0,\n",
    "            ub=min(_t.capacity, len(_p.members)),\n",
    "            name=f\"number_of_employee_in_project{_p.id}_in_table{_t.id}\",\n",
    "        )\n",
    "        model_scip.add_linear_constraint(\n",
    "            _tp == sum((x_1[e_id][_t.id] for e_id in _p.members))\n",
    "        )\n",
    "        _obj_p = _obj_p + _tp * _tp\n",
    "    for _g in groups:\n",
    "        _tp = model_scip.add_integer_variable(\n",
    "            lb=0,\n",
    "            ub=min(_t.capacity, len(_g.members)),\n",
    "            name=f\"number_of_employee_in_group{_g.id}_in_table{_t.id}\",\n",
    "        )\n",
    "        model_scip.add_linear_constraint(\n",
    "            _tp == sum((x_1[e_id][_t.id] for e_id in _g.members))\n",
    "        )\n",
    "        _obj_g = _obj_g + _tp * _tp\n",
    "    for _a in ages:\n",
    "        _tp = model_scip.add_integer_variable(\n",
    "            lb=0,\n",
    "            ub=min(_t.capacity, len(_a.members)),\n",
    "            name=f\"number_of_employee_in_age{_a.id}_in_table{_t.id}\",\n",
    "        )\n",
    "        model_scip.add_linear_constraint(\n",
    "            _tp == sum((x_1[e_id][_t.id] for e_id in _a.members))\n",
    "        )\n",
    "        _obj_a = _obj_a + _tp * _tp\n",
    "model_scip.minimize(_obj_p + _obj_g + _obj_a)"
   ]
  },
  {
   "cell_type": "code",
   "execution_count": null,
   "id": "yCnT",
   "metadata": {},
   "outputs": [
    {
     "name": "stdout",
     "output_type": "stream",
     "text": [
      "presolving:\n",
      "(round 1, exhaustive) 0 del vars, 0 del conss, 0 add conss, 1 chg bounds, 0 chg sides, 0 chg coeffs, 78 upgd conss, 0 impls, 65 clqs\n"
     ]
    },
    {
     "name": "stdout",
     "output_type": "stream",
     "text": [
      "   (0.2s) probing cycle finished: starting next cycle\n",
      "   Deactivated symmetry handling methods, since SCIP was built without symmetry detector (SYM=none).\n",
      "   Deactivated symmetry handling methods, since SCIP was built without symmetry detector (SYM=none).\n",
      "presolving (2 rounds: 2 fast, 2 medium, 2 exhaustive):\n",
      " 0 deleted vars, 0 deleted constraints, 0 added constraints, 1 tightened bounds, 0 added holes, 0 changed sides, 0 changed coefficients\n",
      " 3783 implications, 65 cliques\n",
      "presolved problem has 1002 variables (845 bin, 156 int, 0 impl, 1 cont) and 235 constraints\n",
      "     13 constraints of type <knapsack>\n",
      "     65 constraints of type <setppc>\n",
      "    156 constraints of type <linear>\n",
      "      1 constraints of type <nonlinear>\n",
      "Presolving Time: 0.15\n",
      "\n"
     ]
    },
    {
     "name": "stdout",
     "output_type": "stream",
     "text": [
      " time | node  | left  |LP iter|LP it/n|mem/heur|mdpt |vars |cons |rows |cuts |sepa|confs|strbr|  dualbound   | primalbound  |  gap   | compl. \n",
      "p 0.2s|     1 |     0 |     0 |     - |  clique|   0 |1159 | 235 | 703 |   0 |  0 |   0 |   0 |-1.000000e-09 | 4.860000e+02 |    Inf | unknown\n"
     ]
    },
    {
     "name": "stdout",
     "output_type": "stream",
     "text": [
      "p 0.2s|     1 |     0 |     0 |     - |   locks|   0 |1159 | 235 | 703 |   0 |  0 |   0 |   0 |-1.000000e-09 | 4.700000e+02 |    Inf | unknown\n"
     ]
    },
    {
     "name": "stdout",
     "output_type": "stream",
     "text": [
      "  0.6s|     1 |     0 | 10564 |     - |    12M |   0 |1159 | 246 | 703 |   0 |  0 |  13 |   0 | 2.860000e+02 | 4.700000e+02 |  64.34%| unknown\n"
     ]
    },
    {
     "name": "stdout",
     "output_type": "stream",
     "text": [
      "  0.6s|     1 |     0 | 10564 |     - |    12M |   0 |1159 | 249 | 703 |   0 |  0 |  16 |   0 | 2.860000e+02 | 4.700000e+02 |  64.34%| unknown\n"
     ]
    },
    {
     "name": "stdout",
     "output_type": "stream",
     "text": [
      "  1.1s|     1 |     0 | 19794 |     - |    22M |   0 |1159 | 249 | 823 | 120 |  1 |  16 |   0 | 3.550000e+02 | 4.700000e+02 |  32.39%| unknown\n"
     ]
    },
    {
     "name": "stdout",
     "output_type": "stream",
     "text": [
      "  1.1s|     1 |     0 | 19794 |     - |    22M |   0 |1159 | 251 | 823 | 120 |  1 |  18 |   0 | 3.550000e+02 | 4.700000e+02 |  32.39%| unknown\n"
     ]
    },
    {
     "name": "stdout",
     "output_type": "stream",
     "text": [
      "  1.5s|     1 |     0 | 25781 |     - |    43M |   0 |1159 | 251 | 851 | 148 |  2 |  18 |   0 | 3.740000e+02 | 4.700000e+02 |  25.67%| unknown\n"
     ]
    },
    {
     "name": "stdout",
     "output_type": "stream",
     "text": [
      "  1.5s|     1 |     0 | 25781 |     - |    43M |   0 |1159 | 253 | 851 | 148 |  2 |  20 |   0 | 3.740000e+02 | 4.700000e+02 |  25.67%| unknown\n"
     ]
    },
    {
     "name": "stdout",
     "output_type": "stream",
     "text": [
      "  1.6s|     1 |     0 | 26343 |     - |    65M |   0 |1159 | 253 | 855 | 152 |  3 |  20 |   0 | 3.740000e+02 | 4.700000e+02 |  25.67%| unknown\n"
     ]
    },
    {
     "name": "stdout",
     "output_type": "stream",
     "text": [
      "  1.7s|     1 |     0 | 26391 |     - |    85M |   0 |1159 | 255 | 860 | 157 |  4 |  22 |   0 | 3.740000e+02 | 4.700000e+02 |  25.67%| unknown\n"
     ]
    },
    {
     "name": "stdout",
     "output_type": "stream",
     "text": [
      "  1.8s|     1 |     0 | 26590 |     - |   112M |   0 |1159 | 255 | 862 | 159 |  5 |  22 |   0 | 3.740000e+02 | 4.700000e+02 |  25.67%| unknown\n"
     ]
    },
    {
     "name": "stdout",
     "output_type": "stream",
     "text": [
      "  2.0s|     1 |     0 | 26831 |     - |   136M |   0 |1159 | 255 | 868 | 165 |  6 |  22 |   0 | 3.740000e+02 | 4.700000e+02 |  25.67%| unknown\n"
     ]
    },
    {
     "name": "stdout",
     "output_type": "stream",
     "text": [
      "  2.1s|     1 |     0 | 26957 |     - |   159M |   0 |1159 | 255 | 873 | 170 |  7 |  22 |   0 | 3.740000e+02 | 4.700000e+02 |  25.67%| unknown\n"
     ]
    },
    {
     "name": "stdout",
     "output_type": "stream",
     "text": [
      "  2.4s|     1 |     0 | 27251 |     - |   178M |   0 |1159 | 256 | 878 | 175 |  8 |  23 |   0 | 3.740000e+02 | 4.700000e+02 |  25.67%| unknown\n"
     ]
    },
    {
     "name": "stdout",
     "output_type": "stream",
     "text": [
      "  2.6s|     1 |     0 | 27370 |     - |   190M |   0 |1159 | 257 | 883 | 180 |  9 |  24 |   0 | 3.740000e+02 | 4.700000e+02 |  25.67%| unknown\n"
     ]
    },
    {
     "name": "stdout",
     "output_type": "stream",
     "text": [
      " time | node  | left  |LP iter|LP it/n|mem/heur|mdpt |vars |cons |rows |cuts |sepa|confs|strbr|  dualbound   | primalbound  |  gap   | compl. \n",
      "  2.8s|     1 |     0 | 27506 |     - |   216M |   0 |1159 | 258 | 888 | 185 | 10 |  25 |   0 | 3.740000e+02 | 4.700000e+02 |  25.67%| unknown\n"
     ]
    },
    {
     "name": "stdout",
     "output_type": "stream",
     "text": [
      "  3.0s|     1 |     0 | 27546 |     - |   216M |   0 |1159 | 259 | 618 | 188 | 11 |  26 |   0 | 3.740000e+02 | 4.700000e+02 |  25.67%| unknown\n"
     ]
    },
    {
     "name": "stdout",
     "output_type": "stream",
     "text": [
      "  3.2s|     1 |     0 | 27546 |     - |   216M |   0 |1159 | 260 | 618 | 188 | 12 |  27 |   0 | 3.740000e+02 | 4.700000e+02 |  25.67%| unknown\n"
     ]
    },
    {
     "name": "stdout",
     "output_type": "stream",
     "text": [
      "o 3.5s|     1 |     0 | 29103 |     - |feaspump|   0 |1159 | 260 | 618 | 188 | 13 |  27 |   0 | 3.740000e+02 | 3.880000e+02 |   3.74%| unknown\n"
     ]
    },
    {
     "name": "stdout",
     "output_type": "stream",
     "text": [
      "  4.1s|     1 |     0 | 41477 |     - |   216M |   0 |1159 | 260 | 618 | 188 | 13 |  30 |   0 | 3.740000e+02 | 3.880000e+02 |   3.74%| unknown\n"
     ]
    },
    {
     "name": "stdout",
     "output_type": "stream",
     "text": [
      "  4.6s|     1 |     2 | 41477 |     - |   216M |   0 |1159 | 260 | 618 | 188 | 14 |  30 |  23 | 3.740000e+02 | 3.880000e+02 |   3.74%| unknown\n"
     ]
    },
    {
     "name": "stdout",
     "output_type": "stream",
     "text": [
      "d 5.9s|     8 |     0 | 72647 |6443.0 |pscostdi|   7 |1159 | 260 | 597 |   0 |  2 |  30 |  23 | 3.740000e+02 | 3.740000e+02 |   0.00%| 100.00%\n",
      "\n",
      "SCIP Status        : problem is solved [optimal solution found]\n",
      "Solving Time (sec) : 5.91\n",
      "Solving Nodes      : 8\n",
      "Primal Bound       : +3.74000000000000e+02 (5 solutions)\n",
      "Dual Bound         : +3.74000000000000e+02\n",
      "Gap                : 0.00 %\n"
     ]
    }
   ],
   "source": [
    "_params = mathopt.SolveParameters(enable_output=True)\n",
    "result = mathopt.solve(model_scip, mathopt.SolverType.GSCIP, params=_params)"
   ]
  },
  {
   "cell_type": "code",
   "execution_count": null,
   "id": "wlCL",
   "metadata": {},
   "outputs": [
    {
     "name": "stdout",
     "output_type": "stream",
     "text": [
      "Table 0:\n",
      "  employee 34: projects=[3, 1] group=2 age=0\n",
      "  employee 51: projects=[0] group=3 age=1\n",
      "  employee 55: projects=[4] group=0 age=2\n",
      "  employee 56: projects=[0] group=0 age=2\n",
      "  employee 57: projects=[2, 1] group=1 age=0\n",
      "Table 1:\n",
      "  employee 12: projects=[2] group=3 age=2\n",
      "  employee 18: projects=[0] group=1 age=0\n",
      "  employee 25: projects=[1] group=0 age=2\n",
      "  employee 39: projects=[4] group=2 age=1\n",
      "  employee 40: projects=[3] group=1 age=2\n",
      "Table 2:\n",
      "  employee 14: projects=[3, 0] group=1 age=2\n",
      "  employee 15: projects=[4, 1] group=3 age=1\n",
      "  employee 21: projects=[2] group=2 age=2\n",
      "  employee 22: projects=[4, 2] group=0 age=0\n",
      "  employee 53: projects=[1] group=1 age=0\n",
      "Table 3:\n",
      "  employee 6: projects=[3, 2] group=1 age=0\n",
      "  employee 9: projects=[1] group=2 age=2\n",
      "  employee 30: projects=[1] group=0 age=2\n",
      "  employee 32: projects=[4, 0] group=0 age=1\n",
      "  employee 54: projects=[2, 0] group=3 age=0\n",
      "Table 4:\n",
      "  employee 10: projects=[1] group=1 age=2\n",
      "  employee 26: projects=[4] group=1 age=2\n",
      "  employee 44: projects=[1, 4] group=0 age=1\n",
      "  employee 52: projects=[3, 0] group=2 age=1\n",
      "  employee 59: projects=[2] group=3 age=0\n",
      "Table 5:\n",
      "  employee 20: projects=[3, 4] group=3 age=2\n",
      "  employee 24: projects=[1, 2] group=1 age=1\n",
      "  employee 37: projects=[1] group=3 age=0\n",
      "  employee 61: projects=[0] group=0 age=0\n",
      "  employee 62: projects=[2, 0] group=2 age=2\n",
      "Table 6:\n",
      "  employee 1: projects=[2, 3] group=3 age=1\n",
      "  employee 17: projects=[0, 4] group=2 age=2\n",
      "  employee 23: projects=[2] group=1 age=0\n",
      "  employee 31: projects=[1, 0] group=0 age=2\n",
      "  employee 35: projects=[4] group=3 age=0\n",
      "Table 7:\n",
      "  employee 27: projects=[0] group=0 age=2\n",
      "  employee 43: projects=[0, 2] group=0 age=2\n",
      "  employee 47: projects=[1, 4] group=1 age=0\n",
      "  employee 60: projects=[1] group=2 age=1\n",
      "  employee 63: projects=[3, 2] group=3 age=2\n",
      "Table 8:\n",
      "  employee 0: projects=[0, 2] group=3 age=2\n",
      "  employee 2: projects=[2] group=1 age=0\n",
      "  employee 11: projects=[0] group=3 age=1\n",
      "  employee 42: projects=[4] group=2 age=2\n",
      "  employee 50: projects=[1, 3] group=0 age=2\n",
      "Table 9:\n",
      "  employee 4: projects=[2] group=0 age=1\n",
      "  employee 19: projects=[4, 1] group=3 age=0\n",
      "  employee 28: projects=[3] group=1 age=0\n",
      "  employee 29: projects=[0] group=2 age=2\n",
      "  employee 41: projects=[2, 3] group=3 age=2\n",
      "Table 10:\n",
      "  employee 7: projects=[3] group=0 age=2\n",
      "  employee 38: projects=[2] group=1 age=2\n",
      "  employee 45: projects=[2, 1] group=2 age=2\n",
      "  employee 48: projects=[4, 3] group=3 age=0\n",
      "  employee 49: projects=[0, 1] group=3 age=1\n",
      "Table 11:\n",
      "  employee 5: projects=[3, 2] group=0 age=2\n",
      "  employee 13: projects=[4] group=2 age=1\n",
      "  employee 16: projects=[1] group=1 age=0\n",
      "  employee 33: projects=[0] group=0 age=2\n",
      "  employee 36: projects=[2] group=3 age=1\n",
      "Table 12:\n",
      "  employee 3: projects=[4, 1] group=0 age=1\n",
      "  employee 8: projects=[2, 1] group=0 age=2\n",
      "  employee 46: projects=[3, 0] group=2 age=0\n",
      "  employee 58: projects=[0, 4] group=3 age=1\n",
      "  employee 64: projects=[3] group=1 age=2\n"
     ]
    }
   ],
   "source": [
    "if (\n",
    "    result.termination.reason == mathopt.TerminationReason.OPTIMAL\n",
    "    or result.termination.reason == mathopt.TerminationReason.FEASIBLE\n",
    "):\n",
    "    for _t in tables:\n",
    "        print(f\"Table {_t.id}:\")\n",
    "        for _e in employees:\n",
    "            if not round(result.variable_values()[x_1[_e.id][_t.id]]) == 1:\n",
    "                continue\n",
    "            print(\n",
    "                f\"  employee {_e.id}: projects={_e.projects} group={_e.group} age={_e.age}\"\n",
    "            )"
   ]
  },
  {
   "cell_type": "markdown",
   "id": "kqZH",
   "metadata": {
    "marimo": {
     "config": {
      "hide_code": true
     }
    }
   },
   "source": [
    "## 線形計画モデルとてしての定式化"
   ]
  },
  {
   "cell_type": "markdown",
   "id": "wAgl",
   "metadata": {
    "marimo": {
     "config": {
      "hide_code": true
     }
    }
   },
   "source": [
    "### パラメータ"
   ]
  },
  {
   "cell_type": "markdown",
   "id": "rEll",
   "metadata": {
    "marimo": {
     "config": {
      "hide_code": true
     }
    }
   },
   "source": [
    "- $S_t$: テーブル $t$ の座席集合\n",
    "- $E_p$: プロジェクト $p$ に配属されているメンバー\n",
    "- $E_g$: グループ $g$ に配属されているメンバー\n",
    "- $E_a$: 年代 $a$ に属しているメンバー"
   ]
  },
  {
   "cell_type": "markdown",
   "id": "dGlV",
   "metadata": {
    "marimo": {
     "config": {
      "hide_code": true
     }
    }
   },
   "source": [
    "### 変数"
   ]
  },
  {
   "cell_type": "markdown",
   "id": "SdmI",
   "metadata": {
    "marimo": {
     "config": {
      "hide_code": true
     }
    }
   },
   "source": [
    "- $x_{it}$: 人 $i$ をテーブル $t$ に配置するとき $1$, そうでないとき $0$"
   ]
  },
  {
   "cell_type": "markdown",
   "id": "lgWD",
   "metadata": {
    "marimo": {
     "config": {
      "hide_code": true
     }
    }
   },
   "source": [
    "### 制約"
   ]
  },
  {
   "cell_type": "markdown",
   "id": "yOPj",
   "metadata": {
    "marimo": {
     "config": {
      "hide_code": true
     }
    }
   },
   "source": [
    "- $\\sum_i x_{it} \\leq |S_t|$ (for all $t$): 1 つのテーブルに座れるのはテーブルのキャパシティ以下だけ\n",
    "- $\\sum_t x_{it} = 1$ (for all $i$): 1 人の人は 1 つのテーブルにだけ割り当てられる\n",
    "- 下記目的関数を表現するための制約"
   ]
  },
  {
   "cell_type": "markdown",
   "id": "fwwy",
   "metadata": {
    "marimo": {
     "config": {
      "hide_code": true
     }
    }
   },
   "source": [
    "### 目的関数"
   ]
  },
  {
   "cell_type": "markdown",
   "id": "LJZf",
   "metadata": {
    "marimo": {
     "config": {
      "hide_code": true
     }
    }
   },
   "source": [
    "以下のコスト関数を重み付けして足す.\n",
    "\n",
    "- 同一プロジェクト同一テーブル配置ペナルティ\n",
    "  - $\\sum_p \\sum_t \\left( \\sum_{i \\in E_p} x_{i t} \\right)^2$: これを下記制約により線形化する\n",
    "      - $\\sum_p \\sum_t \\sum_{i \\in E_p} \\sum_{j \\in E_p} y_{i j t}^{(p)}$\n",
    "      - $x_{i t} + x_{j t} \\leq y_{i j t}^{(p)} + 1$\n",
    "- 同一グループ同一テーブル配置ペナルティ\n",
    "  - $\\sum_g \\sum_t \\left( \\sum_{i \\in E_g} x_{i t} \\right)^2$: これを下記制約により線形化する\n",
    "      - $\\sum_p \\sum_t \\sum_{i \\in E_g} \\sum_{j \\in E_g} y_{i j t}^{(g)}$\n",
    "      - $x_{i t} + x_{j t} \\leq y_{i j t}^{(g)} + 1$\n",
    "- 同一世代同一テーブル配置ペナルティ\n",
    "  - $\\sum_a \\sum_t \\left( \\sum_{i \\in E_a} x_{i t} \\right)^2$: これを下記制約により線形化する\n",
    "      - $\\sum_p \\sum_t \\sum_{i \\in E_a} \\sum_{j \\in E_a} y_{i j t}^{(a)}$\n",
    "      - $x_{i t} + x_{j t} \\leq y_{i j t}^{(a)} + 1$"
   ]
  },
  {
   "cell_type": "markdown",
   "id": "urSm",
   "metadata": {
    "marimo": {
     "config": {
      "hide_code": true
     }
    }
   },
   "source": [
    "## テスト実装(線形)"
   ]
  },
  {
   "cell_type": "markdown",
   "id": "jxvo",
   "metadata": {},
   "source": [
    "Google OR-Tools の MathOpt を用いてモデリングし,\n",
    "計算時に呼び出すソルバーを切り替えて比較する."
   ]
  },
  {
   "cell_type": "code",
   "execution_count": null,
   "id": "mWxS",
   "metadata": {},
   "outputs": [],
   "source": [
    "model_linear = mathopt.Model(name=\"sheet\")\n",
    "x_2 = [\n",
    "    [\n",
    "        model_linear.add_binary_variable(name=f\"e {_e.id} -> t {_t.id}\")\n",
    "        for _t in tables\n",
    "    ]\n",
    "    for _e in employees\n",
    "]\n",
    "for _e in employees:\n",
    "    model_linear.add_linear_constraint(\n",
    "        sum((x_2[_e.id][_t.id] for _t in tables)) == 1\n",
    "    )\n",
    "for _t in tables:\n",
    "    model_linear.add_linear_constraint(\n",
    "        sum((x_2[_e.id][_t.id] for _e in employees)) <= _t.capacity\n",
    "    )\n",
    "_obj_p = 0\n",
    "_obj_g = 0\n",
    "_obj_a = 0\n",
    "for _t in tables:\n",
    "    for _p in projects:\n",
    "        for e1_id in _p.members:\n",
    "            for e2_id in _p.members:\n",
    "                _tp = model_linear.add_binary_variable()\n",
    "                model_linear.add_linear_constraint(\n",
    "                    x_2[e1_id][_t.id] + x_2[e2_id][_t.id] <= _tp + 1\n",
    "                )\n",
    "                _obj_p = _obj_p + _tp\n",
    "    for _g in groups:\n",
    "        for e1_id in _g.members:\n",
    "            for e2_id in _g.members:\n",
    "                _tp = model_linear.add_binary_variable()\n",
    "                model_linear.add_linear_constraint(\n",
    "                    x_2[e1_id][_t.id] + x_2[e2_id][_t.id] <= _tp + 1\n",
    "                )\n",
    "                _obj_g = _obj_g + _tp\n",
    "    for _a in ages:\n",
    "        for e1_id in _a.members:\n",
    "            for e2_id in _a.members:\n",
    "                _tp = model_linear.add_binary_variable()\n",
    "                model_linear.add_linear_constraint(\n",
    "                    x_2[e1_id][_t.id] + x_2[e2_id][_t.id] <= _tp + 1\n",
    "                )\n",
    "                _obj_a = _obj_a + _tp\n",
    "model_linear.minimize(_obj_p + _obj_g + _obj_a)"
   ]
  },
  {
   "cell_type": "markdown",
   "id": "CcZR",
   "metadata": {
    "marimo": {
     "config": {
      "hide_code": true
     }
    }
   },
   "source": [
    "### ソルバー比較"
   ]
  },
  {
   "cell_type": "markdown",
   "id": "YWSi",
   "metadata": {
    "marimo": {
     "config": {
      "hide_code": true
     }
    }
   },
   "source": [
    "どのソルバーも終わりそうになかったのでとりあえずリミット 1 分で計算."
   ]
  },
  {
   "cell_type": "markdown",
   "id": "zlud",
   "metadata": {
    "marimo": {
     "config": {
      "hide_code": true
     }
    }
   },
   "source": [
    "#### 実行: CP-SAT"
   ]
  },
  {
   "cell_type": "code",
   "execution_count": null,
   "id": "tZnO",
   "metadata": {},
   "outputs": [
    {
     "name": "stdout",
     "output_type": "stream",
     "text": [
      "primal bound: 380.0\n",
      "dual bound: 226.0\n"
     ]
    }
   ],
   "source": [
    "_params = mathopt.SolveParameters(\n",
    "    time_limit=datetime.timedelta(minutes=1), enable_output=False\n",
    ")\n",
    "_result = mathopt.solve(\n",
    "    model_linear, mathopt.SolverType.CP_SAT, params=_params\n",
    ")\n",
    "\n",
    "print(f\"primal bound: {_result.primal_bound()}\")\n",
    "print(f\"dual bound: {_result.dual_bound()}\")"
   ]
  },
  {
   "cell_type": "markdown",
   "id": "xvXZ",
   "metadata": {
    "marimo": {
     "config": {
      "hide_code": true
     }
    }
   },
   "source": [
    "#### 実行: SCIP"
   ]
  },
  {
   "cell_type": "code",
   "execution_count": null,
   "id": "CLip",
   "metadata": {},
   "outputs": [
    {
     "name": "stdout",
     "output_type": "stream",
     "text": [
      "primal bound: 410.0\n",
      "dual bound: 226.0\n"
     ]
    }
   ],
   "source": [
    "_params = mathopt.SolveParameters(\n",
    "    time_limit=datetime.timedelta(minutes=1), enable_output=False\n",
    ")\n",
    "_result = mathopt.solve(\n",
    "    model_linear, mathopt.SolverType.GSCIP, params=_params\n",
    ")\n",
    "\n",
    "print(f\"primal bound: {_result.primal_bound()}\")\n",
    "print(f\"dual bound: {_result.dual_bound()}\")"
   ]
  },
  {
   "cell_type": "markdown",
   "id": "YECM",
   "metadata": {
    "marimo": {
     "config": {
      "hide_code": true
     }
    }
   },
   "source": [
    "#### 実行: Highs"
   ]
  },
  {
   "cell_type": "code",
   "execution_count": null,
   "id": "cEAS",
   "metadata": {},
   "outputs": [
    {
     "name": "stdout",
     "output_type": "stream",
     "text": [
      "primal bound: 384.0000000000428\n",
      "dual bound: 226.00000000000153\n"
     ]
    }
   ],
   "source": [
    "_params = mathopt.SolveParameters(\n",
    "    time_limit=datetime.timedelta(minutes=1), enable_output=False\n",
    ")\n",
    "_result = mathopt.solve(\n",
    "    model_linear, mathopt.SolverType.HIGHS, params=_params\n",
    ")\n",
    "\n",
    "print(f\"primal bound: {_result.primal_bound()}\")\n",
    "print(f\"dual bound: {_result.dual_bound()}\")"
   ]
  }
 ],
 "metadata": {},
 "nbformat": 4,
 "nbformat_minor": 5
}
