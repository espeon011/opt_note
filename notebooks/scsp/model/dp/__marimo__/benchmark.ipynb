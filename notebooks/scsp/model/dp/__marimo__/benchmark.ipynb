{
 "cells": [
  {
   "cell_type": "code",
   "execution_count": null,
   "id": "setup",
   "metadata": {
    "marimo": {
     "name": "setup"
    }
   },
   "outputs": [],
   "source": [
    "import opt_note.scsp as scsp"
   ]
  },
  {
   "cell_type": "code",
   "execution_count": null,
   "id": "Hbol",
   "metadata": {},
   "outputs": [],
   "source": [
    "import marimo as mo\n",
    "import nbformat"
   ]
  },
  {
   "cell_type": "markdown",
   "id": "MJUe",
   "metadata": {
    "marimo": {
     "config": {
      "hide_code": true
     }
    }
   },
   "source": [
    "# ベンチマーク"
   ]
  },
  {
   "cell_type": "code",
   "execution_count": null,
   "id": "vblA",
   "metadata": {
    "marimo": {
     "name": "*bench"
    }
   },
   "outputs": [],
   "source": [
    "def bench(instance: list[str]) -> None:\n",
    "    solution = scsp.model.dp.solve(instance)\n",
    "    scsp.util.show(instance)\n",
    "    scsp.util.show(instance, solution)\n",
    "    print(f\"solution is feasible: {scsp.util.is_feasible(instance, solution)}\")"
   ]
  },
  {
   "cell_type": "markdown",
   "id": "bkHC",
   "metadata": {
    "marimo": {
     "config": {
      "hide_code": true
     }
    }
   },
   "source": [
    "**現実的な時間内に解を求められないため, 小さいインスタンスに対してのみ実行する**."
   ]
  },
  {
   "cell_type": "code",
   "execution_count": null,
   "id": "lEQa",
   "metadata": {},
   "outputs": [
    {
     "name": "stdout",
     "output_type": "stream",
     "text": [
      "--- Condition (with 25 chars) ---\n",
      "str1: tkgnkuhmpxnhtqgxzvxis\n",
      "str2: iojiqfolnbxxcvsuqpvissbxf\n",
      "str3: ulcinycosovozpplp\n",
      "str4: igevazgbrddbcsvrvnngf\n",
      "\n",
      "--- Solution (of length 62) ---\n",
      " Sol: ulcitkgnycojisoevqfoazkuhmpplxnhtqgbrxzddbxcvsuqpvxirvsnnsbgxf\n",
      "str1: ----tkgn--------------kuhmp--xnhtqg--xz-----v-----xi--s-------\n",
      "str2: ---i------oji----qfo--------l-n----b-x----xcvsuqpv-i--s--sb-xf\n",
      "str3: ulci---nyco--so-v--o-z----ppl-------------------p-------------\n",
      "str4: ---i--g--------ev---az------------gbr--ddb-c-s---v--rv-nn--g-f\n",
      "\n",
      "solution is feasible: True\n"
     ]
    }
   ],
   "source": [
    "bench(scsp.example.load(\"uniform_q26n004k015-025.txt\"))"
   ]
  },
  {
   "cell_type": "code",
   "execution_count": null,
   "id": "PKri",
   "metadata": {},
   "outputs": [
    {
     "name": "stdout",
     "output_type": "stream",
     "text": [
      "--- Condition (with 4 chars) ---\n",
      "str1: ATGGGATACG\n",
      "str2: ATACCTTCCC\n",
      "str3: CACGAATTGA\n",
      "str4: TAAAATCTGT\n",
      "str5: AGGTAACAAA\n",
      "\n",
      "--- Solution (of length 21) ---\n",
      " Sol: ATGGTACACGATATCTGTACC\n",
      "str1: ATGG-----GATA-C-G----\n",
      "str2: AT---AC-C--T-TC----CC\n",
      "str3: ------CACGA-AT-TG-A--\n",
      "str4: -T---A-A--A-ATCTGT---\n",
      "str5: A-GGTA-AC-A-A-----A--\n",
      "\n",
      "solution is feasible: True\n"
     ]
    }
   ],
   "source": [
    "bench(scsp.example.load(\"nucleotide_n005k010.txt\"))"
   ]
  },
  {
   "cell_type": "code",
   "execution_count": null,
   "id": "Xref",
   "metadata": {},
   "outputs": [
    {
     "name": "stdout",
     "output_type": "stream",
     "text": [
      "--- Condition (with 19 chars) ---\n",
      "str1: MALSYCPKGT\n",
      "str2: MQSSLNAIPV\n",
      "str3: MPLSYQHFRK\n",
      "str4: MEEHVNELHD\n",
      "str5: MSNFDAIRAL\n",
      "\n",
      "--- Solution (of length 31) ---\n",
      " Sol: MAPLSYQEEHSSVLNFELHDAICRPKGTVAL\n",
      "str1: MA-LSY----------------C-PKGT---\n",
      "str2: M-----Q---SS-LN-----AI--P---V--\n",
      "str3: M-PLSYQ--H-----F-------R-K-----\n",
      "str4: M------EEH--V-N-ELHD-----------\n",
      "str5: M---S---------NF---DAI-R-----AL\n",
      "\n",
      "solution is feasible: True\n"
     ]
    }
   ],
   "source": [
    "bench(scsp.example.load(\"protein_n005k010.txt\"))"
   ]
  }
 ],
 "metadata": {},
 "nbformat": 4,
 "nbformat_minor": 5
}
