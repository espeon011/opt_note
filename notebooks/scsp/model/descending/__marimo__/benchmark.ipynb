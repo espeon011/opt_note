{
 "cells": [
  {
   "cell_type": "code",
   "execution_count": null,
   "id": "setup",
   "metadata": {
    "marimo": {
     "name": "setup"
    }
   },
   "outputs": [],
   "source": [
    "import opt_note.scsp as scsp"
   ]
  },
  {
   "cell_type": "code",
   "execution_count": null,
   "id": "Hbol",
   "metadata": {},
   "outputs": [],
   "source": [
    "import marimo as mo\n",
    "import nbformat"
   ]
  },
  {
   "cell_type": "markdown",
   "id": "MJUe",
   "metadata": {
    "marimo": {
     "config": {
      "hide_code": true
     }
    }
   },
   "source": [
    "# ベンチマーク"
   ]
  },
  {
   "cell_type": "code",
   "execution_count": null,
   "id": "vblA",
   "metadata": {
    "marimo": {
     "name": "*bench"
    }
   },
   "outputs": [],
   "source": [
    "def bench(instance: list[str]) -> None:\n",
    "    solution = scsp.model.descending.solve(instance)\n",
    "    scsp.util.show(instance)\n",
    "    scsp.util.show(instance, solution)\n",
    "    print(f\"solution is feasible: {scsp.util.is_feasible(instance, solution)}\")"
   ]
  },
  {
   "cell_type": "code",
   "execution_count": null,
   "id": "bkHC",
   "metadata": {},
   "outputs": [
    {
     "name": "stdout",
     "output_type": "stream",
     "text": [
      "--- Condition (with 25 chars) ---\n",
      "str1: tkgnkuhmpxnhtqgxzvxis\n",
      "str2: iojiqfolnbxxcvsuqpvissbxf\n",
      "str3: ulcinycosovozpplp\n",
      "str4: igevazgbrddbcsvrvnngf\n",
      "\n",
      "--- Solution (of length 64) ---\n",
      " Sol: ulcingycosjieqfoltkvoazgnkbruhmpxnhtqgxzddbcvxsuqplvrissbxvnngfp\n",
      "str1: -----------------tk----gnk--uhmpxnhtqgxz----vx-------is---------\n",
      "str2: ---i----o-ji-qfol-------n-b-----x-----x----cv-suqp-v-issbx----f-\n",
      "str3: ulcin-ycos-----o---vo-z--------p-----------------pl------------p\n",
      "str4: ---i-g------e------v-azg--br------------ddbc--s----vr-----vnngf-\n",
      "\n",
      "solution is feasible: True\n"
     ]
    }
   ],
   "source": [
    "bench(scsp.example.load(\"uniform_q26n004k015-025.txt\"))"
   ]
  },
  {
   "cell_type": "code",
   "execution_count": null,
   "id": "lEQa",
   "metadata": {},
   "outputs": [
    {
     "name": "stdout",
     "output_type": "stream",
     "text": [
      "--- Condition (with 26 chars) ---\n",
      "str1: tkgnkuhmpxnhtqgxzvxis\n",
      "str2: iojiqfolnbxxcvsuqpvissbxf\n",
      "str3: ulcinycosovozpplp\n",
      "str4: igevazgbrddbcsvrvnngf\n",
      "str5: pyplrzxucpmqvgtdfuivcdsbo\n",
      "str6: pbdevdcvdpfzsmsbroqvbbh\n",
      "str7: enbczfjtvxerzbrvigple\n",
      "str8: rxwxqkrdrlctodtmprpxwd\n",
      "\n",
      "--- Solution (of length 108) ---\n",
      " Sol: igojulcienrxwxqtkvazgfopbcyprddlrnkbzxuhxevdlcompmxnhfjtqvgstodtmprfuiqpxezvxirzsmcdsbroqxwfvinbbhdngzppflpe\n",
      "str1: ---------------tk---g------------nk---uh-------mp-xnh--tq-g-------------x-zvxi--s---------------------------\n",
      "str2: i-oj---i------q------fo--------l-n-b-x--x----c-----------v-s--------u-qp---v-i--s---sb---x-f----------------\n",
      "str3: ----ulci-n----------------y------------------co------------s-o-------------v-----------o-------------zpp-lp-\n",
      "str4: ig------e--------vazg---b---rdd----b---------c-------------s---------------v--r-------------v-n----ng---f---\n",
      "str5: -----------------------p--yp---lr---zxu------c--pm------qvg-t-d----fui-----v------cdsb-o--------------------\n",
      "str6: -----------------------pb----d-----------evd-c-----------v----d--p-f------z-----sm--sbroq---v--bbh----------\n",
      "str7: --------en--------------bc----------z----------------fjt-v--------------xe----rz-----br-----vi------g-p--l-e\n",
      "str8: ----------rxwxq-k-----------rd--r-----------lc---------t-----odtmpr----px-----------------w-------d---------\n",
      "\n",
      "solution is feasible: True\n"
     ]
    }
   ],
   "source": [
    "bench(scsp.example.load(\"uniform_q26n008k015-025.txt\"))"
   ]
  },
  {
   "cell_type": "code",
   "execution_count": null,
   "id": "PKri",
   "metadata": {},
   "outputs": [
    {
     "name": "stdout",
     "output_type": "stream",
     "text": [
      "--- Condition (with 26 chars) ---\n",
      "str01: tkgnkuhmpxnhtqgxzvxis\n",
      "str02: iojiqfolnbxxcvsuqpvissbxf\n",
      "str03: ulcinycosovozpplp\n",
      "str04: igevazgbrddbcsvrvnngf\n",
      "str05: pyplrzxucpmqvgtdfuivcdsbo\n",
      "str06: pbdevdcvdpfzsmsbroqvbbh\n",
      "str07: enbczfjtvxerzbrvigple\n",
      "str08: rxwxqkrdrlctodtmprpxwd\n",
      "str09: kkqafigqjwokkskrblg\n",
      "str10: lxxpabivbvzkozzvd\n",
      "str11: krifsavncdqwhzc\n",
      "str12: qaxudgqvqcewbfgijowwy\n",
      "str13: rsxqjnfpadiusiqbezhkohmg\n",
      "str14: iwshvhcomiuvddm\n",
      "str15: htxxqjzqbctbakn\n",
      "str16: xusfcfzpeecvwantfmgqzu\n",
      "\n",
      "--- Solution (of length 157) ---\n",
      "  Sol: ulcingojiekrkiqafiopyplrxiwshtaenpbzlxudxcpmgqtkjwvazgbokksoktrdrenkfjuhiqpavdbiucsilctvxodtmpferzsmqwsbarpeezhkozqczviunbwbhxwanhtqgfmgqdxzvuxijsplpeowwyddm\n",
      "str01: -----------------------------t-----------------k-----g------------nk--uh--------------------mp-------------------------------x--nhtqg-----xzv-xi-s-----------\n",
      "str02: ---i--oji-----q-f-o---l---------n-b--x--xc--------v-------s-----------u--qp-v--i--s---------------s----b---------------------x-------f-----------------------\n",
      "str03: ulcin---------------y--------------------c-------------o--so----------------v------------o-------z--------p---------------------------------------plp--------\n",
      "str04: ---i-g---e----------------------------------------vazgb-------rd-------------db--cs----v--------r--------------------v--n-------n---gf-----------------------\n",
      "str05: -------------------pyplr-----------z-xu--cpm-q----v--g-------t-d----f-u-i---v----c--------d-------s----b--------o--------------------------------------------\n",
      "str06: -------------------p--------------b----d-------------------------e----------vd---c-----v--d--pf--zsm--sb-r------o-q--v---b-bh--------------------------------\n",
      "str07: ---------e----------------------n-b------c----------z---------------fj----------------tvx------erz-----b-r-----------vi-------------g-------------pl-e-------\n",
      "str08: -----------r------------x-w----------x-------q-k--------------rdr-------------------lct--odtmp--r---------p------------------xw----------d-------------------\n",
      "str09: ----------k-k-qafi--------------------------gq--jw-----okks-k-r---------------b-----l-----------------------------------------------g------------------------\n",
      "str10: -l----------------------x------------x----p--------a--b-----------------i---v-b--------v---------z-------------koz--zv-------------------d-------------------\n",
      "str11: ----------kr-i--f----------s--a-------------------v---------------n--------------c--------d---------qw--------h--z-c-----------------------------------------\n",
      "str12: --------------qa--------x-------------ud----gq----v----------------------q-------c-------------e-----w-b-----------------------------f-g-------ij-----owwy---\n",
      "str13: -----------r---------------s---------x-------q--j-----------------n-f-----pa-d-iu-si----------------q--b---e-zhko-----------h---------mg---------------------\n",
      "str14: ---i----------------------wsh---------------------v--------------------h---------c-------o--m-------------------------iu--------------------v-------------ddm\n",
      "str15: ----------------------------ht-------x--x----q--j---z--------------------q----b--c----t----------------ba------k--------n------------------------------------\n",
      "str16: ------------------------x-------------u-------------------s---------f------------c------------f--z--------pee------c-v----w----an-t--fmgq--z-u---------------\n",
      "\n",
      "solution is feasible: True\n"
     ]
    }
   ],
   "source": [
    "bench(scsp.example.load(\"uniform_q26n016k015-025.txt\"))"
   ]
  },
  {
   "cell_type": "code",
   "execution_count": null,
   "id": "Xref",
   "metadata": {},
   "outputs": [
    {
     "name": "stdout",
     "output_type": "stream",
     "text": [
      "--- Condition (with 5 chars) ---\n",
      "str01: dcbccdbcce\n",
      "str02: bddbeeeebd\n",
      "str03: cacdeecebe\n",
      "str04: aeddddebdd\n",
      "str05: acbeecabce\n",
      "str06: bbabebdcba\n",
      "str07: bbaeaebada\n",
      "str08: eeeecbdbee\n",
      "str09: ccdeedadcd\n",
      "str10: bdabdbeaad\n",
      "\n",
      "--- Solution (of length 37) ---\n",
      "  Sol: bbccbdaeeecaedbaccdddebdeacbabcebeebd\n",
      "str01: -----d----c---b-ccd---b---c---ce-----\n",
      "str02: b----d-------db------e--e------e-e-bd\n",
      "str03: --c---a---c--d-------e--e-c----ebe---\n",
      "str04: ------ae-----d----dddebd------------d\n",
      "str05: ------a---c---b------e--e-c-abce-----\n",
      "str06: bb----a-------b------ebd--cba--------\n",
      "str07: bb----ae---ae-ba--d------a-----------\n",
      "str08: -------eee--e---c-----bd---b---e-e---\n",
      "str09: --cc-d-ee----d-a--d-------c---------d\n",
      "str10: b----da-------b---d---b-ea--a-------d\n",
      "\n",
      "solution is feasible: True\n"
     ]
    }
   ],
   "source": [
    "bench(scsp.example.load(\"uniform_q05n010k010-010.txt\"))"
   ]
  },
  {
   "cell_type": "code",
   "execution_count": null,
   "id": "SFPL",
   "metadata": {},
   "outputs": [
    {
     "name": "stdout",
     "output_type": "stream",
     "text": [
      "--- Condition (with 5 chars) ---\n",
      "str01: dcbccdbcce\n",
      "str02: bddbeeeebd\n",
      "str03: cacdeecebe\n",
      "str04: aeddddebdd\n",
      "str05: acbeecabce\n",
      "str06: bbabebdcba\n",
      "str07: bbaeaebada\n",
      "str08: eeeecbdbee\n",
      "str09: ccdeedadcd\n",
      "str10: bdabdbeaad\n",
      "str11: ededaaaeaa\n",
      "str12: aaeaabeeac\n",
      "str13: eaabcaccdb\n",
      "str14: bdeeadeade\n",
      "str15: caedadeeed\n",
      "str16: ebcadbabbe\n",
      "str17: ddceeabdea\n",
      "str18: dabcddeaec\n",
      "str19: aadceedaab\n",
      "str20: aeecceeeaa\n",
      "str21: bbdaecaade\n",
      "str22: dacedaedab\n",
      "str23: aaeabbbbce\n",
      "str24: dedbcbcaab\n",
      "str25: dbdaaebbcb\n",
      "str26: debedbebac\n",
      "str27: ceebcdcbde\n",
      "str28: dbedaadaab\n",
      "str29: cccdcbebdc\n",
      "str30: aeeacdbcbd\n",
      "str31: dacbeacccd\n",
      "str32: ecebccdbdb\n",
      "str33: ddbbcedabb\n",
      "str34: aaeabaaeba\n",
      "str35: ecbbcaadcd\n",
      "str36: debccecdbc\n",
      "str37: daacbaeebc\n",
      "str38: adabeaacce\n",
      "str39: daecdbacaa\n",
      "str40: dacbbdcedc\n",
      "str41: dedbeebbde\n",
      "str42: cdadcdcdaa\n",
      "str43: ceedcbaeed\n",
      "str44: ceaecaaaca\n",
      "str45: dcccebbbad\n",
      "str46: baeeaebbde\n",
      "str47: dbdebaccdb\n",
      "str48: ebcbeedaea\n",
      "str49: aeeebbdbca\n",
      "str50: dbdabcecbb\n",
      "\n",
      "--- Solution (of length 71) ---\n",
      "  Sol: bdeadbcdadccbeceaadebddebecdbaecaedaaecdadcedbaaccdddebdeacbabceabeebda\n",
      "str01: -d----c-----b-c-----------cdb--c------c----e---------------------------\n",
      "str02: bd--db-------e-e---e---eb--d-------------------------------------------\n",
      "str03: ------c-a-c-------de---e--c---e--------------b-------e-----------------\n",
      "str04: ---a---------e----d--dd----d--e--------------b----dd-------------------\n",
      "str05: ---a--c-----be-e----------c--a---------------b--c----e-----------------\n",
      "str06: b----b--a---be------bd----c-ba-----------------------------------------\n",
      "str07: b----b--a----e--a--eb--------a----da-----------------------------------\n",
      "str08: --e----------e-e---e------c-b-----d----------b-------e--e--------------\n",
      "str09: ------c---c-------de---e---d-a----d---cd-------------------------------\n",
      "str10: bd-a-b-d----be--aad----------------------------------------------------\n",
      "str11: --e-d--------e----d----------a--a--a-e--a-----a------------------------\n",
      "str12: ---a----a----e--aa--b--e-e---a-c---------------------------------------\n",
      "str13: --ea----a---b-c-a---------c----c--d----------b-------------------------\n",
      "str14: bde----------e--a-de---------a----d--e---------------------------------\n",
      "str15: ------c-a----e----d----------a----d--e-----e---------e-d---------------\n",
      "str16: --e--bc-ad--b---a---b---be---------------------------------------------\n",
      "str17: -d--d-c------e-ea---bd-e-----a-----------------------------------------\n",
      "str18: -d-a-bcd-d---e--a--e------c--------------------------------------------\n",
      "str19: ---a----adc--e-e--d----------a--a------------b-------------------------\n",
      "str20: ---a---------e-e----------c----c-e---e-----e--aa-----------------------\n",
      "str21: b----b-da----ec-aade---------------------------------------------------\n",
      "str22: -d-a--c------e----d----------ae---da---------b-------------------------\n",
      "str23: ---a----a----e--a---b---b---b----------------b--c----e-----------------\n",
      "str24: -de-dbc-----b-c-aa--b--------------------------------------------------\n",
      "str25: -d---b-da-------a--eb---b-c-b------------------------------------------\n",
      "str26: -de--b-------e----d-b--eb----a-c---------------------------------------\n",
      "str27: ------c------e-e----b-----cd---c-------------b----d--e-----------------\n",
      "str28: -d---b-------e----d----------a--a-daa--------b-------------------------\n",
      "str29: ------c---cc------d-------c-b-e--------------b----d-------c------------\n",
      "str30: ---a---------e-ea---------cdb--c-------------b----d--------------------\n",
      "str31: -d-a--c-----be--a---------c----c------cd-------------------------------\n",
      "str32: --e---c------e------b-----c----c--d----------b----d---b----------------\n",
      "str33: -d--db------b-ce--d----------a---------------b--------b----------------\n",
      "str34: ---a----a----e--a---b--------a--ae-----------ba------------------------\n",
      "str35: --e---c-----b-------b-----c--a--a-d---cd-------------------------------\n",
      "str36: -de--bc---c--ec---d-b-----c--------------------------------------------\n",
      "str37: -d-a----a-c-b---a--e---eb-c--------------------------------------------\n",
      "str38: ---ad---a---be--aa--------c----c-e-------------------------------------\n",
      "str39: -d-a---------ec---d-b--------a-ca--a-----------------------------------\n",
      "str40: -d-a--c-----b-------bd----c---e---d---c--------------------------------\n",
      "str41: -de-"
     ]
    },
    {
     "name": "stdout",
     "output_type": "stream",
     "text": [
      "db-------e-e----b---b--d--e----------------------------------------\n",
      "str42: ------cdadc-------d-------cd-a--a--------------------------------------\n",
      "str43: ------c------e-e--d-------c-bae--ed------------------------------------\n",
      "str44: ------c------e--a--e------c--a--a--a--c-a------------------------------\n",
      "str45: -d----c---cc-e------b---b---ba----d------------------------------------\n",
      "str46: b--a---------e-ea--eb---b--d--e----------------------------------------\n",
      "str47: -d---b-d-----e------b--------a-c------cd-----b-------------------------\n",
      "str48: --e--bc-----be-e--d----------ae-a--------------------------------------\n",
      "str49: ---a---------e-e---eb---b--db--ca--------------------------------------\n",
      "str50: -d---b-da---b-ce----------c-b----------------b-------------------------\n",
      "\n",
      "solution is feasible: True\n"
     ]
    }
   ],
   "source": [
    "bench(scsp.example.load(\"uniform_q05n050k010-010.txt\"))"
   ]
  },
  {
   "cell_type": "code",
   "execution_count": null,
   "id": "BYtC",
   "metadata": {},
   "outputs": [
    {
     "name": "stdout",
     "output_type": "stream",
     "text": [
      "--- Condition (with 4 chars) ---\n",
      "str01: ATGGGATACG\n",
      "str02: ATACCTTCCC\n",
      "str03: CACGAATTGA\n",
      "str04: TAAAATCTGT\n",
      "str05: AGGTAACAAA\n",
      "str06: TTCCTAGGTA\n",
      "str07: TTGTAGATCT\n",
      "str08: TGGGAAGTTC\n",
      "str09: TTCCACAACT\n",
      "str10: TCTAAACGAA\n",
      "\n",
      "--- Solution (of length 35) ---\n",
      "  Sol: CTGTTCGCATCTAGAGTAGACTACTGTGACCGCAA\n",
      "str01: --------AT---G-G--GA-TAC-G---------\n",
      "str02: --------AT--A-------C--CT-T--CC-C--\n",
      "str03: C-------A-C--GA--A---T--TG--A------\n",
      "str04: -T------A---A-A--A---T-CTGT--------\n",
      "str05: --------A----G-GTA-AC-A-----A----A-\n",
      "str06: -T-T-C-C-T--AG-GTA-----------------\n",
      "str07: -T-T--G--T--AGA-T---CT-------------\n",
      "str08: -TG---G------GA--AG--T--T----C-----\n",
      "str09: -T-T-C-CA-C-A-A-----CT-------------\n",
      "str10: -T---C---T--A-A--A--C----G--A----A-\n",
      "\n",
      "solution is feasible: True\n"
     ]
    }
   ],
   "source": [
    "bench(scsp.example.load(\"nucleotide_n010k010.txt\"))"
   ]
  },
  {
   "cell_type": "code",
   "execution_count": null,
   "id": "RGSE",
   "metadata": {},
   "outputs": [
    {
     "name": "stdout",
     "output_type": "stream",
     "text": [
      "--- Condition (with 5 chars) ---\n",
      "str01: TAGTAGTAGACTCCGGAAGTGACAAACCCTGAAAAGAATGGATAAATATA\n",
      "str02: GGATAAACACTCCCGAAAATAATTTGACTTAAACAACGCGACAGTTCAAG\n",
      "str03: ATACCTTCCTAGGTAACAAACCAACCAACTTTTGATCTCTTGTAGATCTG\n",
      "str04: TAAATTATAATCTTATACTAGTAAAAAATAGGGTGTAACCGAAAACGGTC\n",
      "str05: TTAAAACAGCCTGTGGGTTGCACCCACTCACAGGGCCCACTGGGCGCAAG\n",
      "str06: ATGACTTCCAATGGATCCCAACCTCAAGCTTCCACCCCAATGGTTTCAGC\n",
      "str07: AACAAACCAACCAACTTTTGATCTCTTGTAGATCTGTTCTCTAAACGAAC\n",
      "str08: ATGAAAACGAAAATTATTATCAAGGGTATGGAAGTGGAAGCTGACGAAAT\n",
      "str09: ACTCGGCTGCATGCTTAGTGCACTCACGCAGTATAATTAATAACTAATTA\n",
      "str10: TTGTAGATCTGTTCTCTAAACGAACTTTAAAATCTGTGTGGCTGTCACTC\n",
      "str11: GCAGAGCATTTTCTAATATCCACAAAATGAAGGCAATAATTGTACTACTC\n",
      "str12: ATGAGCCAAGATCCGACGAAGAGCCCCAAGGAGGAGAAGGAGGGACCCCC\n",
      "str13: TCTCACAGTTCAAGAACCCAAAGTACCCCCCATAGCCCTCTTAAAGCCAC\n",
      "str14: AGGTTTATACCTTCCTAGGTAACAAACCAACCAACTTTCGATCTCTTGTA\n",
      "str15: AGGTTTATACCTTCCCAGGTAACAAACCAACCAACTTTCGATCTCTTGTA\n",
      "str16: TAAAACAACTCAATACAACATAAGAAAATCAACGCAAAAACACTCACAAA\n",
      "str17: CCGCCCATTTGGGCGGCTCTCGAGCGATAGCTCGTCGAATCCCTCGACCT\n",
      "str18: ATACCTTCCCAGGTAACAAACCAACCAACTTTCGATCTCTTGTAGATCTG\n",
      "str19: TCTCACAGTTCAAGAACCTCAAGTCTCCCCCATAGGCCTCTTTCAGTCAG\n",
      "str20: GATCTCTCTCACCGAACCTGGCCCCGGGCAAATGCCCTAATCCAGAGGTG\n",
      "str21: AGAGCAATCAGTGCATCAGAAATATACCTATTATACACTTTGCTAAGAAT\n",
      "str22: AATTAAAACATCTCAATACAACATAAGAAAAACAACGCAAAAACACTCAT\n",
      "str23: AAACGAACTTTAAAATCTGTGTGGCTGTCACTCGGCTGCATGCTTAGTGC\n",
      "str24: ATAACTAATTACTGTCGTTGACAGGACACGAGTAACTCGTCTATCTTCTG\n",
      "str25: ATGAGTGTCACGAATTCACGTACAATGAACTGGATGTTCACGTGGAATAA\n",
      "str26: ACCGTGGGCGAGCGGTGACCGGTGTCTTCCTAGTGGGTCCCACGTTGAAR\n",
      "str27: AAAGGTTTATACCTTCCCAGGTAACAAACCAACCAACTTTCGATCTCTTG\n",
      "str28: AGTAGTTCGCCTGTGTGAGCTGACAAACTTAGTAGTGTTTGTGAGGATTA\n",
      "str29: TTTATACCTTCCTAGGTAACAAACCAACCAACTTTCGATCTCTTGTAGAT\n",
      "str30: ATGCGGTCGTCTCTCCCCGGCTTTTTTTCCCCGCGCCGCGTTGGCGCCGA\n",
      "str31: GTGACAAAAACATAATGGACTCCAACACCATGTCAAGCTTTCAGGTAGAC\n",
      "str32: GTGTAAGAAACAGTAAGCCCGGAAGTGGTGTTTTGCGATTTCGAGGCCGG\n",
      "str33: GAGAATGAGTCTCATTACCGCCCGGTACTTAGCAAGCTAATAGTCACGGC\n",
      "str34: ATGTGGTCGATGCCATGGAGGCCCACCAGTTCATTAAGGCTCCTGGCATT\n",
      "str35: ACGAGCGTTTTAAGGGCCCGCGACTGCGACGGCCACATGGCCCTGTATGT\n",
      "str36: GGTTTATACCTTCCCAGGTAACAAACCAACCAACTTTCGATCTCTTGTAG\n",
      "str37: TGGGAAGTTCCAAAAGATCACAAAACACTACCAGTCAACCTGAAGTACAC\n",
      "str38: GAAGCGTTAACGTGTTGAGGAAAAGACAGCTTAGGAGAACAAGAGCTGGG\n",
      "str39: ACCAGCGCACTTCGGCAGCGGCAGCACCTCGGCAGCACCTCAGCAGCAAC\n",
      "str40: ATGGGACAACTTATTCCTATCATGTGCCAAGAGGTTTTACCCGGTGACCA\n",
      "str41: TTGTAGATCTGTTCTCTAAACGAACTTTAAAATCTGTGTGGTTGTCACTC\n",
      "str42: AACCAACCAACTTTCGATCTCTTGTAGATCTGTTCTCTAAACGAACTTTA\n",
      "str43: GGGTTCTGCCAGGCATAGTCTTTTTTTCTGGCGGCCCTTGTGTAAACCTG\n",
      "str44: GGCTGCATGCTTAGTGCACTCACGCAGTATAATTAATAACTAATTACTGT\n",
      "str45: TGCATGCTTAGTGCACTCACGCAGTATAATTAATAACTAATTACTGTCGT\n",
      "str46: TTCCACAACTTTCCACCAAGCTCTGCAAGATCCCAGAGTCAGGGGCCTGT\n",
      "str47: TCTAAACGAACTTTAAAATCTGTGTGGCTGTCACTCGGCTGCATGCTTAG\n",
      "str48: ACCGGATGGCCGCGATTTTTCGGAGTCCTTGGGGGACCACTCAGAATAGA\n",
      "str49: CTTGTAGATCTGTTCTCTAAACGAACTTTAAAATCTGTGTGGCTGTCACT\n",
      "str50: ATGAGCACTAAGCGAAGAACCAAAAAGCAGACAATACAACCCGCTATTAC\n",
      "\n",
      "--- Solution (of length 185) ---\n",
      "  Sol: ACTTGACATAGAAGGACCGATTCGTACTGTAACCATGCAGGCATTTACATCAGATGGAACTCTGTCAACAGCATGACTTGAGCGTTAAGCCAATCAACGCAGCTCACGACCGGAAGTGACATGGAAGTCCACTATGATCTTAAACGCATACTGTGTCGCTGACTAGAATCCGACTTCGAARGCCT\n",
      "str01: --T--A----G---------T----A--GTA-----G-A--C-T---C--C-G--G-AA----GT-----G-A---C---A-----AA-CC---C--------T---GA----AA---A---G-AA-T-------G---------G-ATA-----------A--A---T---A-T---A------\n",
      "str02: ----G-----GA--------T----A----AAC-A--C-----T---C--C--------C---G--AA-A--AT-A----A---TT-------T----G-A-CT------------T-A-A---A---C-A--A----C------GC-----G--------AC-AG--T-----T-C-AA-G---\n",
      "str03: A-T--AC---------C---TTC---CT--A-----G--G---T--A-A-CA-A---A-C-C----AAC--CA--ACTT-----TT--G--A-TC--------TC-----------T----TG----T--A----GATCT-----G---------------------------------------\n",
      "str04: --T--A-A-A----------TT---A-T--AA---T-C-----TT-A--T-A-------CT-----A---G--T-A----A-----AA---AAT-A--G--G-----G--------TG---T--AA--CC-----GA----AAACG------GT--C----------------------------\n",
      "str05: --TT-A-A-A-A----C--A---G--C-----C--TG------T--------G--GG---T-TG-CA-C--C----C---A-C-T----C-A--CA--G--G-----G-CC--------CA-------C---T--G---------G------G---CGC--A--AG-------------------\n",
      "str06: A-T-GAC-T-----------T-C---C---AA---TG--G--AT---C--C--------C------AAC--C-T--C---A-----A-GC---T---------TC-C-ACC--------C--------C-A--ATG---------G--T--T-T--C----A---G---C---------------\n",
      "str07: A----ACA-A-A----CC-A-----AC-----C-A---A--C-TTT---T--GAT----CTCT-T-----G--T-A---GA---T----C---T----G----T------------T--C-T------C---TA--A----A--CG-A-AC----------------------------------\n",
      "str08: A-T-GA-A-A-A----C-GA-----A----AA---T-------T--A--T----T--A--TC----AA--G---G----G----T-A------T----G--G---A--A--G----TG----G-AAG-C---T--GA-C------G-A-A-----------A-T---------------------\n",
      "str09: ACT---C---G--G--C---T--G--C---A----TGC-----TT-A-----G-TG---C------A-C----T--C---A-CG-----C-A------G----T-A----------T-A-AT-----T--A--AT-A----A--C---TA-----------A-T----T---A------------\n",
      "str10: --TTG---TAGA--------T-C-T---GT-----T-C-----T---C-T-A-A---A-C---G--AAC----T---TT-A-----AA---A-TC--------T---G--------TG---TGG----C---T--G-TC--A--C---T-C----------------------------------\n",
      "str11: ----G-CA--GA-G--C--ATT--T--T----C--T--A---AT--A--TC--------C------A-CA--A--A----A---T---G--AA-----G--GC--A--A-------T-A-AT-----T-------G-T---A--C---TACT----C----------------------------\n",
      "str12: A-T-GA----G-----CC-A-----A--G-A----T-C---C----------GA-----C---G--AA--G-A-G-C-----C------CCAA-----G--G---A-G---G-A-G--A-A-GGA-G--------G---------G-A--C-----C-C---C------C---------------\n",
      "str13: --T---C-T-------C--A--C--A--GT-----T-CA---A---------GA---A-C-C---CAA-AG--T-AC-----C------CC---C--C--A--T-A-G-CC--------C-T------C---T-T-A----AA--GC---C----------AC----------------------\n",
      "str14: A---G-----G---------TT--TA-T--A-CC-T-------T---C--C---T--A-----G------G--T-A----A-C---AA---A--C--C--A----AC--C---AA----C-T-----T----T-----C------G-AT-CT----C--T---T-G--T---A------------\n",
      "str15: A---G-----G---------TT--TA-T--A-CC-T-------T---C--C--------C------A---G---G--T--A-----A--C-AA--A-C-CA----AC--C---AA----C-T-----T----T-----C------G-AT-CT----C--T---T-G--T---A------------\n",
      "str16: --T--A-A-A-A----C--A-----ACT----C-A---A----T--ACA--A-------C------A------T-A----AG----AA---AATCA"
     ]
    },
    {
     "name": "stdout",
     "output_type": "stream",
     "text": [
      "ACGCA----A--A----AA----CA-------C---T-----C--A--C--A-A-----------A-----------------------\n",
      "str17: -C----C---G-----CC----C--A-T-T-----TG--GGC----------G--G---CTCT--C----G-A-G-C--GA---T-A-GC---TC---G----TC--GA----A--T--C--------CC--T-----C------G-A--C-----C--T-------------------------\n",
      "str18: A-T--AC---------C---TTC---C-----C-A-G--G---T--A-A-CA-A---A-C-C----AAC--CA--ACTT-----T----C--------G-A--TC-----------T--C-T-----T-------G-T---A---G-AT-CTG--------------------------------\n",
      "str19: --T---C-T-------C--A--C--A--GT-----T-CA---A---------GA---A-C-CT--CAA--G--T--CT----C------CC---C--C--A--T-A-G---G-------C--------C---T-----CTT-------T-C----------A---G--TC--A----G-------\n",
      "str20: ----GA--T-------C---T-C-T-CT----C-A--C---C----------GA---A-C-CTG------GC----C-----C------C--------G--G-----G-C---AA---A--TG-----CC-CTA--ATC-----C--A----G--------A---G-----G--T--G-------\n",
      "str21: A---GA----G-----C--A-----A-T----C-A-G------T--------G------C------A------T--C---AG----AA---A-T-A-------T-AC--C------T-A--T-----T--A-TA----C--A--C---T--T-TG-C--T-A--AGAAT----------------\n",
      "str22: A----A--T-----------T----A----AA--A--CA----T---C-TCA-AT--A-C------AACA---T-A----AG----AA---AA--A-C--A----ACG-C---AA---A-A---A---C-ACT-----C--A------T------------------------------------\n",
      "str23: A----A-A--------C-GA-----ACT-T-----T--A---A---A-ATC---TG----T--GT-----G---G-CT-G----T----C-A--C--------TC--G---G-------C-TG-----C-A-T--G--CTTA---G--T---G---C----------------------------\n",
      "str24: A-T--A-A--------C---T----A----A----T-------T--AC-T--G-T----C---GT--------TGAC---AG-G--A--C-A--C---G-AG-T-A--AC------T--C--G----TC---TAT---CTT---C---T---G--------------------------------\n",
      "str25: A-T-GA----G---------T--GT-C---A-C---G-A---ATT--CA-C-G-T--A-C------AA-----TGA----A-C-T---G---------G-A--T---G--------T----T------C-AC---G-T-------G------G--------A--A---T---A-----A------\n",
      "str26: AC----C---G---------T--G----G-------GC-G--A---------G------C---G------G--TGAC-----CG----G----T----G----TC-----------T----T------CC--TA-G-T-------G------G-GTC-C---C-A----C-G--TT-GAAR----\n",
      "str27: A----A-A--G--G------TT--TA-T--A-CC-T-------T---C--C--------C------A---G---G--T--A-----A--C-AA--A-C-CA----AC--C---AA----C-T-----T----T-----C------G-AT-CT----C--T---T-G-------------------\n",
      "str28: A---G---TAG---------TTCG--C-----C--TG------T--------G-TG-A-----G-C-------TGAC---A-----AA-C---T---------T-A-G--------T-A---G----T-------G-T-TT----G--T---G--------A---G-----GA-TT--A------\n",
      "str29: --TT----TA----------T----AC-----C--T-------T---C--C---T--A-----G------G--T-A----A-C---AA---A--C--C--A----AC--C---AA----C-T-----T----T-----C------G-AT-CT----C--T---T-G--T---A----GA-----T\n",
      "str30: A-T-G-C---G--G------T-CGT-CT----C--T-C---C-----C--C-G--G---CT-T-T--------T---TT-----T----CC---C--CGC-GC-C--G-C-G----T----TGG----C------G--C-----CG-A-------------------------------------\n",
      "str31: ----G---T-GA----C--A-----A----AA--A--CA----T--A-AT--G--G-A-CTC---CAACA-C----C---A---T---G----TCAA-GC---T------------T----T------C-A----G---------G--TA--G--------AC----------------------\n",
      "str32: ----G---T-G---------T----A----A-----G-A---A---ACA---G-T--AA----G-C--C--C--G----GA-----A-G----T----G--G-T---G--------T----T-----T----T--G--C------G-AT--T-T--CG---A"
     ]
    },
    {
     "name": "stdout",
     "output_type": "stream",
     "text": [
      "---G-----G-C--CG---G---\n",
      "str33: ----GA----GAA-------T--G-A--GT--C--T-CA----TT-AC--C-G------C-C---C----G---G--T--A-C-TTA-GC-AA-----GC---T-A--A-------T-A---G----TC-AC---G---------GC--------------------------------------\n",
      "str34: A-T-G---T-G--G------T-CG-A-TG---CCATG--G--A---------G--G---C-C---CA-C--CA-G--TT---C---A------T---------T-A--A--GG------C-T------CC--T--G---------GCAT--T---------------------------------\n",
      "str35: AC--GA----G-----C-G-TT--T--T--AA----G--GGC-----C--C-G------C---G--A-C----TG-C--GA-CG----GCCA--CA-------T---G---G-------C--------CC--T--G-T---A------T---GT-------------------------------\n",
      "str36: ----G-----G---------TT--TA-T--A-CC-T-------T---C--C--------C------A---G---G--T--A-----A--C-AA--A-C-CA----AC--C---AA----C-T-----T----T-----C------G-AT-CT----C--T---T-G--T---A----G-------\n",
      "str37: --T-G-----G--G-A---A---GT--T----CCA---A---A---A-----GAT----C------A-CA--A--A----A-C---A--C---T-A-C-CAG-TCA--ACC-----TGA-A-G----T--AC-A----C----------------------------------------------\n",
      "str38: ----GA-A--G-----C-G-TT---A----A-C---G------T--------G-T-----T--G--A---G---GA----A-----AAG--A--CA--GC---T------------T-A---GGA-G---A--A----C--AA--G-A----G---C--TG----G-----G-------------\n",
      "str39: AC----CA--G-----C-G---C--ACT-T--C---G--G-CA---------G------C---G------GCA-G-C---A-C------C---TC---G--GC--A-G-C---A-----C--------C---T-----C--A---GCA----G---C----A--A----C---------------\n",
      "str40: A-T-G-----G--G-AC--A-----ACT-TA----T-------T---C--C---T--A--TC----A------TG--T-G--C------C-AA-----G-AG-----G--------T----T-----T----TA----C-----C-C-----G-GT-G---AC------C--A------------\n",
      "str41: --TTG---TAGA--------T-C-T---GT-----T-C-----T---C-T-A-A---A-C---G--AAC----T---TT-A-----AA---A-TC--------T---G--------TG---TGG---T----T--G-TC--A--C---T-C----------------------------------\n",
      "str42: A----AC---------C--A-----AC-----C-A---A--C-TTT-C----GAT----CTCT-T-----G--T-A---GA---T----C---T----G----T------------T--C-T------C---TA--A----A--CG-A-ACT-T-T-----A-----------------------\n",
      "str43: ----G-----G--G------TTC-T---G---CCA-G--G-CAT--A-----G-T----CT-T-T--------T---TT-----T----C---T----G--GC----G---G-------C--------CC--T-TG-T-------G--TA-----------A--A----CC---T--G-------\n",
      "str44: ----G-----G-----C---T--G--C---A----TGC-----TT-A-----G-TG---C------A-C----T--C---A-CG-----C-A------G----T-A----------T-A-AT-----T--A--AT-A----A--C---TA-----------A-T----T---ACT--G------T\n",
      "str45: --T-G-CAT-G-----C---TT---A--GT------GCA--C-T---CA-C-G------C------A---G--T-A-T--A-----A------T---------T-A--A-------T-A-A-------C---TA--AT-T-A--C---T---GT--CG-T-------------------------\n",
      "str46: --TT--C---------C--A--C--A----A-C--T-------TT--C--CA-------C-C----AA--GC-T--CT-G--C---AAG--A-TC--C-CAG---A-G--------T--CA-GG--G--------G--C-----C---T---GT-------------------------------\n",
      "str47: --T---C-TA-AA---C-GA-----ACT-T-----T--A---A---A-ATC---TG----T--GT-----G---G-CT-G----T----C-A--C--------TC--G---G-------C-TG-----C-A-T--G--CTTA---G---------------------------------------\n",
      "str48: AC----C---G--G-A----T--G----G---CC--GC-G--ATTT---T----T----C---G------G-A-G--T----C------C---T---------T---G---GG--G-GAC--------C-ACT-----C--A---G-A-A-T---------A---GA------------------\n",
      "str49: -CTTG---TAGA--------T-C-T---GT-----T-C-----T---C-T-A-A---A-C---G--AAC----T---TT-A-----AA---A-TC--------T---G--------TG---TGG----C---T--G-TC--A--C---T------------------------------------\n",
      "str50: A-T-GA----G-----C--A--C-TA----A-----GC-G--A---A-----GA---A-C-C----AA-A--A--A---G--C---A-G--A--CAA------T-AC-A----A-----C--------CC-----G--CT-A------T--T---------AC----------------------\n",
      "\n",
      "solution is feasible: True\n"
     ]
    }
   ],
   "source": [
    "bench(scsp.example.load(\"nucleotide_n050k050.txt\"))"
   ]
  },
  {
   "cell_type": "code",
   "execution_count": null,
   "id": "Kclp",
   "metadata": {},
   "outputs": [
    {
     "name": "stdout",
     "output_type": "stream",
     "text": [
      "--- Condition (with 19 chars) ---\n",
      "str01: MALSYCPKGT\n",
      "str02: MQSSLNAIPV\n",
      "str03: MPLSYQHFRK\n",
      "str04: MEEHVNELHD\n",
      "str05: MSNFDAIRAL\n",
      "str06: MFRNQNSRNG\n",
      "str07: MFYAHAFGGY\n",
      "str08: MSKFTRRPYQ\n",
      "str09: MSFVAGVTAQ\n",
      "str10: MESLVPGFNE\n",
      "\n",
      "--- Solution (of length 53) ---\n",
      "  Sol: MSKFTRREMEPNQNSRALMSYAQCLHVPNFDAGIPVTELHDFRAKGGTLYQNE\n",
      "str01: M---------------AL-SY--C---P----------------KG-T-----\n",
      "str02: M-----------Q-S----S----L---N--A-IPV-----------------\n",
      "str03: M---------P------L-SY-Q--H---F------------R-K--------\n",
      "str04: M------E-E---------------HV-N--------ELHD------------\n",
      "str05: MS---------N-----------------FDA-I--------RA----L----\n",
      "str06: M--F-R-----NQNSR------------N---G--------------------\n",
      "str07: M--F----------------YA---H-----A---------F---GG--Y---\n",
      "str08: MSKFTRR---P---------Y-Q------------------------------\n",
      "str09: MS-F----------------------V----AG--VT------A------Q--\n",
      "str10: M------E------S--L--------VP----G--------F---------NE\n",
      "\n",
      "solution is feasible: True\n"
     ]
    }
   ],
   "source": [
    "bench(scsp.example.load(\"protein_n010k010.txt\"))"
   ]
  },
  {
   "cell_type": "code",
   "execution_count": null,
   "id": "emfo",
   "metadata": {},
   "outputs": [
    {
     "name": "stdout",
     "output_type": "stream",
     "text": [
      "--- Condition (with 20 chars) ---\n",
      "str01: MRHLNIDIETYSSNDIKNGVYKYADAEDFEILLFAYSIDGGEVECLDLTR\n",
      "str02: MERRAHRTHQNWDATKPRERRKQTQHRLTHPDDSIYPRIEKAEGRKEDHG\n",
      "str03: MEPGAFSTALFDALCDDILHRRLESQLRFGGVQIPPEVSDPRVYAGYALL\n",
      "str04: MGKFYYSNRRLAVFAQAQSRHLGGSYEQWLACVSGDSAFRAEVKARVQKD\n",
      "str05: FFRENLAFQQGKAREFPSEEARANSPTSRELWVRRGGNPLSEAGAERRGT\n",
      "str06: MDPSLTQVWAVEGSVLSAAVDTAETNDTEPDEGLSAENEGETRIIRITGS\n",
      "str07: MAFDFSVTGNTKLDTSGFTQGVSSMTVAAGTLIADLVKTASSQLTNLAQS\n",
      "str08: MAVILPSTYTDGTAACTNGSPDVVGTGTMWVNTILPGDFFWTPSGESVRV\n",
      "str09: MNTGIIDLFDNHVDSIPTILPHQLATLDYLVRTIIDENRSVLLFHIMGSG\n",
      "str10: MFVFLVLLPLVSSQCVNLRTRTQLPPAYTNSFTRGVYYPDKVFRSSVLHS\n",
      "str11: MDSKETILIEIIPKIKSYLLDTNISPKSYNDFISRNKNIFVINLYNVSTI\n",
      "str12: MLLSGKKKMLLDNYETAAARGRGGDERRRGWAFDRPAIVTKRDKSDRMAH\n",
      "str13: MNGEEDDNEQAAAEQQTKKAKREKPKQARKVTSEAWEHFDATDDGAECKH\n",
      "str14: MESLVPGFNEKTHVQLSLPVLQVRDVLVRGFGDSVEEVLSEARQHLKDGT\n",
      "str15: MRYIVSPQLVLQVGKGQEVERALYLTPYDYIDEKSPIYYFLRSHLNIQRP\n",
      "str16: MPRVPVYDSPQVSPNTVPQARLATPSFATPTFRGADAPAFQDTANQQARQ\n",
      "str17: MFVFLVLLPLVSSQCVNLRTRTQLPLAYTNSFTRGVYYPDKVFRSSVLHS\n",
      "str18: MFVFFVLLPLVSSQCVNLTTRTQLPPAYTNSFTRGVYYPDKVFRSSVLHS\n",
      "str19: MEAIISFAGIGINYKKLQSKLQHDFGRVLKALTVTARALPGQPKHIAIRQ\n",
      "str20: MASSGPERAEHQIILPESHLSSPLVKHKLLYYWKLTGLPLPDECDFDHLI\n",
      "str21: MESLVPGFNEKTHVQLSLPVLQVRDVLVRGFGDSVEEVLSEVRQHLKDGT\n",
      "str22: MLAPSPNSKIQLFNNINIDINYEHTLYFASVSAQNSFFAQWVVYSADKAI\n",
      "str23: MSAITETKPTIELPALAEGFQRYNKTPGFTCVLDRYDHGVINDSKIVLYN\n",
      "str24: MKNIAEFKKAPELAEKLLEVFSNLKGNSRSLDPMRAGKHDVVVIESTKKL\n",
      "str25: MPQPLKQSLDQSKWLREAEKHLRALESLVDSNLEEEKLKPQLSMGEDVQS\n",
      "str26: MFVFLVLLPLVSSQCVNLITRTQSYTNSFTRGVYYPDKVFRSSVLHSTQD\n",
      "str27: MKFDVLSLFAPWAKVDEQEYDQQLNNNLESITAPKFDDGATEIESERGDI\n",
      "str28: MFVFLVLLPLVSSQCVNFTNRTQLPSAYTNSFTRGVYYPDKVFRSSVLHS\n",
      "str29: MWSIIVLKLISIQPLLLVTSLPLYNPNMDSCCLISRITPELAGKLTWIFI\n",
      "str30: MESLVPGFNEKTHVQLSLPVLQVRDVLVRGFGDSVEEFLSEARQHLKDGT\n",
      "str31: MFVFLVLLPLVSSQCVMPLFNLITTTQSYTNFTRGVYYPDKVFRSSVLHL\n",
      "str32: MHQITVVSGPTEVSTCFGSLHPFQSLKPVMANALGVLEGKMFCSIGGRSL\n",
      "str33: MATLLRSLALFKRNKDKPPITSGSGGAIRGIKHIIIVPIPGDSSITTRSR\n",
      "str34: MESLVPGFNEKTHVQLSLPVLQVRDVLVRGFGDSMEEVLSEARQHLKDGT\n",
      "str35: MFVFLVLLPLVSSQCVNLTTGTQLPPAYTNSFTRGVYYPDKVFRSSVLHS\n",
      "str36: MANIINLWNGIVPMVQDVNVASITAFKSMIDETWDKKIEANTCISRKHRN\n",
      "str37: MLNRIQTLMKTANNYETIEILRNYLRLYIILARNEEGRGILIYDDNIDSV\n",
      "str38: MADPAGTNGEEGTGCNGWFYVEAVVEKKTGDAISDDENENDSDTGEDLVD\n",
      "str39: MFVFLVLLPLVSSQCVNLRTRTQLPPSYTNSFTRGVYYPDKVFRSSVLHS\n",
      "str40: MESLVPGFNEKTHVQLSLPVLQVCDVLVRGFGDSVEEVLSEARQHLKDGT\n",
      "str41: MNNQRKKTARPSFNMLKRARNRVSTVSQLAKRFSKGLLSGQGPMKLVMAF\n",
      "str42: MSNFDAIRALVDTDAYKLGHIHMYPEGTEYVLSNFTDRGSRIEGVTHTVH\n",
      "str43: MIELRHEVQGDLVTINVVETPEDLDGFRDFIRAHLICLAVDTETTGLDIY\n",
      "str44: MFVFLVLLPLVSSQCVMPLFNLITTNQSYTNSFTRGVYYPDKVFRSSVLH\n",
      "str45: MSKDLVARQALMTARMKADFVFFLFVLWKALSLPVPTRCQIDMAKKLSAG\n",
      "str46: MASLLKSLTLFKRTRDQPPLASGSGGAIRGIKHVIIVLIPGDSSIVTRSR\n",
      "str47: MRVRGILRNWQQWWIWTSLGFWMFMICSVVGNLWVTVYYGVPVWKEAKTT\n",
      "str48: MAVEPFPRRPITRPHASIEVDTSGIGGSAGSSEKVFCLIGQAEGGEPNTV\n",
      "str49: MFYAHAFGGYDENLHAFPGISSTVANDVRKYSVVSVYNKKYNIVKNKYMW\n",
      "str50: MANYSKPFLLDIVFNKDIKCINDSCSHSDCRYQSNSYVELRRNQALNKNL\n",
      "\n",
      "--- Solution (of length 458) ---\n",
      "  Sol: MFSMYAHWKMNSLIMAINYVMFPMQMDMESPLKMLIDNMSFPMRWNTAVARPMFLDGEKIVQKTAPETIDKMLMDIRPHTAVQSLFNWERMLKRTGMAFDMFYHRLNRINDGIEKCTHVYSPSQQVTGNWWDLSLAITKWPNGVDYREHRLQDRKAFVSIPGTCIKLYPSGFASEQQYDACTNLQGWFYVESVHKKAKRNEKLPQLNDSFMTGNVLWHISPEDLDVEKALGRGFQSKHMSEYNEQWLARCKVDGTPPSEGDSIVAWFETCMLILYHRRLEFANDYSPTSRCGQEPLWKHAVRLYTFDRFIKILDSEGAGNFRTCSVQLIPMLPSAYNEVGDKTANDIEGSDLRFHFWTPRGVYILNADETKHRIMFIRIVSGYPICDQAYGYFQLRDKVPSQHLTWANIVRLPYAQWKSMGEDHGSNVFQARPKYMWSITSVLAHLISTVAIRSQDRH\n",
      "str01: M------------------------------------------R----------------------------------H-----L-N---------------------I-D-IE--T--YS-S-----N--D----I-K--NGV-Y--------K------------Y----A-----DA----------E----------------D-F-----------E----------------------------------------I--------L-L------FA--YS-----------------------I---D--G-G------------------EV--------E-------------------------------------C--------L-D------LT-----R-----------------------------------------------\n",
      "str02: M---------------------------E--------------R------R-------------A-------------H----------R----T--------H-------------------Q----NW-D---A-TK-P-----RE-R---RK--------------------Q-----T--Q--------H----R---L--------T-----H--P-D-D----------S--------------------------I-----------Y-----------P--R-------------------I-----E-------------------------K-A---EG---R-----------------K--------------------------------------------------EDHG---------------------------------\n",
      "str03: M---------------------------E-P-------------------------G-------A--------------------F----------------------------------S-----T--------A--------------L-----F---------------------DA---L-----------------------------------------------------------------C--D-------D-I--------L---HRRLE-----S------Q--L-----R---F----------G-G------VQ-IP--P----EV----------SD-------PR-VY---A--------------GY-----A-----L--------L------------------------------------------------------\n",
      "str04: M-------------------------------------------------------G-K--------------------------F----------------Y----------------YS-------N-----------------R--RL----A-V-------------FA--Q---A----Q------S------R------------------H-----L------G-G--S-----Y-EQWLA-C-V-----S-GDS--A-F---------R----A-----------E------V---------K------A---R---VQ--------------K---D----------------------------------------------------------------------------------------------------------------\n",
      "str05: -F-------------------F---------------------R-------------E----------------------------N----L-----AF------------------------QQ--G----------K----------------A------------------------------------------R-E--------F----------P--------------S----E--E---AR---------------A-----------------N--SPTSR---E-LW---VR-----R--------G-GN---------P-L-S---E-----A----G-----------------A-E---R----R---G----------------------T-----------------------------------------------------\n",
      "str06: M-------------------------D---P--------S--------------L--------T------------------Q-----------------------------------V----------W-----A-------V---E-------------G-------S-------------------V------------L-----S-------------------A------------------A---VD-T---------A--ET-------------ND---T-----EP-----------D--------EG----------L-----SA--E------N--EG-------------------ET--RI--IRI-------------------------T---------------G----S--------------------------------\n",
      "str07: M----A---------------F----D-------------F------------------------------------------S----------------------------------V-------TGN--------TK-----------L-D---------T------SGF---------T--QG---V-S----------------S-MT--V-------------A------------------A-----GT----------------LI--------A-D-----------L----V---------K-----------T-----------A--------------S------------------------------S------Q------L---------T--N---L--AQ--S---------------------------------------\n",
      "str08: M----A-------------V---------------I------------------L----------P-----------------S----------T-------Y-------------T--------------D----------G-------------------T---------A------ACTN--G-----S-----------P---D------V----------V----G-----------------------T----G--------T-M-------------------------W---V------------------N--T-----I--LP------GD------------F-FWTP---------------------SG---------------------------------------E---S-V---R---------V----------------\n",
      "str09: M---------N-----------------------------------T---------G--I--------ID--L------------F-------------D------N----------HV------------D-S--I---P---------------------T-I-L-P------------------------H----------QL----------------------A-------------------------T----------------L-----------DY----------L----VR--T----I-"
     ]
    },
    {
     "name": "stdout",
     "output_type": "stream",
     "text": [
      "I-D-E---N-R--SV-L---L---------------------FH--------I----------M------G------------------S-------------------G-------------------------------------\n",
      "str10: MF-----------------V-F---------L----------------V-----L-----------------L----P------L---------------------------------V-S-SQ---------------------------------------C-------------------------V---------N--L----------------------------R----------------------T---------------------R----------T----Q--L---------------------------------P--P-AY------T-N----S---F---T-RGVY-------------------YP--D----------KV-----------------------------F--R-----S--SVL-H--S----------\n",
      "str11: M-------------------------D--S--K------------------------E-----T----I---L--I------------E-------------------I---I--------P----------------K--------------------I-----K---S-------Y-----L------------------L----D---T-N----ISP------K-------S-----YN---------D-------------F-----I------------S---R-----------------------------N---------------------K--N-I------F-------V-I-N----------------------------L------------------Y------------NV---------S-T------I-----------\n",
      "str12: M-----------L------------------L-------S----------------G-K---K-------KML-----------L--------------D------N------------Y---------------------------E--------------T---------A------A----------------A-R-------------G------------------RG--------------------G------D------E--------RR-----------R-G----W--A-----FDR---------------------P----A-----------I--------------V-------TK-R-------------D----------K--S---------------------D--------R---M-------AH-------------\n",
      "str13: M---------N---------------------------------------------GE--------E--D----D-----------N-E----------------------------------Q-----------A-------------------A----------------A-EQQ----T------------KKAKR-EK-P-----------------------K------Q------------AR-KV--T--SE-----AW-E-------H----F--D---------------A----T-D------D--GA-------------------E-----------------------------------------------C-----------K----H-------------------------------------------------------\n",
      "str14: M---------------------------ES-L----------------V--P----G----------------------------FN-E---K-T--------H--------------V----Q--------LSL-----P--V------LQ-----V----------------------------------------R--------D------VL---------V-----RGF-------------------G------DS-V---E-----------E--------------------V-L-----------SE-A---R----Q---------------------------H---------L-----K---------------D---G-------------T-----------------------------------------------------\n",
      "str15: M------------------------------------------R----------------------------------------------------------Y-----I---------V-SP-Q--------L----------V------LQ-----V---G---K----G----Q--------------E-V-------E------------------------------R---------------A-----------------------L--Y---L--------T------P--------Y--D----------------------------Y----------I---D-----------------E-K---------S--PI----Y-YF-LR----S-HL---NI------Q---------------RP-------------------------\n",
      "str16: M---------------------P--------------------R----V--P--------V-----------------------------------------Y-------D---------SP-Q-V-------S------PN--------------------T--------------------------V-------------PQ-----------------------A--R--------------LA------TP-S--------F--------------A-----T------P---------TF-R--------GA----------------------D--A--------------P-------A--------F-----------Q--------D-------T-AN-------Q-------------QAR----------------------Q---\n",
      "str17: MF-----------------V-F---------L----------------V-----L-----------------L----P------L---------------------------------V-S-SQ---------------------------------------C-------------------------V---------N--L----------------------------R----------------------T---------------------R----------T----Q--L---------------------------------P-L--AY------T-N----S---F---T-RGVY-------------------YP--D----------KV-----------------------------F--R-----S--SVL-H--S----------\n",
      "str18: MF-----------------V-F------------------F-------V-----L-----------------L----P------L---------------------------------V-S-SQ---------------------------------------C-------------------------V---------N--L--------T------------------------------------------T---------------------R----------T----Q--L---------------------------------P--P-AY------T-N----S---F---T-RGVY-------------------YP--D----------KV-----------------------------F--R-----S--SVL-H--S----------\n",
      "str19: M---------------------------E------------------A-----------I--------I--------------S-F-----------A-------------GI--------------G--------I----N---Y--------K----------KL--------Q---------------S--K-------L-Q------------H----D----------F-------------------G----------------------R-----------------------V-L-------K------A---------L--------------T------------------V-------T------------------A------R----------A----LP-------G--------Q--PK----------H-I---AIR-Q---\n",
      "str20: M----A-----S-----------------S--------------------------G--------PE---------R---A-------E--------------H-------------------Q------------I----------------------I------L-P-----E----------------S-H--------L-----S----------SP--L-V-K---------H------------K--------------------L-LY---------Y-----------WK----L-T-----------G----------L-P-LP-------D------E-------------------------------------CD-----F---D-----HL----I-------------------------------------------------\n",
      "str21: M---------------------------ES-L----------------V--P----G----------------------------FN-E---K-T--------H--------------V----Q--------LSL-----P--V------LQ-----V----------------------------------------R--------D------VL---------V-----RGF-------------------G------DS-V---E-----------E--------------------V-L-----------SE---------V--------------------------R----------------------------------Q--------------HL-------------K----D-G--------------T------------------\n",
      "str22: M-----------L--A------P------SP------N-S------------------KI-Q----------L------------FN-------------------N-IN--I------------------D----I----N---Y-EH-------------T---LY---FAS---------------V-S----A-------Q-N-SF-----------------------F-------------A--------------------------------------------Q---W---V------------------------V---------Y-------------S----------------AD--K-----------------A-------------------I-------------------------------------------------\n",
      "str23: M-S--A-------I--------------------------------T----------E-----T------K------P-T----------------------------I----E------------------L-------P--------------A----------L-----A-E----------G-F----------------Q--------------------------R---------YN-------K---TP---G------F-TC------------------------------V-L---DR---------------------------Y----D-------------H-----GV-I-N-D------------S----------------K----------IV-L-Y------------N-------------------------------\n",
      "str24: M-------K-N--I-A------------E-----------F-----------------K---K-APE-----L-------A-------E---K------------L--------------------------L--------------E---------V-------------F-S--------NL----------K-----------------GN-----S-----------R---S----------L-----D--P--------------M-----R----A---------G-----KH-------D------------------V------------V----------------------V-I----E-----------S-----------------------T------------K---------------K--------L---------------\n",
      "str25: M---------------------P-Q-----PLK----------------------------Q---------------------SL--------------D-----------------------Q---------S----KW----------L--R--------------------E----A----------E---K----------------------H-----L-------R---------------A-----------------------L-------E-----S---------L----V-----D-------S----N-------L---------E---------E--------------------E-K-----------------------L--K-P-Q-L--------------SMGED----V-Q-------S--------------------\n",
      "str26: MF-----------------V-F---------L----------------V-----L-----------------L----P------L---------------------------------V-S-SQ---------------------------------------C-------------------------V---------N--L---------------I-----------------------------------T---------------------R----------T----Q---------------------S--------------------Y------T-N----S---F---T-RGVY-------------------YP--D----------KV-----------------------------F--R-----S--SVL-H--ST-----QD--\n",
      "str27: M-------K------------F----D---------------------V-----L----------------"
     ]
    },
    {
     "name": "stdout",
     "output_type": "stream",
     "text": [
      "------------SLF-----------A-----------------------P-------W-----A--K----VD--E---Q----------------------E--YD-----Q-------------------QLN------N----------------------------N---L-----------E--SI-----T------------A----P----------K-------FD------D--GA----T--------------E--------IE-S------------------E---R--------G----D---------------------I-------------------------------------------------\n",
      "str28: MF-----------------V-F---------L----------------V-----L-----------------L----P------L---------------------------------V-S-SQ---------------------------------------C-------------------------V---------N---------F-T-N-----------------R----------------------T-------------------------------------Q--L---------------------------------P---SAY------T-N----S---F---T-RGVY-------------------YP--D----------KV-----------------------------F--R-----S--SVL-H--S----------\n",
      "str29: M------W---S-I--I--V-----------LK-LI---S-------------------I-Q---P------L-----------L------L--------------------------V-------T------SL-----P---------L----------------Y--------------N--------------------P--N---M-----------D------------S-------------C-------------------C-LI------------S---R-------------------I------------T------P-------E-------------L--------------A--------------G---------------K-----LTW--I-------------------F---------I-------------------\n",
      "str30: M---------------------------ES-L----------------V--P----G----------------------------FN-E---K-T--------H--------------V----Q--------LSL-----P--V------LQ-----V----------------------------------------R--------D------VL---------V-----RGF-------------------G------DS-V---E-----------EF--------------L------------------SE-A---R----Q---------------------------H---------L-----K---------------D---G-------------T-----------------------------------------------------\n",
      "str31: MF-----------------V-F---------L----------------V-----L-----------------L----P------L---------------------------------V-S-SQ---------------------------------------C-------------------------V--------------------M---------P--L---------F--------N---L---------------I-----T------------------T----------------T---------------------Q------S-Y------T-N--------F---T-RGVY-------------------YP--D----------KV-----------------------------F--R-----S--SVL-HL------------\n",
      "str32: M-----H-----------------Q----------I----------T-V-----------V----------------------S-----------G-------------------------P----T--------------------E---------VS---TC-------F-------------G-----S----------L--------------H--P------------FQS----------L---K----P-------V------M----------AN----------------A--L-------------G--------V-L---------E-G-K--------------------------------MF---------C--------------S-------I-----------G---G------R-----S----L---------------\n",
      "str33: M----A----------------------------------------T-------L-----------------L---R------SL------------A-------L--------------------------------------------------F--------K--------------------------------RN-K-----D-------------------K---------------------------PP-----I-----T----------------S-----G----------------------S-G-G-"
     ]
    },
    {
     "name": "stdout",
     "output_type": "stream",
     "text": [
      "--------------A-----------I-----R-------G--I------KH-I--I-IV---PI--------------P--------------------G-D--S-----------SIT--------T---RS--R-\n",
      "str34: M---------------------------ES-L----------------V--P----G----------------------------FN-E---K-T--------H--------------V----Q--------LSL-----P--V------LQ-----V----------------------------------------R--------D------VL---------V-----RGF-------------------G------DS--------M--------E-------------E------V-L-----------SE-A---R----Q---------------------------H---------L-----K---------------D---G-------------T-----------------------------------------------------\n",
      "str35: MF-----------------V-F---------L----------------V-----L-----------------L----P------L---------------------------------V-S-SQ---------------------------------------C-------------------------V---------N--L--------T------------------------------------------T----G--------T-----------------------Q--L---------------------------------P--P-AY------T-N----S---F---T-RGVY-------------------YP--D----------KV-----------------------------F--R-----S--SVL-H--S----------\n",
      "str36: M----A----N--I--IN-------------L------------WN----------G--IV----P-----M---------VQ----------------D------------------V---------N--------------V-----------A--SI--T---------A--------------F------K-------------S-M-------I---D---E---------------------------T----------W-----------------D-------------K------------KI---E-A-N--TC----I----S------------------R-----------------KHR----------------------------------N--------------------------------------------------\n",
      "str37: M-----------L----N-------------------------R---------------I-Q-T--------LM------------------K-T--A--------N--N---------Y---------------------------E--------------T-I---------E-------------------------------------------I----L-------R----------N-------------------------------Y---L----------R-----L-------Y-----I-IL----A---R--------------NE---------EG---R-------G--IL--------I--------Y---D---------D----------NI-------------D--S-V------------------------------\n",
      "str38: M----A--------------------D---P----------------A--------G------T----------------------N--------G-----------------E---------------------------------E-------------GT-------G---------C-N--GWFYVE-----A-----------------V----------VEK--------K-----------------T----GD---A-------I------------S--------------------D------D-E---N-----------------E------ND---SD------T--G-------E-----------------D-------L---V-----------------------D-----------------------------------\n",
      "str39: MF-----------------V-F---------L----------------V-----L-----------------L----P------L---------------------------------V-S-SQ---------------------------------------C-------------------------V---------N--L----------------------------R----------------------T---------------------R----------T----Q--L---------------------------------P--PS-Y------T-N----S---F---T-RGVY-------------------YP--D----------KV-----------------------------F--R-----S--SVL-H--S----------\n",
      "str40: M---------------------------ES-L----------------V--P----G----------------------------FN-E---K-T--------H--------------V----Q--------LSL-----P-"
     ]
    },
    {
     "name": "stdout",
     "output_type": "stream",
     "text": [
      "-V------LQ-----V-----C--------------D----------V------------L-----------V----------------RGF-------------------G------DS-V---E-----------E--------------------V-L-----------SE-A---R----Q---------------------------H---------L-----K---------------D---G-------------T-----------------------------------------------------\n",
      "str41: M---------N------N------Q------------------R--------------K---KTA-----------RP-----S-FN---MLKR---A------R-NR----------V-S-----T----------------V--------------S----------------Q-------L------------AKR----------F---------S-------K--G---------------L------------------------L-------------S-----GQ-----------------------G------------PM----------K---------L---------V------------M-------------A---F-----------------------------------------------------------------\n",
      "str42: M-S-------N----------F----D--------------------A-----------I----------------R---A---L---------------------------------V------------D-----T------D----------A-----------Y--------------------------K-------L---------G----HI------------------HM--Y-------------P--EG--------T----------E----Y---------------V-L-----------S----NF-T-----------------D-----------R-------G-------------------S--------------R------------I------------E--G--V-----------T----H---TV-------H\n",
      "str43: M------------I--------------E--L-----------R----------------------------------H---------E-----------------------------V----Q---G---DL----------V------------------T-I-----------------N------V--V-------E----------T--------PEDLD-----G--F--------------R---D-------------F-----I---R----A----------------H---L------I-------------C---L------A---V-D-T----E---------T-----------T-----------G------------L-D-----------I----Y--------------------------------------------\n",
      "str44: MF-----------------V-F---------L----------------V-----L-----------------L----P------L---------------------------------V-S-SQ---------------------------------------C-------------------------V--------------------M---------P--L---------F--------N---L---------------I-----T------------------T-------------------------------N------Q------S-Y------T-N----S---F---T-RGVY-------------------YP--D----------KV-----------------------------F--R-----S--SVL-H-------------\n",
      "str45: M-S-----K-----------------D----L----------------VAR----------Q--A-------LM-----TA--------RM-K----A-D-F----------------V-------------------------------------F--------------F-----------L---F-V------------L-------------W----------KAL-----S----------L--------P-------V----------------------PT-RC-Q----------------I---D----------------M---A------K----------------------------K-----------------------L-----S-----A-------------G-------------------------------------\n",
      "str46: M----A-----SL------------------LK------S--------------L--------T--------L------------F------KRT---------R-----D------------Q----------------P-------------------P-----L-----AS-----------G-----S--------------------G-----------------G----------------A--------------I-------------R--------------G-----------------IK-------------------------------------------H------V-I---------I-----V--------------L-------------I---P-------G-D--S-----------SI--V------T---RS--R-\n",
      "str47: M------------------------------------------R----V-R-----G--I------------L---R---------NW-----------------------------------QQ----WW-----I--W----------------------T------S-------------L-G-F----------------------------W---------------------M---------------------------F---M-I-----------------C-----------------------S----------V------------VG----N------L----W----V-------T---------V--Y------YG-------VP---------V------WK---E--------A--K-----T--------T---------\n",
      "str48: M----A-------------V--------E-P---------FP-R------RP-------I---T------------RPH-A--S------------------------I----E----V------------D-----T--------------------S--G--I-----G--------------G-----S----A---------------G------S---------------S----E---------KV--------------F--C-LI------------------GQ------A---------------EG-G------------------E--------------------P------N---T---------V------------------------------------------------------------------------------\n",
      "str49: MF--YAH--------A-----F-------------------------------"
     ]
    },
    {
     "name": "stdout",
     "output_type": "stream",
     "text": [
      "---G--------------------------------------G------Y-------D--E--------------N---L---------------H------AF---PG--I----S---S-------T-------V------A--N-------D------V----------------R----K----Y---------------S-----V------------------------------------V-------------S----------V---------YN----K----------------------------K-----------Y------------------------NIV-------K--------N------KYMW---------------------\n",
      "str50: M----A----N-------Y----------S--K--------P-----------FL-----------------L-DI-----V---FN-----K------D--------I-----KC--------------------I----N--D-------------S----C-----S-----------------------H--------------S-------------D--------------------------C--------------------------R-------Y-------Q---------------------S----N----S----------Y--V--------E---LR------R-----N---------------------QA-----L------------N---------K--------N---------------L---------------\n",
      "\n",
      "solution is feasible: True\n"
     ]
    }
   ],
   "source": [
    "bench(scsp.example.load(\"protein_n050k050.txt\"))"
   ]
  }
 ],
 "metadata": {},
 "nbformat": 4,
 "nbformat_minor": 5
}
