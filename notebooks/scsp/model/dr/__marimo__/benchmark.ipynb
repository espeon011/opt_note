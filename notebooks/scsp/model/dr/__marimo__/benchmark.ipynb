{
 "cells": [
  {
   "cell_type": "code",
   "execution_count": null,
   "id": "setup",
   "metadata": {
    "marimo": {
     "name": "setup"
    }
   },
   "outputs": [],
   "source": [
    "import opt_note.scsp as scsp"
   ]
  },
  {
   "cell_type": "code",
   "execution_count": null,
   "id": "Hbol",
   "metadata": {},
   "outputs": [],
   "source": [
    "import marimo as mo\n",
    "import nbformat"
   ]
  },
  {
   "cell_type": "markdown",
   "id": "MJUe",
   "metadata": {
    "marimo": {
     "config": {
      "hide_code": true
     }
    }
   },
   "source": [
    "# ベンチマーク"
   ]
  },
  {
   "cell_type": "code",
   "execution_count": null,
   "id": "vblA",
   "metadata": {
    "marimo": {
     "name": "*bench"
    }
   },
   "outputs": [],
   "source": [
    "def bench(instance: list[str]) -> None:\n",
    "    solution = scsp.model.dr.solve(instance)\n",
    "    scsp.util.show(instance)\n",
    "    scsp.util.show(instance, solution)\n",
    "    print(f\"solution is feasible: {scsp.util.is_feasible(instance, solution)}\")"
   ]
  },
  {
   "cell_type": "code",
   "execution_count": null,
   "id": "bkHC",
   "metadata": {},
   "outputs": [
    {
     "name": "stdout",
     "output_type": "stream",
     "text": [
      "--- Condition (with 25 chars) ---\n",
      "str1: tkgnkuhmpxnhtqgxzvxis\n",
      "str2: iojiqfolnbxxcvsuqpvissbxf\n",
      "str3: ulcinycosovozpplp\n",
      "str4: igevazgbrddbcsvrvnngf\n",
      "\n",
      "--- Solution (of length 68) ---\n",
      " Sol: itkgnekojiqfouhlcimpnbvaxnhtqgxycozgbrddbcsovxiorsuqzpplpvinngfssbxf\n",
      "str1: -tkgn-k------uh---mp----xnhtqgx---z---------vxi--s------------------\n",
      "str2: i------ojiqfo--l----nb--x-----x-c-----------v----suq-p---vi----ssbxf\n",
      "str3: -------------u-lci--n----------yco--------sov--o----zpplp-----------\n",
      "str4: i--g-e----------------va----------zgbrddbcs-v---r--------v-nngf-----\n",
      "\n",
      "solution is feasible: True\n"
     ]
    }
   ],
   "source": [
    "bench(scsp.example.load(\"uniform_q26n004k015-025.txt\"))"
   ]
  },
  {
   "cell_type": "code",
   "execution_count": null,
   "id": "lEQa",
   "metadata": {},
   "outputs": [
    {
     "name": "stdout",
     "output_type": "stream",
     "text": [
      "--- Condition (with 26 chars) ---\n",
      "str1: tkgnkuhmpxnhtqgxzvxis\n",
      "str2: iojiqfolnbxxcvsuqpvissbxf\n",
      "str3: ulcinycosovozpplp\n",
      "str4: igevazgbrddbcsvrvnngf\n",
      "str5: pyplrzxucpmqvgtdfuivcdsbo\n",
      "str6: pbdevdcvdpfzsmsbroqvbbh\n",
      "str7: enbczfjtvxerzbrvigple\n",
      "str8: rxwxqkrdrlctodtmprpxwd\n",
      "\n",
      "--- Solution (of length 127) ---\n",
      " Sol: eingojipbdevaqdcrtkzfgjtbnkuhlcimpvxdnerddbycopflrhnzbrsmosbvigpleowtxqgxckrdrlctodtmzprplpucpmqvxbbghinngfstdfuiqpvcdissbowdxf\n",
      "str1: -----------------tk--g---nkuh---mp-x-n------------h-----------------t-qgx------------z----------vx----i----s-------------------\n",
      "str2: -i--oji------q------f------------------------o--l--n-b---------------x--xc----------------------v----------s---u-qpv--issb---xf\n",
      "str3: ---------------------------u-lci-----n-----yco---------s-o--v-----o------------------zp-plp------------------------------------\n",
      "str4: -i-g------eva------z-g--b--------------rddb-c----------s----v--------------r--------------------v------nngf--------------------\n",
      "str5: -------p-----------------------------------y--p-lr--z----------------x---------------------ucpmqv---g-------tdfui--vcd-s-bo----\n",
      "str6: -------pbdev--dc------------------v-d---------pf----z--sm-sb---------------r-----o-------------qv-bb-h-------------------------\n",
      "str7: e-n-----b------c---zf-jt----------vx--er------------zbr-----vigple-------------------------------------------------------------\n",
      "str8: ----------------r------------------x-------------------------------w-xq---krdrlctodtm-prp--------x-------------------------wd--\n",
      "\n",
      "solution is feasible: True\n"
     ]
    }
   ],
   "source": [
    "bench(scsp.example.load(\"uniform_q26n008k015-025.txt\"))"
   ]
  },
  {
   "cell_type": "code",
   "execution_count": null,
   "id": "PKri",
   "metadata": {},
   "outputs": [
    {
     "name": "stdout",
     "output_type": "stream",
     "text": [
      "--- Condition (with 26 chars) ---\n",
      "str01: tkgnkuhmpxnhtqgxzvxis\n",
      "str02: iojiqfolnbxxcvsuqpvissbxf\n",
      "str03: ulcinycosovozpplp\n",
      "str04: igevazgbrddbcsvrvnngf\n",
      "str05: pyplrzxucpmqvgtdfuivcdsbo\n",
      "str06: pbdevdcvdpfzsmsbroqvbbh\n",
      "str07: enbczfjtvxerzbrvigple\n",
      "str08: rxwxqkrdrlctodtmprpxwd\n",
      "str09: kkqafigqjwokkskrblg\n",
      "str10: lxxpabivbvzkozzvd\n",
      "str11: krifsavncdqwhzc\n",
      "str12: qaxudgqvqcewbfgijowwy\n",
      "str13: rsxqjnfpadiusiqbezhkohmg\n",
      "str14: iwshvhcomiuvddm\n",
      "str15: htxxqjzqbctbakn\n",
      "str16: xusfcfzpeecvwantfmgqzu\n",
      "\n",
      "--- Solution (of length 168) ---\n",
      "  Sol: kriflshtkqagenkvxuwsfhxmpabcqdfijzgnfpeqbcjtvdqcevwbahcokrdxerlcnvpfzksgjmiudbcrsvihtjodqbgkderwxzavntfmoybplngqrbpzvxucbbhefikoshmgopmqvgtowdfuivxcdvsbouqyzpplpvissbxf\n",
      "str01: -------tk--g-nk--u---h-mp----------------------------------x----n------------------ht---q-g-----xz-v-----------------x-------i--s---------------------------------------\n",
      "str02: --i----------------------------------------------------o----------------j-i-------------q-------------f-o---ln---b---x----------------------------xc-vs--uq--p---vissbxf\n",
      "str03: -----------------u--------------------------------------------lc----------i-------------------------n----y-------------c-------os---o---v--o----------------zpplp-------\n",
      "str04: --i--------ge--v---------a-------zg-----b----------------rd-----------------dbc-sv------------r----vn--------ng-------------f-------------------------------------------\n",
      "str05: ------------------------p--------------------------------------------------------------------------------y-pl---r--z-xuc-------------pmqvgt--dfuiv-cd-sbo---------------\n",
      "str06: ------------------------p-b--d--------e-----vd-c-v--------d-------pfz-s--m------s--------b----r---------o------q----v---bbh---------------------------------------------\n",
      "str07: ------------en------------bc-----z--f-----jtv--------------xer------z--------b-r-vi-------g----------------pl--------------e--------------------------------------------\n",
      "str08: -r--------------x-w---x-----q---------------------------krd--rlc--------------------t-od-------------t-m---p----r-p--x----------------------wd--------------------------\n",
      "str09: k-------kqa---------f----------i--g----q--j-------w----ok------------ks--------------------k--r-----------b-l-g---------------------------------------------------------\n",
      "str10: ----l-----------x-----x-pab----i------------v------b-------------v--zk----------------o----------z-----------------zv------------------------d--------------------------\n",
      "str11: krif-s----a----v-------------------n-----c---dq---w--h--------------z---------c-----------------------------------------------------------------------------------------\n",
      "str12: ---------qa-----xu-----------d----g----q----v-qce-wb---------------f---g--i----------jo--------w--------------------------------------------w--------------y------------\n",
      "str13: -r---s----------x-----------q---j--nfp--------------a-----d---------------iu----s-i-----qb---e---z------------------------h---ko-hmg------------------------------------\n",
      "str14: --i---------------ws-h----------------------v--------hco-----------------miu-----v-----d----d----------m----------------------------------------------------------------\n",
      "str15: ------ht--------x-----x-----q---jz-----qbc-t-------ba---k-------n-------------------------------------------------------------------------------------------------------\n",
      "str16: ----------------xu-sf------c--f--z---pe---------e-----c----------v-----------------------------w--a-ntfm------gq---z--u-------------------------------------------------\n",
      "\n",
      "solution is feasible: True\n"
     ]
    }
   ],
   "source": [
    "bench(scsp.example.load(\"uniform_q26n016k015-025.txt\"))"
   ]
  },
  {
   "cell_type": "code",
   "execution_count": null,
   "id": "Xref",
   "metadata": {},
   "outputs": [
    {
     "name": "stdout",
     "output_type": "stream",
     "text": [
      "--- Condition (with 5 chars) ---\n",
      "str01: dcbccdbcce\n",
      "str02: bddbeeeebd\n",
      "str03: cacdeecebe\n",
      "str04: aeddddebdd\n",
      "str05: acbeecabce\n",
      "str06: bbabebdcba\n",
      "str07: bbaeaebada\n",
      "str08: eeeecbdbee\n",
      "str09: ccdeedadcd\n",
      "str10: bdabdbeaad\n",
      "\n",
      "--- Solution (of length 30) ---\n",
      "  Sol: bdcbacdbeecdaebdecbadabcdebdde\n",
      "str01: -dcb-c----cd--b--c-----c-e----\n",
      "str02: bd----dbee---e--e-b-d---------\n",
      "str03: --c-acd-eec--eb-e-------------\n",
      "str04: ----a---e--d---d----d---debdd-\n",
      "str05: ----ac-beec-a-b--c-------e----\n",
      "str06: b--ba--be-----bd-cba----------\n",
      "str07: b--ba---e---aeb----ada--------\n",
      "str08: --------ee---e--ecb-d-b--e---e\n",
      "str09: --c--cd-ee-da--d-c--d---------\n",
      "str10: bd--a--b---d--b-e--a-a--d-----\n",
      "\n",
      "solution is feasible: True\n"
     ]
    }
   ],
   "source": [
    "bench(scsp.example.load(\"uniform_q05n010k010-010.txt\"))"
   ]
  },
  {
   "cell_type": "code",
   "execution_count": null,
   "id": "SFPL",
   "metadata": {},
   "outputs": [
    {
     "name": "stdout",
     "output_type": "stream",
     "text": [
      "--- Condition (with 5 chars) ---\n",
      "str01: dcbccdbcce\n",
      "str02: bddbeeeebd\n",
      "str03: cacdeecebe\n",
      "str04: aeddddebdd\n",
      "str05: acbeecabce\n",
      "str06: bbabebdcba\n",
      "str07: bbaeaebada\n",
      "str08: eeeecbdbee\n",
      "str09: ccdeedadcd\n",
      "str10: bdabdbeaad\n",
      "str11: ededaaaeaa\n",
      "str12: aaeaabeeac\n",
      "str13: eaabcaccdb\n",
      "str14: bdeeadeade\n",
      "str15: caedadeeed\n",
      "str16: ebcadbabbe\n",
      "str17: ddceeabdea\n",
      "str18: dabcddeaec\n",
      "str19: aadceedaab\n",
      "str20: aeecceeeaa\n",
      "str21: bbdaecaade\n",
      "str22: dacedaedab\n",
      "str23: aaeabbbbce\n",
      "str24: dedbcbcaab\n",
      "str25: dbdaaebbcb\n",
      "str26: debedbebac\n",
      "str27: ceebcdcbde\n",
      "str28: dbedaadaab\n",
      "str29: cccdcbebdc\n",
      "str30: aeeacdbcbd\n",
      "str31: dacbeacccd\n",
      "str32: ecebccdbdb\n",
      "str33: ddbbcedabb\n",
      "str34: aaeabaaeba\n",
      "str35: ecbbcaadcd\n",
      "str36: debccecdbc\n",
      "str37: daacbaeebc\n",
      "str38: adabeaacce\n",
      "str39: daecdbacaa\n",
      "str40: dacbbdcedc\n",
      "str41: dedbeebbde\n",
      "str42: cdadcdcdaa\n",
      "str43: ceedcbaeed\n",
      "str44: ceaecaaaca\n",
      "str45: dcccebbbad\n",
      "str46: baeeaebbde\n",
      "str47: dbdebaccdb\n",
      "str48: ebcbeedaea\n",
      "str49: aeeebbdbca\n",
      "str50: dbdabcecbb\n",
      "\n",
      "--- Solution (of length 36) ---\n",
      "  Sol: dacbedabceadbceadebcdabcdbeeabdcdeaa\n",
      "str01: d-cb----c----c--d-bc---c--e---------\n",
      "str02: ---b-d-----db-e--e--------ee-bd-----\n",
      "str03: --c---a-c--d--e--e-c------e--b---e--\n",
      "str04: -a--ed-----d----d---d-----e--bd-d---\n",
      "str05: -acbe----e---c-a--bc------e---------\n",
      "str06: ---b---b--a-b-e---b-d--c-b--a-------\n",
      "str07: ---b---b--a---ea-eb--a--d---a-------\n",
      "str08: ----e----e----e--e-c--b-dbee--------\n",
      "str09: --c-----c--d--e--e--da--d------cd---\n",
      "str10: ---b-dab---db-ea-----a--d-----------\n",
      "str11: ----ed---e-d---a-----a------a----eaa\n",
      "str12: -a----a--ea----a--b-------eea--c----\n",
      "str13: ----e-a---a-bc-a---c---cdb----------\n",
      "str14: ---b-d---e----eade---a--d-e---------\n",
      "str15: --c---a--e-d---ade--------ee--d-----\n",
      "str16: ----e--bc-adb--a--b---b---e---------\n",
      "str17: d----d--ce----ea--b-d-----e-a-------\n",
      "str18: da-b----c--d----de---a----e----c----\n",
      "str19: -a----a----d-ce--e--da------ab------\n",
      "str20: -a--e----e---c-----c------ee-----eaa\n",
      "str21: ---b---b---d---a-e-c-a------a-d--e--\n",
      "str22: dac-eda--e-d---a--b-----------------\n",
      "str23: -a----a--ea-b-----b---b--b-----c-e--\n",
      "str24: d---ed-bc---bc-a-----ab-------------\n",
      "str25: d--b-da---a---e---b---bc-b----------\n",
      "str26: d---e--b-e-db-e---b--a-c------------\n",
      "str27: --c-e----e--bc--d--c--b-d-e---------\n",
      "str28: d--beda---ad---a-----ab-------------\n",
      "str29: --c-----c----c--d--c--b---e--bdc----\n",
      "str30: -a--e----ea--c--d-bc--b-d-----------\n",
      "str31: dacbe-a-c----c-----cd---------------\n",
      "str32: ----e---ce--bc-----cd-b-db----------\n",
      "str33: d----d-b----bce-d----ab--b----------\n",
      "str34: -a----a--ea-b--a-----a----e--b----a-\n",
      "str35: ----e---c---b-----bc-a------a-dcd---\n",
      "str36: d---e--bc----ce----cd-bc------------\n",
      "str37: da----a-c---b--a-e--------e--b-c----\n",
      "str38: -a---dab-ea----a---c---c--e---------\n",
      "str39: da--e---c--db--a---c-a------a-------\n",
      "str40: dacb---b---d-ce-d--c----------------\n",
      "str41: d---ed-b-e----e---b---b-d-e---------\n",
      "str42: --c--da----d-c--d--cda------a-------\n",
      "str43: --c-e----e-d-c----b--a----ee--d-----\n",
      "str44: --c-e-a--e---c-a-----a------a--c--a-\n",
      "str45: d-c-----c----ce---b---b--b--a-d-----\n",
      "str46: ---b--a--e----ea-eb---b-d-e---------\n",
      "str47: d--b-d---e--b--a---c---cdb----------\n",
      "str48: ----e--bc---b-e--e--da----e-a-------\n",
      "str49: -a--e----e----e---b---b-db-----c--a-\n",
      "str50: d--b-dabce---c----b---b-------------\n",
      "\n",
      "solution is feasible: True\n"
     ]
    }
   ],
   "source": [
    "bench(scsp.example.load(\"uniform_q05n050k010-010.txt\"))"
   ]
  },
  {
   "cell_type": "code",
   "execution_count": null,
   "id": "BYtC",
   "metadata": {},
   "outputs": [
    {
     "name": "stdout",
     "output_type": "stream",
     "text": [
      "--- Condition (with 4 chars) ---\n",
      "str01: ATGGGATACG\n",
      "str02: ATACCTTCCC\n",
      "str03: CACGAATTGA\n",
      "str04: TAAAATCTGT\n",
      "str05: AGGTAACAAA\n",
      "str06: TTCCTAGGTA\n",
      "str07: TTGTAGATCT\n",
      "str08: TGGGAAGTTC\n",
      "str09: TTCCACAACT\n",
      "str10: TCTAAACGAA\n",
      "\n",
      "--- Solution (of length 27) ---\n",
      "  Sol: TATACACGGGATAGATCAACTGTCAGA\n",
      "str01: -AT----GGGATA---C----G-----\n",
      "str02: -ATAC-C----T---TC--C---C---\n",
      "str03: ----CACG--A-A--T----TG--A--\n",
      "str04: TA-A-A----AT----C---TGT----\n",
      "str05: -A-----GG--TA-A-CAA-----A--\n",
      "str06: T-T-C-C----TAG-------GT-A--\n",
      "str07: T-T----G---TAGATC---T------\n",
      "str08: T------GGGA-AG-T----T--C---\n",
      "str09: T-T-C-C---A-----CAACT------\n",
      "str10: T---C------TA-A--A-C-G--A-A\n",
      "\n",
      "solution is feasible: True\n"
     ]
    }
   ],
   "source": [
    "bench(scsp.example.load(\"nucleotide_n010k010.txt\"))"
   ]
  },
  {
   "cell_type": "code",
   "execution_count": null,
   "id": "RGSE",
   "metadata": {},
   "outputs": [
    {
     "name": "stdout",
     "output_type": "stream",
     "text": [
      "--- Condition (with 5 chars) ---\n",
      "str01: TAGTAGTAGACTCCGGAAGTGACAAACCCTGAAAAGAATGGATAAATATA\n",
      "str02: GGATAAACACTCCCGAAAATAATTTGACTTAAACAACGCGACAGTTCAAG\n",
      "str03: ATACCTTCCTAGGTAACAAACCAACCAACTTTTGATCTCTTGTAGATCTG\n",
      "str04: TAAATTATAATCTTATACTAGTAAAAAATAGGGTGTAACCGAAAACGGTC\n",
      "str05: TTAAAACAGCCTGTGGGTTGCACCCACTCACAGGGCCCACTGGGCGCAAG\n",
      "str06: ATGACTTCCAATGGATCCCAACCTCAAGCTTCCACCCCAATGGTTTCAGC\n",
      "str07: AACAAACCAACCAACTTTTGATCTCTTGTAGATCTGTTCTCTAAACGAAC\n",
      "str08: ATGAAAACGAAAATTATTATCAAGGGTATGGAAGTGGAAGCTGACGAAAT\n",
      "str09: ACTCGGCTGCATGCTTAGTGCACTCACGCAGTATAATTAATAACTAATTA\n",
      "str10: TTGTAGATCTGTTCTCTAAACGAACTTTAAAATCTGTGTGGCTGTCACTC\n",
      "str11: GCAGAGCATTTTCTAATATCCACAAAATGAAGGCAATAATTGTACTACTC\n",
      "str12: ATGAGCCAAGATCCGACGAAGAGCCCCAAGGAGGAGAAGGAGGGACCCCC\n",
      "str13: TCTCACAGTTCAAGAACCCAAAGTACCCCCCATAGCCCTCTTAAAGCCAC\n",
      "str14: AGGTTTATACCTTCCTAGGTAACAAACCAACCAACTTTCGATCTCTTGTA\n",
      "str15: AGGTTTATACCTTCCCAGGTAACAAACCAACCAACTTTCGATCTCTTGTA\n",
      "str16: TAAAACAACTCAATACAACATAAGAAAATCAACGCAAAAACACTCACAAA\n",
      "str17: CCGCCCATTTGGGCGGCTCTCGAGCGATAGCTCGTCGAATCCCTCGACCT\n",
      "str18: ATACCTTCCCAGGTAACAAACCAACCAACTTTCGATCTCTTGTAGATCTG\n",
      "str19: TCTCACAGTTCAAGAACCTCAAGTCTCCCCCATAGGCCTCTTTCAGTCAG\n",
      "str20: GATCTCTCTCACCGAACCTGGCCCCGGGCAAATGCCCTAATCCAGAGGTG\n",
      "str21: AGAGCAATCAGTGCATCAGAAATATACCTATTATACACTTTGCTAAGAAT\n",
      "str22: AATTAAAACATCTCAATACAACATAAGAAAAACAACGCAAAAACACTCAT\n",
      "str23: AAACGAACTTTAAAATCTGTGTGGCTGTCACTCGGCTGCATGCTTAGTGC\n",
      "str24: ATAACTAATTACTGTCGTTGACAGGACACGAGTAACTCGTCTATCTTCTG\n",
      "str25: ATGAGTGTCACGAATTCACGTACAATGAACTGGATGTTCACGTGGAATAA\n",
      "str26: ACCGTGGGCGAGCGGTGACCGGTGTCTTCCTAGTGGGTCCCACGTTGAAR\n",
      "str27: AAAGGTTTATACCTTCCCAGGTAACAAACCAACCAACTTTCGATCTCTTG\n",
      "str28: AGTAGTTCGCCTGTGTGAGCTGACAAACTTAGTAGTGTTTGTGAGGATTA\n",
      "str29: TTTATACCTTCCTAGGTAACAAACCAACCAACTTTCGATCTCTTGTAGAT\n",
      "str30: ATGCGGTCGTCTCTCCCCGGCTTTTTTTCCCCGCGCCGCGTTGGCGCCGA\n",
      "str31: GTGACAAAAACATAATGGACTCCAACACCATGTCAAGCTTTCAGGTAGAC\n",
      "str32: GTGTAAGAAACAGTAAGCCCGGAAGTGGTGTTTTGCGATTTCGAGGCCGG\n",
      "str33: GAGAATGAGTCTCATTACCGCCCGGTACTTAGCAAGCTAATAGTCACGGC\n",
      "str34: ATGTGGTCGATGCCATGGAGGCCCACCAGTTCATTAAGGCTCCTGGCATT\n",
      "str35: ACGAGCGTTTTAAGGGCCCGCGACTGCGACGGCCACATGGCCCTGTATGT\n",
      "str36: GGTTTATACCTTCCCAGGTAACAAACCAACCAACTTTCGATCTCTTGTAG\n",
      "str37: TGGGAAGTTCCAAAAGATCACAAAACACTACCAGTCAACCTGAAGTACAC\n",
      "str38: GAAGCGTTAACGTGTTGAGGAAAAGACAGCTTAGGAGAACAAGAGCTGGG\n",
      "str39: ACCAGCGCACTTCGGCAGCGGCAGCACCTCGGCAGCACCTCAGCAGCAAC\n",
      "str40: ATGGGACAACTTATTCCTATCATGTGCCAAGAGGTTTTACCCGGTGACCA\n",
      "str41: TTGTAGATCTGTTCTCTAAACGAACTTTAAAATCTGTGTGGTTGTCACTC\n",
      "str42: AACCAACCAACTTTCGATCTCTTGTAGATCTGTTCTCTAAACGAACTTTA\n",
      "str43: GGGTTCTGCCAGGCATAGTCTTTTTTTCTGGCGGCCCTTGTGTAAACCTG\n",
      "str44: GGCTGCATGCTTAGTGCACTCACGCAGTATAATTAATAACTAATTACTGT\n",
      "str45: TGCATGCTTAGTGCACTCACGCAGTATAATTAATAACTAATTACTGTCGT\n",
      "str46: TTCCACAACTTTCCACCAAGCTCTGCAAGATCCCAGAGTCAGGGGCCTGT\n",
      "str47: TCTAAACGAACTTTAAAATCTGTGTGGCTGTCACTCGGCTGCATGCTTAG\n",
      "str48: ACCGGATGGCCGCGATTTTTCGGAGTCCTTGGGGGACCACTCAGAATAGA\n",
      "str49: CTTGTAGATCTGTTCTCTAAACGAACTTTAAAATCTGTGTGGCTGTCACT\n",
      "str50: ATGAGCACTAAGCGAAGAACCAAAAAGCAGACAATACAACCCGCTATTAC\n",
      "\n",
      "--- Solution (of length 141) ---\n",
      "  Sol: ATGAGCTCAGCTAGATCGATAGCATCATGTCGATCTAGCTAGCGTAGTACGTACGTACAGTAGCTCAAGCTGATATCGATGCATGACTAGCATGCTAGCATGCACTGCTACAGTGCTACGATCAGCTAGTCAACGTARGTG\n",
      "str01: -T-AG-T-AG-TAGA-C--T--C--C--G--GA---AG-T-G---A---C--A---A-A----C-C---CTGA-A---A---A-GA--A---TG---G-AT--A-----A-A-T---A---T-A-----------------\n",
      "str02: --G-G---A--TA-A---A---CA-C-T--C---C---C--G---A--A---A---A---TA----A---T--T-T-GA--C-T---TA--A----A-CA---AC-GC----G----AC-A---G-T--TCAA-G------\n",
      "str03: AT-A-C-C---T---TC-----C-T-A-G--G-T--A---A-C--A--A---AC---CA--A-C-CAA-CT--T-T---TG-AT--CT--C-T--T-G--T--A--G--A---T-CT--G---------------------\n",
      "str04: -T-A----A---A--T---TA---T-A-----ATCT---TA---TA---C-TA-GTA-A--A----AA----ATA--G--G---G--T-G--T---A--A--C-C-G--A-A-----A--A-C-G---GTC----------\n",
      "str05: -T----T-A---A-A---A---CA----G-C---CT-G-T-G-G--GT---T--G--CA----C-C---C--A---C--T-CA---C-AG---G---GC---C-C----AC--TG----G----GC--G-CAA-G------\n",
      "str06: ATGA-CT----T----C-----CA--ATG--GATC---C---C--A--AC---C-T-CA--AGCT-----T-----C----CA---C---C---C---CA---A-TG-----GT--T----TCAGC---------------\n",
      "str07: A--A-C--A---A-A-C-----CA--A---C---C-A---A-C-T--T---T---T---G-A--TC----T-----C--T---TG--TAG-AT-CT-G--T----T-CT-C--T---A--A--A-C--G--AAC-------\n",
      "str08: ATGA----A---A-A-CGA-A--A--AT-T--AT-TA--T--C--A--A-G---G----GTA--T---G--GA-A--G-TG---GA--AGC-TG--A-C--G-A-----A-A-T---------------------------\n",
      "str09: A----CTC-G---G--C--T-GCAT---G-C--T-TAG-T-GC--A---C-T-C--AC-G---C--A-G-T-ATA---AT---T-A--A---T---A--A--C--T---A-A-T--TA-----------------------\n",
      "str10: -T----T--G-TAGATC--T-G--T--T--C--TCTA---A----A---CG-A---AC--T---T-----T-A-A---A---AT--CT-G--TG-T-G---GC--TG-T-CA---CT-C----------------------\n",
      "str11: --G--C--AG--AG--C-AT----T--T-TC--T--A---A---TA-T-C---C--ACA--A----AA--TGA-A--G--GCA--A-TA--AT--T-G--T--ACT---AC--T-C-------------------------\n",
      "str12: ATGAGC-CA---AGATC-----C-----G---A-C--G--A----AG-A-G--C---C-----C-CAAG--GA----G--G-A-GA--AG---G--AG---G----G--AC----C--C---C--C---------------\n",
      "str13: -T---CTCA-C-AG-T---T--CA--A-G---A---A-C---C------C--A---A-AGTA-C-C---C------C----C----C-A---T---AGC---C-CT-CT----T---A--A--AGC----CA-C-------\n",
      "str14: A-G-G-T----T---T--ATA-C--C-T-TC---CTAG---G--TA--AC--A---A-A----C-CAA-C------C-A---A---CT----T--T--C--G-A-T-CT-C--T--T--G-T-A-----------------\n",
      "str15: A-G-G-T----T---T--ATA-C--C-T-TC---C---C-AG-GTA--AC--A---A-A----C-CAA-C------C-A---A---CT----T--T--C--G-A-T-CT-C--T--T--G-T-A-----------------\n",
      "str16: -T-A----A---A-A-C-A-A-C-TCA-----AT--A-C-A----A---C--A--TA-AG-A----AA----AT--C-A---A---C--GCA----A--A---A-----ACA---CT-C-A-CA---A---A---------\n",
      "str17: -----C-C-GC-----C-----CAT--T-T-G-----G---GCG--G--C-T-C-T-C-G-AGC----G---ATA--G---C-T--C--G--T-C--G-A---A-T-C--C----CT-CGA-C--CT--------------\n",
      "str18: AT-A-C-C---T---TC-----C--CA-G--G-T--A---A-C--A--A---AC---CA--A-C-CAA-CT--T-TCGAT-C-T--CT----TG-TAG-AT-C--TG----------------------------------\n",
      "str19: -T---CTCA-C-AG-T---T--CA--A-G---A---A-C---C-T----C--A---A--GT--CTC---C------C----C----C-A---T---AG---GC-CT-CT----T--T-C-A---G-T---CA--G------\n",
      "str20: --GA--TC---T----C--T--C-TCA---C---C--G--A----A---C---C-T---G--GC-C---C------CG--G---G-C-A--A----A---TGC-C--CTA-A-T-C--C-A---G--AG-----GT--G--\n",
      "str21: A-GAGC--A---A--TC-A--G--T---G-C-ATC-AG--A----A--A--TA--TAC-----CT-A---T--TAT--A--CA---CT----T--T-GC-T--A-----A--G----A--AT-------------------\n",
      "str22: A--A--T----TA-A---A-A-CATC-T--C-A---A--TA-C--A--AC--A--TA-AG-A----AA----A-A-C-A---A---C--GCA----A--A---A-----ACA---CT-C-AT-------------------\n",
      "str23: A--A----A-C--GA---A---C-T--T-T--A---A---A----A-T-C-T--GT---GT-G-----GCTG-T--C-A--C-T--C--G---GCT-GCATGC--T--TA--GTGC-------------------------\n",
      "str24: AT-A----A-CTA-AT---TA-C-T---GTCG-T-T-G--A-C--AG---G-AC--AC-G-AG-T-AA-CT-----CG-T-C-T-A-T--C-T--T--C-TG---------------------------------------\n",
      "str25: ATGAG-T--G-T----C-A---C-----G---A---A--T----T----C--ACGTACA--A--T---G---A-A-C--TG---GA-T-G--T--T--CA--C---G-T---G-G--A--AT-A---A-------------\n",
      "str26: A----C-C-G-T-G---G---GC-----G---A----GC--G-GT-G-AC---CG----GT-G-TC----T--T--C----C-T-A---G--TG---G---G---T-C--C----C-ACG-T----T-G--AA----R---\n",
      "str27: A--A----AG---G-T---T----T-AT----A-C---CT----T----C---C---CAG--G-T-AA-C--A-A---A--C----C-A--A--C---CA---ACT--T----T-C---GATC---T---C----T---TG\n",
      "str28: A-G---T-AG-T---TCG----C--C-TGT-G-T---G--AGC-T-G-AC--A---A-A----CT-----T-A----G-T--A-G--T-G--T--T----TG---TG--A--G-G--A---T----TA-------------\n",
      "str29: -T----T----TA--T--A---C--C-T-TC---CTAG---G--TA--AC--A---A-A----C-CAA-C------C-A---A---CT----T--T--C--G-A-T-CT-C--T--T--G-T-AG--A-T-----------\n",
      "str30: ATG--C---G---G-TCG-T--C-TC-T--C---C---C---CG--G--C-T---T----T---T-----T--T-TC----C----C---C--GC--GC---C---GC----GT--T--G----GC--G-C--CG-A----\n",
      "str31: --G---T--G--A---C-A-A--A--A-----A-C-A--TA----A-T--G---G-AC--T--C-CAA-C--A---C----CATG--T--CA----AGC-T----T--T-CAG-G-TA-GA-C------------------\n",
      "str32: --G---T--G-TA-A--GA-A--A-CA-GT--A---AGC---C------CG---G-A-AGT-G-----G-TG-T-T---T---TG-C--G-AT--T----T-C---G--A--G-GC--CG----G----------------\n",
      "str33: --GAG---A---A--T-GA--G--TC-T--C-AT-TA-C---CG-----C---C---C-G--G-T-A--CT--TA--G---CA--A---GC-T---A--AT--A--G-T-CA---C---G----GC---------------\n",
      "str34: ATG---T--G---G-TCGAT-GC--CATG--GA----G---GC------C---C--AC-----C--A-G-T--T--C-AT---T-A--AG---GCT--C---C--TG-----G--C-A---T----T--------------\n",
      "str35: A----C---G--AG--CG-T----T--T-T--A--"
     ]
    },
    {
     "name": "stdout",
     "output_type": "stream",
     "text": [
      "-AG---G-G-----C---C---C-G---C----G---A---C--TGC--GAC--G---GC---CA--CA-TG-----G--C--C---C---T-GT-A---T--GT-\n",
      "str36: --G-G-T----T---T--ATA-C--C-T-TC---C---C-AG-GTA--AC--A---A-A----C-CAA-C------C-A---A---CT----T--T--C--G-A-T-CT-C--T--T--G-T-AG----------------\n",
      "str37: -TG-G----G--A-A--G-T----TC----C-A---A---A----AG-A--T-C--ACA--A----AA-C--A---C--T--A---C---CA-G-T--CA---AC--CT---G----A--A---G-TA--CA-C-------\n",
      "str38: --GA----AGC--G-T---TA--A-C--GT-G-T-T-G--AG-G-A--A---A---A--G-A-C--A-GCT--TA--G--G-A-GA--A-CA----AG-A-GC--TG-----G-G--------------------------\n",
      "str39: A----C-CAGC--G--C-A---C-T--T--CG-----GC-AGCG--G--C--A-G--CA----C-C----T-----CG--GCA-G-C-A-C---CT--CA-GCA--GC-A-A---C-------------------------\n",
      "str40: ATG-G----G--A---C-A-A-C-T--T----AT-T--C---C-TA-T-C--A--T---GT-GC-CAAG---A----G--G--T---T----T--TA-C---C-C-G-----GTG--AC---CA-----------------\n",
      "str41: -T----T--G-TAGATC--T-G--T--T--C--TCTA---A----A---CG-A---AC--T---T-----T-A-A---A---AT--CT-G--TG-T-G---G---T--T---GT-C-AC--TC------------------\n",
      "str42: A--A-C-CA---A---C-----CA--A---C--T-T---T--CG-A-T-C-T-C-T----T-G-T-A-G---AT--C--TG--T---T--C-T-CTA--A---AC-G--A-A---CT----T----TA-------------\n",
      "str43: --G-G----G-T---TC--T-GC--CA-G--G--C-A--TAG--T----C-T---T----T---T-----T--T-TC--TG---G-C--G---GC---C---C--T--T---GTG-TA--A--A-C----C----T--G--\n",
      "str44: --G-GCT--GC-A--T-G----C-T--T----A----G-T-GC--A---C-T-C--AC-G---C--A-G-T-ATA---AT---T-A--A---T---A--A--C--T---A-A-T--TAC--T--G-T--------------\n",
      "str45: -TG--C--A--T-G--C--T----T-A-GT-G--C-A-CT--C--A---CG--C--A--GTA--T-AA--T--TA---AT--A--ACTA--AT--TA-C-TG---T-C----GT---------------------------\n",
      "str46: -T----TC--C-A---C-A-A-C-T--T-TC---C-A-C---C--A--A-G--C-T-C--T-GC--AAG---AT--C----C----C-AG-A-G-T--CA-G----G-----G-GC--C--T--G-T--------------\n",
      "str47: -T---CT-A---A-A-CGA-A-C-T--T-T--A---A---A----A-T-C-T--GT---GT-G-----GCTG-T--C-A--C-T--C--G---GCT-GCATGC--T--TA--G----------------------------\n",
      "str48: A----C-C-G---GAT-G---GC--C--G-CGAT-T---T----T--T-CG---G-A--GT--C-C----T--T---G--G---G----G---G--A-C---CACT-C-A--G----A--AT-AG--A-------------\n",
      "str49: -----CT----T-G-T--A--G-ATC-TGT---TCT--CTA----A--ACG-A---AC--T---T-----T-A-A---A---AT--CT-G--TG-T-G---GC--TG-T-CA---CT------------------------\n",
      "str50: ATGAGC--A-CTA-A--G----C-----G---A---AG--A----A---C---C--A-A--A----AAGC--A----GA--CA--A-TA-CA----A-C---C-C-GCTA---T--TAC----------------------\n",
      "\n",
      "solution is feasible: True\n"
     ]
    }
   ],
   "source": [
    "bench(scsp.example.load(\"nucleotide_n050k050.txt\"))"
   ]
  },
  {
   "cell_type": "code",
   "execution_count": null,
   "id": "Kclp",
   "metadata": {},
   "outputs": [
    {
     "name": "stdout",
     "output_type": "stream",
     "text": [
      "--- Condition (with 19 chars) ---\n",
      "str01: MALSYCPKGT\n",
      "str02: MQSSLNAIPV\n",
      "str03: MPLSYQHFRK\n",
      "str04: MEEHVNELHD\n",
      "str05: MSNFDAIRAL\n",
      "str06: MFRNQNSRNG\n",
      "str07: MFYAHAFGGY\n",
      "str08: MSKFTRRPYQ\n",
      "str09: MSFVAGVTAQ\n",
      "str10: MESLVPGFNE\n",
      "\n",
      "--- Solution (of length 50) ---\n",
      "  Sol: MEQSKAFPLSVEYACHPGFLRVNEQTAHFDAIGRAKRLHDNPSRNGTVYQ\n",
      "str01: M----A--LS--Y-C-P------------------K---------GT---\n",
      "str02: M-QS-----S---------L--N---A----I---------P-----V--\n",
      "str03: M------PLS--Y-----------Q--HF----R-K--------------\n",
      "str04: ME---------E---H-----VNE-------------LHD----------\n",
      "str05: M--S------------------N-----FDAI-RA--L------------\n",
      "str06: M-----F-------------R-N-Q---------------N-SRNG----\n",
      "str07: M-----F-----YA-H----------A-F---G------------G--Y-\n",
      "str08: M--SK-F------------------T-------R--R----P------YQ\n",
      "str09: M--S--F---V--A---G---V---TA----------------------Q\n",
      "str10: ME-S----L-V-----PGF---NE--------------------------\n",
      "\n",
      "solution is feasible: True\n"
     ]
    }
   ],
   "source": [
    "bench(scsp.example.load(\"protein_n010k010.txt\"))"
   ]
  },
  {
   "cell_type": "code",
   "execution_count": null,
   "id": "emfo",
   "metadata": {},
   "outputs": [
    {
     "name": "stdout",
     "output_type": "stream",
     "text": [
      "--- Condition (with 20 chars) ---\n",
      "str01: MRHLNIDIETYSSNDIKNGVYKYADAEDFEILLFAYSIDGGEVECLDLTR\n",
      "str02: MERRAHRTHQNWDATKPRERRKQTQHRLTHPDDSIYPRIEKAEGRKEDHG\n",
      "str03: MEPGAFSTALFDALCDDILHRRLESQLRFGGVQIPPEVSDPRVYAGYALL\n",
      "str04: MGKFYYSNRRLAVFAQAQSRHLGGSYEQWLACVSGDSAFRAEVKARVQKD\n",
      "str05: FFRENLAFQQGKAREFPSEEARANSPTSRELWVRRGGNPLSEAGAERRGT\n",
      "str06: MDPSLTQVWAVEGSVLSAAVDTAETNDTEPDEGLSAENEGETRIIRITGS\n",
      "str07: MAFDFSVTGNTKLDTSGFTQGVSSMTVAAGTLIADLVKTASSQLTNLAQS\n",
      "str08: MAVILPSTYTDGTAACTNGSPDVVGTGTMWVNTILPGDFFWTPSGESVRV\n",
      "str09: MNTGIIDLFDNHVDSIPTILPHQLATLDYLVRTIIDENRSVLLFHIMGSG\n",
      "str10: MFVFLVLLPLVSSQCVNLRTRTQLPPAYTNSFTRGVYYPDKVFRSSVLHS\n",
      "str11: MDSKETILIEIIPKIKSYLLDTNISPKSYNDFISRNKNIFVINLYNVSTI\n",
      "str12: MLLSGKKKMLLDNYETAAARGRGGDERRRGWAFDRPAIVTKRDKSDRMAH\n",
      "str13: MNGEEDDNEQAAAEQQTKKAKREKPKQARKVTSEAWEHFDATDDGAECKH\n",
      "str14: MESLVPGFNEKTHVQLSLPVLQVRDVLVRGFGDSVEEVLSEARQHLKDGT\n",
      "str15: MRYIVSPQLVLQVGKGQEVERALYLTPYDYIDEKSPIYYFLRSHLNIQRP\n",
      "str16: MPRVPVYDSPQVSPNTVPQARLATPSFATPTFRGADAPAFQDTANQQARQ\n",
      "str17: MFVFLVLLPLVSSQCVNLRTRTQLPLAYTNSFTRGVYYPDKVFRSSVLHS\n",
      "str18: MFVFFVLLPLVSSQCVNLTTRTQLPPAYTNSFTRGVYYPDKVFRSSVLHS\n",
      "str19: MEAIISFAGIGINYKKLQSKLQHDFGRVLKALTVTARALPGQPKHIAIRQ\n",
      "str20: MASSGPERAEHQIILPESHLSSPLVKHKLLYYWKLTGLPLPDECDFDHLI\n",
      "str21: MESLVPGFNEKTHVQLSLPVLQVRDVLVRGFGDSVEEVLSEVRQHLKDGT\n",
      "str22: MLAPSPNSKIQLFNNINIDINYEHTLYFASVSAQNSFFAQWVVYSADKAI\n",
      "str23: MSAITETKPTIELPALAEGFQRYNKTPGFTCVLDRYDHGVINDSKIVLYN\n",
      "str24: MKNIAEFKKAPELAEKLLEVFSNLKGNSRSLDPMRAGKHDVVVIESTKKL\n",
      "str25: MPQPLKQSLDQSKWLREAEKHLRALESLVDSNLEEEKLKPQLSMGEDVQS\n",
      "str26: MFVFLVLLPLVSSQCVNLITRTQSYTNSFTRGVYYPDKVFRSSVLHSTQD\n",
      "str27: MKFDVLSLFAPWAKVDEQEYDQQLNNNLESITAPKFDDGATEIESERGDI\n",
      "str28: MFVFLVLLPLVSSQCVNFTNRTQLPSAYTNSFTRGVYYPDKVFRSSVLHS\n",
      "str29: MWSIIVLKLISIQPLLLVTSLPLYNPNMDSCCLISRITPELAGKLTWIFI\n",
      "str30: MESLVPGFNEKTHVQLSLPVLQVRDVLVRGFGDSVEEFLSEARQHLKDGT\n",
      "str31: MFVFLVLLPLVSSQCVMPLFNLITTTQSYTNFTRGVYYPDKVFRSSVLHL\n",
      "str32: MHQITVVSGPTEVSTCFGSLHPFQSLKPVMANALGVLEGKMFCSIGGRSL\n",
      "str33: MATLLRSLALFKRNKDKPPITSGSGGAIRGIKHIIIVPIPGDSSITTRSR\n",
      "str34: MESLVPGFNEKTHVQLSLPVLQVRDVLVRGFGDSMEEVLSEARQHLKDGT\n",
      "str35: MFVFLVLLPLVSSQCVNLTTGTQLPPAYTNSFTRGVYYPDKVFRSSVLHS\n",
      "str36: MANIINLWNGIVPMVQDVNVASITAFKSMIDETWDKKIEANTCISRKHRN\n",
      "str37: MLNRIQTLMKTANNYETIEILRNYLRLYIILARNEEGRGILIYDDNIDSV\n",
      "str38: MADPAGTNGEEGTGCNGWFYVEAVVEKKTGDAISDDENENDSDTGEDLVD\n",
      "str39: MFVFLVLLPLVSSQCVNLRTRTQLPPSYTNSFTRGVYYPDKVFRSSVLHS\n",
      "str40: MESLVPGFNEKTHVQLSLPVLQVCDVLVRGFGDSVEEVLSEARQHLKDGT\n",
      "str41: MNNQRKKTARPSFNMLKRARNRVSTVSQLAKRFSKGLLSGQGPMKLVMAF\n",
      "str42: MSNFDAIRALVDTDAYKLGHIHMYPEGTEYVLSNFTDRGSRIEGVTHTVH\n",
      "str43: MIELRHEVQGDLVTINVVETPEDLDGFRDFIRAHLICLAVDTETTGLDIY\n",
      "str44: MFVFLVLLPLVSSQCVMPLFNLITTNQSYTNSFTRGVYYPDKVFRSSVLH\n",
      "str45: MSKDLVARQALMTARMKADFVFFLFVLWKALSLPVPTRCQIDMAKKLSAG\n",
      "str46: MASLLKSLTLFKRTRDQPPLASGSGGAIRGIKHVIIVLIPGDSSIVTRSR\n",
      "str47: MRVRGILRNWQQWWIWTSLGFWMFMICSVVGNLWVTVYYGVPVWKEAKTT\n",
      "str48: MAVEPFPRRPITRPHASIEVDTSGIGGSAGSSEKVFCLIGQAEGGEPNTV\n",
      "str49: MFYAHAFGGYDENLHAFPGISSTVANDVRKYSVVSVYNKKYNIVKNKYMW\n",
      "str50: MANYSKPFLLDIVFNKDIKCINDSCSHSDCRYQSNSYVELRRNQALNKNL\n",
      "\n",
      "--- Solution (of length 491) ---\n",
      "  Sol: MAFVEFSLVLLPGFLNREKTHVDINQLAFSILPRSQCDTVLAEGKRPQTVSYIVNRGSLFKPTQAGIDERLMPSYTNVELSFHATERDGNKMQTVLWAPSICEDANYKTEFVNLYGPDIKSVFEATRQGHLSNQSKVDLIAHSGIPYEFNTIKLQRNSGVYPDCTILENGKSAVFRAHEQLSWDYALSTPRGEFVLDHAMSTYVESQLYFPADKSVRFEGTNIRGSSVAHILKDGTEYNPHRVALEGIKSNADLEVKTFARYCDNSGLEQHITSAMDFERGPWVLKAICNSFDRPGTAFIYQDLEGVAESGMTNEKLQHRAGPNVDKSILPGQYDTFRVEHCLDIRNPDSMWKIVLTGDRSEYNQADCHLFIRAGVWDTYEPQSTRNVIEADSTKAGKEGILQRPDEANLHSVFQCKDAEFRTDDCHGIAECKLHIMAKKLSSAGRKHRVLHSTWYMNFMICFISVKVGNKLYMWVTVYYGVPVWKEAKTT\n",
      "str01: M---------------R---H-----L---------------------------N-----------ID--------------------------------I-E-----T-----Y-----S----------SN----D-I------------K---N-GVY---------K-------------YA----------D-A-----E-------D----FE---I--------L------------L-------------FA-Y---S-----I----D---G--------------G--------E-V-E--------------------------------CLD-----------LT--R-----------------------------------------------------------------------------------------------------------------------------------\n",
      "str02: M---E-----------R----------------R-------A----------------------------------------H---R------T-----------------------------------H---Q---------------N--------------------------------WD-A--T------------------------K-------------------------P-R---E--------------R------------------R-----K---------------Q----------T----QHR---------L-----T----H------PD---------D-S----------I-------Y-P---R--IE----KA--EG---R------------K--E---D--HG---------------------------------------------------------------\n",
      "str03: M---E------PG--------------AFS--------T--A----------------LF-------D---------------A-----------L-----C-D-------------DI-----------L----------H-------------R-------------------R----L-----------E-------S-----QL--------RF-G----G--V-----------------------------------------Q-I---------P------------P---------E-V--S---------------D----P------RV-----------------------Y--A--------G----Y----------A----------L-------L---------------------------------------------------------------------------------\n",
      "str04: M-----------G-----K---------F----------------------Y----------------------Y-----S--------N------------------------------------R----------------------------R----------L-----AVF-A--Q-----A--------------------Q-------S-R------------H-L--G-----------G--S-----------Y------EQ------------W-L-A-C-----------------V--SG--------------D-S-------------------------------------A----F-RA------E------V------KA-------R--------V-Q-KD-------------------------------------------------------------------------\n",
      "str05: --F--F----------RE------N-LAF------Q-----------Q--------G---K---A----R--------E--F----------------PS--E------E--------------A-R-------------A--------N-------S---P--T------S---R--E-L-W-----------V---------------------R------RG---------G---NP----L----S----E----A------G-------A---ER-------------R-GT--------------------------------------------------------------------------------------------------------------------------------------------------------------------------------------------------\n",
      "str06: M---------------------D---------P-S-----L-------T--------------Q-------------V------------------WA-------------V-----------E----G--S----V-L---S-----------------------------A---A-----------------V-D----T---------A------E-TN-----------D-TE--P------------D-E-----------GL-----SA---E----------N--------------EG--E---T------R--------I---------------IR-------I--TG--S----------------------------------------------------------------------------------------------------------------------------------\n",
      "str07: MAF-------------------D-----FS---------V--------T-------G-------------------N-------T-----K----L-------D----T-----------S-------G-------------------F-T---Q---GV-----------S---------S-----------------M-T-V-------A----------------A-----GT--------L--I---ADL-VKT-A-----S-------S---------------------------Q-L--------TN--L---A-----------Q----------------S---------------------------------------------------------------------------------------------------------------------------------------------\n",
      "str08: MA-V-------------------I--L-----P-S---T------------Y----------T----D--------------------G----T---A------A----------------------------------------------------------CT---NG-S-----------------P------D------V-----------V---GT---G----------T---------------------------------------M------WV-----N------T--I---L------------------P--------G--D-F---------------------------------F-----W-T--P-S------------G-E--"
     ]
    },
    {
     "name": "stdout",
     "output_type": "stream",
     "text": [
      "----------SV--------R---------------------------V-----------------------------------------\n",
      "str09: M--------------N---T-----------------------G--------I-------------ID--L----------F-----D-N---------------------------------------H------VD----S-IP----TI-L-------P---------------H-QL----A--T------LD-----Y----L-------VR---T-I-------I--D--E-N--R-------S-----V-----------L----------------L------F--------------------------H---------I---------------------M------G--S-------------G--------------------------------------------------------------------------------------------------------------------\n",
      "str10: M-FV-F-LVLLP--L------V-------S----SQC--V--------------N---L----------R-----T----------R------T---------------------------------Q--L--------------P---------------P----------A-----------Y---T--------------------------------N---S--------------------------------F-------------T------RG--V----------------Y--------------------------------Y-------------PD---K-V---------------F-R----------S--------S-------------------V--------------------LH------S-------------------------------------------------\n",
      "str11: M---------------------D------S--------------K-----------------------E------T------------------------I------------L----I----E---------------I----IP------K------------I----KS------------Y-L--------LD----T-------------------NI--S-------------P--------KS-----------Y--N-----------DF---------I--S--R-------------------N-K-------N----I-------F-V-----I-N--------L------YN-----------V-------ST---I------------------------------------------------------------------------------------------------------\n",
      "str12: M------L-L-------------------S-------------GK---------------K-----------------------------KM---L-----------------L---D--------------N-------------YE--T---------------------A---A--------A----RG------------------------R--G----G--------D--E----R------------------R------------------RG-W---A----FDRP--A-I------V-----T--K---R-----DKS------D--R------------M--------------A--H--------------------------------------------------------------------------------------------------------------------------\n",
      "str13: M--------------N---------------------------G------------------------E---------E--------D---------------D-N---E-----------------Q------------A-------------------------------A---A-EQ--------------------------Q-------------T-----------K---------------K--A----K---R-------E----------------K--------P--------------------K-Q--A----------------R--------------K-V-T---SE---A----------W---E-----------------------------H--F---DA---TDD--G-AECK-H--------------------------------------------------------\n",
      "str14: M---E-SLV--PGF-N-EKTHV---QL--S-LP------VL------Q-V-----R-----------D---------V-L--------------V-------------------------------R-G-------------------F---------G---D--------S-V----E-------------E-VL----S---E------A----R----------------------------------------------------QH-------------LK------D--GT--------------------------------------------------------------------------------------------------------------------------------------------------------------------------------------------------\n",
      "str15: M---------------R----------------------------------YIV---S---P-Q------L------V-L------------Q-V--------------------G---K--------G----Q-------------E-----------V-------E-------RA---L---Y-L-TP------------Y---------D------------------------Y---------I----D-E-K--------S---------------P-----I------------Y--------------------------------Y--F-----L--R---S------------------HL----------------N-I-------------QRP--------------------------------------------------------------------------------------\n",
      "str16: M----------P----R----V----------P------V-----------Y---------------D-----S------------------------P----------------------------Q--------V-----S--P---NT--------V-P-----------------Q-----A----R----L--A--T--------P---S--F----------A------T---P-----------------TF-R-----G-------A-D---------A-------P--AF--QD---------T-------A--N--------Q-------------------------------QA------R---------Q------------------------------------------------"
     ]
    },
    {
     "name": "stdout",
     "output_type": "stream",
     "text": [
      "------------------------------------------------------------\n",
      "str17: M-FV-F-LVLLP--L------V-------S----SQC--V--------------N---L----------R-----T----------R------T---------------------------------Q--L--------------P-------L------------------A-----------Y---T--------------------------------N---S--------------------------------F-------------T------RG--V----------------Y--------------------------------Y-------------PD---K-V---------------F-R----------S--------S-------------------V--------------------LH------S-------------------------------------------------\n",
      "str18: M-FV-F-------F-------V----L----LP-------L--------VS------S-----Q-------------------------------------C---------VNL-----------T------------------------T----R--------T--------------QL--------P--------------------PA-------------------------Y-------------------T------NS-----------F------------------T----------------------R-G--V--------Y----------------------------Y------------------P---------D--K-----------------VF-------R-------------------SS------VLHS--------------------------------------\n",
      "str19: M---E----------------------A--I---------------------I----S-F----AGI---------------------G-----------I----NYK-----------K----------L--QSK--L---------------Q----------------------H-----D---------F-------------------------G---R---V---LK----------AL------------T-------------------------V------------TA---------------------RA--------LPGQ--------------P----K---------------H--I-A--------------I--------------R----------Q----------------------------------------------------------------------------\n",
      "str20: MA----S----------------------S-------------G--P---------------------ER-------------A-E-------------------------------------------H---Q-----I----I--------L-------P-----E---S-----H--LS-----S-P-----L-------V---------K---------------H--K-----------L--------L-------Y--------------------------------------Y--------------------------------------------------WK--LTG-----------L-----------P-------------------L--PDE--------C-D--F--D--H------L-I-------------------------------------------------------\n",
      "str21: M---E-SLV--PGF-N-EKTHV---QL--S-LP------VL------Q-V-----R-----------D---------V-L--------------V-------------------------------R-G-------------------F---------G---D--------S-V----E-------------E-VL----S---E----------VR----------------------------------------------------QH-------------LK------D--GT--------------------------------------------------------------------------------------------------------------------------------------------------------------------------------------------------\n",
      "str22: M------L-------------------A----P-S-----------P-------N--S--K-----I-------------------------Q--L--------------F-N-------------------N------I---------N-I----------D--I--N---------------Y-------E----H---T-----LYF-A--SV---------S--A----------------------------------------Q-------------------NSF------F--------A---------Q---------------------------------W--V--------------------V---Y---S------AD--KA----I------------------------------------------------------------------------------------------\n",
      "str23: M-----S--------------------A--I-------T---E-----T-----------KPT---I-E-L-P----------A-----------L-A----E------------G------F----Q---------------------------R----Y-------N-K-----------------TP-G-F-------T------------------------------------------------------------C--------------------VL-------DR------Y-D---------------H--G--V---I-----------------N-DS--KIVL------YN-------------------------------------------------------------------------------------------------------------------------------\n",
      "str24: M-----------------K-----N-----I----------AE----------------FK-----------------------------K------AP---E----------L----------A----------------------E----KL------------LE-----VF------S---------------------------------------N---------LK-G---N----------S----------R----S-L--------D----P-----------------------------M-------RAG----K-------------H--D----------V--------------------V-----------VIE--STK--K---L----------------------------------------------------------"
     ]
    },
    {
     "name": "stdout",
     "output_type": "stream",
     "text": [
      "-------------------------------\n",
      "str25: M----------P-------------Q------P-------L---K--Q--S-------L--------D------------------------Q------S-------K--------------------------------------------------------------------------W---L---R-E-----A-----E--------K---------------H-L---------R-ALE---S---L-V-------D-S-----------------------N-------------LE---E-----EKL---------K---P-Q---------L------SM------G---E----D--------V------QS-----------------------------------------------------------------------------------------------------------\n",
      "str26: M-FV-F-LVLLP--L------V-------S----SQC--V--------------N---L-------I--------T----------R------T---------------------------------Q---S--------------Y---T-----NS----------------F-------------T-RG--V-------Y-----Y-P-DK-V-F-----R-SSV---L--------H--------S-------T-----------Q------D----------------------------------------------------------------------------------------------------------------------------------------------------------------------------------------------------------------------\n",
      "str27: M-----------------K---------F--------D-VL---------S-------LF----A-------P-----------------------WA---------K---V-----D-----E---Q-------------------E------------Y-D----------------Q--------------------------QL-------------N----------------N-----------N--LE----------S-----IT-A------P---K-----FD---------D--G-A----T-E-------------I----------E---------S-----------E----------R-G--D----------I------------------------------------------------------------------------------------------------------\n",
      "str28: M-FV-F-LVLLP--L------V-------S----SQC--V--------------N----F--T-------------N---------R------T---------------------------------Q--L--------------P-----------S--------------A-----------Y---T--------------------------------N---S--------------------------------F-------------T------RG--V----------------Y--------------------------------Y-------------PD---K-V---------------F-R----------S--------S-------------------V--------------------LH------S-------------------------------------------------\n",
      "str29: M-----------------------------------------------------------------------------------------------W--SI-----------------I--V--------L----K--LI--S-I---------Q------P----L-------------L-----L-------V------T---S-L--P--------------------L-----YNP----------N------------------------MD-------------S--------------------------------------------------C-------------------------C-L-I-----------S-R--I----T----------P-E--L--------A--------G----KL-------------------TW-----I-FI---------------------------\n",
      "str30: M---E-SLV--PGF-N-EKTHV---QL--S-LP------VL------Q-V-----R-----------D---------V-L--------------V-------------------------------R-G-------------------F---------G---D--------S-V----E-------------EF-L----S---E------A----R----------------------------------------------------QH-------------LK------D--GT---------------------------------------------------------------------------------------------------------------------------------------------------------------------------------------"
     ]
    },
    {
     "name": "stdout",
     "output_type": "stream",
     "text": [
      "-----------\n",
      "str31: M-FV-F-LVLLP--L------V-------S----SQC--V-------------------------------MP------L-F-------N-----L----I-------T----------------T------------------------T---Q--S--Y---T---N-----F-------------T-RG--V-------Y-----Y-P-DK-V-F-----R-SSV---L--------H---L------------------------------------------------------------------------------------------------------------------------------------------------------------------------------------------------------------------------------------------------------\n",
      "str32: M-------------------H----Q----I-------TV---------VS-----G----PT-----E--------V--S---T----------------C--------F----G----S---------L----------H---P--F-----Q--S--------L---K------------------P----V----M-----------A---------N------A--L--G-------V-LEG-K--------------------------M-F----------C-S--------I-----G----G--------R-------S-L-----------------------------------------------------------------------------------------------------------------------------------------------------------------\n",
      "str33: MA-----------------T------L----L-RS-----LA----------------LFK--------R------N-------------K------------D---K--------P----------------------------P-----I------------T------S-------------------G--------S------------------G----G---A-I----------R----GIK---------------------HI---------------I-----------I------V---------------P-----I-PG--D--------------S----------S----------I------T-----TR------S----------R---------------------------------------------------------------------------------------\n",
      "str34: M---E-SLV--PGF-N-EKTHV---QL--S-LP------VL------Q-V-----R-----------D---------V-L--------------V-------------------------------R-G-------------------F---------G---D--------S---------------------------M----E-------------E--------V---L-----------------S----E----AR--------QH-------------LK------D--GT--------------------------------------------------------------------------------------------------------------------------------------------------------------------------------------------------\n",
      "str35: M-FV-F-LVLLP--L------V-------S----SQC--V--------------N---L---T------------T------------G----T---------------------------------Q--L--------------P---------------P----------A-----------Y---T--------------------------------N---S--------------------------------F-------------T------RG--V----------------Y--------------------------------Y-------------PD---K-V---------------F-R----------S--------S-------------------V--------------------LH------S-------------------------------------------------\n",
      "str36: MA-------------N-------I------I-----------------------N---L-------------------------------------W--------N---------G--I--V-----------------------P-----------------------------------------------------M---V--Q-----D--V-----N-----VA--------------------S---------------------IT-A--F-------K----S--------------------M----------------I-----D----E----------------T-------------------WD----------------K--K--I-----EAN-------------T--C--I------------S---RKHR--------N---------------------------------\n",
      "str37: M------L-------NR--"
     ]
    },
    {
     "name": "stdout",
     "output_type": "stream",
     "text": [
      "----I-Q------------T-L------------------------------M------------------K--T---A-------N------N-Y--------E-T-------------I-------E---I-L-RN---Y-----L--------R----L---Y-------------------------------------I-------IL-----------A----------------R---N---E---------E-G------------R-G---I---L------------------------I----YD--------D--N------I----D-S--------------V-------------------------------------------------------------------------------------------------------------------\n",
      "str38: MA--------------------D---------P--------A-G----T-----N-G-----------E---------E---------G----T---------------------G-----------------------------------------------C----NG------------W----------F--------YVE------A---V-----------V--------E-----------K-------KT--------G---------D---------AI--S-D---------D-E--------NE--------N-D-S------DT---------------------G---E----D--L-----V-D-----------------------------------------------------------------------------------------------------------------\n",
      "str39: M-FV-F-LVLLP--L------V-------S----SQC--V--------------N---L----------R-----T----------R------T---------------------------------Q--L--------------P---------------P---------S------------Y---T--------------------------------N---S--------------------------------F-------------T------RG--V----------------Y--------------------------------Y-------------PD---K-V---------------F-R----------S--------S-------------------V--------------------LH------S-------------------------------------------------\n",
      "str40: M---E-SLV--PGF-N-EKTHV---QL--S-LP------VL------Q-V---------------------------------------------------C-D-------V-L-------V----R-G-------------------F---------G---D--------S-V----E-------------E-VL----S---E------A----R----------------------------------------------------QH-------------LK------D--GT--------------------------------------------------------------------------------------------------------------------------------------------------------------------------------------------------\n",
      "str41: M--------------N--------NQ-------R----------K---------------K-T-A----R--PS-------F-------N-M---L-----------K------------------R-------------A--------------RN------------------R------------------V-----ST-V-SQL---A-K--RF-------S------K-G---------L--------L-----------SG--Q----------GP-----------------------------M---KL-------V-------------------------M--------------A----F------------------------------------------------------------------------------------------------------------------------\n",
      "str42: M-----S--------N------------F--------D---A----------I--R--------A-----L------V---------D-----T---------DA-YK-----L-G-------------H---------I-H---------------------------------------------------------M--Y-------P-------EGT---------------EY----V-L----SN-------F-------------T---D--RG---------S--R-----I----EGV-----T-----H----------------T--V-H------------------------------------------------------------------------------------------------------------------------------------------------------\n",
      "str43: M----------------------I-------------"
     ]
    },
    {
     "name": "stdout",
     "output_type": "stream",
     "text": [
      "-----E---------------L----------R------------H--E--------V--------------------------------QG--------DL--------------------V----TI--N----V--------------------V---------E---------------T------------------P-----E------DL---------D--G----------F-R------------D-----FI-------------------RA-------------------H-L-I----------------------C-L---A-V-DT-E---T--------T--G----L---D----------------------I--------------------------Y-----------------------------------\n",
      "str44: M-FV-F-LVLLP--L------V-------S----SQC--V-------------------------------MP------L-F-------N-----L----I-------T----------------T------NQS-----------Y---T-----NS----------------F-------------T-RG--V-------Y-----Y-P-DK-V-F-----R-SSV---L--------H----------------------------------------------------------------------------------------------------------------------------------------------------------------------------------------------------------------------------------------------------------\n",
      "str45: M-----S-----------K---D---L------------V-A---R-Q----------------A-----LM---T-------A--R----M---------------K----------------A------------D----------F----------V--------------F------------------F-L-------------F-----V---------------L--------------------------------------------------W--KA----------------L-----S------L-----P-V-----P----T-R---C----------------------Q------I-----D----------------------------------------------------------MAKKLS-AG----------------------------------------------\n",
      "str46: MA----SL-L--------K----------S-L------T-L------------------FK--------R-----T----------RD----Q-----P-----------------P-------------L---------A-SG-------------SG----------G--A-------------------------------------------------IRG-----I-K-------H-V----I-----------------------I-----------VL--I------PG------D------S-----------------SI---------V-----------------T--RS-----------R----------------------------------------------------------------------------------------------------------------------\n",
      "str47: M---------------R----V-----------R---------G--------I-----L----------R------N-------------------W------------------------------Q-----Q------------------------------------------------W---------------------------------------------------------------------------------------------------W----I---------------------------------------------------------------W----T---S--------L----G--------------------------------------F----------------------------------------W-M-FMIC--SV-VGN-L--WVTVYYGVPVWKEAKTT\n",
      "str48: MA-VE------P-F------------------PR-----------RP-----I---------T------R--P---------HA---------------SI-E--------V-----D-------T-----S-----------GI-------------G----------G-SA------------------G--------S----S------------E-------------K---------V---------------F---C----L---I--------G--------------------Q-----AE-G----------G-----------------E-------P---------------N--------------T--------V-------------------------------------------------------------------------------------------------------\n",
      "str49: M-F------------------------------------------------Y--"
     ]
    },
    {
     "name": "stdout",
     "output_type": "stream",
     "text": [
      "----------A-----------------HA--------------------------F----G------------G-----------------Y---------------D----EN-----------L----------------HA----------FP--------G--I--SS--------T------VA------N-D--V----R------------------------K--------------Y--------S--------------V-------------V----------S----V-------YN------------------------------K--K---------------------------------------------------------Y-N--I----VK--NK-YMW----------------\n",
      "str50: MA-------------N-----------------------------------Y-----S--KP-------------------F-------------L-----------------L---DI--VF---------N--K-D-I------------K----------C-I--N--------------D---S--------------------------------------------------------------------------C--S----H--S--D-----------C----R------YQ-------S---N-------------S-----Y----VE--L--R-------------R---NQA---L----------------N-------K-------------NL---------------------------------------------------------------------------------\n",
      "\n",
      "solution is feasible: True\n"
     ]
    }
   ],
   "source": [
    "bench(scsp.example.load(\"protein_n050k050.txt\"))"
   ]
  }
 ],
 "metadata": {},
 "nbformat": 4,
 "nbformat_minor": 5
}
