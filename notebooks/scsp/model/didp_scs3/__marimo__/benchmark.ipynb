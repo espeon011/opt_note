{
 "cells": [
  {
   "cell_type": "code",
   "execution_count": null,
   "id": "setup",
   "metadata": {
    "marimo": {
     "name": "setup"
    }
   },
   "outputs": [],
   "source": [
    "import opt_note.scsp as scsp"
   ]
  },
  {
   "cell_type": "code",
   "execution_count": null,
   "id": "Hbol",
   "metadata": {},
   "outputs": [],
   "source": [
    "import marimo as mo\n",
    "import nbformat"
   ]
  },
  {
   "cell_type": "markdown",
   "id": "MJUe",
   "metadata": {
    "marimo": {
     "config": {
      "hide_code": true
     }
    }
   },
   "source": [
    "# ベンチマーク"
   ]
  },
  {
   "cell_type": "code",
   "execution_count": null,
   "id": "vblA",
   "metadata": {
    "marimo": {
     "name": "*bench"
    }
   },
   "outputs": [],
   "source": [
    "def bench(instance: list[str]) -> None:\n",
    "    model = scsp.model.didp_scs3.create_model(instance).solve()\n",
    "    solution = model.to_solution()\n",
    "    scsp.util.show(instance)\n",
    "    if solution is not None:\n",
    "        scsp.util.show(instance, solution)\n",
    "        print(f\"solution is feasible: {scsp.util.is_feasible(instance, solution)}\")\n",
    "    else:\n",
    "        print(\"--- Solution not found ---\\n\")\n",
    "\n",
    "    print(f\"solution is optimal: {model.solution.is_optimal}\")\n",
    "    print(f\"bset bound: {model.solution.best_bound}\")"
   ]
  },
  {
   "cell_type": "markdown",
   "id": "bkHC",
   "metadata": {
    "marimo": {
     "config": {
      "hide_code": true
     }
    }
   },
   "source": [
    "小さいインスタンスに対しては確かに dual bound が改善した... が今まで最適性を証明できていなかったインスタンスに対して最適性を証明できたりしたわけではなかった. また, primal bound はあまり改善しなかった.\n",
    "\n",
    "大きいインスタンスでは事前計算が完了しないため, 一部のインスタンスはスキップする.\n",
    "具体的に, 以下のインスタンスはスキップ.\n",
    "\n",
    "- `uniform_q05n050k010-010.txt`\n",
    "- `nucleotide_n050k050.txt`\n",
    "- `protein_n050k050.txt`"
   ]
  },
  {
   "cell_type": "code",
   "execution_count": null,
   "id": "lEQa",
   "metadata": {},
   "outputs": [
    {
     "name": "stdout",
     "output_type": "stream",
     "text": [
      "--- Condition (with 25 chars) ---\n",
      "str1: tkgnkuhmpxnhtqgxzvxis\n",
      "str2: iojiqfolnbxxcvsuqpvissbxf\n",
      "str3: ulcinycosovozpplp\n",
      "str4: igevazgbrddbcsvrvnngf\n",
      "\n",
      "--- Solution (of length 62) ---\n",
      " Sol: utlkcignycosjiqfoevaozkgubrdhpmpldnbxxcsvsrvnhtuqngxzpvxissbxf\n",
      "str1: -t-k--gn--------------k-u---h-mp----x-------nht-q-gxz-vxis----\n",
      "str2: -----i----o-jiqfo---------------l-nbxxc-vs-----uq----pv-issbxf\n",
      "str3: u-l-ci-nycos----o-v-oz-------p-pl--------------------p--------\n",
      "str4: -----ig----------eva-z-g-brd-----d-b--csv-rvn----ng----------f\n",
      "\n",
      "solution is feasible: True\n",
      "solution is optimal: True\n",
      "bset bound: 62\n"
     ]
    }
   ],
   "source": [
    "bench(scsp.example.load(\"uniform_q26n004k015-025.txt\"))"
   ]
  },
  {
   "cell_type": "code",
   "execution_count": null,
   "id": "PKri",
   "metadata": {},
   "outputs": [
    {
     "name": "stdout",
     "output_type": "stream",
     "text": [
      "--- Condition (with 26 chars) ---\n",
      "str1: tkgnkuhmpxnhtqgxzvxis\n",
      "str2: iojiqfolnbxxcvsuqpvissbxf\n",
      "str3: ulcinycosovozpplp\n",
      "str4: igevazgbrddbcsvrvnngf\n",
      "str5: pyplrzxucpmqvgtdfuivcdsbo\n",
      "str6: pbdevdcvdpfzsmsbroqvbbh\n",
      "str7: enbczfjtvxerzbrvigple\n",
      "str8: rxwxqkrdrlctodtmprpxwd\n",
      "\n",
      "--- Solution (of length 96) ---\n",
      " Sol: iojiqtkfopyplrbgdxevwanzgbxqkruxdrlchpmqvgztdpfzsujtivxnybcohdtmsberoqvogxzbprvxinnssgpbxlfwdphe\n",
      "str1: -----tk--------g------n-----k-u-----h-m------p--------xn----h-t------q--gxz---vxi--s------------\n",
      "str2: iojiq--fo---l---------n--bx----x---c----v-------su-------------------q------p-v-i--ss--bx-f-----\n",
      "str3: ------------------------------u---lc----------------i--ny-co----s---o-vo--z-p---------p--l---p--\n",
      "str4: i--------------g--ev-a-zgb---r--d-----------d------------bc-----s-----v------rv--nn--g----f-----\n",
      "str5: ---------pyplr---------z--x---u----c-pmqvg-td-f--u--iv----c--d--sb--o---------------------------\n",
      "str6: ---------p----b-d-ev------------d--c----v---dpfzs--------------msb-roqv----b-----------b------h-\n",
      "str7: ------------------e---n--b---------c------z---f---jt-vx-----------er------zb-rv-i----gp--l-----e\n",
      "str8: -------------r---x--w-----xqkr--drlc-------t---------------o-dtm------------pr--------p-x--wd---\n",
      "\n",
      "solution is feasible: True\n",
      "solution is optimal: False\n",
      "bset bound: 67\n"
     ]
    }
   ],
   "source": [
    "bench(scsp.example.load(\"uniform_q26n008k015-025.txt\"))"
   ]
  },
  {
   "cell_type": "code",
   "execution_count": null,
   "id": "Xref",
   "metadata": {},
   "outputs": [
    {
     "name": "stdout",
     "output_type": "stream",
     "text": [
      "--- Condition (with 26 chars) ---\n",
      "str01: tkgnkuhmpxnhtqgxzvxis\n",
      "str02: iojiqfolnbxxcvsuqpvissbxf\n",
      "str03: ulcinycosovozpplp\n",
      "str04: igevazgbrddbcsvrvnngf\n",
      "str05: pyplrzxucpmqvgtdfuivcdsbo\n",
      "str06: pbdevdcvdpfzsmsbroqvbbh\n",
      "str07: enbczfjtvxerzbrvigple\n",
      "str08: rxwxqkrdrlctodtmprpxwd\n",
      "str09: kkqafigqjwokkskrblg\n",
      "str10: lxxpabivbvzkozzvd\n",
      "str11: krifsavncdqwhzc\n",
      "str12: qaxudgqvqcewbfgijowwy\n",
      "str13: rsxqjnfpadiusiqbezhkohmg\n",
      "str14: iwshvhcomiuvddm\n",
      "str15: htxxqjzqbctbakn\n",
      "str16: xusfcfzpeecvwantfmgqzu\n",
      "\n",
      "--- Solution (of length 154) ---\n",
      "  Sol: rxiwuposxtyqpjkgenbidkqlefvcrpaozflxjudhicntgzqbxvrdpemapxqlueycfvejwzgtsodbirafnuhvntqcsompzsbevzkgkrivctxsdozujhkfimgqvownprsbhzdxakplnbiwdvmhgeucofpsyd\n",
      "str01: ---------t----kg-n---k---------------u-h--------------m-px----------------------n-h--tq------------g------x---z---------v----------x------i------------s--\n",
      "str02: --i---o------j-----i--q--f-----o--l-------n----bx--------x-----c-v------s--------u----q----p----v-----i----s------------------sb---x-----------------f----\n",
      "str03: ----u------------------l---c------------i-n-------------------yc---------o--------------so------v------------oz-------------p---------pl--------------p---\n",
      "str04: --i------------ge---------v---a-z-----------g--b--rd----------------------db-----------cs-------v----r-v-------------------n------------n-------g----f----\n",
      "str05: -----p----y-p----------l----r---z--x-u---c----------p-m---q------v----gt--d----f-u--------------------ivc---d-----------------sb--------------------o-----\n",
      "str06: -----p------------b-d---e-v-----------d--c-------v-dp-----------f----z--s-----------------m--sb------r-------o---------qv------b---------b-----h----------\n",
      "str07: ----------------enb--------c----zf--j------t-----v-------x---e---------------r--------------z-b------r-v------------i-g-----p----------l---------e--------\n",
      "str08: rx-w----x--q--k-------------r---------d-----------r--------l---c-------t-od----------t----mp---------r----------------------p------x-------wd-------------\n",
      "str09: --------------k------kq-------a--f------i---g-q--------------------jw----o------------------------k-k------s------k----------r-b-------l--------g---------\n",
      "str10: -----------------------l-----------x------------x---p--a-------------------bi------v----------b-vzk----------oz------------------z-----------v-----------d\n",
      "str11: --------------k-------------r-----------i-----------------------f-------s-----a----vn--c--------------------d----------q--w-----hz-----------------c------\n",
      "str12: -----------q------------------a----x-ud-----g-q--v--------q----c--e-w------b---f-------------------g--i---------j--------ow----------------w------------y-\n",
      "str13: r------sx--q-j---n-------f---pa-------d-i-------------------u-----------s---i---------q-------be-z---------------hk------o------h-------------m-g---------\n",
      "str14: --iw---s-------------------------------h---------v--------------------------------h----c-om-----------i--------u--------v---------d---------d-m-----------\n",
      "str15: ---------------------------------------h---t----x--------xq--------j-z----------------q-------b---------ct---------------------b----ak--n-----------------\n",
      "str16: -x--u--s-----------------f-c-----f-----------z------pe-------e-c-v--w---------a-n----t-----------------------------f-mgq---------z----------------u-------\n",
      "\n",
      "solution is feasible: True\n",
      "solution is optimal: False\n",
      "bset bound: 62\n"
     ]
    }
   ],
   "source": [
    "bench(scsp.example.load(\"uniform_q26n016k015-025.txt\"))"
   ]
  },
  {
   "cell_type": "code",
   "execution_count": null,
   "id": "SFPL",
   "metadata": {},
   "outputs": [
    {
     "name": "stdout",
     "output_type": "stream",
     "text": [
      "--- Condition (with 5 chars) ---\n",
      "str01: dcbccdbcce\n",
      "str02: bddbeeeebd\n",
      "str03: cacdeecebe\n",
      "str04: aeddddebdd\n",
      "str05: acbeecabce\n",
      "str06: bbabebdcba\n",
      "str07: bbaeaebada\n",
      "str08: eeeecbdbee\n",
      "str09: ccdeedadcd\n",
      "str10: bdabdbeaad\n",
      "\n",
      "--- Solution (of length 27) ---\n",
      "  Sol: bbaeddcbacdeeecbdbceabdcead\n",
      "str01: ----d-cb-c----c-dbc----ce--\n",
      "str02: b---dd-b---eee-----e-bd----\n",
      "str03: ------c-acdee-c----e-b--e--\n",
      "str04: --aedd----d-----d--e-bd---d\n",
      "str05: --a---cb---ee-c-----ab-ce--\n",
      "str06: bba----b---e---bd-c--b---a-\n",
      "str07: bbae----a--e---b----a-d--a-\n",
      "str08: ---e-------eeecbdb-e----e--\n",
      "str09: ------c--cdee---d---a-dc--d\n",
      "str10: b---d---a------bdb-ea----ad\n",
      "\n",
      "solution is feasible: True\n",
      "solution is optimal: True\n",
      "bset bound: 27\n"
     ]
    }
   ],
   "source": [
    "bench(scsp.example.load(\"uniform_q05n010k010-010.txt\"))"
   ]
  },
  {
   "cell_type": "code",
   "execution_count": null,
   "id": "BYtC",
   "metadata": {},
   "outputs": [],
   "source": [
    "# bench(scsp.example.load(\"uniform_q05n050k010-010.txt\"))"
   ]
  },
  {
   "cell_type": "code",
   "execution_count": null,
   "id": "RGSE",
   "metadata": {},
   "outputs": [
    {
     "name": "stdout",
     "output_type": "stream",
     "text": [
      "--- Condition (with 4 chars) ---\n",
      "str01: ATGGGATACG\n",
      "str02: ATACCTTCCC\n",
      "str03: CACGAATTGA\n",
      "str04: TAAAATCTGT\n",
      "str05: AGGTAACAAA\n",
      "str06: TTCCTAGGTA\n",
      "str07: TTGTAGATCT\n",
      "str08: TGGGAAGTTC\n",
      "str09: TTCCACAACT\n",
      "str10: TCTAAACGAA\n",
      "\n",
      "--- Solution (of length 24) ---\n",
      "  Sol: TACTGACGCGTAATCAGATCGTAC\n",
      "str01: -A-TG--G-G-A-T-A---CG---\n",
      "str02: -A-T-AC-C-T--TC----C---C\n",
      "str03: --C--ACG---AAT----T-G-A-\n",
      "str04: TA---A-----AATC---T-GT--\n",
      "str05: -A--G--G--TAA-CA-A----A-\n",
      "str06: T--T--C-C-TA----G---GTA-\n",
      "str07: T--TG-----TA----GATC-T--\n",
      "str08: T---G--G-G-AA---G-T--T-C\n",
      "str09: T--T--C-C--A--CA-A-C-T--\n",
      "str10: T-CT-A-----AA-C-GA----A-\n",
      "\n",
      "solution is feasible: True\n",
      "solution is optimal: True\n",
      "bset bound: 24\n"
     ]
    }
   ],
   "source": [
    "bench(scsp.example.load(\"nucleotide_n010k010.txt\"))"
   ]
  },
  {
   "cell_type": "code",
   "execution_count": null,
   "id": "Kclp",
   "metadata": {},
   "outputs": [],
   "source": [
    "# bench(scsp.example.load(\"nucleotide_n050k050.txt\"))"
   ]
  },
  {
   "cell_type": "code",
   "execution_count": null,
   "id": "emfo",
   "metadata": {},
   "outputs": [
    {
     "name": "stdout",
     "output_type": "stream",
     "text": [
      "--- Condition (with 19 chars) ---\n",
      "str01: MALSYCPKGT\n",
      "str02: MQSSLNAIPV\n",
      "str03: MPLSYQHFRK\n",
      "str04: MEEHVNELHD\n",
      "str05: MSNFDAIRAL\n",
      "str06: MFRNQNSRNG\n",
      "str07: MFYAHAFGGY\n",
      "str08: MSKFTRRPYQ\n",
      "str09: MSFVAGVTAQ\n",
      "str10: MESLVPGFNE\n",
      "\n",
      "--- Solution (of length 44) ---\n",
      "  Sol: MAPLQESKFYTRNQEAFHSLVNSDAICFRPGFVNEKGTALYQHD\n",
      "str01: MA-L--S--Y----------------C--P-----KGT------\n",
      "str02: M---Q-S-----------SL-N--AI---P--V-----------\n",
      "str03: M-PL--S--Y---Q---H---------FR------K--------\n",
      "str04: M----E--------E--H--VN------------E----L--HD\n",
      "str05: M-----S-----N---F------DAI--R---------AL----\n",
      "str06: M-------F--RNQ-------NS-----R----N--G-------\n",
      "str07: M-------FY-----A-H------A--F--G-----G---Y---\n",
      "str08: M-----SKF-TR----------------RP----------YQ--\n",
      "str09: M-----S-F-----------V---A-----G-V----TA--Q--\n",
      "str10: M----ES------------LV--------PGF-NE---------\n",
      "\n",
      "solution is feasible: True\n",
      "solution is optimal: False\n",
      "bset bound: 34\n"
     ]
    }
   ],
   "source": [
    "bench(scsp.example.load(\"protein_n010k010.txt\"))"
   ]
  },
  {
   "cell_type": "code",
   "execution_count": null,
   "id": "Hstk",
   "metadata": {},
   "outputs": [],
   "source": [
    "# bench(scsp.example.load(\"protein_n050k050.txt\"))"
   ]
  }
 ],
 "metadata": {},
 "nbformat": 4,
 "nbformat_minor": 5
}
