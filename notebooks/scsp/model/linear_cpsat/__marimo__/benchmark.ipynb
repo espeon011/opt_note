{
 "cells": [
  {
   "cell_type": "code",
   "execution_count": null,
   "id": "setup",
   "metadata": {
    "marimo": {
     "name": "setup"
    }
   },
   "outputs": [],
   "source": [
    "import opt_note.scsp as scsp"
   ]
  },
  {
   "cell_type": "code",
   "execution_count": null,
   "id": "Hbol",
   "metadata": {},
   "outputs": [],
   "source": [
    "import marimo as mo\n",
    "import nbformat"
   ]
  },
  {
   "cell_type": "markdown",
   "id": "MJUe",
   "metadata": {
    "marimo": {
     "config": {
      "hide_code": true
     }
    }
   },
   "source": [
    "# ベンチマーク"
   ]
  },
  {
   "cell_type": "code",
   "execution_count": null,
   "id": "vblA",
   "metadata": {
    "marimo": {
     "name": "*bench"
    }
   },
   "outputs": [],
   "source": [
    "def bench(instance: list[str]) -> None:\n",
    "    model = scsp.model.linear_cpsat.Model(instance).solve()\n",
    "    solution = model.to_solution()\n",
    "    scsp.util.show(instance)\n",
    "    if solution is not None:\n",
    "        scsp.util.show(instance, solution)\n",
    "        print(f\"solution is feasible: {scsp.util.is_feasible(instance, solution)}\")\n",
    "    else:\n",
    "        print(\"--- Solution not found ---\\n\")\n",
    "\n",
    "    print(f\"solution status: {model.cpsolver.status_name()}\")\n",
    "    print(f\"bset bound: {model.cpsolver.best_objective_bound}\")"
   ]
  },
  {
   "cell_type": "code",
   "execution_count": null,
   "id": "bkHC",
   "metadata": {},
   "outputs": [
    {
     "name": "stdout",
     "output_type": "stream",
     "text": [
      "--- Condition (with 25 chars) ---\n",
      "str1: tkgnkuhmpxnhtqgxzvxis\n",
      "str2: iojiqfolnbxxcvsuqpvissbxf\n",
      "str3: ulcinycosovozpplp\n",
      "str4: igevazgbrddbcsvrvnngf\n",
      "\n",
      "--- Solution (of length 66) ---\n",
      " Sol: iguevazgbrdldbtcsvrkignycojisoqvfozkpuhmplnbxxcvsunhtqpgxzvxissbxf\n",
      "str1: --------------t----k-gn------------k-uhmp---x-----nhtq-gxzvxis----\n",
      "str2: i------------------------oji--q-fo-------lnbxxcvsu---qp---v-issbxf\n",
      "str3: --u--------l---c----i-nyco--so-v-oz-p---pl------------p-----------\n",
      "str4: ig-evazgbrd-db-csvr------------v----------n-------n----g---------f\n",
      "\n",
      "solution is feasible: True\n",
      "solution status: FEASIBLE\n",
      "bset bound: 30.0\n"
     ]
    }
   ],
   "source": [
    "bench(scsp.example.load(\"uniform_q26n004k015-025.txt\"))"
   ]
  },
  {
   "cell_type": "code",
   "execution_count": null,
   "id": "lEQa",
   "metadata": {},
   "outputs": [
    {
     "name": "stdout",
     "output_type": "stream",
     "text": [
      "--- Condition (with 26 chars) ---\n",
      "str1: tkgnkuhmpxnhtqgxzvxis\n",
      "str2: iojiqfolnbxxcvsuqpvissbxf\n",
      "str3: ulcinycosovozpplp\n",
      "str4: igevazgbrddbcsvrvnngf\n",
      "str5: pyplrzxucpmqvgtdfuivcdsbo\n",
      "str6: pbdevdcvdpfzsmsbroqvbbh\n",
      "str7: enbczfjtvxerzbrvigple\n",
      "str8: rxwxqkrdrlctodtmprpxwd\n",
      "\n",
      "--- Solution (of length 135) ---\n",
      " Sol: irxgwexqknrvazdgbrlctodtmprbpxwczfjtvxerzbrvdiegvpdycvdpfzsmsbroqvbplerzxkucpmqvgtdfuoivlcdinsbycosovrvknxoxcvsuhzpmpxnhtqglpxzvxissbxf\n",
      "str1: --------------------t----------------------------------------------------k------g-----------n----------k-------uh--mpxnhtqg--xzvxis----\n",
      "str2: i--------------------o------------j----------i------------------q------------------f-o--l---n-b----------x-xcvsu---------q--p--v-issbxf\n",
      "str3: --------------------------------------------------------------------------u-------------lc-in--ycosov-----o------zp-p------lp----------\n",
      "str4: i--g-e-----vaz-gbr----d---------------------d----------------b-------------c-----------------s------vrv-n-------------n---g-----------f\n",
      "str5: -------------------------p-------------------------y---p------------l-rzx-ucpmqvgtdfu-iv-cd--sb--o-------------------------------------\n",
      "str6: -------------------------p-b----------------d-e-v-d-cvdpfzsmsbroqvb---------------------------b-----------------h----------------------\n",
      "str7: -----e---n------b--c------------zfjtvxerzbrv-i-g-p------------------le-----------------------------------------------------------------\n",
      "str8: -rx-w-xqk-r---d--rlctodtmpr-pxw-------------d------------------------------------------------------------------------------------------\n",
      "\n",
      "solution is feasible: True\n",
      "solution status: FEASIBLE\n",
      "bset bound: 32.0\n"
     ]
    }
   ],
   "source": [
    "bench(scsp.example.load(\"uniform_q26n008k015-025.txt\"))"
   ]
  },
  {
   "cell_type": "code",
   "execution_count": null,
   "id": "PKri",
   "metadata": {},
   "outputs": [
    {
     "name": "stdout",
     "output_type": "stream",
     "text": [
      "--- Condition (with 26 chars) ---\n",
      "str01: tkgnkuhmpxnhtqgxzvxis\n",
      "str02: iojiqfolnbxxcvsuqpvissbxf\n",
      "str03: ulcinycosovozpplp\n",
      "str04: igevazgbrddbcsvrvnngf\n",
      "str05: pyplrzxucpmqvgtdfuivcdsbo\n",
      "str06: pbdevdcvdpfzsmsbroqvbbh\n",
      "str07: enbczfjtvxerzbrvigple\n",
      "str08: rxwxqkrdrlctodtmprpxwd\n",
      "str09: kkqafigqjwokkskrblg\n",
      "str10: lxxpabivbvzkozzvd\n",
      "str11: krifsavncdqwhzc\n",
      "str12: qaxudgqvqcewbfgijowwy\n",
      "str13: rsxqjnfpadiusiqbezhkohmg\n",
      "str14: iwshvhcomiuvddm\n",
      "str15: htxxqjzqbctbakn\n",
      "str16: xusfcfzpeecvwantfmgqzu\n",
      "\n",
      "--- Solution (of length 293) ---\n",
      "  Sol: lxxpabivusfcfzpeecvwanhtfmgqzxxqjzqbctbaiwshvhcomiuvddrsxqjnfpadiusiqbezhkohqaxudgqvqcewbfgijowwkrifsavncdqwhvzkozzkkqafigqjwokkskrbrxwxqkrdrlctodtmprpxwenbczfjtvxerzbrvigplpbdevdcvdpfzsmsbroqvbbpyplrzxucpmqvgtdfuivcdsgevazgbrddbcsvrvnulcinycosovozjiqfolpnpltbxxcvksgnkuqpvisshmbpxnhtqgfxzvxis\n",
      "str01: -----------------------t-------------------------------------------------k-------g---------------------n-------k------------------------------------------------------------------------------------------u-------------------------------------------------------------------------hm-pxnhtqg-xzvxis\n",
      "str02: ------i----------------------------------------o----------j-----i---q--------------------f---o-----------------------------------------------l------------nb------x--------------------------------------x-c---v---------s-----------------u--------------q---p--------v---------iss--b-x-----f------\n",
      "str03: --------u------------------------------------------------------------------------------------------------------------------------------------lc--------------------------i----------------------------------------------------------------n-----ycosovoz------p-pl-------------p---------------------\n",
      "str04: ------i-------------------g-------------------------------------------e------------v-----------------a--------z----------g---------br------d-----d---------bc----------------------------s------v------r-------v--------------------------n----n--------------------------g-------------------f------\n",
      "str05: ---p------------------------------------------------------------------------------------------------------------------------------------------------------------------------------------------------yplrzxucpmqvgtdfuivcds------b-----------------o--------------------------------------------------\n",
      "str06: ---p-b----------------------------------------------d-----------------e------------v---------------------d------------------------------------c------------------v-------------d------pfzsmsbroqvbb---------------------------------------------------------------------------------h----------------\n",
      "str07: ---------------e-----n-------------bc----------------------------------z-----------------f--j--------------------------------------------------t-----------------vxerzbrvigpl---e--------------------------------------------------------------------------------------------------------------------\n",
      "str08: ------------------------------------------------------r-x------------------------------w---------------------------------------------x--qkrdrlctodtmprpxw----------------------d---------------------------------------------------------------------------------------------------------------------\n",
      "str09: -------------------------------------------------------------------------k----------------------k---------q-----------afigqjwokkskrb---------l----------------------------g--------------------------------------------------------------------------------------------------------------------------\n",
      "str10: lxxpabiv---------------------------b--------v--------------------------z-ko-----------------------------------z--z-----------------------------------------------v-------------d---------------------------------------------------------------------------------------------------------------------\n",
      "str11: -------------------------------------------------------------------------k-----------------------rifsavncdqwh-z-------------------------------c------------------------------------------------------------------------------------------------------------------------------------------------------\n",
      "str12: ---------------------------q-----------a----------------x--------u--------------dgqvqcewbfgijoww----------------------------------------------------------------------------------------------------y------------------------------------------------------------------------------------------------\n",
      "str13: ------------------------------------------------------rsxqjnfpadiusiqbezhkoh-----------------------------------------------------------------------m----------------------g--------------------------------------------------------------------------------------------------------------------------\n",
      "str14: ------i------------w----------------------shvhcomiuvdd----------------------------------------"
     ]
    },
    {
     "name": "stdout",
     "output_type": "stream",
     "text": [
      "-----------------------------------------------------m-------------------------------------------------------------------------------------------------------------------------------------------------\n",
      "str15: ----------------------ht-----xxqjzqbctba---------------------------------k-----------------------------n---------------------------------------------------------------------------------------------------------------------------------------------------------------------------------------------\n",
      "str16: -x------usfcfzpeecvwan-tfmgqz---------------------u--------------------------------------------------------------------------------------------------------------------------------------------------------------------------------------------------------------------------------------------------\n",
      "\n",
      "solution is feasible: True\n",
      "solution status: FEASIBLE\n",
      "bset bound: 26.0\n"
     ]
    }
   ],
   "source": [
    "bench(scsp.example.load(\"uniform_q26n016k015-025.txt\"))"
   ]
  },
  {
   "cell_type": "code",
   "execution_count": null,
   "id": "Xref",
   "metadata": {},
   "outputs": [
    {
     "name": "stdout",
     "output_type": "stream",
     "text": [
      "--- Condition (with 5 chars) ---\n",
      "str01: dcbccdbcce\n",
      "str02: bddbeeeebd\n",
      "str03: cacdeecebe\n",
      "str04: aeddddebdd\n",
      "str05: acbeecabce\n",
      "str06: bbabebdcba\n",
      "str07: bbaeaebada\n",
      "str08: eeeecbdbee\n",
      "str09: ccdeedadcd\n",
      "str10: bdabdbeaad\n",
      "\n",
      "--- Solution (of length 29) ---\n",
      "  Sol: bbaedcabcecdbdeaecbdaebedcbde\n",
      "str01: ----dc-bc-cdb----c-------c--e\n",
      "str02: b---d------db-e-e----e-e--bd-\n",
      "str03: -----ca-c--d--e-ec---ebe-----\n",
      "str04: --aed------d-d-----d-eb-d--d-\n",
      "str05: --a--c-b-e----e--c--a-b--c--e\n",
      "str06: bba----b-e--bd---cb-a--------\n",
      "str07: bbae--a--e--b--a---da--------\n",
      "str08: ---e-----e----e-ecbd--be----e\n",
      "str09: -----c--c--d--e-e--da---dc-d-\n",
      "str10: b---d-ab---db-ea----a---d----\n",
      "\n",
      "solution is feasible: True\n",
      "solution status: FEASIBLE\n",
      "bset bound: 16.0\n"
     ]
    }
   ],
   "source": [
    "bench(scsp.example.load(\"uniform_q05n010k010-010.txt\"))"
   ]
  },
  {
   "cell_type": "code",
   "execution_count": null,
   "id": "SFPL",
   "metadata": {},
   "outputs": [
    {
     "name": "stdout",
     "output_type": "stream",
     "text": [
      "--- Condition (with 5 chars) ---\n",
      "str01: dcbccdbcce\n",
      "str02: bddbeeeebd\n",
      "str03: cacdeecebe\n",
      "str04: aeddddebdd\n",
      "str05: acbeecabce\n",
      "str06: bbabebdcba\n",
      "str07: bbaeaebada\n",
      "str08: eeeecbdbee\n",
      "str09: ccdeedadcd\n",
      "str10: bdabdbeaad\n",
      "str11: ededaaaeaa\n",
      "str12: aaeaabeeac\n",
      "str13: eaabcaccdb\n",
      "str14: bdeeadeade\n",
      "str15: caedadeeed\n",
      "str16: ebcadbabbe\n",
      "str17: ddceeabdea\n",
      "str18: dabcddeaec\n",
      "str19: aadceedaab\n",
      "str20: aeecceeeaa\n",
      "str21: bbdaecaade\n",
      "str22: dacedaedab\n",
      "str23: aaeabbbbce\n",
      "str24: dedbcbcaab\n",
      "str25: dbdaaebbcb\n",
      "str26: debedbebac\n",
      "str27: ceebcdcbde\n",
      "str28: dbedaadaab\n",
      "str29: cccdcbebdc\n",
      "str30: aeeacdbcbd\n",
      "str31: dacbeacccd\n",
      "str32: ecebccdbdb\n",
      "str33: ddbbcedabb\n",
      "str34: aaeabaaeba\n",
      "str35: ecbbcaadcd\n",
      "str36: debccecdbc\n",
      "str37: daacbaeebc\n",
      "str38: adabeaacce\n",
      "str39: daecdbacaa\n",
      "str40: dacbbdcedc\n",
      "str41: dedbeebbde\n",
      "str42: cdadcdcdaa\n",
      "str43: ceedcbaeed\n",
      "str44: ceaecaaaca\n",
      "str45: dcccebbbad\n",
      "str46: baeeaebbde\n",
      "str47: dbdebaccdb\n",
      "str48: ebcbeedaea\n",
      "str49: aeeebbdbca\n",
      "str50: dbdabcecbb\n",
      "\n",
      "--- Solution (of length 226) ---\n",
      "  Sol: dbdabcecbbaeeebbdbcaebcbeedaeadbdebaeedcdadcdbceebdabcddeaecddceeabdeaebcadbabbecaedadeeedbdeeadeadeaabcaccdbaaeaabeeacededaaaeaabdabdbeaadccdeedadcdeeeecbdbeebbaeaebadabbabebdcbacbeecabceaeddddebddcacdeecebebddbeeeebcbccdbcce\n",
      "str01: d----c--b---------c---c---d----b-------c---c---e----------------------------------------------------------------------------------------------------------------------------------------------------------------------------------\n",
      "str02: -bd-------------db--e---ee--e--bd-------------------------------------------------------------------------------------------------------------------------------------------------------------------------------------------------\n",
      "str03: -----c----a-------c-------d-e----e-----c-------e-b------e-------------------------------------------------------------------------------------------------------------------------------------------------------------------------\n",
      "str04: ---a--e---------d---------d---d-deb---d-d-----------------------------------------------------------------------------------------------------------------------------------------------------------------------------------------\n",
      "str05: ---a-c--b--ee-----ca-bc-e---------------------------------------------------------------------------------------------------------------------------------------------------------------------------------------------------------\n",
      "str06: -b--b-----a---b-----eb----d------------c-----b-----a------------------------------------------------------------------------------------------------------------------------------------------------------------------------------\n",
      "str07: -b--b-----ae-------aeb-----a--d----a----------------------------------------------------------------------------------------------------------------------------------------------------------------------------------------------\n",
      "str08: ------e----eee----c--b----d----b-e--e---------------------------------------------------------------------------------------------------------------------------------------------------------------------------------------------\n",
      "str09: -----c-c--------d---e---e-da--d--------cd-----------------------------------------------------------------------------------------------------------------------------------------------------------------------------------------\n",
      "str10: -bdab-----------db--e------a-ad---------------------------------------------------------------------------------------------------------------------------------------------------------------------------------------------------\n",
      "str11: ------e---------d---e-----da-a-----ae----a---------a------------------------------------------------------------------------------------------------------------------------------------------------------------------------------\n",
      "str12: ---a------ae-------a-------a---b-e--e----a-c--------------------------------------------------------------------------------------------------------------------------------------------------------------------------------------\n",
      "str13: ------e---a--------a-bc----a-----------c---cdb----------------------------------------------------------------------------------------------------------------------"
     ]
    },
    {
     "name": "stdout",
     "output_type": "stream",
     "text": [
      "--------------------------------------------------------------\n",
      "str14: -bd---e----e-------a------d-ead--e------------------------------------------------------------------------------------------------------------------------------------------------------------------------------------------------\n",
      "str15: -----c----ae----d--a------d-e----e--e-d-------------------------------------------------------------------------------------------------------------------------------------------------------------------------------------------\n",
      "str16: ------e-b---------ca------d----b---a---------b---b------e-------------------------------------------------------------------------------------------------------------------------------------------------------------------------\n",
      "str17: d-d--ce----e-------a-b----d-ea----------------------------------------------------------------------------------------------------------------------------------------------------------------------------------------------------\n",
      "str18: d--abc----------d---------d-ea---e-----c------------------------------------------------------------------------------------------------------------------------------------------------------------------------------------------\n",
      "str19: ---a------a-----d-c-e---e-da-a-b--------------------------------------------------------------------------------------------------------------------------------------------------------------------------------------------------\n",
      "str20: ---a--e----e------c---c-ee--ea-----a----------------------------------------------------------------------------------------------------------------------------------------------------------------------------------------------\n",
      "str21: -b--b-----------d--ae-c----a-ad--e------------------------------------------------------------------------------------------------------------------------------------------------------------------------------------------------\n",
      "str22: d--a-ce---------d--ae-----da---b--------------------------------------------------------------------------------------------------------------------------------------------------------------------------------------------------\n",
      "str23: ---a------ae-------a-b-b-------b--b----c-------e----------------------------------------------------------------------------------------------------------------------------------------------------------------------------------\n",
      "str24: d-----e---------dbc--bc----a-a-b--------------------------------------------------------------------------------------------------------------------------------------------------------------------------------------------------\n",
      "str25: dbda------ae--bb--c--b------------------------------------------------------------------------------------------------------------------------------------------------------------------------------------------------------------\n",
      "str26: d-----e-b--e----db--eb-----a-----------c------------------------------------------------------------------------------------------------------------------------------------------------------------------------------------------\n",
      "str27: -----ce----e--b---c-------d------------c-----b----d-----e-------------------------------------------------------------------------------------------------------------------------------------------------------------------------\n",
      "str28: db----e---------d--a-------a--d----a-----a---b------------------------------------------------------------------------------------------------------------------------------------------------------------------------------------\n",
      "str29: -----c-c----------c-------d------------c-----b-e-bd--c----------------------------------------------------------------------------------------------------------------------------------------------------------------------------\n",
      "str30: ---a--e----e-------a--c---d----b-------c-----b----d-------------------------------------------------------------------------------------------------------------------------------------------------------------------------------\n",
      "str31: d--a-c--b--e-------a--c----------------c---cd----------------------------------------------------"
     ]
    },
    {
     "name": "stdout",
     "output_type": "stream",
     "text": [
      "---------------------------------------------------------------------------------------------------------------------------------\n",
      "str32: ------ec---e--b---c---c---d----bd-b-----------------------------------------------------------------------------------------------------------------------------------------------------------------------------------------------\n",
      "str33: d-d-b---b---------c-e-----da---b--b-----------------------------------------------------------------------------------------------------------------------------------------------------------------------------------------------\n",
      "str34: ---a------ae-------a-b-----a-a---eba----------------------------------------------------------------------------------------------------------------------------------------------------------------------------------------------\n",
      "str35: ------ecbb--------ca-------a--d--------cd-----------------------------------------------------------------------------------------------------------------------------------------------------------------------------------------\n",
      "str36: d-----e-b---------c---c-e--------------cd----bc-----------------------------------------------------------------------------------------------------------------------------------------------------------------------------------\n",
      "str37: d--a------a-------c--b-----ae----eb----c------------------------------------------------------------------------------------------------------------------------------------------------------------------------------------------\n",
      "str38: ---a------------d--a-b--e--a-a---------c---c---e----------------------------------------------------------------------------------------------------------------------------------------------------------------------------------\n",
      "str39: d--a--ec--------db-a--c----a-a----------------------------------------------------------------------------------------------------------------------------------------------------------------------------------------------------\n",
      "str40: d--a-c--bb------d-c-e-----d------------c------------------------------------------------------------------------------------------------------------------------------------------------------------------------------------------\n",
      "str41: d-----e---------db--e---e------b--b---d--------e----------------------------------------------------------------------------------------------------------------------------------------------------------------------------------\n",
      "str42: -----c----------d--a------d------------cd--cd------a-----a------------------------------------------------------------------------------------------------------------------------------------------------------------------------\n",
      "str43: -----ce----e----d-c--b-----ae----e----d-------------------------------------------------------------------------------------------------------------------------------------------------------------------------------------------\n",
      "str44: -----ce---ae------ca-------a-a---------c-a---------------------------------------------------------------------------------------------------------------------------------------"
     ]
    },
    {
     "name": "stdout",
     "output_type": "stream",
     "text": [
      "-------------------------------------------------\n",
      "str45: d----c-c----------c-eb-b-------b---a--d-------------------------------------------------------------------------------------------------------------------------------------------------------------------------------------------\n",
      "str46: -b-a--e----e-------aeb-b--d-e-----------------------------------------------------------------------------------------------------------------------------------------------------------------------------------------------------\n",
      "str47: dbd---e-b-a-------c---c---d----b--------------------------------------------------------------------------------------------------------------------------------------------------------------------------------------------------\n",
      "str48: ------e-b---------c--b--eedaea----------------------------------------------------------------------------------------------------------------------------------------------------------------------------------------------------\n",
      "str49: ---a--e----ee-bbdbca--------------------------------------------------------------------------------------------------------------------------------------------------------------------------------------------------------------\n",
      "str50: dbdabcecbb------------------------------------------------------------------------------------------------------------------------------------------------------------------------------------------------------------------------\n",
      "\n",
      "solution is feasible: True\n",
      "solution status: FEASIBLE\n",
      "bset bound: 15.0\n"
     ]
    }
   ],
   "source": [
    "bench(scsp.example.load(\"uniform_q05n050k010-010.txt\"))"
   ]
  },
  {
   "cell_type": "code",
   "execution_count": null,
   "id": "BYtC",
   "metadata": {},
   "outputs": [
    {
     "name": "stdout",
     "output_type": "stream",
     "text": [
      "--- Condition (with 4 chars) ---\n",
      "str01: ATGGGATACG\n",
      "str02: ATACCTTCCC\n",
      "str03: CACGAATTGA\n",
      "str04: TAAAATCTGT\n",
      "str05: AGGTAACAAA\n",
      "str06: TTCCTAGGTA\n",
      "str07: TTGTAGATCT\n",
      "str08: TGGGAAGTTC\n",
      "str09: TTCCACAACT\n",
      "str10: TCTAAACGAA\n",
      "\n",
      "--- Solution (of length 24) ---\n",
      "  Sol: TCATGGACGCTAATCGATACGTCA\n",
      "str01: --ATGG--G--A-T--A--CG---\n",
      "str02: --AT--AC-CT--TC----C--C-\n",
      "str03: -CA----CG--AAT---T--G--A\n",
      "str04: T-A---A----AATC--T--GT--\n",
      "str05: --A-GG----TAA-C-A-A----A\n",
      "str06: T--T---C-CTA---G----GT-A\n",
      "str07: T--TG-----TA---GAT-C-T--\n",
      "str08: T---GG--G--AA--G-T---TC-\n",
      "str09: T--T---C-C-A--C-A-AC-T--\n",
      "str10: TC-T--A----AA-CGA-A-----\n",
      "\n",
      "solution is feasible: True\n",
      "solution status: FEASIBLE\n",
      "bset bound: 16.0\n"
     ]
    }
   ],
   "source": [
    "bench(scsp.example.load(\"nucleotide_n010k010.txt\"))"
   ]
  },
  {
   "cell_type": "code",
   "execution_count": null,
   "id": "RGSE",
   "metadata": {},
   "outputs": [
    {
     "name": "stdout",
     "output_type": "stream",
     "text": [
      "--- Condition (with 5 chars) ---\n",
      "str01: TAGTAGTAGACTCCGGAAGTGACAAACCCTGAAAAGAATGGATAAATATA\n",
      "str02: GGATAAACACTCCCGAAAATAATTTGACTTAAACAACGCGACAGTTCAAG\n",
      "str03: ATACCTTCCTAGGTAACAAACCAACCAACTTTTGATCTCTTGTAGATCTG\n",
      "str04: TAAATTATAATCTTATACTAGTAAAAAATAGGGTGTAACCGAAAACGGTC\n",
      "str05: TTAAAACAGCCTGTGGGTTGCACCCACTCACAGGGCCCACTGGGCGCAAG\n",
      "str06: ATGACTTCCAATGGATCCCAACCTCAAGCTTCCACCCCAATGGTTTCAGC\n",
      "str07: AACAAACCAACCAACTTTTGATCTCTTGTAGATCTGTTCTCTAAACGAAC\n",
      "str08: ATGAAAACGAAAATTATTATCAAGGGTATGGAAGTGGAAGCTGACGAAAT\n",
      "str09: ACTCGGCTGCATGCTTAGTGCACTCACGCAGTATAATTAATAACTAATTA\n",
      "str10: TTGTAGATCTGTTCTCTAAACGAACTTTAAAATCTGTGTGGCTGTCACTC\n",
      "str11: GCAGAGCATTTTCTAATATCCACAAAATGAAGGCAATAATTGTACTACTC\n",
      "str12: ATGAGCCAAGATCCGACGAAGAGCCCCAAGGAGGAGAAGGAGGGACCCCC\n",
      "str13: TCTCACAGTTCAAGAACCCAAAGTACCCCCCATAGCCCTCTTAAAGCCAC\n",
      "str14: AGGTTTATACCTTCCTAGGTAACAAACCAACCAACTTTCGATCTCTTGTA\n",
      "str15: AGGTTTATACCTTCCCAGGTAACAAACCAACCAACTTTCGATCTCTTGTA\n",
      "str16: TAAAACAACTCAATACAACATAAGAAAATCAACGCAAAAACACTCACAAA\n",
      "str17: CCGCCCATTTGGGCGGCTCTCGAGCGATAGCTCGTCGAATCCCTCGACCT\n",
      "str18: ATACCTTCCCAGGTAACAAACCAACCAACTTTCGATCTCTTGTAGATCTG\n",
      "str19: TCTCACAGTTCAAGAACCTCAAGTCTCCCCCATAGGCCTCTTTCAGTCAG\n",
      "str20: GATCTCTCTCACCGAACCTGGCCCCGGGCAAATGCCCTAATCCAGAGGTG\n",
      "str21: AGAGCAATCAGTGCATCAGAAATATACCTATTATACACTTTGCTAAGAAT\n",
      "str22: AATTAAAACATCTCAATACAACATAAGAAAAACAACGCAAAAACACTCAT\n",
      "str23: AAACGAACTTTAAAATCTGTGTGGCTGTCACTCGGCTGCATGCTTAGTGC\n",
      "str24: ATAACTAATTACTGTCGTTGACAGGACACGAGTAACTCGTCTATCTTCTG\n",
      "str25: ATGAGTGTCACGAATTCACGTACAATGAACTGGATGTTCACGTGGAATAA\n",
      "str26: ACCGTGGGCGAGCGGTGACCGGTGTCTTCCTAGTGGGTCCCACGTTGAAR\n",
      "str27: AAAGGTTTATACCTTCCCAGGTAACAAACCAACCAACTTTCGATCTCTTG\n",
      "str28: AGTAGTTCGCCTGTGTGAGCTGACAAACTTAGTAGTGTTTGTGAGGATTA\n",
      "str29: TTTATACCTTCCTAGGTAACAAACCAACCAACTTTCGATCTCTTGTAGAT\n",
      "str30: ATGCGGTCGTCTCTCCCCGGCTTTTTTTCCCCGCGCCGCGTTGGCGCCGA\n",
      "str31: GTGACAAAAACATAATGGACTCCAACACCATGTCAAGCTTTCAGGTAGAC\n",
      "str32: GTGTAAGAAACAGTAAGCCCGGAAGTGGTGTTTTGCGATTTCGAGGCCGG\n",
      "str33: GAGAATGAGTCTCATTACCGCCCGGTACTTAGCAAGCTAATAGTCACGGC\n",
      "str34: ATGTGGTCGATGCCATGGAGGCCCACCAGTTCATTAAGGCTCCTGGCATT\n",
      "str35: ACGAGCGTTTTAAGGGCCCGCGACTGCGACGGCCACATGGCCCTGTATGT\n",
      "str36: GGTTTATACCTTCCCAGGTAACAAACCAACCAACTTTCGATCTCTTGTAG\n",
      "str37: TGGGAAGTTCCAAAAGATCACAAAACACTACCAGTCAACCTGAAGTACAC\n",
      "str38: GAAGCGTTAACGTGTTGAGGAAAAGACAGCTTAGGAGAACAAGAGCTGGG\n",
      "str39: ACCAGCGCACTTCGGCAGCGGCAGCACCTCGGCAGCACCTCAGCAGCAAC\n",
      "str40: ATGGGACAACTTATTCCTATCATGTGCCAAGAGGTTTTACCCGGTGACCA\n",
      "str41: TTGTAGATCTGTTCTCTAAACGAACTTTAAAATCTGTGTGGTTGTCACTC\n",
      "str42: AACCAACCAACTTTCGATCTCTTGTAGATCTGTTCTCTAAACGAACTTTA\n",
      "str43: GGGTTCTGCCAGGCATAGTCTTTTTTTCTGGCGGCCCTTGTGTAAACCTG\n",
      "str44: GGCTGCATGCTTAGTGCACTCACGCAGTATAATTAATAACTAATTACTGT\n",
      "str45: TGCATGCTTAGTGCACTCACGCAGTATAATTAATAACTAATTACTGTCGT\n",
      "str46: TTCCACAACTTTCCACCAAGCTCTGCAAGATCCCAGAGTCAGGGGCCTGT\n",
      "str47: TCTAAACGAACTTTAAAATCTGTGTGGCTGTCACTCGGCTGCATGCTTAG\n",
      "str48: ACCGGATGGCCGCGATTTTTCGGAGTCCTTGGGGGACCACTCAGAATAGA\n",
      "str49: CTTGTAGATCTGTTCTCTAAACGAACTTTAAAATCTGTGTGGCTGTCACT\n",
      "str50: ATGAGCACTAAGCGAAGAACCAAAAAGCAGACAATACAACCCGCTATTAC\n",
      "\n",
      "--- Solution not found ---\n",
      "\n",
      "solution status: UNKNOWN\n",
      "bset bound: 0.0\n"
     ]
    }
   ],
   "source": [
    "bench(scsp.example.load(\"nucleotide_n050k050.txt\"))"
   ]
  },
  {
   "cell_type": "code",
   "execution_count": null,
   "id": "Kclp",
   "metadata": {},
   "outputs": [
    {
     "name": "stdout",
     "output_type": "stream",
     "text": [
      "--- Condition (with 19 chars) ---\n",
      "str01: MALSYCPKGT\n",
      "str02: MQSSLNAIPV\n",
      "str03: MPLSYQHFRK\n",
      "str04: MEEHVNELHD\n",
      "str05: MSNFDAIRAL\n",
      "str06: MFRNQNSRNG\n",
      "str07: MFYAHAFGGY\n",
      "str08: MSKFTRRPYQ\n",
      "str09: MSFVAGVTAQ\n",
      "str10: MESLVPGFNE\n",
      "\n",
      "--- Solution (of length 51) ---\n",
      "  Sol: MEQSLFNEVPAGVLSKFTRRPYAHDANQIVNELSHDFGGRNALIYCPVKGT\n",
      "str01: M---------A--LS------Y-----------------------CP-KGT\n",
      "str02: M-QS----------S-----------------L-------NA-I--PV---\n",
      "str03: M--------P---LS------Y-----Q------H-F--R--------K--\n",
      "str04: ME-----E---------------H-----VNEL-HD---------------\n",
      "str05: M--S--N---------F-------DA--I----------R-AL--------\n",
      "str06: M----F------------R-------NQ--N--S-----RN--------G-\n",
      "str07: M----F---------------YAH-A----------FGG-----Y------\n",
      "str08: M--S-----------KFTRRPY-----Q-----------------------\n",
      "str09: M--S-F--V-AGV----T----A----Q-----------------------\n",
      "str10: ME-SL---VP-G----F---------N----E-------------------\n",
      "\n",
      "solution is feasible: True\n",
      "solution status: FEASIBLE\n",
      "bset bound: 24.0\n"
     ]
    }
   ],
   "source": [
    "bench(scsp.example.load(\"protein_n010k010.txt\"))"
   ]
  },
  {
   "cell_type": "code",
   "execution_count": null,
   "id": "emfo",
   "metadata": {},
   "outputs": [
    {
     "name": "stdout",
     "output_type": "stream",
     "text": [
      "--- Condition (with 20 chars) ---\n",
      "str01: MRHLNIDIETYSSNDIKNGVYKYADAEDFEILLFAYSIDGGEVECLDLTR\n",
      "str02: MERRAHRTHQNWDATKPRERRKQTQHRLTHPDDSIYPRIEKAEGRKEDHG\n",
      "str03: MEPGAFSTALFDALCDDILHRRLESQLRFGGVQIPPEVSDPRVYAGYALL\n",
      "str04: MGKFYYSNRRLAVFAQAQSRHLGGSYEQWLACVSGDSAFRAEVKARVQKD\n",
      "str05: FFRENLAFQQGKAREFPSEEARANSPTSRELWVRRGGNPLSEAGAERRGT\n",
      "str06: MDPSLTQVWAVEGSVLSAAVDTAETNDTEPDEGLSAENEGETRIIRITGS\n",
      "str07: MAFDFSVTGNTKLDTSGFTQGVSSMTVAAGTLIADLVKTASSQLTNLAQS\n",
      "str08: MAVILPSTYTDGTAACTNGSPDVVGTGTMWVNTILPGDFFWTPSGESVRV\n",
      "str09: MNTGIIDLFDNHVDSIPTILPHQLATLDYLVRTIIDENRSVLLFHIMGSG\n",
      "str10: MFVFLVLLPLVSSQCVNLRTRTQLPPAYTNSFTRGVYYPDKVFRSSVLHS\n",
      "str11: MDSKETILIEIIPKIKSYLLDTNISPKSYNDFISRNKNIFVINLYNVSTI\n",
      "str12: MLLSGKKKMLLDNYETAAARGRGGDERRRGWAFDRPAIVTKRDKSDRMAH\n",
      "str13: MNGEEDDNEQAAAEQQTKKAKREKPKQARKVTSEAWEHFDATDDGAECKH\n",
      "str14: MESLVPGFNEKTHVQLSLPVLQVRDVLVRGFGDSVEEVLSEARQHLKDGT\n",
      "str15: MRYIVSPQLVLQVGKGQEVERALYLTPYDYIDEKSPIYYFLRSHLNIQRP\n",
      "str16: MPRVPVYDSPQVSPNTVPQARLATPSFATPTFRGADAPAFQDTANQQARQ\n",
      "str17: MFVFLVLLPLVSSQCVNLRTRTQLPLAYTNSFTRGVYYPDKVFRSSVLHS\n",
      "str18: MFVFFVLLPLVSSQCVNLTTRTQLPPAYTNSFTRGVYYPDKVFRSSVLHS\n",
      "str19: MEAIISFAGIGINYKKLQSKLQHDFGRVLKALTVTARALPGQPKHIAIRQ\n",
      "str20: MASSGPERAEHQIILPESHLSSPLVKHKLLYYWKLTGLPLPDECDFDHLI\n",
      "str21: MESLVPGFNEKTHVQLSLPVLQVRDVLVRGFGDSVEEVLSEVRQHLKDGT\n",
      "str22: MLAPSPNSKIQLFNNINIDINYEHTLYFASVSAQNSFFAQWVVYSADKAI\n",
      "str23: MSAITETKPTIELPALAEGFQRYNKTPGFTCVLDRYDHGVINDSKIVLYN\n",
      "str24: MKNIAEFKKAPELAEKLLEVFSNLKGNSRSLDPMRAGKHDVVVIESTKKL\n",
      "str25: MPQPLKQSLDQSKWLREAEKHLRALESLVDSNLEEEKLKPQLSMGEDVQS\n",
      "str26: MFVFLVLLPLVSSQCVNLITRTQSYTNSFTRGVYYPDKVFRSSVLHSTQD\n",
      "str27: MKFDVLSLFAPWAKVDEQEYDQQLNNNLESITAPKFDDGATEIESERGDI\n",
      "str28: MFVFLVLLPLVSSQCVNFTNRTQLPSAYTNSFTRGVYYPDKVFRSSVLHS\n",
      "str29: MWSIIVLKLISIQPLLLVTSLPLYNPNMDSCCLISRITPELAGKLTWIFI\n",
      "str30: MESLVPGFNEKTHVQLSLPVLQVRDVLVRGFGDSVEEFLSEARQHLKDGT\n",
      "str31: MFVFLVLLPLVSSQCVMPLFNLITTTQSYTNFTRGVYYPDKVFRSSVLHL\n",
      "str32: MHQITVVSGPTEVSTCFGSLHPFQSLKPVMANALGVLEGKMFCSIGGRSL\n",
      "str33: MATLLRSLALFKRNKDKPPITSGSGGAIRGIKHIIIVPIPGDSSITTRSR\n",
      "str34: MESLVPGFNEKTHVQLSLPVLQVRDVLVRGFGDSMEEVLSEARQHLKDGT\n",
      "str35: MFVFLVLLPLVSSQCVNLTTGTQLPPAYTNSFTRGVYYPDKVFRSSVLHS\n",
      "str36: MANIINLWNGIVPMVQDVNVASITAFKSMIDETWDKKIEANTCISRKHRN\n",
      "str37: MLNRIQTLMKTANNYETIEILRNYLRLYIILARNEEGRGILIYDDNIDSV\n",
      "str38: MADPAGTNGEEGTGCNGWFYVEAVVEKKTGDAISDDENENDSDTGEDLVD\n",
      "str39: MFVFLVLLPLVSSQCVNLRTRTQLPPSYTNSFTRGVYYPDKVFRSSVLHS\n",
      "str40: MESLVPGFNEKTHVQLSLPVLQVCDVLVRGFGDSVEEVLSEARQHLKDGT\n",
      "str41: MNNQRKKTARPSFNMLKRARNRVSTVSQLAKRFSKGLLSGQGPMKLVMAF\n",
      "str42: MSNFDAIRALVDTDAYKLGHIHMYPEGTEYVLSNFTDRGSRIEGVTHTVH\n",
      "str43: MIELRHEVQGDLVTINVVETPEDLDGFRDFIRAHLICLAVDTETTGLDIY\n",
      "str44: MFVFLVLLPLVSSQCVMPLFNLITTNQSYTNSFTRGVYYPDKVFRSSVLH\n",
      "str45: MSKDLVARQALMTARMKADFVFFLFVLWKALSLPVPTRCQIDMAKKLSAG\n",
      "str46: MASLLKSLTLFKRTRDQPPLASGSGGAIRGIKHVIIVLIPGDSSIVTRSR\n",
      "str47: MRVRGILRNWQQWWIWTSLGFWMFMICSVVGNLWVTVYYGVPVWKEAKTT\n",
      "str48: MAVEPFPRRPITRPHASIEVDTSGIGGSAGSSEKVFCLIGQAEGGEPNTV\n",
      "str49: MFYAHAFGGYDENLHAFPGISSTVANDVRKYSVVSVYNKKYNIVKNKYMW\n",
      "str50: MANYSKPFLLDIVFNKDIKCINDSCSHSDCRYQSNSYVELRRNQALNKNL\n",
      "\n",
      "--- Solution not found ---\n",
      "\n",
      "solution status: UNKNOWN\n",
      "bset bound: 0.0\n"
     ]
    }
   ],
   "source": [
    "bench(scsp.example.load(\"protein_n050k050.txt\"))"
   ]
  }
 ],
 "metadata": {},
 "nbformat": 4,
 "nbformat_minor": 5
}
