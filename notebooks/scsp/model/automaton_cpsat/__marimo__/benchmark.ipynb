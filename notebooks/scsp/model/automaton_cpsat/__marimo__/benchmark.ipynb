{
 "cells": [
  {
   "cell_type": "code",
   "execution_count": null,
   "id": "setup",
   "metadata": {
    "marimo": {
     "name": "setup"
    }
   },
   "outputs": [],
   "source": [
    "import opt_note.scsp as scsp"
   ]
  },
  {
   "cell_type": "code",
   "execution_count": null,
   "id": "Hbol",
   "metadata": {},
   "outputs": [],
   "source": [
    "import marimo as mo\n",
    "import nbformat"
   ]
  },
  {
   "cell_type": "markdown",
   "id": "MJUe",
   "metadata": {
    "marimo": {
     "config": {
      "hide_code": true
     }
    }
   },
   "source": [
    "# ベンチマーク"
   ]
  },
  {
   "cell_type": "code",
   "execution_count": null,
   "id": "vblA",
   "metadata": {
    "marimo": {
     "name": "*bench"
    }
   },
   "outputs": [],
   "source": [
    "def bench(instance: list[str]) -> None:\n",
    "    model = scsp.model.automaton_cpsat.Model(instance).solve()\n",
    "    solution = model.to_solution()\n",
    "    scsp.util.show(instance)\n",
    "    if solution is not None:\n",
    "        scsp.util.show(instance, solution)\n",
    "        print(f\"solution is feasible: {scsp.util.is_feasible(instance, solution)}\")\n",
    "    else:\n",
    "        print(\"--- Solution not found ---\\n\")\n",
    "\n",
    "    print(f\"solution status: {model.cpsolver.status_name()}\")\n",
    "    print(f\"bset bound: {model.cpsolver.best_objective_bound}\")"
   ]
  },
  {
   "cell_type": "code",
   "execution_count": null,
   "id": "bkHC",
   "metadata": {},
   "outputs": [
    {
     "name": "stdout",
     "output_type": "stream",
     "text": [
      "--- Condition (with 25 chars) ---\n",
      "str1: tkgnkuhmpxnhtqgxzvxis\n",
      "str2: iojiqfolnbxxcvsuqpvissbxf\n",
      "str3: ulcinycosovozpplp\n",
      "str4: igevazgbrddbcsvrvnngf\n",
      "\n",
      "--- Solution (of length 67) ---\n",
      " Sol: utiojiqfkolcginybxxcovskuqhmopxnhetqvaiogsxzgsbrppddbcsvrvxnlngispf\n",
      "str1: -t------k---g-n--------ku-hm-pxnh-tq----g-xz-----------v--x----is--\n",
      "str2: --iojiqf-ol---n-bxxc-vs-uq---p------v-i--s---sb-----------x-------f\n",
      "str3: u---------lc-iny---co-s-----o-------v--o---z----pp----------l----p-\n",
      "str4: --i---------g--------------------e--va-----zg-br--ddbcsvrv-n-ng---f\n",
      "\n",
      "solution is feasible: True\n",
      "solution status: FEASIBLE\n",
      "bset bound: 10.0\n"
     ]
    }
   ],
   "source": [
    "bench(scsp.example.load(\"uniform_q26n004k015-025.txt\"))"
   ]
  },
  {
   "cell_type": "code",
   "execution_count": null,
   "id": "lEQa",
   "metadata": {},
   "outputs": [
    {
     "name": "stdout",
     "output_type": "stream",
     "text": [
      "--- Condition (with 26 chars) ---\n",
      "str1: tkgnkuhmpxnhtqgxzvxis\n",
      "str2: iojiqfolnbxxcvsuqpvissbxf\n",
      "str3: ulcinycosovozpplp\n",
      "str4: igevazgbrddbcsvrvnngf\n",
      "str5: pyplrzxucpmqvgtdfuivcdsbo\n",
      "str6: pbdevdcvdpfzsmsbroqvbbh\n",
      "str7: enbczfjtvxerzbrvigple\n",
      "str8: rxwxqkrdrlctodtmprpxwd\n",
      "\n",
      "--- Solution (of length 135) ---\n",
      " Sol: tkgnkuhmpxnhtiojiqfolngbxxcvsuqpvlcinyscosogevoazgbrddbpycspvlrzxucpmqvnngbtdefuivdcvdpfzsmsnbroqczfjtvxebrzbhwxqkrvigpdrlctodtmprpxwed\n",
      "str1: tkgnkuhmpxnht----q----g-x-----------------------z-----------v---x---------------i--------s---------------------------------------------\n",
      "str2: -------------iojiqfoln-bxxcvsuqpv--i--s--s--------b-------------x-------------f--------------------------------------------------------\n",
      "str3: -----u--------------l-----c--------iny-coso--vo-z------p---p-l-----p-------------------------------------------------------------------\n",
      "str4: -------------i--------g---------------------ev-azgbrddb--cs-v-r-------vnng----f--------------------------------------------------------\n",
      "str5: --------p----------------------------y-----------------p-----lrzxucpmqv--g-td-fuiv-c-d---s---b-o---------------------------------------\n",
      "str6: --------p--------------b----------------------------d------------------------e---vdcvdpfzsms-broq-----v--b--bh-------------------------\n",
      "str7: --------------------------------------------e--------------------------n--b--------c----z----------fjtvxe-rzb-----rvigp--l-----------e-\n",
      "str8: ---------------------------------------------------r------------x---------------------------------------------wxqkr----drlctodtmprpxw-d\n",
      "\n",
      "solution is feasible: True\n",
      "solution status: FEASIBLE\n",
      "bset bound: 6.0\n"
     ]
    }
   ],
   "source": [
    "bench(scsp.example.load(\"uniform_q26n008k015-025.txt\"))"
   ]
  },
  {
   "cell_type": "code",
   "execution_count": null,
   "id": "PKri",
   "metadata": {},
   "outputs": [
    {
     "name": "stdout",
     "output_type": "stream",
     "text": [
      "--- Condition (with 26 chars) ---\n",
      "str01: tkgnkuhmpxnhtqgxzvxis\n",
      "str02: iojiqfolnbxxcvsuqpvissbxf\n",
      "str03: ulcinycosovozpplp\n",
      "str04: igevazgbrddbcsvrvnngf\n",
      "str05: pyplrzxucpmqvgtdfuivcdsbo\n",
      "str06: pbdevdcvdpfzsmsbroqvbbh\n",
      "str07: enbczfjtvxerzbrvigple\n",
      "str08: rxwxqkrdrlctodtmprpxwd\n",
      "str09: kkqafigqjwokkskrblg\n",
      "str10: lxxpabivbvzkozzvd\n",
      "str11: krifsavncdqwhzc\n",
      "str12: qaxudgqvqcewbfgijowwy\n",
      "str13: rsxqjnfpadiusiqbezhkohmg\n",
      "str14: iwshvhcomiuvddm\n",
      "str15: htxxqjzqbctbakn\n",
      "str16: xusfcfzpeecvwantfmgqzu\n",
      "\n",
      "--- Solution (of length 242) ---\n",
      "  Sol: tkgnkuhmpxnhiojiqfolnbxxulcinycosovoigevazgbrddbcsvpyplrzxucpmqvgtdfupbdevdcvdpfzsmsenbczfjtvxerzbrvigxwxqkrdrlctodtmpkqafigqjwokkskrblxxpabivbvzkozfsavnqaxudgqvqcewbfgirsxqjowwnfpadiuysiqbezhkwshvhcomiuvddhtxxqjzqbctbakxusfcfzpeecvwantfmgqzu\n",
      "str01: tkgnkuhmpxnh-----------------------------------------------------t---------------------------------------q-----------------g-----------x--------z------v---x------------i-s-----------------------------------------------------------------------\n",
      "str02: ------------iojiqfolnbxx--c-------v--------------s--------u---q------p---v--------------------------i-----------------------------s------------------s---------------b-----x------f---------------------------------------------------------------\n",
      "str03: -----u-------------l------cinycosovo-----z---------p-pl-----p-------------------------------------------------------------------------------------------------------------------------------------------------------------------------------------\n",
      "str04: ------------i------------------------gevazgbrddbcsv----r-------v---------------------n------------------------------------------------------------------n-----g-------f---------------------------------------------------------------------------\n",
      "str05: --------p--------------------y---------------------p--lrzxucpmqvgtdfu-------------------------------i----------------------------------------v--------------------c------------------d---s--b----------o------------------------------------------\n",
      "str06: --------p------------b-----------------------d--------------------------evdcvdpfzsms--b--------r-----------------o-----q---------------------vb----------------------b-------------------------h--------------------------------------------------\n",
      "str07: --------------------------------------e----------------------------------------------nbczfjtvxerzbrvig---------------p----------------l----------------------------e------------------------------------------------------------------------------\n",
      "str08: --------------------------------------------r------------x---------------------------------------------wxqkrdrlctodtmp--------------r----p-----------------x--------w----------------d------------------------------------------------------------\n",
      "str09: -k--k-----------q-----------------------a--------------------------f--------------------------------ig---q-------------------jwokkskrbl-----------------------g-----------------------------------------------------------------------------------\n",
      "str10: -------------------l--xx---------------------------p--------------------------------------------------------------------a------------b------ivbvzkoz------------------------------------------z-----v-------d-------------------------------------\n",
      "str11: -k------------------------------------------r-------------------------------------------------------i--------------------f--------s-------a--v----------n---------c------------------d-----q-----w-h----------------z--c--------------------------\n",
      "str12: ----------------q-----------------------a----------------xu-------d----------------------------------g---q-----------------------------------v-----------q--------"
     ]
    },
    {
     "name": "stdout",
     "output_type": "stream",
     "text": [
      "cewbfgi----joww-------y---------------------------------------------------------\n",
      "str13: --------------------------------------------r----s-------x----q---------------------------j-------------------------------------------------------------n-------------f------------padiu-siqbezhk------o------h------------------------------mg---\n",
      "str14: ------------i------------------------------------------------------------------------------------------w--------------------------s------------------------------------------------------------h----vhcomiuvdd-------------------------------m----\n",
      "str15: ------h----------------------------------------------------------t---------------------------x--------x--q-------------------j------------------z--------q-----------b--------------------------------c--------t------b---ak--------------n-------\n",
      "str16: ---------x--------------u-------s----------------------------------f-------c---fz------------------------------------p---------------------------------------------e-------------------------e--------c----v----------------------------wantfmgqzu\n",
      "\n",
      "solution is feasible: True\n",
      "solution status: FEASIBLE\n",
      "bset bound: 2.0\n"
     ]
    }
   ],
   "source": [
    "bench(scsp.example.load(\"uniform_q26n016k015-025.txt\"))"
   ]
  },
  {
   "cell_type": "code",
   "execution_count": null,
   "id": "Xref",
   "metadata": {},
   "outputs": [
    {
     "name": "stdout",
     "output_type": "stream",
     "text": [
      "--- Condition (with 5 chars) ---\n",
      "str01: dcbccdbcce\n",
      "str02: bddbeeeebd\n",
      "str03: cacdeecebe\n",
      "str04: aeddddebdd\n",
      "str05: acbeecabce\n",
      "str06: bbabebdcba\n",
      "str07: bbaeaebada\n",
      "str08: eeeecbdbee\n",
      "str09: ccdeedadcd\n",
      "str10: bdabdbeaad\n",
      "\n",
      "--- Solution (of length 29) ---\n",
      "  Sol: baebdcadbecdebecdaebadcbeadce\n",
      "str01: ----dc--b-c----cd--b--c----ce\n",
      "str02: b---d--dbe--e-e---eb-d-------\n",
      "str03: -----ca---cde-ec--eb----e----\n",
      "str04: -ae-d--d---d----d-eb-d----d--\n",
      "str05: -a---c--be--e--c-a-b--c-e----\n",
      "str06: b--b--a-be---b--d-----cb-a---\n",
      "str07: b--b--a--e-------aebad---a---\n",
      "str08: --e------e--e-ec---b-d-be---e\n",
      "str09: -----c----cde-e-da---dc---d--\n",
      "str10: b---d-a-b--d-be--a--ad-------\n",
      "\n",
      "solution is feasible: True\n",
      "solution status: FEASIBLE\n",
      "bset bound: 9.0\n"
     ]
    }
   ],
   "source": [
    "bench(scsp.example.load(\"uniform_q05n010k010-010.txt\"))"
   ]
  },
  {
   "cell_type": "code",
   "execution_count": null,
   "id": "SFPL",
   "metadata": {},
   "outputs": [
    {
     "name": "stdout",
     "output_type": "stream",
     "text": [
      "--- Condition (with 5 chars) ---\n",
      "str01: dcbccdbcce\n",
      "str02: bddbeeeebd\n",
      "str03: cacdeecebe\n",
      "str04: aeddddebdd\n",
      "str05: acbeecabce\n",
      "str06: bbabebdcba\n",
      "str07: bbaeaebada\n",
      "str08: eeeecbdbee\n",
      "str09: ccdeedadcd\n",
      "str10: bdabdbeaad\n",
      "str11: ededaaaeaa\n",
      "str12: aaeaabeeac\n",
      "str13: eaabcaccdb\n",
      "str14: bdeeadeade\n",
      "str15: caedadeeed\n",
      "str16: ebcadbabbe\n",
      "str17: ddceeabdea\n",
      "str18: dabcddeaec\n",
      "str19: aadceedaab\n",
      "str20: aeecceeeaa\n",
      "str21: bbdaecaade\n",
      "str22: dacedaedab\n",
      "str23: aaeabbbbce\n",
      "str24: dedbcbcaab\n",
      "str25: dbdaaebbcb\n",
      "str26: debedbebac\n",
      "str27: ceebcdcbde\n",
      "str28: dbedaadaab\n",
      "str29: cccdcbebdc\n",
      "str30: aeeacdbcbd\n",
      "str31: dacbeacccd\n",
      "str32: ecebccdbdb\n",
      "str33: ddbbcedabb\n",
      "str34: aaeabaaeba\n",
      "str35: ecbbcaadcd\n",
      "str36: debccecdbc\n",
      "str37: daacbaeebc\n",
      "str38: adabeaacce\n",
      "str39: daecdbacaa\n",
      "str40: dacbbdcedc\n",
      "str41: dedbeebbde\n",
      "str42: cdadcdcdaa\n",
      "str43: ceedcbaeed\n",
      "str44: ceaecaaaca\n",
      "str45: dcccebbbad\n",
      "str46: baeeaebbde\n",
      "str47: dbdebaccdb\n",
      "str48: ebcbeedaea\n",
      "str49: aeeebbdbca\n",
      "str50: dbdabcecbb\n",
      "\n",
      "--- Solution (of length 40) ---\n",
      "  Sol: dacebaedacebabcdbaedcbbcaedbacdeebaadcde\n",
      "str01: d-c-b----c----cdb---c--c-e--------------\n",
      "str02: ----b--d-------db-e------e-----eeb--d---\n",
      "str03: --c--a---c-----d--e------e---c-e-b-----e\n",
      "str04: -a-e---d-------d---d------d----e-b--d-d-\n",
      "str05: -ac-b-e---e---c--a---b-c-e--------------\n",
      "str06: ----b------bab----e--b----d--c---ba-----\n",
      "str07: ----b------ba-----e-----ae-ba-d---a-----\n",
      "str08: ---e--e---e-------e-cb----db---ee-------\n",
      "str09: --c------c-----d--e------ed-a-d------cd-\n",
      "str10: ----b--da--b---db-e-----a---a-d---------\n",
      "str11: ---e---d--e----d-a------a---a--e--aa----\n",
      "str12: -a---ae-a---ab----e------e--ac----------\n",
      "str13: ---e-a--a--b--c--a--c--c--db------------\n",
      "str14: ----b--d--e-------e-----a-d----e--a-d--e\n",
      "str15: --c--aeda------d--e------e-----e----d---\n",
      "str16: ---eb----c--a--dba---bb--e--------------\n",
      "str17: d------d-ce-------e-----a--b--de--a-----\n",
      "str18: da--b----c-----d---d-----e--a--e-----c--\n",
      "str19: -a---a-d-ce-------ed----a---a----b------\n",
      "str20: -a-e--e--c----c---e------e-----e--aa----\n",
      "str21: ----b------b---d-ae-c---a---a-de--------\n",
      "str22: dace---da-e----d-a---b------------------\n",
      "str23: -a---ae-a--b-b--b----b-c-e--------------\n",
      "str24: d--e---d---b--c-b---c---a---a----b------\n",
      "str25: d---b--da---a-----e--bbc---b------------\n",
      "str26: d--eb-ed---b------e--b--a----c----------\n",
      "str27: --ce--e----b--cd----cb----d----e--------\n",
      "str28: d---b-eda---a--d-a------a--b------------\n",
      "str29: --c------c----cd----cb---e-b--d------c--\n",
      "str30: -a-e--e-ac-----db---cb----d-------------\n",
      "str31: dac-b-e-ac----c-----c-----d-------------\n",
      "str32: ---e-----ceb--c-----c-----db--d--b------\n",
      "str33: d------d---b-bc---ed----a--b-----b------\n",
      "str34: -a---ae-a--ba----ae--b--a---------------\n",
      "str35: ---e-----c-b-bc--a------a-d--cd---------\n",
      "str36: d--eb----c----c---e-c-----db-c----------\n",
      "str37: da---a---c-ba-----e------e-b-c----------\n",
      "str38: -a-----da--b------e-----a---ac-------c-e\n",
      "str39: da-e-----c-----dba--c---a---a-----------\n",
      "str40: dac-b------b---d----c----ed--c----------\n",
      "str41: d--e---d---b------e------e-b-----b--d--e\n",
      "str42: --c----da------d----c-----d--cd---aa----\n",
      "str43: --ce--ed-c-ba-----e------ed-------------\n",
      "str44: --ce-ae--c--a----a------a----c----a-----\n",
      "str45: d-c------c----c---e--bb----ba-d---------\n",
      "str46: ----bae---e-a-----e--bb---d----e--------\n",
      "str47: d---b--d--eba-c-----c-----db------------\n",
      "str48: ---eb----c-b------e------ed-a--e--a-----\n",
      "str49: -a-e--e---eb-b-db---c---a---------------\n",
      "str50: d---b--da--b--c---e-cbb-----------------\n",
      "\n",
      "solution is feasible: True\n",
      "solution status: FEASIBLE\n",
      "bset bound: 2.0\n"
     ]
    }
   ],
   "source": [
    "bench(scsp.example.load(\"uniform_q05n050k010-010.txt\"))"
   ]
  },
  {
   "cell_type": "code",
   "execution_count": null,
   "id": "BYtC",
   "metadata": {},
   "outputs": [
    {
     "name": "stdout",
     "output_type": "stream",
     "text": [
      "--- Condition (with 4 chars) ---\n",
      "str01: ATGGGATACG\n",
      "str02: ATACCTTCCC\n",
      "str03: CACGAATTGA\n",
      "str04: TAAAATCTGT\n",
      "str05: AGGTAACAAA\n",
      "str06: TTCCTAGGTA\n",
      "str07: TTGTAGATCT\n",
      "str08: TGGGAAGTTC\n",
      "str09: TTCCACAACT\n",
      "str10: TCTAAACGAA\n",
      "\n",
      "--- Solution (of length 25) ---\n",
      "  Sol: TATAGGGCACTAGAATCTAGACTCA\n",
      "str01: -AT-GGG-A-TA----C--G-----\n",
      "str02: -ATA---C-CT----TC----C-C-\n",
      "str03: -------CAC--GAAT-T-GA----\n",
      "str04: TA-A----A--A---TCT-G--T--\n",
      "str05: -A--GG----TA-A--C-A-A---A\n",
      "str06: T-T----C-CTAG------G--T-A\n",
      "str07: T-T-G-----TAGA-TCT-------\n",
      "str08: T---GGG-A--AG--T-T---C---\n",
      "str09: T-T----C-C-A----C-A-ACT--\n",
      "str10: T------C--TA-AA-C--GA---A\n",
      "\n",
      "solution is feasible: True\n",
      "solution status: FEASIBLE\n",
      "bset bound: 8.0\n"
     ]
    }
   ],
   "source": [
    "bench(scsp.example.load(\"nucleotide_n010k010.txt\"))"
   ]
  },
  {
   "cell_type": "code",
   "execution_count": null,
   "id": "RGSE",
   "metadata": {},
   "outputs": [
    {
     "name": "stdout",
     "output_type": "stream",
     "text": [
      "--- Condition (with 5 chars) ---\n",
      "str01: TAGTAGTAGACTCCGGAAGTGACAAACCCTGAAAAGAATGGATAAATATA\n",
      "str02: GGATAAACACTCCCGAAAATAATTTGACTTAAACAACGCGACAGTTCAAG\n",
      "str03: ATACCTTCCTAGGTAACAAACCAACCAACTTTTGATCTCTTGTAGATCTG\n",
      "str04: TAAATTATAATCTTATACTAGTAAAAAATAGGGTGTAACCGAAAACGGTC\n",
      "str05: TTAAAACAGCCTGTGGGTTGCACCCACTCACAGGGCCCACTGGGCGCAAG\n",
      "str06: ATGACTTCCAATGGATCCCAACCTCAAGCTTCCACCCCAATGGTTTCAGC\n",
      "str07: AACAAACCAACCAACTTTTGATCTCTTGTAGATCTGTTCTCTAAACGAAC\n",
      "str08: ATGAAAACGAAAATTATTATCAAGGGTATGGAAGTGGAAGCTGACGAAAT\n",
      "str09: ACTCGGCTGCATGCTTAGTGCACTCACGCAGTATAATTAATAACTAATTA\n",
      "str10: TTGTAGATCTGTTCTCTAAACGAACTTTAAAATCTGTGTGGCTGTCACTC\n",
      "str11: GCAGAGCATTTTCTAATATCCACAAAATGAAGGCAATAATTGTACTACTC\n",
      "str12: ATGAGCCAAGATCCGACGAAGAGCCCCAAGGAGGAGAAGGAGGGACCCCC\n",
      "str13: TCTCACAGTTCAAGAACCCAAAGTACCCCCCATAGCCCTCTTAAAGCCAC\n",
      "str14: AGGTTTATACCTTCCTAGGTAACAAACCAACCAACTTTCGATCTCTTGTA\n",
      "str15: AGGTTTATACCTTCCCAGGTAACAAACCAACCAACTTTCGATCTCTTGTA\n",
      "str16: TAAAACAACTCAATACAACATAAGAAAATCAACGCAAAAACACTCACAAA\n",
      "str17: CCGCCCATTTGGGCGGCTCTCGAGCGATAGCTCGTCGAATCCCTCGACCT\n",
      "str18: ATACCTTCCCAGGTAACAAACCAACCAACTTTCGATCTCTTGTAGATCTG\n",
      "str19: TCTCACAGTTCAAGAACCTCAAGTCTCCCCCATAGGCCTCTTTCAGTCAG\n",
      "str20: GATCTCTCTCACCGAACCTGGCCCCGGGCAAATGCCCTAATCCAGAGGTG\n",
      "str21: AGAGCAATCAGTGCATCAGAAATATACCTATTATACACTTTGCTAAGAAT\n",
      "str22: AATTAAAACATCTCAATACAACATAAGAAAAACAACGCAAAAACACTCAT\n",
      "str23: AAACGAACTTTAAAATCTGTGTGGCTGTCACTCGGCTGCATGCTTAGTGC\n",
      "str24: ATAACTAATTACTGTCGTTGACAGGACACGAGTAACTCGTCTATCTTCTG\n",
      "str25: ATGAGTGTCACGAATTCACGTACAATGAACTGGATGTTCACGTGGAATAA\n",
      "str26: ACCGTGGGCGAGCGGTGACCGGTGTCTTCCTAGTGGGTCCCACGTTGAAR\n",
      "str27: AAAGGTTTATACCTTCCCAGGTAACAAACCAACCAACTTTCGATCTCTTG\n",
      "str28: AGTAGTTCGCCTGTGTGAGCTGACAAACTTAGTAGTGTTTGTGAGGATTA\n",
      "str29: TTTATACCTTCCTAGGTAACAAACCAACCAACTTTCGATCTCTTGTAGAT\n",
      "str30: ATGCGGTCGTCTCTCCCCGGCTTTTTTTCCCCGCGCCGCGTTGGCGCCGA\n",
      "str31: GTGACAAAAACATAATGGACTCCAACACCATGTCAAGCTTTCAGGTAGAC\n",
      "str32: GTGTAAGAAACAGTAAGCCCGGAAGTGGTGTTTTGCGATTTCGAGGCCGG\n",
      "str33: GAGAATGAGTCTCATTACCGCCCGGTACTTAGCAAGCTAATAGTCACGGC\n",
      "str34: ATGTGGTCGATGCCATGGAGGCCCACCAGTTCATTAAGGCTCCTGGCATT\n",
      "str35: ACGAGCGTTTTAAGGGCCCGCGACTGCGACGGCCACATGGCCCTGTATGT\n",
      "str36: GGTTTATACCTTCCCAGGTAACAAACCAACCAACTTTCGATCTCTTGTAG\n",
      "str37: TGGGAAGTTCCAAAAGATCACAAAACACTACCAGTCAACCTGAAGTACAC\n",
      "str38: GAAGCGTTAACGTGTTGAGGAAAAGACAGCTTAGGAGAACAAGAGCTGGG\n",
      "str39: ACCAGCGCACTTCGGCAGCGGCAGCACCTCGGCAGCACCTCAGCAGCAAC\n",
      "str40: ATGGGACAACTTATTCCTATCATGTGCCAAGAGGTTTTACCCGGTGACCA\n",
      "str41: TTGTAGATCTGTTCTCTAAACGAACTTTAAAATCTGTGTGGTTGTCACTC\n",
      "str42: AACCAACCAACTTTCGATCTCTTGTAGATCTGTTCTCTAAACGAACTTTA\n",
      "str43: GGGTTCTGCCAGGCATAGTCTTTTTTTCTGGCGGCCCTTGTGTAAACCTG\n",
      "str44: GGCTGCATGCTTAGTGCACTCACGCAGTATAATTAATAACTAATTACTGT\n",
      "str45: TGCATGCTTAGTGCACTCACGCAGTATAATTAATAACTAATTACTGTCGT\n",
      "str46: TTCCACAACTTTCCACCAAGCTCTGCAAGATCCCAGAGTCAGGGGCCTGT\n",
      "str47: TCTAAACGAACTTTAAAATCTGTGTGGCTGTCACTCGGCTGCATGCTTAG\n",
      "str48: ACCGGATGGCCGCGATTTTTCGGAGTCCTTGGGGGACCACTCAGAATAGA\n",
      "str49: CTTGTAGATCTGTTCTCTAAACGAACTTTAAAATCTGTGTGGCTGTCACT\n",
      "str50: ATGAGCACTAAGCGAAGAACCAAAAAGCAGACAATACAACCCGCTATTAC\n",
      "\n",
      "--- Solution not found ---\n",
      "\n",
      "solution status: UNKNOWN\n",
      "bset bound: 0.0\n"
     ]
    }
   ],
   "source": [
    "bench(scsp.example.load(\"nucleotide_n050k050.txt\"))"
   ]
  },
  {
   "cell_type": "code",
   "execution_count": null,
   "id": "Kclp",
   "metadata": {},
   "outputs": [
    {
     "name": "stdout",
     "output_type": "stream",
     "text": [
      "--- Condition (with 19 chars) ---\n",
      "str01: MALSYCPKGT\n",
      "str02: MQSSLNAIPV\n",
      "str03: MPLSYQHFRK\n",
      "str04: MEEHVNELHD\n",
      "str05: MSNFDAIRAL\n",
      "str06: MFRNQNSRNG\n",
      "str07: MFYAHAFGGY\n",
      "str08: MSKFTRRPYQ\n",
      "str09: MSFVAGVTAQ\n",
      "str10: MESLVPGFNE\n",
      "\n",
      "--- Solution (of length 46) ---\n",
      "  Sol: MQSESAKFRNPLQNSYVPEFDAQHGICPVTRAFNERLGKGTPYHDQ\n",
      "str01: M----A-----L--SY----------CP----------KGT-----\n",
      "str02: MQS-S------L-N-------A---I-PV-----------------\n",
      "str03: M---------PL--SY------QH--------F--R--K-------\n",
      "str04: M--E--------------E----H----V----NE-L------HD-\n",
      "str05: M-S------N---------FDA---I----RA----L---------\n",
      "str06: M------FRN--QNS---------------R--N---G--------\n",
      "str07: M------F-------Y-----A-H-------AF----G-G--Y---\n",
      "str08: M-S---KF---------------------TR----R-----PY--Q\n",
      "str09: M-S----F--------V----A--G---VT-A-------------Q\n",
      "str10: M--ES------L----VP------G-------FNE-----------\n",
      "\n",
      "solution is feasible: True\n",
      "solution status: FEASIBLE\n",
      "bset bound: 8.0\n"
     ]
    }
   ],
   "source": [
    "bench(scsp.example.load(\"protein_n010k010.txt\"))"
   ]
  },
  {
   "cell_type": "code",
   "execution_count": null,
   "id": "emfo",
   "metadata": {},
   "outputs": [
    {
     "name": "stdout",
     "output_type": "stream",
     "text": [
      "--- Condition (with 20 chars) ---\n",
      "str01: MRHLNIDIETYSSNDIKNGVYKYADAEDFEILLFAYSIDGGEVECLDLTR\n",
      "str02: MERRAHRTHQNWDATKPRERRKQTQHRLTHPDDSIYPRIEKAEGRKEDHG\n",
      "str03: MEPGAFSTALFDALCDDILHRRLESQLRFGGVQIPPEVSDPRVYAGYALL\n",
      "str04: MGKFYYSNRRLAVFAQAQSRHLGGSYEQWLACVSGDSAFRAEVKARVQKD\n",
      "str05: FFRENLAFQQGKAREFPSEEARANSPTSRELWVRRGGNPLSEAGAERRGT\n",
      "str06: MDPSLTQVWAVEGSVLSAAVDTAETNDTEPDEGLSAENEGETRIIRITGS\n",
      "str07: MAFDFSVTGNTKLDTSGFTQGVSSMTVAAGTLIADLVKTASSQLTNLAQS\n",
      "str08: MAVILPSTYTDGTAACTNGSPDVVGTGTMWVNTILPGDFFWTPSGESVRV\n",
      "str09: MNTGIIDLFDNHVDSIPTILPHQLATLDYLVRTIIDENRSVLLFHIMGSG\n",
      "str10: MFVFLVLLPLVSSQCVNLRTRTQLPPAYTNSFTRGVYYPDKVFRSSVLHS\n",
      "str11: MDSKETILIEIIPKIKSYLLDTNISPKSYNDFISRNKNIFVINLYNVSTI\n",
      "str12: MLLSGKKKMLLDNYETAAARGRGGDERRRGWAFDRPAIVTKRDKSDRMAH\n",
      "str13: MNGEEDDNEQAAAEQQTKKAKREKPKQARKVTSEAWEHFDATDDGAECKH\n",
      "str14: MESLVPGFNEKTHVQLSLPVLQVRDVLVRGFGDSVEEVLSEARQHLKDGT\n",
      "str15: MRYIVSPQLVLQVGKGQEVERALYLTPYDYIDEKSPIYYFLRSHLNIQRP\n",
      "str16: MPRVPVYDSPQVSPNTVPQARLATPSFATPTFRGADAPAFQDTANQQARQ\n",
      "str17: MFVFLVLLPLVSSQCVNLRTRTQLPLAYTNSFTRGVYYPDKVFRSSVLHS\n",
      "str18: MFVFFVLLPLVSSQCVNLTTRTQLPPAYTNSFTRGVYYPDKVFRSSVLHS\n",
      "str19: MEAIISFAGIGINYKKLQSKLQHDFGRVLKALTVTARALPGQPKHIAIRQ\n",
      "str20: MASSGPERAEHQIILPESHLSSPLVKHKLLYYWKLTGLPLPDECDFDHLI\n",
      "str21: MESLVPGFNEKTHVQLSLPVLQVRDVLVRGFGDSVEEVLSEVRQHLKDGT\n",
      "str22: MLAPSPNSKIQLFNNINIDINYEHTLYFASVSAQNSFFAQWVVYSADKAI\n",
      "str23: MSAITETKPTIELPALAEGFQRYNKTPGFTCVLDRYDHGVINDSKIVLYN\n",
      "str24: MKNIAEFKKAPELAEKLLEVFSNLKGNSRSLDPMRAGKHDVVVIESTKKL\n",
      "str25: MPQPLKQSLDQSKWLREAEKHLRALESLVDSNLEEEKLKPQLSMGEDVQS\n",
      "str26: MFVFLVLLPLVSSQCVNLITRTQSYTNSFTRGVYYPDKVFRSSVLHSTQD\n",
      "str27: MKFDVLSLFAPWAKVDEQEYDQQLNNNLESITAPKFDDGATEIESERGDI\n",
      "str28: MFVFLVLLPLVSSQCVNFTNRTQLPSAYTNSFTRGVYYPDKVFRSSVLHS\n",
      "str29: MWSIIVLKLISIQPLLLVTSLPLYNPNMDSCCLISRITPELAGKLTWIFI\n",
      "str30: MESLVPGFNEKTHVQLSLPVLQVRDVLVRGFGDSVEEFLSEARQHLKDGT\n",
      "str31: MFVFLVLLPLVSSQCVMPLFNLITTTQSYTNFTRGVYYPDKVFRSSVLHL\n",
      "str32: MHQITVVSGPTEVSTCFGSLHPFQSLKPVMANALGVLEGKMFCSIGGRSL\n",
      "str33: MATLLRSLALFKRNKDKPPITSGSGGAIRGIKHIIIVPIPGDSSITTRSR\n",
      "str34: MESLVPGFNEKTHVQLSLPVLQVRDVLVRGFGDSMEEVLSEARQHLKDGT\n",
      "str35: MFVFLVLLPLVSSQCVNLTTGTQLPPAYTNSFTRGVYYPDKVFRSSVLHS\n",
      "str36: MANIINLWNGIVPMVQDVNVASITAFKSMIDETWDKKIEANTCISRKHRN\n",
      "str37: MLNRIQTLMKTANNYETIEILRNYLRLYIILARNEEGRGILIYDDNIDSV\n",
      "str38: MADPAGTNGEEGTGCNGWFYVEAVVEKKTGDAISDDENENDSDTGEDLVD\n",
      "str39: MFVFLVLLPLVSSQCVNLRTRTQLPPSYTNSFTRGVYYPDKVFRSSVLHS\n",
      "str40: MESLVPGFNEKTHVQLSLPVLQVCDVLVRGFGDSVEEVLSEARQHLKDGT\n",
      "str41: MNNQRKKTARPSFNMLKRARNRVSTVSQLAKRFSKGLLSGQGPMKLVMAF\n",
      "str42: MSNFDAIRALVDTDAYKLGHIHMYPEGTEYVLSNFTDRGSRIEGVTHTVH\n",
      "str43: MIELRHEVQGDLVTINVVETPEDLDGFRDFIRAHLICLAVDTETTGLDIY\n",
      "str44: MFVFLVLLPLVSSQCVMPLFNLITTNQSYTNSFTRGVYYPDKVFRSSVLH\n",
      "str45: MSKDLVARQALMTARMKADFVFFLFVLWKALSLPVPTRCQIDMAKKLSAG\n",
      "str46: MASLLKSLTLFKRTRDQPPLASGSGGAIRGIKHVIIVLIPGDSSIVTRSR\n",
      "str47: MRVRGILRNWQQWWIWTSLGFWMFMICSVVGNLWVTVYYGVPVWKEAKTT\n",
      "str48: MAVEPFPRRPITRPHASIEVDTSGIGGSAGSSEKVFCLIGQAEGGEPNTV\n",
      "str49: MFYAHAFGGYDENLHAFPGISSTVANDVRKYSVVSVYNKKYNIVKNKYMW\n",
      "str50: MANYSKPFLLDIVFNKDIKCINDSCSHSDCRYQSNSYVELRRNQALNKNL\n",
      "\n",
      "--- Solution not found ---\n",
      "\n",
      "solution status: UNKNOWN\n",
      "bset bound: 0.0\n"
     ]
    }
   ],
   "source": [
    "bench(scsp.example.load(\"protein_n050k050.txt\"))"
   ]
  }
 ],
 "metadata": {},
 "nbformat": 4,
 "nbformat_minor": 5
}
