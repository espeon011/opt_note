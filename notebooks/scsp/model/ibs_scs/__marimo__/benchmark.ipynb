{
 "cells": [
  {
   "cell_type": "code",
   "execution_count": null,
   "id": "setup",
   "metadata": {
    "marimo": {
     "name": "setup"
    }
   },
   "outputs": [],
   "source": [
    "import opt_note.scsp as scsp"
   ]
  },
  {
   "cell_type": "code",
   "execution_count": null,
   "id": "Hbol",
   "metadata": {},
   "outputs": [],
   "source": [
    "import marimo as mo\n",
    "import nbformat"
   ]
  },
  {
   "cell_type": "markdown",
   "id": "MJUe",
   "metadata": {
    "marimo": {
     "config": {
      "hide_code": true
     }
    }
   },
   "source": [
    "# ベンチマーク"
   ]
  },
  {
   "cell_type": "code",
   "execution_count": null,
   "id": "vblA",
   "metadata": {
    "marimo": {
     "name": "*bench"
    }
   },
   "outputs": [],
   "source": [
    "def bench(instance: list[str]) -> None:\n",
    "    solution = scsp.model.ibs_scs.solve(instance)\n",
    "    scsp.util.show(instance)\n",
    "    scsp.util.show(instance, solution)\n",
    "    print(f\"solution is feasible: {scsp.util.is_feasible(instance, solution)}\")"
   ]
  },
  {
   "cell_type": "code",
   "execution_count": null,
   "id": "bkHC",
   "metadata": {},
   "outputs": [
    {
     "name": "stdout",
     "output_type": "stream",
     "text": [
      "--- Condition (with 25 chars) ---\n",
      "str1: tkgnkuhmpxnhtqgxzvxis\n",
      "str2: iojiqfolnbxxcvsuqpvissbxf\n",
      "str3: ulcinycosovozpplp\n",
      "str4: igevazgbrddbcsvrvnngf\n",
      "\n",
      "--- Solution (of length 73) ---\n",
      " Sol: itkgnkuojiqfolevnabzcghxbimxnrcpdvyxcdnsbhoucstqovpgvorxzvisnpsbxnpgfilps\n",
      "str1: -tkgnku---------------h---m----p---x--n--h----tq---g---xzv------x----i--s\n",
      "str2: i------ojiqfol--n-b----x---x--c--v-----s---u---q--p-v-----is--sbx---f----\n",
      "str3: ------u------l------c----i--n-----y-c-----o--s--ov---o--z----p----p---lp-\n",
      "str4: i--g----------ev-a-z-g--b----r--d----d--b---cs---v----r--v--n----n-gf----\n",
      "\n",
      "solution is feasible: True\n"
     ]
    }
   ],
   "source": [
    "bench(scsp.example.load(\"uniform_q26n004k015-025.txt\"))"
   ]
  },
  {
   "cell_type": "code",
   "execution_count": null,
   "id": "lEQa",
   "metadata": {},
   "outputs": [
    {
     "name": "stdout",
     "output_type": "stream",
     "text": [
      "--- Condition (with 26 chars) ---\n",
      "str1: tkgnkuhmpxnhtqgxzvxis\n",
      "str2: iojiqfolnbxxcvsuqpvissbxf\n",
      "str3: ulcinycosovozpplp\n",
      "str4: igevazgbrddbcsvrvnngf\n",
      "str5: pyplrzxucpmqvgtdfuivcdsbo\n",
      "str6: pbdevdcvdpfzsmsbroqvbbh\n",
      "str7: enbczfjtvxerzbrvigple\n",
      "str8: rxwxqkrdrlctodtmprpxwd\n",
      "\n",
      "--- Solution (of length 119) ---\n",
      " Sol: pigenboyjpilrdqtxevwzxucfkolgnqkdcazfrvdpgbrujmhxiqtvxlcgtodtmpxnferzvsudbychmsotqpvrvisgovxbrozqvpcdsbxplnngfbiwdehops\n",
      "str1: ---------------t---------k--gn-k------------u--h-------------mpxn-----------h---tq------g--x---z-v-----x-------i------s\n",
      "str2: -i----o-j-i---q---------f-ol-n------------b-----x----x-c-------------vsu---------qpv--is-------------sbx-----f---------\n",
      "str3: ----------------------u----l-----c---------------i--------------n---------yc---o-------s-ov---oz--p-----pl-----------p-\n",
      "str4: -ige--------------v---------------az-----gbr---------------d------------db-c--s----vrv--------------------nngf---------\n",
      "str5: p------y-p-lr-------zxuc----------------p-----m---q-v---gt-d-----f-----u--------------i---v--------cdsb-------------o--\n",
      "str6: p----b-------d---ev-------------dc----vdp------------------------f--z-s------ms-------------bro-qv----b-------b----h---\n",
      "str7: ---enb-----------------c-----------zf--------j-----tvx------------erz----b----------rvi-g---------p------l--------e----\n",
      "str8: ------------r---x--w-x--------qk-----r-d---r----------lc-todtmp----r--------------p--------x--------------------wd-----\n",
      "\n",
      "solution is feasible: True\n"
     ]
    }
   ],
   "source": [
    "bench(scsp.example.load(\"uniform_q26n008k015-025.txt\"))"
   ]
  },
  {
   "cell_type": "code",
   "execution_count": null,
   "id": "PKri",
   "metadata": {},
   "outputs": [
    {
     "name": "stdout",
     "output_type": "stream",
     "text": [
      "--- Condition (with 26 chars) ---\n",
      "str01: tkgnkuhmpxnhtqgxzvxis\n",
      "str02: iojiqfolnbxxcvsuqpvissbxf\n",
      "str03: ulcinycosovozpplp\n",
      "str04: igevazgbrddbcsvrvnngf\n",
      "str05: pyplrzxucpmqvgtdfuivcdsbo\n",
      "str06: pbdevdcvdpfzsmsbroqvbbh\n",
      "str07: enbczfjtvxerzbrvigple\n",
      "str08: rxwxqkrdrlctodtmprpxwd\n",
      "str09: kkqafigqjwokkskrblg\n",
      "str10: lxxpabivbvzkozzvd\n",
      "str11: krifsavncdqwhzc\n",
      "str12: qaxudgqvqcewbfgijowwy\n",
      "str13: rsxqjnfpadiusiqbezhkohmg\n",
      "str14: iwshvhcomiuvddm\n",
      "str15: htxxqjzqbctbakn\n",
      "str16: xusfcfzpeecvwantfmgqzu\n",
      "\n",
      "--- Solution (of length 163) ---\n",
      "  Sol: krixuwslxqpkfchtxojiqfanypfxlrzpeabdigevudcosvaqjzgbrlnbxcdqvzkwognkuhcpmfqvdbctozsmipxqjbewtvanhtzcvsbuqgxfrpvdtmgideksrzfburvihkoqvprbnlgpxcjdsbowhmnglxfiwzdesuy\n",
      "str01: ---------------t----------------------------------------------k--gnkuh--m------------px--------nht------qgx--------------z----v-------------x--------------i----s--\n",
      "str02: --i--------------ojiqf---------------------o---------lnbx-----------------------------x------------cvs-uq----pv----i---s------------------------sb-------xf--------\n",
      "str03: ----u--l-----c-----i---ny-----------------cos-------------------o----------v----oz---p-----------------------p---------------------------l-p-----------------------\n",
      "str04: --i----------------------------------gev------a--zgbr-----d-----------------dbc---s----------v--------------r-v-------------------------n-------------ng--f--------\n",
      "str05: ----------p-------------yp--lrz-------------------------x-----------u-cpm-qv-----------------------------g------t---d-----f-u--i----v--------c-dsbo----------------\n",
      "str06: ----------p-----------------------bd--ev-dc--v------------d------------p-f-------zsm-----------------sb-----r---------------------oqv--b---------b--h--------------\n",
      "str07: --------------------------------e---------------------nb-c---z-----------f--------------j---tv------------x----------e--rz-b-rvi----------gp------------l------e---\n",
      "str08: -r-x-w--xq-k-----------------r-----d----------------rl---c---------------------to------------------------------dtm-------------------pr----px------w----------d----\n",
      "str09: k----------k--------q-a---f---------ig---------qj--------------wo--k--------------------------------------------------ks---------k----rb-lg------------------------\n",
      "str10: -------lx-------x--------p-------ab-i--v-----------b--------vzk-o----------------z----------------z-v----------d---------------------------------------------------\n",
      "str11: kri---------f-------------------------------s-a-------------v-----n---c-----d----------q---w----h-zc---------------------------------------------------------------\n",
      "str12: ---------q------------a----x------------ud--------g--------qv-------------q---c-----------ew----------b----f------gi--------------------------j---ow--------w-----y\n",
      "str13: -r----s-xq--------j----n--f----p-a-di---u---s---------------------------------------i--q-be-------z-----------------------------hko-----------------hm-g-----------\n",
      "str14: --i--ws-------h------------------------v-----------------------------hc---------o--mi------------------u------vd----d--------------------------------m-------------\n",
      "str15: --------------htx----------x-------------------qjz---------q-----------------bct---------b----a-----------------------k-----------------n--------------------------\n",
      "str16: ---xu-s-----fc-------f--------zpe-----e---c--v-----------------w------------------------------an-t---------f-----mg----------------q-------------------------z---u-\n",
      "\n",
      "solution is feasible: True\n"
     ]
    }
   ],
   "source": [
    "bench(scsp.example.load(\"uniform_q26n016k015-025.txt\"))"
   ]
  },
  {
   "cell_type": "code",
   "execution_count": null,
   "id": "Xref",
   "metadata": {},
   "outputs": [
    {
     "name": "stdout",
     "output_type": "stream",
     "text": [
      "--- Condition (with 5 chars) ---\n",
      "str01: dcbccdbcce\n",
      "str02: bddbeeeebd\n",
      "str03: cacdeecebe\n",
      "str04: aeddddebdd\n",
      "str05: acbeecabce\n",
      "str06: bbabebdcba\n",
      "str07: bbaeaebada\n",
      "str08: eeeecbdbee\n",
      "str09: ccdeedadcd\n",
      "str10: bdabdbeaad\n",
      "\n",
      "--- Solution (of length 28) ---\n",
      "  Sol: bdcbacedbeeecdabddecbadceade\n",
      "str01: -dcb-c------cd-b---c---ce---\n",
      "str02: bd-----dbeee------e-b-d-----\n",
      "str03: --c-ac-d-ee-c-----e-b---e---\n",
      "str04: ----a-ed-----d--dde-b-d---d-\n",
      "str05: ----ac--bee-c-ab---c----e---\n",
      "str06: b--ba---be-----bd--cba------\n",
      "str07: b--ba-e-------a---e-bad--a--\n",
      "str08: ------e--eeec--bd---b---e--e\n",
      "str09: --c--c-d-ee--da-d--c--d-----\n",
      "str10: bd--a---b----d-b--e--a---ad-\n",
      "\n",
      "solution is feasible: True\n"
     ]
    }
   ],
   "source": [
    "bench(scsp.example.load(\"uniform_q05n010k010-010.txt\"))"
   ]
  },
  {
   "cell_type": "code",
   "execution_count": null,
   "id": "SFPL",
   "metadata": {},
   "outputs": [
    {
     "name": "stdout",
     "output_type": "stream",
     "text": [
      "--- Condition (with 5 chars) ---\n",
      "str01: dcbccdbcce\n",
      "str02: bddbeeeebd\n",
      "str03: cacdeecebe\n",
      "str04: aeddddebdd\n",
      "str05: acbeecabce\n",
      "str06: bbabebdcba\n",
      "str07: bbaeaebada\n",
      "str08: eeeecbdbee\n",
      "str09: ccdeedadcd\n",
      "str10: bdabdbeaad\n",
      "str11: ededaaaeaa\n",
      "str12: aaeaabeeac\n",
      "str13: eaabcaccdb\n",
      "str14: bdeeadeade\n",
      "str15: caedadeeed\n",
      "str16: ebcadbabbe\n",
      "str17: ddceeabdea\n",
      "str18: dabcddeaec\n",
      "str19: aadceedaab\n",
      "str20: aeecceeeaa\n",
      "str21: bbdaecaade\n",
      "str22: dacedaedab\n",
      "str23: aaeabbbbce\n",
      "str24: dedbcbcaab\n",
      "str25: dbdaaebbcb\n",
      "str26: debedbebac\n",
      "str27: ceebcdcbde\n",
      "str28: dbedaadaab\n",
      "str29: cccdcbebdc\n",
      "str30: aeeacdbcbd\n",
      "str31: dacbeacccd\n",
      "str32: ecebccdbdb\n",
      "str33: ddbbcedabb\n",
      "str34: aaeabaaeba\n",
      "str35: ecbbcaadcd\n",
      "str36: debccecdbc\n",
      "str37: daacbaeebc\n",
      "str38: adabeaacce\n",
      "str39: daecdbacaa\n",
      "str40: dacbbdcedc\n",
      "str41: dedbeebbde\n",
      "str42: cdadcdcdaa\n",
      "str43: ceedcbaeed\n",
      "str44: ceaecaaaca\n",
      "str45: dcccebbbad\n",
      "str46: baeeaebbde\n",
      "str47: dbdebaccdb\n",
      "str48: ebcbeedaea\n",
      "str49: aeeebbdbca\n",
      "str50: dbdabcecbb\n",
      "\n",
      "--- Solution (of length 34) ---\n",
      "  Sol: daebcdabecdaebceadcbaedbcebadceabd\n",
      "str01: d---c--b-c----c--d-b----c----ce---\n",
      "str02: ---b-d----d--b-e-----e---e----e-bd\n",
      "str03: ----c-a--cd-e--e--c--e-b-e--------\n",
      "str04: -ae--d----d------d----d--eb-d----d\n",
      "str05: -a--c--be---e-c-a--b----ce--------\n",
      "str06: ---b---b---a-b-e---b--d-c-ba------\n",
      "str07: ---b---b---ae---a----e-b---ad--a--\n",
      "str08: --e-----e---e--e--cb--db-e----e---\n",
      "str09: ----c----cd-e--e-d--a-d-c---d-----\n",
      "str10: ---b-dab--d--b-ea---a-d-----------\n",
      "str11: --e--d--e-da----a---ae-----a---a--\n",
      "str12: -a----a-e--a----a--b-e---e-a-c----\n",
      "str13: --e---a----a-bc-a-c-----c---d---b-\n",
      "str14: ---b-d--e---e---ad---e-----ad-e---\n",
      "str15: ----c-a-e-da-----d---e---e----e--d\n",
      "str16: --ebc-a---d--b--a--b---b-e--------\n",
      "str17: d----d---c--e--ea--b--d--e-a------\n",
      "str18: da-bcd----d-e---a----e--c---------\n",
      "str19: -a----a---d---ce-----ed----a---ab-\n",
      "str20: -ae-----ec----ce-----e---e-a---a--\n",
      "str21: ---b---b--dae-c-a---a-d--e--------\n",
      "str22: da--c---e-dae----d--a--b----------\n",
      "str23: -a----a-e--a-b-----b---b--b--ce---\n",
      "str24: d-e--d-b-c---bc-a---a--b----------\n",
      "str25: d--b-da----aeb-----b----c-b-------\n",
      "str26: d-eb----e-d--b-e---ba---c---------\n",
      "str27: ----c---e---ebc--dcb--d--e--------\n",
      "str28: d--b----e-da----ad--a------a----b-\n",
      "str29: ----c----c----c--dcb-e-b----dc----\n",
      "str30: -ae-----e--a--c--d-b----c-b-d-----\n",
      "str31: da--c--be--a--c---c-----c---d-----\n",
      "str32: --e-c---e----bc---c---db----d---b-\n",
      "str33: d----d-b-----bce-d--a--b--b-------\n",
      "str34: -a----a-e--a-b--a---ae-b---a------\n",
      "str35: --e-c--b-----bc-a---a-d-c---d-----\n",
      "str36: d-ebc----c--e-c--d-b----c---------\n",
      "str37: da----a--c---b--a----e---eb--c----\n",
      "str38: -a---dabe--a----a-c-----ce--------\n",
      "str39: dae-cd-b---a--c-a---a-------------\n",
      "str40: da--c--b-----b---dc--ed-c---------\n",
      "str41: d-e--d-be---eb-----b--d--e--------\n",
      "str42: ----cda---d---c--dc---d----a---a--\n",
      "str43: ----c---e---e----dcbae---e--d-----\n",
      "str44: ----c---e--ae-c-a---a------a-c-a--\n",
      "str45: d---c----c----ce---b---b--bad-----\n",
      "str46: ---b--a-e---e---a----e-b--b-d-e---\n",
      "str47: d--b-d--e----b--a-c-----c---d---b-\n",
      "str48: --ebc--be---e----d--ae-----a------\n",
      "str49: -ae-----e---eb-----b--dbc--a------\n",
      "str50: d--b-dab-c--e-c----b---b----------\n",
      "\n",
      "solution is feasible: True\n"
     ]
    }
   ],
   "source": [
    "bench(scsp.example.load(\"uniform_q05n050k010-010.txt\"))"
   ]
  },
  {
   "cell_type": "code",
   "execution_count": null,
   "id": "BYtC",
   "metadata": {},
   "outputs": [
    {
     "name": "stdout",
     "output_type": "stream",
     "text": [
      "--- Condition (with 4 chars) ---\n",
      "str01: ATGGGATACG\n",
      "str02: ATACCTTCCC\n",
      "str03: CACGAATTGA\n",
      "str04: TAAAATCTGT\n",
      "str05: AGGTAACAAA\n",
      "str06: TTCCTAGGTA\n",
      "str07: TTGTAGATCT\n",
      "str08: TGGGAAGTTC\n",
      "str09: TTCCACAACT\n",
      "str10: TCTAAACGAA\n",
      "\n",
      "--- Solution (of length 24) ---\n",
      "  Sol: TATCGGTACGACTAGTCTGACTAC\n",
      "str01: -AT-GG---GA-TA--C-G-----\n",
      "str02: -AT----AC--CT--TC---C--C\n",
      "str03: ---C---ACGA--A-T-TGA----\n",
      "str04: TA-----A--A--A-TCTG--T--\n",
      "str05: -A--GGTA--AC-A-----A--A-\n",
      "str06: T-TC----C---TAG---G--TA-\n",
      "str07: T-T-G-TA-GA-T---CT------\n",
      "str08: T---GG---GA--AGT-T--C---\n",
      "str09: T-TC----C-AC-A-----ACT--\n",
      "str10: T--C--TA--A--A--C-GA--A-\n",
      "\n",
      "solution is feasible: True\n"
     ]
    }
   ],
   "source": [
    "bench(scsp.example.load(\"nucleotide_n010k010.txt\"))"
   ]
  },
  {
   "cell_type": "code",
   "execution_count": null,
   "id": "RGSE",
   "metadata": {},
   "outputs": [
    {
     "name": "stdout",
     "output_type": "stream",
     "text": [
      "--- Condition (with 5 chars) ---\n",
      "str01: TAGTAGTAGACTCCGGAAGTGACAAACCCTGAAAAGAATGGATAAATATA\n",
      "str02: GGATAAACACTCCCGAAAATAATTTGACTTAAACAACGCGACAGTTCAAG\n",
      "str03: ATACCTTCCTAGGTAACAAACCAACCAACTTTTGATCTCTTGTAGATCTG\n",
      "str04: TAAATTATAATCTTATACTAGTAAAAAATAGGGTGTAACCGAAAACGGTC\n",
      "str05: TTAAAACAGCCTGTGGGTTGCACCCACTCACAGGGCCCACTGGGCGCAAG\n",
      "str06: ATGACTTCCAATGGATCCCAACCTCAAGCTTCCACCCCAATGGTTTCAGC\n",
      "str07: AACAAACCAACCAACTTTTGATCTCTTGTAGATCTGTTCTCTAAACGAAC\n",
      "str08: ATGAAAACGAAAATTATTATCAAGGGTATGGAAGTGGAAGCTGACGAAAT\n",
      "str09: ACTCGGCTGCATGCTTAGTGCACTCACGCAGTATAATTAATAACTAATTA\n",
      "str10: TTGTAGATCTGTTCTCTAAACGAACTTTAAAATCTGTGTGGCTGTCACTC\n",
      "str11: GCAGAGCATTTTCTAATATCCACAAAATGAAGGCAATAATTGTACTACTC\n",
      "str12: ATGAGCCAAGATCCGACGAAGAGCCCCAAGGAGGAGAAGGAGGGACCCCC\n",
      "str13: TCTCACAGTTCAAGAACCCAAAGTACCCCCCATAGCCCTCTTAAAGCCAC\n",
      "str14: AGGTTTATACCTTCCTAGGTAACAAACCAACCAACTTTCGATCTCTTGTA\n",
      "str15: AGGTTTATACCTTCCCAGGTAACAAACCAACCAACTTTCGATCTCTTGTA\n",
      "str16: TAAAACAACTCAATACAACATAAGAAAATCAACGCAAAAACACTCACAAA\n",
      "str17: CCGCCCATTTGGGCGGCTCTCGAGCGATAGCTCGTCGAATCCCTCGACCT\n",
      "str18: ATACCTTCCCAGGTAACAAACCAACCAACTTTCGATCTCTTGTAGATCTG\n",
      "str19: TCTCACAGTTCAAGAACCTCAAGTCTCCCCCATAGGCCTCTTTCAGTCAG\n",
      "str20: GATCTCTCTCACCGAACCTGGCCCCGGGCAAATGCCCTAATCCAGAGGTG\n",
      "str21: AGAGCAATCAGTGCATCAGAAATATACCTATTATACACTTTGCTAAGAAT\n",
      "str22: AATTAAAACATCTCAATACAACATAAGAAAAACAACGCAAAAACACTCAT\n",
      "str23: AAACGAACTTTAAAATCTGTGTGGCTGTCACTCGGCTGCATGCTTAGTGC\n",
      "str24: ATAACTAATTACTGTCGTTGACAGGACACGAGTAACTCGTCTATCTTCTG\n",
      "str25: ATGAGTGTCACGAATTCACGTACAATGAACTGGATGTTCACGTGGAATAA\n",
      "str26: ACCGTGGGCGAGCGGTGACCGGTGTCTTCCTAGTGGGTCCCACGTTGAAR\n",
      "str27: AAAGGTTTATACCTTCCCAGGTAACAAACCAACCAACTTTCGATCTCTTG\n",
      "str28: AGTAGTTCGCCTGTGTGAGCTGACAAACTTAGTAGTGTTTGTGAGGATTA\n",
      "str29: TTTATACCTTCCTAGGTAACAAACCAACCAACTTTCGATCTCTTGTAGAT\n",
      "str30: ATGCGGTCGTCTCTCCCCGGCTTTTTTTCCCCGCGCCGCGTTGGCGCCGA\n",
      "str31: GTGACAAAAACATAATGGACTCCAACACCATGTCAAGCTTTCAGGTAGAC\n",
      "str32: GTGTAAGAAACAGTAAGCCCGGAAGTGGTGTTTTGCGATTTCGAGGCCGG\n",
      "str33: GAGAATGAGTCTCATTACCGCCCGGTACTTAGCAAGCTAATAGTCACGGC\n",
      "str34: ATGTGGTCGATGCCATGGAGGCCCACCAGTTCATTAAGGCTCCTGGCATT\n",
      "str35: ACGAGCGTTTTAAGGGCCCGCGACTGCGACGGCCACATGGCCCTGTATGT\n",
      "str36: GGTTTATACCTTCCCAGGTAACAAACCAACCAACTTTCGATCTCTTGTAG\n",
      "str37: TGGGAAGTTCCAAAAGATCACAAAACACTACCAGTCAACCTGAAGTACAC\n",
      "str38: GAAGCGTTAACGTGTTGAGGAAAAGACAGCTTAGGAGAACAAGAGCTGGG\n",
      "str39: ACCAGCGCACTTCGGCAGCGGCAGCACCTCGGCAGCACCTCAGCAGCAAC\n",
      "str40: ATGGGACAACTTATTCCTATCATGTGCCAAGAGGTTTTACCCGGTGACCA\n",
      "str41: TTGTAGATCTGTTCTCTAAACGAACTTTAAAATCTGTGTGGTTGTCACTC\n",
      "str42: AACCAACCAACTTTCGATCTCTTGTAGATCTGTTCTCTAAACGAACTTTA\n",
      "str43: GGGTTCTGCCAGGCATAGTCTTTTTTTCTGGCGGCCCTTGTGTAAACCTG\n",
      "str44: GGCTGCATGCTTAGTGCACTCACGCAGTATAATTAATAACTAATTACTGT\n",
      "str45: TGCATGCTTAGTGCACTCACGCAGTATAATTAATAACTAATTACTGTCGT\n",
      "str46: TTCCACAACTTTCCACCAAGCTCTGCAAGATCCCAGAGTCAGGGGCCTGT\n",
      "str47: TCTAAACGAACTTTAAAATCTGTGTGGCTGTCACTCGGCTGCATGCTTAG\n",
      "str48: ACCGGATGGCCGCGATTTTTCGGAGTCCTTGGGGGACCACTCAGAATAGA\n",
      "str49: CTTGTAGATCTGTTCTCTAAACGAACTTTAAAATCTGTGTGGCTGTCACT\n",
      "str50: ATGAGCACTAAGCGAAGAACCAAAAAGCAGACAATACAACCCGCTATTAC\n",
      "\n",
      "--- Solution (of length 135) ---\n",
      "  Sol: AAACCTGTAGCTAGATCAGTCATGACTCATCAGTCGTACAGCTACGATCAGCTAGACTAAACGTCAGTACTGACTAGTCAGCTCATGATGCATGACGCTCATGACTGCATGCTAGCTAGACTGACCGTAGCACRT\n",
      "str01: -----T--AG-TAG-T-AG--A---CTC--C-G--G-A-AG-T--GA-CA---A-AC----C--C--T---GA--A---A----A-GA---ATG--G---AT-A----A----A--TA---T-A-----------\n",
      "str02: ------G--G--A--T-A---A--AC--A-C--TC---C--C---GA--A---A-A-TAA---T---T--TGACT--T-A----A--A--CA--ACGC----GAC---A-G-T---T---C--A----AG-----\n",
      "str03: A----T--A-C-----C--T--T--C-C-T-AG--GTA-A-C-A--A--A-C----C-AA-C--CA--ACT---T--T----T---GAT-C-T--C--T--TG--T--A-G--A--T---CTG------------\n",
      "str04: -----T--A---A-AT---T-AT-A---ATC--T--TA----TAC--T-AG-TA-A--AAA----A-TA--G----G---G-T---G-T--A--AC-C----GA----A----A---A--C-G---GT--C----\n",
      "str05: -----T-TA---A-A--A--CA-G-C-C-T--GT-G----G----G-T----T-G-C-A--C--C----C--ACT---CA-C--A-G--G---G-C-C-CA---CTG---G---GC--G-C--A----AG-----\n",
      "str06: A----TG-A-CT---TC---CA--A-T-----G--G-A----T-C---C--C-A-AC----C-TCA--A--G-CT--TC--C--A-----C----C-C-CA--A-TG---G-T---T----T--C---AGC----\n",
      "str07: AA-C----A---A-A-C---CA--AC-CA--A--C-T-----T----T----T-GA-T---C-TC--T--TG--TAG--A--TC-TG-T---T--C--TC-T-A----A----A-C--GA---AC----------\n",
      "str08: A----TG-A---A-A--A--C--GA---A--A-----A----T----T-A--T----TA----TCA--A--G----G---G-T-ATG--G-A--A-G-T---G---G-A----AGCT-GAC-GA----A--A--T\n",
      "str09: A--C-T----C--G----G-C-TG-C--AT--G-C-T-----TA-G-T--GC-A--CT---C---A---C-G-C-AGT-A--T-A--AT---T-A-----AT-A----A--CTA---A---T-----TA------\n",
      "str10: -----T-T-G-TAGATC--T---G--T--TC--TC-TA-A---ACGA--A-CT----T-----T-A--A---A--A-TC---T---G-TG--TG--GCT---G--T-CA--CT--C-------------------\n",
      "str11: ------G---C-AGA---G-CAT---T--T---TC-TA-A--TA---TC--C-A--C-AAA----A-T---GA--AG---GC--A--AT--A--A---T--TG--T--A--CTA-CT---C--------------\n",
      "str12: A----TG-AGC-----CA---A-GA-TC--C-G----AC-G--A--A---G--AG-C----C--C----C--A--AG---G---A-G--G-A-GA-----A-G---G-A-G---G---GAC---CC----C-C--\n",
      "str13: -----T----CT----CA--CA-G--T--TCA-----A--G--A--A-C--C----C-AAA-GT-A---C---C----C--C-C------CAT-A-GC-C----CT-C-T--TA---A-A--G-CC--A-C----\n",
      "str14: A-----G--G-T---T---T-AT-AC-C-T---TC---C---TA-G----G-TA-AC-AAAC--CA--AC---C-A---A-CT--T--T-C--GA---TC-T--CT---TG-TA---------------------\n",
      "str15: A-----G--G-T---T---T-AT-AC-C-T---TC---C--C-A-G----G-TA-AC-AAAC--CA--AC---C-A---A-CT--T--T-C--GA---TC-T--CT---TG-TA---------------------\n",
      "str16: -----T--A---A-A--A--CA--ACTCA--A-T---ACA---AC-AT-A---AGA--AAA--TCA--AC-G-C-A---A----A--A---A---C----A---CT-CA--C-A---A-A---------------\n",
      "str17: ---CC-G---C-----C---CAT---T--T--G--G----GC---G----GCT---CT---CG--AG--C-GA-TAG-C---TC--G-T-C--GA-----AT--C--C---CT--C--GAC---C--T-------\n",
      "str18: A----T--A-C-----C--T--T--C-C--CAG--GTA-A-C-A--A--A-C----C-AA-C--CA--ACT---T--TC-G---AT----C-T--C--T--TG--T--A-G--A--T---CTG------------\n",
      "str19: -----T----CT----CA--CA-G--T--TCA-----A--G--A--A-C--CT---C-AA--GTC--T-C---C----C--C-CAT-A-G---G-C-CTC-T---T---T-C-AG-T---C--A--G--------\n",
      "str20: ------G-A--T----C--TC-T--CTCA-C---CG-A-A-C--C--T--G---G-C----C--C----C-G----G---GC--A--A---ATG-C-C-C-T-A----AT-C---C-AGA--G---GT-G-----\n",
      "str21: A-----G-AGC-A-ATCAGT---G-C--ATCAG----A-A---A---T-A--TA--C----C-T-A-T--T-A-TA--CA-CT--T--TGC-T-A-----A-GA----AT-------------------------\n",
      "str22: AA---T-TA---A-A--A--CAT--CTCA--A-T---ACA---AC-AT-A---AGA--AAA----A---C--A--A--C-GC--A--A---A--A-----A---C---A--CT--C-A---T-------------\n",
      "str23: AAAC--G-A---A---C--T--T---T-A--A-----A-A--T-C--T--G-T-G--T----G---G--CTG--T---CA-CTC--G--GC-TG-C----ATG-CT---T---AG-T-G-C--------------\n",
      "str24: A----T--A---A---C--T-A--A-T--T-A--C-T---G-T-CG-T----T-GAC-A---G---G-AC--AC--G--AG-T-A--A--C-T--CG-TC-T-A-T-C-T--T--CT-G----------------\n",
      "str25: A----TG-AG-T-G-TCA--C--GA---AT---TC--AC-G-TAC-A--A--T-GA--A--C-T--G----GA-T-GT----TCA-----C--G----T---G---G-A----A--TA-A---------------\n",
      "str26: A--CC-GT-G---G----G-C--GA-------G-CG----G-T--GA-C--C--G-------GT--GT-CT---T---C--CT-A-G-TG---G--G-TC----C--CA--C--G-T----TGA----A----R-\n",
      "str27: AAA---G--G-T---T---T-AT-AC-C-T---TC---C--C-A-G----G-TA-AC-AAAC--CA--AC---C-A---A-CT--T--T-C--GA---TC-T--CT---TG------------------------\n",
      "str28: A-----GTAG-T---TC-G-C----CT-----GT-GT---G--A-G--C---T-GAC-AAAC-T---TA--G--TAGT--G-T--T--TG--TGA-G-----GA-T---T---A---------------------\n",
      "str29: -----T-T---TA--T-A--C----CT--TC---C-TA--G----G-T-A---A--C-AAAC--CA--AC---C-A---A-CT-"
     ]
    },
    {
     "name": "stdout",
     "output_type": "stream",
     "text": [
      "-T--T-C--GA---TC-T--CT---TG-TAG--A---T-------------\n",
      "str30: A----TG---C--G----GTC--G--TC-TC--TC---C--C--CG----GCT----T-----T---T--T---T--TC--C-C------C--G-CGC-C--G-C-G--T--T-G---G-C-G-CCG-A------\n",
      "str31: ------GT-G--A---CA---A--A---A--A--C--A----TA--AT--G---GACT---C--CA--AC--AC----CA--T---G-T-CA--A-GCT--T---T-CA-G---G-TAGAC--------------\n",
      "str32: ------GT-G-TA-A---G--A--A---A-CAGT---A-AGC--C---C-G---GA--A---GT--G----G--T-GT----T--T--TGC--GA---T--T---T-C--G--AG---G-C---C-G--G-----\n",
      "str33: ------G-AG--A-AT--G--A-G--TC-TCA-T--TAC--C---G--C--C----C-----G---GTACT---TAG-CA----A-G---C-T-A-----AT-A--G--T-C-A-C--G---G-C----------\n",
      "str34: A----TGT-G---G-TC-G--ATG-C-CAT--G--G-A--G----G--C--C----C-A--C--CAGT--T--C-A-T----T-A--A-G---G-C--TC----CTG---GC-A--T----T-------------\n",
      "str35: A--C--G-AGC--G-T---T--T---T-A--AG--G----GC--C---C-GC--GACT----G-C-G-AC-G----G-C--C--A-----CATG--GC-C----CTG--T---A--T-G--T-------------\n",
      "str36: ------G--G-T---T---T-AT-AC-C-T---TC---C--C-A-G----G-TA-AC-AAAC--CA--AC---C-A---A-CT--T--T-C--GA---TC-T--CT---TG-TAG--------------------\n",
      "str37: -----TG--G---GA--AGT--T--C-CA--A-----A-AG--A---TCA-C-A-A--AA-C---A---CT-AC----CAG-TCA--A--C----C--T---GA----A-G-TA-C-A--C--------------\n",
      "str38: ------G-A---AG--C-GT--T-A---A-C-GT-GT-----T--GA---G---GA--AAA-G--A---C--A---G-C---T--T-A-G---GA-G---A--AC---A----AG--AG-CTG---G--G-----\n",
      "str39: A--CC---AGC--G--CA--C-T---TC----G--G--CAGC---G----GC-AG-C-A--C--C--T-C-G----G-CAGC--A-----C----C--TCA-G-C---A-GC-A---A--C--------------\n",
      "str40: A----TG--G---GA-CA---A---CT--T-A-T--T-C--CTA---TCA--T-G--T----G-C----C--A--AG--AG-----G-T---T-----T--T-AC--C---C--G---G--TGACC--A------\n",
      "str41: -----T-T-G-TAGATC--T---G--T--TC--TC-TA-A---ACGA--A-CT----T-----T-A--A---A--A-TC---T---G-TG--TG--G-T--TG--T-CA--CT--C-------------------\n",
      "str42: AA-CC---A---A---C---CA--ACT--T---TCG-A----T-C--TC---T----T----GT-AG-A-T--CT-GT----TC-T----C-T-A-----A--AC-G-A----A-CT----T-----TA------\n",
      "str43: ------G--G---G-T---TC-TG-C-CA---G--G--CA--TA-G-TC---T----T-----T---T--T---T--TC---T---G--GC--G--GC-C----CT---TG-T-G-TA-A---ACC-T-G-----\n",
      "str44: ------G--GCT-G--CA-T---G-CT--T-AGT-G--CA-CT-C-A-C-GC-AG--TA----T-A--A-T---TA---A--T-A--A--C-T-A-----AT---T--A--CT-G-T------------------\n",
      "str45: -----TG---C-A--T--G-C-T---T-A---GT-G--CA-CT-C-A-C-GC-AG--TA----T-A--A-T---TA---A--T-A--A--C-T-A-----AT---T--A--CT-G-T---C-G----T-------\n",
      "str46: -----T-T--C-----CA--CA--ACT--T---TC---CA-C--C-A--AGCT---CT----G-CA--A--GA-T---C--C-CA-GA-G--T--C----A-G---G---G---GC----CTG----T-------\n",
      "str47: -----T----CTA-A--A--C--GA---A-C--T--T-----TA--A--A---A---T---C-T--GT---G--T-G---GCT---G-T-CA---C--TC--G---GC-TGC-A--T-G-CT-----TAG-----\n",
      "str48: A--CC-G--G--A--T--G----G-C-C----G-CG-A----T----T----T----T-----TC-G----GA---GTC--CT--TG--G---G--G-----GAC--CA--CT--C-AGA---A---TAG-A---\n",
      "str49: ---C-T-T-G-TAGATC--T---G--T--TC--TC-TA-A---ACGA--A-CT----T-----T-A--A---A--A-TC---T---G-TG--TG--GCT---G--T-CA--CT----------------------\n",
      "str50: A----TG-AGC-A---C--T-A--A-------G-CG-A-AG--A--A-C--C-A-A--AAA-G-CAG-AC--A--A-T-A-C--A--A--C----C-C----G-CT--AT--TA-C-------------------\n",
      "\n",
      "solution is feasible: True\n"
     ]
    }
   ],
   "source": [
    "bench(scsp.example.load(\"nucleotide_n050k050.txt\"))"
   ]
  },
  {
   "cell_type": "code",
   "execution_count": null,
   "id": "Kclp",
   "metadata": {},
   "outputs": [
    {
     "name": "stdout",
     "output_type": "stream",
     "text": [
      "--- Condition (with 19 chars) ---\n",
      "str01: MALSYCPKGT\n",
      "str02: MQSSLNAIPV\n",
      "str03: MPLSYQHFRK\n",
      "str04: MEEHVNELHD\n",
      "str05: MSNFDAIRAL\n",
      "str06: MFRNQNSRNG\n",
      "str07: MFYAHAFGGY\n",
      "str08: MSKFTRRPYQ\n",
      "str09: MSFVAGVTAQ\n",
      "str10: MESLVPGFNE\n",
      "\n",
      "--- Solution (of length 49) ---\n",
      "  Sol: MESFAPLSYRNQEHVKFDANSCPGVTRSLNHAFIRKGPNEALGYQHDTV\n",
      "str01: M---A-LSY------------CP------------KG----------T-\n",
      "str02: M----------Q--------S------SLN-A-I---P----------V\n",
      "str03: M----PLSY--Q-H--F---------R--------K-------------\n",
      "str04: ME----------EHV----N-------------------E-L---HD--\n",
      "str05: M-S-------N-----FDA--------------IR-----AL-------\n",
      "str06: M--F-----RNQ-------NS-----R--N------G------------\n",
      "str07: M--F----Y---------A-----------HAF---G-----GY-----\n",
      "str08: M-S------------KF--------TR-------R--P-----YQ----\n",
      "str09: M-SF----------V---A----GVT-----A------------Q----\n",
      "str10: MES---L-------V-------PG--------F-----NE---------\n",
      "\n",
      "solution is feasible: True\n"
     ]
    }
   ],
   "source": [
    "bench(scsp.example.load(\"protein_n010k010.txt\"))"
   ]
  },
  {
   "cell_type": "code",
   "execution_count": null,
   "id": "emfo",
   "metadata": {},
   "outputs": [
    {
     "name": "stdout",
     "output_type": "stream",
     "text": [
      "--- Condition (with 20 chars) ---\n",
      "str01: MRHLNIDIETYSSNDIKNGVYKYADAEDFEILLFAYSIDGGEVECLDLTR\n",
      "str02: MERRAHRTHQNWDATKPRERRKQTQHRLTHPDDSIYPRIEKAEGRKEDHG\n",
      "str03: MEPGAFSTALFDALCDDILHRRLESQLRFGGVQIPPEVSDPRVYAGYALL\n",
      "str04: MGKFYYSNRRLAVFAQAQSRHLGGSYEQWLACVSGDSAFRAEVKARVQKD\n",
      "str05: FFRENLAFQQGKAREFPSEEARANSPTSRELWVRRGGNPLSEAGAERRGT\n",
      "str06: MDPSLTQVWAVEGSVLSAAVDTAETNDTEPDEGLSAENEGETRIIRITGS\n",
      "str07: MAFDFSVTGNTKLDTSGFTQGVSSMTVAAGTLIADLVKTASSQLTNLAQS\n",
      "str08: MAVILPSTYTDGTAACTNGSPDVVGTGTMWVNTILPGDFFWTPSGESVRV\n",
      "str09: MNTGIIDLFDNHVDSIPTILPHQLATLDYLVRTIIDENRSVLLFHIMGSG\n",
      "str10: MFVFLVLLPLVSSQCVNLRTRTQLPPAYTNSFTRGVYYPDKVFRSSVLHS\n",
      "str11: MDSKETILIEIIPKIKSYLLDTNISPKSYNDFISRNKNIFVINLYNVSTI\n",
      "str12: MLLSGKKKMLLDNYETAAARGRGGDERRRGWAFDRPAIVTKRDKSDRMAH\n",
      "str13: MNGEEDDNEQAAAEQQTKKAKREKPKQARKVTSEAWEHFDATDDGAECKH\n",
      "str14: MESLVPGFNEKTHVQLSLPVLQVRDVLVRGFGDSVEEVLSEARQHLKDGT\n",
      "str15: MRYIVSPQLVLQVGKGQEVERALYLTPYDYIDEKSPIYYFLRSHLNIQRP\n",
      "str16: MPRVPVYDSPQVSPNTVPQARLATPSFATPTFRGADAPAFQDTANQQARQ\n",
      "str17: MFVFLVLLPLVSSQCVNLRTRTQLPLAYTNSFTRGVYYPDKVFRSSVLHS\n",
      "str18: MFVFFVLLPLVSSQCVNLTTRTQLPPAYTNSFTRGVYYPDKVFRSSVLHS\n",
      "str19: MEAIISFAGIGINYKKLQSKLQHDFGRVLKALTVTARALPGQPKHIAIRQ\n",
      "str20: MASSGPERAEHQIILPESHLSSPLVKHKLLYYWKLTGLPLPDECDFDHLI\n",
      "str21: MESLVPGFNEKTHVQLSLPVLQVRDVLVRGFGDSVEEVLSEVRQHLKDGT\n",
      "str22: MLAPSPNSKIQLFNNINIDINYEHTLYFASVSAQNSFFAQWVVYSADKAI\n",
      "str23: MSAITETKPTIELPALAEGFQRYNKTPGFTCVLDRYDHGVINDSKIVLYN\n",
      "str24: MKNIAEFKKAPELAEKLLEVFSNLKGNSRSLDPMRAGKHDVVVIESTKKL\n",
      "str25: MPQPLKQSLDQSKWLREAEKHLRALESLVDSNLEEEKLKPQLSMGEDVQS\n",
      "str26: MFVFLVLLPLVSSQCVNLITRTQSYTNSFTRGVYYPDKVFRSSVLHSTQD\n",
      "str27: MKFDVLSLFAPWAKVDEQEYDQQLNNNLESITAPKFDDGATEIESERGDI\n",
      "str28: MFVFLVLLPLVSSQCVNFTNRTQLPSAYTNSFTRGVYYPDKVFRSSVLHS\n",
      "str29: MWSIIVLKLISIQPLLLVTSLPLYNPNMDSCCLISRITPELAGKLTWIFI\n",
      "str30: MESLVPGFNEKTHVQLSLPVLQVRDVLVRGFGDSVEEFLSEARQHLKDGT\n",
      "str31: MFVFLVLLPLVSSQCVMPLFNLITTTQSYTNFTRGVYYPDKVFRSSVLHL\n",
      "str32: MHQITVVSGPTEVSTCFGSLHPFQSLKPVMANALGVLEGKMFCSIGGRSL\n",
      "str33: MATLLRSLALFKRNKDKPPITSGSGGAIRGIKHIIIVPIPGDSSITTRSR\n",
      "str34: MESLVPGFNEKTHVQLSLPVLQVRDVLVRGFGDSMEEVLSEARQHLKDGT\n",
      "str35: MFVFLVLLPLVSSQCVNLTTGTQLPPAYTNSFTRGVYYPDKVFRSSVLHS\n",
      "str36: MANIINLWNGIVPMVQDVNVASITAFKSMIDETWDKKIEANTCISRKHRN\n",
      "str37: MLNRIQTLMKTANNYETIEILRNYLRLYIILARNEEGRGILIYDDNIDSV\n",
      "str38: MADPAGTNGEEGTGCNGWFYVEAVVEKKTGDAISDDENENDSDTGEDLVD\n",
      "str39: MFVFLVLLPLVSSQCVNLRTRTQLPPSYTNSFTRGVYYPDKVFRSSVLHS\n",
      "str40: MESLVPGFNEKTHVQLSLPVLQVCDVLVRGFGDSVEEVLSEARQHLKDGT\n",
      "str41: MNNQRKKTARPSFNMLKRARNRVSTVSQLAKRFSKGLLSGQGPMKLVMAF\n",
      "str42: MSNFDAIRALVDTDAYKLGHIHMYPEGTEYVLSNFTDRGSRIEGVTHTVH\n",
      "str43: MIELRHEVQGDLVTINVVETPEDLDGFRDFIRAHLICLAVDTETTGLDIY\n",
      "str44: MFVFLVLLPLVSSQCVMPLFNLITTNQSYTNSFTRGVYYPDKVFRSSVLH\n",
      "str45: MSKDLVARQALMTARMKADFVFFLFVLWKALSLPVPTRCQIDMAKKLSAG\n",
      "str46: MASLLKSLTLFKRTRDQPPLASGSGGAIRGIKHVIIVLIPGDSSIVTRSR\n",
      "str47: MRVRGILRNWQQWWIWTSLGFWMFMICSVVGNLWVTVYYGVPVWKEAKTT\n",
      "str48: MAVEPFPRRPITRPHASIEVDTSGIGGSAGSSEKVFCLIGQAEGGEPNTV\n",
      "str49: MFYAHAFGGYDENLHAFPGISSTVANDVRKYSVVSVYNKKYNIVKNKYMW\n",
      "str50: MANYSKPFLLDIVFNKDIKCINDSCSHSDCRYQSNSYVELRRNQALNKNL\n",
      "\n",
      "--- Solution (of length 876) ---\n",
      "  Sol: FFMADEAFDFGHIEIKFDLALNGEEDDIAEFIKKANELPAEGAFLAEKLLEQAAAEIPLKQQREHEIKKLNIDIELAFQQGKARAEFHPRSAEEAFAGIGIKDEKKLDLKMLLDNFDAIPNQRALNSGKILPEQLFNNINIDINRAEHQIILPESHLSSPLTAEGHIIDKKAKLFDAIEIIKLCDDILHMKNGEEGHPKIKQNREKPKQARKLESFLALFKNMLKQLRAEFGGLNKDKPPIRNRTAGCKNGNPRDQPPLASGSGGAIRGIKHIIIVADEFFIIKHKLLPFGFINEKPGDQGDILPPERGILQALMRNPITADAGHIELNPALAEGFQRMKADFPHASEAIELFANLKGNPSIRSLDPMRAGKHDTIKLDPHQLATLDRSGFRTQGVDFFLFILPGDLSDGPQLAKRFSIKGLLMPSGQGPMKLTEINSGIGGSAGSSEKVAAFCGLIGMAFQAEGGEPNSSQCVCDEIEMNFLIPLFNLIRDSTCFGKKLIADLNPEDLDGFRDFIRAHLICLASLHPFQRSLKPTGNQLPLAPARSAWYTNDSAVKLVREGFHTIRGAVDSPQYVLESYPFANDIKTVLPQARNGVEYGKLRDISVFTLYANKDSEITGQPLNRKQLHMACVFTLDRQNGSAVYPEDVFEINLGVRATSLEYPDSLVITFRGAWDSNLEKSTHGVALTNFRIQWYSAENPGIWTDAVRKSLGFMWYDTQSRHPVNMDLGIEKFDCSGAIVYSTILPDEKRCGATDHSPIYEQWLDCKARYFLISMICVSRGDNIFVSQVGESNTPGLWVTERKISYVEANLYQPKHARFRNYGKLTVDSMAYNIVQKAEPVKWLNKCISRAGERSVAKHRTQNYKFIMDGLPTVW\n",
      "str01: --M-----------------------------------------------------------R-H----LNIDIE--------------------------------------------------------------------------------------T---------------------------------------------------------------------------------------------------------------------------------------------------------------------------------------------------------------------------------------------------------------------------------------------------------------------------------------------------------------------------------------------------Y---S-----------------S-----------NDIK-------NGV-Y-K---------YA--D---------------A---------------ED-FEI-L------L---------F--A---------------------YS-----I--D------G----------------G-E--------V-------E--C------------LD------L---------------------T-------R-------------------------------------------------------------------------\n",
      "str02: --M--E--------------------------------------------------------R--------------------RA--H-R-----------------------------------------------------------------------T---H-----------------------------------QN---------------------------------------------------------------------------------------------------------------------------------------------------------------------------------------------------------------------------------------------------------------------------------------------------------------------------------------------------------W---D-A---------T---------------------K---P--R---E----R---------------------RKQ-------T---Q--------------------------------------------H-------R-------------------L------T---HP---D------D-S--I-Y----P---R--------I-E-----KA----------------------E----G-----RK----E-------------------D------------------------------H----------G-----\n",
      "str03: --M--E--------------------------------P--GAF----------------------------------------------S----------------------------------------------------------------------TA----------LFDA-----LCDDILH--------------R------R-LES----------QLR--FGG------------------------------------------V-----------------------Q--I-PPE----------------------------------------------------------------------------------------V-----------SD-P----R---------------------------------V---------------------------------------------------------------------------------------------------Y----A------G------------Y-------A------L-----------L----------------------------------------------------------------------------------------------------------------------------------------------------------------------------------------------------------------------------------------------------------------------------------\n",
      "str04: --M-------G----KF---------------------------------------------------------------------------------------------------------------------------------------------------------------------------------------------------------------------------------------------------------------------"
     ]
    },
    {
     "name": "stdout",
     "output_type": "stream",
     "text": [
      "-------------------------------------------------------------------------------------------------------------------------------------------------------------------------------------------------------------------------------------------------------------------------------Y------------------------Y---S----N---------R--------R------L-A--------------------VF--------A--------------------------------------------------Q---A---------------------QSRH-----LG-------G----S-----------------YEQWL---A--------CVS-GD----S---------------------A---------FR----------A-------E-VK--------A--R-V-----Q--K---D------\n",
      "str05: FF------------------------------------------------------------RE------N----LAFQQGKAR-EF-P-S-EEA---------------------------RA-NS----P-----------------------------T----------------------------------------------------S------------R-E---L--------------------------------------------------------------------------------------------------------------------------------------------------------------------------------------------------------------------------------------------------------------------------------------------------------------------------W------V---R------RG---------------------------G----------------N--------PL------------------S----E----------A--------------GA-----E-----------R----------------R---G-----T-------------------------------------------------------------------------------------------------------------------------------------------------------------\n",
      "str06: --M-D---------------------------------P---------------------------------------------------S---------------L------------------------------------------------------T---------------------------------------Q-------------------------------------------------------------------------V--------------------------------------------------------------------------------------------------------------------------------------------------------------------------------------------------------------------------------------------------------------------------------W-----AV----EG---------S---VL-S---A---------A---V------D----T--A----E-T----N------------D---------------------T--E-PD--------------E----G--L--------SAEN-------------------------------E-----G----------E-----T--------------R---I--I---R---I---------T-G--------S----------------------------------------------------------------------\n",
      "str07: --MA---FDF--------------------------------------------------------------------------------S----------------------------------------------------------------------------------------------------------------------------------------------------------------------------------------V-------------------------------------------T---G----N---------------------------------------------T-KLD-----T---SGF-TQGV-----------S---------S-----M---------T---------------VAA--G--------------------------------------T-----LIADL---------------------------------------------------VK-------T---A--S------S------------Q---------L------T---N---------L-------A-------Q--S------------------------------------------------------------------------------------------------------------------------------------------------------------------------------------------------------------------------------------------\n",
      "str08: --MA-------------------------------------------------------------------------------------------------------------------------------------------------------------------------------------------------------------------------------------------------------------------------------V-----I----L-P---------------------------------------------------------S---------------------------T------------------------------------------------------------------------------------------------------------------------------------------------------------------------------YT-D--------G--T---A-------------A------------------------------------------------C--T----NGS---P-DV------V----------------G---------T-G---T-------------------------MW--------VN-----------------TILP-----G--D---------------F-------------F------------W"
     ]
    },
    {
     "name": "stdout",
     "output_type": "stream",
     "text": [
      "-T-------------P--------------S----------------------GE-SV---R-------------V-\n",
      "str09: --M------------------N-------------------------------------------------------------------------------------------------------------------------------------------T--G-IID----LFD---------------N----H------------------------------------------------------------------------------V-D--------------------------------------------------------------------S--I---------P--------------TI-L-PHQLATLD------------------------------------------------------------------------------------------------------------------------------------------------------------------Y-------LVR----TI-------------------I-----------------D------------E------NR----------------S-V---------L------L---------F------------H--------I---------------------M--------------G------SG------------------------------------------------------------------------------------------------------------------------------------------\n",
      "str10: --M----F---------------------------------------------------------------------------------------------------------------------------------------------------------------------------------------------------------------------------------------------------------------------------V---F------L------------------------------------------------------------------------------------------------------------V---L--LP--L------------------------------------------V-------------------SSQCV------N-L-------R--T------------------R----------------------T--QLP--PA----YTN-S--------F-T-RG-V----Y----YP---D-K-V------------------F----------------R----------------S-----------------S-------V----------L----H------------S-----------------------------------------------------------------------------------------------------------------------------------------------------------------------------------\n",
      "str11: --M-D-------------------------------------------------------------------------------------S----------K-E---------------------------------------------------------T----I------L---IEII----------------PKIK-------------S----------------------------------------------------------------------------------------------------------------------------------------------------------------------------------------------------------------------------------------------------------------------------------------------------------------------------------------------Y-------L------------------L-------D--T------N---------IS---------------P---K---------------S--Y-------N-----------D-----F---------------------I---S-----------R----------------N------K--------------------------------------------------NIFV-----------------I-----NLY--------N-----V-S-------------------------------T-----I--------\n",
      "str12: --M---------------L-L---------------------------------------------------------------------S------G---K--KK----MLLDN--------------------------------------------------------------------------------------------------------------------------------------------------------------------------------------------------------"
     ]
    },
    {
     "name": "stdout",
     "output_type": "stream",
     "text": [
      "------------------------------------------------------------------------------------------------------------------------------------------------------------------------------------------------------------------------------------------Y----------E---T---A-------------A---------AR-G------R----------------G--------------------G------D--E-----R--------------R-------------------R---------G-W--A------F---D---R-P--------------AIV--T-----KR----D-----------K------S-------D-------------------R---------------------------MA---------------------------H----------------\n",
      "str13: --M------------------NGEEDD--------NE--------------QAAAE----QQ---------------------------------------------------------------------------------------------------T-------KKAK------------------------------REKPKQARK---------------------------------------------------------------V-------------------------------------------T--------------------------SEA-------------------------------------------------------------------------------------------------------------------------------------------------------------------------------------------------------W-----------E--H-----------------F--D-------A---------------T-----D---------------------D---G-A---E----------------------------------------------------------------------------------------C-------------K------H-----------------------------------------------------------------------------------------------------------------------\n",
      "str14: --M--E------------------------------------------------------------------------------------S---------------L------------------------------------------------------------------------------------------------------------------------------------------------------------------------V------------P-GF-NEK-----------------------T----H----------------------------------------------------------------------V---------------QL----S---L--P------------------------V-----L-----Q-----------V----------------RD---------------------------------------------------------------V-LVR-GF----G--DS---V-E-------------------E--------V--L-----SE-------------A------RQ--------------------------------------------H---L---------------------K-------D-----------G-------------T------------------------------------------------------------------------------------------------------------------------------------\n",
      "str15: --M-----------------------------------------------------------R------------------------------------------------------------------------------------------------------------------------------------------------------------------------------------------------------------------------------------------------------------------------------------------------------------------------------------------------------------------------------------------------------------------------------------------------------------------------------------------------------Y---------------I---V-SPQ--L-----------VL-Q----V--GK------------------GQ-------------------------E-V-E-----RA--L-Y---L--T------------------------------P---------------YD-----------------------Y--I--DEK-------SPIY---------YFL-------R------S----------------------------H--------L-------NI-Q-------------R---------------------P---\n",
      "str16: --M-----------------------------------P-----------------------R--------------------------------------------------------------------------------------------------------------------------------------------------------------------------------------------------------------------V------------P----------------------------------------------------------------------------------------------------------V---------------------------------------------------------------------------------------------------------------------------------------------------------Y--DS------------------PQ-V--S-P--N---TV-PQAR-------L---------A------T--P-------------------S-------F-------AT----P-----TFRGA-D----------A-------------P-----A------F-----Q-------D---------------T---------A-----------------------------N----Q------------------------Q---AR-----------------Q----"
     ]
    },
    {
     "name": "stdout",
     "output_type": "stream",
     "text": [
      "-----------------------------------\n",
      "str17: --M----F---------------------------------------------------------------------------------------------------------------------------------------------------------------------------------------------------------------------------------------------------------------------------V---F------L------------------------------------------------------------------------------------------------------------V---L--LP--L------------------------------------------V-------------------SSQCV------N-L-------R--T------------------R----------------------T--QLPLA------YTN-S--------F-T-RG-V----Y----YP---D-K-V------------------F----------------R----------------S-----------------S-------V----------L----H------------S-----------------------------------------------------------------------------------------------------------------------------------------------------------------------------------\n",
      "str18: --M----F---------------------------------------------------------------------------------------------------------------------------------------------------------------------------------------------------------------------------------------------------------------------------V---FF------------------------------------------------------------------------------------------------------------------V---L--LP--L------------------------------------------V-------------------SSQCV------N-L----------T-----------------------------------------T---------R----T----------------------Q--L---P---------P-A-----Y---------T---N--S-----------------FT--R--G--VY-----------------YPD---------------K----V----FR----S-------------S-------------V---L---------------------------HS----------------------------------------------------------------------------------------------------------------------\n",
      "str19: --M--EA-----I-I---------------------------------------------------------------------------S----FAGIGI-------------N--------------------------------------------------------------------------------------------------------------------------------------------------------------------------------------------------------------------------------------------------------------------------------------------------------------------------------------------------------------------------------------------------------------------------------------------------Y------K-----------------------------K--L-Q-------------S-------K--------L---Q-H-------D------------F----G-R----------V----------L-K-----ALT------------------V----------T-------------------A-----------R--A----------L------------------------------PG----------------QPKH-----------------I---A---------I-R-----------Q-------------\n",
      "str20: --MA--------------------------------------------------------------------------------------S-----------------------------------SG---PE-----------RAEHQIILPESHLSSPL------------------------------------------------------------------------------------------------------------------V-------KHKLL---------------------------------------------------------------------------------------------------------------------------------------------------------------------------------------------------------------------------------------------------------------------Y------------------------Y---------------------------------------------------------------------------------------------------W-----K------LT------------G---------L-----------P----L-----------------PDE--C---D---------------F----------D---------------------------------H--------L--------I-----------------------------------------\n",
      "str21: --M--E------------------------------------------------------------------------------------S---------------L------------------------------------------------------------------------------------------------------------------------------------------------------------------------V------------P-GF-NEK-----------------------T----H----------------------------------------------------------------------V---------------QL----S---L--P------------------------V-----L-----Q-----------V----------------R"
     ]
    },
    {
     "name": "stdout",
     "output_type": "stream",
     "text": [
      "D---------------------------------------------------------------V-LVR-GF----G--DS---V-E-------------------E--------V--L-----SE---------------V----RQ--------------------------------------------H---L---------------------K-------D-----------G-------------T------------------------------------------------------------------------------------------------------------------------------------\n",
      "str22: --M---------------LA------------------P---------------------------------------------------S----------------------------PN-----S-KI---QLFNNINIDIN---------------------------------------------------------------------------------------------------------------------------------------------------------------------------------------------------------------------------------------------------------------------------------------------------------------------------------------------------------------------------------------------------------------------Y----------E--HT-----------L--Y-FA----------------------SV--------S--------------A-------QN-S-------F--------------------F--A-------------------QW------------V----------------V----------------YS----------A-D-----------KA----I------------------------------------------------------------------------------------------------------\n",
      "str23: --M---------------------------------------------------------------------------------------SA------I--------------------------------------------------------------T-E--------------------------------------------------------------------------------T---K---P------------------------------------------------------------------T-----IEL-PALAEGFQR-------------------------------------------------------------------------------------------------------------------------------------------------------------------------------------------------------------------Y-N----K-------T-------P----------------------G-----------FT----------------------CV--LDR------Y--D-----------------------------------HGV------I------N-----D----S---------------------K------IV----L--------------Y----------------------N--------------------------------------------------------------------------------------------\n",
      "str24: --M------------K-----N-----IAEF-KKA---P-E---LAEKLLE--------------------------------------------------------------------------------------------------------------------------------------------------------------------------------------------------------------------------------V---F------------------------------------------------------------------S-------NLKGN-S-RSLDPMRAGKHD---------------------V-----------------------------------------------------V-----------------------V---IE-------------ST---KKL----------------------------------------------------------------------------------------------------------------------------------------------------------------------------------------------------------------------------------------------------------------------------------------------------------------------------------------------------------------------------------------\n",
      "str25: --M-----------------------------------P------------Q-----PLKQ-----------------------------S---------------LD-------------Q----S-K-----------------------------------------------------------------------------------------------------------------------------------------------------------------------------------------------------------------------------------------------------------------------------------------------------------------------------------------------------------------------------------------------------------------------------------W--------L-RE-------A--------E--------K-----------------------------------------H------L-R----A----------L-------E---SLV-------DSNLE------------------E--------------------------------EK------------L---K--------P---Q-L---------SM-----G---------E------------------------------------D------VQ------------S--------------------------\n",
      "str26: --M----F---------------------------------------------------------------------------------------------------------------------------"
     ]
    },
    {
     "name": "stdout",
     "output_type": "stream",
     "text": [
      "------------------------------------------------------------------------------------------------------------------------------------------------V---F------L------------------------------------------------------------------------------------------------------------V---L--LP--L------------------------------------------V-------------------SSQCV------N-LI---------T------------------R----------------------T--Q-------S--YTN-S--------F-T-RG-V----Y----YP---D-K-V------------------F----------------R----------------S-----------------S-------V----------L----H------------S-------T--------------Q-------D----------------------------------------------------------------------------------------------------------------------------------------------------\n",
      "str27: --M------------KFD-----------------------------------------------------------------------------------------------------------------------------------------------------------------------------------------------------------------------------------------------------------------V----------L-----------------------------------------------------------S----LFA-----P--------------------------------------------------------------------------------------------------------------------------------------------------------------------------------------------W-----A-K-V-----------D------E-------------Q-----EY----D----------------Q-----QL-----------N------------N------------------------NLE-S----------I-----------T-A----------------P--------KFD------------D----GAT------E-----------I-----------------ES--------ER--------------------G----D-----I-----------------------------------------\n",
      "str28: --M----F---------------------------------------------------------------------------------------------------------------------------------------------------------------------------------------------------------------------------------------------------------------------------V---F------L------------------------------------------------------------------------------------------------------------V---L--LP--L------------------------------------------V-------------------SSQCV------NF-----------T----------N-------R----------------------T--QLP-----SA-YTN-S--------F-T-RG-V----Y----YP---D-K-V------------------F----------------R----------------S-----------------S-------V----------L----H------------S-----------------------------------------------------------------------------------------------------------------------------------------------------------------------------------\n",
      "str29: --M-------------------------------------------------------------------------------------------------------------------------------------------------------------------------------------------------------------------------------------------------------------------------------------------------------------------------------------------------------------------------------------------------------------------------------------------------------------------------------------------------------------------------------------------"
     ]
    },
    {
     "name": "stdout",
     "output_type": "stream",
     "text": [
      "----------------------W----S-----------I-------------------I--VL----------KL--IS-----------I--QPL----L-------L-------V--------------TSL--P--L----------------------------Y---NP------------------------NMD--------S--------------C--------------C-----LIS-----R---I---------TP-----E---------L-----A-----GKLT----------------W----I-----------------FI--------\n",
      "str30: --M--E------------------------------------------------------------------------------------S---------------L------------------------------------------------------------------------------------------------------------------------------------------------------------------------V------------P-GF-NEK-----------------------T----H----------------------------------------------------------------------V---------------QL----S---L--P------------------------V-----L-----Q-----------V----------------RD---------------------------------------------------------------V-LVR-GF----G--DS---V-E-------------------E---------F-L-----SE-------------A------RQ--------------------------------------------H---L---------------------K-------D-----------G-------------T------------------------------------------------------------------------------------------------------------------------------------\n",
      "str31: --M----F---------------------------------------------------------------------------------------------------------------------------------------------------------------------------------------------------------------------------------------------------------------------------V---F------L------------------------------------------------------------------------------------------------------------V---L--LP--L------------------------------------------V-------------------SSQCV-----M----PLFNLI---T-----------------------------------------T--------------T----------------------Q----SY-------T------N------------FT---------------R---------------G--VY-----------------YPD---------------K----V----FR----S-------------S-------------V---L---------------------------H-------L---------------------------------------------------------------------------------------------------------------\n",
      "str32: --M--------H---------------------------------------Q----I--------------------------------------------------------------------------------------------------------T-----------------------------------------------------------------------------------------------------------------V-----------------------------------------------------------------------------------------------------------------------V-----------S-GP----------------------TE--------------V-------------------S-----------------------TCFG---------------------------SLHPFQ-SLKP--------------------V-------------------------------------------------------------------------MA--------N--A----------LGV----LE----------G-------K---------------------------------M------------------F-CS--I------------G----------------------------G--------------------R--S-----L----------------------------------------------------------------\n",
      "str33: --MA-------------------------------------------------------------------------------------------------------------------------------------------------------------T-----------L--------L--------------------R----------S-LALFK------R------NKDKPPI---T---------------SGSGGAIRGIKHIIIV------------P---I---PGD-----------------------------------------------S-------------SI------------T---------T--RS--R----------------------------------------------------------------------------------------------------------------------------------------------------------------------------------------------------------------------------------------------------------------------------------------------------------------------------------------------------------------------------------------------------------------------------------------------------------------------------------------------------\n",
      "str34: --M--E------------------------------------------------------------------------------------S---------------L----------------------------------------------------------------------"
     ]
    },
    {
     "name": "stdout",
     "output_type": "stream",
     "text": [
      "--------------------------------------------------------------------------------------------------V------------P-GF-NEK-----------------------T----H----------------------------------------------------------------------V---------------QL----S---L--P------------------------V-----L-----Q-----------V----------------RD---------------------------------------------------------------V-LVR-GF----G--DS---------------------------------------------------------M----------------E---E----V----L----S-------------E------A----R-Q----------------------------H-----L---K-D--G-----T------------------------------------------------------------------------------------------------------------------------------------\n",
      "str35: --M----F---------------------------------------------------------------------------------------------------------------------------------------------------------------------------------------------------------------------------------------------------------------------------V---F------L------------------------------------------------------------------------------------------------------------V---L--LP--L------------------------------------------V-------------------SSQCV------N-L----------T-----------------------------------------TG-------------T----------------------Q--L---P---------P-A-----Y---------T---N--S-----------------FT--R--G--VY-----------------YPD---------------K----V----FR----S-------------S-------------V---L---------------------------HS----------------------------------------------------------------------------------------------------------------------\n",
      "str36: --MA-----------------N-----I---I---N-L------------------------------------------------------------------------------------------------------------------------------------------------------------------------------------------------------------------------------------------------------------------------------------------------------------------------------------------------------------------------------------------------------------------------------------------------------------------------------------------------------------------------------W--N---------G---I---V--P--------------------------------------------------------M--V-----Q--------DV---N--V-A-S--------IT---A----------------F------------------KS---M---------------I---D-------------E-----T--------W-D-K-----------------------------------KI---EAN---------------T--------------------CISR-------KHR--N------------\n",
      "str37: --M---------------L--N----------------------------------------R---I-----------Q----------------------------------------------------------------------------------T-----------L---------------MK-----------------------------------------------------TA---N-N---------------------------------------------------------------------------------------------------------------------------------------------------------------------------------------------------------------------------------------------------------------------------------------------------------Y----------E---TI-"
     ]
    },
    {
     "name": "stdout",
     "output_type": "stream",
     "text": [
      "----------E-------I---L---RN---Y--LR------LY------I---------------------------------I-L---A-------------R-----N-E------------------E--G------R---G-----------------I--------------L-------------IY----D----------------DNI-------------------------------------------DS-----V----------------------------------------\n",
      "str38: --MAD---------------------------------PA-G-----------------------------------------------------------------------------------------------------------------------T-----------------------------NGEEG------------------------------------------------T-GC-NG---------------------------------------------------------------------------------------------------------------------------------------------------------------------------------------------------------------------------------------------------------------------------------------------------------W-------------F-----------YV-E----A-----V-------VE--K------------K----TG----------------D-----A--------I-------S----D----------D---E---------N--------EN-----D----S------DT----------G-E--D----------L--------------------------------V---D---------------------------------------------------------------------------------------------\n",
      "str39: --M----F---------------------------------------------------------------------------------------------------------------------------------------------------------------------------------------------------------------------------------------------------------------------------V---F------L------------------------------------------------------------------------------------------------------------V---L--LP--L------------------------------------------V-------------------SSQCV------N-L-------R--T------------------R----------------------T--QLP--P--S--YTN-S--------F-T-RG-V----Y----YP---D-K-V------------------F----------------R----------------S-----------------S-------V----------L----H------------S-----------------------------------------------------------------------------------------------------------------------------------------------------------------------------------\n",
      "str40: --M--E------------------------------------------------------------------------------------S---------------L------------------------------------------------------------------------------------------------------------------------------------------------------------------------V------------P-GF-NEK-----------------------T----H----------------------------------------------------------------------V---------------QL----S---L--P------------------------V-----L-----Q-----------VCD-------------------------------------------------------------------------------V-LVR-GF----G--DS---V-E-------------------E--------V--L-----SE-------------A------RQ--------------------------------------------H---L---------------------K-------D-----------G-------------T------------------------------------------------------------------------------------------------------------------------------------\n",
      "str41: --M------------------N-------------N---------------Q----------R----KK--------------------------------------------------------------------------------------------TA----------------------------------------R--P-------SF-----NMLK--RA------------RNR-------------------------------V----------------------------------------------------------------------S---------------------------T--------------------V-----------S---QLAKRFS-KGLL--SGQGPMKL----------------V--------MAF-------------------------------------------------------------------------------------------------------------------------------------------------------------------------------------------------------------------------------------------------------------------------------------------------------------------------------------------------------------------------------------------------------------------------------\n",
      "str42: --M---------------------------------------------------------------------------------------S-----------------------NFDAI---RAL-------------------------------------------------------------------------------------"
     ]
    },
    {
     "name": "stdout",
     "output_type": "stream",
     "text": [
      "-----------------------------------------------------------------V-D-----------------------------------------T-DA----------------------------------------------------------------------------------------------------------------------------------------------------------------------------------------------------------------------------------Y------KL---G-H-I--------------------------------------------------------------HM--------------YPE-------G---T--EY----V----------L--S-------NF-------------TD--R---G-------SR--------IE-----G--V--T------------H-------------------------------------T----V----------------H-----------------------------------------------------------\n",
      "str43: --M---------IE----L-------------------------------------------R-HE-----------------------------------------------------------------------------------------------------------------------------------------------------------------------------------------------------------------V-----------------------QGD-L-------------------------------------------------------------------------------------------V-------------------------------------T-IN------------V-----------------------V--E----------------T-----------PEDLDGFRDFIRAHLICLA-------------------------------V--------------D----------------T---------E----------T---------TG--L-------------D--------------I----------Y---------------------------------------------------------------------------------------------------------------------------------------------------------------------------------------------------------------------\n",
      "str44: --M----F---------------------------------------------------------------------------------------------------------------------------------------------------------------------------------------------------------------------------------------------------------------------------V---F------L------------------------------------------------------------------------------------------------------------V---L--LP--L------------------------------------------V-------------------SSQCV-----M----PLFNLI---T-----------------------------------------T-NQ-------S--YTN-S--------F-T-RG-V----Y----YP---D-K-V------------------F----------------R----------------S-----------------S-------V----------L----H------------------------------------------------------------------------------------------------------------------------------------------------------------------------------------------------\n",
      "str45: --M---------------------------------------------------------------------------------------S----------KD---L------------------------------------------------------------------------------------------------------------------------------------------------------------------------VA------------------------------R---QALM----TA----------------RMKADF----------------------------------------------------V-FFLF------------------------------------------------V-----L--------------------------------------------------------------------------------------------W-------K-----------A-------L-S----------LP-----V-------"
     ]
    },
    {
     "name": "stdout",
     "output_type": "stream",
     "text": [
      "-----------------P------------T--R-------------------------------------------------------------------------------------------------C--------------------------Q----------I--------D-----------------------------------------------MA-----K----K-L----S-AG-----------------------\n",
      "str46: --MA--------------------------------------------------------------------------------------S---------------L-LK----------------S---L------------------------------T-----------LF------K---------------------R----------------------------------------T--------RDQPPLASGSGGAIRGIKH---V-----II----------------------------------------------------------------------------------------------------------------V---L-I-PGD-S---------SI------------------------------V-------------------------------------------T------------------R-----------S-----R---------------------------------------------------------------------------------------------------------------------------------------------------------------------------------------------------------------------------------------------------------------------------------------------------------------------------------------------------------\n",
      "str47: --M-----------------------------------------------------------R--------------------------------------------------------------------------------------------------------------------------------------------------------------------------------------------------------------------V-------------------------------RGIL----RN---------------------------------------------------------------------------------------------------------------------------------------------------------------------------------------------------------------------------------------W------------------------Q-----------------Q----------------------------------------------------------------------------------W-------------------W-------IWT-----SLGF-W----------M------F-----------------------------------------MIC-S------V--VG--N---LWVT------V----Y---------YG---V------------PV-W--K------E---AK--T-----------T--\n",
      "str48: --MA-------------------------------------------------------------------------------------------------------------------------------------------------------------------------------------------------------------------------------------------------------------------------------V--E---------PF------P----------R-------R-PIT-----------------R-----PHAS--IE--------------------------------------------VD------------------------------------T---SGIGGSAGSSEKV--FC-LIG---QAEGGEPN------------------------T-------------------------------------------------------------V--------------------------------------------------------------------------------------------------------------------------------------------------------------------------------------------------------------------------------------------------------------------------------------------------------------------------------\n",
      "str49: --M----F----------------------------------------------------------------------------------------------------------------"
     ]
    },
    {
     "name": "stdout",
     "output_type": "stream",
     "text": [
      "---------------------------------------------------------------------------------------------------------------------------------------------------------------------------------------------------------------------------------------------------------------------------------------------------------------------------------------------------------------------------------------------------------------------------------------------Y----A--------H----A------------F-------------G---G----------Y---D-E------N---LH-A--F-----------P--------G-------------I-------S----ST--VA--N---------------D-VRK------Y---S---V---------------V-S-----------------------------------V---------------------------Y---N----K--------K-------YNIV-K-------NK-----------------Y---M------W\n",
      "str50: --MA-----------------N-----------------------------------------------------------------------------------------------------------------------------------------------------------------------------------------------------------------------------------------------------------------------------------------------------------------------------------------------------------------------------------------------------------------------------------------------------------------------------------------------------------------------------------------------Y---S--K---------------P--------F-------L-----------L-DI-VF----NKD--I-------K-----C-------------------IN-----------DS---------------------------------------------------------------------CS-------------------HS-------DC--RY-----------------Q---SN-----------SYVE--L------R-RN--------------Q-A-----LNK----------------N-------L----\n",
      "\n",
      "solution is feasible: True\n"
     ]
    }
   ],
   "source": [
    "bench(scsp.example.load(\"protein_n050k050.txt\"))"
   ]
  }
 ],
 "metadata": {},
 "nbformat": 4,
 "nbformat_minor": 5
}
