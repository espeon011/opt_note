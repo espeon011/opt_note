{
 "cells": [
  {
   "cell_type": "code",
   "execution_count": null,
   "id": "setup",
   "metadata": {
    "marimo": {
     "name": "setup"
    }
   },
   "outputs": [],
   "source": [
    "import opt_note.scsp as scsp\n",
    "import hexaly.optimizer"
   ]
  },
  {
   "cell_type": "code",
   "execution_count": null,
   "id": "Hbol",
   "metadata": {},
   "outputs": [],
   "source": [
    "import marimo as mo\n",
    "import nbformat"
   ]
  },
  {
   "cell_type": "markdown",
   "id": "MJUe",
   "metadata": {
    "marimo": {
     "config": {
      "hide_code": true
     }
    }
   },
   "source": [
    "# ベンチマーク"
   ]
  },
  {
   "cell_type": "code",
   "execution_count": null,
   "id": "vblA",
   "metadata": {
    "marimo": {
     "name": "*bench"
    }
   },
   "outputs": [],
   "source": [
    "def bench(instance: list[str]) -> None:\n",
    "    model = scsp.model.wmm_hexaly_init.create_model(instance).solve()\n",
    "    solution = model.to_solution()\n",
    "    scsp.util.show(instance)\n",
    "    if solution is not None:\n",
    "        scsp.util.show(instance, solution)\n",
    "        print(f\"solution is feasible: {scsp.util.is_feasible(instance, solution)}\")\n",
    "    else:\n",
    "        print(\"--- Solution not found ---\\n\")\n",
    "\n",
    "    print(f\"solution is optimal: {model.hxoptimizer.solution.status == hexaly.optimizer.HxSolutionStatus.OPTIMAL}\")\n",
    "    print(f\"bset bound: {model.hxoptimizer.solution.get_objective_bound(0)}\")"
   ]
  },
  {
   "cell_type": "code",
   "execution_count": null,
   "id": "bkHC",
   "metadata": {},
   "outputs": [
    {
     "name": "stdout",
     "output_type": "stream",
     "text": [
      "--- Condition (with 25 chars) ---\n",
      "str1: tkgnkuhmpxnhtqgxzvxis\n",
      "str2: iojiqfolnbxxcvsuqpvissbxf\n",
      "str3: ulcinycosovozpplp\n",
      "str4: igevazgbrddbcsvrvnngf\n",
      "\n",
      "--- Solution (of length 64) ---\n",
      " Sol: iojtkgnkulcihmpxenyhtqvazgxbrddbcosovrfozpplvnnbxxcvsuqpvissbgxf\n",
      "str1: ---tkgnku---hmpx-n-htq---gx-------------z---v---x--------is-----\n",
      "str2: ioj--------i---------q----------------fo---l-n-bxxcvsuqpvissb-xf\n",
      "str3: --------ulci-----ny-------------cosov--ozppl-----------p--------\n",
      "str4: i----g----------e-----vazg-brddbc-s-vr------vnn--------------g-f\n",
      "\n",
      "solution is feasible: True\n",
      "solution is optimal: False\n",
      "bset bound: 0\n"
     ]
    }
   ],
   "source": [
    "bench(scsp.example.load(\"uniform_q26n004k015-025.txt\"))"
   ]
  },
  {
   "cell_type": "code",
   "execution_count": null,
   "id": "lEQa",
   "metadata": {},
   "outputs": [
    {
     "name": "stdout",
     "output_type": "stream",
     "text": [
      "--- Condition (with 26 chars) ---\n",
      "str1: tkgnkuhmpxnhtqgxzvxis\n",
      "str2: iojiqfolnbxxcvsuqpvissbxf\n",
      "str3: ulcinycosovozpplp\n",
      "str4: igevazgbrddbcsvrvnngf\n",
      "str5: pyplrzxucpmqvgtdfuivcdsbo\n",
      "str6: pbdevdcvdpfzsmsbroqvbbh\n",
      "str7: enbczfjtvxerzbrvigple\n",
      "str8: rxwxqkrdrlctodtmprpxwd\n",
      "\n",
      "--- Solution (of length 105) ---\n",
      " Sol: pietokgnbdcevayplrzxwxqkrudchvdpmqfjtvgpxebrlcitdonhdbtqfuycosovozslnmpsbrvinngxzvplxwcdvsuboqpvissbxbhef\n",
      "str1: ---t-kgn---------------k-u--h---m------px---------nh--tq----------------------gxzv--x-----------is-------\n",
      "str2: -i--o------------------------------j----------i--------qf---o------ln---b------x----x-c-vsu--qpvissbx---f\n",
      "str3: -------------------------u------------------lci---n-------ycosovoz----p-----------pl----------p----------\n",
      "str4: -i----g----eva----z-------------------g---br----d---db-----c-s-v---------rv-nng-------------------------f\n",
      "str5: p-------------yplrzx-----u-c---pmq---vg--------td-------fu-----------------i-----v----cd-s-bo------------\n",
      "str6: p-------bd-ev-------------dc-vdp--f------------------------------zs--m-sbr------------------oq-v---b-bh--\n",
      "str7: --e----nb-c-------z---------------fjtv--xe-r---------------------z------brvi--g---pl-------------------e-\n",
      "str8: -----------------r-xwxqkr-d----------------rlc-t-o--d-t--------------mp--r--------p-xw-d-----------------\n",
      "\n",
      "solution is feasible: True\n",
      "solution is optimal: False\n",
      "bset bound: 0\n"
     ]
    }
   ],
   "source": [
    "bench(scsp.example.load(\"uniform_q26n008k015-025.txt\"))"
   ]
  },
  {
   "cell_type": "code",
   "execution_count": null,
   "id": "PKri",
   "metadata": {},
   "outputs": [
    {
     "name": "stdout",
     "output_type": "stream",
     "text": [
      "--- Condition (with 26 chars) ---\n",
      "str01: tkgnkuhmpxnhtqgxzvxis\n",
      "str02: iojiqfolnbxxcvsuqpvissbxf\n",
      "str03: ulcinycosovozpplp\n",
      "str04: igevazgbrddbcsvrvnngf\n",
      "str05: pyplrzxucpmqvgtdfuivcdsbo\n",
      "str06: pbdevdcvdpfzsmsbroqvbbh\n",
      "str07: enbczfjtvxerzbrvigple\n",
      "str08: rxwxqkrdrlctodtmprpxwd\n",
      "str09: kkqafigqjwokkskrblg\n",
      "str10: lxxpabivbvzkozzvd\n",
      "str11: krifsavncdqwhzc\n",
      "str12: qaxudgqvqcewbfgijowwy\n",
      "str13: rsxqjnfpadiusiqbezhkohmg\n",
      "str14: iwshvhcomiuvddm\n",
      "str15: htxxqjzqbctbakn\n",
      "str16: xusfcfzpeecvwantfmgqzu\n",
      "\n",
      "--- Solution (of length 150) ---\n",
      "  Sol: irpkxwsxqkhtojgenbvyplrdiqfaxxusfczpafdigbrqjzdevdolncitvbxucspevrkgnkuhmqcewbodpfxcvgtzksnmiuycosbroqpvdfwauibezhkntskrjoqgxzvppxwcdisblhxfmgeqopzuwy\n",
      "str01: -----------t------------------------------------------------------kgnkuhm-------p-x-------n----------------------h--t-----qgxzv--x---is---------------\n",
      "str02: i-----------oj----------iqf-----------------------oln----bx-----------------------xcv----s---u-------qpv-----i-------s----------------sb--xf----------\n",
      "str03: ------------------------------u--------------------l-ci-------------n-------------------------ycos--o--v-----------------o---z-pp-------l--------p----\n",
      "str04: i-------------ge--v--------a------z-----gbr---d--d-------b--cs--vr------------------v-----n------------------------n-------g---------------f----------\n",
      "str05: --p----------------yplr-----------z-----------------------xuc-p---------mq----------vgt-----------------df--ui----------------v----cd-sb--------o-----\n",
      "str06: --p--------------b-----d-----------------------evd---c--v----------------------dpf-----z-s-m-----sbroq-v------b------------------------b-h------------\n",
      "str07: ---------------enb---------------cz--f------j----------tv-x----e-r---------------------z----------br---v-----i-------------g---p--------l-----e-------\n",
      "str08: -r--xw-xqk------------rd------------------r--------l-c-t----------------------od------t----m----------p----------------r-------p-xw-d-----------------\n",
      "str09: ---k-----k---------------q-a----f------ig--qj-------------------------------w-o---------k-------------------------k--skr---------------bl----g--------\n",
      "str10: ---------------------l------xx-----pa----b------------i-vb------v----------------------zk-------o---------------z------------zv-----d-----------------\n",
      "str11: ---k------------------r-i-f----s----a-----------v---nc-------------------------d---------------------q----w------h-----------z-----c------------------\n",
      "str12: --------q------------------ax-u-------d-g--q----v------------------------qcewb---f---g------i---------------------------jo--------w-----------------wy\n",
      "str13: -r----sxq----j--n---------f--------pa-di-------------------u-s------------------------------i--------q--------bezhk------o---------------h--mg--------\n",
      "str14: i----ws---h-------v----------------------------------------------------h--c---o------------miu---------vd---------------------------d-------m---------\n",
      "str15: ----------ht----------------xx-------------qjz---------------------------q---b-----c--t-----------b--------a------kn----------------------------------\n",
      "str16: ----x-------------------------usfc---f-------z----------------pe-----------e-------cv---------------------wa-------nt----------------------fmg-q--zu--\n",
      "\n",
      "solution is feasible: True\n",
      "solution is optimal: False\n",
      "bset bound: 0\n"
     ]
    }
   ],
   "source": [
    "bench(scsp.example.load(\"uniform_q26n016k015-025.txt\"))"
   ]
  },
  {
   "cell_type": "code",
   "execution_count": null,
   "id": "Xref",
   "metadata": {},
   "outputs": [
    {
     "name": "stdout",
     "output_type": "stream",
     "text": [
      "--- Condition (with 5 chars) ---\n",
      "str01: dcbccdbcce\n",
      "str02: bddbeeeebd\n",
      "str03: cacdeecebe\n",
      "str04: aeddddebdd\n",
      "str05: acbeecabce\n",
      "str06: bbabebdcba\n",
      "str07: bbaeaebada\n",
      "str08: eeeecbdbee\n",
      "str09: ccdeedadcd\n",
      "str10: bdabdbeaad\n",
      "\n",
      "--- Solution (of length 27) ---\n",
      "  Sol: bbaedcdbeacdeecbdbeacbdacde\n",
      "str01: ----dc-b--c---c-db--c---c-e\n",
      "str02: b---d-dbe---ee----e--bd----\n",
      "str03: -----c---acdeec---e--b----e\n",
      "str04: --aed-d----d----d-e--bd--d-\n",
      "str05: --a--c-be---e-c----a-b--c-e\n",
      "str06: bba----be------bd---cb-a---\n",
      "str07: bbae-----a--e--b---a--da---\n",
      "str08: ---e----e---eecbdbe-------e\n",
      "str09: -----c----cdee--d--a--d-cd-\n",
      "str10: b---d----a-----bdbea---a-d-\n",
      "\n",
      "solution is feasible: True\n",
      "solution is optimal: False\n",
      "bset bound: 0\n"
     ]
    }
   ],
   "source": [
    "bench(scsp.example.load(\"uniform_q05n010k010-010.txt\"))"
   ]
  },
  {
   "cell_type": "code",
   "execution_count": null,
   "id": "SFPL",
   "metadata": {},
   "outputs": [
    {
     "name": "stdout",
     "output_type": "stream",
     "text": [
      "--- Condition (with 5 chars) ---\n",
      "str01: dcbccdbcce\n",
      "str02: bddbeeeebd\n",
      "str03: cacdeecebe\n",
      "str04: aeddddebdd\n",
      "str05: acbeecabce\n",
      "str06: bbabebdcba\n",
      "str07: bbaeaebada\n",
      "str08: eeeecbdbee\n",
      "str09: ccdeedadcd\n",
      "str10: bdabdbeaad\n",
      "str11: ededaaaeaa\n",
      "str12: aaeaabeeac\n",
      "str13: eaabcaccdb\n",
      "str14: bdeeadeade\n",
      "str15: caedadeeed\n",
      "str16: ebcadbabbe\n",
      "str17: ddceeabdea\n",
      "str18: dabcddeaec\n",
      "str19: aadceedaab\n",
      "str20: aeecceeeaa\n",
      "str21: bbdaecaade\n",
      "str22: dacedaedab\n",
      "str23: aaeabbbbce\n",
      "str24: dedbcbcaab\n",
      "str25: dbdaaebbcb\n",
      "str26: debedbebac\n",
      "str27: ceebcdcbde\n",
      "str28: dbedaadaab\n",
      "str29: cccdcbebdc\n",
      "str30: aeeacdbcbd\n",
      "str31: dacbeacccd\n",
      "str32: ecebccdbdb\n",
      "str33: ddbbcedabb\n",
      "str34: aaeabaaeba\n",
      "str35: ecbbcaadcd\n",
      "str36: debccecdbc\n",
      "str37: daacbaeebc\n",
      "str38: adabeaacce\n",
      "str39: daecdbacaa\n",
      "str40: dacbbdcedc\n",
      "str41: dedbeebbde\n",
      "str42: cdadcdcdaa\n",
      "str43: ceedcbaeed\n",
      "str44: ceaecaaaca\n",
      "str45: dcccebbbad\n",
      "str46: baeeaebbde\n",
      "str47: dbdebaccdb\n",
      "str48: ebcbeedaea\n",
      "str49: aeeebbdbca\n",
      "str50: dbdabcecbb\n",
      "\n",
      "--- Solution (of length 34) ---\n",
      "  Sol: dacebdaecdbaecdbecabdebacedabacdeb\n",
      "str01: d-c-b---c----cdb-c------ce--------\n",
      "str02: ----bd---db-e---e----e---e--b--d--\n",
      "str03: --c---a-cd--e---ec---eb--e--------\n",
      "str04: -a-e-d---d----d-----deb---d----d--\n",
      "str05: -ac-b--e----ec----ab----ce--------\n",
      "str06: ----b-----ba---be--bd---c---ba----\n",
      "str07: ----b-----bae-----a--eba--da------\n",
      "str08: ---e---e----e---ec-bd-b--e------e-\n",
      "str09: --c-----cd--e---e---d--a--d---cd--\n",
      "str10: ----bda---b---dbe-a----a--d-------\n",
      "str11: ---e-d-e-d-a------a----a-e-a-a----\n",
      "str12: -a----ae---a------ab-e---e-a--c---\n",
      "str13: ---e--a----a---b-ca-----c-----cd-b\n",
      "str14: ----bd-e----e-----a-de-a--d-----e-\n",
      "str15: --c---ae-d-a--d-e----e---ed-------\n",
      "str16: ---eb---c--a--db--ab--b--e--------\n",
      "str17: d----d--c---e---e-abde-a----------\n",
      "str18: da--b---cd----d-e-a--e--c---------\n",
      "str19: -a----a--d---c--e----e----da-a---b\n",
      "str20: -a-e---ec----c--e----e---e-a-a----\n",
      "str21: ----b-----b---d---a--e--c--a-a-de-\n",
      "str22: dace-dae-d-a---b------------------\n",
      "str23: -a----ae---a---b---b--b-----b-c-e-\n",
      "str24: d--e-d----b--c-b-ca----a----b-----\n",
      "str25: d---bda----ae--b---b----c---b-----\n",
      "str26: d--eb--e-db-e--b--a-----c---------\n",
      "str27: --ce---e--b--cd--c-bde------------\n",
      "str28: d---b--e-d-a------a-d--a---ab-----\n",
      "str29: --c-----c----cd--c-b-eb---d---c---\n",
      "str30: -a-e---e---a-cdb-c-bd-------------\n",
      "str31: dac-b--e---a-c---c------c-d-------\n",
      "str32: ---e----c---e--b-c------c-d-b--d-b\n",
      "str33: d----d----b----b-c---e----dab----b\n",
      "str34: -a----ae---a---b--a----a-e--ba----\n",
      "str35: ---e----c-b----b-ca----a--d---cd--\n",
      "str36: d--eb---c----c--ec--d-b-c---------\n",
      "str37: da----a-c-bae---e--b----c---------\n",
      "str38: -a---da---b-e-----a----ac-----c-e-\n",
      "str39: da-e----cdba-c----a----a----------\n",
      "str40: dac-b-----b---d--c---e----d---c---\n",
      "str41: d--e-d----b-e---e--b--b---d-----e-\n",
      "str42: --c--da--d---cd--c--d--a---a------\n",
      "str43: --ce---e-d---c-b--a--e---ed-------\n",
      "str44: --ce--aec--a------a----ac--a------\n",
      "str45: d-c-----c----c--e--b--b-----ba-d--\n",
      "str46: ----b-ae----e-----a--eb-----b--de-\n",
      "str47: d---bd-e--ba-c---c--d-b-----------\n",
      "str48: ---eb---c-b-e---e---d--a-e-a------\n",
      "str49: -a-e---e----e--b---bd-b-c--a------\n",
      "str50: d---bda---b--c--ec-b--b-----------\n",
      "\n",
      "solution is feasible: True\n",
      "solution is optimal: False\n",
      "bset bound: 0\n"
     ]
    }
   ],
   "source": [
    "bench(scsp.example.load(\"uniform_q05n050k010-010.txt\"))"
   ]
  },
  {
   "cell_type": "code",
   "execution_count": null,
   "id": "BYtC",
   "metadata": {},
   "outputs": [
    {
     "name": "stdout",
     "output_type": "stream",
     "text": [
      "--- Condition (with 4 chars) ---\n",
      "str01: ATGGGATACG\n",
      "str02: ATACCTTCCC\n",
      "str03: CACGAATTGA\n",
      "str04: TAAAATCTGT\n",
      "str05: AGGTAACAAA\n",
      "str06: TTCCTAGGTA\n",
      "str07: TTGTAGATCT\n",
      "str08: TGGGAAGTTC\n",
      "str09: TTCCACAACT\n",
      "str10: TCTAAACGAA\n",
      "\n",
      "--- Solution (of length 24) ---\n",
      "  Sol: TATGCGTACGACTATCGTACGTAC\n",
      "str01: -ATG-G---GA-TA-CG-------\n",
      "str02: -AT----AC--CT-TC---C---C\n",
      "str03: ----C--ACGA--AT--T--G-A-\n",
      "str04: TA-----A--A--ATC-T--GT--\n",
      "str05: -A-G-GTA--AC-A----A---A-\n",
      "str06: T-T-C---C---TA--G---GTA-\n",
      "str07: T-TG--TA-GA-T--C-T------\n",
      "str08: T--G-G---GA--A--GT---T-C\n",
      "str09: T-T-C---C-AC-A----AC-T--\n",
      "str10: T---C-TA--A--A-CG-A---A-\n",
      "\n",
      "solution is feasible: True\n",
      "solution is optimal: False\n",
      "bset bound: 0\n"
     ]
    }
   ],
   "source": [
    "bench(scsp.example.load(\"nucleotide_n010k010.txt\"))"
   ]
  },
  {
   "cell_type": "code",
   "execution_count": null,
   "id": "RGSE",
   "metadata": {},
   "outputs": [
    {
     "name": "stdout",
     "output_type": "stream",
     "text": [
      "--- Condition (with 5 chars) ---\n",
      "str01: TAGTAGTAGACTCCGGAAGTGACAAACCCTGAAAAGAATGGATAAATATA\n",
      "str02: GGATAAACACTCCCGAAAATAATTTGACTTAAACAACGCGACAGTTCAAG\n",
      "str03: ATACCTTCCTAGGTAACAAACCAACCAACTTTTGATCTCTTGTAGATCTG\n",
      "str04: TAAATTATAATCTTATACTAGTAAAAAATAGGGTGTAACCGAAAACGGTC\n",
      "str05: TTAAAACAGCCTGTGGGTTGCACCCACTCACAGGGCCCACTGGGCGCAAG\n",
      "str06: ATGACTTCCAATGGATCCCAACCTCAAGCTTCCACCCCAATGGTTTCAGC\n",
      "str07: AACAAACCAACCAACTTTTGATCTCTTGTAGATCTGTTCTCTAAACGAAC\n",
      "str08: ATGAAAACGAAAATTATTATCAAGGGTATGGAAGTGGAAGCTGACGAAAT\n",
      "str09: ACTCGGCTGCATGCTTAGTGCACTCACGCAGTATAATTAATAACTAATTA\n",
      "str10: TTGTAGATCTGTTCTCTAAACGAACTTTAAAATCTGTGTGGCTGTCACTC\n",
      "str11: GCAGAGCATTTTCTAATATCCACAAAATGAAGGCAATAATTGTACTACTC\n",
      "str12: ATGAGCCAAGATCCGACGAAGAGCCCCAAGGAGGAGAAGGAGGGACCCCC\n",
      "str13: TCTCACAGTTCAAGAACCCAAAGTACCCCCCATAGCCCTCTTAAAGCCAC\n",
      "str14: AGGTTTATACCTTCCTAGGTAACAAACCAACCAACTTTCGATCTCTTGTA\n",
      "str15: AGGTTTATACCTTCCCAGGTAACAAACCAACCAACTTTCGATCTCTTGTA\n",
      "str16: TAAAACAACTCAATACAACATAAGAAAATCAACGCAAAAACACTCACAAA\n",
      "str17: CCGCCCATTTGGGCGGCTCTCGAGCGATAGCTCGTCGAATCCCTCGACCT\n",
      "str18: ATACCTTCCCAGGTAACAAACCAACCAACTTTCGATCTCTTGTAGATCTG\n",
      "str19: TCTCACAGTTCAAGAACCTCAAGTCTCCCCCATAGGCCTCTTTCAGTCAG\n",
      "str20: GATCTCTCTCACCGAACCTGGCCCCGGGCAAATGCCCTAATCCAGAGGTG\n",
      "str21: AGAGCAATCAGTGCATCAGAAATATACCTATTATACACTTTGCTAAGAAT\n",
      "str22: AATTAAAACATCTCAATACAACATAAGAAAAACAACGCAAAAACACTCAT\n",
      "str23: AAACGAACTTTAAAATCTGTGTGGCTGTCACTCGGCTGCATGCTTAGTGC\n",
      "str24: ATAACTAATTACTGTCGTTGACAGGACACGAGTAACTCGTCTATCTTCTG\n",
      "str25: ATGAGTGTCACGAATTCACGTACAATGAACTGGATGTTCACGTGGAATAA\n",
      "str26: ACCGTGGGCGAGCGGTGACCGGTGTCTTCCTAGTGGGTCCCACGTTGAAR\n",
      "str27: AAAGGTTTATACCTTCCCAGGTAACAAACCAACCAACTTTCGATCTCTTG\n",
      "str28: AGTAGTTCGCCTGTGTGAGCTGACAAACTTAGTAGTGTTTGTGAGGATTA\n",
      "str29: TTTATACCTTCCTAGGTAACAAACCAACCAACTTTCGATCTCTTGTAGAT\n",
      "str30: ATGCGGTCGTCTCTCCCCGGCTTTTTTTCCCCGCGCCGCGTTGGCGCCGA\n",
      "str31: GTGACAAAAACATAATGGACTCCAACACCATGTCAAGCTTTCAGGTAGAC\n",
      "str32: GTGTAAGAAACAGTAAGCCCGGAAGTGGTGTTTTGCGATTTCGAGGCCGG\n",
      "str33: GAGAATGAGTCTCATTACCGCCCGGTACTTAGCAAGCTAATAGTCACGGC\n",
      "str34: ATGTGGTCGATGCCATGGAGGCCCACCAGTTCATTAAGGCTCCTGGCATT\n",
      "str35: ACGAGCGTTTTAAGGGCCCGCGACTGCGACGGCCACATGGCCCTGTATGT\n",
      "str36: GGTTTATACCTTCCCAGGTAACAAACCAACCAACTTTCGATCTCTTGTAG\n",
      "str37: TGGGAAGTTCCAAAAGATCACAAAACACTACCAGTCAACCTGAAGTACAC\n",
      "str38: GAAGCGTTAACGTGTTGAGGAAAAGACAGCTTAGGAGAACAAGAGCTGGG\n",
      "str39: ACCAGCGCACTTCGGCAGCGGCAGCACCTCGGCAGCACCTCAGCAGCAAC\n",
      "str40: ATGGGACAACTTATTCCTATCATGTGCCAAGAGGTTTTACCCGGTGACCA\n",
      "str41: TTGTAGATCTGTTCTCTAAACGAACTTTAAAATCTGTGTGGTTGTCACTC\n",
      "str42: AACCAACCAACTTTCGATCTCTTGTAGATCTGTTCTCTAAACGAACTTTA\n",
      "str43: GGGTTCTGCCAGGCATAGTCTTTTTTTCTGGCGGCCCTTGTGTAAACCTG\n",
      "str44: GGCTGCATGCTTAGTGCACTCACGCAGTATAATTAATAACTAATTACTGT\n",
      "str45: TGCATGCTTAGTGCACTCACGCAGTATAATTAATAACTAATTACTGTCGT\n",
      "str46: TTCCACAACTTTCCACCAAGCTCTGCAAGATCCCAGAGTCAGGGGCCTGT\n",
      "str47: TCTAAACGAACTTTAAAATCTGTGTGGCTGTCACTCGGCTGCATGCTTAG\n",
      "str48: ACCGGATGGCCGCGATTTTTCGGAGTCCTTGGGGGACCACTCAGAATAGA\n",
      "str49: CTTGTAGATCTGTTCTCTAAACGAACTTTAAAATCTGTGTGGCTGTCACT\n",
      "str50: ATGAGCACTAAGCGAAGAACCAAAAAGCAGACAATACAACCCGCTATTAC\n",
      "\n",
      "--- Solution (of length 138) ---\n",
      "  Sol: ATGACGTACGTACAGTCATCAGCTACTGATCGTCATGACGATCAGTCAGACTACGTACAGCATCAGTACTGATCAGTCAGTCATGCATCGACTGCATGATCGTACTGACTACTGACTCAGTACGACTAGTCGACRTGT\n",
      "str01: -T-A-GTA-GTA--G--A-C---T-C----CG----GA--A---GT--GAC-A---A-A-C--C----CTGA--A---A---A-G-A---A-TG---GAT---A---A--A-T-A-T-A-------------------\n",
      "str02: --G--G-A--TA-A---A-CA-CT-C----C--C--GA--A--A---A---TA---A-----T---T--TGA-C--T---T-A---A---AC---A--A-CG--C-GAC-A--G--T---T-C-A--AG---------\n",
      "str03: AT-AC---C-T----TC--C---TA--G---GT-A--AC-A--A---A--C--C--A-A-C--CA--ACT--T---T---T---G-ATC---T-C-T--T-GTA--GA-T-CTG------------------------\n",
      "str04: -T-A---A---A---T--T-A--TA---ATC-T--T-A---T-A--C----TA-GTA-A--A--A--A---AT-AG---G----G--T-G--T--A--A-C---C-GA--A---A---A---CG----GTC-------\n",
      "str05: -T----TA---A-A---A-CAGC--CTG-T-G----G--G-T---T--G-C-AC---C--CA-C--T-C--A-CAG---G----GC--C--C---A----C-T---G------G-----G--CG-C-A----A---G-\n",
      "str06: ATGAC-T---T-C---CA--A--T---G---G--AT--C---C---CA-AC--C-T-CA--A---G--CT--TC---CA--C---C--C--C---A--AT-G----G--T--T---TCAG--C---------------\n",
      "str07: A--AC--A---A-A--C--CA---AC----C---A--AC--T---T-----T---T---G-ATC--T-CT--T--GT-AG--AT-C-T-G--T---T---C-T-CT-A--A---AC---G-A--AC------------\n",
      "str08: ATGA---A---A-A--C----G--A---A-----A--A---T---T-A---T---TA-----TCA--A--G----G---GT-ATG----GA----A-G-T-G----GA--A--G-CT--G-ACGA--A----A--T--\n",
      "str09: A---C-T-CG----G-C-T--GC-A-TG--C-T--T-A-G-T--G-CA--CT-C--AC-GCA---GTA-T-A--A-T---T-A---AT--A----A----C-TA---A-T--T-A-----------------------\n",
      "str10: -T----T--GTA--G--ATC---T---G-T--TC-T--C--T-A---A-AC---G-A-A-C-T---T--T-A--A---A---AT-C-T-G--TG--TG---G--CTG--T-C--ACTC--------------------\n",
      "str11: --G-C--A-G-A--G-CAT----T--T--TC-T-A--A---T-A-TC---C-AC--A-A--A--A-T---GA--AG---G-CA---AT--A----AT--T-GTACT-ACT-C--------------------------\n",
      "str12: ATGA-G--C---CA---A---G--A-T---C--C--GACGA--AG--AG-C--C---C--CA--AG----GA---G---G--A-G-A---A--G---GA--G----G------GAC-C----C--C----C-------\n",
      "str13: -T--C-T-C--ACAGT--TCA---A--GA-----A---C---C---CA-A--A-GTAC--C--C----C----C---CA-T-A-GC--C--CT-C-T--T---A---A--A--G-C-CA---C---------------\n",
      "str14: A-G--GT---T----T-AT-A-C--CT--TC--C-T-A-G----GT-A-AC-A---A-A-C--CA--AC----CA---A--C-T---T----T-C--GATC-T-CT---T---G--T-A-------------------\n",
      "str15: A-G--GT---T----T-AT-A-C--CT--TC--C----C-A---G---G--TA---ACA--A--A---C----CA---A--C---CA---ACT---T--TCG-A-T--CT-CT---T--GTA----------------\n",
      "str16: -T-A---A---A-A--CA--A-CT-C--A-----AT-AC-A--A--CA---TA---A--G-A--A--A---ATCA---A--C--GCA---A----A--A----AC--ACT-C--AC--A--A--A-------------\n",
      "str17: ----C---CG--C---C--CA--T--T--T-G----G--G--C-G---G-CT-C-T-C-G-A---G--C-GAT-AG-C--TC--G--TCGA----AT---C---C---CT-C-GAC-C--T-----------------\n",
      "str18: AT-AC---C-T----TC--C--C-A--G---GT-A--AC-A--A---A--C--C--A-A-C--CA--ACT--T---TC-G--AT-C-TC---T---TG-T---A--GA-T-CTG------------------------\n",
      "str19: -T--C-T-C--ACAGT--TCA---A--GA-----A---C---C--TCA-A----GT-C----TC----C----C---C---CAT--A--G---GC-----C-T-CT---T--T--C--AGT-C-A---G---------\n",
      "str20: --GA--T-C-T-C--TC-TCA-C--C-GA-----A---C---C--T--G-----G--C--C--C----C-G----G---G-CA---A---A-TGC-----C---CT-A--A-T--C-CAG-A-G----GT-G------\n",
      "str21: A-GA-G--C--A-A-TCA---G-T---G--C---AT--C-A---G--A-A--A--TA-----T-A---C----C--T-A-T--T--AT--AC---A----C-T--T---T---G-CT-A--A-GA--A-T--------\n",
      "str22: A--A--T---TA-A---A--A-C-A-T---C-TCA--A---T-A--CA-AC-A--TA-AG-A--A--A---A--A--CA---A--C---G-C---A--A----A---A--AC--ACTCA-T-----------------\n",
      "str23: A--A---ACG-A-A--C-T----T--T-A-----A--A--ATC--T--G--T--GT---G-----G--CTG-TCA--C--TC--G----G-CTGCATG--C-T--T-A-----G--T--G--C---------------\n",
      "str24: AT-A---AC-TA-A-T--T-A-CT---G-TCGT--TGAC-A---G---GAC-ACG-A--G--T-A--ACT---C-GTC--T-AT-C-T----T-C-TG----------------------------------------\n",
      "str25: ATGA-GT--GT-CA--C----G--A---AT--TCA---CG-T-A--CA-A-T--G-A-A-C-T--G----GAT--GT---TCA--C---G--TG---GA----A-T-A--A---------------------------\n",
      "str26: A---C---CGT---G------G-----G--CG--A-G-CG----GT--GAC--CG----G--T--GT-CT--TC---C--T-A-G--T-G---G---G-TC---C---C-AC-G--T---T--GA--A------R---\n",
      "str27: A--A---A-G----GT--T----TA-T-A-C--C-T-----TC---C---C-A-G----G--T-A--AC--A--A---A--C---CA---AC--CA--A-C-T--T---T-C-GA-TC--T-C---T--T-G------\n",
      "str28: A-G---TA-GT----TC----GC--CTG-T-GT---GA-G--C--T--GAC-A---A-A-C-T---TA--G-T-AGT--GT--T"
     ]
    },
    {
     "name": "stdout",
     "output_type": "stream",
     "text": [
      "---T-G--TG-A-G---G-A-T---TA---------------------------\n",
      "str29: -T----T---TA---T-A-C--CT--T---C--C-T-A-G----GT-A-AC-A---A-A-C--CA--AC----CA---A--C-T---T----T-C--GATC-T-CT---T---G--T-AG-A----T-----------\n",
      "str30: ATG-CG---GT-C-GTC-TC---T-C----C--C----CG----G-C----T---T------T---T--T--T---TC---C---C--CG-C-GC-----CG--C-G--T--TG-----G--CG-C----CGA-----\n",
      "str31: --G---T--G-ACA---A--A---A---A-C---AT-A--AT--G---GACT-C---CA--A-CA---C----CA-T--GTCA---A--G-CT---T--TC--A--G------G--T-AG-AC---------------\n",
      "str32: --G---T--GTA-AG--A--A---AC--A--GT-A--A-G--C---C---C---G----G-A--AGT---G----GT--GT--T---T----TGC--GAT--T--T--C----GA----G---G-C----CG----G-\n",
      "str33: --GA-G-A---A---T-----G--A--G-TC-TCAT-----T-A--C---C---G--C--C--C-G----G-T-A--C--T--T--A--G-C---A--A--G--CT-A--A-T-A----GT-C-AC--G--G-C----\n",
      "str34: ATG---T--G----GTC----G--A-TG--C--CATG--GA---G---G-C--C---CA-C--CAGT--T---CA-T---T-A---A--G---GC-T---C---CTG------G-C--A-T-----T-----------\n",
      "str35: A---CG-A-G--C-GT--T----T--T-A-----A-G--G----G-C---C--CG--C-G-A-C--T---G--C-G--A--C--G----G-C--CA----C--A-TG------G-C-C----C---T-GT--A--TGT\n",
      "str36: --G--GT---T----T-AT-A-C--CT--TC--C----C-A---G---G--TA---ACA--A--A---C----CA---A--C---CA---ACT---T--TCG-A-T--CT-CT---T--GTA-G--------------\n",
      "str37: -TG--G---G-A-AGT--TC--C-A---A-----A--A-GATCA--CA-A--A---ACA-C-T-A---C----CAGTCA---A--C--C---TG-A--A--GTAC--AC-----------------------------\n",
      "str38: --GA---A-G--C-GT--T-A---AC-G-T-GT--TGA-G----G--A-A--A---A--G-A-CAG--CT--T-AG---G--A-G-A---AC---A--A--G-A--G-CT---G-----G---G--------------\n",
      "str39: A---C---C--A--G-C----GC-ACT--TCG----G-C-A---G-C-G-----G--CAGCA-C----CT---C-G---G-CA-GCA-C--CT-CA-G--C--A--G-C-A---AC----------------------\n",
      "str40: ATG--G---G-ACA---A-C---T--T-AT--TC----C--T-A-TCA---T--GT---GC--CA--A--GA---G---GT--T---T----T--A----C---C---C----G-----GT--GAC----C-A-----\n",
      "str41: -T----T--GTA--G--ATC---T---G-T--TC-T--C--T-A---A-AC---G-A-A-C-T---T--T-A--A---A---AT-C-T-G--TG--TG---GT--TG--T-C--ACTC--------------------\n",
      "str42: A--AC---C--A-A--C--CA---ACT--T--TC--GA---TC--TC----T---T---G--T-AG-A-T---C--T--GT--T-C-TC---T--A--A----AC-GA--ACT---T---TA----------------\n",
      "str43: --G--G---GT----TC-T--GC--C--A--G----G-C-AT-AGTC----T---T------T---T--T--T---TC--T---G----G-C-G---G--C---C---CT--TG--T--GTA--A--A--C--C-TG-\n",
      "str44: --G--G--C-T---G-CAT--GCT--T-A--GT---G-C-A-C--TCA--C---G--CAG--T-A-TA---AT---T-A---AT--A---ACT--A--AT--TACTG--T----------------------------\n",
      "str45: -TG-C--A--T---G-C-T----TA--G-T-G-CA---C--TCA--C-G-C-A-GTA-----T-A--A-T--T-A---A-T-A---A-C---T--A--AT--TACTG--T-C-G--T---------------------\n",
      "str46: -T----T-C---CA--CA--A-CT--T--TC--CA---C---CA---AG-CT-C-T---GCA--AG-A-T---C---C---CA-G-A--G--T-CA-G---G----G------G-C-C--T--G--T-----------\n",
      "str47: -T--C-TA---A-A--C----G--A---A-C-T--T-----T-A---A-A--A--T-C----T--GT---G-T--G---G-C-TG--TC-ACT-C--G---G--CTG-C-A-TG-CT---TA-G--------------\n",
      "str48: A---C---CG----G--AT--G-----G--C--C--G-CGAT---T-----T---T------TC-G----GA---GTC---C-T---T-G---G---G---G----GAC--C--ACTCAG-A--A-TAG---A-----\n",
      "str49: ----C-T---T---GT-A---G--A-T---C-T---G----T---TC----T-C-TA-A--A-C-G-A---A-C--T---T--T--A---A----A--ATC-T---G--T---G--T--G---G-CT-GTC-AC-T--\n",
      "str50: ATGA-G--C--AC--T-A--AGC----GA-----A-GA--A-C---CA-A--A---A-AGCA---G-AC--A--A-T-A--CA---A-C--C--C--G--C-TA-T---TAC--------------------------\n",
      "\n",
      "solution is feasible: True\n",
      "solution is optimal: False\n",
      "bset bound: 0\n"
     ]
    }
   ],
   "source": [
    "bench(scsp.example.load(\"nucleotide_n050k050.txt\"))"
   ]
  },
  {
   "cell_type": "code",
   "execution_count": null,
   "id": "Kclp",
   "metadata": {},
   "outputs": [
    {
     "name": "stdout",
     "output_type": "stream",
     "text": [
      "--- Condition (with 19 chars) ---\n",
      "str01: MALSYCPKGT\n",
      "str02: MQSSLNAIPV\n",
      "str03: MPLSYQHFRK\n",
      "str04: MEEHVNELHD\n",
      "str05: MSNFDAIRAL\n",
      "str06: MFRNQNSRNG\n",
      "str07: MFYAHAFGGY\n",
      "str08: MSKFTRRPYQ\n",
      "str09: MSFVAGVTAQ\n",
      "str10: MESLVPGFNE\n",
      "\n",
      "--- Solution (of length 45) ---\n",
      "  Sol: MESFYPQALSERNYQHVAFCPKGFTNESLRHDNGAIRPVTYALKQ\n",
      "str01: M------ALS---Y-----CPKG-T--------------------\n",
      "str02: M-----Q--S-----------------SL---N-AI-PV------\n",
      "str03: M----P--LS---YQH--F----------R-------------K-\n",
      "str04: ME--------E----HV--------NE-L-HD-------------\n",
      "str05: M-S---------N-----F------------D--AIR----AL--\n",
      "str06: M--F-------RN-Q----------N-S-R--NG-----------\n",
      "str07: M--FY--A-------H-AF---G----------G------Y----\n",
      "str08: M-S------------------K-FT----R------RP--Y---Q\n",
      "str09: M-SF------------VA----G---------------VT-A--Q\n",
      "str10: MES-----L-------V---P-GF-NE------------------\n",
      "\n",
      "solution is feasible: True\n",
      "solution is optimal: False\n",
      "bset bound: 0\n"
     ]
    }
   ],
   "source": [
    "bench(scsp.example.load(\"protein_n010k010.txt\"))"
   ]
  },
  {
   "cell_type": "code",
   "execution_count": null,
   "id": "emfo",
   "metadata": {},
   "outputs": [
    {
     "name": "stdout",
     "output_type": "stream",
     "text": [
      "--- Condition (with 20 chars) ---\n",
      "str01: MRHLNIDIETYSSNDIKNGVYKYADAEDFEILLFAYSIDGGEVECLDLTR\n",
      "str02: MERRAHRTHQNWDATKPRERRKQTQHRLTHPDDSIYPRIEKAEGRKEDHG\n",
      "str03: MEPGAFSTALFDALCDDILHRRLESQLRFGGVQIPPEVSDPRVYAGYALL\n",
      "str04: MGKFYYSNRRLAVFAQAQSRHLGGSYEQWLACVSGDSAFRAEVKARVQKD\n",
      "str05: FFRENLAFQQGKAREFPSEEARANSPTSRELWVRRGGNPLSEAGAERRGT\n",
      "str06: MDPSLTQVWAVEGSVLSAAVDTAETNDTEPDEGLSAENEGETRIIRITGS\n",
      "str07: MAFDFSVTGNTKLDTSGFTQGVSSMTVAAGTLIADLVKTASSQLTNLAQS\n",
      "str08: MAVILPSTYTDGTAACTNGSPDVVGTGTMWVNTILPGDFFWTPSGESVRV\n",
      "str09: MNTGIIDLFDNHVDSIPTILPHQLATLDYLVRTIIDENRSVLLFHIMGSG\n",
      "str10: MFVFLVLLPLVSSQCVNLRTRTQLPPAYTNSFTRGVYYPDKVFRSSVLHS\n",
      "str11: MDSKETILIEIIPKIKSYLLDTNISPKSYNDFISRNKNIFVINLYNVSTI\n",
      "str12: MLLSGKKKMLLDNYETAAARGRGGDERRRGWAFDRPAIVTKRDKSDRMAH\n",
      "str13: MNGEEDDNEQAAAEQQTKKAKREKPKQARKVTSEAWEHFDATDDGAECKH\n",
      "str14: MESLVPGFNEKTHVQLSLPVLQVRDVLVRGFGDSVEEVLSEARQHLKDGT\n",
      "str15: MRYIVSPQLVLQVGKGQEVERALYLTPYDYIDEKSPIYYFLRSHLNIQRP\n",
      "str16: MPRVPVYDSPQVSPNTVPQARLATPSFATPTFRGADAPAFQDTANQQARQ\n",
      "str17: MFVFLVLLPLVSSQCVNLRTRTQLPLAYTNSFTRGVYYPDKVFRSSVLHS\n",
      "str18: MFVFFVLLPLVSSQCVNLTTRTQLPPAYTNSFTRGVYYPDKVFRSSVLHS\n",
      "str19: MEAIISFAGIGINYKKLQSKLQHDFGRVLKALTVTARALPGQPKHIAIRQ\n",
      "str20: MASSGPERAEHQIILPESHLSSPLVKHKLLYYWKLTGLPLPDECDFDHLI\n",
      "str21: MESLVPGFNEKTHVQLSLPVLQVRDVLVRGFGDSVEEVLSEVRQHLKDGT\n",
      "str22: MLAPSPNSKIQLFNNINIDINYEHTLYFASVSAQNSFFAQWVVYSADKAI\n",
      "str23: MSAITETKPTIELPALAEGFQRYNKTPGFTCVLDRYDHGVINDSKIVLYN\n",
      "str24: MKNIAEFKKAPELAEKLLEVFSNLKGNSRSLDPMRAGKHDVVVIESTKKL\n",
      "str25: MPQPLKQSLDQSKWLREAEKHLRALESLVDSNLEEEKLKPQLSMGEDVQS\n",
      "str26: MFVFLVLLPLVSSQCVNLITRTQSYTNSFTRGVYYPDKVFRSSVLHSTQD\n",
      "str27: MKFDVLSLFAPWAKVDEQEYDQQLNNNLESITAPKFDDGATEIESERGDI\n",
      "str28: MFVFLVLLPLVSSQCVNFTNRTQLPSAYTNSFTRGVYYPDKVFRSSVLHS\n",
      "str29: MWSIIVLKLISIQPLLLVTSLPLYNPNMDSCCLISRITPELAGKLTWIFI\n",
      "str30: MESLVPGFNEKTHVQLSLPVLQVRDVLVRGFGDSVEEFLSEARQHLKDGT\n",
      "str31: MFVFLVLLPLVSSQCVMPLFNLITTTQSYTNFTRGVYYPDKVFRSSVLHL\n",
      "str32: MHQITVVSGPTEVSTCFGSLHPFQSLKPVMANALGVLEGKMFCSIGGRSL\n",
      "str33: MATLLRSLALFKRNKDKPPITSGSGGAIRGIKHIIIVPIPGDSSITTRSR\n",
      "str34: MESLVPGFNEKTHVQLSLPVLQVRDVLVRGFGDSMEEVLSEARQHLKDGT\n",
      "str35: MFVFLVLLPLVSSQCVNLTTGTQLPPAYTNSFTRGVYYPDKVFRSSVLHS\n",
      "str36: MANIINLWNGIVPMVQDVNVASITAFKSMIDETWDKKIEANTCISRKHRN\n",
      "str37: MLNRIQTLMKTANNYETIEILRNYLRLYIILARNEEGRGILIYDDNIDSV\n",
      "str38: MADPAGTNGEEGTGCNGWFYVEAVVEKKTGDAISDDENENDSDTGEDLVD\n",
      "str39: MFVFLVLLPLVSSQCVNLRTRTQLPPSYTNSFTRGVYYPDKVFRSSVLHS\n",
      "str40: MESLVPGFNEKTHVQLSLPVLQVCDVLVRGFGDSVEEVLSEARQHLKDGT\n",
      "str41: MNNQRKKTARPSFNMLKRARNRVSTVSQLAKRFSKGLLSGQGPMKLVMAF\n",
      "str42: MSNFDAIRALVDTDAYKLGHIHMYPEGTEYVLSNFTDRGSRIEGVTHTVH\n",
      "str43: MIELRHEVQGDLVTINVVETPEDLDGFRDFIRAHLICLAVDTETTGLDIY\n",
      "str44: MFVFLVLLPLVSSQCVMPLFNLITTNQSYTNSFTRGVYYPDKVFRSSVLH\n",
      "str45: MSKDLVARQALMTARMKADFVFFLFVLWKALSLPVPTRCQIDMAKKLSAG\n",
      "str46: MASLLKSLTLFKRTRDQPPLASGSGGAIRGIKHVIIVLIPGDSSIVTRSR\n",
      "str47: MRVRGILRNWQQWWIWTSLGFWMFMICSVVGNLWVTVYYGVPVWKEAKTT\n",
      "str48: MAVEPFPRRPITRPHASIEVDTSGIGGSAGSSEKVFCLIGQAEGGEPNTV\n",
      "str49: MFYAHAFGGYDENLHAFPGISSTVANDVRKYSVVSVYNKKYNIVKNKYMW\n",
      "str50: MANYSKPFLLDIVFNKDIKCINDSCSHSDCRYQSNSYVELRRNQALNKNL\n",
      "\n",
      "--- Solution (of length 454) ---\n",
      "  Sol: MFAVFLESVLLPNRLVSSQPGFCVNEKTLDHAIRPLVQTRLSLPTAFYINSLVKETGILQVRDASLPFKVLITDNQALEMRPSTYHQALFGKWNLITAVRGDENSIPFTNYEGTVDSAQPKIEVLQKSAPELARGCNDVYLHTNSGIFEKLTRGVQANWDTSILAEGVFYPKSDMVLKRAQHTNDEVRGFAILYSPKRSTGVENQLPDSRVEKLTPASIYTNDVFRKHSQLAGEFTCLDRKSVFGMILSYWADETVQLNRIWTSLGAFPDERVKALYNSGIPQHRLTKPGINFQDLESIAYWMFDLVKPTSCIVRAHLSGEDNPMICKHSFDTVAGLIQDRGSIVPYNALTEIVGPRDIECNLFRSKWVTDPELAGRVYESGKMDQSNASYVKELRRDNISTHVKDRTGLFVCSIARNKYMGEDHPVWQALIKEGNRSAKFNLQRTVDGHIPTY\n",
      "str01: M------------R----------------H----L-------------N-------I----D--------I------E----TY-------------------S-----------S-------------------ND--------I--K-------N--------GV-Y-K---------------------Y----------------------A-----D--------A-E----D----F---------E------I---L----------L----------------F------AY---------S-I--------D-------------G-----G---------E-V-----EC-L-------D--L---------------------------T----R-----------------------------------------------\n",
      "str02: M-----E------R-------------------R-----------A---------------------------------------H-------------R--------T--------------------------------H-------------Q-NWD----A-----------------T-------------K---------P--R-E-------------R-------------RK---------------Q-----T-------------------QHRLT-----------------------------H------P-------D-------D--SI--Y--------PR-IE------K-------A----E-G-------------R--------K-----------------EDH---------G-------------------\n",
      "str03: M-----E----P--------G----------A--------------F---S----T-------A-L-F-----D--AL---------------------------------------------------------C-D---------------------D--IL-----------------H-----R---------R-------L-----E-----S-----------QL--------R---FG--------------------G------V---------Q-------I-----------------P--------------P---------------------------E-V-----------S----DP----RVY---------A-------------------G----------Y---------AL-----------L-----------\n",
      "str04: M-------------------G-----K-------------------FY------------------------------------Y-------------------S----N-----------------------R------------------R----------LA--VF----------AQ---------A-------------Q---SR-----------------H--L-G-----------G---SY---E--Q----W--L-A--------------------------------------------C-V----SG-D-------S----A----------------------------FR---------A----E-----------VK----------------------AR---------V-Q---K--------------D------\n",
      "str05: -F--F--------R-----------E-----------------------N-L-----------A---F-------Q----------Q---GK-----A-R--E----F-----------P-------S--E-----------------E-------A---------------------RA---N----------SP---T--------SR-E-L------------------------------------W----V---R-----------R-------G---------G-N----------------P--------LS-E-------------AG------------A--E----R-------R----------G-------------------------T----------------------------------------------------\n",
      "str06: M----------------------------D----P------SL-T--------------QV-------------------------------W----AV---E---------G---S------VL--SA---A-----V--------------------DT---AE----------------TND--------------T--E---PD---E--------------------G----L---S---------A-E----N-----------E--------G----------------E------------T----R----------I-----------I--R--I------T---G----------S----------------------------------------------------------------------------------------\n",
      "str07: M-A-F------------------------D----------------F---S-V--TG-----------------N--------T-------K--L------D------T-------S-----------------G------------F---T---Q----------GV----S---------------------S--------------------------------------------------M--------TV----------A-------A----G------T--------L--IA----DLVK-T-----A--S----------S--------Q----------LT----------NL-----------A----------QS-------------------------------------------------------------------\n",
      "str08: M-AV----------------------------I--L-------P------S----T----------------------------Y-----------T----D----------GT---A----------A------C------TN-G---------------S--------P--D-V----------V-G----------TG-------------T------------------------------M----W----V--N---T-----------------I----L--PG----D--------F--------------------------F------------------------------------W-T-P--------SG-----------E------S--V--R----V------------------------------------------\n",
      "str09: M-----------N--------------T----------------------------GI------"
     ]
    },
    {
     "name": "stdout",
     "output_type": "stream",
     "text": [
      "-------I-D---L-----------F-----------D-N-------------------------------------H------------V----D-SI-------P-----------T--------IL--P-------------------------------H-QLA---T-LD----------Y-------L--------------V-----------R-T---I-------I-----D---------------E-N-----------------R-S-V----L------------LF--------------------------------------H-----------I-----MG---------------S----------G-----\n",
      "str10: MF-VFL--VLLP--LVSSQ---CVN---L----R----TR----T--------------Q-----LP--------------P-----A----------------------Y--T----------------------N-------S--F---TRGV--------------Y-----------------------Y-P-----------D----K----------VFR--S------------SV----L-----------------------------------H-------------S------------------------------------------------------------------------------------------------------------------------------------------------------------\n",
      "str11: M----------------------------D-----------S-----------KET-IL------------I------E----------------I---------IP-------------KI----KS-----------YL---------L--------DT----------------------N-------I--SPK-S--------------------Y-ND-F---------------------I-S----------R-----------------N---------K---N------I----F--V-----I---------N-------------L---------YN-----V-----------S---T-----------------------------I------------------------------------------------------\n",
      "str12: M----L---L------S---G-----K--------------------------K--------------K----------M--------L-----L------D-N------YE-T---A----------A---ARG-----------------RG------------G------D-----------E-R---------R-----------R----------------------G-----------------WA---------------F-D-R---------P-----------------A------------IV------------------T---------------------------------K---------R-------D-------K-------S----DR-------------M--------A-------------------H----\n",
      "str13: M-----------N-------G----E----------------------------E-------D----------DN---E-------QA---------A-------------------A----E--Q-----------------------------Q----T----------K-----K-A----------------KR----E---------K--P----------K--Q-A-------RK-V-----------T--------S------E---A--------------------------W------------------E-------H-FD--A---------------T------D------------D----G------------A----E------------------C-----K-----H-----------------------------\n",
      "str14: M-----ES-L-----V---PGF--NEKT--H-----VQ--LSLP--------V-----LQVRD------VL---------------------------VRG------F----G--DS------V------E-----------------E-----V--------L--------S------------E----A------R------Q----------------------H--L---------K-----------D------------G--------------------T-----------------------------------------------------------------------------------------------------------------------------------------------------------------------\n",
      "str15: M------------R---------------------------------YI---V-----------S-P--------Q-L--------------------V-------------------------LQ------------V------G---K---G-Q---------E-V-----------------E-R--A-LY-----------L--------TP---Y--D--------------------------Y----------I--------DE--K----S--P--------I---------Y---------------------------------------------Y----------------F---------L--R---S---------------------H------L-------N-------------I-----------QR------P--\n",
      "str16: M----------P-R-V---P---V-----------------------Y--------------D-S-P--------Q----------------------V-----S-P--N---TV----P-----Q--A----R------L---------------A---T---------P-S----------------FA--------T------P-------T---------FR------G------------------AD-------------A-P-----A-----------------FQD--------------T-----A------N---------------Q----------------------------------------------Q--A------R--------------------------------Q-------------------------\n",
      "str17: MF-VFL--VLLP--LVSSQ---CVN---L----R----TR----T--------------Q-----LP---L-----A-------Y-----------T------NS--FT"
     ]
    },
    {
     "name": "stdout",
     "output_type": "stream",
     "text": [
      "------------------------RG---VY-----------------------------YP--D---K--------V--F-------RS---------S-V--L-------------HS---------------------------------------------------------------------------------------------------------------------------------------------------------------------------------------------------------------------------------\n",
      "str18: MF-VF----------------F-V----L------L-------P-------LV-----------S-----------------S---Q------------------------------------------------C--V----N------LT--------T-----------------R---T---------------------QLP--------PA--YTN------S-----FT---R----G----------V--------------------Y-----------------------Y-------P------------D-----K-----V-----------------------------FRS--------------S----------V--L-------H----------S----------------------------------------\n",
      "str19: M-----E------------------------AI---------------I-S----------------F--------A-------------G----I----G----I---NY---------K-----K----L-----------------------Q-----S---------K----L---QH--D----F----------G--------RV--L------------K----A-----L----------------TV------T---A----R--AL-----P-------G---Q--------------P------------------KH--------I----------A---I---R----------------------------Q--------------------------------------------------------------------\n",
      "str20: M-A----S--------S---G-------------P-------------------E------R-A--------------E------HQ--------I---------I------------------L----PE-------------S------------------------------------H----------L-S---S-------P------L---------V--KH------------K------L---------L------------------Y-----------------------YW-----K---------L--------------T--GL--------P---L-----P-D-EC---------D---------------------------------------F------------DH-----LI----------------------\n",
      "str21: M-----ES-L-----V---PGF--NEKT--H-----VQ--LSLP--------V-----LQVRD------VL---------------------------VRG------F----G--DS------V------E-----------------E-----V--------L--------S------------EVR----------------Q----------------------H--L---------K-----------D------------G--------------------T-----------------------------------------------------------------------------------------------------------------------------------------------------------------------\n",
      "str22: M----L-------------------------A--P------S-P-----NS--K---I-Q-----L-F------N------------------N-I-------N-I---------D-----I--------------N--Y--------E--------------------------------HT---------LY------------------------------F------A---------SV-----S--A----Q-N----S---F------------------------F------A--------------------------------------Q----------------------------WV--------VY-S-------A--------D------K----------A---------------I----------------------\n",
      "str23: M------S-----------------------AI-----T---------------ET------------K------------P-T-----------I------E---------------------L----P--A-------L---------------A--------EG-F-----------Q------R-----Y---------N--------K-TP----------------G-FTC-----V----L----D------R----------------Y-----------------D---------------------H--G-------------V---I---------N---------D-------SK--------------------------------I---V-----L---------Y---------------N------------------\n",
      "str24: M-------------------------K----------------------N-------I-----A--------------E----------F-K----------------------------K-------APELA---------------EKL------------L-E-VF---S----------N--------L---K---G--N----SR-------S------------L-------D-----------------------------P---------------------------------M-----------RA---G-------KH--D-V----------V--------V----IE-----S---T------------K---------K-L-----------------------------------------------------------\n",
      "str25: M----------P------QP--------L------------------------K-----Q----SL-------D-Q------S--------KW-"
     ]
    },
    {
     "name": "stdout",
     "output_type": "stream",
     "text": [
      "L----R--E--------------A----E---K--------------H--------L-R---A------L-E------S---L---------V--------------------DS------------N--------L--E-------------------E----------------E--K-L-----------KP----Q-L-S----M----------------GED-----------V----Q---S---------------------------------------------------------------------------------------------------------------\n",
      "str26: MF-VFL--VLLP--LVSSQ---CVN---L---I-----TR----T--------------Q----S-------------------Y-----------T------NS--FT------------------------RG---VY-----------------------------YP--D---K--------V--F-------RS---------S-V--L-------------HS------T--------------------Q------------D----------------------------------------------------------------------------------------------------------------------------------------------------------------------------------------\n",
      "str27: M-------------------------K-------------------F---------------D------VL-----------S-----LF-------A--------P---------------------------------------------------W-----A------K---V--------DE------------------Q------E-------Y--D------Q--------------------------QLN------------------N-------------N---LESI----------T-----A-------P---K--FD-------D-G------A-TEI------E-----S------E---R----G--D--------------I------------------------------------------------------\n",
      "str28: MF-VFL--VLLP--LVSSQ---CVN---------------------F--------T------------------N-----R--T--Q-L-----------------P---------SA---------------------Y--TNS--F---TRGV--------------Y-----------------------Y-P-----------D----K----------VFR--S------------SV----L-----------------------------------H-------------S------------------------------------------------------------------------------------------------------------------------------------------------------------\n",
      "str29: M-------------------------------------------------------------------------------------------W-----------SI---------------I-VL-K----L--------------I--------------SI-----------------Q--------------P---------L-------L----------------L-----------V-----------T--------SL---P------LYN---P---------N----------M-D-----SC--------------C---------LI----S-------------R-I----------T-PELAG------K-----------L------T-------------------------W---I--------F---------I---\n",
      "str30: M-----ES-L-----V---PGF--NEKT--H-----VQ--LSLP--------V-----LQVRD------VL---------------------------VRG------F----G--DS------V------E-----------------E-------------------F-------L-----------------S-------E-------------A--------R---Q-----------------------------------------------------H-L-K------D------------------------G------------T-------------------------------------------------------------------------------------------------------------------------\n",
      "str31: MF-VFL--VLLP--LVSSQ---CV-------------------------------------------------------M-P------LF---NLIT-----------T----T----Q--------S-----------Y--TN---F---TRGV--------------Y-----------------------Y-P-----------D----K----------VFR--S------------SV----L-----------------------------------H-L------------------------------------------------------------------------------------------------------------------------------------------------------------------------\n",
      "str32: M-----------------------------H------Q----------I------T----V--------V------------S-------G---------------P-T--E--V-S-------------------------T---------------------------------------------------------------------------------------------C------FG---S--------L-------------------------H----P---FQ---S-------L-KP----V----------M---------A------------NAL----G-------------V----L-----E-GKM--------------------------F-CSI------G-----"
     ]
    },
    {
     "name": "stdout",
     "output_type": "stream",
     "text": [
      "-------G-RS----L-----------\n",
      "str33: M-A------------------------TL------L---R-SL--A-----L---------------FK-----------R------------N--------------------------K----------------D-----------K--------------------P------------------------P----------------------I-T-------S---G--------S--G--------------------GA-------------I---R----GI----------------K--------H--------I-----------I-----IVP------I--P-------------------G--------D-S--S---------I-T-----T--------R--------------------S------R---------\n",
      "str34: M-----ES-L-----V---PGF--NEKT--H-----VQ--LSLP--------V-----LQVRD------VL---------------------------VRG------F----G--DS---------------------------------------------------------M----------E----------------E-------V--L---S---------------E-----------------A-------R----------------------QH-L-K------D------------------------G------------T-------------------------------------------------------------------------------------------------------------------------\n",
      "str35: MF-VFL--VLLP--LVSSQ---CVN---L---------T-----T-----------G---------------T--Q-L---P------------------------P----------A---------------------Y--TNS--F---TRGV--------------Y-----------------------Y-P-----------D----K----------VFR--S------------SV----L-----------------------------------H-------------S------------------------------------------------------------------------------------------------------------------------------------------------------------\n",
      "str36: M-A---------N-------------------I---------------IN-L----------------------------------------WN------G----I--------V----P------------------------------------------------------MV----Q---D-V----------------N------V-----ASI-T----------A--F-----KS---MI-----DET------W-------D---K-------------K--I-----E--A----------------------N---------T---------------------------C--------------------------------------IS-----R-----------K-----H-----------R----N------------\n",
      "str37: M----L------NR------------------I----QT-L--------------------------------------M-----------K----TA-----N-----NYE-T-------IE-----------------------I---L-R----N-----------Y------L-R-------------LY------------------------I---------------------------IL---A-------R-----------------N------------------E-----------------------E--------------G----RG-I-----L--I-------------------------Y-----D------------DNI-----D-------S------------V---------------------------\n",
      "str38: M-A--------------------------D----P----------A----------G---------------T-N---------------G-----------E--------EGT--------------------GCN--------G------------W---------FY-----V---------E----A----------V--------VEK-------------K--------T--------G-------D-------------A-------------I----------------S------D----------------D-----------------------------E---------N----------E--------------N---------D--S----D-TG-------------ED------L---------------VD------\n",
      "str39: MF-VFL--VLLP--LVSSQ---CVN---L----R----TR----T--------------Q-----LP--------------PS-Y-----------T------NS--FT------------------------RG---VY-----------------------------YP--D---K--------V--F-------RS---------S-V--L-------------HS---------------------------------------------------------------------------------------------------------------------------------------------------------------------------------------------------------------------------------\n",
      "str40: M-----ES-L-----V---PGF--NEKT--H-----VQ--LSLP--------V-----LQV--------------------------------------------------------------------------C-DV-L-------------V-----------------------R---------GF----------G------DS-VE---------------------E--------V----LS----E------------A----R----------QH-L-K------D------------------------G------------T-------------------------------------------------------------------------------------------------------------------------\n",
      "str41: M----"
     ]
    },
    {
     "name": "stdout",
     "output_type": "stream",
     "text": [
      "-------N-----------N------------Q-R-------------K--------------K---T---A---RPS------F---N--------------------------------------------------------------------------------M-LKRA-------R---------------N-----RV------S--T--V----SQLA--------K------------------R-------F----------S--------K-G-----L---------L----S--------G------------------Q--G---P-------------------------------------M--------K-L--------V----------------M--------A----------F-------------\n",
      "str42: M------S----N--------F-------D-AIR-----------A-----LV---------D---------TD--A-------Y------K--L-----G----------------------------------------H----I----------------------------------H---------------------------------------------------------------M---Y------------------P-E--------G------T---------E---Y-----V----------LS---N-------F-T------DRGS-------------R-IE---------------G-V-----------------------TH----T---V------------H-----------------------------\n",
      "str43: M-------------------------------I---------------------E---L--R-----------------------H----------------E-----------V---Q---------------G--D--L-------------V-----T-I--------------------N--V--------------VE-----------TP-----------------E----D--------L----D------------G-F---R----------------------D--------F--------I-RAHL-------IC---------L-----------A----V---D-----------T--E----------------------------T-----TGL-------------D-------I---------------------Y\n",
      "str44: MF-VFL--VLLP--LVSSQ---CV-------------------------------------------------------M-P------LF---NLIT-----------TN--------Q--------S-----------Y--TNS--F---TRGV--------------Y-----------------------Y-P-----------D----K----------VFR--S------------SV----L-----------------------------------H--------------------------------------------------------------------------------------------------------------------------------------------------------------------------\n",
      "str45: M------S------------------K--D-----LV--------A---------------R-------------QAL-M---T---A-----------R--------------------------------------------------------------------------M--K-A----D----F-----------V----------------------F---------F--L-----F-----------V-L---W-----------KAL--S------L--P-----------------V-PT----R-----------C-----------Q----I-------------D-------------------------M----A---K-----------K----L---S-A-----G--------------------------------\n",
      "str46: M-A----S-LL---------------K--------------SL-T------L---------------FK-----------R--T---------------R-D----------------QP---------P-LA-----------SG---------------S----G---------------------G-AI-----R--G-----------------I-------KH--------------V---I-------------I-----------V--L----IP-------G----D--S------------S-IV------------------T-------R-S-------------R-------------------------------------------------------------------------------------------------\n",
      "str47: M------------R-V-----------------R----------------------GIL--R------------N-----------------W-------------------------Q------Q--------------------------------W-------------------------------------------------------------------------------------------W---------IWTSLG-F---------------------------------WMF--------------------MIC--S---V----------V---------G------NL----WVT-------VY-----------Y-----------------G--V-------------PVW----KE----AK-----T------T-\n",
      "str48: M-AV--E----P---------F------------P----R--------------"
     ]
    },
    {
     "name": "stdout",
     "output_type": "stream",
     "text": [
      "-------R----P----IT-------RP---H-A----------------SI-----E--VD--------------------------T-SGI------G------------G-----S------A--------G-----S---S---E---------K----------VF-----------CL--------I------------------G----------------Q----------------A--------------------E--------------G-----G---------E---P-----N-------T-------V----------------------------------------------------------------------------\n",
      "str49: MF---------------------------------------------Y---------------A---------------------H-A-FG---------G---------Y----D------E-------------N---LH--------------A-----------F-P-----------------G--I--S---ST-V--------------A----NDV-RK----------------------Y-------------S--------V---------------------------------V---S--V--------------------------------YN------------------K---------------K-------Y-------NI---VK------------NKYM------W--------------------------\n",
      "str50: M-A---------N----------------------------------Y--S--K------------PF--L------L-----------------------D---I--------V--------------------------------F---------N-------------K-D-----------------I----K---------------------------------------C---------I-----------N----------D--------S--------------------------------C------S---------HS-D----------------------------C---R-------------Y------QSN-SYV-ELRR-N-----------------------------QAL----N---K-NL-----------\n",
      "\n",
      "solution is feasible: True\n",
      "solution is optimal: False\n",
      "bset bound: 0\n"
     ]
    }
   ],
   "source": [
    "bench(scsp.example.load(\"protein_n050k050.txt\"))"
   ]
  }
 ],
 "metadata": {},
 "nbformat": 4,
 "nbformat_minor": 5
}
