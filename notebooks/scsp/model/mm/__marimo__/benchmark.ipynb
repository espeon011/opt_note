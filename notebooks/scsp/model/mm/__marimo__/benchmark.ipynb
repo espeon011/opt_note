{
 "cells": [
  {
   "cell_type": "code",
   "execution_count": null,
   "id": "setup",
   "metadata": {
    "marimo": {
     "name": "setup"
    }
   },
   "outputs": [],
   "source": [
    "import opt_note.scsp as scsp"
   ]
  },
  {
   "cell_type": "code",
   "execution_count": null,
   "id": "Hbol",
   "metadata": {},
   "outputs": [],
   "source": [
    "import marimo as mo\n",
    "import nbformat"
   ]
  },
  {
   "cell_type": "markdown",
   "id": "MJUe",
   "metadata": {
    "marimo": {
     "config": {
      "hide_code": true
     }
    }
   },
   "source": [
    "# ベンチマーク"
   ]
  },
  {
   "cell_type": "code",
   "execution_count": null,
   "id": "vblA",
   "metadata": {
    "marimo": {
     "name": "*bench"
    }
   },
   "outputs": [],
   "source": [
    "def bench(instance: list[str]) -> None:\n",
    "    solution = scsp.model.mm.solve(instance)\n",
    "    scsp.util.show(instance)\n",
    "    scsp.util.show(instance, solution)\n",
    "    print(f\"solution is feasible: {scsp.util.is_feasible(instance, solution)}\")"
   ]
  },
  {
   "cell_type": "code",
   "execution_count": null,
   "id": "bkHC",
   "metadata": {},
   "outputs": [
    {
     "name": "stdout",
     "output_type": "stream",
     "text": [
      "--- Condition (with 25 chars) ---\n",
      "str1: tkgnkuhmpxnhtqgxzvxis\n",
      "str2: iojiqfolnbxxcvsuqpvissbxf\n",
      "str3: ulcinycosovozpplp\n",
      "str4: igevazgbrddbcsvrvnngf\n",
      "\n",
      "--- Solution (of length 74) ---\n",
      " Sol: igeojiqfolnbtkgnkuhlcimnpxnhtqgxcvazgbrddbcsvruqpvinngfssbxfisycosovozpplp\n",
      "str1: ------------tkgnkuh---m-pxnhtqgx---z--------v-------------x-is------------\n",
      "str2: i--ojiqfolnb-------------x-----xcv---------s--uqpvi----ssbxf--------------\n",
      "str3: -----------------u-lci-n--------------------------------------ycosovozpplp\n",
      "str4: ige------------------------------vazgbrddbcsvr---v-nngf-------------------\n",
      "\n",
      "solution is feasible: True\n"
     ]
    }
   ],
   "source": [
    "bench(scsp.example.load(\"uniform_q26n004k015-025.txt\"))"
   ]
  },
  {
   "cell_type": "code",
   "execution_count": null,
   "id": "lEQa",
   "metadata": {},
   "outputs": [
    {
     "name": "stdout",
     "output_type": "stream",
     "text": [
      "--- Condition (with 26 chars) ---\n",
      "str1: tkgnkuhmpxnhtqgxzvxis\n",
      "str2: iojiqfolnbxxcvsuqpvissbxf\n",
      "str3: ulcinycosovozpplp\n",
      "str4: igevazgbrddbcsvrvnngf\n",
      "str5: pyplrzxucpmqvgtdfuivcdsbo\n",
      "str6: pbdevdcvdpfzsmsbroqvbbh\n",
      "str7: enbczfjtvxerzbrvigple\n",
      "str8: rxwxqkrdrlctodtmprpxwd\n",
      "\n",
      "--- Solution (of length 148) ---\n",
      " Sol: ipbdegevadcnbczfgbrddbcjtvxdekgnkuhlcimpfnycosjiovrzboplrvzxnhigplengfplpqfolnbsmsbroqtqgxucpmqvbbghtdfuivcdsbowxcqkrdrlctodtmprpvsuqpvissbxfwdzvxis\n",
      "str1: ------------------------t----kgnkuh---mp-------------------xnh------------------------tqgx-----------------------------------------------------zvxis\n",
      "str2: i-------------------------------------------o-ji-------------------------qfolnb----------x----------------------xc---------------vsuqpvissbxf-------\n",
      "str3: ---------------------------------u-lci---nycos--ov---o----z-----p-----plp---------------------------------------------------------------------------\n",
      "str4: i----geva-----z-gbrddbc----------------------s---vr------v--n------ngf------------------------------------------------------------------------------\n",
      "str5: -p----------------------------------------y-----------plr-zx------------------------------ucpmqv--g-tdfuivcdsbo-------------------------------------\n",
      "str6: -pbde--v-dc--------------v-d-----------pf----------z---------------------------smsbroq---------vbb-h------------------------------------------------\n",
      "str7: ----e------nbczf-------jtvx-e---------------------rzb---rv----igple---------------------------------------------------------------------------------\n",
      "str8: ------------------r-------x------------------------------------------------------------------------------------wx-qkrdrlctodtmprp----------x-wd-----\n",
      "\n",
      "solution is feasible: True\n"
     ]
    }
   ],
   "source": [
    "bench(scsp.example.load(\"uniform_q26n008k015-025.txt\"))"
   ]
  },
  {
   "cell_type": "code",
   "execution_count": null,
   "id": "PKri",
   "metadata": {},
   "outputs": [
    {
     "name": "stdout",
     "output_type": "stream",
     "text": [
      "--- Condition (with 26 chars) ---\n",
      "str01: tkgnkuhmpxnhtqgxzvxis\n",
      "str02: iojiqfolnbxxcvsuqpvissbxf\n",
      "str03: ulcinycosovozpplp\n",
      "str04: igevazgbrddbcsvrvnngf\n",
      "str05: pyplrzxucpmqvgtdfuivcdsbo\n",
      "str06: pbdevdcvdpfzsmsbroqvbbh\n",
      "str07: enbczfjtvxerzbrvigple\n",
      "str08: rxwxqkrdrlctodtmprpxwd\n",
      "str09: kkqafigqjwokkskrblg\n",
      "str10: lxxpabivbvzkozzvd\n",
      "str11: krifsavncdqwhzc\n",
      "str12: qaxudgqvqcewbfgijowwy\n",
      "str13: rsxqjnfpadiusiqbezhkohmg\n",
      "str14: iwshvhcomiuvddm\n",
      "str15: htxxqjzqbctbakn\n",
      "str16: xusfcfzpeecvwantfmgqzu\n",
      "\n",
      "--- Solution (of length 198) ---\n",
      "  Sol: ikrpxulswxqkaxbcifshtavncdeqypafbigvbcojnbczfpevadiqjuswhzcokgvdozpfzbrddbcsmivrlctodvnksuxerzbrvxqbcddeghmplnbxgfigpjzqvbctbaknhkoqcewabfghmgijlentfmgqgxzucvprbbhlgmopxwdisquqpvgissbtdfuivcdsbowxfy\n",
      "str01: --------------------t---------------------------------------kg------------------------nk-u---------------hmp---x---------------nh------------------t---qgxz--v----------x--is-------------------------\n",
      "str02: i-------------------------------------oj----------iq---------------f---------------o------------------------lnbx-----------------------------------------x--cv--------------s-uqpv-issb------------xf-\n",
      "str03: -----ul--------ci------n----y--------co---------------s----o--v-ozp----------------------------------------pl-------p---------------------------------------------------------------------------------\n",
      "str04: i---------------------------------g-----------eva--------z---g-------brddbcs--vr-----vn----------------------n--gf------------------------------------------------------------------------------------\n",
      "str05: ---p------------------------yp--------------------------------------------------l-----------rz---x---------------------------------------------------------uc-p------m-------q---vg----tdfuivcdsbo----\n",
      "str06: ---p----------b----------de--------v-------------d--------c---vd--pfz------sm-----------s-----br----------------------------------oq-------------------------v--bbh-----------------------------------\n",
      "str07: --------------------------e-------------nbczf-------j-----------------------------t--v----xerzbrv-----------------igp---------------------------le----------------------------------------------------\n",
      "str08: --r-x---wxqk----------------------------------------------------------rd-------rlctod--------------------------------------t----------------m-----------------pr-------pxwd---------------------------\n",
      "str09: -k---------k---------------q--af-ig----------------qj--w---ok--------------------------ks-------------------------------------k--------------------------------rb--lg---------------------------------\n",
      "str10: ------l--x---x---------------pa-bi-vb----------v---------z--k---oz--z---------v-----d-----------------------------------------------------------------------------------------------------------------\n",
      "str11: -kr-------------ifs--avncd-q---------------------------whzc-------------------------------------------------------------------------------------------------------------------------------------------\n",
      "str12: ----------q-ax---------------------------------------u---------d----------------------------------------g--------------qv----------qcew-bfg---ij----------------------o--w------------------------w--y\n",
      "str13: --r----s-xq----------------------------jn---fp--adi--us----------------------i--------------------qb---e--------------z---------hko--------hmg--------------------------------------------------------\n",
      "str14: i-------w---------sh--v---------------------------------h-co----------------mi-----------u------v----dd---m-------------------------------------------------------------------------------------------\n",
      "str15: -------------------ht---------------------------------------------------------------------x------xq------------------jzq-bctbakn----------------------------------------------------------------------\n",
      "str16: ----xu-s---------f------c------f-----------z-pe--------------------------------------------e--------c-------------------v-------------wa----------ntfmgq--zu------------------------------------------\n",
      "\n",
      "solution is feasible: True\n"
     ]
    }
   ],
   "source": [
    "bench(scsp.example.load(\"uniform_q26n016k015-025.txt\"))"
   ]
  },
  {
   "cell_type": "code",
   "execution_count": null,
   "id": "Xref",
   "metadata": {},
   "outputs": [
    {
     "name": "stdout",
     "output_type": "stream",
     "text": [
      "--- Condition (with 5 chars) ---\n",
      "str01: dcbccdbcce\n",
      "str02: bddbeeeebd\n",
      "str03: cacdeecebe\n",
      "str04: aeddddebdd\n",
      "str05: acbeecabce\n",
      "str06: bbabebdcba\n",
      "str07: bbaeaebada\n",
      "str08: eeeecbdbee\n",
      "str09: ccdeedadcd\n",
      "str10: bdabdbeaad\n",
      "\n",
      "--- Solution (of length 32) ---\n",
      "  Sol: bdacbaecdebecaebdadcbdeabebdcced\n",
      "str01: -d-cb--c----c---d---b-------cce-\n",
      "str02: bd------d-be--e-------e--ebd----\n",
      "str03: ---c-a-cde-ec-eb------e---------\n",
      "str04: --a---e-d-------d-d--de-b--d---d\n",
      "str05: --acb-e--e--ca-b---c--e---------\n",
      "str06: b---ba----be---bd--cb--a--------\n",
      "str07: b---bae------aeb-ad----a--------\n",
      "str08: ------e--e-e--e----cbd--be----e-\n",
      "str09: ---c---cde-e----dadc-d----------\n",
      "str10: bda-b---d-be-a---ad-------------\n",
      "\n",
      "solution is feasible: True\n"
     ]
    }
   ],
   "source": [
    "bench(scsp.example.load(\"uniform_q05n010k010-010.txt\"))"
   ]
  },
  {
   "cell_type": "code",
   "execution_count": null,
   "id": "SFPL",
   "metadata": {},
   "outputs": [
    {
     "name": "stdout",
     "output_type": "stream",
     "text": [
      "--- Condition (with 5 chars) ---\n",
      "str01: dcbccdbcce\n",
      "str02: bddbeeeebd\n",
      "str03: cacdeecebe\n",
      "str04: aeddddebdd\n",
      "str05: acbeecabce\n",
      "str06: bbabebdcba\n",
      "str07: bbaeaebada\n",
      "str08: eeeecbdbee\n",
      "str09: ccdeedadcd\n",
      "str10: bdabdbeaad\n",
      "str11: ededaaaeaa\n",
      "str12: aaeaabeeac\n",
      "str13: eaabcaccdb\n",
      "str14: bdeeadeade\n",
      "str15: caedadeeed\n",
      "str16: ebcadbabbe\n",
      "str17: ddceeabdea\n",
      "str18: dabcddeaec\n",
      "str19: aadceedaab\n",
      "str20: aeecceeeaa\n",
      "str21: bbdaecaade\n",
      "str22: dacedaedab\n",
      "str23: aaeabbbbce\n",
      "str24: dedbcbcaab\n",
      "str25: dbdaaebbcb\n",
      "str26: debedbebac\n",
      "str27: ceebcdcbde\n",
      "str28: dbedaadaab\n",
      "str29: cccdcbebdc\n",
      "str30: aeeacdbcbd\n",
      "str31: dacbeacccd\n",
      "str32: ecebccdbdb\n",
      "str33: ddbbcedabb\n",
      "str34: aaeabaaeba\n",
      "str35: ecbbcaadcd\n",
      "str36: debccecdbc\n",
      "str37: daacbaeebc\n",
      "str38: adabeaacce\n",
      "str39: daecdbacaa\n",
      "str40: dacbbdcedc\n",
      "str41: dedbeebbde\n",
      "str42: cdadcdcdaa\n",
      "str43: ceedcbaeed\n",
      "str44: ceaecaaaca\n",
      "str45: dcccebbbad\n",
      "str46: baeeaebbde\n",
      "str47: dbdebaccdb\n",
      "str48: ebcbeedaea\n",
      "str49: aeeebbdbca\n",
      "str50: dbdabcecbb\n",
      "\n",
      "--- Solution (of length 36) ---\n",
      "  Sol: daecbdeabcedacbeadcbedabeacbdeacdbed\n",
      "str01: d--cb----c---c---d-b------c----c--e-\n",
      "str02: ----bd-----d--be----e---e----e---b-d\n",
      "str03: ---c---a-c-d---e----e-----c--e---be-\n",
      "str04: -ae--d-----d-----d---d--e--bd---d---\n",
      "str05: -a-cb-e---e--c--a--b------c--e------\n",
      "str06: ----b---b---a-be---b-d----cb--a-----\n",
      "str07: ----b---b---a--ea---e--b-a--d-a-----\n",
      "str08: --e---e---e----e--cb-d-be----e------\n",
      "str09: ---c-----c-d---e----eda-----d--cd---\n",
      "str10: ----bd-ab--d--bea-----a-----d-------\n",
      "str11: --e--de----da---a-----a-ea----a-----\n",
      "str12: -a-----a--e-a---a--be---eac---------\n",
      "str13: --e----a----a-b---c---a---c----cdb--\n",
      "str14: ----bde---e-a----d--e-a-----de------\n",
      "str15: ---c---a--eda----d--e---e----e--d---\n",
      "str16: --e-b----c--a----d-b--ab---b-e------\n",
      "str17: d----d---ce----ea--b-d--ea----------\n",
      "str18: da--b----c-d-----d--e-a-e-c---------\n",
      "str19: -a-----a---d-c-e----eda--a-b--------\n",
      "str20: -ae---e--c---c-e----e---ea----a-----\n",
      "str21: ----b---b--da--e--c---a--a--de------\n",
      "str22: da-c--e----da--e-d----ab------------\n",
      "str23: -a-----a--e-a-b----b---b---b---c--e-\n",
      "str24: d-e--d--bc----b---c---a--a-b--------\n",
      "str25: d---bd-a----a--e---b---b--cb--------\n",
      "str26: d-e-b-e----d--be---b--a---c---------\n",
      "str27: ---c--e---e---b---c--d----cbde------\n",
      "str28: d---b-e----da---ad----a--a-b--------\n",
      "str29: ---c-----c---c---dcbe--b----d--c----\n",
      "str30: -ae---ea-c-d--b---cb-d--------------\n",
      "str31: da-cb-ea-c---c----c--d--------------\n",
      "str32: --ec--e-bc---c---d-b-d-b------------\n",
      "str33: d----d--b-----b---c-edab---b--------\n",
      "str34: -a-----a--e-a-b-a-----a-e--b--a-----\n",
      "str35: --ecb---bc--a---adc--d--------------\n",
      "str36: d-e-b----c---c-e--c--d-b--c---------\n",
      "str37: da-----a-c----b-a---e---e--b---c----\n",
      "str38: -a---d-ab-e-a---a-c-------c--e------\n",
      "str39: daec-d--b---ac--a-----a-------------\n",
      "str40: da-cb---b--d-c-e-dc-----------------\n",
      "str41: d-e--d--b-e----e---b---b----de------\n",
      "str42: ---c-d-a---d-c---dc--da--a----------\n",
      "str43: ---c--e---ed-cb-a---e---e---d-------\n",
      "str44: ---c--ea--e--c--a-----a--ac---a-----\n",
      "str45: d--c-----c---c-e---b---b---b--a-d---\n",
      "str46: ----b--a--e----ea---e--b---bde------\n",
      "str47: d---bde-b---ac----c--d-b------------\n",
      "str48: --e-b----c----be----eda-ea----------\n",
      "str49: -ae---e---e---b----b-d-b--c---a-----\n",
      "str50: d---bd-abce--cb----b----------------\n",
      "\n",
      "solution is feasible: True\n"
     ]
    }
   ],
   "source": [
    "bench(scsp.example.load(\"uniform_q05n050k010-010.txt\"))"
   ]
  },
  {
   "cell_type": "code",
   "execution_count": null,
   "id": "BYtC",
   "metadata": {},
   "outputs": [
    {
     "name": "stdout",
     "output_type": "stream",
     "text": [
      "--- Condition (with 4 chars) ---\n",
      "str01: ATGGGATACG\n",
      "str02: ATACCTTCCC\n",
      "str03: CACGAATTGA\n",
      "str04: TAAAATCTGT\n",
      "str05: AGGTAACAAA\n",
      "str06: TTCCTAGGTA\n",
      "str07: TTGTAGATCT\n",
      "str08: TGGGAAGTTC\n",
      "str09: TTCCACAACT\n",
      "str10: TCTAAACGAA\n",
      "\n",
      "--- Solution (of length 27) ---\n",
      "  Sol: TATCGACGTAAGACTACGTAACGTCAC\n",
      "str01: -AT-G--G---GA-TACG---------\n",
      "str02: -AT--AC------CT---T--C--C-C\n",
      "str03: ---C-ACG-AA---T---T---G--A-\n",
      "str04: TA---A---AA---T-C-T---GT---\n",
      "str05: -A--G--GTAA--C-A---AA------\n",
      "str06: T-TC--C-TA-G-----GTA-------\n",
      "str07: T-T-G---TA-GA-T-C-T--------\n",
      "str08: T---G--G---GA--A-GT----TC--\n",
      "str09: T-TC--C--A---C-A---A-C-T---\n",
      "str10: T--C----TAA-AC---G-AA------\n",
      "\n",
      "solution is feasible: True\n"
     ]
    }
   ],
   "source": [
    "bench(scsp.example.load(\"nucleotide_n010k010.txt\"))"
   ]
  },
  {
   "cell_type": "code",
   "execution_count": null,
   "id": "RGSE",
   "metadata": {},
   "outputs": [
    {
     "name": "stdout",
     "output_type": "stream",
     "text": [
      "--- Condition (with 5 chars) ---\n",
      "str01: TAGTAGTAGACTCCGGAAGTGACAAACCCTGAAAAGAATGGATAAATATA\n",
      "str02: GGATAAACACTCCCGAAAATAATTTGACTTAAACAACGCGACAGTTCAAG\n",
      "str03: ATACCTTCCTAGGTAACAAACCAACCAACTTTTGATCTCTTGTAGATCTG\n",
      "str04: TAAATTATAATCTTATACTAGTAAAAAATAGGGTGTAACCGAAAACGGTC\n",
      "str05: TTAAAACAGCCTGTGGGTTGCACCCACTCACAGGGCCCACTGGGCGCAAG\n",
      "str06: ATGACTTCCAATGGATCCCAACCTCAAGCTTCCACCCCAATGGTTTCAGC\n",
      "str07: AACAAACCAACCAACTTTTGATCTCTTGTAGATCTGTTCTCTAAACGAAC\n",
      "str08: ATGAAAACGAAAATTATTATCAAGGGTATGGAAGTGGAAGCTGACGAAAT\n",
      "str09: ACTCGGCTGCATGCTTAGTGCACTCACGCAGTATAATTAATAACTAATTA\n",
      "str10: TTGTAGATCTGTTCTCTAAACGAACTTTAAAATCTGTGTGGCTGTCACTC\n",
      "str11: GCAGAGCATTTTCTAATATCCACAAAATGAAGGCAATAATTGTACTACTC\n",
      "str12: ATGAGCCAAGATCCGACGAAGAGCCCCAAGGAGGAGAAGGAGGGACCCCC\n",
      "str13: TCTCACAGTTCAAGAACCCAAAGTACCCCCCATAGCCCTCTTAAAGCCAC\n",
      "str14: AGGTTTATACCTTCCTAGGTAACAAACCAACCAACTTTCGATCTCTTGTA\n",
      "str15: AGGTTTATACCTTCCCAGGTAACAAACCAACCAACTTTCGATCTCTTGTA\n",
      "str16: TAAAACAACTCAATACAACATAAGAAAATCAACGCAAAAACACTCACAAA\n",
      "str17: CCGCCCATTTGGGCGGCTCTCGAGCGATAGCTCGTCGAATCCCTCGACCT\n",
      "str18: ATACCTTCCCAGGTAACAAACCAACCAACTTTCGATCTCTTGTAGATCTG\n",
      "str19: TCTCACAGTTCAAGAACCTCAAGTCTCCCCCATAGGCCTCTTTCAGTCAG\n",
      "str20: GATCTCTCTCACCGAACCTGGCCCCGGGCAAATGCCCTAATCCAGAGGTG\n",
      "str21: AGAGCAATCAGTGCATCAGAAATATACCTATTATACACTTTGCTAAGAAT\n",
      "str22: AATTAAAACATCTCAATACAACATAAGAAAAACAACGCAAAAACACTCAT\n",
      "str23: AAACGAACTTTAAAATCTGTGTGGCTGTCACTCGGCTGCATGCTTAGTGC\n",
      "str24: ATAACTAATTACTGTCGTTGACAGGACACGAGTAACTCGTCTATCTTCTG\n",
      "str25: ATGAGTGTCACGAATTCACGTACAATGAACTGGATGTTCACGTGGAATAA\n",
      "str26: ACCGTGGGCGAGCGGTGACCGGTGTCTTCCTAGTGGGTCCCACGTTGAAR\n",
      "str27: AAAGGTTTATACCTTCCCAGGTAACAAACCAACCAACTTTCGATCTCTTG\n",
      "str28: AGTAGTTCGCCTGTGTGAGCTGACAAACTTAGTAGTGTTTGTGAGGATTA\n",
      "str29: TTTATACCTTCCTAGGTAACAAACCAACCAACTTTCGATCTCTTGTAGAT\n",
      "str30: ATGCGGTCGTCTCTCCCCGGCTTTTTTTCCCCGCGCCGCGTTGGCGCCGA\n",
      "str31: GTGACAAAAACATAATGGACTCCAACACCATGTCAAGCTTTCAGGTAGAC\n",
      "str32: GTGTAAGAAACAGTAAGCCCGGAAGTGGTGTTTTGCGATTTCGAGGCCGG\n",
      "str33: GAGAATGAGTCTCATTACCGCCCGGTACTTAGCAAGCTAATAGTCACGGC\n",
      "str34: ATGTGGTCGATGCCATGGAGGCCCACCAGTTCATTAAGGCTCCTGGCATT\n",
      "str35: ACGAGCGTTTTAAGGGCCCGCGACTGCGACGGCCACATGGCCCTGTATGT\n",
      "str36: GGTTTATACCTTCCCAGGTAACAAACCAACCAACTTTCGATCTCTTGTAG\n",
      "str37: TGGGAAGTTCCAAAAGATCACAAAACACTACCAGTCAACCTGAAGTACAC\n",
      "str38: GAAGCGTTAACGTGTTGAGGAAAAGACAGCTTAGGAGAACAAGAGCTGGG\n",
      "str39: ACCAGCGCACTTCGGCAGCGGCAGCACCTCGGCAGCACCTCAGCAGCAAC\n",
      "str40: ATGGGACAACTTATTCCTATCATGTGCCAAGAGGTTTTACCCGGTGACCA\n",
      "str41: TTGTAGATCTGTTCTCTAAACGAACTTTAAAATCTGTGTGGTTGTCACTC\n",
      "str42: AACCAACCAACTTTCGATCTCTTGTAGATCTGTTCTCTAAACGAACTTTA\n",
      "str43: GGGTTCTGCCAGGCATAGTCTTTTTTTCTGGCGGCCCTTGTGTAAACCTG\n",
      "str44: GGCTGCATGCTTAGTGCACTCACGCAGTATAATTAATAACTAATTACTGT\n",
      "str45: TGCATGCTTAGTGCACTCACGCAGTATAATTAATAACTAATTACTGTCGT\n",
      "str46: TTCCACAACTTTCCACCAAGCTCTGCAAGATCCCAGAGTCAGGGGCCTGT\n",
      "str47: TCTAAACGAACTTTAAAATCTGTGTGGCTGTCACTCGGCTGCATGCTTAG\n",
      "str48: ACCGGATGGCCGCGATTTTTCGGAGTCCTTGGGGGACCACTCAGAATAGA\n",
      "str49: CTTGTAGATCTGTTCTCTAAACGAACTTTAAAATCTGTGTGGCTGTCACT\n",
      "str50: ATGAGCACTAAGCGAAGAACCAAAAAGCAGACAATACAACCCGCTATTAC\n",
      "\n",
      "--- Solution (of length 150) ---\n",
      "  Sol: ATGACTGACTAGATCAGTACTACGATCTCATGACTAGCATGCAGTCAGTCAAGCATCACAGTCAGTACATGACTAGCATACGTACTGACTCGATCTGACTGATCGATCGATGACTACGTAGCATGCATCGATCGAGATATGAACCGARTG\n",
      "str01: -T-A--G--TAG-T-AG-ACT-C---C----G----G-A---AGT--G--A--CA--A-A--C----C----CT-G-A-A---A---A---GA----A-TG---GAT--A--A--A--TA---T--A-----------------------\n",
      "str02: --G---GA-TA-A--A---C-AC--TC-C----C--G-A---A---A---A----T-A-A-T---T---TGACT----TA---A---AC---A----AC-G--CGA-C-A-G--T---T--CA---A--G--------------------\n",
      "str03: AT-AC---CT---TC----CTA-G-------G--TA--A--CA---A---A--C--CA-A--C----CA--ACT----T---T--TGA-TC--TCT---TG-T--A--GAT--CT--G--------------------------------\n",
      "str04: -T-A---A--A--T---TA-TA--ATCT--T-A-TA-C-T--AGT-A---AA--A--A-A-T-AG-----G----G--T--GTA---AC-CGA----A---A---A-CG--G--T-C---------------------------------\n",
      "str05: -T---T-A--A-A--A---C-A-G--C-C-TG--T-G---G--GT---T---GCA-C-C---CA---C-T--C-A-CA---G----G----G--C---C----C-A-C--TG-----G--GC--GCA---A--G----------------\n",
      "str06: ATGACT---T----C----C-A--AT-----G----G-AT-C---C---CAA-C--C----TCA--A---G-CT----T-C---C--AC-C---C---C--A---AT-G--G--T---T----T-CA--G--C-----------------\n",
      "str07: A--AC--A--A-A-C----C-A--A-C-CA--ACT----T----T---T---G-ATC----TC--T---TG--TAG-AT-C-T---G--T---TCT--CT-A---A---A---C---G-A--A--C------------------------\n",
      "str08: ATGA---A--A-A-C-G-A--A--A----AT---TA---T----T-A-TCAAG-------G---GTA--TG----G-A-A-GT---G----GA----A--G--C--T-GA---C---G-A--A---AT----------------------\n",
      "str09: A---CT--C--G----G--CT--G--C--ATG-CT----T--AGT--G-CA--C-TCAC-G-CAGTA--T-A--A---T---TA---A-T--A----ACT-A---AT---T-A-------------------------------------\n",
      "str10: -T---TG--TAGATC--T-----G-T-TC-T--CTA--A---A--C-G--AA-C-T-----T---TA-A--A--A---T-C-T---G--T-G-T--G---G--C--T-G-T--C-AC-T--C----------------------------\n",
      "str11: --G-C--A---GA---G--C-A---T-T--T---T--C-T--A---A-T-A----TC-CA--CA--A-A--A-T-G-A-A-G----G-C---A----A-T-A---AT---TG--TAC-TA-C-T-C------------------------\n",
      "str12: ATGA--G-C-----CA--A----GATC-C--GAC--G-A---AG--AG-C---C--C-CA---AG-----GA---G-----G-A--GA----A---G---GA--G---G--GAC--C----C---C--C---------------------\n",
      "str13: -T--CT--C-A---CAGT--T-C-A----A-GA--A-C---C---CA---AAG--T-AC---C----C----C---C---C--A-T-A---G--C---C----C--TC--T---TA---A--A-GC--C-A-C-----------------\n",
      "str14: A-G---G--T---T---TA-TAC---CT--T--C---C-T--AG---GT-AA-CA--A-A--C----CA--AC---CA-AC-T--T---TCGATCT--CT--T-G-T--A----------------------------------------\n",
      "str15: A-G---G--T---T---TA-TAC---CT--T--C---C---CAG---GT-AA-CA--A-A--C----CA--AC---CA-AC-T--T---TCGATCT--CT--T-G-T--A----------------------------------------\n",
      "str16: -T-A---A--A-A-CA--ACT-C-A----AT-AC-A--A--CA-T-A---A-G-A--A-A---A-T-CA--AC--GCA-A---A---A----A-C--ACT---C-A-C-A--A--A----------------------------------\n",
      "str17: ----C---C--G--C----C--C-AT-T--TG----G---GC-G---G-C-----TC----TC-G-A---G-C--G-ATA-G--CT--C--G-TC-GA---ATC---C-----CT-CG-A-C---C-T----------------------\n",
      "str18: AT-AC---CT---TC----C--C-A------G----G--T--A---A--CAA--A-C-CA---A---C----C-A--A--C-T--T---TCGATCT--CT--T-G-T--A-GA"
     ]
    },
    {
     "name": "stdout",
     "output_type": "stream",
     "text": [
      "-T-C-T-G-----------------------------\n",
      "str19: -T--CT--C-A---CAGT--T-C-A----A-GA--A-C---C--TCA---A-G--TC----TC----C----C---C---C--A-T-A---G----G-C----C--TC--T---T---T--CA-G--TC-A--G----------------\n",
      "str20: --GA-T--CT----C--T-CT-C-A-C-C--GA--A-C---C--T--G----GC--C-C---C-G-----G----GCA-A---A-TG-C-C---CT-A---ATC---C-A-GA----G--G--TG-------------------------\n",
      "str21: A-GA--G-C-A-ATCAGT-----G--C--AT--C-AG-A---A---A-T-A----T-AC---C--TA--T---TA---TAC--ACT---T---T--G-CT-A---A--GA--A-T-----------------------------------\n",
      "str22: A--A-T---TA-A--A--AC-A---TCTCA--A-TA-CA---A--CA-T-AAG-A--A-A---A--ACA--AC--GCA-A---A---A----A-C--ACT---C-AT-------------------------------------------\n",
      "str23: A--A---AC--GA--A---CT----T-T-A--A--A--AT-C--T--GT---G--T----G---G--C-TG--T--CA--C-T-C-G----G--CTG-C--AT-G--C--T---TA-GT-GC----------------------------\n",
      "str24: AT-A---ACTA-AT---TACT--G-TC----G--T----TG-A--CAG----G-A-CAC-G--AGTA-A---CT--C----GT-CT-A-TC--T-T--CTG-------------------------------------------------\n",
      "str25: ATGA--G--T-G-TCA---C---GA----AT---T--CA--C-GT-A--CAA---T----G--A--AC-TG----G-AT--GT--T--C---A-C-G--TG---GA---AT-A--A----------------------------------\n",
      "str26: A---C---C--G-T--G------G-------G-C--G-A-GC-G---GT---G-A-C-C-G---GT----G--T--C-T---T-C---CT--A---G--TG---G---G-T--C--C----CA--C---G-T-----T--GAA----R--\n",
      "str27: A--A---A---G----GT--T----T---AT-AC---C-T----TC---C---CA-----G---GTA-A---C-A--A-AC---C--A----A-C---C--A---A-C--T---T---T--C--G-ATC--TC----T-TG---------\n",
      "str28: A-G--T-A---G-T---T-C---G--C-C-TG--T-G--TG-AG-C--T---G-A-CA-A---A---C-T---TAG--TA-GT---G--T---T-TG--TGA--G---GAT---TA----------------------------------\n",
      "str29: -T---T---TA--T-A---C--C--T-TC----CTAG---G---T-A---A--CA--A-A--C----CA--AC---CA-AC-T--T---TCGATCT--CT--T-G-T--A-GA-T-----------------------------------\n",
      "str30: ATG-C-G----G-TC-GT-CT-C--TC-C----C---C--G--G-C--T------T-----T---T---T---T----T-C---C---C-CG--C-G-C----CG--CG-T---T--G--GC--GC--CGA-------------------\n",
      "str31: --G--TGAC-A-A--A--A--AC-AT---A--A-T-G---G-A--C--TC---CA--ACA--C----CATG--T--CA-A-G--CT---T---TC--A--G---G-T--A-GAC------------------------------------\n",
      "str32: --G--TG--TA-A---G-A--A--A-C--A-G--TA--A-GC---C---C--G-------G--A--A---G--T-G-----GT---G--T---T-T---TG--CGAT---T---T-CG-AG---GC--CG---G----------------\n",
      "str33: --GA--GA--A--T--G-A----G-TCTCAT---TA-C---C-G-C---C---C------G---GTAC-T---TAGCA-A-G--CT-A----AT---A--G-TC-A-CG--G-C------------------------------------\n",
      "str34: ATG--TG----G-TC-G-A-T--G--C-CATG----G-A-G--G-C---C---CA-C-CAGT---T-CAT---TA--A---G----G-CTC---CTG---G--C-AT---T---------------------------------------\n",
      "str35: A---C-GA---G--C-GT--T----T-T-A--A---G---G--G-C---C---C------G-C-G-AC-TG-C--G-A--CG----G-C-C-A-C--A-TG---G--C-----C--C-T-G--T--AT-G-T------------------\n",
      "str36: --G---G--T---T---TA-TAC---CT--T--C---C---CAG---GT-AA-CA--A-A--C----CA--AC---CA-AC-T--T---TCGATCT--CT--T-G-T--A-G--------------------------------------\n",
      "str37: -TG---G----GA--AGT--T-C---C--A--A--A--A-G-A-TCA--CAA--A--ACA--C--TAC----C-AG--T-C--A---AC-C--T--GA---A--G-T--A---C-AC---------------------------------\n",
      "str38: --GA---A---G--C-GT--TA--A-C----G--T-G--T----T--G--A-G-------G--"
     ]
    },
    {
     "name": "stdout",
     "output_type": "stream",
     "text": [
      "A--A-A--A---G-A--C--A--G-CT---T---A--G---GA--GA--AC-A---AG-A-GC-T-G---G-G--------------\n",
      "str39: A---C---C-AG--C-G--C-AC--T-TC--G----GCA-GC-G---G-CA-GCA-C-C--TC-G-----G-C-AGCA--C---CT--C---A---G-C--A--G--C-A--AC------------------------------------\n",
      "str40: ATG---G----GA-CA--ACT----T---AT---T--C---C--T-A-TCA----T----GT--G--C----C-A--A---G-A--G----G-T-T---T--T--A-C-----C--CG--G--TG-A-C---C-A---------------\n",
      "str41: -T---TG--TAGATC--T-----G-T-TC-T--CTA--A---A--C-G--AA-C-T-----T---TA-A--A--A---T-C-T---G--T-G-T--G---G-T---T-G-T--C-AC-T--C----------------------------\n",
      "str42: A--AC---C-A-A-C----C-A--A-CT--T---T--C--G-A-TC--TC-----T-----T--GTA---GA-T--C-T--GT--T--CTC--T---A---A---A-CGA--ACT---T----T--A-----------------------\n",
      "str43: --G---G----G-T---T-CT--G--C-CA-G----GCAT--AGTC--T------T-----T---T---T---T----T-C-T---G----G--C-G---G--C---C-----CT---T-G--TG--T--A---A-A------CC---TG\n",
      "str44: --G---G-CT-G--CA-T-----G--CT--T-A---G--TGCA--C--TCA--C------G-CAGTA--T-A--A---T---TA---A-T--A----ACT-A---AT---T-ACT--GT-------------------------------\n",
      "str45: -TG-C--A-T-G--C--T--TA-G-T-----G-C-A-C-T-CA--C-G-CA-G--T-A---T-A--A--T---TA--ATA---ACT-A----AT-T-ACTG-TCG-T-------------------------------------------\n",
      "str46: -T---T--C-----CA---C-A--A-CT--T---T--C---CA--C---CAAGC-TC----T--G--CA--A---G-AT-C---C---C---A---GA--G-TC-A--G--G-----G--GC---C-T-G-T------------------\n",
      "str47: -T--CT-A--A-A-C-G-A--AC--T-T--T-A--A--A---A-TC--T---G--T----GT--G-----G-CT-G--T-C--ACT--C--G----G-CTG--C-AT-G----CT---TAG-----------------------------\n",
      "str48: A---C---C--G----G-A-T--G-------G-C---C--GC-G--A-T------T-----T---T---T--C--G-----G-A--G--TC---CT---TG---G---G--G-----G-A-C---CA-C--TC-AGA-AT-A---GA---\n",
      "str49: ----CT---T-G-T-AG-A-T-C--T-----G--T----T-C--TC--T-AA--A-C---G--A--AC-T---T----TA---A---A----ATCTG--TG-T-G---G----CT--GT--CA--C-T----------------------\n",
      "str50: ATGA--G-C-A---C--TA--A-G--C----GA--AG-A---A--C---CAA--A--A-AG-CAG-ACA--A-TA-CA-AC---C---C--G--CT-A-T--T--A-C------------------------------------------\n",
      "\n",
      "solution is feasible: True\n"
     ]
    }
   ],
   "source": [
    "bench(scsp.example.load(\"nucleotide_n050k050.txt\"))"
   ]
  },
  {
   "cell_type": "code",
   "execution_count": null,
   "id": "Kclp",
   "metadata": {},
   "outputs": [
    {
     "name": "stdout",
     "output_type": "stream",
     "text": [
      "--- Condition (with 19 chars) ---\n",
      "str01: MALSYCPKGT\n",
      "str02: MQSSLNAIPV\n",
      "str03: MPLSYQHFRK\n",
      "str04: MEEHVNELHD\n",
      "str05: MSNFDAIRAL\n",
      "str06: MFRNQNSRNG\n",
      "str07: MFYAHAFGGY\n",
      "str08: MSKFTRRPYQ\n",
      "str09: MSFVAGVTAQ\n",
      "str10: MESLVPGFNE\n",
      "\n",
      "--- Solution (of length 62) ---\n",
      "  Sol: MSFEAEHVNAELSYAHAFDGACPKGLVTAQSYFIRALNQHFNSRKLNAGIPGFNETRRPVYQ\n",
      "str01: M---A------LSY-------CPKG--T----------------------------------\n",
      "str02: M----------------------------QS-----------S--LNA-IP--------V--\n",
      "str03: M---------------------P--L----SY------QHF--RK-----------------\n",
      "str04: M--E-EHVN-EL---H--D-------------------------------------------\n",
      "str05: MS------N--------FD-A------------IRAL-------------------------\n",
      "str06: M-F-------------------------------R--NQ--NSR--N-G-------------\n",
      "str07: M-F----------YAHAF-G----G------Y------------------------------\n",
      "str08: MS---------------------K--------F----------------------TRRP-YQ\n",
      "str09: MSF----V-A---------G------VTAQ--------------------------------\n",
      "str10: M--E--------S------------LV-----------------------PGFNE-------\n",
      "\n",
      "solution is feasible: True\n"
     ]
    }
   ],
   "source": [
    "bench(scsp.example.load(\"protein_n010k010.txt\"))"
   ]
  },
  {
   "cell_type": "code",
   "execution_count": null,
   "id": "emfo",
   "metadata": {},
   "outputs": [
    {
     "name": "stdout",
     "output_type": "stream",
     "text": [
      "--- Condition (with 20 chars) ---\n",
      "str01: MRHLNIDIETYSSNDIKNGVYKYADAEDFEILLFAYSIDGGEVECLDLTR\n",
      "str02: MERRAHRTHQNWDATKPRERRKQTQHRLTHPDDSIYPRIEKAEGRKEDHG\n",
      "str03: MEPGAFSTALFDALCDDILHRRLESQLRFGGVQIPPEVSDPRVYAGYALL\n",
      "str04: MGKFYYSNRRLAVFAQAQSRHLGGSYEQWLACVSGDSAFRAEVKARVQKD\n",
      "str05: FFRENLAFQQGKAREFPSEEARANSPTSRELWVRRGGNPLSEAGAERRGT\n",
      "str06: MDPSLTQVWAVEGSVLSAAVDTAETNDTEPDEGLSAENEGETRIIRITGS\n",
      "str07: MAFDFSVTGNTKLDTSGFTQGVSSMTVAAGTLIADLVKTASSQLTNLAQS\n",
      "str08: MAVILPSTYTDGTAACTNGSPDVVGTGTMWVNTILPGDFFWTPSGESVRV\n",
      "str09: MNTGIIDLFDNHVDSIPTILPHQLATLDYLVRTIIDENRSVLLFHIMGSG\n",
      "str10: MFVFLVLLPLVSSQCVNLRTRTQLPPAYTNSFTRGVYYPDKVFRSSVLHS\n",
      "str11: MDSKETILIEIIPKIKSYLLDTNISPKSYNDFISRNKNIFVINLYNVSTI\n",
      "str12: MLLSGKKKMLLDNYETAAARGRGGDERRRGWAFDRPAIVTKRDKSDRMAH\n",
      "str13: MNGEEDDNEQAAAEQQTKKAKREKPKQARKVTSEAWEHFDATDDGAECKH\n",
      "str14: MESLVPGFNEKTHVQLSLPVLQVRDVLVRGFGDSVEEVLSEARQHLKDGT\n",
      "str15: MRYIVSPQLVLQVGKGQEVERALYLTPYDYIDEKSPIYYFLRSHLNIQRP\n",
      "str16: MPRVPVYDSPQVSPNTVPQARLATPSFATPTFRGADAPAFQDTANQQARQ\n",
      "str17: MFVFLVLLPLVSSQCVNLRTRTQLPLAYTNSFTRGVYYPDKVFRSSVLHS\n",
      "str18: MFVFFVLLPLVSSQCVNLTTRTQLPPAYTNSFTRGVYYPDKVFRSSVLHS\n",
      "str19: MEAIISFAGIGINYKKLQSKLQHDFGRVLKALTVTARALPGQPKHIAIRQ\n",
      "str20: MASSGPERAEHQIILPESHLSSPLVKHKLLYYWKLTGLPLPDECDFDHLI\n",
      "str21: MESLVPGFNEKTHVQLSLPVLQVRDVLVRGFGDSVEEVLSEVRQHLKDGT\n",
      "str22: MLAPSPNSKIQLFNNINIDINYEHTLYFASVSAQNSFFAQWVVYSADKAI\n",
      "str23: MSAITETKPTIELPALAEGFQRYNKTPGFTCVLDRYDHGVINDSKIVLYN\n",
      "str24: MKNIAEFKKAPELAEKLLEVFSNLKGNSRSLDPMRAGKHDVVVIESTKKL\n",
      "str25: MPQPLKQSLDQSKWLREAEKHLRALESLVDSNLEEEKLKPQLSMGEDVQS\n",
      "str26: MFVFLVLLPLVSSQCVNLITRTQSYTNSFTRGVYYPDKVFRSSVLHSTQD\n",
      "str27: MKFDVLSLFAPWAKVDEQEYDQQLNNNLESITAPKFDDGATEIESERGDI\n",
      "str28: MFVFLVLLPLVSSQCVNFTNRTQLPSAYTNSFTRGVYYPDKVFRSSVLHS\n",
      "str29: MWSIIVLKLISIQPLLLVTSLPLYNPNMDSCCLISRITPELAGKLTWIFI\n",
      "str30: MESLVPGFNEKTHVQLSLPVLQVRDVLVRGFGDSVEEFLSEARQHLKDGT\n",
      "str31: MFVFLVLLPLVSSQCVMPLFNLITTTQSYTNFTRGVYYPDKVFRSSVLHL\n",
      "str32: MHQITVVSGPTEVSTCFGSLHPFQSLKPVMANALGVLEGKMFCSIGGRSL\n",
      "str33: MATLLRSLALFKRNKDKPPITSGSGGAIRGIKHIIIVPIPGDSSITTRSR\n",
      "str34: MESLVPGFNEKTHVQLSLPVLQVRDVLVRGFGDSMEEVLSEARQHLKDGT\n",
      "str35: MFVFLVLLPLVSSQCVNLTTGTQLPPAYTNSFTRGVYYPDKVFRSSVLHS\n",
      "str36: MANIINLWNGIVPMVQDVNVASITAFKSMIDETWDKKIEANTCISRKHRN\n",
      "str37: MLNRIQTLMKTANNYETIEILRNYLRLYIILARNEEGRGILIYDDNIDSV\n",
      "str38: MADPAGTNGEEGTGCNGWFYVEAVVEKKTGDAISDDENENDSDTGEDLVD\n",
      "str39: MFVFLVLLPLVSSQCVNLRTRTQLPPSYTNSFTRGVYYPDKVFRSSVLHS\n",
      "str40: MESLVPGFNEKTHVQLSLPVLQVCDVLVRGFGDSVEEVLSEARQHLKDGT\n",
      "str41: MNNQRKKTARPSFNMLKRARNRVSTVSQLAKRFSKGLLSGQGPMKLVMAF\n",
      "str42: MSNFDAIRALVDTDAYKLGHIHMYPEGTEYVLSNFTDRGSRIEGVTHTVH\n",
      "str43: MIELRHEVQGDLVTINVVETPEDLDGFRDFIRAHLICLAVDTETTGLDIY\n",
      "str44: MFVFLVLLPLVSSQCVMPLFNLITTNQSYTNSFTRGVYYPDKVFRSSVLH\n",
      "str45: MSKDLVARQALMTARMKADFVFFLFVLWKALSLPVPTRCQIDMAKKLSAG\n",
      "str46: MASLLKSLTLFKRTRDQPPLASGSGGAIRGIKHVIIVLIPGDSSIVTRSR\n",
      "str47: MRVRGILRNWQQWWIWTSLGFWMFMICSVVGNLWVTVYYGVPVWKEAKTT\n",
      "str48: MAVEPFPRRPITRPHASIEVDTSGIGGSAGSSEKVFCLIGQAEGGEPNTV\n",
      "str49: MFYAHAFGGYDENLHAFPGISSTVANDVRKYSVVSVYNKKYNIVKNKYMW\n",
      "str50: MANYSKPFLLDIVFNKDIKCINDSCSHSDCRYQSNSYVELRRNQALNKNL\n",
      "\n",
      "--- Solution (of length 536) ---\n",
      "  Sol: MFAVFLESVLLPLVSSQCVNRPGFKNEDLKTHVQLSLPRAITRVLQVFSTGYALEIRDVLSPQTKLVRNGFMPLAGDSPTIEFNLDAYTKLVEQWNSFTRGIVDHAETYQPCGKIVLNRTAPSEAFNYLQGSAEKDHLMRTIEQLAVFPDKSEIVLTRQAGYFHPSENRTDLKNSFVARQLGTRGVYSDILNVPKTASGITYPDKVFRSEGSLHQLANSVLHYDSFTPLCGVKRINYEDLSFGAMTIDRGVENLWAKFYAHLSPGTVRDEKLIASGNEWISTAVLYPKDFQDRAIPREGVLSAHIDVGKQTAVENPGKRILSETMDSVIAGEQCLFARCSKYWTNSVLDIFGHPQAETRSIDKLMGRSGEHITVAKLQCFHRNISDYAGTDEPDNEGLIDQSVARKNSIYTECLPGDSAFLVHKLTRNWEGIFMAEFPDTVKARIVQKDSIYNLRIECDFDHGEDLVDIKMICSADKAINKYMWTPRNVSGESVGIEKAEGRKEDHGNLQALNKNLTIVWVTVYYGVPVWKEAKTT\n",
      "str01: M-------------------R----------H--L---------------------------------N-----------I----D---------------I----ETY-------------S--------S-----------------------------------N--D------------------I----K----------------------N------------GV----Y-------------------K-YA--------D----A---E----------DF-------E------I---------------L-------------LFA----Y---S---I-----------D---G--GE---V-----------------E--------------------CL--D---L----TR-------------------------------------------------------------------------------------------------------------\n",
      "str02: M-----E-------------R-----------------RA----------------------------------------------------------------H-------------RT----------------H------Q-----------------------N--------------------------------------------------------------------------------------W-------------D----A-------T-----K-------PRE--------------------R------------------R--K-------------Q--T-------------------Q--HR---------------L------------T-----------H--------------PD---------DSIY---------------------------------PR--------IEKAEGRKEDHG-----------------------------\n",
      "str03: M-----E----P----------G----------------A-------FST--AL----------------F-----D---------A---L--------------------C-----------------------D-------------D---I-L-------H----R---------R-L----------------------------E-S--QL-----------------R-------FG------GV---------------------------------------Q---IP-------------------P------E----V-----------S--------D----P----R--------------V------------YAG--------------------Y--------A-L---L---------------------------------------------------------------------------------------------------------------\n",
      "str04: M---------------------G-K----------------------F---Y-----------------------------------Y--------S--------------------NR--------------------R----LAVF-----------A-------------------Q----------------A-----------------Q---S--------------R--------------------------HL--G----------G----S----Y-----------E-----------Q--------------------------------W----L-------A----------------------C-----------------------V----S-------GDSAF------R-------AE----VKAR-VQKD---------------------------------------------------------------------------------------\n",
      "str05: -F--F---------------R-----E-----------------------------------------N----LA-------F----------Q---------------Q--GK------A------------------R--E----FP--SE-------------E----------AR-----------------A--------------------NS--------P-----------------T----------------S----R-E-L------W----V--------R---R-G--------G------NP----LSE------AG-----A-------------------E-R-------R-G---T-------------------------------------------------------------------------------------------------------------------------------------------------------------------\n",
      "str06: M--------------------------D---------P----------S----L---------T-----------------------------Q--------V-------------------------------------------------------------------------------------------------------------------"
     ]
    },
    {
     "name": "stdout",
     "output_type": "stream",
     "text": [
      "------------------------------------WA----------V--E-----G----S--VL----------------SA--------AV------------D-----------------T-----------AET------------------------N--D---T-EPD-EGL---S-A-------E---------------N-EG----E---T---RI-----I---RI----------------------------T-----G-S-------------------------------------------\n",
      "str07: M-A-F----------------------D-------------------FS---------V----T-----G-------------N----TKL------------D---T--------------S-------G----------------F--------T-Q-G---------------V----------S---------S----------------------------------------------MT----V----A---A----GT-----LIA--------------D-----------L-----V-K-TA---------S----S-----Q-L--------TN--L-------A---------------------Q------S-------------------------------------------------------------------------------------------------------------------------------------------------------\n",
      "str08: M-AV------------------------------------I---L----------------P---------------S-T-------YT--------------D--------G------TA---A--------------------------------------------------------------------------------------------------------C---------------T------N-----------G---------S-----------P-D----------V------VG--T-----G------TM-----------------W---V-----------------------------------N------T--------I--------------LPGD--F------------F--------------------------------------------------WTP---SGESV-------R----------------V-----------------\n",
      "str09: M------------------N----------T-------------------G----I------------------------I----D----L------F-----D-------------N------------------H---------V--D-S-I----------P----T-------------------IL--P-------------------HQLA---------T-L---------D-------------------Y--L----VR-------------T------------I---------ID-------EN---R--S-----V------L------------L--F-H-------I---MG-SG-----------------------------------------------------------------------------------------------------------------------------------------------------------------------\n",
      "str10: MF-VFL--VLLPLVSSQCVN--------L---------R--TR------T------------Q--L------P-----P-------AYT------NSFTRG-V-----Y------------------Y--------------------PDK---V-------F-----R-----S------------S----V-------------------LH----S-----------------------------------------------------------------------------------------------------------------------------------------------------------------------------------------------------------------------------------------------------------------------------------------------------------------------------\n",
      "str11: M--------------------------D-------S----------------------------K----------------E------T------------I--------------L------------------------IE----------I-----------------------------------I---PK----I----K---S-------------Y-----L----------L-------D-----------------T----------N--IS-----PK-------------S---------------------------------------Y--N---D-F---------I------S-------------RN----------------------KN-I----------F-V---------I--------------------NL---------------------------Y-----NVS--------------------------TI------------------\n",
      "str12: M----L---L----S-------G-K----K----------------------------------K------M-L----------LD---------N------------Y--------------E----------------T----A-------------A-----------------AR--G-RG-------------G----D-----E-----------------------R--------------R------------------R-------G--W---A------F-DR--P------A-I-V---T------KR------D--------------K----S--D---------R-----M---------A-----H-----------------------------------------------------------------------------------------------------------------------------------------------------------\n",
      "str13: M------------------N--G---E---------------------------E--D------------------D------N--------EQ-----------A--------------A---A--------E---------Q--------------Q----------T--K---------------------K-A-------K--R-E----------------------K------------------------------P------K-------------------Q--A--R-----------K---V----------T--S----E----A-----W-------------E-------------H--------F-----D-A-TD--D--G------A-------EC----------K-------------------------------------H--------------------------------------------------------------------------\n",
      "str14: M-----ES-L---V-------PGF-NE--KTHVQLSLP-----VLQV---------RDVL------VR-GF----GDS-------------VE-------------E--------VL-----SEA--------------R---Q-------------------H-------LK---------------D---------G-T-----------------------------------------------------------------------------------------------------------------------------------------------------------------------------------------------------------------------------------------------------------------------------------------------------------------------------------------------\n",
      "str15: M-------------------R------------------------------Y---I--V-SPQ--LV------L-------------------Q--------V---------GK----------------G------------Q--------E-V-----------E-R--------A--L-----Y---L----T------P-------------------YD------------Y---------ID---E----K-----SP--------I------------Y-------------------------------------------------------Y"
     ]
    },
    {
     "name": "stdout",
     "output_type": "stream",
     "text": [
      "--------F------------L--RS--H-----L-----NI----------------Q---R---------P-------------------------------------------------------------------------------------------------------------------------\n",
      "str16: M----------P--------R-----------V----P-----V-------Y-----D--SPQ---V----------SP----N----T--V------------------P------------------Q--A------R----LA----------T-------PS---------F-A----T----------P-T----------FR--G-----A------D-------------------A-------------------P---------A---------------FQD------------------TA--N-----------------Q---------------------QA--R------------------Q--------------------------------------------------------------------------------------------------------------------------------------------------------------\n",
      "str17: MF-VFL--VLLPLVSSQCVN--------L---------R--TR------T------------Q--L------PLA------------YT------NSFTRG-V-----Y------------------Y--------------------PDK---V-------F-----R-----S------------S----V-------------------LH----S-----------------------------------------------------------------------------------------------------------------------------------------------------------------------------------------------------------------------------------------------------------------------------------------------------------------------------\n",
      "str18: MF-VF------------------F--------V-L-LP------L-V-S-----------S-Q------------------------------------------------C---V-N----------L-----------T---------------TR-----------T---------QL------------P--------P-------------A-----Y---T--------N----SF---T--RGV-------Y--------------------------YP-D-------------------K---V----------------------F-R-S-----SVL----H------S--------------------------------------------------------------------------------------------------------------------------------------------------------------------------------\n",
      "str19: M-----E--------------------------------AI--------------I----S---------F---AG----I-------------------GI---------------N---------Y------K---------------K----L--Q------S------K-------L---------------------------------Q------H-D-F----G--R----------------V--L--K--A-L---TV--------------TA---------RA------L--------------PG---------------Q--------------------P--------K-------HI--A--------I--------------------R-----------------------------------------Q-----------------------------------------------------------------------------------------\n",
      "str20: M-A----S------S-------G--------------P----------------E-R-----------------A------E----------------------H----Q----I--------------------------I--L---P---E------------S-----------------------------------------------H-L--S-----S--PL--VK---------------------------H---------KL------------LY-------------------------------------------------------YW-------------------KL--------T---------------G--------L----------------P-----L----------------PD-----------------ECDFDH---L--I-------------------------------------------------------------------\n",
      "str21: M-----ES-L---V-------PGF-NE--KTHVQLSLP-----VLQV---------RDVL------VR-GF----GDS-------------VE-------------E--------VL-----SE----------------------V----------RQ----H-------LK---------------D---------G-T-----------------------------------------------------------------------------------------------------------------------------------------------------------------------------------------------------------------------------------------------------------------------------------------------------------------------------------------------\n",
      "str22: M----L---------------------------------A---------------------P---------------SP----N------------S----------------KI--------------Q-------L---------F-------------------N-----N---------------I-N-------I---D------------------------------INYE----------------------H----T-----L-------------Y---F---A-------S----V--------------S-------A--Q-----------NS----F----------------------------F-------A------------Q---------------------------W-----------V----V-----Y---------------------SADKAI---------------------------------------------------------\n",
      "str23: M------S-------------------------------AIT------------E--------TK-------P------TIE--L-------------------------P---------A-------L---AE--------------------------G-F----------------Q---R--Y----N--KT------P-------G--------------FT--C-V-------L-------DR---------Y---------D----------------------------------H---G----V------I------------------------N---D----------S--K--------I-V--L---------Y-------N---------------------------------------------------------------------------------------------------------------------------------------------\n",
      "str24: M-----------------------KN--------------I-----------A-E---------------F------------------K-----------------------K------AP-E----L---AEK--L------L-------E-V-------F--S-N---LK--------G---------N-----S---------RS---L----------D---P----------------M---R------A--------G-----K--------------------------------H-DV-----V--------------VI--E-------S---T------------------K------------KL-----"
     ]
    },
    {
     "name": "stdout",
     "output_type": "stream",
     "text": [
      "----------------------------------------------------------------------------------------------------------------------------------------------------------\n",
      "str25: M----------P----Q----P------LK---Q-SL--------------------D----Q--------------S-----------K----W---------------------L-R----EA--------EK-HL-R-----A---------L----------E-------S-----L----V--D--------S-------------------N--L----------------E-------------E-----------------EKL---------------K-------P-------------Q----------LS--M-----GE----------------D------------------------V---Q------S-------------------------------------------------------------------------------------------------------------------------------------------------------\n",
      "str26: MF-VFL--VLLPLVSSQCVN--------L-----------ITR------T------------Q--------------S---------YT------NSFTRG-V-----Y------------------Y--------------------PDK---V-------F-----R-----S------------S----V-------------------LH----S-------T---------------------------------------------------------------QD----------------------------------------------------------------------------------------------------------------------------------------------------------------------------------------------------------------------------------------------------\n",
      "str27: M-----------------------K----------------------F---------DVLS----L----F---A---P---------------W----------A-------K-V-------------------D------EQ--------E--------Y--------D--------Q----------------------------------QL-N-----------------N----------------NL---------------E----S----I-TA---PK-F-D-------------D-G---A-----------T-------E-----------------I------E--S---------E-----------R------G-D-------I-----------------------------------------------------------------------------------------------------------------------------------------\n",
      "str28: MF-VFL--VLLPLVSSQCVN---F------T-------------------------------------N------------------------------R-------T-Q------L----PS-A--Y------------T--------------------------N------SF------TRGVY--------------YPDKVFRS--S-------VLH--S-----------------------------------------------------------------------------------------------------------------------------------------------------------------------------------------------------------------------------------------------------------------------------------------------------------------------\n",
      "str29: M---------------------------------------------------------------------------------------------W-S----I------------IVL-----------------K--L---I---------S-I----Q-----P------L--------L---------L-V--T-S--------------L--------------PL-------Y---------------N----------P------------N-----------------------------------------------MDS------C----C--------L-I---------S------R----IT-------------------P--E-L-----A-----------G-------KLT--W--IF-----------I-------------------------------------------------------------------------------------------\n",
      "str30: M-----ES-L---V-------PGF-NE--KTHVQLSLP-----VLQV---------RDVL------VR-GF----GDS-------------VE-------------E------------------F--L--S-E-----------A-----------RQ----H-------LK---------------D---------G-T-----------------------------------------------------------------------------------------------------------------------------------------------------------------------------------------------------------------------------------------------------------------------------------------------------------------------------------------------\n",
      "str31: MF-VFL--VLLPLVSSQCV----------------------------------------------------MPL--------FNL----------------I-----T-----------T--------------------T--Q-------S---------Y-------T---N-F------TRGVY--------------YPDKVFRS--S-------VLH------L-------------------------------------------------------------------------------------------------------------------------------------------------------------------------------------------------------------------------------------------------------------------------------------------------------------------\n",
      "str32: M------------------------------H-Q------IT-V--V-S-G----------P-T-----------------E---------V----S-T------------C-------------F----GS-----L-------------------------HP----------F---Q-------S--L---K-------P--V--------------------------------------M----------A--------------------N-----A-L-------------GVL------------E--GK------M----------F--CS---------I-G-------------GRS--------L---------------------------------------------------------------------------------------------------------------------------------------------------------------\n",
      "str33: M-A---------------------------T---L-L-R---------S----L--------------------A---------L------------F---------------K----R-------N-------KD--------------K-------------P----------------------------P-----IT-------S-GS------------------G-----------GA--I-RG----------------------I--------------K---------------HI--------------I--------I-----------------V------P------I-------------------------------P---G--D-S-----SI-T--------------TR---------------"
     ]
    },
    {
     "name": "stdout",
     "output_type": "stream",
     "text": [
      "-------S----R---------------------------------------------------------------------------------\n",
      "str34: M-----ES-L---V-------PGF-NE--KTHVQLSLP-----VLQV---------RDVL------VR-GF----GDS------------------------------------------------------------M---E---------E-VL---------SE----------ARQ---------------------------------H-L----------------K-----D---G--T--------------------------------------------------------------------------------------------------------------------------------------------------------------------------------------------------------------------------------------------------------------------------------------------------\n",
      "str35: MF-VFL--VLLPLVSSQCVN--------L-T----------T--------G------------T-----------------------------Q----------------------L----P--------------------------P----------A-Y-------T---NSF------TRGVY--------------YPDKVFRS--S-------VLH--S-----------------------------------------------------------------------------------------------------------------------------------------------------------------------------------------------------------------------------------------------------------------------------------------------------------------------\n",
      "str36: M-A----------------N--------------------I--------------I------------N----L--------------------WN----GIV-------P---------------------------M-------V-----------Q-----------D-----V--------------NV---AS-IT---------------A--------F------K-------S---M-ID---E-------------T------------W---------D-------------------K--------K-I--E------A--------------N------------T--------------------C----IS-------------------RK----------------H---RN------------------------------------------------------------------------------------------------------------\n",
      "str37: M----L-------------NR-------------------I----Q---T---L-----------------M-----------------K--------T------A-----------N--------NY-----E------TIE----------I-L-R---------N------------------Y---L----------------R----L---------Y-----------I-----------I------L-A-----------R--------NE-------------------EG-------------------R-----------G------------------I-------------L-------I--------------Y---D--DN---ID-SV-------------------------------------------------------------------------------------------------------------------------------------\n",
      "str38: M-A------------------------D---------P-A----------G------------T----NG-----------E----------E-------G------T----G--------------------------------------------------------------------------------------------------------------------C-----N------G-----------W--FY-------V--E---A---------V---------------V-------------E---K----------------------K--T-------G---------D------------A--------ISD----DE--NE----------N---------DS--------------------DT----------------------GEDLVD--------------------------------------------------------------------\n",
      "str39: MF-VFL--VLLPLVSSQCVN--------L---------R--TR------T------------Q--L------P-----P-----------------S-----------Y"
     ]
    },
    {
     "name": "stdout",
     "output_type": "stream",
     "text": [
      "----------T------N----S---------------F--------TR--G---------------V---------Y--------------YPDKVFRS--S-------VLH--S-----------------------------------------------------------------------------------------------------------------------------------------------------------------------------------------------------------------------------------------------------------------------------------------------------------------------\n",
      "str40: M-----ES-L---V-------PGF-NE--KTHVQLSLP-----VLQV----------------------------------------------------------------C-----------------------D----------V--------L--------------------V-R--G------------------------F---G------------DS------V-----E-------------E--------------V----L--S--E----A---------R----------------Q------------------------------------------H----------L-----------K---------D--GT--------------------------------------------------------------------------------------------------------------------------------------------------\n",
      "str41: M------------------N-----N-------Q----R-------------------------K------------------------K--------T------A------------R--PS--FN-----------M-----L-----K------R-A--------R----N----R------V-S-------T---------V--S-----QLA---------------KR-------F--------------------S-------K----G--------L---------------LS-----G-Q------G------------------------------------P----------M----------KL-------------------------V------------------------------MA-F---------------------------------------------------------------------------------------------------\n",
      "str42: M------S-----------N---F---D-----------AI-R---------AL----V-----------------D--T-----DAY-KL---------G---H---------I---------------------H-M----------------------Y--P-E--------------GT--------------------------E------------Y--------V-------LS-----------N----F-------T--D-----------------------R-----G--S----------------RI--E-------G---------------V----------T------------H-TV------H-----------------------------------------------------------------------------------------------------------------------------------------------------------\n",
      "str43: M---------------------------------------I-------------E----L-------R------------------------------------H-E--------V-------------QG----D-L--------V---------T--------------------------------I-NV------------V---E----------------TP---------EDL-------D-G-------F---------RD--------------------F----I-R-----AH----------------L-------I----CL-A---------V-D--------T-----------E--T----------------T------GL-D--------IY------------------------------------------------------------------------------------------------------------------------------\n",
      "str44: MF-VFL--VLLPLVSSQCV----------------------------------------------------MPL--------FNL----------------I-----T-----------T------N--Q-S-----------------------------Y-------T---NSF------TRGVY--------------YPDKVFRS--S-------VLH--------------------------------------------------------------------------------------------------------------------------------------------------------------------------------------------------------------------------------------------------------------------------------------------------------------------------\n",
      "str45: M------S----------------K--DL---V------A--R--Q------AL-----------------M-------T------A------------R--------------------------------------M-----------K--------A----------D----FV-----------------------------F------------------F--L------------F--------V--LW-K--A-LS--------L--------------P------------V---------------P-------T-------------RC---------------Q-----ID--M---------AK-----------------------------K-------L---SA-----------G---------------------------------------------------------------------------------------------------------\n",
      "str46: M-A----S-LL-------------K----------SL----T--L--F----------------K--R-----------T-------------------R---D-----QP----------P------L---A------------------S--------G----S---------------G--G-----------A--I-------R--G-----------------------I---------------------K---H-----V-----I------I---VL---------IP--G------D---------------S----S-I-----------------V----------TRS------R-------------------------------------------------------------------------------------------------------------------------------------------------------------------------\n",
      "str47: M-------------------R-----------V-----R-----------G----I---L-------RN-------------------------W--------------Q-------------------Q----------------------------------------------------------------------------------------------------------------------------W-----------------------WI--------------------------------------------------------------WT-S-L---G---------------------------F------------------------------------------------W----M--F---------------------------------MICS--------------V----VG------------NL----------WVTVYYGVPVWKEAKTT\n",
      "str48: M-AV--E----P-----------F-------------PR---R------------------P------------------I-------T----------R----------P-------------------------H--------A-----S-I------------E---------V-----------D------T-SGI----------G-------------------G---------S--A-----G------------S-"
     ]
    },
    {
     "name": "stdout",
     "output_type": "stream",
     "text": [
      "----------S--E---------K-----------V-----------------------------------F--C--------L-I-G--QAE--------G--GE----------------------P-N---------------T----------V------------------------------------------------------------------------------------------------------------------\n",
      "str49: MF-------------------------------------------------YA---------------------------------------------------HA-------------------F----G-----------------------------GY--------D--------------------------------------E-------N--LH---------------------A-------------F-----PG-------I-S-----ST-V---------A--------------------N----------D-V---------R--KY---SV--------------------------V----------S-----------------V------Y-----------------N-------------K-----K---YN--I----------V--K---------NKYMW----------------------------------------------------\n",
      "str50: M-A----------------N-------------------------------Y--------S---K-------P---------F-L-----L------------D----------IV---------FN-------KD-----I--------K------------------------------------------------------------------------------C----IN--D-S--------------------------------------------------------------------------------------------C-----S------------H------S-D----------------C--R----Y-------------QS----NS-Y-----------V-------E-----------------------LR-------------------------------RN---------------------QALNKNL--------------------\n",
      "\n",
      "solution is feasible: True\n"
     ]
    }
   ],
   "source": [
    "bench(scsp.example.load(\"protein_n050k050.txt\"))"
   ]
  }
 ],
 "metadata": {},
 "nbformat": 4,
 "nbformat_minor": 5
}
