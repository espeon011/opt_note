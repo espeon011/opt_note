{
 "cells": [
  {
   "cell_type": "code",
   "execution_count": null,
   "id": "setup",
   "metadata": {
    "marimo": {
     "name": "setup"
    }
   },
   "outputs": [],
   "source": [
    "import opt_note.scsp as scsp"
   ]
  },
  {
   "cell_type": "code",
   "execution_count": null,
   "id": "Hbol",
   "metadata": {},
   "outputs": [],
   "source": [
    "import marimo as mo\n",
    "import nbformat"
   ]
  },
  {
   "cell_type": "markdown",
   "id": "MJUe",
   "metadata": {
    "marimo": {
     "config": {
      "hide_code": true
     }
    }
   },
   "source": [
    "# ベンチマーク"
   ]
  },
  {
   "cell_type": "markdown",
   "id": "vblA",
   "metadata": {
    "marimo": {
     "config": {
      "hide_code": true
     }
    }
   },
   "source": [
    "## 注意点"
   ]
  },
  {
   "cell_type": "markdown",
   "id": "bkHC",
   "metadata": {
    "marimo": {
     "config": {
      "hide_code": true
     }
    }
   },
   "source": [
    "Dual bound を表示しているが, これはアルファベットアルゴリズムで構築した解の部分配列の中で最短のものを求める問題の dual bound であり, 与えられた SCSP に対する dual bound ではない事に注意.\n",
    "\n",
    "最適性に関しても同様で, `OPTIMAL` と出ている場合はアルファベットアルゴリズムで構築した解の部分列の中では最短であるというだけであり, 実際に最短とは限らない."
   ]
  },
  {
   "cell_type": "markdown",
   "id": "lEQa",
   "metadata": {
    "marimo": {
     "config": {
      "hide_code": true
     }
    }
   },
   "source": [
    "実際に簡単なケースで実験をする.\n",
    "`ba`, `cb` の最短共通超配列は `cba` である:"
   ]
  },
  {
   "cell_type": "code",
   "execution_count": null,
   "id": "PKri",
   "metadata": {},
   "outputs": [
    {
     "name": "stdout",
     "output_type": "stream",
     "text": [
      "--- Condition (with 3 chars) ---\n",
      "str1: ba\n",
      "str2: cb\n",
      "\n",
      "--- Solution (of length 3) ---\n",
      " Sol: cba\n",
      "str1: -ba\n",
      "str2: cb-\n",
      "\n",
      "solution is optimal: True\n",
      "bset bound: 3\n"
     ]
    }
   ],
   "source": [
    "_instance = [\"ba\", \"cb\"]\n",
    "_model = scsp.model.didp.Model(_instance).solve()\n",
    "_solution = _model.to_solution()\n",
    "scsp.util.show(_instance)\n",
    "scsp.util.show(_instance, _solution)\n",
    "\n",
    "print(f\"solution is optimal: {_model.solution.is_optimal}\")\n",
    "print(f\"bset bound: {_model.solution.best_bound}\")"
   ]
  },
  {
   "cell_type": "markdown",
   "id": "Xref",
   "metadata": {
    "marimo": {
     "config": {
      "hide_code": true
     }
    }
   },
   "source": [
    "一方, この方法では長さが 4 の共通超配列が最適となってしまう:"
   ]
  },
  {
   "cell_type": "markdown",
   "id": "SFPL",
   "metadata": {
    "marimo": {
     "config": {
      "hide_code": true
     }
    }
   },
   "source": [
    "## 本題"
   ]
  },
  {
   "cell_type": "code",
   "execution_count": null,
   "id": "BYtC",
   "metadata": {},
   "outputs": [
    {
     "name": "stdout",
     "output_type": "stream",
     "text": [
      "--- Condition (with 3 chars) ---\n",
      "str1: ba\n",
      "str2: cb\n",
      "\n",
      "--- Solution (of length 4) ---\n",
      " Sol: bcab\n",
      "str1: b-a-\n",
      "str2: -c-b\n",
      "\n",
      "solution status: OPTIMAL\n",
      "best bound: 4.0\n"
     ]
    }
   ],
   "source": [
    "_instance = [\"ba\", \"cb\"]\n",
    "_model = scsp.model.alphabet_reduction_cpsat.Model(_instance).solve()\n",
    "_solution = _model.to_solution()\n",
    "scsp.util.show(_instance)\n",
    "scsp.util.show(_instance, _solution)\n",
    "\n",
    "print(f\"solution status: {_model.cpsolver.status_name()}\")\n",
    "print(f\"best bound: {_model.cpsolver.best_objective_bound}\")"
   ]
  },
  {
   "cell_type": "code",
   "execution_count": null,
   "id": "RGSE",
   "metadata": {
    "marimo": {
     "name": "*bench"
    }
   },
   "outputs": [],
   "source": [
    "def bench(instance: list[str]) -> None:\n",
    "    model = scsp.model.alphabet_reduction_cpsat.Model(instance).solve()\n",
    "    solution = model.to_solution()\n",
    "    scsp.util.show(instance)\n",
    "    if solution is not None:\n",
    "        scsp.util.show(instance, solution)\n",
    "        print(f\"solution is feasible: {scsp.util.is_feasible(instance, solution)}\")\n",
    "    else:\n",
    "        print(\"--- Solution not found ---\\n\")\n",
    "\n",
    "    print(f\"solution status: {model.cpsolver.status_name()}\")\n",
    "    print(f\"best bound: {model.cpsolver.best_objective_bound}\")"
   ]
  },
  {
   "cell_type": "code",
   "execution_count": null,
   "id": "Kclp",
   "metadata": {},
   "outputs": [
    {
     "name": "stdout",
     "output_type": "stream",
     "text": [
      "--- Condition (with 25 chars) ---\n",
      "str1: tkgnkuhmpxnhtqgxzvxis\n",
      "str2: iojiqfolnbxxcvsuqpvissbxf\n",
      "str3: ulcinycosovozpplp\n",
      "str4: igevazgbrddbcsvrvnngf\n",
      "\n",
      "--- Solution (of length 62) ---\n",
      " Sol: tuklcignycoejsikoquvafozphmpxlnhtqgbrxdxdbcvzsuvqxprvinsnsbgxf\n",
      "str1: t-k---gn-------k--u------hmpx-nhtqg--x------z--v-x---i-s------\n",
      "str2: -----i----o-j-i--q---fo------ln----b-x-x--cv-su-q-p-vi-s-sb-xf\n",
      "str3: -u-lci-nyco--s--o--v--ozp--p-l--------------------p-----------\n",
      "str4: -----ig----e-------va--z----------gbr-d-dbc--s-v---rv-n-n--g-f\n",
      "\n",
      "solution is feasible: True\n",
      "solution status: OPTIMAL\n",
      "best bound: 62.0\n"
     ]
    }
   ],
   "source": [
    "bench(scsp.example.load(\"uniform_q26n004k015-025.txt\"))"
   ]
  },
  {
   "cell_type": "code",
   "execution_count": null,
   "id": "emfo",
   "metadata": {},
   "outputs": [
    {
     "name": "stdout",
     "output_type": "stream",
     "text": [
      "--- Condition (with 26 chars) ---\n",
      "str1: tkgnkuhmpxnhtqgxzvxis\n",
      "str2: iojiqfolnbxxcvsuqpvissbxf\n",
      "str3: ulcinycosovozpplp\n",
      "str4: igevazgbrddbcsvrvnngf\n",
      "str5: pyplrzxucpmqvgtdfuivcdsbo\n",
      "str6: pbdevdcvdpfzsmsbroqvbbh\n",
      "str7: enbczfjtvxerzbrvigple\n",
      "str8: rxwxqkrdrlctodtmprpxwd\n",
      "\n",
      "--- Solution (of length 103) ---\n",
      " Sol: pypuilortxzjkwxceginqbdekrvdruyaclopszcfhjmopqtvxglnbeordhtpqxdfgxzbcsvmsuqbprvxinoqsvcdnsbgpxlpwbdefho\n",
      "str1: --------t---k----g-n----k----u----------h-m-p---x--n-----ht-q---gxz---v--------xi---s------------------\n",
      "str2: ----i-o----j------i-q------------------f---o------lnb--------x---x--c-v-suq-p-v-i---s----sb--x------f--\n",
      "str3: ---u-l---------c--in----------y-c-o-s------o---v------o-----------z---------p---------------p-lp-------\n",
      "str4: ----i------------g-----e--v----a-----z-----------g--b--rd-----d----bcsv------rv--n------n--g--------f--\n",
      "str5: pyp--l-r--z---x--------------u--c--p------m--q-v-g--------t---df---------u------i----vcd-sb-----------o\n",
      "str6: p--------------------bde--vd----c--------------v--------d--p---f--z--s-ms--b-r----oq-v----b------b---h-\n",
      "str7: ----------------e--n-b----------c----z-f-j----tvx----e-r----------zb---------rv-i----------gp-l----e---\n",
      "str8: -------r-x---wx-----q---kr-dr----l----c-------t-------o-d-t------------m----pr--------------px--w-d----\n",
      "\n",
      "solution is feasible: True\n",
      "solution status: FEASIBLE\n",
      "best bound: 75.0\n"
     ]
    }
   ],
   "source": [
    "bench(scsp.example.load(\"uniform_q26n008k015-025.txt\"))"
   ]
  },
  {
   "cell_type": "code",
   "execution_count": null,
   "id": "Hstk",
   "metadata": {},
   "outputs": [
    {
     "name": "stdout",
     "output_type": "stream",
     "text": [
      "--- Condition (with 26 chars) ---\n",
      "str01: tkgnkuhmpxnhtqgxzvxis\n",
      "str02: iojiqfolnbxxcvsuqpvissbxf\n",
      "str03: ulcinycosovozpplp\n",
      "str04: igevazgbrddbcsvrvnngf\n",
      "str05: pyplrzxucpmqvgtdfuivcdsbo\n",
      "str06: pbdevdcvdpfzsmsbroqvbbh\n",
      "str07: enbczfjtvxerzbrvigple\n",
      "str08: rxwxqkrdrlctodtmprpxwd\n",
      "str09: kkqafigqjwokkskrblg\n",
      "str10: lxxpabivbvzkozzvd\n",
      "str11: krifsavncdqwhzc\n",
      "str12: qaxudgqvqcewbfgijowwy\n",
      "str13: rsxqjnfpadiusiqbezhkohmg\n",
      "str14: iwshvhcomiuvddm\n",
      "str15: htxxqjzqbctbakn\n",
      "str16: xusfcfzpeecvwantfmgqzu\n",
      "\n",
      "--- Solution (of length 146) ---\n",
      "  Sol: rsxiuhoqtjklpwxcginqsxybdefkopquvalrzdghnbmpxcinrvhluzcfjostzdiopdegmqvbefgoqxzcersvwzabimrsuvbntcdfgijmnpqrwghkoqwzkpuvxzbiksvwacdkrsbhlmpxefgnoy\n",
      "str01: --------t-k-----g-n--------k---u-------h--mpx--n--h--------t---------q----g--xz----v------------------------------------x--i-s--------------------\n",
      "str02: ---i--o--j-------i-q------f-o-----l-----nb--x--------------------------------x-c---v-------su-------------q----------p-v---i-s-------sb----x-f----\n",
      "str03: ----u------l---c-in---y----------------------c-----------os----o------v----o--z--------------------------p-----------p------------------l-p-------\n",
      "str04: ---i------------g--------e------va--z-g--b------r------------d---d-----b-------c--sv------r--v-n--------n----g-------------------------------f----\n",
      "str05: ------------p---------y------p----lrz-------x-------u-c---------p---mqv---g---------------------t-df------------------u----i--v--cd--sb---------o-\n",
      "str06: ------------p----------bde------v----d-------c---v-----------d--p--------f----z---s------m-s--b------------r----oq-----v--b-----------bh----------\n",
      "str07: -------------------------e--------------nb---c-------z-fj--t----------v------x--er---z-b--r--v-------i-------g-------p------------------l---e-----\n",
      "str08: r-x----------wx----q-------k-------r-d----------r--l--c----t---o-d------------------------------t------m-p-r---------p--x------w--d---------------\n",
      "str09: ----------k----------------k--q--a---------------------f------i----g-q--------------------------------j-----w---o---k-------ks-----kr-b-l-----g---\n",
      "str10: -----------l--x------x-------p---a-------b----i--v---------------------b-----------v-z-------------------------ko--z-----z----v---d---------------\n",
      "str11: ----------k------------------------r----------i--------f--s---------------------------a------v-n-cd-------q-w-h----z-------------c----------------\n",
      "str12: -------q-------------------------a----------x-------u--------d-----g-qv-----q--ce---w--b-----------fgij---------o-w------------w-----------------y\n",
      "str13: rsx----q-j--------n-------f--p---a---d--------i-----u-----s---i------q-be-----z-------------------------------hko----------------------h-m----g---\n",
      "str14: ---i---------w------s------------------h---------vh---c--o----------m-------------------i---uv----d-------------------------------d------m--------\n",
      "str15: -----h--t-----x------x--------q-------------------------j---z--------q-b-------c----------------t-------------------------b-----a--k-----------n--\n",
      "str16: --x-u---------------s-----f------------------c---------f----z---p-e-----e------c---vw-a--------nt--f---m-----g---q-z--u---------------------------\n",
      "\n",
      "solution is feasible: True\n",
      "solution status: FEASIBLE\n",
      "best bound: 82.0\n"
     ]
    }
   ],
   "source": [
    "bench(scsp.example.load(\"uniform_q26n016k015-025.txt\"))"
   ]
  },
  {
   "cell_type": "code",
   "execution_count": null,
   "id": "nWHF",
   "metadata": {},
   "outputs": [
    {
     "name": "stdout",
     "output_type": "stream",
     "text": [
      "--- Condition (with 5 chars) ---\n",
      "str01: dcbccdbcce\n",
      "str02: bddbeeeebd\n",
      "str03: cacdeecebe\n",
      "str04: aeddddebdd\n",
      "str05: acbeecabce\n",
      "str06: bbabebdcba\n",
      "str07: bbaeaebada\n",
      "str08: eeeecbdbee\n",
      "str09: ccdeedadcd\n",
      "str10: bdabdbeaad\n",
      "\n",
      "--- Solution (of length 29) ---\n",
      "  Sol: abdecdbeabcdeaecdbdceabdeacde\n",
      "str01: --d-c-b---c----cdb-c------c-e\n",
      "str02: -bd--dbe----e-e-----e-bd-----\n",
      "str03: ----c---a-cde-ec----e-b-e----\n",
      "str04: a--e-d-----d----d-d-e-bd---d-\n",
      "str05: a---c-be----e--c-----ab---c-e\n",
      "str06: -b----b-ab--e----bdc--b--a---\n",
      "str07: -b----b-a---eae--b---a-d-a---\n",
      "str08: ---e---e----e-ec-bd---b-e---e\n",
      "str09: ----c-----cde-e-d----a-d--cd-\n",
      "str10: -bd-----ab-d-----b--ea---a-d-\n",
      "\n",
      "solution is feasible: True\n",
      "solution status: OPTIMAL\n",
      "best bound: 29.0\n"
     ]
    }
   ],
   "source": [
    "bench(scsp.example.load(\"uniform_q05n010k010-010.txt\"))"
   ]
  },
  {
   "cell_type": "code",
   "execution_count": null,
   "id": "iLit",
   "metadata": {},
   "outputs": [
    {
     "name": "stdout",
     "output_type": "stream",
     "text": [
      "--- Condition (with 5 chars) ---\n",
      "str01: dcbccdbcce\n",
      "str02: bddbeeeebd\n",
      "str03: cacdeecebe\n",
      "str04: aeddddebdd\n",
      "str05: acbeecabce\n",
      "str06: bbabebdcba\n",
      "str07: bbaeaebada\n",
      "str08: eeeecbdbee\n",
      "str09: ccdeedadcd\n",
      "str10: bdabdbeaad\n",
      "str11: ededaaaeaa\n",
      "str12: aaeaabeeac\n",
      "str13: eaabcaccdb\n",
      "str14: bdeeadeade\n",
      "str15: caedadeeed\n",
      "str16: ebcadbabbe\n",
      "str17: ddceeabdea\n",
      "str18: dabcddeaec\n",
      "str19: aadceedaab\n",
      "str20: aeecceeeaa\n",
      "str21: bbdaecaade\n",
      "str22: dacedaedab\n",
      "str23: aaeabbbbce\n",
      "str24: dedbcbcaab\n",
      "str25: dbdaaebbcb\n",
      "str26: debedbebac\n",
      "str27: ceebcdcbde\n",
      "str28: dbedaadaab\n",
      "str29: cccdcbebdc\n",
      "str30: aeeacdbcbd\n",
      "str31: dacbeacccd\n",
      "str32: ecebccdbdb\n",
      "str33: ddbbcedabb\n",
      "str34: aaeabaaeba\n",
      "str35: ecbbcaadcd\n",
      "str36: debccecdbc\n",
      "str37: daacbaeebc\n",
      "str38: adabeaacce\n",
      "str39: daecdbacaa\n",
      "str40: dacbbdcedc\n",
      "str41: dedbeebbde\n",
      "str42: cdadcdcdaa\n",
      "str43: ceedcbaeed\n",
      "str44: ceaecaaaca\n",
      "str45: dcccebbbad\n",
      "str46: baeeaebbde\n",
      "str47: dbdebaccdb\n",
      "str48: ebcbeedaea\n",
      "str49: aeeebbdbca\n",
      "str50: dbdabcecbb\n",
      "\n",
      "--- Solution (of length 34) ---\n",
      "  Sol: adeabcdebdacebcdeacebdeabcdeabcead\n",
      "str01: -d---c--b--c--cd----b----c----ce--\n",
      "str02: ----b-d--d---b--e--e--e----e-b---d\n",
      "str03: -----c----ac---de--e-----c-e-b-e--\n",
      "str04: a-e---d--d-----d-----de-b-d------d\n",
      "str05: a----c--b---e---e-c----abc-e------\n",
      "str06: ----b---b-a--b--e---bd---c---b--a-\n",
      "str07: ----b---b-a-e----a-eb--a--d-a-----\n",
      "str08: --e----e----e---e-c-bd--b--e---e--\n",
      "str09: -----c-----c---de--e-d-a--d---c--d\n",
      "str10: ----b-d---a--b-d----b-ea----a----d\n",
      "str11: --e---de-da------a-----a---ea---a-\n",
      "str12: a--a---e--a------a--b-e----ea-c---\n",
      "str13: --ea------a--bc--ac------cd--b----\n",
      "str14: ----b-de----e----a---dea--de------\n",
      "str15: -----c----a-e--d-a---de----e---e-d\n",
      "str16: --e-bc----a----d----b--ab----b-e--\n",
      "str17: -d----d----ce---ea--bdea----------\n",
      "str18: -d-abcd--d--e----a-e-----c--------\n",
      "str19: a--a--d----ce---e----d-a----ab----\n",
      "str20: a-e----e---c--c-e--e--ea----a-----\n",
      "str21: ----b---bda-e-c--a-----a--de------\n",
      "str22: -d-a-c-e-da-e--d-a--b-------------\n",
      "str23: a--a---e--a--b------b---b----bce--\n",
      "str24: -de---d-b--c-bc--a-----ab---------\n",
      "str25: -d--b-d---a------a-eb---bc---b----\n",
      "str26: -de-b--e-d---b--e---b--a-c--------\n",
      "str27: -----c-e----ebcd--c-bde-----------\n",
      "str28: -d--b--e-da------a---d-a----ab----\n",
      "str29: -----c-----c--cd--c-b-e-b-d---c---\n",
      "str30: a-e----e--ac---d----b----c---b---d\n",
      "str31: -d-a-c--b---e----ac------c----c--d\n",
      "str32: --e--c-eb--c--cd----bd--b---------\n",
      "str33: -d----d-b----bc-e----d-ab----b----\n",
      "str34: a--a---e--a--b---a-----a---e-b--a-\n",
      "str35: --e--c--b----bc--a-----a--d---c--d\n",
      "str36: -de-bc-----ce-cd----b----c--------\n",
      "str37: -d-a------ac-b---a-e--e-bc--------\n",
      "str38: ad-ab--e--a------ac------c-e------\n",
      "str39: -d-a---e---c---d----b--a-c--a---a-\n",
      "str40: -d-a-c--b----b-d--ce-d---c--------\n",
      "str41: -de---d-b---e---e---b---b-de------\n",
      "str42: -----cd---a----d--c--d---cd-a---a-\n",
      "str43: -----c-e----e--d--c-b--a---e---e-d\n",
      "str44: -----c-e--a-e-c--a-----a----a-c-a-\n",
      "str45: -d---c-----c--c-e---b---b----b--ad\n",
      "str46: ----b-----a-e---ea-eb---b-de------\n",
      "str47: -d--b-deb-ac--cd----b-------------\n",
      "str48: --e-bc--b---e---e----d-a---ea-----\n",
      "str49: a-e----e----eb------bd--bc--a-----\n",
      "str50: -d--b-d---a--bc-e-c-b---b---------\n",
      "\n",
      "solution is feasible: True\n",
      "solution status: OPTIMAL\n",
      "best bound: 34.0\n"
     ]
    }
   ],
   "source": [
    "bench(scsp.example.load(\"uniform_q05n050k010-010.txt\"))"
   ]
  },
  {
   "cell_type": "code",
   "execution_count": null,
   "id": "ZHCJ",
   "metadata": {},
   "outputs": [
    {
     "name": "stdout",
     "output_type": "stream",
     "text": [
      "--- Condition (with 4 chars) ---\n",
      "str01: ATGGGATACG\n",
      "str02: ATACCTTCCC\n",
      "str03: CACGAATTGA\n",
      "str04: TAAAATCTGT\n",
      "str05: AGGTAACAAA\n",
      "str06: TTCCTAGGTA\n",
      "str07: TTGTAGATCT\n",
      "str08: TGGGAAGTTC\n",
      "str09: TTCCACAACT\n",
      "str10: TCTAAACGAA\n",
      "\n",
      "--- Solution (of length 24) ---\n",
      "  Sol: TACTACGCGTAGATCAGTACGTAC\n",
      "str01: -A-T--G-G--GAT-A---CG---\n",
      "str02: -A-TAC-C-T---TC----C---C\n",
      "str03: --C-ACG---A-AT---T--G-A-\n",
      "str04: TA--A-----A-ATC--T--GT--\n",
      "str05: -A----G-GTA-A-CA--A---A-\n",
      "str06: T--T-C-C-TAG----GTA-----\n",
      "str07: T--T--G--TAGATC--T------\n",
      "str08: T-----G-G--GA--AGT---T-C\n",
      "str09: T--T-C-C--A---CA--AC-T--\n",
      "str10: T-CTA-----A-A-C-G-A---A-\n",
      "\n",
      "solution is feasible: True\n",
      "solution status: OPTIMAL\n",
      "best bound: 24.0\n"
     ]
    }
   ],
   "source": [
    "bench(scsp.example.load(\"nucleotide_n010k010.txt\"))"
   ]
  },
  {
   "cell_type": "code",
   "execution_count": null,
   "id": "ROlb",
   "metadata": {},
   "outputs": [
    {
     "name": "stdout",
     "output_type": "stream",
     "text": [
      "--- Condition (with 5 chars) ---\n",
      "str01: TAGTAGTAGACTCCGGAAGTGACAAACCCTGAAAAGAATGGATAAATATA\n",
      "str02: GGATAAACACTCCCGAAAATAATTTGACTTAAACAACGCGACAGTTCAAG\n",
      "str03: ATACCTTCCTAGGTAACAAACCAACCAACTTTTGATCTCTTGTAGATCTG\n",
      "str04: TAAATTATAATCTTATACTAGTAAAAAATAGGGTGTAACCGAAAACGGTC\n",
      "str05: TTAAAACAGCCTGTGGGTTGCACCCACTCACAGGGCCCACTGGGCGCAAG\n",
      "str06: ATGACTTCCAATGGATCCCAACCTCAAGCTTCCACCCCAATGGTTTCAGC\n",
      "str07: AACAAACCAACCAACTTTTGATCTCTTGTAGATCTGTTCTCTAAACGAAC\n",
      "str08: ATGAAAACGAAAATTATTATCAAGGGTATGGAAGTGGAAGCTGACGAAAT\n",
      "str09: ACTCGGCTGCATGCTTAGTGCACTCACGCAGTATAATTAATAACTAATTA\n",
      "str10: TTGTAGATCTGTTCTCTAAACGAACTTTAAAATCTGTGTGGCTGTCACTC\n",
      "str11: GCAGAGCATTTTCTAATATCCACAAAATGAAGGCAATAATTGTACTACTC\n",
      "str12: ATGAGCCAAGATCCGACGAAGAGCCCCAAGGAGGAGAAGGAGGGACCCCC\n",
      "str13: TCTCACAGTTCAAGAACCCAAAGTACCCCCCATAGCCCTCTTAAAGCCAC\n",
      "str14: AGGTTTATACCTTCCTAGGTAACAAACCAACCAACTTTCGATCTCTTGTA\n",
      "str15: AGGTTTATACCTTCCCAGGTAACAAACCAACCAACTTTCGATCTCTTGTA\n",
      "str16: TAAAACAACTCAATACAACATAAGAAAATCAACGCAAAAACACTCACAAA\n",
      "str17: CCGCCCATTTGGGCGGCTCTCGAGCGATAGCTCGTCGAATCCCTCGACCT\n",
      "str18: ATACCTTCCCAGGTAACAAACCAACCAACTTTCGATCTCTTGTAGATCTG\n",
      "str19: TCTCACAGTTCAAGAACCTCAAGTCTCCCCCATAGGCCTCTTTCAGTCAG\n",
      "str20: GATCTCTCTCACCGAACCTGGCCCCGGGCAAATGCCCTAATCCAGAGGTG\n",
      "str21: AGAGCAATCAGTGCATCAGAAATATACCTATTATACACTTTGCTAAGAAT\n",
      "str22: AATTAAAACATCTCAATACAACATAAGAAAAACAACGCAAAAACACTCAT\n",
      "str23: AAACGAACTTTAAAATCTGTGTGGCTGTCACTCGGCTGCATGCTTAGTGC\n",
      "str24: ATAACTAATTACTGTCGTTGACAGGACACGAGTAACTCGTCTATCTTCTG\n",
      "str25: ATGAGTGTCACGAATTCACGTACAATGAACTGGATGTTCACGTGGAATAA\n",
      "str26: ACCGTGGGCGAGCGGTGACCGGTGTCTTCCTAGTGGGTCCCACGTTGAAR\n",
      "str27: AAAGGTTTATACCTTCCCAGGTAACAAACCAACCAACTTTCGATCTCTTG\n",
      "str28: AGTAGTTCGCCTGTGTGAGCTGACAAACTTAGTAGTGTTTGTGAGGATTA\n",
      "str29: TTTATACCTTCCTAGGTAACAAACCAACCAACTTTCGATCTCTTGTAGAT\n",
      "str30: ATGCGGTCGTCTCTCCCCGGCTTTTTTTCCCCGCGCCGCGTTGGCGCCGA\n",
      "str31: GTGACAAAAACATAATGGACTCCAACACCATGTCAAGCTTTCAGGTAGAC\n",
      "str32: GTGTAAGAAACAGTAAGCCCGGAAGTGGTGTTTTGCGATTTCGAGGCCGG\n",
      "str33: GAGAATGAGTCTCATTACCGCCCGGTACTTAGCAAGCTAATAGTCACGGC\n",
      "str34: ATGTGGTCGATGCCATGGAGGCCCACCAGTTCATTAAGGCTCCTGGCATT\n",
      "str35: ACGAGCGTTTTAAGGGCCCGCGACTGCGACGGCCACATGGCCCTGTATGT\n",
      "str36: GGTTTATACCTTCCCAGGTAACAAACCAACCAACTTTCGATCTCTTGTAG\n",
      "str37: TGGGAAGTTCCAAAAGATCACAAAACACTACCAGTCAACCTGAAGTACAC\n",
      "str38: GAAGCGTTAACGTGTTGAGGAAAAGACAGCTTAGGAGAACAAGAGCTGGG\n",
      "str39: ACCAGCGCACTTCGGCAGCGGCAGCACCTCGGCAGCACCTCAGCAGCAAC\n",
      "str40: ATGGGACAACTTATTCCTATCATGTGCCAAGAGGTTTTACCCGGTGACCA\n",
      "str41: TTGTAGATCTGTTCTCTAAACGAACTTTAAAATCTGTGTGGTTGTCACTC\n",
      "str42: AACCAACCAACTTTCGATCTCTTGTAGATCTGTTCTCTAAACGAACTTTA\n",
      "str43: GGGTTCTGCCAGGCATAGTCTTTTTTTCTGGCGGCCCTTGTGTAAACCTG\n",
      "str44: GGCTGCATGCTTAGTGCACTCACGCAGTATAATTAATAACTAATTACTGT\n",
      "str45: TGCATGCTTAGTGCACTCACGCAGTATAATTAATAACTAATTACTGTCGT\n",
      "str46: TTCCACAACTTTCCACCAAGCTCTGCAAGATCCCAGAGTCAGGGGCCTGT\n",
      "str47: TCTAAACGAACTTTAAAATCTGTGTGGCTGTCACTCGGCTGCATGCTTAG\n",
      "str48: ACCGGATGGCCGCGATTTTTCGGAGTCCTTGGGGGACCACTCAGAATAGA\n",
      "str49: CTTGTAGATCTGTTCTCTAAACGAACTTTAAAATCTGTGTGGCTGTCACT\n",
      "str50: ATGAGCACTAAGCGAAGAACCAAAAAGCAGACAATACAACCCGCTATTAC\n",
      "\n",
      "--- Solution (of length 136) ---\n",
      "  Sol: ATGTACGTACGTACGTACTAGTACTACGTACGTACGTACGACTACGTACGTACGTACGTACGTACGTACGTACGTACGTACGTACGTACGTACGACGTCGACGTACTACGTACGTACGTACGTACGTACGTACGRT\n",
      "str01: -T--A-GTA-GTA-G-ACT----C--CG---G-A---A-G--T--G-AC--A---A---AC---C---C-T--G-A---A---A---A-G-A--A--T-G--G-A-TA---A---A--TA--TA------------\n",
      "str02: --G---G-A--TA---A--A---C-AC-T-C---C---CGA--A---A---A--TA---A--T---T---T--G-AC-T---TA---A---AC-A-----ACG--C---G-AC--A-GT---T-C--A---A-G--\n",
      "str03: AT--AC---C-T---T-C-----CTA-G---GTA---AC-A--A---AC---C--A---AC---C--A---AC-T---T---T---T--G-A-----TC----T-CT---T--GTA-G-A--T-C-T--G------\n",
      "str04: -T--A---A---A--T--TA-TA--A--T-C-T---TA----TAC-TA-GTA---A---A---A---A---A--TA-G---G---GT--GTA--AC--CGA---A--A---ACG---GT-C---------------\n",
      "str05: -T-TA---A---A---AC-AG--C--C-T--GT--G---G-----GT---T--G--C--AC---C---C--AC-T-C--AC--A-G---G---G-C--C--C--ACT--G---G---G--CG--C--A---A-G--\n",
      "str06: ATG-AC-T---T-C---C-A--A-T--G---G-A--T-C--C--C--A---AC---C-T-C--A---A-G--C-T---T-C---C--AC---C--C--C-A---A-T--G---GT---T---T-C--A-G--C---\n",
      "str07: A---AC--A---A---AC-----C-A---AC---C--A--ACT---T---T---T--G-A--T-C-T-C-T---T--GTA-G-A--T-C-T--G---T-----T-CT-C-TA---A---ACG-A---AC-------\n",
      "str08: ATG-A---A---A---AC--G-A--A---A---A--T-----TA--T---TA--T-C--A---A-G---G---GTA--T--G---G-A---A-G---T-G--G-A--A-G--C-T--G-ACG-A---A---A---T\n",
      "str09: A----C-T-CG---G--CT-G--C-A--T--G--C-T-----TA-GT--G--C--AC-T-C--ACG--C--A-GTA--TA---A--T---TA--A--T--A---ACTA---A--T---TA----------------\n",
      "str10: -T-T--GTA-G-A--T-CT-GT--T-C-T-C-TA---A--AC---G-A---AC-T---T---TA---A---A---A--T-C-T--GT--GT--G--G-C----T-----GT-C--AC-T-C---------------\n",
      "str11: --G--C--A-G-A-G--C-A-T--T---T---T-C-TA--A-TA--T-C---C--AC--A---A---A---A--T--G-A---A-G---G--C-A-----A--TA--A--T---T--GTAC-TAC-T-C-------\n",
      "str12: ATG-A-G--C---C--A--AG-A-T-C---CG-ACG-A--A----G-A-G--C---C---C---C--A---A-G---G-A-G---G-A-G-A--A-G--GA-G------G---G-AC---C---C---C---C---\n",
      "str13: -T---C-T-C--AC--A---GT--T-C--A---A-G-A--AC--C---C--A---A---A-GTAC---C---C---C---C---C--A--TA-G-C--C--C-T-CT---TA---A---A-G--C---C--AC---\n",
      "str14: A-G---GT---T---TA-TA---C--C-T---T-C---C---TA-G---GTA---AC--A---A---AC---C--A---AC---C--A---AC----T-----T--T-CG-A--T-C-T-C-T---T--GTA----\n",
      "str15: A-G---GT---T---TA-TA---C--C-T---T-C---C--C-A-G---GTA---AC--A---A---AC---C--A---AC---C--A---AC----T-----T--T-CG-A--T-C-T-C-T---T--GTA----\n",
      "str16: -T--A---A---A---AC-A--ACT-C--A---A--TAC-A--AC--A--TA---A-G-A---A---A---A--T-C--A---ACG--C--A--A-----A---A--AC--AC-T-C--AC--A---A---A----\n",
      "str17: -----C---CG--C---C-----C-A--T---T---T--G-----G---G--CG---G--C-T-C-T-CG-A-G--CG-A--TA-G--C-T-CG---TCGA---A-T-C---C---C-T-CG-AC---C-T-----\n",
      "str18: AT--AC---C-T---T-C-----C--C--A-G---GTA--AC-A---A---AC---C--A---AC---C--A---AC-T---T---T-CG-A-----TC----T-CT---T--GTA-G-A--T-C-T--G------\n",
      "str19: -T---C-T-C--AC--A---GT--T-C--A---A-G-A--AC--C-T-C--A---A-GT-C-T-C---C---C---C---C--A--TA-G---G-C--C----T-CT---T---T-C--A-GT-C--A-G------\n",
      "str20: --G-A--T-C-T-C-T-CT----C-AC---CG-A---AC--CT--G---G--C---C---C---CG---G---G--C--A---A---A--T--G-C--C--C-TA--A--T-C---C--A-G-A-G---GT--G--\n",
      "str21: A-G-A-G--C--A---A-T----C-A-GT--G--C--A----T-C--A-G-A---A---A--TA--TAC---C-TA--T---TA--TAC--AC----T-----T--T--G--C-TA---A-G-A---A--T-----\n",
      "str22: A---A--T---TA---A--A--AC-A--T-C-T-C--A--A-TAC--A---AC--A--TA---A-G-A---A---A---A---AC--A---ACG-C----A---A--A---A---AC--AC-T-C--A--T-----\n",
      "str23: A---A---ACG-A---ACT--T--TA---A---A---A----T-C-T--GT--GT--G---G--C-T--GT-C--AC-T-CG---G--C-T--G-C----A--T-----G--C-T---TA-GT--G--C-------\n",
      "str24: AT--A---AC-TA---A-T--TACT--GT-CGT---T--GAC-A-G---G-AC--ACG-A-GTA---AC-T-CGT-C-TA--T-C-T---T-C----T-G------------------------------------\n",
      "str25: ATG-A-GT--GT-C--AC--G-A--A--T---T-C--ACG--TAC--A---A--T--G-A---AC-T--G---G-A--T--GT---T-C--ACG---T-G--G-A--A--TA---A--------------------\n",
      "str26: A----C---CGT--G-----G------G--CG-A-G--CG-----GT--G-AC---CG---GT--GT-C-T---T-C---C-TA-GT--G---G--GTC--C---C-ACGT---T--G-A---A----------R-\n",
      "str27: A---A---A-G---GT--T--TA-TAC---C-T---T-C--C--C--A-G---GTA---AC--A---A---AC---C--A---AC---C--A--AC-T-----T--T-CG-A--T-C-T-C-T---T--G------\n",
      "str28: A-GTA-GT---T-CG--C-----CT--GT--GT--G-A-G-CT--G-AC--A---A---AC-T---TA-GTA-GT--GT---T---T--GT--GA-G--GA--T--TA----------------------------\n",
      "str29: -T-T---TA--TA"
     ]
    },
    {
     "name": "stdout",
     "output_type": "stream",
     "text": [
      "C---CT--T-C--C-TA-G---GTA--AC-A---A---AC---C--A---AC---C--A---AC-T---T---T-CG-A-----TC----T-CT---T--GTA-G-A--T-------------\n",
      "str30: ATG--CG---GT-CGT-CT----CT-C---C---C---CG-----G--C-T---T---T---T---T---T---T-C---C---C---CG--CG-C--CG-CGT--T--G---G--CG--C---CG-A--------\n",
      "str31: --GT--G-AC--A---A--A--A--AC--A--TA---A----T--G---G-AC-T-C---C--A---AC--AC---C--A--T--GT-C--A--A-G-C----T--T---T-C--A-G---GTA-G-AC-------\n",
      "str32: --GT--GTA---A-G-A--A--AC-A-GTA---A-G--C--C--CG---G-A---A-GT--G---GT--GT---T---T---T--G--CG-A-----T-----T--T-CG-A-G---G--C---CG---G------\n",
      "str33: --G-A-G-A---A--T----G-A----GT-C-T-C--A----T---TAC---CG--C---C---CG---GTAC-T---TA-G--C--A---A-G-C-T--A---A-TA-GT-C--ACG---G--C-----------\n",
      "str34: ATGT--G---GT-CG-A-T-G--C--C--A--T--G---GA----G---G--C---C---C--AC---C--A-GT---T-C--A--T---TA--A-G--G-C-T-C--C-T--G---G--C--A--T---T-----\n",
      "str35: A----CG-A-G--CGT--T--T--TA---A-G---G---G-C--C---CG--CG-AC-T--G--CG-ACG---G--C---C--AC--A--T--G--G-C--C---CT--GTA--T--GT-----------------\n",
      "str36: --G---GT---T---TA-TA---C--C-T---T-C---C--C-A-G---GTA---AC--A---A---AC---C--A---AC---C--A---AC----T-----T--T-CG-A--T-C-T-C-T---T--GTA-G--\n",
      "str37: -TG---G---G-A---A---GT--T-C---C--A---A--A--A-G-A--T-C--AC--A---A---A---AC--AC-TAC---C--A-GT-C-A-----AC---CT--G-A---A-GTAC--AC-----------\n",
      "str38: --G-A---A-G--CGT--TA--AC---GT--GT---T--GA----G---G-A---A---A---A-G-AC--A-G--C-T---TA-G---G-A-GA-----AC--A--A-G-A-G--C-T--G---G---G------\n",
      "str39: A----C---C--A-G--C--G--C-AC-T---T-CG---G-C-A-G--CG---G--C--A-G--C--AC---C-T-CG---G--C--A-G--C-AC--C----T-C-A-G--C--A-G--C--A---AC-------\n",
      "str40: ATG---G---G-AC--A--A---CT---TA--T---T-C--CTA--T-C--A--T--GT--G--C---C--A---A-G-A-G---GT---T------T-----TAC--C---CG---GT--G-AC---C--A----\n",
      "str41: -T-T--GTA-G-A--T-CT-GT--T-C-T-C-TA---A--AC---G-A---AC-T---T---TA---A---A---A--T-C-T--GT--GT--G--GT-----T-----GT-C--AC-T-C---------------\n",
      "str42: A---AC---C--A---AC-----C-A---AC-T---T-----T-CG-A--T-C-T-C-T---T--GTA-G-A--T-C-T--GT---T-C-T-C----T--A---A--ACG-A---AC-T---T---TA--------\n",
      "str43: --G---G---GT---T-CT-G--C--C--A-G---G--C-A-TA-GT-C-T---T---T---T---T---T---T-C-T--G---G--CG---G-C--C--C-T--T--GT--GTA---A---AC---C-T--G--\n",
      "str44: --G---G--C-T--G--C-A-T-----G--C-T---TA-G--T--G--C--AC-T-C--ACG--C--A-GTA--TA---A--T---TA---A-----T--A---ACTA---A--T---TAC-T--GT---------\n",
      "str45: -TG--C--A--T--G--CT--TA----GT--G--C--AC---T-C--ACG--C--A-GTA--TA---A--T---TA---A--TA---AC-TA--A--T-----TACT--GT-CGT---------------------\n",
      "str46: -T-T-C---C--AC--A--A---CT---T---T-C---C-AC--C--A---A-G--C-T-C-T--G--C--A---A-G-A--T-C---C---C-A-G---A-GT-C-A-G---G---G---G--C---C-T--G-T\n",
      "str47: -T---C-TA---A---AC--G-A--AC-T---T---TA--A--A---A--T-C-T--GT--GT--G---G--C-T--GT-C--AC-T-CG---G-C-T-G-C--A-T--G--C-T---TA-G--------------\n",
      "str48: A----C---CG---G-A-T-G------G--C---CG--CGA-T---T---T---T---T-CG---G-A-GT-C---C-T---T--G---G---G--G--GAC---C-AC-T-C--A-G-A---A--TA-G-A----\n",
      "str49: -----C-T---T--GTA---G-A-T-C-T--GT---T-C---T-C-TA---A---ACG-A---AC-T---T---TA---A---A---A--T-C----T-G---T-----GT--G---G--C-T--GT-C--AC--T\n",
      "str50: ATG-A-G--C--AC-TA--AG--C---G-A---A-G-A--AC--C--A---A---A---A---A-G--C--A-G-AC--A---A--TAC--A--AC--C--CG--CTA--T---TAC-------------------\n",
      "\n",
      "solution is feasible: True\n",
      "solution status: FEASIBLE\n",
      "best bound: 38.0\n"
     ]
    }
   ],
   "source": [
    "bench(scsp.example.load(\"nucleotide_n050k050.txt\"))"
   ]
  },
  {
   "cell_type": "code",
   "execution_count": null,
   "id": "qnkX",
   "metadata": {},
   "outputs": [
    {
     "name": "stdout",
     "output_type": "stream",
     "text": [
      "--- Condition (with 19 chars) ---\n",
      "str01: MALSYCPKGT\n",
      "str02: MQSSLNAIPV\n",
      "str03: MPLSYQHFRK\n",
      "str04: MEEHVNELHD\n",
      "str05: MSNFDAIRAL\n",
      "str06: MFRNQNSRNG\n",
      "str07: MFYAHAFGGY\n",
      "str08: MSKFTRRPYQ\n",
      "str09: MSFVAGVTAQ\n",
      "str10: MESLVPGFNE\n",
      "\n",
      "--- Solution (of length 46) ---\n",
      "  Sol: MQSKNPAEFLRSYDLNQVACINPSTEGHRVAFNREGKLGHPTYADQ\n",
      "str01: M-----A--L-SY------C--P-------------K-G--T----\n",
      "str02: MQS--------S--LN--A-I-P------V----------------\n",
      "str03: M----P---L-SY---Q----------H---F-R--K---------\n",
      "str04: M------E-----------------E-H-V--N-E--L-H----D-\n",
      "str05: M-S-N---F----D----A-I-------R-A------L--------\n",
      "str06: M-------F-R----NQ----N-S----R---N--G----------\n",
      "str07: M-------F---Y-----A--------H--AF---G--G---Y---\n",
      "str08: M-SK----F---------------T---R----R------P-Y--Q\n",
      "str09: M-S-----F--------VA-------G--V-----------T-A-Q\n",
      "str10: M------E---S--L--V----P---G----FN-E-----------\n",
      "\n",
      "solution is feasible: True\n",
      "solution status: OPTIMAL\n",
      "best bound: 46.0\n"
     ]
    }
   ],
   "source": [
    "bench(scsp.example.load(\"protein_n010k010.txt\"))"
   ]
  },
  {
   "cell_type": "code",
   "execution_count": null,
   "id": "TqIu",
   "metadata": {},
   "outputs": [
    {
     "name": "stdout",
     "output_type": "stream",
     "text": [
      "--- Condition (with 20 chars) ---\n",
      "str01: MRHLNIDIETYSSNDIKNGVYKYADAEDFEILLFAYSIDGGEVECLDLTR\n",
      "str02: MERRAHRTHQNWDATKPRERRKQTQHRLTHPDDSIYPRIEKAEGRKEDHG\n",
      "str03: MEPGAFSTALFDALCDDILHRRLESQLRFGGVQIPPEVSDPRVYAGYALL\n",
      "str04: MGKFYYSNRRLAVFAQAQSRHLGGSYEQWLACVSGDSAFRAEVKARVQKD\n",
      "str05: FFRENLAFQQGKAREFPSEEARANSPTSRELWVRRGGNPLSEAGAERRGT\n",
      "str06: MDPSLTQVWAVEGSVLSAAVDTAETNDTEPDEGLSAENEGETRIIRITGS\n",
      "str07: MAFDFSVTGNTKLDTSGFTQGVSSMTVAAGTLIADLVKTASSQLTNLAQS\n",
      "str08: MAVILPSTYTDGTAACTNGSPDVVGTGTMWVNTILPGDFFWTPSGESVRV\n",
      "str09: MNTGIIDLFDNHVDSIPTILPHQLATLDYLVRTIIDENRSVLLFHIMGSG\n",
      "str10: MFVFLVLLPLVSSQCVNLRTRTQLPPAYTNSFTRGVYYPDKVFRSSVLHS\n",
      "str11: MDSKETILIEIIPKIKSYLLDTNISPKSYNDFISRNKNIFVINLYNVSTI\n",
      "str12: MLLSGKKKMLLDNYETAAARGRGGDERRRGWAFDRPAIVTKRDKSDRMAH\n",
      "str13: MNGEEDDNEQAAAEQQTKKAKREKPKQARKVTSEAWEHFDATDDGAECKH\n",
      "str14: MESLVPGFNEKTHVQLSLPVLQVRDVLVRGFGDSVEEVLSEARQHLKDGT\n",
      "str15: MRYIVSPQLVLQVGKGQEVERALYLTPYDYIDEKSPIYYFLRSHLNIQRP\n",
      "str16: MPRVPVYDSPQVSPNTVPQARLATPSFATPTFRGADAPAFQDTANQQARQ\n",
      "str17: MFVFLVLLPLVSSQCVNLRTRTQLPLAYTNSFTRGVYYPDKVFRSSVLHS\n",
      "str18: MFVFFVLLPLVSSQCVNLTTRTQLPPAYTNSFTRGVYYPDKVFRSSVLHS\n",
      "str19: MEAIISFAGIGINYKKLQSKLQHDFGRVLKALTVTARALPGQPKHIAIRQ\n",
      "str20: MASSGPERAEHQIILPESHLSSPLVKHKLLYYWKLTGLPLPDECDFDHLI\n",
      "str21: MESLVPGFNEKTHVQLSLPVLQVRDVLVRGFGDSVEEVLSEVRQHLKDGT\n",
      "str22: MLAPSPNSKIQLFNNINIDINYEHTLYFASVSAQNSFFAQWVVYSADKAI\n",
      "str23: MSAITETKPTIELPALAEGFQRYNKTPGFTCVLDRYDHGVINDSKIVLYN\n",
      "str24: MKNIAEFKKAPELAEKLLEVFSNLKGNSRSLDPMRAGKHDVVVIESTKKL\n",
      "str25: MPQPLKQSLDQSKWLREAEKHLRALESLVDSNLEEEKLKPQLSMGEDVQS\n",
      "str26: MFVFLVLLPLVSSQCVNLITRTQSYTNSFTRGVYYPDKVFRSSVLHSTQD\n",
      "str27: MKFDVLSLFAPWAKVDEQEYDQQLNNNLESITAPKFDDGATEIESERGDI\n",
      "str28: MFVFLVLLPLVSSQCVNFTNRTQLPSAYTNSFTRGVYYPDKVFRSSVLHS\n",
      "str29: MWSIIVLKLISIQPLLLVTSLPLYNPNMDSCCLISRITPELAGKLTWIFI\n",
      "str30: MESLVPGFNEKTHVQLSLPVLQVRDVLVRGFGDSVEEFLSEARQHLKDGT\n",
      "str31: MFVFLVLLPLVSSQCVMPLFNLITTTQSYTNFTRGVYYPDKVFRSSVLHL\n",
      "str32: MHQITVVSGPTEVSTCFGSLHPFQSLKPVMANALGVLEGKMFCSIGGRSL\n",
      "str33: MATLLRSLALFKRNKDKPPITSGSGGAIRGIKHIIIVPIPGDSSITTRSR\n",
      "str34: MESLVPGFNEKTHVQLSLPVLQVRDVLVRGFGDSMEEVLSEARQHLKDGT\n",
      "str35: MFVFLVLLPLVSSQCVNLTTGTQLPPAYTNSFTRGVYYPDKVFRSSVLHS\n",
      "str36: MANIINLWNGIVPMVQDVNVASITAFKSMIDETWDKKIEANTCISRKHRN\n",
      "str37: MLNRIQTLMKTANNYETIEILRNYLRLYIILARNEEGRGILIYDDNIDSV\n",
      "str38: MADPAGTNGEEGTGCNGWFYVEAVVEKKTGDAISDDENENDSDTGEDLVD\n",
      "str39: MFVFLVLLPLVSSQCVNLRTRTQLPPSYTNSFTRGVYYPDKVFRSSVLHS\n",
      "str40: MESLVPGFNEKTHVQLSLPVLQVCDVLVRGFGDSVEEVLSEARQHLKDGT\n",
      "str41: MNNQRKKTARPSFNMLKRARNRVSTVSQLAKRFSKGLLSGQGPMKLVMAF\n",
      "str42: MSNFDAIRALVDTDAYKLGHIHMYPEGTEYVLSNFTDRGSRIEGVTHTVH\n",
      "str43: MIELRHEVQGDLVTINVVETPEDLDGFRDFIRAHLICLAVDTETTGLDIY\n",
      "str44: MFVFLVLLPLVSSQCVMPLFNLITTNQSYTNSFTRGVYYPDKVFRSSVLH\n",
      "str45: MSKDLVARQALMTARMKADFVFFLFVLWKALSLPVPTRCQIDMAKKLSAG\n",
      "str46: MASLLKSLTLFKRTRDQPPLASGSGGAIRGIKHVIIVLIPGDSSIVTRSR\n",
      "str47: MRVRGILRNWQQWWIWTSLGFWMFMICSVVGNLWVTVYYGVPVWKEAKTT\n",
      "str48: MAVEPFPRRPITRPHASIEVDTSGIGGSAGSSEKVFCLIGQAEGGEPNTV\n",
      "str49: MFYAHAFGGYDENLHAFPGISSTVANDVRKYSVVSVYNKKYNIVKNKYMW\n",
      "str50: MANYSKPFLLDIVFNKDIKCINDSCSHSDCRYQSNSYVELRRNQALNKNL\n",
      "\n",
      "--- Solution (of length 447) ---\n",
      "  Sol: MRSAEFHKLNSTWYDFGLSVAEHIKPRTADEFGNQAIKLPRSTYAEFHKLQRTVYADEHKLMNPQSVWEFGKLNPQRTYADHILRSVEFGILNPQTWDELRSAHNPSTVWYADFGIKLPQSWACELRTVADEGHIMPQRCDNTVAEGILMPQRSTVWYAFHIKQRTCDEGHILMNPQRSTVYADGKLNPQSVYDFIKLNRTVWACEGIKLMPSTYDFGINRTYAEHIKLPQRSVWDFMNTAGIKLRTYACFGHQSVYAELMPRSTVWGIKNSVYADEFKLNPQRTVWGIKMSACDEFHIKLNPRSVACIKLPRTWYEFGHINSVDEFGKNPRYADEILNRTFHPSYACEGIKLPQRSVWCHIKLNQSTYADGKLMPQRSTVYADEFGNPSVYCIMQRSTAEIKSVWDGIKTCEHILPQRSADLNTVGIKLMRYAHKNQSTDFGILTY\n",
      "str01: MR----H-LN-------------I-----D------I--------E------T-Y----------S-------------------S------N----D-----------------IK------------------------N----G--------V-Y----K------------------YAD-------------------A-E---------DF-------E-I-L---------------L-----F------A---------------Y-----------------S------I-------------------------D--G---------------------G----------------------------------E-----V---------E----------C---L-----DL-T------R---------------\n",
      "str02: M---E---------------------R-------------R---A--H---RT-----H-----Q--------N----------------------WD----A----T--------K-P-------R----E------R-------------R---------KQ-T----------Q------------------------------------------------H-----R------------L-T-----H--------P-------------D------------------D---------S---I------Y--------------PR----I-----------E--K-----------------A--------------E-G---------R-----K---------E--------D------------H-------G----\n",
      "str03: M---E--------------------P------G--A----------F------------------S-----------T-A---L----F--------D----A--------------L-----C------D---------D------IL-----------H---R------------R--------L------------------E------S-----------------Q-------------LR----FG---------------G----V---------Q-----I-------------P--------P----E------V--------------------S-------------------------D----P-R--VYA---G----Y-------A---------------L------L------------------------\n",
      "str04: M---------------G-------K------F-----------Y----------Y----------S-------N--R-------R------L----------A-----V----F--------A--------------Q------A------Q-S----------R-----H-L-----------G---------------------G-----S-Y---------E-----Q---W---------L---AC-----V-------S---G-------D---------------SA---F------R--A---------E------V----K----A-----R-----------------V-------Q------K----------D---------------------------------------------------------------\n",
      "str05: -----F---------F----------R---E--N----L-----A-F---Q-------------Q-----GK-------A----R--EF----P-------S----------------------E------E------------A-------R-----A---------------N---S---------P-----------T-----------S-------R---E---L-----W--------------------V------R--------------------R---G------------------------------G--N--------P------L------S---E--------------------A-G----------A-E-----------R---------------------R-------G------------T-------\n",
      "str06: M-------------D----------P---------------S-------L--T-----------Q-VW-----------A------VE-G-----------S------V--------L--S-A------A-------------V-----------------------D-----------T--A----------------------E-------T-----N---------------D---T------------------E--P-------------DE----------G------------L---S-A---------E----N---E-G-------E----T--------------R-----I-------------------------------I--R----I--------T---------------G-----------S--------\n",
      "str07: M--A-F--------DF--SV-------T----GN--------T-----KL------D--------------------T-------S---G-----------------------F-------------T---------Q--------G--------V----------------------S-----------S-------------------M--T-------------------V------A-------A--G------------T--------------L--------I---A-D-----L----V---K---T-------------------A----------S-----------S--------Q-------L-----T-------N---------------------------L----A----------------QS--------\n",
      "str08: M--A---------------V---I--------------LP-STY--------T---D-------------G------T-A----------------------A--------------------C---T-------------N----G------S---------------------P-------D-------V---------V----G------T---G---T------------"
     ]
    },
    {
     "name": "stdout",
     "output_type": "stream",
     "text": [
      "---M----------------------------W-----V-------N---T---I-----------L-P---------------G-----D-F--------------F----------------W--------T-------P--S-------G-------------E--SV-------------R------V---------------------\n",
      "str09: M--------N-T----G------I------------I-------------------D---L--------F----------D-----------N----------H----V---D-------S-------------I-P-----T----IL-P---------H--Q--------L---------A-----------------T--------L-----D------Y-----L----V-----------RT---------------------I-------------------I-----DE-----N-RSV----L--------------------------L---FH-------I-----------------------M-----------G--S-----------------G---------------------------------------\n",
      "str10: M----F-------------V-----------F------L--------------V------L-----------L-P--------L--V--------------S----S------------Q---C----V------------N------L---R-T---------RT----------Q---------L-P----------------------P-----------A-----------------------Y----------------T-----NS-----F------T------------------R--------------G----V--------Y------------Y-------P----------------D-K-------V----F----------RS-----SV----------L------------------H---S--------\n",
      "str11: M-------------D---S-----K-----E-----------T---------------------------------------IL------I-------E----------------I------------------I-P-------------------------K--------I-------------K----S-Y----L-----------L-----D-----T----------------N---I-----------S------P-------K-S-Y------N-------------D-F-I-----S-------R--------N------KN------I----F---------------V---I--N--------L-------Y-----N--V------ST--I---------------------------------------------\n",
      "str12: M-------L--------LS-------------G----K----------K----------K-M----------L----------L-------------D------N-----Y-------------E--T-A--------------A-------------A-----R----G-------R------G---------------------G--------D--------E------R-------------R----------------R----G------------------W-----A---F---------------------------D------R-----------P--A---I------V---------T----K----R-----D------------------KS--D-----------R-----------M--AH------------\n",
      "str13: M--------N------G----E--------E-------------------------D-----------------------D-----------N-----E--------------------Q--A------A--------------AE-----Q-----------Q-T-------------------K----------K------A----K-----------R---E--K-P-------------K---------Q---A----R------K--V-----------T------S---E----------A-------W-E--H------F-------D-----------A--------------------T--D------------D--G------------AE----------C----------------K-----H------------\n",
      "str14: M---E-----S------L-V-----P------G-------------F---------------N-----E--K-----T---H----V-------Q----L-S---------------LP---------V-------------------L--Q---V--------R--D------------V-----L----V-------R------G---------FG-----------------D------------------SV--E-----------------E--------V--------------L---S-----------E----------------A-----R--------------Q-----H--L--------K----------D--G-----------T------------------------------------------------\n",
      "str15: MR-----------Y---------I-----------------------------V-----------S--------PQ-------L--V----L--Q-------------V-----G-K---------------G----Q-"
     ]
    },
    {
     "name": "stdout",
     "output_type": "stream",
     "text": [
      "------E---------V------------E--------R----A---L-----Y----L--T----------P--YD------Y---I--------D----------------------E----------K-S---------P------I--------------------------Y----------------Y--------F----------L--RS---H--LN----------------------------I-QR-------------------P------------------------------\n",
      "str16: M------------------------PR--------------------------V---------P--V-----------Y-D----S-------PQ-------------V-----------S---------------P----NTV------PQ------A-----R-------L---------A-----------------T----------PS---F------A---------------T---------------------P--T------------F-----R---G----A-D-----------A----P---------------------A-------F------------Q---------------D--------T--A----N-------Q---------------------Q--A----------R-----Q---------\n",
      "str17: M----F-------------V-----------F------L--------------V------L-----------L-P--------L--V--------------S----S------------Q---C----V------------N------L---R-T---------RT----------Q---------L-P--------L-----A----------Y------T----------------N---------------S----------------------F------T------------------R--------------G----V--------Y------------Y-------P----------------D-K-------V----F----------RS-----SV----------L------------------H---S--------\n",
      "str18: M----F-------------V-----------F--------------F------V------L-----------L-P--------L--V--------------S----S------------Q---C----V------------N------L-----T----------T-----------R-T---------Q-------L-------------P-----------------P----------A------Y----------------T-----NS-----F------T------------------R--------------G----V--------Y------------Y-------P----------------D-K-------V----F----------RS-----SV----------L------------------H---S--------\n",
      "str19: M---E---------------A--I------------I----S----F--------A--------------G-----------I------GI-N-----------------Y-----K---------------------------------------------K---------L---Q-S------KL--Q-----------------------------------H---------DF----G---R---------V---L---------K----A----L----TV---------------------------T-------------------A-----R------A-----LP-----------------G----Q-----------P-------------K----------HI-----A------I---R-----Q---------\n",
      "str20: M--A------S-------S-------------G------P-----E-----R---A-EH-----Q-----------------I-------IL-P----E--S-H-------------L--S--------------------------------S---------------------P----------L----V----K----------------------------H-KL---------------L--Y--------Y---------W--K---------L----T--G------------L-P-------LP------------DE---------------------C----------------------D--------------F--------------------D------H-L-----------I-------------------\n",
      "str21: M---E-----S------L-V-----P------G-------------F---------------N-----E--K-----T---H----V-------Q----L-S---------------LP---------V-------------------L--Q---V--------R--D------------V-----L----V-------R------G---------FG-----------------D------------------SV--E-----------------E--------V--------------L---S-----------E------V-------R----------------------Q-----H--L--------K----------D--G-----------T------------------------------------------------\n",
      "str22: M-------L-----------A----P---------------S---------------------P---------N-----------S------------------------------K-----------------I--Q----------L----------F--------------N------------N-------I--N--------I-------D--IN--Y-EH-------------T----L--Y--F------A-----S-V-----S--A-------Q------------------N--S------------F--------F------A--------------------Q---W---------------------V---------VY-----S-A------D--K----------A------I-------------------\n",
      "str23: M-SA-------------------I---T--E-----------T-----K--------------P-------------T----I----E---L-P--------A--------------L----A-E-------G--------------------------F---QR----------------Y-----N--------K---T----------P-----G------------------F--T---------C-----V---L---------------D-------R-------------------------------Y--------D-----------------H------G-------V---I--N-----D-------S-----------------------K-----I----------------V---L--Y---N----------\n",
      "str24: M------K-N-------------I----A-EF-----K----------K------A-------P----E---L------A-------E----------------------------KL-------L-----E-----------V---------------F------------------S--------N---------L----------K--------G-N------------S------------R--------S----L---------------D-----P--------M------------R--A-----------G---------K-------------H---------------------------D---------V---------V-------------V---I---E------S----T---K------K--------L--\n",
      "str25: M------------------------P--------Q----P---------L---------K----QS------L-------D-------------Q------S--------------K----W---LR----E------------AE----------------K-------H-L----R----A---L------------------E------S---------------L----V-D------------------S---------------N--------L---------------E--------------------E--------E--K--------L-------------K-PQ--------L--S-------M-----------G-------------E-----D------------------V-----------QS--------\n",
      "str26: M----F-------------V-----------F------L--------------V------L-----------L-P--------L--V--------------S----S------------Q---C----V------------N------L------------I---T-----------R-T---------QS-Y-------T------------------N------------S---F--T-----R-----G---VY--------"
     ]
    },
    {
     "name": "stdout",
     "output_type": "stream",
     "text": [
      "--------Y-------P------------D----K-----V-----------F-------------R------------S-----------SV-----L-------------------------------------------------H-----S----T------------Q--D------\n",
      "str27: M------K-------F-------------D-----------------------V------L----S------L---------------F-------------A--P---W-A----K-----------V-DE-----Q-------E-----------Y---------D--------Q------------Q-------LN--------------------N------------------N-----L-------------E----S----I---------------T-------A---------P------K-------F------D---------D--------------G-------------------A---------T----E--------I------E--S--------E-----R-------G-------------D--I---\n",
      "str28: M----F-------------V-----------F------L--------------V------L-----------L-P--------L--V--------------S----S------------Q---C----V------------N-----------------F-----T--------N--R-T---------Q-------L-------------PS----------A-----------------------Y----------------T-----NS-----F------T------------------R--------------G----V--------Y------------Y-------P----------------D-K-------V----F----------RS-----SV----------L------------------H---S--------\n",
      "str29: M-----------W-----S----I------------I----------------V------L----------KL---------I--S----I---Q----------P-----------L-------L----------------------L------V---------T------------S-------L-P--------L----------------Y----N---------P--------N---------------------M--------------D---------------S-C-------------C--L---------I-S--------R----I---T--P----E---L----------------A-GKL-----T-------------------------W--I--------------------------------F-I---\n",
      "str30: M---E-----S------L-V-----P------G-------------F---------------N-----E--K-----T---H----V-------Q----L-S---------------LP---------V-------------------L--Q---V--------R--D------------V-----L----V-------R------G---------FG-----------------D------------------SV--E-----------------EF-L-----------S---E----------A-----R-----------------------------------------Q-----H--L--------K----------D--G-----------T------------------------------------------------\n",
      "str31: M----F-------------V-----------F------L--------------V------L-----------L-P--------L--V--------------S----S------------Q---C----V------MP-----------L----------F--------------N-----------L--------I----T------------T-------T--------Q-S--------------Y----------------T-----N------F------T------------------R--------------G----V--------Y------------Y-------P----------------D-K-------V----F----------RS-----SV----------L------------------H---------L--\n",
      "str32: M-----H---------------------------Q-I-----T----------V------------V------------------S---G---P-T--E---------V-----------S------T-----------C-------------------F---------G--------S-------L--------------------------------------H---P------F----------------QS----L---------K-----------P---V----M-A--------N----A---L-------G----V-------------L----------EG-K----------------------M----------F------C----S---I-----G------------------G----R------S-----L--\n",
      "str33: M--A-------T-----L--------------------L-RS-------L-----A----L--------F-K----R---------------N-----------------------K-------------D-------------------------------K------------P------------P------I----T-----------S----G--------------S--------G---------G-----A----------I--------------R---GIK-------HI---------I-----------I--V------P-----I------P-----G--------------------D-------S----------S---I----T-----------T-------RS-----------R---------------\n",
      "str34: M---E-----S------L-V-----P------G-------------F---------------N-----E--K-----T---H----V-------Q----L-S---------------LP---------V-------------------L--Q---V--------R--D------------V-----L----V-------R------G---------FG-----------------D------------------S-----M---------------E------------------E---------V----L-----------S--E-------A-----R--------------Q-----H--L--------K----------D--G-----------T------------------------------------------------\n",
      "str35: M----F-------------V-----------F------L--------------V------L-----------L-P--------L--V--------------S----S------------Q---C----V------------N------L-----T----------T---G---------T---------Q-------L-------------P-----------------P----------A------Y"
     ]
    },
    {
     "name": "stdout",
     "output_type": "stream",
     "text": [
      "----------------T-----NS-----F------T------------------R--------------G----V--------Y------------Y-------P----------------D-K-------V----F----------RS-----SV----------L------------------H---S--------\n",
      "str36: M--A-----N-------------I------------I-------------------------N---------L-----------------------W-------N---------GI------------V-------P------------M-----V-------Q---D------------V------N---V-----------A--------S-----I--T-A------------F------K----------S-----M-------I------DE-------T-W-------D----K---------K----------I----E-------A----N-T------C--I-----S--------------------R------------------------K----------H----R----N-----------------------\n",
      "str37: M-------LN----------------R---------I-------------Q-T-------LM---------K-----T-A------------N-----------N-----Y-------------E--T------I----------E-IL---R---------------------N------Y----L------------R---------L----Y---I-------I-L-----------A----R------------------------N-----E------------------E----------------------G------------R-----------------GI-L--------I------Y-D------------D---N-----I------------D------------S-----V---------------------\n",
      "str38: M--A----------D----------P--A---G---------T-------------------N-------G----------------E----------E---------------G------------T----G------C-N----G---------W--F---------------------Y---------V-------------E-----------------A---------V---------------------V--E----------K--------K-----T--G------D-----------A-I-------------S-D---------DE--N---------E---------------N-----D-------S----D--------------T--------G----E--------DL--V--------------D------\n",
      "str39: M----F-------------V-----------F------L--------------V------L-----------L-P--------L--V--------------S----S------------Q---C----V------------N------L---R-T---------RT----------Q---------L-P----------------------PS-Y------T----------------N---------------S----------------------F------T------------------R--------------G----V--------Y------------Y-------P----------------D-K-------V----F----------RS-----SV----------L------------------H---S--------\n",
      "str40: M---E-----S------L-V-----P------G-------------F---------------N-----E--K-----T---H----V-------Q----L-S---------------LP---------V-------------------L--Q---V----------CD------------V-----L----V-------R------G---------FG-----------------D------------------SV--E-----------------E--------V--------------L---S-----------E----------------A-----R--------------Q-----H--L--------K----------D--G-----------T------------------------------------------------\n",
      "str41: M--------N-----------------------NQ-----R-------K----------K-----------------T-A----R--------P-------S-----------F---------------------------N-------M----------------------L------------K-------------R---A----------------R-----------------N------R---------V-------STV-----S----------Q-----------------L-----A--K--R----F----S-----K--------------------G--L----------L--S----G----Q---------G-P-----M-------K------------L---------V----M--A-------F-----\n",
      "str42: M-S------N-----F-------------D-----AI---R---A----L---V--D--------------------T--D---------------------A-------Y-----KL--------------GHI-----"
     ]
    },
    {
     "name": "stdout",
     "output_type": "stream",
     "text": [
      "--------------------H------------M-------Y------P----------------EG------T----------E----------------------Y-------V---L---S------N------F------T---------D--------R--------------G---S--------R----I-----------EG-------V---------T---------------------------------------------H----------TV--------H------------\n",
      "str43: M----------------------I------E-------L-R------H---------E--------V--------Q-------------G-------D-L--------V------------------T------I------N-V-----------V------------E----------T--------P----------------E---------D------------L------D-----G--------F-----------R------------D-F----------I--------------R--A------------H-----------------L------------I--------C---L-----A----------V--D--------------T-E---------T-------------T-G--L----------D--I--Y\n",
      "str44: M----F-------------V-----------F------L--------------V------L-----------L-P--------L--V--------------S----S------------Q---C----V------MP-----------L----------F--------------N-----------L--------I----T------------T-----N----------Q-S--------------Y----------------T-----NS-----F------T------------------R--------------G----V--------Y------------Y-------P----------------D-K-------V----F----------RS-----SV----------L------------------H------------\n",
      "str45: M-S----K------D--L-VA-----R-------QA--L----------------------M---------------T-A----R--------------------------------------------------M--------------------------K-------------------AD----------F------V--------------F-------------------F-------L-----F----V---L------W--K----A----L-----------S--------L-P--V-----P-T-----------------R---------------C------Q------I--------D---M-------A-------------------K------K-----L---SA-----G--------------------\n",
      "str46: M--A------S------L--------------------L---------K----------------S------L----T-----L----F---------------------------K---------RT----------R-D----------Q-----------------------P------------P--------L-----A--------S----G--------------S--------G---------G-----A----------I--------------R---GIK-------H-------V--I-----------I--V-------------L------------I--P-----------------G-----------D-----S-------S---I--V-----T-------RS-----------R---------------\n",
      "str47: MR-----------------V------R-----G---I-L-R---------------------N----W-------Q------------------Q-W------------W-----I-----W-----T-------------------------S------------------L-----------G---------F-------W-------M-----F--------------------M----I------C----SV---------V-G--N--------L------W------------------V-------T---------V--------Y------------Y---G-------V-----------------P----V------------------------W---K--E-------A-------K----------T-----T-\n",
      "str48: M--A---------------V-E---P-----F-------PR----------R-----------P------------------I------------T----R----P---------------------------H----------A--------S-------I------E-----------V--D----------------T-----------S----GI----------------------G---------G--S--A---------G---S-------------------S---E---K-----V-----------F-----------------------------C----L--------I---------G----Q-----A-E-G--------------------G----E---P------NTV---------------------\n",
      "str49: M----F-------Y------A-H-----A--FG-------"
     ]
    },
    {
     "name": "stdout",
     "output_type": "stream",
     "text": [
      "------------------------------G-------Y-D------E----N------L---H-------A-F----P-------------G-I------------------S------------------------STV-A----N-----D-------V------------------R------K-------------------Y------SV---------V-----SVY------N--------K---------K---------------Y-----N--------------I--------------------V----K-N-------K--------Y------------M----------W-----------------------------------------\n",
      "str50: M--A-----N---Y----S-----KP-----F------L----------L------D-------------------------I---V-F---N-----------------------K-------------D---I---------------------------K---C----I--N--------D------S-------------C-------S------------H------S--D-------------C------------R----------Y--------Q--------S---------N--S----------Y-------V-E-----------L-R---------------R--------NQ---A---L-------------N--------------K--------------------N-----L-----------------\n",
      "\n",
      "solution is feasible: True\n",
      "solution status: FEASIBLE\n",
      "best bound: 26.0\n"
     ]
    }
   ],
   "source": [
    "bench(scsp.example.load(\"protein_n050k050.txt\"))"
   ]
  }
 ],
 "metadata": {},
 "nbformat": 4,
 "nbformat_minor": 5
}
