{
 "cells": [
  {
   "cell_type": "code",
   "execution_count": null,
   "id": "setup",
   "metadata": {
    "marimo": {
     "name": "setup"
    }
   },
   "outputs": [],
   "source": [
    "import opt_note.scsp as scsp\n",
    "import hexaly.optimizer\n",
    "import linear_cpsat_test"
   ]
  },
  {
   "cell_type": "code",
   "execution_count": null,
   "id": "Hbol",
   "metadata": {},
   "outputs": [],
   "source": [
    "import marimo as mo\n",
    "import nbformat"
   ]
  },
  {
   "cell_type": "markdown",
   "id": "MJUe",
   "metadata": {
    "marimo": {
     "config": {
      "hide_code": true
     }
    }
   },
   "source": [
    "# ALPHABET から削り出すやつを Hexaly でやる"
   ]
  },
  {
   "cell_type": "code",
   "execution_count": null,
   "id": "vblA",
   "metadata": {
    "marimo": {
     "name": "*Model"
    }
   },
   "outputs": [],
   "source": [
    "class Model:\n",
    "    def __init__(self, instance: list[str]):\n",
    "        chars = \"\".join(sorted(list(set(\"\".join(instance)))))\n",
    "        max_len = len(chars) * max(len(s) for s in instance)\n",
    "\n",
    "        hxoptimizer = hexaly.optimizer.HexalyOptimizer()\n",
    "        hxmodel = hxoptimizer.model\n",
    "        assert isinstance(hxoptimizer, hexaly.optimizer.HexalyOptimizer)\n",
    "        assert isinstance(hxmodel, hexaly.optimizer.HxModel)\n",
    "\n",
    "        valids = [hxmodel.bool() for _ in range(max_len)]\n",
    "        cvars = [\n",
    "            [\n",
    "                hxmodel.int(0, max(len(_s) for _s in instance) - 1)\n",
    "                for c in s\n",
    "            ]\n",
    "            for s in instance\n",
    "        ]\n",
    "\n",
    "        for sidx, s in enumerate(instance):\n",
    "            for cidx, c in enumerate(s):\n",
    "                if cidx == 0:\n",
    "                    continue\n",
    "                hxmodel.constraint(\n",
    "                    len(chars) * cvars[sidx][cidx - 1] + chars.index(s[cidx - 1])\n",
    "                    < len(chars) * cvars[sidx][cidx] + chars.index(s[cidx])\n",
    "                )\n",
    "\n",
    "        valids_array = hxmodel.array(valids)\n",
    "        for sidx, s in enumerate(instance):\n",
    "            for cidx, c in enumerate(s):\n",
    "                hxmodel.constraint(valids_array[len(chars) * cvars[sidx][cidx] + chars.index(c)] == 1)\n",
    "\n",
    "        hxmodel.minimize(sum(valids))\n",
    "        hxmodel.close()\n",
    "\n",
    "        self.instance = instance\n",
    "        self.chars = chars\n",
    "        self.hxoptimizer = hxoptimizer\n",
    "        self.hxmodel = hxmodel\n",
    "        self.valids = valids\n",
    "        self.status: hexaly.optimizer.HxSolutionStatus | None = None\n",
    "\n",
    "    def solve(self, time_limit: int | None = 60, log: bool = False) -> \"Model\":\n",
    "        assert isinstance(self.hxoptimizer.param, hexaly.optimizer.HxParam)\n",
    "        if time_limit is not None:\n",
    "            self.hxoptimizer.param.time_limit = time_limit\n",
    "        self.hxoptimizer.param.verbosity = 1 if log else 0\n",
    "        self.hxoptimizer.solve()\n",
    "        self.status = self.hxoptimizer.solution.status\n",
    "        return self\n",
    "\n",
    "    def to_solution(self) -> str | None:\n",
    "        assert isinstance(self.hxoptimizer.solution, hexaly.optimizer.HxSolution)\n",
    "\n",
    "        if self.status not in {\n",
    "            hexaly.optimizer.HxSolutionStatus.OPTIMAL,\n",
    "            hexaly.optimizer.HxSolutionStatus.FEASIBLE,\n",
    "        }:\n",
    "            return None\n",
    "\n",
    "        solution = \"\"\n",
    "        for idx, valid in enumerate(self.valids):\n",
    "            if valid.value:\n",
    "                solution += self.chars[idx % len(self.chars)]\n",
    "\n",
    "        return solution"
   ]
  },
  {
   "cell_type": "code",
   "execution_count": null,
   "id": "bkHC",
   "metadata": {
    "marimo": {
     "name": "*bench1"
    }
   },
   "outputs": [],
   "source": [
    "def bench1(instance: list[str]) -> None:\n",
    "    model = linear_cpsat_test.Model(instance).solve()\n",
    "    solution = model.to_solution()\n",
    "    scsp.util.show(instance)\n",
    "    if solution is not None:\n",
    "        scsp.util.show(instance, solution)\n",
    "        print(f\"solution is feasible: {scsp.util.is_feasible(instance, solution)}\")\n",
    "    else:\n",
    "        print(\"--- Solution not found ---\\n\")\n",
    "\n",
    "    print(f\"solution status: {model.cpsolver.status_name()}\")\n",
    "    print(f\"bset bound: {model.cpsolver.best_objective_bound}\")"
   ]
  },
  {
   "cell_type": "code",
   "execution_count": null,
   "id": "lEQa",
   "metadata": {
    "marimo": {
     "name": "*bench2"
    }
   },
   "outputs": [],
   "source": [
    "def bench2(instance: list[str]) -> None:\n",
    "    model = Model(instance).solve()\n",
    "    solution = model.to_solution()\n",
    "    scsp.util.show(instance)\n",
    "    if solution is not None:\n",
    "        scsp.util.show(instance, solution)\n",
    "        print(f\"solution is feasible: {scsp.util.is_feasible(instance, solution)}\")\n",
    "    else:\n",
    "        print(\"--- Solution not found ---\\n\")\n",
    "\n",
    "    print(f\"solution is optimal: {model.hxoptimizer.solution.status == hexaly.optimizer.HxSolutionStatus.OPTIMAL}\")\n",
    "    print(f\"bset bound: {model.hxoptimizer.solution.get_objective_bound(0)}\")"
   ]
  },
  {
   "cell_type": "code",
   "execution_count": null,
   "id": "PKri",
   "metadata": {},
   "outputs": [],
   "source": [
    "instance01 = scsp.example.load(\"uniform_q26n004k015-025.txt\")"
   ]
  },
  {
   "cell_type": "code",
   "execution_count": null,
   "id": "Xref",
   "metadata": {},
   "outputs": [
    {
     "name": "stdout",
     "output_type": "stream",
     "text": [
      "--- Condition (with 25 chars) ---\n",
      "str1: tkgnkuhmpxnhtqgxzvxis\n",
      "str2: iojiqfolnbxxcvsuqpvissbxf\n",
      "str3: ulcinycosovozpplp\n",
      "str4: igevazgbrddbcsvrvnngf\n",
      "\n",
      "--- Solution (of length 62) ---\n",
      " Sol: tuklcignyckosuhjmoeiqvafozppglnbrxddxbcsvrsvnhtunqgpxzvxissbxf\n",
      "str1: t-k---gn--k--uh-m---------p------x----------nht--qg-xzvxis----\n",
      "str2: -----i-----o---j---iq--fo----lnb-x--x-c-v-s----u-q-p--v-issbxf\n",
      "str3: -u-lci-nyc-os----o---v--ozpp-l---------------------p----------\n",
      "str4: -----ig-----------e--va--z--g--br-dd-bcsvr-vn---n-g----------f\n",
      "\n",
      "solution is feasible: True\n",
      "solution status: OPTIMAL\n",
      "bset bound: 62.0\n"
     ]
    }
   ],
   "source": [
    "bench1(instance01)"
   ]
  },
  {
   "cell_type": "code",
   "execution_count": null,
   "id": "SFPL",
   "metadata": {},
   "outputs": [
    {
     "name": "stdout",
     "output_type": "stream",
     "text": [
      "--- Condition (with 25 chars) ---\n",
      "str1: tkgnkuhmpxnhtqgxzvxis\n",
      "str2: iojiqfolnbxxcvsuqpvissbxf\n",
      "str3: ulcinycosovozpplp\n",
      "str4: igevazgbrddbcsvrvnngf\n",
      "\n",
      "--- Solution (of length 65) ---\n",
      " Sol: itkgnekulvachmopxjinyzchotqsfgovborzdppdlnbxxcvzsuqvxprvinsnsbgxf\n",
      "str1: -tkgn-ku----hm-px--n---h-tq--g-------------x---z---vx---i-s------\n",
      "str2: i-------------o--ji-------q-f-o---------lnbxxcv-suq--p-vi-s-sb-xf\n",
      "str3: -------ul--c------iny-c-o--s--ov-o-z-pp-l------------p-----------\n",
      "str4: i--g-e---va----------z-------g--b-r-d--d--b--c--s--v--rv-n-n--g-f\n",
      "\n",
      "solution is feasible: True\n",
      "solution is optimal: False\n",
      "bset bound: 32\n"
     ]
    }
   ],
   "source": [
    "bench2(instance01)"
   ]
  },
  {
   "cell_type": "code",
   "execution_count": null,
   "id": "BYtC",
   "metadata": {},
   "outputs": [],
   "source": [
    "instance02 = scsp.example.load(\"uniform_q26n008k015-025.txt\")"
   ]
  },
  {
   "cell_type": "code",
   "execution_count": null,
   "id": "RGSE",
   "metadata": {},
   "outputs": [
    {
     "name": "stdout",
     "output_type": "stream",
     "text": [
      "--- Condition (with 26 chars) ---\n",
      "str1: tkgnkuhmpxnhtqgxzvxis\n",
      "str2: iojiqfolnbxxcvsuqpvissbxf\n",
      "str3: ulcinycosovozpplp\n",
      "str4: igevazgbrddbcsvrvnngf\n",
      "str5: pyplrzxucpmqvgtdfuivcdsbo\n",
      "str6: pbdevdcvdpfzsmsbroqvbbh\n",
      "str7: enbczfjtvxerzbrvigple\n",
      "str8: rxwxqkrdrlctodtmprpxwd\n",
      "\n",
      "--- Solution (of length 103) ---\n",
      " Sol: iorxgjpwxbdeiqtvyafkopzglnrbdkruxzhlmpxcinuvyzcfhjopstumoqvdpgotxdefrzbuvxcisvcdmpsbroqvnnbibgpxflpwdeh\n",
      "str1: --------------t----k---g-n---k-u--h-mpx--n------h----t---q---g--x----z--vx-is--------------------------\n",
      "str2: io---j------iq----f-o---ln-b----x-----xc---v--------s-u--q--p-----------v--is-----sb-----------xf------\n",
      "str3: -------------------------------u---l---cin--y-c---o-s---o-v---o------z-----------p------------p--lp----\n",
      "str4: i---g------e---v-a----zg---b--r----------------------------d-----d----b---c-sv------r--vnn---g--f------\n",
      "str5: ------p---------y----p--l-r------z----x---u---c----p---m-qv--g-t-d-f---u---i-vcd--sb-o-----------------\n",
      "str6: ------p--bde---v------------d----------c---v---------------dp------f-z------s---m-sbroqv--b-b---------h\n",
      "str7: -----------e-------------n-b-----------c-----z-f-j---t----v-----x-e-rzb-------------r--v---i-gp--l---e-\n",
      "str8: --rx---wx----q-----k------r-d-r----l---c-------------t--o--d---t----------------mp--r---------px---wd--\n",
      "\n",
      "solution is feasible: True\n",
      "solution status: FEASIBLE\n",
      "bset bound: 75.0\n"
     ]
    }
   ],
   "source": [
    "bench1(instance02)"
   ]
  },
  {
   "cell_type": "code",
   "execution_count": null,
   "id": "Kclp",
   "metadata": {},
   "outputs": [
    {
     "name": "stdout",
     "output_type": "stream",
     "text": [
      "--- Condition (with 26 chars) ---\n",
      "str1: tkgnkuhmpxnhtqgxzvxis\n",
      "str2: iojiqfolnbxxcvsuqpvissbxf\n",
      "str3: ulcinycosovozpplp\n",
      "str4: igevazgbrddbcsvrvnngf\n",
      "str5: pyplrzxucpmqvgtdfuivcdsbo\n",
      "str6: pbdevdcvdpfzsmsbroqvbbh\n",
      "str7: enbczfjtvxerzbrvigple\n",
      "str8: rxwxqkrdrlctodtmprpxwd\n",
      "\n",
      "--- Solution (of length 114) ---\n",
      " Sol: ioprtxybdjkpwxginqefkovalnrzgxbdrucdlpvcdhmpqtvxzbfgijotvxzdenrsycfhtuimqvcgsuxzbqropqvdisborsvnnozbgpxlpwdefhilps\n",
      "str1: ----t-----k---g-n---k------------u-------hmp---x-------------n-----ht---q--g--xz------v---------------x-------i--s\n",
      "str2: io-------j-----i-q-f-o--ln----b----------------x---------x-------c-------v--su---q--p-v-is---s-----b--x-----f-----\n",
      "str3: ---------------------------------u--l--c------------i--------n--yc-----------------o-----s-o--v--oz--p--p------lp-\n",
      "str4: i-------------g---e---va---zg-b-r--d----d--------b---------------c----------s---------v-----r-vnn---g-------f-----\n",
      "str5: --p---y----p------------l-rz-x---uc--p----m-q-v----g---t---d------f--ui--vc------------d-sbo----------------------\n",
      "str6: --p----bd---------e---v--------d--c---v-d--p------f-------z----s-------m----s---b-ro-qv---b--------b---------h----\n",
      "str7: ------------------e------n----b---c-------------z-f--j-tvx--e-r----------------zb-r---v-i-----------gp-l---e------\n",
      "str8: ---r-x------wx---q--k-----r----dr---l--c-----t--------o----d--------t--m------------p-------r--------px--wd-------\n",
      "\n",
      "solution is feasible: True\n",
      "solution is optimal: False\n",
      "bset bound: 40\n"
     ]
    }
   ],
   "source": [
    "bench2(instance02)"
   ]
  },
  {
   "cell_type": "code",
   "execution_count": null,
   "id": "emfo",
   "metadata": {},
   "outputs": [],
   "source": [
    "instance03 = scsp.example.load(\"uniform_q26n016k015-025.txt\")"
   ]
  },
  {
   "cell_type": "code",
   "execution_count": null,
   "id": "Hstk",
   "metadata": {},
   "outputs": [
    {
     "name": "stdout",
     "output_type": "stream",
     "text": [
      "--- Condition (with 26 chars) ---\n",
      "str01: tkgnkuhmpxnhtqgxzvxis\n",
      "str02: iojiqfolnbxxcvsuqpvissbxf\n",
      "str03: ulcinycosovozpplp\n",
      "str04: igevazgbrddbcsvrvnngf\n",
      "str05: pyplrzxucpmqvgtdfuivcdsbo\n",
      "str06: pbdevdcvdpfzsmsbroqvbbh\n",
      "str07: enbczfjtvxerzbrvigple\n",
      "str08: rxwxqkrdrlctodtmprpxwd\n",
      "str09: kkqafigqjwokkskrblg\n",
      "str10: lxxpabivbvzkozzvd\n",
      "str11: krifsavncdqwhzc\n",
      "str12: qaxudgqvqcewbfgijowwy\n",
      "str13: rsxqjnfpadiusiqbezhkohmg\n",
      "str14: iwshvhcomiuvddm\n",
      "str15: htxxqjzqbctbakn\n",
      "str16: xusfcfzpeecvwantfmgqzu\n",
      "\n",
      "--- Solution (of length 146) ---\n",
      "  Sol: hklrtxioujkswxgipqbdefovajlnyzcfgpbklrsxzdxachuvcdipsuefhmnqrvzeflbcgpqsvdijqrtvwxybcenorzadhkmnstwbfkmorsuvgioquvzcdgkprsxzbjopvxbhlmwdefgimpsuwy\n",
      "str01: ----t-----k---g------------n-------k----------u---------hm-----------p-----------x----n-----h----t-------------q-----g----xz----vx---------i--s---\n",
      "str02: ------io-j-----i-q---fo---ln------b----x--x-c--v----su-----q---------p--v-i---------------------s--------s------------------b----x-------f--------\n",
      "str03: --------u-----------------l---c-------------------i-------n-----------------------y-c--o--------s------o---v--o---z----p-------p----l--------p----\n",
      "str04: ------i-------g-----e--va----z--g-b--r---d-------d----------------bc---sv----r-v------n--------n------------g----------------------------f--------\n",
      "str05: ----------------p-----------y----p--lr--z-x---u-c--p-----m-q-v------g---------t------------d--------f-----u--i---v-cd----s--b-o-------------------\n",
      "str06: ----------------p-bde--v-----------------d--c--v-d-p---f------z--------s----------------------m-s--b----r-----oq-v----------b-----bh--------------\n",
      "str07: --------------------e------n------b---------c-----------------z-f----------j--tv-x---e--rz---------b----r--v-i-------g-p------------l---e---------\n",
      "str08: ---r-x------wx---q-----------------k-r---d------------------r----l-c----------t--------o---d-----t----m----------------pr------p-x----wd----------\n",
      "str09: -k--------k------q------a------f------------------i-----------------g-q----j----w------o-----k-------k---s------------k-r---b-------l-----g-------\n",
      "str10: --l--x-------x--p-------a---------b---------------i----------v----b-----v----------------z---k---------o----------z--------z----v------d----------\n",
      "str11: -k-r--i--------------f----------------s----a---v----------n--------c-----d--q---w-----------h---------------------zc------------------------------\n",
      "str12: -----------------q------a--------------x------u--d------------------g-q-v---q-------ce------------wbf-------gi---------------jo-------w---------wy\n",
      "str13: ---r-------s-x---q-------j-n---f-p---------a-----di--u-----------------s--i-q------b-e---z--hk---------o---------------------------h-m----g-------\n",
      "str14: ------i-----w-------------------------s------h-v--------h----------c-------------------o------m--------------i--uv--d------------------d----m-----\n",
      "str15: h---tx-------x---q-------j---z-----------------------------q------bc----------t----b------a--k-n--------------------------------------------------\n",
      "str16: -----x--u--s---------f--------cf--------z----------p--e--------e---c----v-------w---------a----n-t--f-m-----g--q--z----------------------------u--\n",
      "\n",
      "solution is feasible: True\n",
      "solution status: FEASIBLE\n",
      "bset bound: 82.0\n"
     ]
    }
   ],
   "source": [
    "bench1(instance03)"
   ]
  },
  {
   "cell_type": "code",
   "execution_count": null,
   "id": "nWHF",
   "metadata": {},
   "outputs": [
    {
     "name": "stdout",
     "output_type": "stream",
     "text": [
      "--- Condition (with 26 chars) ---\n",
      "str01: tkgnkuhmpxnhtqgxzvxis\n",
      "str02: iojiqfolnbxxcvsuqpvissbxf\n",
      "str03: ulcinycosovozpplp\n",
      "str04: igevazgbrddbcsvrvnngf\n",
      "str05: pyplrzxucpmqvgtdfuivcdsbo\n",
      "str06: pbdevdcvdpfzsmsbroqvbbh\n",
      "str07: enbczfjtvxerzbrvigple\n",
      "str08: rxwxqkrdrlctodtmprpxwd\n",
      "str09: kkqafigqjwokkskrblg\n",
      "str10: lxxpabivbvzkozzvd\n",
      "str11: krifsavncdqwhzc\n",
      "str12: qaxudgqvqcewbfgijowwy\n",
      "str13: rsxqjnfpadiusiqbezhkohmg\n",
      "str14: iwshvhcomiuvddm\n",
      "str15: htxxqjzqbctbakn\n",
      "str16: xusfcfzpeecvwantfmgqzu\n",
      "\n",
      "--- Solution (of length 166) ---\n",
      "  Sol: ehiknoprtwxybdjkpqsuwafghlrsxzeuvacdinqxyzcfgoqsuvajqtceknpuwzbfghijlmopqrdnrvabglzcptxdefiouxeiknrsvzbcdhikpstvmqsubeqrwzahknopqrtvbfhimglnpqsznsuvxzbdglvwxcdefhimsy\n",
      "str01: --------t------k-------g-------------n------------------k--u-----h---m-p--------------x----------n-------h----t--q-----------------------g----------xz----v-x-----i-s-\n",
      "str02: --i--o--------j---------------------i-q----f-o----------------------l------n---b------x------x---------c-------v--su--q--------p---v---i------s--s----b-----x---f-----\n",
      "str03: -------------------u-----l--------c-in--y-c--o-s----------------------o------v-------------o---------z------p------------------p----------l-p-------------------------\n",
      "str04: --i--------------------g------e-va-------z--g-----------------b----------rd------------d--------------bc-----s-v-------r-----------v-------n----n-------g-------f-----\n",
      "str05: ------p----y----p--------lr--z---------x--------u-----c---p----------m--q----v--g----t-d-f--u--i----v--cd----s------b---------o---------------------------------------\n",
      "str06: ------p-----bd----------------e-v--d------c------v------------------------d---------p----f-----------z-------s--m-s-b--r------o-q--vb-----------------b----------h----\n",
      "str07: e---n-------b---------------------c------z-f-------j-t-----------------------v--------x-e---------r--zb----------------r-----------v---i-g--p------------l-----e------\n",
      "str08: -------r--x---------w-------x---------q-----------------k----------------rd-r----l-c-t-----o------------d-----t-m--------------p-r----------p-------x------w--d-------\n",
      "str09: ---k-----------k-q---af-------------i-------g-q----j--------w---------o-------------------------k----------k-s--------------k----r--b-----l-------------g-------------\n",
      "str10: -------------------------l--x----------x------------------p-------------------ab----------i---------v-b--------v---------z--k-o----------------z-----z----v---d-------\n",
      "str11: ---k---r----------------------------i------f---s--a--------------------------v-------------------n-----cd--------q------w--h-------------------z-------------c--------\n",
      "str12: -----------------q---a------x--u---d--------g-q--v--q-ce----w-bfg-ij--o-------------------------------------------------w----------------------------------w---------y\n",
      "str13: -------r----------s---------x---------q------------j-----n-----f-------p------a--------d--i-u------s------i------q--be---z-hk-o-------h-mg----------------------------\n",
      "str14: --i------w--------s-----h-------v--------------------------------h-----------------c-------o--------------------m----------------------i----------uv---d------d----m--\n",
      "str15: -h------t-x-----------------x---------q------------j---------z----------q------b---c-t----------------b-------------------a-kn----------------------------------------\n",
      "str16: ----------x--------u-------s---------------f----------c--------f------------------z-p---e-----e--------c-------v--------w-a--n----t--f--mg---q-z--u-------------------\n",
      "\n",
      "solution is feasible: True\n",
      "solution is optimal: False\n",
      "bset bound: 35\n"
     ]
    }
   ],
   "source": [
    "bench2(instance03)"
   ]
  },
  {
   "cell_type": "markdown",
   "id": "iLit",
   "metadata": {
    "marimo": {
     "config": {
      "hide_code": true
     }
    }
   },
   "source": [
    "CP-SAT には勝てなそうですね...\n",
    "\n",
    "Hexaly に関しては Weighted Majority Merge をベースにしたものの方が良さげ."
   ]
  },
  {
   "cell_type": "markdown",
   "id": "ZHCJ",
   "metadata": {
    "marimo": {
     "config": {
      "hide_code": true
     }
    }
   },
   "source": [
    "## ログを見よう"
   ]
  },
  {
   "cell_type": "code",
   "execution_count": null,
   "id": "ROlb",
   "metadata": {},
   "outputs": [],
   "source": [
    "instance04 = scsp.example.load(\"uniform_q05n010k010-010.txt\")\n",
    "instance05 = scsp.example.load(\"uniform_q05n050k010-010.txt\")\n",
    "instance06 = scsp.example.load(\"nucleotide_n010k010.txt\")\n",
    "instance07 = scsp.example.load(\"nucleotide_n050k050.txt\")\n",
    "instance08 = scsp.example.load(\"protein_n010k010.txt\")\n",
    "instance09 = scsp.example.load(\"protein_n050k050.txt\")"
   ]
  },
  {
   "cell_type": "code",
   "execution_count": null,
   "id": "qnkX",
   "metadata": {},
   "outputs": [
    {
     "name": "stdout",
     "output_type": "stream",
     "text": [
      "\n",
      "Model:  expressions = 2097, decisions = 709, constraints = 164, objectives = 1\n",
      "Param:  time limit = 120 sec, no iteration limit\n",
      "\n",
      "[objective direction ]:     minimize\n",
      "\n",
      "[  0 sec,       0 itr]: No feasible solution found (infeas = 111)\n"
     ]
    },
    {
     "name": "stdout",
     "output_type": "stream",
     "text": [
      "[  1 sec,  251193 itr]:           70\n"
     ]
    },
    {
     "name": "stdout",
     "output_type": "stream",
     "text": [
      "[  2 sec,  536299 itr]:           70\n"
     ]
    },
    {
     "name": "stdout",
     "output_type": "stream",
     "text": [
      "[  3 sec,  860414 itr]:           68\n"
     ]
    },
    {
     "name": "stdout",
     "output_type": "stream",
     "text": [
      "[  4 sec,  860414 itr]:           68\n"
     ]
    },
    {
     "name": "stdout",
     "output_type": "stream",
     "text": [
      "[  5 sec, 1196162 itr]:           68\n"
     ]
    },
    {
     "name": "stdout",
     "output_type": "stream",
     "text": [
      "[  6 sec, 1560312 itr]:           68\n"
     ]
    },
    {
     "name": "stdout",
     "output_type": "stream",
     "text": [
      "[  7 sec, 1864670 itr]:           67\n"
     ]
    },
    {
     "name": "stdout",
     "output_type": "stream",
     "text": [
      "[  8 sec, 1864670 itr]:           67\n"
     ]
    },
    {
     "name": "stdout",
     "output_type": "stream",
     "text": [
      "[  9 sec, 2536200 itr]:           66\n"
     ]
    },
    {
     "name": "stdout",
     "output_type": "stream",
     "text": [
      "[ 10 sec, 2836152 itr]:           66\n",
      "[ optimality gap     ]:       53.03%\n"
     ]
    },
    {
     "name": "stdout",
     "output_type": "stream",
     "text": [
      "[ 11 sec, 3157457 itr]:           66\n"
     ]
    },
    {
     "name": "stdout",
     "output_type": "stream",
     "text": [
      "[ 12 sec, 3491245 itr]:           66\n"
     ]
    },
    {
     "name": "stdout",
     "output_type": "stream",
     "text": [
      "[ 13 sec, 3491245 itr]:           66\n"
     ]
    },
    {
     "name": "stdout",
     "output_type": "stream",
     "text": [
      "[ 14 sec, 4169447 itr]:           66\n"
     ]
    },
    {
     "name": "stdout",
     "output_type": "stream",
     "text": [
      "[ 15 sec, 4479625 itr]:           66\n"
     ]
    },
    {
     "name": "stdout",
     "output_type": "stream",
     "text": [
      "[ 16 sec, 4817293 itr]:           66\n"
     ]
    },
    {
     "name": "stdout",
     "output_type": "stream",
     "text": [
      "[ 17 sec, 5203556 itr]:           66\n"
     ]
    },
    {
     "name": "stdout",
     "output_type": "stream",
     "text": [
      "[ 18 sec, 5203556 itr]:           66\n"
     ]
    },
    {
     "name": "stdout",
     "output_type": "stream",
     "text": [
      "[ 19 sec, 5868778 itr]:           66\n"
     ]
    },
    {
     "name": "stdout",
     "output_type": "stream",
     "text": [
      "[ 20 sec, 5868778 itr]:           66\n",
      "[ optimality gap     ]:       53.03%\n"
     ]
    },
    {
     "name": "stdout",
     "output_type": "stream",
     "text": [
      "[ 21 sec, 6197674 itr]:           66\n"
     ]
    },
    {
     "name": "stdout",
     "output_type": "stream",
     "text": [
      "[ 22 sec, 6479328 itr]:           66\n"
     ]
    },
    {
     "name": "stdout",
     "output_type": "stream",
     "text": [
      "[ 23 sec, 6750990 itr]:           66\n"
     ]
    },
    {
     "name": "stdout",
     "output_type": "stream",
     "text": [
      "[ 24 sec, 7032401 itr]:           66\n"
     ]
    },
    {
     "name": "stdout",
     "output_type": "stream",
     "text": [
      "[ 25 sec, 7528503 itr]:           66\n"
     ]
    },
    {
     "name": "stdout",
     "output_type": "stream",
     "text": [
      "[ 26 sec, 7802486 itr]:           66\n"
     ]
    },
    {
     "name": "stdout",
     "output_type": "stream",
     "text": [
      "[ 27 sec, 8082161 itr]:           66\n"
     ]
    },
    {
     "name": "stdout",
     "output_type": "stream",
     "text": [
      "[ 28 sec, 8383539 itr]:           66\n"
     ]
    },
    {
     "name": "stdout",
     "output_type": "stream",
     "text": [
      "[ 29 sec, 8711559 itr]:           66\n"
     ]
    },
    {
     "name": "stdout",
     "output_type": "stream",
     "text": [
      "[ 30 sec, 9042612 itr]:           66\n",
      "[ optimality gap     ]:       53.03%\n"
     ]
    },
    {
     "name": "stdout",
     "output_type": "stream",
     "text": [
      "[ 31 sec, 9354399 itr]:           66\n"
     ]
    },
    {
     "name": "stdout",
     "output_type": "stream",
     "text": [
      "[ 32 sec, 9637788 itr]:           66\n"
     ]
    },
    {
     "name": "stdout",
     "output_type": "stream",
     "text": [
      "[ 33 sec, 9930372 itr]:           66\n"
     ]
    },
    {
     "name": "stdout",
     "output_type": "stream",
     "text": [
      "[ 34 sec, 10210336 itr]:           66\n"
     ]
    },
    {
     "name": "stdout",
     "output_type": "stream",
     "text": [
      "[ 35 sec, 10557500 itr]:           66\n"
     ]
    },
    {
     "name": "stdout",
     "output_type": "stream",
     "text": [
      "[ 36 sec, 10870062 itr]:           66\n"
     ]
    },
    {
     "name": "stdout",
     "output_type": "stream",
     "text": [
      "[ 37 sec, 11191285 itr]:           66\n"
     ]
    },
    {
     "name": "stdout",
     "output_type": "stream",
     "text": [
      "[ 38 sec, 11370549 itr]:           66\n"
     ]
    },
    {
     "name": "stdout",
     "output_type": "stream",
     "text": [
      "[ 39 sec, 11532507 itr]:           66\n"
     ]
    },
    {
     "name": "stdout",
     "output_type": "stream",
     "text": [
      "[ 40 sec, 11820374 itr]:           66\n",
      "[ optimality gap      ]:       53.03%\n"
     ]
    },
    {
     "name": "stdout",
     "output_type": "stream",
     "text": [
      "[ 41 sec, 12155586 itr]:           66\n"
     ]
    },
    {
     "name": "stdout",
     "output_type": "stream",
     "text": [
      "[ 42 sec, 12427875 itr]:           66\n"
     ]
    },
    {
     "name": "stdout",
     "output_type": "stream",
     "text": [
      "[ 43 sec, 12427875 itr]:           66\n"
     ]
    },
    {
     "name": "stdout",
     "output_type": "stream",
     "text": [
      "[ 44 sec, 13068255 itr]:           66\n"
     ]
    },
    {
     "name": "stdout",
     "output_type": "stream",
     "text": [
      "[ 45 sec, 13068255 itr]:           66\n"
     ]
    },
    {
     "name": "stdout",
     "output_type": "stream",
     "text": [
      "[ 46 sec, 13688261 itr]:           66\n"
     ]
    },
    {
     "name": "stdout",
     "output_type": "stream",
     "text": [
      "[ 47 sec, 14004867 itr]:           66\n"
     ]
    },
    {
     "name": "stdout",
     "output_type": "stream",
     "text": [
      "[ 48 sec, 14317880 itr]:           66\n"
     ]
    },
    {
     "name": "stdout",
     "output_type": "stream",
     "text": [
      "[ 49 sec, 14645023 itr]:           66\n"
     ]
    },
    {
     "name": "stdout",
     "output_type": "stream",
     "text": [
      "[ 50 sec, 14959921 itr]:           66\n",
      "[ optimality gap      ]:       51.52%\n"
     ]
    },
    {
     "name": "stdout",
     "output_type": "stream",
     "text": [
      "[ 51 sec, 14959921 itr]:           66\n"
     ]
    },
    {
     "name": "stdout",
     "output_type": "stream",
     "text": [
      "[ 52 sec, 15619970 itr]:           66\n"
     ]
    },
    {
     "name": "stdout",
     "output_type": "stream",
     "text": [
      "[ 53 sec, 15894299 itr]:           66\n"
     ]
    },
    {
     "name": "stdout",
     "output_type": "stream",
     "text": [
      "[ 54 sec, 16230448 itr]:           66\n"
     ]
    },
    {
     "name": "stdout",
     "output_type": "stream",
     "text": [
      "[ 55 sec, 16586047 itr]:           66\n"
     ]
    },
    {
     "name": "stdout",
     "output_type": "stream",
     "text": [
      "[ 56 sec, 16898171 itr]:           66\n"
     ]
    },
    {
     "name": "stdout",
     "output_type": "stream",
     "text": [
      "[ 57 sec, 17207954 itr]:           65\n"
     ]
    },
    {
     "name": "stdout",
     "output_type": "stream",
     "text": [
      "[ 58 sec, 17207954 itr]:           65\n"
     ]
    },
    {
     "name": "stdout",
     "output_type": "stream",
     "text": [
      "[ 59 sec, 17806645 itr]:           65\n"
     ]
    },
    {
     "name": "stdout",
     "output_type": "stream",
     "text": [
      "[ 60 sec, 18113298 itr]:           65\n",
      "[ optimality gap      ]:       50.77%\n"
     ]
    },
    {
     "name": "stdout",
     "output_type": "stream",
     "text": [
      "[ 61 sec, 18415183 itr]:           65\n"
     ]
    },
    {
     "name": "stdout",
     "output_type": "stream",
     "text": [
      "[ 62 sec, 18726356 itr]:           65\n"
     ]
    },
    {
     "name": "stdout",
     "output_type": "stream",
     "text": [
      "[ 63 sec, 19039001 itr]:           65\n"
     ]
    },
    {
     "name": "stdout",
     "output_type": "stream",
     "text": [
      "[ 64 sec, 19339561 itr]:           65\n"
     ]
    },
    {
     "name": "stdout",
     "output_type": "stream",
     "text": [
      "[ 65 sec, 19635032 itr]:           65\n"
     ]
    },
    {
     "name": "stdout",
     "output_type": "stream",
     "text": [
      "[ 66 sec, 19635032 itr]:           65\n"
     ]
    },
    {
     "name": "stdout",
     "output_type": "stream",
     "text": [
      "[ 67 sec, 20251803 itr]:           65\n"
     ]
    },
    {
     "name": "stdout",
     "output_type": "stream",
     "text": [
      "[ 68 sec, 20554136 itr]:           65\n"
     ]
    },
    {
     "name": "stdout",
     "output_type": "stream",
     "text": [
      "[ 69 sec, 20554136 itr]:           65\n"
     ]
    },
    {
     "name": "stdout",
     "output_type": "stream",
     "text": [
      "[ 70 sec, 21162646 itr]:           65\n",
      "[ optimality gap      ]:       50.77%\n"
     ]
    },
    {
     "name": "stdout",
     "output_type": "stream",
     "text": [
      "[ 71 sec, 21162646 itr]:           65\n"
     ]
    },
    {
     "name": "stdout",
     "output_type": "stream",
     "text": [
      "[ 72 sec, 21524056 itr]:           65\n"
     ]
    },
    {
     "name": "stdout",
     "output_type": "stream",
     "text": [
      "[ 73 sec, 21810295 itr]:           65\n"
     ]
    },
    {
     "name": "stdout",
     "output_type": "stream",
     "text": [
      "[ 74 sec, 22121842 itr]:           65\n"
     ]
    },
    {
     "name": "stdout",
     "output_type": "stream",
     "text": [
      "[ 75 sec, 22435688 itr]:           65\n"
     ]
    },
    {
     "name": "stdout",
     "output_type": "stream",
     "text": [
      "[ 76 sec, 22746948 itr]:           65\n"
     ]
    },
    {
     "name": "stdout",
     "output_type": "stream",
     "text": [
      "[ 77 sec, 23071343 itr]:           65\n"
     ]
    },
    {
     "name": "stdout",
     "output_type": "stream",
     "text": [
      "[ 78 sec, 23357375 itr]:           65\n"
     ]
    },
    {
     "name": "stdout",
     "output_type": "stream",
     "text": [
      "[ 79 sec, 23659226 itr]:           65\n"
     ]
    },
    {
     "name": "stdout",
     "output_type": "stream",
     "text": [
      "[ 80 sec, 23969726 itr]:           65\n",
      "[ optimality gap      ]:       49.23%\n"
     ]
    },
    {
     "name": "stdout",
     "output_type": "stream",
     "text": [
      "[ 81 sec, 24270628 itr]:           65\n"
     ]
    },
    {
     "name": "stdout",
     "output_type": "stream",
     "text": [
      "[ 82 sec, 24565152 itr]:           65\n"
     ]
    },
    {
     "name": "stdout",
     "output_type": "stream",
     "text": [
      "[ 83 sec, 24565152 itr]:           65\n"
     ]
    },
    {
     "name": "stdout",
     "output_type": "stream",
     "text": [
      "[ 84 sec, 25158883 itr]:           65\n"
     ]
    },
    {
     "name": "stdout",
     "output_type": "stream",
     "text": [
      "[ 85 sec, 25492425 itr]:           65\n"
     ]
    },
    {
     "name": "stdout",
     "output_type": "stream",
     "text": [
      "[ 86 sec, 25822883 itr]:           65\n"
     ]
    },
    {
     "name": "stdout",
     "output_type": "stream",
     "text": [
      "[ 87 sec, 26117215 itr]:           65\n"
     ]
    },
    {
     "name": "stdout",
     "output_type": "stream",
     "text": [
      "[ 88 sec, 26412059 itr]:           65\n"
     ]
    },
    {
     "name": "stdout",
     "output_type": "stream",
     "text": [
      "[ 89 sec, 26412059 itr]:           65\n"
     ]
    },
    {
     "name": "stdout",
     "output_type": "stream",
     "text": [
      "[ 90 sec, 27084890 itr]:           65\n",
      "[ optimality gap      ]:       47.69%\n"
     ]
    },
    {
     "name": "stdout",
     "output_type": "stream",
     "text": [
      "[ 91 sec, 27084890 itr]:           65\n"
     ]
    },
    {
     "name": "stdout",
     "output_type": "stream",
     "text": [
      "[ 92 sec, 27742824 itr]:           65\n"
     ]
    },
    {
     "name": "stdout",
     "output_type": "stream",
     "text": [
      "[ 93 sec, 28023729 itr]:           65\n"
     ]
    },
    {
     "name": "stdout",
     "output_type": "stream",
     "text": [
      "[ 94 sec, 28321053 itr]:           65\n"
     ]
    },
    {
     "name": "stdout",
     "output_type": "stream",
     "text": [
      "[ 95 sec, 28653748 itr]:           65\n"
     ]
    },
    {
     "name": "stdout",
     "output_type": "stream",
     "text": [
      "[ 96 sec, 28653748 itr]:           65\n"
     ]
    },
    {
     "name": "stdout",
     "output_type": "stream",
     "text": [
      "[ 97 sec, 29228704 itr]:           65\n"
     ]
    },
    {
     "name": "stdout",
     "output_type": "stream",
     "text": [
      "[ 98 sec, 29528032 itr]:           65\n"
     ]
    },
    {
     "name": "stdout",
     "output_type": "stream",
     "text": [
      "[ 99 sec, 29833257 itr]:           65\n"
     ]
    },
    {
     "name": "stdout",
     "output_type": "stream",
     "text": [
      "[100 sec, 30123008 itr]:           65\n",
      "[ optimality gap      ]:       46.15%\n"
     ]
    },
    {
     "name": "stdout",
     "output_type": "stream",
     "text": [
      "[101 sec, 30414437 itr]:           65\n"
     ]
    },
    {
     "name": "stdout",
     "output_type": "stream",
     "text": [
      "[102 sec, 30709085 itr]:           65\n"
     ]
    },
    {
     "name": "stdout",
     "output_type": "stream",
     "text": [
      "[103 sec, 30709085 itr]:           65\n"
     ]
    },
    {
     "name": "stdout",
     "output_type": "stream",
     "text": [
      "[104 sec, 31011305 itr]:           65\n"
     ]
    },
    {
     "name": "stdout",
     "output_type": "stream",
     "text": [
      "[105 sec, 31373521 itr]:           65\n"
     ]
    },
    {
     "name": "stdout",
     "output_type": "stream",
     "text": [
      "[106 sec, 31373521 itr]:           65\n"
     ]
    },
    {
     "name": "stdout",
     "output_type": "stream",
     "text": [
      "[107 sec, 31683717 itr]:           65\n"
     ]
    },
    {
     "name": "stdout",
     "output_type": "stream",
     "text": [
      "[108 sec, 31959538 itr]:           65\n"
     ]
    },
    {
     "name": "stdout",
     "output_type": "stream",
     "text": [
      "[109 sec, 32246736 itr]:           65\n"
     ]
    },
    {
     "name": "stdout",
     "output_type": "stream",
     "text": [
      "[110 sec, 32718305 itr]:           65\n",
      "[ optimality gap      ]:       44.62%\n"
     ]
    },
    {
     "name": "stdout",
     "output_type": "stream",
     "text": [
      "[111 sec, 32949422 itr]:           65\n"
     ]
    },
    {
     "name": "stdout",
     "output_type": "stream",
     "text": [
      "[112 sec, 33228999 itr]:           65\n"
     ]
    },
    {
     "name": "stdout",
     "output_type": "stream",
     "text": [
      "[113 sec, 33479210 itr]:           65\n"
     ]
    },
    {
     "name": "stdout",
     "output_type": "stream",
     "text": [
      "[114 sec, 33714194 itr]:           65\n"
     ]
    },
    {
     "name": "stdout",
     "output_type": "stream",
     "text": [
      "[115 sec, 33984001 itr]:           65\n"
     ]
    },
    {
     "name": "stdout",
     "output_type": "stream",
     "text": [
      "[116 sec, 33984001 itr]:           65\n"
     ]
    },
    {
     "name": "stdout",
     "output_type": "stream",
     "text": [
      "[117 sec, 34232359 itr]:           65\n"
     ]
    },
    {
     "name": "stdout",
     "output_type": "stream",
     "text": [
      "[118 sec, 34750322 itr]:           65\n"
     ]
    },
    {
     "name": "stdout",
     "output_type": "stream",
     "text": [
      "[119 sec, 35007121 itr]:           65\n"
     ]
    },
    {
     "name": "stdout",
     "output_type": "stream",
     "text": [
      "[120 sec, 35007121 itr]:           65\n",
      "[ optimality gap      ]:       44.62%\n"
     ]
    },
    {
     "name": "stdout",
     "output_type": "stream",
     "text": [
      "[120 sec, 35244706 itr]:           65\n",
      "[ optimality gap      ]:       44.62%\n",
      "\n",
      "35244706 iterations performed in 120 seconds\n",
      "\n",
      "Feasible solution: \n",
      "  obj    =           65\n",
      "  gap    =       44.62%\n",
      "  bounds =           36\n"
     ]
    }
   ],
   "source": [
    "_model = Model(instance01)\n",
    "_model.solve(time_limit=120, log=True)\n",
    "_model.to_solution()"
   ]
  },
  {
   "cell_type": "code",
   "execution_count": null,
   "id": "TqIu",
   "metadata": {},
   "outputs": [
    {
     "name": "stdout",
     "output_type": "stream",
     "text": [
      "\n",
      "Model:  expressions = 3038, decisions = 825, constraints = 342, objectives = 1\n",
      "Param:  time limit = 120 sec, no iteration limit\n",
      "\n",
      "[objective direction ]:     minimize\n",
      "\n",
      "[  0 sec,       0 itr]: No feasible solution found (infeas = 262)\n"
     ]
    },
    {
     "name": "stdout",
     "output_type": "stream",
     "text": [
      "[  1 sec,   49921 itr]:          130\n"
     ]
    },
    {
     "name": "stdout",
     "output_type": "stream",
     "text": [
      "[  2 sec,  225192 itr]:          125\n"
     ]
    },
    {
     "name": "stdout",
     "output_type": "stream",
     "text": [
      "[  3 sec,  225192 itr]:          125\n"
     ]
    },
    {
     "name": "stdout",
     "output_type": "stream",
     "text": [
      "[  4 sec,  564950 itr]:          118\n"
     ]
    },
    {
     "name": "stdout",
     "output_type": "stream",
     "text": [
      "[  5 sec,  751625 itr]:          117\n"
     ]
    },
    {
     "name": "stdout",
     "output_type": "stream",
     "text": [
      "[  6 sec,  919208 itr]:          117\n"
     ]
    },
    {
     "name": "stdout",
     "output_type": "stream",
     "text": [
      "[  7 sec, 1113245 itr]:          115\n"
     ]
    },
    {
     "name": "stdout",
     "output_type": "stream",
     "text": [
      "[  8 sec, 1113245 itr]:          115\n"
     ]
    },
    {
     "name": "stdout",
     "output_type": "stream",
     "text": [
      "[  9 sec, 1508946 itr]:          115\n"
     ]
    },
    {
     "name": "stdout",
     "output_type": "stream",
     "text": [
      "[ 10 sec, 1508946 itr]:          115\n",
      "[ optimality gap     ]:       71.30%\n"
     ]
    },
    {
     "name": "stdout",
     "output_type": "stream",
     "text": [
      "[ 11 sec, 1900979 itr]:          115\n"
     ]
    },
    {
     "name": "stdout",
     "output_type": "stream",
     "text": [
      "[ 12 sec, 2088260 itr]:          115\n"
     ]
    },
    {
     "name": "stdout",
     "output_type": "stream",
     "text": [
      "[ 13 sec, 2263748 itr]:          115\n"
     ]
    },
    {
     "name": "stdout",
     "output_type": "stream",
     "text": [
      "[ 14 sec, 2457569 itr]:          115\n"
     ]
    },
    {
     "name": "stdout",
     "output_type": "stream",
     "text": [
      "[ 15 sec, 2651590 itr]:          115\n"
     ]
    },
    {
     "name": "stdout",
     "output_type": "stream",
     "text": [
      "[ 16 sec, 2842235 itr]:          115\n"
     ]
    },
    {
     "name": "stdout",
     "output_type": "stream",
     "text": [
      "[ 17 sec, 3031432 itr]:          115\n"
     ]
    },
    {
     "name": "stdout",
     "output_type": "stream",
     "text": [
      "[ 18 sec, 3216755 itr]:          115\n"
     ]
    },
    {
     "name": "stdout",
     "output_type": "stream",
     "text": [
      "[ 19 sec, 3421492 itr]:          115\n"
     ]
    },
    {
     "name": "stdout",
     "output_type": "stream",
     "text": [
      "[ 20 sec, 3421492 itr]:          115\n",
      "[ optimality gap     ]:       69.57%\n"
     ]
    },
    {
     "name": "stdout",
     "output_type": "stream",
     "text": [
      "[ 21 sec, 3806001 itr]:          115\n"
     ]
    },
    {
     "name": "stdout",
     "output_type": "stream",
     "text": [
      "[ 22 sec, 4002053 itr]:          115\n"
     ]
    },
    {
     "name": "stdout",
     "output_type": "stream",
     "text": [
      "[ 23 sec, 4205015 itr]:          115\n"
     ]
    },
    {
     "name": "stdout",
     "output_type": "stream",
     "text": [
      "[ 24 sec, 4205015 itr]:          115\n"
     ]
    },
    {
     "name": "stdout",
     "output_type": "stream",
     "text": [
      "[ 25 sec, 4604922 itr]:          114\n"
     ]
    },
    {
     "name": "stdout",
     "output_type": "stream",
     "text": [
      "[ 26 sec, 4604922 itr]:          114\n"
     ]
    },
    {
     "name": "stdout",
     "output_type": "stream",
     "text": [
      "[ 27 sec, 4777381 itr]:          114\n"
     ]
    },
    {
     "name": "stdout",
     "output_type": "stream",
     "text": [
      "[ 28 sec, 5155645 itr]:          114\n"
     ]
    },
    {
     "name": "stdout",
     "output_type": "stream",
     "text": [
      "[ 29 sec, 5359852 itr]:          114\n"
     ]
    },
    {
     "name": "stdout",
     "output_type": "stream",
     "text": [
      "[ 30 sec, 5552027 itr]:          114\n",
      "[ optimality gap     ]:       67.54%\n"
     ]
    },
    {
     "name": "stdout",
     "output_type": "stream",
     "text": [
      "[ 31 sec, 5693134 itr]:          114\n"
     ]
    },
    {
     "name": "stdout",
     "output_type": "stream",
     "text": [
      "[ 32 sec, 5693134 itr]:          114\n"
     ]
    },
    {
     "name": "stdout",
     "output_type": "stream",
     "text": [
      "[ 33 sec, 5981008 itr]:          114\n"
     ]
    },
    {
     "name": "stdout",
     "output_type": "stream",
     "text": [
      "[ 34 sec, 5981008 itr]:          114\n"
     ]
    },
    {
     "name": "stdout",
     "output_type": "stream",
     "text": [
      "[ 35 sec, 6373436 itr]:          114\n"
     ]
    },
    {
     "name": "stdout",
     "output_type": "stream",
     "text": [
      "[ 36 sec, 6580055 itr]:          114\n"
     ]
    },
    {
     "name": "stdout",
     "output_type": "stream",
     "text": [
      "[ 37 sec, 6784229 itr]:          114\n"
     ]
    },
    {
     "name": "stdout",
     "output_type": "stream",
     "text": [
      "[ 38 sec, 6784229 itr]:          114\n"
     ]
    },
    {
     "name": "stdout",
     "output_type": "stream",
     "text": [
      "[ 39 sec, 6989659 itr]:          114\n"
     ]
    },
    {
     "name": "stdout",
     "output_type": "stream",
     "text": [
      "[ 40 sec, 7405372 itr]:          114\n",
      "[ optimality gap     ]:       67.54%\n"
     ]
    },
    {
     "name": "stdout",
     "output_type": "stream",
     "text": [
      "[ 41 sec, 7405372 itr]:          114\n"
     ]
    },
    {
     "name": "stdout",
     "output_type": "stream",
     "text": [
      "[ 42 sec, 7614761 itr]:          114\n"
     ]
    },
    {
     "name": "stdout",
     "output_type": "stream",
     "text": [
      "[ 43 sec, 7797340 itr]:          114\n"
     ]
    },
    {
     "name": "stdout",
     "output_type": "stream",
     "text": [
      "[ 44 sec, 8166712 itr]:          114\n"
     ]
    },
    {
     "name": "stdout",
     "output_type": "stream",
     "text": [
      "[ 45 sec, 8166712 itr]:          114\n"
     ]
    },
    {
     "name": "stdout",
     "output_type": "stream",
     "text": [
      "[ 46 sec, 8371496 itr]:          114\n"
     ]
    },
    {
     "name": "stdout",
     "output_type": "stream",
     "text": [
      "[ 47 sec, 8788352 itr]:          114\n"
     ]
    },
    {
     "name": "stdout",
     "output_type": "stream",
     "text": [
      "[ 48 sec, 8970191 itr]:          114\n"
     ]
    },
    {
     "name": "stdout",
     "output_type": "stream",
     "text": [
      "[ 49 sec, 8970191 itr]:          114\n"
     ]
    },
    {
     "name": "stdout",
     "output_type": "stream",
     "text": [
      "[ 50 sec, 9330794 itr]:          114\n",
      "[ optimality gap     ]:       67.54%\n"
     ]
    },
    {
     "name": "stdout",
     "output_type": "stream",
     "text": [
      "[ 51 sec, 9504891 itr]:          114\n"
     ]
    },
    {
     "name": "stdout",
     "output_type": "stream",
     "text": [
      "[ 52 sec, 9681219 itr]:          114\n"
     ]
    },
    {
     "name": "stdout",
     "output_type": "stream",
     "text": [
      "[ 53 sec, 9884406 itr]:          114\n"
     ]
    },
    {
     "name": "stdout",
     "output_type": "stream",
     "text": [
      "[ 54 sec, 10049881 itr]:          114\n"
     ]
    },
    {
     "name": "stdout",
     "output_type": "stream",
     "text": [
      "[ 55 sec, 10232153 itr]:          114\n"
     ]
    },
    {
     "name": "stdout",
     "output_type": "stream",
     "text": [
      "[ 56 sec, 10411271 itr]:          114\n"
     ]
    },
    {
     "name": "stdout",
     "output_type": "stream",
     "text": [
      "[ 57 sec, 10411271 itr]:          114\n"
     ]
    },
    {
     "name": "stdout",
     "output_type": "stream",
     "text": [
      "[ 58 sec, 10798708 itr]:          114\n"
     ]
    },
    {
     "name": "stdout",
     "output_type": "stream",
     "text": [
      "[ 59 sec, 11011128 itr]:          114\n"
     ]
    },
    {
     "name": "stdout",
     "output_type": "stream",
     "text": [
      "[ 60 sec, 11186208 itr]:          114\n",
      "[ optimality gap      ]:       67.54%\n"
     ]
    },
    {
     "name": "stdout",
     "output_type": "stream",
     "text": [
      "[ 61 sec, 11186208 itr]:          114\n"
     ]
    },
    {
     "name": "stdout",
     "output_type": "stream",
     "text": [
      "[ 62 sec, 11553299 itr]:          114\n"
     ]
    },
    {
     "name": "stdout",
     "output_type": "stream",
     "text": [
      "[ 63 sec, 11553299 itr]:          114\n"
     ]
    },
    {
     "name": "stdout",
     "output_type": "stream",
     "text": [
      "[ 64 sec, 11836032 itr]:          114\n"
     ]
    },
    {
     "name": "stdout",
     "output_type": "stream",
     "text": [
      "[ 65 sec, 11910812 itr]:          114\n"
     ]
    },
    {
     "name": "stdout",
     "output_type": "stream",
     "text": [
      "[ 66 sec, 12064495 itr]:          113\n"
     ]
    },
    {
     "name": "stdout",
     "output_type": "stream",
     "text": [
      "[ 67 sec, 12215241 itr]:          113\n"
     ]
    },
    {
     "name": "stdout",
     "output_type": "stream",
     "text": [
      "[ 68 sec, 12383452 itr]:          113\n"
     ]
    },
    {
     "name": "stdout",
     "output_type": "stream",
     "text": [
      "[ 69 sec, 12529644 itr]:          113\n"
     ]
    },
    {
     "name": "stdout",
     "output_type": "stream",
     "text": [
      "[ 70 sec, 12676546 itr]:          113\n",
      "[ optimality gap      ]:       64.60%\n"
     ]
    },
    {
     "name": "stdout",
     "output_type": "stream",
     "text": [
      "[ 71 sec, 12676546 itr]:          113\n"
     ]
    },
    {
     "name": "stdout",
     "output_type": "stream",
     "text": [
      "[ 72 sec, 12996645 itr]:          113\n"
     ]
    },
    {
     "name": "stdout",
     "output_type": "stream",
     "text": [
      "[ 73 sec, 13160219 itr]:          113\n"
     ]
    },
    {
     "name": "stdout",
     "output_type": "stream",
     "text": [
      "[ 74 sec, 13321593 itr]:          113\n"
     ]
    },
    {
     "name": "stdout",
     "output_type": "stream",
     "text": [
      "[ 75 sec, 13483899 itr]:          113\n"
     ]
    },
    {
     "name": "stdout",
     "output_type": "stream",
     "text": [
      "[ 76 sec, 13652959 itr]:          113\n"
     ]
    },
    {
     "name": "stdout",
     "output_type": "stream",
     "text": [
      "[ 77 sec, 13652959 itr]:          113\n"
     ]
    },
    {
     "name": "stdout",
     "output_type": "stream",
     "text": [
      "[ 78 sec, 13823370 itr]:          113\n"
     ]
    },
    {
     "name": "stdout",
     "output_type": "stream",
     "text": [
      "[ 79 sec, 14173847 itr]:          113\n"
     ]
    },
    {
     "name": "stdout",
     "output_type": "stream",
     "text": [
      "[ 80 sec, 14348622 itr]:          113\n",
      "[ optimality gap      ]:       64.60%\n"
     ]
    },
    {
     "name": "stdout",
     "output_type": "stream",
     "text": [
      "[ 81 sec, 14523290 itr]:          113\n"
     ]
    },
    {
     "name": "stdout",
     "output_type": "stream",
     "text": [
      "[ 82 sec, 14688205 itr]:          113\n"
     ]
    },
    {
     "name": "stdout",
     "output_type": "stream",
     "text": [
      "[ 83 sec, 14843182 itr]:          113\n"
     ]
    },
    {
     "name": "stdout",
     "output_type": "stream",
     "text": [
      "[ 84 sec, 14843182 itr]:          113\n"
     ]
    },
    {
     "name": "stdout",
     "output_type": "stream",
     "text": [
      "[ 85 sec, 15170345 itr]:          113\n"
     ]
    },
    {
     "name": "stdout",
     "output_type": "stream",
     "text": [
      "[ 86 sec, 15341556 itr]:          113\n"
     ]
    },
    {
     "name": "stdout",
     "output_type": "stream",
     "text": [
      "[ 87 sec, 15501796 itr]:          113\n"
     ]
    },
    {
     "name": "stdout",
     "output_type": "stream",
     "text": [
      "[ 88 sec, 15644781 itr]:          113\n"
     ]
    },
    {
     "name": "stdout",
     "output_type": "stream",
     "text": [
      "[ 89 sec, 15813617 itr]:          113\n"
     ]
    },
    {
     "name": "stdout",
     "output_type": "stream",
     "text": [
      "[ 90 sec, 15976443 itr]:          113\n",
      "[ optimality gap      ]:       64.60%\n"
     ]
    },
    {
     "name": "stdout",
     "output_type": "stream",
     "text": [
      "[ 91 sec, 16132463 itr]:          113\n"
     ]
    },
    {
     "name": "stdout",
     "output_type": "stream",
     "text": [
      "[ 92 sec, 16132463 itr]:          113\n"
     ]
    },
    {
     "name": "stdout",
     "output_type": "stream",
     "text": [
      "[ 93 sec, 16301048 itr]:          113\n"
     ]
    },
    {
     "name": "stdout",
     "output_type": "stream",
     "text": [
      "[ 94 sec, 16625281 itr]:          113\n"
     ]
    },
    {
     "name": "stdout",
     "output_type": "stream",
     "text": [
      "[ 95 sec, 16788339 itr]:          113\n"
     ]
    },
    {
     "name": "stdout",
     "output_type": "stream",
     "text": [
      "[ 96 sec, 16788339 itr]:          113\n"
     ]
    },
    {
     "name": "stdout",
     "output_type": "stream",
     "text": [
      "[ 97 sec, 16927069 itr]:          113\n"
     ]
    },
    {
     "name": "stdout",
     "output_type": "stream",
     "text": [
      "[ 98 sec, 17133581 itr]:          113\n"
     ]
    },
    {
     "name": "stdout",
     "output_type": "stream",
     "text": [
      "[ 99 sec, 17133581 itr]:          113\n"
     ]
    },
    {
     "name": "stdout",
     "output_type": "stream",
     "text": [
      "[100 sec, 17311323 itr]:          113\n",
      "[ optimality gap      ]:       64.60%\n"
     ]
    },
    {
     "name": "stdout",
     "output_type": "stream",
     "text": [
      "[101 sec, 17470913 itr]:          113\n"
     ]
    },
    {
     "name": "stdout",
     "output_type": "stream",
     "text": [
      "[102 sec, 17627811 itr]:          113\n"
     ]
    },
    {
     "name": "stdout",
     "output_type": "stream",
     "text": [
      "[103 sec, 17945893 itr]:          113\n"
     ]
    },
    {
     "name": "stdout",
     "output_type": "stream",
     "text": [
      "[104 sec, 18103630 itr]:          113\n"
     ]
    },
    {
     "name": "stdout",
     "output_type": "stream",
     "text": [
      "[105 sec, 18289702 itr]:          113\n"
     ]
    },
    {
     "name": "stdout",
     "output_type": "stream",
     "text": [
      "[106 sec, 18453025 itr]:          113\n"
     ]
    },
    {
     "name": "stdout",
     "output_type": "stream",
     "text": [
      "[107 sec, 18615143 itr]:          113\n"
     ]
    },
    {
     "name": "stdout",
     "output_type": "stream",
     "text": [
      "[108 sec, 18761114 itr]:          113\n"
     ]
    },
    {
     "name": "stdout",
     "output_type": "stream",
     "text": [
      "[109 sec, 18926224 itr]:          113\n"
     ]
    },
    {
     "name": "stdout",
     "output_type": "stream",
     "text": [
      "[110 sec, 19091795 itr]:          113\n",
      "[ optimality gap      ]:       64.60%\n"
     ]
    },
    {
     "name": "stdout",
     "output_type": "stream",
     "text": [
      "[111 sec, 19254777 itr]:          113\n"
     ]
    },
    {
     "name": "stdout",
     "output_type": "stream",
     "text": [
      "[112 sec, 19254777 itr]:          113\n"
     ]
    },
    {
     "name": "stdout",
     "output_type": "stream",
     "text": [
      "[113 sec, 19410799 itr]:          113\n"
     ]
    },
    {
     "name": "stdout",
     "output_type": "stream",
     "text": [
      "[114 sec, 19568267 itr]:          113\n"
     ]
    },
    {
     "name": "stdout",
     "output_type": "stream",
     "text": [
      "[115 sec, 19883040 itr]:          110\n"
     ]
    },
    {
     "name": "stdout",
     "output_type": "stream",
     "text": [
      "[116 sec, 20037054 itr]:          110\n"
     ]
    },
    {
     "name": "stdout",
     "output_type": "stream",
     "text": [
      "[117 sec, 20037054 itr]:          110\n"
     ]
    },
    {
     "name": "stdout",
     "output_type": "stream",
     "text": [
      "[118 sec, 20351231 itr]:          109\n"
     ]
    },
    {
     "name": "stdout",
     "output_type": "stream",
     "text": [
      "[119 sec, 20351231 itr]:          109\n"
     ]
    },
    {
     "name": "stdout",
     "output_type": "stream",
     "text": [
      "[120 sec, 20679198 itr]:          109\n",
      "[ optimality gap      ]:       63.30%\n"
     ]
    },
    {
     "name": "stdout",
     "output_type": "stream",
     "text": [
      "[120 sec, 20679198 itr]:          109\n",
      "[ optimality gap      ]:       63.30%\n",
      "\n",
      "20679198 iterations performed in 120 seconds\n",
      "\n",
      "Feasible solution: \n",
      "  obj    =          109\n",
      "  gap    =       63.30%\n",
      "  bounds =           40\n"
     ]
    }
   ],
   "source": [
    "_model = Model(instance02)\n",
    "_model.solve(time_limit=120, log=True)\n",
    "_model.to_solution()"
   ]
  },
  {
   "cell_type": "code",
   "execution_count": null,
   "id": "Vxnm",
   "metadata": {},
   "outputs": [
    {
     "name": "stdout",
     "output_type": "stream",
     "text": [
      "\n",
      "Model:  expressions = 4478, decisions = 973, constraints = 630, objectives = 1\n",
      "Param:  time limit = 120 sec, no iteration limit\n",
      "\n",
      "[objective direction ]:     minimize\n",
      "\n",
      "[  0 sec,       0 itr]: No feasible solution found (infeas = 479)\n"
     ]
    },
    {
     "name": "stdout",
     "output_type": "stream",
     "text": [
      "[  1 sec,  104609 itr]:          191\n"
     ]
    },
    {
     "name": "stdout",
     "output_type": "stream",
     "text": [
      "[  2 sec,  172981 itr]:          185\n"
     ]
    },
    {
     "name": "stdout",
     "output_type": "stream",
     "text": [
      "[  3 sec,  172981 itr]:          185\n"
     ]
    },
    {
     "name": "stdout",
     "output_type": "stream",
     "text": [
      "[  4 sec,  398815 itr]:          176\n"
     ]
    },
    {
     "name": "stdout",
     "output_type": "stream",
     "text": [
      "[  5 sec,  398815 itr]:          176\n"
     ]
    },
    {
     "name": "stdout",
     "output_type": "stream",
     "text": [
      "[  6 sec,  622487 itr]:          176\n"
     ]
    },
    {
     "name": "stdout",
     "output_type": "stream",
     "text": [
      "[  7 sec,  622487 itr]:          176\n"
     ]
    },
    {
     "name": "stdout",
     "output_type": "stream",
     "text": [
      "[  8 sec,  804829 itr]:          174\n"
     ]
    },
    {
     "name": "stdout",
     "output_type": "stream",
     "text": [
      "[  9 sec,  929683 itr]:          174\n"
     ]
    },
    {
     "name": "stdout",
     "output_type": "stream",
     "text": [
      "[ 10 sec, 1017967 itr]:          173\n",
      "[ optimality gap     ]:       82.08%\n"
     ]
    },
    {
     "name": "stdout",
     "output_type": "stream",
     "text": [
      "[ 11 sec, 1017967 itr]:          173\n"
     ]
    },
    {
     "name": "stdout",
     "output_type": "stream",
     "text": [
      "[ 12 sec, 1200507 itr]:          173\n"
     ]
    },
    {
     "name": "stdout",
     "output_type": "stream",
     "text": [
      "[ 13 sec, 1200507 itr]:          173\n"
     ]
    },
    {
     "name": "stdout",
     "output_type": "stream",
     "text": [
      "[ 14 sec, 1313500 itr]:          171\n"
     ]
    },
    {
     "name": "stdout",
     "output_type": "stream",
     "text": [
      "[ 15 sec, 1555283 itr]:          169\n"
     ]
    },
    {
     "name": "stdout",
     "output_type": "stream",
     "text": [
      "[ 16 sec, 1555283 itr]:          169\n"
     ]
    },
    {
     "name": "stdout",
     "output_type": "stream",
     "text": [
      "[ 17 sec, 1803108 itr]:          169\n"
     ]
    },
    {
     "name": "stdout",
     "output_type": "stream",
     "text": [
      "[ 18 sec, 1922853 itr]:          169\n"
     ]
    },
    {
     "name": "stdout",
     "output_type": "stream",
     "text": [
      "[ 19 sec, 1922853 itr]:          169\n"
     ]
    },
    {
     "name": "stdout",
     "output_type": "stream",
     "text": [
      "[ 20 sec, 2162047 itr]:          169\n",
      "[ optimality gap     ]:       81.07%\n"
     ]
    },
    {
     "name": "stdout",
     "output_type": "stream",
     "text": [
      "[ 21 sec, 2162047 itr]:          169\n"
     ]
    },
    {
     "name": "stdout",
     "output_type": "stream",
     "text": [
      "[ 22 sec, 2264266 itr]:          168\n"
     ]
    },
    {
     "name": "stdout",
     "output_type": "stream",
     "text": [
      "[ 23 sec, 2490334 itr]:          168\n"
     ]
    },
    {
     "name": "stdout",
     "output_type": "stream",
     "text": [
      "[ 24 sec, 2604100 itr]:          168\n"
     ]
    },
    {
     "name": "stdout",
     "output_type": "stream",
     "text": [
      "[ 25 sec, 2604100 itr]:          168\n"
     ]
    },
    {
     "name": "stdout",
     "output_type": "stream",
     "text": [
      "[ 26 sec, 2849937 itr]:          167\n"
     ]
    },
    {
     "name": "stdout",
     "output_type": "stream",
     "text": [
      "[ 27 sec, 2965080 itr]:          167\n"
     ]
    },
    {
     "name": "stdout",
     "output_type": "stream",
     "text": [
      "[ 28 sec, 3089179 itr]:          167\n"
     ]
    },
    {
     "name": "stdout",
     "output_type": "stream",
     "text": [
      "[ 29 sec, 3210332 itr]:          167\n"
     ]
    },
    {
     "name": "stdout",
     "output_type": "stream",
     "text": [
      "[ 30 sec, 3327689 itr]:          167\n",
      "[ optimality gap     ]:       80.24%\n"
     ]
    },
    {
     "name": "stdout",
     "output_type": "stream",
     "text": [
      "[ 31 sec, 3442694 itr]:          167\n"
     ]
    },
    {
     "name": "stdout",
     "output_type": "stream",
     "text": [
      "[ 32 sec, 3536194 itr]:          167\n"
     ]
    },
    {
     "name": "stdout",
     "output_type": "stream",
     "text": [
      "[ 33 sec, 3629650 itr]:          167\n"
     ]
    },
    {
     "name": "stdout",
     "output_type": "stream",
     "text": [
      "[ 34 sec, 3693915 itr]:          167\n"
     ]
    },
    {
     "name": "stdout",
     "output_type": "stream",
     "text": [
      "[ 35 sec, 3783326 itr]:          167\n"
     ]
    },
    {
     "name": "stdout",
     "output_type": "stream",
     "text": [
      "[ 36 sec, 3783326 itr]:          167\n"
     ]
    },
    {
     "name": "stdout",
     "output_type": "stream",
     "text": [
      "[ 37 sec, 4046980 itr]:          166\n"
     ]
    },
    {
     "name": "stdout",
     "output_type": "stream",
     "text": [
      "[ 38 sec, 4178953 itr]:          166\n"
     ]
    },
    {
     "name": "stdout",
     "output_type": "stream",
     "text": [
      "[ 39 sec, 4299190 itr]:          166\n"
     ]
    },
    {
     "name": "stdout",
     "output_type": "stream",
     "text": [
      "[ 40 sec, 4299190 itr]:          166\n",
      "[ optimality gap     ]:       78.92%\n"
     ]
    },
    {
     "name": "stdout",
     "output_type": "stream",
     "text": [
      "[ 41 sec, 4556817 itr]:          166\n"
     ]
    },
    {
     "name": "stdout",
     "output_type": "stream",
     "text": [
      "[ 42 sec, 4675681 itr]:          166\n"
     ]
    },
    {
     "name": "stdout",
     "output_type": "stream",
     "text": [
      "[ 43 sec, 4802749 itr]:          166\n"
     ]
    },
    {
     "name": "stdout",
     "output_type": "stream",
     "text": [
      "[ 44 sec, 4935684 itr]:          166\n"
     ]
    },
    {
     "name": "stdout",
     "output_type": "stream",
     "text": [
      "[ 45 sec, 5027897 itr]:          166\n"
     ]
    },
    {
     "name": "stdout",
     "output_type": "stream",
     "text": [
      "[ 46 sec, 5027897 itr]:          166\n"
     ]
    },
    {
     "name": "stdout",
     "output_type": "stream",
     "text": [
      "[ 47 sec, 5137601 itr]:          166\n"
     ]
    },
    {
     "name": "stdout",
     "output_type": "stream",
     "text": [
      "[ 48 sec, 5350817 itr]:          166\n"
     ]
    },
    {
     "name": "stdout",
     "output_type": "stream",
     "text": [
      "[ 49 sec, 5472197 itr]:          166\n"
     ]
    },
    {
     "name": "stdout",
     "output_type": "stream",
     "text": [
      "[ 50 sec, 5577861 itr]:          166\n",
      "[ optimality gap     ]:       78.92%\n"
     ]
    },
    {
     "name": "stdout",
     "output_type": "stream",
     "text": [
      "[ 51 sec, 5695493 itr]:          166\n"
     ]
    },
    {
     "name": "stdout",
     "output_type": "stream",
     "text": [
      "[ 52 sec, 5817187 itr]:          166\n"
     ]
    },
    {
     "name": "stdout",
     "output_type": "stream",
     "text": [
      "[ 53 sec, 5931625 itr]:          166\n"
     ]
    },
    {
     "name": "stdout",
     "output_type": "stream",
     "text": [
      "[ 54 sec, 6049026 itr]:          166\n"
     ]
    },
    {
     "name": "stdout",
     "output_type": "stream",
     "text": [
      "[ 55 sec, 6156308 itr]:          166\n"
     ]
    },
    {
     "name": "stdout",
     "output_type": "stream",
     "text": [
      "[ 56 sec, 6274280 itr]:          166\n"
     ]
    },
    {
     "name": "stdout",
     "output_type": "stream",
     "text": [
      "[ 57 sec, 6386486 itr]:          166\n"
     ]
    },
    {
     "name": "stdout",
     "output_type": "stream",
     "text": [
      "[ 58 sec, 6498603 itr]:          166\n"
     ]
    },
    {
     "name": "stdout",
     "output_type": "stream",
     "text": [
      "[ 59 sec, 6498603 itr]:          166\n"
     ]
    },
    {
     "name": "stdout",
     "output_type": "stream",
     "text": [
      "[ 60 sec, 6714767 itr]:          166\n",
      "[ optimality gap     ]:       78.92%\n"
     ]
    },
    {
     "name": "stdout",
     "output_type": "stream",
     "text": [
      "[ 61 sec, 6714767 itr]:          166\n"
     ]
    },
    {
     "name": "stdout",
     "output_type": "stream",
     "text": [
      "[ 62 sec, 6934810 itr]:          166\n"
     ]
    },
    {
     "name": "stdout",
     "output_type": "stream",
     "text": [
      "[ 63 sec, 6934810 itr]:          166\n"
     ]
    },
    {
     "name": "stdout",
     "output_type": "stream",
     "text": [
      "[ 64 sec, 7145598 itr]:          166\n"
     ]
    },
    {
     "name": "stdout",
     "output_type": "stream",
     "text": [
      "[ 65 sec, 7145598 itr]:          166\n"
     ]
    },
    {
     "name": "stdout",
     "output_type": "stream",
     "text": [
      "[ 66 sec, 7258807 itr]:          166\n"
     ]
    },
    {
     "name": "stdout",
     "output_type": "stream",
     "text": [
      "[ 67 sec, 7424935 itr]:          166\n"
     ]
    },
    {
     "name": "stdout",
     "output_type": "stream",
     "text": [
      "[ 68 sec, 7424935 itr]:          166\n"
     ]
    },
    {
     "name": "stdout",
     "output_type": "stream",
     "text": [
      "[ 69 sec, 7649014 itr]:          166\n"
     ]
    },
    {
     "name": "stdout",
     "output_type": "stream",
     "text": [
      "[ 70 sec, 7757371 itr]:          166\n",
      "[ optimality gap     ]:       78.92%\n"
     ]
    },
    {
     "name": "stdout",
     "output_type": "stream",
     "text": [
      "[ 71 sec, 7757371 itr]:          166\n"
     ]
    },
    {
     "name": "stdout",
     "output_type": "stream",
     "text": [
      "[ 72 sec, 8003755 itr]:          166\n"
     ]
    },
    {
     "name": "stdout",
     "output_type": "stream",
     "text": [
      "[ 73 sec, 8116265 itr]:          166\n"
     ]
    },
    {
     "name": "stdout",
     "output_type": "stream",
     "text": [
      "[ 74 sec, 8116265 itr]:          166\n"
     ]
    },
    {
     "name": "stdout",
     "output_type": "stream",
     "text": [
      "[ 75 sec, 8346135 itr]:          166\n"
     ]
    },
    {
     "name": "stdout",
     "output_type": "stream",
     "text": [
      "[ 76 sec, 8461433 itr]:          166\n"
     ]
    },
    {
     "name": "stdout",
     "output_type": "stream",
     "text": [
      "[ 77 sec, 8556036 itr]:          166\n"
     ]
    },
    {
     "name": "stdout",
     "output_type": "stream",
     "text": [
      "[ 78 sec, 8556036 itr]:          166\n"
     ]
    },
    {
     "name": "stdout",
     "output_type": "stream",
     "text": [
      "[ 79 sec, 8784236 itr]:          166\n"
     ]
    },
    {
     "name": "stdout",
     "output_type": "stream",
     "text": [
      "[ 80 sec, 8903953 itr]:          166\n",
      "[ optimality gap     ]:       78.92%\n"
     ]
    },
    {
     "name": "stdout",
     "output_type": "stream",
     "text": [
      "[ 81 sec, 9014678 itr]:          166\n"
     ]
    },
    {
     "name": "stdout",
     "output_type": "stream",
     "text": [
      "[ 82 sec, 9121239 itr]:          166\n"
     ]
    },
    {
     "name": "stdout",
     "output_type": "stream",
     "text": [
      "[ 83 sec, 9244670 itr]:          166\n"
     ]
    },
    {
     "name": "stdout",
     "output_type": "stream",
     "text": [
      "[ 84 sec, 9356562 itr]:          166\n"
     ]
    },
    {
     "name": "stdout",
     "output_type": "stream",
     "text": [
      "[ 85 sec, 9479038 itr]:          165\n"
     ]
    },
    {
     "name": "stdout",
     "output_type": "stream",
     "text": [
      "[ 86 sec, 9592058 itr]:          165\n"
     ]
    },
    {
     "name": "stdout",
     "output_type": "stream",
     "text": [
      "[ 87 sec, 9592058 itr]:          165\n"
     ]
    },
    {
     "name": "stdout",
     "output_type": "stream",
     "text": [
      "[ 88 sec, 9814381 itr]:          165\n"
     ]
    },
    {
     "name": "stdout",
     "output_type": "stream",
     "text": [
      "[ 89 sec, 9814381 itr]:          165\n"
     ]
    },
    {
     "name": "stdout",
     "output_type": "stream",
     "text": [
      "[ 90 sec, 10031945 itr]:          165\n",
      "[ optimality gap      ]:       78.79%\n"
     ]
    },
    {
     "name": "stdout",
     "output_type": "stream",
     "text": [
      "[ 91 sec, 10146371 itr]:          165\n"
     ]
    },
    {
     "name": "stdout",
     "output_type": "stream",
     "text": [
      "[ 92 sec, 10146371 itr]:          165\n"
     ]
    },
    {
     "name": "stdout",
     "output_type": "stream",
     "text": [
      "[ 93 sec, 10251584 itr]:          165\n"
     ]
    },
    {
     "name": "stdout",
     "output_type": "stream",
     "text": [
      "[ 94 sec, 10492420 itr]:          165\n"
     ]
    },
    {
     "name": "stdout",
     "output_type": "stream",
     "text": [
      "[ 95 sec, 10492420 itr]:          165\n"
     ]
    },
    {
     "name": "stdout",
     "output_type": "stream",
     "text": [
      "[ 96 sec, 10727220 itr]:          165\n"
     ]
    },
    {
     "name": "stdout",
     "output_type": "stream",
     "text": [
      "[ 97 sec, 10727220 itr]:          165\n"
     ]
    },
    {
     "name": "stdout",
     "output_type": "stream",
     "text": [
      "[ 98 sec, 10942210 itr]:          165\n"
     ]
    },
    {
     "name": "stdout",
     "output_type": "stream",
     "text": [
      "[ 99 sec, 11058226 itr]:          165\n"
     ]
    },
    {
     "name": "stdout",
     "output_type": "stream",
     "text": [
      "[100 sec, 11110824 itr]:          165\n",
      "[ optimality gap      ]:       78.79%\n"
     ]
    },
    {
     "name": "stdout",
     "output_type": "stream",
     "text": [
      "[101 sec, 11227277 itr]:          165\n"
     ]
    },
    {
     "name": "stdout",
     "output_type": "stream",
     "text": [
      "[102 sec, 11332310 itr]:          165\n"
     ]
    },
    {
     "name": "stdout",
     "output_type": "stream",
     "text": [
      "[103 sec, 11332310 itr]:          165\n"
     ]
    },
    {
     "name": "stdout",
     "output_type": "stream",
     "text": [
      "[104 sec, 11566437 itr]:          165\n"
     ]
    },
    {
     "name": "stdout",
     "output_type": "stream",
     "text": [
      "[105 sec, 11666099 itr]:          165\n"
     ]
    },
    {
     "name": "stdout",
     "output_type": "stream",
     "text": [
      "[106 sec, 11783418 itr]:          165\n"
     ]
    },
    {
     "name": "stdout",
     "output_type": "stream",
     "text": [
      "[107 sec, 11898901 itr]:          165\n"
     ]
    },
    {
     "name": "stdout",
     "output_type": "stream",
     "text": [
      "[108 sec, 11898901 itr]:          165\n"
     ]
    },
    {
     "name": "stdout",
     "output_type": "stream",
     "text": [
      "[109 sec, 12118796 itr]:          165\n"
     ]
    },
    {
     "name": "stdout",
     "output_type": "stream",
     "text": [
      "[110 sec, 12240533 itr]:          165\n",
      "[ optimality gap      ]:       77.58%\n"
     ]
    },
    {
     "name": "stdout",
     "output_type": "stream",
     "text": [
      "[111 sec, 12346728 itr]:          165\n"
     ]
    },
    {
     "name": "stdout",
     "output_type": "stream",
     "text": [
      "[112 sec, 12452822 itr]:          165\n"
     ]
    },
    {
     "name": "stdout",
     "output_type": "stream",
     "text": [
      "[113 sec, 12566345 itr]:          165\n"
     ]
    },
    {
     "name": "stdout",
     "output_type": "stream",
     "text": [
      "[114 sec, 12692769 itr]:          165\n"
     ]
    },
    {
     "name": "stdout",
     "output_type": "stream",
     "text": [
      "[115 sec, 12806815 itr]:          165\n"
     ]
    },
    {
     "name": "stdout",
     "output_type": "stream",
     "text": [
      "[116 sec, 12924922 itr]:          165\n"
     ]
    },
    {
     "name": "stdout",
     "output_type": "stream",
     "text": [
      "[117 sec, 13036580 itr]:          165\n"
     ]
    },
    {
     "name": "stdout",
     "output_type": "stream",
     "text": [
      "[118 sec, 13143741 itr]:          165\n"
     ]
    },
    {
     "name": "stdout",
     "output_type": "stream",
     "text": [
      "[119 sec, 13252927 itr]:          164\n"
     ]
    },
    {
     "name": "stdout",
     "output_type": "stream",
     "text": [
      "[120 sec, 13252927 itr]:          164\n",
      "[ optimality gap      ]:       77.44%\n"
     ]
    },
    {
     "name": "stdout",
     "output_type": "stream",
     "text": [
      "[120 sec, 13359014 itr]:          164\n",
      "[ optimality gap      ]:       76.83%\n",
      "\n",
      "13359014 iterations performed in 120 seconds\n",
      "\n",
      "Feasible solution: \n",
      "  obj    =          164\n",
      "  gap    =       76.83%\n",
      "  bounds =           38\n"
     ]
    }
   ],
   "source": [
    "_model = Model(instance03)\n",
    "_model.solve(time_limit=120, log=True)\n",
    "_model.to_solution()"
   ]
  },
  {
   "cell_type": "code",
   "execution_count": null,
   "id": "DnEU",
   "metadata": {},
   "outputs": [
    {
     "name": "stdout",
     "output_type": "stream",
     "text": [
      "\n",
      "Model:  expressions = 1058, decisions = 150, constraints = 190, objectives = 1\n",
      "Param:  time limit = 120 sec, no iteration limit\n",
      "\n",
      "[objective direction ]:     minimize\n",
      "\n",
      "[  0 sec,       0 itr]: No feasible solution found (infeas = 144)\n"
     ]
    },
    {
     "name": "stdout",
     "output_type": "stream",
     "text": [
      "[  1 sec,  140372 itr]:           31\n"
     ]
    },
    {
     "name": "stdout",
     "output_type": "stream",
     "text": [
      "[  2 sec,  571389 itr]:           30\n"
     ]
    },
    {
     "name": "stdout",
     "output_type": "stream",
     "text": [
      "[  3 sec,  571389 itr]:           30\n"
     ]
    },
    {
     "name": "stdout",
     "output_type": "stream",
     "text": [
      "[  4 sec,  947718 itr]:           30\n"
     ]
    },
    {
     "name": "stdout",
     "output_type": "stream",
     "text": [
      "[  5 sec, 1309460 itr]:           29\n"
     ]
    },
    {
     "name": "stdout",
     "output_type": "stream",
     "text": [
      "[  6 sec, 1583413 itr]:           29\n"
     ]
    },
    {
     "name": "stdout",
     "output_type": "stream",
     "text": [
      "[  7 sec, 1887644 itr]:           29\n"
     ]
    },
    {
     "name": "stdout",
     "output_type": "stream",
     "text": [
      "[  8 sec, 2139257 itr]:           29\n"
     ]
    },
    {
     "name": "stdout",
     "output_type": "stream",
     "text": [
      "[  9 sec, 2443719 itr]:           29\n"
     ]
    },
    {
     "name": "stdout",
     "output_type": "stream",
     "text": [
      "[ 10 sec, 2705361 itr]:           29\n",
      "[ optimality gap     ]:       34.48%\n"
     ]
    },
    {
     "name": "stdout",
     "output_type": "stream",
     "text": [
      "[ 11 sec, 3279622 itr]:           29\n"
     ]
    },
    {
     "name": "stdout",
     "output_type": "stream",
     "text": [
      "[ 12 sec, 3583311 itr]:           29\n"
     ]
    },
    {
     "name": "stdout",
     "output_type": "stream",
     "text": [
      "[ 13 sec, 3583311 itr]:           29\n"
     ]
    },
    {
     "name": "stdout",
     "output_type": "stream",
     "text": [
      "[ 14 sec, 4167049 itr]:           29\n"
     ]
    },
    {
     "name": "stdout",
     "output_type": "stream",
     "text": [
      "[ 15 sec, 4465952 itr]:           29\n"
     ]
    },
    {
     "name": "stdout",
     "output_type": "stream",
     "text": [
      "[ 16 sec, 4745265 itr]:           29\n"
     ]
    },
    {
     "name": "stdout",
     "output_type": "stream",
     "text": [
      "[ 17 sec, 5035782 itr]:           29\n"
     ]
    },
    {
     "name": "stdout",
     "output_type": "stream",
     "text": [
      "[ 18 sec, 5341573 itr]:           29\n"
     ]
    },
    {
     "name": "stdout",
     "output_type": "stream",
     "text": [
      "[ 19 sec, 5619965 itr]:           29\n"
     ]
    },
    {
     "name": "stdout",
     "output_type": "stream",
     "text": [
      "[ 20 sec, 5619965 itr]:           29\n",
      "[ optimality gap     ]:       31.03%\n"
     ]
    },
    {
     "name": "stdout",
     "output_type": "stream",
     "text": [
      "[ 21 sec, 6216448 itr]:           29\n"
     ]
    },
    {
     "name": "stdout",
     "output_type": "stream",
     "text": [
      "[ 22 sec, 6488039 itr]:           29\n"
     ]
    },
    {
     "name": "stdout",
     "output_type": "stream",
     "text": [
      "[ 23 sec, 6793310 itr]:           29\n"
     ]
    },
    {
     "name": "stdout",
     "output_type": "stream",
     "text": [
      "[ 24 sec, 6793310 itr]:           29\n"
     ]
    },
    {
     "name": "stdout",
     "output_type": "stream",
     "text": [
      "[ 25 sec, 7081852 itr]:           29\n"
     ]
    },
    {
     "name": "stdout",
     "output_type": "stream",
     "text": [
      "[ 26 sec, 7696455 itr]:           29\n"
     ]
    },
    {
     "name": "stdout",
     "output_type": "stream",
     "text": [
      "[ 27 sec, 7970104 itr]:           29\n"
     ]
    },
    {
     "name": "stdout",
     "output_type": "stream",
     "text": [
      "[ 28 sec, 7970104 itr]:           29\n"
     ]
    },
    {
     "name": "stdout",
     "output_type": "stream",
     "text": [
      "[ 29 sec, 8574866 itr]:           29\n"
     ]
    },
    {
     "name": "stdout",
     "output_type": "stream",
     "text": [
      "[ 30 sec, 8825871 itr]:           29\n",
      "[ optimality gap     ]:       31.03%\n"
     ]
    },
    {
     "name": "stdout",
     "output_type": "stream",
     "text": [
      "[ 31 sec, 8825871 itr]:           29\n"
     ]
    },
    {
     "name": "stdout",
     "output_type": "stream",
     "text": [
      "[ 32 sec, 9258300 itr]:           29\n"
     ]
    },
    {
     "name": "stdout",
     "output_type": "stream",
     "text": [
      "[ 33 sec, 9258300 itr]:           29\n"
     ]
    },
    {
     "name": "stdout",
     "output_type": "stream",
     "text": [
      "[ 34 sec, 9638417 itr]:           29\n"
     ]
    },
    {
     "name": "stdout",
     "output_type": "stream",
     "text": [
      "[ 35 sec, 9638417 itr]:           29\n"
     ]
    },
    {
     "name": "stdout",
     "output_type": "stream",
     "text": [
      "[ 35 sec, 9908565 itr]:           29\n",
      "[ optimality gap     ]:           0%\n",
      "\n",
      "9908565 iterations performed in 35 seconds\n",
      "\n",
      "Optimal solution: \n",
      "  obj    =           29\n",
      "  gap    =           0%\n",
      "  bounds =           29\n"
     ]
    }
   ],
   "source": [
    "_model = Model(instance04)\n",
    "_model.solve(time_limit=120, log=True)\n",
    "_model.to_solution()"
   ]
  },
  {
   "cell_type": "code",
   "execution_count": null,
   "id": "ulZA",
   "metadata": {},
   "outputs": [
    {
     "name": "stdout",
     "output_type": "stream",
     "text": [
      "\n",
      "Model:  expressions = 4858, decisions = 550, constraints = 950, objectives = 1\n",
      "Param:  time limit = 120 sec, no iteration limit\n",
      "\n",
      "[objective direction ]:     minimize\n",
      "\n",
      "[  0 sec,       0 itr]: No feasible solution found (infeas = 753)\n"
     ]
    },
    {
     "name": "stdout",
     "output_type": "stream",
     "text": [
      "[  1 sec,       0 itr]: No feasible solution found (infeas = 753)\n"
     ]
    },
    {
     "name": "stdout",
     "output_type": "stream",
     "text": [
      "[  2 sec,  121852 itr]:           38\n",
      "[ optimality gap     ]:       60.53%\n"
     ]
    },
    {
     "name": "stdout",
     "output_type": "stream",
     "text": [
      "[  3 sec,  155923 itr]:           38\n"
     ]
    },
    {
     "name": "stdout",
     "output_type": "stream",
     "text": [
      "[  4 sec,  203018 itr]:           37\n"
     ]
    },
    {
     "name": "stdout",
     "output_type": "stream",
     "text": [
      "[  5 sec,  203018 itr]:           37\n"
     ]
    },
    {
     "name": "stdout",
     "output_type": "stream",
     "text": [
      "[  6 sec,  314719 itr]:           37\n"
     ]
    },
    {
     "name": "stdout",
     "output_type": "stream",
     "text": [
      "[  7 sec,  314719 itr]:           37\n"
     ]
    },
    {
     "name": "stdout",
     "output_type": "stream",
     "text": [
      "[  8 sec,  370793 itr]:           37\n"
     ]
    },
    {
     "name": "stdout",
     "output_type": "stream",
     "text": [
      "[  9 sec,  505977 itr]:           37\n"
     ]
    },
    {
     "name": "stdout",
     "output_type": "stream",
     "text": [
      "[ 10 sec,  505977 itr]:           37\n"
     ]
    },
    {
     "name": "stdout",
     "output_type": "stream",
     "text": [
      "[ 11 sec,  603908 itr]:           37\n"
     ]
    },
    {
     "name": "stdout",
     "output_type": "stream",
     "text": [
      "[ 12 sec,  682944 itr]:           37\n",
      "[ optimality gap     ]:       40.54%\n"
     ]
    },
    {
     "name": "stdout",
     "output_type": "stream",
     "text": [
      "[ 13 sec,  852674 itr]:           37\n"
     ]
    },
    {
     "name": "stdout",
     "output_type": "stream",
     "text": [
      "[ 14 sec,  852674 itr]:           37\n"
     ]
    },
    {
     "name": "stdout",
     "output_type": "stream",
     "text": [
      "[ 15 sec, 1021421 itr]:           37\n"
     ]
    },
    {
     "name": "stdout",
     "output_type": "stream",
     "text": [
      "[ 16 sec, 1021421 itr]:           37\n"
     ]
    },
    {
     "name": "stdout",
     "output_type": "stream",
     "text": [
      "[ 17 sec, 1168997 itr]:           37\n"
     ]
    },
    {
     "name": "stdout",
     "output_type": "stream",
     "text": [
      "[ 18 sec, 1168997 itr]:           37\n"
     ]
    },
    {
     "name": "stdout",
     "output_type": "stream",
     "text": [
      "[ 19 sec, 1297318 itr]:           37\n"
     ]
    },
    {
     "name": "stdout",
     "output_type": "stream",
     "text": [
      "[ 20 sec, 1361659 itr]:           37\n"
     ]
    },
    {
     "name": "stdout",
     "output_type": "stream",
     "text": [
      "[ 21 sec, 1361659 itr]:           36\n"
     ]
    },
    {
     "name": "stdout",
     "output_type": "stream",
     "text": [
      "[ 22 sec, 1402243 itr]:           36\n",
      "[ optimality gap     ]:       38.89%\n"
     ]
    },
    {
     "name": "stdout",
     "output_type": "stream",
     "text": [
      "[ 23 sec, 1519512 itr]:           36\n"
     ]
    },
    {
     "name": "stdout",
     "output_type": "stream",
     "text": [
      "[ 24 sec, 1519512 itr]:           36\n"
     ]
    },
    {
     "name": "stdout",
     "output_type": "stream",
     "text": [
      "[ 25 sec, 1661211 itr]:           36\n"
     ]
    },
    {
     "name": "stdout",
     "output_type": "stream",
     "text": [
      "[ 26 sec, 1729781 itr]:           36\n"
     ]
    },
    {
     "name": "stdout",
     "output_type": "stream",
     "text": [
      "[ 27 sec, 1729781 itr]:           36\n"
     ]
    },
    {
     "name": "stdout",
     "output_type": "stream",
     "text": [
      "[ 28 sec, 1791297 itr]:           36\n"
     ]
    },
    {
     "name": "stdout",
     "output_type": "stream",
     "text": [
      "[ 29 sec, 1939698 itr]:           36\n"
     ]
    },
    {
     "name": "stdout",
     "output_type": "stream",
     "text": [
      "[ 30 sec, 1939698 itr]:           36\n"
     ]
    },
    {
     "name": "stdout",
     "output_type": "stream",
     "text": [
      "[ 31 sec, 2072765 itr]:           36\n"
     ]
    },
    {
     "name": "stdout",
     "output_type": "stream",
     "text": [
      "[ 32 sec, 2072765 itr]:           36\n",
      "[ optimality gap     ]:       38.89%\n"
     ]
    },
    {
     "name": "stdout",
     "output_type": "stream",
     "text": [
      "[ 33 sec, 2147673 itr]:           36\n"
     ]
    },
    {
     "name": "stdout",
     "output_type": "stream",
     "text": [
      "[ 34 sec, 2217967 itr]:           36\n"
     ]
    },
    {
     "name": "stdout",
     "output_type": "stream",
     "text": [
      "[ 35 sec, 2291600 itr]:           36\n"
     ]
    },
    {
     "name": "stdout",
     "output_type": "stream",
     "text": [
      "[ 36 sec, 2447326 itr]:           36\n"
     ]
    },
    {
     "name": "stdout",
     "output_type": "stream",
     "text": [
      "[ 37 sec, 2520900 itr]:           36\n"
     ]
    },
    {
     "name": "stdout",
     "output_type": "stream",
     "text": [
      "[ 38 sec, 2583273 itr]:           36\n"
     ]
    },
    {
     "name": "stdout",
     "output_type": "stream",
     "text": [
      "[ 39 sec, 2583273 itr]:           36\n"
     ]
    },
    {
     "name": "stdout",
     "output_type": "stream",
     "text": [
      "[ 40 sec, 2700094 itr]:           36\n"
     ]
    },
    {
     "name": "stdout",
     "output_type": "stream",
     "text": [
      "[ 41 sec, 2700094 itr]:           36\n"
     ]
    },
    {
     "name": "stdout",
     "output_type": "stream",
     "text": [
      "[ 42 sec, 2760860 itr]:           36\n",
      "[ optimality gap     ]:       38.89%\n"
     ]
    },
    {
     "name": "stdout",
     "output_type": "stream",
     "text": [
      "[ 43 sec, 2821793 itr]:           36\n"
     ]
    },
    {
     "name": "stdout",
     "output_type": "stream",
     "text": [
      "[ 44 sec, 2874465 itr]:           36\n"
     ]
    },
    {
     "name": "stdout",
     "output_type": "stream",
     "text": [
      "[ 45 sec, 2989124 itr]:           36\n"
     ]
    },
    {
     "name": "stdout",
     "output_type": "stream",
     "text": [
      "[ 46 sec, 2989124 itr]:           36\n"
     ]
    },
    {
     "name": "stdout",
     "output_type": "stream",
     "text": [
      "[ 47 sec, 3051693 itr]:           36\n"
     ]
    },
    {
     "name": "stdout",
     "output_type": "stream",
     "text": [
      "[ 48 sec, 3169555 itr]:           36\n"
     ]
    },
    {
     "name": "stdout",
     "output_type": "stream",
     "text": [
      "[ 49 sec, 3169555 itr]:           36\n"
     ]
    },
    {
     "name": "stdout",
     "output_type": "stream",
     "text": [
      "[ 50 sec, 3285841 itr]:           36\n"
     ]
    },
    {
     "name": "stdout",
     "output_type": "stream",
     "text": [
      "[ 51 sec, 3285841 itr]:           36\n"
     ]
    },
    {
     "name": "stdout",
     "output_type": "stream",
     "text": [
      "[ 52 sec, 3334308 itr]:           36\n",
      "[ optimality gap     ]:       38.89%\n"
     ]
    },
    {
     "name": "stdout",
     "output_type": "stream",
     "text": [
      "[ 53 sec, 3437310 itr]:           36\n"
     ]
    },
    {
     "name": "stdout",
     "output_type": "stream",
     "text": [
      "[ 54 sec, 3437310 itr]:           36\n"
     ]
    },
    {
     "name": "stdout",
     "output_type": "stream",
     "text": [
      "[ 55 sec, 3512927 itr]:           36\n"
     ]
    },
    {
     "name": "stdout",
     "output_type": "stream",
     "text": [
      "[ 56 sec, 3563336 itr]:           36\n"
     ]
    },
    {
     "name": "stdout",
     "output_type": "stream",
     "text": [
      "[ 57 sec, 3613296 itr]:           36\n"
     ]
    },
    {
     "name": "stdout",
     "output_type": "stream",
     "text": [
      "[ 58 sec, 3663843 itr]:           36\n"
     ]
    },
    {
     "name": "stdout",
     "output_type": "stream",
     "text": [
      "[ 59 sec, 3719712 itr]:           36\n"
     ]
    },
    {
     "name": "stdout",
     "output_type": "stream",
     "text": [
      "[ 60 sec, 3771492 itr]:           36\n"
     ]
    },
    {
     "name": "stdout",
     "output_type": "stream",
     "text": [
      "[ 61 sec, 3821399 itr]:           36\n"
     ]
    },
    {
     "name": "stdout",
     "output_type": "stream",
     "text": [
      "[ 62 sec, 3821399 itr]:           36\n",
      "[ optimality gap     ]:       38.89%\n"
     ]
    },
    {
     "name": "stdout",
     "output_type": "stream",
     "text": [
      "[ 63 sec, 3870899 itr]:           36\n"
     ]
    },
    {
     "name": "stdout",
     "output_type": "stream",
     "text": [
      "[ 64 sec, 3920610 itr]:           36\n"
     ]
    },
    {
     "name": "stdout",
     "output_type": "stream",
     "text": [
      "[ 65 sec, 4014413 itr]:           36\n"
     ]
    },
    {
     "name": "stdout",
     "output_type": "stream",
     "text": [
      "[ 66 sec, 4014413 itr]:           36\n"
     ]
    },
    {
     "name": "stdout",
     "output_type": "stream",
     "text": [
      "[ 67 sec, 4060493 itr]:           36\n"
     ]
    },
    {
     "name": "stdout",
     "output_type": "stream",
     "text": [
      "[ 68 sec, 4105255 itr]:           36\n"
     ]
    },
    {
     "name": "stdout",
     "output_type": "stream",
     "text": [
      "[ 69 sec, 4194413 itr]:           36\n"
     ]
    },
    {
     "name": "stdout",
     "output_type": "stream",
     "text": [
      "[ 70 sec, 4239757 itr]:           36\n"
     ]
    },
    {
     "name": "stdout",
     "output_type": "stream",
     "text": [
      "[ 71 sec, 4286791 itr]:           36\n"
     ]
    },
    {
     "name": "stdout",
     "output_type": "stream",
     "text": [
      "[ 72 sec, 4286791 itr]:           36\n",
      "[ optimality gap     ]:       38.89%\n"
     ]
    },
    {
     "name": "stdout",
     "output_type": "stream",
     "text": [
      "[ 73 sec, 4379200 itr]:           35\n"
     ]
    },
    {
     "name": "stdout",
     "output_type": "stream",
     "text": [
      "[ 74 sec, 4428382 itr]:           35\n"
     ]
    },
    {
     "name": "stdout",
     "output_type": "stream",
     "text": [
      "[ 75 sec, 4479244 itr]:           35\n"
     ]
    },
    {
     "name": "stdout",
     "output_type": "stream",
     "text": [
      "[ 76 sec, 4479244 itr]:           35\n"
     ]
    },
    {
     "name": "stdout",
     "output_type": "stream",
     "text": [
      "[ 77 sec, 4578492 itr]:           35\n"
     ]
    },
    {
     "name": "stdout",
     "output_type": "stream",
     "text": [
      "[ 78 sec, 4578492 itr]:           35\n"
     ]
    },
    {
     "name": "stdout",
     "output_type": "stream",
     "text": [
      "[ 79 sec, 4675848 itr]:           35\n"
     ]
    },
    {
     "name": "stdout",
     "output_type": "stream",
     "text": [
      "[ 80 sec, 4724423 itr]:           35\n"
     ]
    },
    {
     "name": "stdout",
     "output_type": "stream",
     "text": [
      "[ 81 sec, 4767315 itr]:           35\n"
     ]
    },
    {
     "name": "stdout",
     "output_type": "stream",
     "text": [
      "[ 82 sec, 4814761 itr]:           35\n",
      "[ optimality gap     ]:       37.14%\n"
     ]
    },
    {
     "name": "stdout",
     "output_type": "stream",
     "text": [
      "[ 83 sec, 4864695 itr]:           35\n"
     ]
    },
    {
     "name": "stdout",
     "output_type": "stream",
     "text": [
      "[ 84 sec, 4910022 itr]:           35\n"
     ]
    },
    {
     "name": "stdout",
     "output_type": "stream",
     "text": [
      "[ 85 sec, 4954370 itr]:           35\n"
     ]
    },
    {
     "name": "stdout",
     "output_type": "stream",
     "text": [
      "[ 86 sec, 5006595 itr]:           35\n"
     ]
    },
    {
     "name": "stdout",
     "output_type": "stream",
     "text": [
      "[ 87 sec, 5006595 itr]:           35\n"
     ]
    },
    {
     "name": "stdout",
     "output_type": "stream",
     "text": [
      "[ 88 sec, 5024995 itr]:           35\n"
     ]
    },
    {
     "name": "stdout",
     "output_type": "stream",
     "text": [
      "[ 89 sec, 5122752 itr]:           35\n"
     ]
    },
    {
     "name": "stdout",
     "output_type": "stream",
     "text": [
      "[ 90 sec, 5173738 itr]:           35\n"
     ]
    },
    {
     "name": "stdout",
     "output_type": "stream",
     "text": [
      "[ 91 sec, 5173738 itr]:           35\n"
     ]
    },
    {
     "name": "stdout",
     "output_type": "stream",
     "text": [
      "[ 92 sec, 5270979 itr]:           35\n",
      "[ optimality gap     ]:       37.14%\n"
     ]
    },
    {
     "name": "stdout",
     "output_type": "stream",
     "text": [
      "[ 93 sec, 5270979 itr]:           35\n"
     ]
    },
    {
     "name": "stdout",
     "output_type": "stream",
     "text": [
      "[ 94 sec, 5365633 itr]:           35\n"
     ]
    },
    {
     "name": "stdout",
     "output_type": "stream",
     "text": [
      "[ 95 sec, 5415661 itr]:           35\n"
     ]
    },
    {
     "name": "stdout",
     "output_type": "stream",
     "text": [
      "[ 96 sec, 5415661 itr]:           35\n"
     ]
    },
    {
     "name": "stdout",
     "output_type": "stream",
     "text": [
      "[ 97 sec, 5462106 itr]:           35\n"
     ]
    },
    {
     "name": "stdout",
     "output_type": "stream",
     "text": [
      "[ 98 sec, 5511917 itr]:           35\n"
     ]
    },
    {
     "name": "stdout",
     "output_type": "stream",
     "text": [
      "[ 99 sec, 5608046 itr]:           35\n"
     ]
    },
    {
     "name": "stdout",
     "output_type": "stream",
     "text": [
      "[100 sec, 5657366 itr]:           35\n"
     ]
    },
    {
     "name": "stdout",
     "output_type": "stream",
     "text": [
      "[101 sec, 5703323 itr]:           35\n"
     ]
    },
    {
     "name": "stdout",
     "output_type": "stream",
     "text": [
      "[102 sec, 5703323 itr]:           35\n",
      "[ optimality gap     ]:       37.14%\n"
     ]
    },
    {
     "name": "stdout",
     "output_type": "stream",
     "text": [
      "[103 sec, 5751056 itr]:           35\n"
     ]
    },
    {
     "name": "stdout",
     "output_type": "stream",
     "text": [
      "[104 sec, 5854565 itr]:           35\n"
     ]
    },
    {
     "name": "stdout",
     "output_type": "stream",
     "text": [
      "[105 sec, 5854565 itr]:           35\n"
     ]
    },
    {
     "name": "stdout",
     "output_type": "stream",
     "text": [
      "[106 sec, 5901166 itr]:           35\n"
     ]
    },
    {
     "name": "stdout",
     "output_type": "stream",
     "text": [
      "[107 sec, 5953609 itr]:           35\n"
     ]
    },
    {
     "name": "stdout",
     "output_type": "stream",
     "text": [
      "[108 sec, 6054066 itr]:           35\n"
     ]
    },
    {
     "name": "stdout",
     "output_type": "stream",
     "text": [
      "[109 sec, 6104645 itr]:           35\n"
     ]
    },
    {
     "name": "stdout",
     "output_type": "stream",
     "text": [
      "[110 sec, 6104645 itr]:           35\n"
     ]
    },
    {
     "name": "stdout",
     "output_type": "stream",
     "text": [
      "[111 sec, 6152704 itr]:           35\n"
     ]
    },
    {
     "name": "stdout",
     "output_type": "stream",
     "text": [
      "[112 sec, 6205952 itr]:           35\n",
      "[ optimality gap     ]:       37.14%\n"
     ]
    },
    {
     "name": "stdout",
     "output_type": "stream",
     "text": [
      "[113 sec, 6256720 itr]:           35\n"
     ]
    },
    {
     "name": "stdout",
     "output_type": "stream",
     "text": [
      "[114 sec, 6360244 itr]:           35\n"
     ]
    },
    {
     "name": "stdout",
     "output_type": "stream",
     "text": [
      "[115 sec, 6360244 itr]:           35\n"
     ]
    },
    {
     "name": "stdout",
     "output_type": "stream",
     "text": [
      "[116 sec, 6458927 itr]:           35\n"
     ]
    },
    {
     "name": "stdout",
     "output_type": "stream",
     "text": [
      "[117 sec, 6458927 itr]:           35\n"
     ]
    },
    {
     "name": "stdout",
     "output_type": "stream",
     "text": [
      "[118 sec, 6511783 itr]:           35\n"
     ]
    },
    {
     "name": "stdout",
     "output_type": "stream",
     "text": [
      "[119 sec, 6607837 itr]:           35\n"
     ]
    },
    {
     "name": "stdout",
     "output_type": "stream",
     "text": [
      "[120 sec, 6629077 itr]:           35\n"
     ]
    },
    {
     "name": "stdout",
     "output_type": "stream",
     "text": [
      "[120 sec, 6629077 itr]:           35\n",
      "[ optimality gap     ]:       37.14%\n",
      "\n",
      "6629077 iterations performed in 120 seconds\n",
      "\n",
      "Feasible solution: \n",
      "  obj    =           35\n",
      "  gap    =       37.14%\n",
      "  bounds =           22\n"
     ]
    }
   ],
   "source": [
    "_model = Model(instance05)\n",
    "_model.solve(time_limit=120, log=True)\n",
    "_model.to_solution()"
   ]
  },
  {
   "cell_type": "code",
   "execution_count": null,
   "id": "ecfG",
   "metadata": {},
   "outputs": [
    {
     "name": "stdout",
     "output_type": "stream",
     "text": [
      "\n",
      "Model:  expressions = 1037, decisions = 140, constraints = 190, objectives = 1\n",
      "Param:  time limit = 120 sec, no iteration limit\n",
      "\n",
      "[objective direction ]:     minimize\n",
      "\n",
      "[  0 sec,       0 itr]: No feasible solution found (infeas = 159)\n"
     ]
    },
    {
     "name": "stdout",
     "output_type": "stream",
     "text": [
      "[  1 sec,       0 itr]: No feasible solution found (infeas = 159)\n"
     ]
    },
    {
     "name": "stdout",
     "output_type": "stream",
     "text": [
      "[  2 sec,  703840 itr]:           25\n",
      "[ optimality gap     ]:       44.00%\n"
     ]
    },
    {
     "name": "stdout",
     "output_type": "stream",
     "text": [
      "[  3 sec, 1096245 itr]:           24\n"
     ]
    },
    {
     "name": "stdout",
     "output_type": "stream",
     "text": [
      "[  4 sec, 1519515 itr]:           24\n"
     ]
    },
    {
     "name": "stdout",
     "output_type": "stream",
     "text": [
      "[  5 sec, 1883800 itr]:           24\n"
     ]
    },
    {
     "name": "stdout",
     "output_type": "stream",
     "text": [
      "[  6 sec, 1883800 itr]:           24\n"
     ]
    },
    {
     "name": "stdout",
     "output_type": "stream",
     "text": [
      "[  7 sec, 2392020 itr]:           24\n"
     ]
    },
    {
     "name": "stdout",
     "output_type": "stream",
     "text": [
      "[  8 sec, 2392020 itr]:           24\n"
     ]
    },
    {
     "name": "stdout",
     "output_type": "stream",
     "text": [
      "[  9 sec, 2910522 itr]:           24\n"
     ]
    },
    {
     "name": "stdout",
     "output_type": "stream",
     "text": [
      "[ 10 sec, 3152623 itr]:           24\n"
     ]
    },
    {
     "name": "stdout",
     "output_type": "stream",
     "text": [
      "[ 11 sec, 3152623 itr]:           24\n"
     ]
    },
    {
     "name": "stdout",
     "output_type": "stream",
     "text": [
      "[ 12 sec, 3374301 itr]:           24\n",
      "[ optimality gap     ]:       29.17%\n"
     ]
    },
    {
     "name": "stdout",
     "output_type": "stream",
     "text": [
      "[ 13 sec, 3605794 itr]:           24\n"
     ]
    },
    {
     "name": "stdout",
     "output_type": "stream",
     "text": [
      "[ 14 sec, 3819178 itr]:           24\n"
     ]
    },
    {
     "name": "stdout",
     "output_type": "stream",
     "text": [
      "[ 15 sec, 4278635 itr]:           24\n"
     ]
    },
    {
     "name": "stdout",
     "output_type": "stream",
     "text": [
      "[ 16 sec, 4525587 itr]:           24\n"
     ]
    },
    {
     "name": "stdout",
     "output_type": "stream",
     "text": [
      "[ 17 sec, 4745872 itr]:           24\n"
     ]
    },
    {
     "name": "stdout",
     "output_type": "stream",
     "text": [
      "[ 18 sec, 4745872 itr]:           24\n"
     ]
    },
    {
     "name": "stdout",
     "output_type": "stream",
     "text": [
      "[ 19 sec, 5192853 itr]:           24\n"
     ]
    },
    {
     "name": "stdout",
     "output_type": "stream",
     "text": [
      "[ 20 sec, 5192853 itr]:           24\n"
     ]
    },
    {
     "name": "stdout",
     "output_type": "stream",
     "text": [
      "[ 21 sec, 5601935 itr]:           24\n"
     ]
    },
    {
     "name": "stdout",
     "output_type": "stream",
     "text": [
      "[ 22 sec, 5853510 itr]:           24\n",
      "[ optimality gap     ]:       25.00%\n"
     ]
    },
    {
     "name": "stdout",
     "output_type": "stream",
     "text": [
      "[ 23 sec, 5853510 itr]:           24\n"
     ]
    },
    {
     "name": "stdout",
     "output_type": "stream",
     "text": [
      "[ 24 sec, 6345254 itr]:           24\n"
     ]
    },
    {
     "name": "stdout",
     "output_type": "stream",
     "text": [
      "[ 25 sec, 6595220 itr]:           24\n"
     ]
    },
    {
     "name": "stdout",
     "output_type": "stream",
     "text": [
      "[ 26 sec, 6822777 itr]:           24\n"
     ]
    },
    {
     "name": "stdout",
     "output_type": "stream",
     "text": [
      "[ 27 sec, 7040504 itr]:           24\n"
     ]
    },
    {
     "name": "stdout",
     "output_type": "stream",
     "text": [
      "[ 28 sec, 7040504 itr]:           24\n"
     ]
    },
    {
     "name": "stdout",
     "output_type": "stream",
     "text": [
      "[ 29 sec, 7531008 itr]:           24\n"
     ]
    },
    {
     "name": "stdout",
     "output_type": "stream",
     "text": [
      "[ 30 sec, 7762306 itr]:           24\n"
     ]
    },
    {
     "name": "stdout",
     "output_type": "stream",
     "text": [
      "[ 31 sec, 8001893 itr]:           24\n"
     ]
    },
    {
     "name": "stdout",
     "output_type": "stream",
     "text": [
      "[ 32 sec, 8001893 itr]:           24\n",
      "[ optimality gap     ]:       16.67%\n"
     ]
    },
    {
     "name": "stdout",
     "output_type": "stream",
     "text": [
      "[ 33 sec, 8466553 itr]:           24\n"
     ]
    },
    {
     "name": "stdout",
     "output_type": "stream",
     "text": [
      "[ 34 sec, 8466553 itr]:           24\n"
     ]
    },
    {
     "name": "stdout",
     "output_type": "stream",
     "text": [
      "[ 35 sec, 8708402 itr]:           24\n"
     ]
    },
    {
     "name": "stdout",
     "output_type": "stream",
     "text": [
      "[ 36 sec, 9172090 itr]:           24\n"
     ]
    },
    {
     "name": "stdout",
     "output_type": "stream",
     "text": [
      "[ 37 sec, 9172090 itr]:           24\n"
     ]
    },
    {
     "name": "stdout",
     "output_type": "stream",
     "text": [
      "[ 38 sec, 9638843 itr]:           24\n"
     ]
    },
    {
     "name": "stdout",
     "output_type": "stream",
     "text": [
      "[ 39 sec, 9882667 itr]:           24\n"
     ]
    },
    {
     "name": "stdout",
     "output_type": "stream",
     "text": [
      "[ 40 sec, 9882667 itr]:           24\n"
     ]
    },
    {
     "name": "stdout",
     "output_type": "stream",
     "text": [
      "[ 41 sec, 10127738 itr]:           24\n"
     ]
    },
    {
     "name": "stdout",
     "output_type": "stream",
     "text": [
      "[ 42 sec, 10675491 itr]:           24\n",
      "[ optimality gap      ]:       16.67%\n"
     ]
    },
    {
     "name": "stdout",
     "output_type": "stream",
     "text": [
      "[ 43 sec, 10675491 itr]:           24\n"
     ]
    },
    {
     "name": "stdout",
     "output_type": "stream",
     "text": [
      "[ 44 sec, 11256244 itr]:           24\n"
     ]
    },
    {
     "name": "stdout",
     "output_type": "stream",
     "text": [
      "[ 45 sec, 11519130 itr]:           24\n"
     ]
    },
    {
     "name": "stdout",
     "output_type": "stream",
     "text": [
      "[ 46 sec, 11519130 itr]:           24\n"
     ]
    },
    {
     "name": "stdout",
     "output_type": "stream",
     "text": [
      "[ 47 sec, 11793914 itr]:           24\n"
     ]
    },
    {
     "name": "stdout",
     "output_type": "stream",
     "text": [
      "[ 48 sec, 12063470 itr]:           24\n"
     ]
    },
    {
     "name": "stdout",
     "output_type": "stream",
     "text": [
      "[ 49 sec, 12614934 itr]:           24\n"
     ]
    },
    {
     "name": "stdout",
     "output_type": "stream",
     "text": [
      "[ 50 sec, 12890989 itr]:           24\n"
     ]
    },
    {
     "name": "stdout",
     "output_type": "stream",
     "text": [
      "[ 50 sec, 12993031 itr]:           24\n",
      "[ optimality gap      ]:           0%\n",
      "\n",
      "12993031 iterations performed in 50 seconds\n",
      "\n",
      "Optimal solution: \n",
      "  obj    =           24\n",
      "  gap    =           0%\n",
      "  bounds =           24\n"
     ]
    }
   ],
   "source": [
    "_model = Model(instance06)\n",
    "_model.solve(time_limit=120, log=True)\n",
    "_model.to_solution()"
   ]
  },
  {
   "cell_type": "code",
   "execution_count": null,
   "id": "Pvdt",
   "metadata": {},
   "outputs": [
    {
     "name": "stdout",
     "output_type": "stream",
     "text": [
      "\n",
      "Model:  expressions = 25258, decisions = 2750, constraints = 4950, objectives = 1\n",
      "Param:  time limit = 120 sec, no iteration limit\n",
      "\n",
      "[objective direction ]:     minimize\n",
      "\n",
      "[  0 sec,       0 itr]: No feasible solution found (infeas = 4072)\n"
     ]
    },
    {
     "name": "stdout",
     "output_type": "stream",
     "text": [
      "[  1 sec,   32930 itr]:          200\n"
     ]
    },
    {
     "name": "stdout",
     "output_type": "stream",
     "text": [
      "[  2 sec,   32930 itr]:          200\n"
     ]
    },
    {
     "name": "stdout",
     "output_type": "stream",
     "text": [
      "[  3 sec,   80034 itr]:          199\n"
     ]
    },
    {
     "name": "stdout",
     "output_type": "stream",
     "text": [
      "[  4 sec,  152246 itr]:          199\n"
     ]
    },
    {
     "name": "stdout",
     "output_type": "stream",
     "text": [
      "[  5 sec,  186470 itr]:          199\n"
     ]
    },
    {
     "name": "stdout",
     "output_type": "stream",
     "text": [
      "[  6 sec,  219510 itr]:          199\n"
     ]
    },
    {
     "name": "stdout",
     "output_type": "stream",
     "text": [
      "[  7 sec,  219510 itr]:          199\n"
     ]
    },
    {
     "name": "stdout",
     "output_type": "stream",
     "text": [
      "[  8 sec,  285181 itr]:          199\n"
     ]
    },
    {
     "name": "stdout",
     "output_type": "stream",
     "text": [
      "[  9 sec,  316418 itr]:          199\n"
     ]
    },
    {
     "name": "stdout",
     "output_type": "stream",
     "text": [
      "[ 10 sec,  316418 itr]:          199\n",
      "[ optimality gap     ]:       93.47%\n"
     ]
    },
    {
     "name": "stdout",
     "output_type": "stream",
     "text": [
      "[ 11 sec,  348356 itr]:          199\n"
     ]
    },
    {
     "name": "stdout",
     "output_type": "stream",
     "text": [
      "[ 12 sec,  416102 itr]:          199\n"
     ]
    },
    {
     "name": "stdout",
     "output_type": "stream",
     "text": [
      "[ 13 sec,  450509 itr]:          199\n"
     ]
    },
    {
     "name": "stdout",
     "output_type": "stream",
     "text": [
      "[ 14 sec,  482100 itr]:          199\n"
     ]
    },
    {
     "name": "stdout",
     "output_type": "stream",
     "text": [
      "[ 15 sec,  482100 itr]:          199\n"
     ]
    },
    {
     "name": "stdout",
     "output_type": "stream",
     "text": [
      "[ 16 sec,  521291 itr]:          199\n"
     ]
    },
    {
     "name": "stdout",
     "output_type": "stream",
     "text": [
      "[ 17 sec,  606407 itr]:          198\n"
     ]
    },
    {
     "name": "stdout",
     "output_type": "stream",
     "text": [
      "[ 18 sec,  647481 itr]:          197\n"
     ]
    },
    {
     "name": "stdout",
     "output_type": "stream",
     "text": [
      "[ 19 sec,  647481 itr]:          197\n"
     ]
    },
    {
     "name": "stdout",
     "output_type": "stream",
     "text": [
      "[ 20 sec,  705763 itr]:          197\n",
      "[ optimality gap     ]:       93.40%\n"
     ]
    },
    {
     "name": "stdout",
     "output_type": "stream",
     "text": [
      "[ 21 sec,  742646 itr]:          197\n"
     ]
    },
    {
     "name": "stdout",
     "output_type": "stream",
     "text": [
      "[ 22 sec,  779733 itr]:          197\n"
     ]
    },
    {
     "name": "stdout",
     "output_type": "stream",
     "text": [
      "[ 23 sec,  779733 itr]:          197\n"
     ]
    },
    {
     "name": "stdout",
     "output_type": "stream",
     "text": [
      "[ 24 sec,  855853 itr]:          197\n"
     ]
    },
    {
     "name": "stdout",
     "output_type": "stream",
     "text": [
      "[ 25 sec,  892972 itr]:          197\n"
     ]
    },
    {
     "name": "stdout",
     "output_type": "stream",
     "text": [
      "[ 26 sec,  892972 itr]:          197\n"
     ]
    },
    {
     "name": "stdout",
     "output_type": "stream",
     "text": [
      "[ 27 sec,  934697 itr]:          197\n"
     ]
    },
    {
     "name": "stdout",
     "output_type": "stream",
     "text": [
      "[ 28 sec, 1012314 itr]:          197\n"
     ]
    },
    {
     "name": "stdout",
     "output_type": "stream",
     "text": [
      "[ 29 sec, 1049670 itr]:          197\n"
     ]
    },
    {
     "name": "stdout",
     "output_type": "stream",
     "text": [
      "[ 30 sec, 1049670 itr]:          197\n",
      "[ optimality gap     ]:       93.40%\n"
     ]
    },
    {
     "name": "stdout",
     "output_type": "stream",
     "text": [
      "[ 31 sec, 1134899 itr]:          197\n"
     ]
    },
    {
     "name": "stdout",
     "output_type": "stream",
     "text": [
      "[ 32 sec, 1178073 itr]:          196\n"
     ]
    },
    {
     "name": "stdout",
     "output_type": "stream",
     "text": [
      "[ 33 sec, 1178073 itr]:          196\n"
     ]
    },
    {
     "name": "stdout",
     "output_type": "stream",
     "text": [
      "[ 34 sec, 1257181 itr]:          196\n"
     ]
    },
    {
     "name": "stdout",
     "output_type": "stream",
     "text": [
      "[ 35 sec, 1300345 itr]:          196\n"
     ]
    },
    {
     "name": "stdout",
     "output_type": "stream",
     "text": [
      "[ 36 sec, 1339231 itr]:          196\n"
     ]
    },
    {
     "name": "stdout",
     "output_type": "stream",
     "text": [
      "[ 37 sec, 1375553 itr]:          196\n"
     ]
    },
    {
     "name": "stdout",
     "output_type": "stream",
     "text": [
      "[ 38 sec, 1419759 itr]:          196\n"
     ]
    },
    {
     "name": "stdout",
     "output_type": "stream",
     "text": [
      "[ 39 sec, 1458758 itr]:          196\n"
     ]
    },
    {
     "name": "stdout",
     "output_type": "stream",
     "text": [
      "[ 40 sec, 1496763 itr]:          196\n",
      "[ optimality gap     ]:       93.37%\n"
     ]
    },
    {
     "name": "stdout",
     "output_type": "stream",
     "text": [
      "[ 41 sec, 1537268 itr]:          196\n"
     ]
    },
    {
     "name": "stdout",
     "output_type": "stream",
     "text": [
      "[ 42 sec, 1576702 itr]:          196\n"
     ]
    },
    {
     "name": "stdout",
     "output_type": "stream",
     "text": [
      "[ 43 sec, 1617782 itr]:          196\n"
     ]
    },
    {
     "name": "stdout",
     "output_type": "stream",
     "text": [
      "[ 44 sec, 1658607 itr]:          196\n"
     ]
    },
    {
     "name": "stdout",
     "output_type": "stream",
     "text": [
      "[ 45 sec, 1702245 itr]:          196\n"
     ]
    },
    {
     "name": "stdout",
     "output_type": "stream",
     "text": [
      "[ 46 sec, 1741097 itr]:          196\n"
     ]
    },
    {
     "name": "stdout",
     "output_type": "stream",
     "text": [
      "[ 47 sec, 1781148 itr]:          196\n"
     ]
    },
    {
     "name": "stdout",
     "output_type": "stream",
     "text": [
      "[ 48 sec, 1817336 itr]:          196\n"
     ]
    },
    {
     "name": "stdout",
     "output_type": "stream",
     "text": [
      "[ 49 sec, 1856744 itr]:          196\n"
     ]
    },
    {
     "name": "stdout",
     "output_type": "stream",
     "text": [
      "[ 50 sec, 1894373 itr]:          196\n",
      "[ optimality gap     ]:       93.37%\n"
     ]
    },
    {
     "name": "stdout",
     "output_type": "stream",
     "text": [
      "[ 51 sec, 1934154 itr]:          196\n"
     ]
    },
    {
     "name": "stdout",
     "output_type": "stream",
     "text": [
      "[ 52 sec, 1950699 itr]:          196\n"
     ]
    },
    {
     "name": "stdout",
     "output_type": "stream",
     "text": [
      "[ 53 sec, 1985577 itr]:          196\n"
     ]
    },
    {
     "name": "stdout",
     "output_type": "stream",
     "text": [
      "[ 54 sec, 2025449 itr]:          196\n"
     ]
    },
    {
     "name": "stdout",
     "output_type": "stream",
     "text": [
      "[ 55 sec, 2025449 itr]:          196\n"
     ]
    },
    {
     "name": "stdout",
     "output_type": "stream",
     "text": [
      "[ 56 sec, 2103245 itr]:          196\n"
     ]
    },
    {
     "name": "stdout",
     "output_type": "stream",
     "text": [
      "[ 57 sec, 2141238 itr]:          196\n"
     ]
    },
    {
     "name": "stdout",
     "output_type": "stream",
     "text": [
      "[ 58 sec, 2183833 itr]:          196\n"
     ]
    },
    {
     "name": "stdout",
     "output_type": "stream",
     "text": [
      "[ 59 sec, 2221433 itr]:          196\n"
     ]
    },
    {
     "name": "stdout",
     "output_type": "stream",
     "text": [
      "[ 60 sec, 2259110 itr]:          196\n",
      "[ optimality gap     ]:       93.37%\n"
     ]
    },
    {
     "name": "stdout",
     "output_type": "stream",
     "text": [
      "[ 61 sec, 2296932 itr]:          196\n"
     ]
    },
    {
     "name": "stdout",
     "output_type": "stream",
     "text": [
      "[ 62 sec, 2333819 itr]:          196\n"
     ]
    },
    {
     "name": "stdout",
     "output_type": "stream",
     "text": [
      "[ 63 sec, 2372707 itr]:          196\n"
     ]
    },
    {
     "name": "stdout",
     "output_type": "stream",
     "text": [
      "[ 64 sec, 2411866 itr]:          196\n"
     ]
    },
    {
     "name": "stdout",
     "output_type": "stream",
     "text": [
      "[ 65 sec, 2449652 itr]:          196\n"
     ]
    },
    {
     "name": "stdout",
     "output_type": "stream",
     "text": [
      "[ 66 sec, 2488281 itr]:          196\n"
     ]
    },
    {
     "name": "stdout",
     "output_type": "stream",
     "text": [
      "[ 67 sec, 2525698 itr]:          196\n"
     ]
    },
    {
     "name": "stdout",
     "output_type": "stream",
     "text": [
      "[ 68 sec, 2565414 itr]:          196\n"
     ]
    },
    {
     "name": "stdout",
     "output_type": "stream",
     "text": [
      "[ 69 sec, 2604799 itr]:          196\n"
     ]
    },
    {
     "name": "stdout",
     "output_type": "stream",
     "text": [
      "[ 70 sec, 2643804 itr]:          196\n",
      "[ optimality gap     ]:       93.37%\n"
     ]
    },
    {
     "name": "stdout",
     "output_type": "stream",
     "text": [
      "[ 71 sec, 2681285 itr]:          196\n"
     ]
    },
    {
     "name": "stdout",
     "output_type": "stream",
     "text": [
      "[ 72 sec, 2719378 itr]:          196\n"
     ]
    },
    {
     "name": "stdout",
     "output_type": "stream",
     "text": [
      "[ 73 sec, 2756705 itr]:          196\n"
     ]
    },
    {
     "name": "stdout",
     "output_type": "stream",
     "text": [
      "[ 74 sec, 2794700 itr]:          196\n"
     ]
    },
    {
     "name": "stdout",
     "output_type": "stream",
     "text": [
      "[ 75 sec, 2831564 itr]:          196\n"
     ]
    },
    {
     "name": "stdout",
     "output_type": "stream",
     "text": [
      "[ 76 sec, 2869245 itr]:          196\n"
     ]
    },
    {
     "name": "stdout",
     "output_type": "stream",
     "text": [
      "[ 77 sec, 2909020 itr]:          196\n"
     ]
    },
    {
     "name": "stdout",
     "output_type": "stream",
     "text": [
      "[ 78 sec, 2945402 itr]:          196\n"
     ]
    },
    {
     "name": "stdout",
     "output_type": "stream",
     "text": [
      "[ 79 sec, 2984888 itr]:          196\n"
     ]
    },
    {
     "name": "stdout",
     "output_type": "stream",
     "text": [
      "[ 80 sec, 3022572 itr]:          196\n",
      "[ optimality gap     ]:       93.37%\n"
     ]
    },
    {
     "name": "stdout",
     "output_type": "stream",
     "text": [
      "[ 81 sec, 3058402 itr]:          196\n"
     ]
    },
    {
     "name": "stdout",
     "output_type": "stream",
     "text": [
      "[ 82 sec, 3098278 itr]:          196\n"
     ]
    },
    {
     "name": "stdout",
     "output_type": "stream",
     "text": [
      "[ 83 sec, 3138766 itr]:          196\n"
     ]
    },
    {
     "name": "stdout",
     "output_type": "stream",
     "text": [
      "[ 84 sec, 3174014 itr]:          196\n"
     ]
    },
    {
     "name": "stdout",
     "output_type": "stream",
     "text": [
      "[ 85 sec, 3189645 itr]:          196\n"
     ]
    },
    {
     "name": "stdout",
     "output_type": "stream",
     "text": [
      "[ 86 sec, 3227929 itr]:          196\n"
     ]
    },
    {
     "name": "stdout",
     "output_type": "stream",
     "text": [
      "[ 87 sec, 3265315 itr]:          196\n"
     ]
    },
    {
     "name": "stdout",
     "output_type": "stream",
     "text": [
      "[ 88 sec, 3305103 itr]:          196\n"
     ]
    },
    {
     "name": "stdout",
     "output_type": "stream",
     "text": [
      "[ 89 sec, 3342580 itr]:          196\n"
     ]
    },
    {
     "name": "stdout",
     "output_type": "stream",
     "text": [
      "[ 90 sec, 3342580 itr]:          196\n",
      "[ optimality gap     ]:       93.37%\n"
     ]
    },
    {
     "name": "stdout",
     "output_type": "stream",
     "text": [
      "[ 91 sec, 3422320 itr]:          196\n"
     ]
    },
    {
     "name": "stdout",
     "output_type": "stream",
     "text": [
      "[ 92 sec, 3459492 itr]:          196\n"
     ]
    },
    {
     "name": "stdout",
     "output_type": "stream",
     "text": [
      "[ 93 sec, 3497360 itr]:          196\n"
     ]
    },
    {
     "name": "stdout",
     "output_type": "stream",
     "text": [
      "[ 94 sec, 3535007 itr]:          196\n"
     ]
    },
    {
     "name": "stdout",
     "output_type": "stream",
     "text": [
      "[ 95 sec, 3572281 itr]:          196\n"
     ]
    },
    {
     "name": "stdout",
     "output_type": "stream",
     "text": [
      "[ 96 sec, 3613226 itr]:          196\n"
     ]
    },
    {
     "name": "stdout",
     "output_type": "stream",
     "text": [
      "[ 97 sec, 3650720 itr]:          196\n"
     ]
    },
    {
     "name": "stdout",
     "output_type": "stream",
     "text": [
      "[ 98 sec, 3687217 itr]:          196\n"
     ]
    },
    {
     "name": "stdout",
     "output_type": "stream",
     "text": [
      "[ 99 sec, 3727864 itr]:          196\n"
     ]
    },
    {
     "name": "stdout",
     "output_type": "stream",
     "text": [
      "[100 sec, 3766086 itr]:          196\n",
      "[ optimality gap     ]:       93.37%\n"
     ]
    },
    {
     "name": "stdout",
     "output_type": "stream",
     "text": [
      "[101 sec, 3806566 itr]:          196\n"
     ]
    },
    {
     "name": "stdout",
     "output_type": "stream",
     "text": [
      "[102 sec, 3844372 itr]:          196\n"
     ]
    },
    {
     "name": "stdout",
     "output_type": "stream",
     "text": [
      "[103 sec, 3882512 itr]:          196\n"
     ]
    },
    {
     "name": "stdout",
     "output_type": "stream",
     "text": [
      "[104 sec, 3918867 itr]:          196\n"
     ]
    },
    {
     "name": "stdout",
     "output_type": "stream",
     "text": [
      "[105 sec, 3959010 itr]:          196\n"
     ]
    },
    {
     "name": "stdout",
     "output_type": "stream",
     "text": [
      "[106 sec, 3996352 itr]:          196\n"
     ]
    },
    {
     "name": "stdout",
     "output_type": "stream",
     "text": [
      "[107 sec, 4037666 itr]:          196\n"
     ]
    },
    {
     "name": "stdout",
     "output_type": "stream",
     "text": [
      "[108 sec, 4074987 itr]:          196\n"
     ]
    },
    {
     "name": "stdout",
     "output_type": "stream",
     "text": [
      "[109 sec, 4114775 itr]:          196\n"
     ]
    },
    {
     "name": "stdout",
     "output_type": "stream",
     "text": [
      "[110 sec, 4151540 itr]:          196\n",
      "[ optimality gap     ]:       93.37%\n"
     ]
    },
    {
     "name": "stdout",
     "output_type": "stream",
     "text": [
      "[111 sec, 4188803 itr]:          196\n"
     ]
    },
    {
     "name": "stdout",
     "output_type": "stream",
     "text": [
      "[112 sec, 4223880 itr]:          196\n"
     ]
    },
    {
     "name": "stdout",
     "output_type": "stream",
     "text": [
      "[113 sec, 4259999 itr]:          196\n"
     ]
    },
    {
     "name": "stdout",
     "output_type": "stream",
     "text": [
      "[114 sec, 4296742 itr]:          196\n"
     ]
    },
    {
     "name": "stdout",
     "output_type": "stream",
     "text": [
      "[115 sec, 4334097 itr]:          196\n"
     ]
    },
    {
     "name": "stdout",
     "output_type": "stream",
     "text": [
      "[116 sec, 4373111 itr]:          196\n"
     ]
    },
    {
     "name": "stdout",
     "output_type": "stream",
     "text": [
      "[117 sec, 4410477 itr]:          196\n"
     ]
    },
    {
     "name": "stdout",
     "output_type": "stream",
     "text": [
      "[118 sec, 4419512 itr]:          196\n"
     ]
    },
    {
     "name": "stdout",
     "output_type": "stream",
     "text": [
      "[119 sec, 4460305 itr]:          194\n"
     ]
    },
    {
     "name": "stdout",
     "output_type": "stream",
     "text": [
      "[120 sec, 4495323 itr]:          194\n",
      "[ optimality gap     ]:       93.30%\n"
     ]
    },
    {
     "name": "stdout",
     "output_type": "stream",
     "text": [
      "[120 sec, 4495323 itr]:          194\n",
      "[ optimality gap     ]:       93.30%\n",
      "\n",
      "4495323 iterations performed in 120 seconds\n",
      "\n",
      "Feasible solution: \n",
      "  obj    =          194\n",
      "  gap    =       93.30%\n",
      "  bounds =           13\n"
     ]
    }
   ],
   "source": [
    "_model = Model(instance07)\n",
    "_model.solve(time_limit=120, log=True)\n",
    "_model.to_solution()"
   ]
  },
  {
   "cell_type": "code",
   "execution_count": null,
   "id": "ZBYS",
   "metadata": {},
   "outputs": [
    {
     "name": "stdout",
     "output_type": "stream",
     "text": [
      "\n",
      "Model:  expressions = 1351, decisions = 290, constraints = 190, objectives = 1\n",
      "Param:  time limit = 120 sec, no iteration limit\n",
      "\n",
      "[objective direction ]:     minimize\n",
      "\n",
      "[  0 sec,       0 itr]: No feasible solution found (infeas = 100)\n"
     ]
    },
    {
     "name": "stdout",
     "output_type": "stream",
     "text": [
      "[  1 sec,  210981 itr]:           50\n"
     ]
    },
    {
     "name": "stdout",
     "output_type": "stream",
     "text": [
      "[  2 sec,  210981 itr]:           50\n"
     ]
    },
    {
     "name": "stdout",
     "output_type": "stream",
     "text": [
      "[  3 sec,  520703 itr]:           50\n"
     ]
    },
    {
     "name": "stdout",
     "output_type": "stream",
     "text": [
      "[  4 sec, 1182273 itr]:           50\n"
     ]
    },
    {
     "name": "stdout",
     "output_type": "stream",
     "text": [
      "[  5 sec, 1182273 itr]:           50\n"
     ]
    },
    {
     "name": "stdout",
     "output_type": "stream",
     "text": [
      "[  6 sec, 1818712 itr]:           50\n"
     ]
    },
    {
     "name": "stdout",
     "output_type": "stream",
     "text": [
      "[  7 sec, 1818712 itr]:           50\n"
     ]
    },
    {
     "name": "stdout",
     "output_type": "stream",
     "text": [
      "[  8 sec, 2143276 itr]:           50\n"
     ]
    },
    {
     "name": "stdout",
     "output_type": "stream",
     "text": [
      "[  9 sec, 2730139 itr]:           50\n"
     ]
    },
    {
     "name": "stdout",
     "output_type": "stream",
     "text": [
      "[ 10 sec, 3005664 itr]:           50\n",
      "[ optimality gap     ]:       30.00%\n"
     ]
    },
    {
     "name": "stdout",
     "output_type": "stream",
     "text": [
      "[ 11 sec, 3332225 itr]:           49\n"
     ]
    },
    {
     "name": "stdout",
     "output_type": "stream",
     "text": [
      "[ 12 sec, 3332225 itr]:           49\n"
     ]
    },
    {
     "name": "stdout",
     "output_type": "stream",
     "text": [
      "[ 13 sec, 3904301 itr]:           49\n"
     ]
    },
    {
     "name": "stdout",
     "output_type": "stream",
     "text": [
      "[ 14 sec, 3904301 itr]:           49\n"
     ]
    },
    {
     "name": "stdout",
     "output_type": "stream",
     "text": [
      "[ 15 sec, 4236037 itr]:           49\n"
     ]
    },
    {
     "name": "stdout",
     "output_type": "stream",
     "text": [
      "[ 16 sec, 4657701 itr]:           49\n"
     ]
    },
    {
     "name": "stdout",
     "output_type": "stream",
     "text": [
      "[ 17 sec, 4976428 itr]:           49\n"
     ]
    },
    {
     "name": "stdout",
     "output_type": "stream",
     "text": [
      "[ 18 sec, 5292397 itr]:           49\n"
     ]
    },
    {
     "name": "stdout",
     "output_type": "stream",
     "text": [
      "[ 19 sec, 5591352 itr]:           49\n"
     ]
    },
    {
     "name": "stdout",
     "output_type": "stream",
     "text": [
      "[ 20 sec, 5892613 itr]:           49\n",
      "[ optimality gap     ]:       28.57%\n"
     ]
    },
    {
     "name": "stdout",
     "output_type": "stream",
     "text": [
      "[ 21 sec, 6187819 itr]:           49\n"
     ]
    },
    {
     "name": "stdout",
     "output_type": "stream",
     "text": [
      "[ 22 sec, 6448285 itr]:           49\n"
     ]
    },
    {
     "name": "stdout",
     "output_type": "stream",
     "text": [
      "[ 23 sec, 6720035 itr]:           49\n"
     ]
    },
    {
     "name": "stdout",
     "output_type": "stream",
     "text": [
      "[ 24 sec, 6720035 itr]:           49\n"
     ]
    },
    {
     "name": "stdout",
     "output_type": "stream",
     "text": [
      "[ 25 sec, 7251611 itr]:           49\n"
     ]
    },
    {
     "name": "stdout",
     "output_type": "stream",
     "text": [
      "[ 26 sec, 7251611 itr]:           49\n"
     ]
    },
    {
     "name": "stdout",
     "output_type": "stream",
     "text": [
      "[ 27 sec, 7521653 itr]:           49\n"
     ]
    },
    {
     "name": "stdout",
     "output_type": "stream",
     "text": [
      "[ 28 sec, 8051093 itr]:           49\n"
     ]
    },
    {
     "name": "stdout",
     "output_type": "stream",
     "text": [
      "[ 29 sec, 8318725 itr]:           49\n"
     ]
    },
    {
     "name": "stdout",
     "output_type": "stream",
     "text": [
      "[ 30 sec, 8574737 itr]:           49\n",
      "[ optimality gap     ]:       28.57%\n"
     ]
    },
    {
     "name": "stdout",
     "output_type": "stream",
     "text": [
      "[ 31 sec, 8847509 itr]:           49\n"
     ]
    },
    {
     "name": "stdout",
     "output_type": "stream",
     "text": [
      "[ 32 sec, 9117016 itr]:           49\n"
     ]
    },
    {
     "name": "stdout",
     "output_type": "stream",
     "text": [
      "[ 33 sec, 9378251 itr]:           49\n"
     ]
    },
    {
     "name": "stdout",
     "output_type": "stream",
     "text": [
      "[ 34 sec, 9647707 itr]:           49\n"
     ]
    },
    {
     "name": "stdout",
     "output_type": "stream",
     "text": [
      "[ 35 sec, 9647707 itr]:           49\n"
     ]
    },
    {
     "name": "stdout",
     "output_type": "stream",
     "text": [
      "[ 36 sec, 9899167 itr]:           49\n"
     ]
    },
    {
     "name": "stdout",
     "output_type": "stream",
     "text": [
      "[ 37 sec, 10198724 itr]:           49\n"
     ]
    },
    {
     "name": "stdout",
     "output_type": "stream",
     "text": [
      "[ 38 sec, 10762133 itr]:           49\n"
     ]
    },
    {
     "name": "stdout",
     "output_type": "stream",
     "text": [
      "[ 39 sec, 11078806 itr]:           49\n"
     ]
    },
    {
     "name": "stdout",
     "output_type": "stream",
     "text": [
      "[ 40 sec, 11078806 itr]:           49\n",
      "[ optimality gap      ]:       28.57%\n"
     ]
    },
    {
     "name": "stdout",
     "output_type": "stream",
     "text": [
      "[ 41 sec, 11411138 itr]:           49\n"
     ]
    },
    {
     "name": "stdout",
     "output_type": "stream",
     "text": [
      "[ 42 sec, 12024242 itr]:           49\n"
     ]
    },
    {
     "name": "stdout",
     "output_type": "stream",
     "text": [
      "[ 43 sec, 12350682 itr]:           49\n"
     ]
    },
    {
     "name": "stdout",
     "output_type": "stream",
     "text": [
      "[ 44 sec, 12643965 itr]:           49\n"
     ]
    },
    {
     "name": "stdout",
     "output_type": "stream",
     "text": [
      "[ 45 sec, 12937546 itr]:           49\n"
     ]
    },
    {
     "name": "stdout",
     "output_type": "stream",
     "text": [
      "[ 46 sec, 13211690 itr]:           49\n"
     ]
    },
    {
     "name": "stdout",
     "output_type": "stream",
     "text": [
      "[ 47 sec, 13476942 itr]:           49\n"
     ]
    },
    {
     "name": "stdout",
     "output_type": "stream",
     "text": [
      "[ 48 sec, 13476942 itr]:           49\n"
     ]
    },
    {
     "name": "stdout",
     "output_type": "stream",
     "text": [
      "[ 49 sec, 13808790 itr]:           49\n"
     ]
    },
    {
     "name": "stdout",
     "output_type": "stream",
     "text": [
      "[ 50 sec, 14046784 itr]:           49\n",
      "[ optimality gap      ]:       28.57%\n"
     ]
    },
    {
     "name": "stdout",
     "output_type": "stream",
     "text": [
      "[ 51 sec, 14281388 itr]:           49\n"
     ]
    },
    {
     "name": "stdout",
     "output_type": "stream",
     "text": [
      "[ 52 sec, 14525973 itr]:           49\n"
     ]
    },
    {
     "name": "stdout",
     "output_type": "stream",
     "text": [
      "[ 53 sec, 14525973 itr]:           49\n"
     ]
    },
    {
     "name": "stdout",
     "output_type": "stream",
     "text": [
      "[ 54 sec, 14982875 itr]:           49\n"
     ]
    },
    {
     "name": "stdout",
     "output_type": "stream",
     "text": [
      "[ 55 sec, 14982875 itr]:           49\n"
     ]
    },
    {
     "name": "stdout",
     "output_type": "stream",
     "text": [
      "[ 56 sec, 15206644 itr]:           49\n"
     ]
    },
    {
     "name": "stdout",
     "output_type": "stream",
     "text": [
      "[ 57 sec, 15704103 itr]:           49\n"
     ]
    },
    {
     "name": "stdout",
     "output_type": "stream",
     "text": [
      "[ 58 sec, 15962868 itr]:           49\n"
     ]
    },
    {
     "name": "stdout",
     "output_type": "stream",
     "text": [
      "[ 59 sec, 16207341 itr]:           49\n"
     ]
    },
    {
     "name": "stdout",
     "output_type": "stream",
     "text": [
      "[ 60 sec, 16446596 itr]:           49\n",
      "[ optimality gap      ]:       26.53%\n"
     ]
    },
    {
     "name": "stdout",
     "output_type": "stream",
     "text": [
      "[ 61 sec, 16446596 itr]:           49\n"
     ]
    },
    {
     "name": "stdout",
     "output_type": "stream",
     "text": [
      "[ 62 sec, 16689459 itr]:           49\n"
     ]
    },
    {
     "name": "stdout",
     "output_type": "stream",
     "text": [
      "[ 63 sec, 16925361 itr]:           49\n"
     ]
    },
    {
     "name": "stdout",
     "output_type": "stream",
     "text": [
      "[ 64 sec, 17420615 itr]:           49\n"
     ]
    },
    {
     "name": "stdout",
     "output_type": "stream",
     "text": [
      "[ 65 sec, 17670567 itr]:           49\n"
     ]
    },
    {
     "name": "stdout",
     "output_type": "stream",
     "text": [
      "[ 66 sec, 17936660 itr]:           49\n"
     ]
    },
    {
     "name": "stdout",
     "output_type": "stream",
     "text": [
      "[ 67 sec, 17936660 itr]:           49\n"
     ]
    },
    {
     "name": "stdout",
     "output_type": "stream",
     "text": [
      "[ 68 sec, 18414308 itr]:           49\n"
     ]
    },
    {
     "name": "stdout",
     "output_type": "stream",
     "text": [
      "[ 69 sec, 18666304 itr]:           49\n"
     ]
    },
    {
     "name": "stdout",
     "output_type": "stream",
     "text": [
      "[ 70 sec, 18666304 itr]:           49\n",
      "[ optimality gap      ]:       26.53%\n"
     ]
    },
    {
     "name": "stdout",
     "output_type": "stream",
     "text": [
      "[ 71 sec, 19112479 itr]:           49\n"
     ]
    },
    {
     "name": "stdout",
     "output_type": "stream",
     "text": [
      "[ 72 sec, 19320885 itr]:           49\n"
     ]
    },
    {
     "name": "stdout",
     "output_type": "stream",
     "text": [
      "[ 73 sec, 19320885 itr]:           49\n"
     ]
    },
    {
     "name": "stdout",
     "output_type": "stream",
     "text": [
      "[ 74 sec, 19805337 itr]:           49\n"
     ]
    },
    {
     "name": "stdout",
     "output_type": "stream",
     "text": [
      "[ 75 sec, 19805337 itr]:           49\n"
     ]
    },
    {
     "name": "stdout",
     "output_type": "stream",
     "text": [
      "[ 76 sec, 20268400 itr]:           49\n"
     ]
    },
    {
     "name": "stdout",
     "output_type": "stream",
     "text": [
      "[ 77 sec, 20519784 itr]:           49\n"
     ]
    },
    {
     "name": "stdout",
     "output_type": "stream",
     "text": [
      "[ 78 sec, 20519784 itr]:           49\n"
     ]
    },
    {
     "name": "stdout",
     "output_type": "stream",
     "text": [
      "[ 79 sec, 21030901 itr]:           49\n"
     ]
    },
    {
     "name": "stdout",
     "output_type": "stream",
     "text": [
      "[ 80 sec, 21268587 itr]:           49\n",
      "[ optimality gap      ]:       26.53%\n"
     ]
    },
    {
     "name": "stdout",
     "output_type": "stream",
     "text": [
      "[ 81 sec, 21346583 itr]:           47\n"
     ]
    },
    {
     "name": "stdout",
     "output_type": "stream",
     "text": [
      "[ 82 sec, 21346583 itr]:           47\n"
     ]
    },
    {
     "name": "stdout",
     "output_type": "stream",
     "text": [
      "[ 83 sec, 21800304 itr]:           47\n"
     ]
    },
    {
     "name": "stdout",
     "output_type": "stream",
     "text": [
      "[ 84 sec, 22029349 itr]:           47\n"
     ]
    },
    {
     "name": "stdout",
     "output_type": "stream",
     "text": [
      "[ 85 sec, 22029349 itr]:           47\n"
     ]
    },
    {
     "name": "stdout",
     "output_type": "stream",
     "text": [
      "[ 86 sec, 22520320 itr]:           47\n"
     ]
    },
    {
     "name": "stdout",
     "output_type": "stream",
     "text": [
      "[ 87 sec, 22775387 itr]:           47\n"
     ]
    },
    {
     "name": "stdout",
     "output_type": "stream",
     "text": [
      "[ 88 sec, 22775387 itr]:           47\n"
     ]
    },
    {
     "name": "stdout",
     "output_type": "stream",
     "text": [
      "[ 89 sec, 23001119 itr]:           47\n"
     ]
    },
    {
     "name": "stdout",
     "output_type": "stream",
     "text": [
      "[ 90 sec, 23234854 itr]:           47\n",
      "[ optimality gap      ]:       23.40%\n"
     ]
    },
    {
     "name": "stdout",
     "output_type": "stream",
     "text": [
      "[ 91 sec, 23739790 itr]:           47\n"
     ]
    },
    {
     "name": "stdout",
     "output_type": "stream",
     "text": [
      "[ 92 sec, 23988513 itr]:           47\n"
     ]
    },
    {
     "name": "stdout",
     "output_type": "stream",
     "text": [
      "[ 93 sec, 23988513 itr]:           47\n"
     ]
    },
    {
     "name": "stdout",
     "output_type": "stream",
     "text": [
      "[ 94 sec, 24254926 itr]:           47\n"
     ]
    },
    {
     "name": "stdout",
     "output_type": "stream",
     "text": [
      "[ 95 sec, 24503156 itr]:           47\n"
     ]
    },
    {
     "name": "stdout",
     "output_type": "stream",
     "text": [
      "[ 96 sec, 24995182 itr]:           47\n"
     ]
    },
    {
     "name": "stdout",
     "output_type": "stream",
     "text": [
      "[ 97 sec, 24995182 itr]:           47\n"
     ]
    },
    {
     "name": "stdout",
     "output_type": "stream",
     "text": [
      "[ 98 sec, 25239403 itr]:           47\n"
     ]
    },
    {
     "name": "stdout",
     "output_type": "stream",
     "text": [
      "[ 99 sec, 25726498 itr]:           47\n"
     ]
    },
    {
     "name": "stdout",
     "output_type": "stream",
     "text": [
      "[100 sec, 25976749 itr]:           47\n",
      "[ optimality gap      ]:       23.40%\n"
     ]
    },
    {
     "name": "stdout",
     "output_type": "stream",
     "text": [
      "[101 sec, 25976749 itr]:           47\n"
     ]
    },
    {
     "name": "stdout",
     "output_type": "stream",
     "text": [
      "[102 sec, 26446032 itr]:           47\n"
     ]
    },
    {
     "name": "stdout",
     "output_type": "stream",
     "text": [
      "[103 sec, 26446032 itr]:           47\n"
     ]
    },
    {
     "name": "stdout",
     "output_type": "stream",
     "text": [
      "[104 sec, 26700913 itr]:           47\n"
     ]
    },
    {
     "name": "stdout",
     "output_type": "stream",
     "text": [
      "[105 sec, 27206275 itr]:           47\n"
     ]
    },
    {
     "name": "stdout",
     "output_type": "stream",
     "text": [
      "[106 sec, 27206275 itr]:           47\n"
     ]
    },
    {
     "name": "stdout",
     "output_type": "stream",
     "text": [
      "[107 sec, 27420031 itr]:           47\n"
     ]
    },
    {
     "name": "stdout",
     "output_type": "stream",
     "text": [
      "[108 sec, 27910175 itr]:           47\n"
     ]
    },
    {
     "name": "stdout",
     "output_type": "stream",
     "text": [
      "[109 sec, 28134988 itr]:           47\n"
     ]
    },
    {
     "name": "stdout",
     "output_type": "stream",
     "text": [
      "[110 sec, 28391635 itr]:           47\n",
      "[ optimality gap      ]:       23.40%\n"
     ]
    },
    {
     "name": "stdout",
     "output_type": "stream",
     "text": [
      "[111 sec, 28652668 itr]:           47\n"
     ]
    },
    {
     "name": "stdout",
     "output_type": "stream",
     "text": [
      "[112 sec, 28652668 itr]:           47\n"
     ]
    },
    {
     "name": "stdout",
     "output_type": "stream",
     "text": [
      "[113 sec, 28891551 itr]:           47\n"
     ]
    },
    {
     "name": "stdout",
     "output_type": "stream",
     "text": [
      "[114 sec, 29195468 itr]:           47\n"
     ]
    },
    {
     "name": "stdout",
     "output_type": "stream",
     "text": [
      "[115 sec, 29439204 itr]:           47\n"
     ]
    },
    {
     "name": "stdout",
     "output_type": "stream",
     "text": [
      "[116 sec, 29674569 itr]:           47\n"
     ]
    },
    {
     "name": "stdout",
     "output_type": "stream",
     "text": [
      "[117 sec, 29674569 itr]:           47\n"
     ]
    },
    {
     "name": "stdout",
     "output_type": "stream",
     "text": [
      "[118 sec, 30156892 itr]:           47\n"
     ]
    },
    {
     "name": "stdout",
     "output_type": "stream",
     "text": [
      "[119 sec, 30413840 itr]:           47\n"
     ]
    },
    {
     "name": "stdout",
     "output_type": "stream",
     "text": [
      "[120 sec, 30657339 itr]:           47\n",
      "[ optimality gap      ]:       21.28%\n"
     ]
    },
    {
     "name": "stdout",
     "output_type": "stream",
     "text": [
      "[120 sec, 30657339 itr]:           47\n",
      "[ optimality gap      ]:       21.28%\n",
      "\n",
      "30657339 iterations performed in 120 seconds\n",
      "\n",
      "Feasible solution: \n",
      "  obj    =           47\n",
      "  gap    =       21.28%\n",
      "  bounds =           37\n"
     ]
    }
   ],
   "source": [
    "_model = Model(instance08)\n",
    "_model.solve(time_limit=120, log=True)\n",
    "_model.to_solution()"
   ]
  },
  {
   "cell_type": "code",
   "execution_count": null,
   "id": "aLJB",
   "metadata": {},
   "outputs": [
    {
     "name": "stdout",
     "output_type": "stream",
     "text": [
      "\n",
      "Model:  expressions = 26773, decisions = 3500, constraints = 4950, objectives = 1\n",
      "Param:  time limit = 120 sec, no iteration limit\n",
      "\n",
      "[objective direction ]:     minimize\n",
      "\n",
      "[  0 sec,       0 itr]: No feasible solution found (infeas = 3831)\n"
     ]
    },
    {
     "name": "stdout",
     "output_type": "stream",
     "text": [
      "[  1 sec,   18187 itr]:          690\n"
     ]
    },
    {
     "name": "stdout",
     "output_type": "stream",
     "text": [
      "[  2 sec,   41130 itr]:          654\n"
     ]
    },
    {
     "name": "stdout",
     "output_type": "stream",
     "text": [
      "[  3 sec,   64432 itr]:          641\n"
     ]
    },
    {
     "name": "stdout",
     "output_type": "stream",
     "text": [
      "[  4 sec,   87468 itr]:          634\n"
     ]
    },
    {
     "name": "stdout",
     "output_type": "stream",
     "text": [
      "[  5 sec,  110749 itr]:          632\n"
     ]
    },
    {
     "name": "stdout",
     "output_type": "stream",
     "text": [
      "[  6 sec,  132723 itr]:          628\n"
     ]
    },
    {
     "name": "stdout",
     "output_type": "stream",
     "text": [
      "[  7 sec,  157577 itr]:          625\n"
     ]
    },
    {
     "name": "stdout",
     "output_type": "stream",
     "text": [
      "[  8 sec,  179647 itr]:          620\n"
     ]
    },
    {
     "name": "stdout",
     "output_type": "stream",
     "text": [
      "[  9 sec,  202437 itr]:          619\n"
     ]
    },
    {
     "name": "stdout",
     "output_type": "stream",
     "text": [
      "[ 10 sec,  224470 itr]:          617\n",
      "[ optimality gap     ]:      100.00%\n"
     ]
    },
    {
     "name": "stdout",
     "output_type": "stream",
     "text": [
      "[ 11 sec,  248308 itr]:          614\n"
     ]
    },
    {
     "name": "stdout",
     "output_type": "stream",
     "text": [
      "[ 12 sec,  271146 itr]:          612\n"
     ]
    },
    {
     "name": "stdout",
     "output_type": "stream",
     "text": [
      "[ 13 sec,  292777 itr]:          611\n"
     ]
    },
    {
     "name": "stdout",
     "output_type": "stream",
     "text": [
      "[ 14 sec,  312507 itr]:          605\n"
     ]
    },
    {
     "name": "stdout",
     "output_type": "stream",
     "text": [
      "[ 15 sec,  331194 itr]:          602\n"
     ]
    },
    {
     "name": "stdout",
     "output_type": "stream",
     "text": [
      "[ 16 sec,  350925 itr]:          599\n"
     ]
    },
    {
     "name": "stdout",
     "output_type": "stream",
     "text": [
      "[ 17 sec,  370937 itr]:          597\n"
     ]
    },
    {
     "name": "stdout",
     "output_type": "stream",
     "text": [
      "[ 18 sec,  381705 itr]:          597\n"
     ]
    },
    {
     "name": "stdout",
     "output_type": "stream",
     "text": [
      "[ 19 sec,  407767 itr]:          597\n"
     ]
    },
    {
     "name": "stdout",
     "output_type": "stream",
     "text": [
      "[ 20 sec,  428269 itr]:          594\n",
      "[ optimality gap     ]:      100.00%\n"
     ]
    },
    {
     "name": "stdout",
     "output_type": "stream",
     "text": [
      "[ 21 sec,  448965 itr]:          594\n"
     ]
    },
    {
     "name": "stdout",
     "output_type": "stream",
     "text": [
      "[ 22 sec,  473835 itr]:          593\n"
     ]
    },
    {
     "name": "stdout",
     "output_type": "stream",
     "text": [
      "[ 23 sec,  497694 itr]:          592\n"
     ]
    },
    {
     "name": "stdout",
     "output_type": "stream",
     "text": [
      "[ 24 sec,  517961 itr]:          589\n"
     ]
    },
    {
     "name": "stdout",
     "output_type": "stream",
     "text": [
      "[ 25 sec,  542881 itr]:          586\n"
     ]
    },
    {
     "name": "stdout",
     "output_type": "stream",
     "text": [
      "[ 26 sec,  563378 itr]:          586\n"
     ]
    },
    {
     "name": "stdout",
     "output_type": "stream",
     "text": [
      "[ 27 sec,  587273 itr]:          586\n"
     ]
    },
    {
     "name": "stdout",
     "output_type": "stream",
     "text": [
      "[ 28 sec,  607899 itr]:          586\n"
     ]
    },
    {
     "name": "stdout",
     "output_type": "stream",
     "text": [
      "[ 29 sec,  633824 itr]:          585\n"
     ]
    },
    {
     "name": "stdout",
     "output_type": "stream",
     "text": [
      "[ 30 sec,  658637 itr]:          582\n",
      "[ optimality gap     ]:      100.00%\n"
     ]
    },
    {
     "name": "stdout",
     "output_type": "stream",
     "text": [
      "[ 31 sec,  683106 itr]:          581\n"
     ]
    },
    {
     "name": "stdout",
     "output_type": "stream",
     "text": [
      "[ 32 sec,  705813 itr]:          581\n"
     ]
    },
    {
     "name": "stdout",
     "output_type": "stream",
     "text": [
      "[ 33 sec,  727709 itr]:          581\n"
     ]
    },
    {
     "name": "stdout",
     "output_type": "stream",
     "text": [
      "[ 34 sec,  750625 itr]:          579\n"
     ]
    },
    {
     "name": "stdout",
     "output_type": "stream",
     "text": [
      "[ 35 sec,  774981 itr]:          579\n"
     ]
    },
    {
     "name": "stdout",
     "output_type": "stream",
     "text": [
      "[ 36 sec,  797638 itr]:          578\n"
     ]
    },
    {
     "name": "stdout",
     "output_type": "stream",
     "text": [
      "[ 37 sec,  822357 itr]:          578\n"
     ]
    },
    {
     "name": "stdout",
     "output_type": "stream",
     "text": [
      "[ 38 sec,  845907 itr]:          578\n"
     ]
    },
    {
     "name": "stdout",
     "output_type": "stream",
     "text": [
      "[ 39 sec,  868396 itr]:          576\n"
     ]
    },
    {
     "name": "stdout",
     "output_type": "stream",
     "text": [
      "[ 40 sec,  891342 itr]:          576\n",
      "[ optimality gap     ]:      100.00%\n"
     ]
    },
    {
     "name": "stdout",
     "output_type": "stream",
     "text": [
      "[ 41 sec,  916611 itr]:          576\n"
     ]
    },
    {
     "name": "stdout",
     "output_type": "stream",
     "text": [
      "[ 42 sec,  939987 itr]:          575\n"
     ]
    },
    {
     "name": "stdout",
     "output_type": "stream",
     "text": [
      "[ 43 sec,  965396 itr]:          575\n"
     ]
    },
    {
     "name": "stdout",
     "output_type": "stream",
     "text": [
      "[ 44 sec,  988592 itr]:          574\n"
     ]
    },
    {
     "name": "stdout",
     "output_type": "stream",
     "text": [
      "[ 45 sec, 1012268 itr]:          574\n"
     ]
    },
    {
     "name": "stdout",
     "output_type": "stream",
     "text": [
      "[ 46 sec, 1035275 itr]:          574\n"
     ]
    },
    {
     "name": "stdout",
     "output_type": "stream",
     "text": [
      "[ 47 sec, 1059333 itr]:          574\n"
     ]
    },
    {
     "name": "stdout",
     "output_type": "stream",
     "text": [
      "[ 48 sec, 1082762 itr]:          573\n"
     ]
    },
    {
     "name": "stdout",
     "output_type": "stream",
     "text": [
      "[ 49 sec, 1104423 itr]:          573\n"
     ]
    },
    {
     "name": "stdout",
     "output_type": "stream",
     "text": [
      "[ 50 sec, 1121247 itr]:          572\n",
      "[ optimality gap     ]:      100.00%\n"
     ]
    },
    {
     "name": "stdout",
     "output_type": "stream",
     "text": [
      "[ 51 sec, 1132148 itr]:          570\n"
     ]
    },
    {
     "name": "stdout",
     "output_type": "stream",
     "text": [
      "[ 52 sec, 1156059 itr]:          570\n"
     ]
    },
    {
     "name": "stdout",
     "output_type": "stream",
     "text": [
      "[ 53 sec, 1178102 itr]:          570\n"
     ]
    },
    {
     "name": "stdout",
     "output_type": "stream",
     "text": [
      "[ 54 sec, 1201065 itr]:          570\n"
     ]
    },
    {
     "name": "stdout",
     "output_type": "stream",
     "text": [
      "[ 55 sec, 1228031 itr]:          570\n"
     ]
    },
    {
     "name": "stdout",
     "output_type": "stream",
     "text": [
      "[ 56 sec, 1250948 itr]:          569\n"
     ]
    },
    {
     "name": "stdout",
     "output_type": "stream",
     "text": [
      "[ 57 sec, 1275434 itr]:          569\n"
     ]
    },
    {
     "name": "stdout",
     "output_type": "stream",
     "text": [
      "[ 58 sec, 1299831 itr]:          569\n"
     ]
    },
    {
     "name": "stdout",
     "output_type": "stream",
     "text": [
      "[ 59 sec, 1325881 itr]:          569\n"
     ]
    },
    {
     "name": "stdout",
     "output_type": "stream",
     "text": [
      "[ 60 sec, 1351670 itr]:          569\n",
      "[ optimality gap     ]:      100.00%\n"
     ]
    },
    {
     "name": "stdout",
     "output_type": "stream",
     "text": [
      "[ 61 sec, 1380272 itr]:          569\n"
     ]
    },
    {
     "name": "stdout",
     "output_type": "stream",
     "text": [
      "[ 62 sec, 1408537 itr]:          569\n"
     ]
    },
    {
     "name": "stdout",
     "output_type": "stream",
     "text": [
      "[ 63 sec, 1435532 itr]:          569\n"
     ]
    },
    {
     "name": "stdout",
     "output_type": "stream",
     "text": [
      "[ 64 sec, 1462976 itr]:          569\n"
     ]
    },
    {
     "name": "stdout",
     "output_type": "stream",
     "text": [
      "[ 65 sec, 1487178 itr]:          565\n"
     ]
    },
    {
     "name": "stdout",
     "output_type": "stream",
     "text": [
      "[ 66 sec, 1513332 itr]:          563\n"
     ]
    },
    {
     "name": "stdout",
     "output_type": "stream",
     "text": [
      "[ 67 sec, 1538888 itr]:          563\n"
     ]
    },
    {
     "name": "stdout",
     "output_type": "stream",
     "text": [
      "[ 68 sec, 1563254 itr]:          563\n"
     ]
    },
    {
     "name": "stdout",
     "output_type": "stream",
     "text": [
      "[ 69 sec, 1587176 itr]:          563\n"
     ]
    },
    {
     "name": "stdout",
     "output_type": "stream",
     "text": [
      "[ 70 sec, 1612118 itr]:          563\n",
      "[ optimality gap     ]:      100.00%\n"
     ]
    },
    {
     "name": "stdout",
     "output_type": "stream",
     "text": [
      "[ 71 sec, 1632207 itr]:          562\n"
     ]
    },
    {
     "name": "stdout",
     "output_type": "stream",
     "text": [
      "[ 72 sec, 1652135 itr]:          562\n"
     ]
    },
    {
     "name": "stdout",
     "output_type": "stream",
     "text": [
      "[ 73 sec, 1672996 itr]:          562\n"
     ]
    },
    {
     "name": "stdout",
     "output_type": "stream",
     "text": [
      "[ 74 sec, 1691867 itr]:          562\n"
     ]
    },
    {
     "name": "stdout",
     "output_type": "stream",
     "text": [
      "[ 75 sec, 1713335 itr]:          561\n"
     ]
    },
    {
     "name": "stdout",
     "output_type": "stream",
     "text": [
      "[ 76 sec, 1733890 itr]:          560\n"
     ]
    },
    {
     "name": "stdout",
     "output_type": "stream",
     "text": [
      "[ 77 sec, 1754003 itr]:          560\n"
     ]
    },
    {
     "name": "stdout",
     "output_type": "stream",
     "text": [
      "[ 78 sec, 1775200 itr]:          559\n"
     ]
    },
    {
     "name": "stdout",
     "output_type": "stream",
     "text": [
      "[ 79 sec, 1797391 itr]:          559\n"
     ]
    },
    {
     "name": "stdout",
     "output_type": "stream",
     "text": [
      "[ 80 sec, 1818118 itr]:          559\n",
      "[ optimality gap     ]:      100.00%\n"
     ]
    },
    {
     "name": "stdout",
     "output_type": "stream",
     "text": [
      "[ 81 sec, 1838377 itr]:          559\n"
     ]
    },
    {
     "name": "stdout",
     "output_type": "stream",
     "text": [
      "[ 82 sec, 1860068 itr]:          559\n"
     ]
    },
    {
     "name": "stdout",
     "output_type": "stream",
     "text": [
      "[ 83 sec, 1876838 itr]:          559\n"
     ]
    },
    {
     "name": "stdout",
     "output_type": "stream",
     "text": [
      "[ 84 sec, 1886089 itr]:          559\n"
     ]
    },
    {
     "name": "stdout",
     "output_type": "stream",
     "text": [
      "[ 85 sec, 1906405 itr]:          559\n"
     ]
    },
    {
     "name": "stdout",
     "output_type": "stream",
     "text": [
      "[ 86 sec, 1924569 itr]:          558\n"
     ]
    },
    {
     "name": "stdout",
     "output_type": "stream",
     "text": [
      "[ 87 sec, 1943730 itr]:          558\n"
     ]
    },
    {
     "name": "stdout",
     "output_type": "stream",
     "text": [
      "[ 88 sec, 1964424 itr]:          558\n"
     ]
    },
    {
     "name": "stdout",
     "output_type": "stream",
     "text": [
      "[ 89 sec, 1984773 itr]:          558\n"
     ]
    },
    {
     "name": "stdout",
     "output_type": "stream",
     "text": [
      "[ 90 sec, 2004153 itr]:          557\n",
      "[ optimality gap     ]:      100.00%\n"
     ]
    },
    {
     "name": "stdout",
     "output_type": "stream",
     "text": [
      "[ 91 sec, 2026352 itr]:          557\n"
     ]
    },
    {
     "name": "stdout",
     "output_type": "stream",
     "text": [
      "[ 92 sec, 2044311 itr]:          557\n"
     ]
    },
    {
     "name": "stdout",
     "output_type": "stream",
     "text": [
      "[ 93 sec, 2066584 itr]:          557\n"
     ]
    },
    {
     "name": "stdout",
     "output_type": "stream",
     "text": [
      "[ 94 sec, 2085947 itr]:          556\n"
     ]
    },
    {
     "name": "stdout",
     "output_type": "stream",
     "text": [
      "[ 95 sec, 2113879 itr]:          555\n"
     ]
    },
    {
     "name": "stdout",
     "output_type": "stream",
     "text": [
      "[ 96 sec, 2142011 itr]:          555\n"
     ]
    },
    {
     "name": "stdout",
     "output_type": "stream",
     "text": [
      "[ 97 sec, 2167291 itr]:          554\n"
     ]
    },
    {
     "name": "stdout",
     "output_type": "stream",
     "text": [
      "[ 98 sec, 2193908 itr]:          554\n"
     ]
    },
    {
     "name": "stdout",
     "output_type": "stream",
     "text": [
      "[ 99 sec, 2219485 itr]:          554\n"
     ]
    },
    {
     "name": "stdout",
     "output_type": "stream",
     "text": [
      "[100 sec, 2242370 itr]:          554\n",
      "[ optimality gap     ]:      100.00%\n"
     ]
    },
    {
     "name": "stdout",
     "output_type": "stream",
     "text": [
      "[101 sec, 2258941 itr]:          554\n"
     ]
    },
    {
     "name": "stdout",
     "output_type": "stream",
     "text": [
      "[102 sec, 2274238 itr]:          554\n"
     ]
    },
    {
     "name": "stdout",
     "output_type": "stream",
     "text": [
      "[103 sec, 2290370 itr]:          554\n"
     ]
    },
    {
     "name": "stdout",
     "output_type": "stream",
     "text": [
      "[104 sec, 2308998 itr]:          554\n"
     ]
    },
    {
     "name": "stdout",
     "output_type": "stream",
     "text": [
      "[105 sec, 2330311 itr]:          554\n"
     ]
    },
    {
     "name": "stdout",
     "output_type": "stream",
     "text": [
      "[106 sec, 2352967 itr]:          554\n"
     ]
    },
    {
     "name": "stdout",
     "output_type": "stream",
     "text": [
      "[107 sec, 2376195 itr]:          552\n"
     ]
    },
    {
     "name": "stdout",
     "output_type": "stream",
     "text": [
      "[108 sec, 2400184 itr]:          550\n"
     ]
    },
    {
     "name": "stdout",
     "output_type": "stream",
     "text": [
      "[109 sec, 2423215 itr]:          549\n"
     ]
    },
    {
     "name": "stdout",
     "output_type": "stream",
     "text": [
      "[110 sec, 2449268 itr]:          548\n",
      "[ optimality gap     ]:      100.00%\n"
     ]
    },
    {
     "name": "stdout",
     "output_type": "stream",
     "text": [
      "[111 sec, 2473453 itr]:          547\n"
     ]
    },
    {
     "name": "stdout",
     "output_type": "stream",
     "text": [
      "[112 sec, 2497912 itr]:          547\n"
     ]
    },
    {
     "name": "stdout",
     "output_type": "stream",
     "text": [
      "[113 sec, 2520555 itr]:          546\n"
     ]
    },
    {
     "name": "stdout",
     "output_type": "stream",
     "text": [
      "[114 sec, 2540388 itr]:          546\n"
     ]
    },
    {
     "name": "stdout",
     "output_type": "stream",
     "text": [
      "[115 sec, 2560117 itr]:          546\n"
     ]
    },
    {
     "name": "stdout",
     "output_type": "stream",
     "text": [
      "[116 sec, 2576212 itr]:          545\n"
     ]
    },
    {
     "name": "stdout",
     "output_type": "stream",
     "text": [
      "[117 sec, 2585276 itr]:          545\n"
     ]
    },
    {
     "name": "stdout",
     "output_type": "stream",
     "text": [
      "[118 sec, 2607059 itr]:          545\n"
     ]
    },
    {
     "name": "stdout",
     "output_type": "stream",
     "text": [
      "[119 sec, 2630630 itr]:          544\n"
     ]
    },
    {
     "name": "stdout",
     "output_type": "stream",
     "text": [
      "[120 sec, 2652753 itr]:          544\n",
      "[ optimality gap     ]:      100.00%\n",
      "[120 sec, 2652753 itr]:          544\n",
      "[ optimality gap     ]:      100.00%\n",
      "\n",
      "2652753 iterations performed in 120 seconds\n",
      "\n",
      "Feasible solution: \n",
      "  obj    =          544\n",
      "  gap    =      100.00%\n",
      "  bounds =            0\n"
     ]
    }
   ],
   "source": [
    "_model = Model(instance09)\n",
    "_model.solve(time_limit=120, log=True)\n",
    "_model.to_solution()"
   ]
  },
  {
   "cell_type": "markdown",
   "id": "nHfw",
   "metadata": {
    "marimo": {
     "config": {
      "hide_code": true
     }
    }
   },
   "source": [
    "巨大なインスタンスで試してみよう"
   ]
  },
  {
   "cell_type": "code",
   "execution_count": null,
   "id": "xXTn",
   "metadata": {},
   "outputs": [],
   "source": [
    "instance_large1 = scsp.example.load(\"nucleotide_n100k100.txt\")\n",
    "instance_large2 = scsp.example.load(\"protein_n100k100.txt\")"
   ]
  },
  {
   "cell_type": "code",
   "execution_count": null,
   "id": "AjVT",
   "metadata": {},
   "outputs": [
    {
     "name": "stdout",
     "output_type": "stream",
     "text": [
      "\n",
      "Model:  expressions = 100709, decisions = 10600, constraints = 19900, objectives = 1\n",
      "Param:  time limit = 120 sec, no iteration limit\n",
      "\n",
      "[objective direction ]:     minimize\n",
      "\n",
      "[  0 sec,       0 itr]: No feasible solution found (infeas = 16267)\n"
     ]
    },
    {
     "name": "stdout",
     "output_type": "stream",
     "text": [
      "[  1 sec,     474 itr]: No feasible solution found (infeas = 7857)\n"
     ]
    },
    {
     "name": "stdout",
     "output_type": "stream",
     "text": [
      "[  2 sec,    6973 itr]:          421\n",
      "[ optimality gap     ]:      100.00%\n"
     ]
    },
    {
     "name": "stdout",
     "output_type": "stream",
     "text": [
      "[  3 sec,   16319 itr]:          391\n"
     ]
    },
    {
     "name": "stdout",
     "output_type": "stream",
     "text": [
      "[  4 sec,   26746 itr]:          390\n"
     ]
    },
    {
     "name": "stdout",
     "output_type": "stream",
     "text": [
      "[  5 sec,   37501 itr]:          390\n"
     ]
    },
    {
     "name": "stdout",
     "output_type": "stream",
     "text": [
      "[  6 sec,   51030 itr]:          388\n"
     ]
    },
    {
     "name": "stdout",
     "output_type": "stream",
     "text": [
      "[  7 sec,   61780 itr]:          387\n"
     ]
    },
    {
     "name": "stdout",
     "output_type": "stream",
     "text": [
      "[  8 sec,   65406 itr]:          387\n"
     ]
    },
    {
     "name": "stdout",
     "output_type": "stream",
     "text": [
      "[  9 sec,   78331 itr]:          387\n"
     ]
    },
    {
     "name": "stdout",
     "output_type": "stream",
     "text": [
      "[ 10 sec,   92537 itr]:          386\n"
     ]
    },
    {
     "name": "stdout",
     "output_type": "stream",
     "text": [
      "[ 11 sec,  106384 itr]:          386\n"
     ]
    },
    {
     "name": "stdout",
     "output_type": "stream",
     "text": [
      "[ 12 sec,  120899 itr]:          386\n",
      "[ optimality gap     ]:      100.00%\n"
     ]
    },
    {
     "name": "stdout",
     "output_type": "stream",
     "text": [
      "[ 13 sec,  135400 itr]:          385\n"
     ]
    },
    {
     "name": "stdout",
     "output_type": "stream",
     "text": [
      "[ 14 sec,  150595 itr]:          385\n"
     ]
    },
    {
     "name": "stdout",
     "output_type": "stream",
     "text": [
      "[ 15 sec,  166284 itr]:          384\n"
     ]
    },
    {
     "name": "stdout",
     "output_type": "stream",
     "text": [
      "[ 16 sec,  182047 itr]:          384\n"
     ]
    },
    {
     "name": "stdout",
     "output_type": "stream",
     "text": [
      "[ 17 sec,  200216 itr]:          384\n"
     ]
    },
    {
     "name": "stdout",
     "output_type": "stream",
     "text": [
      "[ 18 sec,  217677 itr]:          384\n"
     ]
    },
    {
     "name": "stdout",
     "output_type": "stream",
     "text": [
      "[ 19 sec,  227767 itr]:          384\n"
     ]
    },
    {
     "name": "stdout",
     "output_type": "stream",
     "text": [
      "[ 20 sec,  237397 itr]:          383\n"
     ]
    },
    {
     "name": "stdout",
     "output_type": "stream",
     "text": [
      "[ 21 sec,  253099 itr]:          381\n"
     ]
    },
    {
     "name": "stdout",
     "output_type": "stream",
     "text": [
      "[ 22 sec,  269216 itr]:          381\n",
      "[ optimality gap     ]:      100.00%\n"
     ]
    },
    {
     "name": "stdout",
     "output_type": "stream",
     "text": [
      "[ 23 sec,  285801 itr]:          380\n"
     ]
    },
    {
     "name": "stdout",
     "output_type": "stream",
     "text": [
      "[ 24 sec,  302382 itr]:          380\n"
     ]
    },
    {
     "name": "stdout",
     "output_type": "stream",
     "text": [
      "[ 25 sec,  317948 itr]:          380\n"
     ]
    },
    {
     "name": "stdout",
     "output_type": "stream",
     "text": [
      "[ 26 sec,  333869 itr]:          379\n"
     ]
    },
    {
     "name": "stdout",
     "output_type": "stream",
     "text": [
      "[ 27 sec,  348337 itr]:          379\n"
     ]
    },
    {
     "name": "stdout",
     "output_type": "stream",
     "text": [
      "[ 28 sec,  365353 itr]:          379\n"
     ]
    },
    {
     "name": "stdout",
     "output_type": "stream",
     "text": [
      "[ 29 sec,  382636 itr]:          379\n"
     ]
    },
    {
     "name": "stdout",
     "output_type": "stream",
     "text": [
      "[ 30 sec,  397975 itr]:          379\n"
     ]
    },
    {
     "name": "stdout",
     "output_type": "stream",
     "text": [
      "[ 31 sec,  413643 itr]:          379\n"
     ]
    },
    {
     "name": "stdout",
     "output_type": "stream",
     "text": [
      "[ 32 sec,  427537 itr]:          379\n",
      "[ optimality gap     ]:      100.00%\n"
     ]
    },
    {
     "name": "stdout",
     "output_type": "stream",
     "text": [
      "[ 33 sec,  437015 itr]:          379\n"
     ]
    },
    {
     "name": "stdout",
     "output_type": "stream",
     "text": [
      "[ 34 sec,  446106 itr]:          379\n"
     ]
    },
    {
     "name": "stdout",
     "output_type": "stream",
     "text": [
      "[ 35 sec,  455712 itr]:          379\n"
     ]
    },
    {
     "name": "stdout",
     "output_type": "stream",
     "text": [
      "[ 36 sec,  464941 itr]:          379\n"
     ]
    },
    {
     "name": "stdout",
     "output_type": "stream",
     "text": [
      "[ 37 sec,  473645 itr]:          379\n"
     ]
    },
    {
     "name": "stdout",
     "output_type": "stream",
     "text": [
      "[ 38 sec,  483928 itr]:          379\n"
     ]
    },
    {
     "name": "stdout",
     "output_type": "stream",
     "text": [
      "[ 39 sec,  493019 itr]:          379\n"
     ]
    },
    {
     "name": "stdout",
     "output_type": "stream",
     "text": [
      "[ 40 sec,  502336 itr]:          379\n"
     ]
    },
    {
     "name": "stdout",
     "output_type": "stream",
     "text": [
      "[ 41 sec,  504782 itr]:          379\n"
     ]
    },
    {
     "name": "stdout",
     "output_type": "stream",
     "text": [
      "[ 42 sec,  514532 itr]:          379\n",
      "[ optimality gap     ]:      100.00%\n"
     ]
    },
    {
     "name": "stdout",
     "output_type": "stream",
     "text": [
      "[ 43 sec,  523618 itr]:          378\n"
     ]
    },
    {
     "name": "stdout",
     "output_type": "stream",
     "text": [
      "[ 44 sec,  533580 itr]:          378\n"
     ]
    },
    {
     "name": "stdout",
     "output_type": "stream",
     "text": [
      "[ 45 sec,  542162 itr]:          378\n"
     ]
    },
    {
     "name": "stdout",
     "output_type": "stream",
     "text": [
      "[ 46 sec,  550206 itr]:          378\n"
     ]
    },
    {
     "name": "stdout",
     "output_type": "stream",
     "text": [
      "[ 47 sec,  557497 itr]:          378\n"
     ]
    },
    {
     "name": "stdout",
     "output_type": "stream",
     "text": [
      "[ 48 sec,  566077 itr]:          378\n"
     ]
    },
    {
     "name": "stdout",
     "output_type": "stream",
     "text": [
      "[ 49 sec,  574113 itr]:          378\n"
     ]
    },
    {
     "name": "stdout",
     "output_type": "stream",
     "text": [
      "[ 50 sec,  583005 itr]:          378\n"
     ]
    },
    {
     "name": "stdout",
     "output_type": "stream",
     "text": [
      "[ 51 sec,  592198 itr]:          378\n"
     ]
    },
    {
     "name": "stdout",
     "output_type": "stream",
     "text": [
      "[ 52 sec,  602160 itr]:          377\n",
      "[ optimality gap     ]:      100.00%\n"
     ]
    },
    {
     "name": "stdout",
     "output_type": "stream",
     "text": [
      "[ 53 sec,  611386 itr]:          377\n"
     ]
    },
    {
     "name": "stdout",
     "output_type": "stream",
     "text": [
      "[ 54 sec,  620652 itr]:          377\n"
     ]
    },
    {
     "name": "stdout",
     "output_type": "stream",
     "text": [
      "[ 55 sec,  629308 itr]:          377\n"
     ]
    },
    {
     "name": "stdout",
     "output_type": "stream",
     "text": [
      "[ 56 sec,  638110 itr]:          377\n"
     ]
    },
    {
     "name": "stdout",
     "output_type": "stream",
     "text": [
      "[ 57 sec,  647257 itr]:          377\n"
     ]
    },
    {
     "name": "stdout",
     "output_type": "stream",
     "text": [
      "[ 58 sec,  656156 itr]:          377\n"
     ]
    },
    {
     "name": "stdout",
     "output_type": "stream",
     "text": [
      "[ 59 sec,  664427 itr]:          377\n"
     ]
    },
    {
     "name": "stdout",
     "output_type": "stream",
     "text": [
      "[ 60 sec,  673238 itr]:          377\n"
     ]
    },
    {
     "name": "stdout",
     "output_type": "stream",
     "text": [
      "[ 61 sec,  680526 itr]:          377\n"
     ]
    },
    {
     "name": "stdout",
     "output_type": "stream",
     "text": [
      "[ 62 sec,  689131 itr]:          376\n",
      "[ optimality gap     ]:      100.00%\n"
     ]
    },
    {
     "name": "stdout",
     "output_type": "stream",
     "text": [
      "[ 63 sec,  697546 itr]:          376\n"
     ]
    },
    {
     "name": "stdout",
     "output_type": "stream",
     "text": [
      "[ 64 sec,  706378 itr]:          376\n"
     ]
    },
    {
     "name": "stdout",
     "output_type": "stream",
     "text": [
      "[ 65 sec,  715014 itr]:          376\n"
     ]
    },
    {
     "name": "stdout",
     "output_type": "stream",
     "text": [
      "[ 66 sec,  723510 itr]:          376\n"
     ]
    },
    {
     "name": "stdout",
     "output_type": "stream",
     "text": [
      "[ 67 sec,  732671 itr]:          376\n"
     ]
    },
    {
     "name": "stdout",
     "output_type": "stream",
     "text": [
      "[ 68 sec,  741102 itr]:          376\n"
     ]
    },
    {
     "name": "stdout",
     "output_type": "stream",
     "text": [
      "[ 69 sec,  749440 itr]:          375\n"
     ]
    },
    {
     "name": "stdout",
     "output_type": "stream",
     "text": [
      "[ 70 sec,  757653 itr]:          375\n"
     ]
    },
    {
     "name": "stdout",
     "output_type": "stream",
     "text": [
      "[ 71 sec,  766395 itr]:          375\n"
     ]
    },
    {
     "name": "stdout",
     "output_type": "stream",
     "text": [
      "[ 72 sec,  775177 itr]:          375\n",
      "[ optimality gap     ]:      100.00%\n"
     ]
    },
    {
     "name": "stdout",
     "output_type": "stream",
     "text": [
      "[ 73 sec,  784272 itr]:          375\n"
     ]
    },
    {
     "name": "stdout",
     "output_type": "stream",
     "text": [
      "[ 74 sec,  785896 itr]:          375\n"
     ]
    },
    {
     "name": "stdout",
     "output_type": "stream",
     "text": [
      "[ 75 sec,  794509 itr]:          375\n"
     ]
    },
    {
     "name": "stdout",
     "output_type": "stream",
     "text": [
      "[ 76 sec,  803245 itr]:          375\n"
     ]
    },
    {
     "name": "stdout",
     "output_type": "stream",
     "text": [
      "[ 77 sec,  812215 itr]:          375\n"
     ]
    },
    {
     "name": "stdout",
     "output_type": "stream",
     "text": [
      "[ 78 sec,  820177 itr]:          375\n"
     ]
    },
    {
     "name": "stdout",
     "output_type": "stream",
     "text": [
      "[ 79 sec,  828170 itr]:          375\n"
     ]
    },
    {
     "name": "stdout",
     "output_type": "stream",
     "text": [
      "[ 80 sec,  836346 itr]:          375\n"
     ]
    },
    {
     "name": "stdout",
     "output_type": "stream",
     "text": [
      "[ 81 sec,  844730 itr]:          375\n"
     ]
    },
    {
     "name": "stdout",
     "output_type": "stream",
     "text": [
      "[ 82 sec,  853479 itr]:          375\n",
      "[ optimality gap     ]:      100.00%\n"
     ]
    },
    {
     "name": "stdout",
     "output_type": "stream",
     "text": [
      "[ 83 sec,  863099 itr]:          375\n"
     ]
    },
    {
     "name": "stdout",
     "output_type": "stream",
     "text": [
      "[ 84 sec,  872083 itr]:          375\n"
     ]
    },
    {
     "name": "stdout",
     "output_type": "stream",
     "text": [
      "[ 85 sec,  881125 itr]:          375\n"
     ]
    },
    {
     "name": "stdout",
     "output_type": "stream",
     "text": [
      "[ 86 sec,  889637 itr]:          375\n"
     ]
    },
    {
     "name": "stdout",
     "output_type": "stream",
     "text": [
      "[ 87 sec,  898631 itr]:          375\n"
     ]
    },
    {
     "name": "stdout",
     "output_type": "stream",
     "text": [
      "[ 88 sec,  906314 itr]:          375\n"
     ]
    },
    {
     "name": "stdout",
     "output_type": "stream",
     "text": [
      "[ 89 sec,  914846 itr]:          375\n"
     ]
    },
    {
     "name": "stdout",
     "output_type": "stream",
     "text": [
      "[ 90 sec,  923501 itr]:          375\n"
     ]
    },
    {
     "name": "stdout",
     "output_type": "stream",
     "text": [
      "[ 91 sec,  932483 itr]:          375\n"
     ]
    },
    {
     "name": "stdout",
     "output_type": "stream",
     "text": [
      "[ 92 sec,  941135 itr]:          375\n",
      "[ optimality gap     ]:      100.00%\n"
     ]
    },
    {
     "name": "stdout",
     "output_type": "stream",
     "text": [
      "[ 93 sec,  949976 itr]:          375\n"
     ]
    },
    {
     "name": "stdout",
     "output_type": "stream",
     "text": [
      "[ 94 sec,  958429 itr]:          375\n"
     ]
    },
    {
     "name": "stdout",
     "output_type": "stream",
     "text": [
      "[ 95 sec,  966332 itr]:          375\n"
     ]
    },
    {
     "name": "stdout",
     "output_type": "stream",
     "text": [
      "[ 96 sec,  975185 itr]:          375\n"
     ]
    },
    {
     "name": "stdout",
     "output_type": "stream",
     "text": [
      "[ 97 sec,  983792 itr]:          375\n"
     ]
    },
    {
     "name": "stdout",
     "output_type": "stream",
     "text": [
      "[ 98 sec,  992150 itr]:          375\n"
     ]
    },
    {
     "name": "stdout",
     "output_type": "stream",
     "text": [
      "[ 99 sec, 1001580 itr]:          375\n"
     ]
    },
    {
     "name": "stdout",
     "output_type": "stream",
     "text": [
      "[100 sec, 1010539 itr]:          375\n"
     ]
    },
    {
     "name": "stdout",
     "output_type": "stream",
     "text": [
      "[101 sec, 1018918 itr]:          375\n"
     ]
    },
    {
     "name": "stdout",
     "output_type": "stream",
     "text": [
      "[102 sec, 1027579 itr]:          375\n",
      "[ optimality gap     ]:      100.00%\n"
     ]
    },
    {
     "name": "stdout",
     "output_type": "stream",
     "text": [
      "[103 sec, 1036587 itr]:          375\n"
     ]
    },
    {
     "name": "stdout",
     "output_type": "stream",
     "text": [
      "[104 sec, 1045526 itr]:          375\n"
     ]
    },
    {
     "name": "stdout",
     "output_type": "stream",
     "text": [
      "[105 sec, 1054935 itr]:          375\n"
     ]
    },
    {
     "name": "stdout",
     "output_type": "stream",
     "text": [
      "[106 sec, 1063173 itr]:          375\n"
     ]
    },
    {
     "name": "stdout",
     "output_type": "stream",
     "text": [
      "[107 sec, 1064476 itr]:          375\n"
     ]
    },
    {
     "name": "stdout",
     "output_type": "stream",
     "text": [
      "[108 sec, 1072483 itr]:          375\n"
     ]
    },
    {
     "name": "stdout",
     "output_type": "stream",
     "text": [
      "[109 sec, 1081496 itr]:          375\n"
     ]
    },
    {
     "name": "stdout",
     "output_type": "stream",
     "text": [
      "[110 sec, 1090323 itr]:          375\n"
     ]
    },
    {
     "name": "stdout",
     "output_type": "stream",
     "text": [
      "[111 sec, 1099426 itr]:          375\n"
     ]
    },
    {
     "name": "stdout",
     "output_type": "stream",
     "text": [
      "[112 sec, 1108772 itr]:          375\n",
      "[ optimality gap     ]:      100.00%\n"
     ]
    },
    {
     "name": "stdout",
     "output_type": "stream",
     "text": [
      "[113 sec, 1116737 itr]:          375\n"
     ]
    },
    {
     "name": "stdout",
     "output_type": "stream",
     "text": [
      "[114 sec, 1126006 itr]:          375\n"
     ]
    },
    {
     "name": "stdout",
     "output_type": "stream",
     "text": [
      "[115 sec, 1134945 itr]:          375\n"
     ]
    },
    {
     "name": "stdout",
     "output_type": "stream",
     "text": [
      "[116 sec, 1144572 itr]:          375\n"
     ]
    },
    {
     "name": "stdout",
     "output_type": "stream",
     "text": [
      "[117 sec, 1153817 itr]:          375\n"
     ]
    },
    {
     "name": "stdout",
     "output_type": "stream",
     "text": [
      "[118 sec, 1164549 itr]:          375\n"
     ]
    },
    {
     "name": "stdout",
     "output_type": "stream",
     "text": [
      "[119 sec, 1174758 itr]:          375\n"
     ]
    },
    {
     "name": "stdout",
     "output_type": "stream",
     "text": [
      "[120 sec, 1185344 itr]:          375\n",
      "[120 sec, 1185344 itr]:          375\n",
      "[ optimality gap     ]:      100.00%\n",
      "\n",
      "1185344 iterations performed in 120 seconds\n",
      "\n",
      "Feasible solution: \n",
      "  obj    =          375\n",
      "  gap    =      100.00%\n",
      "  bounds =            0\n"
     ]
    }
   ],
   "source": [
    "_model = Model(instance_large1)\n",
    "_model.solve(time_limit=120, log=True)\n",
    "_model.to_solution()"
   ]
  },
  {
   "cell_type": "code",
   "execution_count": null,
   "id": "pHFh",
   "metadata": {},
   "outputs": [
    {
     "name": "stdout",
     "output_type": "stream",
     "text": [
      "\n",
      "Model:  expressions = 103523, decisions = 12000, constraints = 19900, objectives = 1\n",
      "Param:  time limit = 120 sec, no iteration limit\n",
      "\n",
      "[objective direction ]:     minimize\n",
      "\n",
      "[  0 sec,       0 itr]: No feasible solution found (infeas = 15229)\n"
     ]
    },
    {
     "name": "stdout",
     "output_type": "stream",
     "text": [
      "[  1 sec,     106 itr]: No feasible solution found (infeas = 13673)\n"
     ]
    },
    {
     "name": "stdout",
     "output_type": "stream",
     "text": [
      "[  2 sec,    3182 itr]: No feasible solution found (infeas = 2492)\n"
     ]
    },
    {
     "name": "stdout",
     "output_type": "stream",
     "text": [
      "[  3 sec,    6541 itr]: No feasible solution found (infeas = 21)\n"
     ]
    },
    {
     "name": "stdout",
     "output_type": "stream",
     "text": [
      "[  4 sec,   14231 itr]:         1785\n",
      "[ optimality gap     ]:      100.00%\n"
     ]
    },
    {
     "name": "stdout",
     "output_type": "stream",
     "text": [
      "[  5 sec,   22673 itr]:         1720\n"
     ]
    },
    {
     "name": "stdout",
     "output_type": "stream",
     "text": [
      "[  6 sec,   30810 itr]:         1692\n"
     ]
    },
    {
     "name": "stdout",
     "output_type": "stream",
     "text": [
      "[  7 sec,   38716 itr]:         1677\n"
     ]
    },
    {
     "name": "stdout",
     "output_type": "stream",
     "text": [
      "[  8 sec,   47379 itr]:         1668\n"
     ]
    },
    {
     "name": "stdout",
     "output_type": "stream",
     "text": [
      "[  9 sec,   54867 itr]:         1658\n"
     ]
    },
    {
     "name": "stdout",
     "output_type": "stream",
     "text": [
      "[ 10 sec,   62609 itr]:         1648\n"
     ]
    },
    {
     "name": "stdout",
     "output_type": "stream",
     "text": [
      "[ 11 sec,   70248 itr]:         1643\n"
     ]
    },
    {
     "name": "stdout",
     "output_type": "stream",
     "text": [
      "[ 12 sec,   77059 itr]:         1638\n"
     ]
    },
    {
     "name": "stdout",
     "output_type": "stream",
     "text": [
      "[ 13 sec,   84271 itr]:         1630\n"
     ]
    },
    {
     "name": "stdout",
     "output_type": "stream",
     "text": [
      "[ 14 sec,   91827 itr]:         1626\n",
      "[ optimality gap     ]:      100.00%\n"
     ]
    },
    {
     "name": "stdout",
     "output_type": "stream",
     "text": [
      "[ 15 sec,   99119 itr]:         1624\n"
     ]
    },
    {
     "name": "stdout",
     "output_type": "stream",
     "text": [
      "[ 16 sec,  106325 itr]:         1619\n"
     ]
    },
    {
     "name": "stdout",
     "output_type": "stream",
     "text": [
      "[ 17 sec,  113769 itr]:         1614\n"
     ]
    },
    {
     "name": "stdout",
     "output_type": "stream",
     "text": [
      "[ 18 sec,  121720 itr]:         1613\n"
     ]
    },
    {
     "name": "stdout",
     "output_type": "stream",
     "text": [
      "[ 19 sec,  129295 itr]:         1609\n"
     ]
    },
    {
     "name": "stdout",
     "output_type": "stream",
     "text": [
      "[ 20 sec,  136926 itr]:         1606\n"
     ]
    },
    {
     "name": "stdout",
     "output_type": "stream",
     "text": [
      "[ 21 sec,  142696 itr]:         1605\n"
     ]
    },
    {
     "name": "stdout",
     "output_type": "stream",
     "text": [
      "[ 22 sec,  148930 itr]:         1604\n"
     ]
    },
    {
     "name": "stdout",
     "output_type": "stream",
     "text": [
      "[ 23 sec,  155118 itr]:         1601\n"
     ]
    },
    {
     "name": "stdout",
     "output_type": "stream",
     "text": [
      "[ 24 sec,  161171 itr]:         1599\n",
      "[ optimality gap     ]:      100.00%\n"
     ]
    },
    {
     "name": "stdout",
     "output_type": "stream",
     "text": [
      "[ 25 sec,  168319 itr]:         1597\n"
     ]
    },
    {
     "name": "stdout",
     "output_type": "stream",
     "text": [
      "[ 26 sec,  175533 itr]:         1595\n"
     ]
    },
    {
     "name": "stdout",
     "output_type": "stream",
     "text": [
      "[ 27 sec,  182214 itr]:         1592\n"
     ]
    },
    {
     "name": "stdout",
     "output_type": "stream",
     "text": [
      "[ 28 sec,  189301 itr]:         1590\n"
     ]
    },
    {
     "name": "stdout",
     "output_type": "stream",
     "text": [
      "[ 29 sec,  196698 itr]:         1589\n"
     ]
    },
    {
     "name": "stdout",
     "output_type": "stream",
     "text": [
      "[ 30 sec,  199101 itr]:         1589\n"
     ]
    },
    {
     "name": "stdout",
     "output_type": "stream",
     "text": [
      "[ 31 sec,  205544 itr]:         1587\n"
     ]
    },
    {
     "name": "stdout",
     "output_type": "stream",
     "text": [
      "[ 32 sec,  212173 itr]:         1586\n"
     ]
    },
    {
     "name": "stdout",
     "output_type": "stream",
     "text": [
      "[ 33 sec,  219574 itr]:         1582\n"
     ]
    },
    {
     "name": "stdout",
     "output_type": "stream",
     "text": [
      "[ 34 sec,  226561 itr]:         1580\n",
      "[ optimality gap     ]:      100.00%\n"
     ]
    },
    {
     "name": "stdout",
     "output_type": "stream",
     "text": [
      "[ 35 sec,  233307 itr]:         1579\n"
     ]
    },
    {
     "name": "stdout",
     "output_type": "stream",
     "text": [
      "[ 36 sec,  240101 itr]:         1579\n"
     ]
    },
    {
     "name": "stdout",
     "output_type": "stream",
     "text": [
      "[ 37 sec,  247318 itr]:         1576\n"
     ]
    },
    {
     "name": "stdout",
     "output_type": "stream",
     "text": [
      "[ 38 sec,  254838 itr]:         1576\n"
     ]
    },
    {
     "name": "stdout",
     "output_type": "stream",
     "text": [
      "[ 39 sec,  262663 itr]:         1575\n"
     ]
    },
    {
     "name": "stdout",
     "output_type": "stream",
     "text": [
      "[ 40 sec,  270374 itr]:         1575\n"
     ]
    },
    {
     "name": "stdout",
     "output_type": "stream",
     "text": [
      "[ 41 sec,  276620 itr]:         1574\n"
     ]
    },
    {
     "name": "stdout",
     "output_type": "stream",
     "text": [
      "[ 42 sec,  282929 itr]:         1573\n"
     ]
    },
    {
     "name": "stdout",
     "output_type": "stream",
     "text": [
      "[ 43 sec,  288505 itr]:         1572\n"
     ]
    },
    {
     "name": "stdout",
     "output_type": "stream",
     "text": [
      "[ 44 sec,  294380 itr]:         1572\n",
      "[ optimality gap     ]:      100.00%\n"
     ]
    },
    {
     "name": "stdout",
     "output_type": "stream",
     "text": [
      "[ 45 sec,  300368 itr]:         1572\n"
     ]
    },
    {
     "name": "stdout",
     "output_type": "stream",
     "text": [
      "[ 46 sec,  307276 itr]:         1571\n"
     ]
    },
    {
     "name": "stdout",
     "output_type": "stream",
     "text": [
      "[ 47 sec,  314666 itr]:         1569\n"
     ]
    },
    {
     "name": "stdout",
     "output_type": "stream",
     "text": [
      "[ 48 sec,  321862 itr]:         1566\n"
     ]
    },
    {
     "name": "stdout",
     "output_type": "stream",
     "text": [
      "[ 49 sec,  329486 itr]:         1566\n"
     ]
    },
    {
     "name": "stdout",
     "output_type": "stream",
     "text": [
      "[ 50 sec,  336812 itr]:         1566\n"
     ]
    },
    {
     "name": "stdout",
     "output_type": "stream",
     "text": [
      "[ 51 sec,  343416 itr]:         1564\n"
     ]
    },
    {
     "name": "stdout",
     "output_type": "stream",
     "text": [
      "[ 52 sec,  350184 itr]:         1562\n"
     ]
    },
    {
     "name": "stdout",
     "output_type": "stream",
     "text": [
      "[ 53 sec,  357617 itr]:         1561\n"
     ]
    },
    {
     "name": "stdout",
     "output_type": "stream",
     "text": [
      "[ 54 sec,  364307 itr]:         1560\n",
      "[ optimality gap     ]:      100.00%\n"
     ]
    },
    {
     "name": "stdout",
     "output_type": "stream",
     "text": [
      "[ 55 sec,  371231 itr]:         1559\n"
     ]
    },
    {
     "name": "stdout",
     "output_type": "stream",
     "text": [
      "[ 56 sec,  377441 itr]:         1558\n"
     ]
    },
    {
     "name": "stdout",
     "output_type": "stream",
     "text": [
      "[ 57 sec,  383237 itr]:         1557\n"
     ]
    },
    {
     "name": "stdout",
     "output_type": "stream",
     "text": [
      "[ 58 sec,  389589 itr]:         1557\n"
     ]
    },
    {
     "name": "stdout",
     "output_type": "stream",
     "text": [
      "[ 59 sec,  395934 itr]:         1554\n"
     ]
    },
    {
     "name": "stdout",
     "output_type": "stream",
     "text": [
      "[ 60 sec,  402601 itr]:         1554\n"
     ]
    },
    {
     "name": "stdout",
     "output_type": "stream",
     "text": [
      "[ 61 sec,  408344 itr]:         1553\n"
     ]
    },
    {
     "name": "stdout",
     "output_type": "stream",
     "text": [
      "[ 62 sec,  413369 itr]:         1552\n"
     ]
    },
    {
     "name": "stdout",
     "output_type": "stream",
     "text": [
      "[ 63 sec,  415285 itr]:         1550\n"
     ]
    },
    {
     "name": "stdout",
     "output_type": "stream",
     "text": [
      "[ 64 sec,  419202 itr]:         1550\n",
      "[ optimality gap     ]:      100.00%\n"
     ]
    },
    {
     "name": "stdout",
     "output_type": "stream",
     "text": [
      "[ 65 sec,  424397 itr]:         1549\n"
     ]
    },
    {
     "name": "stdout",
     "output_type": "stream",
     "text": [
      "[ 66 sec,  429049 itr]:         1548\n"
     ]
    },
    {
     "name": "stdout",
     "output_type": "stream",
     "text": [
      "[ 67 sec,  432658 itr]:         1546\n"
     ]
    },
    {
     "name": "stdout",
     "output_type": "stream",
     "text": [
      "[ 68 sec,  436546 itr]:         1546\n"
     ]
    },
    {
     "name": "stdout",
     "output_type": "stream",
     "text": [
      "[ 69 sec,  440844 itr]:         1544\n"
     ]
    },
    {
     "name": "stdout",
     "output_type": "stream",
     "text": [
      "[ 70 sec,  444831 itr]:         1542\n"
     ]
    },
    {
     "name": "stdout",
     "output_type": "stream",
     "text": [
      "[ 71 sec,  449894 itr]:         1541\n"
     ]
    },
    {
     "name": "stdout",
     "output_type": "stream",
     "text": [
      "[ 72 sec,  455687 itr]:         1541\n"
     ]
    },
    {
     "name": "stdout",
     "output_type": "stream",
     "text": [
      "[ 73 sec,  463806 itr]:         1540\n"
     ]
    },
    {
     "name": "stdout",
     "output_type": "stream",
     "text": [
      "[ 74 sec,  470483 itr]:         1540\n",
      "[ optimality gap     ]:      100.00%\n"
     ]
    },
    {
     "name": "stdout",
     "output_type": "stream",
     "text": [
      "[ 75 sec,  477163 itr]:         1540\n"
     ]
    },
    {
     "name": "stdout",
     "output_type": "stream",
     "text": [
      "[ 76 sec,  484025 itr]:         1537\n"
     ]
    },
    {
     "name": "stdout",
     "output_type": "stream",
     "text": [
      "[ 77 sec,  490791 itr]:         1537\n"
     ]
    },
    {
     "name": "stdout",
     "output_type": "stream",
     "text": [
      "[ 78 sec,  497344 itr]:         1536\n"
     ]
    },
    {
     "name": "stdout",
     "output_type": "stream",
     "text": [
      "[ 79 sec,  504363 itr]:         1536\n"
     ]
    },
    {
     "name": "stdout",
     "output_type": "stream",
     "text": [
      "[ 80 sec,  511624 itr]:         1535\n"
     ]
    },
    {
     "name": "stdout",
     "output_type": "stream",
     "text": [
      "[ 81 sec,  518670 itr]:         1533\n"
     ]
    },
    {
     "name": "stdout",
     "output_type": "stream",
     "text": [
      "[ 82 sec,  526237 itr]:         1530\n"
     ]
    },
    {
     "name": "stdout",
     "output_type": "stream",
     "text": [
      "[ 83 sec,  533291 itr]:         1529\n"
     ]
    },
    {
     "name": "stdout",
     "output_type": "stream",
     "text": [
      "[ 84 sec,  539724 itr]:         1528\n",
      "[ optimality gap     ]:      100.00%\n"
     ]
    },
    {
     "name": "stdout",
     "output_type": "stream",
     "text": [
      "[ 85 sec,  544705 itr]:         1527\n"
     ]
    },
    {
     "name": "stdout",
     "output_type": "stream",
     "text": [
      "[ 86 sec,  550396 itr]:         1527\n"
     ]
    },
    {
     "name": "stdout",
     "output_type": "stream",
     "text": [
      "[ 87 sec,  555597 itr]:         1527\n"
     ]
    },
    {
     "name": "stdout",
     "output_type": "stream",
     "text": [
      "[ 88 sec,  561406 itr]:         1526\n"
     ]
    },
    {
     "name": "stdout",
     "output_type": "stream",
     "text": [
      "[ 89 sec,  567118 itr]:         1526\n"
     ]
    },
    {
     "name": "stdout",
     "output_type": "stream",
     "text": [
      "[ 90 sec,  572781 itr]:         1526\n"
     ]
    },
    {
     "name": "stdout",
     "output_type": "stream",
     "text": [
      "[ 91 sec,  578793 itr]:         1526\n"
     ]
    },
    {
     "name": "stdout",
     "output_type": "stream",
     "text": [
      "[ 92 sec,  585050 itr]:         1525\n"
     ]
    },
    {
     "name": "stdout",
     "output_type": "stream",
     "text": [
      "[ 93 sec,  591084 itr]:         1522\n"
     ]
    },
    {
     "name": "stdout",
     "output_type": "stream",
     "text": [
      "[ 94 sec,  597491 itr]:         1522\n",
      "[ optimality gap     ]:      100.00%\n"
     ]
    },
    {
     "name": "stdout",
     "output_type": "stream",
     "text": [
      "[ 95 sec,  603328 itr]:         1521\n"
     ]
    },
    {
     "name": "stdout",
     "output_type": "stream",
     "text": [
      "[ 96 sec,  605937 itr]:         1521\n"
     ]
    },
    {
     "name": "stdout",
     "output_type": "stream",
     "text": [
      "[ 97 sec,  610443 itr]:         1521\n"
     ]
    },
    {
     "name": "stdout",
     "output_type": "stream",
     "text": [
      "[ 98 sec,  616187 itr]:         1521\n"
     ]
    },
    {
     "name": "stdout",
     "output_type": "stream",
     "text": [
      "[ 99 sec,  622513 itr]:         1521\n"
     ]
    },
    {
     "name": "stdout",
     "output_type": "stream",
     "text": [
      "[100 sec,  629147 itr]:         1519\n"
     ]
    },
    {
     "name": "stdout",
     "output_type": "stream",
     "text": [
      "[101 sec,  635153 itr]:         1519\n"
     ]
    },
    {
     "name": "stdout",
     "output_type": "stream",
     "text": [
      "[102 sec,  641750 itr]:         1519\n"
     ]
    },
    {
     "name": "stdout",
     "output_type": "stream",
     "text": [
      "[103 sec,  648992 itr]:         1519\n"
     ]
    },
    {
     "name": "stdout",
     "output_type": "stream",
     "text": [
      "[104 sec,  655994 itr]:         1517\n",
      "[ optimality gap     ]:      100.00%\n"
     ]
    },
    {
     "name": "stdout",
     "output_type": "stream",
     "text": [
      "[105 sec,  663162 itr]:         1516\n"
     ]
    },
    {
     "name": "stdout",
     "output_type": "stream",
     "text": [
      "[106 sec,  670936 itr]:         1516\n"
     ]
    },
    {
     "name": "stdout",
     "output_type": "stream",
     "text": [
      "[107 sec,  677582 itr]:         1515\n"
     ]
    },
    {
     "name": "stdout",
     "output_type": "stream",
     "text": [
      "[108 sec,  684847 itr]:         1513\n"
     ]
    },
    {
     "name": "stdout",
     "output_type": "stream",
     "text": [
      "[109 sec,  691633 itr]:         1513\n"
     ]
    },
    {
     "name": "stdout",
     "output_type": "stream",
     "text": [
      "[110 sec,  697396 itr]:         1513\n"
     ]
    },
    {
     "name": "stdout",
     "output_type": "stream",
     "text": [
      "[111 sec,  702729 itr]:         1510\n"
     ]
    },
    {
     "name": "stdout",
     "output_type": "stream",
     "text": [
      "[112 sec,  708053 itr]:         1510\n"
     ]
    },
    {
     "name": "stdout",
     "output_type": "stream",
     "text": [
      "[113 sec,  714239 itr]:         1510\n"
     ]
    },
    {
     "name": "stdout",
     "output_type": "stream",
     "text": [
      "[114 sec,  719868 itr]:         1510\n",
      "[ optimality gap     ]:      100.00%\n"
     ]
    },
    {
     "name": "stdout",
     "output_type": "stream",
     "text": [
      "[115 sec,  725341 itr]:         1510\n"
     ]
    },
    {
     "name": "stdout",
     "output_type": "stream",
     "text": [
      "[116 sec,  731193 itr]:         1510\n"
     ]
    },
    {
     "name": "stdout",
     "output_type": "stream",
     "text": [
      "[117 sec,  736702 itr]:         1510\n"
     ]
    },
    {
     "name": "stdout",
     "output_type": "stream",
     "text": [
      "[118 sec,  742021 itr]:         1510\n"
     ]
    },
    {
     "name": "stdout",
     "output_type": "stream",
     "text": [
      "[119 sec,  748181 itr]:         1509\n"
     ]
    },
    {
     "name": "stdout",
     "output_type": "stream",
     "text": [
      "[120 sec,  754085 itr]:         1509\n",
      "[120 sec,  754085 itr]:         1509\n",
      "[ optimality gap     ]:      100.00%\n",
      "\n",
      "754085 iterations performed in 120 seconds\n",
      "\n",
      "Feasible solution: \n",
      "  obj    =         1509\n",
      "  gap    =      100.00%\n",
      "  bounds =            0\n"
     ]
    }
   ],
   "source": [
    "_model = Model(instance_large2)\n",
    "_model.solve(time_limit=120, log=True)\n",
    "_model.to_solution()"
   ]
  },
  {
   "cell_type": "markdown",
   "id": "NCOB",
   "metadata": {
    "marimo": {
     "config": {
      "hide_code": true
     }
    }
   },
   "source": [
    "この定式化をするんだったら CP-SAT でよいでしょう."
   ]
  }
 ],
 "metadata": {},
 "nbformat": 4,
 "nbformat_minor": 5
}
