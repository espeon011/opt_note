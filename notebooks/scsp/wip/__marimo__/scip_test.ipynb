{
 "cells": [
  {
   "cell_type": "code",
   "execution_count": null,
   "id": "setup",
   "metadata": {
    "marimo": {
     "name": "setup"
    }
   },
   "outputs": [],
   "source": [
    "import opt_note.scsp as scsp\n",
    "import pyscipopt"
   ]
  },
  {
   "cell_type": "code",
   "execution_count": null,
   "id": "Hbol",
   "metadata": {},
   "outputs": [],
   "source": [
    "import marimo as mo\n",
    "import nbformat"
   ]
  },
  {
   "cell_type": "markdown",
   "id": "MJUe",
   "metadata": {
    "marimo": {
     "config": {
      "hide_code": true
     }
    }
   },
   "source": [
    "# バイナリ定式化と比較"
   ]
  },
  {
   "cell_type": "code",
   "execution_count": null,
   "id": "vblA",
   "metadata": {
    "marimo": {
     "name": "*Model"
    }
   },
   "outputs": [],
   "source": [
    "class Model:\n",
    "    def __init__(self, instance: list[str]):\n",
    "        chars = \"\".join(sorted(list(set(\"\".join(instance)))))\n",
    "        max_len = sum(len(s) for s in instance)\n",
    "\n",
    "        scip: pyscipopt.Model = pyscipopt.Model()\n",
    "\n",
    "        # sseq_valid[i]: 共通超配列の i 文字目を使用するか否か\n",
    "        sseq_valid = [scip.addVar(vtype=\"B\") for _ in range(max_len)]\n",
    "\n",
    "        # sseq_char[i][j]: 共通超配列の i 文字目に j 番目の文字がおかれるか否か\n",
    "        sseq_char = [[scip.addVar(vtype=\"B\") for _ in chars] for _ in sseq_valid]\n",
    "\n",
    "        # assign[s][c][i]: s 番目の文字列の c 番目の文字が共通超配列の i 番目に対応するか否か\n",
    "        assign = [[[scip.addVar(vtype=\"B\") for _ in sseq_valid] for c in s] for s in instance]\n",
    "\n",
    "        for xs in sseq_char:\n",
    "            scip.addCons(sum(xs) == 1)\n",
    "\n",
    "        for sidx, s in enumerate(instance):\n",
    "            for cidx, c in enumerate(s):\n",
    "                scip.addCons(sum(assign[sidx][cidx]) == 1)\n",
    "                for idx, _ in enumerate(assign[sidx][cidx]):\n",
    "                    scip.addCons(assign[sidx][cidx][idx] <= sseq_valid[idx])\n",
    "                    scip.addCons(assign[sidx][cidx][idx] <= sseq_char[idx][chars.index(c)])\n",
    "\n",
    "        for sidx, s in enumerate(instance):\n",
    "            for cidx, c in enumerate(s):\n",
    "                if cidx == 0:\n",
    "                    continue\n",
    "                scip.addCons(\n",
    "                    sum(idx * assign[sidx][cidx - 1][idx] for idx, _ in enumerate(assign[sidx][cidx - 1])) + 1\n",
    "                    <= sum(idx * assign[sidx][cidx][idx] for idx, _ in enumerate(assign[sidx][cidx]))\n",
    "                )\n",
    "\n",
    "        scip.setObjective(sum(sseq_valid), sense=\"minimize\")\n",
    "\n",
    "        self.instance = instance\n",
    "        self.chars = chars\n",
    "        self.scip = scip\n",
    "        self.sseq_valid = sseq_valid\n",
    "        self.sseq_char = sseq_char\n",
    "\n",
    "    def solve(self, time_limit: int | None = 60, log: bool = False) -> \"Model\":\n",
    "        if time_limit is not None:\n",
    "            self.scip.setParam(\"limits/time\", time_limit)\n",
    "        if not log:\n",
    "            self.scip.hideOutput()\n",
    "        self.scip.optimize()\n",
    "\n",
    "        return self\n",
    "\n",
    "    def to_solution(self) -> str | None:\n",
    "        if self.scip.getNLimSolsFound() == 0:\n",
    "            return None\n",
    "\n",
    "        solution = \"\"\n",
    "        for valid, ssqc in zip(self.sseq_valid, self.sseq_char):\n",
    "            if int(round(self.scip.getVal(valid))) == 1:\n",
    "                for c, sqc in zip(self.chars, ssqc):\n",
    "                    if int(round(self.scip.getVal(sqc))) == 1:\n",
    "                        solution += c\n",
    "                        break\n",
    "\n",
    "        return solution"
   ]
  },
  {
   "cell_type": "markdown",
   "id": "bkHC",
   "metadata": {
    "marimo": {
     "config": {
      "hide_code": true
     }
    }
   },
   "source": [
    "連続緩和モデルも作成."
   ]
  },
  {
   "cell_type": "code",
   "execution_count": null,
   "id": "lEQa",
   "metadata": {
    "marimo": {
     "name": "*ModelContinuous"
    }
   },
   "outputs": [],
   "source": [
    "class ModelContinuous:\n",
    "    def __init__(self, instance: list[str]):\n",
    "        chars = \"\".join(sorted(list(set(\"\".join(instance)))))\n",
    "        max_len = sum(len(s) for s in instance)\n",
    "\n",
    "        scip: pyscipopt.Model = pyscipopt.Model()\n",
    "\n",
    "        # sseq_valid[i]: 共通超配列の i 文字目を使用するか否か\n",
    "        sseq_valid = [scip.addVar(vtype=\"C\", lb=0, ub=1) for _ in range(max_len)]\n",
    "\n",
    "        # sseq_char[i][j]: 共通超配列の i 文字目に j 番目の文字がおかれるか否か\n",
    "        sseq_char = [[scip.addVar(vtype=\"C\", lb=0, ub=1) for _ in chars] for _ in sseq_valid]\n",
    "\n",
    "        # assign[s][c][i]: s 番目の文字列の c 番目の文字が共通超配列の i 番目に対応するか否か\n",
    "        assign = [[[scip.addVar(vtype=\"C\", lb=0, ub=1) for _ in sseq_valid] for c in s] for s in instance]\n",
    "\n",
    "        for xs in sseq_char:\n",
    "            scip.addCons(sum(xs) == 1)\n",
    "\n",
    "        for sidx, s in enumerate(instance):\n",
    "            for cidx, c in enumerate(s):\n",
    "                scip.addCons(sum(assign[sidx][cidx]) == 1)\n",
    "                for idx, _ in enumerate(assign[sidx][cidx]):\n",
    "                    scip.addCons(assign[sidx][cidx][idx] <= sseq_valid[idx])\n",
    "                    scip.addCons(assign[sidx][cidx][idx] <= sseq_char[idx][chars.index(c)])\n",
    "\n",
    "        for sidx, s in enumerate(instance):\n",
    "            for cidx, c in enumerate(s):\n",
    "                if cidx == 0:\n",
    "                    continue\n",
    "                scip.addCons(\n",
    "                    sum(idx * assign[sidx][cidx - 1][idx] for idx, _ in enumerate(assign[sidx][cidx - 1])) + 1\n",
    "                    <= sum(idx * assign[sidx][cidx][idx] for idx, _ in enumerate(assign[sidx][cidx]))\n",
    "                )\n",
    "\n",
    "        scip.setObjective(sum(sseq_valid), sense=\"minimize\")\n",
    "\n",
    "        self.instance = instance\n",
    "        self.chars = chars\n",
    "        self.scip = scip\n",
    "        self.sseq_valid = sseq_valid\n",
    "        self.sseq_char = sseq_char\n",
    "\n",
    "    def solve(self, time_limit: int | None = 60, log: bool = False) -> \"Model\":\n",
    "        if time_limit is not None:\n",
    "            self.scip.setParam(\"limits/time\", time_limit)\n",
    "        if not log:\n",
    "            self.scip.hideOutput()\n",
    "        self.scip.optimize()\n",
    "\n",
    "        return self"
   ]
  },
  {
   "cell_type": "code",
   "execution_count": null,
   "id": "PKri",
   "metadata": {
    "marimo": {
     "name": "*bench1"
    }
   },
   "outputs": [],
   "source": [
    "def bench1(instance: list[str]) -> None:\n",
    "    model = scsp.model.linear_scip.Model(instance).solve()\n",
    "    solution = model.to_solution()\n",
    "    scsp.util.show(instance)\n",
    "    if solution is not None:\n",
    "        scsp.util.show(instance, solution)\n",
    "        print(f\"solution is feasible: {scsp.util.is_feasible(instance, solution)}\")\n",
    "    else:\n",
    "        print(\"--- Solution not found ---\\n\")\n",
    "\n",
    "    print(f\"solution status: {model.scip.getStatus()}\")\n",
    "    print(f\"best bound: {model.scip.getDualbound()}\")"
   ]
  },
  {
   "cell_type": "code",
   "execution_count": null,
   "id": "Xref",
   "metadata": {
    "marimo": {
     "name": "*bench2"
    }
   },
   "outputs": [],
   "source": [
    "def bench2(instance: list[str]) -> None:\n",
    "    model = Model(instance).solve(time_limit=60)\n",
    "    solution = model.to_solution()\n",
    "    scsp.util.show(instance)\n",
    "    if solution is not None:\n",
    "        scsp.util.show(instance, solution)\n",
    "        print(f\"solution is feasible: {scsp.util.is_feasible(instance, solution)}\")\n",
    "    else:\n",
    "        print(\"--- Solution not found ---\\n\")\n",
    "\n",
    "    print(f\"solution status: {model.scip.getStatus()}\")\n",
    "    print(f\"best bound: {model.scip.getDualbound()}\")"
   ]
  },
  {
   "cell_type": "markdown",
   "id": "SFPL",
   "metadata": {
    "marimo": {
     "config": {
      "hide_code": true
     }
    }
   },
   "source": [
    "以下のインスタンスは DIDP を使ってモデルによって最適値が 62 だとわかっている."
   ]
  },
  {
   "cell_type": "code",
   "execution_count": null,
   "id": "BYtC",
   "metadata": {},
   "outputs": [],
   "source": [
    "instance01 = scsp.example.load(\"uniform_q26n004k015-025.txt\")"
   ]
  },
  {
   "cell_type": "code",
   "execution_count": null,
   "id": "RGSE",
   "metadata": {},
   "outputs": [
    {
     "name": "stdout",
     "output_type": "stream",
     "text": [
      "--- Condition (with 25 chars) ---\n",
      "str1: tkgnkuhmpxnhtqgxzvxis\n",
      "str2: iojiqfolnbxxcvsuqpvissbxf\n",
      "str3: ulcinycosovozpplp\n",
      "str4: igevazgbrddbcsvrvnngf\n",
      "\n",
      "--- Solution (of length 70) ---\n",
      " Sol: itkgojniqfeokulvahmcnzgpibxxrndycvhodstoqgubcvsoxzvqpzprvxininsgslpbxf\n",
      "str1: -tkg--n-----ku---hm----p--x--n----h---t-qg------xzv------xi---s-------\n",
      "str2: i---oj-iqf-o--l-----n----bxx----cv---s----u--------qp---v-i---s-s--bxf\n",
      "str3: -------------ul----c----i----n-yc--o-s-o-----v-o-z--p-p----------lp---\n",
      "str4: i--g------e----va----zg--b--r-d-----d------bc-s---v----rv--n-n-g-----f\n",
      "\n",
      "solution is feasible: True\n",
      "solution status: timelimit\n",
      "best bound: 26.0\n"
     ]
    }
   ],
   "source": [
    "bench1(instance01)"
   ]
  },
  {
   "cell_type": "code",
   "execution_count": null,
   "id": "Kclp",
   "metadata": {},
   "outputs": [
    {
     "name": "stdout",
     "output_type": "stream",
     "text": [
      "--- Condition (with 25 chars) ---\n",
      "str1: tkgnkuhmpxnhtqgxzvxis\n",
      "str2: iojiqfolnbxxcvsuqpvissbxf\n",
      "str3: ulcinycosovozpplp\n",
      "str4: igevazgbrddbcsvrvnngf\n",
      "\n",
      "--- Solution not found ---\n",
      "\n",
      "solution status: timelimit\n",
      "best bound: 2.0238481492365534\n"
     ]
    }
   ],
   "source": [
    "bench2(instance01)"
   ]
  },
  {
   "cell_type": "markdown",
   "id": "emfo",
   "metadata": {
    "marimo": {
     "config": {
      "hide_code": true
     }
    }
   },
   "source": [
    "連続緩和して解くと...?"
   ]
  },
  {
   "cell_type": "code",
   "execution_count": null,
   "id": "Hstk",
   "metadata": {},
   "outputs": [
    {
     "name": "stdout",
     "output_type": "stream",
     "text": [
      "solution status: optimal\n",
      "best bound: 1.3002346566164258\n"
     ]
    }
   ],
   "source": [
    "_model = ModelContinuous(instance01)\n",
    "_model.solve()\n",
    "\n",
    "print(f\"solution status: {_model.scip.getStatus()}\")\n",
    "print(f\"best bound: {_model.scip.getDualbound()}\")"
   ]
  },
  {
   "cell_type": "markdown",
   "id": "nWHF",
   "metadata": {
    "marimo": {
     "config": {
      "hide_code": true
     }
    }
   },
   "source": [
    "バイナリ定式化は筋が悪そう.\n",
    "連続緩和した問題も解くのに 16 秒近くかかっており, 目的関数値はバウンドとして使えるレベルのものではない."
   ]
  }
 ],
 "metadata": {},
 "nbformat": 4,
 "nbformat_minor": 5
}
