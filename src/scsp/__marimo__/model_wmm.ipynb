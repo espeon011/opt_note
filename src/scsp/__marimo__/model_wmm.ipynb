{
 "cells": [
  {
   "cell_type": "code",
   "execution_count": null,
   "id": "Hbol",
   "metadata": {},
   "outputs": [],
   "source": [
    "import marimo as mo\n",
    "import nbformat\n",
    "import util"
   ]
  },
  {
   "cell_type": "markdown",
   "id": "MJUe",
   "metadata": {
    "marimo": {
     "config": {
      "hide_code": true
     }
    }
   },
   "source": [
    "# Weighted Majority Merge アルゴリズム"
   ]
  },
  {
   "cell_type": "markdown",
   "id": "vblA",
   "metadata": {
    "marimo": {
     "config": {
      "hide_code": true
     }
    }
   },
   "source": [
    "- 計算量: ?\n",
    "- 近似精度: なし"
   ]
  },
  {
   "cell_type": "markdown",
   "id": "bkHC",
   "metadata": {
    "marimo": {
     "config": {
      "hide_code": true
     }
    }
   },
   "source": [
    "与えられた文字列たちの先頭の文字列を調べ, 優先度の高い順に採用していく流れは Majority Merge と同じ.\n",
    "Weighted Majority Merge では出現するか否かの代わりに残された文字列長を考えた重み付き出現回数を採用する.\n",
    "\n",
    "- 解 $\\mathrm{sol}$ を空文字列で初期化する.\n",
    "- 各文字 $c$ に対し重要度 $\\sum_{i=1, \\ s_i[0] = c}^n |s_i|$ を計算し, 重要度が最大である $c$ を求める.\n",
    "- $\\mathrm{sol}$ の後ろに $c$ を追加する.\n",
    "- 各文字列 $s_1, s_2, \\dots, s_n$ に対し, 先頭の文字が $c$ である場合は先頭 1 文字を削除する.\n",
    "- $s_1, s_2, \\dots, s_n$ が全て空文字列になれば終了."
   ]
  },
  {
   "cell_type": "code",
   "execution_count": null,
   "id": "lEQa",
   "metadata": {
    "marimo": {
     "name": "*solve"
    }
   },
   "outputs": [],
   "source": [
    "def solve(instance: list[str]) -> str:\n",
    "    chars = sorted(list(set(\"\".join(instance))))\n",
    "    indices = [0 for _ in instance]\n",
    "    solution = \"\"\n",
    "\n",
    "    while not all(idx == len(s) for idx, s in zip(indices, instance)):\n",
    "        counts = [\n",
    "            sum(\n",
    "                len(s) - idx\n",
    "                for idx, s in zip(indices, instance)\n",
    "                if idx < len(s) and s[idx] == c\n",
    "            )\n",
    "            for c in chars\n",
    "        ]\n",
    "        next_char = chars[counts.index(max(counts))]\n",
    "\n",
    "        solution += next_char\n",
    "        for jdx in range(len(instance)):\n",
    "            s = instance[jdx]\n",
    "            idx = indices[jdx]\n",
    "            if idx < len(s) and s[idx] == next_char:\n",
    "                indices[jdx] += 1\n",
    "\n",
    "    return solution"
   ]
  },
  {
   "cell_type": "code",
   "execution_count": null,
   "id": "PKri",
   "metadata": {},
   "outputs": [
    {
     "name": "stdout",
     "output_type": "stream",
     "text": [
      "--- Condition (with 25 chars) ---\n",
      "str1: tkgnkuhmpxnhtqgxzvxis\n",
      "str2: iojiqfolnbxxcvsuqpvissbxf\n",
      "str3: ulcinycosovozpplp\n",
      "str4: igevazgbrddbcsvrvnngf\n",
      "\n",
      "--- Solution (of length 75) ---\n",
      " Sol: iojiqtfgkegolnvakublzcghxbimxcnprdvxycdnsbhoucsqtovpqgviorxzvsnpsbxnpgfilps\n",
      "str1: -----t--k-g--n--ku-----h---m---p---x---n--h-----t---qg----xzv-----x----i--s\n",
      "str2: iojiq-f----oln----b-----x---xc----v-----s---u--q---p--vi-----s--sbx---f----\n",
      "str3: -----------------u-l-c----i---n-----yc-----o--s--ov-----o--z---p----p---lp-\n",
      "str4: i------g-e----va----z-g--b------rd----d--b---cs---v------r--v-n----n-gf----\n",
      "\n",
      "solution is feasible: True\n"
     ]
    }
   ],
   "source": [
    "_instance = util.parse(\"uniform_q26n004k015-025.txt\")\n",
    "util.show(_instance)\n",
    "_solution = solve(_instance)\n",
    "util.show(_instance, _solution)\n",
    "print(f\"solution is feasible: {util.is_feasible(_instance, _solution)}\")"
   ]
  },
  {
   "cell_type": "code",
   "execution_count": null,
   "id": "Xref",
   "metadata": {},
   "outputs": [
    {
     "name": "stdout",
     "output_type": "stream",
     "text": [
      "--- Condition (with 26 chars) ---\n",
      "str1: tkgnkuhmpxnhtqgxzvxis\n",
      "str2: iojiqfolnbxxcvsuqpvissbxf\n",
      "str3: ulcinycosovozpplp\n",
      "str4: igevazgbrddbcsvrvnngf\n",
      "str5: pyplrzxucpmqvgtdfuivcdsbo\n",
      "str6: pbdevdcvdpfzsmsbroqvbbh\n",
      "str7: enbczfjtvxerzbrvigple\n",
      "str8: rxwxqkrdrlctodtmprpxwd\n",
      "\n",
      "--- Solution (of length 128) ---\n",
      " Sol: pioyjpbilrdeqtxfgknwzxubcevgolndcqkazbfpruvdghmpxjbrinqtvxcflcdgtdvyzscoebhmsrucdtqfzbrovpsviguimprvoxzpcqvxsdsbnnplbgiwxfdehops\n",
      "str1: -------------t---k---------g--n---k------u---hmpx----n--------------------h------tq----------g-------xz---vx----------i--------s\n",
      "str2: -io-j--i----q--f------------oln------b----------x--------xc-------v--s--------u---q------p-vi---------------s-sb--------xf------\n",
      "str3: ----------------------u------l--c-------------------in-------------y--co----s----------ov-----------o-zp----------pl----------p-\n",
      "str4: -i--------------g--------ev--------az-------g-----br----------d--d-------b-----c----------sv------rv------------nn---g---f------\n",
      "str5: p--y-p--lr----------zxu-c--------------p------m-------q-v------gtd-----------------f----------ui---v----c----dsb-------------o--\n",
      "str6: p-----b---de--------------v----dc---------vd---p-----------f--------zs-----ms--------bro-----------------qv----b----b-------h---\n",
      "str7: -----------e------n----bc-----------z-f----------j-----tvx--------------e----r------zbr-v---ig---p-----------------l-------e----\n",
      "str8: ---------r----x----w-x-----------qk-----r--d-------r--------lc--t------o--------dt--------------mpr----p---x-----------w--d-----\n",
      "\n",
      "solution is feasible: True\n"
     ]
    }
   ],
   "source": [
    "_instance = util.parse(\"uniform_q26n008k015-025.txt\")\n",
    "util.show(_instance)\n",
    "_solution = solve(_instance)\n",
    "util.show(_instance, _solution)\n",
    "print(f\"solution is feasible: {util.is_feasible(_instance, _solution)}\")"
   ]
  },
  {
   "cell_type": "code",
   "execution_count": null,
   "id": "SFPL",
   "metadata": {},
   "outputs": [
    {
     "name": "stdout",
     "output_type": "stream",
     "text": [
      "--- Condition (with 26 chars) ---\n",
      "str01: tkgnkuhmpxnhtqgxzvxis\n",
      "str02: iojiqfolnbxxcvsuqpvissbxf\n",
      "str03: ulcinycosovozpplp\n",
      "str04: igevazgbrddbcsvrvnngf\n",
      "str05: pyplrzxucpmqvgtdfuivcdsbo\n",
      "str06: pbdevdcvdpfzsmsbroqvbbh\n",
      "str07: enbczfjtvxerzbrvigple\n",
      "str08: rxwxqkrdrlctodtmprpxwd\n",
      "str09: kkqafigqjwokkskrblg\n",
      "str10: lxxpabivbvzkozzvd\n",
      "str11: krifsavncdqwhzc\n",
      "str12: qaxudgqvqcewbfgijowwy\n",
      "str13: rsxqjnfpadiusiqbezhkohmg\n",
      "str14: iwshvhcomiuvddm\n",
      "str15: htxxqjzqbctbakn\n",
      "str16: xusfcfzpeecvwantfmgqzu\n",
      "\n"
     ]
    },
    {
     "name": "stdout",
     "output_type": "stream",
     "text": [
      "--- Solution (of length 176) ---\n",
      "  Sol: iprxuskwxqklrojiqfaxcfigenbdyczpevfolrsazxudcpgahvtdqbjinvbxxqcekvwgnkuhmpscovqtvxfzklrdcgtdobfuiqwenhsmzpvcsbrdtizjavzqbgrvniesksmptzcfhkorbxjmgqpzvluxotbwvdahngbdmfikweghnpsy\n",
      "str01: --------------------------------------------------t-------------k--gnkuhmp-------x------------------nh----------t------q-g-------------------x-----zv--x--------------i-------s-\n",
      "str02: i------------ojiqf-----------------ol-------------------n-bxx-c--v--------s--------------------u-q-------pv------i-------------s-s----------bx-----------------------f----------\n",
      "str03: ----u------l--------c-i--n--yc-----o--s-------------------------------------ov--------------o-----------zp-------------------------p-----------------l-----------------------p--\n",
      "str04: i----------------------ge--------v-----az-----g------b--------------------------------rd---d-b-------------cs--------v----rvn-----------------------------------ng---f----------\n",
      "str05: -p--------------------------y--p----lr--zxu-cp--------------------------m-----q-v--------gtd--fui---------vc---d---------------s------------b-----------o-----------------------\n",
      "str06: -p------------------------bd----ev---------dc----v-d---------------------p--------fz------------------sm----sbr---------------------------o------q--v-----b-------b--------h----\n",
      "str07: ------------------------enb--cz---f-------------------j------------------------tvx-----------------e----------r---z-----b-rv-i------------------g-p--l-------------------e------\n",
      "str08: --rx---wxqk-r--------------d---------r-----------------------------------------------l--c-t-o------------------dt-----------------mp-------r------p----x---w-d------------------\n",
      "str09: ------k---k-----q-a--fig----------------------------q-j-----------w---------o-------k-------------------------------------------ks-------k-rb--------l-----------g--------------\n",
      "str10: -----------l-------x---------------------x---p-a-----b-i-vb------v-----------------zk-------o-----------z---------z--v---------------------------------------d------------------\n",
      "str11: ------k-----r--i-f--------------------sa---------v------n-----c------------------------d---------qw--h--z--c--------------------------------------------------------------------\n",
      "str12: ---------q--------ax----------------------ud--g-----q----v---qce--w--------------------------bf--------------------------g---i----------------j---------o--w------------w------y\n",
      "str13: --r--s--xq----j----------n--------f----------p-a---d---i--------------u---s---------------------iq-----------b----------------e------z--hko--------------------h----m-----g-----\n",
      "str14: i------w------------------------------s---------hv---------------------h---co--------------------------m---------i------------------------------------u-----vd-----dm-----------\n",
      "str15: ------------------------------------------------h-t--------xxq-----------------------------------------------------j--zqb-------------c------------------tb---a--------k----n---\n",
      "str16: ---xus-----------f--cf--------zpe------------------------------e-----------c-v--------------------w-----------------a-------n-------t--f-------mgq-z--u-------------------------\n",
      "\n",
      "solution is feasible: True\n"
     ]
    }
   ],
   "source": [
    "_instance = util.parse(\"uniform_q26n016k015-025.txt\")\n",
    "util.show(_instance)\n",
    "_solution = solve(_instance)\n",
    "util.show(_instance, _solution)\n",
    "print(f\"solution is feasible: {util.is_feasible(_instance, _solution)}\")"
   ]
  },
  {
   "cell_type": "code",
   "execution_count": null,
   "id": "BYtC",
   "metadata": {},
   "outputs": [
    {
     "name": "stdout",
     "output_type": "stream",
     "text": [
      "--- Condition (with 5 chars) ---\n",
      "str01: dcbccdbcce\n",
      "str02: bddbeeeebd\n",
      "str03: cacdeecebe\n",
      "str04: aeddddebdd\n",
      "str05: acbeecabce\n",
      "str06: bbabebdcba\n",
      "str07: bbaeaebada\n",
      "str08: eeeecbdbee\n",
      "str09: ccdeedadcd\n",
      "str10: bdabdbeaad\n",
      "\n",
      "--- Solution (of length 32) ---\n",
      "  Sol: bdcabcdebeaecdaebcdebdcdbeabdade\n",
      "str01: -dc-bc------cd--bc----c--e------\n",
      "str02: bd----d-be-e---e---ebd----------\n",
      "str03: --ca-cde-e--c--eb--e------------\n",
      "str04: ---a---e-----d----d--d-d-e-bd-d-\n",
      "str05: ---a-c--be-ec-a-bc-e------------\n",
      "str06: b---b-----a-----b--ebdc-b-a-----\n",
      "str07: b---b-----ae--aeb---------a-da--\n",
      "str08: -------e-e-e---e-c--bd--be-----e\n",
      "str09: --c--cde-e---da---d---cd--------\n",
      "str10: bd-ab-d-bea---a---d-------------\n",
      "\n",
      "solution is feasible: True\n"
     ]
    }
   ],
   "source": [
    "_instance = util.parse(\"uniform_q05n010k010-010.txt\")\n",
    "util.show(_instance)\n",
    "_solution = solve(_instance)\n",
    "util.show(_instance, _solution)\n",
    "print(f\"solution is feasible: {util.is_feasible(_instance, _solution)}\")"
   ]
  },
  {
   "cell_type": "code",
   "execution_count": null,
   "id": "RGSE",
   "metadata": {},
   "outputs": [
    {
     "name": "stdout",
     "output_type": "stream",
     "text": [
      "--- Condition (with 5 chars) ---\n",
      "str01: dcbccdbcce\n",
      "str02: bddbeeeebd\n",
      "str03: cacdeecebe\n",
      "str04: aeddddebdd\n",
      "str05: acbeecabce\n",
      "str06: bbabebdcba\n",
      "str07: bbaeaebada\n",
      "str08: eeeecbdbee\n",
      "str09: ccdeedadcd\n",
      "str10: bdabdbeaad\n",
      "str11: ededaaaeaa\n",
      "str12: aaeaabeeac\n",
      "str13: eaabcaccdb\n",
      "str14: bdeeadeade\n",
      "str15: caedadeeed\n",
      "str16: ebcadbabbe\n",
      "str17: ddceeabdea\n",
      "str18: dabcddeaec\n",
      "str19: aadceedaab\n",
      "str20: aeecceeeaa\n",
      "str21: bbdaecaade\n",
      "str22: dacedaedab\n",
      "str23: aaeabbbbce\n",
      "str24: dedbcbcaab\n",
      "str25: dbdaaebbcb\n",
      "str26: debedbebac\n",
      "str27: ceebcdcbde\n",
      "str28: dbedaadaab\n",
      "str29: cccdcbebdc\n",
      "str30: aeeacdbcbd\n",
      "str31: dacbeacccd\n",
      "str32: ecebccdbdb\n",
      "str33: ddbbcedabb\n",
      "str34: aaeabaaeba\n",
      "str35: ecbbcaadcd\n",
      "str36: debccecdbc\n",
      "str37: daacbaeebc\n",
      "str38: adabeaacce\n",
      "str39: daecdbacaa\n",
      "str40: dacbbdcedc\n",
      "str41: dedbeebbde\n",
      "str42: cdadcdcdaa\n",
      "str43: ceedcbaeed\n",
      "str44: ceaecaaaca\n",
      "str45: dcccebbbad\n",
      "str46: baeeaebbde\n",
      "str47: dbdebaccdb\n",
      "str48: ebcbeedaea\n",
      "str49: aeeebbdbca\n",
      "str50: dbdabcecbb\n",
      "\n",
      "--- Solution (of length 37) ---\n",
      "  Sol: daecbdeacbedacebadecbadebacdebacdebbd\n",
      "str01: d--cb---c----c---d--b-----c----c-e---\n",
      "str02: ----bd-----d---b--e----e----e----eb-d\n",
      "str03: ---c---ac--d--e---ec---eb---e--------\n",
      "str04: -ae--d-----d-----d----deb--d----d----\n",
      "str05: -a-cb-e---e--c--a---b-----c-e--------\n",
      "str06: ----b----b--a--b--e-b-d---c--ba------\n",
      "str07: ----b----b--a-e-a-e-bad--a-----------\n",
      "str08: --e---e---e---e----cb-d-b---e----e---\n",
      "str09: ---c----c--d--e---e---d--a-d---cd----\n",
      "str10: ----bd-a-b-d---b--e--a---a-d---------\n",
      "str11: --e--de----da---a----a-e-a----a------\n",
      "str12: -a-----a--e-a---a---b--e----e-ac-----\n",
      "str13: --e----a----a--b---c-a----c----cd-b--\n",
      "str14: ----bde---e-a----de--ade-------------\n",
      "str15: ---c---a--eda----de----e----e---d----\n",
      "str16: --e-b---c---a----d--ba--b----b---e---\n",
      "str17: d----d--c-e---e-a---b-de-a-----------\n",
      "str18: da--b---c--d-----de--a-e--c----------\n",
      "str19: -a-----a---d-ce---e---d--a----a---b--\n",
      "str20: -ae---e-c----ce---e----e-a----a------\n",
      "str21: ----b----b-da-e----c-a---a-de--------\n",
      "str22: da-c--e----da-e--d---a--b------------\n",
      "str23: -a-----a--e-a--b----b---b----b-c-e---\n",
      "str24: d-e--d---b---c-b---c-a---a---b-------\n",
      "str25: d---bd-a----a-eb----b-----c--b-------\n",
      "str26: d-e-b-e----d---b--e-ba----c----------\n",
      "str27: ---c--e---e----b---c--d---c--b--de---\n",
      "str28: d---b-e----da---ad---a---a---b-------\n",
      "str29: ---c----c----c---d-cb--eb--d---c-----\n",
      "str30: -ae---eac--d---b---cb-d--------------\n",
      "str31: da-cb-eac----c-----c--d--------------\n",
      "str32: --ec--e--b---c-----c--d-b--d-b-------\n",
      "str33: d----d---b-----b---c---e---d--a---bb-\n",
      "str34: -a-----a--e-a--ba----a-eba-----------\n",
      "str35: --ecb----b---c--a----ad---cd---------\n",
      "str36: d-e-b---c----ce----c--d-b-c----------\n",
      "str37: da-----acb--a-e---e-b-----c----------\n",
      "str38: -a---d-a-be-a---a--c------c-e--------\n",
      "str39: daec-d---b--ac--a----a---------------\n",
      "str40: da-cb----b-d-ce--d-c-----------------\n",
      "str41: d-e--d---be---eb----b-de-------------\n",
      "str42: ---c-d-a---d-c---d-c--d--a----a------\n",
      "str43: ---c--e---ed-c-ba-e----e---d---------\n",
      "str44: ---c--ea--e--c--a----a---ac---a------\n",
      "str45: d--c----c----ceb----b---ba-d---------\n",
      "str46: ----b--a--e---e-a-e-b---b--de-------"
     ]
    },
    {
     "name": "stdout",
     "output_type": "stream",
     "text": [
      "-\n",
      "str47: d---bde--b--ac-----c--d-b------------\n",
      "str48: --e-b---cbe---e--d---a-e-a-----------\n",
      "str49: -ae---e---e----b----b-d-b-c---a------\n",
      "str50: d---bd-a-b---ce----cb---b------------\n",
      "\n",
      "solution is feasible: True\n"
     ]
    }
   ],
   "source": [
    "_instance = util.parse(\"uniform_q05n050k010-010.txt\")\n",
    "util.show(_instance)\n",
    "_solution = solve(_instance)\n",
    "util.show(_instance, _solution)\n",
    "print(f\"solution is feasible: {util.is_feasible(_instance, _solution)}\")"
   ]
  },
  {
   "cell_type": "code",
   "execution_count": null,
   "id": "Kclp",
   "metadata": {},
   "outputs": [
    {
     "name": "stdout",
     "output_type": "stream",
     "text": [
      "--- Condition (with 4 chars) ---\n",
      "str01: ATGGGATACG\n",
      "str02: ATACCTTCCC\n",
      "str03: CACGAATTGA\n",
      "str04: TAAAATCTGT\n",
      "str05: AGGTAACAAA\n",
      "str06: TTCCTAGGTA\n",
      "str07: TTGTAGATCT\n",
      "str08: TGGGAAGTTC\n",
      "str09: TTCCACAACT\n",
      "str10: TCTAAACGAA\n",
      "\n",
      "--- Solution (of length 26) ---\n",
      "  Sol: TATCGACGTAAGACTAGTCATCGATC\n",
      "str01: -AT-G--G---GA-TA--C---G---\n",
      "str02: -AT--AC------CT--TC--C---C\n",
      "str03: ---C-ACG-AA---T--T----GA--\n",
      "str04: TA---A---AA---T---C-T-G-T-\n",
      "str05: -A--G--GTAA--C-A---A---A--\n",
      "str06: T-TC--C-TA-G----GT-A------\n",
      "str07: T-T-G---TA-GA-T---C-T-----\n",
      "str08: T---G--G---GA--AGT--TC----\n",
      "str09: T-TC--C--A---C-A---A-C--T-\n",
      "str10: T--C----TAA-AC--G--A---A--\n",
      "\n",
      "solution is feasible: True\n"
     ]
    }
   ],
   "source": [
    "_instance = util.parse(\"nucleotide_n010k010.txt\")\n",
    "util.show(_instance)\n",
    "_solution = solve(_instance)\n",
    "util.show(_instance, _solution)\n",
    "print(f\"solution is feasible: {util.is_feasible(_instance, _solution)}\")"
   ]
  },
  {
   "cell_type": "code",
   "execution_count": null,
   "id": "emfo",
   "metadata": {},
   "outputs": [
    {
     "name": "stdout",
     "output_type": "stream",
     "text": [
      "--- Condition (with 5 chars) ---\n",
      "str01: TAGTAGTAGACTCCGGAAGTGACAAACCCTGAAAAGAATGGATAAATATA\n",
      "str02: GGATAAACACTCCCGAAAATAATTTGACTTAAACAACGCGACAGTTCAAG\n",
      "str03: ATACCTTCCTAGGTAACAAACCAACCAACTTTTGATCTCTTGTAGATCTG\n",
      "str04: TAAATTATAATCTTATACTAGTAAAAAATAGGGTGTAACCGAAAACGGTC\n",
      "str05: TTAAAACAGCCTGTGGGTTGCACCCACTCACAGGGCCCACTGGGCGCAAG\n",
      "str06: ATGACTTCCAATGGATCCCAACCTCAAGCTTCCACCCCAATGGTTTCAGC\n",
      "str07: AACAAACCAACCAACTTTTGATCTCTTGTAGATCTGTTCTCTAAACGAAC\n",
      "str08: ATGAAAACGAAAATTATTATCAAGGGTATGGAAGTGGAAGCTGACGAAAT\n",
      "str09: ACTCGGCTGCATGCTTAGTGCACTCACGCAGTATAATTAATAACTAATTA\n",
      "str10: TTGTAGATCTGTTCTCTAAACGAACTTTAAAATCTGTGTGGCTGTCACTC\n",
      "str11: GCAGAGCATTTTCTAATATCCACAAAATGAAGGCAATAATTGTACTACTC\n",
      "str12: ATGAGCCAAGATCCGACGAAGAGCCCCAAGGAGGAGAAGGAGGGACCCCC\n",
      "str13: TCTCACAGTTCAAGAACCCAAAGTACCCCCCATAGCCCTCTTAAAGCCAC\n",
      "str14: AGGTTTATACCTTCCTAGGTAACAAACCAACCAACTTTCGATCTCTTGTA\n",
      "str15: AGGTTTATACCTTCCCAGGTAACAAACCAACCAACTTTCGATCTCTTGTA\n",
      "str16: TAAAACAACTCAATACAACATAAGAAAATCAACGCAAAAACACTCACAAA\n",
      "str17: CCGCCCATTTGGGCGGCTCTCGAGCGATAGCTCGTCGAATCCCTCGACCT\n",
      "str18: ATACCTTCCCAGGTAACAAACCAACCAACTTTCGATCTCTTGTAGATCTG\n",
      "str19: TCTCACAGTTCAAGAACCTCAAGTCTCCCCCATAGGCCTCTTTCAGTCAG\n",
      "str20: GATCTCTCTCACCGAACCTGGCCCCGGGCAAATGCCCTAATCCAGAGGTG\n",
      "str21: AGAGCAATCAGTGCATCAGAAATATACCTATTATACACTTTGCTAAGAAT\n",
      "str22: AATTAAAACATCTCAATACAACATAAGAAAAACAACGCAAAAACACTCAT\n",
      "str23: AAACGAACTTTAAAATCTGTGTGGCTGTCACTCGGCTGCATGCTTAGTGC\n",
      "str24: ATAACTAATTACTGTCGTTGACAGGACACGAGTAACTCGTCTATCTTCTG\n",
      "str25: ATGAGTGTCACGAATTCACGTACAATGAACTGGATGTTCACGTGGAATAA\n",
      "str26: ACCGTGGGCGAGCGGTGACCGGTGTCTTCCTAGTGGGTCCCACGTTGAAR\n",
      "str27: AAAGGTTTATACCTTCCCAGGTAACAAACCAACCAACTTTCGATCTCTTG\n",
      "str28: AGTAGTTCGCCTGTGTGAGCTGACAAACTTAGTAGTGTTTGTGAGGATTA\n",
      "str29: TTTATACCTTCCTAGGTAACAAACCAACCAACTTTCGATCTCTTGTAGAT\n",
      "str30: ATGCGGTCGTCTCTCCCCGGCTTTTTTTCCCCGCGCCGCGTTGGCGCCGA\n",
      "str31: GTGACAAAAACATAATGGACTCCAACACCATGTCAAGCTTTCAGGTAGAC\n",
      "str32: GTGTAAGAAACAGTAAGCCCGGAAGTGGTGTTTTGCGATTTCGAGGCCGG\n",
      "str33: GAGAATGAGTCTCATTACCGCCCGGTACTTAGCAAGCTAATAGTCACGGC\n",
      "str34: ATGTGGTCGATGCCATGGAGGCCCACCAGTTCATTAAGGCTCCTGGCATT\n",
      "str35: ACGAGCGTTTTAAGGGCCCGCGACTGCGACGGCCACATGGCCCTGTATGT\n",
      "str36: GGTTTATACCTTCCCAGGTAACAAACCAACCAACTTTCGATCTCTTGTAG\n",
      "str37: TGGGAAGTTCCAAAAGATCACAAAACACTACCAGTCAACCTGAAGTACAC\n",
      "str38: GAAGCGTTAACGTGTTGAGGAAAAGACAGCTTAGGAGAACAAGAGCTGGG\n",
      "str39: ACCAGCGCACTTCGGCAGCGGCAGCACCTCGGCAGCACCTCAGCAGCAAC\n",
      "str40: ATGGGACAACTTATTCCTATCATGTGCCAAGAGGTTTTACCCGGTGACCA\n",
      "str41: TTGTAGATCTGTTCTCTAAACGAACTTTAAAATCTGTGTGGTTGTCACTC\n",
      "str42: AACCAACCAACTTTCGATCTCTTGTAGATCTGTTCTCTAAACGAACTTTA\n",
      "str43: GGGTTCTGCCAGGCATAGTCTTTTTTTCTGGCGGCCCTTGTGTAAACCTG\n",
      "str44: GGCTGCATGCTTAGTGCACTCACGCAGTATAATTAATAACTAATTACTGT\n",
      "str45: TGCATGCTTAGTGCACTCACGCAGTATAATTAATAACTAATTACTGTCGT\n",
      "str46: TTCCACAACTTTCCACCAAGCTCTGCAAGATCCCAGAGTCAGGGGCCTGT\n",
      "str47: TCTAAACGAACTTTAAAATCTGTGTGGCTGTCACTCGGCTGCATGCTTAG\n",
      "str48: ACCGGATGGCCGCGATTTTTCGGAGTCCTTGGGGGACCACTCAGAATAGA\n",
      "str49: CTTGTAGATCTGTTCTCTAAACGAACTTTAAAATCTGTGTGGCTGTCACT\n",
      "str50: ATGAGCACTAAGCGAAGAACCAAAAAGCAGACAATACAACCCGCTATTAC\n",
      "\n",
      "--- Solution (of length 146) ---\n",
      "  Sol: ATGACTGACTAGATCAGTCATACGTCATCATGCTAGACTAGCTAGCTACAGTCAGACTACGATCACTGACATGACTGACATAGCTACGTACTGCATGACTGCATGCATGACTGACTGACTGCACTGACAGATCGTAGTACAGTAGR\n",
      "str01: -T-A--G--TAG-T-AG--A--C-TC--C--G---GA--AG-T-G--ACA---A-AC--C---C--TGA-A--A---A----G--A---A-TG---GA-T--A---A--A-T-A-T-A----------------------------\n",
      "str02: --G---GA-TA-A--A--CA--C-TC--C---C--GA--A---A---A---T-A-A-T----T---TGAC-T---T-A-A-A-C-A---AC-GC--GAC---A-G--T---T--C--A----A--G--------------------\n",
      "str03: AT-AC---CT---TC---C-TA-G-------G-TA-AC-A---A---AC---CA-AC--C-A--ACT----T---T----T-G--A--T-CT-C-T---TG--T--A-GA-T--CTG-----------------------------\n",
      "str04: -T-A---A--A--T---T-ATA----ATC-T--TA---TA-CTAG-TA-A---A-A--A--AT-A--G----G---G---T-G-TA---AC--C--GA----A---A--AC-G---G--T-C------------------------\n",
      "str05: -T---T-A--A-A--A--CA---G-C--C-TG-T-G----G---G-T----T--G-C-AC---C-C--AC-T--C--ACA--G----G----GC----C--CA--C-TG---G---G-C-GCA---A--G----------------\n",
      "str06: ATGACT---T----C---CA-A--T------G---GA-T--C---C--CA---A--C--C--TCA---A---G-CT----T--C--C--AC--C----C--CA---ATG---G--T---T----T--CAG--C-------------\n",
      "str07: A--AC--A--A-A-C---CA-AC--CA--A--CT----T---T---T---G--A---T-C--TC--T----TG--T-A----G--A--T-CTG--T---T-C-T-C-T-A---A---AC-G-A---AC------------------\n",
      "str08: ATGA---A--A-A-C-G--A-A----A--AT--TA---T---TA--T-CA---AG-----G------G---T-A-TG-----G--A---A--G--TG---G-A---A-G-CTGAC-GA----A---A----T--------------\n",
      "str09: A---CT--C--G----G-C-T--G-CAT---GCT----TAG-T-GC-AC--TCA--C---G--CA--G---T-A-T-A-AT---TA---A-T--A--ACT--A---AT---T-A--------------------------------\n",
      "str10: -T---TG--TAGATC--T---"
     ]
    },
    {
     "name": "stdout",
     "output_type": "stream",
     "text": [
      "--GT--TC-T-CTA-A--A-C--G--A-A--C----T----T---T-A-A--A---A--T--CT--GT---G--TG---GC-TG--T--C--ACT--C---------------------------\n",
      "str11: --G-C--A---GA---G-CAT---T--T--T-CTA-A-TA--T--C--CA--CA-A--A--AT----GA-A-G---G-CA-A--TA---A-T---TG--T--A--C-T-ACT--C-------------------------------\n",
      "str12: ATGA--G-C-----CA---A---G--ATC---C--GAC--G--A---A--G--AG-C--C---C-C--A-A-G---GA----G----G-A--G-A--A--G---G-A-G---G---GAC--C-C---C----C-------------\n",
      "str13: -T--CT--C-A---CAGT--T-C---A--A-G--A-AC---C---C-A-A---AG--TAC---C-C---C----C---CATAGC--C---CT-C-T---T--A---A--A--G-C---C---AC----------------------\n",
      "str14: A-G---G--T---T---T-ATAC--C-T--T-C----CTAG---G-TA-A--CA-A--AC---CA---AC----C--A-A---CT---T--T-C--GA-T-C-T-C-T---TG--T-A----------------------------\n",
      "str15: A-G---G--T---T---T-ATAC--C-T--T-C----C---C-AG-----GT-A-AC-A--A--AC---CA--AC---CA-A-CT---T--T-C--GA-T-C-T-C-T---TG--T-A----------------------------\n",
      "str16: -T-A---A--A-A-CA---A--C-TCA--AT---A--C-A---A-C-A---T-A-A----GA--A---A-AT--C--A-A---C---G--C---A--A----A---A--AC--ACT--C---AC--A-A-A---------------\n",
      "str17: ----C---C--G--C---C---C---AT--T--T-G----G---GC----G---G-CT-C--TC---GA---G-C-GA--TAGCT-CGT-C-G-A--A-T-C---C----CT--C-GAC--C--T---------------------\n",
      "str18: AT-AC---CT---TC---C---C---A----G---G--TA---A-C-A-A---A--C--C-A--AC---CA--ACT----T---T-CG-A-T-C-T--CT---TG--T-A--GA-T--CTG-------------------------\n",
      "str19: -T--CT--C-A---CAGT--T-C---A--A-G--A-AC---CT--C-A-AGTC----T-C---C-C---C----C--A--TAG----G--C--C-T--CT---T---T--C--A--G--T-CA--G--------------------\n",
      "str20: --GA-T--CT----C--TC-T-C---A-C---C--GA--A-C---CT---G---G-C--C---C-C-G----G---G-CA-A---A--T---GC----C--C-T--A--A-T--C---C---A--GA--G---GT-G---------\n",
      "str21: A-GA--G-C-A-ATCAGT-----G-CATCA-G--A-A--A--TA--TAC---C----TA---T---T-A--T-AC--AC-T---T---T---GC-T-A----A-G-A--A-T----------------------------------\n",
      "str22: A--A-T---TA-A--A---A--C---ATC-T-C-A-A-TA-C-A---ACA-T-A-A----GA--A---A-A--AC--A-A---C---G--C---A--A----A---A--AC--ACT--C---A-T---------------------\n",
      "str23: A--A---AC--GA--A--C-T---T--T-A----A-A--A--T--CT---GT--G--T--G------G-C-TG--T--CA---CT-CG----GC-TG-C---ATGC-T---T-A--G--TGC------------------------\n",
      "str24: AT-A---ACTA-AT---T-A--C-T------G-T---C--G-T---T---G--A--C-A-G------GACA---C-GA----G-TA---ACT-C--G--T-C-T--AT--CT---T--CTG-------------------------\n",
      "str25: ATGA--G--T-G-TCA--C----G--A--AT--T---C-A-C--G-TACA---A---T--GA--ACTG----GA-TG---T---T-C--AC-G--TG---G-A---AT-A---A--------------------------------\n",
      "str26: A---C---C--G-T--G------G-------GC--GA---GC--G-----GT--GAC--CG------G---TG--T--C-T---T-C---CT--A-G--TG---G---G--T--C---C--CAC-G-----T--T-G-A-A----R\n",
      "str27: A--A---A---G----GT--T---T-AT-A--C----CT---T--C--C---CAG-----G-T-A---ACA--A---AC----C-A---AC--CA--ACT---T---T--C-GA-T--CT-C--T------T-G------------\n",
      "str28: A-G--T-A---G-T---TC----G-C--C-TG-T-G--T-G--AGCT---G--A--C-A--A--ACT----T-A--G---TAG-T--GT--T---TG--TG-A-G---GA-T---T-A----------------------------\n",
      "str29: -T---T---TA--T-A--C---C-T--TC---CTAG----G-TA---ACA---A-AC--C-A--AC---CA--ACT----T---T-CG-A-T-C-T--CT---TG--T-A--GA-T------------------------------\n",
      "str30: ATG-C-G----G-TC-GTC-T-C-TC--C---C----C--G---GCT----T-----T----T---T----T-"
     ]
    },
    {
     "name": "stdout",
     "output_type": "stream",
     "text": [
      "--T--C----C--C---C-GC--G-C--C--GC--G--T---TG---GC---G-C----CG-A----------\n",
      "str31: --G--TGAC-A-A--A---A-AC---AT-A----A---T-G---G--AC--TC---C-A--A-CAC---CATG--T--CA-AGCT---T--T-CA-G---G--T--A-GAC-----------------------------------\n",
      "str32: --G--TG--TA-A---G--A-A----A-CA-G-TA-A---GC---C--C-G---GA--A-G-T----G----G--TG---T---T---T--TGC--GA-T---T---T--C-GA--G---GC-C-G---G----------------\n",
      "str33: --GA--GA--A--T--G--A---GTC-TCAT--TA--C---C--GC--C---C-G-----G-T-ACT----T-A--G-CA-AGCTA---A-T--A-G--T-CA--C--G---G-C-------------------------------\n",
      "str34: ATG--TG----G-TC-G--AT--G-C--CATG---GA---G---GC--C---CA--C--C-A-----G---T---T--CAT---TA---A--G---G-CT-C---C-TG---G-C--A-T----T---------------------\n",
      "str35: A---C-GA---G--C-GT--T---T--T-A----AG----G---GC--C---C-G-C---GA-C--TG-C--GAC-G-----GC--C--AC---ATG---GC---C----CTG--T-A-TG---T---------------------\n",
      "str36: --G---G--T---T---T-ATAC--C-T--T-C----C---C-AG-----GT-A-AC-A--A--AC---CA--AC---CA-A-CT---T--T-C--GA-T-C-T-C-T---TG--T-A--G-------------------------\n",
      "str37: -TG---G----GA--AGT--T-C--CA--A----A-A---G--A--T-CA--CA-A--A--A-CACT-AC----C--A----G-T-C--A----A---C--C-TG-A--A--G--T-AC---AC----------------------\n",
      "str38: --GA---A---G--C-GT--TA----A-C--G-T-G--T---T-G--A--G---GA--A--A--A--GACA-G-CT----TAG----G-A--G-A--AC---A---A-GA--G-CTG---G----G--------------------\n",
      "str39: A---C---C-AG--C-G-CA--C-T--TC--G---G-C-AGC--G-----G-CAG-C-AC---C--T--C--G---G-CA--GC-AC---CT-CA-G-C---A-GCA--AC-----------------------------------\n",
      "str40: ATG---G----GA-CA---A--C-T--T-AT--T---C---CTA--T-CA-T--G--T--G--C-C--A-A-GA--G-----G-T---T--T---T-AC--C---C--G---G--TGAC--CA-----------------------\n",
      "str41: -T---TG--TAGATC--T-----GT--TC-T-CTA-A--A-C--G--A-A--C----T----T---T-A-A--A---A--T--CT--GT---G--TG---G--T---TG--T--C--ACT-C------------------------\n",
      "str42: A--AC---C-A-A-C---CA-AC-T--T--T-C--GA-T--CT--CT----T--G--TA-GATC--TG---T---T--C-T--CTA---A----A---C-G-A---A---CT---T---T--A-----------------------\n",
      "str43: --G---G----G-T---TC-T--G-C--CA-G---G-C-A--TAG-T-C--T-----T----T---T----T---T----T--CT--G----GC--G---GC---C----CT---TG--TG---T-A-A-A-C------C--T-G-\n",
      "str44: --G---G-CT-G--CA-T-----G-C-T--T---AG--T-GC-A-CT-CA--C-G-C-A-G-T-A-T-A-AT---T-A-ATA---AC-TA----AT---T--A--C-TG--T----------------------------------\n",
      "str45: -TG-C--A-T-G--C--T--TA-GT------GC-A--CT--C-A-C----G-CAG--TA---T-A---A--T---T-A-ATA---AC-TA----AT---T--A--C-TG--T--C-G--T--------------------------\n",
      "str46: -T---T--C-----CA--CA-AC-T--T--T-C----C-A-C---C-A-AG-C----T-C--T----G-CA--A--GA--T--C--C---C---A-GA--G--T-CA-G---G---G---GC-CTG-----T--------------\n",
      "str47: -T--CT-A--A-A-C-G--A-AC-T--T--T---A-A--A---A--T-C--T--G--T--G-T----G----G-CTG---T--C-AC-T-C-G---G-CTGCATGC-T---T-A--G-----------------------------\n",
      "str48: A---C---C--G----G--AT--G-------GC----C--GC--G--A---T-----T----T---T----T--C-G-----G--A-GT-C--C-T---TG---G---G---G---GAC--CACT--CAGA----A-TA--G-A--\n",
      "str49: ----CT---T-G-T-AG--AT-C-T------G-T----T--CT--CTA-A---A--C---GA--ACT----T---T-A-A-A---A--T-CTG--TG--TG---GC-TG--T--C--ACT--------------------------\n",
      "str50: ATGA--G-C-A---C--T-A-A-G-C-----G--A-A---G--A---AC---CA-A--A--A--A--G-CA-GAC--A-ATA-C-A---AC--C----C-GC-T--AT---T-AC-------------------------------\n",
      "\n",
      "solution is feasible: True\n"
     ]
    }
   ],
   "source": [
    "_instance = util.parse(\"nucleotide_n050k050.txt\")\n",
    "util.show(_instance)\n",
    "_solution = solve(_instance)\n",
    "util.show(_instance, _solution)\n",
    "print(f\"solution is feasible: {util.is_feasible(_instance, _solution)}\")"
   ]
  },
  {
   "cell_type": "code",
   "execution_count": null,
   "id": "Hstk",
   "metadata": {},
   "outputs": [
    {
     "name": "stdout",
     "output_type": "stream",
     "text": [
      "--- Condition (with 19 chars) ---\n",
      "str01: MALSYCPKGT\n",
      "str02: MQSSLNAIPV\n",
      "str03: MPLSYQHFRK\n",
      "str04: MEEHVNELHD\n",
      "str05: MSNFDAIRAL\n",
      "str06: MFRNQNSRNG\n",
      "str07: MFYAHAFGGY\n",
      "str08: MSKFTRRPYQ\n",
      "str09: MSFVAGVTAQ\n",
      "str10: MESLVPGFNE\n",
      "\n",
      "--- Solution (of length 57) ---\n",
      "  Sol: MSFEAPLSYQEHVANFRKSFLNSDHALQNTVCPGFRAIRPVESGKGTALRNYHQDEG\n",
      "str01: M---A-LSY----------------------CP-----------KGT----------\n",
      "str02: M--------Q--------S---S---L-N-------AI-PV----------------\n",
      "str03: M----PLSYQ-H---FRK---------------------------------------\n",
      "str04: M--E------EHV-N--------------------------E------L---H-D--\n",
      "str05: MS------------NF-------D-A-----------IR--------AL--------\n",
      "str06: M-F-------------R----N-----QN-------------S------RN-----G\n",
      "str07: M-F-----Y----A----------HA--------F--------G-G-----Y-----\n",
      "str08: MS---------------K-F---------T-----R--RP-----------Y-Q---\n",
      "str09: MSF---------VA-------------------G------V-----TA-----Q---\n",
      "str10: M--E---S------------L---------V-PGF---------------N----E-\n",
      "\n",
      "solution is feasible: True\n"
     ]
    }
   ],
   "source": [
    "_instance = util.parse(\"protein_n010k010.txt\")\n",
    "util.show(_instance)\n",
    "_solution = solve(_instance)\n",
    "util.show(_instance, _solution)\n",
    "print(f\"solution is feasible: {util.is_feasible(_instance, _solution)}\")"
   ]
  },
  {
   "cell_type": "code",
   "execution_count": null,
   "id": "nWHF",
   "metadata": {},
   "outputs": [
    {
     "name": "stdout",
     "output_type": "stream",
     "text": [
      "--- Condition (with 20 chars) ---\n",
      "str01: MRHLNIDIETYSSNDIKNGVYKYADAEDFEILLFAYSIDGGEVECLDLTR\n",
      "str02: MERRAHRTHQNWDATKPRERRKQTQHRLTHPDDSIYPRIEKAEGRKEDHG\n",
      "str03: MEPGAFSTALFDALCDDILHRRLESQLRFGGVQIPPEVSDPRVYAGYALL\n",
      "str04: MGKFYYSNRRLAVFAQAQSRHLGGSYEQWLACVSGDSAFRAEVKARVQKD\n",
      "str05: FFRENLAFQQGKAREFPSEEARANSPTSRELWVRRGGNPLSEAGAERRGT\n",
      "str06: MDPSLTQVWAVEGSVLSAAVDTAETNDTEPDEGLSAENEGETRIIRITGS\n",
      "str07: MAFDFSVTGNTKLDTSGFTQGVSSMTVAAGTLIADLVKTASSQLTNLAQS\n",
      "str08: MAVILPSTYTDGTAACTNGSPDVVGTGTMWVNTILPGDFFWTPSGESVRV\n",
      "str09: MNTGIIDLFDNHVDSIPTILPHQLATLDYLVRTIIDENRSVLLFHIMGSG\n",
      "str10: MFVFLVLLPLVSSQCVNLRTRTQLPPAYTNSFTRGVYYPDKVFRSSVLHS\n",
      "str11: MDSKETILIEIIPKIKSYLLDTNISPKSYNDFISRNKNIFVINLYNVSTI\n",
      "str12: MLLSGKKKMLLDNYETAAARGRGGDERRRGWAFDRPAIVTKRDKSDRMAH\n",
      "str13: MNGEEDDNEQAAAEQQTKKAKREKPKQARKVTSEAWEHFDATDDGAECKH\n",
      "str14: MESLVPGFNEKTHVQLSLPVLQVRDVLVRGFGDSVEEVLSEARQHLKDGT\n",
      "str15: MRYIVSPQLVLQVGKGQEVERALYLTPYDYIDEKSPIYYFLRSHLNIQRP\n",
      "str16: MPRVPVYDSPQVSPNTVPQARLATPSFATPTFRGADAPAFQDTANQQARQ\n",
      "str17: MFVFLVLLPLVSSQCVNLRTRTQLPLAYTNSFTRGVYYPDKVFRSSVLHS\n",
      "str18: MFVFFVLLPLVSSQCVNLTTRTQLPPAYTNSFTRGVYYPDKVFRSSVLHS\n",
      "str19: MEAIISFAGIGINYKKLQSKLQHDFGRVLKALTVTARALPGQPKHIAIRQ\n",
      "str20: MASSGPERAEHQIILPESHLSSPLVKHKLLYYWKLTGLPLPDECDFDHLI\n",
      "str21: MESLVPGFNEKTHVQLSLPVLQVRDVLVRGFGDSVEEVLSEVRQHLKDGT\n",
      "str22: MLAPSPNSKIQLFNNINIDINYEHTLYFASVSAQNSFFAQWVVYSADKAI\n",
      "str23: MSAITETKPTIELPALAEGFQRYNKTPGFTCVLDRYDHGVINDSKIVLYN\n",
      "str24: MKNIAEFKKAPELAEKLLEVFSNLKGNSRSLDPMRAGKHDVVVIESTKKL\n",
      "str25: MPQPLKQSLDQSKWLREAEKHLRALESLVDSNLEEEKLKPQLSMGEDVQS\n",
      "str26: MFVFLVLLPLVSSQCVNLITRTQSYTNSFTRGVYYPDKVFRSSVLHSTQD\n",
      "str27: MKFDVLSLFAPWAKVDEQEYDQQLNNNLESITAPKFDDGATEIESERGDI\n",
      "str28: MFVFLVLLPLVSSQCVNFTNRTQLPSAYTNSFTRGVYYPDKVFRSSVLHS\n",
      "str29: MWSIIVLKLISIQPLLLVTSLPLYNPNMDSCCLISRITPELAGKLTWIFI\n",
      "str30: MESLVPGFNEKTHVQLSLPVLQVRDVLVRGFGDSVEEFLSEARQHLKDGT\n",
      "str31: MFVFLVLLPLVSSQCVMPLFNLITTTQSYTNFTRGVYYPDKVFRSSVLHL\n",
      "str32: MHQITVVSGPTEVSTCFGSLHPFQSLKPVMANALGVLEGKMFCSIGGRSL\n",
      "str33: MATLLRSLALFKRNKDKPPITSGSGGAIRGIKHIIIVPIPGDSSITTRSR\n",
      "str34: MESLVPGFNEKTHVQLSLPVLQVRDVLVRGFGDSMEEVLSEARQHLKDGT\n",
      "str35: MFVFLVLLPLVSSQCVNLTTGTQLPPAYTNSFTRGVYYPDKVFRSSVLHS\n",
      "str36: MANIINLWNGIVPMVQDVNVASITAFKSMIDETWDKKIEANTCISRKHRN\n",
      "str37: MLNRIQTLMKTANNYETIEILRNYLRLYIILARNEEGRGILIYDDNIDSV\n",
      "str38: MADPAGTNGEEGTGCNGWFYVEAVVEKKTGDAISDDENENDSDTGEDLVD\n",
      "str39: MFVFLVLLPLVSSQCVNLRTRTQLPPSYTNSFTRGVYYPDKVFRSSVLHS\n",
      "str40: MESLVPGFNEKTHVQLSLPVLQVCDVLVRGFGDSVEEVLSEARQHLKDGT\n",
      "str41: MNNQRKKTARPSFNMLKRARNRVSTVSQLAKRFSKGLLSGQGPMKLVMAF\n",
      "str42: MSNFDAIRALVDTDAYKLGHIHMYPEGTEYVLSNFTDRGSRIEGVTHTVH\n",
      "str43: MIELRHEVQGDLVTINVVETPEDLDGFRDFIRAHLICLAVDTETTGLDIY\n",
      "str44: MFVFLVLLPLVSSQCVMPLFNLITTNQSYTNSFTRGVYYPDKVFRSSVLH\n",
      "str45: MSKDLVARQALMTARMKADFVFFLFVLWKALSLPVPTRCQIDMAKKLSAG\n",
      "str46: MASLLKSLTLFKRTRDQPPLASGSGGAIRGIKHVIIVLIPGDSSIVTRSR\n",
      "str47: MRVRGILRNWQQWWIWTSLGFWMFMICSVVGNLWVTVYYGVPVWKEAKTT\n",
      "str48: MAVEPFPRRPITRPHASIEVDTSGIGGSAGSSEKVFCLIGQAEGGEPNTV\n",
      "str49: MFYAHAFGGYDENLHAFPGISSTVANDVRKYSVVSVYNKKYNIVKNKYMW\n",
      "str50: MANYSKPFLLDIVFNKDIKCINDSCSHSDCRYQSNSYVELRRNQALNKNL\n",
      "\n"
     ]
    },
    {
     "name": "stdout",
     "output_type": "stream",
     "text": [
      "--- Solution (of length 475) ---\n",
      "  Sol: MFAVFLESVLLPNRLVSSQPGFCVNEKTLHDAIRPLVQTRSLTAFSLPVYLQVRDSKETINLGIPVLSAFKRTQLPAVRNWSYTIDGEFLQMPALHIVEGDSNTKAFLRGVQIPNYKLSITEACDNVGSFTNKHQRGLPSYEDIVALTWAQSEKNVLDHMAREYTILAEKRGFPVQYTNDAQLPSIGVEDFTSPAKVRGTNYLEISVGRTHLPDEKGAFQSRHLWIKTVRDAGLYNSFTRGSDVLYEKPASQLRCIDFVGEKNSLYWADHPFTSILVQMIDRNAKLRSFETGAYLKPVRNSCLEIVSPDFWMAITHGVDSEAQKNGTLIPRADLGKFVIDESCRDYQHPGNLRSVITAKLTECLHNISRYDFVAGEKMICSQLTPVDRSWEHFVGNLDWVTSIYPARNIVQMGKETDLSTACIKSYGVLDNYGAEKMAVIGRKPVWKELASQGHRNSYCKDHIFVAGLMRTITVW\n",
      "str01: M------------R---------------H-----L------------------------N--I---------------------D----------I-E----T-----------Y--S---------S--N----------DI---------KN----------------G--V-Y------------------K-----Y---------------A------------DA--------------E---------DF--E-------------IL---------L--F---AY------S---I---D-------G--------G--------------E-------------V------ECL------D-----------LT---R---------------------------------------------------------------------------------------\n",
      "str02: M-----E------R-------------------R---------A---------------------------------------------------H------------R-----------T------------HQ-------------------N---------------------------------------------------------------------W-----DA------T--------KP----R------E--------------------R----R--------K--------------------------Q---T-------------------QH----R------LT---H-------------------P-D----------D---SIYP-R-I-----E--------K---------AE-----GRK----E------------DH----G--------\n",
      "str03: M-----E----P--------G----------A------------FS------------T---------A-----L-------------F-----------D----A-L---------------CD-----------------DI--L-----------H--R--------R-----------L-----E---S--------------------------Q---L-----R-------F--G------------------G----------------VQ-I----------------P----------P------------E----------------V---S--D---P---R-V--------------Y---AG----------------------------Y-A-----------L----------L----------------------------------------------\n",
      "str04: M-------------------G-----K-----------------F----Y--------------------------------Y------------------SN-----R--------------------------R-L-------A---------V----------------F-------AQ------------A------------------------QSRHL--------G-------GS---YE----Q--------------W--------L-------A-----------------C---VS---------G-DS-A--------------F------R-------------A---E----------V---K----------------------------AR--VQ--K--D----------------------------------------------------------\n",
      "str05: -F--F--------R-----------E----------------------------------NL------AF---Q----------------Q--------G----KA--R------------E-------F--------PS-E----------E-------AR-----A----------N-----S--------P-----T-----S--R-----E--------LW---VR---------RG------------------G--N-------P----L-----------S-E--A-----------------------G----A------------------E--R--------R---------------------G--------T-------------------------------------------------------------------------------------------\n",
      "str06: M-----------------------------D---P-----SLT--------QV---------------------------W------------A---VEG-S--------V------LS---A----------------------A---------V-D------T--AE--------TND-----------T-----------E--------PDE-G------L------------S------------A----------E-N--------------------------E-G-----------E----------T---------------R-------I----------------I------------R---------I----T----------G------S-------------------------------------------------------------------------\n",
      "str07: M-A-F-------------------------D-------------FS--V---------T---G----------------N---T--------------------K--L----------------D-----T--------S-------------------------------GF----"
     ]
    },
    {
     "name": "stdout",
     "output_type": "stream",
     "text": [
      "T---Q----GV----S------------S------------------------------------------------------------------------M-----------T------V--------------A--------A---GTLI--ADL---V--------------------K-T------------A------S-------S---------------------Q------L-T----------N-----------------LA-Q----S------------------\n",
      "str08: M-AV----------------------------I--L-----------P-------S--T-----------------------YT-DG----------------T-A----------------AC------TN----G--S---------------------------------P-----D-------V--------V-GT-------G-T--------------------------------------------------------------------M-------------------------------W------V------N-T-I----L--------------PG--------------------DF--------------------F-----W-T---P-------------S-------G-------E---------------S-------------V----R---V-\n",
      "str09: M-----------N--------------T----------------------------------GI--------------------ID---L----------------F-----------------DN-------H----------V------------D--------------------------SI-------P-----T----I------LP---------H----------------------------QL--------------A----T--L----D------------YL--VR---------------T-------------I---------IDE---------N-RSV----L---L-------F-------------------H----------I--------MG-----S-------G------------------------------------------------\n",
      "str10: MF-VFL--VLLP--LVSSQ---CVN---L----R----TR--T--------Q---------L--P----------PA-----YT------------------N---------------S----------FT----RG-------V------------------Y------------Y------P-----D-----KV---------------------F--R--------------S----S-VL------------------------H---S---------------------------------------------------------------------------------------------------------------------------------------------------------------------------------------------------------\n",
      "str11: M-----------------------------D---------S---------------KETI-L-I-----------------------E--------I---------------IP--K--I------------K------SY-----L---------LD------T-------------N------I------SP-K---------S----------------------------YN------D--------------F----------------I------------S----------RN-----------------------KN---I-------FVI-----------NL-----------------Y-------------------------N---V-S-------------T------I----------------------------------------------------\n",
      "str12: M----L---L------S---G-----K-----------------------------K-------------K--------------------M--L------------L----------------DN--------------YE-----T-A----------A------A--RG-------------------------RG--------G-----DE------R-------R---------RG-------------------------WA---F--------DR--------------P---------------AI---V--------T--------K-------RD-------------K--------S--D----------------R-----------------------M--------A--------------------------------H---------------------\n",
      "str13: M-----------N-------G----E-------------------------------E---------------------------D--------------D-N------------------E------------Q----------A---A----------A-E------------Q-----Q---------T---K-------------------K-A--------K--R----------------EKP------------K---------------Q-----A--R--------K-V----------------T----SEA-------------------------------------------------------------------WEHF----D-------A---------TD------------D--GAE-----------------------CK-H-------------\n",
      "str14: M-----ES-L-----V---PGF--NEKT-H------VQ---L---SLPV-LQVRD----------VL----------VR-------G-F----------GDS--------V----------E-------------------E--V-L----SE-------AR-------------Q----------------------------------HL---K--------------D-G-----T--------------------------------------------------------------------------------------------------------------------------------------------------------------------------------------------------------------------------------------------\n",
      "str15: M------------R-----------------------------------Y---------I-----V-S-------P--------------Q---L--V---------L---Q--------------VG----K---G-------------Q-E--V------E-------R---------A-L------------------YL------T--P---------------------Y-------D--Y---------ID---EK-S------P---I------------------Y---------------------------------------------------Y-------------------------F----------L----RS--H----L----------NI-Q--------------"
     ]
    },
    {
     "name": "stdout",
     "output_type": "stream",
     "text": [
      "----------------R-P-------------------------------\n",
      "str16: M----------P-R-V---P---V-------------------------Y----DS--------P--------Q---V---S----------P---------NT------V--P--------------------Q----------A---------------R----LA---------T-----PS-----F---A----T------------P--------------T---------F-RG--------A------D----------A--P------------A----F---------------------------------Q---------D-----------------------TA-------N---------------Q----------------------------Q---------A--------------------R---------Q-----------------------\n",
      "str17: MF-VFL--VLLP--LVSSQ---CVN---L----R----TR--T--------Q---------L--P-L-A-------------YT------------------N---------------S----------FT----RG-------V------------------Y------------Y------P-----D-----KV---------------------F--R--------------S----S-VL------------------------H---S---------------------------------------------------------------------------------------------------------------------------------------------------------------------------------------------------------\n",
      "str18: MF-VF----------------F-V----L------L-----------P--L-V--S-----------S-----Q-------------------------------------------------C--V----N-----L---------T----------------T-----R------T---QLP---------PA------Y-------T-------------------------NSFTRG--V-Y-------------------Y----P---------D---K------------V-----------F--------------------R----------S-----------SV----L----H--S-----------------------------------------------------------------------------------------------------------\n",
      "str19: M-----E------------------------AI--------------------------I-------S-F------A---------G---------I--G------------I-NYK---------------K----L------------QS-K--L------------------Q----------------------------------H--D----F-------------G------R---VL--K-A--L-------------------T---V-------------T-A-----R-------------A--------------L-P----G-----------Q-P---------K-----H-I------A----I--------R----------------------Q----------------------------------------------------------------\n",
      "str20: M-A----S--------S---G-------------P----------------------E-------------R----A----------E-------H---------------QI------I-----------------LP--E---------S------H-------L-----------------S-------SP--------L---V--------K------H---K------L----------LY-------------------YW-----------------KL----TG--L-P-----L----PD-----------E---------------------C-D--------------------------F--------------D----H----L-----I------------------------------------------------------------------------\n",
      "str21: M-----ES-L-----V---PGF--NEKT-H------VQ---L---SLPV-LQVRD----------VL----------VR-------G-F----------GDS--------V----------E-------------------E--V-L----SE--V-----R-------------Q----------------------------------HL---K--------------D-G-----T--------------------------------------------------------------------------------------------------------------------------------------------------------------------------------------------------------------------------------------------\n",
      "str22: M----L-------------------------A--P-----S------P------------N------S--K-------------I-----Q---L-----------F----"
     ]
    },
    {
     "name": "stdout",
     "output_type": "stream",
     "text": [
      "---N----------N-----------------I----------N----------I-------------D-----I--------------NY-E------H----------------T-----LY--F-----------AS-------V----S---A---------Q----N----SF--------------------F--A---------Q------------------------------------------------------------------W---V-----V---Y--------------S-A--------D-----K-A-I-----------------------------------\n",
      "str23: M------S-----------------------AI-----T------------------ET-----------K----P-------TI--E-L--PAL----------A---------------E-----G-F----QR----Y-------------N--------------K-------T-----P--G---FT--------------------------------------------------------------C---V-----L---D------------R-----------Y--------------D------HGV----------I---------------------N-------------------D---------S--------------------------------K--------I----VL--Y-----------------------N-------------------\n",
      "str24: M-------------------------K---------------------------------N--I----A------------------EF---------------K-----------K-----A---------------P--E----L--A--EK--L---------L-E-----V---------------F-S-------N-L------------KG------------------NS--R-S--L-----------D-------------P-------M--R-A-------G---K-------------------H--D------------------V----------------V-----------------V-----I-----------E----------S-------------T-------K-----------K------------L--------------------------\n",
      "str25: M----------P------QP--------L---------------------------K----------------Q-------S-------L----------D----------Q------S-------------K---------------W-------L----RE----AEK----------------------------------------HL---------R---------A-L------------E---S-L-----V---------D----S--------N--L---E-------------E----------------E--K---L-------K------------P--------------------------------QL-----S----------------------MG-E-D----------V-----------------------Q----S------------------\n",
      "str26: MF-VFL--VLLP--LVSSQ---CVN---L---I-----TR--T--------Q---S--------------------------YT------------------N---------------S----------FT----RG-------V------------------Y------------Y------P-----D-----KV---------------------F--R--------------S----S-VL------------------------H---S----------------T-------------------------------Q---------D----------------------------------------------------------------------------------------------------------------------------------------------\n",
      "str27: M-------------------------K-----------------F---------D----------VLS------L-------------F----A-------------------P----------------------------------WA---K-V-D----E------------Q------------E------------Y-----------D-----Q-------------------------------QL---------N-------------------N----------------N--LE--S------IT------A-------P-----KF--D----D----G-------A--TE----I--------E----S---------E---------------R-----G---D-----I----------------------------------------------------\n",
      "str28: MF-VFL--VLLP--LVSSQ---CVN-------------------F-------------T-N----------RTQLP-----S-----------A---------------------Y----T----N--SFT----RG-------V------------------Y------------Y------P-----D-----KV---------------------F--R--------------S----S-VL------------------------H---S---------------------------------------------------------------------------------------------------------------------------------------------------------------------------------------------------------\n",
      "str29: M-------------------------------------------------------------------------------WS--I-----------IV---------L--------KL-I--------S--------------I------Q----------------------P--------L-------------------L--------L----------------V---------T--S--L---P---L------------Y----------------N-------------P--N-----------M------DS----------------------C-------------------CL--ISR---------I----TP-----E-----L--------A------GK---L-T-------------------------W----------------IF-------I---\n",
      "str30: M-----ES-L-----V---PGF--NEKT-H------VQ---L---SLPV-LQVRD----------VL----------VR-------G-F----------GDS--------V----------E-------------------E------------------------------F---------L-S---E-----A--R---------------------Q--HL--K---D-G-----T---------------------------------------------------------------------------------------------------------------------------"
     ]
    },
    {
     "name": "stdout",
     "output_type": "stream",
     "text": [
      "-----------------------------------------------------------------------------------------------------------------\n",
      "str31: MF-VFL--VLLP--LVSSQ---CV-------------------------------------------------------------------MP-L-----------F-------N--L-IT---------T----------------T--QS-----------YT-------------N-----------FT-----RG-------V---------------------------Y----------Y--P-------D----K--------------V-----------F---------R-S-----S----------V---------L-------------------H---L---------------------------------------------------------------------------------------------------------------------------\n",
      "str32: M----------------------------H-------Q---------------------I------------T----V-------------------V---S-------G---P------TE----V-S-T---------------------------------------------------------------------------------------------------------------------------C--F-G---SL----HPF-----Q---------S------LKPV-------------MA-----------N------A-LG--V-------------L---------E------------G-KM--------------F----------------------------C--S--------------IG-----------G-R-S----------L-------\n",
      "str33: M-A------------------------TL------L---RSL-A--L----------------------FKR-------N------------------------K-------------------D-------K-----P----------------------------------P-----------I-----TS-----G------S-G--------GA-------I---R--G----------------------I-----K-------H----I----I------------------------IV-P-----I---------------P----G----D-S-----------S-IT---T-------R-----------S------R---------------------------------------------------------------------------------------\n",
      "str34: M-----ES-L-----V---PGF--NEKT-H------VQ---L---SLPV-LQVRD----------VL----------VR-------G-F----------GDS---------------------------------------------------------M--E-----E-----V-------L-S---E-----A--R---------------------Q--HL--K---D-G-----T--------------------------------------------------------------------------------------------------------------------------------------------------------------------------------------------------------------------------------------------\n",
      "str35: MF-VFL--VLLP--LVSSQ---CVN---L---------T---T-------------------G---------TQLP----------------PA---------------------Y----T----N--SFT----RG-------V------------------Y------------Y------P-----D-----KV---------------------F--R--------------S----S-VL------------------------H---S---------------------------------------------------------------------------------------------------------------------------------------------------------------------------------------------------------\n",
      "str36: M-A---------N-------------------I--------------------------INL------------------W---------------------N------G--I-------------V-----------P--------------------M--------------VQ---D-------V------------N-----V----------A--S----I-T---A-----F---------K--S---------------------------MID--------ET-------------------W-------D----K-----------K--I-E----------------A-------N-----------------T-------------------------------------CI-S----------------RK----------HRN-------------------\n",
      "str37: M----L------NR------------------I----QT--L---------------------------"
     ]
    },
    {
     "name": "stdout",
     "output_type": "stream",
     "text": [
      "----------------------M------------K---------------T-A--N-----N--------YE-----T-----------------I--E----------------I----------------L-----R--------------------------N---------Y------LR----------LY--------I----I-----L------A-----RN---E----------------E----G----R---G---I------------L---I-------------YD---------------D--------N------I-------------D-S--------V-----------------------------------------------\n",
      "str38: M-A---------------------------D---P--------A------------------G---------T------N------GE----------EG---T-----G-------------C-N-G--------------------W-----------------------F---Y----------VE-----A-V---------V-------EK----------KT----G---------D------A-----I-------S----D-----------D--------E---------N---E--------------------N-------D--------S--D-----------T-----------------GE----------D---------L--V----------------D----------------------------------------------------------\n",
      "str39: MF-VFL--VLLP--LVSSQ---CVN---L----R----TR--T--------Q---------L--P----------P-----SYT------------------N---------------S----------FT----RG-------V------------------Y------------Y------P-----D-----KV---------------------F--R--------------S----S-VL------------------------H---S---------------------------------------------------------------------------------------------------------------------------------------------------------------------------------------------------------\n",
      "str40: M-----ES-L-----V---PGF--NEKT-H------VQ---L---SLPV-LQV----------------------------------------------------------------------CD-V----------L------V----------------R---------GF-------------G--D--S---V------E----------E-------------V----L--S---------E--A---R-----------------------Q-------------------------------------H-----------L-------K---D---------G------T----------------------------------------------------------------------------------------------------------------------\n",
      "str41: M-----------N-----------N------------Q-R----------------K-------------K-T---A-R-------------P--------S----F-------N--------------------------------------------M------L--KR---------A----------------R--N-------R-------------------V-------S-T----V------SQL--------------A----------------K-R-F-----------S----------------------K-G-L-----L-------S-------G-------------------------------Q------------G---------P------M-K---L---------V--------MA-------------------------F-----------\n",
      "str42: M------S----N--------F--------DAIR---------A--L-V-----D---T--------------------------D-------A---------------------YKL---------G-----H---------I--------------HM---Y---------P--------------E---------GT---E------------------------------Y--------VL-----S-----------N--------FT-------DR---------G--------S-----------------------------R-------I-E--------G----V-T-------H------------------T-V-----H-----------------------------------------------------------------------------------\n",
      "str43: M-------------------------------I------------------------E---L---------R-----------------------H--E-----------VQ---------------G--------------D---L--------V--------TI------------N--------V--------V------E-----T--P-E---------------D--L--------D----------------"
     ]
    },
    {
     "name": "stdout",
     "output_type": "stream",
     "text": [
      "G-----------F---------R--------------------------DF---I----------------RA---------------H---L---I------CL---------A-----------VD-------------T-------------ET---T------G-LD---------I-----------------Y-----------------\n",
      "str44: MF-VFL--VLLP--LVSSQ---CV-------------------------------------------------------------------MP-L-----------F-------N--L-IT---------TN--Q----SY------T------N-----------------------------S-----FT-----RG-------V---------------------------Y----------Y--P-------D----K--------------V-----------F---------R-S-----S----------V---------L-------------------H-------------------------------------------------------------------------------------------------------------------------------\n",
      "str45: M------S------------------K---D----LV------A---------R-------------------Q--A------------L-M-----------T-A--R--------------------------------------------------M---------K----------A--------DF-----V---------------------F------------------F------L------------FV-----L-W-----------------K-------A-L-----S-L----P---------V-----------P--------------------------T-----------R----------C-Q--------------------I-------------D-------------------MA----K---K-L-S--------------AG--------\n",
      "str46: M-A----S-LL---------------K-------------SLT---L----------------------FKRT-----R------D----Q-P--------------------P---L----A-----S-------G--S-------------------------------G--------------G-------A---------I---R-------G--------IK------------------------------------------H------V--I------------------------IV---------------------LIP----G----D-S-----------S-I----------------V----------T---RS-----------------R--------------------------------------------------------------------\n",
      "str47: M------------R-V-----------------R----------------------------GI--L----R-------NW---------Q--------------------Q------------------------------------W---------------------------------------------------------------------------WI----------------------------------------W-----TS-L---------------G-----------------FWM------------------------F----------------------------------------MICS----V-------VGNL-WVT--------V---------------Y-----YG-----V----PVWKE-A---------K----------T-T--\n",
      "str48: M-AV--E----P---------F------------P----R-------------R----------P-------------------I------------------T----R----P-------------------H-----------A-----S-------------I--E-----V----D-----------TS-----G-----I--G--------G---S----------AG---S----S----EK----------V------------F-----------------------------CL-I-----------G-----Q--------A--------E--------G------------------------GE--------P----------N----T--------V-----------------------------------------------------------------\n",
      "str49: MF-----------------------------------------------Y------------------A--------------------------H---------AF--G-----------------G------------Y-D---------E-N-L-H-A-----------FP------------G-----------------IS--------------S------TV--A---N------DV---------R-------K---Y-------S--V--------------------V--S----V---------------------------------------Y----N-------K-----------------K--------------------------Y---NIV---K----------------N----K-------"
     ]
    },
    {
     "name": "stdout",
     "output_type": "stream",
     "text": [
      "--------------Y----------M-----W\n",
      "str50: M-A---------N------------------------------------Y-----SK-------P----F----L--------------L----------D-----------I-------------V--F-NK---------DI---------K----------------------------------------------------------------------------------------------------CI------N-----D----S---------------------------C----S--------H---S------------D---------CR-YQ------S-----------N-S-Y--V--E------L----R------------------RN--Q---------A-------L-N----K-------------------N-----------L-------\n",
      "\n",
      "solution is feasible: True\n"
     ]
    }
   ],
   "source": [
    "_instance = util.parse(\"protein_n050k050.txt\")\n",
    "util.show(_instance)\n",
    "_solution = solve(_instance)\n",
    "util.show(_instance, _solution)\n",
    "print(f\"solution is feasible: {util.is_feasible(_instance, _solution)}\")"
   ]
  }
 ],
 "metadata": {},
 "nbformat": 4,
 "nbformat_minor": 5
}
