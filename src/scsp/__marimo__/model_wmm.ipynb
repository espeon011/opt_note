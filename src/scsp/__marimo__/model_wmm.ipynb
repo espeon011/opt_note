{
 "cells": [
  {
   "cell_type": "code",
   "execution_count": null,
   "id": "Hbol",
   "metadata": {},
   "outputs": [],
   "source": [
    "import marimo as mo\n",
    "import nbformat\n",
    "import util"
   ]
  },
  {
   "cell_type": "markdown",
   "id": "MJUe",
   "metadata": {
    "marimo": {
     "config": {
      "hide_code": true
     }
    }
   },
   "source": [
    "# Weighted Majority Merge アルゴリズム"
   ]
  },
  {
   "cell_type": "markdown",
   "id": "vblA",
   "metadata": {
    "marimo": {
     "config": {
      "hide_code": true
     }
    }
   },
   "source": [
    "- 計算量: ?\n",
    "- 近似精度: なし"
   ]
  },
  {
   "cell_type": "markdown",
   "id": "bkHC",
   "metadata": {
    "marimo": {
     "config": {
      "hide_code": true
     }
    }
   },
   "source": [
    "与えられた文字列たちの先頭の文字列を調べ, 優先度の高い順に採用していく流れは Majority Merge と同じ.\n",
    "Weighted Majority Merge では出現するか否かの代わりに残された文字列長を考えた重み付き出現回数を採用する.\n",
    "\n",
    "- 解 $\\mathrm{sol}$ を空文字列で初期化する.\n",
    "- 各文字 $c$ に対し重要度 $\\sum_{i=1, \\ s_i[0] = c}^n |s_i|$ を計算し, 重要度が最大である $c$ を求める.\n",
    "- $\\mathrm{sol}$ の後ろに $c$ を追加する.\n",
    "- 各文字列 $s_1, s_2, \\dots, s_n$ に対し, 先頭の文字が $c$ である場合は先頭 1 文字を削除する.\n",
    "- $s_1, s_2, \\dots, s_n$ が全て空文字列になれば終了."
   ]
  },
  {
   "cell_type": "code",
   "execution_count": null,
   "id": "lEQa",
   "metadata": {
    "marimo": {
     "name": "*solve"
    }
   },
   "outputs": [],
   "source": [
    "def solve(instance: list[str]) -> str:\n",
    "    chars = sorted(list(set(\"\".join(instance))))\n",
    "    indices = [0 for _ in instance]\n",
    "    solution = \"\"\n",
    "\n",
    "    while not all(idx == len(s) for idx, s in zip(indices, instance)):\n",
    "        counts = [\n",
    "            sum(\n",
    "                len(s) - idx\n",
    "                for idx, s in zip(indices, instance)\n",
    "                if idx < len(s) and s[idx] == c\n",
    "            )\n",
    "            for c in chars\n",
    "        ]\n",
    "        next_char = chars[counts.index(max(counts))]\n",
    "\n",
    "        solution += next_char\n",
    "        for jdx in range(len(instance)):\n",
    "            s = instance[jdx]\n",
    "            idx = indices[jdx]\n",
    "            if idx < len(s) and s[idx] == next_char:\n",
    "                indices[jdx] += 1\n",
    "\n",
    "    return solution"
   ]
  },
  {
   "cell_type": "code",
   "execution_count": null,
   "id": "PKri",
   "metadata": {},
   "outputs": [
    {
     "name": "stdout",
     "output_type": "stream",
     "text": [
      "--- Condition (with 25 chars) ---\n",
      "str1: tkgnkuhmpxnhtqgxzvxis\n",
      "str2: iojiqfolnbxxcvsuqpvissbxf\n",
      "str3: ulcinycosovozpplp\n",
      "str4: igevazgbrddbcsvrvnngf\n",
      "\n",
      "--- Solution (of length 75) ---\n",
      " Sol: iojiqtfgkegolnvakublzcghxbimxcnprdvxycdnsbhoucsqtovpqgviorxzvsnpsbxnpgfilps\n",
      "str1: -----t--k-g--n--ku-----h---m---p---x---n--h-----t---qg----xzv-----x----i--s\n",
      "str2: iojiq-f----oln----b-----x---xc----v-----s---u--q---p--vi-----s--sbx---f----\n",
      "str3: -----------------u-l-c----i---n-----yc-----o--s--ov-----o--z---p----p---lp-\n",
      "str4: i------g-e----va----z-g--b------rd----d--b---cs---v------r--v-n----n-gf----\n",
      "\n",
      "solution is feasible: True\n"
     ]
    }
   ],
   "source": [
    "_instance = util.parse(\"uniform_q26n004k015-025.txt\")\n",
    "util.show(_instance)\n",
    "_solution = solve(_instance)\n",
    "util.show(_instance, _solution)\n",
    "print(f\"solution is feasible: {util.is_feasible(_instance, _solution)}\")"
   ]
  },
  {
   "cell_type": "code",
   "execution_count": null,
   "id": "Xref",
   "metadata": {},
   "outputs": [
    {
     "name": "stdout",
     "output_type": "stream",
     "text": [
      "--- Condition (with 26 chars) ---\n",
      "str1: tkgnkuhmpxnhtqgxzvxis\n",
      "str2: iojiqfolnbxxcvsuqpvissbxf\n",
      "str3: ulcinycosovozpplp\n",
      "str4: igevazgbrddbcsvrvnngf\n",
      "str5: pyplrzxucpmqvgtdfuivcdsbo\n",
      "str6: pbdevdcvdpfzsmsbroqvbbh\n",
      "str7: enbczfjtvxerzbrvigple\n",
      "str8: rxwxqkrdrlctodtmprpxwd\n",
      "\n",
      "--- Solution (of length 128) ---\n",
      " Sol: pioyjpbilrdeqtxfgknwzxubcevgolndcqkazbfpruvdghmpxjbrinqtvxcflcdgtdvyzscoebhmsrucdtqfzbrovpsviguimprvoxzpcqvxsdsbnnplbgiwxfdehops\n",
      "str1: -------------t---k---------g--n---k------u---hmpx----n--------------------h------tq----------g-------xz---vx----------i--------s\n",
      "str2: -io-j--i----q--f------------oln------b----------x--------xc-------v--s--------u---q------p-vi---------------s-sb--------xf------\n",
      "str3: ----------------------u------l--c-------------------in-------------y--co----s----------ov-----------o-zp----------pl----------p-\n",
      "str4: -i--------------g--------ev--------az-------g-----br----------d--d-------b-----c----------sv------rv------------nn---g---f------\n",
      "str5: p--y-p--lr----------zxu-c--------------p------m-------q-v------gtd-----------------f----------ui---v----c----dsb-------------o--\n",
      "str6: p-----b---de--------------v----dc---------vd---p-----------f--------zs-----ms--------bro-----------------qv----b----b-------h---\n",
      "str7: -----------e------n----bc-----------z-f----------j-----tvx--------------e----r------zbr-v---ig---p-----------------l-------e----\n",
      "str8: ---------r----x----w-x-----------qk-----r--d-------r--------lc--t------o--------dt--------------mpr----p---x-----------w--d-----\n",
      "\n",
      "solution is feasible: True\n"
     ]
    }
   ],
   "source": [
    "_instance = util.parse(\"uniform_q26n008k015-025.txt\")\n",
    "util.show(_instance)\n",
    "_solution = solve(_instance)\n",
    "util.show(_instance, _solution)\n",
    "print(f\"solution is feasible: {util.is_feasible(_instance, _solution)}\")"
   ]
  },
  {
   "cell_type": "code",
   "execution_count": null,
   "id": "SFPL",
   "metadata": {},
   "outputs": [
    {
     "name": "stdout",
     "output_type": "stream",
     "text": [
      "--- Condition (with 26 chars) ---\n",
      "str01: tkgnkuhmpxnhtqgxzvxis\n",
      "str02: iojiqfolnbxxcvsuqpvissbxf\n",
      "str03: ulcinycosovozpplp\n",
      "str04: igevazgbrddbcsvrvnngf\n",
      "str05: pyplrzxucpmqvgtdfuivcdsbo\n",
      "str06: pbdevdcvdpfzsmsbroqvbbh\n",
      "str07: enbczfjtvxerzbrvigple\n",
      "str08: rxwxqkrdrlctodtmprpxwd\n",
      "str09: kkqafigqjwokkskrblg\n",
      "str10: lxxpabivbvzkozzvd\n",
      "str11: krifsavncdqwhzc\n",
      "str12: qaxudgqvqcewbfgijowwy\n",
      "str13: rsxqjnfpadiusiqbezhkohmg\n",
      "str14: iwshvhcomiuvddm\n",
      "str15: htxxqjzqbctbakn\n",
      "str16: xusfcfzpeecvwantfmgqzu\n",
      "\n",
      "--- Solution (of length 176) ---\n",
      "  Sol: iprxuskwxqklrojiqfaxcfigenbdyczpevfolrsazxudcpgahvtdqbjinvbxxqcekvwgnkuhmpscovqtvxfzklrdcgtdobfuiqwenhsmzpvcsbrdtizjavzqbgrvniesksmptzcfhkorbxjmgqpzvluxotbwvdahngbdmfikweghnpsy\n",
      "str01: --------------------------------------------------t-------------k--gnkuhmp-------x------------------nh----------t------q-g-------------------x-----zv--x--------------i-------s-\n",
      "str02: i------------ojiqf-----------------ol-------------------n-bxx-c--v--------s--------------------u-q-------pv------i-------------s-s----------bx-----------------------f----------\n",
      "str03: ----u------l--------c-i--n--yc-----o--s-------------------------------------ov--------------o-----------zp-------------------------p-----------------l-----------------------p--\n",
      "str04: i----------------------ge--------v-----az-----g------b--------------------------------rd---d-b-------------cs--------v----rvn-----------------------------------ng---f----------\n",
      "str05: -p--------------------------y--p----lr--zxu-cp--------------------------m-----q-v--------gtd--fui---------vc---d---------------s------------b-----------o-----------------------\n",
      "str06: -p------------------------bd----ev---------dc----v-d---------------------p--------fz------------------sm----sbr---------------------------o------q--v-----b-------b--------h----\n",
      "str07: ------------------------enb--cz---f-------------------j------------------------tvx-----------------e----------r---z-----b-rv-i------------------g-p--l-------------------e------\n",
      "str08: --rx---wxqk-r--------------d---------r-----------------------------------------------l--c-t-o------------------dt-----------------mp-------r------p----x---w-d------------------\n",
      "str09: ------k---k-----q-a--fig----------------------------q-j-----------w---------o-------k-------------------------------------------ks-------k-rb--------l-----------g--------------\n",
      "str10: -----------l-------x---------------------x---p-a-----b-i-vb------v-----------------zk-------o-----------z---------z--v---------------------------------------d------------------\n",
      "str11: ------k-----r--i-f--------------------sa---------v------n-----c------------------------d---------qw--h--z--c--------------------------------------------------------------------\n",
      "str12: ----"
     ]
    },
    {
     "name": "stdout",
     "output_type": "stream",
     "text": [
      "-----q--------ax----------------------ud--g-----q----v---qce--w--------------------------bf--------------------------g---i----------------j---------o--w------------w------y\n",
      "str13: --r--s--xq----j----------n--------f----------p-a---d---i--------------u---s---------------------iq-----------b----------------e------z--hko--------------------h----m-----g-----\n",
      "str14: i------w------------------------------s---------hv---------------------h---co--------------------------m---------i------------------------------------u-----vd-----dm-----------\n",
      "str15: ------------------------------------------------h-t--------xxq-----------------------------------------------------j--zqb-------------c------------------tb---a--------k----n---\n",
      "str16: ---xus-----------f--cf--------zpe------------------------------e-----------c-v--------------------w-----------------a-------n-------t--f-------mgq-z--u-------------------------\n",
      "\n",
      "solution is feasible: True\n"
     ]
    }
   ],
   "source": [
    "_instance = util.parse(\"uniform_q26n016k015-025.txt\")\n",
    "util.show(_instance)\n",
    "_solution = solve(_instance)\n",
    "util.show(_instance, _solution)\n",
    "print(f\"solution is feasible: {util.is_feasible(_instance, _solution)}\")"
   ]
  },
  {
   "cell_type": "code",
   "execution_count": null,
   "id": "BYtC",
   "metadata": {},
   "outputs": [
    {
     "name": "stdout",
     "output_type": "stream",
     "text": [
      "--- Condition (with 5 chars) ---\n",
      "str01: dcbccdbcce\n",
      "str02: bddbeeeebd\n",
      "str03: cacdeecebe\n",
      "str04: aeddddebdd\n",
      "str05: acbeecabce\n",
      "str06: bbabebdcba\n",
      "str07: bbaeaebada\n",
      "str08: eeeecbdbee\n",
      "str09: ccdeedadcd\n",
      "str10: bdabdbeaad\n",
      "\n",
      "--- Solution (of length 32) ---\n",
      "  Sol: bdcabcdebeaecdaebcdebdcdbeabdade\n",
      "str01: -dc-bc------cd--bc----c--e------\n",
      "str02: bd----d-be-e---e---ebd----------\n",
      "str03: --ca-cde-e--c--eb--e------------\n",
      "str04: ---a---e-----d----d--d-d-e-bd-d-\n",
      "str05: ---a-c--be-ec-a-bc-e------------\n",
      "str06: b---b-----a-----b--ebdc-b-a-----\n",
      "str07: b---b-----ae--aeb---------a-da--\n",
      "str08: -------e-e-e---e-c--bd--be-----e\n",
      "str09: --c--cde-e---da---d---cd--------\n",
      "str10: bd-ab-d-bea---a---d-------------\n",
      "\n",
      "solution is feasible: True\n"
     ]
    }
   ],
   "source": [
    "_instance = util.parse(\"uniform_q05n010k010-010.txt\")\n",
    "util.show(_instance)\n",
    "_solution = solve(_instance)\n",
    "util.show(_instance, _solution)\n",
    "print(f\"solution is feasible: {util.is_feasible(_instance, _solution)}\")"
   ]
  },
  {
   "cell_type": "code",
   "execution_count": null,
   "id": "RGSE",
   "metadata": {},
   "outputs": [
    {
     "name": "stdout",
     "output_type": "stream",
     "text": [
      "--- Condition (with 5 chars) ---\n",
      "str01: dcbccdbcce\n",
      "str02: bddbeeeebd\n",
      "str03: cacdeecebe\n",
      "str04: aeddddebdd\n",
      "str05: acbeecabce\n",
      "str06: bbabebdcba\n",
      "str07: bbaeaebada\n",
      "str08: eeeecbdbee\n",
      "str09: ccdeedadcd\n",
      "str10: bdabdbeaad\n",
      "str11: ededaaaeaa\n",
      "str12: aaeaabeeac\n",
      "str13: eaabcaccdb\n",
      "str14: bdeeadeade\n",
      "str15: caedadeeed\n",
      "str16: ebcadbabbe\n",
      "str17: ddceeabdea\n",
      "str18: dabcddeaec\n",
      "str19: aadceedaab\n",
      "str20: aeecceeeaa\n",
      "str21: bbdaecaade\n",
      "str22: dacedaedab\n",
      "str23: aaeabbbbce\n",
      "str24: dedbcbcaab\n",
      "str25: dbdaaebbcb\n",
      "str26: debedbebac\n",
      "str27: ceebcdcbde\n",
      "str28: dbedaadaab\n",
      "str29: cccdcbebdc\n",
      "str30: aeeacdbcbd\n",
      "str31: dacbeacccd\n",
      "str32: ecebccdbdb\n",
      "str33: ddbbcedabb\n",
      "str34: aaeabaaeba\n",
      "str35: ecbbcaadcd\n",
      "str36: debccecdbc\n",
      "str37: daacbaeebc\n",
      "str38: adabeaacce\n",
      "str39: daecdbacaa\n",
      "str40: dacbbdcedc\n",
      "str41: dedbeebbde\n",
      "str42: cdadcdcdaa\n",
      "str43: ceedcbaeed\n",
      "str44: ceaecaaaca\n",
      "str45: dcccebbbad\n",
      "str46: baeeaebbde\n",
      "str47: dbdebaccdb\n",
      "str48: ebcbeedaea\n",
      "str49: aeeebbdbca\n",
      "str50: dbdabcecbb\n",
      "\n",
      "--- Solution (of length 37) ---\n",
      "  Sol: daecbdeacbedacebadecbadebacdebacdebbd\n",
      "str01: d--cb---c----c---d--b-----c----c-e---\n",
      "str02: ----bd-----d---b--e----e----e----eb-d\n",
      "str03: ---c---ac--d--e---ec---eb---e--------\n",
      "str04: -ae--d-----d-----d----deb--d----d----\n",
      "str05: -a-cb-e---e--c--a---b-----c-e--------\n",
      "str06: ----b----b--a--b--e-b-d---c--ba------\n",
      "str07: ----b----b--a-e-a-e-bad--a-----------\n",
      "str08: --e---e---e---e----cb-d-b---e----e---\n",
      "str09: ---c----c--d--e---e---d--a-d---cd----\n",
      "str10: ----bd-a-b-d---b--e--a---a-d---------\n",
      "str11: --e--de----da---a----a-e-a----a------\n",
      "str12: -a-----a--e-a---a---b--e----e-ac-----\n",
      "str13: --e----a----a--b---c-a----c----cd-b--\n",
      "str14: ----bde---e-a----de--ade-------------\n",
      "str15: ---c---a--eda----de----e----e---d----\n",
      "str16: --e-b---c---a----d--ba--b----b---e---\n",
      "str17: d----d--c-e---e-a---b-de-a-----------\n",
      "str18: da--b---c--d-----de--a-e--c----------\n",
      "str19: -a-----a---d-ce---e---d--a----a---b--\n",
      "str20: -ae---e-c----ce---e----e-a----a------\n",
      "str21: ----b----b-da-e----c-a---a-de--------\n",
      "str22: da-c--e----da-e--d---a--b------------\n",
      "str23: -a-----a--e-a--b----b---b----b-c-e---\n",
      "str24: d-e--d---b---c-b---c-a---a---b-------\n",
      "str25: d---bd-a----a-eb----b-----c--b-------\n",
      "str26: d-e-b-e----d---b--e-ba----c----------\n",
      "str27: ---c--e---e----b---c--d---c--b--de---\n",
      "str28: d---b-e----da---ad---a---a---b-------\n",
      "str29: ---c----c----c---d-cb--eb--d---c-----\n",
      "str30: -ae---eac--d---b---cb-d--------------\n",
      "str31: da-cb-eac----c-----c--d--------------\n",
      "str32: --ec--e--b---c-----c--d-b--d-b-------\n",
      "str33: d----d---b-----b---c---e---d--a---bb-\n",
      "str34: -a-----a--e-a--ba----a-eba-----------\n",
      "str35: --ecb----b---c--a----ad---cd---------\n",
      "str36: d-e-b---c----ce----c--d-b-c----------\n",
      "str37: da-----acb--a-e---e-b-----c----------\n",
      "str38: -a---d-a-be-a---a--c------c-e--------\n",
      "str39: daec-d---b--ac--a----a---------------\n",
      "str40: da-cb----b-d-ce--d-c-----------------\n",
      "str41: d-e--d---be---eb----b-de-------------\n",
      "str42: ---c-d-a---d-c---d-c--d--a----a------\n",
      "str43: ---c--e---ed-c-ba-e----e---d---------\n",
      "str44: ---c--ea--e--c--a----a---ac---a------\n",
      "str45: d--c----c----ceb----b---ba-d---------\n",
      "str46: ----b--a--e---e-a-e-b---b--de--------\n",
      "str47: d---bde--b--ac-----c--d-b------------\n",
      "str48: --e-b---cbe---e--d---a-e-a-----------\n",
      "str49: -ae---e---e----b----b-d-b-c---a------\n",
      "str50: d---bd-a-b---ce----cb---b------------\n",
      "\n",
      "solution is feasible: True\n"
     ]
    }
   ],
   "source": [
    "_instance = util.parse(\"uniform_q05n050k010-010.txt\")\n",
    "util.show(_instance)\n",
    "_solution = solve(_instance)\n",
    "util.show(_instance, _solution)\n",
    "print(f\"solution is feasible: {util.is_feasible(_instance, _solution)}\")"
   ]
  },
  {
   "cell_type": "code",
   "execution_count": null,
   "id": "Kclp",
   "metadata": {},
   "outputs": [
    {
     "name": "stdout",
     "output_type": "stream",
     "text": [
      "--- Condition (with 4 chars) ---\n",
      "str01: CTTTTGATCT\n",
      "str02: CTGCATGCTT\n",
      "str03: TTGTAGATCT\n",
      "str04: ATAACTAATT\n",
      "str05: AGGTTTATAC\n",
      "str06: CTTTTGATCT\n",
      "str07: TTGTAGATCT\n",
      "str08: TTGTAGATCT\n",
      "str09: TTGTAGATCT\n",
      "str10: TAATATTACC\n",
      "\n",
      "--- Solution (of length 25) ---\n",
      "  Sol: TTGCTAGTATCATGTATCTATACTT\n",
      "str01: ---CT--T-T--TG-ATCT------\n",
      "str02: ---CT-G---CATG---CT-T----\n",
      "str03: TTG-TAG-ATC-T------------\n",
      "str04: -----A-TA--A-----CTA-A-TT\n",
      "str05: -----AG------GT-T-TATAC--\n",
      "str06: ---CT--T-T--TG-ATCT------\n",
      "str07: TTG-TAG-ATC-T------------\n",
      "str08: TTG-TAG-ATC-T------------\n",
      "str09: TTG-TAG-ATC-T------------\n",
      "str10: T----A--AT-AT-TA-C----C--\n",
      "\n",
      "solution is feasible: True\n"
     ]
    }
   ],
   "source": [
    "_instance = util.parse(\"nucleotide_n010k010.txt\")\n",
    "util.show(_instance)\n",
    "_solution = solve(_instance)\n",
    "util.show(_instance, _solution)\n",
    "print(f\"solution is feasible: {util.is_feasible(_instance, _solution)}\")"
   ]
  },
  {
   "cell_type": "code",
   "execution_count": null,
   "id": "emfo",
   "metadata": {},
   "outputs": [
    {
     "name": "stdout",
     "output_type": "stream",
     "text": [
      "--- Condition (with 4 chars) ---\n",
      "str01: CTTTTGATCTCTTGTAGATCTGTTCTCTAAACGAACTTTAAAATCTGTGT\n",
      "str02: CTGCATGCTTAGTGCACTCACGCAGTATAATTAATAACTAATTACTGTCG\n",
      "str03: TTGTAGATCTGTTCTCTAAACGAACTTTAAAATCTGTGTGGCTGTCACTC\n",
      "str04: ATAACTAATTACTGTCGTTGACAGGACACGAGTAACTCGTCTATCTTCTG\n",
      "str05: AGGTTTATACCTTCCTAGGTAACAAACCAACCAACTTTCGATCTCTTGTA\n",
      "str06: CTTTTGATCTCTTGTAGATCTGTTCTCTAAACGAACTTTAAAATCTGTGT\n",
      "str07: TTGTAGATCTGTTCTCTAAACGAACTTTAAAATCTGTGTGGCTGTCACTC\n",
      "str08: TTGTAGATCTGTTCTCTAAACGAACTTTAAAATCTGTGTGGCTGTCACTC\n",
      "str09: TTGTAGATCTGTTCTCTAAACGAACTTTAAAATCTGTGTGGCTGTCACTC\n",
      "str10: TAATATTACCTGATGGCCGCGCCCCTCAAAAAGTGGGCCCTTGGACAGAT\n",
      "str11: TAAAGGTTTATACCTTCCCAGGTAACAAACCAACCAACTTTCGATCTCTT\n",
      "str12: ACCAACCAACTTTCGATCTCTTGTAGATCTGTTCTCTAAACGAACTTTAA\n",
      "str13: TTGTAGATCTGTTCTCTAAACGAACTTTAAAATCTGTGTGGCTGTCACTC\n",
      "str14: ACCAACCAACTTTCGATCTCTTGTAGATCTGTTCTCTAAACGAACTTTAA\n",
      "str15: GTTAACAATAATCACACCATCACCGTTTTTTCAAGCGGGAAAAAATAGCC\n",
      "str16: TTGTAGATCTGTTCTCTAAACGAACTTTAAAATCTGTGTGGCTGTCACTC\n",
      "str17: AGATCTGTTCTCTAAACGAACTTTAAAATCTGTGTGGCTGTCACTCGGCT\n",
      "str18: AACAAACCAACCAACTTTCGATCTCTTGTAGATCTGTTCTCTAAACGAAC\n",
      "str19: AGATCTGTTCTCTAAACGAACTTTAAAATCTGTGTGGCTGTCACTCGGCT\n",
      "str20: ACCCCCGCCCCAGGTTCAGCGGAGTCATCACGTGAGACGCACATGACATT\n",
      "str21: AACTTTAAAATCTGTGTGGCTGTCACTCGGCTGCATGCTTAGTGCACTCA\n",
      "str22: TAAAGGTTTATACCCTTCCCAGGTAACAAACCAACCAACTTTTGATCTCT\n",
      "str23: TTGTAGATCTGTTCTCTAAACGAACTTTAAAATCTGTGTGGCTGTCACTC\n",
      "str24: TTGTAGATCTGTTCTCTAAACGAACTTTAAAATCTGTGTGGCTGTCACTC\n",
      "str25: ATCGTGCTTTTGTCGTCTTTGACACTTTCGACTAACTAAAGATGATTTCT\n",
      "str26: ATTAAAGGTTTATACCTTCCCAGGTAACAAACCAACCAACTTTTGATCTC\n",
      "str27: TAAAGGTTTATACCTTCCTAGGTAACAAACCAACCAACTTTTGATCTCTT\n",
      "str28: ACTAAAGGTTTATACCTTCCCAGGTAACAAACCAACCAACTTTTGATCTC\n",
      "str29: CCAACTTTCGATCTCTTGTAGATCTGTTCTCTAAACGAACTTTAAAATCT\n",
      "str30: ATTAAAGGTTTATACCTTCCCAGGTAACAAACCAACCAACTTTTGATCTC\n",
      "str31: TACCTTCCCAGGTAACAAACCAACCAACTTTCGATCTCTTGTAGATCTGT\n",
      "str32: ATGTGTTATCGTCAACTACATATTAAAAATAATGCTAATCATTTTAGTCG\n",
      "str33: TTGTAGATCTGTTCTCTAAACGAACTTTAAAATCTGTGTGGCTGTCACTC\n",
      "str34: AACTTTAAAATCTGTGTGGCTGTCACTCGGCTGCATGCTTAGTGCACTCA\n",
      "str35: TTGTAGATCTGTTCTCTAAACGAACTTTAAAATCTGTGTGGCTGTCACTC\n",
      "str36: CTTTCGATCTCTTGTAGATCTGTTCTCTAAACGAACTTTAAAATCTGTGT\n",
      "str37: TTGTAGATCTGTTCTCTAAACGAACTTTAAAATCTGTGTGGCTGTCACTC\n",
      "str38: TTAAAGGTTTATACCTTCCCAGGTAACAAACCAACCAACTTTTGATCTCT\n",
      "str39: ATGAAAACGAAAATTATTATCAAGGGTATGGAAGTGGAAGCTGACGAAAT\n",
      "str40: AGGTAACAAACCAACCAACTTTCGATCTCTTGTAGATCTGTTCTCTAAAC\n",
      "str41: TTGTAGATCTGTTCTCTAAACGAACTTTAAAATCTGTGTGGCTGTCACTC\n",
      "str42: CTTTCGATCTCTTGTAGATCTGTTCTCTAAACGAACTTTAAAATCTGTGT\n",
      "str43: AACAAACCAACCAACTTTCGATCTCTTGTAGATCTGTTCTCTAAACGAAC\n",
      "str44: TTGTAGATCTGTTCTCTAAACGAACTTTAAAATCTGTGTGGCTGTCACTC\n",
      "str45: AGGTTTATACCTTCCCAGGTAACAAACCAACCAACTTTCGATCTCTTGTA\n",
      "str46: CTGATGTACGAGATTCGTACATACCTTGTACGAAATTCGTACAACACCAT\n",
      "str47: TAAAGGTTTATACCTTCCCAGGTAACAAACCAACCAACTTTCGATCTCTT\n",
      "str48: ACAAGAGAATACAAGGGAGGACCTGCTGCTATACGCGCTGCCTCTTTCGC\n",
      "str49: CTTTTGATCTCTTGTAGATCTGTTCTCTAAACGAACTTTAAAATCTGTGT\n",
      "str50: TTGTAGATCTGTTCTCTAAACGAACTTTAAAATCTGTGTGGCTGTCACTC\n",
      "\n",
      "--- Solution (of length 144) ---\n",
      "  Sol: TATGTACGATCTGTATCTACTGAATCATCGATACTTGTACAAGATCTGTCATGCTGCATCAGCTGACTACACTGACGATACTGATCATACGATACATCACTGTAGACTCGAACTGCTACTTGACTACTGACATATGATCAGCTC\n",
      "str01: ------C--T-T-T-T-----GA-TC-TC--T--T-GTA---GATCTGT--T-CT-C-T-A----A--AC---GA--A--CT--T--TA--A-A-ATC--TGT-G--T------------------------------------\n",
      "str02: ------C--T--G---C-A-TG---C-T---TA---GT----G--C----A--CT-CA-C-GC--A-------G----TA-T-A--AT----TA-AT-A----A--CT--AA-T--TACT-G--T-C-G---------------\n",
      "str03: T-TGTA-GATCTGT-TCT-CT-AA--A-CGA-ACTT-TA-AA-ATCTGT---G-TG-----GCTG--T-CACT--C--------------------------------------------------------------------\n",
      "str04: -AT--A--A-CT--A---A-T---T-A-C--T----GT-C--G-T-TG--A--C---A---G--GAC-AC---GA-G-TA---A-C-T-CG-T-C-T-A-T-----CT-----T-CT----G----------------------\n",
      "str05: -A-G---G-T-T-TAT--AC-----C-T---T-C-----C----T-----A-G--G--T-A----AC-A-A---AC----C--A--A--C----CA--ACT-T----TCGA--T-CT-CTTG--TA------------------\n",
      "str06: ------C--T-T-T-T-----GA-TC-TC--T--T-GTA---GATCTGT--T-CT-C-T-A----A--AC---GA--A--CT--T--TA--A-A-ATC--TGT-G--T------------------------------------\n",
      "str07: T-TGTA-GATCTGT-TCT-CT-AA--A-CGA-ACTT-TA-AA-ATCTGT---G-TG-----GCTG--T-CACT--C--------------------------------------------------------------------\n",
      "str08: T-TGTA-GATCTGT-TCT-CT-AA--A-CGA-ACTT-TA-AA-ATCTGT---G-TG-----GCTG--T-CACT--C--------------------------------------------------------------------\n",
      "str09: T-TGTA-GATCTGT-TCT-CT-AA--A-CGA-ACTT-TA-AA-ATCTGT---G-TG-----GCTG--T-CACT--C--------------------------------------------------------------------\n",
      "str10: TA---A---T----AT-TAC-----C-T-GAT----G-----G--C---C--GC-GC--C--C---CT-CA---A--A-A---A------G-T--------G--G----G--C--C--CTTG------GACA---GAT------\n",
      "str11: TA---A--A---G--------G--T--T---TA-T---AC-----CT-TC---C--CA---G--G--TA-AC--A--A-AC----CA-AC----CA--ACT-T----TCGA--T-CT-CTT-----------------------\n",
      "str12: -A----C---C---A---AC-----CA---A--CTT-T-C--GATCT--C-T--TG--T-AG---A-T-C--TG----T--T---C-T-C--TA-A--AC-G-A-ACT-----T--TA----A---------------------\n",
      "str13: T-TGTA-GATCTGT-TCT-CT-AA--A-CGA-ACTT-TA-AA-ATCTGT---G-TG-----GCTG--T-CACT--C--------------------------------------------------------------------\n",
      "str14: -A----C---C---A---AC-----CA---A--CTT-T-C--GATCT--C-T--TG--T-AG---A-T-C--TG----T--T---C-T-C--TA-A--AC-G-A-ACT-----T--TA----A---------------------\n",
      "str15: ---GT----T----A---AC--AAT-A---AT-C----ACA----C---CAT-C---A-C--C-G--T----T-----T--T--T--T-C-A-A-------G----C--G----G------GA--A---A-A-A--AT-AGC-C\n",
      "str16: T-TGTA-GATCTGT-TCT-CT-AA--A-CGA-ACTT-TA-AA-ATCTGT---G-TG-----GCTG--T-CACT--C--------------------------------------------------------------------\n",
      "str17: -A-G-A---TCTGT-TCT-CT-AA--A-CGA-ACTT-TA-AA-ATCTGT---G-TG-----GCTG--T-CACT--CG-----G--C-T--------------------------------------------------------\n",
      "str18: -A---AC-A-----A---AC-----CA---A--C-----CAA---CT-T--T-C-G-ATC---T--CT----TG----TA--GATC-T--G-T---TC--T-----CT--AA-----AC--GA--AC-----------------\n",
      "str19: -A-G-A---TCTGT-TCT-CT-AA--A-CGA-ACTT-TA-AA-ATCTGT---G-TG-----GCTG--T-CACT--CG-----G--C-T--------------------------------------------------------\n",
      "str20: -A----C---C-----C--C-----C---G---C-----C-----C---CA-G--G--T----T--C-A----G-CG-----GA------G-T-CATCAC-GT-GA---GA-C-GC-AC---A-T---GACAT-T---------\n",
      "str21: -A---AC--T-T-TA---A---AATC-T-G-T----GT----G----G-C-TG-T-CA-C---T--C------G--G---CTG--CAT--G---C-T---T--AG--T-G--C----ACT---C-A------------------\n",
      "str22: TA---A--A---G--------G--T--T---TA-T---AC-----C---C-T--T-C--C--C--A-------G--G-TA---A-CA-A--A--C--CA----A--C-C-AACT--T--TTGA-T-CT--C-T-----------\n",
      "str23: T-TGTA-GATCTGT-TCT-CT-AA--A-CGA-ACTT-TA-AA-ATCTGT---G-TG-----GCTG--T-CACT--C--------------------------------------------------------------------\n",
      "str24: T-TGTA-GATCTGT-TCT-CT-AA--A"
     ]
    },
    {
     "name": "stdout",
     "output_type": "stream",
     "text": [
      "-CGA-ACTT-TA-AA-ATCTGT---G-TG-----GCTG--T-CACT--C--------------------------------------------------------------------\n",
      "str25: -AT---CG-T--G---CT--T---T--T-G-T-C--GT-C----T-T-T---G----A-CA-CT---T----T--CGA--CT-A--A--C--TA-A--A--G-A---T-GA--T--T--T---CT-------------------\n",
      "str26: -AT-TA--A-----A------G-------G-T--TT--A-----T-----A--C--C-T----T--C--C-C--A-G-----G-T-A-AC-A-A-A-C-C---A-AC-C-AACT--T--TTGA-T-CT--C-------------\n",
      "str27: TA---A--A---G--------G--T--T---TA-T---AC-----CT-TC---CT--A---G--G--TA-AC--A--A-AC----CA-AC----CA--ACT-T----T-----TG--A-T---CT-CT----T-----------\n",
      "str28: -A----C--T----A---A---A------G------GT------T-T---AT-----A-C--CT---T-C-C---C-A----G-------G-TA-A-CA----A-AC-C-AAC--C-A----ACT--T----T-TGATC---TC\n",
      "str29: ------C---C---A---ACT---T--TCGAT-CT----C----T-TGT-A-G----ATC---TG--T----T--C--T-CT-A--A-ACGA-AC-T---T-TA-A----AA-T-CT---------------------------\n",
      "str30: -AT-TA--A-----A------G-------G-T--TT--A-----T-----A--C--C-T----T--C--C-C--A-G-----G-T-A-AC-A-A-A-C-C---A-AC-C-AACT--T--TTGA-T-CT--C-------------\n",
      "str31: TA----C---CT-T--C--C-----CA--G------GTA-A----C----A------A--A-C---C-A-AC---C-A-ACT--T--T-CGAT-C-TC--T-T-G--T--A---G--A-T---CT---G---T-----------\n",
      "str32: -ATGT--G-T-T--ATC----G--TCA---A--CT---ACA---T-----AT--T--A--A----A--A-A-T-A--AT---G--C-TA--AT-CAT---T-T----T--A---G-T-C--G----------------------\n",
      "str33: T-TGTA-GATCTGT-TCT-CT-AA--A-CGA-ACTT-TA-AA-ATCTGT---G-TG-----GCTG--T-CACT--C--------------------------------------------------------------------\n",
      "str34: -A---AC--T-T-TA---A---AATC-T-G-T----GT----G----G-C-TG-T-CA-C---T--C------G--G---CTG--CAT--G---C-T---T--AG--T-G--C----ACT---C-A------------------\n",
      "str35: T-TGTA-GATCTGT-TCT-CT-AA--A-CGA-ACTT-TA-AA-ATCTGT---G-TG-----GCTG--T-CACT--C--------------------------------------------------------------------\n",
      "str36: ------C--T-T-T--C----GA-TC-TC--T--T-GTA---GATCTGT--T-CT-C-T-A----A--AC---GA--A--CT--T--TA--A-A-ATC--TGT-G--T------------------------------------\n",
      "str37: T-TGTA-GATCTGT-TCT-CT-AA--A-CGA-ACTT-TA-AA-ATCTGT---G-TG-----GCTG--T-CACT--C--------------------------------------------------------------------\n",
      "str38: T-T--A--A-----A------G-------G-T--TT--A-----T-----A--C--C-T----T--C--C-C--A-G-----G-T-A-AC-A-A-A-C-C---A-AC-C-AACT--T--TTGA-T-CT--C-T-----------\n",
      "str39: -ATG-A--A-----A---AC-GAA--A---AT--T---A-----T-T---AT-C---A--AG--G--------G----TA-TG-------GA-A-------GT-G----GAA--GCT----GAC----GA-A-AT---------\n",
      "str40: -A-G---G-T----A---AC--AA--A-C----C----A-A----C---CA------A-C---T---T----T--CGAT-CT---C-T----T--------GTAGA-TC----TG-T--T---CT-CT-A-A-A----C-----\n",
      "str41: T-TGTA-GATCTGT-TCT-CT-AA--A-CGA-ACTT-TA-AA-ATCTGT---G-TG-----GCTG--T-CACT--C--------------------------------------------------------------------\n",
      "str42: ------C--T-T-T--C----GA-TC-TC--T--T-GTA---GATCTGT--T-CT-C-T-A----A--AC---GA--A--CT--T--TA--A-A-ATC--TGT-G--T------------------------------------\n",
      "str43: -A---AC-A-----A---AC-----CA---A--C-----CAA---CT-T--T-C-G-ATC---T--CT----TG----TA--GATC-T--G-T---TC--T-----CT--AA-----AC--GA--AC-----------------\n",
      "str44: T-TGTA-GATCTGT-TCT-CT-AA--A-CGA-ACTT-TA-AA-ATCTGT---G-TG-----GCTG--T-CACT--C--------------------------------------------------------------------\n",
      "str45: -A-G---G-T-T-TAT--AC-----C-T---T-C-----C-----C----A-G--G--T-A----AC-A-A---AC----C--A--A--C----CA--ACT-T----TCGA--T-CT-CTTG--TA------------------\n",
      "str46: ------C--T--G-AT-----G--T-A-CGA-----G-A-----T-T--C--G-T--A-CA--T-AC--C--T-----T---G-T-A--CGA-A-AT---T-----C--G---T---AC---A--AC--AC-------CA--T-\n",
      "str47: TA---A--A---G--------G--T--T---TA-T---AC-----CT-TC---C--CA---G--G--TA-AC--A--A-AC----CA-AC----CA--ACT-T----TCGA--T-CT-CTT-----------------------\n",
      "str48: -A----C-A-----A------GA------GA-A-T---ACAAG----G----G----A---G--GAC--C--TG-C--T---G--C-TA---TAC------G----C--G--CTGC--CT---CT--T----T-----C-GC--\n",
      "str49: ------C--T-T-T-T-----GA-TC-TC--T--T-GTA---GATCTGT--T-CT-C-T-A----A--AC---GA--A--CT--T--TA--A-A-ATC--TGT-G--T------------------------------------\n",
      "str50: T-TGTA-GATCTGT-TCT-CT-AA--A-CGA-ACTT-TA-AA-ATCTGT---G-TG-----GCTG--T-CACT--C--------------------------------------------------------------------\n",
      "\n",
      "solution is feasible: True\n"
     ]
    }
   ],
   "source": [
    "_instance = util.parse(\"nucleotide_n050k050.txt\")\n",
    "util.show(_instance)\n",
    "_solution = solve(_instance)\n",
    "util.show(_instance, _solution)\n",
    "print(f\"solution is feasible: {util.is_feasible(_instance, _solution)}\")"
   ]
  },
  {
   "cell_type": "code",
   "execution_count": null,
   "id": "Hstk",
   "metadata": {},
   "outputs": [
    {
     "name": "stdout",
     "output_type": "stream",
     "text": [
      "--- Condition (with 9 chars) ---\n",
      "str01: MESLVPGFNE\n",
      "str02: MESLVPGFNE\n",
      "str03: MFVFLVLLPL\n",
      "str04: MESLVPGFNE\n",
      "str05: MESLVPGFNE\n",
      "str06: MESLVPGFNE\n",
      "str07: MFVFLVLLPL\n",
      "str08: MFVFLVLLPL\n",
      "str09: MESLVPGFNE\n",
      "str10: MFVFLVLLPL\n",
      "\n",
      "--- Solution (of length 18) ---\n",
      "  Sol: MESLFVPFGLVFLLNPEL\n",
      "str01: MESL-VP-G--F--N-E-\n",
      "str02: MESL-VP-G--F--N-E-\n",
      "str03: M---FV-F-LV-LL-P-L\n",
      "str04: MESL-VP-G--F--N-E-\n",
      "str05: MESL-VP-G--F--N-E-\n",
      "str06: MESL-VP-G--F--N-E-\n",
      "str07: M---FV-F-LV-LL-P-L\n",
      "str08: M---FV-F-LV-LL-P-L\n",
      "str09: MESL-VP-G--F--N-E-\n",
      "str10: M---FV-F-LV-LL-P-L\n",
      "\n",
      "solution is feasible: True\n"
     ]
    }
   ],
   "source": [
    "_instance = util.parse(\"protein_n010k010.txt\")\n",
    "util.show(_instance)\n",
    "_solution = solve(_instance)\n",
    "util.show(_instance, _solution)\n",
    "print(f\"solution is feasible: {util.is_feasible(_instance, _solution)}\")"
   ]
  },
  {
   "cell_type": "code",
   "execution_count": null,
   "id": "nWHF",
   "metadata": {},
   "outputs": [
    {
     "name": "stdout",
     "output_type": "stream",
     "text": [
      "--- Condition (with 20 chars) ---\n",
      "str01: MESLVPGFNEKTHVQLSLPVLQVRDVLVRGFGDSVEEVLSEARQHLKDGT\n",
      "str02: MESLVPGFNEKTHVQLSLPVLQVRDVLVRGFGDSVEEVLSEARQHLKDGT\n",
      "str03: MFVFLVLLPLVSSQCVNLTTRTQLPPAYTNSFTRGVYYPDKVFRSSVLHS\n",
      "str04: MESLVPGFNEKTHVQLSLPVLQVRDVLVRGFGDSVEEVLSEARQHLKDGT\n",
      "str05: MESLVPGFNEKTHVQLSLPVLQVRDVLVRGFGDSVEEVLSEARQHLKDGT\n",
      "str06: MESLVPGFNEKTHVQLSLPVLQVRDVLVRGFGDSVEEVLSEARQHLKDGT\n",
      "str07: MFVFLVLLPLVSSQCVNLITRTQSYTNSFTRGVYYPDKVFRSSVLHSTKD\n",
      "str08: MFVFLVLLPLVSSQCVNLRTRTQLPPAYTNSFTRGVYYPDKVFRSSVLHS\n",
      "str09: MESLVPGFNEKTHVQLSLPVLQVRDVLVRGFGDSVEEVLSEARQHLKDGT\n",
      "str10: MFVFLVLLPLVSSQCVNLTTRTQLPPAYTNSFTRGVYYPDKVFRSSVLHS\n",
      "str11: MFVFLVLLPLVSSQCVMPLFNLITTTQSYTNFTRGVYYPDKVFRSSVLHL\n",
      "str12: MESLVPGFNEKTHVQLSLPVLQVRDVLVRGFGDSVEEVLSEARQHLKDGT\n",
      "str13: MFVFLVLLPLVSSQCVNLTTRTQLPPAYTNSFTRGVYYPDKVFRSSVLHS\n",
      "str14: MDPIINGSSANVYLTDSYLKGVISFSECNALGSYLFNGPYLKNDYTNLIS\n",
      "str15: MFVFLVLLPLVSSQCVNLTTRTQLPPAYTNSFTRGVYYPDKVFRSSVLHS\n",
      "str16: MESLVPGFNEKTHVQLSLPVLQVRDVLVRGFGDSVEEVLSEARQHLKDGT\n",
      "str17: MESLVPGFNEKTHVQLSLPVLQVRDVLVRGFGDSVEEVLSEARQHLKDGT\n",
      "str18: MESLVPGFNEKTHVQLSLPVLQVRDVLVRGFGDSVEEVLSEARQHLKDGT\n",
      "str19: MESLVPGFNEKTHVQLSLPVLQVRDVLVRGFGDSVEEVLSEARQHLKDGT\n",
      "str20: MESLVPGFNEKTHVQLSLPVLQVRDVLVRGFGDSVEEVLSEARQHLKDGT\n",
      "str21: MESLVPGFNEKTHVQLSLPVLQVRDVLVRGFGDSVEEVLSEARQHLKDGT\n",
      "str22: MLNRIQTLMKTANNYETIEILRNYLRLYIILARNEEGRGILIYDDNIDSV\n",
      "str23: MESLVPGFNEKTHVQLSLPVLQVRDVLVRGFGDSVEEVLSEARQHLKDGT\n",
      "str24: MESLVPGFNEKTHVQLSLPVLQVRDVLVRGFGDSVEEVLSEARQHLKDGT\n",
      "str25: MFVFLVLLPLVSSQCVNLRTRTQLPPAYTNSFTRGVYYPDKVFRSSVLHS\n",
      "str26: MESLVPGFNEKTHVQLSLPVLQVRDVLVRGFGDSVEEVLSEARQHLKDGT\n",
      "str27: MDPIINGSSANVYLTDSYLKGVISFSECNALGSYLFNGPYLKNDYTNLIS\n",
      "str28: MESLVPGFNEKTHVQLSLPVLQVRDVLVRGFGDSVEEVLSEARQHLKDGT\n",
      "str29: MESLVPGFNEKTHVQLSLPVLQVRDVLVRGFGDSVEEVLSEARQHLKDGT\n",
      "str30: MESLVPGFNEKTHVQLSLPVLQVRDVLVRGFGDSVEEVLSEARQHLKDGT\n",
      "str31: MESLVPGFNEKTHVQLSLPVLQVRDVLVRGFGDSVEEVLSEARQHLKDGT\n",
      "str32: MESLVPGFNEKTHVQLSLPVLQVRDVLVRGFGDSVEEVLSEARQHLKDGT\n",
      "str33: MFVFLVLLPLVSSQCVNLITRTQSYTNSFTRGVYYPDKVFRSSVLHSTQD\n",
      "str34: MESTVGPACPPGRTVTKRPWALAEDTPGGPDSPPKRPRPNSLPLTTTFRP\n",
      "str35: MNNQRKKTARPSFNMLKRARNRVSTVSQLAKRFSKGLLSGQGPMKLVMAF\n",
      "str36: MFVFLVLLPLVSSQCVNLITRTQSYTNSFTRGVYYPDKVFRSSVLHSTQD\n",
      "str37: MEPGAFSTALFDALCDDILHRRLESQLRFGGVQIPPEVSDPRVYAGYALL\n",
      "str38: MESLVPGFNEKTHVQLSLPVLQVRDVLVRGFGDSVEEVLSEARQHLKDGT\n",
      "str39: MESLVPGFNEKTHVQLSLPVLQVRDVLVRGFGDSVEEVLSEARQHLKDGT\n",
      "str40: MESLVPGFNEKTHVQLSLPVLQVRDVLVRGFGDSVEEVLSEARQHLKDGT\n",
      "str41: MFVFLVLLPLVSSQCVNLTTRTQLPPAYTNSFTRGVYYPDKVFRSSVLHS\n",
      "str42: MKKNTDSEMDQRLGYKFLVPDPKAGVFYRPLHFQYVSYSNFILHRLHEIL\n",
      "str43: MESLVPGFNEKTHVQLSLPVLQVRDVLVRGFGDSVEEVLSEARQHLKDGT\n",
      "str44: MESLVPGFNEKTHVQLSLPVLQVRDVLVRGFGDSVEEVLSEARQHLKDGT\n",
      "str45: MESLVPGFNEKTHVQLSLPVLQVRDVLVRGFGDSVEEVLSEARQHLKDGT\n",
      "str46: MFVFLVLLPLVSSQCVNLTTRTQLPPAYTNSFTRGVYYPDKVFRSSVLHS\n",
      "str47: MESLVPGFNEKTHVQLSLPVLQVRDVLVRGFGDSVEEVLSEARQHLKDGT\n",
      "str48: MESLVPGFNEKTHVQLSLPVLQVRDVLVRGFGDSVEEVLSEARQHLKDGT\n",
      "str49: MFVFLVLLPLVSSQCVNLITRTQSYTNSFTRGVYYPDKVFRSSVLHSTQD\n",
      "str50: MESLVPGFNEKTHVQLSLPVLQVRDVLVRGFGDSVEEVLSEARQHLKDGT\n",
      "\n",
      "--- Solution (of length 311) ---\n",
      "  Sol: MESLVPGFNEKTHVQLSLPVLQVRDVLVRGFLVLGLPDLVSSQVCVNEELVLSEARITQTRTQLPPAYHTNSFLKTRGVYYTNSPDKTINGFTSARSANVGMYLFDPSTVDSYLKFNYGPVDIRSFSECMLKVFRALNADPLPGSRTQANRVSTVLGYKNCHSYDETIDFLIRELPVHIPWALRDFNPKAGQRLEDTPYLSTQRLTVFYRQGSFGPIYAKILTNDGARFSHVFQYTNPIPKRGVPELEGRSYLSGIVSYPDNFKLIPQSLGPRVYFDHRLMADKSTGLNSVTHITYALDEFMAHILRSFPV\n",
      "str01: MESLVPGFNEKTHVQLSLPVLQVRDVLVRGF---G--D--S--V---EE-VLSEAR--Q---------H----LK----------D----G-T--------------------------------------------------------------------------------------------------------------------------------------------------------------------------------------------------------------------------\n",
      "str02: MESLVPGFNEKTHVQLSLPVLQVRDVLVRGF---G--D--S--V---EE-VLSEAR--Q---------H----LK----------D----G-T-------------------------------------------------------------------------------------------------------------------"
     ]
    },
    {
     "name": "stdout",
     "output_type": "stream",
     "text": [
      "-------------------------------------------------------------------------------------------------------\n",
      "str03: M------F-----V----------------FLVL-LP-LVSSQ-CVN--L-------T-TRTQLPPAY-TNSF--TRGVYY---PDK------------V----F------------------RS-S-----V---L------------------------HS----------------------------------------------------------------------------------------------------------------------------------------------------\n",
      "str04: MESLVPGFNEKTHVQLSLPVLQVRDVLVRGF---G--D--S--V---EE-VLSEAR--Q---------H----LK----------D----G-T--------------------------------------------------------------------------------------------------------------------------------------------------------------------------------------------------------------------------\n",
      "str05: MESLVPGFNEKTHVQLSLPVLQVRDVLVRGF---G--D--S--V---EE-VLSEAR--Q---------H----LK----------D----G-T--------------------------------------------------------------------------------------------------------------------------------------------------------------------------------------------------------------------------\n",
      "str06: MESLVPGFNEKTHVQLSLPVLQVRDVLVRGF---G--D--S--V---EE-VLSEAR--Q---------H----LK----------D----G-T--------------------------------------------------------------------------------------------------------------------------------------------------------------------------------------------------------------------------\n",
      "str07: M------F-----V----------------FLVL-LP-LVSSQ-CVN--L------IT--RTQ--------S-------Y-TNS-------FT--R----G--------V--Y----Y-P-D---------KVFR---------S-------S-VL-----HS---T---------------------K------D-------------------------------------------------------------------------------------------------------------------\n",
      "str08: M------F-----V----------------FLVL-LP-LVSSQ-CVN--L-----R-T--RTQLPPAY-TNSF--TRGVYY---PDK------------V----F------------------RS-S-----V---L------------------------HS----------------------------------------------------------------------------------------------------------------------------------------------------\n",
      "str09: MESLVPGFNEKTHVQLSLPVLQVRDVLVRGF---G--D--S--V---EE-VLSEAR--Q---------H----LK----------D----G-T--------------------------------------------------------------------------------------------------------------------------------------------------------------------------------------------------------------------------\n",
      "str10: M------F-----V----------------FLVL-LP-LVSSQ-CVN--L-------T-TRTQLPPAY-TNSF--TRGVYY---PDK------------V----F------------------RS-S-----V---L------------------------HS----------------------------------------------------------------------------------------------------------------------------------------------------\n",
      "str11: M------F-----V----------------FLVL-LP-LVSSQ-CV-------------------------------------------------------M----P------L-FN-------------L------------------------------------I----------------------------T----T---T----Q-S----Y----TN----F------T-----RGV-------Y------YPD--K---------V-F--R-----S----SV------L-----H-L-----\n",
      "str12: MESLVPGFNEKTHVQLSLPVLQVRDVLVRGF---G--D--S--V---EE-VLSEAR--Q---------H----LK----------D----G-T--------------------------------------------------------------------------------------------------------------------------------------------------------------------------------------------------------------------------\n",
      "str13: M------F-----V----------------FLVL-LP-LVSSQ-CVN--L-------T-TRTQLPPAY-TNSF--TRGVYY---PDK------------V----F------------------RS-S-----V---L------------------------HS----------------------------------------------------------------------------------------------------------------------------------------------------\n",
      "str14: M-----------------------D-----------P-------------------I-------------------------------ING--S--SANV--YL----T-DSYLK---G-V-I-SFSEC--------NA--L-GS------------Y------------L--------------FN---G------PYL-------------------K---ND---------YTN---------L--------I-S-----------------------------------------------------\n",
      "str15: M------F--"
     ]
    },
    {
     "name": "stdout",
     "output_type": "stream",
     "text": [
      "---V----------------FLVL-LP-LVSSQ-CVN--L-------T-TRTQLPPAY-TNSF--TRGVYY---PDK------------V----F------------------RS-S-----V---L------------------------HS----------------------------------------------------------------------------------------------------------------------------------------------------\n",
      "str16: MESLVPGFNEKTHVQLSLPVLQVRDVLVRGF---G--D--S--V---EE-VLSEAR--Q---------H----LK----------D----G-T--------------------------------------------------------------------------------------------------------------------------------------------------------------------------------------------------------------------------\n",
      "str17: MESLVPGFNEKTHVQLSLPVLQVRDVLVRGF---G--D--S--V---EE-VLSEAR--Q---------H----LK----------D----G-T--------------------------------------------------------------------------------------------------------------------------------------------------------------------------------------------------------------------------\n",
      "str18: MESLVPGFNEKTHVQLSLPVLQVRDVLVRGF---G--D--S--V---EE-VLSEAR--Q---------H----LK----------D----G-T--------------------------------------------------------------------------------------------------------------------------------------------------------------------------------------------------------------------------\n",
      "str19: MESLVPGFNEKTHVQLSLPVLQVRDVLVRGF---G--D--S--V---EE-VLSEAR--Q---------H----LK----------D----G-T--------------------------------------------------------------------------------------------------------------------------------------------------------------------------------------------------------------------------\n",
      "str20: MESLVPGFNEKTHVQLSLPVLQVRDVLVRGF---G--D--S--V---EE-VLSEAR--Q---------H----LK----------D----G-T--------------------------------------------------------------------------------------------------------------------------------------------------------------------------------------------------------------------------\n",
      "str21: MESLVPGFNEKTHVQLSLPVLQVRDVLVRGF---G--D--S--V---EE-VLSEAR--Q---------H----LK----------D----G-T--------------------------------------------------------------------------------------------------------------------------------------------------------------------------------------------------------------------------\n",
      "str22: M--L----N--------------R--------------------------------I-QT---L-------------------------------------M------------K-------------------------------T-AN---------N---Y-ETI-----E----I---LR--N-----------YL---RL---Y-------I---IL----AR--------N--------E-EGR----GI--------LI--------Y-D-----D-----N----I----D--------S--V\n",
      "str23: MESLVPGFNEKTHVQLSLPVLQVRDVLVRGF---G--D--S--V---EE-VLSEAR--Q---------H----LK----------D----G-T--------------------------------------------------------------------------------------------------------------------------------------------------------------------------------------------------------------------------\n",
      "str24: MESLVPGFNEKTHVQLSLPVLQVRDVLVRGF---G--D--S--V---EE-VLSEAR--Q---------H----LK----------D----G-T-------------------------------------------------------------------------------------------------"
     ]
    },
    {
     "name": "stdout",
     "output_type": "stream",
     "text": [
      "-------------------------------------------------------------------------------------------------------------------------\n",
      "str25: M------F-----V----------------FLVL-LP-LVSSQ-CVN--L-----R-T--RTQLPPAY-TNSF--TRGVYY---PDK------------V----F------------------RS-S-----V---L------------------------HS----------------------------------------------------------------------------------------------------------------------------------------------------\n",
      "str26: MESLVPGFNEKTHVQLSLPVLQVRDVLVRGF---G--D--S--V---EE-VLSEAR--Q---------H----LK----------D----G-T--------------------------------------------------------------------------------------------------------------------------------------------------------------------------------------------------------------------------\n",
      "str27: M-----------------------D-----------P-------------------I-------------------------------ING--S--SANV--YL----T-DSYLK---G-V-I-SFSEC--------NA--L-GS------------Y------------L--------------FN---G------PYL-------------------K---ND---------YTN---------L--------I-S-----------------------------------------------------\n",
      "str28: MESLVPGFNEKTHVQLSLPVLQVRDVLVRGF---G--D--S--V---EE-VLSEAR--Q---------H----LK----------D----G-T--------------------------------------------------------------------------------------------------------------------------------------------------------------------------------------------------------------------------\n",
      "str29: MESLVPGFNEKTHVQLSLPVLQVRDVLVRGF---G--D--S--V---EE-VLSEAR--Q---------H----LK----------D----G-T--------------------------------------------------------------------------------------------------------------------------------------------------------------------------------------------------------------------------\n",
      "str30: MESLVPGFNEKTHVQLSLPVLQVRDVLVRGF---G--D--S--V---EE-VLSEAR--Q---------H----LK----------D----G-T--------------------------------------------------------------------------------------------------------------------------------------------------------------------------------------------------------------------------\n",
      "str31: MESLVPGFNEKTHVQLSLPVLQVRDVLVRGF---G--D--S--V---EE-VLSEAR--Q---------H----LK----------D----G-T--------------------------------------------------------------------------------------------------------------------------------------------------------------------------------------------------------------------------\n",
      "str32: MESLVPGFNEKTHVQLSLPVLQVRDVLVRGF---G--D--S--V---EE-VLSEAR--Q---------H----LK----------D----G-T--------------------------------------------------------------------------------------------------------------------------------------------------------------------------------------------------------------------------\n",
      "str33: M------F-----V----------------FLVL-LP-LVSSQ-CVN--L------IT--RTQ--------S-------Y-TNS-------FT--R----G--------V--Y----Y-P-D---------KVFR---------S-------S-VL-----HS---T------------------------Q---D-------------------------------------------------------------------------------------------------------------------\n",
      "str34: MES--------T-V---------------G------P-----------------A-------------------------------------------------------------------------C-----------P-PG-RT----V-T----K-------------R--P----WAL------A----EDTP-------------G--GP--------D----S-------P-PKR--P----R---------P-N------SL-P-------L-----T-----T--T-----F-----R--P-\n",
      "str35: M-------N-------------------------------------N-----------Q-R-------------K-----------KT------AR----------PS-------FN------------MLK--RA---------R---NRVSTV-------S----------------------------Q-L------------------------AK-------RFS----------K-G---L-----LSG------------Q--GP--------M--K---L--V----------MA-----F--\n",
      "str36: M------F-----V----------------FLVL-LP-LVSSQ-CVN--L------IT--RTQ--------S-------Y-TNS-------FT--R----G--------V--Y----Y-P-D---------KVFR---------S-------S-VL-----HS---T------------------------Q---D-------------------------------------------------------------------------------------------------------------------\n",
      "str37: ME---PG-----------------------------------------------A-----------------F---------"
     ]
    },
    {
     "name": "stdout",
     "output_type": "stream",
     "text": [
      "-S---T------A--------LFD-----------------------------AL-----------------------C---D---D--I--L--H-----R--------RLE-----S-Q-L----R---FG----------G-----V-Q----IP----PE----------VS--D-----P-----RVY------A----G--------YAL-------L-----\n",
      "str38: MESLVPGFNEKTHVQLSLPVLQVRDVLVRGF---G--D--S--V---EE-VLSEAR--Q---------H----LK----------D----G-T--------------------------------------------------------------------------------------------------------------------------------------------------------------------------------------------------------------------------\n",
      "str39: MESLVPGFNEKTHVQLSLPVLQVRDVLVRGF---G--D--S--V---EE-VLSEAR--Q---------H----LK----------D----G-T--------------------------------------------------------------------------------------------------------------------------------------------------------------------------------------------------------------------------\n",
      "str40: MESLVPGFNEKTHVQLSLPVLQVRDVLVRGF---G--D--S--V---EE-VLSEAR--Q---------H----LK----------D----G-T--------------------------------------------------------------------------------------------------------------------------------------------------------------------------------------------------------------------------\n",
      "str41: M------F-----V----------------FLVL-LP-LVSSQ-CVN--L-------T-TRTQLPPAY-TNSF--TRGVYY---PDK------------V----F------------------RS-S-----V---L------------------------HS----------------------------------------------------------------------------------------------------------------------------------------------------\n",
      "str42: M---------K---------------------------------------------------------------K-------N----T-----------------D-S-------------------E-M---------D-------Q--R----LGYK----------FL-----V--P----D--PKAG---------------VFYR-----P-----L--------H-FQY--------V------SY-S-------NF--I---L-------HRL------------H------E----IL-----\n",
      "str43: MESLVPGFNEKTHVQLSLPVLQVRDVLVRGF---G--D--S--V---EE-VLSEAR--Q---------H----LK----------D----G-T--------------------------------------------------------------------------------------------------------------------------------------------------------------------------------------------------------------------------\n",
      "str44: MESLVPGFNEKTHVQLSLPVLQVRDVLVRGF---G--D--S--V---EE-VLSEAR--Q---------H----LK----------D----G-T--------------------------------------------------------------------------------------------------------------------------------------------------------------------------------------------------------------------------\n",
      "str45: MESLVPGFNEKTHVQLSLPVLQVRDVLVRGF---G--D--S--V---EE-VLSEAR--Q---------H----LK----------D----G-T--------------------------------------------------------------------------------------------------------------------------------------------------------------------------------------------------------------------------\n",
      "str46: M------F-----V----------------FLVL-LP-LVSSQ-CVN--L-------T-TRTQLPPAY-TNSF--TRGVYY---PDK------------V----F------------------RS-S-----V---L------------------------HS--------------------------------------------------------------------"
     ]
    },
    {
     "name": "stdout",
     "output_type": "stream",
     "text": [
      "--------------------------------------------------------------------------------\n",
      "str47: MESLVPGFNEKTHVQLSLPVLQVRDVLVRGF---G--D--S--V---EE-VLSEAR--Q---------H----LK----------D----G-T--------------------------------------------------------------------------------------------------------------------------------------------------------------------------------------------------------------------------\n",
      "str48: MESLVPGFNEKTHVQLSLPVLQVRDVLVRGF---G--D--S--V---EE-VLSEAR--Q---------H----LK----------D----G-T--------------------------------------------------------------------------------------------------------------------------------------------------------------------------------------------------------------------------\n",
      "str49: M------F-----V----------------FLVL-LP-LVSSQ-CVN--L------IT--RTQ--------S-------Y-TNS-------FT--R----G--------V--Y----Y-P-D---------KVFR---------S-------S-VL-----HS---T------------------------Q---D-------------------------------------------------------------------------------------------------------------------\n",
      "str50: MESLVPGFNEKTHVQLSLPVLQVRDVLVRGF---G--D--S--V---EE-VLSEAR--Q---------H----LK----------D----G-T--------------------------------------------------------------------------------------------------------------------------------------------------------------------------------------------------------------------------\n",
      "\n",
      "solution is feasible: True\n"
     ]
    }
   ],
   "source": [
    "_instance = util.parse(\"protein_n050k050.txt\")\n",
    "util.show(_instance)\n",
    "_solution = solve(_instance)\n",
    "util.show(_instance, _solution)\n",
    "print(f\"solution is feasible: {util.is_feasible(_instance, _solution)}\")"
   ]
  }
 ],
 "metadata": {},
 "nbformat": 4,
 "nbformat_minor": 5
}
