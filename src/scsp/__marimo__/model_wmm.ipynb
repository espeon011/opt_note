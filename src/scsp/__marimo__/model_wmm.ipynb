{
 "cells": [
  {
   "cell_type": "code",
   "execution_count": null,
   "id": "Hbol",
   "metadata": {},
   "outputs": [],
   "source": [
    "import marimo as mo\n",
    "import nbformat\n",
    "import util"
   ]
  },
  {
   "cell_type": "markdown",
   "id": "MJUe",
   "metadata": {
    "marimo": {
     "config": {
      "hide_code": true
     }
    }
   },
   "source": [
    "# Weighted Majority Merge アルゴリズム"
   ]
  },
  {
   "cell_type": "markdown",
   "id": "vblA",
   "metadata": {
    "marimo": {
     "config": {
      "hide_code": true
     }
    }
   },
   "source": [
    "- 計算量: ?\n",
    "- 近似精度: なし"
   ]
  },
  {
   "cell_type": "markdown",
   "id": "bkHC",
   "metadata": {
    "marimo": {
     "config": {
      "hide_code": true
     }
    }
   },
   "source": [
    "与えられた文字列たちの先頭の文字列を調べ, 優先度の高い順に採用していく流れは Majority Merge と同じ.\n",
    "Weighted Majority Merge では出現するか否かの代わりに残された文字列長を考えた重み付き出現回数を採用する.\n",
    "\n",
    "- 解 $\\mathrm{sol}$ を空文字列で初期化する.\n",
    "- 各文字 $c$ に対し重要度 $\\sum_{i=1, \\ s_i[0] = c}^n |s_i|$ を計算し, 重要度が最大である $c$ を求める.\n",
    "- $\\mathrm{sol}$ の後ろに $c$ を追加する.\n",
    "- 各文字列 $s_1, s_2, \\dots, s_n$ に対し, 先頭の文字が $c$ である場合は先頭 1 文字を削除する.\n",
    "- $s_1, s_2, \\dots, s_n$ が全て空文字列になれば終了."
   ]
  },
  {
   "cell_type": "code",
   "execution_count": null,
   "id": "lEQa",
   "metadata": {
    "marimo": {
     "name": "*solve"
    }
   },
   "outputs": [],
   "source": [
    "def solve(instance: list[str]) -> str:\n",
    "    chars = sorted(list(set(\"\".join(instance))))\n",
    "    indices = [0 for _ in instance]\n",
    "    solution = \"\"\n",
    "\n",
    "    while not all(idx == len(s) for idx, s in zip(indices, instance)):\n",
    "        counts = [\n",
    "            sum(\n",
    "                len(s) - idx\n",
    "                for idx, s in zip(indices, instance)\n",
    "                if idx < len(s) and s[idx] == c\n",
    "            )\n",
    "            for c in chars\n",
    "        ]\n",
    "        next_char = chars[counts.index(max(counts))]\n",
    "\n",
    "        solution += next_char\n",
    "        for jdx in range(len(instance)):\n",
    "            s = instance[jdx]\n",
    "            idx = indices[jdx]\n",
    "            if idx < len(s) and s[idx] == next_char:\n",
    "                indices[jdx] += 1\n",
    "\n",
    "    return solution"
   ]
  },
  {
   "cell_type": "code",
   "execution_count": null,
   "id": "PKri",
   "metadata": {},
   "outputs": [
    {
     "name": "stdout",
     "output_type": "stream",
     "text": [
      "--- Condition (with 25 chars) ---\n",
      "str1: tkgnkuhmpxnhtqgxzvxis\n",
      "str2: iojiqfolnbxxcvsuqpvissbxf\n",
      "str3: ulcinycosovozpplp\n",
      "str4: igevazgbrddbcsvrvnngf\n",
      "\n",
      "--- Solution (of length 75) ---\n",
      " Sol: iojiqtfgkegolnvakublzcghxbimxcnprdvxycdnsbhoucsqtovpqgviorxzvsnpsbxnpgfilps\n",
      "str1: -----t--k-g--n--ku-----h---m---p---x---n--h-----t---qg----xzv-----x----i--s\n",
      "str2: iojiq-f----oln----b-----x---xc----v-----s---u--q---p--vi-----s--sbx---f----\n",
      "str3: -----------------u-l-c----i---n-----yc-----o--s--ov-----o--z---p----p---lp-\n",
      "str4: i------g-e----va----z-g--b------rd----d--b---cs---v------r--v-n----n-gf----\n",
      "\n",
      "solution is feasible: True\n"
     ]
    }
   ],
   "source": [
    "_instance = util.parse(\"uniform_q26n004k015-025.txt\")\n",
    "util.show(_instance)\n",
    "_solution = solve(_instance)\n",
    "util.show(_instance, _solution)\n",
    "print(f\"solution is feasible: {util.is_feasible(_instance, _solution)}\")"
   ]
  },
  {
   "cell_type": "code",
   "execution_count": null,
   "id": "Xref",
   "metadata": {},
   "outputs": [
    {
     "name": "stdout",
     "output_type": "stream",
     "text": [
      "--- Condition (with 26 chars) ---\n",
      "str1: tkgnkuhmpxnhtqgxzvxis\n",
      "str2: iojiqfolnbxxcvsuqpvissbxf\n",
      "str3: ulcinycosovozpplp\n",
      "str4: igevazgbrddbcsvrvnngf\n",
      "str5: pyplrzxucpmqvgtdfuivcdsbo\n",
      "str6: pbdevdcvdpfzsmsbroqvbbh\n",
      "str7: enbczfjtvxerzbrvigple\n",
      "str8: rxwxqkrdrlctodtmprpxwd\n",
      "\n",
      "--- Solution (of length 128) ---\n",
      " Sol: pioyjpbilrdeqtxfgknwzxubcevgolndcqkazbfpruvdghmpxjbrinqtvxcflcdgtdvyzscoebhmsrucdtqfzbrovpsviguimprvoxzpcqvxsdsbnnplbgiwxfdehops\n",
      "str1: -------------t---k---------g--n---k------u---hmpx----n--------------------h------tq----------g-------xz---vx----------i--------s\n",
      "str2: -io-j--i----q--f------------oln------b----------x--------xc-------v--s--------u---q------p-vi---------------s-sb--------xf------\n",
      "str3: ----------------------u------l--c-------------------in-------------y--co----s----------ov-----------o-zp"
     ]
    },
    {
     "name": "stdout",
     "output_type": "stream",
     "text": [
      "----------pl----------p-\n",
      "str4: -i--------------g--------ev--------az-------g-----br----------d--d-------b-----c----------sv------rv------------nn---g---f------\n",
      "str5: p--y-p--lr----------zxu-c--------------p------m-------q-v------gtd-----------------f----------ui---v----c----dsb-------------o--\n",
      "str6: p-----b---de--------------v----dc---------vd---p-----------f--------zs-----ms--------bro-----------------qv----b----b-------h---\n",
      "str7: -----------e------n----bc-----------z-f----------j-----tvx--------------e----r------zbr-v---ig---p-----------------l-------e----\n",
      "str8: ---------r----x----w-x-----------qk-----r--d-------r--------lc--t------o--------dt--------------mpr----p---x-----------w--d-----\n",
      "\n",
      "solution is feasible: True\n"
     ]
    }
   ],
   "source": [
    "_instance = util.parse(\"uniform_q26n008k015-025.txt\")\n",
    "util.show(_instance)\n",
    "_solution = solve(_instance)\n",
    "util.show(_instance, _solution)\n",
    "print(f\"solution is feasible: {util.is_feasible(_instance, _solution)}\")"
   ]
  },
  {
   "cell_type": "code",
   "execution_count": null,
   "id": "SFPL",
   "metadata": {},
   "outputs": [
    {
     "name": "stdout",
     "output_type": "stream",
     "text": [
      "--- Condition (with 26 chars) ---\n",
      "str01: tkgnkuhmpxnhtqgxzvxis\n",
      "str02: iojiqfolnbxxcvsuqpvissbxf\n",
      "str03: ulcinycosovozpplp\n",
      "str04: igevazgbrddbcsvrvnngf\n",
      "str05: pyplrzxucpmqvgtdfuivcdsbo\n",
      "str06: pbdevdcvdpfzsmsbroqvbbh\n",
      "str07: enbczfjtvxerzbrvigple\n",
      "str08: rxwxqkrdrlctodtmprpxwd\n",
      "str09: kkqafigqjwokkskrblg\n",
      "str10: lxxpabivbvzkozzvd\n",
      "str11: krifsavncdqwhzc\n",
      "str12: qaxudgqvqcewbfgijowwy\n",
      "str13: rsxqjnfpadiusiqbezhkohmg\n",
      "str14: iwshvhcomiuvddm\n",
      "str15: htxxqjzqbctbakn\n",
      "str16: xusfcfzpeecvwantfmgqzu\n",
      "\n",
      "--- Solution (of length 176) ---\n",
      "  Sol: iprxuskwxqklrojiqfaxcfigenbdyczpevfolrsazxudcpgahvtdqbjinvbxxqcekvwgnkuhmpscovqtvxfzklrdcgtdobfuiqwenhsmzpvcsbrdtizjavzqbgrvniesksmptzcfhkorbxjmgqpzvluxotbwvdahngbdmfikweghnpsy\n",
      "str01: --------------------------------------------------t-------------k--gnkuhmp-------x------------------nh----------t------q-g-------------------x-----zv--x--------------i-------s-\n",
      "str02: i------------ojiqf-----------------ol-------------------n-bxx-c--v--------s--------------------u-q-------pv------i-------------s-s----------bx-----------------------f----------\n",
      "str03: ----u------l--------c-i--n--yc-----o--s-------------------------------------ov--------------o-----------zp-------------------------p-----------------l-----------------------p--\n",
      "str04: i----------------------ge--------v-----az-----g------b--------------------------------rd---d-b-------------cs--------v----rvn-----------------------------------ng---f----------\n",
      "str05: -p------"
     ]
    },
    {
     "name": "stdout",
     "output_type": "stream",
     "text": [
      "--------------------y--p----lr--zxu-cp--------------------------m-----q-v--------gtd--fui---------vc---d---------------s------------b-----------o-----------------------\n",
      "str06: -p------------------------bd----ev---------dc----v-d---------------------p--------fz------------------sm----sbr---------------------------o------q--v-----b-------b--------h----\n",
      "str07: ------------------------enb--cz---f-------------------j------------------------tvx-----------------e----------r---z-----b-rv-i------------------g-p--l-------------------e------\n",
      "str08: --rx---wxqk-r--------------d---------r-----------------------------------------------l--c-t-o------------------dt-----------------mp-------r------p----x---w-d------------------\n",
      "str09: ------k---k-----q-a--fig----------------------------q-j-----------w---------o-------k-------------------------------------------ks-------k-rb--------l-----------g--------------\n",
      "str10: -----------l-------x---------------------x---p-a-----b-i-vb------v-----------------zk-------o-----------z---------z--v---------------------------------------d------------------\n",
      "str11: ------k-----r--i-f--------------------sa---------v------n-----c------------------------d---------qw--h--z--c--------------------------------------------------------------------\n",
      "str12: ---------q--------ax----------------------ud--g-----q----v---qce--w--------------------------bf--------------------------g---i----------------j---------o--w------------w------y\n",
      "str13: --r--s--xq----j----------n--------f----------p-a---d---i--------------u---s---------------------iq-----------b----------------e------z--hko--------------------h----m-----g-----\n",
      "str14: i------w------------------------------s---------hv---------------------h---co--------------------------m---------i------------------------------------u-----vd-----dm-----------\n",
      "str15: ------------------------------------------------h-t--------xxq-----------------------------------------------------j--zqb-------------c------------------tb---a--------k----n---\n",
      "str16: ---xus-----------f--cf--------zpe------------------------------e-----------c-v--------------------w-----------------a-------n-------t--f-------mgq-z--u-------------------------\n",
      "\n",
      "solution is feasible: True\n"
     ]
    }
   ],
   "source": [
    "_instance = util.parse(\"uniform_q26n016k015-025.txt\")\n",
    "util.show(_instance)\n",
    "_solution = solve(_instance)\n",
    "util.show(_instance, _solution)\n",
    "print(f\"solution is feasible: {util.is_feasible(_instance, _solution)}\")"
   ]
  },
  {
   "cell_type": "code",
   "execution_count": null,
   "id": "BYtC",
   "metadata": {},
   "outputs": [
    {
     "name": "stdout",
     "output_type": "stream",
     "text": [
      "--- Condition (with 5 chars) ---\n",
      "str01: dcbccdbcce\n",
      "str02: bddbeeeebd\n",
      "str03: cacdeecebe\n",
      "str04: aeddddebdd\n",
      "str05: acbeecabce\n",
      "str06: bbabebdcba\n",
      "str07: bbaeaebada\n",
      "str08: eeeecbdbee\n",
      "str09: ccdeedadcd\n",
      "str10: bdabdbeaad\n",
      "\n",
      "--- Solution (of length 32) ---\n",
      "  Sol: bdcabcdebeaecdaebcdebdcdbeabdade\n",
      "str01: -dc-bc------cd--bc----c--e------\n",
      "str02: bd----d-be-e---e---ebd----------\n",
      "str03: --ca-cde-e--c--eb--e------------\n",
      "str04: ---a---e-----d----d--d-d-e-bd-d-\n",
      "str05: ---a-c--be-ec-a-bc-e------------\n",
      "str06: b---b-----a-----b--ebdc-b-a-----\n",
      "str07: b---b-----ae--aeb---------a-da--\n",
      "str08: -------e-e-e---e-c--bd--be-----e\n",
      "str09: --c--cde-e---da---d---cd--------\n",
      "str10: bd-ab-d-bea---a---d-------------\n",
      "\n",
      "solution is feasible: True\n"
     ]
    }
   ],
   "source": [
    "_instance = util.parse(\"uniform_q05n010k010-010.txt\")\n",
    "util.show(_instance)\n",
    "_solution = solve(_instance)\n",
    "util.show(_instance, _solution)\n",
    "print(f\"solution is feasible: {util.is_feasible(_instance, _solution)}\")"
   ]
  },
  {
   "cell_type": "code",
   "execution_count": null,
   "id": "RGSE",
   "metadata": {},
   "outputs": [
    {
     "name": "stdout",
     "output_type": "stream",
     "text": [
      "--- Condition (with 5 chars) ---\n",
      "str01: dcbccdbcce\n",
      "str02: bddbeeeebd\n",
      "str03: cacdeecebe\n",
      "str04: aeddddebdd\n",
      "str05: acbeecabce\n",
      "str06: bbabebdcba\n",
      "str07: bbaeaebada\n",
      "str08: eeeecbdbee\n",
      "str09: ccdeedadcd\n",
      "str10: bdabdbeaad\n",
      "str11: ededaaaeaa\n",
      "str12: aaeaabeeac\n",
      "str13: eaabcaccdb\n",
      "str14: bdeeadeade\n",
      "str15: caedadeeed\n",
      "str16: ebcadbabbe\n",
      "str17: ddceeabdea\n",
      "str18: dabcddeaec\n",
      "str19: aadceedaab\n",
      "str20: aeecceeeaa\n",
      "str21: bbdaecaade\n",
      "str22: dacedaedab\n",
      "str23: aaeabbbbce\n",
      "str24: dedbcbcaab\n",
      "str25: dbdaaebbcb\n",
      "str26: debedbebac\n",
      "str27: ceebcdcbde\n",
      "str28: dbedaadaab\n",
      "str29: cccdcbebdc\n",
      "str30: aeeacdbcbd\n",
      "str31: dacbeacccd\n",
      "str32: ecebccdbdb\n",
      "str33: ddbbcedabb\n",
      "str34: aaeabaaeba\n",
      "str35: ecbbcaadcd\n",
      "str36: debccecdbc\n",
      "str37: daacbaeebc\n",
      "str38: adabeaacce\n",
      "str39: daecdbacaa\n",
      "str40: dacbbdcedc\n",
      "str41: dedbeebbde\n",
      "str42: cdadcdcdaa\n",
      "str43: ceedcbaeed\n",
      "str44: ceaecaaaca\n",
      "str45: dcccebbbad\n",
      "str46: baeeaebbde\n",
      "str47: dbdebaccdb\n",
      "str48: ebcbeedaea\n",
      "str49: aeeebbdbca\n",
      "str50: dbdabcecbb\n",
      "\n",
      "--- Solution (of length 37) ---\n",
      "  Sol: daecbdeacbedacebadecbadebacdebacdebbd\n",
      "str01: d--cb---c----c---d--b-----c----c-e---\n",
      "str02: ----bd-----d---b--e----e----e----eb-d\n",
      "str03: ---c---ac--d--e---ec---eb---e--------\n",
      "str04: -ae--d-----d-----d----deb--d----d----\n",
      "str05: -a-cb-e---e--c--a---b-----c-e--------\n",
      "str06: ----b----b--a--b--e-b-d---c--ba------\n",
      "str07: ----b----b--a-e-a-e-bad--a-----------\n",
      "str08: --e---e---e---e----cb-d-b---e----e---\n",
      "str09: ---c----c--d--e---e---d--a-d---cd----\n",
      "str10: ----bd-a-b-d---b--e--a---a-d---------\n",
      "str11: --e--de----da---a----a-e-a----a------\n",
      "str12: -a-----a--e-a---a---b--e----e-ac-----\n",
      "str13: --e----a----a--b---c-a----c----cd-b--\n",
      "str14: ----bde---e-a----de--ade-------------\n",
      "str15: ---c---a--eda----de----e----e---d----\n",
      "str16: --e-b---c---a----d--ba--b----b---e---\n",
      "str17: d----d--c-e---e-a---b-de-a-----------\n",
      "str18: da--b---c--d-----de--a-e--c----------\n",
      "str19: -a-----a---d-ce---e---d--a"
     ]
    },
    {
     "name": "stdout",
     "output_type": "stream",
     "text": [
      "----a---b--\n",
      "str20: -ae---e-c----ce---e----e-a----a------\n",
      "str21: ----b----b-da-e----c-a---a-de--------\n",
      "str22: da-c--e----da-e--d---a--b------------\n",
      "str23: -a-----a--e-a--b----b---b----b-c-e---\n",
      "str24: d-e--d---b---c-b---c-a---a---b-------\n",
      "str25: d---bd-a----a-eb----b-----c--b-------\n",
      "str26: d-e-b-e----d---b--e-ba----c----------\n",
      "str27: ---c--e---e----b---c--d---c--b--de---\n",
      "str28: d---b-e----da---ad---a---a---b-------\n",
      "str29: ---c----c----c---d-cb--eb--d---c-----\n",
      "str30: -ae---eac--d---b---cb-d--------------\n",
      "str31: da-cb-eac----c-----c--d--------------\n",
      "str32: --ec--e--b---c-----c--d-b--d-b-------\n",
      "str33: d----d---b-----b---c---e---d--a---bb-\n",
      "str34: -a-----a--e-a--ba----a-eba-----------\n",
      "str35: --ecb----b---c--a----ad---cd---------\n",
      "str36: d-e-b---c----ce----c--d-b-c----------\n",
      "str37: da-----acb--a-e---e-b-----c----------\n",
      "str38: -a---d-a-be-a---a--c------c-e--------\n",
      "str39: daec-d---b--ac--a----a---------------\n",
      "str40: da-cb----b-d-ce--d-c-----------------\n",
      "str41: d-e--d---be---eb----b-de-------------\n",
      "str42: ---c-d-a---d-c---d-c--d--a----a------\n",
      "str43: ---c--e---ed-c-ba-e----e---d---------\n",
      "str44: ---c--ea--e--c--a----a---ac---a------\n",
      "str45: d--c----c----ceb----b---ba-d---------\n",
      "str46: ----b--a--e---e-a-e-b---b--de--------\n",
      "str47: d---bde--b--ac-----c--d-b------------\n",
      "str48: --e-b---cbe---e--d---a-e-a-----------\n",
      "str49: -ae---e---e----b----b-d-b-c---a------\n",
      "str50: d---bd-a-b---ce----cb---b------------\n",
      "\n",
      "solution is feasible: True\n"
     ]
    }
   ],
   "source": [
    "_instance = util.parse(\"uniform_q05n050k010-010.txt\")\n",
    "util.show(_instance)\n",
    "_solution = solve(_instance)\n",
    "util.show(_instance, _solution)\n",
    "print(f\"solution is feasible: {util.is_feasible(_instance, _solution)}\")"
   ]
  }
 ],
 "metadata": {},
 "nbformat": 4,
 "nbformat_minor": 5
}
