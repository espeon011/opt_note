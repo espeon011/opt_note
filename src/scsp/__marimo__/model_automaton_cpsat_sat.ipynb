{
 "cells": [
  {
   "cell_type": "code",
   "execution_count": null,
   "id": "setup",
   "metadata": {
    "marimo": {
     "name": "setup"
    }
   },
   "outputs": [],
   "source": [
    "import datetime\n",
    "from ortools.sat.python import cp_model\n",
    "import util"
   ]
  },
  {
   "cell_type": "code",
   "execution_count": null,
   "id": "Hbol",
   "metadata": {},
   "outputs": [],
   "source": [
    "import marimo as mo\n",
    "import nbformat"
   ]
  },
  {
   "cell_type": "markdown",
   "id": "MJUe",
   "metadata": {
    "marimo": {
     "config": {
      "hide_code": true
     }
    }
   },
   "source": [
    "# 実行可能解を見つける問題を解きながら探索"
   ]
  },
  {
   "cell_type": "markdown",
   "id": "vblA",
   "metadata": {
    "marimo": {
     "config": {
      "hide_code": true
     }
    }
   },
   "source": [
    "`AUTOMATON_CPSAT` モデルでは解文字列を有効な文字と無効な文字が混ざった文字列とし, 有効な文字数を最小化するという定式化をしていた.\n",
    "\n",
    "ここでは解文字列の長さを固定し, 実行可能解が存在するかどうかを CP-SAT ソルバーに解かせ,\n",
    "その結果をもとに二分探索を行うことで最適値の範囲を狭めていく.\n",
    "\n",
    "計算開始時には SCSP 長の下限は問題文字列たちの長さの最大値,\n",
    "SCSP 長の上限 (これは計算開始前の最良解でもある) としてアルファベットアルゴリズムによって構築された解の長さを採用する."
   ]
  },
  {
   "cell_type": "code",
   "execution_count": null,
   "id": "bkHC",
   "metadata": {
    "marimo": {
     "name": "*ModelSat"
    }
   },
   "outputs": [],
   "source": [
    "class ModelSat:\n",
    "    def __init__(self, instance: list[str], sol_len: int):\n",
    "        chars = sorted(list(set(\"\".join(instance))))\n",
    "\n",
    "        cpmodel = cp_model.CpModel()\n",
    "\n",
    "        cvars = [\n",
    "            cpmodel.new_int_var(lb=0, ub=len(chars) - 1, name=\"\")\n",
    "            for _ in range(sol_len)\n",
    "        ]\n",
    "\n",
    "        for s in instance:\n",
    "            transition_triples = (\n",
    "                [\n",
    "                    (idx, jdx, (idx + 1 if c == next_char else idx))\n",
    "                    for idx, next_char in enumerate(s)\n",
    "                    for jdx, c in enumerate(chars)\n",
    "                ]\n",
    "                + [(len(s), jdx, len(s)) for jdx, _ in enumerate(chars)]\n",
    "            )\n",
    "            cpmodel.add_automaton(\n",
    "                transition_expressions=cvars,\n",
    "                starting_state=0,\n",
    "                final_states=[len(s)],\n",
    "                transition_triples=transition_triples,\n",
    "            )\n",
    "\n",
    "        self.instance = instance\n",
    "        self.chars = chars\n",
    "        self.cpmodel = cpmodel\n",
    "        self.cpsolver = cp_model.CpSolver()\n",
    "        self.cvars = cvars\n",
    "        self.status = None\n",
    "\n",
    "    def solve(self, time_limit: int | None = 60, log: bool = False) -> \"Model\":\n",
    "        self.cpsolver.parameters.log_search_progress = log\n",
    "        if time_limit is not None:\n",
    "            self.cpsolver.parameters.max_time_in_seconds = time_limit\n",
    "        self.status = self.cpsolver.solve(self.cpmodel)\n",
    "\n",
    "        return self\n",
    "\n",
    "    def is_feasible(self) -> bool:\n",
    "        return self.status in {\n",
    "            cp_model.cp_model_pb2.OPTIMAL,\n",
    "            cp_model.cp_model_pb2.FEASIBLE,\n",
    "        }\n",
    "\n",
    "    def is_proved_infeasible(self) -> bool:\n",
    "        return self.status == cp_model.cp_model_pb2.INFEASIBLE\n",
    "\n",
    "    def to_solution(self) -> str | None:\n",
    "        if not self.is_feasible():\n",
    "            return None\n",
    "\n",
    "        solution = \"\"\n",
    "        for cvar in self.cvars:\n",
    "            cidx = self.cpsolver.value(cvar)\n",
    "            solution += self.chars[cidx]\n",
    "\n",
    "        return solution"
   ]
  },
  {
   "cell_type": "code",
   "execution_count": null,
   "id": "lEQa",
   "metadata": {
    "marimo": {
     "name": "*Model"
    }
   },
   "outputs": [],
   "source": [
    "class Model:\n",
    "    def __init__(self, instance: list[str]):\n",
    "        chars = sorted(list(set(\"\".join(instance))))\n",
    "        len_lb = max(len(s) for s in instance)\n",
    "        best_sol = chars * max(len(s) for s in instance)\n",
    "        len_ub = len(best_sol)\n",
    "\n",
    "        self.instance = instance\n",
    "        self.len_lb = len_lb\n",
    "        self.len_ub = len_ub\n",
    "        self.best_sol = best_sol\n",
    "\n",
    "    def solve(self, time_limit: int | None = 60, log: bool = False) -> \"Model\":\n",
    "        start_time = datetime.datetime.now()\n",
    "        end_time = start_time + datetime.timedelta(seconds=time_limit)\n",
    "\n",
    "        next_len = self.len_lb + (self.len_ub - self.len_lb) // 2\n",
    "        if log:\n",
    "            print(\n",
    "                \"Best Sol: {}, Range: [{},{}], Next: {}\".format(\n",
    "                    self.len_ub, self.len_lb, self.len_ub, next_len\n",
    "                )\n",
    "            )\n",
    "\n",
    "        now = datetime.datetime.now()\n",
    "        while self.len_lb < self.len_ub and now <= end_time:\n",
    "            model_sat = ModelSat(self.instance, next_len)\n",
    "            model_sat.solve((end_time - now).seconds)\n",
    "            if model_sat.is_feasible():\n",
    "                self.len_ub = next_len\n",
    "                self.best_sol = model_sat.to_solution()\n",
    "            elif model_sat.is_proved_infeasible():\n",
    "                self.len_lb = next_len + 1\n",
    "            else:\n",
    "                break\n",
    "\n",
    "            next_len = self.len_lb + (self.len_ub - self.len_lb) // 2\n",
    "            if log:\n",
    "                print(\n",
    "                    \"Best Sol: {}, Range: [{},{}], Next: {}\".format(\n",
    "                        self.len_ub, self.len_lb, self.len_ub, next_len\n",
    "                    )\n",
    "                )\n",
    "\n",
    "            now = datetime.datetime.now()\n",
    "\n",
    "        return self\n",
    "\n",
    "    def best_bound(self) -> int:\n",
    "        return self.len_lb\n",
    "\n",
    "    def best_solution(self) -> str:\n",
    "        return self.best_sol"
   ]
  },
  {
   "cell_type": "code",
   "execution_count": null,
   "id": "PKri",
   "metadata": {
    "marimo": {
     "name": "*solve"
    }
   },
   "outputs": [],
   "source": [
    "def solve(instance: list[str], time_limit: int | None = 60, log: bool = False) -> str:\n",
    "    return Model(instance).solve(time_limit, log).best_solution()"
   ]
  },
  {
   "cell_type": "code",
   "execution_count": null,
   "id": "Xref",
   "metadata": {},
   "outputs": [
    {
     "name": "stdout",
     "output_type": "stream",
     "text": [
      "Best Sol: 625, Range: [25,625], Next: 325\n"
     ]
    },
    {
     "name": "stdout",
     "output_type": "stream",
     "text": [
      "Best Sol: 325, Range: [25,325], Next: 175\n"
     ]
    },
    {
     "name": "stdout",
     "output_type": "stream",
     "text": [
      "Best Sol: 175, Range: [25,175], Next: 100\n"
     ]
    },
    {
     "name": "stdout",
     "output_type": "stream",
     "text": [
      "Best Sol: 100, Range: [25,100], Next: 62\n"
     ]
    }
   ],
   "source": [
    "instance_01 = util.parse(\"uniform_q26n004k015-025.txt\")\n",
    "model_01 = Model(instance_01).solve(log=True)"
   ]
  },
  {
   "cell_type": "code",
   "execution_count": null,
   "id": "SFPL",
   "metadata": {},
   "outputs": [
    {
     "name": "stdout",
     "output_type": "stream",
     "text": [
      "--- Condition (with 25 chars) ---\n",
      "str1: tkgnkuhmpxnhtqgxzvxis\n",
      "str2: iojiqfolnbxxcvsuqpvissbxf\n",
      "str3: ulcinycosovozpplp\n",
      "str4: igevazgbrddbcsvrvnngf\n",
      "\n",
      "--- Solution (of length 100) ---\n",
      " Sol: zitogujeklvagnikuhmqpxmgfcminiyopbfcholttnpbxnxqgxmzpyddgnbchtrqvsguqxpovipsvosdzdbppctlqgxsvrvnngpf\n",
      "str1: --t-----k---gn-kuhm-px------n-------h--t-------qgx-z------------v----x---i-s------------------------\n",
      "str2: -i-o--j-------i----q----f------o------l--n-bx-x------------c----vs-uq-p-vi-s--s---b-------x--------f\n",
      "str3: -----u---l---------------c-in-y----c-o---------------------------s-----ov----o--z--pp--l----------p-\n",
      "str4: -i--g--e--va---------------------------------------z----g-b---r----------------d-db--c-----svrvnng-f\n",
      "\n",
      "solution is feasible: True\n",
      "solution is optimal: False\n",
      "best bound: 25\n"
     ]
    }
   ],
   "source": [
    "_model = model_01\n",
    "_instance = _model.instance\n",
    "_solution = _model.best_solution()\n",
    "_bound = _model.best_bound()\n",
    "\n",
    "util.show(_model.instance)\n",
    "util.show(_instance, _solution)\n",
    "print(f\"solution is feasible: {util.is_feasible(_instance, _solution)}\")\n",
    "print(f\"solution is optimal: {_model.len_lb == _model.len_ub}\")\n",
    "print(f\"best bound: {_model.best_bound()}\")"
   ]
  },
  {
   "cell_type": "code",
   "execution_count": null,
   "id": "BYtC",
   "metadata": {},
   "outputs": [
    {
     "name": "stdout",
     "output_type": "stream",
     "text": [
      "Best Sol: 650, Range: [25,650], Next: 337\n"
     ]
    },
    {
     "name": "stdout",
     "output_type": "stream",
     "text": [
      "Best Sol: 337, Range: [25,337], Next: 181\n"
     ]
    },
    {
     "name": "stdout",
     "output_type": "stream",
     "text": [
      "Best Sol: 181, Range: [25,181], Next: 103\n"
     ]
    }
   ],
   "source": [
    "instance_02 = util.parse(\"uniform_q26n008k015-025.txt\")\n",
    "model_02 = Model(instance_02).solve(log=True)"
   ]
  },
  {
   "cell_type": "code",
   "execution_count": null,
   "id": "RGSE",
   "metadata": {},
   "outputs": [
    {
     "name": "stdout",
     "output_type": "stream",
     "text": [
      "--- Condition (with 26 chars) ---\n",
      "str1: tkgnkuhmpxnhtqgxzvxis\n",
      "str2: iojiqfolnbxxcvsuqpvissbxf\n",
      "str3: ulcinycosovozpplp\n",
      "str4: igevazgbrddbcsvrvnngf\n",
      "str5: pyplrzxucpmqvgtdfuivcdsbo\n",
      "str6: pbdevdcvdpfzsmsbroqvbbh\n",
      "str7: enbczfjtvxerzbrvigple\n",
      "str8: rxwxqkrdrlctodtmprpxwd\n",
      "\n",
      "--- Solution (of length 181) ---\n",
      " Sol: etkgnkuhmpxnhtqgzzzzzzzzzzzzzzzzzzzzzzzzzzzziojiqfolnbxxcvsuqpvisulcinycosovoigevazgbrddbcsvrvnnpyplrzxucpmqvgtdfuipbdevdcvdpfzsmsbroqvbbhenbczfjtvxerzbrvigprxwxqkrdrlctodtmprpxwedd\n",
      "str1: -tkgnkuhmpxnhtqg--------------------------------------x---------------------------z--------v----------x-----------i------------s-----------------------------------------------------\n",
      "str2: --------------------------------------------iojiqfolnbxxcvsuqpvis--------s----------b-----------------x---------f--------------------------------------------------------------------\n",
      "str3: ------u--------------------------------------------l----c------i-----nycosovo-----z-------------p-pl-----p---------------------------------------------------------------------------\n",
      "str4: --------------------------------------------i---------------------------------gevazgbrddbcsvrvnn-------------g--f--------------------------------------------------------------------\n",
      "str5: ---------p------------------------------------------------------------y-------------------------p--lrzxucpmqvgtdfui----v-c-d---s--b-o------------------------------------------------\n",
      "str6: ---------p-------------------------------------------b--------------------------------d-------------------------------evdcvdpfzsmsbroqvbbh-------------------------------------------\n",
      "str7: e---n------------------------------------------------b--c-------------------------z-----------------------------f-------------------------------jtvxerzbrvigp---------l-----------e--\n",
      "str8: -------------------------------------------------------------------------------------r----------------x--------------------------------------------------------wxqkrdrlctodtmprpxw-d-\n",
      "\n",
      "solution is feasible: True\n",
      "solution is optimal: False\n",
      "best bound: 25\n"
     ]
    }
   ],
   "source": [
    "_model = model_02\n",
    "_instance = _model.instance\n",
    "_solution = _model.best_solution()\n",
    "_bound = _model.best_bound()\n",
    "\n",
    "util.show(_model.instance)\n",
    "util.show(_instance, _solution)\n",
    "print(f\"solution is feasible: {util.is_feasible(_instance, _solution)}\")\n",
    "print(f\"solution is optimal: {_model.len_lb == _model.len_ub}\")\n",
    "print(f\"best bound: {_model.best_bound()}\")"
   ]
  },
  {
   "cell_type": "code",
   "execution_count": null,
   "id": "Kclp",
   "metadata": {},
   "outputs": [
    {
     "name": "stdout",
     "output_type": "stream",
     "text": [
      "Best Sol: 650, Range: [25,650], Next: 337\n"
     ]
    },
    {
     "name": "stdout",
     "output_type": "stream",
     "text": [
      "Best Sol: 337, Range: [25,337], Next: 181\n"
     ]
    }
   ],
   "source": [
    "instance_03 = util.parse(\"uniform_q26n016k015-025.txt\")\n",
    "model_03 = Model(instance_03).solve(log=True)"
   ]
  },
  {
   "cell_type": "code",
   "execution_count": null,
   "id": "emfo",
   "metadata": {},
   "outputs": [
    {
     "name": "stdout",
     "output_type": "stream",
     "text": [
      "--- Condition (with 26 chars) ---\n",
      "str01: tkgnkuhmpxnhtqgxzvxis\n",
      "str02: iojiqfolnbxxcvsuqpvissbxf\n",
      "str03: ulcinycosovozpplp\n",
      "str04: igevazgbrddbcsvrvnngf\n",
      "str05: pyplrzxucpmqvgtdfuivcdsbo\n",
      "str06: pbdevdcvdpfzsmsbroqvbbh\n",
      "str07: enbczfjtvxerzbrvigple\n",
      "str08: rxwxqkrdrlctodtmprpxwd\n",
      "str09: kkqafigqjwokkskrblg\n",
      "str10: lxxpabivbvzkozzvd\n",
      "str11: krifsavncdqwhzc\n",
      "str12: qaxudgqvqcewbfgijowwy\n",
      "str13: rsxqjnfpadiusiqbezhkohmg\n",
      "str14: iwshvhcomiuvddm\n",
      "str15: htxxqjzqbctbakn\n",
      "str16: xusfcfzpeecvwantfmgqzu\n",
      "\n",
      "--- Solution (of length 337) ---\n",
      "  Sol: etkgnkuhmpxnhzzzzzzzzzzzzzzzzzzzzzzzzzzzzzzzzzzzzzzzzzzzzzzzzzzzzzzzzzzzzzzzzzzzzzzzzzzzzzzzzzzzzziojiqfolnbxxulcinycosovoigevazgbrddbcsvpyplrzxucpmqvgtdfupbdevdcvdpfzsmsenbczfjtvxerzbrvigrxwxqkrdrlctodtmpkkqafigqjwokkskrblxxpabivbvzkozkrifsavnqaxudgqvqcewbfgijowwyrsxqjnfpadiusiqbezhkiwshvhcomiuvddhtxxqjzqbctbakxusfcfzpeecvwantfmgqznuu\n",
      "str01: -tkgnkuhmpxnh------------------------------------------------------------------------------------------------------------------------------------------t----------------------------------------q------------------g-----------x--------z---------v---x------------i------s----------------------------------------------------------------------\n",
      "str02: --------------------------------------------------------------------------------------------------iojiqfolnbxx--c-------v--------------s--------u---q------p---v--------------------------i-------------------------------s---------------------s---------------b----------x---f-----------------------------------------------------------------\n",
      "str03: ------u--------------------------------------------------------------------------------------------------l------cinycosovo-----z---------p-pl-----p----------------------------------------------------------------------------------------------------------------------------------------------------------------------------------------------\n",
      "str04: --------------------------------------------------------------------------------------------------i------------------------gevazgbrddbcsv----r-------v---------------------n-----------------------------------------------------------------------n-----g-------f-------------------------------------------------------------------------------\n",
      "str05: ---------p---------------------------------------------------------------------------------------------------------y---------------------p--lrzxucpmqvgtdfu-------------------------------i------------------------------------------v-----------------------c--------------------d--s--b-----------o--------------------------------------------\n",
      "str06: ---------p-------------------------------------------------------------------------------------------------b-----------------------d--------------------------evdcvdpfzsms--b--------r------------------o------q---------------------vb-------------------------b--------------------------h-----------------------------------------------------\n",
      "str07: e---n------------------------------------------------------------------------------------------------------b----c--------------z-------------------------f----------------------jtvxerzbrvig----------------p-----------------l-------------------------------e----------------------------------------------------------------------------------\n",
      "str08: ----------------------------------------------------------------------------------------------------------------------------------r------------x----------------------------------------------wxqkrdrlctodtmp---------------r----p--------------------x--------w------------------d--------------------------------------------------------------\n",
      "str09: --k--k------------------------------------------------------------------------------------------------q-----------------------a--------------------------f--------------------------------ig----q--------------------jwokkskrbl---"
     ]
    },
    {
     "name": "stdout",
     "output_type": "stream",
     "text": [
      "-----------------------g---------------------------------------------------------------------------------------\n",
      "str10: ---------------------------------------------------------------------------------------------------------l--xx---------------------------p----------------------------------------------------------------------a------------b------ivbvzkoz----------------------------------------------z------v-------d---------------------------------------\n",
      "str11: --k-------------------------------------------------------------------------------------------------------------------------------r-------------------------------------------------------i----------------------f--------s-------a--v-------------n---------c--------------------d----q------w-h----------------z--c----------------------------\n",
      "str12: ------------------------------------------------------------------------------------------------------q-----------------------a----------------xu-------d----------------------------------g----q------------------------------------v--------------q--------cewbfgijowwy------------------------------------------------------------------------\n",
      "str13: ----------------------------------------------------------------------------------------------------------------------------------r----s-------x----q---------------------------j------------------------------------------------------------------n-------------f--------------padiusiqbezhk-------o------h------------------------------mg-----\n",
      "str14: --------------------------------------------------------------------------------------------------i-------------------------------------------------------------------------------------------w---------------------------s----------------------------------------------------------------h-----vhcomiuvdd-------------------------------m------\n",
      "str15: -------h-----------------------------------------------------------------------------------------------------------------------------------------------t---------------------------x---------x--q--------------------j------------------z-----------q-----------b----------------------------------c--------t------b---ak--------------n---------\n",
      "str16: ----------x---------------------------------------------------------------------------------------------------u-------s----------------------------------f-------c---fz-------------------------------------p-------------------------------------------------e--------------------------e---------c----v----------------------------wantfmgqz-u-\n",
      "\n",
      "solution is feasible: True\n",
      "solution is optimal: False\n",
      "best bound: 25\n"
     ]
    }
   ],
   "source": [
    "_model = model_03\n",
    "_instance = _model.instance\n",
    "_solution = _model.best_solution()\n",
    "_bound = _model.best_bound()\n",
    "\n",
    "util.show(_model.instance)\n",
    "util.show(_instance, _solution)\n",
    "print(f\"solution is feasible: {util.is_feasible(_instance, _solution)}\")\n",
    "print(f\"solution is optimal: {_model.len_lb == _model.len_ub}\")\n",
    "print(f\"best bound: {_model.best_bound()}\")"
   ]
  },
  {
   "cell_type": "markdown",
   "id": "Hstk",
   "metadata": {
    "marimo": {
     "config": {
      "hide_code": true
     }
    }
   },
   "source": [
    "この定式化も制限時間内ではあまり良い結果が得られなかった...\n",
    "\n",
    "元々の `AUTOMATON_CPSAT` の定式化において無効な文字と有効な文字に関する制約がなくなれば性能が良くなるんじゃないかと思っていたけど,\n",
    "有効無効に関する制約をなくしたこのモデルでも 1 回の最適化計算時間が長く,\n",
    "反復回数が稼げなかった.\n",
    "この結果を見る限りオートマトン制約部分の定式化がそんなに良くなさそう."
   ]
  }
 ],
 "metadata": {},
 "nbformat": 4,
 "nbformat_minor": 5
}
