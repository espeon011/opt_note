{
 "cells": [
  {
   "cell_type": "code",
   "execution_count": null,
   "id": "Hbol",
   "metadata": {},
   "outputs": [],
   "source": [
    "import marimo as mo\n",
    "import nbformat\n",
    "import util"
   ]
  },
  {
   "cell_type": "markdown",
   "id": "MJUe",
   "metadata": {
    "marimo": {
     "config": {
      "hide_code": true
     }
    }
   },
   "source": [
    "# Descending モデル"
   ]
  },
  {
   "cell_type": "markdown",
   "id": "vblA",
   "metadata": {
    "marimo": {
     "config": {
      "hide_code": true
     }
    }
   },
   "source": [
    "- 計算量: $O(nk^2)$\n",
    "- 近似精度: ?"
   ]
  },
  {
   "cell_type": "markdown",
   "id": "bkHC",
   "metadata": {
    "marimo": {
     "config": {
      "hide_code": true
     }
    }
   },
   "source": [
    "2 つの文字列の shortest common supersequence は動的計画法で計算することができる.\n",
    "ここでは与えられた文字列を長さが長い順にソートし,\n",
    "最初の 2 つを shortest common supersequence で置き換える操作を文字列が 1 つになるまで繰り返す.\n",
    "\n",
    "文字列の集合 $S = \\{ s_1, s_2, \\dots, s_n \\}$ はソート済みで $|s_1| \\geq |s_2| \\geq \\dots \\geq |s_n|$ を満たしているとする.\n",
    "\n",
    "- $n_0 = n$ とする.\n",
    "- $l$ ステップ目において文字列集合が $\\{ s_1, s_2, \\dots, s_{n_l} \\}$ であるとする.\n",
    "- $s_1$ と $s_2$ の shortest common supersequence を求め, $s_1$ をそれで置き換える.\n",
    "  $s_2$ は削除し, $s_3$ 以降は番号を前に 1 つずらして更新し, $\\{ s_1, s_2, \\dots, s_{n_l - 1}\\}$ とする.\n",
    "- 文字列集合が 1 元集合 $\\{ s_1 \\}$ になったら終了."
   ]
  },
  {
   "cell_type": "markdown",
   "id": "lEQa",
   "metadata": {
    "marimo": {
     "config": {
      "hide_code": true
     }
    }
   },
   "source": [
    "この方法が common supersequence を与えるのは $s'$ が $s$ の supersequence であるという 2 項関係 $s \\preceq s'$ が推移的 (さらにいえば半順序) であることからいえる.\n",
    "一方でこの順序関係によって順序集合となった文字配列全体の集合には圏論的な余積 (最小上界) は存在しない.\n",
    "したがって 2 つずつ shortest common supersequence を取るこの方法では基本的には最適解は得られない."
   ]
  },
  {
   "cell_type": "code",
   "execution_count": null,
   "id": "PKri",
   "metadata": {
    "marimo": {
     "name": "*scs2"
    }
   },
   "outputs": [],
   "source": [
    "def scs2(s1: str, s2:str) -> str:\n",
    "    \"\"\"\n",
    "    2 つの文字列の shortest common supersequence の 1 つを返す. \n",
    "\n",
    "    Args:\n",
    "        s1(str): 文字列 1\n",
    "        s2(str): 文字列 2\n",
    "    \"\"\"\n",
    "\n",
    "    len1, len2 = len(s1), len(s2)\n",
    "\n",
    "    dp = [[\"\" for _ in range(len2 + 1)] for _ in range(len1 + 1)]\n",
    "\n",
    "    for idx1 in range(len1 + 1):\n",
    "        for idx2 in range(len2 + 1):\n",
    "            if idx1 == 0:\n",
    "                dp[idx1][idx2] = s2[:idx2]\n",
    "            elif idx2 == 0:\n",
    "                dp[idx1][idx2] = s1[:idx1]\n",
    "            elif s1[idx1 - 1] == s2[idx2 - 1]:\n",
    "                dp[idx1][idx2] = dp[idx1 - 1][idx2 - 1] + s1[idx1 - 1]\n",
    "            else:\n",
    "                if len(dp[idx1 - 1][idx2]) <= len(dp[idx1][idx2 - 2]):\n",
    "                    dp[idx1][idx2] = dp[idx1 - 1][idx2] + s1[idx1 - 1]\n",
    "                else:\n",
    "                    dp[idx1][idx2] = dp[idx1][idx2 - 1] + s2[idx2 - 1]\n",
    "\n",
    "    return dp[-1][-1]"
   ]
  },
  {
   "cell_type": "code",
   "execution_count": null,
   "id": "Xref",
   "metadata": {
    "marimo": {
     "name": "*solve"
    }
   },
   "outputs": [],
   "source": [
    "def solve(instance: list[str]) -> str:\n",
    "    instance_sorted = sorted(instance, key=lambda s: len(s), reverse=True)\n",
    "\n",
    "    solution = instance_sorted[0]\n",
    "    for s in instance_sorted[1:]:\n",
    "        solution = scs2(solution, s)\n",
    "\n",
    "    return solution"
   ]
  },
  {
   "cell_type": "code",
   "execution_count": null,
   "id": "SFPL",
   "metadata": {},
   "outputs": [
    {
     "name": "stdout",
     "output_type": "stream",
     "text": [
      "--- Condition (with 25 chars) ---\n",
      "str1: tkgnkuhmpxnhtqgxzvxis\n",
      "str2: iojiqfolnbxxcvsuqpvissbxf\n",
      "str3: ulcinycosovozpplp\n",
      "str4: igevazgbrddbcsvrvnngf\n",
      "\n",
      "--- Solution (of length 64) ---\n",
      " Sol: ulcingycosjieqfoltkvoazgnkbruhmpxnhtqgxzddbcvxsuqplvrissbxvnngfp\n",
      "str1: -----------------tk----gnk--uhmpxnhtqgxz----vx-------is---------\n",
      "str2: ---i----o-ji-qfol-------n-b-----x-----x----cv-suqp-v-issbx----f-\n",
      "str3: ulcin-ycos-----o---vo-z--------p-----------------pl------------p\n",
      "str4: ---i-g------e------v-azg--br------------ddbc--s----vr-----vnngf-\n",
      "\n",
      "solution is feasible: True\n"
     ]
    }
   ],
   "source": [
    "_instance = util.parse(\"uniform_q26n004k015-025.txt\")\n",
    "util.show(_instance)\n",
    "_solution = solve(_instance)\n",
    "util.show(_instance, _solution)\n",
    "print(f\"solution is feasible: {util.is_feasible(_instance, _solution)}\")"
   ]
  },
  {
   "cell_type": "code",
   "execution_count": null,
   "id": "BYtC",
   "metadata": {},
   "outputs": [
    {
     "name": "stdout",
     "output_type": "stream",
     "text": [
      "--- Condition (with 26 chars) ---\n",
      "str1: tkgnkuhmpxnhtqgxzvxis\n",
      "str2: iojiqfolnbxxcvsuqpvissbxf\n",
      "str3: ulcinycosovozpplp\n",
      "str4: igevazgbrddbcsvrvnngf\n",
      "str5: pyplrzxucpmqvgtdfuivcdsbo\n",
      "str6: pbdevdcvdpfzsmsbroqvbbh\n",
      "str7: enbczfjtvxerzbrvigple\n",
      "str8: rxwxqkrdrlctodtmprpxwd\n",
      "\n",
      "--- Solution (of length 108) ---\n",
      " Sol: igojulcienrxwxqtkvazgfopbcyprddlrnkbzxuhxevdlcompmxnhfjtqvgstodtmprfuiqpxezvxirzsmcdsbroqxwfvinbbhdngzppflpe\n",
      "str1: ---------------tk---g------------nk---uh-------mp-xnh--tq-g-------------x-zvxi--s---------------------------\n",
      "str2: i-oj---i------q------fo--------l-n-b-x--x----c-----------v-s--------u-qp---v-i--s---sb---x-f----------------\n",
      "str3: ----ulci-n----------------y------------------co------------s-o-------------v-----------o-------------zpp-lp-\n",
      "str4: ig------e--------vazg---b---rdd----b---------c-------------s---------------v--r-------------v-n----ng---f---\n",
      "str5: -----------------------p--yp---lr---zxu------c--pm------qvg-t-d----fui-----v------cdsb-o--------------------\n",
      "str6: -----------------------pb----d--"
     ]
    },
    {
     "name": "stdout",
     "output_type": "stream",
     "text": [
      "---------evd-c-----------v----d--p-f------z-----sm--sbroq---v--bbh----------\n",
      "str7: --------en--------------bc----------z----------------fjt-v--------------xe----rz-----br-----vi------g-p--l-e\n",
      "str8: ----------rxwxq-k-----------rd--r-----------lc---------t-----odtmpr----px-----------------w-------d---------\n",
      "\n",
      "solution is feasible: True\n"
     ]
    }
   ],
   "source": [
    "_instance = util.parse(\"uniform_q26n008k015-025.txt\")\n",
    "util.show(_instance)\n",
    "_solution = solve(_instance)\n",
    "util.show(_instance, _solution)\n",
    "print(f\"solution is feasible: {util.is_feasible(_instance, _solution)}\")"
   ]
  },
  {
   "cell_type": "code",
   "execution_count": null,
   "id": "RGSE",
   "metadata": {},
   "outputs": [
    {
     "name": "stdout",
     "output_type": "stream",
     "text": [
      "--- Condition (with 26 chars) ---\n",
      "str01: tkgnkuhmpxnhtqgxzvxis\n",
      "str02: iojiqfolnbxxcvsuqpvissbxf\n",
      "str03: ulcinycosovozpplp\n",
      "str04: igevazgbrddbcsvrvnngf\n",
      "str05: pyplrzxucpmqvgtdfuivcdsbo\n",
      "str06: pbdevdcvdpfzsmsbroqvbbh\n",
      "str07: enbczfjtvxerzbrvigple\n",
      "str08: rxwxqkrdrlctodtmprpxwd\n",
      "str09: kkqafigqjwokkskrblg\n",
      "str10: lxxpabivbvzkozzvd\n",
      "str11: krifsavncdqwhzc\n",
      "str12: qaxudgqvqcewbfgijowwy\n",
      "str13: rsxqjnfpadiusiqbezhkohmg\n",
      "str14: iwshvhcomiuvddm\n",
      "str15: htxxqjzqbctbakn\n",
      "str16: xusfcfzpeecvwantfmgqzu\n",
      "\n"
     ]
    },
    {
     "name": "stdout",
     "output_type": "stream",
     "text": [
      "--- Solution (of length 157) ---\n",
      "  Sol: ulcingojiekrkiqafiopyplrxiwshtaenpbzlxudxcpmgqtkjwvazgbokksoktrdrenkfjuhiqpavdbiucsilctvxodtmpferzsmqwsbarpeezhkozqczviunbwbhxwanhtqgfmgqdxzvuxijsplpeowwyddm\n",
      "str01: -----------------------------t-----------------k-----g------------nk--uh--------------------mp-------------------------------x--nhtqg-----xzv-xi-s-----------\n",
      "str02: ---i--oji-----q-f-o---l---------n-b--x--xc--------v-------s-----------u--qp-v--i--s---------------s----b---------------------x-------f-----------------------\n",
      "str03: ulcin---------------y--------------------c-------------o--so----------------v------------o-------z--------p---------------------------------------plp--------\n",
      "str04: ---i-g---e----------------------------------------vazgb-------rd-------------db--cs----v--------r--------------------v--n-------n---gf-----------------------\n",
      "str05: -------------------pyplr-----------z-xu--cpm-q----v--g-------t-d----f-u-i---v----c--------d-------s----b--------o--------------------------------------------\n",
      "str06: -------------------p--------------b----d-------------------------e----------vd---c-----v--d--pf--zsm--sb-r------o-q--v---b-bh--------------------------------\n",
      "str07: ---------e----------------------n-b------c----------z---------------fj----------------tvx------erz-----b-r-----------vi-------------g-------------pl-e-------\n",
      "str08: -----------r------------x-w----------x-------q-k--------------rdr-------------------lct--odtmp--r---------p------------------xw----------d-------------------\n",
      "str09: ----------k-k-qafi--------------------------gq--jw-----okks-k-r---------------b-----l-----------------------------------------------g------------------------\n",
      "str10: -l----------------------x------------x----p--------a--b-----------------i---v-b--------v---------z-------------koz--zv-------------------d-------------------\n",
      "str11: ----------kr-i--f----------s--a-------------------v---------------n--------------c--------d---------qw--------h--z-c-----------------------------------------\n",
      "str12: --------------qa--------x-------------ud----gq----v----------------------q-------c-------------e-----w-b-----------------------------f-g-------ij-----owwy---\n",
      "str13: -----------r---------------s---------x-------q--j-----------------n-f-----pa-d-iu-si----------------q--b---e-zhko-----------h---------mg---------------------\n",
      "str14: ---i----------------------wsh---------------------v--------------------h---------c-------o--m-------------------------iu--------------------v-------------ddm\n",
      "str15: ----------------------------ht-------x--x----q--j---z--------------------q----b--c----t----------------ba------k--------n------------------------------------\n",
      "str16: ------------------------x-------------u-------------------s---------f------------c------------f--z--------pee------c-v----w----an-t--fmgq--z-u---------------\n",
      "\n",
      "solution is feasible: True\n"
     ]
    }
   ],
   "source": [
    "_instance = util.parse(\"uniform_q26n016k015-025.txt\")\n",
    "util.show(_instance)\n",
    "_solution = solve(_instance)\n",
    "util.show(_instance, _solution)\n",
    "print(f\"solution is feasible: {util.is_feasible(_instance, _solution)}\")"
   ]
  },
  {
   "cell_type": "code",
   "execution_count": null,
   "id": "Kclp",
   "metadata": {},
   "outputs": [
    {
     "name": "stdout",
     "output_type": "stream",
     "text": [
      "--- Condition (with 5 chars) ---\n",
      "str01: dcbccdbcce\n",
      "str02: bddbeeeebd\n",
      "str03: cacdeecebe\n",
      "str04: aeddddebdd\n",
      "str05: acbeecabce\n",
      "str06: bbabebdcba\n",
      "str07: bbaeaebada\n",
      "str08: eeeecbdbee\n",
      "str09: ccdeedadcd\n",
      "str10: bdabdbeaad\n",
      "\n",
      "--- Solution (of length 37) ---\n",
      "  Sol: bbccbdaeeecaedbaccdddebdeacbabcebeebd\n",
      "str01: -----d----c---b-ccd---b---c---ce-----\n",
      "str02: b----d-------db------e--e------e-e-bd\n",
      "str03: --c---a---c--d-------e--e-c----ebe---\n",
      "str04: ------ae-----d----dddebd------------d\n",
      "str05: ------a---c---b------e--e-c-abce-----\n",
      "str06: bb----a-------b------ebd--cba--------\n",
      "str07: bb----ae---ae-ba--d------a-----------\n",
      "str08: -------eee--e---c-----bd---b---e-e---\n",
      "str09: --cc-d-ee----d-a--d-------c---------d\n",
      "str10: b----da-------b---d---b-ea--a-------d\n",
      "\n",
      "solution is feasible: True\n"
     ]
    }
   ],
   "source": [
    "_instance = util.parse(\"uniform_q05n010k010-010.txt\")\n",
    "util.show(_instance)\n",
    "_solution = solve(_instance)\n",
    "util.show(_instance, _solution)\n",
    "print(f\"solution is feasible: {util.is_feasible(_instance, _solution)}\")"
   ]
  },
  {
   "cell_type": "code",
   "execution_count": null,
   "id": "emfo",
   "metadata": {},
   "outputs": [
    {
     "name": "stdout",
     "output_type": "stream",
     "text": [
      "--- Condition (with 5 chars) ---\n",
      "str01: dcbccdbcce\n",
      "str02: bddbeeeebd\n",
      "str03: cacdeecebe\n",
      "str04: aeddddebdd\n",
      "str05: acbeecabce\n",
      "str06: bbabebdcba\n",
      "str07: bbaeaebada\n",
      "str08: eeeecbdbee\n",
      "str09: ccdeedadcd\n",
      "str10: bdabdbeaad\n",
      "str11: ededaaaeaa\n",
      "str12: aaeaabeeac\n",
      "str13: eaabcaccdb\n",
      "str14: bdeeadeade\n",
      "str15: caedadeeed\n",
      "str16: ebcadbabbe\n",
      "str17: ddceeabdea\n",
      "str18: dabcddeaec\n",
      "str19: aadceedaab\n",
      "str20: aeecceeeaa\n",
      "str21: bbdaecaade\n",
      "str22: dacedaedab\n",
      "str23: aaeabbbbce\n",
      "str24: dedbcbcaab\n",
      "str25: dbdaaebbcb\n",
      "str26: debedbebac\n",
      "str27: ceebcdcbde\n",
      "str28: dbedaadaab\n",
      "str29: cccdcbebdc\n",
      "str30: aeeacdbcbd\n",
      "str31: dacbeacccd\n",
      "str32: ecebccdbdb\n",
      "str33: ddbbcedabb\n",
      "str34: aaeabaaeba\n",
      "str35: ecbbcaadcd\n",
      "str36: debccecdbc\n",
      "str37: daacbaeebc\n",
      "str38: adabeaacce\n",
      "str39: daecdbacaa\n",
      "str40: dacbbdcedc\n",
      "str41: dedbeebbde\n",
      "str42: cdadcdcdaa\n",
      "str43: ceedcbaeed\n",
      "str44: ceaecaaaca\n",
      "str45: dcccebbbad\n",
      "str46: baeeaebbde\n",
      "str47: dbdebaccdb\n",
      "str48: ebcbeedaea\n",
      "str49: aeeebbdbca\n",
      "str50: dbdabcecbb\n",
      "\n",
      "--- Solution (of length 71) ---\n",
      "  Sol: bdeadbcdadccbeceaadebddebecdbaecaedaaecdadcedbaaccdddebdeacbabceabeebda\n",
      "str01: -d----c-----b-c-----------cdb--c------c----e---------------------------\n",
      "str02: bd--db-------e-e---e---eb--d-------------------------------------------\n",
      "str03: ------c-a-c-------de---e--c---e--------------b-------e-----------------\n",
      "str04: ---a---------e----d--dd----d--e--------------b----dd-------------------\n",
      "str05: ---a--c-----be-e----------c--a---------------b--c----e-----------------\n",
      "str06: b----b--a---be------bd----c-ba-----------------------------------------\n",
      "str07: b----b--a----e--a--eb--------a----da-----------------------------------\n",
      "str08: --e----------e-e---e------c-b-----d----------b-------e--e--------------\n",
      "str09: ------c---c-------de---e---d-a----d---cd-------------------------------\n",
      "str10: bd-a-b-d----be--aad----------------------------------------------------\n",
      "str11: --e-d--------e----d----------a--a--a-e--a-----a------------------------\n",
      "str12: ---a----a----e--aa--b--e-e---a-c---------------------------------------\n",
      "str13: --ea----a---b-c-a---------c----c--d----------b-------------------------\n",
      "str14: bde----------e--a-de---------a----d--e---------------------------------\n",
      "str15: ------c-a----e----d----------a----d--e-----e---------e-d---------------\n",
      "str16: --e--bc-ad--b---a---b---be---------------------------------------------\n",
      "str17: -d--d-c------e-ea---bd-e-----a-----------------------------------------\n",
      "str18: -d-a-bcd-d---e--a--e------c--------------------------------------------\n",
      "str19: ---a----adc--e-e--d----------a--a------------b-------------------------\n",
      "str20: ---a---------e-e----------c----c-e---e-----e--aa-----------------------\n",
      "str21: b----b-da----ec-aade---------------------------------------------------\n",
      "str22: -d-a--c------e----d----------ae---da---------b-------------------------\n",
      "str23: ---a----a----e--a---b---b---b----------------b--c----e-----------------\n",
      "str24: -de-dbc-----b-c-aa--b--------------------------------------------------\n",
      "str25: -d---b-da-------a--eb---b-c-b------------------------------------------\n",
      "str26: -de--b-------e----d-b--eb----a-c---------------------------------------\n",
      "str27: ------c------e-e----b-----cd---c-------------b----d--e-----------------\n",
      "str28: -d---b-------e----d----------a--a-daa"
     ]
    },
    {
     "name": "stdout",
     "output_type": "stream",
     "text": [
      "--------b-------------------------\n",
      "str29: ------c---cc------d-------c-b-e--------------b----d-------c------------\n",
      "str30: ---a---------e-ea---------cdb--c-------------b----d--------------------\n",
      "str31: -d-a--c-----be--a---------c----c------cd-------------------------------\n",
      "str32: --e---c------e------b-----c----c--d----------b----d---b----------------\n",
      "str33: -d--db------b-ce--d----------a---------------b--------b----------------\n",
      "str34: ---a----a----e--a---b--------a--ae-----------ba------------------------\n",
      "str35: --e---c-----b-------b-----c--a--a-d---cd-------------------------------\n",
      "str36: -de--bc---c--ec---d-b-----c--------------------------------------------\n",
      "str37: -d-a----a-c-b---a--e---eb-c--------------------------------------------\n",
      "str38: ---ad---a---be--aa--------c----c-e-------------------------------------\n",
      "str39: -d-a---------ec---d-b--------a-ca--a-----------------------------------\n",
      "str40: -d-a--c-----b-------bd----c---e---d---c--------------------------------\n",
      "str41: -de-db-------e-e----b---b--d--e----------------------------------------\n",
      "str42: ------cdadc-------d-------cd-a--a--------------------------------------\n",
      "str43: ------c------e-e--d-------c-bae--ed------------------------------------\n",
      "str44: ------c------e--a--e------c--a--a--a--c-a------------------------------\n",
      "str45: -d----c---cc-e------b---b---ba----d------------------------------------\n",
      "str46: b--a---------e-ea--eb---b--d--e----------------------------------------\n",
      "str47: -d---b-d-----e------b--------a-c------cd-----b-------------------------\n",
      "str48: --e--bc-----be-e--d----------ae-a--------------------------------------\n",
      "str49: ---a---------e-e---eb---b--db--ca--------------------------------------\n",
      "str50: -d---b-da---b-ce----------c-b----------------b-------------------------\n",
      "\n",
      "solution is feasible: True\n"
     ]
    }
   ],
   "source": [
    "_instance = util.parse(\"uniform_q05n050k010-010.txt\")\n",
    "util.show(_instance)\n",
    "_solution = solve(_instance)\n",
    "util.show(_instance, _solution)\n",
    "print(f\"solution is feasible: {util.is_feasible(_instance, _solution)}\")"
   ]
  }
 ],
 "metadata": {},
 "nbformat": 4,
 "nbformat_minor": 5
}
