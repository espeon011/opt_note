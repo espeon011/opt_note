{
 "cells": [
  {
   "cell_type": "code",
   "execution_count": null,
   "id": "Hbol",
   "metadata": {},
   "outputs": [],
   "source": [
    "import marimo as mo\n",
    "import nbformat\n",
    "import util"
   ]
  },
  {
   "cell_type": "markdown",
   "id": "MJUe",
   "metadata": {
    "marimo": {
     "config": {
      "hide_code": true
     }
    }
   },
   "source": [
    "# アルファベットアルゴリズム"
   ]
  },
  {
   "cell_type": "markdown",
   "id": "vblA",
   "metadata": {
    "marimo": {
     "config": {
      "hide_code": true
     }
    }
   },
   "source": [
    "- 計算量: $O(qk)$\n",
    "- 近侍制度: $q$"
   ]
  },
  {
   "cell_type": "markdown",
   "id": "bkHC",
   "metadata": {
    "marimo": {
     "config": {
      "hide_code": true
     }
    }
   },
   "source": [
    "文字種全体を $\\Sigma = \\{ c_1, \\dots, c_q \\}$ とする.\n",
    "与えられた文字列の中で最大の長さ $k$ に対して下記は与えられた文字列全ての supersequence になる:\n",
    "\n",
    "$$\n",
    "(c_1 c_2 \\dots c_q)^k\n",
    "$$\n",
    "\n",
    "これを解とすることで長さ $qk$ の common supersequence を出力する.\n",
    "この長さは文字列の数に直接は依存しない.\n",
    "\n",
    "各文字列 $s_i$ の $j$ 番目の文字は上記 $(c_1 c_2 \\dots c_q)^k$ の中の $j$ 番目のブロックに必ず含まれているが,\n",
    "$j$ 番目のブロックの中にはどの文字列でも使用しない文字があるかもしれない.\n",
    "そのような文字は捨てることで解を少し改善する.\n",
    "これによって解が少し改善するが, 文字列の数が増えると削れる文字が少なくなり, 長さ $qk$ に近づく."
   ]
  },
  {
   "cell_type": "code",
   "execution_count": null,
   "id": "lEQa",
   "metadata": {
    "marimo": {
     "name": "*solve"
    }
   },
   "outputs": [],
   "source": [
    "def solve(instance: list[str]) -> str:\n",
    "    chars = sorted(list(set(\"\".join(instance))))\n",
    "    solution = \"\"\n",
    "\n",
    "    for i in range(max([len(s) for s in instance])):\n",
    "        used = [False for _ in chars]\n",
    "        for s in instance:\n",
    "            if i >= len(s):\n",
    "                continue\n",
    "            used[chars.index(s[i])] = True\n",
    "\n",
    "        for c, u in zip(chars, used):\n",
    "            if u:\n",
    "                solution += c\n",
    "\n",
    "    return solution"
   ]
  },
  {
   "cell_type": "code",
   "execution_count": null,
   "id": "PKri",
   "metadata": {},
   "outputs": [
    {
     "name": "stdout",
     "output_type": "stream",
     "text": [
      "--- Condition (with 25 chars) ---\n",
      "str1: tkgnkuhmpxnhtqgxzvxis\n",
      "str2: iojiqfolnbxxcvsuqpvissbxf\n",
      "str3: ulcinycosovozpplp\n",
      "str4: igevazgbrddbcsvrvnngf\n",
      "\n",
      "--- Solution (of length 79) ---\n",
      " Sol: itugklocegjinvaknqfuyzcghoblmonprsbdoxdnvxbhoxctzpqsvgpsvlruxpqvznpvnvxgifssbxf\n",
      "str1: -t--k----g--n--k---u----h---m--p-----x-n---h---t--q--g------x---z--v--x-i-s----\n",
      "str2: i-----o---ji-----qf------o-l--n---b--x---x----c-----v--s---u--q---pv----i-ssbxf\n",
      "str3: --u--l-c---in-------y-c--o-------s--o---v---o---zp----p--l---p-----------------\n",
      "str4: i--g----e----va------z-g--b-----r--d--d---b---c----sv-----r----v-n--n--g-f-----\n",
      "\n",
      "solution is feasible: True\n"
     ]
    }
   ],
   "source": [
    "_instance = util.parse(\"uniform_q26n004k015-025.txt\")\n",
    "util.show(_instance)\n",
    "_solution = solve(_instance)\n",
    "util.show(_instance, _solution)\n",
    "print(f\"solution is feasible: {util.is_feasible(_instance, _solution)}\")"
   ]
  },
  {
   "cell_type": "code",
   "execution_count": null,
   "id": "Xref",
   "metadata": {},
   "outputs": [
    {
     "name": "stdout",
     "output_type": "stream",
     "text": [
      "--- Condition (with 26 chars) ---\n",
      "str1: tkgnkuhmpxnhtqgxzvxis\n",
      "str2: iojiqfolnbxxcvsuqpvissbxf\n",
      "str3: ulcinycosovozpplp\n",
      "str4: igevazgbrddbcsvrvnngf\n",
      "str5: pyplrzxucpmqvgtdfuivcdsbo\n",
      "str6: pbdevdcvdpfzsmsbroqvbbh\n",
      "str7: enbczfjtvxerzbrvigple\n",
      "str8: rxwxqkrdrlctodtmprpxwd\n",
      "\n",
      "--- Solution (of length 155) ---\n",
      " Sol: eiprtubgklnoxybcdegjpwceilnvxaknqrvzdfkuyzcghjorxbdlmotuvcdnprsvbdlopxcdefmnvxbhoqrtxzcostvzbdgmpqsvgprstvbdlmruvxfipqrvzgnopruvinpqvxgilvxbcefswbdsbhsbxfo\n",
      "str1: ----t---k---------g-------n---k--------u----h-------m-------p--------x-----n---h---t-------------q--g------------x------z------v-----x-i-------s-----------\n",
      "str2: -i---------o-------j----i-------q----f--------o----l-------n----b----x-------x--------c---v-------s------------u-----q------p--vi--------------s---sb---xf-\n",
      "str3: -----u---l-----c--------i-n-------------y-c---o---------------s----o--------v---o----z----------p----p------l-------p--------------------------------------\n",
      "str4: -i-----g---------e---------v-a-----z-------g-----b-----------r---d-----d------b-------c-s-v-----------r--v----------------n------n----g-------f------------\n",
      "str5: --p----------y------p----l-------r-z------------x------u-c--p-------------m------q--------v---g---------t--d------f-----------u-i---v-------c-----dsb-----o\n",
      "str6: --p---b---------de---------v--------d-----c-------------v-d-p------------f-----------z--s------m--s-------b---r------------o-------qv------b-----b---"
     ]
    },
    {
     "name": "stdout",
     "output_type": "stream",
     "text": [
      "h-----\n",
      "str7: e---------n---bc-------------------z-f-------j--------t-v------------x--e---------r--z------b---------r--v---------i-----g--p-----------l----e-------------\n",
      "str8: ---r--------x--------w------x---q-----k--------r--d----------r----l---c------------t---o-----d----------t----m------p-r-----p--------x----------w-d--------\n",
      "\n",
      "solution is feasible: True\n"
     ]
    }
   ],
   "source": [
    "_instance = util.parse(\"uniform_q26n008k015-025.txt\")\n",
    "util.show(_instance)\n",
    "_solution = solve(_instance)\n",
    "util.show(_instance, _solution)\n",
    "print(f\"solution is feasible: {util.is_feasible(_instance, _solution)}\")"
   ]
  },
  {
   "cell_type": "code",
   "execution_count": null,
   "id": "SFPL",
   "metadata": {},
   "outputs": [
    {
     "name": "stdout",
     "output_type": "stream",
     "text": [
      "--- Condition (with 26 chars) ---\n",
      "str01: tkgnkuhmpxnhtqgxzvxis\n",
      "str02: iojiqfolnbxxcvsuqpvissbxf\n",
      "str03: ulcinycosovozpplp\n",
      "str04: igevazgbrddbcsvrvnngf\n",
      "str05: pyplrzxucpmqvgtdfuivcdsbo\n",
      "str06: pbdevdcvdpfzsmsbroqvbbh\n",
      "str07: enbczfjtvxerzbrvigple\n",
      "str08: rxwxqkrdrlctodtmprpxwd\n",
      "str09: kkqafigqjwokkskrblg\n",
      "str10: lxxpabivbvzkozzvd\n",
      "str11: krifsavncdqwhzc\n",
      "str12: qaxudgqvqcewbfgijowwy\n",
      "str13: rsxqjnfpadiusiqbezhkohmg\n",
      "str14: iwshvhcomiuvddm\n",
      "str15: htxxqjzqbctbakn\n",
      "str16: xusfcfzpeecvwantfmgqzu\n",
      "\n",
      "--- Solution (of length 256) ---\n",
      "  Sol: ehiklpqrtuxabgklnorstuwxybcdegijpqswxacefhilnpquvxacdfjknqrsvzabdfghijknuyzcfghijoqrvxzbdlmnopqtuvabcdejmnpqrsvbcdeilopvwxcdefimnoqtuvxzbhkoqrtuvwxzabcdhkostvwzabdfgikmpqsvzcgkmnpqrstvzbdilmrtuvxbdefijpqrvzglmnopruvzghinpqvwxgiklqvwxbcefoswyzbdhsubhmsbgxfo\n",
      "str01: --------t-----k--------------g--------------n----------k----------------u-----h-----------m--p---------------------------x------n--------h----t--------------------------q----g-------------------x----------z--------v---------x-i-----------s-----------------\n",
      "str02: --i--------------o-------------j----------i---q------f---------------------------o-------l-n-------b---------------------x------------x---------------c------v------------s---------------------u---------q--------p--v---i-------------------s------s-b-----xf-\n",
      "str03: ---------u-----l----------c---i-------------n----------------------------y-c-----o---------------------------s-------o-v---------o-----z--------------------------------p---------p---------l------------p------------------------------------------------------\n",
      "str04: --i----------g--------------e-------------------v-a----------z----g--------------------b--------------------r----d---------d------------b-------------c----s-v-------------"
     ]
    },
    {
     "name": "stdout",
     "output_type": "stream",
     "text": [
      "---------r--v-------------------------n---------n-----g----------f-------------------\n",
      "str05: -----p------------------y-------p----------l--------------r--z-----------------------x----------u---c-----p--------------------m--q--v------------------------------g-----------------t---d-----------f--------------u----i---v-----------c--------d-s-b-------o\n",
      "str06: -----p------b--------------de-------------------v---d----------------------c--------v---d----p-------------------------------f---------z-------------------s-----------m--s--------------b----r-------------------o----------qv----------b--------b-h-----------\n",
      "str07: e---------------n--------bc----------------------------------z---f---j-------------------------t-v-----------------------x--e----------------r-----z-b------------------------------r--v---i------------------g----p----------------l------e--------------------\n",
      "str08: -------r--x-----------wx---------q---------------------k--r-----d------------------r-----l----------c------------------------------t-------o-----------d----t----------mp-----------r--------------------p----------------------x------w-----------d------------\n",
      "str09: ---k----------k------------------q---a--f-i-----------------------g---------------q--------------------j----------------w--------o--------k--------------k-s----------k-------------r----b--l-----------------g-------------------------------------------------\n",
      "str10: ----l-----x------------x--------p----a-------------------------b----i---------------v--b---------v-------------------------------------z--ko-------z-----------z-----------v--------------d---------------------------------------------------------------------\n",
      "str11: ---k---r----------------------i---------f------------------s--a---------------------v------n--------cd-----q------------w----------------h---------z--c---------------------------------------------------------------------------------------------------------\n",
      "str12: ------q----a-----------x-----------------------u----d-------------g---------------q-v---------q-----c-e-----------------w---------------b--------------------------fgi----------------------------------j---------o------------w-------w--------y---------------\n",
      "str13: -------r-----------s---x---------q--------------------j-n--------f---------------------------p----a--d-------------i----------------u----------------------s---------i---q---------------b-----------e-------z-----------h---------k---------o------h----m--g---\n",
      "str14: --i-------------------w-----------s------h------v------------------h-------c-----o--------m------------------------i----------------uv-----------------d----------d----m----------------------------------------------------------------------------------------\n",
      "str15: -h------t-x------------x---------q--------------------j------z--------------------q----b------------c------------------------------t----b-----------a----k-----------------------n------------------------------------------------------------------------------\n",
      "str16: ----------x----------u------------s-----f----------c-f-------z-------------------------------p--------e-----------e-------c----------v-----------w--a----------------------------n----t---------------f---------m-------g----q-------------------z----u---------\n",
      "\n",
      "solution is feasible: True\n"
     ]
    }
   ],
   "source": [
    "_instance = util.parse(\"uniform_q26n016k015-025.txt\")\n",
    "util.show(_instance)\n",
    "_solution = solve(_instance)\n",
    "util.show(_instance, _solution)\n",
    "print(f\"solution is feasible: {util.is_feasible(_instance, _solution)}\")"
   ]
  },
  {
   "cell_type": "code",
   "execution_count": null,
   "id": "BYtC",
   "metadata": {},
   "outputs": [
    {
     "name": "stdout",
     "output_type": "stream",
     "text": [
      "--- Condition (with 5 chars) ---\n",
      "str01: dcbccdbcce\n",
      "str02: bddbeeeebd\n",
      "str03: cacdeecebe\n",
      "str04: aeddddebdd\n",
      "str05: acbeecabce\n",
      "str06: bbabebdcba\n",
      "str07: bbaeaebada\n",
      "str08: eeeecbdbee\n",
      "str09: ccdeedadcd\n",
      "str10: bdabdbeaad\n",
      "\n",
      "--- Solution (of length 45) ---\n",
      "  Sol: abcdeabcdeabcdebcdeacdebcdeabcdeabcdeabcdeade\n",
      "str01: ---d---c---bc---cd-----bc----c-e-------------\n",
      "str02: -b-d----d--b--e---e---e---e-b-d--------------\n",
      "str03: --c--a-cde----e-c-e----b--e------------------\n",
      "str04: a---e---d----d---d---deb-d----d--------------\n",
      "str05: a-c---b--e----e-c--a---bc-e------------------\n",
      "str06: -b----b---ab--eb-d--c--b---a-----------------\n",
      "str07: -b----b---a---e----a--eb---a--d-a------------\n",
      "str08: ----e----e----e---e-c--b-d--b--e----e--------\n",
      "str09: --c----cde----e--d-a-d--cd-------------------\n",
      "str10: -b-d-ab-d--b--e----a-------a--d--------------\n",
      "\n",
      "solution is feasible: True\n"
     ]
    }
   ],
   "source": [
    "_instance = util.parse(\"uniform_q05n010k010-010.txt\")\n",
    "util.show(_instance)\n",
    "_solution = solve(_instance)\n",
    "util.show(_instance, _solution)\n",
    "print(f\"solution is feasible: {util.is_feasible(_instance, _solution)}\")"
   ]
  },
  {
   "cell_type": "code",
   "execution_count": null,
   "id": "RGSE",
   "metadata": {},
   "outputs": [
    {
     "name": "stdout",
     "output_type": "stream",
     "text": [
      "--- Condition (with 5 chars) ---\n",
      "str01: dcbccdbcce\n",
      "str02: bddbeeeebd\n",
      "str03: cacdeecebe\n",
      "str04: aeddddebdd\n",
      "str05: acbeecabce\n",
      "str06: bbabebdcba\n",
      "str07: bbaeaebada\n",
      "str08: eeeecbdbee\n",
      "str09: ccdeedadcd\n",
      "str10: bdabdbeaad\n",
      "str11: ededaaaeaa\n",
      "str12: aaeaabeeac\n",
      "str13: eaabcaccdb\n",
      "str14: bdeeadeade\n",
      "str15: caedadeeed\n",
      "str16: ebcadbabbe\n",
      "str17: ddceeabdea\n",
      "str18: dabcddeaec\n",
      "str19: aadceedaab\n",
      "str20: aeecceeeaa\n",
      "str21: bbdaecaade\n",
      "str22: dacedaedab\n",
      "str23: aaeabbbbce\n",
      "str24: dedbcbcaab\n",
      "str25: dbdaaebbcb\n",
      "str26: debedbebac\n",
      "str27: ceebcdcbde\n",
      "str28: dbedaadaab\n",
      "str29: cccdcbebdc\n",
      "str30: aeeacdbcbd\n",
      "str31: dacbeacccd\n",
      "str32: ecebccdbdb\n",
      "str33: ddbbcedabb\n",
      "str34: aaeabaaeba\n",
      "str35: ecbbcaadcd\n",
      "str36: debccecdbc\n",
      "str37: daacbaeebc\n",
      "str38: adabeaacce\n",
      "str39: daecdbacaa\n",
      "str40: dacbbdcedc\n",
      "str41: dedbeebbde\n",
      "str42: cdadcdcdaa\n",
      "str43: ceedcbaeed\n",
      "str44: ceaecaaaca\n",
      "str45: dcccebbbad\n",
      "str46: baeeaebbde\n",
      "str47: dbdebaccdb\n",
      "str48: ebcbeedaea\n",
      "str49: aeeebbdbca\n",
      "str50: dbdabcecbb\n",
      "\n",
      "--- Solution (of length 50) ---\n",
      "  Sol: abcdeabcdeabcdeabcdeabcdeabcdeabcdeabcdeabcdeabcde\n",
      "str01: ---d---c---bc----cd--bc----c-e--------------------\n",
      "str02: -b-d----d--b--e----e----e----e-b-d----------------\n",
      "str03: --c--a-cde----e--c-e-b--e-------------------------\n",
      "str04: a---e---d----d----d----de-b-d----d----------------\n",
      "str05: a-c---b--e----e--c--abc-e-------------------------\n",
      "str06: -b----b---ab--e-b-d---c---b---a-------------------\n",
      "str07: -b----b---a---ea---e-b---a--d-a-------------------\n",
      "str08: ----e----e----e----e--c---b-d--b--e----e----------\n",
      "str09: --c----cde----e---d-a--d---cd---------------------\n",
      "str10: -b-d-ab-d--b--ea----a--d--------------------------\n",
      "str11: ----e---de---d-a----a----a---ea----a--------------\n",
      "str12: a----a---ea----ab--e----ea-c----------------------\n",
      "str13: ----ea----abc--a-c----cd--b-----------------------\n",
      "str14: -b-de----ea--dea--de------------------------------\n",
      "str15: --c--a---e---d-a--de----e----e---d----------------\n",
      "str16: ----e-bc--a--d--b---ab----b--e--------------------\n",
      "str17: ---d----d---c-e----eab-dea---------------"
     ]
    },
    {
     "name": "stdout",
     "output_type": "stream",
     "text": [
      "---------\n",
      "str18: ---d-abcd----dea---e--c---------------------------\n",
      "str19: a----a--d---c-e----e---d-a----ab------------------\n",
      "str20: a---e----e--c----c-e----e----ea----a--------------\n",
      "str21: -b----b-d-a---e--c--a----a--de--------------------\n",
      "str22: ---d-a-c-e---d-a---e---d-ab-----------------------\n",
      "str23: a----a---eab----b----b----bc-e--------------------\n",
      "str24: ---de---d--bc---bc--a----ab-----------------------\n",
      "str25: ---d--b-d-a----a---e-b----bc---b------------------\n",
      "str26: ---de-b--e---d--b--e-b---a-c----------------------\n",
      "str27: --c-e----e-bcd---c---b-de-------------------------\n",
      "str28: ---d--b--e---d-a----a--d-a----ab------------------\n",
      "str29: --c----c----cd---c---b--e-b-d---c-----------------\n",
      "str30: a---e----ea-cd--bc---b-d--------------------------\n",
      "str31: ---d-a-c---b--ea-c----c----cd---------------------\n",
      "str32: ----e--c-e-bc----cd--b-d--b-----------------------\n",
      "str33: ---d----d--b----bc-e---d-ab----b------------------\n",
      "str34: a----a---eab---a----a---e-b---a-------------------\n",
      "str35: ----e--c---b----bc--a----a--d---cd----------------\n",
      "str36: ---de-bc----c-e--cd--bc---------------------------\n",
      "str37: ---d-a----a-c---b---a---e----e-bc-----------------\n",
      "str38: a--d-ab--ea----a-c----c-e-------------------------\n",
      "str39: ---d-a---e--cd--b---a-c--a----a-------------------\n",
      "str40: ---d-a-c---b----b-d---c-e---d---c-----------------\n",
      "str41: ---de---d--b--e----e-b----b-de--------------------\n",
      "str42: --cd-a--d---cd---cd-a----a------------------------\n",
      "str43: --c-e----e---d---c---b---a---e----e---d-----------\n",
      "str44: --c-ea---e--c--a----a----a-c--a-------------------\n",
      "str45: ---d---c----c----c-e-b----b----b---a--d-----------\n",
      "str46: -b---a---e----ea---e-b----b-de--------------------\n",
      "str47: ---d--b-de-b---a-c----cd--b-----------------------\n",
      "str48: ----e-bc---b--e----e---d-a---ea-------------------\n",
      "str49: a---e----e----e-b----b-d--bc--a-------------------\n",
      "str50: ---d--b-d-abc-e--c---b----b-----------------------\n",
      "\n",
      "solution is feasible: True\n"
     ]
    }
   ],
   "source": [
    "_instance = util.parse(\"uniform_q05n050k010-010.txt\")\n",
    "util.show(_instance)\n",
    "_solution = solve(_instance)\n",
    "util.show(_instance, _solution)\n",
    "print(f\"solution is feasible: {util.is_feasible(_instance, _solution)}\")"
   ]
  },
  {
   "cell_type": "code",
   "execution_count": null,
   "id": "Kclp",
   "metadata": {},
   "outputs": [
    {
     "name": "stdout",
     "output_type": "stream",
     "text": [
      "--- Condition (with 4 chars) ---\n",
      "str01: AGATCTGTTC\n",
      "str02: GGAAAACAAA\n",
      "str03: AACTTTAAAA\n",
      "str04: TACCTTCCCA\n",
      "str05: ATGAAGGCTA\n",
      "str06: CTCTTGTAGA\n",
      "str07: CCTCAAATCA\n",
      "str08: AACCAACCAA\n",
      "str09: AGATCTGTTC\n",
      "str10: ACCAACCAAC\n",
      "\n",
      "--- Solution (of length 35) ---\n",
      "  Sol: ACGTACGTACGTACTACTACGTACGTACTACGTAC\n",
      "str01: A-G-A--T-C-T--------GT---T-C-------\n",
      "str02: --G---G-A---A--A--AC--A---A--A-----\n",
      "str03: A---AC-T---T--TA--A---A---A--------\n",
      "str04: ---TAC---C-T--T-C--C---C--A--------\n",
      "str05: A--T--G-A---A-------G---G--CTA-----\n",
      "str06: -C-T-C-T---T--------GTA-G-A--------\n",
      "str07: -C---C-T-C--A--A--A--T-C--A--------\n",
      "str08: A---AC---C--A--AC--C--A---A--------\n",
      "str09: A-G-A--T-C-T--------GT---T-C-------\n",
      "str10: AC---C--A---AC--C-A---AC-----------\n",
      "\n",
      "solution is feasible: True\n"
     ]
    }
   ],
   "source": [
    "_instance = util.parse(\"nucleotide_n010k010.txt\")\n",
    "util.show(_instance)\n",
    "_solution = solve(_instance)\n",
    "util.show(_instance, _solution)\n",
    "print(f\"solution is feasible: {util.is_feasible(_instance, _solution)}\")"
   ]
  },
  {
   "cell_type": "code",
   "execution_count": null,
   "id": "emfo",
   "metadata": {},
   "outputs": [
    {
     "name": "stdout",
     "output_type": "stream",
     "text": [
      "--- Condition (with 4 chars) ---\n",
      "str01: AGATCTGTTCTCTAAACGAACTTTAAAATCTGTGTGGCTGTCACTCGGCT\n",
      "str02: GGAAAACAAAAGCAACAAAAATGAAGGCAATACTAGTAGTTCTGCTGTAT\n",
      "str03: AACTTTAAAATCTGTGTGGCTGTCACTCGGCTGCATGCTTAGTGCACTCA\n",
      "str04: TACCTTCCCAGGTAACAAACCAACCAACTTTCGATCTCTTGTAGATCTGT\n",
      "str05: ATGAAGGCTATCATTGCTTTGAGCAACATTCTATGTCTTGTTTTCGCTCA\n",
      "str06: CTCTTGTAGATCTGTTCTCTAAACGAACTTTAAAATCTGTGTGGCTGTCA\n",
      "str07: CCTCAAATCACTCTTTGGCAACGACCCCTTGTTACCATAAAAATAGGGGG\n",
      "str08: AACCAACCAACTTTCGATCTCTTGTAGATCTGTTCTCTAAACGAACTTTA\n",
      "str09: AGATCTGTTCTCTAAACGAACTTTAAAATCTGTGTGGCTGTCACTCGGCT\n",
      "str10: ACCAACCAACTTTCGATCTCTTGTAGATCTGTTCTCTAAACGAACTTTAA\n",
      "str11: AGATCTGTTCTCTAAACGAACTTTAAAATCTGTGTGGCTGTCACTCGGCT\n",
      "str12: TCAAATATATTCAATATGGAGAGAATAAAAGAGCTGAGAGATCTAATGTC\n",
      "str13: AGATCTGTTCTCTAAACGAACTTTAAAATCTGTGTGGCTGTCACTCGGCT\n",
      "str14: ATAACTAATTACTGTCGTTGACAGGACACGAGTAACTCGTCTATCTTCTG\n",
      "str15: GACTTGGGTCTCCCGAACTGGGGGAAGTATGTGTTGATGAGCGCAGGTGT\n",
      "str16: AACTTTCGATCTCTTGTAGATCTGTTCTCTAAACGAACTTTAAAATCTGT\n",
      "str17: TTGTAGATCTGTTCTCTAAACGAACTTTAAAATCTGTGTGGCTGTCACTC\n",
      "str18: TTCAATTGTGGCAAAGAAGGGCACATAGCCAGAAATTGTAAGGCTCCTAG\n",
      "str19: TTTTCTATCTTCCTTCTGGCGCTTCTCTCGTGCCTCACCATCCCAGCGTC\n",
      "str20: TCAATTATATTCAGTATGGAAAGAATAAAAGAACTACGGAATCTGATGTC\n",
      "str21: AACAAACCAACCAACTTTCGATCTCTTGTAGATCTGTTCTCTAAACGAAC\n",
      "str22: GGATAATTCTATTAACCATGAAGACTATCATTGCTTTGAGCAACATTCTA\n",
      "str23: ATGGAGAGAATAAAAGAACTAAGAGATTTGATGTCGCAGTCTCGCACTCG\n",
      "str24: TTGTAGATCTGTTCTCTAAACGAACTTTAAAATCTGTGTGGCTGTCACTC\n",
      "str25: AACAAACCAACCAACTTTCGATCTCTTGTAGATCTGTTCTCTAAACGAAC\n",
      "str26: GTATAATTAATAACTAATTAGTCGTTGACAGGACACGAGTAACTCGTTTA\n",
      "str27: AAAAGAGACCCCAAAACACTAGCCAAAACACCGAAAAAAGAAACCACCAT\n",
      "str28: CAGGTAACAAACCAACCAACTTTCGATCTCTTGTAGATCTGTTCTCTAAA\n",
      "str29: GCTCGTACGTGGCTTTGGAGACTCCGTGGAGGAGGTCTTATCAGAGGCAC\n",
      "str30: TTGTAGATCTGTTCTCTAAACGAACTTTAAAATCTGTGTGGCTGTCACTC\n",
      "str31: AATCAGCTTCTTCAATCTGTCTGGAACTATATCACAAACCACCGCCATAC\n",
      "str32: CCAGTATTTGCCATATATAAAAAGAACACTACTAAATGGAGAAAATTAGT\n",
      "str33: TTGTAGATCTGTTCTCTAAACGAACTTTAAAATCTGTGTGGCTGTCACTC\n",
      "str34: GGCTGCATGCTTAGTGCACTCACGCAGTATAATTAATAACTAATTACTGT\n",
      "str35: AGATCTGTTCTCTAAACGAACTTTAAAATCTGTGTGGCTGTCACTCGGCT\n",
      "str36: ATGAATCCAAATCAAAAGATAATAACGATTGGCTCTGTTTCTCTCACCAT\n",
      "str37: AGATCTGTTCTCTAAACGAACTTTAAAATCTGTGTGGCTGTCACTCGGCT\n",
      "str38: TATACCTTCCCAGGTAACAAACCAACCAACTTTCGATCTCTTGTAGATCT\n",
      "str39: GTTTATACCTTCCCAGGTAACAAACCAACCAACTTTCGATCTCTTGTAGA\n",
      "str40: TTCCCAGGTAACAAACCACCAACTTAGATCTGTTCTCTAAACGAACTTTA\n",
      "str41: ATGAAATTTCTTGTTTTCTTAGGAATCATCACAACTGTAGCTGCATTTCA\n",
      "str42: ATTGCCACCCCCCTCATGGAAGCCCTTGCTGAACCTTATCGCCAGTCTCT\n",
      "str43: TTGTAGATCTGTTCTCTAAACGAACTTTAAAATCTGTGTGGCTGTCACTC\n",
      "str44: TAGATCTGTTCTCTAAACGAACTTTAAAATCTGTGTGGCTGTCACTCGGC\n",
      "str45: AGATCTGTTCTCTAAACGAACTTTAAAATCTGTGTGGCTGTCACTCGGCT\n",
      "str46: TGTACAACTGTCACAAGTGTCAACACCACTGGAGACAGGGAAGGCTTAAA\n",
      "str47: TTGGCCCCCGAAGCCAGACAGGCCATAAGGTCGCTCACAGAGCGGCTTTA\n",
      "str48: CTTTTGATCTCTTGTAGATCTGTTCTCTAAACGAACTTTAAAATCTGTGT\n",
      "str49: GGCACCAGAGAAAGTAGACTTTGAAGACTGCAGAGATGTTGGCGACCTAA\n",
      "str50: ATGTTTAAGTATGTTGGGGAGATGCTTGACCGCGGGCTGTTGCTCGCGAT\n",
      "\n",
      "--- Solution (of length 200) ---\n",
      "  Sol: ACGTACGTACGTACGTACGTACGTACGTACGTACGTACGTACGTACGTACGTACGTACGTACGTACGTACGTACGTACGTACGTACGTACGTACGTACGTACGTACGTACGTACGTACGTACGTACGTACGTACGTACGTACGTACGTACGTACGTACGTACGTACGTACGTACGTACGTACGTACGTACGTACGTACGT\n",
      "str01: A-G-A--T-C-T--GT---T-C-T-C-TA---A---ACG-A---AC-T---T---TA---A---A---A--T-C-T--GT--GT--G---G--C-T--GT-C--AC-T-CG---G--C-T--------------------------------------------------------------------------------\n",
      "str02: --G---G-A---A---A---AC--A---A---A---A-G--C--A---AC--A---A---A---A---A--T--G-A---A-G---G--C--A---A--TAC-TA-GTA-GT---T-C-T--G--C-T--GTA--T----------------------------------------------------------------\n",
      "str03: A---AC-T---T---TA---A---A---A--T-C-T--GT--GT--G---G--C-T--GT-C--AC-T-CG---G--C-T--G--C--A--T--G--C-T---TA-GT--G--C--AC-T-C--A---------------------------------------------------------------------------\n",
      "str04: ---TAC---C-T---T-C---C---C--A-G---GTA---AC--A---A---AC---C--A---AC---C--A---AC-T---T---T-CG-A--T-C-T-C-T---T--GTA-G-A--T-C-T--GT------------------------------------------------------------------------\n",
      "str05: A--T--G-A---A-G---G--C-TA--T-C--A--T---T--G--C-T---T---T--G-A-G--C--A---AC--A--T---T-C-TA--T--GT-C-T---T--GT---T---T---T-CG--C-T-C--A-------------------------------------------------------------------\n",
      "str06: -C-T-C-T---T--GTA-G-A--T-C-T--GT---T-C-T-C-TA---A---ACG-A---AC-T---T---TA---A---A---A--T-C-T--GT--GT--G---G--C-T--GT-C--A-------------------------------------------------------------------------------\n",
      "str07: -C---C-T-C--A---A---A--T-C--AC-T-C-T---T---T--G---G--C--A---ACG-AC---C---C---C-T---T--GT---TAC---C--A--TA---A---A---A---A--TA-G---G---G---G---G---------------------------------------------------------\n",
      "str08: A---AC---C--A---AC---C--A---AC-T---T---T-CG-A--T-C-T-C-T---T--GTA-G-A--T-C-T--GT---T-C-T-C-TA---A---ACG-A---AC-T---T---TA-------------------------------------------------------------------------------\n",
      "str09: A-G-A--T-C-T--GT---T-C-T-C-TA---A---ACG-A---AC-T---T---TA---A---A---A--T-C-T--GT--GT--G---G--C-T--GT-C--AC-T-CG---G--C-T--------------------------------------------------------------------------------\n",
      "str10: AC---C--A---AC---C--A---AC-T---T---T-CG-A--T-C-T-C-T---T--GTA-G-A--T-C-T--GT---T-C-T-C-TA---A---ACG-A---AC-T---T---TA---A-------------------------------------------------------------------------------\n",
      "str11: A-G-A--T-C-T--GT---T-C-T-C-TA---A---ACG-A---AC-T---T---TA---A---A---A--T-C-T--GT--GT--G---G--C-T--GT-C--AC-T-CG---G--C-T--------------------------------------------------------------------------------\n",
      "str12: ---T-C--A---A---A--TA--TA--T---T-C--A---A--TA--T--G---G-A-G-A-G-A---A--TA---A---A---A-G-A-G--C-T--G-A-G-A-G-A--T-C-TA---A--T--GT-C----------------------------------------------------------------------\n",
      "str13: A-G-A--T-C-T--GT---T-C-T-C-TA---A---ACG-A---AC-T---T---TA---A---A---A--T-C-T--GT--GT--G---G--C-T--GT-C--AC-T-CG---G--C-T--------------------------------------------------------------------------------\n",
      "str14: A--TA---AC-TA---A--T---TAC-T--GT-CGT---T--G-AC--A-G---G-AC--ACG-A-GTA---AC-T-CGT-C-TA--T-C-T---T-C-T--G-------------------------------------------------------------------------------------------------\n",
      "str15: --G-AC-T---T--G---G---GT-C-T-C---C---CG-A---AC-T--G---G---G---G---G-A---A-GTA--T--GT--GT---T--G-A--T--G-A-G--CG--C--A-G---GT--GT------------------------------------------------------------------------\n",
      "str16: A---AC-T---T---T-CG-A--T-C-T-C-T---T--GTA-G-A--T-C-T--GT---T-C-T-C-TA---A---ACG-A---AC-T---T---TA---A---A---A--T-C-T--GT--------------------------------------------------------------------------------\n",
      "str17: ---T---T--GTA-G-A--T-C-T--GT---T-C-T-C-TA---A---ACG-A---AC-T---T---TA---A---A---A--T-C-T--GT--GT--G---G--C-T--GT-C--AC-T-C------------------------------------------------------------------------------\n",
      "str18: ---T---T-C--A---A--T---T--GT--G---G--C--A---A---A-G-A---A-G---G---G--C--AC--A--TA-G--C---C--A-G-A---A---A--T---T--GTA---A-G---G--C-T-C---C-TA-G---------------------------------------------------------\n",
      "str19: ---T---T---T---T-C-TA--T-C-T---T-C---C-T---T-C-T--G---G--CG--C-T---T-C-T-C-T-CGT--G--C---C-T-C--A"
     ]
    },
    {
     "name": "stdout",
     "output_type": "stream",
     "text": [
      "C---C--A--T-C---C---C--A-G--CGT-C----------------------------------------------------------------------\n",
      "str20: ---T-C--A---A--T---TA--TA--T---T-C--A-GTA--T--G---G-A---A---A-G-A---A--TA---A---A---A-G-A---AC-TACG---G-A---A--T-C-T--G-A--T--GT-C----------------------------------------------------------------------\n",
      "str21: A---AC--A---A---AC---C--A---AC---C--A---AC-T---T---T-CG-A--T-C-T-C-T---T--GTA-G-A--T-C-T--GT---T-C-T-C-TA---A---ACG-A---AC------------------------------------------------------------------------------\n",
      "str22: --G---G-A--TA---A--T---T-C-TA--T---TA---AC---C--A--T--G-A---A-G-AC-TA--T-C--A--T---T--G--C-T---T---T--G-A-G--C--A---AC--A--T---T-C-TA-------------------------------------------------------------------\n",
      "str23: A--T--G---G-A-G-A-G-A---A--TA---A---A---A-G-A---AC-TA---A-G-A-G-A--T---T---T--G-A--T--GT-CG--C--A-GT-C-T-CG--C--AC-T-CG---------------------------------------------------------------------------------\n",
      "str24: ---T---T--GTA-G-A--T-C-T--GT---T-C-T-C-TA---A---ACG-A---AC-T---T---TA---A---A---A--T-C-T--GT--GT--G---G--C-T--GT-C--AC-T-C------------------------------------------------------------------------------\n",
      "str25: A---AC--A---A---AC---C--A---AC---C--A---AC-T---T---T-CG-A--T-C-T-C-T---T--GTA-G-A--T-C-T--GT---T-C-T-C-TA---A---ACG-A---AC------------------------------------------------------------------------------\n",
      "str26: --GTA--TA---A--T---TA---A--TA---AC-TA---A--T---TA-GT-CGT---T--G-AC--A-G---G-AC--ACG-A-GTA---AC-T-CGT---T---TA-------------------------------------------------------------------------------------------\n",
      "str27: A---A---A---A-G-A-G-AC---C---C---C--A---A---A---AC--AC-TA-G--C---C--A---A---A---AC--AC---CG-A---A---A---A---A---A-G-A---A---AC---C--AC---C--A--T--------------------------------------------------------\n",
      "str28: -C--A-G---GTA---AC--A---A---AC---C--A---AC---C--A---AC-T---T---T-CG-A--T-C-T-C-T---T--GTA-G-A--T-C-T--GT---T-C-T-C-TA---A---A---------------------------------------------------------------------------\n",
      "str29: --G--C-T-CGTACGT--G---G--C-T---T---T--G---G-A-G-AC-T-C---CGT--G---G-A-G---G-A-G---GT-C-T---TA--T-C--A-G-A-G---G--C--AC----------------------------------------------------------------------------------\n",
      "str30: ---T---T--GTA-G-A--T-C-T--GT---T-C-T-C-TA---A---ACG-A---AC-T---T---TA---A---A---A--T-C-T--GT--GT--G---G--C-T--GT-C--AC-T-C------------------------------------------------------------------------------\n",
      "str31: A---A--T-C--A-G--C-T---T-C-T---T-C--A---A--T-C-T--GT-C-T--G---G-A---AC-TA--TA--T-C--AC--A---A---AC---C--AC---CG--C---C--A--TAC--------------------------------------------------------------------------\n",
      "str32: -C---C--A-GTA--T---T---T--G--C---C--A--TA--TA--TA---A---A---A---A-G-A---AC--AC-TAC-TA---A---A--T--G---G-A-G-A---A---A---A--T---TA-GT--------------------------------------------------------------------\n",
      "str33: ---T---T--GTA-G-A--T-C-T--GT---T-C-T-C-TA---A---ACG-A---AC-T---T---TA---A---A---A--T-C-T--GT--GT--G---G--C-T--GT-C--AC-T-C------------------------------------------------------------------------------\n",
      "str34: --G---G--C-T--G--C--A--T--G--C-T---TA-GT--G--C"
     ]
    },
    {
     "name": "stdout",
     "output_type": "stream",
     "text": [
      "--AC-T-C--ACG--C--A-GTA--TA---A--T---TA---A--TA---AC-TA---A--T---TAC-T--GT--------------------------------------------------------------------------------\n",
      "str35: A-G-A--T-C-T--GT---T-C-T-C-TA---A---ACG-A---AC-T---T---TA---A---A---A--T-C-T--GT--GT--G---G--C-T--GT-C--AC-T-CG---G--C-T--------------------------------------------------------------------------------\n",
      "str36: A--T--G-A---A--T-C---C--A---A---A--T-C--A---A---A---A-G-A--TA---A--TA---ACG-A--T---T--G---G--C-T-C-T--GT---T---T-C-T-C-T-C--AC---C--A--T----------------------------------------------------------------\n",
      "str37: A-G-A--T-C-T--GT---T-C-T-C-TA---A---ACG-A---AC-T---T---TA---A---A---A--T-C-T--GT--GT--G---G--C-T--GT-C--AC-T-CG---G--C-T--------------------------------------------------------------------------------\n",
      "str38: ---TA--TAC---C-T---T-C---C---C--A-G---GTA---AC--A---A---AC---C--A---AC---C--A---AC-T---T---T-CG-A--T-C-T-C-T---T--GTA-G-A--T-C-T------------------------------------------------------------------------\n",
      "str39: --GT---T---TA--TAC---C-T---T-C---C---C--A-G---GTA---AC--A---A---AC---C--A---AC---C--A---AC-T---T---T-CG-A--T-C-T-C-T---T--GTA-G-A-----------------------------------------------------------------------\n",
      "str40: ---T---T-C---C---C--A-G---GTA---AC--A---A---AC---C--AC---C--A---AC-T---TA-G-A--T-C-T--GT---T-C-T-C-TA---A---ACG-A---AC-T---T---TA-----------------------------------------------------------------------\n",
      "str41: A--T--G-A---A---A--T---T---T-C-T---T--GT---T---T---T-C-T---TA-G---G-A---A--T-C--A--T-C--AC--A---AC-T--GTA-G--C-T--G--C--A--T---T---T-C--A---------------------------------------------------------------\n",
      "str42: A--T---T--G--C---C--AC---C---C---C---C---C-T-C--A--T--G---G-A---A-G--C---C---C-T---T--G--C-T--G-A---AC---C-T---TA--T-CG--C---C--A-GT-C-T-C-T------------------------------------------------------------\n",
      "str43: ---T---T--GTA-G-A--T-C-T--GT---T-C-T-C-TA---A---ACG-A---AC-T---T---TA---A---A---A--T-C-T--GT--GT--G---G--C-T--GT-C--AC-T-C------------------------------------------------------------------------------\n",
      "str44: ---TA-G-A--T-C-T--GT---T-C-T-C-TA---A---ACG-A---AC-T---T---TA---A---A---A--T-C-T--GT--GT--G---G--C-T--GT-C--AC-T-CG---G--C------------------------------------------------------------------------------\n",
      "str45: A-G-A--T-C-T--GT---T-C-T-C-TA---A---ACG-A---AC-T---T---TA---A---A---A--T-C-T--GT--GT--G---G--C-T--GT-C--AC-T-CG---G--C-T--------------------------------------------------------------------------------\n",
      "str46: ---T--GTAC--A---AC-T--GT-C--AC--A---A-GT--GT-C--A---AC--AC---C--AC-T--G---G-A-G-AC--A-G---G---G-A---A-G---G--C-T---TA---A---A---------------------------------------------------------------------------\n",
      "str47: ---T---T--G---G--C---C---C---C---CG-A---A-G--C---C--A-G-AC--A-G---G--C---C--A--TA---A-G---GT-CG--C-T-C--AC--A-G-A-G--CG---G--C-T---T---TA---------------------------------------------------------------\n",
      "str48: -C-T---T---T---T--G-A--T-C-T-C-T---T--GTA-G-A--T-C-T--GT---T-C-T-C-TA---A---ACG-A---AC-T---T---TA---A---A---A--T-C-T--GT--GT----------------------------------------------------------------------------\n",
      "str49: --G---G--C--AC---C--A-G-A-G-A---A---A-GTA-G-AC-T---T---T--G-A---A-G-AC-T--G--C--A-G-A-G-A--T--GT---T--G---G--CG-AC---C-TA---A---------------------------------------------------------------------------\n",
      "str50: A--T--GT---T---TA---A-GTA--T--GT---T--G---G---G---G-A-G-A--T--G--C-T---T--G-AC---CG--CG---G---G--C-T--GT---T--G--C-T-CG--CG-A--T------------------------------------------------------------------------\n",
      "\n",
      "solution is feasible: True\n"
     ]
    }
   ],
   "source": [
    "_instance = util.parse(\"nucleotide_n050k050.txt\")\n",
    "util.show(_instance)\n",
    "_solution = solve(_instance)\n",
    "util.show(_instance, _solution)\n",
    "print(f\"solution is feasible: {util.is_feasible(_instance, _solution)}\")"
   ]
  },
  {
   "cell_type": "code",
   "execution_count": null,
   "id": "Hstk",
   "metadata": {},
   "outputs": [
    {
     "name": "stdout",
     "output_type": "stream",
     "text": [
      "--- Condition (with 9 chars) ---\n",
      "str01: MESLVPGFNE\n",
      "str02: MESLVPGFNE\n",
      "str03: MFVFLVLLPL\n",
      "str04: MESLVPGFNE\n",
      "str05: MESLVPGFNE\n",
      "str06: MESLVPGFNE\n",
      "str07: MFVFLVLLPL\n",
      "str08: MFVFLVLLPL\n",
      "str09: MESLVPGFNE\n",
      "str10: MFVFLVLLPL\n",
      "\n",
      "--- Solution (of length 19) ---\n",
      "  Sol: MEFSVFLLVPVGLFLNPEL\n",
      "str01: ME-S--L-VP-G-F-N-E-\n",
      "str02: ME-S--L-VP-G-F-N-E-\n",
      "str03: M-F-VFL-V---L-L-P-L\n",
      "str04: ME-S--L-VP-G-F-N-E-\n",
      "str05: ME-S--L-VP-G-F-N-E-\n",
      "str06: ME-S--L-VP-G-F-N-E-\n",
      "str07: M-F-VFL-V---L-L-P-L\n",
      "str08: M-F-VFL-V---L-L-P-L\n",
      "str09: ME-S--L-VP-G-F-N-E-\n",
      "str10: M-F-VFL-V---L-L-P-L\n",
      "\n",
      "solution is feasible: True\n"
     ]
    }
   ],
   "source": [
    "_instance = util.parse(\"protein_n010k010.txt\")\n",
    "util.show(_instance)\n",
    "_solution = solve(_instance)\n",
    "util.show(_instance, _solution)\n",
    "print(f\"solution is feasible: {util.is_feasible(_instance, _solution)}\")"
   ]
  },
  {
   "cell_type": "code",
   "execution_count": null,
   "id": "nWHF",
   "metadata": {},
   "outputs": [
    {
     "name": "stdout",
     "output_type": "stream",
     "text": [
      "--- Condition (with 20 chars) ---\n",
      "str01: MESLVPGFNEKTHVQLSLPVLQVRDVLVRGFGDSVEEVLSEARQHLKDGT\n",
      "str02: MESLVPGFNEKTHVQLSLPVLQVRDVLVRGFGDSVEEVLSEARQHLKDGT\n",
      "str03: MFVFLVLLPLVSSQCVNLTTRTQLPPAYTNSFTRGVYYPDKVFRSSVLHS\n",
      "str04: MESLVPGFNEKTHVQLSLPVLQVRDVLVRGFGDSVEEVLSEARQHLKDGT\n",
      "str05: MESLVPGFNEKTHVQLSLPVLQVRDVLVRGFGDSVEEVLSEARQHLKDGT\n",
      "str06: MESLVPGFNEKTHVQLSLPVLQVRDVLVRGFGDSVEEVLSEARQHLKDGT\n",
      "str07: MFVFLVLLPLVSSQCVNLITRTQSYTNSFTRGVYYPDKVFRSSVLHSTKD\n",
      "str08: MFVFLVLLPLVSSQCVNLRTRTQLPPAYTNSFTRGVYYPDKVFRSSVLHS\n",
      "str09: MESLVPGFNEKTHVQLSLPVLQVRDVLVRGFGDSVEEVLSEARQHLKDGT\n",
      "str10: MFVFLVLLPLVSSQCVNLTTRTQLPPAYTNSFTRGVYYPDKVFRSSVLHS\n",
      "str11: MFVFLVLLPLVSSQCVMPLFNLITTTQSYTNFTRGVYYPDKVFRSSVLHL\n",
      "str12: MESLVPGFNEKTHVQLSLPVLQVRDVLVRGFGDSVEEVLSEARQHLKDGT\n",
      "str13: MFVFLVLLPLVSSQCVNLTTRTQLPPAYTNSFTRGVYYPDKVFRSSVLHS\n",
      "str14: MDPIINGSSANVYLTDSYLKGVISFSECNALGSYLFNGPYLKNDYTNLIS\n",
      "str15: MFVFLVLLPLVSSQCVNLTTRTQLPPAYTNSFTRGVYYPDKVFRSSVLHS\n",
      "str16: MESLVPGFNEKTHVQLSLPVLQVRDVLVRGFGDSVEEVLSEARQHLKDGT\n",
      "str17: MESLVPGFNEKTHVQLSLPVLQVRDVLVRGFGDSVEEVLSEARQHLKDGT\n",
      "str18: MESLVPGFNEKTHVQLSLPVLQVRDVLVRGFGDSVEEVLSEARQHLKDGT\n",
      "str19: MESLVPGFNEKTHVQLSLPVLQVRDVLVRGFGDSVEEVLSEARQHLKDGT\n",
      "str20: MESLVPGFNEKTHVQLSLPVLQVRDVLVRGFGDSVEEVLSEARQHLKDGT\n",
      "str21: MESLVPGFNEKTHVQLSLPVLQVRDVLVRGFGDSVEEVLSEARQHLKDGT\n",
      "str22: MLNRIQTLMKTANNYETIEILRNYLRLYIILARNEEGRGILIYDDNIDSV\n",
      "str23: MESLVPGFNEKTHVQLSLPVLQVRDVLVRGFGDSVEEVLSEARQHLKDGT\n",
      "str24: MESLVPGFNEKTHVQLSLPVLQVRDVLVRGFGDSVEEVLSEARQHLKDGT\n",
      "str25: MFVFLVLLPLVSSQCVNLRTRTQLPPAYTNSFTRGVYYPDKVFRSSVLHS\n",
      "str26: MESLVPGFNEKTHVQLSLPVLQVRDVLVRGFGDSVEEVLSEARQHLKDGT\n",
      "str27: MDPIINGSSANVYLTDSYLKGVISFSECNALGSYLFNGPYLKNDYTNLIS\n",
      "str28: MESLVPGFNEKTHVQLSLPVLQVRDVLVRGFGDSVEEVLSEARQHLKDGT\n",
      "str29: MESLVPGFNEKTHVQLSLPVLQVRDVLVRGFGDSVEEVLSEARQHLKDGT\n",
      "str30: MESLVPGFNEKTHVQLSLPVLQVRDVLVRGFGDSVEEVLSEARQHLKDGT\n",
      "str31: MESLVPGFNEKTHVQLSLPVLQVRDVLVRGFGDSVEEVLSEARQHLKDGT\n",
      "str32: MESLVPGFNEKTHVQLSLPVLQVRDVLVRGFGDSVEEVLSEARQHLKDGT\n",
      "str33: MFVFLVLLPLVSSQCVNLITRTQSYTNSFTRGVYYPDKVFRSSVLHSTQD\n",
      "str34: MESTVGPACPPGRTVTKRPWALAEDTPGGPDSPPKRPRPNSLPLTTTFRP\n",
      "str35: MNNQRKKTARPSFNMLKRARNRVSTVSQLAKRFSKGLLSGQGPMKLVMAF\n",
      "str36: MFVFLVLLPLVSSQCVNLITRTQSYTNSFTRGVYYPDKVFRSSVLHSTQD\n",
      "str37: MEPGAFSTALFDALCDDILHRRLESQLRFGGVQIPPEVSDPRVYAGYALL\n",
      "str38: MESLVPGFNEKTHVQLSLPVLQVRDVLVRGFGDSVEEVLSEARQHLKDGT\n",
      "str39: MESLVPGFNEKTHVQLSLPVLQVRDVLVRGFGDSVEEVLSEARQHLKDGT\n",
      "str40: MESLVPGFNEKTHVQLSLPVLQVRDVLVRGFGDSVEEVLSEARQHLKDGT\n",
      "str41: MFVFLVLLPLVSSQCVNLTTRTQLPPAYTNSFTRGVYYPDKVFRSSVLHS\n",
      "str42: MKKNTDSEMDQRLGYKFLVPDPKAGVFYRPLHFQYVSYSNFILHRLHEIL\n",
      "str43: MESLVPGFNEKTHVQLSLPVLQVRDVLVRGFGDSVEEVLSEARQHLKDGT\n",
      "str44: MESLVPGFNEKTHVQLSLPVLQVRDVLVRGFGDSVEEVLSEARQHLKDGT\n",
      "str45: MESLVPGFNEKTHVQLSLPVLQVRDVLVRGFGDSVEEVLSEARQHLKDGT\n",
      "str46: MFVFLVLLPLVSSQCVNLTTRTQLPPAYTNSFTRGVYYPDKVFRSSVLHS\n",
      "str47: MESLVPGFNEKTHVQLSLPVLQVRDVLVRGFGDSVEEVLSEARQHLKDGT\n",
      "str48: MESLVPGFNEKTHVQLSLPVLQVRDVLVRGFGDSVEEVLSEARQHLKDGT\n",
      "str49: MFVFLVLLPLVSSQCVNLITRTQSYTNSFTRGVYYPDKVFRSSVLHSTQD\n",
      "str50: MESLVPGFNEKTHVQLSLPVLQVRDVLVRGFGDSVEEVLSEARQHLKDGT\n",
      "\n",
      "--- Solution (of length 344) ---\n",
      "  Sol: MDEFKLNKNPSVFGILNQRTAILRTVDFGKNPQVGKLPSTAEFLSTACMNPSADEKLPRFKNPQTVADGRSTVAFHLNRSYGLNQTVCMQTVYDEKLTVDFKMNSTILPRYAEILPRTVFHIKPRTVWADGLNRLPQRTVAIKLNQVAELRSTYDFGLPSTYPQRSTVAEFLNPQSCGQRSVYFGILNRTYAGINPTDFGKLNRSAFGHRSVDFPQRSTVINPQRSYEGKLPVYEFGPRVDEGLNPSYGKLRVYGLPSVDFGINSYEFKLPQRSAGIKLRSVFLNPRSVYDHLMQRVYADHKLRSTYGHLNSTHIKNSTVYADEFLMTAGHIKLQRSDFLPSTV\n",
      "str01: M-E-------S----L---------V-----P--G-------F------N----EK--------T----------H----------V--Q------L-------S--LP---------V------------L----Q--V----------R---D------------V---L---------V------R---G-----FG------------D----S-V-------E------E----V---L--S-------------------E-------A----R--------------Q-----H-L------------K------D------G------------T-\n",
      "str02: M-E-------S----L---------V-----P--G-------F------N----EK--------T----------H----------V--Q------L-------S--LP---------V------------L----Q--V----------R---D------------V---L---------V------R---G-----FG------------D----S-V-------E------E----V---L--S-------------------E-------A----R--------------Q-----H-L------------K------D------G------------T-\n",
      "str03: M--F-------VF--L---------V----------L------L------P-----L--------V----S--------S----Q--C---V-----------N---L---------T-------T-------R----T------Q---L--------P---P-----A-------------Y------T----N---------S-F-----------T-----R---G---VY-------------Y--------P--D--------K------------VF---RS----------------S--------------V-----L----H-----S-------\n",
      "str04: M-E-------S----L---------V-----P--G-------F------N----EK--------T----------H----------V--Q------L-------S--LP---------V------------L----Q--V----------R---D------------V---L---------V------R---G-----FG------------D----S-V-------E------E----V---L--S-------------------E-------A----R--------------Q-----H-L------------K------D------G------------T-\n",
      "str05: M-E-------S----L---------V-----P--G-------F------N----EK--------T----------H----------V--Q------L-------S--LP---------V------------L----Q--V----------R---D------------V---L---------V------R---G-----FG------------D----S-V-------E------E----V---L--S-------------------E-------A----R--------------Q-----H-L------------K------D------G------------T-\n",
      "str06: M-E-------S----L---------V-----P--G-------F------N----EK--------T----------H----------V--Q------L-------S--LP---------V------------L----Q--V----------R---D------------V---L---------V------R---G-----FG------------D----S-V-------E------E----V---L--S-------------------E-------A----R--------------Q-----H-L------------K------D------G------------T-\n",
      "str07: M--F-------VF--L---------V----------L------L------P-----L--------V----S--------S----Q--C---V-----------N---L-----I---T------RT----------Q--------------S-Y------T-----------N--S-------F-----T-------------R---G---V--------------Y------Y---P--D--------K--V-------F-----------RS------SV-L-------H------------ST---------K------D---------------------\n",
      "str08: M--F-------VF--L---------V----------L------L------P-----L--------V----S--------S----Q--C---V-----------N---L-R-------T------RT----------Q------L--------------P---P-----A-------------Y------T----N---------S-F-----------T-"
     ]
    },
    {
     "name": "stdout",
     "output_type": "stream",
     "text": [
      "----R---G---VY-------------Y--------P--D--------K------------VF---RS----------------S--------------V-----L----H-----S-------\n",
      "str09: M-E-------S----L---------V-----P--G-------F------N----EK--------T----------H----------V--Q------L-------S--LP---------V------------L----Q--V----------R---D------------V---L---------V------R---G-----FG------------D----S-V-------E------E----V---L--S-------------------E-------A----R--------------Q-----H-L------------K------D------G------------T-\n",
      "str10: M--F-------VF--L---------V----------L------L------P-----L--------V----S--------S----Q--C---V-----------N---L---------T-------T-------R----T------Q---L--------P---P-----A-------------Y------T----N---------S-F-----------T-----R---G---VY-------------Y--------P--D--------K------------VF---RS----------------S--------------V-----L----H-----S-------\n",
      "str11: M--F-------VF--L---------V----------L------L------P-----L--------V----S--------S----Q--C---V----------M-----P-----L----F------------N-L------I----------T-------T-----T-------QS------Y------T----N---F-------------------T-----R---G---VY-------------Y--------P--D--------K------------VF---RS----------------S--------------V-----L----H--L----------\n",
      "str12: M-E-------S----L---------V-----P--G-------F------N----EK--------T----------H----------V--Q------L-------S--LP---------V------------L----Q--V----------R---D------------V---L---------V------R---G-----FG------------D----S-V-------E------E----V---L--S-------------------E-------A----R--------------Q-----H-L------------K------D------G------------T-\n",
      "str13: M--F-------VF--L---------V----------L------L------P-----L--------V----S--------S----Q--C---V-----------N---L---------T-------T-------R----T------Q---L--------P---P-----A-------------Y------T----N---------S-F-----------T-----R---G---VY-------------Y--------P--D--------K------------VF---RS----------------S--------------V-----L----H-----S-------\n",
      "str14: MD-------P----I------I--------N---G---S-----S-A--N---------------V--------------Y-L--T-------D----------S-----Y---L-------K-------G--------V-I---------S---F---S---------E------C----------N---A---------L-----G--S---------------Y---L----F--------N---G-------P--------Y---L-------K------N-----D------Y-------T----N--------------L-----I----S-------\n",
      "str15: M--F-------VF--L---------V----------L------L------P-----L--------V----S--------S----Q--C---V-----------N---L---------T-------T-------R----T------Q---L--------P---P-----A-------------Y------T----N---------S-F-----------T-----R---G---VY-------------Y--------P--D--------K------------VF---RS----------------S--------------V-----L----H-----S-------\n",
      "str16: M-E-------S----L---------V-----P--G-------F------N----EK--------T----------H----------V--Q------L-------S--LP---------V------------L----Q--V----------R---D------------V---L---------V------R---G-----FG------------D----S-V-------E------E----V---L--S-------------------E-------A----R--------------Q-----H-L------------K------D------G------------T-\n",
      "str17: M-E-------S----L---------V-----P--G-------F------N----EK--------T----------H----------V--Q------L-------S--LP---------V------------L----Q--V----------R---D------------V---L---------V------R---G-----FG------------D----S-V-------E------E----V---L--S-------------------E-------A----R--------------Q-----H-L------------K------D------G------------T-\n",
      "str18: M-E-------S----L---------V-----P--G-------F------N----EK--------T----------H----------V--Q------L-------S--LP---------V------------L----Q--V----------R---D------------V---L---------V------R---G-----FG------------D----S-V-------E------E----V---L--S-------------------E-------A----R--------------Q-----H-L------------K------D------G------------T-\n",
      "str19: M-E-------S----L---------V-----P--G-------F------N----EK--------T----------H----------V--Q------L-------S--LP---------V------------L----Q--V----------R---D------------V---L---------V------R---G-----FG------------D----S-V-------E------E----V---L--S-------------------E-------A----R--------------Q-----H-L------------K------D------G------------T-\n",
      "str20: M-E-------S----L---------V-----P--G-------F------N----EK--------T----------H----------V--Q------L-------S--LP---------V------------L----Q--V----------R---D------------V---L---------V------R---G-----FG------------D----S-V-------E------E----V---L--S-------------------E-------A----R--------------Q-----H-L------------K------D------G------------T-\n",
      "str21: M-E-------S----L---------V-----P--G-------F------N----EK--------T----------H----------V--Q------L-------S--LP---------V------------L----Q--V----------R---D------------V---L---------V------R---G-----FG------------D----S-V-------E------E----V---L--S-------------------E-------A----R--------------Q-----H-L------------K------D------G------------T-\n",
      "str22: M----LN-----------R--I----------Q------T---L----M------K--------T-A----------N-----N--------Y-E--T--------I-----EIL-R---------------N--------------------Y---L------R------L----------Y--I-------I-------L---A---R-----------N-----E------E-G-R---G-------------------I------L------I------------YD--------D----------N---I-------D-------------S------V\n",
      "str23: M-"
     ]
    },
    {
     "name": "stdout",
     "output_type": "stream",
     "text": [
      "E-------S----L---------V-----P--G-------F------N----EK--------T----------H----------V--Q------L-------S--LP---------V------------L----Q--V----------R---D------------V---L---------V------R---G-----FG------------D----S-V-------E------E----V---L--S-------------------E-------A----R--------------Q-----H-L------------K------D------G------------T-\n",
      "str24: M-E-------S----L---------V-----P--G-------F------N----EK--------T----------H----------V--Q------L-------S--LP---------V------------L----Q--V----------R---D------------V---L---------V------R---G-----FG------------D----S-V-------E------E----V---L--S-------------------E-------A----R--------------Q-----H-L------------K------D------G------------T-\n",
      "str25: M--F-------VF--L---------V----------L------L------P-----L--------V----S--------S----Q--C---V-----------N---L-R-------T------RT----------Q------L--------------P---P-----A-------------Y------T----N---------S-F-----------T-----R---G---VY-------------Y--------P--D--------K------------VF---RS----------------S--------------V-----L----H-----S-------\n",
      "str26: M-E-------S----L---------V-----P--G-------F------N----EK--------T----------H----------V--Q------L-------S--LP---------V------------L----Q--V----------R---D------------V---L---------V------R---G-----FG------------D----S-V-------E------E----V---L--S-------------------E-------A----R--------------Q-----H-L------------K------D------G------------T-\n",
      "str27: MD-------P----I------I--------N---G---S-----S-A--N---------------V--------------Y-L--T-------D----------S-----Y---L-------K-------G--------V-I---------S---F---S---------E------C----------N---A---------L-----G--S---------------Y---L----F--------N---G-------P--------Y---L-------K------N-----D------Y-------T----N--------------L-----I----S-------\n",
      "str28: M-E-------S----L---------V-----P--G-------F------N----EK--------T----------H----------V--Q------L-------S--LP---------V------------L----Q--V----------R---D------------V---L---------V------R---G-----FG------------D----S-V-------E------E----V---L--S-------------------E-------A----R--------------Q-----H-L------------K------D------G------------T-\n",
      "str29: M-E-------S----L---------V-----P--G-------F------N----EK--------T----------H----------V--Q------L-------S--LP---------V------------L----Q--V----------R---D------------V---L---------V------R---G-----FG------------D----S-V-------E------E----V---L--S-------------------E-------A----R--------------Q-----H-L------------K------D------G------------T-\n",
      "str30: M-E-------S----L---------V-----P--G-------F------N----EK--------T----------H----------V--Q------L-------S--LP---------V------------L----Q--V----------R---D------------V---L---------V------R---G-----FG------------D----S-V-------E------E----V---L--S-------------------E-------A----R--------------Q-----H-L------------K------D------G------------T-\n",
      "str31: M-E-------S----L---------V-----P--G-------F------N----EK--------T----------H------"
     ]
    },
    {
     "name": "stdout",
     "output_type": "stream",
     "text": [
      "----V--Q------L-------S--LP---------V------------L----Q--V----------R---D------------V---L---------V------R---G-----FG------------D----S-V-------E------E----V---L--S-------------------E-------A----R--------------Q-----H-L------------K------D------G------------T-\n",
      "str32: M-E-------S----L---------V-----P--G-------F------N----EK--------T----------H----------V--Q------L-------S--LP---------V------------L----Q--V----------R---D------------V---L---------V------R---G-----FG------------D----S-V-------E------E----V---L--S-------------------E-------A----R--------------Q-----H-L------------K------D------G------------T-\n",
      "str33: M--F-------VF--L---------V----------L------L------P-----L--------V----S--------S----Q--C---V-----------N---L-----I---T------RT----------Q--------------S-Y------T-----------N--S-------F-----T-------------R---G---V--------------Y------Y---P--D--------K--V-------F-----------RS------SV-L-------H------------ST----------------------------Q--D------\n",
      "str34: M-E-------S--------T-----V--G--P--------A------C--P------P----------GR-TV------------T---------K-------------R-----P-----------WA--L--------A-------E-----D-----T-P--------------G------G----------P-D------S---------P-------P------K--------R------P-----R----P------NS----LP-------L--------------------------T------T-----T-----F----------R----P---\n",
      "str35: M-----N-N--------QR----------K-----K---TA-----------------R---P-------S---F--N----------M-------L----K-------R-A----R---------------NR-----V-----------ST--------------V-------S--Q-------L----A--------K--R--F---S------------------K------G------L------L------S---G---------Q---G---------P-------M-------KL----------------V------M-A---------F-----\n",
      "str36: M--F-------VF--L---------V----------L------L------P-----L--------V----S--------S----Q--C---V-----------N---L-----I---T------RT----------Q--------------S-Y------T-----------N--S-------F-----T-------------R---G---V--------------Y------Y---P--D--------K--V-------F-----------RS------SV-L-------H------------ST----------------------------Q--D------\n",
      "str37: M-E------P---G------A------F----------STA--L---------------F-------D-----A--L----------C-----D-----D------IL------------H---R--------RL-------------E--S-----------Q-------L-------R---FG-------G------------------V---Q----I-P--------P--E----V------S------------D----------P-R--------V-------Y--------A--------G------------YA---L-------L----------\n",
      "str38: M-E-------S----L---------V-----P--G-------F------N----EK--------T----------H----------V--Q------L-------S--LP---------V------------L----Q--V----------R---D------------V---L---------V------R---G-----FG------------D----S-V-------E------E----V---L--S-------------------E-------A----R--------------Q-----H-L------------K------D------G------------T-\n",
      "str39: M-E-------S----L---------V-----P--G-------F------N----EK--------T----------H----------V--Q------L-------S--LP---------V------------L----Q--V----------R---D------------V---L---------V------R---G-----FG------------D----S-V-------E------E----V---L--S-------------------E-------A----R---"
     ]
    },
    {
     "name": "stdout",
     "output_type": "stream",
     "text": [
      "-----------Q-----H-L------------K------D------G------------T-\n",
      "str40: M-E-------S----L---------V-----P--G-------F------N----EK--------T----------H----------V--Q------L-------S--LP---------V------------L----Q--V----------R---D------------V---L---------V------R---G-----FG------------D----S-V-------E------E----V---L--S-------------------E-------A----R--------------Q-----H-L------------K------D------G------------T-\n",
      "str41: M--F-------VF--L---------V----------L------L------P-----L--------V----S--------S----Q--C---V-----------N---L---------T-------T-------R----T------Q---L--------P---P-----A-------------Y------T----N---------S-F-----------T-----R---G---VY-------------Y--------P--D--------K------------VF---RS----------------S--------------V-----L----H-----S-------\n",
      "str42: M---K--KN----------T------D-----------S--E------M----D---------Q-----R------L----G----------Y--K----F------L----------V----P-----D-----P------K----A--------G----------V--F-----------Y-----R------P-----L------H----F-Q----------Y-----V-------------SY---------S-----N---F--------I-L------------H---R------L-----H--------------E-------I-L----------\n",
      "str43: M-E-------S----L---------V-----P--G-------F------N----EK--------T----------H----------V--Q------L-------S--LP---------V------------L----Q--V----------R---D------------V---L---------V------R---G-----FG------------D----S-V-------E------E----V---L--S-------------------E-------A----R--------------Q-----H-L------------K------D------G------------T-\n",
      "str44: M-E-------S----L---------V-----P--G-------F------N----EK--------T----------H----------V--Q------L-------S--LP---------V------------L----Q--V----------R---D------------V---L---------V------R---G-----FG------------D----S-V-------E------E----V---L--S-------------------E-------A----R--------------Q-----H-L------------K------D------G------------T-\n",
      "str45: M-E-------S----L---------V-----P--G-------F------N----EK--------T----------H----------V--Q------L-------S--LP---------V------------L----Q--V----------R---D------------V---L---------V------R---G-----FG------------D----S-V-------E------E----V---L--S-------------------E-------A----R--------------Q-----H-L------------K------D------G------------T-\n",
      "str46: M--F-------VF--L---------V----------L------L------P-----L--------V----S--------S----Q--C---V-----------N---L---------T-------T-------R----T------Q---L--------P---P-----A-------------Y------T----N---------S-F-----------T-----R---G---VY-------------Y--------P--D--------K------------VF---RS----------------S--------------V-----L----H-----S-------\n",
      "str47: M-E-------S----L---------V-----P--G-------F------N----EK--------T----------H----------V--Q------L-------S--LP---------V------------L----Q--V----------R---D------------V---L---------V------R---G-----FG------------D----S-V-------E------E----V---L--S-------------------E-------A----R--------------Q-----H-L------------K------D------G------------T-\n",
      "str48: M-E-------S----L---------V-----P--G-------F------N----EK--------T----------H----------V--Q------L-------S--LP---------V------------L----Q--V----------R---D------------V"
     ]
    },
    {
     "name": "stdout",
     "output_type": "stream",
     "text": [
      "---L---------V------R---G-----FG------------D----S-V-------E------E----V---L--S-------------------E-------A----R--------------Q-----H-L------------K------D------G------------T-\n",
      "str49: M--F-------VF--L---------V----------L------L------P-----L--------V----S--------S----Q--C---V-----------N---L-----I---T------RT----------Q--------------S-Y------T-----------N--S-------F-----T-------------R---G---V--------------Y------Y---P--D--------K--V-------F-----------RS------SV-L-------H------------ST----------------------------Q--D------\n",
      "str50: M-E-------S----L---------V-----P--G-------F------N----EK--------T----------H----------V--Q------L-------S--LP---------V------------L----Q--V----------R---D------------V---L---------V------R---G-----FG------------D----S-V-------E------E----V---L--S-------------------E-------A----R--------------Q-----H-L------------K------D------G------------T-\n",
      "\n",
      "solution is feasible: True\n"
     ]
    }
   ],
   "source": [
    "_instance = util.parse(\"protein_n050k050.txt\")\n",
    "util.show(_instance)\n",
    "_solution = solve(_instance)\n",
    "util.show(_instance, _solution)\n",
    "print(f\"solution is feasible: {util.is_feasible(_instance, _solution)}\")"
   ]
  }
 ],
 "metadata": {},
 "nbformat": 4,
 "nbformat_minor": 5
}
