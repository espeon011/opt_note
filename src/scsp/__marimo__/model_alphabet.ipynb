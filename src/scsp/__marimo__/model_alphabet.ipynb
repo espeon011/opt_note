{
 "cells": [
  {
   "cell_type": "code",
   "execution_count": null,
   "id": "Hbol",
   "metadata": {},
   "outputs": [],
   "source": [
    "import marimo as mo\n",
    "import nbformat\n",
    "import util"
   ]
  },
  {
   "cell_type": "markdown",
   "id": "MJUe",
   "metadata": {
    "marimo": {
     "config": {
      "hide_code": true
     }
    }
   },
   "source": [
    "# アルファベットアルゴリズム"
   ]
  },
  {
   "cell_type": "markdown",
   "id": "vblA",
   "metadata": {
    "marimo": {
     "config": {
      "hide_code": true
     }
    }
   },
   "source": [
    "- 計算量: $O(qk)$\n",
    "- 近侍制度: $q$"
   ]
  },
  {
   "cell_type": "markdown",
   "id": "bkHC",
   "metadata": {
    "marimo": {
     "config": {
      "hide_code": true
     }
    }
   },
   "source": [
    "文字種全体を $\\Sigma = \\{ c_1, \\dots, c_q \\}$ とする.\n",
    "与えられた文字列の中で最大の長さ $k$ に対して下記は与えられた文字列全ての supersequence になる:\n",
    "\n",
    "$$\n",
    "(c_1 c_2 \\dots c_q)^k\n",
    "$$\n",
    "\n",
    "これを解とすることで長さ $qk$ の common supersequence を出力する.\n",
    "この長さは文字列の数に直接は依存しない.\n",
    "\n",
    "各文字列 $s_i$ の $j$ 番目の文字は上記 $(c_1 c_2 \\dots c_q)^k$ の中の $j$ 番目のブロックに必ず含まれているが,\n",
    "$j$ 番目のブロックの中にはどの文字列でも使用しない文字があるかもしれない.\n",
    "そのような文字は捨てることで解を少し改善する.\n",
    "これによって解が少し改善するが, 文字列の数が増えると削れる文字が少なくなり, 長さ $qk$ に近づく."
   ]
  },
  {
   "cell_type": "code",
   "execution_count": null,
   "id": "lEQa",
   "metadata": {
    "marimo": {
     "name": "*solve"
    }
   },
   "outputs": [],
   "source": [
    "def solve(instance: list[str]) -> str:\n",
    "    chars = sorted(list(set(\"\".join(instance))))\n",
    "    solution = \"\"\n",
    "\n",
    "    for i in range(max([len(s) for s in instance])):\n",
    "        used = [False for _ in chars]\n",
    "        for s in instance:\n",
    "            if i >= len(s):\n",
    "                continue\n",
    "            used[chars.index(s[i])] = True\n",
    "\n",
    "        for c, u in zip(chars, used):\n",
    "            if u:\n",
    "                solution += c\n",
    "\n",
    "    return solution"
   ]
  },
  {
   "cell_type": "code",
   "execution_count": null,
   "id": "PKri",
   "metadata": {},
   "outputs": [
    {
     "name": "stdout",
     "output_type": "stream",
     "text": [
      "--- Condition (with 25 chars) ---\n",
      "str1: tkgnkuhmpxnhtqgxzvxis\n",
      "str2: iojiqfolnbxxcvsuqpvissbxf\n",
      "str3: ulcinycosovozpplp\n",
      "str4: igevazgbrddbcsvrvnngf\n",
      "\n",
      "--- Solution (of length 79) ---\n",
      " Sol: itugklocegjinvaknqfuyzcghoblmonprsbdoxdnvxbhoxctzpqsvgpsvlruxpqvznpvnvxgifssbxf\n",
      "str1: -t--k----g--n--k---u----h---m--p-----x-n---h---t--q--g------x---z--v--x-i-s----\n",
      "str2: i-----o---ji-----qf------o-l--n---b--x---x----c-----v--s---u--q---pv----i-ssbxf\n",
      "str3: --u--l-c---in-------y-c--o-------s--o---v---o---zp----p--l---p-----------------\n",
      "str4: i--g----e----va------z-g--b-----r--d--d---b---c----sv-----r----v-n--n--g-f-----\n",
      "\n",
      "solution is feasible: True\n"
     ]
    }
   ],
   "source": [
    "_instance = util.parse(\"uniform_q26n004k015-025.txt\")\n",
    "util.show(_instance)\n",
    "_solution = solve(_instance)\n",
    "util.show(_instance, _solution)\n",
    "print(f\"solution is feasible: {util.is_feasible(_instance, _solution)}\")"
   ]
  },
  {
   "cell_type": "code",
   "execution_count": null,
   "id": "Xref",
   "metadata": {},
   "outputs": [
    {
     "name": "stdout",
     "output_type": "stream",
     "text": [
      "--- Condition (with 26 chars) ---\n",
      "str1: tkgnkuhmpxnhtqgxzvxis\n",
      "str2: iojiqfolnbxxcvsuqpvissbxf\n",
      "str3: ulcinycosovozpplp\n",
      "str4: igevazgbrddbcsvrvnngf\n",
      "str5: pyplrzxucpmqvgtdfuivcdsbo\n",
      "str6: pbdevdcvdpfzsmsbroqvbbh\n",
      "str7: enbczfjtvxerzbrvigple\n",
      "str8: rxwxqkrdrlctodtmprpxwd\n",
      "\n",
      "--- Solution (of length 155) ---\n",
      " Sol: eiprtubgklnoxybcdegjpwceilnvxaknqrvzdfkuyzcghjorxbdlmotuvcdnprsvbdlopxcdefmnvxbhoqrtxzcostvzbdgmpqsvgprstvbdlmruvxfipqrvzgnopruvinpqvxgilvxbcefswbdsbhsbxfo\n",
      "str1: ----t---k---------g-------n---k--------u----h-------m-------p--------x-----n---h---t-------------q--g------------x------z------v-----x-i-------s-----------\n",
      "str2: -i---------o-------j----i-------q----f--------o----l-------n----b----x-------x--------c---v-------s------------u-----q------p--vi--------------s---sb---xf-\n",
      "str3: -----u---l-----c--------i-n-------------y-c---o---------------s----o--------v---o----z----------p----p------l-------p--------------------------------------\n",
      "str4: -i-----g---------e---------v-a-----z-------g-----b-----------r---d-----d------b-------c-s-v-----------r--v----------------n------n----g-------f------------\n",
      "str5: --p----------y------p----l-------r-z------------x------u-c--p-------------m------q--------v---g---------t--d------f-----------u-i---v-------c-----dsb-----o\n",
      "str6: --p---b---------de---------v--------d-----c-------------v-d-p------------f-----------z--s------m--s-------b---r------------o-------qv------b-----b---h-----\n",
      "str7: e---------n---bc-------------------z-f-------j--------t-v------------x--e---------r--z------b---------r--v---------i-----g--p-----------l----e-------------\n",
      "str8: ---r--------x--------w------x---q-----k--------r--d----------r----l---c------------t---o-----d----------t----m------p-r-----p--------x----------w-d--------\n",
      "\n",
      "solution is feasible: True\n"
     ]
    }
   ],
   "source": [
    "_instance = util.parse(\"uniform_q26n008k015-025.txt\")\n",
    "util.show(_instance)\n",
    "_solution = solve(_instance)\n",
    "util.show(_instance, _solution)\n",
    "print(f\"solution is feasible: {util.is_feasible(_instance, _solution)}\")"
   ]
  },
  {
   "cell_type": "code",
   "execution_count": null,
   "id": "SFPL",
   "metadata": {},
   "outputs": [
    {
     "name": "stdout",
     "output_type": "stream",
     "text": [
      "--- Condition (with 26 chars) ---\n",
      "str01: tkgnkuhmpxnhtqgxzvxis\n",
      "str02: iojiqfolnbxxcvsuqpvissbxf\n",
      "str03: ulcinycosovozpplp\n",
      "str04: igevazgbrddbcsvrvnngf\n",
      "str05: pyplrzxucpmqvgtdfuivcdsbo\n",
      "str06: pbdevdcvdpfzsmsbroqvbbh\n",
      "str07: enbczfjtvxerzbrvigple\n",
      "str08: rxwxqkrdrlctodtmprpxwd\n",
      "str09: kkqafigqjwokkskrblg\n",
      "str10: lxxpabivbvzkozzvd\n",
      "str11: krifsavncdqwhzc\n",
      "str12: qaxudgqvqcewbfgijowwy\n",
      "str13: rsxqjnfpadiusiqbezhkohmg\n",
      "str14: iwshvhcomiuvddm\n",
      "str15: htxxqjzqbctbakn\n",
      "str16: xusfcfzpeecvwantfmgqzu\n",
      "\n",
      "--- Solution (of length 256) ---\n",
      "  Sol: ehiklpqrtuxabgklnorstuwxybcdegijpqswxacefhilnpquvxacdfjknqrsvzabdfghijknuyzcfghijoqrvxzbdlmnopqtuvabcdejmnpqrsvbcdeilopvwxcdefimnoqtuvxzbhkoqrtuvwxzabcdhkostvwzabdfgikmpqsvzcgkmnpqrstvzbdilmrtuvxbdefijpqrvzglmnopruvzghinpqvwxgiklqvwxbcefoswyzbdhsubhmsbgxfo\n",
      "str01: --------t-----k--------------g--------------n----------k----------------u-----h-----------m--p---------------------------x------n--------h----t--------------------------q----g-------------------x----------z--------v---------x-i-----------s-----------------\n",
      "str02: --i--------------o-------------j----------i---q------f---------------------------o-------l-n-------b---------------------x------------x---------------c------v------------s---------------------u---------q--------p--v---i-------------------s------s-b-----xf-\n",
      "str03: ---------u-----l----------c---i-------------n----------------------------y-c-----o---------------------------s-------o-v---------o-----z--------------------------------p---------p---------l------------p------------------------------------------------------\n",
      "str04: --i----------g--------------e-------------------v-a----------z----g--------------------b--------------------r----d---------d------------b-------------c----s-v----------------------r--v-------------------------n---------n-----g----------f-------------------\n",
      "str05: -----p------------------y-------p----------l--------------r--z-----------------------x----------u---c-----p--------------------m--q--v------------------------------g-----------------t---d-----------f--------------u----i---v-----------c--------d-s-b-------o\n",
      "str06: -----p------b--------------de-------------------v---d----------------------c--------v---d----p-------------------------------f---------z-------------------s-----------m--s--------------b----r-------------------o----------qv----------b--------b-h-----------\n",
      "str07: e---------------n--------bc----------------------------------z---f---j-------------------------t-v-----------------------x--e----------------r-----z-b------------------------------r--v---i------------------g----p----------------l------e--------------------\n",
      "str08: -------r--x-----------wx---------q---------------------k--r-----d------------------r-----l----------c------------------------------t-------o-----------d-"
     ]
    },
    {
     "name": "stdout",
     "output_type": "stream",
     "text": [
      "---t----------mp-----------r--------------------p----------------------x------w-----------d------------\n",
      "str09: ---k----------k------------------q---a--f-i-----------------------g---------------q--------------------j----------------w--------o--------k--------------k-s----------k-------------r----b--l-----------------g-------------------------------------------------\n",
      "str10: ----l-----x------------x--------p----a-------------------------b----i---------------v--b---------v-------------------------------------z--ko-------z-----------z-----------v--------------d---------------------------------------------------------------------\n",
      "str11: ---k---r----------------------i---------f------------------s--a---------------------v------n--------cd-----q------------w----------------h---------z--c---------------------------------------------------------------------------------------------------------\n",
      "str12: ------q----a-----------x-----------------------u----d-------------g---------------q-v---------q-----c-e-----------------w---------------b--------------------------fgi----------------------------------j---------o------------w-------w--------y---------------\n",
      "str13: -------r-----------s---x---------q--------------------j-n--------f---------------------------p----a--d-------------i----------------u----------------------s---------i---q---------------b-----------e-------z-----------h---------k---------o------h----m--g---\n",
      "str14: --i-------------------w-----------s------h------v------------------h-------c-----o--------m------------------------i----------------uv-----------------d----------d----m----------------------------------------------------------------------------------------\n",
      "str15: -h------t-x------------x---------q--------------------j------z--------------------q----b------------c------------------------------t----b-----------a----k-----------------------n------------------------------------------------------------------------------\n",
      "str16: ----------x----------u------------s-----f----------c-f-------z-------------------------------p--------e-----------e-------c----------v-----------w--a----------------------------n----t---------------f---------m-------g----q-------------------z----u---------\n",
      "\n",
      "solution is feasible: True\n"
     ]
    }
   ],
   "source": [
    "_instance = util.parse(\"uniform_q26n016k015-025.txt\")\n",
    "util.show(_instance)\n",
    "_solution = solve(_instance)\n",
    "util.show(_instance, _solution)\n",
    "print(f\"solution is feasible: {util.is_feasible(_instance, _solution)}\")"
   ]
  },
  {
   "cell_type": "code",
   "execution_count": null,
   "id": "BYtC",
   "metadata": {},
   "outputs": [
    {
     "name": "stdout",
     "output_type": "stream",
     "text": [
      "--- Condition (with 5 chars) ---\n",
      "str01: dcbccdbcce\n",
      "str02: bddbeeeebd\n",
      "str03: cacdeecebe\n",
      "str04: aeddddebdd\n",
      "str05: acbeecabce\n",
      "str06: bbabebdcba\n",
      "str07: bbaeaebada\n",
      "str08: eeeecbdbee\n",
      "str09: ccdeedadcd\n",
      "str10: bdabdbeaad\n",
      "\n",
      "--- Solution (of length 45) ---\n",
      "  Sol: abcdeabcdeabcdebcdeacdebcdeabcdeabcdeabcdeade\n",
      "str01: ---d---c---bc---cd-----bc----c-e-------------\n",
      "str02: -b-d----d--b--e---e---e---e-b-d--------------\n",
      "str03: --c--a-cde----e-c-e----b--e------------------\n",
      "str04: a---e---d----d---d---deb-d----d--------------\n",
      "str05: a-c---b--e----e-c--a---bc-e------------------\n",
      "str06: -b----b---ab--eb-d--c--b---a-----------------\n",
      "str07: -b----b---a---e----a--eb---a--d-a------------\n",
      "str08: ----e----e----e---e-c--b-d--b--e----e--------\n",
      "str09: --c----cde----e--d-a-d--cd-------------------\n",
      "str10: -b-d-ab-d--b--e----a-------a--d--------------\n",
      "\n",
      "solution is feasible: True\n"
     ]
    }
   ],
   "source": [
    "_instance = util.parse(\"uniform_q05n010k010-010.txt\")\n",
    "util.show(_instance)\n",
    "_solution = solve(_instance)\n",
    "util.show(_instance, _solution)\n",
    "print(f\"solution is feasible: {util.is_feasible(_instance, _solution)}\")"
   ]
  },
  {
   "cell_type": "code",
   "execution_count": null,
   "id": "RGSE",
   "metadata": {},
   "outputs": [
    {
     "name": "stdout",
     "output_type": "stream",
     "text": [
      "--- Condition (with 5 chars) ---\n",
      "str01: dcbccdbcce\n",
      "str02: bddbeeeebd\n",
      "str03: cacdeecebe\n",
      "str04: aeddddebdd\n",
      "str05: acbeecabce\n",
      "str06: bbabebdcba\n",
      "str07: bbaeaebada\n",
      "str08: eeeecbdbee\n",
      "str09: ccdeedadcd\n",
      "str10: bdabdbeaad\n",
      "str11: ededaaaeaa\n",
      "str12: aaeaabeeac\n",
      "str13: eaabcaccdb\n",
      "str14: bdeeadeade\n",
      "str15: caedadeeed\n",
      "str16: ebcadbabbe\n",
      "str17: ddceeabdea\n",
      "str18: dabcddeaec\n",
      "str19: aadceedaab\n",
      "str20: aeecceeeaa\n",
      "str21: bbdaecaade\n",
      "str22: dacedaedab\n",
      "str23: aaeabbbbce\n",
      "str24: dedbcbcaab\n",
      "str25: dbdaaebbcb\n",
      "str26: debedbebac\n",
      "str27: ceebcdcbde\n",
      "str28: dbedaadaab\n",
      "str29: cccdcbebdc\n",
      "str30: aeeacdbcbd\n",
      "str31: dacbeacccd\n",
      "str32: ecebccdbdb\n",
      "str33: ddbbcedabb\n",
      "str34: aaeabaaeba\n",
      "str35: ecbbcaadcd\n",
      "str36: debccecdbc\n",
      "str37: daacbaeebc\n",
      "str38: adabeaacce\n",
      "str39: daecdbacaa\n",
      "str40: dacbbdcedc\n",
      "str41: dedbeebbde\n",
      "str42: cdadcdcdaa\n",
      "str43: ceedcbaeed\n",
      "str44: ceaecaaaca\n",
      "str45: dcccebbbad\n",
      "str46: baeeaebbde\n",
      "str47: dbdebaccdb\n",
      "str48: ebcbeedaea\n",
      "str49: aeeebbdbca\n",
      "str50: dbdabcecbb\n",
      "\n",
      "--- Solution (of length 50) ---\n",
      "  Sol: abcdeabcdeabcdeabcdeabcdeabcdeabcdeabcdeabcdeabcde\n",
      "str01: ---d---c---bc----cd--bc----c-e--------------------\n",
      "str02: -b-d----d--b--e----e----e----e-b-d----------------\n",
      "str03: --c--a-cde----e--c-e-b--e-------------------------\n",
      "str04: a---e---d----d----d----de-b-d----d----------------\n",
      "str05: a-c---b--e----e--c--abc-e-------------------------\n",
      "str06: -b----b---ab--e-b-d---c---b---a-------------------\n",
      "str07: -b----b---a---ea---e-b---a--d-a-------------------\n",
      "str08: ----e----e----e----e--c---b-d--b--e----e----------\n",
      "str09: --c----cde----e---d-a--d---cd---------------------\n",
      "str10: -b-d-ab-d--b--ea----a--d--------------------------\n",
      "str11: ----e---de---d-a----a----a---ea----a--------------\n",
      "str12: a----a---ea----ab--e----ea-c----------------------\n",
      "str13: ----ea----abc--a-c----cd--b-----------------------\n",
      "str14: -b-de----ea--dea--de------------------------------\n",
      "str15: --c--a---e---d-a--de----e----e---d----------------\n",
      "str16: ----e-bc--a--d--b---ab----b--e--------------------\n",
      "str17: ---d----d---c-e----eab-dea------------------------\n",
      "str18: ---d-abcd----dea---e--c---------------------------\n",
      "str19: a----a--d---c-e----e---d-a----ab------------------\n",
      "str20: a---e----e--c----c-e----e----ea----a--------------\n",
      "str21: -b----b-d-a---e--c--a----a--de--------------------\n",
      "str22: ---d-a-c-e---d-a---e---d-ab-----------------------\n",
      "str23: a----a---eab----b----b----bc-e--------------------\n",
      "str24: ---de---d--bc---bc--a----ab-----------------------\n",
      "str25: ---d--b-d-a----a---e-b----bc---b------------------\n",
      "str26: ---de-b--e---d--b--e-b---a-c----------------------\n",
      "str27: --c-e----e-bcd---c---b-de-------------------------\n",
      "str28: ---d--b--e---d-a----a--d-a----ab------------------\n",
      "str29: --c----c----cd---c---b--e-b-d---c-----------------\n",
      "str30: a---e----ea-cd--bc---b-d--------------------------\n",
      "str31: ---d-a-c---b--ea-c----c----cd---------------------\n",
      "str32: ----e--c-e-bc----cd--b-d--b-----------------------\n",
      "str33: ---d----d--b----bc-e---d-ab----b------------------\n",
      "str34: a----a---eab---a----a---e-b---a-------------------\n",
      "str35: ----e--c---b----bc--a----a--d---cd----------------\n",
      "str36: ---de-bc----c-e--cd--bc---------------------------\n",
      "str37: ---d-a----a-c---b---a---e----e-bc-----------------\n",
      "str38: "
     ]
    },
    {
     "name": "stdout",
     "output_type": "stream",
     "text": [
      "a--d-ab--ea----a-c----c-e-------------------------\n",
      "str39: ---d-a---e--cd--b---a-c--a----a-------------------\n",
      "str40: ---d-a-c---b----b-d---c-e---d---c-----------------\n",
      "str41: ---de---d--b--e----e-b----b-de--------------------\n",
      "str42: --cd-a--d---cd---cd-a----a------------------------\n",
      "str43: --c-e----e---d---c---b---a---e----e---d-----------\n",
      "str44: --c-ea---e--c--a----a----a-c--a-------------------\n",
      "str45: ---d---c----c----c-e-b----b----b---a--d-----------\n",
      "str46: -b---a---e----ea---e-b----b-de--------------------\n",
      "str47: ---d--b-de-b---a-c----cd--b-----------------------\n",
      "str48: ----e-bc---b--e----e---d-a---ea-------------------\n",
      "str49: a---e----e----e-b----b-d--bc--a-------------------\n",
      "str50: ---d--b-d-abc-e--c---b----b-----------------------\n",
      "\n",
      "solution is feasible: True\n"
     ]
    }
   ],
   "source": [
    "_instance = util.parse(\"uniform_q05n050k010-010.txt\")\n",
    "util.show(_instance)\n",
    "_solution = solve(_instance)\n",
    "util.show(_instance, _solution)\n",
    "print(f\"solution is feasible: {util.is_feasible(_instance, _solution)}\")"
   ]
  },
  {
   "cell_type": "code",
   "execution_count": null,
   "id": "Kclp",
   "metadata": {},
   "outputs": [
    {
     "name": "stdout",
     "output_type": "stream",
     "text": [
      "--- Condition (with 4 chars) ---\n",
      "str01: ATGGGATACG\n",
      "str02: ATACCTTCCC\n",
      "str03: CACGAATTGA\n",
      "str04: TAAAATCTGT\n",
      "str05: AGGTAACAAA\n",
      "str06: TTCCTAGGTA\n",
      "str07: TTGTAGATCT\n",
      "str08: TGGGAAGTTC\n",
      "str09: TTCCACAACT\n",
      "str10: TCTAAACGAA\n",
      "\n",
      "--- Solution (of length 39) ---\n",
      "  Sol: ACTACGTACGTACGTACGTACGTACGTACGTACGTACGT\n",
      "str01: A-T--G---G---G-A--TACG-----------------\n",
      "str02: A-TAC---C-T---T-C---C---C--------------\n",
      "str03: -C-ACG-A---A--T---T--G-A---------------\n",
      "str04: --TA---A---A---A--T-C-T--GT------------\n",
      "str05: A----G---GTA---AC--A---A---A-----------\n",
      "str06: --T---T-C---C-TA-G---GTA---------------\n",
      "str07: --T---T--GTA-G-A--T-C-T----------------\n",
      "str08: --T--G---G---G-A---A-GT---T-C----------\n",
      "str09: --T---T-C---C--AC--A---AC-T------------\n",
      "str10: --T-C-TA---A---ACG-A---A---------------\n",
      "\n",
      "solution is feasible: True\n"
     ]
    }
   ],
   "source": [
    "_instance = util.parse(\"nucleotide_n010k010.txt\")\n",
    "util.show(_instance)\n",
    "_solution = solve(_instance)\n",
    "util.show(_instance, _solution)\n",
    "print(f\"solution is feasible: {util.is_feasible(_instance, _solution)}\")"
   ]
  },
  {
   "cell_type": "code",
   "execution_count": null,
   "id": "emfo",
   "metadata": {},
   "outputs": [
    {
     "name": "stdout",
     "output_type": "stream",
     "text": [
      "--- Condition (with 5 chars) ---\n",
      "str01: TAGTAGTAGACTCCGGAAGTGACAAACCCTGAAAAGAATGGATAAATATA\n",
      "str02: GGATAAACACTCCCGAAAATAATTTGACTTAAACAACGCGACAGTTCAAG\n",
      "str03: ATACCTTCCTAGGTAACAAACCAACCAACTTTTGATCTCTTGTAGATCTG\n",
      "str04: TAAATTATAATCTTATACTAGTAAAAAATAGGGTGTAACCGAAAACGGTC\n",
      "str05: TTAAAACAGCCTGTGGGTTGCACCCACTCACAGGGCCCACTGGGCGCAAG\n",
      "str06: ATGACTTCCAATGGATCCCAACCTCAAGCTTCCACCCCAATGGTTTCAGC\n",
      "str07: AACAAACCAACCAACTTTTGATCTCTTGTAGATCTGTTCTCTAAACGAAC\n",
      "str08: ATGAAAACGAAAATTATTATCAAGGGTATGGAAGTGGAAGCTGACGAAAT\n",
      "str09: ACTCGGCTGCATGCTTAGTGCACTCACGCAGTATAATTAATAACTAATTA\n",
      "str10: TTGTAGATCTGTTCTCTAAACGAACTTTAAAATCTGTGTGGCTGTCACTC\n",
      "str11: GCAGAGCATTTTCTAATATCCACAAAATGAAGGCAATAATTGTACTACTC\n",
      "str12: ATGAGCCAAGATCCGACGAAGAGCCCCAAGGAGGAGAAGGAGGGACCCCC\n",
      "str13: TCTCACAGTTCAAGAACCCAAAGTACCCCCCATAGCCCTCTTAAAGCCAC\n",
      "str14: AGGTTTATACCTTCCTAGGTAACAAACCAACCAACTTTCGATCTCTTGTA\n",
      "str15: AGGTTTATACCTTCCCAGGTAACAAACCAACCAACTTTCGATCTCTTGTA\n",
      "str16: TAAAACAACTCAATACAACATAAGAAAATCAACGCAAAAACACTCACAAA\n",
      "str17: CCGCCCATTTGGGCGGCTCTCGAGCGATAGCTCGTCGAATCCCTCGACCT\n",
      "str18: ATACCTTCCCAGGTAACAAACCAACCAACTTTCGATCTCTTGTAGATCTG\n",
      "str19: TCTCACAGTTCAAGAACCTCAAGTCTCCCCCATAGGCCTCTTTCAGTCAG\n",
      "str20: GATCTCTCTCACCGAACCTGGCCCCGGGCAAATGCCCTAATCCAGAGGTG\n",
      "str21: AGAGCAATCAGTGCATCAGAAATATACCTATTATACACTTTGCTAAGAAT\n",
      "str22: AATTAAAACATCTCAATACAACATAAGAAAAACAACGCAAAAACACTCAT\n",
      "str23: AAACGAACTTTAAAATCTGTGTGGCTGTCACTCGGCTGCATGCTTAGTGC\n",
      "str24: ATAACTAATTACTGTCGTTGACAGGACACGAGTAACTCGTCTATCTTCTG\n",
      "str25: ATGAGTGTCACGAATTCACGTACAATGAACTGGATGTTCACGTGGAATAA\n",
      "str26: ACCGTGGGCGAGCGGTGACCGGTGTCTTCCTAGTGGGTCCCACGTTGAAR\n",
      "str27: AAAGGTTTATACCTTCCCAGGTAACAAACCAACCAACTTTCGATCTCTTG\n",
      "str28: AGTAGTTCGCCTGTGTGAGCTGACAAACTTAGTAGTGTTTGTGAGGATTA\n",
      "str29: TTTATACCTTCCTAGGTAACAAACCAACCAACTTTCGATCTCTTGTAGAT\n",
      "str30: ATGCGGTCGTCTCTCCCCGGCTTTTTTTCCCCGCGCCGCGTTGGCGCCGA\n",
      "str31: GTGACAAAAACATAATGGACTCCAACACCATGTCAAGCTTTCAGGTAGAC\n",
      "str32: GTGTAAGAAACAGTAAGCCCGGAAGTGGTGTTTTGCGATTTCGAGGCCGG\n",
      "str33: GAGAATGAGTCTCATTACCGCCCGGTACTTAGCAAGCTAATAGTCACGGC\n",
      "str34: ATGTGGTCGATGCCATGGAGGCCCACCAGTTCATTAAGGCTCCTGGCATT\n",
      "str35: ACGAGCGTTTTAAGGGCCCGCGACTGCGACGGCCACATGGCCCTGTATGT\n",
      "str36: GGTTTATACCTTCCCAGGTAACAAACCAACCAACTTTCGATCTCTTGTAG\n",
      "str37: TGGGAAGTTCCAAAAGATCACAAAACACTACCAGTCAACCTGAAGTACAC\n",
      "str38: GAAGCGTTAACGTGTTGAGGAAAAGACAGCTTAGGAGAACAAGAGCTGGG\n",
      "str39: ACCAGCGCACTTCGGCAGCGGCAGCACCTCGGCAGCACCTCAGCAGCAAC\n",
      "str40: ATGGGACAACTTATTCCTATCATGTGCCAAGAGGTTTTACCCGGTGACCA\n",
      "str41: TTGTAGATCTGTTCTCTAAACGAACTTTAAAATCTGTGTGGTTGTCACTC\n",
      "str42: AACCAACCAACTTTCGATCTCTTGTAGATCTGTTCTCTAAACGAACTTTA\n",
      "str43: GGGTTCTGCCAGGCATAGTCTTTTTTTCTGGCGGCCCTTGTGTAAACCTG\n",
      "str44: GGCTGCATGCTTAGTGCACTCACGCAGTATAATTAATAACTAATTACTGT\n",
      "str45: TGCATGCTTAGTGCACTCACGCAGTATAATTAATAACTAATTACTGTCGT\n",
      "str46: TTCCACAACTTTCCACCAAGCTCTGCAAGATCCCAGAGTCAGGGGCCTGT\n",
      "str47: TCTAAACGAACTTTAAAATCTGTGTGGCTGTCACTCGGCTGCATGCTTAG\n",
      "str48: ACCGGATGGCCGCGATTTTTCGGAGTCCTTGGGGGACCACTCAGAATAGA\n",
      "str49: CTTGTAGATCTGTTCTCTAAACGAACTTTAAAATCTGTGTGGCTGTCACT\n",
      "str50: ATGAGCACTAAGCGAAGAACCAAAAAGCAGACAATACAACCCGCTATTAC\n",
      "\n",
      "--- Solution (of length 201) ---\n",
      "  Sol: ACGTACGTACGTACGTACGTACGTACGTACGTACGTACGTACGTACGTACGTACGTACGTACGTACGTACGTACGTACGTACGTACGTACGTACGTACGTACGTACGTACGTACGTACGTACGTACGTACGTACGTACGTACGTACGTACGTACGTACGTACGTACGTACGTACGTACGTACGTACGTACGTACGTACGRT\n",
      "str01: ---TA-GTA-GTA-G-AC-T-C---CG---G-A---A-GT--G-AC--A---A---AC---C---C-T--G-A---A---A---A-G-A---A--T--G---G-A--TA---A---A--TA--TA----------------------------------------------------------------------------\n",
      "str02: --G---G-A--TA---A---AC--AC-T-C---C---CG-A---A---A---A--TA---A--T---T---T--G-AC-T---TA---A---AC--A---ACG--CG-AC--A-GT---T-C--A---A-G----------------------------------------------------------------------\n",
      "str03: A--TAC---C-T---T-C---C-TA-G---GTA---AC--A---A---AC---C--A---AC---C--A---AC-T---T---T---T--G-A--T-C-T-C-T---T--GTA-G-A--T-C-T--G--------------------------------------------------------------------------\n",
      "str04: ---TA---A---A--T---TA--TA---A--T-C-T---TA--TAC-TA-GTA---A---A---A---A---A--TA-G---G---GT--GTA---AC---CG-A---A---A---ACG---GT-C---------------------------------------------------------------------------\n",
      "str05: ---T---TA---A---A---AC--A-G--C---C-T--GT--G---G---GT---T--G--C--AC---C---C--AC-T-C--AC--A-G---G---G--C---C---C--AC-T--G---G---G--CG--C--A---A-G----------------------------------------------------------\n",
      "str06: A--T--G-AC-T---T-C---C--A---A--T--G---G-A--T-C---C---C--A---AC---C-T-C--A---A-G--C-T---T-C---C--AC---C---C---C--A---A--T--G---GT---T---T-C--A-G--C-------------------------------------------------------\n",
      "str07: A---AC--A---A---AC---C--A---AC---C--A---AC-T---T---T---T--G-A--T-C-T-C-T---T--GTA-G-A--T-C-T--GT---T-C-T-C-TA---A---ACG-A---AC---------------------------------------------------------------------------\n",
      "str08: A--T--G-A---A---A---ACG-A---A---A---A--T---TA--T---TA--T-C--A---A-G---G---GTA--T--G---G-A---A-GT--G---G-A---A-G--C-T--G-ACG-A---A---A--T-----------------------------------------------------------------\n",
      "str09: AC-T-CG---G--C-T--G--C--A--T--G--C-T---TA-GT--G--C--AC-T-C--ACG--C--A-GTA--TA---A--T---TA---A--TA---AC-TA---A--T---TA------------------------------------------------------------------------------------\n",
      "str10: ---T---T--GTA-G-A--T-C-T--GT---T-C-T-C-TA---A---ACG-A---AC-T---T---TA--"
     ]
    },
    {
     "name": "stdout",
     "output_type": "stream",
     "text": [
      "-A---A---A--T-C-T--GT--GT--G---G--C-T--GT-C--AC-T-C-------------------------------------------------------------------------------\n",
      "str11: --G--C--A-G-A-G--C--A--T---T---T---T-C-TA---A--TA--T-C---C--AC--A---A---A---A--T--G-A---A-G---G--C--A---A--TA---A--T---T--GTAC-TAC-T-C-------------------------------------------------------------------\n",
      "str12: A--T--G-A-G--C---C--A---A-G-A--T-C---CG-ACG-A---A-G-A-G--C---C---C---C--A---A-G---G-A-G---G-A-G-A---A-G---G-A-G---G---G-AC---C---C---C---C---------------------------------------------------------------\n",
      "str13: ---T-C-T-C--AC--A-GT---T-C--A---A-G-A---AC---C---C--A---A---A-GTAC---C---C---C---C---C--A--TA-G--C---C---C-T-C-T---TA---A---A-G--C---C--AC---------------------------------------------------------------\n",
      "str14: A-G---GT---T---TA--TAC---C-T---T-C---C-TA-G---GTA---AC--A---A---AC---C--A---AC---C--A---AC-T---T---T-CG-A--T-C-T-C-T---T--GTA----------------------------------------------------------------------------\n",
      "str15: A-G---GT---T---TA--TAC---C-T---T-C---C---C--A-G---GTA---AC--A---A---AC---C--A---AC---C--A---AC-T---T---T-CG-A--T-C-T-C-T---T--GTA------------------------------------------------------------------------\n",
      "str16: ---TA---A---A---AC--A---AC-T-C--A---A--TAC--A---AC--A--TA---A-G-A---A---A---A--T-C--A---ACG--C--A---A---A---A---AC--AC-T-C--AC--A---A---A----------------------------------------------------------------\n",
      "str17: -C---CG--C---C---C--A--T---T---T--G---G---G--CG---G--C-T-C-T-CG-A-G--CG-A--TA-G--C-T-CGT-CG-A---A--T-C---C---C-T-CG-AC---C-T-----------------------------------------------------------------------------\n",
      "str18: A--TAC---C-T---T-C---C---C--A-G---GTA---AC--A---A---AC---C--A---AC---C--A---AC-T---T---T-CG-A--T-C-T-C-T---T--GTA-G-A--T-C-T--G--------------------------------------------------------------------------\n",
      "str19: ---T-C-T-C--AC--A-GT---T-C--A---A-G-A---AC---C-T-C--A---A-GT-C-T-C---C---C---C---C--A--TA-G---G--C---C-T-C-T---T---T-C--A-GT-C--A-G----------------------------------------------------------------------\n",
      "str20: --G-A--T-C-T-C-T-C-T-C--AC---CG-A---AC---C-T--G---G--C---C---C---CG---G---G--C--A---A---A--T--G--C---C---C-TA---A--T-C---C--A-G-A-G---GT--G--------------------------------------------------------------\n",
      "str21: A-G-A-G--C--A---A--T-C--A-GT--G--C--A--T-C--A-G-A---A---A--TA--TAC---C-TA--T---TA--TAC--AC-T---T---T--G--C-TA---A-G-A---A--T-----------------------------------------------------------------------------\n",
      "str22: A---A--T---TA---A---A---AC--A--T-C-T-C--A---A--TAC--A---AC--A--TA---A-G-A---A---A---A---AC--A---ACG--C--A---A---A---A---AC--AC-T-C--A--T-----------------------------------------------------------------\n",
      "str23: A---A---ACG-A---AC-T---T---TA---A---A---A--T-C-T--GT--GT--G---G--C-T--GT-C--AC-T-CG---G--C-T--G--C--A--T--G--C-T---TA-GT--G--C---------------------------------------------------------------------------\n",
      "str24: A--TA---AC-TA---A--T---TAC-T--GT-CGT---T--G-AC--A-G---G-AC--ACG-A-GTA---AC-T-CGT-C-TA--T-C-T---T-C-T--G--------------------------------------------------------------------------------------------------\n",
      "str25: A--T--G-A-GT--GT-C--ACG-A---A--T---T-C--ACGTAC--A---A--T--G-A---AC-T--G---G-A--T--GT---T-C--ACGT--G---G-A---A--TA---A------------------------------------------------------------------------------------\n",
      "str26: AC---CGT--G---G---G--CG-A-G--CG---GT--G-AC---CG---GT--GT-C-T---T-C---C-TA-GT--G---G---GT-C---C---C--ACGT---T--G-A---A----------------------------------------------------------------------------------R-\n",
      "str27: A---A---A-G---GT---T---TA--TAC---C-T---T-C---C---C--A-G---GTA---AC--A---A---AC---C--A---AC---C--A---AC-T---T---T-CG-A--T-C-T-C-T---T--G------------------------------------------------------------------\n",
      "str28: A-GTA-GT---T-CG--C---C-T--GT--GT--G-A-G--C-T--G-AC--A---A---AC-T---TA-GTA-GT--GT---T---T--GT--G-A-G---G-A--T---TA----------------------------------------------------------------------------------------\n",
      "str29: ---T---T---TA--TAC---C-T---T-C---C-TA-G---GTA---AC--A---A---AC---C--A---AC---C--A---AC-T---T---T-CG-A--T-C-T-C-T---T--GTA-G-A--T-------------------------------------------------------------------------\n",
      "str30: A--T--G--CG---GT-CGT-C-T-C-T-C---C---C---CG---G--C-T---T---T---T---T---T---T-C---C---C---CG--CG--C---CG--CGT---T--G---G--CG--C---CG-A--------------------------------------------------------------------\n",
      "str31: --GT--G-AC--A---A---A---A---AC--A--TA---A--T--G---G-AC-T-C---C--A---AC--AC---C--A--T--GT-C--A---A-G--C-T---T---T-C--A-G---GTA-G-AC-----------------------------------------------------------------------\n",
      "str32: --GT--GTA---A-G-A---A---AC--A-GTA---A-G--C---C---CG---G-A---A-GT--G---GT--GT---T---T---T--G--CG-A--T---T---T-CG-A-G---G--C---CG---G----------------------------------------------------------------------\n",
      "str33: --G-A-G-A---A--T--G-A-GT-C-T-C--A--T---TAC---CG--C---C---CG---GTAC-T---TA-G--C--A---A-G--C-TA---A--TA-GT-C--ACG---G--C-----------------------------------------------------------------------------------\n",
      "str34: A--T--GT--G---GT-CG-A--T--G--C---C--A--T--G---G-A-G---G--C---C---C--AC---C--A-GT---T-C--A--T---TA---A-G---G--C-T-C---C-T--G---G--C--A--T---T-------------------------------------------------------------\n",
      "str35: ACG-A-G--CGT---T---T---TA---A-G---G---G--C---C---CG--CG-AC-T--G--CG-ACG---G--C---C--AC--A--T--G---G--C---C---C-T--GTA--T--GT-----------------------------------------------------------------------------\n",
      "str36: --G---GT---T---TA--TAC---C-T---T-C---C---C--A-G---GTA---AC--A---A---AC---C--A---AC---C--A---AC-T---T---T-CG-A--T-C-T-C-T---T--GTA-G----------------------------------------------------------------------\n",
      "str37: ---T--G---G---G-A---A-GT---T-C---C--A---A---A---A-G-A--T-C--AC--A---A---A---AC--AC-TAC---C--A-GT-C--A---AC---C-T--G-A---A-GTAC--AC-----------------------------------------------------------------------\n",
      "str38: --G-A---A-G--CGT---TA---ACGT--GT---T--G-A-G---G-A---A---A---A-G-AC--A-G--C-T---TA-G---G-A-G-A---AC--A---A-G-A-G--C-T--G---G---G--------------------------------------------------------------------------\n",
      "str39: AC---C--A-G--CG--C--AC-T---T-CG---G--C--A-G--CG---G--C--A-G--C--AC---C-T-CG---G--C--A-G--C--AC---C-T-C--A-G--C--A-G--C--A---AC---------------------------------------------------------------------------\n",
      "str40: A--T--G---G---G-AC--A---AC-T---TA--T---T-C---C-TA--T-C--A--T--GT--G--C---C--A---A-"
     ]
    },
    {
     "name": "stdout",
     "output_type": "stream",
     "text": [
      "G-A-G---GT---T---T---TAC---C---CG---GT--G-AC---C--A--------------------------------------------------------------------\n",
      "str41: ---T---T--GTA-G-A--T-C-T--GT---T-C-T-C-TA---A---ACG-A---AC-T---T---TA---A---A---A--T-C-T--GT--GT--G---GT---T--GT-C--AC-T-C-------------------------------------------------------------------------------\n",
      "str42: A---AC---C--A---AC---C--A---AC-T---T---T-CG-A--T-C-T-C-T---T--GTA-G-A--T-C-T--GT---T-C-T-C-TA---A---ACG-A---AC-T---T---TA--------------------------------------------------------------------------------\n",
      "str43: --G---G---GT---T-C-T--G--C---C--A-G---G--C--A--TA-GT-C-T---T---T---T---T---T---T-C-T--G---G--CG---G--C---C---C-T---T--GT--GTA---A---AC---C-T--G----------------------------------------------------------\n",
      "str44: --G---G--C-T--G--C--A--T--G--C-T---TA-GT--G--C--AC-T-C--ACG--C--A-GTA--TA---A--T---TA---A--TA---AC-TA---A--T---TAC-T--GT---------------------------------------------------------------------------------\n",
      "str45: ---T--G--C--A--T--G--C-T---TA-GT--G--C--AC-T-C--ACG--C--A-GTA--TA---A--T---TA---A--TA---AC-TA---A--T---TAC-T--GT-CGT-------------------------------------------------------------------------------------\n",
      "str46: ---T---T-C---C--AC--A---AC-T---T---T-C---C--AC---C--A---A-G--C-T-C-T--G--C--A---A-G-A--T-C---C---C--A-G-A-GT-C--A-G---G---G---G--C---C-T--GT-------------------------------------------------------------\n",
      "str47: ---T-C-TA---A---ACG-A---AC-T---T---TA---A---A---A--T-C-T--GT--GT--G---G--C-T--GT-C--AC-T-CG---G--C-T--G--C--A--T--G--C-T---TA-G--------------------------------------------------------------------------\n",
      "str48: AC---CG---G-A--T--G---G--C---CG--CG-A--T---T---T---T---T-CG---G-A-GT-C---C-T---T--G---G---G---G---G-AC---C--AC-T-C--A-G-A---A--TA-G-A--------------------------------------------------------------------\n",
      "str49: -C-T---T--GTA-G-A--T-C-T--GT---T-C-T-C-TA---A---ACG-A---AC-T---T---TA---A---A---A--T-C-T--GT--GT--G---G--C-T--GT-C--AC-T---------------------------------------------------------------------------------\n",
      "str50: A--T--G-A-G--C--AC-TA---A-G--CG-A---A-G-A---AC---C--A---A---A---A---A-G--C--A-G-AC--A---A--TAC--A---AC---C---CG--C-TA--T---TAC---------------------------------------------------------------------------\n",
      "\n",
      "solution is feasible: True\n"
     ]
    }
   ],
   "source": [
    "_instance = util.parse(\"nucleotide_n050k050.txt\")\n",
    "util.show(_instance)\n",
    "_solution = solve(_instance)\n",
    "util.show(_instance, _solution)\n",
    "print(f\"solution is feasible: {util.is_feasible(_instance, _solution)}\")"
   ]
  },
  {
   "cell_type": "code",
   "execution_count": null,
   "id": "Hstk",
   "metadata": {},
   "outputs": [
    {
     "name": "stdout",
     "output_type": "stream",
     "text": [
      "--- Condition (with 19 chars) ---\n",
      "str01: MALSYCPKGT\n",
      "str02: MQSSLNAIPV\n",
      "str03: MPLSYQHFRK\n",
      "str04: MEEHVNELHD\n",
      "str05: MSNFDAIRAL\n",
      "str06: MFRNQNSRNG\n",
      "str07: MFYAHAFGGY\n",
      "str08: MSKFTRRPYQ\n",
      "str09: MSFVAGVTAQ\n",
      "str10: MESLVPGFNE\n",
      "\n",
      "--- Solution (of length 71) ---\n",
      "  Sol: MAEFPQSEFKLNRSYAFHLNSVADHLQTVYACGNPQRAEFGHIPRSVFGIKLPRTAGHNPRYDEGKLQTVY\n",
      "str01: MA--------L--SY----------------C--P---------------K-----G-----------T--\n",
      "str02: M----QS------S----LN--A-------------------IP--V------------------------\n",
      "str03: M---P-----L--SY-----------Q--------------H-----F-----R-----------K-----\n",
      "str04: M-E----E---------H---V-----------N----E------------L-----H----D--------\n",
      "str05: M-----S----N----F------D------A-----------I-R----------A----------L----\n",
      "str06: M--F--------R------N------Q------N-----------S-------R----N-----G------\n",
      "str07: M--F----------YA-H----A----------------FG-------G------------Y---------\n",
      "str08: M-----S--K------F----------T--------R-------R-------P--------Y-----Q---\n",
      "str09: M-----S-F------------VA---------G-------------V-------TA-----------Q---\n",
      "str10: M-E---S---L----------V------------P-----G------F----------N----E-------\n",
      "\n",
      "solution is feasible: True\n"
     ]
    }
   ],
   "source": [
    "_instance = util.parse(\"protein_n010k010.txt\")\n",
    "util.show(_instance)\n",
    "_solution = solve(_instance)\n",
    "util.show(_instance, _solution)\n",
    "print(f\"solution is feasible: {util.is_feasible(_instance, _solution)}\")"
   ]
  },
  {
   "cell_type": "code",
   "execution_count": null,
   "id": "nWHF",
   "metadata": {},
   "outputs": [
    {
     "name": "stdout",
     "output_type": "stream",
     "text": [
      "--- Condition (with 20 chars) ---\n",
      "str01: MRHLNIDIETYSSNDIKNGVYKYADAEDFEILLFAYSIDGGEVECLDLTR\n",
      "str02: MERRAHRTHQNWDATKPRERRKQTQHRLTHPDDSIYPRIEKAEGRKEDHG\n",
      "str03: MEPGAFSTALFDALCDDILHRRLESQLRFGGVQIPPEVSDPRVYAGYALL\n",
      "str04: MGKFYYSNRRLAVFAQAQSRHLGGSYEQWLACVSGDSAFRAEVKARVQKD\n",
      "str05: FFRENLAFQQGKAREFPSEEARANSPTSRELWVRRGGNPLSEAGAERRGT\n",
      "str06: MDPSLTQVWAVEGSVLSAAVDTAETNDTEPDEGLSAENEGETRIIRITGS\n",
      "str07: MAFDFSVTGNTKLDTSGFTQGVSSMTVAAGTLIADLVKTASSQLTNLAQS\n",
      "str08: MAVILPSTYTDGTAACTNGSPDVVGTGTMWVNTILPGDFFWTPSGESVRV\n",
      "str09: MNTGIIDLFDNHVDSIPTILPHQLATLDYLVRTIIDENRSVLLFHIMGSG\n",
      "str10: MFVFLVLLPLVSSQCVNLRTRTQLPPAYTNSFTRGVYYPDKVFRSSVLHS\n",
      "str11: MDSKETILIEIIPKIKSYLLDTNISPKSYNDFISRNKNIFVINLYNVSTI\n",
      "str12: MLLSGKKKMLLDNYETAAARGRGGDERRRGWAFDRPAIVTKRDKSDRMAH\n",
      "str13: MNGEEDDNEQAAAEQQTKKAKREKPKQARKVTSEAWEHFDATDDGAECKH\n",
      "str14: MESLVPGFNEKTHVQLSLPVLQVRDVLVRGFGDSVEEVLSEARQHLKDGT\n",
      "str15: MRYIVSPQLVLQVGKGQEVERALYLTPYDYIDEKSPIYYFLRSHLNIQRP\n",
      "str16: MPRVPVYDSPQVSPNTVPQARLATPSFATPTFRGADAPAFQDTANQQARQ\n",
      "str17: MFVFLVLLPLVSSQCVNLRTRTQLPLAYTNSFTRGVYYPDKVFRSSVLHS\n",
      "str18: MFVFFVLLPLVSSQCVNLTTRTQLPPAYTNSFTRGVYYPDKVFRSSVLHS\n",
      "str19: MEAIISFAGIGINYKKLQSKLQHDFGRVLKALTVTARALPGQPKHIAIRQ\n",
      "str20: MASSGPERAEHQIILPESHLSSPLVKHKLLYYWKLTGLPLPDECDFDHLI\n",
      "str21: MESLVPGFNEKTHVQLSLPVLQVRDVLVRGFGDSVEEVLSEVRQHLKDGT\n",
      "str22: MLAPSPNSKIQLFNNINIDINYEHTLYFASVSAQNSFFAQWVVYSADKAI\n",
      "str23: MSAITETKPTIELPALAEGFQRYNKTPGFTCVLDRYDHGVINDSKIVLYN\n",
      "str24: MKNIAEFKKAPELAEKLLEVFSNLKGNSRSLDPMRAGKHDVVVIESTKKL\n",
      "str25: MPQPLKQSLDQSKWLREAEKHLRALESLVDSNLEEEKLKPQLSMGEDVQS\n",
      "str26: MFVFLVLLPLVSSQCVNLITRTQSYTNSFTRGVYYPDKVFRSSVLHSTQD\n",
      "str27: MKFDVLSLFAPWAKVDEQEYDQQLNNNLESITAPKFDDGATEIESERGDI\n",
      "str28: MFVFLVLLPLVSSQCVNFTNRTQLPSAYTNSFTRGVYYPDKVFRSSVLHS\n",
      "str29: MWSIIVLKLISIQPLLLVTSLPLYNPNMDSCCLISRITPELAGKLTWIFI\n",
      "str30: MESLVPGFNEKTHVQLSLPVLQVRDVLVRGFGDSVEEFLSEARQHLKDGT\n",
      "str31: MFVFLVLLPLVSSQCVMPLFNLITTTQSYTNFTRGVYYPDKVFRSSVLHL\n",
      "str32: MHQITVVSGPTEVSTCFGSLHPFQSLKPVMANALGVLEGKMFCSIGGRSL\n",
      "str33: MATLLRSLALFKRNKDKPPITSGSGGAIRGIKHIIIVPIPGDSSITTRSR\n",
      "str34: MESLVPGFNEKTHVQLSLPVLQVRDVLVRGFGDSMEEVLSEARQHLKDGT\n",
      "str35: MFVFLVLLPLVSSQCVNLTTGTQLPPAYTNSFTRGVYYPDKVFRSSVLHS\n",
      "str36: MANIINLWNGIVPMVQDVNVASITAFKSMIDETWDKKIEANTCISRKHRN\n",
      "str37: MLNRIQTLMKTANNYETIEILRNYLRLYIILARNEEGRGILIYDDNIDSV\n",
      "str38: MADPAGTNGEEGTGCNGWFYVEAVVEKKTGDAISDDENENDSDTGEDLVD\n",
      "str39: MFVFLVLLPLVSSQCVNLRTRTQLPPSYTNSFTRGVYYPDKVFRSSVLHS\n",
      "str40: MESLVPGFNEKTHVQLSLPVLQVCDVLVRGFGDSVEEVLSEARQHLKDGT\n",
      "str41: MNNQRKKTARPSFNMLKRARNRVSTVSQLAKRFSKGLLSGQGPMKLVMAF\n",
      "str42: MSNFDAIRALVDTDAYKLGHIHMYPEGTEYVLSNFTDRGSRIEGVTHTVH\n",
      "str43: MIELRHEVQGDLVTINVVETPEDLDGFRDFIRAHLICLAVDTETTGLDIY\n",
      "str44: MFVFLVLLPLVSSQCVMPLFNLITTNQSYTNSFTRGVYYPDKVFRSSVLH\n",
      "str45: MSKDLVARQALMTARMKADFVFFLFVLWKALSLPVPTRCQIDMAKKLSAG\n",
      "str46: MASLLKSLTLFKRTRDQPPLASGSGGAIRGIKHVIIVLIPGDSSIVTRSR\n",
      "str47: MRVRGILRNWQQWWIWTSLGFWMFMICSVVGNLWVTVYYGVPVWKEAKTT\n",
      "str48: MAVEPFPRRPITRPHASIEVDTSGIGGSAGSSEKVFCLIGQAEGGEPNTV\n",
      "str49: MFYAHAFGGYDENLHAFPGISSTVANDVRKYSVVSVYNKKYNIVKNKYMW\n",
      "str50: MANYSKPFLLDIVFNKDIKCINDSCSHSDCRYQSNSYVELRRNQALNKNL\n",
      "\n",
      "--- Solution (of length 782) ---\n",
      "  Sol: FMADEFGHIKLNPRSWADEFGHKLNPQRSTVYADEFGIKLPQRSVYADEFGHILNPRSTVYADEFGHIKLNPQRSTVYADEFGIKLNPQRSTVYADFGIKLNQRSTVWAEFGHIKLMNPQRSTWYADEGIKLNPQRTVWYADEFGHIKLNPQSTVYADEGHIKLMQSTVWADFGHIKLNPQRSTVWADEFGIKLMNPQRSTVWYACDEHIKLMNQRSTVYACDEFGIKLMNPQRSTVWYADEFGKLMNPQSTVAEFGIKLNPQRSTVWYADEFGHIKLNPQRSTVACEFGHIKLNQRSTVYADFGHIKLNPQRSTVYADEFHKLNPQRSTVWYADEFGHILMNPQRSTVYACDEFGHIKLNQRSTVYACDFGIKLMNPQSTVYAEFGHIKLNPQRSTVYACDEFGHKLNPQRSTVYADFGIKLMPQRSTVWYADEFIKLMRTVWYACDEFGHIKLMNPSTVWYACDFGIKLNPRSTVWYACDEFGKLNRSTVWYADEFGHILPQRSTVWADEFGHIKLMNPQRSTVWYADEFGIKLMNPRSTVYADEFGIKLNPRSTVWYACDEFGIKLPRSTVYADEFHIKLNPRTVYACDEFGHIKLPRSTVYADEFGIKLNPQRSTVADEGIKLMNPQRSTVWYADEFGIKLNPQRSTVACDEFGILMNPQRSTVYACDEFGHIKLMQRSTVWYACDEGHIKLNRSTVYADEFGHIKLNQRSTVADEGHIKLMNPQRSTVWYACDGHIKLMNQRSTVYADFGHIKLMNQRSTVYDFGHILNPQRSTVWY\n",
      "str01: -M-----------R-------H-LN------------I---------D----I----------E-----------T-Y------------S-------------S------------N--------D--IK-N-----------G---------VY------K----------------------------------------YA-D-------------A--E----------------D-F-----------E--I-L-----------------L----------F------------A--------------Y-----------S----------I------------D--G---------------G------------E------------V----E-------------------------------------------C-------L----------D----L----T------------R-----------------------------------------------------------------------------------------------------------------------------------------------------------------------------------------------------------------------------------------------------------------------------------------------------\n",
      "str02: -M--E--------R-------------R----A--"
     ]
    },
    {
     "name": "stdout",
     "output_type": "stream",
     "text": [
      "----------------H----R-T-------H-----Q-------------N--------------------W------------------D-------------A------------T--------K----------------P-R------E---------R----------------R-----------K----Q--T-------------Q------------------------H------R-----------L----T------H----P-------D---------------D-----------S----------I--------Y----------P----------------R-------------------------I-------------E--K-------A--E-G----------------------R-----------K----------E-------------D---H-----------------G---------------------------------------------------------------------------------------------------------------------------------------------------------------------------------------------------------------------------------------------------------\n",
      "str03: -M--E-------P-------G-----------A--F-------S--------------T--A-------L-----------F-------------D------------A------L-----------------------------------------------------------------------------------------CD---------------D---I-L---------------------------------------------H------R--------------R-----------L----------E--------S---------------Q--------------L--R-------FG--------------G----------V------------Q---------I---P--------------------------------P------------------------E--------V-------------S----D---------P-R--V-YA---G----------YA------L----------------L---------------------------------------------------------------------------------------------------------------------------------------------------------------------------------------------------------------------\n",
      "str04: -M----G--K---------F-----------Y-------------Y-----------S------------N--R---------------R----------L-------A----------------------------V-----F------------A--------Q----A---------Q-S---------------R---------H--L-------------G-----------------G------S-----------------Y--E--------Q--------------------------------------------------W--------L---------AC-------------V-------------S------G--------------D----------S---A-F-------R-----A-E-------V----------K---------A---------R--V--------------------------Q------------K------------D------------------------------------------------------------------------------------------------------------------------------------------------------------------------------------------------------------------------------------------------------------\n",
      "str05: F----F-------R----E-----N--------------L------A--F----------------------Q---------------Q--------G-K--------A-----------R------E---------------F------P-S-----E-----------------------------E---------------A----------R----A---------N---S-------------P--T------------S----------------R-----E-----L-------------------------------------W----------------V-------------R-------------------------------R---------G--------------G------------------------------------NP------------L---S-------E-----------A---G----------A-E----------R----------------R--------G-------T---------------------------------------------------------------------------------------------------------------------------------------------------------------------------------------------------------------------------------\n",
      "str06: -M-D--------P-S--------L-----T-----------Q--V--------------------------------------------------------------WA----------------------------V----E-G-------S-V--------L--S---A---------------A--------------V----D----------T--A--E-----------T-----------N----------------------D------------T---E----------------------P-------DE-----------------G--L-----S---A--E------N-----------------------E-G---------------E----------T------------R---------I---------------I--------------------R--------------------------I-----T------G---------S------------------------------------------------------------------------------------------------------------------------------------------------------------------------------------------------------------------------------------------------------------------\n",
      "str07: -MA--F-----------D-F--------S-V---------------------------T------G----N----T--------KL---------D---------T---------------S------G--------------F---------T-----------Q-------G----------V--------------S----------------S------------M-----TV--A-------------A--G--------T-----------L-------------I---------AD-----L------V------K------T---A------------S----------------S--------------Q-----------L-----T-----------N-------------L---------A----------------------------------------------------------------------Q-S------------------------------------------------------------------------------------------------------------------------------------------------------------------------------------------------------------------------------------------------------------------------------------\n",
      "str08: -MA---------------------------V------I-LP--S--------------T-Y--------------T---D--G--------T--A-------------A------------------------------------------------------------------------------------------------C-----------T------------N------------G------S----------P--------D-------------V--------------V----G---------T----------------------G---------T---------------------------M--------"
     ]
    },
    {
     "name": "stdout",
     "output_type": "stream",
     "text": [
      "----------------------------------------------W-----------V-------------N--T--------I-L-P-----------G----------D-F--------------F-------------W--------------T-----------P-S---------G-----------E-----------------------S-V------------R--V------------------------------------------------------------------------------------------------------------------------------------------------------------------\n",
      "str09: -M---------N-----------------T------GI--------------I---------D------L-----------F-------------D-----N----------H------------------------V---D----------S--------I-----------------P---T-------I-L--P-----------H-----Q-------------L----------A-----------T-------L----------D-----------------------------Y-------L------V-----------R-T---------I-----------------I-----------D--------------E------N--RS-V---------L--------------L------------F---------------HI--M-----------G------S---------G---------------------------------------------------------------------------------------------------------------------------------------------------------------------------------------------------------------------------------------------------------------------------------------------------------\n",
      "str10: -M---F------------------------V----F---L----V--------L---------------L-P-------------L------V-----------S----------------S------------Q----------------------------------------------------------------------C------------V-----------N--------------L-----------------R-T---------------R-T-----------Q------------L-P--------------P-------A---------------Y--------------T-----------N--S-----F----------T--------------R-------G---------V-Y------------Y------------P-------D---K------V------F----RS---------------S-V---------L-------------------------------------------------------------H---------------------S------------------------------------------------------------------------------------------------------------------------------------------------------------------------------------\n",
      "str11: -M-D----------S-------K-----------E-----------------------T--------I-L-------------I-------------------------E---I---------------I---P-------------K-------------IK---S------------------------------------Y-------L----------------L-----------D----------T--------N--------------I------S---------------------------P-----------K-----S---Y---------N---------D-F--I-----S------------------------------R-------------N------------K----------------------------------N-----------I--------------F-------V--------I------------------N---------------L-------Y--------N----V-------------ST-------I---------------------------------------------------------------------------------------------------------------------------------------------------------------------------------------------------------\n",
      "str12: -M--------L------------L----S-------G-K-----------------------------K---------------K-------------------------------M--------------L----------------L--------D--------------------N------------------------Y---E---------T--A------------------A-------------A---------R---------G-------R-------G---"
     ]
    },
    {
     "name": "stdout",
     "output_type": "stream",
     "text": [
      "-----------G-------------DE-------R-----------------R----------------R--------G----------------------------------------------------------W-A--F-----------D-------------------------R----------------------------P------A-----I---------V---------------T--------K---R-------D----K---S----D--------R-----------------------------------------M---------A-------------------------------------H----------------------------------------------------------------------------------------------------------\n",
      "str13: -M---------N--------G-------------E-------------E-------------D----------------D------N----------------------E---------Q-----A--------------A---------------A-E------Q--------------Q--T--------K-----------------K---------A------K-----R-------E--K---P---------K---Q------A-----------R----------K------V--------------T-------------S------E--------------A-------------------------------------------------------------------------------W---E----------------H--------------F--------------D------------A-----------T---D------------------D--G-----------A-E--------------C-----K-----------H----------------------------------------------------------------------------------------------------------------------------------------------------------------------------------------------------------\n",
      "str14: -M--E---------S--------L------V---------P---------G-------------F-----N---------E---K------T--------------------H------------------------V-------------Q-----------L--S----------L-P----V--------L---Q---V-------------R------D-------------V--------L------V----------R---------G--------------FG------------D----------S-V---E---------------E------------V----------L---S--------------------E--------------A-----------R-------------Q-------------------------H--L--------------K-----------D--G-----T---------------------------------------------------------------------------------------------------------------------------------------------------------------------------------------------------------------------------------------------------------------------------------------------------\n",
      "str15: -M-----------R-----------------Y-----I------V------------S-------------PQ------------L------V-------L-Q---V----G--K-------------G-----Q-------E-----------V---E----------------------R----A------L---------Y-------L-----T-------------P------Y-D---------------------------Y------I--------------------------D----------------E--K-----S--------------P-------------I--------Y---------------Y--F----L---RS---------H-LN-----------I----QR------------------------------P------------------------------------------------------------------------------------------------------------------------------------------------------------------------------------------------------------------------------------------------------------------------------------------------------------------------------------\n",
      "str16: -M----------PR----------------V---------P---VY-D---------S-------------PQ---V-------------S---------------------------P-------------N---TV------------PQ----A------------------------R-"
     ]
    },
    {
     "name": "stdout",
     "output_type": "stream",
     "text": [
      "----------L----------A------------T-------------P--S-------F----------A-----------T-------------P---T----F-------R-------G------------AD--------------A---------P------A---F------Q-------D----------T--A-------N-Q----------------Q-----A---------R----------------------------------------------------------------------------Q--------------------------------------------------------------------------------------------------------------------------------------------------------------------------------------------------------------------------------------------------------------------------------------\n",
      "str17: -M---F------------------------V----F---L----V--------L---------------L-P-------------L------V-----------S----------------S------------Q----------------------------------------------------------------------C------------V-----------N--------------L-----------------R-T---------------R-T-----------Q------------L-P------------L---------A---------------Y--------------T-----------N--S-----F----------T--------------R-------G---------V-Y------------Y------------P-------D---K------V------F----RS---------------S-V---------L-------------------------------------------------------------H---------------------S------------------------------------------------------------------------------------------------------------------------------------------------------------------------------------\n",
      "str18: -M---F------------------------V----F-------------F---------V---------L---------------L-P------------L-----V--------------S------------------------------S------------Q---------------------------------------C------------V-----------N--------------L-----T-------------T---------------R-T-----------Q------------L-P--------------P-------A---------------Y--------------T-----------N--S-----F----------T--------------R-------G---------V-Y------------Y------------P-------D---K------V------F----RS---------------S-V---------L-------------------------------------------------------------H---------------------S------------------------------------------------------------------------------------------------------------------------------------------------------------------------------------\n",
      "str19: -M--E-----------A--------------------I--------------I----S------F-------------A---GI-------------GI--N----------------------Y-----K----------------KL--QS---------KL-Q--------H------------D-FG-------R--V---------L---------------K-----------A-----L-----TV------------T---A-----------R---A-------L----------------P--------------------------G------Q--------------------------------P-----------K---------------H--------------I-----------A---I---R--------------------------------------------------------------Q--------------------------------------------------------------------------------------------------------------------------------------------------------------------------------------------------------------------------------------------------------------------------------------\n",
      "str20: -MA-----------S-------------S-------G---P-------E-------R----A-E--H-----Q----------I--------------I-L---"
     ]
    },
    {
     "name": "stdout",
     "output_type": "stream",
     "text": [
      "--------------P--------E------------------------S-------H--L--S---------------S-------------P--------------L------V--------K----------------------------------------------H-KL---------------L------Y---------------Y--------------W--------------------------KL----T------G--L--P------------L-P--------DE-------------------------------------------CD-F---------------D---------------------------------H-L-------------I--------------------------------------------------------------------------------------------------------------------------------------------------------------------------------------------------------------------------------------------------------------------------\n",
      "str21: -M--E---------S--------L------V---------P---------G-------------F-----N---------E---K------T--------------------H------------------------V-------------Q-----------L--S----------L-P----V--------L---Q---V-------------R------D-------------V--------L------V----------R---------G--------------FG------------D----------S-V---E---------------E------------V----------L---S--------------------E------------V-------------R-------------Q-------------------------H--L--------------K-----------D--G-----T---------------------------------------------------------------------------------------------------------------------------------------------------------------------------------------------------------------------------------------------------------------------------------------------------\n",
      "str22: -M--------L-----A--------P--S-----------P-------------N--S----------K--------------I----Q-----------L---------F------N--------------N-------------I--N-----------I---------D---I--N------------------------Y---EH--------T----------L---------Y---F----------A----------S-V---------------S--A---------Q-------------N---S------F---------------F-------------A----------Q--------------------------------------------------------------------W-----------V-----------------V-Y-----------S----A-D---K--------A-----I-----------------------------------------------------------------------------------------------------------------------------------------------------------------------------------------------------------------------------------------------------------------------------------------\n",
      "str23: -M------------S-A--------------------I--------------------T----E-----------T--------K--P---T------I----------E-----L--P------A-----L--------A-E-G---------------------------F-------QR---------------------Y---------N-------------K-------T------------P-------G---------------F----------T--C------------V--------L---------D--------R----Y-D---H----------------G---------V------I---N------------------------D----------S--------K--------------I-----V-----------L-------Y--------N----------------------------------------------------------------------------------------------------------------------------------------------------------------------------------------------------------------------------------------------------------------------------------------------------------------------\n",
      "str24: -M-------K-N-------------------------I--------A-EF------------------K---------------K---------A-----------------------P--------E---L--------A-E----KL--------------L------------------------E------------V----------------------F---------S------------N-----------L----------------K------------G----N--S--------------RS---------L----------D--------P-------------------------------M------------------R----A----G-K--------------------------------------------H-------------D----------V--------------V---------------V-------I--------------E---------ST--------K----------------KL---------------------------------------------------------------------------------------------------------------------------------------------------------------------------------------------------------------------\n",
      "str25: -M----------P-------------Q-------------P------------L--------------K---Q-S----------L---------D------Q-S---------K--------W-------L---R------E-------------A-E---K-----------H--L---R----A------L-------------E--------S-----------L-------V---D---------S---------N----------------L---------E-------------------------------E---------------E----------------------KL-------------K---PQ-----------L----S---------------------------M--------------------------G-------------------------------E------------D-----------V-------------Q-S------------------------------------------------------------------------------------------------------------------------------------------------------------------------------------------------------------------------------------------------------------------\n",
      "str26: -M---F------------------------V----F---L----V--------L---------------L-P-------------L------V-----------S----------------S------------Q----------------------------------------------------------------------C------------V-----------N--------------L-----------I-------T---------------R-T-----------Q-S--Y-------------T---------N---S-------F----------T--------------R--------G---------VY---------------Y----------P-------D---K------"
     ]
    },
    {
     "name": "stdout",
     "output_type": "stream",
     "text": [
      "-V-----F----R-----------------S---------------S-V---------L------------H-----ST--------------Q-------D------------------------------------------------------------------------------------------------------------------------------------------------------------------------------------------------------------------------------------------------------------\n",
      "str27: -M-------K---------F-------------D----------V--------L---S-----------L-----------F------------A-----------------------P----W-A----K------V---DE--------Q------E--------------------------------------------Y--D-------Q-----------------Q------------L-N------------N-----------------N--------------L-------------------------E--------S----------I-------T--A--------------------------P-----------K-------------F-------------D---------------D----------------G------------A-----------T------E-----------------I----------E-----------S------E--------R--------G-------------D---I-----------------------------------------------------------------------------------------------------------------------------------------------------------------------------------------------------------------------\n",
      "str28: -M---F------------------------V----F---L----V--------L---------------L-P-------------L------V-----------S----------------S------------Q----------------------------------------------------------------------C------------V-----------N-----------F--------T--------N--R-T--------------Q------------L----------------P--S---A--------------Y--------------T------------N--S------F---------T-------------R---------G---------VY---------------Y-------------------------P-------D---K------V------F----RS---------------S-V---------L-------------------------------------------------------------H---------------------S------------------------------------------------------------------------------------------------------------------------------------------------------------------------------------\n",
      "str29: -M-------------W------------S--------I--------------I------V---------L--------------KL------------I-----S--------I-----Q-------------P--------------L--------------L-------------L------V---------------T---------------S-----------L--P-------------L----------------------Y---------NP--------------N----------------------------------------------M----------D----------S----C-------------------------------C------L------------I------S------------R-----------I------T------------P---------E---L-------A---G-----------------KL------T-W------I-------------F-I----------------------------------------------------------------------------------------------------------------------------------------------------------------------------------------------------------------------------------------\n",
      "str30: -M--E---------S--------L------V---------P---------G-------------F-----N---------E---K------T--------------------H------------------------V-------------Q-----------L--S----------L-P----V--------L---Q---V-------------R------D-------------V--------L------V----------R---------G--------------FG------------D----------S-V-"
     ]
    },
    {
     "name": "stdout",
     "output_type": "stream",
     "text": [
      "--E---------------EF---L-----S------E-------------A--------------------------R---------------Q----------------------------------------H--L--------------K-----------D--G-----T---------------------------------------------------------------------------------------------------------------------------------------------------------------------------------------------------------------------------------------------------------------------------------------------------\n",
      "str31: -M---F------------------------V----F---L----V--------L---------------L-P-------------L------V-----------S----------------S------------Q----------------------------------------------------------------------C------------V----------M-P-------------L---------F----N----------------L-------------I------T---------------T--------------T--------------Q-S--Y--------------T-----------N--------F----------T--------------R-------G---------V-Y------------Y------------P-------D---K------V------F----RS---------------S-V---------L-------------------------------------------------------------H--L-------------------------------------------------------------------------------------------------------------------------------------------------------------------------------------------------------\n",
      "str32: -M-----H------------------Q----------I--------------------TV----------------V-------------S------G--------------------P---T----E---------V--------------ST---------------------------------------------------C------------------FG--------S----------L----------------------------H----P--------F------Q-S----------L-------------K--P----V----------M--------A---------N------A------L-----------G----------V---------L--------------------------E---------------G--K-M----------F-------------C--------S----------I------------G------------------G------RS----------L--------------------------------------------------------------------------------------------------------------------------------------------------------------------------------------------------------------------------------------\n",
      "str33: -MA--------------------------T---------L-------------L--RS-----------L--------A------L----------F--K---R-------------N------------K----------D-----K--P----------------------------P-----------I--------T---------------S--------G--------S--------G------------G------------A-----I-----R-------G-IK------------HI--------------------------------I-----------------I-------V-----------P----------I---P-----------G------------D---------S------------------------------S---------I------T--------------T-------------RS----------------R-------------------------------------------------------------------------------------------------------------------------------------------------------------------------------------------------------------------------------------------------------------------\n",
      "str34: -M--E---------S--------L------V---------P---------G-------------F-----N---------E---K------T--------------------H------------------------V-------------Q-----------L--S----------L-P----V--------L---Q---V-------------R------D-------"
     ]
    },
    {
     "name": "stdout",
     "output_type": "stream",
     "text": [
      "------V--------L------V----------R---------G--------------FG------------D----------S---------------------------M-----------E------------------------------E------------V---------L----S---------------------E----------A---------------------------R-----------------------------Q----------H--L----------------K----------D--G-------T---------------------------------------------------------------------------------------------------------------------------------------------------------------------------------------------------------------------------------\n",
      "str35: -M---F------------------------V----F---L----V--------L---------------L-P-------------L------V-----------S----------------S------------Q----------------------------------------------------------------------C------------V-----------N--------------L-----T-------------T-------G---------T-----------Q------------L-P--------------P-------A---------------Y--------------T-----------N--S-----F----------T--------------R-------G---------V-Y------------Y------------P-------D---K------V------F----RS---------------S-V---------L-------------------------------------------------------------H---------------------S------------------------------------------------------------------------------------------------------------------------------------------------------------------------------------\n",
      "str36: -MA--------N-------------------------I--------------I-N--------------L-------------------------------------W---------N----------GI-------V------------P-------------M---V-----------Q------D-------------V-----------N----V-A-------------S----------------------I-------T---A--F---K-----S----------------------------------------------------------M---------------I-----------D--------------E-----------T---------------------------------W--D---K---------------K--------------I-------------E-----------A------------------------N----T------------------------------------C----I----S-------------R-----------K-----------------------------------------------------------------------------H-----R--------------N-------------------------------------------------------------------------------------\n",
      "str37: -M--------LN-R-----------------------I---Q----------------T----------L----------------------------------------------M-------------K-----T---A--------N----------------------------N------------------------Y---E---------T--------I--------------E---------------I-L---R--------------N---------------------Y-------L---R----------L--------Y------I-----------------I-L-------A--------------------------R-------------N-------------------------E-------------E-G----------------------R----------G---------------IL-------------I-----------Y-D---------------D------N-------------I---------D------------------------S-V----------------------------------------------------------------------------------------------------------------------------------------------------------------------------------\n",
      "str38: -MAD--------P---A---G--------T------------------------N----------G--------------E----------------------------E-G----------T-----G----------------------------------------------------------------------------C-------N-----------G-----------W----F-------------------------Y---------------V--E-------------A-------------V--------------V----E----------------------K--------------K------T-----G--------------D--------------A---I------S-----D-------------DE-------N-------------------------E----N-------D---------S----D-------------T-------G-------------E---------------D-----L----V--D-------------------------------------------------------------------------------------------------------------------------------------------------------------------------------------------------------------\n",
      "str39: -M---F------------------------V----F---L----V--------L---------------L-P-------------L------V-----------S----------------S------------Q----------------------------------------------------------------------C------------V-----------N--------------L-----------------R-T---------------R-T-----------Q------------L-P--------------P--S---Y------"
     ]
    },
    {
     "name": "stdout",
     "output_type": "stream",
     "text": [
      "--------T------------N--S------F---------T-------------R---------G---------VY---------------Y-------------------------P-------D---K------V------F----RS---------------S-V---------L-------------------------------------------------------------H---------------------S------------------------------------------------------------------------------------------------------------------------------------------------------------------------------------\n",
      "str40: -M--E---------S--------L------V---------P---------G-------------F-----N---------E---K------T--------------------H------------------------V-------------Q-----------L--S----------L-P----V--------L---Q---V---CD-----------V---------L-------V--------------------------R---------G--------------FG------------D----------S-V---E---------------E------------V----------L---S--------------------E--------------A-----------R-------------Q-------------------------H--L--------------K-----------D--G-----T---------------------------------------------------------------------------------------------------------------------------------------------------------------------------------------------------------------------------------------------------------------------------------------------------\n",
      "str41: -M---------N------------N-QR----------K-----------------------------K------T--A----------R----------------------------P--S---------------------F-----N--------------M------------L--------------K-----R-----A----------R--------------N--R--V-------------STV-----------S---------------Q------------L-------A-----K----R-------F-------S-----------------------------K------------G--L---------------L----S--------G-----Q--------G----P--------------M-------------KL-----V---------------------------------------------------------M---------A--F----------------------------------------------------------------------------------------------------------------------------------------------------------------------------------------------------------------------------------------------------------\n",
      "str42: -M------------S---------N----------F-----------D-------------A-----I-----R----A------L------V--D---------T--------------------D-------------A--------------Y------KL---------GHI--------------------------------H---M------Y-----------P---------E-G-------T--E-------------Y---------------V--------L---S-----------N----------F--------T----D----------R---------G-------S------------------------------R-------------------------I-------------E---------------G---------V--------------T-----------------------H------TV------H---------------------------------------------------------------------------------------------------------------------------------------------------------------------------------------------------------------------------------------------------------------------------\n",
      "str43: -M------I---------E----L---R-----------------------H-----------E------------V-----------Q--------G----------------------------D----L-----V---------------T-------I----------------N-----V----------------V-----E---------T-------------P---------E-------------"
     ]
    },
    {
     "name": "stdout",
     "output_type": "stream",
     "text": [
      "---------------D------L------------------------D-G---------------F------R------D-F--I-----R----A-----H--L------------I---------------------------C------L--------A------------V---D-------T------E----------T---------------T--------G-L--------D----I--------------------------Y--------------------------------------------------------------------------------------------------------------------------------------------------------------------------------------------------------------------------------------------------------------\n",
      "str44: -M---F------------------------V----F---L----V--------L---------------L-P-------------L------V-----------S----------------S------------Q----------------------------------------------------------------------C------------V----------M-P-------------L---------F----N----------------L-------------I------T---------------T---------N-Q-S---Y--------------T------------N--S------F---------T-------------R---------G---------VY---------------Y-------------------------P-------D---K------V------F----RS---------------S-V---------L-------------------------------------------------------------H----------------------------------------------------------------------------------------------------------------------------------------------------------------------------------------------------------\n",
      "str45: -M------------S-------K----------D-----L----V-A---------R---------------Q-----A------L------------------------------M-----T--A---------R----------------------------M-----------K---------AD-F-----------V----------------------F-----------------F--L---------F----------V----------L-----------------------------------------------------W--------------------------K--------A------L----S----------L-P----V-----------P---T------------R-------------------C--------------------------------------------------------Q-----------I-------------D------M-------A-----K----------------KL--S---A------------------G-------------------------------------------------------------------------------------------------------------------------------------------------------------------------------------------\n",
      "str46: -MA-----------S--------L---------------L----------------------------K-----S----------L-----T--------L---------F---K-----R-T------------R-----D---------Q---------------------------P----------------P--------------L--------A-------------S--------G------S-----G----------------G-----------A-----I----R-------G-IK-------------H--------V--------I-----------------I-------V--------L-------------I---P-----------G------------D---------S------------------------------S---------I-------V-------------T-------------RS----------------R-------------------------------------------------------------------------------------------------------------------------------------------------------------------------------------------------------------------------------------------------------------------\n",
      "str47: -M-----------R----------------V-----------R-------G-IL--R-------------N------------------------------------W-----------Q--------------Q---W------------------------------W-----I---------W--------------T---------------S-----------L--------------G-----------F-----------W-------------------------------------------------------------------------M------------F--------------------M------------I-----------C-----------S-V--------------V--------------------G-----N-------------L------W-------------V--------------TV-------------------Y---------------Y----G--------V-----------P---V-------------------------------------------------------------W-------K-----------E-------------A-------K-----T---------------T----------------------------------------------------------------------------------\n",
      "str48: -MA---------------------------V---E-----P--------F-----PR----------------R-------------P----------I------T--------------R------------P-----------H----------A---------S--------I------------E------------V----D----------T----------------S--------G-------------I---------------G---------------G-------S---A--G--------S--------------S------E--------------"
     ]
    },
    {
     "name": "stdout",
     "output_type": "stream",
     "text": [
      "--------K------V----F-----------------------------C------L------------I-----------------------------G----------------------------------------------------Q-----A-E-G------------------G-------------E------P-----------------------------N--TV--------------------------------------------------------------------------------------------------------------------------------------------------------------------------------------------------\n",
      "str49: -M---F-------------------------YA------------------H---------A--FG----------------G----------Y-D-------------E-------N-------------L-------------H----------A---------------F------P----------GI-------S----------------STV-A---------N---------D-----------V----------R------------K-----------------------Y------------S-V--------------V---------------S-VY----------N------------K---------------K--------Y---------N-----------I--------V-------K------------------N------------K--------Y---------------------------------------M-------W---------------------------------------------------------------------------------------------------------------------------------------------------------------------------------------------------------------------------------------------------------------\n",
      "str50: -MA--------N-------------------Y-----------S------------------------K--P---------F---L--------------L-------------------------D--I-------V-----F-----N------------K--------D---IK----------------------------C---I---N--------D-----------S---------------------------------------------------C----------S-------H-------S----D--------------------------------C----------R---Y-----------QS-----------N---S--Y---------------V-------------------E---L-R--------------------------------R-------------N---------------Q-----A-------L-N--------------K--N-------------L--------------------------------------------------------------------------------------------------------------------------------------------------------------------------------------------------------------------------------------\n",
      "\n",
      "solution is feasible: True\n"
     ]
    }
   ],
   "source": [
    "_instance = util.parse(\"protein_n050k050.txt\")\n",
    "util.show(_instance)\n",
    "_solution = solve(_instance)\n",
    "util.show(_instance, _solution)\n",
    "print(f\"solution is feasible: {util.is_feasible(_instance, _solution)}\")"
   ]
  }
 ],
 "metadata": {},
 "nbformat": 4,
 "nbformat_minor": 5
}
