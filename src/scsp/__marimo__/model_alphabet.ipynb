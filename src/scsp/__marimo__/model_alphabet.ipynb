{
 "cells": [
  {
   "cell_type": "code",
   "execution_count": null,
   "id": "Hbol",
   "metadata": {},
   "outputs": [],
   "source": [
    "import marimo as mo\n",
    "import nbformat\n",
    "import util"
   ]
  },
  {
   "cell_type": "markdown",
   "id": "MJUe",
   "metadata": {
    "marimo": {
     "config": {
      "hide_code": true
     }
    }
   },
   "source": [
    "# アルファベットアルゴリズム"
   ]
  },
  {
   "cell_type": "markdown",
   "id": "vblA",
   "metadata": {
    "marimo": {
     "config": {
      "hide_code": true
     }
    }
   },
   "source": [
    "- 計算量: $O(qk)$\n",
    "- 近侍制度: $q$"
   ]
  },
  {
   "cell_type": "markdown",
   "id": "bkHC",
   "metadata": {
    "marimo": {
     "config": {
      "hide_code": true
     }
    }
   },
   "source": [
    "文字種全体を $\\Sigma = \\{ c_1, \\dots, c_q \\}$ とする.\n",
    "与えられた文字列の中で最大の長さ $k$ に対して下記は与えられた文字列全ての supersequence になる:\n",
    "\n",
    "$$\n",
    "(c_1 c_2 \\dots c_q)^k\n",
    "$$\n",
    "\n",
    "これを解とすることで長さ $qk$ の common supersequence を出力する.\n",
    "この長さは文字列の数に直接は依存しない.\n",
    "\n",
    "各文字列 $s_i$ の $j$ 番目の文字は上記 $(c_1 c_2 \\dots c_q)^k$ の中の $j$ 番目のブロックに必ず含まれているが,\n",
    "$j$ 番目のブロックの中にはどの文字列でも使用しない文字があるかもしれない.\n",
    "そのような文字は捨てることで解を少し改善する.\n",
    "これによって解が少し改善するが, 文字列の数が増えると削れる文字が少なくなり, 長さ $qk$ に近づく."
   ]
  },
  {
   "cell_type": "code",
   "execution_count": null,
   "id": "lEQa",
   "metadata": {
    "marimo": {
     "name": "*solve"
    }
   },
   "outputs": [],
   "source": [
    "def solve(instance: list[str]) -> str:\n",
    "    chars = sorted(list(set(\"\".join(instance))))\n",
    "    solution = \"\"\n",
    "\n",
    "    for i in range(max([len(s) for s in instance])):\n",
    "        used = [False for _ in chars]\n",
    "        for s in instance:\n",
    "            if i >= len(s):\n",
    "                continue\n",
    "            used[chars.index(s[i])] = True\n",
    "\n",
    "        for c, u in zip(chars, used):\n",
    "            if u:\n",
    "                solution += c\n",
    "\n",
    "    return solution"
   ]
  },
  {
   "cell_type": "code",
   "execution_count": null,
   "id": "PKri",
   "metadata": {},
   "outputs": [
    {
     "name": "stdout",
     "output_type": "stream",
     "text": [
      "--- Condition (with 25 chars) ---\n",
      "str1: tkgnkuhmpxnhtqgxzvxis\n",
      "str2: iojiqfolnbxxcvsuqpvissbxf\n",
      "str3: ulcinycosovozpplp\n",
      "str4: igevazgbrddbcsvrvnngf\n",
      "\n",
      "--- Solution (of length 79) ---\n",
      " Sol: itugklocegjinvaknqfuyzcghoblmonprsbdoxdnvxbhoxctzpqsvgpsvlruxpqvznpvnvxgifssbxf\n",
      "str1: -t--k----g--n--k---u----h---m--p-----x-n---h---t--q--g------x---z--v--x-i-s----\n",
      "str2: i-----o---ji-----qf------o-l--n---b--x---x----c-----v--s---u--q---pv----i-ssbxf\n",
      "str3: --u--l-c---in-------y-c--o-------s--o---v---o---zp----p--l---p-----------------\n",
      "str4: i--g----e----va------z-g--b-----r--d--d---b---c----sv-----r----v-n--n--g-f-----\n",
      "\n",
      "solution is feasible: True\n"
     ]
    }
   ],
   "source": [
    "_instance = util.parse(\"uniform_q26n004k015-025.txt\")\n",
    "util.show(_instance)\n",
    "_solution = solve(_instance)\n",
    "util.show(_instance, _solution)\n",
    "print(f\"solution is feasible: {util.is_feasible(_instance, _solution)}\")"
   ]
  },
  {
   "cell_type": "code",
   "execution_count": null,
   "id": "Xref",
   "metadata": {},
   "outputs": [
    {
     "name": "stdout",
     "output_type": "stream",
     "text": [
      "--- Condition (with 26 chars) ---\n",
      "str1: tkgnkuhmpxnhtqgxzvxis\n",
      "str2: iojiqfolnbxxcvsuqpvissbxf\n",
      "str3: ulcinycosovozpplp\n",
      "str4: igevazgbrddbcsvrvnngf\n",
      "str5: pyplrzxucpmqvgtdfuivcdsbo\n",
      "str6: pbdevdcvdpfzsmsbroqvbbh\n",
      "str7: enbczfjtvxerzbrvigple\n",
      "str8: rxwxqkrdrlctodtmprpxwd\n",
      "\n",
      "--- Solution (of length 155) ---\n",
      " Sol: eiprtubgklnoxybcdegjpwceilnvxaknqrvzdfkuyzcghjorxbdlmotuvcdnprsvbdlopxcdefmnvxbhoqrtxzcostvzbdgmpqsvgprstvbdlmruvxfipqrvzgnopruvinpqvxgilvxbcefswbdsbhsbxfo\n",
      "str1: ----t---k---------g-------n---k--------u----h-------m-------p--------x-----n---h---t-------------q--g------------x------z------v-----x-i-------s-----------\n",
      "str2: -i---------o-------j----i-------q----f--------o----l-------n----b----x-------x--------c---v-------s------------u-----q------p--vi--------------s---sb---xf-\n",
      "str3: -----u---l-----c--------i-n-------------y-c---o---------------s----o--------v---o----z----------p----p------l-------p--------------------------------------\n",
      "str4: -i-----g---------e---------v-a-----z-------g-----b-----------r---d-----d------b-------c-s-v-----------r--v----------------n------n----g-------f------------\n",
      "str5: --p----------y------p----l-------r-z------------x------u-c--p-------------m------q--------v---g---------t--d------f-----------u-i---v-------c-----dsb-----o\n",
      "str6: --p---b---------de---------v--------d-----c-------------v-d-p------------f-----------z--s------m--s-------b---r------------o-------qv------b-----b---h-----\n",
      "str7: e---------n---bc--"
     ]
    },
    {
     "name": "stdout",
     "output_type": "stream",
     "text": [
      "-----------------z-f-------j--------t-v------------x--e---------r--z------b---------r--v---------i-----g--p-----------l----e-------------\n",
      "str8: ---r--------x--------w------x---q-----k--------r--d----------r----l---c------------t---o-----d----------t----m------p-r-----p--------x----------w-d--------\n",
      "\n",
      "solution is feasible: True\n"
     ]
    }
   ],
   "source": [
    "_instance = util.parse(\"uniform_q26n008k015-025.txt\")\n",
    "util.show(_instance)\n",
    "_solution = solve(_instance)\n",
    "util.show(_instance, _solution)\n",
    "print(f\"solution is feasible: {util.is_feasible(_instance, _solution)}\")"
   ]
  },
  {
   "cell_type": "code",
   "execution_count": null,
   "id": "SFPL",
   "metadata": {},
   "outputs": [
    {
     "name": "stdout",
     "output_type": "stream",
     "text": [
      "--- Condition (with 26 chars) ---\n",
      "str01: tkgnkuhmpxnhtqgxzvxis\n",
      "str02: iojiqfolnbxxcvsuqpvissbxf\n",
      "str03: ulcinycosovozpplp\n",
      "str04: igevazgbrddbcsvrvnngf\n",
      "str05: pyplrzxucpmqvgtdfuivcdsbo\n",
      "str06: pbdevdcvdpfzsmsbroqvbbh\n",
      "str07: enbczfjtvxerzbrvigple\n",
      "str08: rxwxqkrdrlctodtmprpxwd\n",
      "str09: kkqafigqjwokkskrblg\n",
      "str10: lxxpabivbvzkozzvd\n",
      "str11: krifsavncdqwhzc\n",
      "str12: qaxudgqvqcewbfgijowwy\n",
      "str13: rsxqjnfpadiusiqbezhkohmg\n",
      "str14: iwshvhcomiuvddm\n",
      "str15: htxxqjzqbctbakn\n",
      "str16: xusfcfzpeecvwantfmgqzu\n",
      "\n",
      "--- Solution (of length 256) ---\n",
      "  Sol: ehiklpqrtuxabgklnorstuwxybcdegijpqswxacefhilnpquvxacdfjknqrsvzabdfghijknuyzcfghijoqrvxzbdlmnopqtuvabcdejmnpqrsvbcdeilopvwxcdefimnoqtuvxzbhkoqrtuvwxzabcdhkostvwzabdfgikmpqsvzcgkmnpqrstvzbdilmrtuvxbdefijpqrvzglmnopruvzghinpqvwxgiklqvwxbcefoswyzbdhsubhmsbgxfo\n",
      "str01: --------t-----k--------------g--------------n----------k----------------u-----h-----------m--p---------------------------x------n--------h----t--------------------------q----g-------------------x----------z--------v---------x-i-----------s-----------------\n",
      "str02: --i--------------o-------------j----------i---q------f---------------------------o-------l-n-------b---------------------x------------x---------------c------v------------s---------------------u---------q--------p--v---i-------------------s------s-b-----xf-\n",
      "str03: ---------u-----l----------c---i-------------n----------------------------y-c-----o---------------------------s-------o-v---------o-----z--------------------------------p---------p---------l------------p------------------------------------------------------\n",
      "str04: --i----------g--------------e-------------------v-a----------z----g--------------------b--------------------r----d---------d------------b-------------c----s-v----------------------r--v-------------------------n---------n-----g----------f-------------------\n",
      "str05: -----p------------------y-------p----------l--------------r--z-----------------------x----------u---c-----p--------------------m--q--v------------------------------g-----------------t---d-----------f--------------u----i---v-----------c--------d-s-b-------o\n",
      "str06: -----p------b--------------de-------------------v---d----------------------c--------v---d----p-------------------------------f---------z-------------------s-----------m--s--------------b----r-------------------o----------qv----------b--------b-h-----------\n",
      "str07: e---------------n--------bc----------------------------------z---f---j-------------------------t-v-----------------------x--e----------------r-----z-b------------------------------r--v---i------------------g----p----------------l------e--------------------\n",
      "str08: -------r--x-----------wx---------q---------------------k--r-----d------------------r-----l----------c-------------------------"
     ]
    },
    {
     "name": "stdout",
     "output_type": "stream",
     "text": [
      "-----t-------o-----------d----t----------mp-----------r--------------------p----------------------x------w-----------d------------\n",
      "str09: ---k----------k------------------q---a--f-i-----------------------g---------------q--------------------j----------------w--------o--------k--------------k-s----------k-------------r----b--l-----------------g-------------------------------------------------\n",
      "str10: ----l-----x------------x--------p----a-------------------------b----i---------------v--b---------v-------------------------------------z--ko-------z-----------z-----------v--------------d---------------------------------------------------------------------\n",
      "str11: ---k---r----------------------i---------f------------------s--a---------------------v------n--------cd-----q------------w----------------h---------z--c---------------------------------------------------------------------------------------------------------\n",
      "str12: ------q----a-----------x-----------------------u----d-------------g---------------q-v---------q-----c-e-----------------w---------------b--------------------------fgi----------------------------------j---------o------------w-------w--------y---------------\n",
      "str13: -------r-----------s---x---------q--------------------j-n--------f---------------------------p----a--d-------------i----------------u----------------------s---------i---q---------------b-----------e-------z-----------h---------k---------o------h----m--g---\n",
      "str14: --i-------------------w-----------s------h------v------------------h-------c-----o--------m------------------------i----------------uv-----------------d----------d----m----------------------------------------------------------------------------------------\n",
      "str15: -h------t-x------------x---------q--------------------j------z--------------------q----b------------c------------------------------t----b-----------a----k-----------------------n------------------------------------------------------------------------------\n",
      "str16: ----------x----------u------------s-----f----------c-f-------z-------------------------------p--------e-----------e-------c----------v-----------w--a----------------------------n----t---------------f---------m-------g----q-------------------z----u---------\n",
      "\n",
      "solution is feasible: True\n"
     ]
    }
   ],
   "source": [
    "_instance = util.parse(\"uniform_q26n016k015-025.txt\")\n",
    "util.show(_instance)\n",
    "_solution = solve(_instance)\n",
    "util.show(_instance, _solution)\n",
    "print(f\"solution is feasible: {util.is_feasible(_instance, _solution)}\")"
   ]
  },
  {
   "cell_type": "code",
   "execution_count": null,
   "id": "BYtC",
   "metadata": {},
   "outputs": [
    {
     "name": "stdout",
     "output_type": "stream",
     "text": [
      "--- Condition (with 5 chars) ---\n",
      "str01: dcbccdbcce\n",
      "str02: bddbeeeebd\n",
      "str03: cacdeecebe\n",
      "str04: aeddddebdd\n",
      "str05: acbeecabce\n",
      "str06: bbabebdcba\n",
      "str07: bbaeaebada\n",
      "str08: eeeecbdbee\n",
      "str09: ccdeedadcd\n",
      "str10: bdabdbeaad\n",
      "\n",
      "--- Solution (of length 45) ---\n",
      "  Sol: abcdeabcdeabcdebcdeacdebcdeabcdeabcdeabcdeade\n",
      "str01: ---d---c---bc---cd-----bc----c-e-------------\n",
      "str02: -b-d----d--b--e---e---e---e-b-d--------------\n",
      "str03: --c--a-cde----e-c-e----b--e------------------\n",
      "str04: a---e---d----d---d---deb-d----d--------------\n",
      "str05: a-c---b--e----e-c--a---bc-e------------------\n",
      "str06: -b----b---ab--eb-d--c--b---a-----------------\n",
      "str07: -b----b---a---e----a--eb---a--d-a------------\n",
      "str08: ----e----e----e---e-c--b-d--b--e----e--------\n",
      "str09: --c----cde----e--d-a-d--cd-------------------\n",
      "str10: -b-d-ab-d--b--e----a-------a--d--------------\n",
      "\n",
      "solution is feasible: True\n"
     ]
    }
   ],
   "source": [
    "_instance = util.parse(\"uniform_q05n010k010-010.txt\")\n",
    "util.show(_instance)\n",
    "_solution = solve(_instance)\n",
    "util.show(_instance, _solution)\n",
    "print(f\"solution is feasible: {util.is_feasible(_instance, _solution)}\")"
   ]
  },
  {
   "cell_type": "code",
   "execution_count": null,
   "id": "RGSE",
   "metadata": {},
   "outputs": [
    {
     "name": "stdout",
     "output_type": "stream",
     "text": [
      "--- Condition (with 5 chars) ---\n",
      "str01: dcbccdbcce\n",
      "str02: bddbeeeebd\n",
      "str03: cacdeecebe\n",
      "str04: aeddddebdd\n",
      "str05: acbeecabce\n",
      "str06: bbabebdcba\n",
      "str07: bbaeaebada\n",
      "str08: eeeecbdbee\n",
      "str09: ccdeedadcd\n",
      "str10: bdabdbeaad\n",
      "str11: ededaaaeaa\n",
      "str12: aaeaabeeac\n",
      "str13: eaabcaccdb\n",
      "str14: bdeeadeade\n",
      "str15: caedadeeed\n",
      "str16: ebcadbabbe\n",
      "str17: ddceeabdea\n",
      "str18: dabcddeaec\n",
      "str19: aadceedaab\n",
      "str20: aeecceeeaa\n",
      "str21: bbdaecaade\n",
      "str22: dacedaedab\n",
      "str23: aaeabbbbce\n",
      "str24: dedbcbcaab\n",
      "str25: dbdaaebbcb\n",
      "str26: debedbebac\n",
      "str27: ceebcdcbde\n",
      "str28: dbedaadaab\n",
      "str29: cccdcbebdc\n",
      "str30: aeeacdbcbd\n",
      "str31: dacbeacccd\n",
      "str32: ecebccdbdb\n",
      "str33: ddbbcedabb\n",
      "str34: aaeabaaeba\n",
      "str35: ecbbcaadcd\n",
      "str36: debccecdbc\n",
      "str37: daacbaeebc\n",
      "str38: adabeaacce\n",
      "str39: daecdbacaa\n",
      "str40: dacbbdcedc\n",
      "str41: dedbeebbde\n",
      "str42: cdadcdcdaa\n",
      "str43: ceedcbaeed\n",
      "str44: ceaecaaaca\n",
      "str45: dcccebbbad\n",
      "str46: baeeaebbde\n",
      "str47: dbdebaccdb\n",
      "str48: ebcbeedaea\n",
      "str49: aeeebbdbca\n",
      "str50: dbdabcecbb\n",
      "\n",
      "--- Solution (of length 50) ---\n",
      "  Sol: abcdeabcdeabcdeabcdeabcdeabcdeabcdeabcdeabcdeabcde\n",
      "str01: ---d---c---bc----cd--bc----c-e--------------------\n",
      "str02: -b-d----d--b--e----e----e----e-b-d----------------\n",
      "str03: --c--a-cde----e--c-e-b--e-------------------------\n",
      "str04: a---e---d----d----d----de-b-d----d----------------\n",
      "str05: a-c---b--e----e--c--abc-e-------------------------\n",
      "str06: -b----b---ab--e-b-d---c---b---a-------------------\n",
      "str07: -b----b---a---ea---e-b---a--d-a-------------------\n",
      "str08: ----e----e----e----e--c---b-d--b--e----e----------\n",
      "str09: --c----cde----e---d-a--d---cd---------------------\n",
      "str10: -b-d-ab-d--b--ea----a--d--------------------------\n",
      "str11: ----e---de---d-a----a----a---ea----a--------------\n",
      "str12: a----a---ea----ab--e----ea-c----------------------\n",
      "str13: ----ea----abc--a-c----cd--b-----------------------\n",
      "str14: -b-de----ea--dea--de------------------------------\n",
      "str15: --c--a---e---d-a--de----e----e---d----------------\n",
      "str16: ----e-bc--a--d--b---ab----b--e--------------------\n",
      "str17: ---d----d---c-e----eab-dea------------------------\n",
      "str18: ---d-abcd----dea---e--c---------------------------\n",
      "str19: a----a--d---c-e----e---d-a----ab------------------\n",
      "str20: a---e----e--c----c-e----e----ea----a--------------\n",
      "str21: -b----b-d-a---e--c--a----a--de--------------------\n",
      "str22: ---d-a-c-e---d-a---e---d-ab-----------------------\n",
      "str23: a----a---eab----b----b----bc-e--------------------\n",
      "str24: ---de---d--bc---bc--a----ab-----------------------\n",
      "str25: ---d--b-d-a----a---e-b----bc---b------------------\n",
      "str26: ---de-b--e---d--b--e-b---a-c----------------------\n",
      "str27: --c-e----e-bcd---c---b-de-------------------------\n",
      "str28: ---d--b--e---d-a----a--d-a----ab------------------\n",
      "str29: --c----c----cd---c---b--e-b-d---c-----------------\n",
      "str30: a---e----ea-cd--bc---b-d--------------------------\n",
      "str31: ---d-a-c---b--ea-c----c----cd---------------------\n",
      "str32: ----e--c-e-bc----cd--b-d--b-----------------------\n",
      "str33: ---d----d--b----bc-e---d-ab----b------------------\n",
      "str34: a----a---eab---a----a---e-b---a-------------------\n",
      "str35: ----e--c---b----bc--a----a--d---cd----------------\n",
      "str36: ---de-bc----c-e--cd--bc---------------------------\n",
      "str37: ---d-a----a-c---b---a---e----e-bc-----------------\n",
      "str38: a--d-ab--ea----a-c----c-e-------------------------\n",
      "str39: ---d-a---e--cd--b---a-c--a----a-------------------\n",
      "str40: ---d-a-c---b----b-d---c-e---d---c-----------------\n",
      "str41: ---de---d--b--e----e-b----b-de--------------------\n",
      "str42: --cd-a--d---cd---cd-a----a------------------------\n",
      "str43: --c-e----e---d---c---b---a---e----e---d-----------\n",
      "str44: --c-ea---e--c--a----a----a-c--a-------------------\n",
      "str45: ---d---c----c----c-e-b----b----b---a--d-----------\n",
      "str46: -b---a---e----ea---e-b----b-de--------------------\n",
      "str47: ---d--b-de-b---a-c----cd--b-----------------------\n",
      "str48: ----e-bc---b--e----e---d-a---ea-------------------\n",
      "str49: a---e----e----e-b----b-d--bc--a-------------------\n",
      "str50: ---d--b-d-abc-e--c---b----b-----------------------\n",
      "\n",
      "solution is feasible: True\n"
     ]
    }
   ],
   "source": [
    "_instance = util.parse(\"uniform_q05n050k010-010.txt\")\n",
    "util.show(_instance)\n",
    "_solution = solve(_instance)\n",
    "util.show(_instance, _solution)\n",
    "print(f\"solution is feasible: {util.is_feasible(_instance, _solution)}\")"
   ]
  }
 ],
 "metadata": {},
 "nbformat": 4,
 "nbformat_minor": 5
}
