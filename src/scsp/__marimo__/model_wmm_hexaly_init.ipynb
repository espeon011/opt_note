{
 "cells": [
  {
   "cell_type": "code",
   "execution_count": null,
   "id": "setup",
   "metadata": {
    "marimo": {
     "name": "setup"
    }
   },
   "outputs": [],
   "source": [
    "import model_wmm_hexaly\n",
    "import util"
   ]
  },
  {
   "cell_type": "code",
   "execution_count": null,
   "id": "Hbol",
   "metadata": {},
   "outputs": [],
   "source": [
    "import marimo as mo\n",
    "import nbformat"
   ]
  },
  {
   "cell_type": "markdown",
   "id": "MJUe",
   "metadata": {
    "marimo": {
     "config": {
      "hide_code": true
     }
    }
   },
   "source": [
    "# Hexaly を用いたヒューリスティックに初期重みを追加"
   ]
  },
  {
   "cell_type": "markdown",
   "id": "vblA",
   "metadata": {
    "marimo": {
     "config": {
      "hide_code": true
     }
    }
   },
   "source": [
    "`WMM_HEXALY` モデルにおいて重み決定変数の初期値を `WMM` と等しくなるように設定する.\n",
    "\n",
    "巨大なインスタンスにおいて常に `WMM` 以上の質の解が出る反面, 小さ目のインスタンスでは `WMM_HEXALY` と比較して悪化することがある."
   ]
  },
  {
   "cell_type": "code",
   "execution_count": null,
   "id": "bkHC",
   "metadata": {
    "marimo": {
     "name": "*solve"
    }
   },
   "outputs": [],
   "source": [
    "def solve(\n",
    "    instance: list[str], time_limit: int | None = 60, log: bool = False\n",
    ") -> str:\n",
    "    return (\n",
    "        model_wmm_hexaly.Model(instance, initial=True)\n",
    "        .solve(time_limit, log)\n",
    "        .to_solution()\n",
    "    )"
   ]
  },
  {
   "cell_type": "code",
   "execution_count": null,
   "id": "lEQa",
   "metadata": {},
   "outputs": [
    {
     "name": "stdout",
     "output_type": "stream",
     "text": [
      "\n",
      "Model:  expressions = 88, decisions = 84, constraints = 0, objectives = 1\n",
      "Param:  time limit = 60 sec, no iteration limit\n",
      "\n",
      "[objective direction ]:     minimize\n",
      "\n",
      "[  0 sec,       0 itr]:           75\n",
      "[ optimality gap     ]:      100.00%\n"
     ]
    },
    {
     "name": "stdout",
     "output_type": "stream",
     "text": [
      "[  1 sec,     458 itr]:           67\n"
     ]
    },
    {
     "name": "stdout",
     "output_type": "stream",
     "text": [
      "[  2 sec,     909 itr]:           65\n"
     ]
    },
    {
     "name": "stdout",
     "output_type": "stream",
     "text": [
      "[  3 sec,    1343 itr]:           65\n"
     ]
    },
    {
     "name": "stdout",
     "output_type": "stream",
     "text": [
      "[  4 sec,    1839 itr]:           65\n"
     ]
    },
    {
     "name": "stdout",
     "output_type": "stream",
     "text": [
      "[  5 sec,    2374 itr]:           65\n"
     ]
    },
    {
     "name": "stdout",
     "output_type": "stream",
     "text": [
      "[  6 sec,    3127 itr]:           65\n"
     ]
    },
    {
     "name": "stdout",
     "output_type": "stream",
     "text": [
      "[  7 sec,    3837 itr]:           65\n"
     ]
    },
    {
     "name": "stdout",
     "output_type": "stream",
     "text": [
      "[  8 sec,    4581 itr]:           64\n"
     ]
    },
    {
     "name": "stdout",
     "output_type": "stream",
     "text": [
      "[  9 sec,    5327 itr]:           64\n"
     ]
    },
    {
     "name": "stdout",
     "output_type": "stream",
     "text": [
      "[ 10 sec,    6029 itr]:           64\n",
      "[ optimality gap     ]:      100.00%\n"
     ]
    },
    {
     "name": "stdout",
     "output_type": "stream",
     "text": [
      "[ 11 sec,    6790 itr]:           64\n"
     ]
    },
    {
     "name": "stdout",
     "output_type": "stream",
     "text": [
      "[ 12 sec,    7490 itr]:           64\n"
     ]
    },
    {
     "name": "stdout",
     "output_type": "stream",
     "text": [
      "[ 13 sec,    8198 itr]:           64\n"
     ]
    },
    {
     "name": "stdout",
     "output_type": "stream",
     "text": [
      "[ 14 sec,    8921 itr]:           64\n"
     ]
    },
    {
     "name": "stdout",
     "output_type": "stream",
     "text": [
      "[ 15 sec,    9649 itr]:           64\n"
     ]
    },
    {
     "name": "stdout",
     "output_type": "stream",
     "text": [
      "[ 16 sec,   10421 itr]:           64\n"
     ]
    },
    {
     "name": "stdout",
     "output_type": "stream",
     "text": [
      "[ 17 sec,   11180 itr]:           64\n"
     ]
    },
    {
     "name": "stdout",
     "output_type": "stream",
     "text": [
      "[ 18 sec,   11916 itr]:           64\n"
     ]
    },
    {
     "name": "stdout",
     "output_type": "stream",
     "text": [
      "[ 19 sec,   12675 itr]:           64\n"
     ]
    },
    {
     "name": "stdout",
     "output_type": "stream",
     "text": [
      "[ 20 sec,   13401 itr]:           64\n",
      "[ optimality gap     ]:      100.00%\n"
     ]
    },
    {
     "name": "stdout",
     "output_type": "stream",
     "text": [
      "[ 21 sec,   14143 itr]:           64\n"
     ]
    },
    {
     "name": "stdout",
     "output_type": "stream",
     "text": [
      "[ 22 sec,   14892 itr]:           64\n"
     ]
    },
    {
     "name": "stdout",
     "output_type": "stream",
     "text": [
      "[ 23 sec,   15660 itr]:           64\n"
     ]
    },
    {
     "name": "stdout",
     "output_type": "stream",
     "text": [
      "[ 24 sec,   16411 itr]:           64\n"
     ]
    },
    {
     "name": "stdout",
     "output_type": "stream",
     "text": [
      "[ 25 sec,   17082 itr]:           64\n"
     ]
    },
    {
     "name": "stdout",
     "output_type": "stream",
     "text": [
      "[ 26 sec,   17821 itr]:           64\n"
     ]
    },
    {
     "name": "stdout",
     "output_type": "stream",
     "text": [
      "[ 27 sec,   18542 itr]:           64\n"
     ]
    },
    {
     "name": "stdout",
     "output_type": "stream",
     "text": [
      "[ 28 sec,   19303 itr]:           64\n"
     ]
    },
    {
     "name": "stdout",
     "output_type": "stream",
     "text": [
      "[ 29 sec,   20010 itr]:           64\n"
     ]
    },
    {
     "name": "stdout",
     "output_type": "stream",
     "text": [
      "[ 30 sec,   20734 itr]:           64\n",
      "[ optimality gap     ]:      100.00%\n"
     ]
    },
    {
     "name": "stdout",
     "output_type": "stream",
     "text": [
      "[ 31 sec,   21450 itr]:           64\n"
     ]
    },
    {
     "name": "stdout",
     "output_type": "stream",
     "text": [
      "[ 32 sec,   22148 itr]:           64\n"
     ]
    },
    {
     "name": "stdout",
     "output_type": "stream",
     "text": [
      "[ 33 sec,   22883 itr]:           64\n"
     ]
    },
    {
     "name": "stdout",
     "output_type": "stream",
     "text": [
      "[ 34 sec,   23634 itr]:           64\n"
     ]
    },
    {
     "name": "stdout",
     "output_type": "stream",
     "text": [
      "[ 35 sec,   24386 itr]:           64\n"
     ]
    },
    {
     "name": "stdout",
     "output_type": "stream",
     "text": [
      "[ 36 sec,   25125 itr]:           64\n"
     ]
    },
    {
     "name": "stdout",
     "output_type": "stream",
     "text": [
      "[ 37 sec,   25885 itr]:           64\n"
     ]
    },
    {
     "name": "stdout",
     "output_type": "stream",
     "text": [
      "[ 38 sec,   26617 itr]:           64\n"
     ]
    },
    {
     "name": "stdout",
     "output_type": "stream",
     "text": [
      "[ 39 sec,   27370 itr]:           64\n"
     ]
    },
    {
     "name": "stdout",
     "output_type": "stream",
     "text": [
      "[ 40 sec,   28163 itr]:           64\n",
      "[ optimality gap     ]:      100.00%\n"
     ]
    },
    {
     "name": "stdout",
     "output_type": "stream",
     "text": [
      "[ 41 sec,   28886 itr]:           64\n"
     ]
    },
    {
     "name": "stdout",
     "output_type": "stream",
     "text": [
      "[ 42 sec,   29647 itr]:           64\n"
     ]
    },
    {
     "name": "stdout",
     "output_type": "stream",
     "text": [
      "[ 43 sec,   30405 itr]:           64\n"
     ]
    },
    {
     "name": "stdout",
     "output_type": "stream",
     "text": [
      "[ 44 sec,   31144 itr]:           64\n"
     ]
    },
    {
     "name": "stdout",
     "output_type": "stream",
     "text": [
      "[ 45 sec,   31929 itr]:           64\n"
     ]
    },
    {
     "name": "stdout",
     "output_type": "stream",
     "text": [
      "[ 46 sec,   32725 itr]:           64\n"
     ]
    },
    {
     "name": "stdout",
     "output_type": "stream",
     "text": [
      "[ 47 sec,   33492 itr]:           64\n"
     ]
    },
    {
     "name": "stdout",
     "output_type": "stream",
     "text": [
      "[ 48 sec,   34294 itr]:           64\n"
     ]
    },
    {
     "name": "stdout",
     "output_type": "stream",
     "text": [
      "[ 49 sec,   35074 itr]:           64\n"
     ]
    },
    {
     "name": "stdout",
     "output_type": "stream",
     "text": [
      "[ 50 sec,   35805 itr]:           64\n",
      "[ optimality gap     ]:      100.00%\n"
     ]
    },
    {
     "name": "stdout",
     "output_type": "stream",
     "text": [
      "[ 51 sec,   36536 itr]:           64\n"
     ]
    },
    {
     "name": "stdout",
     "output_type": "stream",
     "text": [
      "[ 52 sec,   37289 itr]:           64\n"
     ]
    },
    {
     "name": "stdout",
     "output_type": "stream",
     "text": [
      "[ 53 sec,   38045 itr]:           64\n"
     ]
    },
    {
     "name": "stdout",
     "output_type": "stream",
     "text": [
      "[ 54 sec,   38790 itr]:           64\n"
     ]
    },
    {
     "name": "stdout",
     "output_type": "stream",
     "text": [
      "[ 55 sec,   39530 itr]:           64\n"
     ]
    },
    {
     "name": "stdout",
     "output_type": "stream",
     "text": [
      "[ 56 sec,   40270 itr]:           64\n"
     ]
    },
    {
     "name": "stdout",
     "output_type": "stream",
     "text": [
      "[ 57 sec,   41026 itr]:           64\n"
     ]
    },
    {
     "name": "stdout",
     "output_type": "stream",
     "text": [
      "[ 58 sec,   41796 itr]:           64\n"
     ]
    },
    {
     "name": "stdout",
     "output_type": "stream",
     "text": [
      "[ 59 sec,   42592 itr]:           64\n"
     ]
    },
    {
     "name": "stdout",
     "output_type": "stream",
     "text": [
      "[ 60 sec,   43381 itr]:           64\n",
      "[ optimality gap     ]:      100.00%\n",
      "[ 60 sec,   43381 itr]:           64\n",
      "[ optimality gap     ]:      100.00%\n",
      "\n",
      "43381 iterations performed in 60 seconds\n",
      "\n",
      "Feasible solution: \n",
      "  obj    =           64\n",
      "  gap    =      100.00%\n",
      "  bounds =            0\n"
     ]
    }
   ],
   "source": [
    "instance_01 = util.parse(\"uniform_q26n004k015-025.txt\")\n",
    "solution_01 = solve(instance_01, log=True)"
   ]
  },
  {
   "cell_type": "code",
   "execution_count": null,
   "id": "PKri",
   "metadata": {},
   "outputs": [
    {
     "name": "stdout",
     "output_type": "stream",
     "text": [
      "--- Condition (with 25 chars) ---\n",
      "str1: tkgnkuhmpxnhtqgxzvxis\n",
      "str2: iojiqfolnbxxcvsuqpvissbxf\n",
      "str3: ulcinycosovozpplp\n",
      "str4: igevazgbrddbcsvrvnngf\n",
      "\n",
      "--- Solution (of length 64) ---\n",
      " Sol: iojtkgnkulcihmpxenyhtqvazgxbrddbcosovrfozpplvnnbxxcvsuqpvissbgxf\n",
      "str1: ---tkgnku---hmpx-n-htq---gx-------------z---v---x--------is-----\n",
      "str2: ioj--------i---------q----------------fo---l-n-bxxcvsuqpvissb-xf\n",
      "str3: --------ulci-----ny-------------cosov--ozppl-----------p--------\n",
      "str4: i----g----------e-----vazg-brddbc-s-vr------vnn--------------g-f\n",
      "\n",
      "solution is feasible: True\n"
     ]
    }
   ],
   "source": [
    "_instance = instance_01\n",
    "_solution = solution_01\n",
    "\n",
    "util.show(_instance)\n",
    "if _solution is not None:\n",
    "    util.show(_instance, _solution)\n",
    "    print(f\"solution is feasible: {util.is_feasible(_instance, _solution)}\")\n",
    "else:\n",
    "    print(\"--- Solution not found ---\")"
   ]
  },
  {
   "cell_type": "code",
   "execution_count": null,
   "id": "Xref",
   "metadata": {},
   "outputs": [
    {
     "name": "stdout",
     "output_type": "stream",
     "text": [
      "\n",
      "Model:  expressions = 179, decisions = 175, constraints = 0, objectives = 1\n",
      "Param:  time limit = 60 sec, no iteration limit\n",
      "\n",
      "[objective direction ]:     minimize\n",
      "\n",
      "[  0 sec,       0 itr]:          128\n",
      "[ optimality gap     ]:      100.00%\n"
     ]
    },
    {
     "name": "stdout",
     "output_type": "stream",
     "text": [
      "[  1 sec,       6 itr]:          124\n"
     ]
    },
    {
     "name": "stdout",
     "output_type": "stream",
     "text": [
      "[  2 sec,     238 itr]:          115\n"
     ]
    },
    {
     "name": "stdout",
     "output_type": "stream",
     "text": [
      "[  3 sec,     529 itr]:          113\n"
     ]
    },
    {
     "name": "stdout",
     "output_type": "stream",
     "text": [
      "[  4 sec,     804 itr]:          109\n"
     ]
    },
    {
     "name": "stdout",
     "output_type": "stream",
     "text": [
      "[  5 sec,    1101 itr]:          108\n"
     ]
    },
    {
     "name": "stdout",
     "output_type": "stream",
     "text": [
      "[  6 sec,    1377 itr]:          106\n"
     ]
    },
    {
     "name": "stdout",
     "output_type": "stream",
     "text": [
      "[  7 sec,    1680 itr]:          106\n"
     ]
    },
    {
     "name": "stdout",
     "output_type": "stream",
     "text": [
      "[  8 sec,    1993 itr]:          106\n"
     ]
    },
    {
     "name": "stdout",
     "output_type": "stream",
     "text": [
      "[  9 sec,    2298 itr]:          106\n"
     ]
    },
    {
     "name": "stdout",
     "output_type": "stream",
     "text": [
      "[ 10 sec,    2610 itr]:          106\n",
      "[ optimality gap     ]:      100.00%\n"
     ]
    },
    {
     "name": "stdout",
     "output_type": "stream",
     "text": [
      "[ 11 sec,    2924 itr]:          106\n"
     ]
    },
    {
     "name": "stdout",
     "output_type": "stream",
     "text": [
      "[ 12 sec,    3217 itr]:          106\n"
     ]
    },
    {
     "name": "stdout",
     "output_type": "stream",
     "text": [
      "[ 13 sec,    3531 itr]:          106\n"
     ]
    },
    {
     "name": "stdout",
     "output_type": "stream",
     "text": [
      "[ 14 sec,    3851 itr]:          106\n"
     ]
    },
    {
     "name": "stdout",
     "output_type": "stream",
     "text": [
      "[ 15 sec,    4170 itr]:          106\n"
     ]
    },
    {
     "name": "stdout",
     "output_type": "stream",
     "text": [
      "[ 16 sec,    4488 itr]:          106\n"
     ]
    },
    {
     "name": "stdout",
     "output_type": "stream",
     "text": [
      "[ 17 sec,    4805 itr]:          106\n"
     ]
    },
    {
     "name": "stdout",
     "output_type": "stream",
     "text": [
      "[ 18 sec,    5108 itr]:          106\n"
     ]
    },
    {
     "name": "stdout",
     "output_type": "stream",
     "text": [
      "[ 19 sec,    5409 itr]:          105\n"
     ]
    },
    {
     "name": "stdout",
     "output_type": "stream",
     "text": [
      "[ 20 sec,    5718 itr]:          105\n",
      "[ optimality gap     ]:      100.00%\n"
     ]
    },
    {
     "name": "stdout",
     "output_type": "stream",
     "text": [
      "[ 21 sec,    6048 itr]:          105\n"
     ]
    },
    {
     "name": "stdout",
     "output_type": "stream",
     "text": [
      "[ 22 sec,    6343 itr]:          105\n"
     ]
    },
    {
     "name": "stdout",
     "output_type": "stream",
     "text": [
      "[ 23 sec,    6647 itr]:          105\n"
     ]
    },
    {
     "name": "stdout",
     "output_type": "stream",
     "text": [
      "[ 24 sec,    6966 itr]:          105\n"
     ]
    },
    {
     "name": "stdout",
     "output_type": "stream",
     "text": [
      "[ 25 sec,    7261 itr]:          105\n"
     ]
    },
    {
     "name": "stdout",
     "output_type": "stream",
     "text": [
      "[ 26 sec,    7572 itr]:          105\n"
     ]
    },
    {
     "name": "stdout",
     "output_type": "stream",
     "text": [
      "[ 27 sec,    7880 itr]:          105\n"
     ]
    },
    {
     "name": "stdout",
     "output_type": "stream",
     "text": [
      "[ 28 sec,    8212 itr]:          105\n"
     ]
    },
    {
     "name": "stdout",
     "output_type": "stream",
     "text": [
      "[ 29 sec,    8533 itr]:          105\n"
     ]
    },
    {
     "name": "stdout",
     "output_type": "stream",
     "text": [
      "[ 30 sec,    8858 itr]:          105\n",
      "[ optimality gap     ]:      100.00%\n"
     ]
    },
    {
     "name": "stdout",
     "output_type": "stream",
     "text": [
      "[ 31 sec,    9167 itr]:          105\n"
     ]
    },
    {
     "name": "stdout",
     "output_type": "stream",
     "text": [
      "[ 32 sec,    9483 itr]:          105\n"
     ]
    },
    {
     "name": "stdout",
     "output_type": "stream",
     "text": [
      "[ 33 sec,    9814 itr]:          105\n"
     ]
    },
    {
     "name": "stdout",
     "output_type": "stream",
     "text": [
      "[ 34 sec,   10137 itr]:          105\n"
     ]
    },
    {
     "name": "stdout",
     "output_type": "stream",
     "text": [
      "[ 35 sec,   10451 itr]:          105\n"
     ]
    },
    {
     "name": "stdout",
     "output_type": "stream",
     "text": [
      "[ 36 sec,   10759 itr]:          105\n"
     ]
    },
    {
     "name": "stdout",
     "output_type": "stream",
     "text": [
      "[ 37 sec,   11079 itr]:          105\n"
     ]
    },
    {
     "name": "stdout",
     "output_type": "stream",
     "text": [
      "[ 38 sec,   11387 itr]:          105\n"
     ]
    },
    {
     "name": "stdout",
     "output_type": "stream",
     "text": [
      "[ 39 sec,   11697 itr]:          105\n"
     ]
    },
    {
     "name": "stdout",
     "output_type": "stream",
     "text": [
      "[ 40 sec,   12033 itr]:          105\n",
      "[ optimality gap     ]:      100.00%\n"
     ]
    },
    {
     "name": "stdout",
     "output_type": "stream",
     "text": [
      "[ 41 sec,   12337 itr]:          105\n"
     ]
    },
    {
     "name": "stdout",
     "output_type": "stream",
     "text": [
      "[ 42 sec,   12640 itr]:          105\n"
     ]
    },
    {
     "name": "stdout",
     "output_type": "stream",
     "text": [
      "[ 43 sec,   12957 itr]:          105\n"
     ]
    },
    {
     "name": "stdout",
     "output_type": "stream",
     "text": [
      "[ 44 sec,   13269 itr]:          105\n"
     ]
    },
    {
     "name": "stdout",
     "output_type": "stream",
     "text": [
      "[ 45 sec,   13563 itr]:          105\n"
     ]
    },
    {
     "name": "stdout",
     "output_type": "stream",
     "text": [
      "[ 46 sec,   13887 itr]:          105\n"
     ]
    },
    {
     "name": "stdout",
     "output_type": "stream",
     "text": [
      "[ 47 sec,   14186 itr]:          105\n"
     ]
    },
    {
     "name": "stdout",
     "output_type": "stream",
     "text": [
      "[ 48 sec,   14496 itr]:          105\n"
     ]
    },
    {
     "name": "stdout",
     "output_type": "stream",
     "text": [
      "[ 49 sec,   14798 itr]:          105\n"
     ]
    },
    {
     "name": "stdout",
     "output_type": "stream",
     "text": [
      "[ 50 sec,   15130 itr]:          105\n",
      "[ optimality gap     ]:      100.00%\n"
     ]
    },
    {
     "name": "stdout",
     "output_type": "stream",
     "text": [
      "[ 51 sec,   15416 itr]:          105\n"
     ]
    },
    {
     "name": "stdout",
     "output_type": "stream",
     "text": [
      "[ 52 sec,   15724 itr]:          105\n"
     ]
    },
    {
     "name": "stdout",
     "output_type": "stream",
     "text": [
      "[ 53 sec,   16010 itr]:          105\n"
     ]
    },
    {
     "name": "stdout",
     "output_type": "stream",
     "text": [
      "[ 54 sec,   16317 itr]:          105\n"
     ]
    },
    {
     "name": "stdout",
     "output_type": "stream",
     "text": [
      "[ 55 sec,   16603 itr]:          105\n"
     ]
    },
    {
     "name": "stdout",
     "output_type": "stream",
     "text": [
      "[ 56 sec,   16882 itr]:          105\n"
     ]
    },
    {
     "name": "stdout",
     "output_type": "stream",
     "text": [
      "[ 57 sec,   17170 itr]:          105\n"
     ]
    },
    {
     "name": "stdout",
     "output_type": "stream",
     "text": [
      "[ 58 sec,   17482 itr]:          105\n"
     ]
    },
    {
     "name": "stdout",
     "output_type": "stream",
     "text": [
      "[ 59 sec,   17796 itr]:          105\n"
     ]
    },
    {
     "name": "stdout",
     "output_type": "stream",
     "text": [
      "[ 60 sec,   18097 itr]:          105\n",
      "[ optimality gap     ]:      100.00%\n",
      "[ 60 sec,   18097 itr]:          105\n",
      "[ optimality gap     ]:      100.00%\n",
      "\n",
      "18097 iterations performed in 60 seconds\n",
      "\n",
      "Feasible solution: \n",
      "  obj    =          105\n",
      "  gap    =      100.00%\n",
      "  bounds =            0\n"
     ]
    }
   ],
   "source": [
    "instance_02 = util.parse(\"uniform_q26n008k015-025.txt\")\n",
    "solution_02 = solve(instance_02, log=True)"
   ]
  },
  {
   "cell_type": "code",
   "execution_count": null,
   "id": "SFPL",
   "metadata": {},
   "outputs": [
    {
     "name": "stdout",
     "output_type": "stream",
     "text": [
      "--- Condition (with 26 chars) ---\n",
      "str1: tkgnkuhmpxnhtqgxzvxis\n",
      "str2: iojiqfolnbxxcvsuqpvissbxf\n",
      "str3: ulcinycosovozpplp\n",
      "str4: igevazgbrddbcsvrvnngf\n",
      "str5: pyplrzxucpmqvgtdfuivcdsbo\n",
      "str6: pbdevdcvdpfzsmsbroqvbbh\n",
      "str7: enbczfjtvxerzbrvigple\n",
      "str8: rxwxqkrdrlctodtmprpxwd\n",
      "\n",
      "--- Solution (of length 105) ---\n",
      " Sol: pietokgnbdcevayplrzxwxqkrudchvdpmqfjtvgpxebrlcitdonhdbtqfuycosovozslnmpsbrvinngxzvplxwcdvsuboqpvissbxbhef\n",
      "str1: ---t-kgn---------------k-u--h---m------px---------nh--tq----------------------gxzv--x-----------is-------\n",
      "str2: -i--o------------------------------j----------i--------qf---o------ln---b------x----x-c-vsu--qpvissbx---f\n",
      "str3: -------------------------u------------------lci---n-------ycosovoz----p-----------pl----------p----------\n",
      "str4: -i----g----eva----z-------------------g---br----d---db-----c-s-v---------rv-nng-------------------------f\n",
      "str5: p-------------yplrzx-----u-c---pmq---vg--------td-------fu-----------------i-----v----cd-s-bo------------\n",
      "str6: p-------bd-ev-------------dc-vdp--f------------------------------zs--m-sbr------------------oq-"
     ]
    },
    {
     "name": "stdout",
     "output_type": "stream",
     "text": [
      "v---b-bh--\n",
      "str7: --e----nb-c-------z---------------fjtv--xe-r---------------------z------brvi--g---pl-------------------e-\n",
      "str8: -----------------r-xwxqkr-d----------------rlc-t-o--d-t--------------mp--r--------p-xw-d-----------------\n",
      "\n",
      "solution is feasible: True\n"
     ]
    }
   ],
   "source": [
    "_instance = instance_02\n",
    "_solution = solution_02\n",
    "\n",
    "util.show(_instance)\n",
    "if _solution is not None:\n",
    "    util.show(_instance, _solution)\n",
    "    print(f\"solution is feasible: {util.is_feasible(_instance, _solution)}\")\n",
    "else:\n",
    "    print(\"--- Solution not found ---\")"
   ]
  },
  {
   "cell_type": "code",
   "execution_count": null,
   "id": "BYtC",
   "metadata": {},
   "outputs": [
    {
     "name": "stdout",
     "output_type": "stream",
     "text": [
      "\n",
      "Model:  expressions = 327, decisions = 323, constraints = 0, objectives = 1\n",
      "Param:  time limit = 60 sec, no iteration limit\n",
      "\n",
      "[objective direction ]:     minimize\n",
      "\n",
      "[  0 sec,       0 itr]:          176\n",
      "[ optimality gap     ]:      100.00%\n"
     ]
    },
    {
     "name": "stdout",
     "output_type": "stream",
     "text": [
      "[  1 sec,      54 itr]:          163\n"
     ]
    },
    {
     "name": "stdout",
     "output_type": "stream",
     "text": [
      "[  2 sec,     180 itr]:          161\n"
     ]
    },
    {
     "name": "stdout",
     "output_type": "stream",
     "text": [
      "[  3 sec,     319 itr]:          160\n"
     ]
    },
    {
     "name": "stdout",
     "output_type": "stream",
     "text": [
      "[  4 sec,     476 itr]:          160\n"
     ]
    },
    {
     "name": "stdout",
     "output_type": "stream",
     "text": [
      "[  5 sec,     609 itr]:          159\n"
     ]
    },
    {
     "name": "stdout",
     "output_type": "stream",
     "text": [
      "[  6 sec,     750 itr]:          159\n"
     ]
    },
    {
     "name": "stdout",
     "output_type": "stream",
     "text": [
      "[  7 sec,     886 itr]:          158\n"
     ]
    },
    {
     "name": "stdout",
     "output_type": "stream",
     "text": [
      "[  8 sec,    1026 itr]:          158\n"
     ]
    },
    {
     "name": "stdout",
     "output_type": "stream",
     "text": [
      "[  9 sec,    1158 itr]:          157\n"
     ]
    },
    {
     "name": "stdout",
     "output_type": "stream",
     "text": [
      "[ 10 sec,    1302 itr]:          157\n",
      "[ optimality gap     ]:      100.00%\n"
     ]
    },
    {
     "name": "stdout",
     "output_type": "stream",
     "text": [
      "[ 11 sec,    1437 itr]:          157\n"
     ]
    },
    {
     "name": "stdout",
     "output_type": "stream",
     "text": [
      "[ 12 sec,    1593 itr]:          157\n"
     ]
    },
    {
     "name": "stdout",
     "output_type": "stream",
     "text": [
      "[ 13 sec,    1747 itr]:          157\n"
     ]
    },
    {
     "name": "stdout",
     "output_type": "stream",
     "text": [
      "[ 14 sec,    1896 itr]:          157\n"
     ]
    },
    {
     "name": "stdout",
     "output_type": "stream",
     "text": [
      "[ 15 sec,    2031 itr]:          155\n"
     ]
    },
    {
     "name": "stdout",
     "output_type": "stream",
     "text": [
      "[ 16 sec,    2163 itr]:          155\n"
     ]
    },
    {
     "name": "stdout",
     "output_type": "stream",
     "text": [
      "[ 17 sec,    2300 itr]:          155\n"
     ]
    },
    {
     "name": "stdout",
     "output_type": "stream",
     "text": [
      "[ 18 sec,    2437 itr]:          155\n"
     ]
    },
    {
     "name": "stdout",
     "output_type": "stream",
     "text": [
      "[ 19 sec,    2584 itr]:          155\n"
     ]
    },
    {
     "name": "stdout",
     "output_type": "stream",
     "text": [
      "[ 20 sec,    2727 itr]:          155\n",
      "[ optimality gap     ]:      100.00%\n"
     ]
    },
    {
     "name": "stdout",
     "output_type": "stream",
     "text": [
      "[ 21 sec,    2868 itr]:          155\n"
     ]
    },
    {
     "name": "stdout",
     "output_type": "stream",
     "text": [
      "[ 22 sec,    2998 itr]:          155\n"
     ]
    },
    {
     "name": "stdout",
     "output_type": "stream",
     "text": [
      "[ 23 sec,    3129 itr]:          154\n"
     ]
    },
    {
     "name": "stdout",
     "output_type": "stream",
     "text": [
      "[ 24 sec,    3286 itr]:          154\n"
     ]
    },
    {
     "name": "stdout",
     "output_type": "stream",
     "text": [
      "[ 25 sec,    3444 itr]:          154\n"
     ]
    },
    {
     "name": "stdout",
     "output_type": "stream",
     "text": [
      "[ 26 sec,    3580 itr]:          153\n"
     ]
    },
    {
     "name": "stdout",
     "output_type": "stream",
     "text": [
      "[ 27 sec,    3739 itr]:          153\n"
     ]
    },
    {
     "name": "stdout",
     "output_type": "stream",
     "text": [
      "[ 28 sec,    3872 itr]:          153\n"
     ]
    },
    {
     "name": "stdout",
     "output_type": "stream",
     "text": [
      "[ 29 sec,    4023 itr]:          153\n"
     ]
    },
    {
     "name": "stdout",
     "output_type": "stream",
     "text": [
      "[ 30 sec,    4174 itr]:          153\n",
      "[ optimality gap     ]:      100.00%\n"
     ]
    },
    {
     "name": "stdout",
     "output_type": "stream",
     "text": [
      "[ 31 sec,    4331 itr]:          153\n"
     ]
    },
    {
     "name": "stdout",
     "output_type": "stream",
     "text": [
      "[ 32 sec,    4477 itr]:          152\n"
     ]
    },
    {
     "name": "stdout",
     "output_type": "stream",
     "text": [
      "[ 33 sec,    4636 itr]:          152\n"
     ]
    },
    {
     "name": "stdout",
     "output_type": "stream",
     "text": [
      "[ 34 sec,    4791 itr]:          152\n"
     ]
    },
    {
     "name": "stdout",
     "output_type": "stream",
     "text": [
      "[ 35 sec,    4931 itr]:          152\n"
     ]
    },
    {
     "name": "stdout",
     "output_type": "stream",
     "text": [
      "[ 36 sec,    5063 itr]:          151\n"
     ]
    },
    {
     "name": "stdout",
     "output_type": "stream",
     "text": [
      "[ 37 sec,    5201 itr]:          151\n"
     ]
    },
    {
     "name": "stdout",
     "output_type": "stream",
     "text": [
      "[ 38 sec,    5349 itr]:          151\n"
     ]
    },
    {
     "name": "stdout",
     "output_type": "stream",
     "text": [
      "[ 39 sec,    5493 itr]:          151\n"
     ]
    },
    {
     "name": "stdout",
     "output_type": "stream",
     "text": [
      "[ 40 sec,    5654 itr]:          151\n",
      "[ optimality gap     ]:      100.00%\n"
     ]
    },
    {
     "name": "stdout",
     "output_type": "stream",
     "text": [
      "[ 41 sec,    5787 itr]:          151\n"
     ]
    },
    {
     "name": "stdout",
     "output_type": "stream",
     "text": [
      "[ 42 sec,    5939 itr]:          150\n"
     ]
    },
    {
     "name": "stdout",
     "output_type": "stream",
     "text": [
      "[ 43 sec,    6102 itr]:          150\n"
     ]
    },
    {
     "name": "stdout",
     "output_type": "stream",
     "text": [
      "[ 44 sec,    6250 itr]:          150\n"
     ]
    },
    {
     "name": "stdout",
     "output_type": "stream",
     "text": [
      "[ 45 sec,    6395 itr]:          150\n"
     ]
    },
    {
     "name": "stdout",
     "output_type": "stream",
     "text": [
      "[ 46 sec,    6553 itr]:          150\n"
     ]
    },
    {
     "name": "stdout",
     "output_type": "stream",
     "text": [
      "[ 47 sec,    6683 itr]:          150\n"
     ]
    },
    {
     "name": "stdout",
     "output_type": "stream",
     "text": [
      "[ 48 sec,    6837 itr]:          150\n"
     ]
    },
    {
     "name": "stdout",
     "output_type": "stream",
     "text": [
      "[ 49 sec,    6993 itr]:          150\n"
     ]
    },
    {
     "name": "stdout",
     "output_type": "stream",
     "text": [
      "[ 50 sec,    7140 itr]:          150\n",
      "[ optimality gap     ]:      100.00%\n"
     ]
    },
    {
     "name": "stdout",
     "output_type": "stream",
     "text": [
      "[ 51 sec,    7288 itr]:          150\n"
     ]
    },
    {
     "name": "stdout",
     "output_type": "stream",
     "text": [
      "[ 52 sec,    7429 itr]:          150\n"
     ]
    },
    {
     "name": "stdout",
     "output_type": "stream",
     "text": [
      "[ 53 sec,    7583 itr]:          150\n"
     ]
    },
    {
     "name": "stdout",
     "output_type": "stream",
     "text": [
      "[ 54 sec,    7737 itr]:          150\n"
     ]
    },
    {
     "name": "stdout",
     "output_type": "stream",
     "text": [
      "[ 55 sec,    7899 itr]:          150\n"
     ]
    },
    {
     "name": "stdout",
     "output_type": "stream",
     "text": [
      "[ 56 sec,    8066 itr]:          150\n"
     ]
    },
    {
     "name": "stdout",
     "output_type": "stream",
     "text": [
      "[ 57 sec,    8219 itr]:          150\n"
     ]
    },
    {
     "name": "stdout",
     "output_type": "stream",
     "text": [
      "[ 58 sec,    8371 itr]:          150\n"
     ]
    },
    {
     "name": "stdout",
     "output_type": "stream",
     "text": [
      "[ 59 sec,    8531 itr]:          150\n"
     ]
    },
    {
     "name": "stdout",
     "output_type": "stream",
     "text": [
      "[ 60 sec,    8686 itr]:          150\n",
      "[ optimality gap     ]:      100.00%\n",
      "[ 60 sec,    8686 itr]:          150\n",
      "[ optimality gap     ]:      100.00%\n",
      "\n",
      "8686 iterations performed in 60 seconds\n",
      "\n",
      "Feasible solution: \n",
      "  obj    =          150\n",
      "  gap    =      100.00%\n",
      "  bounds =            0\n"
     ]
    }
   ],
   "source": [
    "instance_03 = util.parse(\"uniform_q26n016k015-025.txt\")\n",
    "solution_03 = solve(instance_03, log=True)"
   ]
  },
  {
   "cell_type": "code",
   "execution_count": null,
   "id": "RGSE",
   "metadata": {},
   "outputs": [
    {
     "name": "stdout",
     "output_type": "stream",
     "text": [
      "--- Condition (with 26 chars) ---\n",
      "str01: tkgnkuhmpxnhtqgxzvxis\n",
      "str02: iojiqfolnbxxcvsuqpvissbxf\n",
      "str03: ulcinycosovozpplp\n",
      "str04: igevazgbrddbcsvrvnngf\n",
      "str05: pyplrzxucpmqvgtdfuivcdsbo\n",
      "str06: pbdevdcvdpfzsmsbroqvbbh\n",
      "str07: enbczfjtvxerzbrvigple\n",
      "str08: rxwxqkrdrlctodtmprpxwd\n",
      "str09: kkqafigqjwokkskrblg\n",
      "str10: lxxpabivbvzkozzvd\n",
      "str11: krifsavncdqwhzc\n",
      "str12: qaxudgqvqcewbfgijowwy\n",
      "str13: rsxqjnfpadiusiqbezhkohmg\n",
      "str14: iwshvhcomiuvddm\n",
      "str15: htxxqjzqbctbakn\n",
      "str16: xusfcfzpeecvwantfmgqzu\n",
      "\n",
      "--- Solution (of length 150) ---\n",
      "  Sol: irpkxwsxqkhtojgenbvyplrdiqfaxxusfczpafdigbrqjzdevdolncitvbxucspevrkgnkuhmqcewbodpfxcvgtzksnmiuycosbroqpvdfwauibezhkntskrjoqgxzvppxwcdisblhxfmgeqopzuwy\n",
      "str01: -----------t------------------------------------------------------kgnkuhm-------p-x-------n----------------------h--t-----qgxzv--x---is---------------\n",
      "str02: i-----------oj----------iqf-----------------------oln----bx-----------------------xcv----s---u-------qpv-----i-------s----------------sb--xf----------\n",
      "str03: ------------------------------u--------------------l-ci-------------n-------------------------ycos--o--v-----------------o---z-pp-------l--------p----\n",
      "str04: i-------------ge--v--------a------z-----gbr---d--d-------b--cs--vr------------------v-----n------------------------n-------g---------------f----------\n",
      "str05: --p----------------yplr-----------z-----------------------xuc-p---------mq----------vgt-----------------df--ui----------------v----cd-sb--------o-----\n",
      "str06: --p--------------b-----d-----------------------evd---c--v----------------------dpf-----z-s-m-----sbroq-v------b------------------------b-h------------\n",
      "str07: ---------------enb---------------cz--f------j----------tv-x----e-r---------------------z----------br---v-----i-------------g---p--------l-----e-------\n",
      "str08: -r--xw-xqk------------rd------------------r--------l-c-t----------------------od------t----m----------p----------------r-------p-xw-d-----------------\n",
      "str09: ---k-----k---------------q-a----f------ig--qj-------------------------------w-o---------k-------------------------k--skr---------------bl----g--------\n",
      "str10: ---------------------l------xx-----pa----b------------i-vb------v----------------------zk-------o---------------z------------zv-----d-----------------\n",
      "str11: ---k------------------r-i-f----s----a-----------v---nc-------------------------d---------------------q----w------h-----------z-----c------------------\n",
      "str12: --------q------------------ax-u-------d-g--q----v------------------------qcewb---f---g------i---------------------------jo--------w-----------------wy\n",
      "str13: -r----sxq----j--n---------f--------pa-di-------------------u-s------------------------------i--------q--------bezhk------o---------------h--mg--------\n",
      "str14: i----ws---h-------v----------------------------------------------------h--c---o------------miu---------vd---------------------------d-------m---------\n",
      "str15: ----------ht----------------xx-------------qjz---------------------------q---b-----c--t-----------b--------a------kn----------------------------------\n",
      "str16: ----x-------------------------usfc---f-------z----------------pe-----------e-------cv---------------------wa-------nt----------------------fmg-q--zu--\n",
      "\n",
      "solution is feasible: True\n"
     ]
    }
   ],
   "source": [
    "_instance = instance_03\n",
    "_solution = solution_03\n",
    "\n",
    "util.show(_instance)\n",
    "if _solution is not None:\n",
    "    util.show(_instance, _solution)\n",
    "    print(f\"solution is feasible: {util.is_feasible(_instance, _solution)}\")\n",
    "else:\n",
    "    print(\"--- Solution not found ---\")"
   ]
  },
  {
   "cell_type": "code",
   "execution_count": null,
   "id": "Kclp",
   "metadata": {},
   "outputs": [
    {
     "name": "stdout",
     "output_type": "stream",
     "text": [
      "\n",
      "Model:  expressions = 104, decisions = 100, constraints = 0, objectives = 1\n",
      "Param:  time limit = 60 sec, no iteration limit\n",
      "\n",
      "[objective direction ]:     minimize\n",
      "\n",
      "[  0 sec,       0 itr]:           32\n",
      "[ optimality gap     ]:      100.00%\n"
     ]
    },
    {
     "name": "stdout",
     "output_type": "stream",
     "text": [
      "[  1 sec,    1259 itr]:           29\n"
     ]
    },
    {
     "name": "stdout",
     "output_type": "stream",
     "text": [
      "[  2 sec,    4447 itr]:           29\n"
     ]
    },
    {
     "name": "stdout",
     "output_type": "stream",
     "text": [
      "[  3 sec,    7469 itr]:           29\n"
     ]
    },
    {
     "name": "stdout",
     "output_type": "stream",
     "text": [
      "[  4 sec,   10499 itr]:           29\n"
     ]
    },
    {
     "name": "stdout",
     "output_type": "stream",
     "text": [
      "[  5 sec,   13648 itr]:           29\n"
     ]
    },
    {
     "name": "stdout",
     "output_type": "stream",
     "text": [
      "[  6 sec,   16703 itr]:           28\n"
     ]
    },
    {
     "name": "stdout",
     "output_type": "stream",
     "text": [
      "[  7 sec,   19761 itr]:           28\n"
     ]
    },
    {
     "name": "stdout",
     "output_type": "stream",
     "text": [
      "[  8 sec,   22854 itr]:           28\n"
     ]
    },
    {
     "name": "stdout",
     "output_type": "stream",
     "text": [
      "[  9 sec,   25843 itr]:           28\n"
     ]
    },
    {
     "name": "stdout",
     "output_type": "stream",
     "text": [
      "[ 10 sec,   28873 itr]:           28\n",
      "[ optimality gap     ]:      100.00%\n"
     ]
    },
    {
     "name": "stdout",
     "output_type": "stream",
     "text": [
      "[ 11 sec,   31920 itr]:           28\n"
     ]
    },
    {
     "name": "stdout",
     "output_type": "stream",
     "text": [
      "[ 12 sec,   34964 itr]:           28\n"
     ]
    },
    {
     "name": "stdout",
     "output_type": "stream",
     "text": [
      "[ 13 sec,   38035 itr]:           28\n"
     ]
    },
    {
     "name": "stdout",
     "output_type": "stream",
     "text": [
      "[ 14 sec,   41059 itr]:           28\n"
     ]
    },
    {
     "name": "stdout",
     "output_type": "stream",
     "text": [
      "[ 15 sec,   43988 itr]:           28\n"
     ]
    },
    {
     "name": "stdout",
     "output_type": "stream",
     "text": [
      "[ 16 sec,   46789 itr]:           28\n"
     ]
    },
    {
     "name": "stdout",
     "output_type": "stream",
     "text": [
      "[ 17 sec,   49583 itr]:           28\n"
     ]
    },
    {
     "name": "stdout",
     "output_type": "stream",
     "text": [
      "[ 18 sec,   52634 itr]:           28\n"
     ]
    },
    {
     "name": "stdout",
     "output_type": "stream",
     "text": [
      "[ 19 sec,   55712 itr]:           28\n"
     ]
    },
    {
     "name": "stdout",
     "output_type": "stream",
     "text": [
      "[ 20 sec,   58768 itr]:           28\n",
      "[ optimality gap     ]:      100.00%\n"
     ]
    },
    {
     "name": "stdout",
     "output_type": "stream",
     "text": [
      "[ 21 sec,   61764 itr]:           28\n"
     ]
    },
    {
     "name": "stdout",
     "output_type": "stream",
     "text": [
      "[ 22 sec,   64851 itr]:           28\n"
     ]
    },
    {
     "name": "stdout",
     "output_type": "stream",
     "text": [
      "[ 23 sec,   67797 itr]:           28\n"
     ]
    },
    {
     "name": "stdout",
     "output_type": "stream",
     "text": [
      "[ 24 sec,   70896 itr]:           28\n"
     ]
    },
    {
     "name": "stdout",
     "output_type": "stream",
     "text": [
      "[ 25 sec,   73947 itr]:           28\n"
     ]
    },
    {
     "name": "stdout",
     "output_type": "stream",
     "text": [
      "[ 26 sec,   76895 itr]:           28\n"
     ]
    },
    {
     "name": "stdout",
     "output_type": "stream",
     "text": [
      "[ 27 sec,   79962 itr]:           28\n"
     ]
    },
    {
     "name": "stdout",
     "output_type": "stream",
     "text": [
      "[ 28 sec,   82970 itr]:           28\n"
     ]
    },
    {
     "name": "stdout",
     "output_type": "stream",
     "text": [
      "[ 29 sec,   85960 itr]:           28\n"
     ]
    },
    {
     "name": "stdout",
     "output_type": "stream",
     "text": [
      "[ 30 sec,   89061 itr]:           28\n",
      "[ optimality gap     ]:      100.00%\n"
     ]
    },
    {
     "name": "stdout",
     "output_type": "stream",
     "text": [
      "[ 31 sec,   92079 itr]:           28\n"
     ]
    },
    {
     "name": "stdout",
     "output_type": "stream",
     "text": [
      "[ 32 sec,   95115 itr]:           28\n"
     ]
    },
    {
     "name": "stdout",
     "output_type": "stream",
     "text": [
      "[ 33 sec,   98109 itr]:           28\n"
     ]
    },
    {
     "name": "stdout",
     "output_type": "stream",
     "text": [
      "[ 34 sec,  101119 itr]:           28\n"
     ]
    },
    {
     "name": "stdout",
     "output_type": "stream",
     "text": [
      "[ 35 sec,  104141 itr]:           28\n"
     ]
    },
    {
     "name": "stdout",
     "output_type": "stream",
     "text": [
      "[ 36 sec,  107196 itr]:           28\n"
     ]
    },
    {
     "name": "stdout",
     "output_type": "stream",
     "text": [
      "[ 37 sec,  110218 itr]:           28\n"
     ]
    },
    {
     "name": "stdout",
     "output_type": "stream",
     "text": [
      "[ 38 sec,  113234 itr]:           28\n"
     ]
    },
    {
     "name": "stdout",
     "output_type": "stream",
     "text": [
      "[ 39 sec,  116342 itr]:           28\n"
     ]
    },
    {
     "name": "stdout",
     "output_type": "stream",
     "text": [
      "[ 40 sec,  119451 itr]:           27\n",
      "[ optimality gap     ]:      100.00%\n"
     ]
    },
    {
     "name": "stdout",
     "output_type": "stream",
     "text": [
      "[ 41 sec,  122540 itr]:           27\n"
     ]
    },
    {
     "name": "stdout",
     "output_type": "stream",
     "text": [
      "[ 42 sec,  125704 itr]:           27\n"
     ]
    },
    {
     "name": "stdout",
     "output_type": "stream",
     "text": [
      "[ 43 sec,  128847 itr]:           27\n"
     ]
    },
    {
     "name": "stdout",
     "output_type": "stream",
     "text": [
      "[ 44 sec,  131923 itr]:           27\n"
     ]
    },
    {
     "name": "stdout",
     "output_type": "stream",
     "text": [
      "[ 45 sec,  135175 itr]:           27\n"
     ]
    },
    {
     "name": "stdout",
     "output_type": "stream",
     "text": [
      "[ 46 sec,  138420 itr]:           27\n"
     ]
    },
    {
     "name": "stdout",
     "output_type": "stream",
     "text": [
      "[ 47 sec,  141582 itr]:           27\n"
     ]
    },
    {
     "name": "stdout",
     "output_type": "stream",
     "text": [
      "[ 48 sec,  144778 itr]:           27\n"
     ]
    },
    {
     "name": "stdout",
     "output_type": "stream",
     "text": [
      "[ 49 sec,  148041 itr]:           27\n"
     ]
    },
    {
     "name": "stdout",
     "output_type": "stream",
     "text": [
      "[ 50 sec,  151261 itr]:           27\n",
      "[ optimality gap     ]:      100.00%\n"
     ]
    },
    {
     "name": "stdout",
     "output_type": "stream",
     "text": [
      "[ 51 sec,  154478 itr]:           27\n"
     ]
    },
    {
     "name": "stdout",
     "output_type": "stream",
     "text": [
      "[ 52 sec,  157687 itr]:           27\n"
     ]
    },
    {
     "name": "stdout",
     "output_type": "stream",
     "text": [
      "[ 53 sec,  160866 itr]:           27\n"
     ]
    },
    {
     "name": "stdout",
     "output_type": "stream",
     "text": [
      "[ 54 sec,  164087 itr]:           27\n"
     ]
    },
    {
     "name": "stdout",
     "output_type": "stream",
     "text": [
      "[ 55 sec,  167284 itr]:           27\n"
     ]
    },
    {
     "name": "stdout",
     "output_type": "stream",
     "text": [
      "[ 56 sec,  170479 itr]:           27\n"
     ]
    },
    {
     "name": "stdout",
     "output_type": "stream",
     "text": [
      "[ 57 sec,  173679 itr]:           27\n"
     ]
    },
    {
     "name": "stdout",
     "output_type": "stream",
     "text": [
      "[ 58 sec,  176908 itr]:           27\n"
     ]
    },
    {
     "name": "stdout",
     "output_type": "stream",
     "text": [
      "[ 59 sec,  180094 itr]:           27\n"
     ]
    },
    {
     "name": "stdout",
     "output_type": "stream",
     "text": [
      "[ 60 sec,  183283 itr]:           27\n",
      "[ optimality gap     ]:      100.00%\n",
      "[ 60 sec,  183283 itr]:           27\n",
      "[ optimality gap     ]:      100.00%\n",
      "\n",
      "183283 iterations performed in 60 seconds\n",
      "\n",
      "Feasible solution: \n",
      "  obj    =           27\n",
      "  gap    =      100.00%\n",
      "  bounds =            0\n"
     ]
    }
   ],
   "source": [
    "instance_04 = util.parse(\"uniform_q05n010k010-010.txt\")\n",
    "solution_04 = solve(instance_04, log=True)"
   ]
  },
  {
   "cell_type": "code",
   "execution_count": null,
   "id": "emfo",
   "metadata": {},
   "outputs": [
    {
     "name": "stdout",
     "output_type": "stream",
     "text": [
      "--- Condition (with 5 chars) ---\n",
      "str01: dcbccdbcce\n",
      "str02: bddbeeeebd\n",
      "str03: cacdeecebe\n",
      "str04: aeddddebdd\n",
      "str05: acbeecabce\n",
      "str06: bbabebdcba\n",
      "str07: bbaeaebada\n",
      "str08: eeeecbdbee\n",
      "str09: ccdeedadcd\n",
      "str10: bdabdbeaad\n",
      "\n",
      "--- Solution (of length 27) ---\n",
      "  Sol: bbaedcdbeacdeecbdbeacbdacde\n",
      "str01: ----dc-b--c---c-db--c---c-e\n",
      "str02: b---d-dbe---ee----e--bd----\n",
      "str03: -----c---acdeec---e--b----e\n",
      "str04: --aed-d----d----d-e--bd--d-\n",
      "str05: --a--c-be---e-c----a-b--c-e\n",
      "str06: bba----be------bd---cb-a---\n",
      "str07: bbae-----a--e--b---a--da---\n",
      "str08: ---e----e---eecbdbe-------e\n",
      "str09: -----c----cdee--d--a--d-cd-\n",
      "str10: b---d----a-----bdbea---a-d-\n",
      "\n",
      "solution is feasible: True\n"
     ]
    }
   ],
   "source": [
    "_instance = instance_04\n",
    "_solution = solution_04\n",
    "\n",
    "util.show(_instance)\n",
    "if _solution is not None:\n",
    "    util.show(_instance, _solution)\n",
    "    print(f\"solution is feasible: {util.is_feasible(_instance, _solution)}\")\n",
    "else:\n",
    "    print(\"--- Solution not found ---\")"
   ]
  },
  {
   "cell_type": "code",
   "execution_count": null,
   "id": "Hstk",
   "metadata": {},
   "outputs": [
    {
     "name": "stdout",
     "output_type": "stream",
     "text": [
      "\n",
      "Model:  expressions = 504, decisions = 500, constraints = 0, objectives = 1\n",
      "Param:  time limit = 60 sec, no iteration limit\n",
      "\n",
      "[objective direction ]:     minimize\n",
      "\n",
      "[  0 sec,       0 itr]:           37\n",
      "[ optimality gap     ]:      100.00%\n"
     ]
    },
    {
     "name": "stdout",
     "output_type": "stream",
     "text": [
      "[  1 sec,      41 itr]:           35\n"
     ]
    },
    {
     "name": "stdout",
     "output_type": "stream",
     "text": [
      "[  2 sec,     761 itr]:           35\n"
     ]
    },
    {
     "name": "stdout",
     "output_type": "stream",
     "text": [
      "[  3 sec,    1298 itr]:           35\n"
     ]
    },
    {
     "name": "stdout",
     "output_type": "stream",
     "text": [
      "[  4 sec,    1716 itr]:           35\n"
     ]
    },
    {
     "name": "stdout",
     "output_type": "stream",
     "text": [
      "[  5 sec,    2203 itr]:           35\n"
     ]
    },
    {
     "name": "stdout",
     "output_type": "stream",
     "text": [
      "[  6 sec,    2673 itr]:           35\n"
     ]
    },
    {
     "name": "stdout",
     "output_type": "stream",
     "text": [
      "[  7 sec,    3258 itr]:           34\n"
     ]
    },
    {
     "name": "stdout",
     "output_type": "stream",
     "text": [
      "[  8 sec,    3896 itr]:           34\n"
     ]
    },
    {
     "name": "stdout",
     "output_type": "stream",
     "text": [
      "[  9 sec,    4504 itr]:           34\n"
     ]
    },
    {
     "name": "stdout",
     "output_type": "stream",
     "text": [
      "[ 10 sec,    5089 itr]:           34\n",
      "[ optimality gap     ]:      100.00%\n"
     ]
    },
    {
     "name": "stdout",
     "output_type": "stream",
     "text": [
      "[ 11 sec,    5737 itr]:           34\n"
     ]
    },
    {
     "name": "stdout",
     "output_type": "stream",
     "text": [
      "[ 12 sec,    6403 itr]:           34\n"
     ]
    },
    {
     "name": "stdout",
     "output_type": "stream",
     "text": [
      "[ 13 sec,    7074 itr]:           34\n"
     ]
    },
    {
     "name": "stdout",
     "output_type": "stream",
     "text": [
      "[ 14 sec,    7768 itr]:           34\n"
     ]
    },
    {
     "name": "stdout",
     "output_type": "stream",
     "text": [
      "[ 15 sec,    8340 itr]:           34\n"
     ]
    },
    {
     "name": "stdout",
     "output_type": "stream",
     "text": [
      "[ 16 sec,    8860 itr]:           34\n"
     ]
    },
    {
     "name": "stdout",
     "output_type": "stream",
     "text": [
      "[ 17 sec,    9402 itr]:           34\n"
     ]
    },
    {
     "name": "stdout",
     "output_type": "stream",
     "text": [
      "[ 18 sec,   10047 itr]:           34\n"
     ]
    },
    {
     "name": "stdout",
     "output_type": "stream",
     "text": [
      "[ 19 sec,   10626 itr]:           34\n"
     ]
    },
    {
     "name": "stdout",
     "output_type": "stream",
     "text": [
      "[ 20 sec,   11250 itr]:           34\n",
      "[ optimality gap     ]:      100.00%\n"
     ]
    },
    {
     "name": "stdout",
     "output_type": "stream",
     "text": [
      "[ 21 sec,   11840 itr]:           34\n"
     ]
    },
    {
     "name": "stdout",
     "output_type": "stream",
     "text": [
      "[ 22 sec,   12437 itr]:           34\n"
     ]
    },
    {
     "name": "stdout",
     "output_type": "stream",
     "text": [
      "[ 23 sec,   13051 itr]:           34\n"
     ]
    },
    {
     "name": "stdout",
     "output_type": "stream",
     "text": [
      "[ 24 sec,   13672 itr]:           34\n"
     ]
    },
    {
     "name": "stdout",
     "output_type": "stream",
     "text": [
      "[ 25 sec,   14237 itr]:           34\n"
     ]
    },
    {
     "name": "stdout",
     "output_type": "stream",
     "text": [
      "[ 26 sec,   14839 itr]:           34\n"
     ]
    },
    {
     "name": "stdout",
     "output_type": "stream",
     "text": [
      "[ 27 sec,   15478 itr]:           34\n"
     ]
    },
    {
     "name": "stdout",
     "output_type": "stream",
     "text": [
      "[ 28 sec,   16047 itr]:           34\n"
     ]
    },
    {
     "name": "stdout",
     "output_type": "stream",
     "text": [
      "[ 29 sec,   16650 itr]:           34\n"
     ]
    },
    {
     "name": "stdout",
     "output_type": "stream",
     "text": [
      "[ 30 sec,   17213 itr]:           34\n",
      "[ optimality gap     ]:      100.00%\n"
     ]
    },
    {
     "name": "stdout",
     "output_type": "stream",
     "text": [
      "[ 31 sec,   17797 itr]:           34\n"
     ]
    },
    {
     "name": "stdout",
     "output_type": "stream",
     "text": [
      "[ 32 sec,   18399 itr]:           34\n"
     ]
    },
    {
     "name": "stdout",
     "output_type": "stream",
     "text": [
      "[ 33 sec,   18976 itr]:           34\n"
     ]
    },
    {
     "name": "stdout",
     "output_type": "stream",
     "text": [
      "[ 34 sec,   19541 itr]:           34\n"
     ]
    },
    {
     "name": "stdout",
     "output_type": "stream",
     "text": [
      "[ 35 sec,   20185 itr]:           34\n"
     ]
    },
    {
     "name": "stdout",
     "output_type": "stream",
     "text": [
      "[ 36 sec,   20719 itr]:           34\n"
     ]
    },
    {
     "name": "stdout",
     "output_type": "stream",
     "text": [
      "[ 37 sec,   21319 itr]:           34\n"
     ]
    },
    {
     "name": "stdout",
     "output_type": "stream",
     "text": [
      "[ 38 sec,   21877 itr]:           34\n"
     ]
    },
    {
     "name": "stdout",
     "output_type": "stream",
     "text": [
      "[ 39 sec,   22498 itr]:           34\n"
     ]
    },
    {
     "name": "stdout",
     "output_type": "stream",
     "text": [
      "[ 40 sec,   23064 itr]:           34\n",
      "[ optimality gap     ]:      100.00%\n"
     ]
    },
    {
     "name": "stdout",
     "output_type": "stream",
     "text": [
      "[ 41 sec,   23655 itr]:           34\n"
     ]
    },
    {
     "name": "stdout",
     "output_type": "stream",
     "text": [
      "[ 42 sec,   24205 itr]:           34\n"
     ]
    },
    {
     "name": "stdout",
     "output_type": "stream",
     "text": [
      "[ 43 sec,   24798 itr]:           34\n"
     ]
    },
    {
     "name": "stdout",
     "output_type": "stream",
     "text": [
      "[ 44 sec,   25435 itr]:           34\n"
     ]
    },
    {
     "name": "stdout",
     "output_type": "stream",
     "text": [
      "[ 45 sec,   25995 itr]:           34\n"
     ]
    },
    {
     "name": "stdout",
     "output_type": "stream",
     "text": [
      "[ 46 sec,   26589 itr]:           34\n"
     ]
    },
    {
     "name": "stdout",
     "output_type": "stream",
     "text": [
      "[ 47 sec,   27138 itr]:           34\n"
     ]
    },
    {
     "name": "stdout",
     "output_type": "stream",
     "text": [
      "[ 48 sec,   27730 itr]:           34\n"
     ]
    },
    {
     "name": "stdout",
     "output_type": "stream",
     "text": [
      "[ 49 sec,   28293 itr]:           34\n"
     ]
    },
    {
     "name": "stdout",
     "output_type": "stream",
     "text": [
      "[ 50 sec,   28867 itr]:           34\n",
      "[ optimality gap     ]:      100.00%\n"
     ]
    },
    {
     "name": "stdout",
     "output_type": "stream",
     "text": [
      "[ 51 sec,   29496 itr]:           34\n"
     ]
    },
    {
     "name": "stdout",
     "output_type": "stream",
     "text": [
      "[ 52 sec,   30075 itr]:           34\n"
     ]
    },
    {
     "name": "stdout",
     "output_type": "stream",
     "text": [
      "[ 53 sec,   30670 itr]:           34\n"
     ]
    },
    {
     "name": "stdout",
     "output_type": "stream",
     "text": [
      "[ 54 sec,   31266 itr]:           34\n"
     ]
    },
    {
     "name": "stdout",
     "output_type": "stream",
     "text": [
      "[ 55 sec,   31855 itr]:           34\n"
     ]
    },
    {
     "name": "stdout",
     "output_type": "stream",
     "text": [
      "[ 56 sec,   32440 itr]:           34\n"
     ]
    },
    {
     "name": "stdout",
     "output_type": "stream",
     "text": [
      "[ 57 sec,   33093 itr]:           34\n"
     ]
    },
    {
     "name": "stdout",
     "output_type": "stream",
     "text": [
      "[ 58 sec,   33657 itr]:           34\n"
     ]
    },
    {
     "name": "stdout",
     "output_type": "stream",
     "text": [
      "[ 59 sec,   34212 itr]:           34\n"
     ]
    },
    {
     "name": "stdout",
     "output_type": "stream",
     "text": [
      "[ 60 sec,   34842 itr]:           34\n",
      "[ optimality gap     ]:      100.00%\n",
      "[ 60 sec,   34842 itr]:           34\n",
      "[ optimality gap     ]:      100.00%\n",
      "\n",
      "34842 iterations performed in 60 seconds\n",
      "\n",
      "Feasible solution: \n",
      "  obj    =           34\n",
      "  gap    =      100.00%\n",
      "  bounds =            0\n"
     ]
    }
   ],
   "source": [
    "instance_05 = util.parse(\"uniform_q05n050k010-010.txt\")\n",
    "solution_05 = solve(instance_05, log=True)"
   ]
  },
  {
   "cell_type": "code",
   "execution_count": null,
   "id": "nWHF",
   "metadata": {},
   "outputs": [
    {
     "name": "stdout",
     "output_type": "stream",
     "text": [
      "--- Condition (with 5 chars) ---\n",
      "str01: dcbccdbcce\n",
      "str02: bddbeeeebd\n",
      "str03: cacdeecebe\n",
      "str04: aeddddebdd\n",
      "str05: acbeecabce\n",
      "str06: bbabebdcba\n",
      "str07: bbaeaebada\n",
      "str08: eeeecbdbee\n",
      "str09: ccdeedadcd\n",
      "str10: bdabdbeaad\n",
      "str11: ededaaaeaa\n",
      "str12: aaeaabeeac\n",
      "str13: eaabcaccdb\n",
      "str14: bdeeadeade\n",
      "str15: caedadeeed\n",
      "str16: ebcadbabbe\n",
      "str17: ddceeabdea\n",
      "str18: dabcddeaec\n",
      "str19: aadceedaab\n",
      "str20: aeecceeeaa\n",
      "str21: bbdaecaade\n",
      "str22: dacedaedab\n",
      "str23: aaeabbbbce\n",
      "str24: dedbcbcaab\n",
      "str25: dbdaaebbcb\n",
      "str26: debedbebac\n",
      "str27: ceebcdcbde\n",
      "str28: dbedaadaab\n",
      "str29: cccdcbebdc\n",
      "str30: aeeacdbcbd\n",
      "str31: dacbeacccd\n",
      "str32: ecebccdbdb\n",
      "str33: ddbbcedabb\n",
      "str34: aaeabaaeba\n",
      "str35: ecbbcaadcd\n",
      "str36: debccecdbc\n",
      "str37: daacbaeebc\n",
      "str38: adabeaacce\n",
      "str39: daecdbacaa\n",
      "str40: dacbbdcedc\n",
      "str41: dedbeebbde\n",
      "str42: cdadcdcdaa\n",
      "str43: ceedcbaeed\n",
      "str44: ceaecaaaca\n",
      "str45: dcccebbbad\n",
      "str46: baeeaebbde\n",
      "str47: dbdebaccdb\n",
      "str48: ebcbeedaea\n",
      "str49: aeeebbdbca\n",
      "str50: dbdabcecbb\n",
      "\n",
      "--- Solution (of length 34) ---\n",
      "  Sol: dacebdaecdbaecdbecabdebacedabacdeb\n",
      "str01: d-c-b---c----cdb-c------ce--------\n",
      "str02: ----bd---db-e---e----e---e--b--d--\n",
      "str03: --c---a-cd--e---ec---eb--e--------\n",
      "str04: -a-e-d---d----d-----deb---d----d--\n",
      "str05: -ac-b--e----ec----ab----ce--------\n",
      "str06: ----b-----ba---be"
     ]
    },
    {
     "name": "stdout",
     "output_type": "stream",
     "text": [
      "--bd---c---ba----\n",
      "str07: ----b-----bae-----a--eba--da------\n",
      "str08: ---e---e----e---ec-bd-b--e------e-\n",
      "str09: --c-----cd--e---e---d--a--d---cd--\n",
      "str10: ----bda---b---dbe-a----a--d-------\n",
      "str11: ---e-d-e-d-a------a----a-e-a-a----\n",
      "str12: -a----ae---a------ab-e---e-a--c---\n",
      "str13: ---e--a----a---b-ca-----c-----cd-b\n",
      "str14: ----bd-e----e-----a-de-a--d-----e-\n",
      "str15: --c---ae-d-a--d-e----e---ed-------\n",
      "str16: ---eb---c--a--db--ab--b--e--------\n",
      "str17: d----d--c---e---e-abde-a----------\n",
      "str18: da--b---cd----d-e-a--e--c---------\n",
      "str19: -a----a--d---c--e----e----da-a---b\n",
      "str20: -a-e---ec----c--e----e---e-a-a----\n",
      "str21: ----b-----b---d---a--e--c--a-a-de-\n",
      "str22: dace-dae-d-a---b------------------\n",
      "str23: -a----ae---a---b---b--b-----b-c-e-\n",
      "str24: d--e-d----b--c-b-ca----a----b-----\n",
      "str25: d---bda----ae--b---b----c---b-----\n",
      "str26: d--eb--e-db-e--b--a-----c---------\n",
      "str27: --ce---e--b--cd--c-bde------------\n",
      "str28: d---b--e-d-a------a-d--a---ab-----\n",
      "str29: --c-----c----cd--c-b-eb---d---c---\n",
      "str30: -a-e---e---a-cdb-c-bd-------------\n",
      "str31: dac-b--e---a-c---c------c-d-------\n",
      "str32: ---e----c---e--b-c------c-d-b--d-b\n",
      "str33: d----d----b----b-c---e----dab----b\n",
      "str34: -a----ae---a---b--a----a-e--ba----\n",
      "str35: ---e----c-b----b-ca----a--d---cd--\n",
      "str36: d--eb---c----c--ec--d-b-c---------\n",
      "str37: da----a-c-bae---e--b----c---------\n",
      "str38: -a---da---b-e-----a----ac-----c-e-\n",
      "str39: da-e----cdba-c----a----a----------\n",
      "str40: dac-b-----b---d--c---e----d---c---\n",
      "str41: d--e-d----b-e---e--b--b---d-----e-\n",
      "str42: --c--da--d---cd--c--d--a---a------\n",
      "str43: --ce---e-d---c-b--a--e---ed-------\n",
      "str44: --ce--aec--a------a----ac--a------\n",
      "str45: d-c-----c----c--e--b--b-----ba-d--\n",
      "str46: ----b-ae----e-----a--eb-----b--de-\n",
      "str47: d---bd-e--ba-c---c--d-b-----------\n",
      "str48: ---eb---c-b-e---e---d--a-e-a------\n",
      "str49: -a-e---e----e--b---bd-b-c--a------\n",
      "str50: d---bda---b--c--ec-b--b-----------\n",
      "\n",
      "solution is feasible: True\n"
     ]
    }
   ],
   "source": [
    "_instance = instance_05\n",
    "_solution = solution_05\n",
    "\n",
    "util.show(_instance)\n",
    "if _solution is not None:\n",
    "    util.show(_instance, _solution)\n",
    "    print(f\"solution is feasible: {util.is_feasible(_instance, _solution)}\")\n",
    "else:\n",
    "    print(\"--- Solution not found ---\")"
   ]
  },
  {
   "cell_type": "code",
   "execution_count": null,
   "id": "iLit",
   "metadata": {},
   "outputs": [
    {
     "name": "stdout",
     "output_type": "stream",
     "text": [
      "\n",
      "Model:  expressions = 104, decisions = 100, constraints = 0, objectives = 1\n",
      "Param:  time limit = 60 sec, no iteration limit\n",
      "\n",
      "[objective direction ]:     minimize\n",
      "\n",
      "[  0 sec,       0 itr]:           26\n",
      "[ optimality gap     ]:      100.00%\n"
     ]
    },
    {
     "name": "stdout",
     "output_type": "stream",
     "text": [
      "[  1 sec,     687 itr]:           25\n"
     ]
    },
    {
     "name": "stdout",
     "output_type": "stream",
     "text": [
      "[  2 sec,    4523 itr]:           24\n"
     ]
    },
    {
     "name": "stdout",
     "output_type": "stream",
     "text": [
      "[  3 sec,    8295 itr]:           24\n"
     ]
    },
    {
     "name": "stdout",
     "output_type": "stream",
     "text": [
      "[  4 sec,   12133 itr]:           24\n"
     ]
    },
    {
     "name": "stdout",
     "output_type": "stream",
     "text": [
      "[  5 sec,   15938 itr]:           24\n"
     ]
    },
    {
     "name": "stdout",
     "output_type": "stream",
     "text": [
      "[  6 sec,   19639 itr]:           24\n"
     ]
    },
    {
     "name": "stdout",
     "output_type": "stream",
     "text": [
      "[  7 sec,   23468 itr]:           24\n"
     ]
    },
    {
     "name": "stdout",
     "output_type": "stream",
     "text": [
      "[  8 sec,   27357 itr]:           24\n"
     ]
    },
    {
     "name": "stdout",
     "output_type": "stream",
     "text": [
      "[  9 sec,   31171 itr]:           24\n"
     ]
    },
    {
     "name": "stdout",
     "output_type": "stream",
     "text": [
      "[ 10 sec,   34956 itr]:           24\n",
      "[ optimality gap     ]:      100.00%\n"
     ]
    },
    {
     "name": "stdout",
     "output_type": "stream",
     "text": [
      "[ 11 sec,   38627 itr]:           24\n"
     ]
    },
    {
     "name": "stdout",
     "output_type": "stream",
     "text": [
      "[ 12 sec,   42392 itr]:           24\n"
     ]
    },
    {
     "name": "stdout",
     "output_type": "stream",
     "text": [
      "[ 13 sec,   46329 itr]:           24\n"
     ]
    },
    {
     "name": "stdout",
     "output_type": "stream",
     "text": [
      "[ 14 sec,   50147 itr]:           24\n"
     ]
    },
    {
     "name": "stdout",
     "output_type": "stream",
     "text": [
      "[ 15 sec,   53986 itr]:           24\n"
     ]
    },
    {
     "name": "stdout",
     "output_type": "stream",
     "text": [
      "[ 16 sec,   57899 itr]:           24\n"
     ]
    },
    {
     "name": "stdout",
     "output_type": "stream",
     "text": [
      "[ 17 sec,   61808 itr]:           24\n"
     ]
    },
    {
     "name": "stdout",
     "output_type": "stream",
     "text": [
      "[ 18 sec,   65702 itr]:           24\n"
     ]
    },
    {
     "name": "stdout",
     "output_type": "stream",
     "text": [
      "[ 19 sec,   69573 itr]:           24\n"
     ]
    },
    {
     "name": "stdout",
     "output_type": "stream",
     "text": [
      "[ 20 sec,   73470 itr]:           24\n",
      "[ optimality gap     ]:      100.00%\n"
     ]
    },
    {
     "name": "stdout",
     "output_type": "stream",
     "text": [
      "[ 21 sec,   77385 itr]:           24\n"
     ]
    },
    {
     "name": "stdout",
     "output_type": "stream",
     "text": [
      "[ 22 sec,   81250 itr]:           24\n"
     ]
    },
    {
     "name": "stdout",
     "output_type": "stream",
     "text": [
      "[ 23 sec,   85127 itr]:           24\n"
     ]
    },
    {
     "name": "stdout",
     "output_type": "stream",
     "text": [
      "[ 24 sec,   89023 itr]:           24\n"
     ]
    },
    {
     "name": "stdout",
     "output_type": "stream",
     "text": [
      "[ 25 sec,   92882 itr]:           24\n"
     ]
    },
    {
     "name": "stdout",
     "output_type": "stream",
     "text": [
      "[ 26 sec,   96692 itr]:           24\n"
     ]
    },
    {
     "name": "stdout",
     "output_type": "stream",
     "text": [
      "[ 27 sec,  100698 itr]:           24\n"
     ]
    },
    {
     "name": "stdout",
     "output_type": "stream",
     "text": [
      "[ 28 sec,  104546 itr]:           24\n"
     ]
    },
    {
     "name": "stdout",
     "output_type": "stream",
     "text": [
      "[ 29 sec,  108335 itr]:           24\n"
     ]
    },
    {
     "name": "stdout",
     "output_type": "stream",
     "text": [
      "[ 30 sec,  112185 itr]:           24\n",
      "[ optimality gap     ]:      100.00%\n"
     ]
    },
    {
     "name": "stdout",
     "output_type": "stream",
     "text": [
      "[ 31 sec,  116053 itr]:           24\n"
     ]
    },
    {
     "name": "stdout",
     "output_type": "stream",
     "text": [
      "[ 32 sec,  119941 itr]:           24\n"
     ]
    },
    {
     "name": "stdout",
     "output_type": "stream",
     "text": [
      "[ 33 sec,  123762 itr]:           24\n"
     ]
    },
    {
     "name": "stdout",
     "output_type": "stream",
     "text": [
      "[ 34 sec,  127542 itr]:           24\n"
     ]
    },
    {
     "name": "stdout",
     "output_type": "stream",
     "text": [
      "[ 35 sec,  131368 itr]:           24\n"
     ]
    },
    {
     "name": "stdout",
     "output_type": "stream",
     "text": [
      "[ 36 sec,  135169 itr]:           24\n"
     ]
    },
    {
     "name": "stdout",
     "output_type": "stream",
     "text": [
      "[ 37 sec,  139035 itr]:           24\n"
     ]
    },
    {
     "name": "stdout",
     "output_type": "stream",
     "text": [
      "[ 38 sec,  142883 itr]:           24\n"
     ]
    },
    {
     "name": "stdout",
     "output_type": "stream",
     "text": [
      "[ 39 sec,  146782 itr]:           24\n"
     ]
    },
    {
     "name": "stdout",
     "output_type": "stream",
     "text": [
      "[ 40 sec,  150612 itr]:           24\n",
      "[ optimality gap     ]:      100.00%\n"
     ]
    },
    {
     "name": "stdout",
     "output_type": "stream",
     "text": [
      "[ 41 sec,  154314 itr]:           24\n"
     ]
    },
    {
     "name": "stdout",
     "output_type": "stream",
     "text": [
      "[ 42 sec,  158042 itr]:           24\n"
     ]
    },
    {
     "name": "stdout",
     "output_type": "stream",
     "text": [
      "[ 43 sec,  161888 itr]:           24\n"
     ]
    },
    {
     "name": "stdout",
     "output_type": "stream",
     "text": [
      "[ 44 sec,  165719 itr]:           24\n"
     ]
    },
    {
     "name": "stdout",
     "output_type": "stream",
     "text": [
      "[ 45 sec,  169520 itr]:           24\n"
     ]
    },
    {
     "name": "stdout",
     "output_type": "stream",
     "text": [
      "[ 46 sec,  173314 itr]:           24\n"
     ]
    },
    {
     "name": "stdout",
     "output_type": "stream",
     "text": [
      "[ 47 sec,  177210 itr]:           24\n"
     ]
    },
    {
     "name": "stdout",
     "output_type": "stream",
     "text": [
      "[ 48 sec,  181020 itr]:           24\n"
     ]
    },
    {
     "name": "stdout",
     "output_type": "stream",
     "text": [
      "[ 49 sec,  184794 itr]:           24\n"
     ]
    },
    {
     "name": "stdout",
     "output_type": "stream",
     "text": [
      "[ 50 sec,  188495 itr]:           24\n",
      "[ optimality gap     ]:      100.00%\n"
     ]
    },
    {
     "name": "stdout",
     "output_type": "stream",
     "text": [
      "[ 51 sec,  192302 itr]:           24\n"
     ]
    },
    {
     "name": "stdout",
     "output_type": "stream",
     "text": [
      "[ 52 sec,  196058 itr]:           24\n"
     ]
    },
    {
     "name": "stdout",
     "output_type": "stream",
     "text": [
      "[ 53 sec,  199806 itr]:           24\n"
     ]
    },
    {
     "name": "stdout",
     "output_type": "stream",
     "text": [
      "[ 54 sec,  203478 itr]:           24\n"
     ]
    },
    {
     "name": "stdout",
     "output_type": "stream",
     "text": [
      "[ 55 sec,  207233 itr]:           24\n"
     ]
    },
    {
     "name": "stdout",
     "output_type": "stream",
     "text": [
      "[ 56 sec,  210301 itr]:           24\n"
     ]
    },
    {
     "name": "stdout",
     "output_type": "stream",
     "text": [
      "[ 57 sec,  212942 itr]:           24\n"
     ]
    },
    {
     "name": "stdout",
     "output_type": "stream",
     "text": [
      "[ 58 sec,  215503 itr]:           24\n"
     ]
    },
    {
     "name": "stdout",
     "output_type": "stream",
     "text": [
      "[ 59 sec,  217900 itr]:           24\n"
     ]
    },
    {
     "name": "stdout",
     "output_type": "stream",
     "text": [
      "[ 60 sec,  220267 itr]:           24\n",
      "[ optimality gap     ]:      100.00%\n",
      "[ 60 sec,  220267 itr]:           24\n",
      "[ optimality gap     ]:      100.00%\n",
      "\n",
      "220267 iterations performed in 60 seconds\n",
      "\n",
      "Feasible solution: \n",
      "  obj    =           24\n",
      "  gap    =      100.00%\n",
      "  bounds =            0\n"
     ]
    }
   ],
   "source": [
    "instance_06 = util.parse(\"nucleotide_n010k010.txt\")\n",
    "solution_06 = solve(instance_06, log=True)"
   ]
  },
  {
   "cell_type": "code",
   "execution_count": null,
   "id": "ZHCJ",
   "metadata": {},
   "outputs": [
    {
     "name": "stdout",
     "output_type": "stream",
     "text": [
      "--- Condition (with 4 chars) ---\n",
      "str01: ATGGGATACG\n",
      "str02: ATACCTTCCC\n",
      "str03: CACGAATTGA\n",
      "str04: TAAAATCTGT\n",
      "str05: AGGTAACAAA\n",
      "str06: TTCCTAGGTA\n",
      "str07: TTGTAGATCT\n",
      "str08: TGGGAAGTTC\n",
      "str09: TTCCACAACT\n",
      "str10: TCTAAACGAA\n",
      "\n",
      "--- Solution (of length 24) ---\n",
      "  Sol: TATGCGTACGACTATCGTACGTAC\n",
      "str01: -ATG-G---GA-TA-CG-------\n",
      "str02: -AT----AC--CT-TC---C---C\n",
      "str03: ----C--ACGA--AT--T--G-A-\n",
      "str04: TA-----A--A--ATC-T--GT--\n",
      "str05: -A-G-GTA--AC-A----A---A-\n",
      "str06: T-T-C---C---TA--G---GTA-\n",
      "str07: T-TG--TA-GA-T--C-T------\n",
      "str08: T--G-G---GA--A--GT---T-C\n",
      "str09: T-T-C---C-AC-A----AC-T--\n",
      "str10: T---C-TA--A--A-CG-A---A-\n",
      "\n",
      "solution is feasible: True\n"
     ]
    }
   ],
   "source": [
    "_instance = instance_06\n",
    "_solution = solution_06\n",
    "\n",
    "util.show(_instance)\n",
    "if _solution is not None:\n",
    "    util.show(_instance, _solution)\n",
    "    print(f\"solution is feasible: {util.is_feasible(_instance, _solution)}\")\n",
    "else:\n",
    "    print(\"--- Solution not found ---\")"
   ]
  },
  {
   "cell_type": "code",
   "execution_count": null,
   "id": "ROlb",
   "metadata": {},
   "outputs": [
    {
     "name": "stdout",
     "output_type": "stream",
     "text": [
      "\n",
      "Model:  expressions = 2504, decisions = 2500, constraints = 0, objectives = 1\n",
      "Param:  time limit = 60 sec, no iteration limit\n",
      "\n",
      "[objective direction ]:     minimize\n",
      "\n",
      "[  0 sec,       0 itr]:          146\n",
      "[ optimality gap     ]:      100.00%\n"
     ]
    },
    {
     "name": "stdout",
     "output_type": "stream",
     "text": [
      "[  1 sec,      92 itr]:          139\n"
     ]
    },
    {
     "name": "stdout",
     "output_type": "stream",
     "text": [
      "[  2 sec,     268 itr]:          139\n"
     ]
    },
    {
     "name": "stdout",
     "output_type": "stream",
     "text": [
      "[  3 sec,     453 itr]:          139\n"
     ]
    },
    {
     "name": "stdout",
     "output_type": "stream",
     "text": [
      "[  4 sec,     619 itr]:          139\n"
     ]
    },
    {
     "name": "stdout",
     "output_type": "stream",
     "text": [
      "[  5 sec,     790 itr]:          139\n"
     ]
    },
    {
     "name": "stdout",
     "output_type": "stream",
     "text": [
      "[  6 sec,     958 itr]:          139\n"
     ]
    },
    {
     "name": "stdout",
     "output_type": "stream",
     "text": [
      "[  7 sec,    1145 itr]:          139\n"
     ]
    },
    {
     "name": "stdout",
     "output_type": "stream",
     "text": [
      "[  8 sec,    1290 itr]:          139\n"
     ]
    },
    {
     "name": "stdout",
     "output_type": "stream",
     "text": [
      "[  9 sec,    1458 itr]:          139\n"
     ]
    },
    {
     "name": "stdout",
     "output_type": "stream",
     "text": [
      "[ 10 sec,    1629 itr]:          139\n",
      "[ optimality gap     ]:      100.00%\n"
     ]
    },
    {
     "name": "stdout",
     "output_type": "stream",
     "text": [
      "[ 11 sec,    1814 itr]:          139\n"
     ]
    },
    {
     "name": "stdout",
     "output_type": "stream",
     "text": [
      "[ 12 sec,    1999 itr]:          139\n"
     ]
    },
    {
     "name": "stdout",
     "output_type": "stream",
     "text": [
      "[ 13 sec,    2161 itr]:          139\n"
     ]
    },
    {
     "name": "stdout",
     "output_type": "stream",
     "text": [
      "[ 14 sec,    2316 itr]:          139\n"
     ]
    },
    {
     "name": "stdout",
     "output_type": "stream",
     "text": [
      "[ 15 sec,    2478 itr]:          139\n"
     ]
    },
    {
     "name": "stdout",
     "output_type": "stream",
     "text": [
      "[ 16 sec,    2656 itr]:          139\n"
     ]
    },
    {
     "name": "stdout",
     "output_type": "stream",
     "text": [
      "[ 17 sec,    2834 itr]:          139\n"
     ]
    },
    {
     "name": "stdout",
     "output_type": "stream",
     "text": [
      "[ 18 sec,    3016 itr]:          139\n"
     ]
    },
    {
     "name": "stdout",
     "output_type": "stream",
     "text": [
      "[ 19 sec,    3178 itr]:          139\n"
     ]
    },
    {
     "name": "stdout",
     "output_type": "stream",
     "text": [
      "[ 20 sec,    3348 itr]:          139\n",
      "[ optimality gap     ]:      100.00%\n"
     ]
    },
    {
     "name": "stdout",
     "output_type": "stream",
     "text": [
      "[ 21 sec,    3519 itr]:          139\n"
     ]
    },
    {
     "name": "stdout",
     "output_type": "stream",
     "text": [
      "[ 22 sec,    3688 itr]:          139\n"
     ]
    },
    {
     "name": "stdout",
     "output_type": "stream",
     "text": [
      "[ 23 sec,    3866 itr]:          139\n"
     ]
    },
    {
     "name": "stdout",
     "output_type": "stream",
     "text": [
      "[ 24 sec,    4028 itr]:          138\n"
     ]
    },
    {
     "name": "stdout",
     "output_type": "stream",
     "text": [
      "[ 25 sec,    4208 itr]:          138\n"
     ]
    },
    {
     "name": "stdout",
     "output_type": "stream",
     "text": [
      "[ 26 sec,    4370 itr]:          138\n"
     ]
    },
    {
     "name": "stdout",
     "output_type": "stream",
     "text": [
      "[ 27 sec,    4553 itr]:          138\n"
     ]
    },
    {
     "name": "stdout",
     "output_type": "stream",
     "text": [
      "[ 28 sec,    4733 itr]:          138\n"
     ]
    },
    {
     "name": "stdout",
     "output_type": "stream",
     "text": [
      "[ 29 sec,    4913 itr]:          138\n"
     ]
    },
    {
     "name": "stdout",
     "output_type": "stream",
     "text": [
      "[ 30 sec,    5087 itr]:          138\n",
      "[ optimality gap     ]:      100.00%\n"
     ]
    },
    {
     "name": "stdout",
     "output_type": "stream",
     "text": [
      "[ 31 sec,    5264 itr]:          138\n"
     ]
    },
    {
     "name": "stdout",
     "output_type": "stream",
     "text": [
      "[ 32 sec,    5450 itr]:          138\n"
     ]
    },
    {
     "name": "stdout",
     "output_type": "stream",
     "text": [
      "[ 33 sec,    5630 itr]:          138\n"
     ]
    },
    {
     "name": "stdout",
     "output_type": "stream",
     "text": [
      "[ 34 sec,    5800 itr]:          138\n"
     ]
    },
    {
     "name": "stdout",
     "output_type": "stream",
     "text": [
      "[ 35 sec,    5974 itr]:          138\n"
     ]
    },
    {
     "name": "stdout",
     "output_type": "stream",
     "text": [
      "[ 36 sec,    6142 itr]:          138\n"
     ]
    },
    {
     "name": "stdout",
     "output_type": "stream",
     "text": [
      "[ 37 sec,    6316 itr]:          138\n"
     ]
    },
    {
     "name": "stdout",
     "output_type": "stream",
     "text": [
      "[ 38 sec,    6496 itr]:          138\n"
     ]
    },
    {
     "name": "stdout",
     "output_type": "stream",
     "text": [
      "[ 39 sec,    6676 itr]:          138\n"
     ]
    },
    {
     "name": "stdout",
     "output_type": "stream",
     "text": [
      "[ 40 sec,    6856 itr]:          138\n",
      "[ optimality gap     ]:      100.00%\n"
     ]
    },
    {
     "name": "stdout",
     "output_type": "stream",
     "text": [
      "[ 41 sec,    7030 itr]:          138\n"
     ]
    },
    {
     "name": "stdout",
     "output_type": "stream",
     "text": [
      "[ 42 sec,    7203 itr]:          138\n"
     ]
    },
    {
     "name": "stdout",
     "output_type": "stream",
     "text": [
      "[ 43 sec,    7380 itr]:          138\n"
     ]
    },
    {
     "name": "stdout",
     "output_type": "stream",
     "text": [
      "[ 44 sec,    7535 itr]:          138\n"
     ]
    },
    {
     "name": "stdout",
     "output_type": "stream",
     "text": [
      "[ 45 sec,    7722 itr]:          138\n"
     ]
    },
    {
     "name": "stdout",
     "output_type": "stream",
     "text": [
      "[ 46 sec,    7897 itr]:          138\n"
     ]
    },
    {
     "name": "stdout",
     "output_type": "stream",
     "text": [
      "[ 47 sec,    8064 itr]:          138\n"
     ]
    },
    {
     "name": "stdout",
     "output_type": "stream",
     "text": [
      "[ 48 sec,    8228 itr]:          138\n"
     ]
    },
    {
     "name": "stdout",
     "output_type": "stream",
     "text": [
      "[ 49 sec,    8410 itr]:          138\n"
     ]
    },
    {
     "name": "stdout",
     "output_type": "stream",
     "text": [
      "[ 50 sec,    8572 itr]:          138\n",
      "[ optimality gap     ]:      100.00%\n"
     ]
    },
    {
     "name": "stdout",
     "output_type": "stream",
     "text": [
      "[ 51 sec,    8741 itr]:          138\n"
     ]
    },
    {
     "name": "stdout",
     "output_type": "stream",
     "text": [
      "[ 52 sec,    8904 itr]:          138\n"
     ]
    },
    {
     "name": "stdout",
     "output_type": "stream",
     "text": [
      "[ 53 sec,    9057 itr]:          138\n"
     ]
    },
    {
     "name": "stdout",
     "output_type": "stream",
     "text": [
      "[ 54 sec,    9229 itr]:          138\n"
     ]
    },
    {
     "name": "stdout",
     "output_type": "stream",
     "text": [
      "[ 55 sec,    9414 itr]:          138\n"
     ]
    },
    {
     "name": "stdout",
     "output_type": "stream",
     "text": [
      "[ 56 sec,    9602 itr]:          138\n"
     ]
    },
    {
     "name": "stdout",
     "output_type": "stream",
     "text": [
      "[ 57 sec,    9761 itr]:          138\n"
     ]
    },
    {
     "name": "stdout",
     "output_type": "stream",
     "text": [
      "[ 58 sec,    9932 itr]:          138\n"
     ]
    },
    {
     "name": "stdout",
     "output_type": "stream",
     "text": [
      "[ 59 sec,   10101 itr]:          138\n"
     ]
    },
    {
     "name": "stdout",
     "output_type": "stream",
     "text": [
      "[ 60 sec,   10273 itr]:          138\n",
      "[ optimality gap     ]:      100.00%\n",
      "[ 60 sec,   10273 itr]:          138\n",
      "[ optimality gap     ]:      100.00%\n",
      "\n",
      "10273 iterations performed in 60 seconds\n",
      "\n",
      "Feasible solution: \n",
      "  obj    =          138\n",
      "  gap    =      100.00%\n",
      "  bounds =            0\n"
     ]
    }
   ],
   "source": [
    "instance_07 = util.parse(\"nucleotide_n050k050.txt\")\n",
    "solution_07 = solve(instance_07, log=True)"
   ]
  },
  {
   "cell_type": "code",
   "execution_count": null,
   "id": "qnkX",
   "metadata": {},
   "outputs": [
    {
     "name": "stdout",
     "output_type": "stream",
     "text": [
      "--- Condition (with 5 chars) ---\n",
      "str01: TAGTAGTAGACTCCGGAAGTGACAAACCCTGAAAAGAATGGATAAATATA\n",
      "str02: GGATAAACACTCCCGAAAATAATTTGACTTAAACAACGCGACAGTTCAAG\n",
      "str03: ATACCTTCCTAGGTAACAAACCAACCAACTTTTGATCTCTTGTAGATCTG\n",
      "str04: TAAATTATAATCTTATACTAGTAAAAAATAGGGTGTAACCGAAAACGGTC\n",
      "str05: TTAAAACAGCCTGTGGGTTGCACCCACTCACAGGGCCCACTGGGCGCAAG\n",
      "str06: ATGACTTCCAATGGATCCCAACCTCAAGCTTCCACCCCAATGGTTTCAGC\n",
      "str07: AACAAACCAACCAACTTTTGATCTCTTGTAGATCTGTTCTCTAAACGAAC\n",
      "str08: ATGAAAACGAAAATTATTATCAAGGGTATGGAAGTGGAAGCTGACGAAAT\n",
      "str09: ACTCGGCTGCATGCTTAGTGCACTCACGCAGTATAATTAATAACTAATTA\n",
      "str10: TTGTAGATCTGTTCTCTAAACGAACTTTAAAATCTGTGTGGCTGTCACTC\n",
      "str11: GCAGAGCATTTTCTAATATCCACAAAATGAAGGCAATAATTGTACTACTC\n",
      "str12: ATGAGCCAAGATCCGACGAAGAGCCCCAAGGAGGAGAAGGAGGGACCCCC\n",
      "str13: TCTCACAGTTCAAGAACCCAAAGTACCCCCCATAGCCCTCTTAAAGCCAC\n",
      "str14: AGGTTTATACCTTCCTAGGTAACAAACCAACCAACTTTCGATCTCTTGTA\n",
      "str15: AGGTTTATACCTTCCCAGGTAACAAACCAACCAACTTTCGATCTCTTGTA\n",
      "str16: TAAAACAACTCAATACAACATAAGAAAATCAACGCAAAAACACTCACAAA\n",
      "str17: CCGCCCATTTGGGCGGCTCTCGAGCGATAGCTCGTCGAATCCCTCGACCT\n",
      "str18: ATACCTTCCCAGGTAACAAACCAACCAACTTTCGATCTCTTGTAGATCTG\n",
      "str19: TCTCACAGTTCAAGAACCTCAAGTCTCCCCCATAGGCCTCTTTCAGTCAG\n",
      "str20: GATCTCTCTCACCGAACCTGGCCCCGGGCAAATGCCCTAATCCAGAGGTG\n",
      "str21: AGAGCAATCAGTGCATCAGAAATATACCTATTATACACTTTGCTAAGAAT\n",
      "str22: AATTAAAACATCTCAATACAACATAAGAAAAACAACGCAAAAACACTCAT\n",
      "str23: AAACGAACTTTAAAATCTGTGTGGCTGTCACTCGGCTGCATGCTTAGTGC\n",
      "str24: ATAACTAATTACTGTCGTTGACAGGACACGAGTAACTCGTCTATCTTCTG\n",
      "str25: ATGAGTGTCACGAATTCACGTACAATGAACTGGATGTTCACGTGGAATAA\n",
      "str26: ACCGTGGGCGAGCGGTGACCGGTGTCTTCCTAGTGGGTCCCACGTTGAAR\n",
      "str27: AAAGGTTTATACCTTCCCAGGTAACAAACCAACCAACTTTCGATCTCTTG\n",
      "str28: AGTAGTTCGCCTGTGTGAGCTGACAAACTTAGTAGTGTTTGTGAGGATTA\n",
      "str29: TTTATACCTTCCTAGGTAACAAACCAACCAACTTTCGATCTCTTGTAGAT\n",
      "str30: ATGCGGTCGTCTCTCCCCGGCTTTTTTTCCCCGCGCCGCGTTGGCGCCGA\n",
      "str31: GTGACAAAAACATAATGGACTCCAACACCATGTCAAGCTTTCAGGTAGAC\n",
      "str32: GTGTAAGAAACAGTAAGCCCGGAAGTGGTGTTTTGCGATTTCGAGGCCGG\n",
      "str33: GAGAATGAGTCTCATTACCGCCCGGTACTTAGCAAGCTAATAGTCACGGC\n",
      "str34: ATGTGGTCGATGCCATGGAGGCCCACCAGTTCATTAAGGCTCCTGGCATT\n",
      "str35: ACGAGCGTTTTAAGGGCCCGCGACTGCGACGGCCACATGGCCCTGTATGT\n",
      "str36: GGTTTATACCTTCCCAGGTAACAAACCAACCAACTTTCGATCTCTTGTAG\n",
      "str37: TGGGAAGTTCCAAAAGATCACAAAACACTACCAGTCAACCTGAAGTACAC\n",
      "str38: GAAGCGTTAACGTGTTGAGGAAAAGACAGCTTAGGAGAACAAGAGCTGGG\n",
      "str39: ACCAGCGCACTTCGGCAGCGGCAGCACCTCGGCAGCACCTCAGCAGCAAC\n",
      "str40: ATGGGACAACTTATTCCTATCATGTGCCAAGAGGTTTTACCCGGTGACCA\n",
      "str41: TTGTAGATCTGTTCTCTAAACGAACTTTAAAATCTGTGTGGTTGTCACTC\n",
      "str42: AACCAACCAACTTTCGATCTCTTGTAGATCTGTTCTCTAAACGAACTTTA\n",
      "str43: GGGTTCTGCCAGGCATAGTCTTTTTTTCTGGCGGCCCTTGTGTAAACCTG\n",
      "str44: GGCTGCATGCTTAGTGCACTCACGCAGTATAATTAATAACTAATTACTGT\n",
      "str45: TGCATGCTTAGTGCACTCACGCAGTATAATTAATAACTAATTACTGTCGT\n",
      "str46: TTCCACAACTTTCCACCAAGCTCTGCAAGATCCCAGAGTCAGGGGCCTGT\n",
      "str47: TCTAAACGAACTTTAAAATCTGTGTGGCTGTCACTCGGCTGCATGCTTAG\n",
      "str48: ACCGGATGGCCGCGATTTTTCGGAGTCCTTGGGGGACCACTCAGAATAGA\n",
      "str49: CTTGTAGATCTGTTCTCTAAACGAACTTTAAAATCTGTGTGGCTGTCACT\n",
      "str50: ATGAGCACTAAGCGAAGAACCAAAAAGCAGACAATACAACCCGCTATTAC\n",
      "\n",
      "--- Solution (of length 138) ---\n",
      "  Sol: ATGACGTACGTACAGTCATCAGCTACTGATCGTCATGACGATCAGTCAGACTACGTACAGCATCAGTACTGATCAGTCAGTCATGCATCGACTGCATGATCGTACTGACTACTGACTCAGTACGACTAGTCGACRTGT\n",
      "str01: -T-A-GTA-GTA--G--A-C---T-C----CG----GA--A---GT--GAC-A---A-A-C--C----CTGA--A---A---A-G-A---A-TG---GAT---A---A--A-T-A-T-A-------------------\n",
      "str02: --G--G-A--TA-A---A-CA-CT-C----C--C--GA--A--A---A---TA---A-----T---T--TGA-C--T---T-A---A---AC---A--A-CG--C-GAC-A--G--T---T-C-A--AG---------\n",
      "str03: AT-AC---C-T----TC--C---TA--G---GT-A--AC-A--A---A--C--C--A-A-C--CA--ACT--T---T---T---G-ATC---T-C-T--T-GTA--GA-T-CTG------------------------\n",
      "str04: -T-A---A---A---T--T-A--TA---ATC-T--T-A---T-A--C----TA-GTA-A--A--A--A---AT-AG---G----G--T-G--T--A--A-C---C-GA--A---A---A---CG----GTC-------\n",
      "str05: -T----TA---A-A---A-CAGC--CTG-T-G----G--G-T---T--G-C-AC---C--CA-C--T-C--A-CAG---G----GC--C--C---A----C-T---G------G-----G--CG-C-A----A---G-\n",
      "str06: ATGAC-T---T-C---CA--A--T---G---G--AT--C---C---CA-AC--C-T-CA--A---G--CT--TC---CA--C---C--C--C---A--AT-G----G--T--T---TCAG--C---------------\n",
      "str07: A--AC--A---A-A--C--CA---AC----C---A--AC--T---T-----T---T---G-ATC--T-CT--T--GT-AG--AT-C-T-G--T---T---C-T-CT-A--A---AC---G-A--AC------------\n",
      "str08: ATGA---A---A-A--C----G--A---A-----A--A---T---T-A---T---TA-----TCA--A--G----G---GT-ATG----GA----A-G-T-G----GA--A--G-CT--G-ACGA--A----A--T--\n",
      "str09: A---C-T-CG----G-C-T--GC-A-TG--C-T--T-A-G-T--G-CA--CT-C--AC-GCA---GTA-T-A--A-T---T-A---AT--A----A----C-TA---A-T--T-A-----------------------\n",
      "str10: -T----T--GTA--G--ATC---T---G-T--TC-T--C--T-A---A-AC---G-A-A-C-T---T--T-A--A---A---AT-C-T-G--TG--TG---G--CTG--T-C--ACTC--------------------\n",
      "str11: --G-C--A-G-A--G-CAT--"
     ]
    },
    {
     "name": "stdout",
     "output_type": "stream",
     "text": [
      "--T--T--TC-T-A--A---T-A-TC---C-AC--A-A--A--A-T---GA--AG---G-CA---AT--A----AT--T-GTACT-ACT-C--------------------------\n",
      "str12: ATGA-G--C---CA---A---G--A-T---C--C--GACGA--AG--AG-C--C---C--CA--AG----GA---G---G--A-G-A---A--G---GA--G----G------GAC-C----C--C----C-------\n",
      "str13: -T--C-T-C--ACAGT--TCA---A--GA-----A---C---C---CA-A--A-GTAC--C--C----C----C---CA-T-A-GC--C--CT-C-T--T---A---A--A--G-C-CA---C---------------\n",
      "str14: A-G--GT---T----T-AT-A-C--CT--TC--C-T-A-G----GT-A-AC-A---A-A-C--CA--AC----CA---A--C-T---T----T-C--GATC-T-CT---T---G--T-A-------------------\n",
      "str15: A-G--GT---T----T-AT-A-C--CT--TC--C----C-A---G---G--TA---ACA--A--A---C----CA---A--C---CA---ACT---T--TCG-A-T--CT-CT---T--GTA----------------\n",
      "str16: -T-A---A---A-A--CA--A-CT-C--A-----AT-AC-A--A--CA---TA---A--G-A--A--A---ATCA---A--C--GCA---A----A--A----AC--ACT-C--AC--A--A--A-------------\n",
      "str17: ----C---CG--C---C--CA--T--T--T-G----G--G--C-G---G-CT-C-T-C-G-A---G--C-GAT-AG-C--TC--G--TCGA----AT---C---C---CT-C-GAC-C--T-----------------\n",
      "str18: AT-AC---C-T----TC--C--C-A--G---GT-A--AC-A--A---A--C--C--A-A-C--CA--ACT--T---TC-G--AT-C-TC---T---TG-T---A--GA-T-CTG------------------------\n",
      "str19: -T--C-T-C--ACAGT--TCA---A--GA-----A---C---C--TCA-A----GT-C----TC----C----C---C---CAT--A--G---GC-----C-T-CT---T--T--C--AGT-C-A---G---------\n",
      "str20: --GA--T-C-T-C--TC-TCA-C--C-GA-----A---C---C--T--G-----G--C--C--C----C-G----G---G-CA---A---A-TGC-----C---CT-A--A-T--C-CAG-A-G----GT-G------\n",
      "str21: A-GA-G--C--A-A-TCA---G-T---G--C---AT--C-A---G--A-A--A--TA-----T-A---C----C--T-A-T--T--AT--AC---A----C-T--T---T---G-CT-A--A-GA--A-T--------\n",
      "str22: A--A--T---TA-A---A--A-C-A-T---C-TCA--A---T-A--CA-AC-A--TA-AG-A--A--A---A--A--CA---A--C---G-C---A--A----A---A--AC--ACTCA-T-----------------\n",
      "str23: A--A---ACG-A-A--C-T----T--T-A-----A--A--ATC--T--G--T--GT---G-----G--CTG-TCA--C--TC--G----G-CTGCATG--C-T--T-A-----G--T--G--C---------------\n",
      "str24: AT-A---AC-TA-A-T--T-A-CT---G-TCGT--TGAC-A---G---GAC-ACG-A--G--T-A--ACT---C-GTC--T-AT-C-T----T-C-TG----------------------------------------\n",
      "str25: ATGA-GT--GT-CA--C----G--A---AT--TCA---CG-T-A--CA-A-T--G-A-A-C-T--G----GAT--GT---TCA--C---G--TG---GA----A-T-A--A---------------------------\n",
      "str26: A---C---CGT---G------G-----G--CG--A-G-CG----GT--GAC--CG----G--T--GT-CT--TC---C--T-A-G--T-G---G---G-TC---C---C-AC-G--T---T--GA--A------R---\n",
      "str27: A--A---A-G----GT--T----TA-T-A-C--C-T-----TC---C---C-A-G----G--T-A--AC--A--A---A--C---CA---AC--CA--A-C-T--T---T-C-GA-TC--T-C---T--T-G------\n",
      "str28: A-G---TA-GT----TC----GC--CTG-T-GT---GA-G--C--T--GAC-A---A-A-C-T---TA--G-T-AGT--GT--T---T-G--TG-A-G---G-A-T---TA---------------------------\n",
      "str29: -T----T---TA---T-A-C--CT--T---C--C-T-A-G----GT-A-AC-A---A-A-C--CA--AC----CA---A--C-T---T----T-C--GATC-T-CT---T---G--T-AG-A----T-----------\n",
      "str30: ATG-CG---GT-C-GTC-TC---T-C----C--C----CG----G-C----T---T------T---T--T--T---TC---C---C--CG-C-GC-----CG--C-G--T--TG-----G--CG-C----CGA-----\n",
      "str31: --G---T--G-ACA---A--A---A---A-C---AT-A--AT--G---GACT-C---CA--A-CA---C----CA-T--GTCA---A--G-CT---T--TC--A--G------G--T-AG-AC---------------\n",
      "str32: --G---T--GTA-AG--A--A---AC--A--GT-A--A-G--C---C---C---G----G-A--AGT---G----GT--GT--T---T----TGC--GAT--T--T--C----GA----G---G-C----CG----G-\n",
      "str33: --GA-G-A---A---T-----G--A--G-TC-TCAT-----T-A--C---C---G--C--C--C-G----G-T-A--C--T--T--A--G-C---A--A--G--CT-A--A-T-A----GT-C-AC--G--G-C----\n",
      "str34: ATG---T--G----GTC----G--A-TG--C--CATG--GA---G---G-C--C---CA-C--CAGT--T---CA-T---T-A---A--G---GC-T---C---CTG------G-C--A-T-----T-----------\n",
      "str35: A---CG-A-G--C-GT--T----T--T-A-----A-G--G----G-C---C--CG--C-G-A-C--T---G--C-G--A--C--G----G-C--CA----C--A-TG------G-C-C----C---T-GT--A--TGT\n",
      "str36: --G--GT---T----T-AT-A-C--CT--TC--C----C-A---G---G--TA---ACA--A--A---C----CA---A--C---CA---ACT---T--TCG-A-T--CT-CT---T--GTA-G--------------\n",
      "str37: -TG--G---G-A-AGT--TC--C-A---A-----A--A-GATCA--CA-A--A---ACA-C-T-A---C----CAGTCA---A--C--C---TG-A--A--GTAC--AC-----------------------------\n",
      "str38: --GA---A-G--C-GT--T-A---AC-G-T-GT--TGA-G----G--A-A--A---A--G-A-CAG--CT--T-AG---G--A-G-A---AC---A--A--G-A--G-CT---G-----G---G--------------\n",
      "str39: A---C---C--A--G-C----GC-ACT--TCG----G-C-A---G-C-G-----G--CAGCA-C----CT---C-G---G-CA-GCA-C--CT-CA-G--C--A--G-C-A---AC----------------------\n",
      "str40: ATG--G---G-ACA---A-C---T--T-AT--TC----C--T-A-TCA---T--GT---GC--CA--A--GA---G---GT--T---T----T--A----C---C---C----G-----GT--GAC----C-A-----\n",
      "str41: -T----T--GTA--G--ATC---T---G-T--TC-T--C--T-A---A-AC---G-A-A-C-T---T--T-A--A---A---AT-C-T-G--TG--TG---GT--TG--T-C--ACTC--------------------\n",
      "str42: A--AC---C--A-A--C--CA---ACT--T--TC--GA---TC--TC----T---T---G--T-AG-A-T---C--T--GT--T-C-TC---T--A--A----AC-GA--ACT---T---TA----------------\n",
      "str43: --G--G---GT----TC-T--GC--C--A--G----G-C-AT-AGTC----T---T------T---T--T--T---TC--T---G----G-C-G---G--C---C---CT--TG--T--GTA--A--A--C--C-TG-\n",
      "str44: --G--G--C-T---G-CAT--GCT--T-A--GT---G-C-A-C--TCA--C---G--CAG--T-A-TA---AT---T-A---AT--A---ACT--A--AT--TACTG--T----------------------------\n",
      "str45: -TG-C--A--T---G-C-T----TA--G-T-G-CA---C--TCA--C-G-C-A-GTA-----T-A--A-T--T-A---A-T-A---A-C---T--A--AT--TACTG--T-C-G--T---------------------\n",
      "str46: -T----T-C---CA--CA--A-CT--T--TC--CA---C---CA---AG-CT-C-T---GCA--AG-A-T---C---C---CA-G-A--G--T-CA-G---G----G------G-C-C--T--G--T-----------\n",
      "str47: -T--C-TA---A-A--C----G--A---A-C-T--T-----T-A---A-A--A--T-C----T--GT---G-T--G---G-C-TG--TC-ACT-C--G---G--CTG-C-A-TG-CT---TA-G--------------\n",
      "str48: A---C---CG----G--AT--G-----G--C--C--G-CGAT---T-----T---T------TC-G----GA---GTC---C-T---T-G---G---G---G----GAC--C--ACTCAG-A--A-TAG---A-----\n",
      "str49: ----C-T---T---GT-A---G--A-T---C-T---G----T---TC----T-C-TA-A--A-C-G-A---A-C--T---T--T--A---A----A--ATC-T---G--T---G--T--G---G-CT-GTC-AC-T--\n",
      "str50: ATGA-G--C--AC--T-A--AGC----GA-----A-GA--A-C---CA-A--A---A-AGCA---G-AC--A--A-T-A--CA---A-C--C--C--G--C-TA-T---TAC--------------------------\n",
      "\n",
      "solution is feasible: True\n"
     ]
    }
   ],
   "source": [
    "_instance = instance_07\n",
    "_solution = solution_07\n",
    "\n",
    "util.show(_instance)\n",
    "if _solution is not None:\n",
    "    util.show(_instance, _solution)\n",
    "    print(f\"solution is feasible: {util.is_feasible(_instance, _solution)}\")\n",
    "else:\n",
    "    print(\"--- Solution not found ---\")"
   ]
  },
  {
   "cell_type": "code",
   "execution_count": null,
   "id": "TqIu",
   "metadata": {},
   "outputs": [
    {
     "name": "stdout",
     "output_type": "stream",
     "text": [
      "\n",
      "Model:  expressions = 104, decisions = 100, constraints = 0, objectives = 1\n",
      "Param:  time limit = 60 sec, no iteration limit\n",
      "\n",
      "[objective direction ]:     minimize\n",
      "\n",
      "[  0 sec,       0 itr]:           57\n",
      "[ optimality gap     ]:      100.00%\n"
     ]
    },
    {
     "name": "stdout",
     "output_type": "stream",
     "text": [
      "[  1 sec,     455 itr]:           51\n"
     ]
    },
    {
     "name": "stdout",
     "output_type": "stream",
     "text": [
      "[  2 sec,    1157 itr]:           48\n"
     ]
    },
    {
     "name": "stdout",
     "output_type": "stream",
     "text": [
      "[  3 sec,    1716 itr]:           47\n"
     ]
    },
    {
     "name": "stdout",
     "output_type": "stream",
     "text": [
      "[  4 sec,    2323 itr]:           47\n"
     ]
    },
    {
     "name": "stdout",
     "output_type": "stream",
     "text": [
      "[  5 sec,    2921 itr]:           46\n"
     ]
    },
    {
     "name": "stdout",
     "output_type": "stream",
     "text": [
      "[  6 sec,    3568 itr]:           46\n"
     ]
    },
    {
     "name": "stdout",
     "output_type": "stream",
     "text": [
      "[  7 sec,    4260 itr]:           46\n"
     ]
    },
    {
     "name": "stdout",
     "output_type": "stream",
     "text": [
      "[  8 sec,    4916 itr]:           46\n"
     ]
    },
    {
     "name": "stdout",
     "output_type": "stream",
     "text": [
      "[  9 sec,    5660 itr]:           46\n"
     ]
    },
    {
     "name": "stdout",
     "output_type": "stream",
     "text": [
      "[ 10 sec,    6446 itr]:           46\n",
      "[ optimality gap     ]:      100.00%\n"
     ]
    },
    {
     "name": "stdout",
     "output_type": "stream",
     "text": [
      "[ 11 sec,    7249 itr]:           46\n"
     ]
    },
    {
     "name": "stdout",
     "output_type": "stream",
     "text": [
      "[ 12 sec,    8110 itr]:           46\n"
     ]
    },
    {
     "name": "stdout",
     "output_type": "stream",
     "text": [
      "[ 13 sec,    8971 itr]:           46\n"
     ]
    },
    {
     "name": "stdout",
     "output_type": "stream",
     "text": [
      "[ 14 sec,    9730 itr]:           46\n"
     ]
    },
    {
     "name": "stdout",
     "output_type": "stream",
     "text": [
      "[ 15 sec,   10523 itr]:           46\n"
     ]
    },
    {
     "name": "stdout",
     "output_type": "stream",
     "text": [
      "[ 16 sec,   11366 itr]:           46\n"
     ]
    },
    {
     "name": "stdout",
     "output_type": "stream",
     "text": [
      "[ 17 sec,   12172 itr]:           46\n"
     ]
    },
    {
     "name": "stdout",
     "output_type": "stream",
     "text": [
      "[ 18 sec,   12980 itr]:           46\n"
     ]
    },
    {
     "name": "stdout",
     "output_type": "stream",
     "text": [
      "[ 19 sec,   13743 itr]:           46\n"
     ]
    },
    {
     "name": "stdout",
     "output_type": "stream",
     "text": [
      "[ 20 sec,   14530 itr]:           46\n",
      "[ optimality gap     ]:      100.00%\n"
     ]
    },
    {
     "name": "stdout",
     "output_type": "stream",
     "text": [
      "[ 21 sec,   15295 itr]:           46\n"
     ]
    },
    {
     "name": "stdout",
     "output_type": "stream",
     "text": [
      "[ 22 sec,   16058 itr]:           46\n"
     ]
    },
    {
     "name": "stdout",
     "output_type": "stream",
     "text": [
      "[ 23 sec,   16854 itr]:           46\n"
     ]
    },
    {
     "name": "stdout",
     "output_type": "stream",
     "text": [
      "[ 24 sec,   17620 itr]:           46\n"
     ]
    },
    {
     "name": "stdout",
     "output_type": "stream",
     "text": [
      "[ 25 sec,   18379 itr]:           46\n"
     ]
    },
    {
     "name": "stdout",
     "output_type": "stream",
     "text": [
      "[ 26 sec,   19203 itr]:           45\n"
     ]
    },
    {
     "name": "stdout",
     "output_type": "stream",
     "text": [
      "[ 27 sec,   20027 itr]:           45\n"
     ]
    },
    {
     "name": "stdout",
     "output_type": "stream",
     "text": [
      "[ 28 sec,   20815 itr]:           45\n"
     ]
    },
    {
     "name": "stdout",
     "output_type": "stream",
     "text": [
      "[ 29 sec,   21644 itr]:           45\n"
     ]
    },
    {
     "name": "stdout",
     "output_type": "stream",
     "text": [
      "[ 30 sec,   22493 itr]:           45\n",
      "[ optimality gap     ]:      100.00%\n"
     ]
    },
    {
     "name": "stdout",
     "output_type": "stream",
     "text": [
      "[ 31 sec,   23339 itr]:           45\n"
     ]
    },
    {
     "name": "stdout",
     "output_type": "stream",
     "text": [
      "[ 32 sec,   24125 itr]:           45\n"
     ]
    },
    {
     "name": "stdout",
     "output_type": "stream",
     "text": [
      "[ 33 sec,   24958 itr]:           45\n"
     ]
    },
    {
     "name": "stdout",
     "output_type": "stream",
     "text": [
      "[ 34 sec,   25790 itr]:           45\n"
     ]
    },
    {
     "name": "stdout",
     "output_type": "stream",
     "text": [
      "[ 35 sec,   26618 itr]:           45\n"
     ]
    },
    {
     "name": "stdout",
     "output_type": "stream",
     "text": [
      "[ 36 sec,   27439 itr]:           45\n"
     ]
    },
    {
     "name": "stdout",
     "output_type": "stream",
     "text": [
      "[ 37 sec,   28299 itr]:           45\n"
     ]
    },
    {
     "name": "stdout",
     "output_type": "stream",
     "text": [
      "[ 38 sec,   29102 itr]:           45\n"
     ]
    },
    {
     "name": "stdout",
     "output_type": "stream",
     "text": [
      "[ 39 sec,   29887 itr]:           45\n"
     ]
    },
    {
     "name": "stdout",
     "output_type": "stream",
     "text": [
      "[ 40 sec,   30690 itr]:           45\n",
      "[ optimality gap     ]:      100.00%\n"
     ]
    },
    {
     "name": "stdout",
     "output_type": "stream",
     "text": [
      "[ 41 sec,   31407 itr]:           45\n"
     ]
    },
    {
     "name": "stdout",
     "output_type": "stream",
     "text": [
      "[ 42 sec,   32186 itr]:           45\n"
     ]
    },
    {
     "name": "stdout",
     "output_type": "stream",
     "text": [
      "[ 43 sec,   32969 itr]:           45\n"
     ]
    },
    {
     "name": "stdout",
     "output_type": "stream",
     "text": [
      "[ 44 sec,   33775 itr]:           45\n"
     ]
    },
    {
     "name": "stdout",
     "output_type": "stream",
     "text": [
      "[ 45 sec,   34518 itr]:           45\n"
     ]
    },
    {
     "name": "stdout",
     "output_type": "stream",
     "text": [
      "[ 46 sec,   35299 itr]:           45\n"
     ]
    },
    {
     "name": "stdout",
     "output_type": "stream",
     "text": [
      "[ 47 sec,   36057 itr]:           45\n"
     ]
    },
    {
     "name": "stdout",
     "output_type": "stream",
     "text": [
      "[ 48 sec,   36797 itr]:           45\n"
     ]
    },
    {
     "name": "stdout",
     "output_type": "stream",
     "text": [
      "[ 49 sec,   37561 itr]:           45\n"
     ]
    },
    {
     "name": "stdout",
     "output_type": "stream",
     "text": [
      "[ 50 sec,   38340 itr]:           45\n",
      "[ optimality gap     ]:      100.00%\n"
     ]
    },
    {
     "name": "stdout",
     "output_type": "stream",
     "text": [
      "[ 51 sec,   39096 itr]:           45\n"
     ]
    },
    {
     "name": "stdout",
     "output_type": "stream",
     "text": [
      "[ 52 sec,   39823 itr]:           45\n"
     ]
    },
    {
     "name": "stdout",
     "output_type": "stream",
     "text": [
      "[ 53 sec,   40600 itr]:           45\n"
     ]
    },
    {
     "name": "stdout",
     "output_type": "stream",
     "text": [
      "[ 54 sec,   41359 itr]:           45\n"
     ]
    },
    {
     "name": "stdout",
     "output_type": "stream",
     "text": [
      "[ 55 sec,   42084 itr]:           45\n"
     ]
    },
    {
     "name": "stdout",
     "output_type": "stream",
     "text": [
      "[ 56 sec,   42874 itr]:           45\n"
     ]
    },
    {
     "name": "stdout",
     "output_type": "stream",
     "text": [
      "[ 57 sec,   43682 itr]:           45\n"
     ]
    },
    {
     "name": "stdout",
     "output_type": "stream",
     "text": [
      "[ 58 sec,   44515 itr]:           45\n"
     ]
    },
    {
     "name": "stdout",
     "output_type": "stream",
     "text": [
      "[ 59 sec,   45264 itr]:           45\n"
     ]
    },
    {
     "name": "stdout",
     "output_type": "stream",
     "text": [
      "[ 60 sec,   46027 itr]:           45\n",
      "[ optimality gap     ]:      100.00%\n",
      "[ 60 sec,   46027 itr]:           45\n",
      "[ optimality gap     ]:      100.00%\n",
      "\n",
      "46027 iterations performed in 60 seconds\n",
      "\n",
      "Feasible solution: \n",
      "  obj    =           45\n",
      "  gap    =      100.00%\n",
      "  bounds =            0\n"
     ]
    }
   ],
   "source": [
    "instance_08 = util.parse(\"protein_n010k010.txt\")\n",
    "solution_08 = solve(instance_08, log=True)"
   ]
  },
  {
   "cell_type": "code",
   "execution_count": null,
   "id": "Vxnm",
   "metadata": {},
   "outputs": [
    {
     "name": "stdout",
     "output_type": "stream",
     "text": [
      "--- Condition (with 19 chars) ---\n",
      "str01: MALSYCPKGT\n",
      "str02: MQSSLNAIPV\n",
      "str03: MPLSYQHFRK\n",
      "str04: MEEHVNELHD\n",
      "str05: MSNFDAIRAL\n",
      "str06: MFRNQNSRNG\n",
      "str07: MFYAHAFGGY\n",
      "str08: MSKFTRRPYQ\n",
      "str09: MSFVAGVTAQ\n",
      "str10: MESLVPGFNE\n",
      "\n",
      "--- Solution (of length 45) ---\n",
      "  Sol: MESFYPQALSERNYQHVAFCPKGFTNESLRHDNGAIRPVTYALKQ\n",
      "str01: M------ALS---Y-----CPKG-T--------------------\n",
      "str02: M-----Q--S-----------------SL---N-AI-PV------\n",
      "str03: M----P--LS---YQH--F----------R-------------K-\n",
      "str04: ME--------E----HV--------NE-L-HD-------------\n",
      "str05: M-S---------N-----F------------D--AIR----AL--\n",
      "str06: M--F-------RN-Q----------N-S-R--NG-----------\n",
      "str07: M--FY--A-------H-AF---G----------G------Y----\n",
      "str08: M-S------------------K-FT----R------RP--Y---Q\n",
      "str09: M-SF------------VA----G---------------VT-A--Q\n",
      "str10: MES-----L-------V---P-GF-NE------------------\n",
      "\n",
      "solution is feasible: True\n"
     ]
    }
   ],
   "source": [
    "_instance = instance_08\n",
    "_solution = solution_08\n",
    "\n",
    "util.show(_instance)\n",
    "if _solution is not None:\n",
    "    util.show(_instance, _solution)\n",
    "    print(f\"solution is feasible: {util.is_feasible(_instance, _solution)}\")\n",
    "else:\n",
    "    print(\"--- Solution not found ---\")"
   ]
  },
  {
   "cell_type": "code",
   "execution_count": null,
   "id": "DnEU",
   "metadata": {},
   "outputs": [
    {
     "name": "stdout",
     "output_type": "stream",
     "text": [
      "\n",
      "Model:  expressions = 2504, decisions = 2500, constraints = 0, objectives = 1\n",
      "Param:  time limit = 60 sec, no iteration limit\n",
      "\n",
      "[objective direction ]:     minimize\n",
      "\n",
      "[  0 sec,       0 itr]:          475\n",
      "[ optimality gap     ]:      100.00%\n"
     ]
    },
    {
     "name": "stdout",
     "output_type": "stream",
     "text": [
      "[  1 sec,      17 itr]:          475\n"
     ]
    },
    {
     "name": "stdout",
     "output_type": "stream",
     "text": [
      "[  2 sec,      27 itr]:          473\n"
     ]
    },
    {
     "name": "stdout",
     "output_type": "stream",
     "text": [
      "[  3 sec,      36 itr]:          462\n"
     ]
    },
    {
     "name": "stdout",
     "output_type": "stream",
     "text": [
      "[  4 sec,      55 itr]:          462\n"
     ]
    },
    {
     "name": "stdout",
     "output_type": "stream",
     "text": [
      "[  5 sec,      70 itr]:          457\n"
     ]
    },
    {
     "name": "stdout",
     "output_type": "stream",
     "text": [
      "[  6 sec,      91 itr]:          457\n"
     ]
    },
    {
     "name": "stdout",
     "output_type": "stream",
     "text": [
      "[  7 sec,     120 itr]:          457\n"
     ]
    },
    {
     "name": "stdout",
     "output_type": "stream",
     "text": [
      "[  8 sec,     150 itr]:          457\n"
     ]
    },
    {
     "name": "stdout",
     "output_type": "stream",
     "text": [
      "[  9 sec,     176 itr]:          457\n"
     ]
    },
    {
     "name": "stdout",
     "output_type": "stream",
     "text": [
      "[ 10 sec,     193 itr]:          456\n",
      "[ optimality gap     ]:      100.00%\n"
     ]
    },
    {
     "name": "stdout",
     "output_type": "stream",
     "text": [
      "[ 11 sec,     221 itr]:          456\n"
     ]
    },
    {
     "name": "stdout",
     "output_type": "stream",
     "text": [
      "[ 12 sec,     241 itr]:          456\n"
     ]
    },
    {
     "name": "stdout",
     "output_type": "stream",
     "text": [
      "[ 13 sec,     259 itr]:          454\n"
     ]
    },
    {
     "name": "stdout",
     "output_type": "stream",
     "text": [
      "[ 14 sec,     289 itr]:          454\n"
     ]
    },
    {
     "name": "stdout",
     "output_type": "stream",
     "text": [
      "[ 15 sec,     317 itr]:          454\n"
     ]
    },
    {
     "name": "stdout",
     "output_type": "stream",
     "text": [
      "[ 16 sec,     346 itr]:          454\n"
     ]
    },
    {
     "name": "stdout",
     "output_type": "stream",
     "text": [
      "[ 17 sec,     376 itr]:          454\n"
     ]
    },
    {
     "name": "stdout",
     "output_type": "stream",
     "text": [
      "[ 18 sec,     405 itr]:          454\n"
     ]
    },
    {
     "name": "stdout",
     "output_type": "stream",
     "text": [
      "[ 19 sec,     434 itr]:          454\n"
     ]
    },
    {
     "name": "stdout",
     "output_type": "stream",
     "text": [
      "[ 20 sec,     464 itr]:          454\n",
      "[ optimality gap     ]:      100.00%\n"
     ]
    },
    {
     "name": "stdout",
     "output_type": "stream",
     "text": [
      "[ 21 sec,     482 itr]:          454\n"
     ]
    },
    {
     "name": "stdout",
     "output_type": "stream",
     "text": [
      "[ 22 sec,     511 itr]:          454\n"
     ]
    },
    {
     "name": "stdout",
     "output_type": "stream",
     "text": [
      "[ 23 sec,     540 itr]:          454\n"
     ]
    },
    {
     "name": "stdout",
     "output_type": "stream",
     "text": [
      "[ 24 sec,     566 itr]:          454\n"
     ]
    },
    {
     "name": "stdout",
     "output_type": "stream",
     "text": [
      "[ 25 sec,     591 itr]:          454\n"
     ]
    },
    {
     "name": "stdout",
     "output_type": "stream",
     "text": [
      "[ 26 sec,     618 itr]:          454\n"
     ]
    },
    {
     "name": "stdout",
     "output_type": "stream",
     "text": [
      "[ 27 sec,     641 itr]:          454\n"
     ]
    },
    {
     "name": "stdout",
     "output_type": "stream",
     "text": [
      "[ 28 sec,     663 itr]:          454\n"
     ]
    },
    {
     "name": "stdout",
     "output_type": "stream",
     "text": [
      "[ 29 sec,     692 itr]:          454\n"
     ]
    },
    {
     "name": "stdout",
     "output_type": "stream",
     "text": [
      "[ 30 sec,     720 itr]:          454\n",
      "[ optimality gap     ]:      100.00%\n"
     ]
    },
    {
     "name": "stdout",
     "output_type": "stream",
     "text": [
      "[ 31 sec,     743 itr]:          454\n"
     ]
    },
    {
     "name": "stdout",
     "output_type": "stream",
     "text": [
      "[ 32 sec,     764 itr]:          454\n"
     ]
    },
    {
     "name": "stdout",
     "output_type": "stream",
     "text": [
      "[ 33 sec,     793 itr]:          454\n"
     ]
    },
    {
     "name": "stdout",
     "output_type": "stream",
     "text": [
      "[ 34 sec,     822 itr]:          454\n"
     ]
    },
    {
     "name": "stdout",
     "output_type": "stream",
     "text": [
      "[ 35 sec,     843 itr]:          454\n"
     ]
    },
    {
     "name": "stdout",
     "output_type": "stream",
     "text": [
      "[ 36 sec,     872 itr]:          454\n"
     ]
    },
    {
     "name": "stdout",
     "output_type": "stream",
     "text": [
      "[ 37 sec,     896 itr]:          454\n"
     ]
    },
    {
     "name": "stdout",
     "output_type": "stream",
     "text": [
      "[ 38 sec,     922 itr]:          454\n"
     ]
    },
    {
     "name": "stdout",
     "output_type": "stream",
     "text": [
      "[ 39 sec,     944 itr]:          454\n"
     ]
    },
    {
     "name": "stdout",
     "output_type": "stream",
     "text": [
      "[ 40 sec,     973 itr]:          454\n",
      "[ optimality gap     ]:      100.00%\n"
     ]
    },
    {
     "name": "stdout",
     "output_type": "stream",
     "text": [
      "[ 41 sec,    1002 itr]:          454\n"
     ]
    },
    {
     "name": "stdout",
     "output_type": "stream",
     "text": [
      "[ 42 sec,    1031 itr]:          454\n"
     ]
    },
    {
     "name": "stdout",
     "output_type": "stream",
     "text": [
      "[ 43 sec,    1048 itr]:          454\n"
     ]
    },
    {
     "name": "stdout",
     "output_type": "stream",
     "text": [
      "[ 44 sec,    1073 itr]:          454\n"
     ]
    },
    {
     "name": "stdout",
     "output_type": "stream",
     "text": [
      "[ 45 sec,    1093 itr]:          454\n"
     ]
    },
    {
     "name": "stdout",
     "output_type": "stream",
     "text": [
      "[ 46 sec,    1119 itr]:          454\n"
     ]
    },
    {
     "name": "stdout",
     "output_type": "stream",
     "text": [
      "[ 47 sec,    1135 itr]:          454\n"
     ]
    },
    {
     "name": "stdout",
     "output_type": "stream",
     "text": [
      "[ 48 sec,    1156 itr]:          454\n"
     ]
    },
    {
     "name": "stdout",
     "output_type": "stream",
     "text": [
      "[ 49 sec,    1169 itr]:          454\n"
     ]
    },
    {
     "name": "stdout",
     "output_type": "stream",
     "text": [
      "[ 50 sec,    1181 itr]:          454\n",
      "[ optimality gap     ]:      100.00%\n"
     ]
    },
    {
     "name": "stdout",
     "output_type": "stream",
     "text": [
      "[ 51 sec,    1211 itr]:          454\n"
     ]
    },
    {
     "name": "stdout",
     "output_type": "stream",
     "text": [
      "[ 52 sec,    1232 itr]:          454\n"
     ]
    },
    {
     "name": "stdout",
     "output_type": "stream",
     "text": [
      "[ 53 sec,    1261 itr]:          454\n"
     ]
    },
    {
     "name": "stdout",
     "output_type": "stream",
     "text": [
      "[ 54 sec,    1274 itr]:          454\n"
     ]
    },
    {
     "name": "stdout",
     "output_type": "stream",
     "text": [
      "[ 55 sec,    1287 itr]:          454\n"
     ]
    },
    {
     "name": "stdout",
     "output_type": "stream",
     "text": [
      "[ 56 sec,    1308 itr]:          454\n"
     ]
    },
    {
     "name": "stdout",
     "output_type": "stream",
     "text": [
      "[ 57 sec,    1321 itr]:          454\n"
     ]
    },
    {
     "name": "stdout",
     "output_type": "stream",
     "text": [
      "[ 58 sec,    1342 itr]:          454\n"
     ]
    },
    {
     "name": "stdout",
     "output_type": "stream",
     "text": [
      "[ 59 sec,    1365 itr]:          454\n"
     ]
    },
    {
     "name": "stdout",
     "output_type": "stream",
     "text": [
      "[ 60 sec,    1385 itr]:          454\n",
      "[ optimality gap     ]:      100.00%\n",
      "[ 60 sec,    1385 itr]:          454\n",
      "[ optimality gap     ]:      100.00%\n",
      "\n",
      "1385 iterations performed in 60 seconds\n",
      "\n",
      "Feasible solution: \n",
      "  obj    =          454\n",
      "  gap    =      100.00%\n",
      "  bounds =            0\n"
     ]
    }
   ],
   "source": [
    "instance_09 = util.parse(\"protein_n050k050.txt\")\n",
    "solution_09 = solve(instance_09, log=True)"
   ]
  },
  {
   "cell_type": "code",
   "execution_count": null,
   "id": "ulZA",
   "metadata": {},
   "outputs": [
    {
     "name": "stdout",
     "output_type": "stream",
     "text": [
      "--- Condition (with 20 chars) ---\n",
      "str01: MRHLNIDIETYSSNDIKNGVYKYADAEDFEILLFAYSIDGGEVECLDLTR\n",
      "str02: MERRAHRTHQNWDATKPRERRKQTQHRLTHPDDSIYPRIEKAEGRKEDHG\n",
      "str03: MEPGAFSTALFDALCDDILHRRLESQLRFGGVQIPPEVSDPRVYAGYALL\n",
      "str04: MGKFYYSNRRLAVFAQAQSRHLGGSYEQWLACVSGDSAFRAEVKARVQKD\n",
      "str05: FFRENLAFQQGKAREFPSEEARANSPTSRELWVRRGGNPLSEAGAERRGT\n",
      "str06: MDPSLTQVWAVEGSVLSAAVDTAETNDTEPDEGLSAENEGETRIIRITGS\n",
      "str07: MAFDFSVTGNTKLDTSGFTQGVSSMTVAAGTLIADLVKTASSQLTNLAQS\n",
      "str08: MAVILPSTYTDGTAACTNGSPDVVGTGTMWVNTILPGDFFWTPSGESVRV\n",
      "str09: MNTGIIDLFDNHVDSIPTILPHQLATLDYLVRTIIDENRSVLLFHIMGSG\n",
      "str10: MFVFLVLLPLVSSQCVNLRTRTQLPPAYTNSFTRGVYYPDKVFRSSVLHS\n",
      "str11: MDSKETILIEIIPKIKSYLLDTNISPKSYNDFISRNKNIFVINLYNVSTI\n",
      "str12: MLLSGKKKMLLDNYETAAARGRGGDERRRGWAFDRPAIVTKRDKSDRMAH\n",
      "str13: MNGEEDDNEQAAAEQQTKKAKREKPKQARKVTSEAWEHFDATDDGAECKH\n",
      "str14: MESLVPGFNEKTHVQLSLPVLQVRDVLVRGFGDSVEEVLSEARQHLKDGT\n",
      "str15: MRYIVSPQLVLQVGKGQEVERALYLTPYDYIDEKSPIYYFLRSHLNIQRP\n",
      "str16: MPRVPVYDSPQVSPNTVPQARLATPSFATPTFRGADAPAFQDTANQQARQ\n",
      "str17: MFVFLVLLPLVSSQCVNLRTRTQLPLAYTNSFTRGVYYPDKVFRSSVLHS\n",
      "str18: MFVFFVLLPLVSSQCVNLTTRTQLPPAYTNSFTRGVYYPDKVFRSSVLHS\n",
      "str19: MEAIISFAGIGINYKKLQSKLQHDFGRVLKALTVTARALPGQPKHIAIRQ\n",
      "str20: MASSGPERAEHQIILPESHLSSPLVKHKLLYYWKLTGLPLPDECDFDHLI\n",
      "str21: MESLVPGFNEKTHVQLSLPVLQVRDVLVRGFGDSVEEVLSEVRQHLKDGT\n",
      "str22: MLAPSPNSKIQLFNNINIDINYEHTLYFASVSAQNSFFAQWVVYSADKAI\n",
      "str23: MSAITETKPTIELPALAEGFQRYNKTPGFTCVLDRYDHGVINDSKIVLYN\n",
      "str24: MKNIAEFKKAPELAEKLLEVFSNLKGNSRSLDPMRAGKHDVVVIESTKKL\n",
      "str25: MPQPLKQSLDQSKWLREAEKHLRALESLVDSNLEEEKLKPQLSMGEDVQS\n",
      "str26: MFVFLVLLPLVSSQCVNLITRTQSYTNSFTRGVYYPDKVFRSSVLHSTQD\n",
      "str27: MKFDVLSLFAPWAKVDEQEYDQQLNNNLESITAPKFDDGATEIESERGDI\n",
      "str28: MFVFLVLLPLVSSQCVNFTNRTQLPSAYTNSFTRGVYYPDKVFRSSVLHS\n",
      "str29: MWSIIVLKLISIQPLLLVTSLPLYNPNMDSCCLISRITPELAGKLTWIFI\n",
      "str30: MESLVPGFNEKTHVQLSLPVLQVRDVLVRGFGDSVEEFLSEARQHLKDGT\n",
      "str31: MFVFLVLLPLVSSQCVMPLFNLITTTQSYTNFTRGVYYPDKVFRSSVLHL\n",
      "str32: MHQITVVSGPTEVSTCFGSLHPFQSLKPVMANALGVLEGKMFCSIGGRSL\n",
      "str33: MATLLRSLALFKRNKDKPPITSGSGGAIRGIKHIIIVPIPGDSSITTRSR\n",
      "str34: MESLVPGFNEKTHVQLSLPVLQVRDVLVRGFGDSMEEVLSEARQHLKDGT\n",
      "str35: MFVFLVLLPLVSSQCVNLTTGTQLPPAYTNSFTRGVYYPDKVFRSSVLHS\n",
      "str36: MANIINLWNGIVPMVQDVNVASITAFKSMIDETWDKKIEANTCISRKHRN\n",
      "str37: MLNRIQTLMKTANNYETIEILRNYLRLYIILARNEEGRGILIYDDNIDSV\n",
      "str38: MADPAGTNGEEGTGCNGWFYVEAVVEKKTGDAISDDENENDSDTGEDLVD\n",
      "str39: MFVFLVLLPLVSSQCVNLRTRTQLPPSYTNSFTRGVYYPDKVFRSSVLHS\n",
      "str40: MESLVPGFNEKTHVQLSLPVLQVCDVLVRGFGDSVEEVLSEARQHLKDGT\n",
      "str41: MNNQRKKTARPSFNMLKRARNRVSTVSQLAKRFSKGLLSGQGPMKLVMAF\n",
      "str42: MSNFDAIRALVDTDAYKLGHIHMYPEGTEYVLSNFTDRGSRIEGVTHTVH\n",
      "str43: MIELRHEVQGDLVTINVVETPEDLDGFRDFIRAHLICLAVDTETTGLDIY\n",
      "str44: MFVFLVLLPLVSSQCVMPLFNLITTNQSYTNSFTRGVYYPDKVFRSSVLH\n",
      "str45: MSKDLVARQALMTARMKADFVFFLFVLWKALSLPVPTRCQIDMAKKLSAG\n",
      "str46: MASLLKSLTLFKRTRDQPPLASGSGGAIRGIKHVIIVLIPGDSSIVTRSR\n",
      "str47: MRVRGILRNWQQWWIWTSLGFWMFMICSVVGNLWVTVYYGVPVWKEAKTT\n",
      "str48: MAVEPFPRRPITRPHASIEVDTSGIGGSAGSSEKVFCLIGQAEGGEPNTV\n",
      "str49: MFYAHAFGGYDENLHAFPGISSTVANDVRKYSVVSVYNKKYNIVKNKYMW\n",
      "str50: MANYSKPFLLDIVFNKDIKCINDSCSHSDCRYQSNSYVELRRNQALNKNL\n",
      "\n",
      "--- Solution (of length 454) ---\n",
      "  Sol: MFAVFLESVLLPNRLVSSQPGFCVNEKTLDHAIRPLVQTRLSLPTAFYINSLVKETGILQVRDASLPFKVLITDNQALEMRPSTYHQALFGKWNLITAVRGDENSIPFTNYEGTVDSAQPKIEVLQKSAPELARGCNDVYLHTNSGIFEKLTRGVQANWDTSILAEGVFYPKSDMVLKRAQHTNDEVRGFAILYSPKRSTGVENQLPDSRVEKLTPASIYTNDVFRKHSQLAGEFTCLDRKSVFGMILSYWADETVQLNRIWTSLGAFPDERVKALYNSGIPQHRLTKPGINFQDLESIAYWMFDLVKPTSCIVRAHLSGEDNPMICKHSFDTVAGLIQDRGSIVPYNALTEIVGPRDIECNLFRSKWVTDPELAGRVYESGKMDQSNASYVKELRRDNISTHVKDRTGLFVCSIARNKYMGEDHPVWQALIKEGNRSAKFNLQRTVDGHIPTY\n",
      "str01: M------------R----------------H----L-------------N-------I----D--------I------E----TY-------------------S-----------S-------------------ND--------I--K-------N--------GV-Y-K---------------------Y----------------------A-----D--------A-E----D----F---------E------I---L----------L----------------F------AY---------S-I--------D-------------G-----G---------E-V-----EC-L-------D--L---------------------------T----R-----------------------------------------------\n",
      "str02: M-----E------R-------------------R-----------A---------------------------------------H-------------R--------T--------------------------------H-------------Q-NWD----A-----------------T-------------K---------P--R-E-------------R-------------RK---------------Q-----T-------------------QHRLT-----------------------------H------P-------D-------D--SI--Y--------PR-IE------K-------A----E-G-------------R--------K-----------------EDH---------G-------------------\n",
      "str03: M-----E----P--------G----------A--------------F---S----T-------A-L-F-----D--AL---------------------------------------------------------C-D---------------------D--IL-----------------H-----R---------R-------L-----E-----S-----------QL--------R---FG--------------------G------V---------Q-------I-----------------P--------------P---------------------------E-V-----------S----DP----RVY---------A-------------------G----------Y---------AL-----------L-----------\n",
      "str04: M-------------------G-----K-------------------FY------------------------------------Y-------------------S----N-----------------------R------------------R----------LA--VF----------AQ---------A-------------Q---SR-----------------H--L-G-----------G---SY---E--Q----W--L-A--------------------------------------------C-V----SG-D-------S----A----------------------------FR---------A----E-----------VK----------------------AR---------V-Q---K--------------D------\n",
      "str05: -F--F--------R-----------E-----------------------N-L-----------A---F-------Q----------Q---GK-----A-R--E----F-----------P-------S--E-----------------E-------A---------------------RA---N----------SP---T--------SR-E-L------------------------------------W----V---R-----------R-------G---------G-N----------------P--------LS-E-------------AG------------A--E----R-------R----------G-------------------------T----------------------------------------------------\n",
      "str06: M----------------------------D----P------SL-T--------------QV-------------------------------W----AV---E---------G---S------VL--SA---A-----V--------------------DT---AE----------------TND--------------T--E---PD---E--------------------G----L---S---------A-E----N-----------E--------G----------------E------------T----R----------I-----------I--R--I------T---G----------S----------------------------------------------------------------------------------------\n",
      "str07: M-A-F------------------------D----------------F---S-V--TG-----------------N--------T-------K--L------D------T-------S-----------------G------------F---T---Q----------GV----S---------------------S--------------------------------------------------M--------TV----------A-------A----G------T--------L--IA----DLVK-T-----A--S----------S--------Q----------LT----------NL-----------A----------QS-------------------------------------------------------------------\n",
      "str08: M-AV----------------------"
     ]
    },
    {
     "name": "stdout",
     "output_type": "stream",
     "text": [
      "------I--L-------P------S----T----------------------------Y-----------T----D----------GT---A----------A------C------TN-G---------------S--------P--D-V----------V-G----------TG-------------T------------------------------M----W----V--N---T-----------------I----L--PG----D--------F--------------------------F------------------------------------W-T-P--------SG-----------E------S--V--R----V------------------------------------------\n",
      "str09: M-----------N--------------T----------------------------GI-------------I-D---L-----------F-----------D-N-------------------------------------H------------V----D-SI-------P-----------T--------IL--P-------------------------------H-QLA---T-LD----------Y-------L--------------V-----------R-T---I-------I-----D---------------E-N-----------------R-S-V----L------------LF--------------------------------------H-----------I-----MG---------------S----------G-----\n",
      "str10: MF-VFL--VLLP--LVSSQ---CVN---L----R----TR----T--------------Q-----LP--------------P-----A----------------------Y--T----------------------N-------S--F---TRGV--------------Y-----------------------Y-P-----------D----K----------VFR--S------------SV----L-----------------------------------H-------------S------------------------------------------------------------------------------------------------------------------------------------------------------------\n",
      "str11: M----------------------------D-----------S-----------KET-IL------------I------E----------------I---------IP-------------KI----KS-----------YL---------L--------DT----------------------N-------I--SPK-S--------------------Y-ND-F---------------------I-S----------R-----------------N---------K---N------I----F--V-----I---------N-------------L---------YN-----V-----------S---T-----------------------------I------------------------------------------------------\n",
      "str12: M----L---L------S---G-----K--------------------------K--------------K----------M--------L-----L------D-N------YE-T---A----------A---ARG-----------------RG------------G------D-----------E-R---------R-----------R----------------------G-----------------WA---------------F-D-R---------P-----------------A------------IV------------------T---------------------------------K---------R-------D-------K-------S----DR-------------M--------A-------------------H----\n",
      "str13: M-----------N-------G----E----------------------------E-------D----------DN---E-------QA---------A-------------------A----E--Q-----------------------------Q----T----------K-----K-A----------------KR----E---------K--P----------K--Q-A-------RK-V-----------T--------S------E---A--------------------------W------------------E-------H-FD--A---------------T------D------------D----G------------A----E------------------C-----K-----H-----------------------------\n",
      "str14: M-----ES-L-----V---PGF--NEKT--H-----VQ--LSLP--------V-----LQVRD------VL---------------------------VRG------F----G--DS------V------E-----------------E-----V--------L--------S------------E----A------R------Q----------------------H--L---------K-----------D------------G--------------------T-----------------------------------------------------------------------------------------------------------------------------------------------------------------------\n",
      "str15: M------------R---------------------------------YI---V-----------S-P--------Q-L--------------------V-------------------------LQ------------V------G---K---G-Q---------E-V-----------------E-R--A-LY-----------L--------TP---Y--D--------------------------Y----------I--------DE--K----S--P--------I---------Y---------------------------------------------Y----------------F---------L--R---S---------------------H------L-------N-------------I-----------QR------P--\n",
      "str16: M----------P-R-V---P---V-----------------------Y--------------D-S-P--------Q----------------------V-----S-P--N---TV----P-----Q--A----R------L---------------A---T---------P-S----------------FA--------T------P-------T---------FR------G------------------AD-------------A-P-----A-----------------FQD--------------T-----A------N---------------Q----------------------------------------------Q--A------R--------------------------------Q-------------------------\n",
      "str17: MF-VFL--VLLP--LVSSQ---CVN---L----R----TR----T--------------Q-----LP---L-----A-------Y-----------T------NS--FT------------------------RG---VY-----------------------------YP--D---K--------V--F-------RS---------S-V--L-------------HS---------------------------------------------------------------------------------------------------------------------------------------------------------------------------------------------------------------------------------\n",
      "str18: MF-VF----------------F-V----L------L-------P-------LV-----------S-----------------S---Q------------------------------------------------C--V----N------LT--------T-----------------R---T---------------------QLP--------PA--YTN------S-----FT---R----G----------V--------------------Y-----------------------Y-------P------------D-----K-----V-----------------------------FRS--------------S----------V--L-------H----------S----------------------------------------\n",
      "str19: M-----E------------------------AI---------------I-S----------------F--------A-------------G----I----G----I---NY---------K-----K----L-----------------------Q-----S---------K----L---QH--D----F----------G--------RV--L------------K----A-----L----------------TV------T---A----R--AL-----P-------G---Q--------------P------------------KH--------I----------A---I---R----------------------------Q--------------------------------------------------------------------\n",
      "str20: M-A----S--------S---G-------------P-------------------E------R-A--------------E------HQ--------I---------I------------------L----PE-------------S------------------------------------H----------L-S---S-------P------L---------V--KH------------K------L---------L------------------Y-----------------------YW-----K---------L--------------T--GL--------P---L-----P-D-EC---------D---------------------------------------F------------DH-----LI----------------------\n",
      "str21: M-----ES-L-----V---PGF--NEKT--H-----VQ--LSLP--------V-----LQVRD------VL---------------------------VRG------F----G--DS------V------E-----------------E-----V--------L--------S------------EVR----------------Q----------------------H--L---------K-----------D------------G--------------------T-----------------------------------------------------------------------------------------------------------------------------------------------------------------------\n",
      "str22: M----L-------------------------A--P------S-P-----NS--K---I-Q-----L-F------N------------------N-I-------N-I---------D-----I--------------N--Y--------E--------------------------------HT---------LY------------------------------F------A---------SV-----S--A----Q-N----S---F------------------------F------A--------------------------------------Q----------------------------WV--------VY-S-------A--------D------K----------A---------------I----------------------\n",
      "str23: M------S-----------------------AI-----T---------------ET------------K------------P-T-----------I------E---------------------L----P--A-------L---------------A--------EG-F-----------Q------R-----Y---------N--------K-TP----------------G-FTC-----V----L----D------R----------------Y-----------------D---------------------H--G-------------V---I---------N---------D-------SK--------------------------------I---V-----L---------Y---------------N------------------\n",
      "str24: M-------------------------K----------------------N-------I-----A--------------E----------F-K----------------------------K-------APELA---------------EKL------------L-E-VF---S----------N--------L---K---G--N----SR-------S------------L-------D-----------------------------P---------------------------------M-----------RA---G-------KH--D-V----------V--------V----IE-----S---T------------K---------K-L-----------------------------------------------------------\n",
      "str25: M----------P------QP--------L------------------------K-----Q----SL-------D-Q------S--------KW-L----R--E--------------A----E---K--------------H--------L-R---A------L-E------S---L---------V--------------------DS------------N--------L--E-------------------E----------------E--K-L-----------KP----Q-L-S----M----------------GED-----------V----Q---S---------------------------------------------------------------------------------------------------------------\n",
      "str26: MF-VFL--VLLP--LVSSQ---CVN---L---I-----TR----T--------------Q----S-------------------Y-----------T------NS--FT------------------------RG---VY-----------------------------YP--D---K--------V--F-------RS---------S-V--L-------------HS------T--------------------Q------------D----------------------------------------------------------------------------------------------------------------------------------------------------------------------------------------\n",
      "str27: M-------------------------K-------------------F---------------D------VL-----------S-----LF-------A--------P---------------------------------------------------W-----A------K---V--------DE------------------Q------E-------Y--D------Q--------------------------QLN------------------N-------------N---LESI----------T-----A-------P---K--FD-------D-G------A-TEI------E-----S------E---R----G--D--------------I------------------------------------------------------\n",
      "str28: MF-VFL--VLLP--LVSSQ---CVN---------------------F--------T------------------N-----R--T--Q-L-----------------P---------SA---------------------Y--TNS--F---TRGV--------------Y-----------------------Y-P-----------D----K----------VFR--S------------SV----L-----------------------------------H-------------S------------------------------------------------------------------------------------------------------------------------------------------------------------\n",
      "str29: M-------------------------------------------------------------------------------------------W-----------SI---------------I-VL-K----L--------------I--------------SI-----------------Q--------------P---------L-------L----------------L-----------V-----------T--------SL---P------LYN---P---------N----------M-D-----SC--------------C---------LI----S-------------R-I----------T-PELAG------K-----------L------T-------------------------W---I--------F---------I---\n",
      "str30: M-----ES-L-----V---PGF--NEKT--H-----VQ--LSLP--------V-----LQVRD------VL---------------------------VRG------F----G--DS------V------E-----------------E-------------------F-------L-----------------S-------E-------------A--------R---Q-----------------------------------------------------H-L-K------D------------------------G------------T-------------------------------------------------------------------------------------------------------------------------\n",
      "str31: MF-VFL--VLLP--LVSSQ---CV-------------------------------------------------------M-P------LF---NLIT-----------T----T----Q--------S-----------Y--TN---F---TRGV--------------Y-----------------------Y-P-----------D----K----------VFR--S------------SV----L-----------------------------------H-L------------------------------------------------------------------------------------------------------------------------------------------------------------------------\n",
      "str32: M-----------------------------H------Q----------I------T----V--------V------------S-------G---------------P-T--E--V-S-------------------------T---------------------------------------------------------------------------------------------C------FG---S--------L-------------------------H----P---FQ---S-------L-KP----V----------M---------A------------NAL----G-------------V----L-----E-GKM--------------------------F-CSI------G------------G-RS----L-----------\n",
      "str33: M-A------------------------TL------L---R-SL--A-----L---------------FK-----------R------------N--------------------------K----------------D-----------K--------------------P------------------------P----------------------I-T-------S---G--------S--G--------------------GA-------------I---R----GI----------------K--------H--------I-----------I-----IVP------I--P-------------------G--------D-S--S---------I-T-----T--------R--------------------S------R---------\n",
      "str34: M-----ES-L-----V---PGF--NEKT--H-----VQ--LSLP--------V-----LQVRD------VL---------------------------VRG------F----G--DS---------------------------------------------------------M----------E----------------E-------V--L---S---------------E-----------------A-------R----------------------QH-L-K------D------------------------G------------T-------------------------------------------------------------------------------------------------------------------------\n",
      "str35: MF-VFL--VLLP--LVSSQ---CVN---L---------T-----T-----------G---------------T--Q-L---P------------------------P----------A---------------------Y--TNS--F---TRGV--------------Y-----------------------Y-P-----------D----K----------VFR--S------------SV----L-----------------------------------H-------------S------------------------------------------------------------------------------------------------------------------------------------------------------------\n",
      "str36: M-A---------N-------------------I---------------IN-L----------------------------------------WN------G----I--------V----P------------------------------------------------------MV----Q---D-V----------------N------V-----ASI-T----------A--F-----KS---MI-----DET------W-------D---K-------------K--I-----E--A----------------------N---------T---------------------------C--------------------------------------IS-----R-----------K-----H-----------R----N------------\n",
      "str37: M----L------NR------------------I----QT-L--------------------------------------M-----------K----TA-----N-----NYE-T-------IE-----------------------I---L-R----N-----------Y------L-R-------------LY------------------------I---------------------------IL---A-------R-----------------N------------------E-----------------------E--------------G----RG-I-----L--I-------------------------Y-----D------------DNI-----D-------S------------V---------------------------\n",
      "str38: M-A--------------------------D----P----------A----------G---------------T-N---------------G-----------E--------EGT--------------------GCN--------G------------W---------FY-----V---------E----A----------V--------VEK-------------K--------T--------G-------D-------------A-------------I----------------S------D----------------D-----------------------------E---------N----------E--------------N---------D--S----D-TG-------------ED------L---------------VD------\n",
      "str39: MF-VFL--VLLP--LVSSQ---CVN---L----R----TR----T--------------Q-----LP--------------PS-Y-----------T------NS--FT------------------------RG---VY-----------------------------YP--D---K--------V--F-------RS---------S-V--L-------------HS---------------------------------------------------------------------------------------------------------------------------------------------------------------------------------------------------------------------------------\n",
      "str40: M-----ES-L-----V---PGF--NEKT--H-----VQ--LSLP--------V-----LQV--------------------------------------------------------------------------C-DV-L-------------V-----------------------R---------GF----------G------DS-VE---------------------E--------V----LS----E------------A----R----------QH-L-K------D------------------------G------------T-------------------------------------------------------------------------------------------------------------------------\n",
      "str41: M-----------N-----------N------------Q-R-------------K--------------K---T---A---RPS------F---N--------------------------------------------------------------------------------M-LKRA-------R---------------N-----RV------S--T--V----SQLA--------K------------------R-------F----------S--------K-G-----L---------L----S--------G------------------Q--G---P-------------------------------------M--------K-L--------V----------------M--------A----------F-------------\n",
      "str42: M------S----N--------F-------D-AIR-----------A-----LV---------D---------TD--A-------Y------K--L-----G----------------------------------------H----I----------------------------------H---------------------------------------------------------------M---Y------------------P-E--------G------T---------E---Y-----V----------LS---N-------F-T------DRGS-------------R-IE---------------G-V-----------------------TH----T---V------------H-----------------------------\n",
      "str43: M-------------------------------I---------------------E---L--R------------------"
     ]
    },
    {
     "name": "stdout",
     "output_type": "stream",
     "text": [
      "-----H----------------E-----------V---Q---------------G--D--L-------------V-----T-I--------------------N--V--------------VE-----------TP-----------------E----D--------L----D------------G-F---R----------------------D--------F--------I-RAHL-------IC---------L-----------A----V---D-----------T--E----------------------------T-----TGL-------------D-------I---------------------Y\n",
      "str44: MF-VFL--VLLP--LVSSQ---CV-------------------------------------------------------M-P------LF---NLIT-----------TN--------Q--------S-----------Y--TNS--F---TRGV--------------Y-----------------------Y-P-----------D----K----------VFR--S------------SV----L-----------------------------------H--------------------------------------------------------------------------------------------------------------------------------------------------------------------------\n",
      "str45: M------S------------------K--D-----LV--------A---------------R-------------QAL-M---T---A-----------R--------------------------------------------------------------------------M--K-A----D----F-----------V----------------------F---------F--L-----F-----------V-L---W-----------KAL--S------L--P-----------------V-PT----R-----------C-----------Q----I-------------D-------------------------M----A---K-----------K----L---S-A-----G--------------------------------\n",
      "str46: M-A----S-LL---------------K--------------SL-T------L---------------FK-----------R--T---------------R-D----------------QP---------P-LA-----------SG---------------S----G---------------------G-AI-----R--G-----------------I-------KH--------------V---I-------------I-----------V--L----IP-------G----D--S------------S-IV------------------T-------R-S-------------R-------------------------------------------------------------------------------------------------\n",
      "str47: M------------R-V-----------------R----------------------GIL--R------------N-----------------W-------------------------Q------Q--------------------------------W-------------------------------------------------------------------------------------------W---------IWTSLG-F---------------------------------WMF--------------------MIC--S---V----------V---------G------NL----WVT-------VY-----------Y-----------------G--V-------------PVW----KE----AK-----T------T-\n",
      "str48: M-AV--E----P---------F------------P----R---------------------R----P----IT-------RP---H-A----------------SI-----E--VD--------------------------T-SGI------G------------G-----S------A--------G-----S---S---E---------K----------VF-----------CL--------I------------------G----------------Q----------------A--------------------E--------------G-----G---------E---P-----N-------T-------V----------------------------------------------------------------------------\n",
      "str49: MF---------------------------------------------Y---------------A---------------------H-A-FG---------G---------Y----D------E-------------N---LH--------------A-----------F-P-----------------G--I--S---ST-V--------------A----NDV-RK----------------------Y-------------S--------V---------------------------------V---S--V--------------------------------YN------------------K---------------K-------Y-------NI---VK------------NKYM------W--------------------------\n",
      "str50: M-A---------N----------------------------------Y--S--K------------PF--L------L-----------------------D---I--------V--------------------------------F---------N-------------K-D-----------------I----K---------------------------------------C---------I-----------N----------D--------S--------------------------------C------S---------HS-D----------------------------C---R-------------Y------QSN-SYV-ELRR-N-----------------------------QAL----N---K-NL-----------\n",
      "\n",
      "solution is feasible: True\n"
     ]
    }
   ],
   "source": [
    "_instance = instance_09\n",
    "_solution = solution_09\n",
    "\n",
    "util.show(_instance)\n",
    "if _solution is not None:\n",
    "    util.show(_instance, _solution)\n",
    "    print(f\"solution is feasible: {util.is_feasible(_instance, _solution)}\")\n",
    "else:\n",
    "    print(\"--- Solution not found ---\")"
   ]
  }
 ],
 "metadata": {},
 "nbformat": 4,
 "nbformat_minor": 5
}
