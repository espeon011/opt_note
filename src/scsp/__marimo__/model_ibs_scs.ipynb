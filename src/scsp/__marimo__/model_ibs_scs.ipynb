{
 "cells": [
  {
   "cell_type": "code",
   "execution_count": null,
   "id": "setup",
   "metadata": {
    "marimo": {
     "name": "setup"
    }
   },
   "outputs": [],
   "source": [
    "import copy\n",
    "import math\n",
    "import functools"
   ]
  },
  {
   "cell_type": "code",
   "execution_count": null,
   "id": "Hbol",
   "metadata": {},
   "outputs": [],
   "source": [
    "import marimo as mo\n",
    "import nbformat\n",
    "import util"
   ]
  },
  {
   "cell_type": "markdown",
   "id": "MJUe",
   "metadata": {
    "marimo": {
     "config": {
      "hide_code": true
     }
    }
   },
   "source": [
    "# `IBS_SCS` アルゴリズム"
   ]
  },
  {
   "cell_type": "markdown",
   "id": "vblA",
   "metadata": {
    "marimo": {
     "config": {
      "hide_code": true
     }
    }
   },
   "source": [
    "参考: Sayyed Rasoul Mousavi, Fateme Bahri, Farzaneh Sadat Tabataba, 2012, An enhanced beam search algorithm for the Shortest Common Supersequence Problem,\n",
    "Engineering Applications of Artificial Intelligence,\n",
    "Volume 25, Issue 3, Pages 457-467, https://www.sciencedirect.com/science/article/pii/S0952197611001497"
   ]
  },
  {
   "cell_type": "markdown",
   "id": "bkHC",
   "metadata": {
    "marimo": {
     "config": {
      "hide_code": true
     }
    }
   },
   "source": [
    "- 計算量: $O(k^2 \\log_2 q + L^* (n \\kappa \\beta q + \\beta q \\log_2 \\left( \\beta q \\right)))$\n",
    "    - (補足) $L^*$: このアルゴリズムによって返される解の長さ. $O(nk)$\n",
    "    - (補足) $\\kappa$, $\\beta$: ビームサーチのパラメータ.\n",
    "- 近似精度: ?"
   ]
  },
  {
   "cell_type": "code",
   "execution_count": null,
   "id": "lEQa",
   "metadata": {
    "marimo": {
     "name": "*probability"
    }
   },
   "outputs": [],
   "source": [
    "@functools.cache\n",
    "def probability(len_sub: int, len_super: int, num_alphabet: int) -> float:\n",
    "    \"\"\"\n",
    "    一様ランダムに生成された文字列 w (長さ len_sub) と y (長さ len_super) について, \n",
    "    y が w の supersequence である確率を返す. \n",
    "    \"\"\"\n",
    "\n",
    "    if len_sub == 0:\n",
    "        return 1.0\n",
    "    elif len_sub > len_super:\n",
    "        return 0.0\n",
    "    else:\n",
    "        tmp1 = 1.0 / num_alphabet * probability(len_sub - 1, len_super - 1, num_alphabet)\n",
    "        tmp2 = (num_alphabet - 1) / num_alphabet * probability(len_sub, len_super - 1, num_alphabet)\n",
    "\n",
    "    return tmp1 + tmp2"
   ]
  },
  {
   "cell_type": "code",
   "execution_count": null,
   "id": "PKri",
   "metadata": {
    "marimo": {
     "name": "*State"
    }
   },
   "outputs": [],
   "source": [
    "class State:\n",
    "    def __init__(self, instance: list[str]):\n",
    "        self.instance = instance\n",
    "        self.positions = [0 for _ in instance]\n",
    "        self.solution = \"\"\n",
    "\n",
    "    def is_feasibel(self) -> bool:\n",
    "        return all(pos == len(s) for s, pos in zip(self.instance, self.positions))\n",
    "\n",
    "    def is_usable(self, c: str) -> bool:\n",
    "        for pos, s in zip(self.positions, self.instance):\n",
    "            if pos < len(s) and s[pos] == c:\n",
    "                return True\n",
    "\n",
    "        return False\n",
    "\n",
    "    def dominate(self, other: \"State\") -> bool:\n",
    "        geq = all(pos1 >= pos2 for pos1, pos2 in zip(self.positions, other.positions))\n",
    "        neq = any(pos1 != pos2 for pos1, pos2 in zip(self.positions, other.positions))\n",
    "        return geq and neq"
   ]
  },
  {
   "cell_type": "code",
   "execution_count": null,
   "id": "Xref",
   "metadata": {},
   "outputs": [],
   "source": [
    "def solve(instance: list[str], beta: int = 500, kappa: int = 10) -> str:\n",
    "    chars = sorted(list(set(\"\".join(instance))))\n",
    "    initial_state = State(instance)\n",
    "    b: list[State] = []\n",
    "\n",
    "    while True:\n",
    "        # Step 1: Extension\n",
    "        c: list[State] = []\n",
    "        for state in b:\n",
    "            for char in chars:\n",
    "                if not state.is_usable(char):\n",
    "                    continue\n",
    "\n",
    "                new_state = copy.deepcopy(state)\n",
    "                new_state.solution += char\n",
    "                for idx, (s, pos) in enumerate(zip(self.instance, new_state.positions)):\n",
    "                    if pos < len(s) and s[pos] == char:\n",
    "                        new_state.positions[idx] += 1\n",
    "\n",
    "                if new_state.is_feasible(instance):\n",
    "                    return new_state.solution\n",
    "                else:\n",
    "                    c.append(new_state)\n",
    "\n",
    "        # Step 2: Evaluation of candidate solutions\n",
    "        k = round(\n",
    "            math.log2(len(chars))\n",
    "            * max(\n",
    "                len(s) - pos\n",
    "                for state in c\n",
    "                for s, pos in zip(instance, state.positions)\n",
    "            )\n",
    "        )\n",
    "\n",
    "        heuristics = []\n",
    "        for state in c:\n",
    "            tmp_h = 1.0\n",
    "            for s, pos in zip(instance, state.positions):\n",
    "                tmp_h *= probability(len(s) - pos, k, len(chars))\n",
    "            heuristics.append(tmp_h)\n",
    "\n",
    "        # Step 3: Dominance pruning\n",
    "        sorted_c = [\n",
    "            state for (idx, state) in sorted(\n",
    "                list(enumerate(c)),\n",
    "                key=lambda tmp: heuristics[tmp[0]],\n",
    "                reverse=True,\n",
    "            )\n",
    "        ]\n",
    "        kappa_best_list = sorted_c[:kappa]\n",
    "        for idx in range(len(sorted_c) - 1, len(kappa_best_list) - 1, -1):\n",
    "            if any(better.dominate(sorted_c[idx]) for better in kappa_best_list):\n",
    "                sorted_c.pop(idx)\n",
    "\n",
    "        # Step 4: Selection\n",
    "        b = sorted_c[:beta]"
   ]
  },
  {
   "cell_type": "code",
   "execution_count": null,
   "id": "SFPL",
   "metadata": {},
   "outputs": [
    {
     "name": "stdout",
     "output_type": "stream",
     "text": [
      "--- Condition (with 25 chars) ---\n",
      "str1: tkgnkuhmpxnhtqgxzvxis\n",
      "str2: iojiqfolnbxxcvsuqpvissbxf\n",
      "str3: ulcinycosovozpplp\n",
      "str4: igevazgbrddbcsvrvnngf\n",
      "\n"
     ]
    },
    {
     "name": "stderr",
     "output_type": "stream",
     "text": [
      "<span class=\"codehilite\"><div class=\"highlight\"><pre><span></span><span class=\"gt\">Traceback (most recent call last):</span>\n",
      "  File <span class=\"nb\">&quot;/home/psiana011/.cache/uv/archive-v0/UQfI4dWEzUU5zOQGwLwcg/lib/python3.13/site-packages/marimo/_runtime/executor.py&quot;</span>, line <span class=\"m\">138</span>, in <span class=\"n\">execute_cell</span>\n",
      "<span class=\"w\">    </span><span class=\"n\">exec</span><span class=\"p\">(</span><span class=\"n\">cell</span><span class=\"o\">.</span><span class=\"n\">body</span><span class=\"p\">,</span> <span class=\"n\">glbls</span><span class=\"p\">)</span>\n",
      "<span class=\"w\">    </span><span class=\"pm\">~~~~^^^^^^^^^^^^^^^^^^</span>\n",
      "  File <span class=\"nb\">&quot;/tmp/nix-shell.luvIvd/marimo_1663786/__marimo__cell_CQMC_.py&quot;</span>, line <span class=\"m\">3</span>, in <span class=\"n\">&lt;module&gt;</span>\n",
      "<span class=\"w\">    </span><span class=\"n\">_solution</span> <span class=\"o\">=</span> <span class=\"n\">solve</span><span class=\"p\">(</span><span class=\"n\">_instance</span><span class=\"p\">)</span>\n",
      "  File <span class=\"nb\">&quot;/tmp/nix-shell.luvIvd/marimo_1663786/__marimo__cell_JXDq_.py&quot;</span>, line <span class=\"m\">28</span>, in <span class=\"n\">solve</span>\n",
      "<span class=\"w\">    </span><span class=\"o\">*</span> <span class=\"nb\">max</span><span class=\"p\">(</span>\n",
      "<span class=\"w\">      </span><span class=\"pm\">~~~^</span>\n",
      "<span class=\"w\">    </span>    <span class=\"nb\">len</span><span class=\"p\">(</span><span class=\"n\">s</span><span class=\"p\">)</span> <span class=\"o\">-</span> <span class=\"n\">pos</span>\n",
      "<span class=\"w\">        </span><span class=\"pm\">^^^^^^^^^^^^</span>\n",
      "<span class=\"w\">    </span>    <span class=\"k\">for</span> <span class=\"n\">state</span> <span class=\"ow\">in</span> <span class=\"n\">c</span>\n",
      "<span class=\"w\">        </span><span class=\"pm\">^^^^^^^^^^^^^^</span>\n",
      "<span class=\"w\">    </span>    <span class=\"k\">for</span> <span class=\"n\">s</span><span class=\"p\">,</span> <span class=\"n\">pos</span> <span class=\"ow\">in</span> <span class=\"nb\">zip</span><span class=\"p\">(</span><span class=\"n\">instance</span><span class=\"p\">,</span> <span class=\"n\">state</span><span class=\"o\">.</span><span class=\"n\">positions</span><span class=\"p\">)</span>\n",
      "<span class=\"w\">        </span><span class=\"pm\">^^^^^^^^^^^^^^^^^^^^^^^^^^^^^^^^^^^^^^^^^^^^</span>\n",
      "<span class=\"w\">    </span><span class=\"p\">)</span>\n",
      "<span class=\"w\">    </span><span class=\"pm\">^</span>\n",
      "<span class=\"gr\">ValueError</span>: <span class=\"n\">max() iterable argument is empty</span>\n",
      "</pre></div>\n",
      "</span>"
     ]
    },
    {
     "name": "stdout",
     "output_type": "stream",
     "text": [
      "> /tmp/nix-shell.luvIvd/marimo_1663786/__marimo__cell_JXDq_.py(28)solve()\n",
      "-> * max(\n",
      "(Pdb) "
     ]
    },
    {
     "name": "stdout",
     "output_type": "stream",
     "text": [
      " bt\n"
     ]
    },
    {
     "name": "stdout",
     "output_type": "stream",
     "text": [
      "  /home/psiana011/.cache/uv/archive-v0/UQfI4dWEzUU5zOQGwLwcg/lib/python3.13/site-packages/marimo/_runtime/executor.py(138)execute_cell()\n",
      "-> exec(cell.body, glbls)\n",
      "  /tmp/nix-shell.luvIvd/marimo_1663786/__marimo__cell_CQMC_.py(3)<module>()\n",
      "-> _solution = solve(_instance)\n",
      "> /tmp/nix-shell.luvIvd/marimo_1663786/__marimo__cell_JXDq_.py(28)solve()\n",
      "-> * max(\n",
      "(Pdb) "
     ]
    },
    {
     "name": "stdout",
     "output_type": "stream",
     "text": [
      " ls\n"
     ]
    },
    {
     "name": "stdout",
     "output_type": "stream",
     "text": [
      "*** NameError: name 'ls' is not defined\n",
      "(Pdb) "
     ]
    },
    {
     "name": "stdout",
     "output_type": "stream",
     "text": [
      " s\n"
     ]
    },
    {
     "name": "stdout",
     "output_type": "stream",
     "text": [
      "> /tmp/nix-shell.luvIvd/marimo_1663786/__marimo__cell_JXDq_.py(28)solve()\n",
      "-> * max(\n",
      "(Pdb) "
     ]
    },
    {
     "name": "stdout",
     "output_type": "stream",
     "text": [
      " s=\n"
     ]
    },
    {
     "name": "stdout",
     "output_type": "stream",
     "text": [
      "*** SyntaxError: invalid syntax\n",
      "(Pdb) "
     ]
    },
    {
     "name": "stdout",
     "output_type": "stream",
     "text": [
      " print(s)\n"
     ]
    },
    {
     "name": "stdout",
     "output_type": "stream",
     "text": [
      "*** NameError: name 's' is not defined\n",
      "(Pdb) "
     ]
    }
   ],
   "source": [
    "_instance = util.parse(\"uniform_q26n004k015-025.txt\")\n",
    "util.show(_instance)\n",
    "_solution = solve(_instance)\n",
    "util.show(_instance, _solution)\n",
    "print(f\"solution is feasible: {util.is_feasible(_instance, _solution)}\")"
   ]
  },
  {
   "cell_type": "code",
   "execution_count": null,
   "id": "BYtC",
   "metadata": {},
   "outputs": [],
   "source": []
  }
 ],
 "metadata": {},
 "nbformat": 4,
 "nbformat_minor": 5
}
