{
 "cells": [
  {
   "cell_type": "code",
   "execution_count": null,
   "id": "setup",
   "metadata": {
    "marimo": {
     "name": "setup"
    }
   },
   "outputs": [],
   "source": [
    "import copy\n",
    "import math\n",
    "import functools"
   ]
  },
  {
   "cell_type": "code",
   "execution_count": null,
   "id": "Hbol",
   "metadata": {},
   "outputs": [],
   "source": [
    "import marimo as mo\n",
    "import nbformat\n",
    "import util"
   ]
  },
  {
   "cell_type": "markdown",
   "id": "MJUe",
   "metadata": {
    "marimo": {
     "config": {
      "hide_code": true
     }
    }
   },
   "source": [
    "# `IBS_SCS` アルゴリズム"
   ]
  },
  {
   "cell_type": "markdown",
   "id": "vblA",
   "metadata": {
    "marimo": {
     "config": {
      "hide_code": true
     }
    }
   },
   "source": [
    "参考: Sayyed Rasoul Mousavi, Fateme Bahri, Farzaneh Sadat Tabataba, 2012, An enhanced beam search algorithm for the Shortest Common Supersequence Problem,\n",
    "Engineering Applications of Artificial Intelligence,\n",
    "Volume 25, Issue 3, Pages 457-467, https://www.sciencedirect.com/science/article/pii/S0952197611001497"
   ]
  },
  {
   "cell_type": "markdown",
   "id": "bkHC",
   "metadata": {
    "marimo": {
     "config": {
      "hide_code": true
     }
    }
   },
   "source": [
    "- 計算量: $O(k^2 \\log_2 q + L^* (n \\kappa \\beta q + \\beta q \\log_2 \\left( \\beta q \\right)))$\n",
    "    - (補足) $L^*$: このアルゴリズムによって返される解の長さ. $O(nk)$\n",
    "    - (補足) $\\kappa$, $\\beta$: ビームサーチのパラメータ.\n",
    "- 近似精度: ?"
   ]
  },
  {
   "cell_type": "code",
   "execution_count": null,
   "id": "lEQa",
   "metadata": {
    "marimo": {
     "name": "*probability"
    }
   },
   "outputs": [],
   "source": [
    "@functools.cache\n",
    "def probability(len_sub: int, len_super: int, num_alphabet: int) -> float:\n",
    "    \"\"\"\n",
    "    一様ランダムに生成された文字列 w (長さ len_sub) と y (長さ len_super) について, \n",
    "    y が w の supersequence である確率を返す. \n",
    "    \"\"\"\n",
    "\n",
    "    if len_sub == 0:\n",
    "        return 1.0\n",
    "    elif len_sub > len_super:\n",
    "        return 0.0\n",
    "    else:\n",
    "        tmp1 = 1.0 / num_alphabet * probability(len_sub - 1, len_super - 1, num_alphabet)\n",
    "        tmp2 = (num_alphabet - 1) / num_alphabet * probability(len_sub, len_super - 1, num_alphabet)\n",
    "\n",
    "    return tmp1 + tmp2"
   ]
  },
  {
   "cell_type": "code",
   "execution_count": null,
   "id": "PKri",
   "metadata": {
    "marimo": {
     "name": "*State"
    }
   },
   "outputs": [],
   "source": [
    "class State:\n",
    "    def __init__(self, instance: list[str]):\n",
    "        self.instance = instance\n",
    "        self.positions = [0 for _ in instance]\n",
    "        self.solution = \"\"\n",
    "\n",
    "    def is_feasible(self) -> bool:\n",
    "        return all(pos == len(s) for s, pos in zip(self.instance, self.positions))\n",
    "\n",
    "    def is_usable(self, c: str) -> bool:\n",
    "        for pos, s in zip(self.positions, self.instance):\n",
    "            if pos < len(s) and s[pos] == c:\n",
    "                return True\n",
    "\n",
    "        return False\n",
    "\n",
    "    def dominate(self, other: \"State\") -> bool:\n",
    "        geq = all(pos1 >= pos2 for pos1, pos2 in zip(self.positions, other.positions))\n",
    "        neq = any(pos1 != pos2 for pos1, pos2 in zip(self.positions, other.positions))\n",
    "        return geq and neq"
   ]
  },
  {
   "cell_type": "code",
   "execution_count": null,
   "id": "Xref",
   "metadata": {
    "marimo": {
     "name": "*solve"
    }
   },
   "outputs": [],
   "source": [
    "def solve(instance: list[str], beta: int = 100, kappa: int = 7) -> str:\n",
    "    chars = sorted(list(set(\"\".join(instance))))\n",
    "    initial_state = State(instance)\n",
    "    b: list[State] = [initial_state]\n",
    "\n",
    "    while True:\n",
    "        # Step 1: Extension\n",
    "        c: list[State] = []\n",
    "        for state in b:\n",
    "            for char in chars:\n",
    "                if not state.is_usable(char):\n",
    "                    continue\n",
    "\n",
    "                new_state = copy.deepcopy(state)\n",
    "                new_state.solution += char\n",
    "                for idx, (s, pos) in enumerate(zip(instance, new_state.positions)):\n",
    "                    if pos < len(s) and s[pos] == char:\n",
    "                        new_state.positions[idx] += 1\n",
    "\n",
    "                if new_state.is_feasible():\n",
    "                    return new_state.solution\n",
    "                else:\n",
    "                    c.append(new_state)\n",
    "\n",
    "        # Step 2: Evaluation of candidate solutions\n",
    "        k = round(\n",
    "            math.log2(len(chars))\n",
    "            * max(\n",
    "                len(s) - pos\n",
    "                for state in c\n",
    "                for s, pos in zip(instance, state.positions)\n",
    "            )\n",
    "        )\n",
    "\n",
    "        heuristics = []\n",
    "        for state in c:\n",
    "            tmp_h = 1.0\n",
    "            for s, pos in zip(instance, state.positions):\n",
    "                tmp_h *= probability(len(s) - pos, k, len(chars))\n",
    "            heuristics.append(tmp_h)\n",
    "\n",
    "        # Step 3: Dominance pruning\n",
    "        sorted_c = [\n",
    "            state for (idx, state) in sorted(\n",
    "                list(enumerate(c)),\n",
    "                key=lambda tmp: heuristics[tmp[0]],\n",
    "                reverse=True,\n",
    "            )\n",
    "        ]\n",
    "        kappa_best_list = sorted_c[:kappa]\n",
    "        for idx in range(len(sorted_c) - 1, len(kappa_best_list) - 1, -1):\n",
    "            if any(better.dominate(sorted_c[idx]) for better in kappa_best_list):\n",
    "                sorted_c.pop(idx)\n",
    "\n",
    "        # Step 4: Selection\n",
    "        b = sorted_c[:beta]"
   ]
  },
  {
   "cell_type": "code",
   "execution_count": null,
   "id": "SFPL",
   "metadata": {},
   "outputs": [
    {
     "name": "stdout",
     "output_type": "stream",
     "text": [
      "--- Condition (with 25 chars) ---\n",
      "str1: tkgnkuhmpxnhtqgxzvxis\n",
      "str2: iojiqfolnbxxcvsuqpvissbxf\n",
      "str3: ulcinycosovozpplp\n",
      "str4: igevazgbrddbcsvrvnngf\n",
      "\n"
     ]
    },
    {
     "name": "stdout",
     "output_type": "stream",
     "text": [
      "--- Solution (of length 73) ---\n",
      " Sol: itkgnkuojiqfolevnazbcghxbimxcnprdvyxdcnshboucstqovpgvorxzvisnpsbxnpgfilps\n",
      "str1: -tkgnku---------------h---m---p----x--n-h-----tq---g---xzv------x----i--s\n",
      "str2: i------ojiqfol--n--b---x---xc----v-----s---u---q--p-v-----is--sbx---f----\n",
      "str3: ------u------l------c----i---n----y--c----o--s--ov---o--z----p----p---lp-\n",
      "str4: i--g----------ev-az--g--b------rd---d----b--cs---v----r--v--n----n-gf----\n",
      "\n",
      "solution is feasible: True\n"
     ]
    }
   ],
   "source": [
    "_instance = util.parse(\"uniform_q26n004k015-025.txt\")\n",
    "util.show(_instance)\n",
    "_solution = solve(_instance)\n",
    "util.show(_instance, _solution)\n",
    "print(f\"solution is feasible: {util.is_feasible(_instance, _solution)}\")"
   ]
  },
  {
   "cell_type": "code",
   "execution_count": null,
   "id": "BYtC",
   "metadata": {},
   "outputs": [
    {
     "name": "stdout",
     "output_type": "stream",
     "text": [
      "--- Condition (with 26 chars) ---\n",
      "str1: tkgnkuhmpxnhtqgxzvxis\n",
      "str2: iojiqfolnbxxcvsuqpvissbxf\n",
      "str3: ulcinycosovozpplp\n",
      "str4: igevazgbrddbcsvrvnngf\n",
      "str5: pyplrzxucpmqvgtdfuivcdsbo\n",
      "str6: pbdevdcvdpfzsmsbroqvbbh\n",
      "str7: enbczfjtvxerzbrvigple\n",
      "str8: rxwxqkrdrlctodtmprpxwd\n",
      "\n"
     ]
    },
    {
     "name": "stdout",
     "output_type": "stream",
     "text": [
      "--- Solution (of length 117) ---\n",
      " Sol: pigenboyjplrzxucidqtevfwkxolgnqkdcazvrdgbpfrujhmpxqtvxlcingtdvzsycodehtmsbfuroqpvizbrvcsgvoxzrvpxisbgplndsnwgxfbdehop\n",
      "str1: -------------------t----k---gn-k------------u-hmpx-------n-----------ht-------q---------g--xz-v-xis------------------\n",
      "str2: -i----o-j-------i-q---f---ol-n----------b--------x---x-c-----v-s-----------u--qpvi-----s----------sb---------xf------\n",
      "str3: --------------u------------l-----c----------------------in------yco-----s----o--v---------o-z--p-----pl-------------p\n",
      "str4: -ige-----------------v------------az---gb--r----------------d------d-----b------------cs-v---rv--------n--n-g-f------\n",
      "str5: p------y-plrzxuc-------------------------p-----m--q-v-----gtd-------------fu-----i---vc-----------------ds-----b---o-\n",
      "str6: p----b-----------d--ev----------dc--v-d--pf-------------------zs-------msb--roq-v--b---------------b--------------h--\n",
      "str7: ---enb---------c-------------------z------f--j-----tvx--------------e-------r-----zbrv-----------i--gpl----------e---\n",
      "str8: -----------r-x---------w-x----qk-----rd----r----------lc---t------od--tm-------p----r----------px----------w----d----\n",
      "\n",
      "solution is feasible: True\n"
     ]
    }
   ],
   "source": [
    "_instance = util.parse(\"uniform_q26n008k015-025.txt\")\n",
    "util.show(_instance)\n",
    "_solution = solve(_instance)\n",
    "util.show(_instance, _solution)\n",
    "print(f\"solution is feasible: {util.is_feasible(_instance, _solution)}\")"
   ]
  },
  {
   "cell_type": "code",
   "execution_count": null,
   "id": "RGSE",
   "metadata": {},
   "outputs": [
    {
     "name": "stdout",
     "output_type": "stream",
     "text": [
      "--- Condition (with 26 chars) ---\n",
      "str01: tkgnkuhmpxnhtqgxzvxis\n",
      "str02: iojiqfolnbxxcvsuqpvissbxf\n",
      "str03: ulcinycosovozpplp\n",
      "str04: igevazgbrddbcsvrvnngf\n",
      "str05: pyplrzxucpmqvgtdfuivcdsbo\n",
      "str06: pbdevdcvdpfzsmsbroqvbbh\n",
      "str07: enbczfjtvxerzbrvigple\n",
      "str08: rxwxqkrdrlctodtmprpxwd\n",
      "str09: kkqafigqjwokkskrblg\n",
      "str10: lxxpabivbvzkozzvd\n",
      "str11: krifsavncdqwhzc\n",
      "str12: qaxudgqvqcewbfgijowwy\n",
      "str13: rsxqjnfpadiusiqbezhkohmg\n",
      "str14: iwshvhcomiuvddm\n",
      "str15: htxxqjzqbctbakn\n",
      "str16: xusfcfzpeecvwantfmgqzu\n",
      "\n"
     ]
    },
    {
     "name": "stdout",
     "output_type": "stream",
     "text": [
      "--- Solution (of length 163) ---\n",
      "  Sol: krixuwslxqpkfchtxojiqfanypfxlrzpeabdigevudcosvaqjzgbrlnbxcdqvzkwognkuhcpmfqvdbctozsmipxqjbewtvanhtzcvsbuqgxfrpvdtmgideksrzfburviphkoqvrblgpxncjdsbowhmngwzxfildesuy\n",
      "str01: ---------------t----------------------------------------------k--gnkuh--m------------px--------nht------qgx--------------z----v------------x----------------i---s--\n",
      "str02: --i--------------ojiqf---------------------o---------lnbx-----------------------------x------------cvs-uq----pv----i---s------------------------sb--------xf-------\n",
      "str03: ----u--l-----c-----i---ny-----------------cos-------------------o----------v----oz---p-----------------------p--------------------------l-p------------------------\n",
      "str04: --i----------------------------------gev------a--zgbr-----d-----------------dbc---s----------v--------------r-v-----------------------------n---------ng---f-------\n",
      "str05: ----------p-------------yp--lrz-------------------------x-----------u-cpm-qv-----------------------------g------t---d-----f-u--i-----v-------c-dsbo----------------\n",
      "str06: ----------p-----------------------bd--ev-dc--v------------d------------p-f-------zsm-----------------sb-----r----------------------oqv-b---------b--h--------------\n",
      "str07: --------------------------------e---------------------nb-c---z-----------f--------------j---tv------------x----------e--rz-b-rvi---------gp------------------l-e---\n",
      "str08: -r-x-w--xq-k-----------------r-----d----------------rl---c---------------------to------------------------------dtm--------------p-----r---px-------w----------d----\n",
      "str09: k----------k--------q-a---f---------ig---------qj--------------wo--k--------------------------------------------------ks----------k---rblg-------------------------\n",
      "str10: -------lx-------x--------p-------ab-i--v-----------b--------vzk-o----------------z----------------z-v----------d---------------------------------------------------\n",
      "str11: kri---------f-------------------------------s-a-------------v-----n---c-----d----------q---w----h-zc---------------------------------------------------------------\n",
      "str12: ---------q------------a----x------------ud--------g--------qv-------------q---c-----------ew----------b----f------gi--------------------------j---ow----w---------y\n",
      "str13: -r----s-xq--------j----n--f----p-a-di---u---s---------------------------------------i--q-be-------z------------------------------hko----------------hm-g-----------\n",
      "str14: --i--ws-------h------------------------v-----------------------------hc---------o--mi------------------u------vd----d--------------------------------m-------------\n",
      "str15: --------------htx----------x-------------------qjz---------q-----------------bct---------b----a-----------------------k---------------------n----------------------\n",
      "str16: ---xu-s-----fc-------f--------zpe-----e---c--v-----------------w------------------------------an-t---------f-----mg-----------------q--------------------z-------u-\n",
      "\n",
      "solution is feasible: True\n"
     ]
    }
   ],
   "source": [
    "_instance = util.parse(\"uniform_q26n016k015-025.txt\")\n",
    "util.show(_instance)\n",
    "_solution = solve(_instance)\n",
    "util.show(_instance, _solution)\n",
    "print(f\"solution is feasible: {util.is_feasible(_instance, _solution)}\")"
   ]
  },
  {
   "cell_type": "code",
   "execution_count": null,
   "id": "Kclp",
   "metadata": {},
   "outputs": [
    {
     "name": "stdout",
     "output_type": "stream",
     "text": [
      "--- Condition (with 5 chars) ---\n",
      "str01: dcbccdbcce\n",
      "str02: bddbeeeebd\n",
      "str03: cacdeecebe\n",
      "str04: aeddddebdd\n",
      "str05: acbeecabce\n",
      "str06: bbabebdcba\n",
      "str07: bbaeaebada\n",
      "str08: eeeecbdbee\n",
      "str09: ccdeedadcd\n",
      "str10: bdabdbeaad\n",
      "\n"
     ]
    },
    {
     "name": "stdout",
     "output_type": "stream",
     "text": [
      "--- Solution (of length 28) ---\n",
      "  Sol: bdcbacedbeeecdabddecbadceade\n",
      "str01: -dcb-c------cd-b---c---ce---\n",
      "str02: bd-----dbeee------e-b-d-----\n",
      "str03: --c-ac-d-ee-c-----e-b---e---\n",
      "str04: ----a-ed-----d--dde-b-d---d-\n",
      "str05: ----ac--bee-c-ab---c----e---\n",
      "str06: b--ba---be-----bd--cba------\n",
      "str07: b--ba-e-------a---e-bad--a--\n",
      "str08: ------e--eeec--bd---b---e--e\n",
      "str09: --c--c-d-ee--da-d--c--d-----\n",
      "str10: bd--a---b----d-b--e--a---ad-\n",
      "\n",
      "solution is feasible: True\n"
     ]
    }
   ],
   "source": [
    "_instance = util.parse(\"uniform_q05n010k010-010.txt\")\n",
    "util.show(_instance)\n",
    "_solution = solve(_instance)\n",
    "util.show(_instance, _solution)\n",
    "print(f\"solution is feasible: {util.is_feasible(_instance, _solution)}\")"
   ]
  },
  {
   "cell_type": "code",
   "execution_count": null,
   "id": "emfo",
   "metadata": {},
   "outputs": [
    {
     "name": "stdout",
     "output_type": "stream",
     "text": [
      "--- Condition (with 5 chars) ---\n",
      "str01: dcbccdbcce\n",
      "str02: bddbeeeebd\n",
      "str03: cacdeecebe\n",
      "str04: aeddddebdd\n",
      "str05: acbeecabce\n",
      "str06: bbabebdcba\n",
      "str07: bbaeaebada\n",
      "str08: eeeecbdbee\n",
      "str09: ccdeedadcd\n",
      "str10: bdabdbeaad\n",
      "str11: ededaaaeaa\n",
      "str12: aaeaabeeac\n",
      "str13: eaabcaccdb\n",
      "str14: bdeeadeade\n",
      "str15: caedadeeed\n",
      "str16: ebcadbabbe\n",
      "str17: ddceeabdea\n",
      "str18: dabcddeaec\n",
      "str19: aadceedaab\n",
      "str20: aeecceeeaa\n",
      "str21: bbdaecaade\n",
      "str22: dacedaedab\n",
      "str23: aaeabbbbce\n",
      "str24: dedbcbcaab\n",
      "str25: dbdaaebbcb\n",
      "str26: debedbebac\n",
      "str27: ceebcdcbde\n",
      "str28: dbedaadaab\n",
      "str29: cccdcbebdc\n",
      "str30: aeeacdbcbd\n",
      "str31: dacbeacccd\n",
      "str32: ecebccdbdb\n",
      "str33: ddbbcedabb\n",
      "str34: aaeabaaeba\n",
      "str35: ecbbcaadcd\n",
      "str36: debccecdbc\n",
      "str37: daacbaeebc\n",
      "str38: adabeaacce\n",
      "str39: daecdbacaa\n",
      "str40: dacbbdcedc\n",
      "str41: dedbeebbde\n",
      "str42: cdadcdcdaa\n",
      "str43: ceedcbaeed\n",
      "str44: ceaecaaaca\n",
      "str45: dcccebbbad\n",
      "str46: baeeaebbde\n",
      "str47: dbdebaccdb\n",
      "str48: ebcbeedaea\n",
      "str49: aeeebbdbca\n",
      "str50: dbdabcecbb\n",
      "\n"
     ]
    },
    {
     "name": "stdout",
     "output_type": "stream",
     "text": [
      "--- Solution (of length 34) ---\n",
      "  Sol: daebcdabecdaebceadcbaedcbeabdceabd\n",
      "str01: d---c--b-c----c--d-b---c-----ce---\n",
      "str02: ---b-d----d--b-e-----e---e----e-bd\n",
      "str03: ----c-a--cd-e--e--c--e--be--------\n",
      "str04: -ae--d----d------d----d--e-bd----d\n",
      "str05: -a--c--be---e-c-a--b---c-e--------\n",
      "str06: ---b---b---a-b-e---b--dcb-a-------\n",
      "str07: ---b---b---ae---a----e--b-a-d--a--\n",
      "str08: --e-----e---e--e--cb--d-be----e---\n",
      "str09: ----c----cd-e--e-d--a-dc----d-----\n",
      "str10: ---b-dab--d--b-ea---a-d-----------\n",
      "str11: --e--d--e-da----a---ae----a----a--\n",
      "str12: -a----a-e--a----a--b-e---ea--c----\n",
      "str13: --e---a----a-bc-a-c----c----d---b-\n",
      "str14: ---b-d--e---e---ad---e----a-d-e---\n",
      "str15: ----c-a-e-da-----d---e---e----e--d\n",
      "str16: --ebc-a---d--b--a--b----be--------\n",
      "str17: d----d---c--e--ea--b--d--ea-------\n",
      "str18: da-bcd----d-e---a----e-c----------\n",
      "str19: -a----a---d---ce-----ed---a----ab-\n",
      "str20: -ae-----ec----ce-----e---ea----a--\n",
      "str21: ---b---b--dae-c-a---a-d--e--------\n",
      "str22: da--c---e-dae----d--a---b---------\n",
      "str23: -a----a-e--a-b-----b----b--b-ce---\n",
      "str24: d-e--d-b-c---bc-a---a---b---------\n",
      "str25: d--b-da----aeb-----b---cb---------\n",
      "str26: d-eb----e-d--b-e---ba--c----------\n",
      "str27: ----c---e---ebc--dcb--d--e--------\n",
      "str28: d--b----e-da----ad--a-----ab------\n",
      "str29: ----c----c----c--dcb-e--b---dc----\n",
      "str30: -ae-----e--a--c--d-b---cb---d-----\n",
      "str31: da--c--be--a--c---c----c----d-----\n",
      "str32: --e-c---e----bc---c---d-b---d---b-\n",
      "str33: d----d-b-----bce-d--a---b--b------\n",
      "str34: -a----a-e--a-b--a---ae--b-a-------\n",
      "str35: --e-c--b-----bc-a---a-dc----d-----\n",
      "str36: d-ebc----c--e-c--d-b---c----------\n",
      "str37: da----a--c---b--a----e---e-b-c----\n",
      "str38: -a---dabe--a----a-c----c-e--------\n",
      "str39: dae-cd-b---a--c-a---a-------------\n",
      "str40: da--c--b-----b---dc--edc----------\n",
      "str41: d-e--d-be---eb-----b--d--e--------\n",
      "str42: ----cda---d---c--dc---d---a----a--\n",
      "str43: ----c---e---e----dcbae---e--d-----\n",
      "str44: ----c---e--ae-c-a---a-----a--c-a--\n",
      "str45: d---c----c----ce---b----b--b---a-d\n",
      "str46: ---b--a-e---e---a----e--b--bd-e---\n",
      "str47: d--b-d--e----b--a-c----c----d---b-\n",
      "str48: --ebc--be---e----d--ae----a-------\n",
      "str49: -ae-----e---eb-----b--d-b----c-a--\n",
      "str50: d--b-dab-c--e-c----b----b---------\n",
      "\n",
      "solution is feasible: True\n"
     ]
    }
   ],
   "source": [
    "_instance = util.parse(\"uniform_q05n050k010-010.txt\")\n",
    "util.show(_instance)\n",
    "_solution = solve(_instance)\n",
    "util.show(_instance, _solution)\n",
    "print(f\"solution is feasible: {util.is_feasible(_instance, _solution)}\")"
   ]
  },
  {
   "cell_type": "code",
   "execution_count": null,
   "id": "Hstk",
   "metadata": {},
   "outputs": [
    {
     "name": "stdout",
     "output_type": "stream",
     "text": [
      "--- Condition (with 4 chars) ---\n",
      "str01: ATGGGATACG\n",
      "str02: ATACCTTCCC\n",
      "str03: CACGAATTGA\n",
      "str04: TAAAATCTGT\n",
      "str05: AGGTAACAAA\n",
      "str06: TTCCTAGGTA\n",
      "str07: TTGTAGATCT\n",
      "str08: TGGGAAGTTC\n",
      "str09: TTCCACAACT\n",
      "str10: TCTAAACGAA\n",
      "\n"
     ]
    },
    {
     "name": "stdout",
     "output_type": "stream",
     "text": [
      "--- Solution (of length 24) ---\n",
      "  Sol: TATCGGTACGACTAGTCTGACTAC\n",
      "str01: -AT-GG---GA-TA--C-G-----\n",
      "str02: -AT----AC--CT--TC---C--C\n",
      "str03: ---C---ACGA--A-T-TGA----\n",
      "str04: TA-----A--A--A-TCTG--T--\n",
      "str05: -A--GGTA--AC-A-----A--A-\n",
      "str06: T-TC----C---TAG---G--TA-\n",
      "str07: T-T-G-TA-GA-T---CT------\n",
      "str08: T---GG---GA--AGT-T--C---\n",
      "str09: T-TC----C-AC-A-----ACT--\n",
      "str10: T--C--TA--A--A--C-GA--A-\n",
      "\n",
      "solution is feasible: True\n"
     ]
    }
   ],
   "source": [
    "_instance = util.parse(\"nucleotide_n010k010.txt\")\n",
    "util.show(_instance)\n",
    "_solution = solve(_instance)\n",
    "util.show(_instance, _solution)\n",
    "print(f\"solution is feasible: {util.is_feasible(_instance, _solution)}\")"
   ]
  },
  {
   "cell_type": "code",
   "execution_count": null,
   "id": "nWHF",
   "metadata": {},
   "outputs": [
    {
     "name": "stdout",
     "output_type": "stream",
     "text": [
      "--- Condition (with 5 chars) ---\n",
      "str01: TAGTAGTAGACTCCGGAAGTGACAAACCCTGAAAAGAATGGATAAATATA\n",
      "str02: GGATAAACACTCCCGAAAATAATTTGACTTAAACAACGCGACAGTTCAAG\n",
      "str03: ATACCTTCCTAGGTAACAAACCAACCAACTTTTGATCTCTTGTAGATCTG\n",
      "str04: TAAATTATAATCTTATACTAGTAAAAAATAGGGTGTAACCGAAAACGGTC\n",
      "str05: TTAAAACAGCCTGTGGGTTGCACCCACTCACAGGGCCCACTGGGCGCAAG\n",
      "str06: ATGACTTCCAATGGATCCCAACCTCAAGCTTCCACCCCAATGGTTTCAGC\n",
      "str07: AACAAACCAACCAACTTTTGATCTCTTGTAGATCTGTTCTCTAAACGAAC\n",
      "str08: ATGAAAACGAAAATTATTATCAAGGGTATGGAAGTGGAAGCTGACGAAAT\n",
      "str09: ACTCGGCTGCATGCTTAGTGCACTCACGCAGTATAATTAATAACTAATTA\n",
      "str10: TTGTAGATCTGTTCTCTAAACGAACTTTAAAATCTGTGTGGCTGTCACTC\n",
      "str11: GCAGAGCATTTTCTAATATCCACAAAATGAAGGCAATAATTGTACTACTC\n",
      "str12: ATGAGCCAAGATCCGACGAAGAGCCCCAAGGAGGAGAAGGAGGGACCCCC\n",
      "str13: TCTCACAGTTCAAGAACCCAAAGTACCCCCCATAGCCCTCTTAAAGCCAC\n",
      "str14: AGGTTTATACCTTCCTAGGTAACAAACCAACCAACTTTCGATCTCTTGTA\n",
      "str15: AGGTTTATACCTTCCCAGGTAACAAACCAACCAACTTTCGATCTCTTGTA\n",
      "str16: TAAAACAACTCAATACAACATAAGAAAATCAACGCAAAAACACTCACAAA\n",
      "str17: CCGCCCATTTGGGCGGCTCTCGAGCGATAGCTCGTCGAATCCCTCGACCT\n",
      "str18: ATACCTTCCCAGGTAACAAACCAACCAACTTTCGATCTCTTGTAGATCTG\n",
      "str19: TCTCACAGTTCAAGAACCTCAAGTCTCCCCCATAGGCCTCTTTCAGTCAG\n",
      "str20: GATCTCTCTCACCGAACCTGGCCCCGGGCAAATGCCCTAATCCAGAGGTG\n",
      "str21: AGAGCAATCAGTGCATCAGAAATATACCTATTATACACTTTGCTAAGAAT\n",
      "str22: AATTAAAACATCTCAATACAACATAAGAAAAACAACGCAAAAACACTCAT\n",
      "str23: AAACGAACTTTAAAATCTGTGTGGCTGTCACTCGGCTGCATGCTTAGTGC\n",
      "str24: ATAACTAATTACTGTCGTTGACAGGACACGAGTAACTCGTCTATCTTCTG\n",
      "str25: ATGAGTGTCACGAATTCACGTACAATGAACTGGATGTTCACGTGGAATAA\n",
      "str26: ACCGTGGGCGAGCGGTGACCGGTGTCTTCCTAGTGGGTCCCACGTTGAAR\n",
      "str27: AAAGGTTTATACCTTCCCAGGTAACAAACCAACCAACTTTCGATCTCTTG\n",
      "str28: AGTAGTTCGCCTGTGTGAGCTGACAAACTTAGTAGTGTTTGTGAGGATTA\n",
      "str29: TTTATACCTTCCTAGGTAACAAACCAACCAACTTTCGATCTCTTGTAGAT\n",
      "str30: ATGCGGTCGTCTCTCCCCGGCTTTTTTTCCCCGCGCCGCGTTGGCGCCGA\n",
      "str31: GTGACAAAAACATAATGGACTCCAACACCATGTCAAGCTTTCAGGTAGAC\n",
      "str32: GTGTAAGAAACAGTAAGCCCGGAAGTGGTGTTTTGCGATTTCGAGGCCGG\n",
      "str33: GAGAATGAGTCTCATTACCGCCCGGTACTTAGCAAGCTAATAGTCACGGC\n",
      "str34: ATGTGGTCGATGCCATGGAGGCCCACCAGTTCATTAAGGCTCCTGGCATT\n",
      "str35: ACGAGCGTTTTAAGGGCCCGCGACTGCGACGGCCACATGGCCCTGTATGT\n",
      "str36: GGTTTATACCTTCCCAGGTAACAAACCAACCAACTTTCGATCTCTTGTAG\n",
      "str37: TGGGAAGTTCCAAAAGATCACAAAACACTACCAGTCAACCTGAAGTACAC\n",
      "str38: GAAGCGTTAACGTGTTGAGGAAAAGACAGCTTAGGAGAACAAGAGCTGGG\n",
      "str39: ACCAGCGCACTTCGGCAGCGGCAGCACCTCGGCAGCACCTCAGCAGCAAC\n",
      "str40: ATGGGACAACTTATTCCTATCATGTGCCAAGAGGTTTTACCCGGTGACCA\n",
      "str41: TTGTAGATCTGTTCTCTAAACGAACTTTAAAATCTGTGTGGTTGTCACTC\n",
      "str42: AACCAACCAACTTTCGATCTCTTGTAGATCTGTTCTCTAAACGAACTTTA\n",
      "str43: GGGTTCTGCCAGGCATAGTCTTTTTTTCTGGCGGCCCTTGTGTAAACCTG\n",
      "str44: GGCTGCATGCTTAGTGCACTCACGCAGTATAATTAATAACTAATTACTGT\n",
      "str45: TGCATGCTTAGTGCACTCACGCAGTATAATTAATAACTAATTACTGTCGT\n",
      "str46: TTCCACAACTTTCCACCAAGCTCTGCAAGATCCCAGAGTCAGGGGCCTGT\n",
      "str47: TCTAAACGAACTTTAAAATCTGTGTGGCTGTCACTCGGCTGCATGCTTAG\n",
      "str48: ACCGGATGGCCGCGATTTTTCGGAGTCCTTGGGGGACCACTCAGAATAGA\n",
      "str49: CTTGTAGATCTGTTCTCTAAACGAACTTTAAAATCTGTGTGGCTGTCACT\n",
      "str50: ATGAGCACTAAGCGAAGAACCAAAAAGCAGACAATACAACCCGCTATTAC\n",
      "\n"
     ]
    },
    {
     "name": "stdout",
     "output_type": "stream",
     "text": [
      "--- Solution (of length 141) ---\n",
      "  Sol: AAACAAACAAGGTAGCTAGCTATGACTACTAGTCATGCATCAGTAGTACACTGATCAGACTGCAATGCTACAGACTAGCTAGTCATGCATGCTAGCTAGCATCGACGTACATCGACTGATCGTGACTAGCATCAGCCTGAR\n",
      "str01: ------------TAG-TAG-TA-GACT-C----C--G-----G-A--A----G-T--GAC---AA----AC---C---CT-G--A---A----A---AG-A---A--T-----G---GAT----A--A--AT-A---T-A-\n",
      "str02: ----------GG-A--TA---A--AC-ACT---C---C--C-G-A--A-A---AT-A-A-T----T--T---GACT---TA---A---A--C-A---A-C---G-CG-ACA--G--T--TC---A--AG------------\n",
      "str03: A-----------TA-C---CT-T--C--CTAG----G--T-A--A---CA---A--A--C--CAA--C--CA-ACT---T--T--TG-AT-CT--CT----T-G---TA----GA-T---C-TG-----------------\n",
      "str04: ------------TA---A---AT---TA-TA---AT-C-T---TA-TAC--T-A---G--T--AA----A-A-A--A--TAG----G---G-T-G-TA--A-C--CG-A-A---A---A-CG-G--T--C-----------\n",
      "str05: ------------T---TA---A--A--AC-AG-C---C-T--GT-G------G----G--T----TGC-AC---C---C-A--C-T-CA--C-AG---G----G-C---C--C-ACTG---G-G-C--GCA--AG------\n",
      "str06: A-----------T-G--A-CT-T--C--C-A---ATG-----G-A-T-C-C----CA-AC--C--T-C-A-AG-CT---T---C---CA--C---C---C--C-A---A--T-G---G-T--T---T--CA---GC-----\n",
      "str07: AA-CAAAC-------C-A---A---C--C-A---A--C-T---T--T----TGATC----T-C--T--T---G--TAG--A-TC-TG--T--T--CT--C-T--A---A-A-CGA---A-C--------------------\n",
      "str08: A-----------T-G--A---A--A--AC--G--A---A--A--A-T----T-AT-----T--A-T-C-A-AG----G---GT-ATG---G--A---AG--T-G--G-A-A--G-CTGA-CG--A--A--AT---------\n",
      "str09: A--C--------T--C--G----G-CT----G-CATGC-T---TAGT-----G--CA--CT-CA---C----G-C-AG-TA-T-A---AT--TA---A---T--A---AC-T--A---AT--T-A----------------\n",
      "str10: ------------T---T-G-TA-GA-T-CT-GT--T-C-TC--TA--A-AC-GA--A--CT----T--TA-A-A--A--T---C-TG--TG-T-G---GC-T-G---T-CA-C---T---C--------------------\n",
      "str11: ----------G----C-AG--A-G-C-A-T--T--T---TC--TA--A---T-ATC---C---A---C-A-A-A--A--T-G--A---A-G---GC-A--AT--A---A--T----TG-T----ACTA-C-TC--------\n",
      "str12: A-----------T-G--AGC-----C-A--AG--AT-C--C-G-A---C---GA--AGA--GC----C--C---C-A---AG----G-A-G---G--AG-A---A-G------GA--G---G-GAC---C--C--CC----\n",
      "str13: ------------T--CT--C-A---C-A---GT--T-CA--AG-A--AC-C----CA-A----A--G-TAC---C---C----C---C---C-A--TAGC--C--C-T-C-T----T-A-----A--AGC--CA-C-----\n",
      "str14: A---------GGT---T---TAT-AC--CT--TC---C-T-AG--GTA-AC--A--A-AC--CAA--C--CA-ACT---T--TC--G-AT-CT--CT----T-G---TA--------------------------------\n",
      "str15: A---------GGT---T---TAT-AC--CT--TC---C--CAG--GTA-AC--A--A-AC--CAA--C--CA-ACT---T--TC--G-AT-CT--CT----T-G---TA--------------------------------\n",
      "str16: ------------TA---A---A--AC-A--A--C-T-CA--A-TA---CA---A-CA---T--AA-G--A-A-A--A--T---CA---A--C--GC-A--A---A---A-A-C-ACT---C---AC-A--A--A-------\n",
      "str17: ---C---C--G----C---C-----C-A-T--T--TG-----G--G--C---G----G-CT-C--T-C----GA---GC--G--AT--A-GCT--C--G--TCGA---A--TC--C----C-T--C--G-A-C--C-T---\n",
      "str18: A-----------TA-C---CT-T--C--C----CA-G-----GTA--ACA---A--A--C--CAA--C--CA-ACT---T--TC--G-AT-CT--CT----T-G---TA----GA-T---C-TG-----------------\n",
      "str19: ------------T--CT--C-A---C-A---GT--T-CA--AG-A--AC-CT---CA-A--G---T-CT-C---C---C----C---CAT---AG---GC--C----T-C-T----T--TC---A---G--TCAG------\n",
      "str20: ----------G--A--T--CT----CT-CT---CA--C--C-G-A--AC-CTG----G-C--C----C--C-G----G---G-CA---A----A--T-GC--C--C-TA-ATC--C--A--G--A---G-----G--TG--\n",
      "str21: A---------G--AGC-A---AT--C-A---GT---GCATCAG-A--A-A-T-AT-A--C--C--T---A-----T---TA-T-A--CA--CT---T----T-G-C-TA-A--GA---AT---------------------\n",
      "str22: AA----------T---TA---A--A--AC-A-TC-T-CA--A-TA---CA---A-CA---T--AA-G--A-A-A--A---A--CA---A--C--GC-A--A---A---A-A-C-ACT---C---A-T--------------\n",
      "str23: AAAC------G--A---A-CT-T---TA--A---A---ATC--T-GT-----G-T--G---GC--TG-T-CA--CT--C--G----GC-TGC-A--T-GC-T-----TA----G--TG--C--------------------\n",
      "str24: A-----------TA---A-CTA--A-T--TA--C-TG--TC-GT--T-----GA-CAG---G-A---C-AC-GA---G-TA---A--C-T-C--G-T--C-T--A--T-C-T----T---C-TG-----------------\n",
      "str25: A-----------T-G--AG-T--G--T-C-A--C--G-A--A-T--T-CAC-G-T-A--C---AATG--A-A--CT-G---G--ATG--T--T--C-A-C---G---T-----G---GA-----A-TA--A----------\n",
      "str26: A--C---C--G-T-G---G----G-C-----G--A-GC----G--GT-----GA-C---C-G----G-T---G--T--CT--TC---C-T---AG-T-G----G--GT-C--C--C--A-CGT---T-G-A--A------R\n",
      "str27: AAA-------GGT---T---TAT-AC--CT--TC---C--CAG--GTA-AC--A--A-AC--CAA--C--CA-ACT---T--TC--G-AT-CT--CT----T-G-------------------------------------\n",
      "str28: A---------G-TAG-T---T----C-----G-C---C-T--GT-GT-----GA---G-CTG-A---C-A-A-ACT---TAGT-A-G--TG-T---T----T-G---T-----GA--G---G--A-T----T-A-------\n",
      "str29: ------------T---T---TAT-AC--CT--TC-"
     ]
    },
    {
     "name": "stdout",
     "output_type": "stream",
     "text": [
      "--C-T-AG--GTA-AC--A--A-AC--CAA--C--CA-ACT---T--TC--G-AT-CT--CT----T-G---TA----GA-T------------------------\n",
      "str30: A-----------T-GC--G----G--T-C--GTC-T-C-TC-------C-C----C-G---GC--T--T------T---T--T--T---T-C---C---C--CG-CG--C--CG-C-G-T--TG----GC----GCC-GA-\n",
      "str31: ----------G-T-G--A-C-A--A--A--A---A--CAT-A--A-T-----G----GACT-C----C-A-A--C-A-C----CATG--T-C-A---AGC-T-----T---TC-A--G---GT-A---G-A-C--------\n",
      "str32: ----------G-T-G-TA---A-GA--A--A--CA-G--T-A--AG--C-C----C-G---G-AA-G-T---G----G-T-GT--T---T--T-GC--G-AT-----T---TCGA--G---G---C---C----G---G--\n",
      "str33: ----------G--AG--A---ATGA------GTC-T-CAT---TA---C-C-G--C---C--C---G-----G--TA-CT--T-A-GCA----AGCTA--AT--A-GT-CA-CG---G--C--------------------\n",
      "str34: A-----------T-G-T-G----G--T-C--G--ATGC--CA-T-G------GA---G---GC----C--CA--C---C-AGT--T-CAT--TA---AG----G-C-T-C--C---TG---G---C-A---T-----T---\n",
      "str35: A--C------G--AGC--G-T-T---T--TA---A-G-----G--G--C-C----C-G-C-G-A---CT---G-C--G--A--C--G---GC---C-A-CAT-G--G--C--C--CTG-T----A-T-G--T---------\n",
      "str36: ----------GGT---T---TAT-AC--CT--TC---C--CAG--GTA-AC--A--A-AC--CAA--C--CA-ACT---T--TC--G-AT-CT--CT----T-G---TA----G---------------------------\n",
      "str37: ------------T-G---G----GA--A---GT--T-C--CA--A--A-A--GATCA--C---AA----A-A--C-A-CTA--C---CA-G-T--C-A--A-C--C-T-----GA---A--GT-AC-A-C-----------\n",
      "str38: ----------G--A---AGC---G--T--TA---A--C----GT-GT----TGA---G---G-AA----A-AGAC-AGCT--T-A-G---G--AG--A--A-C-A---A----GA--G--C-TG----G-----G------\n",
      "str39: A--C---CA-G----C--GC-A---CT--T---C--G-----G-----CA--G--C-G---GCA--GC-AC---CT--C--G----GCA-GC-A-C---C-TC-A-G--CA--G-C--A-----AC---------------\n",
      "str40: A-----------T-G---G----GAC-A--A--C-T---T-A-T--T-C-CT-ATCA---TG---TGC--CA-A---G--AG----G--T--T---T----T--AC---C--CG---G-T-G--AC---CA----------\n",
      "str41: ------------T---T-G-TA-GA-T-CT-GT--T-C-TC--TA--A-AC-GA--A--CT----T--TA-A-A--A--T---C-TG--TG-T-G---G--T-----T-----G--T---C---ACT--C-----------\n",
      "str42: AA-C---CAA-----C---C-A--ACT--T--TC--G-ATC--T----C--T--T--G--T--A--G--A-----T--CT-GT--T-C-T-CTA---A--A-CGA---AC-T----T--T----A----------------\n",
      "str43: ----------GG--G-T---T----CT----G-C---CA---G--G--CA-T-A---G--T-C--T--T------T---T--T--T---T-CT-G---GC---G--G--C--C--CT--T-GTG--TA--A--A-CCTG--\n",
      "str44: ----------GG---CT-GC-ATG-CT--TAGT---GCA-C--T----CAC-G--CAG--T--A-T---A-A---T---TA---AT--A----A-CTA--AT-----TAC-T-G--T------------------------\n",
      "str45: ------------T-GC-A--T--G-CT--TAGT---GCA-C--T----CAC-G--CAG--T--A-T---A-A---T---TA---AT--A----A-CTA--AT-----TAC-T-G--T---CGT------------------\n",
      "str46: ------------T---T--C-----C-AC-A---A--C-T---T--T-C-C--A-C---C---AA-GCT-C----T-GC-A---A-G-AT-C---C---CA--GA-GT-CA--G---G---G-G-C---C-T--G--T---\n",
      "str47: ------------T--CTA---A--AC-----G--A---A-C--T--T----T-A--A-A----A-T-CT---G--T-G-T-G----GC-TG-T--C-A-C-TCG--G--C-T-G-C--AT-G---CT----T-AG------\n",
      "str48: A--C---C--GG-A--T-G----G-C--C--G-C--G-AT---T--T----T--TC-G---G-A--G-T-C---CT---T-G----G---G---G---G-A-C--C--AC-TC-A--GA-----A-TAG-A----------\n",
      "str49: ---C--------T---T-G-TA-GA-T-CT-GT--T-C-TC--TA--A-AC-GA--A--CT----T--TA-A-A--A--T---C-TG--TG-T-G---GC-T-G---T-CA-C---T------------------------\n",
      "str50: A-----------T-G--AGC-A---CTA--AG-C--G-A--AG-A--AC-C--A--A-A----AA-GC-A--GAC-A---A-T-A--CA----A-C---C--CG-C-TA--T----T-A-C--------------------\n",
      "\n",
      "solution is feasible: True\n"
     ]
    }
   ],
   "source": [
    "_instance = util.parse(\"nucleotide_n050k050.txt\")\n",
    "util.show(_instance)\n",
    "_solution = solve(_instance)\n",
    "util.show(_instance, _solution)\n",
    "print(f\"solution is feasible: {util.is_feasible(_instance, _solution)}\")"
   ]
  },
  {
   "cell_type": "code",
   "execution_count": null,
   "id": "iLit",
   "metadata": {},
   "outputs": [
    {
     "name": "stdout",
     "output_type": "stream",
     "text": [
      "--- Condition (with 19 chars) ---\n",
      "str01: MALSYCPKGT\n",
      "str02: MQSSLNAIPV\n",
      "str03: MPLSYQHFRK\n",
      "str04: MEEHVNELHD\n",
      "str05: MSNFDAIRAL\n",
      "str06: MFRNQNSRNG\n",
      "str07: MFYAHAFGGY\n",
      "str08: MSKFTRRPYQ\n",
      "str09: MSFVAGVTAQ\n",
      "str10: MESLVPGFNE\n",
      "\n"
     ]
    },
    {
     "name": "stdout",
     "output_type": "stream",
     "text": [
      "--- Solution (of length 51) ---\n",
      "  Sol: MEQSFAPLSYRNVAEHQKFVNDAPGHFVTSRELNAIRCPKGGYQHADELTV\n",
      "str01: M----A-LSY---------------------------CPKG--------T-\n",
      "str02: M-QS----S-----------------------LNAI--P-----------V\n",
      "str03: M-----PLSY------Q--------HF---R--------K-----------\n",
      "str04: ME------------EH---VN----------EL-----------H-D----\n",
      "str05: M--S-------N------F--DA------------IR--------A--L--\n",
      "str06: M---F-----RN----Q---N--------SR--N------G----------\n",
      "str07: M---F----Y---A-H------A---F-------------GGY--------\n",
      "str08: M--S-------------KF---------T-R-----R-P---YQ-------\n",
      "str09: M--SF-------VA----------G--VT-----A--------Q-------\n",
      "str10: ME-S---L----V----------PG-F------N-------------E---\n",
      "\n",
      "solution is feasible: True\n"
     ]
    }
   ],
   "source": [
    "_instance = util.parse(\"protein_n010k010.txt\")\n",
    "util.show(_instance)\n",
    "_solution = solve(_instance)\n",
    "util.show(_instance, _solution)\n",
    "print(f\"solution is feasible: {util.is_feasible(_instance, _solution)}\")"
   ]
  },
  {
   "cell_type": "code",
   "execution_count": null,
   "id": "ZHCJ",
   "metadata": {},
   "outputs": [
    {
     "name": "stdout",
     "output_type": "stream",
     "text": [
      "--- Condition (with 20 chars) ---\n",
      "str01: MRHLNIDIETYSSNDIKNGVYKYADAEDFEILLFAYSIDGGEVECLDLTR\n",
      "str02: MERRAHRTHQNWDATKPRERRKQTQHRLTHPDDSIYPRIEKAEGRKEDHG\n",
      "str03: MEPGAFSTALFDALCDDILHRRLESQLRFGGVQIPPEVSDPRVYAGYALL\n",
      "str04: MGKFYYSNRRLAVFAQAQSRHLGGSYEQWLACVSGDSAFRAEVKARVQKD\n",
      "str05: FFRENLAFQQGKAREFPSEEARANSPTSRELWVRRGGNPLSEAGAERRGT\n",
      "str06: MDPSLTQVWAVEGSVLSAAVDTAETNDTEPDEGLSAENEGETRIIRITGS\n",
      "str07: MAFDFSVTGNTKLDTSGFTQGVSSMTVAAGTLIADLVKTASSQLTNLAQS\n",
      "str08: MAVILPSTYTDGTAACTNGSPDVVGTGTMWVNTILPGDFFWTPSGESVRV\n",
      "str09: MNTGIIDLFDNHVDSIPTILPHQLATLDYLVRTIIDENRSVLLFHIMGSG\n",
      "str10: MFVFLVLLPLVSSQCVNLRTRTQLPPAYTNSFTRGVYYPDKVFRSSVLHS\n",
      "str11: MDSKETILIEIIPKIKSYLLDTNISPKSYNDFISRNKNIFVINLYNVSTI\n",
      "str12: MLLSGKKKMLLDNYETAAARGRGGDERRRGWAFDRPAIVTKRDKSDRMAH\n",
      "str13: MNGEEDDNEQAAAEQQTKKAKREKPKQARKVTSEAWEHFDATDDGAECKH\n",
      "str14: MESLVPGFNEKTHVQLSLPVLQVRDVLVRGFGDSVEEVLSEARQHLKDGT\n",
      "str15: MRYIVSPQLVLQVGKGQEVERALYLTPYDYIDEKSPIYYFLRSHLNIQRP\n",
      "str16: MPRVPVYDSPQVSPNTVPQARLATPSFATPTFRGADAPAFQDTANQQARQ\n",
      "str17: MFVFLVLLPLVSSQCVNLRTRTQLPLAYTNSFTRGVYYPDKVFRSSVLHS\n",
      "str18: MFVFFVLLPLVSSQCVNLTTRTQLPPAYTNSFTRGVYYPDKVFRSSVLHS\n",
      "str19: MEAIISFAGIGINYKKLQSKLQHDFGRVLKALTVTARALPGQPKHIAIRQ\n",
      "str20: MASSGPERAEHQIILPESHLSSPLVKHKLLYYWKLTGLPLPDECDFDHLI\n",
      "str21: MESLVPGFNEKTHVQLSLPVLQVRDVLVRGFGDSVEEVLSEVRQHLKDGT\n",
      "str22: MLAPSPNSKIQLFNNINIDINYEHTLYFASVSAQNSFFAQWVVYSADKAI\n",
      "str23: MSAITETKPTIELPALAEGFQRYNKTPGFTCVLDRYDHGVINDSKIVLYN\n",
      "str24: MKNIAEFKKAPELAEKLLEVFSNLKGNSRSLDPMRAGKHDVVVIESTKKL\n",
      "str25: MPQPLKQSLDQSKWLREAEKHLRALESLVDSNLEEEKLKPQLSMGEDVQS\n",
      "str26: MFVFLVLLPLVSSQCVNLITRTQSYTNSFTRGVYYPDKVFRSSVLHSTQD\n",
      "str27: MKFDVLSLFAPWAKVDEQEYDQQLNNNLESITAPKFDDGATEIESERGDI\n",
      "str28: MFVFLVLLPLVSSQCVNFTNRTQLPSAYTNSFTRGVYYPDKVFRSSVLHS\n",
      "str29: MWSIIVLKLISIQPLLLVTSLPLYNPNMDSCCLISRITPELAGKLTWIFI\n",
      "str30: MESLVPGFNEKTHVQLSLPVLQVRDVLVRGFGDSVEEFLSEARQHLKDGT\n",
      "str31: MFVFLVLLPLVSSQCVMPLFNLITTTQSYTNFTRGVYYPDKVFRSSVLHL\n",
      "str32: MHQITVVSGPTEVSTCFGSLHPFQSLKPVMANALGVLEGKMFCSIGGRSL\n",
      "str33: MATLLRSLALFKRNKDKPPITSGSGGAIRGIKHIIIVPIPGDSSITTRSR\n",
      "str34: MESLVPGFNEKTHVQLSLPVLQVRDVLVRGFGDSMEEVLSEARQHLKDGT\n",
      "str35: MFVFLVLLPLVSSQCVNLTTGTQLPPAYTNSFTRGVYYPDKVFRSSVLHS\n",
      "str36: MANIINLWNGIVPMVQDVNVASITAFKSMIDETWDKKIEANTCISRKHRN\n",
      "str37: MLNRIQTLMKTANNYETIEILRNYLRLYIILARNEEGRGILIYDDNIDSV\n",
      "str38: MADPAGTNGEEGTGCNGWFYVEAVVEKKTGDAISDDENENDSDTGEDLVD\n",
      "str39: MFVFLVLLPLVSSQCVNLRTRTQLPPSYTNSFTRGVYYPDKVFRSSVLHS\n",
      "str40: MESLVPGFNEKTHVQLSLPVLQVCDVLVRGFGDSVEEVLSEARQHLKDGT\n",
      "str41: MNNQRKKTARPSFNMLKRARNRVSTVSQLAKRFSKGLLSGQGPMKLVMAF\n",
      "str42: MSNFDAIRALVDTDAYKLGHIHMYPEGTEYVLSNFTDRGSRIEGVTHTVH\n",
      "str43: MIELRHEVQGDLVTINVVETPEDLDGFRDFIRAHLICLAVDTETTGLDIY\n",
      "str44: MFVFLVLLPLVSSQCVMPLFNLITTNQSYTNSFTRGVYYPDKVFRSSVLH\n",
      "str45: MSKDLVARQALMTARMKADFVFFLFVLWKALSLPVPTRCQIDMAKKLSAG\n",
      "str46: MASLLKSLTLFKRTRDQPPLASGSGGAIRGIKHVIIVLIPGDSSIVTRSR\n",
      "str47: MRVRGILRNWQQWWIWTSLGFWMFMICSVVGNLWVTVYYGVPVWKEAKTT\n",
      "str48: MAVEPFPRRPITRPHASIEVDTSGIGGSAGSSEKVFCLIGQAEGGEPNTV\n",
      "str49: MFYAHAFGGYDENLHAFPGISSTVANDVRKYSVVSVYNKKYNIVKNKYMW\n",
      "str50: MANYSKPFLLDIVFNKDIKCINDSCSHSDCRYQSNSYVELRRNQALNKNL\n",
      "\n"
     ]
    },
    {
     "name": "stdout",
     "output_type": "stream",
     "text": [
      "--- Solution (of length 893) ---\n",
      "  Sol: FFMADEAFDFGHIEIKFDLALNGEEDDIAEFIKKANELPAEGAFLAEKLLEQAAAEIPLKQQREHEIKKLNIDIELAFQQGKARAEFHPRSAEEAFAGIGIKDEKKLDLKMLLDNFDAIPNQRALNSGKILPEQLFNNINIDINRAEHQIILPESHLSSPLTAEGHIIDKKAKLFDAIEIIKLCDDILHMKNGEEGHPKIKQNREKPKQARKLESFLALFKNMLKQLRAEFGGLNKDKPPIRNRTAGCKNGNPRDQPPLASGSGGAIRGIKHIIITIELPALAEGFQRVADEFFIIKHKLLPFGFINEKPGDQGDILPPERGILQALMRNPISILFANLKGNPSIRSLDPMRAGKHDTADAGHILNPHQLARMKADFPHASEAIETKLDRSRTSGFTQGVDFFLFILPGDLQLSDGLPQLAKRFSIKGLLMSGQGPMKLTEINSGIGGSAGSSEKVAAFCGLIGMAFQAEGGEPNSSQCTCFGLIADLRSLHPFQRSLKPVCDEIEKMANAFLGIPLFNLIRDSTAKKLNPEDLDGFRDFIRAHLICLASSQLTGNLAQLPLAPASWYTNDSAKVLVREGHFTIRGVYDSPQALVEKLQSAEYPNDITVFLGKPARNGVYLQHDISEVFTNRLSAGRKMVQYLFADTPIKEQCTNGSARDHALEFPYILTVNDSLVARGLVTSPDIEYWFSNLESITAPDEGRLYKVLFSARNGWIDEKPNQSMDWTSLGCAFTDRHPILGVDEGSYEQWMFKVIDTRWSIYPLACVNDKMIHSGDCSRYVTILPAFQSVGEKNIDLRSVEASVYNTCKRIEVKGWVTDFLAHVYNSRKELYPDFGVELAWTPSGRIVKNQHRNQALWKEMGDRIETQDNAKSVRWMYIAFMNQTHILPSTVW\n",
      "str01: --M-----------------------------------------------------------R-H----LNIDIE--------------------------------------------------------------------------------------T---------------------------------------------------------------------------------------------------------------------------------------------------------------------------------------------------------------------------------------------------------------------------------------------------------------------------------------------------------------------------------------------------------------------Y---S-----------------S--------------NDI-----K---NGVY-----------------K---Y--AD-----------A-----E--------D----------------F---E-I-------L---LF-A-----------------------------------Y------------SI-------D-----G---------------GE-------VE------C------------L------------D----L--T---R-----------------------------------------------\n",
      "str02: --M--E--------------------------------------------------------R--------------------RA--H-R-----------------------------------------------------------------------T---H-----------------------------------QN---------------------------------------------------------------------------------------------------------------------------------------------------------------------------------------------------------------------------------------------------------------------------------------------------------------------------------------------------------------------------W---D-A---------T-------------K------P-----------R----------E----R----RK--Q-----T----Q--------H----------------R-L-T------------------------------------------------------HP----D------------D---SIYP---------------R---I--------EK--------A---------E--G------------RKE---D-----------------H---------G-------------------------------\n",
      "str03: --M--E--------------------------------P--GAF----------------------------------------------S----------------------------------------------------------------------TA----------LFDA-----LCDDILH--------------R------R-LES----------QLR--FGG-------------------------------------------------------V-----------------------Q--I-PPE-------------------------------------------------------------------------------V-------------SD--P----R--------------------------------V---------------------------------------------------------------------------------------------------------------Y----A------G-------Y----AL---L-------------------------------------------------------------------------------------------------------------------------------------------------------------------------------------------------------------------------------------------------------------------------------------------------------\n",
      "str04: --M-------G----KF----------------------------------------------------------------------------------------------------------------------------------------------------------------------------------------------------------------------------------------------------------------------------------------------------------------------------------------------------------------------------------------------------------------------------------------------------------------------------------------------------------------------------------------------------------------------Y-------------------Y-S--------------N----------R---------------RL-A----V---FA------Q-----A---------------------------------------------------------------QS------------RH--LG---GSYEQW-------------LACV------SGD-S-------AF----------R---A---------EVK-------A-----R--------V-------------Q-------K---D------------------------------\n",
      "str05: FF------------------------------------------------------------RE------N----LAFQQGKAR-EF-P-S-EEA---------------------------RA-NS----P-----------------------------T----------------------------------------------------S------------R-E---L----------------------------------------------------------------------------------------------------------------------------------------------------------------------"
     ]
    },
    {
     "name": "stdout",
     "output_type": "stream",
     "text": [
      "----------------------------------------------------------------------------------------------------------------------------------------------------------------------W-------V--R------RG-------------------------G----N------------------------------P--------------L----------S------------E----------A---G--------A------E-----------------R---------------------R----------------G------T---------------------------------------------------------------------------------------------------------------\n",
      "str06: --M-D---------------------------------P---------------------------------------------------S---------------L------------------------------------------------------T---------------------------------------Q--------------------------------------------------------------------------------------V-------------------------------------------------------------------------------------------------------------------------------------------------------------------------------------------------------------------------------------------------------------------------------------W-----A-V---EG---------S----V--L-SA-------------A---V----D-----T----A---------------E--TN----D---------T----------------E-----------PDEG-L-----SA------E--N----------------------EG--E--------TR--I----------I------R---I-----------------------T-------G-----------S------------------------------------------------------------------\n",
      "str07: --MA---FDF--------------------------------------------------------------------------------S-----------------------------------------------------------------------------------------------------------------------------------------------------------------------------------------------------V--------------------------------------------------------------------T---G---N-------------------TKLD---TSGFTQGV-------------S----------S-----M--------T---------------VAA--G------------------T---LIADL------------V-----K-----------------TA-----------------------SSQLT-NLAQ------S---------------------------------------------------------------------------------------------------------------------------------------------------------------------------------------------------------------------------------------------------------------------------------------------------------------------------------------\n",
      "str08: --MA--------------------------------------------------------------------------------------------------------------------------------------------------------------------------------------------------------------------------------------------------------------------------------------------V-----I----L-P------------------------------S------------------------T-----------------------------------------------------------------------------------------------------------------------------------------------------------------------------------------------------------------YT-D--------G--T---------A-------A---------------------------------------------------CTNGS--------P------D--V----V--------------------G------------------------T--G---T---------------"
     ]
    },
    {
     "name": "stdout",
     "output_type": "stream",
     "text": [
      "-M-------W-------VN-------------TILP-----G----D-----------------------F--------------F-----WTPSG--------------E------------SVR----------------V-\n",
      "str09: --M------------------N-------------------------------------------------------------------------------------------------------------------------------------------T--G-IID----LFD---------------N----H-------------------------------------------------------------------------------------------V-D-----------------------------------------SI--------P--------------T-----IL-PHQLA--------------T-LD----------------------------------------------------------------------------------------------------------------------------------------------------------------------------------Y-------LVR----TI----------------------I----------------D--E---NR-S-----V--L-------------------L-F-----------------------------------------------------------------------H-I-----------M-----------------------G--S------------G------------------------------------------------------------------------------------------------------\n",
      "str10: --M----F----------------------------------------------------------------------------------------------------------------------------------------------------------------------------------------------------------------------------------------------------------------------------------------V---F------L---------------------------------------------------------------------------------------------------V---L--LP--L--------------------------------------------V-------------------SSQC---------------------V--------N--L--------R--T------------R---------------T----QLP--PA--YTN-S---------FT-RGVY--------------YP-D------K-----V---------F--R-S----------------------S-------------V---L-------------------------------------------------------------H--------S---------------------------------------------------------------------------------------------------------------------------------------------------\n",
      "str11: --M-D-------------------------------------------------------------------------------------S----------K-E---------------------------------------------------------T----I------L---IEII----------------PKIK-------------S----------------------------------------------------------------------------------------------------------------------------------------------------------------------------------------------------------------------------------------------------------------------------------------------------------------------------------------------------------------Y-------L-----------------L-----------D-T--------N-------IS---------------------P-K------S---------Y----ND----------------F-----I-------------S-RN-----K-N-----------------I------------F-VI------------N---------------L--------------------YN------V-------------S--------------T----I----------------------------------------------\n",
      "str12: --M---------------L-L---------------------------------------------------------------------S------G---K--KK----MLLDN------------------------------------------------"
     ]
    },
    {
     "name": "stdout",
     "output_type": "stream",
     "text": [
      "--------------------------------------------------------------------------------------------------------------------------------------------------------------------------------------------------------------------------------------------------------------------------------------------------------------------------------------------------------------------------------------------------------------------Y----------E---T---------A-------A-------------AR-G-------------R---G-------------------G---D---E-------------R------------------------R--------R-GW----------------AF-DR-P--------------------------A------I--------VT----------K----R--------------------D---------K--------------S------------------DR------------M--A-----H-------\n",
      "str13: --M------------------NGEEDD--------NE--------------QAAAE----QQ---------------------------------------------------------------------------------------------------T-------KKAK------------------------------REKPKQARK----------------------------------------------------------------------------V--------------------------------------------------------------------T----------------------SEA---------------------------------------------------------------------------------------------------------------------------------------------------------------------------------------W-----------E-HF------D---A--------------T---------------D---------------------D---------G-A-----E------------------------------------------------------------------C---------------------K-------------------H------------------------------------------------------------------------------------------------------------------------\n",
      "str14: --M--E------------------------------------------------------------------------------------S---------------L-------------------------------------------------------------------------------------------------------------------------------------------------------------------------------------V------------P-GF-NEK------------------------------------------------T----H------------------------------------V-----------QLS--LP-------------------------------------V-----L-----Q--------------------------------V--------------------RD---------------------------------------------------VLVR-G-F---G--DS----VE-----E------V-L--------------SE-------A-R---Q-------------------H-L------------------------------------------K----------D------------G---T---------------------------------------------------------------------------------------------------------------------------------------------------------------\n",
      "str15: --M-----------------------------------------------------------R-------------------------------------------------------------------------------------------------------------------------------------------------------------------------------------------------------------------------------------------------------------------------------------------------------------------------------------------------------------------------------------------------------------------------------------------------------------"
     ]
    },
    {
     "name": "stdout",
     "output_type": "stream",
     "text": [
      "-----------------------------------------------------------Y---------------I--V--SPQ-LV--LQ---------V--GK----G---Q----EV----------------------E-------R--AL---Y-LT-------------P---Y-----------D----Y----------IDEK---S--------------PI-------Y--------------Y------------------------F---------LRS-----------------------H-------L------------------N--------------I--Q------R-------------P----\n",
      "str16: --M-----------------------------------P-----------------------R---------------------------------------------------------------------------------------------------------------------------------------------------------------------------------------------------------------------------------V------------P-------------------------------------------------------------------------------------------------V-----------------------------------------------------------------------------------------------------------------------------------------------------------------------Y--DS------------------PQ--V----S---PN--TV----P-------Q------------A-R-----L-A-TP--------S-------F-----------A----T-P------------T-----------F--R-G-----------------A--D-----------------------------A-------------------PAFQ-------D----------T--------------A---N------------------------Q---QA-------R---Q-------------------------\n",
      "str17: --M----F----------------------------------------------------------------------------------------------------------------------------------------------------------------------------------------------------------------------------------------------------------------------------------------V---F------L---------------------------------------------------------------------------------------------------V---L--LP--L--------------------------------------------V-------------------SSQC---------------------V--------N--L--------R--T------------R---------------T----QLPLA----YTN-S---------FT-RGVY--------------YP-D------K-----V---------F--R-S----------------------S-------------V---L-------------------------------------------------------------H--------S---------------------------------------------------------------------------------------------------------------------------------------------------\n",
      "str18: --M----F----------------------------------------------------------------------------------------------------------------------------------------------------------------------------------------------------------------------------------------------------------------------------------------V---FF---------------------------------------------------------------------------------------------------------V---L--LP--L--------------------------------------------V-------------------SSQC---------------------V--------N--L-----------T----------------------------T-----------------------R----T--------Q-L---------P---------PA----Y---------TN--S---------F--T-----------R-------------------G-V------Y----------------Y--------------P----D---------------------------KV--------------------------------F----------RS---SV----------------L-H---S--------------------------------------"
     ]
    },
    {
     "name": "stdout",
     "output_type": "stream",
     "text": [
      "----------------------------\n",
      "str19: --M--EA-----I-I---------------------------------------------------------------------------S----FAGIGI-------------N--------------------------------------------------------------------------------------------------------------------------------------------------------------------------------------------------------------------------------------------------------------------------------------------------------------------------------------------------------------------------------------------------------------------------------------------------------------------Y-----K----------------------KLQS------------K-------LQHD----F------GR--V--L------K-------A----L------TV----------T---------------A----R-------A-----------------L--------P--G-------Q-------------P------K--H---------I--A--------I--R----------------------------------------------------Q------------------------------------------\n",
      "str20: --MA--------------------------------------------------------------------------------------S-----------------------------------SG---PE-----------RAEHQIILPESHLSSPL-------------------------------------------------------------------------------------------------------------------------------V-------KHKLL--------------------------------------------------------------------------------------------------------------------------------------------------------------------------------------------------------------------------------------------------------------------------Y-------------------Y----------------------------------------------------------------------------------------------------W----------------K-L------------------T--G---------L----------------------PL--------------------P----------D----E------C----------DF-------------D-----------------H----L-------I----------------------------\n",
      "str21: --M--E------------------------------------------------------------------------------------S---------------L-------------------------------------------------------------------------------------------------------------------------------------------------------------------------------------V------------P-GF-NEK------------------------------------------------T----H------------------------------------V-----------QLS--LP-------------------------------------V-----L-----Q--------------------------------V--------------------RD---------------------------------------------------VLVR-G-F---G--DS----VE-----E------V-L--------------SEV---R--------Q-------------------H-L------------------------------------------K----------D------------G---T---------------------------------------------------------------------------------------------------------------------------------------------------------------\n",
      "str22: --M---------------LA------------------P---------------------------------------------------S----------------------------PN-----S-KI---QLFNNINIDIN---------------------------------------------------------------------------------------------------------------------------------------------------------------------------------------"
     ]
    },
    {
     "name": "stdout",
     "output_type": "stream",
     "text": [
      "------------------------------------------------------------------------------------------------------------------------------------------------------------------------------------------------------------------------------------------------Y----------E-H-T----------L--------Y------F----A----------S-V-----SA-----Q-------------N-S-------F------------------------F-------A-----------------------Q---W---------------V-----------V-------Y-----------S-----------A---------D------------K------------A------------------------I----------------------------------------------\n",
      "str23: --M---------------------------------------------------------------------------------------SA------I--------------------------------------------------------------T-E--------------------------------------------------------------------------------T---K---P----------------------TIELPALAEGFQR---------------------------------------------------------------------------------------------------------------------------------------------------------------------------------------------------------------------------------------------------------------------------------------Y-N---K--------T-------P--------------------G----------------FT----------------------C-----------------V---L---------D-----------------R-Y-----------D-------------------H---GV------------I------------ND----S------------------K-I----V--------------------L---YN-------------------------------------------------------------------\n",
      "str24: --M------------K-----N-----IAEF-KKA---P-E---LAEKLLE---------------------------------------------------------------------------------------------------------------------------------------------------------------------------------------------------------------------------------------------V---F---------------------------------------S----NLKGN-S-RSLDPMRAGKHD------------------------------------------V-------------------------------------------------------V--------------------------------------------V---IE-----------------ST-KKL----------------------------------------------------------------------------------------------------------------------------------------------------------------------------------------------------------------------------------------------------------------------------------------------------------------------------------------------------------------------------\n",
      "str25: --M-----------------------------------P------------Q-----PLKQ-----------------------------S---------------LD-------------Q----S-K-----------------------------------------------------------------------------------------------------------------------------------------------------------------------------------------------------------------------------------------------------------------------------------------------------------------------------------------------------------------------------------------------------------------------------------------------------W--------L-RE-------------A--EK-------------------------H---------L---R-------A-----------------LE---------SLV-----"
     ]
    },
    {
     "name": "stdout",
     "output_type": "stream",
     "text": [
      "---D-----SNLE------E----------------EK---------L-----------------------K---------P------------------------Q--------L-S-------------------------------------------------------------MG---E--D----V---------Q-----S---\n",
      "str26: --M----F----------------------------------------------------------------------------------------------------------------------------------------------------------------------------------------------------------------------------------------------------------------------------------------V---F------L---------------------------------------------------------------------------------------------------V---L--LP--L--------------------------------------------V-------------------SSQC---------------------V--------N--L-I---------T------------R---------------T----Q------S-YTN-S---------FT-RGVY--------------YP-D------K-----V---------F--R-S----------------------S-------------V---L-------------------------------------------------------------H--------S----------T------------------------------Q-------D-------------------------------------------------------------------------------------------------\n",
      "str27: --M------------KFD------------------------------------------------------------------------------------------------------------------------------------------------------------------------------------------------------------------------------------------------------------------------------V----------L--------------------------------S-LFA-----P-------------------------------------------------------------------------------------------------------------------------------------------------------------------------------------------------------------------------------W-----AKV-------------D------E--Q--EY--D---------------Q------------------Q-L-----------N----------------N-------------------NLESITAP------K--F-------D-------D----G-A-T---------E----------I------------------------------------E------S-E--------R----G---D---------------------------I----------------------------------------------\n",
      "str28: --M----F----------------------------------------------------------------------------------------------------------------------------------------------------------------------------------------------------------------------------------------------------------------------------------------V---F------L---------------------------------------------------------------------------------------------------V---L--LP--L--------------------------------------------V-------------------SSQC---------------------V--------N-F------------T----N-------R---------------T----QLP----S------A--------------Y-------------------T--------N--------S--FT-R---G---V-Y------------------------Y----------------PD--------------------KV-F--R----------S----S-------------V---------------------L--------HS-----------------------------------------------------------------------------------------------------------------------\n",
      "str29: --M-----------------------------------------------------------------------------------------------------------------------------------------------------------------------------------------------------------------------------------------------------------------------------------------------------------------------------------------------------------------------------------------------------------------------------------------------------------------------------------------------------------------------------------------------------------------------------------W----S-----------I----------------------I-V-L-K-------L---IS----------------------I--Q-------------P--L-----L----LVTS---------L-----P----LY-------N------PN--MD--S--C----------------------------------C-----------------L----------I---S----------RI------T--------------P----ELA----G---K-------L---------T--------W--I-F-----I------\n",
      "str30: --M--E------------------------------------------------------------------------------------S---------------L----------------------------------------------------------------------------------------------------------------------------------------------------------------"
     ]
    },
    {
     "name": "stdout",
     "output_type": "stream",
     "text": [
      "---------------------V------------P-GF-NEK------------------------------------------------T----H------------------------------------V-----------QLS--LP-------------------------------------V-----L-----Q--------------------------------V--------------------RD---------------------------------------------------VLVR-G-F---G--DS----VE-----E-------FL--------------SE-------A-R---Q-------------------H-L------------------------------------------K----------D------------G---T---------------------------------------------------------------------------------------------------------------------------------------------------------------\n",
      "str31: --M----F----------------------------------------------------------------------------------------------------------------------------------------------------------------------------------------------------------------------------------------------------------------------------------------V---F------L---------------------------------------------------------------------------------------------------V---L--LP--L--------------------------------------------V-------------------SSQC---------------------V------M-------PLFNLI---T----------------------------T--------------T----------------------Q-------S--Y----T--------N-----------FT-R---G---V-Y------------------------Y----------------PD--------------------KV-F--R----------S----S-------------V---------------------L--------H----------L-------------------------------------------------------------------------------------------------------------\n",
      "str32: --M--------H---------------------------------------Q----I--------------------------------------------------------------------------------------------------------T------------------------------------------------------------------------------------------------------------------------------V--------------------------------------------------------------------------------------------------------------V-------------S-G-P---------------------TE--------------V-------------------S---TCFG------SLHPFQ-SLKPV------MANA-LG------------------------------------------------------------VL--EG----------------K-----------------------------------------M----F--------C---S----------I----------G----------------------GR------S------------------L--------------------------------------------------------------------------------------------------------------------------------------------------------------------\n",
      "str33: --MA-------------------------------------------------------------------------------------------------------------------------------------------------------------T-----------L--------L--------------------R----------S-LALFK------R------NKDKPPI---T---------------SGSGGAIRGIKHIII-------------V------------P---I---PGD--------------------S----------SI------------T---------------------------T---RSR---------------------------------------------------------------------------------------------------------------------------------------------------------------------------------------------------------------------------------------------------------------------------------------------------------------------------------------------------------------------------------------------------------------------------------------------------------------------------------------------------------------------\n",
      "str34: --M--E------------------------------------------------------------------------------------S---------------L-------------------------------------------------------------------------------------------------------------------------------------------------------------------------------------V------------P-GF-NEK------------------------------------------------T----H------------------------------------V-----------QLS--LP-------------------------------------V-----L-----Q--------------------------------V--------------------RD---------------------------------------------------VLVR-G-F---G--DS------------------------------------------------M-----------E------------E------V---L-------S-"
     ]
    },
    {
     "name": "stdout",
     "output_type": "stream",
     "text": [
      "--E----------A----R------------------Q--------------H--L------------K--D------------------G------T---------------------------------------------------------------------------------------------------------------\n",
      "str35: --M----F----------------------------------------------------------------------------------------------------------------------------------------------------------------------------------------------------------------------------------------------------------------------------------------V---F------L---------------------------------------------------------------------------------------------------V---L--LP--L--------------------------------------------V-------------------SSQC---------------------V--------N--L-----------T----------------------------TG-------------T----------------------Q-L---------P---------PA----Y---------TN--S---------F--T-----------R-------------------G-V------Y----------------Y--------------P----D---------------------------KV--------------------------------F----------RS---SV----------------L-H---S------------------------------------------------------------------\n",
      "str36: --MA-----------------N-----I---I---N-L------------------------------------------------------------------------------------------------------------------------------------------------------------------------------------------------------------------------------------------------------------------------------------------------------------------------------------------------------------------------------------------------------------------------------------------------------------------------------------------------------------------------------------------------W--N---------G---I--V---P-----------------------------------------------MVQ----D------------------------VN---VA-----S--I----------TA----------F---------K---SM--------------I---DE------------T-W---------DK----------------------K-I-----EA---NTC--I---------------SRK----------------------HRN---------------------------------------\n",
      "str37: --M---------------L--N----------------------------------------R---I-----------Q----------------------------------------------------------------------------------T-----------L---------------MK-----------------------------------------------------TA---N-N---------------------------------------------------------------------------------------------------------------------------------------------------------------------------------------------------------------------------------------------------------------------------------------------------------------------------Y----------E---TI-----------E----------I---L----RN--YL----------RL--------Y------I------------------IL-------AR-------------N-E------EGR----------G-I------------L---------I-------Y--------D------------D------------------------NID--SV---------------------------------------------------------------------------------------------\n",
      "str38: --MAD---------------------------------PA-G-------------------------------------------------------------------------------------"
     ]
    },
    {
     "name": "stdout",
     "output_type": "stream",
     "text": [
      "----------------------------------T-----------------------------NGEEG------------------------------------------------T-GC-NG---------------------------------------------------------------------------------------------------------------------------------------------------------------------------------------------------------------------------------------------------------------------------------------------------------------------------W--------------F-----Y------VE----A-------V---------V-------E----------K-----------K---T-G---D-A-----I-----S----------D--------------DE-----------N----E--N---D--S------D---------------------T-----------------G----------------E---DL--V------------------D--------------------------------------------------------------------------\n",
      "str39: --M----F----------------------------------------------------------------------------------------------------------------------------------------------------------------------------------------------------------------------------------------------------------------------------------------V---F------L---------------------------------------------------------------------------------------------------V---L--LP--L--------------------------------------------V-------------------SSQC---------------------V--------N--L--------R--T------------R---------------T----QLP--P-S-YTN-S---------FT-RGVY--------------YP-D------K-----V---------F--R-S----------------------S-------------V---L-------------------------------------------------------------H--------S---------------------------------------------------------------------------------------------------------------------------------------------------\n",
      "str40: --M--E------------------------------------------------------------------------------------S---------------L-------------------------------------------------------------------------------------------------------------------------------------------------------------------------------------V------------P-GF-NEK------------------------------------------------T----H------------------------------------V-----------QLS--LP-------------------------------------V-----L-----Q--------------------------------VCD-----------------------------------------------------------------------VLVR-G-F---G--DS----VE-----E------V-L--------------SE-------A-R---Q-------------------H-L------------------------------------------K----------D------------G---T---------------------------------------------------------------------------------------------------------------------------------------------------------------\n",
      "str41: --M------------------N-------------N---------------Q----------R----KK--------------------------------------------------------------------------------------------TA----------------------------------------R--P-------SF-----NMLK--RA------------RNR--------------------------------------------V-------------------------------------------S------------------------T-----------------------------------------V-------------S----QLAKRFS-KGLL-SGQGPMKL----------------V--------MAF---------------------"
     ]
    },
    {
     "name": "stdout",
     "output_type": "stream",
     "text": [
      "---------------------------------------------------------------------------------------------------------------------------------------------------------------------------------------------------------------------------------------------------------------------------------------------------------------------------------------------------------------------------------------------------------------------\n",
      "str42: --M---------------------------------------------------------------------------------------S-----------------------NFDAI---RAL-------------------------------------------------------------------------------------------------------------------------------------------------------------------V-D------------------------------------------------------------------T-DA--------------------------------------------------------------------------------------------------------------------------------------------------------------------------------------------------------------Y-----K-L---GH--I--------------------------------------H---------------M--Y-----P--E----G-------------T----------------EY------------------VL-S--N-------------------FTDR----G----S-----------R--I------------------------------E----------------------G-VT----H------------------T-----V---H-----------------------------------------\n",
      "str43: --M---------IE----L-------------------------------------------R-HE------------------------------------------------------------------------------------------------------------------------------------------------------------------------------------------------------------------------------V-----------------------QGD-L----------------------------------------------------------------------------------V---------------------------------------T-IN------------V--------------------------------------------V--E--------------------T-----PEDLDGFRDFIRAHLICLA-------------------------V-------------D------------------T------------------E--T----------------T--------G------L---------D------------I-Y-------------------------------------------------------------------------------------------------------------------------------------------------------------------------------------------------------------\n",
      "str44: --M----F----------------------------------------------------------------------------------------------------------------------------------------------------------------------------------------------------------------------------------------------------------------------------------------V---F------L---------------------------------------------------------------------------------------------------V---L--LP--L--------------------------------------------V-------------------SSQC---------------------V------M-------PLFNLI---T----------------------------T-N--Q------S-YTN-S---------FT-RGVY--------------YP-D------K-----V---------F--R-S----------------------S-------------V---L-------------------------------------------------------------H---------------------------------------------------------------------------------------------------------------"
     ]
    },
    {
     "name": "stdout",
     "output_type": "stream",
     "text": [
      "---------------------------------------------\n",
      "str45: --M---------------------------------------------------------------------------------------S----------KD---L-------------------------------------------------------------------------------------------------------------------------------------------------------------------------------------VA------------------------------R---QALM-----------------------------TA------------RMKADF----------------------V-FFLF--------------------------------------------------V-----L--------------------------------------------------------------------------------------------------------W------K------------------AL-----S----------L--P----V----------------------------P-----T----R-----------------------------------------------------------------------C-----------------Q-----ID--------------M--------------A------K---------------K-----------L-----S------------A----G------------------------------------------------\n",
      "str46: --MA--------------------------------------------------------------------------------------S---------------L-LK----------------S---L------------------------------T-----------LF------K---------------------R----------------------------------------T--------RDQPPLASGSGGAIRGIKH----------------V-----II-------------------------------------------------------------------------------------------------------V---L-I-PGD---S----------SI-----------------------------V-----------------------T--------RS-----R-------------------------------------------------------------------------------------------------------------------------------------------------------------------------------------------------------------------------------------------------------------------------------------------------------------------------------------------------------------------------------------------------------------\n",
      "str47: --M-----------------------------------------------------------R---------------------------------------------------------------------------------------------------------------------------------------------------------------------------------------------------------------------------------V-------------------------------RGIL----RN--------------------------------------------------------------------------------------------------------------------------------------------------------------------------------------------------------------------------------------------W------------------------Q------Q-----------------------------------------------------------------------------------------W-------------------------WI---------WTSLG--F----------------WMF------------------MI----CS--V--------VG--N--L------------------WVT-----VY------Y---GV-----P----V---------WKE----------AK------------T-----T--\n",
      "str48: --MA--------------------------------------------------------------------------------------------------------------------------------------------------------------------------------------------------------------------------------------------------------------------------------------------V--E---------PF------P--"
     ]
    },
    {
     "name": "stdout",
     "output_type": "stream",
     "text": [
      "--------R-------R-PI-------------------------T-------------R-----PHAS--IE--------------VD--------------------------------------T---SGIGGSAGSSEKV--FC-LIG---QAEGGEPN----T--------------------V--------------------------------------------------------------------------------------------------------------------------------------------------------------------------------------------------------------------------------------------------------------------------------------------------------------------------------------------------------------------------------------------------------\n",
      "str49: --M----F-------------------------------------------------------------------------------------------------------------------------------------------------------------------------------------------------------------------------------------------------------------------------------------------------------------------------------------------------------------------------------------------------------------------------------------------------------------------------------------------------------------------------------------------------------------------------------Y----A-------H-----------A----------------F-G-----G-Y---D--E---N-L---------------------------HA--FP------------G------I----S---S-T---------V---A-N---D------------------------V---------------R-----------K---------Y--------SV---------V--SVYN--K----K----------YN--------------------IVKN--------K------------------Y---M----------W\n",
      "str50: --MA-----------------N-----------------------------------------------------------------------------------------------------------------------------------------------------------------------------------------------------------------------------------------------------------------------------------------------------------------------------------------------------------------------------------------------------------------------------------------------------------------------------------------------------------------------------------------------------------------Y---S-K----------------P------------------FL---------L--DI--VF-N------K-------D--IK--C--------------I---NDS--------------------------------------------------------C--------------S--------------------------HS-DC-RY-------QS----N----S-----Y-------V----------------EL--------------R------RNQAL------------N-K----------N----L-----\n",
      "\n",
      "solution is feasible: True\n"
     ]
    }
   ],
   "source": [
    "_instance = util.parse(\"protein_n050k050.txt\")\n",
    "util.show(_instance)\n",
    "_solution = solve(_instance)\n",
    "util.show(_instance, _solution)\n",
    "print(f\"solution is feasible: {util.is_feasible(_instance, _solution)}\")"
   ]
  }
 ],
 "metadata": {},
 "nbformat": 4,
 "nbformat_minor": 5
}
