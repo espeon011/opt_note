{
 "cells": [
  {
   "cell_type": "code",
   "execution_count": null,
   "id": "setup",
   "metadata": {
    "marimo": {
     "name": "setup"
    }
   },
   "outputs": [],
   "source": [
    "import copy\n",
    "import math\n",
    "import functools"
   ]
  },
  {
   "cell_type": "code",
   "execution_count": null,
   "id": "Hbol",
   "metadata": {},
   "outputs": [],
   "source": [
    "import marimo as mo\n",
    "import nbformat\n",
    "import util"
   ]
  },
  {
   "cell_type": "markdown",
   "id": "MJUe",
   "metadata": {
    "marimo": {
     "config": {
      "hide_code": true
     }
    }
   },
   "source": [
    "# `IBS_SCS` アルゴリズム"
   ]
  },
  {
   "cell_type": "markdown",
   "id": "vblA",
   "metadata": {
    "marimo": {
     "config": {
      "hide_code": true
     }
    }
   },
   "source": [
    "参考: Sayyed Rasoul Mousavi, Fateme Bahri, Farzaneh Sadat Tabataba, 2012, An enhanced beam search algorithm for the Shortest Common Supersequence Problem,\n",
    "Engineering Applications of Artificial Intelligence,\n",
    "Volume 25, Issue 3, Pages 457-467, https://www.sciencedirect.com/science/article/pii/S0952197611001497"
   ]
  },
  {
   "cell_type": "markdown",
   "id": "bkHC",
   "metadata": {
    "marimo": {
     "config": {
      "hide_code": true
     }
    }
   },
   "source": [
    "- 計算量: $O(k^2 \\log_2 q + L^* (n \\kappa \\beta q + \\beta q \\log_2 \\left( \\beta q \\right)))$\n",
    "    - (補足) $L^*$: このアルゴリズムによって返される解の長さ. $O(nk)$\n",
    "    - (補足) $\\kappa$, $\\beta$: ビームサーチのパラメータ.\n",
    "- 近似精度: ?"
   ]
  },
  {
   "cell_type": "code",
   "execution_count": null,
   "id": "lEQa",
   "metadata": {
    "marimo": {
     "name": "*probability"
    }
   },
   "outputs": [],
   "source": [
    "@functools.cache\n",
    "def probability(len_sub: int, len_super: int, num_alphabet: int) -> float:\n",
    "    \"\"\"\n",
    "    一様ランダムに生成された文字列 w (長さ len_sub) と y (長さ len_super) について, \n",
    "    y が w の supersequence である確率を返す. \n",
    "    \"\"\"\n",
    "\n",
    "    if len_sub == 0:\n",
    "        return 1.0\n",
    "    elif len_sub > len_super:\n",
    "        return 0.0\n",
    "    else:\n",
    "        tmp1 = 1.0 / num_alphabet * probability(len_sub - 1, len_super - 1, num_alphabet)\n",
    "        tmp2 = (num_alphabet - 1) / num_alphabet * probability(len_sub, len_super - 1, num_alphabet)\n",
    "\n",
    "    return tmp1 + tmp2"
   ]
  },
  {
   "cell_type": "code",
   "execution_count": null,
   "id": "PKri",
   "metadata": {
    "marimo": {
     "name": "*State"
    }
   },
   "outputs": [],
   "source": [
    "class State:\n",
    "    def __init__(self, instance: list[str]):\n",
    "        self.instance = instance\n",
    "        self.positions = [0 for _ in instance]\n",
    "        self.solution = \"\"\n",
    "\n",
    "    def is_feasible(self) -> bool:\n",
    "        return all(pos == len(s) for s, pos in zip(self.instance, self.positions))\n",
    "\n",
    "    def is_usable(self, c: str) -> bool:\n",
    "        for pos, s in zip(self.positions, self.instance):\n",
    "            if pos < len(s) and s[pos] == c:\n",
    "                return True\n",
    "\n",
    "        return False\n",
    "\n",
    "    def dominate(self, other: \"State\") -> bool:\n",
    "        geq = all(pos1 >= pos2 for pos1, pos2 in zip(self.positions, other.positions))\n",
    "        neq = any(pos1 != pos2 for pos1, pos2 in zip(self.positions, other.positions))\n",
    "        return geq and neq"
   ]
  },
  {
   "cell_type": "code",
   "execution_count": null,
   "id": "Xref",
   "metadata": {
    "marimo": {
     "name": "*solve"
    }
   },
   "outputs": [],
   "source": [
    "def solve(instance: list[str], beta: int = 100, kappa: int = 7) -> str:\n",
    "    chars = sorted(list(set(\"\".join(instance))))\n",
    "    initial_state = State(instance)\n",
    "    b: list[State] = [initial_state]\n",
    "\n",
    "    while True:\n",
    "        # Step 1: Extension\n",
    "        c: list[State] = []\n",
    "        for state in b:\n",
    "            for char in chars:\n",
    "                if not state.is_usable(char):\n",
    "                    continue\n",
    "\n",
    "                new_state = copy.deepcopy(state)\n",
    "                new_state.solution += char\n",
    "                for idx, (s, pos) in enumerate(zip(instance, new_state.positions)):\n",
    "                    if pos < len(s) and s[pos] == char:\n",
    "                        new_state.positions[idx] += 1\n",
    "\n",
    "                if new_state.is_feasible():\n",
    "                    return new_state.solution\n",
    "                else:\n",
    "                    c.append(new_state)\n",
    "\n",
    "        # Step 2: Evaluation of candidate solutions\n",
    "        k = round(\n",
    "            math.log2(len(chars))\n",
    "            * max(\n",
    "                len(s) - pos\n",
    "                for state in c\n",
    "                for s, pos in zip(instance, state.positions)\n",
    "            )\n",
    "        )\n",
    "\n",
    "        heuristics = []\n",
    "        for state in c:\n",
    "            tmp_h = 1.0\n",
    "            for s, pos in zip(instance, state.positions):\n",
    "                tmp_h *= probability(len(s) - pos, k, len(chars))\n",
    "            heuristics.append(tmp_h)\n",
    "\n",
    "        # Step 3: Dominance pruning\n",
    "        sorted_c = [\n",
    "            state for (idx, state) in sorted(\n",
    "                list(enumerate(c)),\n",
    "                key=lambda tmp: heuristics[tmp[0]],\n",
    "                reverse=True,\n",
    "            )\n",
    "        ]\n",
    "        kappa_best_list = sorted_c[:kappa]\n",
    "        for idx in range(len(sorted_c) - 1, len(kappa_best_list) - 1, -1):\n",
    "            if any(better.dominate(sorted_c[idx]) for better in kappa_best_list):\n",
    "                sorted_c.pop(idx)\n",
    "\n",
    "        # Step 4: Selection\n",
    "        b = sorted_c[:beta]"
   ]
  },
  {
   "cell_type": "code",
   "execution_count": null,
   "id": "SFPL",
   "metadata": {},
   "outputs": [
    {
     "name": "stdout",
     "output_type": "stream",
     "text": [
      "--- Condition (with 25 chars) ---\n",
      "str1: tkgnkuhmpxnhtqgxzvxis\n",
      "str2: iojiqfolnbxxcvsuqpvissbxf\n",
      "str3: ulcinycosovozpplp\n",
      "str4: igevazgbrddbcsvrvnngf\n",
      "\n"
     ]
    },
    {
     "name": "stdout",
     "output_type": "stream",
     "text": [
      "--- Solution (of length 73) ---\n",
      " Sol: itkgnkuojiqfolevnazbcghxbimxcnprdvyxdcnshboucstqovpgvorxzvisnpsbxnpgfilps\n",
      "str1: -tkgnku---------------h---m---p----x--n-h-----tq---g---xzv------x----i--s\n",
      "str2: i------ojiqfol--n--b---x---xc----v-----s---u---q--p-v-----is--sbx---f----\n",
      "str3: ------u------l------c----i---n----y--c----o--s--ov---o--z----p----p---lp-\n",
      "str4: i--g----------ev-az--g--b------rd---d----b--cs---v----r--v--n----n-gf----\n",
      "\n",
      "solution is feasible: True\n"
     ]
    }
   ],
   "source": [
    "_instance = util.parse(\"uniform_q26n004k015-025.txt\")\n",
    "util.show(_instance)\n",
    "_solution = solve(_instance)\n",
    "util.show(_instance, _solution)\n",
    "print(f\"solution is feasible: {util.is_feasible(_instance, _solution)}\")"
   ]
  },
  {
   "cell_type": "code",
   "execution_count": null,
   "id": "BYtC",
   "metadata": {},
   "outputs": [
    {
     "name": "stdout",
     "output_type": "stream",
     "text": [
      "--- Condition (with 26 chars) ---\n",
      "str1: tkgnkuhmpxnhtqgxzvxis\n",
      "str2: iojiqfolnbxxcvsuqpvissbxf\n",
      "str3: ulcinycosovozpplp\n",
      "str4: igevazgbrddbcsvrvnngf\n",
      "str5: pyplrzxucpmqvgtdfuivcdsbo\n",
      "str6: pbdevdcvdpfzsmsbroqvbbh\n",
      "str7: enbczfjtvxerzbrvigple\n",
      "str8: rxwxqkrdrlctodtmprpxwd\n",
      "\n"
     ]
    },
    {
     "name": "stdout",
     "output_type": "stream",
     "text": [
      "--- Solution (of length 117) ---\n",
      " Sol: pigenboyjplrzxucidqtevfwkxolgnqkdcazvrdgbpfrujhmpxqtvxlcingtdvzsycodehtmsbfuroqpvizbrvcsgvoxzrvpxisbgplndsnwgxfbdehop\n",
      "str1: -------------------t----k---gn-k------------u-hmpx-------n-----------ht-------q---------g--xz-v-xis------------------\n",
      "str2: -i----o-j-------i-q---f---ol-n----------b--------x---x-c-----v-s-----------u--qpvi-----s----------sb---------xf------\n",
      "str3: --------------u------------l-----c----------------------in------yco-----s----o--v---------o-z--p-----pl-------------p\n",
      "str4: -ige-----------------v------------az---gb--r----------------d------d-----b------------cs-v---rv--------n--n-g-f------\n",
      "str5: p------y-plrzxuc-------------------------p-----m--q-v-----gtd-------------fu-----i---vc-----------------ds-----b---o-\n",
      "str6: p----b-----------d--ev----------dc--v-d--pf-------------------zs-------msb--roq-v--b---------------b--------------h--\n",
      "str7: ---enb---------c-------------------z------f--j-----tvx--------------e-------r-----zbrv-----------i--gpl----------e---\n",
      "str8: -----------r-x---------w-x----qk-----rd----r----------lc---t------od--tm-------p----r----------px----------w----d----\n",
      "\n",
      "solution is feasible: True\n"
     ]
    }
   ],
   "source": [
    "_instance = util.parse(\"uniform_q26n008k015-025.txt\")\n",
    "util.show(_instance)\n",
    "_solution = solve(_instance)\n",
    "util.show(_instance, _solution)\n",
    "print(f\"solution is feasible: {util.is_feasible(_instance, _solution)}\")"
   ]
  },
  {
   "cell_type": "code",
   "execution_count": null,
   "id": "RGSE",
   "metadata": {},
   "outputs": [
    {
     "name": "stdout",
     "output_type": "stream",
     "text": [
      "--- Condition (with 26 chars) ---\n",
      "str01: tkgnkuhmpxnhtqgxzvxis\n",
      "str02: iojiqfolnbxxcvsuqpvissbxf\n",
      "str03: ulcinycosovozpplp\n",
      "str04: igevazgbrddbcsvrvnngf\n",
      "str05: pyplrzxucpmqvgtdfuivcdsbo\n",
      "str06: pbdevdcvdpfzsmsbroqvbbh\n",
      "str07: enbczfjtvxerzbrvigple\n",
      "str08: rxwxqkrdrlctodtmprpxwd\n",
      "str09: kkqafigqjwokkskrblg\n",
      "str10: lxxpabivbvzkozzvd\n",
      "str11: krifsavncdqwhzc\n",
      "str12: qaxudgqvqcewbfgijowwy\n",
      "str13: rsxqjnfpadiusiqbezhkohmg\n",
      "str14: iwshvhcomiuvddm\n",
      "str15: htxxqjzqbctbakn\n",
      "str16: xusfcfzpeecvwantfmgqzu\n",
      "\n"
     ]
    },
    {
     "name": "stdout",
     "output_type": "stream",
     "text": [
      "--- Solution (of length 163) ---\n",
      "  Sol: krixuwslxqpkfchtxojiqfanypfxlrzpeabdigevudcosvaqjzgbrlnbxcdqvzkwognkuhcpmfqvdbctozsmipxqjbewtvanhtzcvsbuqgxfrpvdtmgideksrzfburviphkoqvrblgpxncjdsbowhmngwzxfildesuy\n",
      "str01: ---------------t----------------------------------------------k--gnkuh--m------------px--------nht------qgx--------------z----v------------x----------------i---s--\n",
      "str02: --i--------------ojiqf---------------------o---------lnbx-----------------------------x------------cvs-uq----pv----i---s------------------------sb--------xf-------\n",
      "str03: ----u--l-----c-----i---ny-----------------cos-------------------o----------v----oz---p-----------------------p--------------------------l-p------------------------\n",
      "str04: --i----------------------------------gev------a--zgbr-----d-----------------dbc---s----------v--------------r-v-----------------------------n---------ng---f-------\n",
      "str05: ----------p-------------yp--lrz-------------------------x-----------u-cpm-qv-----------------------------g------t---d-----f-u--i-----v-------c-dsbo----------------\n",
      "str06: ----------p-----------------------bd--ev-dc--v------------d------------p-f-------zsm-----------------sb-----r----------------------oqv-b---------b--h--------------\n",
      "str07: --------------------------------e---------------------nb-c---z-----------f--------------j---tv------------x----------e--rz-b-rvi---------gp------------------l-e---\n",
      "str08: -r-x-w--xq-k-----------------r-----d----------------rl---c---------------------to------------------------------dtm--------------p-----r---px-------w----------d----\n",
      "str09: k----------k--------q-a---f---------ig---------qj--------------wo--k--------------------------------------------------ks----------k---rblg-------------------------\n",
      "str10: -------lx-------x--------p-------ab-i--v-----------b--------vzk-o----------------z----------------z-v----------d---------------------------------------------------\n",
      "str11: kri---------f-------------------------------s-a-------------v-----n---c-----d----------q---w----h-zc---------------------------------------------------------------\n",
      "str12: ---------q------------a----x------------ud--------g--------qv-------------q---c-----------ew----------b----f------gi--------------------------j---ow----w---------y\n",
      "str13: -r----s-xq--------j----n--f----p-a-di---u---s---------------------------------------i--q-be-------z------------------------------hko----------------hm-g-----------\n",
      "str14: --i--ws-------h------------------------v-----------------------------hc---------o--mi------------------u------vd----d--------------------------------m-------------\n",
      "str15: --------------htx----------x-------------------qjz---------q-----------------bct---------b----a-----------------------k---------------------n----------------------\n",
      "str16: ---xu-s-----fc-------f--------zpe-----e---c--v-----------------w------------------------------an-t---------f-----mg-----------------q--------------------z-------u-\n",
      "\n",
      "solution is feasible: True\n"
     ]
    }
   ],
   "source": [
    "_instance = util.parse(\"uniform_q26n016k015-025.txt\")\n",
    "util.show(_instance)\n",
    "_solution = solve(_instance)\n",
    "util.show(_instance, _solution)\n",
    "print(f\"solution is feasible: {util.is_feasible(_instance, _solution)}\")"
   ]
  },
  {
   "cell_type": "code",
   "execution_count": null,
   "id": "Kclp",
   "metadata": {},
   "outputs": [
    {
     "name": "stdout",
     "output_type": "stream",
     "text": [
      "--- Condition (with 5 chars) ---\n",
      "str01: dcbccdbcce\n",
      "str02: bddbeeeebd\n",
      "str03: cacdeecebe\n",
      "str04: aeddddebdd\n",
      "str05: acbeecabce\n",
      "str06: bbabebdcba\n",
      "str07: bbaeaebada\n",
      "str08: eeeecbdbee\n",
      "str09: ccdeedadcd\n",
      "str10: bdabdbeaad\n",
      "\n"
     ]
    },
    {
     "name": "stdout",
     "output_type": "stream",
     "text": [
      "--- Solution (of length 28) ---\n",
      "  Sol: bdcbacedbeeecdabddecbadceade\n",
      "str01: -dcb-c------cd-b---c---ce---\n",
      "str02: bd-----dbeee------e-b-d-----\n",
      "str03: --c-ac-d-ee-c-----e-b---e---\n",
      "str04: ----a-ed-----d--dde-b-d---d-\n",
      "str05: ----ac--bee-c-ab---c----e---\n",
      "str06: b--ba---be-----bd--cba------\n",
      "str07: b--ba-e-------a---e-bad--a--\n",
      "str08: ------e--eeec--bd---b---e--e\n",
      "str09: --c--c-d-ee--da-d--c--d-----\n",
      "str10: bd--a---b----d-b--e--a---ad-\n",
      "\n",
      "solution is feasible: True\n"
     ]
    }
   ],
   "source": [
    "_instance = util.parse(\"uniform_q05n010k010-010.txt\")\n",
    "util.show(_instance)\n",
    "_solution = solve(_instance)\n",
    "util.show(_instance, _solution)\n",
    "print(f\"solution is feasible: {util.is_feasible(_instance, _solution)}\")"
   ]
  },
  {
   "cell_type": "code",
   "execution_count": null,
   "id": "emfo",
   "metadata": {},
   "outputs": [
    {
     "name": "stdout",
     "output_type": "stream",
     "text": [
      "--- Condition (with 5 chars) ---\n",
      "str01: dcbccdbcce\n",
      "str02: bddbeeeebd\n",
      "str03: cacdeecebe\n",
      "str04: aeddddebdd\n",
      "str05: acbeecabce\n",
      "str06: bbabebdcba\n",
      "str07: bbaeaebada\n",
      "str08: eeeecbdbee\n",
      "str09: ccdeedadcd\n",
      "str10: bdabdbeaad\n",
      "str11: ededaaaeaa\n",
      "str12: aaeaabeeac\n",
      "str13: eaabcaccdb\n",
      "str14: bdeeadeade\n",
      "str15: caedadeeed\n",
      "str16: ebcadbabbe\n",
      "str17: ddceeabdea\n",
      "str18: dabcddeaec\n",
      "str19: aadceedaab\n",
      "str20: aeecceeeaa\n",
      "str21: bbdaecaade\n",
      "str22: dacedaedab\n",
      "str23: aaeabbbbce\n",
      "str24: dedbcbcaab\n",
      "str25: dbdaaebbcb\n",
      "str26: debedbebac\n",
      "str27: ceebcdcbde\n",
      "str28: dbedaadaab\n",
      "str29: cccdcbebdc\n",
      "str30: aeeacdbcbd\n",
      "str31: dacbeacccd\n",
      "str32: ecebccdbdb\n",
      "str33: ddbbcedabb\n",
      "str34: aaeabaaeba\n",
      "str35: ecbbcaadcd\n",
      "str36: debccecdbc\n",
      "str37: daacbaeebc\n",
      "str38: adabeaacce\n",
      "str39: daecdbacaa\n",
      "str40: dacbbdcedc\n",
      "str41: dedbeebbde\n",
      "str42: cdadcdcdaa\n",
      "str43: ceedcbaeed\n",
      "str44: ceaecaaaca\n",
      "str45: dcccebbbad\n",
      "str46: baeeaebbde\n",
      "str47: dbdebaccdb\n",
      "str48: ebcbeedaea\n",
      "str49: aeeebbdbca\n",
      "str50: dbdabcecbb\n",
      "\n"
     ]
    },
    {
     "name": "stdout",
     "output_type": "stream",
     "text": [
      "--- Solution (of length 34) ---\n",
      "  Sol: daebcdabecdaebceadcbaedcbeabdceabd\n",
      "str01: d---c--b-c----c--d-b---c-----ce---\n",
      "str02: ---b-d----d--b-e-----e---e----e-bd\n",
      "str03: ----c-a--cd-e--e--c--e--be--------\n",
      "str04: -ae--d----d------d----d--e-bd----d\n",
      "str05: -a--c--be---e-c-a--b---c-e--------\n",
      "str06: ---b---b---a-b-e---b--dcb-a-------\n",
      "str07: ---b---b---ae---a----e--b-a-d--a--\n",
      "str08: --e-----e---e--e--cb--d-be----e---\n",
      "str09: ----c----cd-e--e-d--a-dc----d-----\n",
      "str10: ---b-dab--d--b-ea---a-d-----------\n",
      "str11: --e--d--e-da----a---ae----a----a--\n",
      "str12: -a----a-e--a----a--b-e---ea--c----\n",
      "str13: --e---a----a-bc-a-c----c----d---b-\n",
      "str14: ---b-d--e---e---ad---e----a-d-e---\n",
      "str15: ----c-a-e-da-----d---e---e----e--d\n",
      "str16: --ebc-a---d--b--a--b----be--------\n",
      "str17: d----d---c--e--ea--b--d--ea-------\n",
      "str18: da-bcd----d-e---a----e-c----------\n",
      "str19: -a----a---d---ce-----ed---a----ab-\n",
      "str20: -ae-----ec----ce-----e---ea----a--\n",
      "str21: ---b---b--dae-c-a---a-d--e--------\n",
      "str22: da--c---e-dae----d--a---b---------\n",
      "str23: -a----a-e--a-b-----b----b--b-ce---\n",
      "str24: d-e--d-b-c---bc-a---a---b---------\n",
      "str25: d--b-da----aeb-----b---cb---------\n",
      "str26: d-eb----e-d--b-e---ba--c----------\n",
      "str27: ----c---e---ebc--dcb--d--e--------\n",
      "str28: d--b----e-da----ad--a-----ab------\n",
      "str29: ----c----c----c--dcb-e--b---dc----\n",
      "str30: -ae-----e--a--c--d-b---cb---d-----\n",
      "str31: da--c--be--a--c---c----c----d-----\n",
      "str32: --e-c---e----bc---c---d-b---d---b-\n",
      "str33: d----d-b-----bce-d--a---b--b------\n",
      "str34: -a----a-e--a-b--a---ae--b-a-------\n",
      "str35: --e-c--b-----bc-a---a-dc----d-----\n",
      "str36: d-ebc----c--e-c--d-b---c----------\n",
      "str37: da----a--c---b--a----e---e-b-c----\n",
      "str38: -a---dabe--a----a-c----c-e--------\n",
      "str39: dae-cd-b---a--c-a---a-------------\n",
      "str40: da--c--b-----b---dc--edc----------\n",
      "str41: d-e--d-be---eb-----b--d--e--------\n",
      "str42: ----cda---d---c--dc---d---a----a--\n",
      "str43: ----c---e---e----dcbae---e--d-----\n",
      "str44: ----c---e--ae-c-a---a-----a--c-a--\n",
      "str45: d---c----c----ce---b----b--b---a-d\n",
      "str46: ---b--a-e---e---a----e--b--bd-e---\n",
      "str47: d--b-d--e----b--a-c----c----d---b-\n",
      "str48: --ebc--be---e----d--ae----a-------\n",
      "str49: -ae-----e---eb-----b--d-b----c-a--\n",
      "str50: d--b-dab-c--e-c----b----b---------\n",
      "\n",
      "solution is feasible: True\n"
     ]
    }
   ],
   "source": [
    "_instance = util.parse(\"uniform_q05n050k010-010.txt\")\n",
    "util.show(_instance)\n",
    "_solution = solve(_instance)\n",
    "util.show(_instance, _solution)\n",
    "print(f\"solution is feasible: {util.is_feasible(_instance, _solution)}\")"
   ]
  },
  {
   "cell_type": "code",
   "execution_count": null,
   "id": "Hstk",
   "metadata": {},
   "outputs": [
    {
     "name": "stdout",
     "output_type": "stream",
     "text": [
      "--- Condition (with 4 chars) ---\n",
      "str01: CTTTTGATCT\n",
      "str02: CTGCATGCTT\n",
      "str03: TTGTAGATCT\n",
      "str04: ATAACTAATT\n",
      "str05: AGGTTTATAC\n",
      "str06: CTTTTGATCT\n",
      "str07: TTGTAGATCT\n",
      "str08: TTGTAGATCT\n",
      "str09: TTGTAGATCT\n",
      "str10: TAATATTACC\n",
      "\n"
     ]
    },
    {
     "name": "stdout",
     "output_type": "stream",
     "text": [
      "--- Solution (of length 21) ---\n",
      "  Sol: CTATGGTCATGACTATACTCT\n",
      "str01: CT-T--T--TGA-T---CT--\n",
      "str02: CT--G--CATG-CT-T-----\n",
      "str03: -T-TG-T-A-GA-T---CT--\n",
      "str04: --AT----A--ACTA-A-T-T\n",
      "str05: --A-GGT--T---TATAC---\n",
      "str06: CT-T--T--TGA-T---CT--\n",
      "str07: -T-TG-T-A-GA-T---CT--\n",
      "str08: -T-TG-T-A-GA-T---CT--\n",
      "str09: -T-TG-T-A-GA-T---CT--\n",
      "str10: -TA-----AT-A-T-TAC-C-\n",
      "\n",
      "solution is feasible: True\n"
     ]
    }
   ],
   "source": [
    "_instance = util.parse(\"nucleotide_n010k010.txt\")\n",
    "util.show(_instance)\n",
    "_solution = solve(_instance)\n",
    "util.show(_instance, _solution)\n",
    "print(f\"solution is feasible: {util.is_feasible(_instance, _solution)}\")"
   ]
  },
  {
   "cell_type": "code",
   "execution_count": null,
   "id": "nWHF",
   "metadata": {},
   "outputs": [
    {
     "name": "stdout",
     "output_type": "stream",
     "text": [
      "--- Condition (with 4 chars) ---\n",
      "str01: CTTTTGATCTCTTGTAGATCTGTTCTCTAAACGAACTTTAAAATCTGTGT\n",
      "str02: CTGCATGCTTAGTGCACTCACGCAGTATAATTAATAACTAATTACTGTCG\n",
      "str03: TTGTAGATCTGTTCTCTAAACGAACTTTAAAATCTGTGTGGCTGTCACTC\n",
      "str04: ATAACTAATTACTGTCGTTGACAGGACACGAGTAACTCGTCTATCTTCTG\n",
      "str05: AGGTTTATACCTTCCTAGGTAACAAACCAACCAACTTTCGATCTCTTGTA\n",
      "str06: CTTTTGATCTCTTGTAGATCTGTTCTCTAAACGAACTTTAAAATCTGTGT\n",
      "str07: TTGTAGATCTGTTCTCTAAACGAACTTTAAAATCTGTGTGGCTGTCACTC\n",
      "str08: TTGTAGATCTGTTCTCTAAACGAACTTTAAAATCTGTGTGGCTGTCACTC\n",
      "str09: TTGTAGATCTGTTCTCTAAACGAACTTTAAAATCTGTGTGGCTGTCACTC\n",
      "str10: TAATATTACCTGATGGCCGCGCCCCTCAAAAAGTGGGCCCTTGGACAGAT\n",
      "str11: TAAAGGTTTATACCTTCCCAGGTAACAAACCAACCAACTTTCGATCTCTT\n",
      "str12: ACCAACCAACTTTCGATCTCTTGTAGATCTGTTCTCTAAACGAACTTTAA\n",
      "str13: TTGTAGATCTGTTCTCTAAACGAACTTTAAAATCTGTGTGGCTGTCACTC\n",
      "str14: ACCAACCAACTTTCGATCTCTTGTAGATCTGTTCTCTAAACGAACTTTAA\n",
      "str15: GTTAACAATAATCACACCATCACCGTTTTTTCAAGCGGGAAAAAATAGCC\n",
      "str16: TTGTAGATCTGTTCTCTAAACGAACTTTAAAATCTGTGTGGCTGTCACTC\n",
      "str17: AGATCTGTTCTCTAAACGAACTTTAAAATCTGTGTGGCTGTCACTCGGCT\n",
      "str18: AACAAACCAACCAACTTTCGATCTCTTGTAGATCTGTTCTCTAAACGAAC\n",
      "str19: AGATCTGTTCTCTAAACGAACTTTAAAATCTGTGTGGCTGTCACTCGGCT\n",
      "str20: ACCCCCGCCCCAGGTTCAGCGGAGTCATCACGTGAGACGCACATGACATT\n",
      "str21: AACTTTAAAATCTGTGTGGCTGTCACTCGGCTGCATGCTTAGTGCACTCA\n",
      "str22: TAAAGGTTTATACCCTTCCCAGGTAACAAACCAACCAACTTTTGATCTCT\n",
      "str23: TTGTAGATCTGTTCTCTAAACGAACTTTAAAATCTGTGTGGCTGTCACTC\n",
      "str24: TTGTAGATCTGTTCTCTAAACGAACTTTAAAATCTGTGTGGCTGTCACTC\n",
      "str25: ATCGTGCTTTTGTCGTCTTTGACACTTTCGACTAACTAAAGATGATTTCT\n",
      "str26: ATTAAAGGTTTATACCTTCCCAGGTAACAAACCAACCAACTTTTGATCTC\n",
      "str27: TAAAGGTTTATACCTTCCTAGGTAACAAACCAACCAACTTTTGATCTCTT\n",
      "str28: ACTAAAGGTTTATACCTTCCCAGGTAACAAACCAACCAACTTTTGATCTC\n",
      "str29: CCAACTTTCGATCTCTTGTAGATCTGTTCTCTAAACGAACTTTAAAATCT\n",
      "str30: ATTAAAGGTTTATACCTTCCCAGGTAACAAACCAACCAACTTTTGATCTC\n",
      "str31: TACCTTCCCAGGTAACAAACCAACCAACTTTCGATCTCTTGTAGATCTGT\n",
      "str32: ATGTGTTATCGTCAACTACATATTAAAAATAATGCTAATCATTTTAGTCG\n",
      "str33: TTGTAGATCTGTTCTCTAAACGAACTTTAAAATCTGTGTGGCTGTCACTC\n",
      "str34: AACTTTAAAATCTGTGTGGCTGTCACTCGGCTGCATGCTTAGTGCACTCA\n",
      "str35: TTGTAGATCTGTTCTCTAAACGAACTTTAAAATCTGTGTGGCTGTCACTC\n",
      "str36: CTTTCGATCTCTTGTAGATCTGTTCTCTAAACGAACTTTAAAATCTGTGT\n",
      "str37: TTGTAGATCTGTTCTCTAAACGAACTTTAAAATCTGTGTGGCTGTCACTC\n",
      "str38: TTAAAGGTTTATACCTTCCCAGGTAACAAACCAACCAACTTTTGATCTCT\n",
      "str39: ATGAAAACGAAAATTATTATCAAGGGTATGGAAGTGGAAGCTGACGAAAT\n",
      "str40: AGGTAACAAACCAACCAACTTTCGATCTCTTGTAGATCTGTTCTCTAAAC\n",
      "str41: TTGTAGATCTGTTCTCTAAACGAACTTTAAAATCTGTGTGGCTGTCACTC\n",
      "str42: CTTTCGATCTCTTGTAGATCTGTTCTCTAAACGAACTTTAAAATCTGTGT\n",
      "str43: AACAAACCAACCAACTTTCGATCTCTTGTAGATCTGTTCTCTAAACGAAC\n",
      "str44: TTGTAGATCTGTTCTCTAAACGAACTTTAAAATCTGTGTGGCTGTCACTC\n",
      "str45: AGGTTTATACCTTCCCAGGTAACAAACCAACCAACTTTCGATCTCTTGTA\n",
      "str46: CTGATGTACGAGATTCGTACATACCTTGTACGAAATTCGTACAACACCAT\n",
      "str47: TAAAGGTTTATACCTTCCCAGGTAACAAACCAACCAACTTTCGATCTCTT\n",
      "str48: ACAAGAGAATACAAGGGAGGACCTGCTGCTATACGCGCTGCCTCTTTCGC\n",
      "str49: CTTTTGATCTCTTGTAGATCTGTTCTCTAAACGAACTTTAAAATCTGTGT\n",
      "str50: TTGTAGATCTGTTCTCTAAACGAACTTTAAAATCTGTGTGGCTGTCACTC\n",
      "\n"
     ]
    },
    {
     "name": "stdout",
     "output_type": "stream",
     "text": [
      "--- Solution (of length 126) ---\n",
      "  Sol: ACTTGTACGATAGCTGTATCTCTAGATACGCATACTTCGCTACAGGTACATGCTATGCTAGACTCGTAGACATCGATACTGTTACGATAGCATGCGATCTAGCACTAGCTATGACGAATCAGATCC\n",
      "str01: -CTT-T----T-G----ATCTCT---T--G--TA----G--A----T-C-TG-T-T-CT---CT---A-A-A-CGA-ACT-TTA--A-A--AT-C--T---G---T-G-T----------------\n",
      "str02: -CT-G--C-AT-GCT-TA------G-T--GCA--CT-C---AC-G---CA-G-TAT---A-A-T--TA-A--T--A-ACT---A--AT----T---A-CT-G---T--C---G-------------\n",
      "str03: --TTGTA-GAT--CTGT-TCTCTA-A-ACG-A-ACTT---TA-A---A-AT-CT--G-T-G--T-G--G-C-T-G-T-C----AC--T--C-----------------------------------\n",
      "str04: A-T---A--A---CT--A-----A--T-----TACT--G-T-C-G-T---TG--A--C-AG----G-A--CA-CGA----GT-A--A---C-T-CG-TCTA----T--CT-T--C---T--G----\n",
      "str05: A---G---G-T---T-TAT----A----C-C-T--T-C-CTA--GGTA-A--C-A----A-AC-C--A-AC--C-A-ACT-TT-CGAT--C-T-C--T-T-G---TA-------------------\n",
      "str06: -CTT-T----T-G----ATCTCT---T--G--TA----G--A----T-C-TG-T-T-CT---CT---A-A-A-CGA-ACT-TTA--A-A--AT-C--T---G---T-G-T----------------\n",
      "str07: --TTGTA-GAT--CTGT-TCTCTA-A-ACG-A-ACTT---TA-A---A-AT-CT--G-T-G--T-G--G-C-T-G-T-C----AC--T--C-----------------------------------\n",
      "str08: --TTGTA-GAT--CTGT-TCTCTA-A-ACG-A-ACTT---TA-A---A-AT-CT--G-T-G--T-G--G-C-T-G-T-C----AC--T--C-----------------------------------\n",
      "str09: --TTGTA-GAT--CTGT-TCTCTA-A-ACG-A-ACTT---TA-A---A-AT-CT--G-T-G--T-G--G-C-T-G-T-C----AC--T--C-----------------------------------\n",
      "str10: --T---A--ATA--T-TA-C-CT-GAT--G--------GC--C-G---C--GC----C----C-C-T---CA---A-A-----A--A--G--TG-G-----GC-C---CT-TG--GA--CAGAT--\n",
      "str11: --T---A--A-AG--GT-T-T--A--TAC-C-T--T-C-C--CAGGTA-A--C-A----A-AC-C--A-AC--C-A-ACT-TT-CGAT--C-T-C--T-T--------------------------\n",
      "str12: AC-----C-A-A-C-----C---A-A--C---T--TTCG--A----T-C-T-CT-TG-TAGA-TC-T-G---T---T-CT----C--TA--A----A-C--G-A--A-CT-T------T-A-A---\n",
      "str13: --TTGTA-GAT--CTGT-TCTCTA-A-ACG-A-ACTT---TA-A---A-AT-CT--G-T-G--T-G--G-C-T-G-T-C----AC--T--C-----------------------------------\n",
      "str14: AC-----C-A-A-C-----C---A-A--C---T--TTCG--A----T-C-T-CT-TG-TAGA-TC-T-G---T---T-CT----C--TA--A----A-C--G-A--A-CT-T------T-A-A---\n",
      "str15: ----GT----TA-----A-C---A-ATA---AT-C------ACA----C---C-AT-C-A--C-CGT-----T---T--T-TT-C-A-AGC--G-G-----G-A--A---A--A--AAT-AG--CC\n",
      "str16: --TTGTA-GAT--CTGT-TCTCTA-A-ACG-A-ACTT---TA-A---A-AT-CT--G-T-G--T-G--G-C-T-G-T-C----AC--T--C-----------------------------------\n",
      "str17: A---G-A---T--CTGT-TCTCTA-A-ACG-A-ACTT---TA-A---A-AT-CT--G-T-G--T-G--G-C-T-G-T-C----AC--T--C--G-G--CT--------------------------\n",
      "str18: A-----AC-A-A-----A-C-C-A-A--C-CA-ACTT---T-C-G--A--T-CT---CT----T-GTAGA--TC--T---GTT-C--T--C-T---A---A--AC--G--A--AC-----------\n",
      "str19: A---G-A---T--CTGT-TCTCTA-A-ACG-A-ACTT---TA-A---A-AT-CT--G-T-G--T-G--G-C-T-G-T-C----AC--T--C--G-G--CT--------------------------\n",
      "str20: AC-----C-----C-----C-C--G---C-C---C--C---A--GGT---T-C-A-GC--G----G-AG---TC-AT-C----ACG-T-G-A-G--A-C--GCAC-A--T--GAC-A-T----T--\n",
      "str21: A-----AC--T---T-TA-----A-A-A----T-CT--G-T---G-T----G----GCT-G--TC--A--C-TCG-----G---C--T-GCATGC--T-TAG---T-GC-A---C---TCA-----\n",
      "str22: --T---A--A-AG--GT-T-T--A--TAC-C---CTTC-C--CAGGTA-A--C-A----A-AC-C--A-AC--C-A-ACT-TT----T-G-AT-C--TCT--------------------------\n",
      "str23: --TTGTA-GAT--CTGT-TCTCTA-A-ACG-A-ACTT---TA-A---A-AT-CT--G-T-G--T-G--G-C-T-G-T-C----AC--T--C-----------------------------------\n",
      "str24: --TTGTA-GAT--CTGT-TCTCTA-A-A"
     ]
    },
    {
     "name": "stdout",
     "output_type": "stream",
     "text": [
      "CG-A-ACTT---TA-A---A-AT-CT--G-T-G--T-G--G-C-T-G-T-C----AC--T--C-----------------------------------\n",
      "str25: A-T----CG-T-GCT-T-T-T---G-T-CG--T-CTT---T---G--ACA--CT-T--T---C--G-A--C-T--A-ACT---A--A-AG-ATG--AT-T-----T--CT----------------\n",
      "str26: A-TT--A--A-AG--GT-T-T--A--TAC-C-T--T-C-C--CAGGTA-A--C-A----A-AC-C--A-AC--C-A-ACT-TT----T-G-AT-C--TC---------------------------\n",
      "str27: --T---A--A-AG--GT-T-T--A--TAC-C-T--T-C-CTA--GGTA-A--C-A----A-AC-C--A-AC--C-A-ACT-TT----T-G-AT-C--TCT-----T--------------------\n",
      "str28: ACT---A--A-AG--GT-T-T--A--TAC-C-T--T-C-C--CAGGTA-A--C-A----A-AC-C--A-AC--C-A-ACT-TT----T-G-AT-C--TC---------------------------\n",
      "str29: -C-----C-A-A-CT-T-TC----GAT-C---T-CTT-G-TA--G--A--T-CT--G-T----TC-T---C-T--A-A-----ACGA-A-C-T----T-TA--A--A---AT--C---T-------\n",
      "str30: A-TT--A--A-AG--GT-T-T--A--TAC-C-T--T-C-C--CAGGTA-A--C-A----A-AC-C--A-AC--C-A-ACT-TT----T-G-AT-C--TC---------------------------\n",
      "str31: --T---AC-----CT-T--C-C------C--A------G-----G-TA-A--C-A----A-AC-C--A-AC--C-A-ACT-TT-CGAT--C-T-C--T-T-G---TAG--AT--C---T--G-T--\n",
      "str32: A-T-GT--G-T---T--ATC----G-T-C--A-ACT-----ACA--TA--T--TA----A-A-----A-A--T--A-A-TG---C--TA--AT-C-AT-T-----T---TA-G-----TC-G----\n",
      "str33: --TTGTA-GAT--CTGT-TCTCTA-A-ACG-A-ACTT---TA-A---A-AT-CT--G-T-G--T-G--G-C-T-G-T-C----AC--T--C-----------------------------------\n",
      "str34: A-----AC--T---T-TA-----A-A-A----T-CT--G-T---G-T----G----GCT-G--TC--A--C-TCG-----G---C--T-GCATGC--T-TAG---T-GC-A---C---TCA-----\n",
      "str35: --TTGTA-GAT--CTGT-TCTCTA-A-ACG-A-ACTT---TA-A---A-AT-CT--G-T-G--T-G--G-C-T-G-T-C----AC--T--C-----------------------------------\n",
      "str36: -CTT-T-CGAT--CT----CT-T-G-TA-G-AT-CT--G-T-----T-C-T-CTA----A-AC--G-A-AC-T---T--T---A--A-A--AT-C--T---G---T-G-T----------------\n",
      "str37: --TTGTA-GAT--CTGT-TCTCTA-A-ACG-A-ACTT---TA-A---A-AT-CT--G-T-G--T-G--G-C-T-G-T-C----AC--T--C-----------------------------------\n",
      "str38: --TT--A--A-AG--GT-T-T--A--TAC-C-T--T-C-C--CAGGTA-A--C-A----A-AC-C--A-AC--C-A-ACT-TT----T-G-AT-C--TCT--------------------------\n",
      "str39: A-T-G-A--A-A-----A-C----GA-A---A-A-TT----A----T---T---AT-C-A-A---G--G-----G-TA-TG----GA-AG--TG-GA---AGC--T-G--A---CGAA--A--T--\n",
      "str40: A---G---G-TA-----A-C---A-A-AC-CA-AC--C---A-A----C-T--T-T-C--GA-TC-T---C-T---T---GT-A-GAT--C-TG---T-T--C--T--CTA--A--A--C------\n",
      "str41: --TTGTA-GAT--CTGT-TCTCTA-A-ACG-A-ACTT---TA-A---A-AT-CT--G-T-G--T-G--G-C-T-G-T-C----AC--T--C-----------------------------------\n",
      "str42: -CTT-T-CGAT--CT----CT-T-G-TA-G-AT-CT--G-T-----T-C-T-CTA----A-AC--G-A-AC-T---T--T---A--A-A--AT-C--T---G---T-G-T----------------\n",
      "str43: A-----AC-A-A-----A-C-C-A-A--C-CA-ACTT---T-C-G--A--T-CT---CT----T-GTAGA--TC--T---GTT-C--T--C-T---A---A--AC--G--A--AC-----------\n",
      "str44: --TTGTA-GAT--CTGT-TCTCTA-A-ACG-A-ACTT---TA-A---A-AT-CT--G-T-G--T-G--G-C-T-G-T-C----AC--T--C-----------------------------------\n",
      "str45: A---G---G-T---T-TAT----A----C-C-T--T-C-C--CAGGTA-A--C-A----A-AC-C--A-AC--C-A-ACT-TT-CGAT--C-T-C--T-T-G---TA-------------------\n",
      "str46: -CT-G-A---T-G-T--A-C----GA---G-AT--T-CG-TACA--TAC---CT-TG-TA--C--G-A-A-AT---T-C-GT-AC-A-A-CA--C---C-A----T--------------------\n",
      "str47: --T---A--A-AG--GT-T-T--A--TAC-C-T--T-C-C--CAGGTA-A--C-A----A-AC-C--A-AC-"
     ]
    },
    {
     "name": "stdout",
     "output_type": "stream",
     "text": [
      "-C-A-ACT-TT-CGAT--C-T-C--T-T--------------------------\n",
      "str48: AC----A--A--G----A------GA-A----TAC------A-AGG-----G--A-G---GAC-C-T-G-C-T-G---CT---A---TA-C--GCG--CT-GC-CT--CT-T------TC-G--C-\n",
      "str49: -CTT-T----T-G----ATCTCT---T--G--TA----G--A----T-C-TG-T-T-CT---CT---A-A-A-CGA-ACT-TTA--A-A--AT-C--T---G---T-G-T----------------\n",
      "str50: --TTGTA-GAT--CTGT-TCTCTA-A-ACG-A-ACTT---TA-A---A-AT-CT--G-T-G--T-G--G-C-T-G-T-C----AC--T--C-----------------------------------\n",
      "\n",
      "solution is feasible: True\n"
     ]
    }
   ],
   "source": [
    "_instance = util.parse(\"nucleotide_n050k050.txt\")\n",
    "util.show(_instance)\n",
    "_solution = solve(_instance)\n",
    "util.show(_instance, _solution)\n",
    "print(f\"solution is feasible: {util.is_feasible(_instance, _solution)}\")"
   ]
  },
  {
   "cell_type": "code",
   "execution_count": null,
   "id": "iLit",
   "metadata": {},
   "outputs": [
    {
     "name": "stdout",
     "output_type": "stream",
     "text": [
      "--- Condition (with 9 chars) ---\n",
      "str01: MESLVPGFNE\n",
      "str02: MESLVPGFNE\n",
      "str03: MFVFLVLLPL\n",
      "str04: MESLVPGFNE\n",
      "str05: MESLVPGFNE\n",
      "str06: MESLVPGFNE\n",
      "str07: MFVFLVLLPL\n",
      "str08: MFVFLVLLPL\n",
      "str09: MESLVPGFNE\n",
      "str10: MFVFLVLLPL\n",
      "\n"
     ]
    },
    {
     "name": "stdout",
     "output_type": "stream",
     "text": [
      "--- Solution (of length 16) ---\n",
      "  Sol: MESFVFLVLLPGFNEL\n",
      "str01: MES---LV--PGFNE-\n",
      "str02: MES---LV--PGFNE-\n",
      "str03: M--FVFLVLLP----L\n",
      "str04: MES---LV--PGFNE-\n",
      "str05: MES---LV--PGFNE-\n",
      "str06: MES---LV--PGFNE-\n",
      "str07: M--FVFLVLLP----L\n",
      "str08: M--FVFLVLLP----L\n",
      "str09: MES---LV--PGFNE-\n",
      "str10: M--FVFLVLLP----L\n",
      "\n",
      "solution is feasible: True\n"
     ]
    }
   ],
   "source": [
    "_instance = util.parse(\"protein_n010k010.txt\")\n",
    "util.show(_instance)\n",
    "_solution = solve(_instance)\n",
    "util.show(_instance, _solution)\n",
    "print(f\"solution is feasible: {util.is_feasible(_instance, _solution)}\")"
   ]
  },
  {
   "cell_type": "code",
   "execution_count": null,
   "id": "ZHCJ",
   "metadata": {},
   "outputs": [
    {
     "name": "stdout",
     "output_type": "stream",
     "text": [
      "--- Condition (with 20 chars) ---\n",
      "str01: MESLVPGFNEKTHVQLSLPVLQVRDVLVRGFGDSVEEVLSEARQHLKDGT\n",
      "str02: MESLVPGFNEKTHVQLSLPVLQVRDVLVRGFGDSVEEVLSEARQHLKDGT\n",
      "str03: MFVFLVLLPLVSSQCVNLTTRTQLPPAYTNSFTRGVYYPDKVFRSSVLHS\n",
      "str04: MESLVPGFNEKTHVQLSLPVLQVRDVLVRGFGDSVEEVLSEARQHLKDGT\n",
      "str05: MESLVPGFNEKTHVQLSLPVLQVRDVLVRGFGDSVEEVLSEARQHLKDGT\n",
      "str06: MESLVPGFNEKTHVQLSLPVLQVRDVLVRGFGDSVEEVLSEARQHLKDGT\n",
      "str07: MFVFLVLLPLVSSQCVNLITRTQSYTNSFTRGVYYPDKVFRSSVLHSTKD\n",
      "str08: MFVFLVLLPLVSSQCVNLRTRTQLPPAYTNSFTRGVYYPDKVFRSSVLHS\n",
      "str09: MESLVPGFNEKTHVQLSLPVLQVRDVLVRGFGDSVEEVLSEARQHLKDGT\n",
      "str10: MFVFLVLLPLVSSQCVNLTTRTQLPPAYTNSFTRGVYYPDKVFRSSVLHS\n",
      "str11: MFVFLVLLPLVSSQCVMPLFNLITTTQSYTNFTRGVYYPDKVFRSSVLHL\n",
      "str12: MESLVPGFNEKTHVQLSLPVLQVRDVLVRGFGDSVEEVLSEARQHLKDGT\n",
      "str13: MFVFLVLLPLVSSQCVNLTTRTQLPPAYTNSFTRGVYYPDKVFRSSVLHS\n",
      "str14: MDPIINGSSANVYLTDSYLKGVISFSECNALGSYLFNGPYLKNDYTNLIS\n",
      "str15: MFVFLVLLPLVSSQCVNLTTRTQLPPAYTNSFTRGVYYPDKVFRSSVLHS\n",
      "str16: MESLVPGFNEKTHVQLSLPVLQVRDVLVRGFGDSVEEVLSEARQHLKDGT\n",
      "str17: MESLVPGFNEKTHVQLSLPVLQVRDVLVRGFGDSVEEVLSEARQHLKDGT\n",
      "str18: MESLVPGFNEKTHVQLSLPVLQVRDVLVRGFGDSVEEVLSEARQHLKDGT\n",
      "str19: MESLVPGFNEKTHVQLSLPVLQVRDVLVRGFGDSVEEVLSEARQHLKDGT\n",
      "str20: MESLVPGFNEKTHVQLSLPVLQVRDVLVRGFGDSVEEVLSEARQHLKDGT\n",
      "str21: MESLVPGFNEKTHVQLSLPVLQVRDVLVRGFGDSVEEVLSEARQHLKDGT\n",
      "str22: MLNRIQTLMKTANNYETIEILRNYLRLYIILARNEEGRGILIYDDNIDSV\n",
      "str23: MESLVPGFNEKTHVQLSLPVLQVRDVLVRGFGDSVEEVLSEARQHLKDGT\n",
      "str24: MESLVPGFNEKTHVQLSLPVLQVRDVLVRGFGDSVEEVLSEARQHLKDGT\n",
      "str25: MFVFLVLLPLVSSQCVNLRTRTQLPPAYTNSFTRGVYYPDKVFRSSVLHS\n",
      "str26: MESLVPGFNEKTHVQLSLPVLQVRDVLVRGFGDSVEEVLSEARQHLKDGT\n",
      "str27: MDPIINGSSANVYLTDSYLKGVISFSECNALGSYLFNGPYLKNDYTNLIS\n",
      "str28: MESLVPGFNEKTHVQLSLPVLQVRDVLVRGFGDSVEEVLSEARQHLKDGT\n",
      "str29: MESLVPGFNEKTHVQLSLPVLQVRDVLVRGFGDSVEEVLSEARQHLKDGT\n",
      "str30: MESLVPGFNEKTHVQLSLPVLQVRDVLVRGFGDSVEEVLSEARQHLKDGT\n",
      "str31: MESLVPGFNEKTHVQLSLPVLQVRDVLVRGFGDSVEEVLSEARQHLKDGT\n",
      "str32: MESLVPGFNEKTHVQLSLPVLQVRDVLVRGFGDSVEEVLSEARQHLKDGT\n",
      "str33: MFVFLVLLPLVSSQCVNLITRTQSYTNSFTRGVYYPDKVFRSSVLHSTQD\n",
      "str34: MESTVGPACPPGRTVTKRPWALAEDTPGGPDSPPKRPRPNSLPLTTTFRP\n",
      "str35: MNNQRKKTARPSFNMLKRARNRVSTVSQLAKRFSKGLLSGQGPMKLVMAF\n",
      "str36: MFVFLVLLPLVSSQCVNLITRTQSYTNSFTRGVYYPDKVFRSSVLHSTQD\n",
      "str37: MEPGAFSTALFDALCDDILHRRLESQLRFGGVQIPPEVSDPRVYAGYALL\n",
      "str38: MESLVPGFNEKTHVQLSLPVLQVRDVLVRGFGDSVEEVLSEARQHLKDGT\n",
      "str39: MESLVPGFNEKTHVQLSLPVLQVRDVLVRGFGDSVEEVLSEARQHLKDGT\n",
      "str40: MESLVPGFNEKTHVQLSLPVLQVRDVLVRGFGDSVEEVLSEARQHLKDGT\n",
      "str41: MFVFLVLLPLVSSQCVNLTTRTQLPPAYTNSFTRGVYYPDKVFRSSVLHS\n",
      "str42: MKKNTDSEMDQRLGYKFLVPDPKAGVFYRPLHFQYVSYSNFILHRLHEIL\n",
      "str43: MESLVPGFNEKTHVQLSLPVLQVRDVLVRGFGDSVEEVLSEARQHLKDGT\n",
      "str44: MESLVPGFNEKTHVQLSLPVLQVRDVLVRGFGDSVEEVLSEARQHLKDGT\n",
      "str45: MESLVPGFNEKTHVQLSLPVLQVRDVLVRGFGDSVEEVLSEARQHLKDGT\n",
      "str46: MFVFLVLLPLVSSQCVNLTTRTQLPPAYTNSFTRGVYYPDKVFRSSVLHS\n",
      "str47: MESLVPGFNEKTHVQLSLPVLQVRDVLVRGFGDSVEEVLSEARQHLKDGT\n",
      "str48: MESLVPGFNEKTHVQLSLPVLQVRDVLVRGFGDSVEEVLSEARQHLKDGT\n",
      "str49: MFVFLVLLPLVSSQCVNLITRTQSYTNSFTRGVYYPDKVFRSSVLHSTQD\n",
      "str50: MESLVPGFNEKTHVQLSLPVLQVRDVLVRGFGDSVEEVLSEARQHLKDGT\n",
      "\n"
     ]
    },
    {
     "name": "stdout",
     "output_type": "stream",
     "text": [
      "--- Solution (of length 314) ---\n",
      "  Sol: MDEFKKLNNPGAFIINGQRIKKQSLSANTADLFDALCDDILHMKRPRLESEFMDNMLKQLRAFGGLGRNRTANNVFGLPACGFNEKPPGQIPPERSTHVLLPLQLSDLPQLAKRFSKGLLSGQGPMKLTKRPVLMAFQSSQCVMNLIPLFNLIRDTVYLVTRGFGDSVETEQVLSEPPAYTNSFTRGVYYPDKQVFLHRKGVISLFSECNALGSYLKFPDWIVLANGPRLNYLKAEDTGVRLFYPGGRPIHILDSAHRNFPPQEKYDEVRSYTGPRSNGPILINSFILPYDHLQDRTNTLIHTDFERIKSDLPV\n",
      "str01: M-E--------------------SL-------------------------------------------------V---P--GFNEK----------THV----QLS-LP-----------------------VL---Q----V----------RD-V-LV-RGFGDSVE-E-VLSE--A------R-------Q---H------L-----------K--D------G----------T----------------------------------------------------------------------------\n",
      "str02: M-E--------------------SL-------------------------------------------------V---P--GFNEK----------THV----QLS-LP-----------------------VL---Q----V----------RD-V-LV-RGFGDSVE-E-VLSE--A------R-------Q---H------L-----------K--D------G----------T----------------------------------------------------------------------------\n",
      "str03: M--F----------------------------------------------------------------------VF-L--------------------VLLPL-----------------------------V-----SSQCV-NL---------T----TR-------T-Q-L--PPAYTNSFTRGVYYPDK-VF--R----S--S---------------VL--------------------------H---S-----------------------------------------------------------\n",
      "str04: M-E--------------------SL-------------------------------------------------V---P--GFNEK----------THV----QLS-LP-----------------------VL---Q----V----------RD-V-LV-RGFGDSVE-E-VLSE--A------R-------Q---H------L-----------K--D------G----------T----------------------------------------------------------------------------\n",
      "str05: M-E--------------------SL-------------------------------------------------V---P--GFNEK----------THV----QLS-LP-----------------------VL---Q----V----------RD-V-LV-RGFGDSVE-E-VLSE--A------R-------Q---H------L-----------K--D------G----------T----------------------------------------------------------------------------\n",
      "str06: M-E--------------------SL-------------------------------------------------V---P--GFNEK----------THV----QLS-LP-----------------------VL---Q----V----------RD-V-LV-RGFGDSVE-E-VLSE--A------R-------Q---H------L-----------K--D------G----------T----------------------------------------------------------------------------\n",
      "str07: M--F----------------------------------------------------------------------VF-L--------------------VLLPL-----------------------------V-----SSQCV-NLI--------T-----R-------T-Q--S----YTNSFTRGVYYPDK-VF--R----S--S---------------VL--------------------------H---S-----------------T-----------------------------------K-D---\n",
      "str08: M--F----------------------------------------------------------------------VF-L--------------------VLLPL-----------------------------V-----SSQCV-NL-------R-T-----R-------T-Q-L--PPAYTNSFTRGVYYPDK-VF--R----S--S---------------VL--------------------------H---S-----------------------------------------------------------\n",
      "str09: M-E--------------------SL-------------------------------------------------V---P--GFNEK----------THV----QLS-LP-----------------------VL---Q----V----------RD-V-LV-RGFGDSVE-E-VLSE--A------R-------Q---H------L-----------K--D------G----------T----------------------------------------------------------------------------\n",
      "str10: M--F----------------------------------------------------------------------VF-L--------------------VLLPL-----------------------------"
     ]
    },
    {
     "name": "stdout",
     "output_type": "stream",
     "text": [
      "V-----SSQCV-NL---------T----TR-------T-Q-L--PPAYTNSFTRGVYYPDK-VF--R----S--S---------------VL--------------------------H---S-----------------------------------------------------------\n",
      "str11: M--F----------------------------------------------------------------------VF-L--------------------VLLPL-----------------------------V-----SSQCVM---PLFNLI--T----T--------T-Q--S----YTN-FTRGVYYPDK-VF--R----S--S---------------VL--------------------------H-L-------------------------------------------------------------\n",
      "str12: M-E--------------------SL-------------------------------------------------V---P--GFNEK----------THV----QLS-LP-----------------------VL---Q----V----------RD-V-LV-RGFGDSVE-E-VLSE--A------R-------Q---H------L-----------K--D------G----------T----------------------------------------------------------------------------\n",
      "str13: M--F----------------------------------------------------------------------VF-L--------------------VLLPL-----------------------------V-----SSQCV-NL---------T----TR-------T-Q-L--PPAYTNSFTRGVYYPDK-VF--R----S--S---------------VL--------------------------H---S-----------------------------------------------------------\n",
      "str14: MD-------P---IING------S-SAN----------------------------------------------V----------------------------------------------------------------------------------YL-T----DS------------Y----------------L--KGVIS-FSECNALGSYL-F-------NGP---YLK------------------------N-------D----YT----N---LI-S-----------------------------\n",
      "str15: M--F----------------------------------------------------------------------VF-L--------------------VLLPL-----------------------------V-----SSQCV-NL---------T----TR-------T-Q-L--PPAYTNSFTRGVYYPDK-VF--R----S--S---------------VL--------------------------H---S-----------------------------------------------------------\n",
      "str16: M-E--------------------SL-------------------------------------------------V---P--GFNEK----------THV----QLS-LP-----------------------VL---Q----V----------RD-V-LV-RGFGDSVE-E-VLSE--A------R-------Q---H------L-----------K--D------G----------T----------------------------------------------------------------------------\n",
      "str17: M-E--------------------SL-------------------------------------------------V---P--GFNEK----------THV----QLS-LP-----------------------VL---Q----V----------RD-V-LV-RGFGDSVE-E-VLSE--A------R-------Q---H------L-----------K--D------G----------T----------------------------------------------------------------------------\n",
      "str18: M-E--------------------SL-------------------------------------------------V---P--GFNEK----------THV----QLS-LP-----------------------VL---Q----V----------RD-V-LV-RGFGDSVE-E-VLSE--A------R-------Q---H------L-----------K--D------G----------T----------------------------------------------------------------------------\n",
      "str19: M-E--------------------SL-------------------------------------------------V---P--GFNEK----------THV----QLS-LP-----------------------VL---Q----V----------RD-V-LV-RGFGDSVE-E-VLSE--A------R-------Q---H------L-----------K--D------G----------T----------------------------------------------------------------------------\n",
      "str20: M-E--------------------SL-------------------------------------------------V---P--GFNEK----------THV----QLS-LP-----------------------VL---Q----V----------RD-V-LV-RGFGDSVE-E-VLSE--A------R-------Q---H------L-----------K--D------G----------T----------------------------------------------------------------------------\n",
      "str21: M-E--------------------SL-------------------------------------------------V---P--GFNEK----------THV----QLS-LP-----------------------VL---Q----V----------RD-V-LV-RGFGDSVE-E-VLSE--A------R-------Q---H------L-----------K--D------G----------T----------------------------------------------------------------------------\n",
      "str22: M-----LN----------RI--Q-----T--L----------MK--------------------------TANN-----------------------------------------------------------------------------------Y----------ET--------------------------------I----E-------------I-L----R-NYL-------RL-Y-----I-IL--A-RN----E---E-----G-R--G-ILI------YD-"
     ]
    },
    {
     "name": "stdout",
     "output_type": "stream",
     "text": [
      "--D--N--I--D-----S---V\n",
      "str23: M-E--------------------SL-------------------------------------------------V---P--GFNEK----------THV----QLS-LP-----------------------VL---Q----V----------RD-V-LV-RGFGDSVE-E-VLSE--A------R-------Q---H------L-----------K--D------G----------T----------------------------------------------------------------------------\n",
      "str24: M-E--------------------SL-------------------------------------------------V---P--GFNEK----------THV----QLS-LP-----------------------VL---Q----V----------RD-V-LV-RGFGDSVE-E-VLSE--A------R-------Q---H------L-----------K--D------G----------T----------------------------------------------------------------------------\n",
      "str25: M--F----------------------------------------------------------------------VF-L--------------------VLLPL-----------------------------V-----SSQCV-NL-------R-T-----R-------T-Q-L--PPAYTNSFTRGVYYPDK-VF--R----S--S---------------VL--------------------------H---S-----------------------------------------------------------\n",
      "str26: M-E--------------------SL-------------------------------------------------V---P--GFNEK----------THV----QLS-LP-----------------------VL---Q----V----------RD-V-LV-RGFGDSVE-E-VLSE--A------R-------Q---H------L-----------K--D------G----------T----------------------------------------------------------------------------\n",
      "str27: MD-------P---IING------S-SAN----------------------------------------------V----------------------------------------------------------------------------------YL-T----DS------------Y----------------L--KGVIS-FSECNALGSYL-F-------NGP---YLK------------------------N-------D----YT----N---LI-S-----------------------------\n",
      "str28: M-E--------------------SL-------------------------------------------------V---P--GFNEK----------THV----QLS-LP-----------------------VL---Q----V----------RD-V-LV-RGFGDSVE-E-VLSE--A------R-------Q---H------L-----------K--D------G----------T----------------------------------------------------------------------------\n",
      "str29: M-E--------------------SL-------------------------------------------------V---P--GFNEK----------THV----QLS-LP-----------------------VL---Q----V----------RD-V-LV-RGFGDSVE-E-VLSE--A------R-------Q---H------L-----------K--D------G----------T----------------------------------------------------------------------------\n",
      "str30: M-E--------------------SL-------------------------------------------------V---P--GFNEK----------THV----QLS-LP-----------------------VL---Q----V----------RD-V-LV-RGFGDSVE-E-VLSE--A------R-------Q---H------L-----------K--D------G----------T----------------------------------------------------------------------------\n",
      "str31: M-E--------------------SL-------------------------------------------------V---P--GFNEK----------THV----QLS-LP-----------------------VL---Q----V----------RD-V-LV-RGFGDSVE-E-VLSE--A------R-------Q---H------L-----------K--D------G----------T----------------------------------------------------------------------------\n",
      "str32: M-E--------------------SL-------------------------------------------------V---P--GFNEK----------THV----QLS-LP-----------------------VL---Q----V----------RD-V-LV-RGFGDSVE-E-VLSE--A------R-------Q---H------L-----------K--D------G----------T----------------------------------------------------------------------------\n",
      "str33: M--F----------------------------------------------------------------------VF-L--------------------VLLPL-----------------------------V-----SSQCV-NLI--------T-----R-------T-Q--S----YTNSFTRGVYYPDK-VF--R----S--S---------------VL--------------------------H---S-----------------T--------------------QD-------------------\n",
      "str34: M-E--------------------S----T---------------------------------------------V-G-PAC-----PPG-----R-T-V-----------------------------TKRP----------------------------------------------------------------------------------------W---A----L----AEDT------PGG-P----DS-----PP--K----R----PR---P---NS--LP---L---T-T---T-F-R-----P-\n",
      "str35: M------NN--------QR-KK------TA--------------RP---S-F--NMLK--RA-----RNR----V--------------------ST-V------S---QLAKRFSKGLLSGQGPMKL----V-MAF-----------------------"
     ]
    },
    {
     "name": "stdout",
     "output_type": "stream",
     "text": [
      "----------------------------------------------------------------------------------------------------------------------------------------------------------\n",
      "str36: M--F----------------------------------------------------------------------VF-L--------------------VLLPL-----------------------------V-----SSQCV-NLI--------T-----R-------T-Q--S----YTNSFTRGVYYPDK-VF--R----S--S---------------VL--------------------------H---S-----------------T--------------------QD-------------------\n",
      "str37: M-E------PGAF----------S----TA-LFDALCDDILH--R-RLES--------QLR-FGG---------V--------------QIPPE----V------SD-P----R------------------V------------------------Y--------------------A-------G-Y---------------------AL---L--------------------------------------------------------------------------------------------------\n",
      "str38: M-E--------------------SL-------------------------------------------------V---P--GFNEK----------THV----QLS-LP-----------------------VL---Q----V----------RD-V-LV-RGFGDSVE-E-VLSE--A------R-------Q---H------L-----------K--D------G----------T----------------------------------------------------------------------------\n",
      "str39: M-E--------------------SL-------------------------------------------------V---P--GFNEK----------THV----QLS-LP-----------------------VL---Q----V----------RD-V-LV-RGFGDSVE-E-VLSE--A------R-------Q---H------L-----------K--D------G----------T----------------------------------------------------------------------------\n",
      "str40: M-E--------------------SL-------------------------------------------------V---P--GFNEK----------THV----QLS-LP-----------------------VL---Q----V----------RD-V-LV-RGFGDSVE-E-VLSE--A------R-------Q---H------L-----------K--D------G----------T----------------------------------------------------------------------------\n",
      "str41: M--F----------------------------------------------------------------------VF-L--------------------VLLPL-----------------------------V-----SSQCV-NL---------T----TR-------T-Q-L--PPAYTNSFTRGVYYPDK-VF--R----S--S---------------VL--------------------------H---S-----------------------------------------------------------\n",
      "str42: M---KK-N--------------------T-D------------------SE-MD----Q-R----LG------------------------------------------------------------------------------------------Y----------------------------------K--FL----V----------------PD-------P-----KA---GV--FY---RP---L---H--F--Q--Y--V-SY----SN-------FIL---H---R---L-H---E-I---L--\n",
      "str43: M-E--------------------SL-------------------------------------------------V---P--GFNEK----------THV----QLS-LP-----------------------VL---Q----V----------RD-V-LV-RGFGDSVE-E-VLSE--A------R-------Q---H------L-----------K--D------G----------T----------------------------------------------------------------------------\n",
      "str44: M-E--------------------SL-------------------------------------------------V---P--GFNEK----------THV----QLS-LP-----------------------VL---Q----V----------RD-V-LV-RGFGDSVE-E-VLSE--A------R-------Q---H------L-----------K--D------G----------T----------------------------------------------------------------------------\n",
      "str45: M-E--------------------SL-------------------------------------------------V---P--GFNEK----------THV----QLS-LP-----------------------VL---Q----V----------RD-V-LV-RGFGDSVE-E-VLSE--A------R-------Q---H------L-----------K--D------G----------T----------------------------------------------------------------------------\n",
      "str46: M--F----------------------------------------------------------------------VF-L--------------------VLLPL-----------------------------V-----SSQCV-NL---------T----TR-------T-Q-L--PPAYTNSFTRGVYYPDK-VF--R----S--S---------------VL--------------------------H---S-----------------------------------------------------------\n",
      "str47: M-E--------------------SL-------------------------------------------------V---P--GFNEK----------THV----QLS-LP-----------------------VL---Q----V----------RD-V-LV-RGFGDSVE-E-VLSE--A------R-------Q---H------L-----------K--D------G----------T----------------------------------------------------------------------------\n",
      "str48: M-E--------------------SL-------------------------------------------------V---P--GFNEK----------THV----QLS-LP-----------------------VL---Q----V----------RD-V-LV-RGFGDSVE-E-VLSE--A------R-------Q---H------L-----------K--D------G----------T----------------------------------------------------------------------------\n",
      "str49: M--F----------------------------------------------------------------------VF-L--------------------VLLPL-----------------------------V-----SSQCV-NLI--------T-----R-------T-Q--S----YTNSFTRGVYYPDK-VF--R----S--S---------------VL--------------------------H---S-----------------T--------------------QD-------------------\n",
      "str50: M-E--------------------SL-------------------------------------------------V---P--GFNEK----------THV----QLS-LP-----------------------VL---Q----V----------RD-V-LV-RGFGDSVE-E-VLSE--A------R-------Q---H------L-----------K--D------G----------T----------------------------------------------------------------------------\n",
      "\n",
      "solution is feasible: True\n"
     ]
    }
   ],
   "source": [
    "_instance = util.parse(\"protein_n050k050.txt\")\n",
    "util.show(_instance)\n",
    "_solution = solve(_instance)\n",
    "util.show(_instance, _solution)\n",
    "print(f\"solution is feasible: {util.is_feasible(_instance, _solution)}\")"
   ]
  }
 ],
 "metadata": {},
 "nbformat": 4,
 "nbformat_minor": 5
}
