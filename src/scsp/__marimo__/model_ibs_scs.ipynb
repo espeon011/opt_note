{
 "cells": [
  {
   "cell_type": "code",
   "execution_count": null,
   "id": "setup",
   "metadata": {
    "marimo": {
     "name": "setup"
    }
   },
   "outputs": [],
   "source": [
    "import copy\n",
    "import math\n",
    "import functools"
   ]
  },
  {
   "cell_type": "code",
   "execution_count": null,
   "id": "Hbol",
   "metadata": {},
   "outputs": [],
   "source": [
    "import marimo as mo\n",
    "import nbformat\n",
    "import util"
   ]
  },
  {
   "cell_type": "markdown",
   "id": "MJUe",
   "metadata": {
    "marimo": {
     "config": {
      "hide_code": true
     }
    }
   },
   "source": [
    "# `IBS_SCS` アルゴリズム"
   ]
  },
  {
   "cell_type": "markdown",
   "id": "vblA",
   "metadata": {
    "marimo": {
     "config": {
      "hide_code": true
     }
    }
   },
   "source": [
    "参考: Sayyed Rasoul Mousavi, Fateme Bahri, Farzaneh Sadat Tabataba, 2012, An enhanced beam search algorithm for the Shortest Common Supersequence Problem,\n",
    "Engineering Applications of Artificial Intelligence,\n",
    "Volume 25, Issue 3, Pages 457-467, https://www.sciencedirect.com/science/article/pii/S0952197611001497"
   ]
  },
  {
   "cell_type": "markdown",
   "id": "bkHC",
   "metadata": {
    "marimo": {
     "config": {
      "hide_code": true
     }
    }
   },
   "source": [
    "- 計算量: $O(k^2 \\log_2 q + L^* (n \\kappa \\beta q + \\beta q \\log_2 \\left( \\beta q \\right)))$\n",
    "    - (補足) $L^*$: このアルゴリズムによって返される解の長さ. $O(nk)$\n",
    "    - (補足) $\\kappa$, $\\beta$: ビームサーチのパラメータ.\n",
    "- 近似精度: ?"
   ]
  },
  {
   "cell_type": "code",
   "execution_count": null,
   "id": "lEQa",
   "metadata": {
    "marimo": {
     "name": "*probability"
    }
   },
   "outputs": [],
   "source": [
    "@functools.cache\n",
    "def probability(len_sub: int, len_super: int, num_alphabet: int) -> float:\n",
    "    \"\"\"\n",
    "    一様ランダムに生成された文字列 w (長さ len_sub) と y (長さ len_super) について, \n",
    "    y が w の supersequence である確率を返す. \n",
    "    \"\"\"\n",
    "\n",
    "    if len_sub == 0:\n",
    "        return 1.0\n",
    "    elif len_sub > len_super:\n",
    "        return 0.0\n",
    "    else:\n",
    "        tmp1 = 1.0 / num_alphabet * probability(len_sub - 1, len_super - 1, num_alphabet)\n",
    "        tmp2 = (num_alphabet - 1) / num_alphabet * probability(len_sub, len_super - 1, num_alphabet)\n",
    "\n",
    "    return tmp1 + tmp2"
   ]
  },
  {
   "cell_type": "code",
   "execution_count": null,
   "id": "PKri",
   "metadata": {
    "marimo": {
     "name": "*State"
    }
   },
   "outputs": [],
   "source": [
    "class State:\n",
    "    def __init__(self, instance: list[str]):\n",
    "        self.instance = instance\n",
    "        self.positions = [0 for _ in instance]\n",
    "        self.solution = \"\"\n",
    "\n",
    "    def is_feasible(self) -> bool:\n",
    "        return all(pos == len(s) for s, pos in zip(self.instance, self.positions))\n",
    "\n",
    "    def is_usable(self, c: str) -> bool:\n",
    "        for pos, s in zip(self.positions, self.instance):\n",
    "            if pos < len(s) and s[pos] == c:\n",
    "                return True\n",
    "\n",
    "        return False\n",
    "\n",
    "    def dominate(self, other: \"State\") -> bool:\n",
    "        geq = all(pos1 >= pos2 for pos1, pos2 in zip(self.positions, other.positions))\n",
    "        neq = any(pos1 != pos2 for pos1, pos2 in zip(self.positions, other.positions))\n",
    "        return geq and neq"
   ]
  },
  {
   "cell_type": "code",
   "execution_count": null,
   "id": "Xref",
   "metadata": {
    "marimo": {
     "name": "*solve"
    }
   },
   "outputs": [],
   "source": [
    "def solve(instance: list[str], beta: int = 100, kappa: int = 7) -> str:\n",
    "    chars = sorted(list(set(\"\".join(instance))))\n",
    "    initial_state = State(instance)\n",
    "    b: list[State] = [initial_state]\n",
    "\n",
    "    while True:\n",
    "        # Step 1: Extension\n",
    "        c: list[State] = []\n",
    "        for state in b:\n",
    "            for char in chars:\n",
    "                if not state.is_usable(char):\n",
    "                    continue\n",
    "\n",
    "                new_state = copy.deepcopy(state)\n",
    "                new_state.solution += char\n",
    "                for idx, (s, pos) in enumerate(zip(instance, new_state.positions)):\n",
    "                    if pos < len(s) and s[pos] == char:\n",
    "                        new_state.positions[idx] += 1\n",
    "\n",
    "                if new_state.is_feasible():\n",
    "                    return new_state.solution\n",
    "                else:\n",
    "                    c.append(new_state)\n",
    "\n",
    "        # Step 2: Evaluation of candidate solutions\n",
    "        k = round(\n",
    "            math.log2(len(chars))\n",
    "            * max(\n",
    "                len(s) - pos\n",
    "                for state in c\n",
    "                for s, pos in zip(instance, state.positions)\n",
    "            )\n",
    "        )\n",
    "\n",
    "        heuristics = []\n",
    "        for state in c:\n",
    "            tmp_h = 1.0\n",
    "            for s, pos in zip(instance, state.positions):\n",
    "                tmp_h *= probability(len(s) - pos, k, len(chars))\n",
    "            heuristics.append(tmp_h)\n",
    "\n",
    "        # Step 3: Dominance pruning\n",
    "        sorted_c = [\n",
    "            state for (idx, state) in sorted(\n",
    "                list(enumerate(c)),\n",
    "                key=lambda tmp: heuristics[tmp[0]],\n",
    "                reverse=True,\n",
    "            )\n",
    "        ]\n",
    "        kappa_best_list = sorted_c[:kappa]\n",
    "        for idx in range(len(sorted_c) - 1, len(kappa_best_list) - 1, -1):\n",
    "            if any(better.dominate(sorted_c[idx]) for better in kappa_best_list):\n",
    "                sorted_c.pop(idx)\n",
    "\n",
    "        # Step 4: Selection\n",
    "        b = sorted_c[:beta]"
   ]
  },
  {
   "cell_type": "code",
   "execution_count": null,
   "id": "SFPL",
   "metadata": {},
   "outputs": [
    {
     "name": "stdout",
     "output_type": "stream",
     "text": [
      "--- Condition (with 25 chars) ---\n",
      "str1: tkgnkuhmpxnhtqgxzvxis\n",
      "str2: iojiqfolnbxxcvsuqpvissbxf\n",
      "str3: ulcinycosovozpplp\n",
      "str4: igevazgbrddbcsvrvnngf\n",
      "\n"
     ]
    },
    {
     "name": "stdout",
     "output_type": "stream",
     "text": [
      "--- Solution (of length 73) ---\n",
      " Sol: itkgnkuojiqfolevnazbcghxbimxcnprdvyxdcnshboucstqovpgvorxzvisnpsbxnpgfilps\n",
      "str1: -tkgnku---------------h---m---p----x--n-h-----tq---g---xzv------x----i--s\n",
      "str2: i------ojiqfol--n--b---x---xc----v-----s---u---q--p-v-----is--sbx---f----\n",
      "str3: ------u------l------c----i---n----y--c----o--s--ov---o--z----p----p---lp-\n",
      "str4: i--g----------ev-az--g--b------rd---d----b--cs---v----r--v--n----n-gf----\n",
      "\n",
      "solution is feasible: True\n"
     ]
    }
   ],
   "source": [
    "_instance = util.parse(\"uniform_q26n004k015-025.txt\")\n",
    "util.show(_instance)\n",
    "_solution = solve(_instance)\n",
    "util.show(_instance, _solution)\n",
    "print(f\"solution is feasible: {util.is_feasible(_instance, _solution)}\")"
   ]
  },
  {
   "cell_type": "code",
   "execution_count": null,
   "id": "BYtC",
   "metadata": {},
   "outputs": [
    {
     "name": "stdout",
     "output_type": "stream",
     "text": [
      "--- Condition (with 26 chars) ---\n",
      "str1: tkgnkuhmpxnhtqgxzvxis\n",
      "str2: iojiqfolnbxxcvsuqpvissbxf\n",
      "str3: ulcinycosovozpplp\n",
      "str4: igevazgbrddbcsvrvnngf\n",
      "str5: pyplrzxucpmqvgtdfuivcdsbo\n",
      "str6: pbdevdcvdpfzsmsbroqvbbh\n",
      "str7: enbczfjtvxerzbrvigple\n",
      "str8: rxwxqkrdrlctodtmprpxwd\n",
      "\n"
     ]
    },
    {
     "name": "stdout",
     "output_type": "stream",
     "text": [
      "--- Solution (of length 117) ---\n",
      " Sol: pigenboyjplrzxucidqtevfwkxolgnqkdcazvrdgbpfrujhmpxqtvxlcingtdvzsycodehtmsbfuroqpvizbrvcsgvoxzrvpxisbgplndsnwgxfbdehop\n",
      "str1: -------------------t----k---gn-k------------u-hmpx-------n-----------ht-------q---------g--xz-v-xis------------------\n",
      "str2: -i----o-j-------i-q---f---ol-n----------b--------x---x-c-----v-s-----------u--qpvi-----s----------sb---------xf------\n",
      "str3: --------------u------------l-----c----------------------in------yco-----s----o--v---------o-z--p-----pl-------------p\n",
      "str4: -ige-----------------v------------az---gb--r----------------d------d-----b------------cs-v---rv--------n--n-g-f------\n",
      "str5: p------y-plrzxuc-------------------------p-----m--q-v-----gtd-------------fu-----i---vc-----------------ds-----b---o-\n",
      "str6: p----b-----------d--ev----------dc--v-d--pf-------------------zs-------msb--roq-v--b---------------b--------------h--\n",
      "str7: ---enb---------c-------------------z------f--j-----tvx--------------e-------r-----zbrv-----------i--gpl----------e---\n",
      "str8: -----------r-x---------w-x----qk-----rd----r----------lc---t------od--tm-------p----r----------px----------w----d----\n",
      "\n",
      "solution is feasible: True\n"
     ]
    }
   ],
   "source": [
    "_instance = util.parse(\"uniform_q26n008k015-025.txt\")\n",
    "util.show(_instance)\n",
    "_solution = solve(_instance)\n",
    "util.show(_instance, _solution)\n",
    "print(f\"solution is feasible: {util.is_feasible(_instance, _solution)}\")"
   ]
  },
  {
   "cell_type": "code",
   "execution_count": null,
   "id": "RGSE",
   "metadata": {},
   "outputs": [
    {
     "name": "stdout",
     "output_type": "stream",
     "text": [
      "--- Condition (with 26 chars) ---\n",
      "str01: tkgnkuhmpxnhtqgxzvxis\n",
      "str02: iojiqfolnbxxcvsuqpvissbxf\n",
      "str03: ulcinycosovozpplp\n",
      "str04: igevazgbrddbcsvrvnngf\n",
      "str05: pyplrzxucpmqvgtdfuivcdsbo\n",
      "str06: pbdevdcvdpfzsmsbroqvbbh\n",
      "str07: enbczfjtvxerzbrvigple\n",
      "str08: rxwxqkrdrlctodtmprpxwd\n",
      "str09: kkqafigqjwokkskrblg\n",
      "str10: lxxpabivbvzkozzvd\n",
      "str11: krifsavncdqwhzc\n",
      "str12: qaxudgqvqcewbfgijowwy\n",
      "str13: rsxqjnfpadiusiqbezhkohmg\n",
      "str14: iwshvhcomiuvddm\n",
      "str15: htxxqjzqbctbakn\n",
      "str16: xusfcfzpeecvwantfmgqzu\n",
      "\n"
     ]
    },
    {
     "name": "stdout",
     "output_type": "stream",
     "text": [
      "--- Solution (of length 163) ---\n",
      "  Sol: krixuwslxqpkfchtxojiqfanypfxlrzpeabdigevudcosvaqjzgbrlnbxcdqvzkwognkuhcpmfqvdbctozsmipxqjbewtvanhtzcvsbuqgxfrpvdtmgideksrzfburviphkoqvrblgpxncjdsbowhmngwzxfildesuy\n",
      "str01: ---------------t----------------------------------------------k--gnkuh--m------------px--------nht------qgx--------------z----v------------x----------------i---s--\n",
      "str02: --i--------------ojiqf---------------------o---------lnbx-----------------------------x------------cvs-uq----pv----i---s------------------------sb--------xf-------\n",
      "str03: ----u--l-----c-----i---ny-----------------cos-------------------o----------v----oz---p-----------------------p--------------------------l-p------------------------\n",
      "str04: --i----------------------------------gev------a--zgbr-----d-----------------dbc---s----------v--------------r-v-----------------------------n---------ng---f-------\n",
      "str05: ----------p-------------yp--lrz-------------------------x-----------u-cpm-qv-----------------------------g------t---d-----f-u--i-----v-------c-dsbo----------------\n",
      "str06: ----------p-----------------------bd--ev-dc--v------------d------------p-f-------zsm-----------------sb-----r----------------------oqv-b---------b--h--------------\n",
      "str07: --------------------------------e---------------------nb-c---z-----------f--------------j---tv------------x----------e--rz-b-rvi---------gp------------------l-e---\n",
      "str08: -r-x-w--xq-k-----------------r-----d----------------rl---c---------------------to------------------------------dtm--------------p-----r---px-------w----------d----\n",
      "str09: k----------k--------q-a---f---------ig---------qj--------------wo--k--------------------------------------------------ks----------k---rblg-------------------------\n",
      "str10: -------lx-------x--------p-------ab-i--v-----------b--------vzk-o----------------z----------------z-v----------d---------------------------------------------------\n",
      "str11: kri---------f-------------------------------s-a-------------v-----n---c-----d----------q---w----h-zc---------------------------------------------------------------\n",
      "str12: ---------q------------a----x------------ud--------g--------qv-------------q---c-----------ew----------b----f------gi--------------------------j---ow----w---------y\n",
      "str13: -r----s-xq--------j----n--f----p-a-di---u---s---------------------------------------i--q-be-------z------------------------------hko----------------hm-g-----------\n",
      "str14: --i--ws-------h------------------------v-----------------------------hc---------o--mi------------------u------vd----d--------------------------------m-------------\n",
      "str15: --------------htx----------x-------------------qjz---------q-----------------bct---------b----a-----------------------k---------------------n----------------------\n",
      "str16: ---xu-s-----fc-------f--------zpe-----e---c--v-----------------w------------------------------an-t---------f-----mg-----------------q--------------------z-------u-\n",
      "\n",
      "solution is feasible: True\n"
     ]
    }
   ],
   "source": [
    "_instance = util.parse(\"uniform_q26n016k015-025.txt\")\n",
    "util.show(_instance)\n",
    "_solution = solve(_instance)\n",
    "util.show(_instance, _solution)\n",
    "print(f\"solution is feasible: {util.is_feasible(_instance, _solution)}\")"
   ]
  },
  {
   "cell_type": "code",
   "execution_count": null,
   "id": "Kclp",
   "metadata": {},
   "outputs": [
    {
     "name": "stdout",
     "output_type": "stream",
     "text": [
      "--- Condition (with 5 chars) ---\n",
      "str01: dcbccdbcce\n",
      "str02: bddbeeeebd\n",
      "str03: cacdeecebe\n",
      "str04: aeddddebdd\n",
      "str05: acbeecabce\n",
      "str06: bbabebdcba\n",
      "str07: bbaeaebada\n",
      "str08: eeeecbdbee\n",
      "str09: ccdeedadcd\n",
      "str10: bdabdbeaad\n",
      "\n"
     ]
    },
    {
     "name": "stdout",
     "output_type": "stream",
     "text": [
      "--- Solution (of length 28) ---\n",
      "  Sol: bdcbacedbeeecdabddecbadceade\n",
      "str01: -dcb-c------cd-b---c---ce---\n",
      "str02: bd-----dbeee------e-b-d-----\n",
      "str03: --c-ac-d-ee-c-----e-b---e---\n",
      "str04: ----a-ed-----d--dde-b-d---d-\n",
      "str05: ----ac--bee-c-ab---c----e---\n",
      "str06: b--ba---be-----bd--cba------\n",
      "str07: b--ba-e-------a---e-bad--a--\n",
      "str08: ------e--eeec--bd---b---e--e\n",
      "str09: --c--c-d-ee--da-d--c--d-----\n",
      "str10: bd--a---b----d-b--e--a---ad-\n",
      "\n",
      "solution is feasible: True\n"
     ]
    }
   ],
   "source": [
    "_instance = util.parse(\"uniform_q05n010k010-010.txt\")\n",
    "util.show(_instance)\n",
    "_solution = solve(_instance)\n",
    "util.show(_instance, _solution)\n",
    "print(f\"solution is feasible: {util.is_feasible(_instance, _solution)}\")"
   ]
  },
  {
   "cell_type": "code",
   "execution_count": null,
   "id": "emfo",
   "metadata": {},
   "outputs": [
    {
     "name": "stdout",
     "output_type": "stream",
     "text": [
      "--- Condition (with 5 chars) ---\n",
      "str01: dcbccdbcce\n",
      "str02: bddbeeeebd\n",
      "str03: cacdeecebe\n",
      "str04: aeddddebdd\n",
      "str05: acbeecabce\n",
      "str06: bbabebdcba\n",
      "str07: bbaeaebada\n",
      "str08: eeeecbdbee\n",
      "str09: ccdeedadcd\n",
      "str10: bdabdbeaad\n",
      "str11: ededaaaeaa\n",
      "str12: aaeaabeeac\n",
      "str13: eaabcaccdb\n",
      "str14: bdeeadeade\n",
      "str15: caedadeeed\n",
      "str16: ebcadbabbe\n",
      "str17: ddceeabdea\n",
      "str18: dabcddeaec\n",
      "str19: aadceedaab\n",
      "str20: aeecceeeaa\n",
      "str21: bbdaecaade\n",
      "str22: dacedaedab\n",
      "str23: aaeabbbbce\n",
      "str24: dedbcbcaab\n",
      "str25: dbdaaebbcb\n",
      "str26: debedbebac\n",
      "str27: ceebcdcbde\n",
      "str28: dbedaadaab\n",
      "str29: cccdcbebdc\n",
      "str30: aeeacdbcbd\n",
      "str31: dacbeacccd\n",
      "str32: ecebccdbdb\n",
      "str33: ddbbcedabb\n",
      "str34: aaeabaaeba\n",
      "str35: ecbbcaadcd\n",
      "str36: debccecdbc\n",
      "str37: daacbaeebc\n",
      "str38: adabeaacce\n",
      "str39: daecdbacaa\n",
      "str40: dacbbdcedc\n",
      "str41: dedbeebbde\n",
      "str42: cdadcdcdaa\n",
      "str43: ceedcbaeed\n",
      "str44: ceaecaaaca\n",
      "str45: dcccebbbad\n",
      "str46: baeeaebbde\n",
      "str47: dbdebaccdb\n",
      "str48: ebcbeedaea\n",
      "str49: aeeebbdbca\n",
      "str50: dbdabcecbb\n",
      "\n"
     ]
    },
    {
     "name": "stdout",
     "output_type": "stream",
     "text": [
      "--- Solution (of length 34) ---\n",
      "  Sol: daebcdabecdaebceadcbaedcbeabdceabd\n",
      "str01: d---c--b-c----c--d-b---c-----ce---\n",
      "str02: ---b-d----d--b-e-----e---e----e-bd\n",
      "str03: ----c-a--cd-e--e--c--e--be--------\n",
      "str04: -ae--d----d------d----d--e-bd----d\n",
      "str05: -a--c--be---e-c-a--b---c-e--------\n",
      "str06: ---b---b---a-b-e---b--dcb-a-------\n",
      "str07: ---b---b---ae---a----e--b-a-d--a--\n",
      "str08: --e-----e---e--e--cb--d-be----e---\n",
      "str09: ----c----cd-e--e-d--a-dc----d-----\n",
      "str10: ---b-dab--d--b-ea---a-d-----------\n",
      "str11: --e--d--e-da----a---ae----a----a--\n",
      "str12: -a----a-e--a----a--b-e---ea--c----\n",
      "str13: --e---a----a-bc-a-c----c----d---b-\n",
      "str14: ---b-d--e---e---ad---e----a-d-e---\n",
      "str15: ----c-a-e-da-----d---e---e----e--d\n",
      "str16: --ebc-a---d--b--a--b----be--------\n",
      "str17: d----d---c--e--ea--b--d--ea-------\n",
      "str18: da-bcd----d-e---a----e-c----------\n",
      "str19: -a----a---d---ce-----ed---a----ab-\n",
      "str20: -ae-----ec----ce-----e---ea----a--\n",
      "str21: ---b---b--dae-c-a---a-d--e--------\n",
      "str22: da--c---e-dae----d--a---b---------\n",
      "str23: -a----a-e--a-b-----b----b--b-ce---\n",
      "str24: d-e--d-b-c---bc-a---a---b---------\n",
      "str25: d--b-da----aeb-----b---cb---------\n",
      "str26: d-eb----e-d--b-e---ba--c----------\n",
      "str27: ----c---e---ebc--dcb--d--e--------\n",
      "str28: d--b----e-da----ad--a-----ab------\n",
      "str29: ----c----c----c--dcb-e--b---dc----\n",
      "str30: -ae-----e--a--c--d-b---cb---d-----\n",
      "str31: da--c--be--a--c---c----c----d-----\n",
      "str32: --e-c---e----bc---c---d-b---d---b-\n",
      "str33: d----d-b-----bce-d--a---b--b------\n",
      "str34: -a----a-e--a-b--a---ae--b-a-------\n",
      "str35: --e-c--b-----bc-a---a-dc----d-----\n",
      "str36: d-ebc----c--e-c--d-b---c----------\n",
      "str37: da----a--c---b--a----e---e-b-c----\n",
      "str38: -a---dabe--a----a-c----c-e--------\n",
      "str39: dae-cd-b---a--c-a---a-------------\n",
      "str40: da--c--b-----b---dc--edc----------\n",
      "str41: d-e--d-be---eb-----b--d--e--------\n",
      "str42: ----cda---d---c--dc---d---a----a--\n",
      "str43: ----c---e---e----dcbae---e--d-----\n",
      "str44: ----c---e--ae-c-a---a-----a--c-a--\n",
      "str45: d---c----c----ce---b----b--b---a-d\n",
      "str46: ---b--a-e---e---a----e--b--bd-e---\n",
      "str47: d--b-d--e----b--a-c----c----d---b-\n",
      "str48: --ebc--be---e----d--ae----a-------\n",
      "str49: -ae-----e---eb-----b--d-b----c-a--\n",
      "str50: d--b-dab-c--e-c----b----b---------\n",
      "\n",
      "solution is feasible: True\n"
     ]
    }
   ],
   "source": [
    "_instance = util.parse(\"uniform_q05n050k010-010.txt\")\n",
    "util.show(_instance)\n",
    "_solution = solve(_instance)\n",
    "util.show(_instance, _solution)\n",
    "print(f\"solution is feasible: {util.is_feasible(_instance, _solution)}\")"
   ]
  }
 ],
 "metadata": {},
 "nbformat": 4,
 "nbformat_minor": 5
}
