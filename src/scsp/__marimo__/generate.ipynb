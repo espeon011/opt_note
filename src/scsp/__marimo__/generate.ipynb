{
 "cells": [
  {
   "cell_type": "code",
   "execution_count": null,
   "id": "setup",
   "metadata": {
    "marimo": {
     "name": "setup"
    }
   },
   "outputs": [],
   "source": [
    "import random\n",
    "import string\n",
    "import util"
   ]
  },
  {
   "cell_type": "code",
   "execution_count": null,
   "id": "Hbol",
   "metadata": {},
   "outputs": [],
   "source": [
    "import marimo as mo\n",
    "import nbformat"
   ]
  },
  {
   "cell_type": "markdown",
   "id": "MJUe",
   "metadata": {
    "marimo": {
     "config": {
      "hide_code": true
     }
    }
   },
   "source": [
    "# データ生成用"
   ]
  },
  {
   "cell_type": "markdown",
   "id": "vblA",
   "metadata": {
    "marimo": {
     "config": {
      "hide_code": true
     }
    }
   },
   "source": [
    "## 一様ランダム文字列"
   ]
  },
  {
   "cell_type": "markdown",
   "id": "bkHC",
   "metadata": {
    "marimo": {
     "config": {
      "hide_code": true
     }
    }
   },
   "source": [
    "与えられた文字列集合の中から一様ランダムに文字を抽出して並べることで文字列を生成する.\n",
    "\n",
    "- $q$: 使用文字種類数.\n",
    "- $n$: 文字列数.\n",
    "- $k_{\\min}, k_{\\max}$: 文字列超上下限. 実際の文字列超はこの範囲から一様ランダムに決める."
   ]
  },
  {
   "cell_type": "code",
   "execution_count": null,
   "id": "lEQa",
   "metadata": {
    "marimo": {
     "name": "*gen_uniform_instance"
    }
   },
   "outputs": [],
   "source": [
    "def gen_uniform_instance(\n",
    "    q: int,\n",
    "    n: int,\n",
    "    k_min: int,\n",
    "    k_max: int,\n",
    "    seed: int = 0,\n",
    ") -> None:\n",
    "    assert q >= 1 and q <= 94\n",
    "    assert n >= 1\n",
    "    assert k_min >= 1 and k_max >=1\n",
    "    assert k_min <= k_max\n",
    "\n",
    "    characters = string.ascii_letters + string.digits + string.punctuation\n",
    "    random.seed(seed)\n",
    "\n",
    "    instance: list[str] = []\n",
    "    for i in range(n):\n",
    "        k = random.randint(k_min, k_max)\n",
    "        s = \"\".join(random.choices(characters[:q], k=k))\n",
    "        instance.append(s)\n",
    "\n",
    "    return instance"
   ]
  },
  {
   "cell_type": "code",
   "execution_count": null,
   "id": "PKri",
   "metadata": {
    "marimo": {
     "name": "*write_uniform_instance"
    }
   },
   "outputs": [],
   "source": [
    "def write_uniform_instance(\n",
    "    q: int,\n",
    "    n: int,\n",
    "    k_min: int,\n",
    "    k_max: int,\n",
    "    seed: int = 0,\n",
    ") -> None:\n",
    "    instance = gen_uniform_instance(q, n, k_min, k_max, seed)\n",
    "    filename = f\"uniform_q{q:0>2}n{n:0>3}k{k_min:0>3}-{k_max:0>3}.txt\"\n",
    "    util.save(instance, filename)"
   ]
  },
  {
   "cell_type": "code",
   "execution_count": null,
   "id": "Xref",
   "metadata": {},
   "outputs": [],
   "source": [
    "write_uniform_instance(q=26, n=2, k_min=15, k_max=25)\n",
    "write_uniform_instance(q=26, n=4, k_min=15, k_max=25)\n",
    "write_uniform_instance(q=26, n=8, k_min=15, k_max=25)\n",
    "write_uniform_instance(q=26, n=16, k_min=15, k_max=25)\n",
    "write_uniform_instance(q=26, n=32, k_min=15, k_max=25)\n",
    "write_uniform_instance(q=26, n=64, k_min=15, k_max=25)\n",
    "\n",
    "write_uniform_instance(q=5, n=10, k_min=10, k_max=10)\n",
    "write_uniform_instance(q=5, n=50, k_min=10, k_max=10)\n",
    "write_uniform_instance(q=5, n=100, k_min=10, k_max=10)\n",
    "write_uniform_instance(q=5, n=500, k_min=10, k_max=10)\n",
    "\n",
    "write_uniform_instance(q=5, n=10, k_min=20, k_max=20)\n",
    "write_uniform_instance(q=5, n=50, k_min=20, k_max=20)\n",
    "write_uniform_instance(q=5, n=100, k_min=20, k_max=20)\n",
    "write_uniform_instance(q=5, n=500, k_min=20, k_max=20)"
   ]
  }
 ],
 "metadata": {},
 "nbformat": 4,
 "nbformat_minor": 5
}
