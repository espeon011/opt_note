{
 "cells": [
  {
   "cell_type": "code",
   "execution_count": null,
   "id": "setup",
   "metadata": {
    "marimo": {
     "name": "setup"
    }
   },
   "outputs": [],
   "source": [
    "import random\n",
    "import string\n",
    "import pathlib\n",
    "import functools\n",
    "import util"
   ]
  },
  {
   "cell_type": "code",
   "execution_count": null,
   "id": "Hbol",
   "metadata": {},
   "outputs": [],
   "source": [
    "import marimo as mo\n",
    "import nbformat"
   ]
  },
  {
   "cell_type": "markdown",
   "id": "MJUe",
   "metadata": {
    "marimo": {
     "config": {
      "hide_code": true
     }
    }
   },
   "source": [
    "# データ生成用"
   ]
  },
  {
   "cell_type": "markdown",
   "id": "vblA",
   "metadata": {
    "marimo": {
     "config": {
      "hide_code": true
     }
    }
   },
   "source": [
    "## 一様ランダム文字列"
   ]
  },
  {
   "cell_type": "markdown",
   "id": "bkHC",
   "metadata": {
    "marimo": {
     "config": {
      "hide_code": true
     }
    }
   },
   "source": [
    "与えられた文字列集合の中から一様ランダムに文字を抽出して並べることで文字列を生成する.\n",
    "\n",
    "- $q$: 使用文字種類数.\n",
    "- $n$: 文字列数.\n",
    "- $k_{\\min}, k_{\\max}$: 文字列超上下限. 実際の文字列超はこの範囲から一様ランダムに決める.\n",
    "\n",
    "低確率で全く同じ文字列が生成される可能性があることに注意."
   ]
  },
  {
   "cell_type": "code",
   "execution_count": null,
   "id": "lEQa",
   "metadata": {
    "marimo": {
     "name": "*gen_uniform_instance"
    }
   },
   "outputs": [],
   "source": [
    "def gen_uniform_instance(\n",
    "    q: int,\n",
    "    n: int,\n",
    "    k_min: int,\n",
    "    k_max: int,\n",
    "    seed: int = 0,\n",
    ") -> None:\n",
    "    assert q >= 1 and q <= 94\n",
    "    assert n >= 1\n",
    "    assert k_min >= 1 and k_max >=1\n",
    "    assert k_min <= k_max\n",
    "\n",
    "    characters = string.ascii_letters + string.digits + string.punctuation\n",
    "    random.seed(seed)\n",
    "\n",
    "    instance: list[str] = []\n",
    "    for i in range(n):\n",
    "        k = random.randint(k_min, k_max)\n",
    "        s = \"\".join(random.choices(characters[:q], k=k))\n",
    "        instance.append(s)\n",
    "\n",
    "    return instance"
   ]
  },
  {
   "cell_type": "code",
   "execution_count": null,
   "id": "PKri",
   "metadata": {
    "marimo": {
     "name": "*write_uniform_instance"
    }
   },
   "outputs": [],
   "source": [
    "def write_uniform_instance(\n",
    "    q: int,\n",
    "    n: int,\n",
    "    k_min: int,\n",
    "    k_max: int,\n",
    "    seed: int = 0,\n",
    ") -> None:\n",
    "    instance = gen_uniform_instance(q, n, k_min, k_max, seed)\n",
    "    filename = f\"uniform_q{q:0>2}n{n:0>3}k{k_min:0>3}-{k_max:0>3}.txt\"\n",
    "    util.save(instance, filename)"
   ]
  },
  {
   "cell_type": "code",
   "execution_count": null,
   "id": "Xref",
   "metadata": {},
   "outputs": [],
   "source": [
    "write_uniform_instance(q=26, n=2, k_min=15, k_max=25)\n",
    "write_uniform_instance(q=26, n=4, k_min=15, k_max=25)\n",
    "write_uniform_instance(q=26, n=8, k_min=15, k_max=25)\n",
    "write_uniform_instance(q=26, n=16, k_min=15, k_max=25)\n",
    "write_uniform_instance(q=26, n=32, k_min=15, k_max=25)\n",
    "write_uniform_instance(q=26, n=64, k_min=15, k_max=25)\n",
    "\n",
    "write_uniform_instance(q=5, n=10, k_min=10, k_max=10)\n",
    "write_uniform_instance(q=5, n=50, k_min=10, k_max=10)\n",
    "write_uniform_instance(q=5, n=100, k_min=10, k_max=10)\n",
    "write_uniform_instance(q=5, n=500, k_min=10, k_max=10)\n",
    "\n",
    "write_uniform_instance(q=5, n=10, k_min=20, k_max=20)\n",
    "write_uniform_instance(q=5, n=50, k_min=20, k_max=20)\n",
    "write_uniform_instance(q=5, n=100, k_min=20, k_max=20)\n",
    "write_uniform_instance(q=5, n=500, k_min=20, k_max=20)"
   ]
  },
  {
   "cell_type": "markdown",
   "id": "SFPL",
   "metadata": {
    "marimo": {
     "config": {
      "hide_code": true
     }
    }
   },
   "source": [
    "## ヌクレオチド配列"
   ]
  },
  {
   "cell_type": "markdown",
   "id": "BYtC",
   "metadata": {
    "marimo": {
     "config": {
      "hide_code": true
     }
    }
   },
   "source": [
    "実際の DNA 配列のデータから適当に切り出して作成する.\n",
    "\n",
    "[NCBI Virus のページ](https://www.ncbi.nlm.nih.gov/labs/virus/vssi/#/virus)から Nucleotide を選択して Download All Results をクリックし,\n",
    "ランダムサンプル 1000 件をダウンロードしたデータセットに対して文字列長と文字列数を指定して配列の後ろをカットし,\n",
    "サンプル数を制限する.\n",
    "\n",
    "また, NCBI ではデータセットのフィルターで下記を指定した.\n",
    "\n",
    "- Sequence Length: Min 500\n",
    "- Nucleotide Completeness: complete\n",
    "- Ambiguous Characters: Max 0\n",
    "\n",
    "---\n",
    "上記検索条件を保存した URL: https://www.ncbi.nlm.nih.gov/labs/virus/vssi/#/virus?SeqType_s=Nucleotide&Completeness_s=complete&QualNum_i=0&SLen_i=500%20TO%203000000\n",
    "\n",
    "アクセス日付: 2025-08-25"
   ]
  },
  {
   "cell_type": "code",
   "execution_count": null,
   "id": "RGSE",
   "metadata": {
    "marimo": {
     "name": "*read_nucleotide_festa"
    }
   },
   "outputs": [],
   "source": [
    "@functools.cache\n",
    "def read_nucleotide_festa() -> list[str]:\n",
    "    data_dir = pathlib.Path(__file__).parent / \"file\" / \"ncbi\"\n",
    "    file_path = data_dir / \"nucleotide_sequences_20250824_7758219.fasta\"\n",
    "\n",
    "    instance = []\n",
    "    with open(file_path, mode=\"r\", encoding=\"UTF-8\") as file:\n",
    "        lines = file.readlines()\n",
    "\n",
    "    started = False\n",
    "    instance = []\n",
    "    seq = \"\"\n",
    "    for line in lines:\n",
    "        if line[0] == \"\\n\":\n",
    "            started = False\n",
    "            instance.append(seq)\n",
    "            seq = \"\"\n",
    "            continue\n",
    "        elif line[0] == \">\":\n",
    "            started = True\n",
    "            continue\n",
    "\n",
    "        if started:\n",
    "            seq += line.strip()\n",
    "\n",
    "    return instance"
   ]
  },
  {
   "cell_type": "code",
   "execution_count": null,
   "id": "Kclp",
   "metadata": {
    "marimo": {
     "name": "*gen_nucleotide_instance"
    }
   },
   "outputs": [],
   "source": [
    "def gen_nucleotide_instance(n: int, k: int) -> list[str]:\n",
    "    assert n >= 1 and n <= 1000\n",
    "    assert k >= 1\n",
    "\n",
    "    all_instance = list({s[:k] for s in read_nucleotide_festa()})\n",
    "    assert n <= len(all_instance)\n",
    "\n",
    "    instance = []\n",
    "    for seq in all_instance[:n]:\n",
    "        instance.append(seq.replace(\"N\", \"\")[:k])\n",
    "\n",
    "    return instance"
   ]
  },
  {
   "cell_type": "code",
   "execution_count": null,
   "id": "emfo",
   "metadata": {
    "marimo": {
     "name": "*write_nucleotide_instance"
    }
   },
   "outputs": [],
   "source": [
    "def write_nucleotide_instance(n: int, k: int) -> None:\n",
    "    instance = gen_nucleotide_instance(n, k)\n",
    "    filename = f\"nucleotide_n{n:0>3}k{k:0>3}.txt\"\n",
    "    util.save(instance, filename)"
   ]
  },
  {
   "cell_type": "markdown",
   "id": "Hstk",
   "metadata": {
    "marimo": {
     "config": {
      "hide_code": true
     }
    }
   },
   "source": [
    "### データの重複チェック"
   ]
  },
  {
   "cell_type": "code",
   "execution_count": null,
   "id": "nWHF",
   "metadata": {},
   "outputs": [
    {
     "name": "stdout",
     "output_type": "stream",
     "text": [
      "number of unique nucleotide instance: 995\n",
      "number of unique ncleotide instance (cut to length 10): 239\n",
      "number of unique ncleotide instance (cut to length 50): 278\n",
      "number of unique ncleotide instance (cut to length 100): 292\n",
      "number of unique ncleotide instance (cut to length 500): 401\n"
     ]
    }
   ],
   "source": [
    "_all_instance = list(set(read_nucleotide_festa()))\n",
    "\n",
    "print(f\"number of unique nucleotide instance: {len(_all_instance)}\")\n",
    "for _k in [10, 50, 100, 500]:\n",
    "    _instance = list(set([_s[:_k] for _s in _all_instance]))\n",
    "    print(f\"number of unique ncleotide instance (cut to length {_k}): {len(_instance)}\")"
   ]
  },
  {
   "cell_type": "markdown",
   "id": "iLit",
   "metadata": {
    "marimo": {
     "config": {
      "hide_code": true
     }
    }
   },
   "source": [
    "### 生成"
   ]
  },
  {
   "cell_type": "code",
   "execution_count": null,
   "id": "ZHCJ",
   "metadata": {},
   "outputs": [],
   "source": [
    "write_nucleotide_instance(n=5, k=10)\n",
    "write_nucleotide_instance(n=10, k=10)\n",
    "write_nucleotide_instance(n=50, k=10)\n",
    "write_nucleotide_instance(n=10, k=50)\n",
    "write_nucleotide_instance(n=50, k=50)\n",
    "write_nucleotide_instance(n=100, k=50)\n",
    "write_nucleotide_instance(n=50, k=100)\n",
    "write_nucleotide_instance(n=100, k=100)\n",
    "#write_nucleotide_instance(n=500, k=100)\n",
    "write_nucleotide_instance(n=100, k=500)\n",
    "#write_nucleotide_instance(n=500, k=500)"
   ]
  },
  {
   "cell_type": "markdown",
   "id": "ROlb",
   "metadata": {
    "marimo": {
     "config": {
      "hide_code": true
     }
    }
   },
   "source": [
    "## プロテイン配列"
   ]
  },
  {
   "cell_type": "markdown",
   "id": "qnkX",
   "metadata": {
    "marimo": {
     "config": {
      "hide_code": true
     }
    }
   },
   "source": [
    "実際のプロテイン配列からデータを適当に切り出して作成する.\n",
    "\n",
    "[NCBI Virus のページ](https://www.ncbi.nlm.nih.gov/labs/virus/vssi/#/virus)から Nucleotide を選択して Download All Results をクリックし,\n",
    "ランダムサンプル 1000 件をダウンロードしたデータセットに対して文字列長と文字列数を指定して配列の後ろをカットし,\n",
    "サンプル数を制限する.\n",
    "\n",
    "また, NCBI ではデータセットのフィルターで下記を指定した.\n",
    "\n",
    "- Sequence Length: Min 500\n",
    "- Nucleotide Completeness: complete\n",
    "- Ambiguous Characters: Max 0\n",
    "\n",
    "---\n",
    "\n",
    "上記検索条件を保存した URL: https://www.ncbi.nlm.nih.gov/labs/virus/vssi/#/virus?SeqType_s=Protein&SLen_i=500%20TO%203000000&Completeness_s=complete&QualNum_i=0\n",
    "\n",
    "アクセス日付: 2025-08-25"
   ]
  },
  {
   "cell_type": "code",
   "execution_count": null,
   "id": "TqIu",
   "metadata": {
    "marimo": {
     "name": "*read_protein_festa"
    }
   },
   "outputs": [],
   "source": [
    "@functools.cache\n",
    "def read_protein_festa() -> list[str]:\n",
    "    data_dir = pathlib.Path(__file__).parent / \"file\" / \"ncbi\"\n",
    "    file_path = data_dir / \"protein_sequences_20250824_5673972.fasta\"\n",
    "\n",
    "    instance = []\n",
    "    with open(file_path, mode=\"r\", encoding=\"UTF-8\") as file:\n",
    "        lines = file.readlines()\n",
    "\n",
    "    started = False\n",
    "    instance = []\n",
    "    seq = \"\"\n",
    "    for line in lines:\n",
    "        if line[0] == \"\\n\":\n",
    "            started = False\n",
    "            instance.append(seq)\n",
    "            seq = \"\"\n",
    "            continue\n",
    "        elif line[0] == \">\":\n",
    "            started = True\n",
    "            continue\n",
    "\n",
    "        if started:\n",
    "            seq += line.strip()\n",
    "\n",
    "    return instance"
   ]
  },
  {
   "cell_type": "code",
   "execution_count": null,
   "id": "Vxnm",
   "metadata": {
    "marimo": {
     "name": "*gen_protein_instance"
    }
   },
   "outputs": [],
   "source": [
    "def gen_protein_instance(n: int, k: int) -> list[str]:\n",
    "    assert n >= 1 and n <= 1000\n",
    "    assert k >= 1\n",
    "\n",
    "    all_instance = list({s[:k] for s in read_protein_festa()})\n",
    "    assert n <= len(all_instance)\n",
    "\n",
    "    instance = []\n",
    "    for seq in all_instance[:n]:\n",
    "        instance.append(seq.replace(\"X\", \"\")[:k])\n",
    "\n",
    "    return instance"
   ]
  },
  {
   "cell_type": "code",
   "execution_count": null,
   "id": "DnEU",
   "metadata": {
    "marimo": {
     "name": "*write_protein_instance"
    }
   },
   "outputs": [],
   "source": [
    "def write_protein_instance(n: int, k: int) -> None:\n",
    "    instance = gen_protein_instance(n, k)\n",
    "    filename = f\"protein_n{n:0>3}k{k:0>3}.txt\"\n",
    "    util.save(instance, filename)"
   ]
  },
  {
   "cell_type": "markdown",
   "id": "ulZA",
   "metadata": {
    "marimo": {
     "config": {
      "hide_code": true
     }
    }
   },
   "source": [
    "### データの重複チェック"
   ]
  },
  {
   "cell_type": "code",
   "execution_count": null,
   "id": "ecfG",
   "metadata": {},
   "outputs": [
    {
     "name": "stdout",
     "output_type": "stream",
     "text": [
      "number of unique protein instance: 701\n",
      "number of unique protein instance (cut to length 10): 140\n",
      "number of unique protein instance (cut to length 50): 167\n",
      "number of unique protein instance (cut to length 100): 198\n",
      "number of unique protein instance (cut to length 500): 327\n"
     ]
    }
   ],
   "source": [
    "_all_instance = list(set(read_protein_festa()))\n",
    "\n",
    "print(f\"number of unique protein instance: {len(_all_instance)}\")\n",
    "for k in [10, 50, 100, 500]:\n",
    "    _instance = list(set([s[:k] for s in _all_instance]))\n",
    "    print(f\"number of unique protein instance (cut to length {k}): {len(_instance)}\")"
   ]
  },
  {
   "cell_type": "markdown",
   "id": "Pvdt",
   "metadata": {
    "marimo": {
     "config": {
      "hide_code": true
     }
    }
   },
   "source": [
    "### 生成"
   ]
  },
  {
   "cell_type": "code",
   "execution_count": null,
   "id": "ZBYS",
   "metadata": {},
   "outputs": [],
   "source": [
    "write_protein_instance(n=5, k=10)\n",
    "write_protein_instance(n=10, k=10)\n",
    "write_protein_instance(n=50, k=10)\n",
    "write_protein_instance(n=10, k=50)\n",
    "write_protein_instance(n=50, k=50)\n",
    "write_protein_instance(n=100, k=50)\n",
    "write_protein_instance(n=50, k=100)\n",
    "write_protein_instance(n=100, k=100)\n",
    "#write_protein_instance(n=500, k=100)\n",
    "write_protein_instance(n=100, k=500)\n",
    "#write_protein_instance(n=500, k=500)"
   ]
  }
 ],
 "metadata": {},
 "nbformat": 4,
 "nbformat_minor": 5
}
