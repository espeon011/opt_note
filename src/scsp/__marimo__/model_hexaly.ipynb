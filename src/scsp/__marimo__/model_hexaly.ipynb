{
 "cells": [
  {
   "cell_type": "code",
   "execution_count": null,
   "id": "setup",
   "metadata": {
    "marimo": {
     "name": "setup"
    }
   },
   "outputs": [],
   "source": [
    "import hexaly.optimizer\n",
    "import util"
   ]
  },
  {
   "cell_type": "code",
   "execution_count": null,
   "id": "Hbol",
   "metadata": {},
   "outputs": [],
   "source": [
    "import marimo as mo\n",
    "import nbformat"
   ]
  },
  {
   "cell_type": "markdown",
   "id": "MJUe",
   "metadata": {
    "marimo": {
     "config": {
      "hide_code": true
     }
    }
   },
   "source": [
    "# Hexaly を使ったヒューリスティック"
   ]
  },
  {
   "cell_type": "markdown",
   "id": "vblA",
   "metadata": {
    "marimo": {
     "config": {
      "hide_code": true
     }
    }
   },
   "source": [
    "Hexaly の外部関数最適化機能を用いた定式化を紹介する.\n",
    "Weighted Majority Merge アルゴリズムにおいて次の文字を選択する基準は各文字列に対する残長の和であった.\n",
    "その残長の和の部分を Hexaly の決定変数で置き換える.\n",
    "\n",
    "**決定変数**\n",
    "\n",
    "- $w_{ij} \\in \\mathbb{N}$: 文字列 $s_i$ の $j$ 文字目の重み. $(i \\in \\{ 1, \\dots, n \\}, \\ j \\in \\{ 1, \\dots, |s_i| \\})$\n",
    "    - $w_i = \\{ w_{i,1} \\dots, w_{i,|s_i|} \\}$ とおく.\n",
    "\n",
    "\n",
    "**目的関数**\n",
    "\n",
    "下記のアルゴリズムに従って構築した共通超配列の長さを目的関数とする.\n",
    "\n",
    "- 解 $\\mathrm{sol}$ を空文字列で初期化する.\n",
    "- 各文字 $c$ に対して重み $\\sum_{i=1, \\ s_i[0] = c}^n w_{i,1}$ を計算し, 重みが最大である $c$ を求める.\n",
    "- $\\mathrm{sol}$ の後ろに $c$ を追加する.\n",
    "- 各文字列 $s_i \\ (i \\in \\{ 1, \\dots, n \\})$ に対し, 先頭の文字が $c$ である場合は\n",
    "    - $s_i$ の先頭の文字を削除する.\n",
    "    - $w_i$ の先頭の重みを削除し, インデックスを前に詰める.\n",
    "- $s_1, \\dots, s_n$ 全てが空文字列になれば終了. $\\mathrm{sol}$ が解."
   ]
  },
  {
   "cell_type": "code",
   "execution_count": null,
   "id": "bkHC",
   "metadata": {
    "marimo": {
     "name": "*Model"
    }
   },
   "outputs": [],
   "source": [
    "class Model:\n",
    "    def __init__(self, instance):\n",
    "        chars = sorted(list(set(\"\".join(instance))))\n",
    "\n",
    "        hxoptimizer = hexaly.optimizer.HexalyOptimizer()\n",
    "        hxmodel = hxoptimizer.model\n",
    "\n",
    "        priorities1d = [\n",
    "            hxmodel.int(1, len(chars)) for s in instance for _ in s\n",
    "        ]\n",
    "\n",
    "        func = hxmodel.create_int_external_function(self.objective)\n",
    "        func.external_context.lower_bound = 0\n",
    "        func.external_context.upper_bound = sum(len(s) for s in instance)\n",
    "\n",
    "        self.instance = instance\n",
    "        self.chars = chars\n",
    "        self.hxoptimizer = hxoptimizer\n",
    "        self.hxmodel = hxmodel\n",
    "        self.priorities1d = priorities1d\n",
    "\n",
    "        # これらが実行される時点で self.* が必要になるため初期化の最後に移動\n",
    "        hxmodel.minimize(func(*priorities1d))\n",
    "        hxmodel.close()\n",
    "\n",
    "    def solve(self, time_limit: int | None = 60, log: bool = False) -> \"Model\":\n",
    "        if time_limit is not None:\n",
    "            self.hxoptimizer.param.time_limit = time_limit\n",
    "        self.hxoptimizer.param.verbosity = 1 if log else 0\n",
    "        self.hxoptimizer.solve()\n",
    "        return self\n",
    "\n",
    "    def to_solution(self) -> str | None:\n",
    "        status = self.hxoptimizer.solution.status\n",
    "        if status not in {\n",
    "            hexaly.optimizer.HxSolutionStatus.OPTIMAL,\n",
    "            hexaly.optimizer.HxSolutionStatus.FEASIBLE,\n",
    "        }:\n",
    "            return None\n",
    "\n",
    "        priorities1d_value = [priority.value for priority in self.priorities1d]\n",
    "        priorities2d_value = self.priorities_1d_to_2d(priorities1d_value)\n",
    "        return self.make_csp(priorities2d_value)\n",
    "\n",
    "    def make_csp(self, priorities2d: list[list[int]]) -> str:\n",
    "        indices = [0] * len(self.instance)\n",
    "        solution = \"\"\n",
    "\n",
    "        # while not all(idx == len(s) for idx, s in zip(indices, self.instance)):\n",
    "        for _ in range(\n",
    "            len(self.instance) * max(len(s) for s in self.instance)\n",
    "        ):\n",
    "            if all(idx == len(s) for idx, s in zip(indices, self.instance)):\n",
    "                break\n",
    "\n",
    "            counts = [\n",
    "                sum(\n",
    "                    priorities2d[sidx][idx]\n",
    "                    for sidx, (idx, s) in enumerate(\n",
    "                        zip(indices, self.instance)\n",
    "                    )\n",
    "                    if idx < len(s) and s[idx] == c\n",
    "                )\n",
    "                for c in self.chars\n",
    "            ]\n",
    "            next_char = self.chars[counts.index(max(counts))]\n",
    "\n",
    "            solution += next_char\n",
    "            for sidx, s in enumerate(self.instance):\n",
    "                idx = indices[sidx]\n",
    "                if idx < len(s) and s[idx] == next_char:\n",
    "                    indices[sidx] += 1\n",
    "\n",
    "        return solution\n",
    "\n",
    "    def priorities_1d_to_2d(self, priorities1d: list[int]) -> list[list[int]]:\n",
    "        counter = 0\n",
    "        priorities2d = []\n",
    "        for s in self.instance:\n",
    "            priorities2d.append([])\n",
    "            for _ in s:\n",
    "                priorities2d[-1].append(priorities1d[counter])\n",
    "                counter += 1\n",
    "\n",
    "        return priorities2d\n",
    "\n",
    "    def objective(self, priorities1d: list[int]):\n",
    "        priorities2d = self.priorities_1d_to_2d(priorities1d)\n",
    "        solution = self.make_csp(priorities2d)\n",
    "        return len(solution)"
   ]
  },
  {
   "cell_type": "code",
   "execution_count": null,
   "id": "lEQa",
   "metadata": {
    "marimo": {
     "name": "*solve"
    }
   },
   "outputs": [],
   "source": [
    "def solve(\n",
    "    instance: list[str], time_limit: int | None = 60, log: bool = False\n",
    ") -> str | None:\n",
    "    return Model(instance).solve(time_limit, log).to_solution()"
   ]
  },
  {
   "cell_type": "code",
   "execution_count": null,
   "id": "PKri",
   "metadata": {},
   "outputs": [
    {
     "name": "stdout",
     "output_type": "stream",
     "text": [
      "\n",
      "Model:  expressions = 88, decisions = 84, constraints = 0, objectives = 1\n",
      "Param:  time limit = 60 sec, no iteration limit\n",
      "\n",
      "[objective direction ]:     minimize\n",
      "\n",
      "[  0 sec,       0 itr]:           74\n",
      "[ optimality gap     ]:      100.00%\n"
     ]
    },
    {
     "name": "stdout",
     "output_type": "stream",
     "text": [
      "[  1 sec,     142 itr]:           70\n"
     ]
    },
    {
     "name": "stdout",
     "output_type": "stream",
     "text": [
      "[  2 sec,     854 itr]:           64\n"
     ]
    },
    {
     "name": "stdout",
     "output_type": "stream",
     "text": [
      "[  3 sec,    1585 itr]:           63\n"
     ]
    },
    {
     "name": "stdout",
     "output_type": "stream",
     "text": [
      "[  4 sec,    2343 itr]:           62\n"
     ]
    },
    {
     "name": "stdout",
     "output_type": "stream",
     "text": [
      "[  5 sec,    3103 itr]:           62\n"
     ]
    },
    {
     "name": "stdout",
     "output_type": "stream",
     "text": [
      "[  6 sec,    3902 itr]:           62\n"
     ]
    },
    {
     "name": "stdout",
     "output_type": "stream",
     "text": [
      "[  7 sec,    4687 itr]:           62\n"
     ]
    },
    {
     "name": "stdout",
     "output_type": "stream",
     "text": [
      "[  8 sec,    5426 itr]:           62\n"
     ]
    },
    {
     "name": "stdout",
     "output_type": "stream",
     "text": [
      "[  9 sec,    6189 itr]:           62\n"
     ]
    },
    {
     "name": "stdout",
     "output_type": "stream",
     "text": [
      "[ 10 sec,    6920 itr]:           62\n",
      "[ optimality gap     ]:      100.00%\n"
     ]
    },
    {
     "name": "stdout",
     "output_type": "stream",
     "text": [
      "[ 11 sec,    7656 itr]:           62\n"
     ]
    },
    {
     "name": "stdout",
     "output_type": "stream",
     "text": [
      "[ 12 sec,    8413 itr]:           62\n"
     ]
    },
    {
     "name": "stdout",
     "output_type": "stream",
     "text": [
      "[ 13 sec,    9151 itr]:           62\n"
     ]
    },
    {
     "name": "stdout",
     "output_type": "stream",
     "text": [
      "[ 14 sec,    9910 itr]:           62\n"
     ]
    },
    {
     "name": "stdout",
     "output_type": "stream",
     "text": [
      "[ 15 sec,   10695 itr]:           62\n"
     ]
    },
    {
     "name": "stdout",
     "output_type": "stream",
     "text": [
      "[ 16 sec,   11482 itr]:           62\n"
     ]
    },
    {
     "name": "stdout",
     "output_type": "stream",
     "text": [
      "[ 17 sec,   12299 itr]:           62\n"
     ]
    },
    {
     "name": "stdout",
     "output_type": "stream",
     "text": [
      "[ 18 sec,   13024 itr]:           62\n"
     ]
    },
    {
     "name": "stdout",
     "output_type": "stream",
     "text": [
      "[ 19 sec,   13766 itr]:           62\n"
     ]
    },
    {
     "name": "stdout",
     "output_type": "stream",
     "text": [
      "[ 20 sec,   14546 itr]:           62\n",
      "[ optimality gap     ]:      100.00%\n"
     ]
    },
    {
     "name": "stdout",
     "output_type": "stream",
     "text": [
      "[ 21 sec,   15291 itr]:           62\n"
     ]
    },
    {
     "name": "stdout",
     "output_type": "stream",
     "text": [
      "[ 22 sec,   16037 itr]:           62\n"
     ]
    },
    {
     "name": "stdout",
     "output_type": "stream",
     "text": [
      "[ 23 sec,   16764 itr]:           62\n"
     ]
    },
    {
     "name": "stdout",
     "output_type": "stream",
     "text": [
      "[ 24 sec,   17531 itr]:           62\n"
     ]
    },
    {
     "name": "stdout",
     "output_type": "stream",
     "text": [
      "[ 25 sec,   18270 itr]:           62\n"
     ]
    },
    {
     "name": "stdout",
     "output_type": "stream",
     "text": [
      "[ 26 sec,   19033 itr]:           62\n"
     ]
    },
    {
     "name": "stdout",
     "output_type": "stream",
     "text": [
      "[ 27 sec,   19804 itr]:           62\n"
     ]
    },
    {
     "name": "stdout",
     "output_type": "stream",
     "text": [
      "[ 28 sec,   20552 itr]:           62\n"
     ]
    },
    {
     "name": "stdout",
     "output_type": "stream",
     "text": [
      "[ 29 sec,   21330 itr]:           62\n"
     ]
    },
    {
     "name": "stdout",
     "output_type": "stream",
     "text": [
      "[ 30 sec,   22084 itr]:           62\n",
      "[ optimality gap     ]:      100.00%\n"
     ]
    },
    {
     "name": "stdout",
     "output_type": "stream",
     "text": [
      "[ 31 sec,   22866 itr]:           62\n"
     ]
    },
    {
     "name": "stdout",
     "output_type": "stream",
     "text": [
      "[ 32 sec,   23614 itr]:           62\n"
     ]
    },
    {
     "name": "stdout",
     "output_type": "stream",
     "text": [
      "[ 33 sec,   24399 itr]:           62\n"
     ]
    },
    {
     "name": "stdout",
     "output_type": "stream",
     "text": [
      "[ 34 sec,   25158 itr]:           62\n"
     ]
    },
    {
     "name": "stdout",
     "output_type": "stream",
     "text": [
      "[ 35 sec,   25960 itr]:           62\n"
     ]
    },
    {
     "name": "stdout",
     "output_type": "stream",
     "text": [
      "[ 36 sec,   26771 itr]:           62\n"
     ]
    },
    {
     "name": "stdout",
     "output_type": "stream",
     "text": [
      "[ 37 sec,   27558 itr]:           62\n"
     ]
    },
    {
     "name": "stdout",
     "output_type": "stream",
     "text": [
      "[ 38 sec,   28295 itr]:           62\n"
     ]
    },
    {
     "name": "stdout",
     "output_type": "stream",
     "text": [
      "[ 39 sec,   29070 itr]:           62\n"
     ]
    },
    {
     "name": "stdout",
     "output_type": "stream",
     "text": [
      "[ 40 sec,   29811 itr]:           62\n",
      "[ optimality gap     ]:      100.00%\n"
     ]
    },
    {
     "name": "stdout",
     "output_type": "stream",
     "text": [
      "[ 41 sec,   30585 itr]:           62\n"
     ]
    },
    {
     "name": "stdout",
     "output_type": "stream",
     "text": [
      "[ 42 sec,   31369 itr]:           62\n"
     ]
    },
    {
     "name": "stdout",
     "output_type": "stream",
     "text": [
      "[ 43 sec,   32152 itr]:           62\n"
     ]
    },
    {
     "name": "stdout",
     "output_type": "stream",
     "text": [
      "[ 44 sec,   32914 itr]:           62\n"
     ]
    },
    {
     "name": "stdout",
     "output_type": "stream",
     "text": [
      "[ 45 sec,   33693 itr]:           62\n"
     ]
    },
    {
     "name": "stdout",
     "output_type": "stream",
     "text": [
      "[ 46 sec,   34473 itr]:           62\n"
     ]
    },
    {
     "name": "stdout",
     "output_type": "stream",
     "text": [
      "[ 47 sec,   35231 itr]:           62\n"
     ]
    },
    {
     "name": "stdout",
     "output_type": "stream",
     "text": [
      "[ 48 sec,   35972 itr]:           62\n"
     ]
    },
    {
     "name": "stdout",
     "output_type": "stream",
     "text": [
      "[ 49 sec,   36751 itr]:           62\n"
     ]
    },
    {
     "name": "stdout",
     "output_type": "stream",
     "text": [
      "[ 50 sec,   37495 itr]:           62\n",
      "[ optimality gap     ]:      100.00%\n"
     ]
    },
    {
     "name": "stdout",
     "output_type": "stream",
     "text": [
      "[ 51 sec,   38263 itr]:           62\n"
     ]
    },
    {
     "name": "stdout",
     "output_type": "stream",
     "text": [
      "[ 52 sec,   39083 itr]:           62\n"
     ]
    },
    {
     "name": "stdout",
     "output_type": "stream",
     "text": [
      "[ 53 sec,   39853 itr]:           62\n"
     ]
    },
    {
     "name": "stdout",
     "output_type": "stream",
     "text": [
      "[ 54 sec,   40628 itr]:           62\n"
     ]
    },
    {
     "name": "stdout",
     "output_type": "stream",
     "text": [
      "[ 55 sec,   41423 itr]:           62\n"
     ]
    },
    {
     "name": "stdout",
     "output_type": "stream",
     "text": [
      "[ 56 sec,   42220 itr]:           62\n"
     ]
    },
    {
     "name": "stdout",
     "output_type": "stream",
     "text": [
      "[ 57 sec,   42989 itr]:           62\n"
     ]
    },
    {
     "name": "stdout",
     "output_type": "stream",
     "text": [
      "[ 58 sec,   43758 itr]:           62\n"
     ]
    },
    {
     "name": "stdout",
     "output_type": "stream",
     "text": [
      "[ 59 sec,   44527 itr]:           62\n"
     ]
    },
    {
     "name": "stdout",
     "output_type": "stream",
     "text": [
      "[ 60 sec,   45293 itr]:           62\n",
      "[ optimality gap     ]:      100.00%\n",
      "[ 60 sec,   45293 itr]:           62\n",
      "[ optimality gap     ]:      100.00%\n",
      "\n",
      "45293 iterations performed in 60 seconds\n",
      "\n",
      "Feasible solution: \n",
      "  obj    =           62\n",
      "  gap    =      100.00%\n",
      "  bounds =            0\n"
     ]
    }
   ],
   "source": [
    "instance_01 = util.parse(\"uniform_q26n004k015-025.txt\")\n",
    "solution_01 = solve(instance_01, log=True)"
   ]
  },
  {
   "cell_type": "code",
   "execution_count": null,
   "id": "Xref",
   "metadata": {},
   "outputs": [
    {
     "name": "stdout",
     "output_type": "stream",
     "text": [
      "--- Condition (with 25 chars) ---\n",
      "str1: tkgnkuhmpxnhtqgxzvxis\n",
      "str2: iojiqfolnbxxcvsuqpvissbxf\n",
      "str3: ulcinycosovozpplp\n",
      "str4: igevazgbrddbcsvrvnngf\n",
      "\n",
      "--- Solution (of length 62) ---\n",
      " Sol: tkulcigneycojiqfsovoazpkuhmplxnhtqgbxzrddbxcvsxuqpvissbxrvnngf\n",
      "str1: tk----gn---------------kuhmp-xnhtqg-xz------v-x----is---------\n",
      "str2: -----i-----ojiqf-o----------l-n----bx-----xcvs-uqpvissbx-----f\n",
      "str3: --ulci-n-yco----sovo-zp----pl--------------------p------------\n",
      "str4: -----ig-e---------v-az------------gb--rddb-c-s----v-----rvnngf\n",
      "\n",
      "solution is feasible: True\n"
     ]
    }
   ],
   "source": [
    "_instance = instance_01\n",
    "_solution = solution_01\n",
    "\n",
    "util.show(_instance)\n",
    "if _solution is not None:\n",
    "    util.show(_instance, _solution)\n",
    "    print(f\"solution is feasible: {util.is_feasible(_instance, _solution)}\")\n",
    "else:\n",
    "    print(\"--- Solution not found ---\")"
   ]
  },
  {
   "cell_type": "code",
   "execution_count": null,
   "id": "SFPL",
   "metadata": {},
   "outputs": [
    {
     "name": "stdout",
     "output_type": "stream",
     "text": [
      "\n",
      "Model:  expressions = 179, decisions = 175, constraints = 0, objectives = 1\n",
      "Param:  time limit = 60 sec, no iteration limit\n",
      "\n",
      "[objective direction ]:     minimize\n",
      "\n",
      "[  0 sec,       0 itr]:          148\n",
      "[ optimality gap     ]:      100.00%\n"
     ]
    },
    {
     "name": "stdout",
     "output_type": "stream",
     "text": [
      "[  1 sec,      48 itr]:          133\n"
     ]
    },
    {
     "name": "stdout",
     "output_type": "stream",
     "text": [
      "[  2 sec,     302 itr]:          115\n"
     ]
    },
    {
     "name": "stdout",
     "output_type": "stream",
     "text": [
      "[  3 sec,     620 itr]:          113\n"
     ]
    },
    {
     "name": "stdout",
     "output_type": "stream",
     "text": [
      "[  4 sec,     924 itr]:          111\n"
     ]
    },
    {
     "name": "stdout",
     "output_type": "stream",
     "text": [
      "[  5 sec,    1217 itr]:          108\n"
     ]
    },
    {
     "name": "stdout",
     "output_type": "stream",
     "text": [
      "[  6 sec,    1529 itr]:          107\n"
     ]
    },
    {
     "name": "stdout",
     "output_type": "stream",
     "text": [
      "[  7 sec,    1862 itr]:          106\n"
     ]
    },
    {
     "name": "stdout",
     "output_type": "stream",
     "text": [
      "[  8 sec,    2185 itr]:          106\n"
     ]
    },
    {
     "name": "stdout",
     "output_type": "stream",
     "text": [
      "[  9 sec,    2486 itr]:          106\n"
     ]
    },
    {
     "name": "stdout",
     "output_type": "stream",
     "text": [
      "[ 10 sec,    2829 itr]:          105\n",
      "[ optimality gap     ]:      100.00%\n"
     ]
    },
    {
     "name": "stdout",
     "output_type": "stream",
     "text": [
      "[ 11 sec,    3161 itr]:          105\n"
     ]
    },
    {
     "name": "stdout",
     "output_type": "stream",
     "text": [
      "[ 12 sec,    3507 itr]:          104\n"
     ]
    },
    {
     "name": "stdout",
     "output_type": "stream",
     "text": [
      "[ 13 sec,    3855 itr]:          104\n"
     ]
    },
    {
     "name": "stdout",
     "output_type": "stream",
     "text": [
      "[ 14 sec,    4167 itr]:          103\n"
     ]
    },
    {
     "name": "stdout",
     "output_type": "stream",
     "text": [
      "[ 15 sec,    4498 itr]:          103\n"
     ]
    },
    {
     "name": "stdout",
     "output_type": "stream",
     "text": [
      "[ 16 sec,    4842 itr]:          103\n"
     ]
    },
    {
     "name": "stdout",
     "output_type": "stream",
     "text": [
      "[ 17 sec,    5156 itr]:          103\n"
     ]
    },
    {
     "name": "stdout",
     "output_type": "stream",
     "text": [
      "[ 18 sec,    5454 itr]:          102\n"
     ]
    },
    {
     "name": "stdout",
     "output_type": "stream",
     "text": [
      "[ 19 sec,    5797 itr]:          102\n"
     ]
    },
    {
     "name": "stdout",
     "output_type": "stream",
     "text": [
      "[ 20 sec,    6141 itr]:          102\n",
      "[ optimality gap     ]:      100.00%\n"
     ]
    },
    {
     "name": "stdout",
     "output_type": "stream",
     "text": [
      "[ 21 sec,    6466 itr]:          102\n"
     ]
    },
    {
     "name": "stdout",
     "output_type": "stream",
     "text": [
      "[ 22 sec,    6787 itr]:          102\n"
     ]
    },
    {
     "name": "stdout",
     "output_type": "stream",
     "text": [
      "[ 23 sec,    7131 itr]:          102\n"
     ]
    },
    {
     "name": "stdout",
     "output_type": "stream",
     "text": [
      "[ 24 sec,    7478 itr]:          102\n"
     ]
    },
    {
     "name": "stdout",
     "output_type": "stream",
     "text": [
      "[ 25 sec,    7796 itr]:          102\n"
     ]
    },
    {
     "name": "stdout",
     "output_type": "stream",
     "text": [
      "[ 26 sec,    8115 itr]:          102\n"
     ]
    },
    {
     "name": "stdout",
     "output_type": "stream",
     "text": [
      "[ 27 sec,    8413 itr]:          102\n"
     ]
    },
    {
     "name": "stdout",
     "output_type": "stream",
     "text": [
      "[ 28 sec,    8752 itr]:          102\n"
     ]
    },
    {
     "name": "stdout",
     "output_type": "stream",
     "text": [
      "[ 29 sec,    9098 itr]:          102\n"
     ]
    },
    {
     "name": "stdout",
     "output_type": "stream",
     "text": [
      "[ 30 sec,    9400 itr]:          102\n",
      "[ optimality gap     ]:      100.00%\n"
     ]
    },
    {
     "name": "stdout",
     "output_type": "stream",
     "text": [
      "[ 31 sec,    9737 itr]:          102\n"
     ]
    },
    {
     "name": "stdout",
     "output_type": "stream",
     "text": [
      "[ 32 sec,   10069 itr]:          102\n"
     ]
    },
    {
     "name": "stdout",
     "output_type": "stream",
     "text": [
      "[ 33 sec,   10422 itr]:          102\n"
     ]
    },
    {
     "name": "stdout",
     "output_type": "stream",
     "text": [
      "[ 34 sec,   10751 itr]:          102\n"
     ]
    },
    {
     "name": "stdout",
     "output_type": "stream",
     "text": [
      "[ 35 sec,   11095 itr]:          102\n"
     ]
    },
    {
     "name": "stdout",
     "output_type": "stream",
     "text": [
      "[ 36 sec,   11428 itr]:          102\n"
     ]
    },
    {
     "name": "stdout",
     "output_type": "stream",
     "text": [
      "[ 37 sec,   11759 itr]:          102\n"
     ]
    },
    {
     "name": "stdout",
     "output_type": "stream",
     "text": [
      "[ 38 sec,   12096 itr]:          102\n"
     ]
    },
    {
     "name": "stdout",
     "output_type": "stream",
     "text": [
      "[ 39 sec,   12411 itr]:          102\n"
     ]
    },
    {
     "name": "stdout",
     "output_type": "stream",
     "text": [
      "[ 40 sec,   12748 itr]:          102\n",
      "[ optimality gap     ]:      100.00%\n"
     ]
    },
    {
     "name": "stdout",
     "output_type": "stream",
     "text": [
      "[ 41 sec,   13072 itr]:          102\n"
     ]
    },
    {
     "name": "stdout",
     "output_type": "stream",
     "text": [
      "[ 42 sec,   13424 itr]:          102\n"
     ]
    },
    {
     "name": "stdout",
     "output_type": "stream",
     "text": [
      "[ 43 sec,   13777 itr]:          102\n"
     ]
    },
    {
     "name": "stdout",
     "output_type": "stream",
     "text": [
      "[ 44 sec,   14066 itr]:          102\n"
     ]
    },
    {
     "name": "stdout",
     "output_type": "stream",
     "text": [
      "[ 45 sec,   14368 itr]:          102\n"
     ]
    },
    {
     "name": "stdout",
     "output_type": "stream",
     "text": [
      "[ 46 sec,   14680 itr]:          102\n"
     ]
    },
    {
     "name": "stdout",
     "output_type": "stream",
     "text": [
      "[ 47 sec,   15035 itr]:          102\n"
     ]
    },
    {
     "name": "stdout",
     "output_type": "stream",
     "text": [
      "[ 48 sec,   15381 itr]:          102\n"
     ]
    },
    {
     "name": "stdout",
     "output_type": "stream",
     "text": [
      "[ 49 sec,   15710 itr]:          102\n"
     ]
    },
    {
     "name": "stdout",
     "output_type": "stream",
     "text": [
      "[ 50 sec,   16005 itr]:          102\n",
      "[ optimality gap     ]:      100.00%\n"
     ]
    },
    {
     "name": "stdout",
     "output_type": "stream",
     "text": [
      "[ 51 sec,   16351 itr]:          102\n"
     ]
    },
    {
     "name": "stdout",
     "output_type": "stream",
     "text": [
      "[ 52 sec,   16660 itr]:          102\n"
     ]
    },
    {
     "name": "stdout",
     "output_type": "stream",
     "text": [
      "[ 53 sec,   16988 itr]:          102\n"
     ]
    },
    {
     "name": "stdout",
     "output_type": "stream",
     "text": [
      "[ 54 sec,   17306 itr]:          102\n"
     ]
    },
    {
     "name": "stdout",
     "output_type": "stream",
     "text": [
      "[ 55 sec,   17652 itr]:          102\n"
     ]
    },
    {
     "name": "stdout",
     "output_type": "stream",
     "text": [
      "[ 56 sec,   17980 itr]:          102\n"
     ]
    },
    {
     "name": "stdout",
     "output_type": "stream",
     "text": [
      "[ 57 sec,   18309 itr]:          102\n"
     ]
    },
    {
     "name": "stdout",
     "output_type": "stream",
     "text": [
      "[ 58 sec,   18633 itr]:          102\n"
     ]
    },
    {
     "name": "stdout",
     "output_type": "stream",
     "text": [
      "[ 59 sec,   18965 itr]:          102\n"
     ]
    },
    {
     "name": "stdout",
     "output_type": "stream",
     "text": [
      "[ 60 sec,   19304 itr]:          102\n",
      "[ optimality gap     ]:      100.00%\n",
      "[ 60 sec,   19304 itr]:          102\n",
      "[ optimality gap     ]:      100.00%\n",
      "\n",
      "19304 iterations performed in 60 seconds\n",
      "\n",
      "Feasible solution: \n",
      "  obj    =          102\n",
      "  gap    =      100.00%\n",
      "  bounds =            0\n"
     ]
    }
   ],
   "source": [
    "instance_02 = util.parse(\"uniform_q26n008k015-025.txt\")\n",
    "solution_02 = solve(instance_02, log=True)"
   ]
  },
  {
   "cell_type": "code",
   "execution_count": null,
   "id": "BYtC",
   "metadata": {},
   "outputs": [
    {
     "name": "stdout",
     "output_type": "stream",
     "text": [
      "--- Condition (with 26 chars) ---\n",
      "str1: tkgnkuhmpxnhtqgxzvxis\n",
      "str2: iojiqfolnbxxcvsuqpvissbxf\n",
      "str3: ulcinycosovozpplp\n",
      "str4: igevazgbrddbcsvrvnngf\n",
      "str5: pyplrzxucpmqvgtdfuivcdsbo\n",
      "str6: pbdevdcvdpfzsmsbroqvbbh\n",
      "str7: enbczfjtvxerzbrvigple\n",
      "str8: rxwxqkrdrlctodtmprpxwd\n",
      "\n",
      "--- Solution (of length 102) ---\n",
      " Sol: ipuyplrogenbdcevadzfxwgbjtinyucvxerdpmqfozkrdbrlcsovgtondfkuibhtmpxrvnhntqgxzpcvxwdsubroqpvisslbxfbhep\n",
      "str1: -------------------------t----------------k---------g--n--ku--h-mpx--nh-tqgxz--vx----------is---------\n",
      "str2: i------o----------------j-i-----------qfo------l-------n-----b----x--------x--cv---su---qpviss-bxf----\n",
      "str3: --u--l-------c------------iny-c---------o--------sov--o---------------------zp-----------p----l------p\n",
      "str4: i-------ge-----va-z---gb----------rd--------db--cs-v---------------rvn-n--g----------------------f----\n",
      "str5: -p-yplr-----------z-x--------uc-----pmq------------vgt--df-ui-------v---------c---ds-b-o--------------\n",
      "str6: -p---------bd-ev-d------------cv---dp--f-z-------s--------------m------------------s-broq-v----b--bh--\n",
      "str7: ---------enb-c----zf----jt-----vxer------z---br----v--------i-------------g--p----------------l-----e-\n",
      "str8: ------r-------------xw----------x-----q---krd-rlc----to-d------tmp-r---------p--xwd-------------------\n",
      "\n",
      "solution is feasible: True\n"
     ]
    }
   ],
   "source": [
    "_instance = instance_02\n",
    "_solution = solution_02\n",
    "\n",
    "util.show(_instance)\n",
    "if _solution is not None:\n",
    "    util.show(_instance, _solution)\n",
    "    print(f\"solution is feasible: {util.is_feasible(_instance, _solution)}\")\n",
    "else:\n",
    "    print(\"--- Solution not found ---\")"
   ]
  },
  {
   "cell_type": "code",
   "execution_count": null,
   "id": "RGSE",
   "metadata": {},
   "outputs": [
    {
     "name": "stdout",
     "output_type": "stream",
     "text": [
      "\n",
      "Model:  expressions = 327, decisions = 323, constraints = 0, objectives = 1\n",
      "Param:  time limit = 60 sec, no iteration limit\n",
      "\n",
      "[objective direction ]:     minimize\n",
      "\n",
      "[  0 sec,       0 itr]:          198\n",
      "[ optimality gap     ]:      100.00%\n"
     ]
    },
    {
     "name": "stdout",
     "output_type": "stream",
     "text": [
      "[  1 sec,       7 itr]:          189\n"
     ]
    },
    {
     "name": "stdout",
     "output_type": "stream",
     "text": [
      "[  2 sec,     177 itr]:          172\n"
     ]
    },
    {
     "name": "stdout",
     "output_type": "stream",
     "text": [
      "[  3 sec,     325 itr]:          170\n"
     ]
    },
    {
     "name": "stdout",
     "output_type": "stream",
     "text": [
      "[  4 sec,     478 itr]:          169\n"
     ]
    },
    {
     "name": "stdout",
     "output_type": "stream",
     "text": [
      "[  5 sec,     648 itr]:          169\n"
     ]
    },
    {
     "name": "stdout",
     "output_type": "stream",
     "text": [
      "[  6 sec,     779 itr]:          168\n"
     ]
    },
    {
     "name": "stdout",
     "output_type": "stream",
     "text": [
      "[  7 sec,     933 itr]:          168\n"
     ]
    },
    {
     "name": "stdout",
     "output_type": "stream",
     "text": [
      "[  8 sec,    1078 itr]:          168\n"
     ]
    },
    {
     "name": "stdout",
     "output_type": "stream",
     "text": [
      "[  9 sec,    1229 itr]:          168\n"
     ]
    },
    {
     "name": "stdout",
     "output_type": "stream",
     "text": [
      "[ 10 sec,    1365 itr]:          165\n",
      "[ optimality gap     ]:      100.00%\n"
     ]
    },
    {
     "name": "stdout",
     "output_type": "stream",
     "text": [
      "[ 11 sec,    1524 itr]:          165\n"
     ]
    },
    {
     "name": "stdout",
     "output_type": "stream",
     "text": [
      "[ 12 sec,    1665 itr]:          165\n"
     ]
    },
    {
     "name": "stdout",
     "output_type": "stream",
     "text": [
      "[ 13 sec,    1829 itr]:          165\n"
     ]
    },
    {
     "name": "stdout",
     "output_type": "stream",
     "text": [
      "[ 14 sec,    1976 itr]:          164\n"
     ]
    },
    {
     "name": "stdout",
     "output_type": "stream",
     "text": [
      "[ 15 sec,    2127 itr]:          164\n"
     ]
    },
    {
     "name": "stdout",
     "output_type": "stream",
     "text": [
      "[ 16 sec,    2254 itr]:          163\n"
     ]
    },
    {
     "name": "stdout",
     "output_type": "stream",
     "text": [
      "[ 17 sec,    2403 itr]:          163\n"
     ]
    },
    {
     "name": "stdout",
     "output_type": "stream",
     "text": [
      "[ 18 sec,    2544 itr]:          163\n"
     ]
    },
    {
     "name": "stdout",
     "output_type": "stream",
     "text": [
      "[ 19 sec,    2681 itr]:          163\n"
     ]
    },
    {
     "name": "stdout",
     "output_type": "stream",
     "text": [
      "[ 20 sec,    2802 itr]:          163\n",
      "[ optimality gap     ]:      100.00%\n"
     ]
    },
    {
     "name": "stdout",
     "output_type": "stream",
     "text": [
      "[ 21 sec,    2951 itr]:          163\n"
     ]
    },
    {
     "name": "stdout",
     "output_type": "stream",
     "text": [
      "[ 22 sec,    3089 itr]:          163\n"
     ]
    },
    {
     "name": "stdout",
     "output_type": "stream",
     "text": [
      "[ 23 sec,    3218 itr]:          163\n"
     ]
    },
    {
     "name": "stdout",
     "output_type": "stream",
     "text": [
      "[ 24 sec,    3351 itr]:          163\n"
     ]
    },
    {
     "name": "stdout",
     "output_type": "stream",
     "text": [
      "[ 25 sec,    3495 itr]:          163\n"
     ]
    },
    {
     "name": "stdout",
     "output_type": "stream",
     "text": [
      "[ 26 sec,    3635 itr]:          163\n"
     ]
    },
    {
     "name": "stdout",
     "output_type": "stream",
     "text": [
      "[ 27 sec,    3784 itr]:          163\n"
     ]
    },
    {
     "name": "stdout",
     "output_type": "stream",
     "text": [
      "[ 28 sec,    3910 itr]:          162\n"
     ]
    },
    {
     "name": "stdout",
     "output_type": "stream",
     "text": [
      "[ 29 sec,    4034 itr]:          162\n"
     ]
    },
    {
     "name": "stdout",
     "output_type": "stream",
     "text": [
      "[ 30 sec,    4159 itr]:          162\n",
      "[ optimality gap     ]:      100.00%\n"
     ]
    },
    {
     "name": "stdout",
     "output_type": "stream",
     "text": [
      "[ 31 sec,    4292 itr]:          161\n"
     ]
    },
    {
     "name": "stdout",
     "output_type": "stream",
     "text": [
      "[ 32 sec,    4428 itr]:          161\n"
     ]
    },
    {
     "name": "stdout",
     "output_type": "stream",
     "text": [
      "[ 33 sec,    4564 itr]:          161\n"
     ]
    },
    {
     "name": "stdout",
     "output_type": "stream",
     "text": [
      "[ 34 sec,    4710 itr]:          161\n"
     ]
    },
    {
     "name": "stdout",
     "output_type": "stream",
     "text": [
      "[ 35 sec,    4838 itr]:          161\n"
     ]
    },
    {
     "name": "stdout",
     "output_type": "stream",
     "text": [
      "[ 36 sec,    4987 itr]:          161\n"
     ]
    },
    {
     "name": "stdout",
     "output_type": "stream",
     "text": [
      "[ 37 sec,    5119 itr]:          161\n"
     ]
    },
    {
     "name": "stdout",
     "output_type": "stream",
     "text": [
      "[ 38 sec,    5272 itr]:          161\n"
     ]
    },
    {
     "name": "stdout",
     "output_type": "stream",
     "text": [
      "[ 39 sec,    5418 itr]:          161\n"
     ]
    },
    {
     "name": "stdout",
     "output_type": "stream",
     "text": [
      "[ 40 sec,    5558 itr]:          161\n",
      "[ optimality gap     ]:      100.00%\n"
     ]
    },
    {
     "name": "stdout",
     "output_type": "stream",
     "text": [
      "[ 41 sec,    5689 itr]:          161\n"
     ]
    },
    {
     "name": "stdout",
     "output_type": "stream",
     "text": [
      "[ 42 sec,    5812 itr]:          161\n"
     ]
    },
    {
     "name": "stdout",
     "output_type": "stream",
     "text": [
      "[ 43 sec,    5938 itr]:          161\n"
     ]
    },
    {
     "name": "stdout",
     "output_type": "stream",
     "text": [
      "[ 44 sec,    6086 itr]:          161\n"
     ]
    },
    {
     "name": "stdout",
     "output_type": "stream",
     "text": [
      "[ 45 sec,    6241 itr]:          161\n"
     ]
    },
    {
     "name": "stdout",
     "output_type": "stream",
     "text": [
      "[ 46 sec,    6374 itr]:          160\n"
     ]
    },
    {
     "name": "stdout",
     "output_type": "stream",
     "text": [
      "[ 47 sec,    6528 itr]:          160\n"
     ]
    },
    {
     "name": "stdout",
     "output_type": "stream",
     "text": [
      "[ 48 sec,    6681 itr]:          160\n"
     ]
    },
    {
     "name": "stdout",
     "output_type": "stream",
     "text": [
      "[ 49 sec,    6814 itr]:          158\n"
     ]
    },
    {
     "name": "stdout",
     "output_type": "stream",
     "text": [
      "[ 50 sec,    6973 itr]:          158\n",
      "[ optimality gap     ]:      100.00%\n"
     ]
    },
    {
     "name": "stdout",
     "output_type": "stream",
     "text": [
      "[ 51 sec,    7128 itr]:          158\n"
     ]
    },
    {
     "name": "stdout",
     "output_type": "stream",
     "text": [
      "[ 52 sec,    7255 itr]:          158\n"
     ]
    },
    {
     "name": "stdout",
     "output_type": "stream",
     "text": [
      "[ 53 sec,    7398 itr]:          157\n"
     ]
    },
    {
     "name": "stdout",
     "output_type": "stream",
     "text": [
      "[ 54 sec,    7530 itr]:          157\n"
     ]
    },
    {
     "name": "stdout",
     "output_type": "stream",
     "text": [
      "[ 55 sec,    7672 itr]:          157\n"
     ]
    },
    {
     "name": "stdout",
     "output_type": "stream",
     "text": [
      "[ 56 sec,    7824 itr]:          157\n"
     ]
    },
    {
     "name": "stdout",
     "output_type": "stream",
     "text": [
      "[ 57 sec,    7971 itr]:          157\n"
     ]
    },
    {
     "name": "stdout",
     "output_type": "stream",
     "text": [
      "[ 58 sec,    8116 itr]:          156\n"
     ]
    },
    {
     "name": "stdout",
     "output_type": "stream",
     "text": [
      "[ 59 sec,    8247 itr]:          156\n"
     ]
    },
    {
     "name": "stdout",
     "output_type": "stream",
     "text": [
      "[ 60 sec,    8388 itr]:          156\n",
      "[ optimality gap     ]:      100.00%\n",
      "[ 60 sec,    8388 itr]:          156\n",
      "[ optimality gap     ]:      100.00%\n",
      "\n",
      "8388 iterations performed in 60 seconds\n",
      "\n",
      "Feasible solution: \n",
      "  obj    =          156\n",
      "  gap    =      100.00%\n",
      "  bounds =            0\n"
     ]
    }
   ],
   "source": [
    "instance_03 = util.parse(\"uniform_q26n016k015-025.txt\")\n",
    "solution_03 = solve(instance_03, log=True)"
   ]
  },
  {
   "cell_type": "code",
   "execution_count": null,
   "id": "Kclp",
   "metadata": {},
   "outputs": [
    {
     "name": "stdout",
     "output_type": "stream",
     "text": [
      "--- Condition (with 26 chars) ---\n",
      "str01: tkgnkuhmpxnhtqgxzvxis\n",
      "str02: iojiqfolnbxxcvsuqpvissbxf\n",
      "str03: ulcinycosovozpplp\n",
      "str04: igevazgbrddbcsvrvnngf\n",
      "str05: pyplrzxucpmqvgtdfuivcdsbo\n",
      "str06: pbdevdcvdpfzsmsbroqvbbh\n",
      "str07: enbczfjtvxerzbrvigple\n",
      "str08: rxwxqkrdrlctodtmprpxwd\n",
      "str09: kkqafigqjwokkskrblg\n",
      "str10: lxxpabivbvzkozzvd\n",
      "str11: krifsavncdqwhzc\n",
      "str12: qaxudgqvqcewbfgijowwy\n",
      "str13: rsxqjnfpadiusiqbezhkohmg\n",
      "str14: iwshvhcomiuvddm\n",
      "str15: htxxqjzqbctbakn\n",
      "str16: xusfcfzpeecvwantfmgqzu\n",
      "\n",
      "--- Solution (of length 156) ---\n",
      "  Sol: irkepxulcswxqkarifsnydhtxpabcuojivncdqgbevzfakolrzgnkbxqujtpvxerdzqcevdwhbcsvrvwantfigplmqvgctdijowfuqpvokiszpsbxnhamiuvdtqgcdbfxezhknsbkroqvbbhmprlpgxwdyis\n",
      "str01: -----------------------t---------------------k----gnk---u---------------h---------------m-------------p---------xnh------tqg----x-z---------v---------x---is\n",
      "str02: i-----------------------------oji----q-----f--ol---n-bx------x-----c-v-----s------------------------uqpv--is--sbx--------------f----------------------------\n",
      "str03: ------ulc-------i--ny-------c-o--------------------------------------------s---------------------o-----vo---zp-----------------------------------p-lp-------\n",
      "str04: i-------------------------------------g-ev--a----zg--b---------rd-----d--bcsvrv--n-------------------------------n---------g---f--------"
     ]
    },
    {
     "name": "stdout",
     "output_type": "stream",
     "text": [
      "--------------------\n",
      "str05: ----p---------------y----p---------------------lrz----x-u----------c------------------p-mqvg-td----fu-----i------------v----cd--------sb--o-----------------\n",
      "str06: ----p----------------------b--------d---ev----------------------d--c-vd---------------p------------f--------z-s-----m-----------------sb-roqvbbh------------\n",
      "str07: ---e---------------n-------bc-------------zf-------------jt-vxer-z-------b---rv-----igpl-----------------------------------------e--------------------------\n",
      "str08: -r---x----wxqk-r-----d--------------------------r--------------------------------------l----ct---o----------------------dt----------------------mpr-p-xwd---\n",
      "str09: --k----------k-----------------------q------a--------------------------------------fig---q------j-w-----ok--------------------------k-s-kr---b-----l-g------\n",
      "str10: -------l---x------------xpab----iv-----b-vz--ko--z---------------z---vd-------------------------------------------------------------------------------------\n",
      "str11: --k------------rifs-------a------vncdq---------------------------------wh-----------------------------------z---------------c-------------------------------\n",
      "str12: ------------q-a---------x----u------d-g----------------q----v-----qce--w-b---------f-g---------ijow----------------------------------------------------w-y--\n",
      "str13: -r-------s-xq------------------j--n--------f---------------p--------------------a-------------di----u------s---------i----q---b--ezhk-----o----hm----g------\n",
      "str14: i---------w-------s---h----------v--------------------------------------h-c----------------------o------------------miuvd----d------------------m-----------\n",
      "str15: ----------------------htx-----------------------------xq-j-------zq------bc-------t----------------------------b---a----------------kn----------------------\n",
      "str16: -----xu--s-------f----------c--------------f-----z---------p--e-----e-----c-v--wantf----m--g---------q------z---------u-------------------------------------\n",
      "\n",
      "solution is feasible: True\n"
     ]
    }
   ],
   "source": [
    "_instance = instance_03\n",
    "_solution = solution_03\n",
    "\n",
    "util.show(_instance)\n",
    "if _solution is not None:\n",
    "    util.show(_instance, _solution)\n",
    "    print(f\"solution is feasible: {util.is_feasible(_instance, _solution)}\")\n",
    "else:\n",
    "    print(\"--- Solution not found ---\")"
   ]
  },
  {
   "cell_type": "code",
   "execution_count": null,
   "id": "emfo",
   "metadata": {},
   "outputs": [
    {
     "name": "stdout",
     "output_type": "stream",
     "text": [
      "\n",
      "Model:  expressions = 104, decisions = 100, constraints = 0, objectives = 1\n",
      "Param:  time limit = 60 sec, no iteration limit\n",
      "\n",
      "[objective direction ]:     minimize\n",
      "\n",
      "[  0 sec,       0 itr]:           32\n",
      "[ optimality gap     ]:      100.00%\n"
     ]
    },
    {
     "name": "stdout",
     "output_type": "stream",
     "text": [
      "[  1 sec,    2983 itr]:           29\n"
     ]
    },
    {
     "name": "stdout",
     "output_type": "stream",
     "text": [
      "[  2 sec,    6106 itr]:           29\n"
     ]
    },
    {
     "name": "stdout",
     "output_type": "stream",
     "text": [
      "[  3 sec,    9115 itr]:           29\n"
     ]
    },
    {
     "name": "stdout",
     "output_type": "stream",
     "text": [
      "[  4 sec,   12134 itr]:           29\n"
     ]
    },
    {
     "name": "stdout",
     "output_type": "stream",
     "text": [
      "[  5 sec,   15199 itr]:           29\n"
     ]
    },
    {
     "name": "stdout",
     "output_type": "stream",
     "text": [
      "[  6 sec,   18239 itr]:           29\n"
     ]
    },
    {
     "name": "stdout",
     "output_type": "stream",
     "text": [
      "[  7 sec,   21298 itr]:           29\n"
     ]
    },
    {
     "name": "stdout",
     "output_type": "stream",
     "text": [
      "[  8 sec,   24370 itr]:           29\n"
     ]
    },
    {
     "name": "stdout",
     "output_type": "stream",
     "text": [
      "[  9 sec,   27382 itr]:           28\n"
     ]
    },
    {
     "name": "stdout",
     "output_type": "stream",
     "text": [
      "[ 10 sec,   30505 itr]:           28\n",
      "[ optimality gap     ]:      100.00%\n"
     ]
    },
    {
     "name": "stdout",
     "output_type": "stream",
     "text": [
      "[ 11 sec,   33566 itr]:           28\n"
     ]
    },
    {
     "name": "stdout",
     "output_type": "stream",
     "text": [
      "[ 12 sec,   36606 itr]:           28\n"
     ]
    },
    {
     "name": "stdout",
     "output_type": "stream",
     "text": [
      "[ 13 sec,   39611 itr]:           28\n"
     ]
    },
    {
     "name": "stdout",
     "output_type": "stream",
     "text": [
      "[ 14 sec,   42667 itr]:           28\n"
     ]
    },
    {
     "name": "stdout",
     "output_type": "stream",
     "text": [
      "[ 15 sec,   45773 itr]:           28\n"
     ]
    },
    {
     "name": "stdout",
     "output_type": "stream",
     "text": [
      "[ 16 sec,   48734 itr]:           28\n"
     ]
    },
    {
     "name": "stdout",
     "output_type": "stream",
     "text": [
      "[ 17 sec,   51830 itr]:           28\n"
     ]
    },
    {
     "name": "stdout",
     "output_type": "stream",
     "text": [
      "[ 18 sec,   54984 itr]:           28\n"
     ]
    },
    {
     "name": "stdout",
     "output_type": "stream",
     "text": [
      "[ 19 sec,   57971 itr]:           27\n"
     ]
    },
    {
     "name": "stdout",
     "output_type": "stream",
     "text": [
      "[ 20 sec,   61148 itr]:           27\n",
      "[ optimality gap     ]:      100.00%\n"
     ]
    },
    {
     "name": "stdout",
     "output_type": "stream",
     "text": [
      "[ 21 sec,   64139 itr]:           27\n"
     ]
    },
    {
     "name": "stdout",
     "output_type": "stream",
     "text": [
      "[ 22 sec,   67193 itr]:           27\n"
     ]
    },
    {
     "name": "stdout",
     "output_type": "stream",
     "text": [
      "[ 23 sec,   70216 itr]:           27\n"
     ]
    },
    {
     "name": "stdout",
     "output_type": "stream",
     "text": [
      "[ 24 sec,   73273 itr]:           27\n"
     ]
    },
    {
     "name": "stdout",
     "output_type": "stream",
     "text": [
      "[ 25 sec,   76382 itr]:           27\n"
     ]
    },
    {
     "name": "stdout",
     "output_type": "stream",
     "text": [
      "[ 26 sec,   79481 itr]:           27\n"
     ]
    },
    {
     "name": "stdout",
     "output_type": "stream",
     "text": [
      "[ 27 sec,   82652 itr]:           27\n"
     ]
    },
    {
     "name": "stdout",
     "output_type": "stream",
     "text": [
      "[ 28 sec,   85846 itr]:           27\n"
     ]
    },
    {
     "name": "stdout",
     "output_type": "stream",
     "text": [
      "[ 29 sec,   88952 itr]:           27\n"
     ]
    },
    {
     "name": "stdout",
     "output_type": "stream",
     "text": [
      "[ 30 sec,   91990 itr]:           27\n",
      "[ optimality gap     ]:      100.00%\n"
     ]
    },
    {
     "name": "stdout",
     "output_type": "stream",
     "text": [
      "[ 31 sec,   95090 itr]:           27\n"
     ]
    },
    {
     "name": "stdout",
     "output_type": "stream",
     "text": [
      "[ 32 sec,   98190 itr]:           27\n"
     ]
    },
    {
     "name": "stdout",
     "output_type": "stream",
     "text": [
      "[ 33 sec,  101352 itr]:           27\n"
     ]
    },
    {
     "name": "stdout",
     "output_type": "stream",
     "text": [
      "[ 34 sec,  104402 itr]:           27\n"
     ]
    },
    {
     "name": "stdout",
     "output_type": "stream",
     "text": [
      "[ 35 sec,  107460 itr]:           27\n"
     ]
    },
    {
     "name": "stdout",
     "output_type": "stream",
     "text": [
      "[ 36 sec,  110546 itr]:           27\n"
     ]
    },
    {
     "name": "stdout",
     "output_type": "stream",
     "text": [
      "[ 37 sec,  113555 itr]:           27\n"
     ]
    },
    {
     "name": "stdout",
     "output_type": "stream",
     "text": [
      "[ 38 sec,  116625 itr]:           27\n"
     ]
    },
    {
     "name": "stdout",
     "output_type": "stream",
     "text": [
      "[ 39 sec,  119708 itr]:           27\n"
     ]
    },
    {
     "name": "stdout",
     "output_type": "stream",
     "text": [
      "[ 40 sec,  122716 itr]:           27\n",
      "[ optimality gap     ]:      100.00%\n"
     ]
    },
    {
     "name": "stdout",
     "output_type": "stream",
     "text": [
      "[ 41 sec,  125798 itr]:           27\n"
     ]
    },
    {
     "name": "stdout",
     "output_type": "stream",
     "text": [
      "[ 42 sec,  128850 itr]:           27\n"
     ]
    },
    {
     "name": "stdout",
     "output_type": "stream",
     "text": [
      "[ 43 sec,  131770 itr]:           27\n"
     ]
    },
    {
     "name": "stdout",
     "output_type": "stream",
     "text": [
      "[ 44 sec,  134837 itr]:           27\n"
     ]
    },
    {
     "name": "stdout",
     "output_type": "stream",
     "text": [
      "[ 45 sec,  137911 itr]:           27\n"
     ]
    },
    {
     "name": "stdout",
     "output_type": "stream",
     "text": [
      "[ 46 sec,  140982 itr]:           27\n"
     ]
    },
    {
     "name": "stdout",
     "output_type": "stream",
     "text": [
      "[ 47 sec,  144117 itr]:           27\n"
     ]
    },
    {
     "name": "stdout",
     "output_type": "stream",
     "text": [
      "[ 48 sec,  147303 itr]:           27\n"
     ]
    },
    {
     "name": "stdout",
     "output_type": "stream",
     "text": [
      "[ 49 sec,  150430 itr]:           27\n"
     ]
    },
    {
     "name": "stdout",
     "output_type": "stream",
     "text": [
      "[ 50 sec,  153527 itr]:           27\n",
      "[ optimality gap     ]:      100.00%\n"
     ]
    },
    {
     "name": "stdout",
     "output_type": "stream",
     "text": [
      "[ 51 sec,  156580 itr]:           27\n"
     ]
    },
    {
     "name": "stdout",
     "output_type": "stream",
     "text": [
      "[ 52 sec,  159637 itr]:           27\n"
     ]
    },
    {
     "name": "stdout",
     "output_type": "stream",
     "text": [
      "[ 53 sec,  162690 itr]:           27\n"
     ]
    },
    {
     "name": "stdout",
     "output_type": "stream",
     "text": [
      "[ 54 sec,  165795 itr]:           27\n"
     ]
    },
    {
     "name": "stdout",
     "output_type": "stream",
     "text": [
      "[ 55 sec,  168919 itr]:           27\n"
     ]
    },
    {
     "name": "stdout",
     "output_type": "stream",
     "text": [
      "[ 56 sec,  171992 itr]:           27\n"
     ]
    },
    {
     "name": "stdout",
     "output_type": "stream",
     "text": [
      "[ 57 sec,  175118 itr]:           27\n"
     ]
    },
    {
     "name": "stdout",
     "output_type": "stream",
     "text": [
      "[ 58 sec,  178215 itr]:           27\n"
     ]
    },
    {
     "name": "stdout",
     "output_type": "stream",
     "text": [
      "[ 59 sec,  181341 itr]:           27\n"
     ]
    },
    {
     "name": "stdout",
     "output_type": "stream",
     "text": [
      "[ 60 sec,  184459 itr]:           27\n",
      "[ optimality gap     ]:      100.00%\n",
      "[ 60 sec,  184459 itr]:           27\n",
      "[ optimality gap     ]:      100.00%\n",
      "\n",
      "184459 iterations performed in 60 seconds\n",
      "\n",
      "Feasible solution: \n",
      "  obj    =           27\n",
      "  gap    =      100.00%\n",
      "  bounds =            0\n"
     ]
    }
   ],
   "source": [
    "instance_04 = util.parse(\"uniform_q05n010k010-010.txt\")\n",
    "solution_04 = solve(instance_04, log=True)"
   ]
  },
  {
   "cell_type": "code",
   "execution_count": null,
   "id": "Hstk",
   "metadata": {},
   "outputs": [
    {
     "name": "stdout",
     "output_type": "stream",
     "text": [
      "--- Condition (with 5 chars) ---\n",
      "str01: dcbccdbcce\n",
      "str02: bddbeeeebd\n",
      "str03: cacdeecebe\n",
      "str04: aeddddebdd\n",
      "str05: acbeecabce\n",
      "str06: bbabebdcba\n",
      "str07: bbaeaebada\n",
      "str08: eeeecbdbee\n",
      "str09: ccdeedadcd\n",
      "str10: bdabdbeaad\n",
      "\n",
      "--- Solution (of length 27) ---\n",
      "  Sol: bbaedcdbeacdeecbdbeacbdacde\n",
      "str01: ----dc-b--c---c-db--c---c-e\n",
      "str02: b---d-dbe---ee----e--bd----\n",
      "str03: -----c---acdeec---e--b----e\n",
      "str04: --aed-d----d----d-e--bd--d-\n",
      "str05: --a--c-be---e-c----a-b--c-e\n",
      "str06: bba----be------bd---cb-a---\n",
      "str07: bbae-----a--e--b---a--da---\n",
      "str08: ---e----e---eecbdbe-------e\n",
      "str09: -----c----cdee--d--a--d-cd-\n",
      "str10: b---d----a-----bdbea---a-d-\n",
      "\n",
      "solution is feasible: True\n"
     ]
    }
   ],
   "source": [
    "_instance = instance_04\n",
    "_solution = solution_04\n",
    "\n",
    "util.show(_instance)\n",
    "if _solution is not None:\n",
    "    util.show(_instance, _solution)\n",
    "    print(f\"solution is feasible: {util.is_feasible(_instance, _solution)}\")\n",
    "else:\n",
    "    print(\"--- Solution not found ---\")"
   ]
  },
  {
   "cell_type": "code",
   "execution_count": null,
   "id": "nWHF",
   "metadata": {},
   "outputs": [
    {
     "name": "stdout",
     "output_type": "stream",
     "text": [
      "\n",
      "Model:  expressions = 504, decisions = 500, constraints = 0, objectives = 1\n",
      "Param:  time limit = 60 sec, no iteration limit\n",
      "\n",
      "[objective direction ]:     minimize\n",
      "\n",
      "[  0 sec,       0 itr]:           36\n",
      "[ optimality gap     ]:      100.00%\n"
     ]
    },
    {
     "name": "stdout",
     "output_type": "stream",
     "text": [
      "[  1 sec,     761 itr]:           35\n"
     ]
    },
    {
     "name": "stdout",
     "output_type": "stream",
     "text": [
      "[  2 sec,    1584 itr]:           35\n"
     ]
    },
    {
     "name": "stdout",
     "output_type": "stream",
     "text": [
      "[  3 sec,    2364 itr]:           34\n"
     ]
    },
    {
     "name": "stdout",
     "output_type": "stream",
     "text": [
      "[  4 sec,    3165 itr]:           34\n"
     ]
    },
    {
     "name": "stdout",
     "output_type": "stream",
     "text": [
      "[  5 sec,    3962 itr]:           34\n"
     ]
    },
    {
     "name": "stdout",
     "output_type": "stream",
     "text": [
      "[  6 sec,    4751 itr]:           34\n"
     ]
    },
    {
     "name": "stdout",
     "output_type": "stream",
     "text": [
      "[  7 sec,    5532 itr]:           34\n"
     ]
    },
    {
     "name": "stdout",
     "output_type": "stream",
     "text": [
      "[  8 sec,    6331 itr]:           34\n"
     ]
    },
    {
     "name": "stdout",
     "output_type": "stream",
     "text": [
      "[  9 sec,    7135 itr]:           34\n"
     ]
    },
    {
     "name": "stdout",
     "output_type": "stream",
     "text": [
      "[ 10 sec,    7907 itr]:           34\n",
      "[ optimality gap     ]:      100.00%\n"
     ]
    },
    {
     "name": "stdout",
     "output_type": "stream",
     "text": [
      "[ 11 sec,    8695 itr]:           34\n"
     ]
    },
    {
     "name": "stdout",
     "output_type": "stream",
     "text": [
      "[ 12 sec,    9436 itr]:           34\n"
     ]
    },
    {
     "name": "stdout",
     "output_type": "stream",
     "text": [
      "[ 13 sec,   10215 itr]:           34\n"
     ]
    },
    {
     "name": "stdout",
     "output_type": "stream",
     "text": [
      "[ 14 sec,   10982 itr]:           34\n"
     ]
    },
    {
     "name": "stdout",
     "output_type": "stream",
     "text": [
      "[ 15 sec,   11724 itr]:           34\n"
     ]
    },
    {
     "name": "stdout",
     "output_type": "stream",
     "text": [
      "[ 16 sec,   12516 itr]:           34\n"
     ]
    },
    {
     "name": "stdout",
     "output_type": "stream",
     "text": [
      "[ 17 sec,   13283 itr]:           34\n"
     ]
    },
    {
     "name": "stdout",
     "output_type": "stream",
     "text": [
      "[ 18 sec,   14057 itr]:           34\n"
     ]
    },
    {
     "name": "stdout",
     "output_type": "stream",
     "text": [
      "[ 19 sec,   14817 itr]:           34\n"
     ]
    },
    {
     "name": "stdout",
     "output_type": "stream",
     "text": [
      "[ 20 sec,   15565 itr]:           34\n",
      "[ optimality gap     ]:      100.00%\n"
     ]
    },
    {
     "name": "stdout",
     "output_type": "stream",
     "text": [
      "[ 21 sec,   16350 itr]:           34\n"
     ]
    },
    {
     "name": "stdout",
     "output_type": "stream",
     "text": [
      "[ 22 sec,   17156 itr]:           34\n"
     ]
    },
    {
     "name": "stdout",
     "output_type": "stream",
     "text": [
      "[ 23 sec,   17967 itr]:           34\n"
     ]
    },
    {
     "name": "stdout",
     "output_type": "stream",
     "text": [
      "[ 24 sec,   18727 itr]:           34\n"
     ]
    },
    {
     "name": "stdout",
     "output_type": "stream",
     "text": [
      "[ 25 sec,   19473 itr]:           34\n"
     ]
    },
    {
     "name": "stdout",
     "output_type": "stream",
     "text": [
      "[ 26 sec,   20252 itr]:           34\n"
     ]
    },
    {
     "name": "stdout",
     "output_type": "stream",
     "text": [
      "[ 27 sec,   21029 itr]:           34\n"
     ]
    },
    {
     "name": "stdout",
     "output_type": "stream",
     "text": [
      "[ 28 sec,   21797 itr]:           34\n"
     ]
    },
    {
     "name": "stdout",
     "output_type": "stream",
     "text": [
      "[ 29 sec,   22531 itr]:           34\n"
     ]
    },
    {
     "name": "stdout",
     "output_type": "stream",
     "text": [
      "[ 30 sec,   23275 itr]:           34\n",
      "[ optimality gap     ]:      100.00%\n"
     ]
    },
    {
     "name": "stdout",
     "output_type": "stream",
     "text": [
      "[ 31 sec,   24021 itr]:           34\n"
     ]
    },
    {
     "name": "stdout",
     "output_type": "stream",
     "text": [
      "[ 32 sec,   24830 itr]:           34\n"
     ]
    },
    {
     "name": "stdout",
     "output_type": "stream",
     "text": [
      "[ 33 sec,   25565 itr]:           34\n"
     ]
    },
    {
     "name": "stdout",
     "output_type": "stream",
     "text": [
      "[ 34 sec,   26352 itr]:           34\n"
     ]
    },
    {
     "name": "stdout",
     "output_type": "stream",
     "text": [
      "[ 35 sec,   27143 itr]:           34\n"
     ]
    },
    {
     "name": "stdout",
     "output_type": "stream",
     "text": [
      "[ 36 sec,   27905 itr]:           34\n"
     ]
    },
    {
     "name": "stdout",
     "output_type": "stream",
     "text": [
      "[ 37 sec,   28647 itr]:           34\n"
     ]
    },
    {
     "name": "stdout",
     "output_type": "stream",
     "text": [
      "[ 38 sec,   29395 itr]:           34\n"
     ]
    },
    {
     "name": "stdout",
     "output_type": "stream",
     "text": [
      "[ 39 sec,   30117 itr]:           34\n"
     ]
    },
    {
     "name": "stdout",
     "output_type": "stream",
     "text": [
      "[ 40 sec,   30881 itr]:           34\n",
      "[ optimality gap     ]:      100.00%\n"
     ]
    },
    {
     "name": "stdout",
     "output_type": "stream",
     "text": [
      "[ 41 sec,   31654 itr]:           34\n"
     ]
    },
    {
     "name": "stdout",
     "output_type": "stream",
     "text": [
      "[ 42 sec,   32451 itr]:           34\n"
     ]
    },
    {
     "name": "stdout",
     "output_type": "stream",
     "text": [
      "[ 43 sec,   33225 itr]:           34\n"
     ]
    },
    {
     "name": "stdout",
     "output_type": "stream",
     "text": [
      "[ 44 sec,   34011 itr]:           34\n"
     ]
    },
    {
     "name": "stdout",
     "output_type": "stream",
     "text": [
      "[ 45 sec,   34761 itr]:           34\n"
     ]
    },
    {
     "name": "stdout",
     "output_type": "stream",
     "text": [
      "[ 46 sec,   35540 itr]:           34\n"
     ]
    },
    {
     "name": "stdout",
     "output_type": "stream",
     "text": [
      "[ 47 sec,   36257 itr]:           34\n"
     ]
    },
    {
     "name": "stdout",
     "output_type": "stream",
     "text": [
      "[ 48 sec,   37024 itr]:           34\n"
     ]
    },
    {
     "name": "stdout",
     "output_type": "stream",
     "text": [
      "[ 49 sec,   37793 itr]:           34\n"
     ]
    },
    {
     "name": "stdout",
     "output_type": "stream",
     "text": [
      "[ 50 sec,   38563 itr]:           34\n",
      "[ optimality gap     ]:      100.00%\n"
     ]
    },
    {
     "name": "stdout",
     "output_type": "stream",
     "text": [
      "[ 51 sec,   39348 itr]:           34\n"
     ]
    },
    {
     "name": "stdout",
     "output_type": "stream",
     "text": [
      "[ 52 sec,   40140 itr]:           34\n"
     ]
    },
    {
     "name": "stdout",
     "output_type": "stream",
     "text": [
      "[ 53 sec,   40937 itr]:           34\n"
     ]
    },
    {
     "name": "stdout",
     "output_type": "stream",
     "text": [
      "[ 54 sec,   41702 itr]:           34\n"
     ]
    },
    {
     "name": "stdout",
     "output_type": "stream",
     "text": [
      "[ 55 sec,   42506 itr]:           34\n"
     ]
    },
    {
     "name": "stdout",
     "output_type": "stream",
     "text": [
      "[ 56 sec,   43285 itr]:           34\n"
     ]
    },
    {
     "name": "stdout",
     "output_type": "stream",
     "text": [
      "[ 57 sec,   44050 itr]:           34\n"
     ]
    },
    {
     "name": "stdout",
     "output_type": "stream",
     "text": [
      "[ 58 sec,   44828 itr]:           34\n"
     ]
    },
    {
     "name": "stdout",
     "output_type": "stream",
     "text": [
      "[ 59 sec,   45628 itr]:           34\n"
     ]
    },
    {
     "name": "stdout",
     "output_type": "stream",
     "text": [
      "[ 60 sec,   46358 itr]:           34\n",
      "[ optimality gap     ]:      100.00%\n",
      "[ 60 sec,   46358 itr]:           34\n",
      "[ optimality gap     ]:      100.00%\n",
      "\n",
      "46358 iterations performed in 60 seconds\n",
      "\n",
      "Feasible solution: \n",
      "  obj    =           34\n",
      "  gap    =      100.00%\n",
      "  bounds =            0\n"
     ]
    }
   ],
   "source": [
    "instance_05 = util.parse(\"uniform_q05n050k010-010.txt\")\n",
    "solution_05 = solve(instance_05, log=True)"
   ]
  },
  {
   "cell_type": "code",
   "execution_count": null,
   "id": "iLit",
   "metadata": {},
   "outputs": [
    {
     "name": "stdout",
     "output_type": "stream",
     "text": [
      "--- Condition (with 5 chars) ---\n",
      "str01: dcbccdbcce\n",
      "str02: bddbeeeebd\n",
      "str03: cacdeecebe\n",
      "str04: aeddddebdd\n",
      "str05: acbeecabce\n",
      "str06: bbabebdcba\n",
      "str07: bbaeaebada\n",
      "str08: eeeecbdbee\n",
      "str09: ccdeedadcd\n",
      "str10: bdabdbeaad\n",
      "str11: ededaaaeaa\n",
      "str12: aaeaabeeac\n",
      "str13: eaabcaccdb\n",
      "str14: bdeeadeade\n",
      "str15: caedadeeed\n",
      "str16: ebcadbabbe\n",
      "str17: ddceeabdea\n",
      "str18: dabcddeaec\n",
      "str19: aadceedaab\n",
      "str20: aeecceeeaa\n",
      "str21: bbdaecaade\n",
      "str22: dacedaedab\n",
      "str23: aaeabbbbce\n",
      "str24: dedbcbcaab\n",
      "str25: dbdaaebbcb\n",
      "str26: debedbebac\n",
      "str27: ceebcdcbde\n",
      "str28: dbedaadaab\n",
      "str29: cccdcbebdc\n",
      "str30: aeeacdbcbd\n",
      "str31: dacbeacccd\n",
      "str32: ecebccdbdb\n",
      "str33: ddbbcedabb\n",
      "str34: aaeabaaeba\n",
      "str35: ecbbcaadcd\n",
      "str36: debccecdbc\n",
      "str37: daacbaeebc\n",
      "str38: adabeaacce\n",
      "str39: daecdbacaa\n",
      "str40: dacbbdcedc\n",
      "str41: dedbeebbde\n",
      "str42: cdadcdcdaa\n",
      "str43: ceedcbaeed\n",
      "str44: ceaecaaaca\n",
      "str45: dcccebbbad\n",
      "str46: baeeaebbde\n",
      "str47: dbdebaccdb\n",
      "str48: ebcbeedaea\n",
      "str49: aeeebbdbca\n",
      "str50: dbdabcecbb\n",
      "\n",
      "--- Solution (of length 34) ---\n",
      "  Sol: daecbdeabecdabcedaecbdaebcdeabacde\n",
      "str01: d--cb-----c---c-d---b----c-----c-e\n",
      "str02: ----bd-----d-b-e--e----e---e-b--d-\n",
      "str03: ---c---a--cd---e--ec---eb--e------\n",
      "str04: -ae--d-----d----d----d-eb-d-----d-\n",
      "str05: -a-cb-e--ec-abce------------------\n",
      "str06: ----b---b---ab-e----bd---c---ba---\n",
      "str07: ----b---b---a--e-ae-b-a---d-a-"
     ]
    },
    {
     "name": "stdout",
     "output_type": "stream",
     "text": [
      "----\n",
      "str08: --e---e--e-----e---cbd--b--e-----e\n",
      "str09: ---c------cd---e--e--da---d----cd-\n",
      "str10: ----bd-ab--d-b-e-a----a---d-------\n",
      "str11: --e--de----da----a----ae----a-a---\n",
      "str12: -a-----a-e--a----a--b--e---ea--c--\n",
      "str13: --e----a----abc--a-c-----cd--b----\n",
      "str14: ----bde--e--a---d-e---a---de------\n",
      "str15: ---c---a-e-da---d-e----e---e----d-\n",
      "str16: --e-b-----c-a---d---b-a-b----b---e\n",
      "str17: d----d----c----e--e---a-b-dea-----\n",
      "str18: da--b-----cd----d-e---ae-c--------\n",
      "str19: -a-----a---d--ce--e--da-----ab----\n",
      "str20: -ae---e---c---ce--e----e----a-a---\n",
      "str21: ----b---b--da--e---c--a-----a---de\n",
      "str22: da-c--e----da--eda--b-------------\n",
      "str23: -a-----a-e--ab------b---b----b-c-e\n",
      "str24: d-e--d--b-c--bc--a----a-b---------\n",
      "str25: d---bd-a----a--e----b---bc---b----\n",
      "str26: d-e-b-e----d-b-e----b-a--c--------\n",
      "str27: ---c--e--e---bc-d--cbd-e----------\n",
      "str28: d---b-e----da----a---da-----ab----\n",
      "str29: ---c------c---c-d--cb--eb-d----c--\n",
      "str30: -ae---ea--cd-bc-----bd------------\n",
      "str31: da-cb-ea--c---c----c-d------------\n",
      "str32: --ec--e-b-c---c-d---bd--b---------\n",
      "str33: d----d--b----bceda--b---b---------\n",
      "str34: -a-----a-e--ab---a----aeb---a-----\n",
      "str35: --ecb---b-c-a----a---d---cd-------\n",
      "str36: d-e-b-----c---ce---c-d--bc--------\n",
      "str37: da-----a--c--b---ae----ebc--------\n",
      "str38: -a---d-abe--a----a-c-----c-e------\n",
      "str39: daec-d--b---a-c--a----a-----------\n",
      "str40: da-cb---b--d--ced--c--------------\n",
      "str41: d-e--d--be-----e----b---b-de------\n",
      "str42: ---c-d-a---d--c-d--c-da-----a-----\n",
      "str43: ---c--e--e-d--c-----b-ae---e----d-\n",
      "str44: ---c--ea-ec-a----a----a--c--a-----\n",
      "str45: d--c------c---ce----b---b----ba-d-\n",
      "str46: ----b--a-e-----e-ae-b---b-de------\n",
      "str47: d---bde-b---a-c----c-d--b---------\n",
      "str48: --e-b-----c--b-e--e--dae----a-----\n",
      "str49: -ae---e--e---b------bd--bc--a-----\n",
      "str50: d---bd-ab-c----e---cb---b---------\n",
      "\n",
      "solution is feasible: True\n"
     ]
    }
   ],
   "source": [
    "_instance = instance_05\n",
    "_solution = solution_05\n",
    "\n",
    "util.show(_instance)\n",
    "if _solution is not None:\n",
    "    util.show(_instance, _solution)\n",
    "    print(f\"solution is feasible: {util.is_feasible(_instance, _solution)}\")\n",
    "else:\n",
    "    print(\"--- Solution not found ---\")"
   ]
  },
  {
   "cell_type": "code",
   "execution_count": null,
   "id": "ZHCJ",
   "metadata": {},
   "outputs": [
    {
     "name": "stdout",
     "output_type": "stream",
     "text": [
      "\n",
      "Model:  expressions = 104, decisions = 100, constraints = 0, objectives = 1\n",
      "Param:  time limit = 60 sec, no iteration limit\n",
      "\n",
      "[objective direction ]:     minimize\n",
      "\n",
      "[  0 sec,       0 itr]:           27\n",
      "[ optimality gap     ]:      100.00%\n"
     ]
    },
    {
     "name": "stdout",
     "output_type": "stream",
     "text": [
      "[  1 sec,    2500 itr]:           25\n"
     ]
    },
    {
     "name": "stdout",
     "output_type": "stream",
     "text": [
      "[  2 sec,    6467 itr]:           24\n"
     ]
    },
    {
     "name": "stdout",
     "output_type": "stream",
     "text": [
      "[  3 sec,   10238 itr]:           24\n"
     ]
    },
    {
     "name": "stdout",
     "output_type": "stream",
     "text": [
      "[  4 sec,   14008 itr]:           24\n"
     ]
    },
    {
     "name": "stdout",
     "output_type": "stream",
     "text": [
      "[  5 sec,   17702 itr]:           24\n"
     ]
    },
    {
     "name": "stdout",
     "output_type": "stream",
     "text": [
      "[  6 sec,   21278 itr]:           24\n"
     ]
    },
    {
     "name": "stdout",
     "output_type": "stream",
     "text": [
      "[  7 sec,   25080 itr]:           24\n"
     ]
    },
    {
     "name": "stdout",
     "output_type": "stream",
     "text": [
      "[  8 sec,   28831 itr]:           24\n"
     ]
    },
    {
     "name": "stdout",
     "output_type": "stream",
     "text": [
      "[  9 sec,   32404 itr]:           24\n"
     ]
    },
    {
     "name": "stdout",
     "output_type": "stream",
     "text": [
      "[ 10 sec,   36019 itr]:           24\n",
      "[ optimality gap     ]:      100.00%\n"
     ]
    },
    {
     "name": "stdout",
     "output_type": "stream",
     "text": [
      "[ 11 sec,   39722 itr]:           24\n"
     ]
    },
    {
     "name": "stdout",
     "output_type": "stream",
     "text": [
      "[ 12 sec,   43377 itr]:           24\n"
     ]
    },
    {
     "name": "stdout",
     "output_type": "stream",
     "text": [
      "[ 13 sec,   47018 itr]:           24\n"
     ]
    },
    {
     "name": "stdout",
     "output_type": "stream",
     "text": [
      "[ 14 sec,   50781 itr]:           24\n"
     ]
    },
    {
     "name": "stdout",
     "output_type": "stream",
     "text": [
      "[ 15 sec,   54439 itr]:           24\n"
     ]
    },
    {
     "name": "stdout",
     "output_type": "stream",
     "text": [
      "[ 16 sec,   57984 itr]:           24\n"
     ]
    },
    {
     "name": "stdout",
     "output_type": "stream",
     "text": [
      "[ 17 sec,   61647 itr]:           24\n"
     ]
    },
    {
     "name": "stdout",
     "output_type": "stream",
     "text": [
      "[ 18 sec,   65414 itr]:           24\n"
     ]
    },
    {
     "name": "stdout",
     "output_type": "stream",
     "text": [
      "[ 19 sec,   69131 itr]:           24\n"
     ]
    },
    {
     "name": "stdout",
     "output_type": "stream",
     "text": [
      "[ 20 sec,   72720 itr]:           24\n",
      "[ optimality gap     ]:      100.00%\n"
     ]
    },
    {
     "name": "stdout",
     "output_type": "stream",
     "text": [
      "[ 21 sec,   76450 itr]:           24\n"
     ]
    },
    {
     "name": "stdout",
     "output_type": "stream",
     "text": [
      "[ 22 sec,   80089 itr]:           24\n"
     ]
    },
    {
     "name": "stdout",
     "output_type": "stream",
     "text": [
      "[ 23 sec,   83789 itr]:           24\n"
     ]
    },
    {
     "name": "stdout",
     "output_type": "stream",
     "text": [
      "[ 24 sec,   87493 itr]:           24\n"
     ]
    },
    {
     "name": "stdout",
     "output_type": "stream",
     "text": [
      "[ 25 sec,   91304 itr]:           24\n"
     ]
    },
    {
     "name": "stdout",
     "output_type": "stream",
     "text": [
      "[ 26 sec,   95073 itr]:           24\n"
     ]
    },
    {
     "name": "stdout",
     "output_type": "stream",
     "text": [
      "[ 27 sec,   98653 itr]:           24\n"
     ]
    },
    {
     "name": "stdout",
     "output_type": "stream",
     "text": [
      "[ 28 sec,  102452 itr]:           24\n"
     ]
    },
    {
     "name": "stdout",
     "output_type": "stream",
     "text": [
      "[ 29 sec,  106020 itr]:           24\n"
     ]
    },
    {
     "name": "stdout",
     "output_type": "stream",
     "text": [
      "[ 30 sec,  109758 itr]:           24\n",
      "[ optimality gap     ]:      100.00%\n"
     ]
    },
    {
     "name": "stdout",
     "output_type": "stream",
     "text": [
      "[ 31 sec,  113431 itr]:           24\n"
     ]
    },
    {
     "name": "stdout",
     "output_type": "stream",
     "text": [
      "[ 32 sec,  117244 itr]:           24\n"
     ]
    },
    {
     "name": "stdout",
     "output_type": "stream",
     "text": [
      "[ 33 sec,  121027 itr]:           24\n"
     ]
    },
    {
     "name": "stdout",
     "output_type": "stream",
     "text": [
      "[ 34 sec,  124728 itr]:           24\n"
     ]
    },
    {
     "name": "stdout",
     "output_type": "stream",
     "text": [
      "[ 35 sec,  128434 itr]:           24\n"
     ]
    },
    {
     "name": "stdout",
     "output_type": "stream",
     "text": [
      "[ 36 sec,  132235 itr]:           24\n"
     ]
    },
    {
     "name": "stdout",
     "output_type": "stream",
     "text": [
      "[ 37 sec,  136050 itr]:           24\n"
     ]
    },
    {
     "name": "stdout",
     "output_type": "stream",
     "text": [
      "[ 38 sec,  139781 itr]:           24\n"
     ]
    },
    {
     "name": "stdout",
     "output_type": "stream",
     "text": [
      "[ 39 sec,  143374 itr]:           24\n"
     ]
    },
    {
     "name": "stdout",
     "output_type": "stream",
     "text": [
      "[ 40 sec,  147107 itr]:           24\n",
      "[ optimality gap     ]:      100.00%\n"
     ]
    },
    {
     "name": "stdout",
     "output_type": "stream",
     "text": [
      "[ 41 sec,  150787 itr]:           24\n"
     ]
    },
    {
     "name": "stdout",
     "output_type": "stream",
     "text": [
      "[ 42 sec,  154624 itr]:           24\n"
     ]
    },
    {
     "name": "stdout",
     "output_type": "stream",
     "text": [
      "[ 43 sec,  158327 itr]:           24\n"
     ]
    },
    {
     "name": "stdout",
     "output_type": "stream",
     "text": [
      "[ 44 sec,  162059 itr]:           24\n"
     ]
    },
    {
     "name": "stdout",
     "output_type": "stream",
     "text": [
      "[ 45 sec,  165902 itr]:           24\n"
     ]
    },
    {
     "name": "stdout",
     "output_type": "stream",
     "text": [
      "[ 46 sec,  169695 itr]:           24\n"
     ]
    },
    {
     "name": "stdout",
     "output_type": "stream",
     "text": [
      "[ 47 sec,  173485 itr]:           24\n"
     ]
    },
    {
     "name": "stdout",
     "output_type": "stream",
     "text": [
      "[ 48 sec,  177196 itr]:           24\n"
     ]
    },
    {
     "name": "stdout",
     "output_type": "stream",
     "text": [
      "[ 49 sec,  180860 itr]:           24\n"
     ]
    },
    {
     "name": "stdout",
     "output_type": "stream",
     "text": [
      "[ 50 sec,  184229 itr]:           24\n",
      "[ optimality gap     ]:      100.00%\n"
     ]
    },
    {
     "name": "stdout",
     "output_type": "stream",
     "text": [
      "[ 51 sec,  187605 itr]:           24\n"
     ]
    },
    {
     "name": "stdout",
     "output_type": "stream",
     "text": [
      "[ 52 sec,  191181 itr]:           24\n"
     ]
    },
    {
     "name": "stdout",
     "output_type": "stream",
     "text": [
      "[ 53 sec,  194792 itr]:           24\n"
     ]
    },
    {
     "name": "stdout",
     "output_type": "stream",
     "text": [
      "[ 54 sec,  198511 itr]:           24\n"
     ]
    },
    {
     "name": "stdout",
     "output_type": "stream",
     "text": [
      "[ 55 sec,  202294 itr]:           24\n"
     ]
    },
    {
     "name": "stdout",
     "output_type": "stream",
     "text": [
      "[ 56 sec,  206042 itr]:           24\n"
     ]
    },
    {
     "name": "stdout",
     "output_type": "stream",
     "text": [
      "[ 57 sec,  209829 itr]:           24\n"
     ]
    },
    {
     "name": "stdout",
     "output_type": "stream",
     "text": [
      "[ 58 sec,  213505 itr]:           24\n"
     ]
    },
    {
     "name": "stdout",
     "output_type": "stream",
     "text": [
      "[ 59 sec,  217262 itr]:           24\n"
     ]
    },
    {
     "name": "stdout",
     "output_type": "stream",
     "text": [
      "[ 60 sec,  221060 itr]:           24\n",
      "[ optimality gap     ]:      100.00%\n",
      "[ 60 sec,  221060 itr]:           24\n",
      "[ optimality gap     ]:      100.00%\n",
      "\n",
      "221060 iterations performed in 60 seconds\n",
      "\n",
      "Feasible solution: \n",
      "  obj    =           24\n",
      "  gap    =      100.00%\n",
      "  bounds =            0\n"
     ]
    }
   ],
   "source": [
    "instance_06 = util.parse(\"nucleotide_n010k010.txt\")\n",
    "solution_06 = solve(instance_06, log=True)"
   ]
  },
  {
   "cell_type": "code",
   "execution_count": null,
   "id": "ROlb",
   "metadata": {},
   "outputs": [
    {
     "name": "stdout",
     "output_type": "stream",
     "text": [
      "--- Condition (with 4 chars) ---\n",
      "str01: ATGGGATACG\n",
      "str02: ATACCTTCCC\n",
      "str03: CACGAATTGA\n",
      "str04: TAAAATCTGT\n",
      "str05: AGGTAACAAA\n",
      "str06: TTCCTAGGTA\n",
      "str07: TTGTAGATCT\n",
      "str08: TGGGAAGTTC\n",
      "str09: TTCCACAACT\n",
      "str10: TCTAAACGAA\n",
      "\n",
      "--- Solution (of length 24) ---\n",
      "  Sol: TCATGACCGTAGATCAGTACGATC\n",
      "str01: --ATG---G--GAT-A---CG---\n",
      "str02: --AT-ACC-T---TC----C---C\n",
      "str03: -CA---C-G-A-AT---T--GA--\n",
      "str04: T-A--A----A-ATC--T--G-T-\n",
      "str05: --A-G---GTA-A-CA--A--A--\n",
      "str06: T--T--CC-TAG----GTA-----\n",
      "str07: T--TG----TAGATC--T------\n",
      "str08: T---G---G--GA--AGT----TC\n",
      "str09: T--T--CC--A---CA--AC--T-\n",
      "str10: TC-T-A----A-A-C-G-A--A--\n",
      "\n",
      "solution is feasible: True\n"
     ]
    }
   ],
   "source": [
    "_instance = instance_06\n",
    "_solution = solution_06\n",
    "\n",
    "util.show(_instance)\n",
    "if _solution is not None:\n",
    "    util.show(_instance, _solution)\n",
    "    print(f\"solution is feasible: {util.is_feasible(_instance, _solution)}\")\n",
    "else:\n",
    "    print(\"--- Solution not found ---\")"
   ]
  },
  {
   "cell_type": "code",
   "execution_count": null,
   "id": "qnkX",
   "metadata": {},
   "outputs": [
    {
     "name": "stdout",
     "output_type": "stream",
     "text": [
      "\n",
      "Model:  expressions = 2504, decisions = 2500, constraints = 0, objectives = 1\n",
      "Param:  time limit = 60 sec, no iteration limit\n",
      "\n",
      "[objective direction ]:     minimize\n",
      "\n",
      "[  0 sec,       0 itr]:          150\n",
      "[ optimality gap     ]:      100.00%\n"
     ]
    },
    {
     "name": "stdout",
     "output_type": "stream",
     "text": [
      "[  1 sec,      99 itr]:          143\n"
     ]
    },
    {
     "name": "stdout",
     "output_type": "stream",
     "text": [
      "[  2 sec,     338 itr]:          141\n"
     ]
    },
    {
     "name": "stdout",
     "output_type": "stream",
     "text": [
      "[  3 sec,     579 itr]:          141\n"
     ]
    },
    {
     "name": "stdout",
     "output_type": "stream",
     "text": [
      "[  4 sec,     771 itr]:          138\n"
     ]
    },
    {
     "name": "stdout",
     "output_type": "stream",
     "text": [
      "[  5 sec,     999 itr]:          138\n"
     ]
    },
    {
     "name": "stdout",
     "output_type": "stream",
     "text": [
      "[  6 sec,    1227 itr]:          138\n"
     ]
    },
    {
     "name": "stdout",
     "output_type": "stream",
     "text": [
      "[  7 sec,    1424 itr]:          138\n"
     ]
    },
    {
     "name": "stdout",
     "output_type": "stream",
     "text": [
      "[  8 sec,    1622 itr]:          138\n"
     ]
    },
    {
     "name": "stdout",
     "output_type": "stream",
     "text": [
      "[  9 sec,    1825 itr]:          138\n"
     ]
    },
    {
     "name": "stdout",
     "output_type": "stream",
     "text": [
      "[ 10 sec,    2026 itr]:          138\n",
      "[ optimality gap     ]:      100.00%\n"
     ]
    },
    {
     "name": "stdout",
     "output_type": "stream",
     "text": [
      "[ 11 sec,    2194 itr]:          138\n"
     ]
    },
    {
     "name": "stdout",
     "output_type": "stream",
     "text": [
      "[ 12 sec,    2357 itr]:          138\n"
     ]
    },
    {
     "name": "stdout",
     "output_type": "stream",
     "text": [
      "[ 13 sec,    2514 itr]:          138\n"
     ]
    },
    {
     "name": "stdout",
     "output_type": "stream",
     "text": [
      "[ 14 sec,    2658 itr]:          138\n"
     ]
    },
    {
     "name": "stdout",
     "output_type": "stream",
     "text": [
      "[ 15 sec,    2801 itr]:          138\n"
     ]
    },
    {
     "name": "stdout",
     "output_type": "stream",
     "text": [
      "[ 16 sec,    2969 itr]:          138\n"
     ]
    },
    {
     "name": "stdout",
     "output_type": "stream",
     "text": [
      "[ 17 sec,    3108 itr]:          138\n"
     ]
    },
    {
     "name": "stdout",
     "output_type": "stream",
     "text": [
      "[ 18 sec,    3283 itr]:          138\n"
     ]
    },
    {
     "name": "stdout",
     "output_type": "stream",
     "text": [
      "[ 19 sec,    3432 itr]:          138\n"
     ]
    },
    {
     "name": "stdout",
     "output_type": "stream",
     "text": [
      "[ 20 sec,    3587 itr]:          138\n",
      "[ optimality gap     ]:      100.00%\n"
     ]
    },
    {
     "name": "stdout",
     "output_type": "stream",
     "text": [
      "[ 21 sec,    3730 itr]:          138\n"
     ]
    },
    {
     "name": "stdout",
     "output_type": "stream",
     "text": [
      "[ 22 sec,    3885 itr]:          138\n"
     ]
    },
    {
     "name": "stdout",
     "output_type": "stream",
     "text": [
      "[ 23 sec,    4068 itr]:          138\n"
     ]
    },
    {
     "name": "stdout",
     "output_type": "stream",
     "text": [
      "[ 24 sec,    4236 itr]:          138\n"
     ]
    },
    {
     "name": "stdout",
     "output_type": "stream",
     "text": [
      "[ 25 sec,    4418 itr]:          138\n"
     ]
    },
    {
     "name": "stdout",
     "output_type": "stream",
     "text": [
      "[ 26 sec,    4595 itr]:          138\n"
     ]
    },
    {
     "name": "stdout",
     "output_type": "stream",
     "text": [
      "[ 27 sec,    4779 itr]:          138\n"
     ]
    },
    {
     "name": "stdout",
     "output_type": "stream",
     "text": [
      "[ 28 sec,    4951 itr]:          138\n"
     ]
    },
    {
     "name": "stdout",
     "output_type": "stream",
     "text": [
      "[ 29 sec,    5109 itr]:          138\n"
     ]
    },
    {
     "name": "stdout",
     "output_type": "stream",
     "text": [
      "[ 30 sec,    5266 itr]:          138\n",
      "[ optimality gap     ]:      100.00%\n"
     ]
    },
    {
     "name": "stdout",
     "output_type": "stream",
     "text": [
      "[ 31 sec,    5397 itr]:          138\n"
     ]
    },
    {
     "name": "stdout",
     "output_type": "stream",
     "text": [
      "[ 32 sec,    5542 itr]:          138\n"
     ]
    },
    {
     "name": "stdout",
     "output_type": "stream",
     "text": [
      "[ 33 sec,    5671 itr]:          138\n"
     ]
    },
    {
     "name": "stdout",
     "output_type": "stream",
     "text": [
      "[ 34 sec,    5770 itr]:          138\n"
     ]
    },
    {
     "name": "stdout",
     "output_type": "stream",
     "text": [
      "[ 35 sec,    5895 itr]:          138\n"
     ]
    },
    {
     "name": "stdout",
     "output_type": "stream",
     "text": [
      "[ 36 sec,    6036 itr]:          138\n"
     ]
    },
    {
     "name": "stdout",
     "output_type": "stream",
     "text": [
      "[ 37 sec,    6184 itr]:          138\n"
     ]
    },
    {
     "name": "stdout",
     "output_type": "stream",
     "text": [
      "[ 38 sec,    6340 itr]:          138\n"
     ]
    },
    {
     "name": "stdout",
     "output_type": "stream",
     "text": [
      "[ 39 sec,    6496 itr]:          138\n"
     ]
    },
    {
     "name": "stdout",
     "output_type": "stream",
     "text": [
      "[ 40 sec,    6637 itr]:          138\n",
      "[ optimality gap     ]:      100.00%\n"
     ]
    },
    {
     "name": "stdout",
     "output_type": "stream",
     "text": [
      "[ 41 sec,    6771 itr]:          138\n"
     ]
    },
    {
     "name": "stdout",
     "output_type": "stream",
     "text": [
      "[ 42 sec,    6938 itr]:          138\n"
     ]
    },
    {
     "name": "stdout",
     "output_type": "stream",
     "text": [
      "[ 43 sec,    7089 itr]:          138\n"
     ]
    },
    {
     "name": "stdout",
     "output_type": "stream",
     "text": [
      "[ 44 sec,    7247 itr]:          138\n"
     ]
    },
    {
     "name": "stdout",
     "output_type": "stream",
     "text": [
      "[ 45 sec,    7409 itr]:          138\n"
     ]
    },
    {
     "name": "stdout",
     "output_type": "stream",
     "text": [
      "[ 46 sec,    7559 itr]:          138\n"
     ]
    },
    {
     "name": "stdout",
     "output_type": "stream",
     "text": [
      "[ 47 sec,    7709 itr]:          138\n"
     ]
    },
    {
     "name": "stdout",
     "output_type": "stream",
     "text": [
      "[ 48 sec,    7855 itr]:          138\n"
     ]
    },
    {
     "name": "stdout",
     "output_type": "stream",
     "text": [
      "[ 49 sec,    7997 itr]:          138\n"
     ]
    },
    {
     "name": "stdout",
     "output_type": "stream",
     "text": [
      "[ 50 sec,    8158 itr]:          138\n",
      "[ optimality gap     ]:      100.00%\n"
     ]
    },
    {
     "name": "stdout",
     "output_type": "stream",
     "text": [
      "[ 51 sec,    8309 itr]:          137\n"
     ]
    },
    {
     "name": "stdout",
     "output_type": "stream",
     "text": [
      "[ 52 sec,    8438 itr]:          137\n"
     ]
    },
    {
     "name": "stdout",
     "output_type": "stream",
     "text": [
      "[ 53 sec,    8595 itr]:          137\n"
     ]
    },
    {
     "name": "stdout",
     "output_type": "stream",
     "text": [
      "[ 54 sec,    8741 itr]:          136\n"
     ]
    },
    {
     "name": "stdout",
     "output_type": "stream",
     "text": [
      "[ 55 sec,    8904 itr]:          136\n"
     ]
    },
    {
     "name": "stdout",
     "output_type": "stream",
     "text": [
      "[ 56 sec,    9067 itr]:          136\n"
     ]
    },
    {
     "name": "stdout",
     "output_type": "stream",
     "text": [
      "[ 57 sec,    9192 itr]:          136\n"
     ]
    },
    {
     "name": "stdout",
     "output_type": "stream",
     "text": [
      "[ 58 sec,    9327 itr]:          136\n"
     ]
    },
    {
     "name": "stdout",
     "output_type": "stream",
     "text": [
      "[ 59 sec,    9461 itr]:          136\n"
     ]
    },
    {
     "name": "stdout",
     "output_type": "stream",
     "text": [
      "[ 60 sec,    9586 itr]:          136\n",
      "[ optimality gap     ]:      100.00%\n",
      "[ 60 sec,    9586 itr]:          136\n",
      "[ optimality gap     ]:      100.00%\n",
      "\n",
      "9586 iterations performed in 60 seconds\n",
      "\n",
      "Feasible solution: \n",
      "  obj    =          136\n",
      "  gap    =      100.00%\n",
      "  bounds =            0\n"
     ]
    }
   ],
   "source": [
    "instance_07 = util.parse(\"nucleotide_n050k050.txt\")\n",
    "solution_07 = solve(instance_07, log=True)"
   ]
  },
  {
   "cell_type": "code",
   "execution_count": null,
   "id": "TqIu",
   "metadata": {},
   "outputs": [
    {
     "name": "stdout",
     "output_type": "stream",
     "text": [
      "--- Condition (with 5 chars) ---\n",
      "str01: TAGTAGTAGACTCCGGAAGTGACAAACCCTGAAAAGAATGGATAAATATA\n",
      "str02: GGATAAACACTCCCGAAAATAATTTGACTTAAACAACGCGACAGTTCAAG\n",
      "str03: ATACCTTCCTAGGTAACAAACCAACCAACTTTTGATCTCTTGTAGATCTG\n",
      "str04: TAAATTATAATCTTATACTAGTAAAAAATAGGGTGTAACCGAAAACGGTC\n",
      "str05: TTAAAACAGCCTGTGGGTTGCACCCACTCACAGGGCCCACTGGGCGCAAG\n",
      "str06: ATGACTTCCAATGGATCCCAACCTCAAGCTTCCACCCCAATGGTTTCAGC\n",
      "str07: AACAAACCAACCAACTTTTGATCTCTTGTAGATCTGTTCTCTAAACGAAC\n",
      "str08: ATGAAAACGAAAATTATTATCAAGGGTATGGAAGTGGAAGCTGACGAAAT\n",
      "str09: ACTCGGCTGCATGCTTAGTGCACTCACGCAGTATAATTAATAACTAATTA\n",
      "str10: TTGTAGATCTGTTCTCTAAACGAACTTTAAAATCTGTGTGGCTGTCACTC\n",
      "str11: GCAGAGCATTTTCTAATATCCACAAAATGAAGGCAATAATTGTACTACTC\n",
      "str12: ATGAGCCAAGATCCGACGAAGAGCCCCAAGGAGGAGAAGGAGGGACCCCC\n",
      "str13: TCTCACAGTTCAAGAACCCAAAGTACCCCCCATAGCCCTCTTAAAGCCAC\n",
      "str14: AGGTTTATACCTTCCTAGGTAACAAACCAACCAACTTTCGATCTCTTGTA\n",
      "str15: AGGTTTATACCTTCCCAGGTAACAAACCAACCAACTTTCGATCTCTTGTA\n",
      "str16: TAAAACAACTCAATACAACATAAGAAAATCAACGCAAAAACACTCACAAA\n",
      "str17: CCGCCCATTTGGGCGGCTCTCGAGCGATAGCTCGTCGAATCCCTCGACCT\n",
      "str18: ATACCTTCCCAGGTAACAAACCAACCAACTTTCGATCTCTTGTAGATCTG\n",
      "str19: TCTCACAGTTCAAGAACCTCAAGTCTCCCCCATAGGCCTCTTTCAGTCAG\n",
      "str20: GATCTCTCTCACCGAACCTGGCCCCGGGCAAATGCCCTAATCCAGAGGTG\n",
      "str21: AGAGCAATCAGTGCATCAGAAATATACCTATTATACACTTTGCTAAGAAT\n",
      "str22: AATTAAAACATCTCAATACAACATAAGAAAAACAACGCAAAAACACTCAT\n",
      "str23: AAACGAACTTTAAAATCTGTGTGGCTGTCACTCGGCTGCATGCTTAGTGC\n",
      "str24: ATAACTAATTACTGTCGTTGACAGGACACGAGTAACTCGTCTATCTTCTG\n",
      "str25: ATGAGTGTCACGAATTCACGTACAATGAACTGGATGTTCACGTGGAATAA\n",
      "str26: ACCGTGGGCGAGCGGTGACCGGTGTCTTCCTAGTGGGTCCCACGTTGAAR\n",
      "str27: AAAGGTTTATACCTTCCCAGGTAACAAACCAACCAACTTTCGATCTCTTG\n",
      "str28: AGTAGTTCGCCTGTGTGAGCTGACAAACTTAGTAGTGTTTGTGAGGATTA\n",
      "str29: TTTATACCTTCCTAGGTAACAAACCAACCAACTTTCGATCTCTTGTAGAT\n",
      "str30: ATGCGGTCGTCTCTCCCCGGCTTTTTTTCCCCGCGCCGCGTTGGCGCCGA\n",
      "str31: GTGACAAAAACATAATGGACTCCAACACCATGTCAAGCTTTCAGGTAGAC\n",
      "str32: GTGTAAGAAACAGTAAGCCCGGAAGTGGTGTTTTGCGATTTCGAGGCCGG\n",
      "str33: GAGAATGAGTCTCATTACCGCCCGGTACTTAGCAAGCTAATAGTCACGGC\n",
      "str34: ATGTGGTCGATGCCATGGAGGCCCACCAGTTCATTAAGGCTCCTGGCATT\n",
      "str35: ACGAGCGTTTTAAGGGCCCGCGACTGCGACGGCCACATGGCCCTGTATGT\n",
      "str36: GGTTTATACCTTCCCAGGTAACAAACCAACCAACTTTCGATCTCTTGTAG\n",
      "str37: TGGGAAGTTCCAAAAGATCACAAAACACTACCAGTCAACCTGAAGTACAC\n",
      "str38: GAAGCGTTAACGTGTTGAGGAAAAGACAGCTTAGGAGAACAAGAGCTGGG\n",
      "str39: ACCAGCGCACTTCGGCAGCGGCAGCACCTCGGCAGCACCTCAGCAGCAAC\n",
      "str40: ATGGGACAACTTATTCCTATCATGTGCCAAGAGGTTTTACCCGGTGACCA\n",
      "str41: TTGTAGATCTGTTCTCTAAACGAACTTTAAAATCTGTGTGGTTGTCACTC\n",
      "str42: AACCAACCAACTTTCGATCTCTTGTAGATCTGTTCTCTAAACGAACTTTA\n",
      "str43: GGGTTCTGCCAGGCATAGTCTTTTTTTCTGGCGGCCCTTGTGTAAACCTG\n",
      "str44: GGCTGCATGCTTAGTGCACTCACGCAGTATAATTAATAACTAATTACTGT\n",
      "str45: TGCATGCTTAGTGCACTCACGCAGTATAATTAATAACTAATTACTGTCGT\n",
      "str46: TTCCACAACTTTCCACCAAGCTCTGCAAGATCCCAGAGTCAGGGGCCTGT\n",
      "str47: TCTAAACGAACTTTAAAATCTGTGTGGCTGTCACTCGGCTGCATGCTTAG\n",
      "str48: ACCGGATGGCCGCGATTTTTCGGAGTCCTTGGGGGACCACTCAGAATAGA\n",
      "str49: CTTGTAGATCTGTTCTCTAAACGAACTTTAAAATCTGTGTGGCTGTCACT\n",
      "str50: ATGAGCACTAAGCGAAGAACCAAAAAGCAGACAATACAACCCGCTATTAC\n",
      "\n",
      "--- Solution (of length 136) ---\n",
      "  Sol: ATGACTGACGTAACGTACATGCATCATGCATCGATCGATCAGTCATCGATGCAGCTACAGATCAGCTAGTCATCGATCAGTACGCATAGCTGATCAGTCGATCTGATCGATCAGTCAGTCATCGACCTGATGCTAR\n",
      "str01: -T-A--G---TA--GTA---G-A-C-T-C--CG---GA--AGT----GA--CA---A-A---C--C----C-T-GA--A--A---A--G---A--A-T-G----GAT--A--A---A-T-AT--A-----------\n",
      "str02: --G---GA--TAA---ACA--C-TC---C--CGA---A--A---AT--A---A--T-----T----T-G--A-C--T---TA---A-A-C--A--A--CG--C-GA-C-A---GT---TCA---A---G-------\n",
      "str03: AT-AC---C-T----T-C---C-T-A-G----G-T--A--A--CA---A---A-C--CA-A-C--C-A---A-C--T---T-----T---TGATC--TC--T-TG-T--A---G--A-TC-T-G------------\n",
      "str04: -T-A---A---A---T---T--AT-A---ATC--T---T-A-T-A-C--T--AG-TA-A-A--A---A---AT--A---G---G----G-TG-T-A----A-C----CGA--A---A---A-CG----G-T-C---\n",
      "str05: -T---T-A---AA---ACA-GC--C-TG--T-G---G----GT--T-G---CA-C--C----CA-CT---CA-C-A---G---G----GC----C---C-A-CTG---G----G-C-G-CA---A---G-------\n",
      "str06: ATGACT----T--C---CA---AT---G----GATC---C---CA---A--C--CT-CA-A---GCT--TC--C-A-C----C-C----C--A--A-T-G----G-T---T---TCAG-C----------------\n",
      "str07: A--AC--A---AAC---CA---A-C---CA---A-C--T---T--T---TG-A--T-C---TC---T--T----G-T-AG-A----T--CTG-T---TC--TCT-A---A--A--C-G--A---AC----------\n",
      "str08: ATGA---A---AACG-A-A---A--AT---T--AT---T-A-TCA---A-G--G-----G-T-A--T-G-----GA--AGT--G----G---A--AG-C--T--GA-CGA--A---A-T-----------------\n",
      "str09: A---CT--CG----G--C-TGCAT---GC-T---T--A---GT----G---CA-CT-CA---C-GC-AGT-AT--A--A-T-----TA----AT-A----A-CT-A---AT---T-A-------------------\n",
      "str10: -T---TG---TA--G-A--T-C-T---G--T---TC--TC--T-A---A---A-C--"
     ]
    },
    {
     "name": "stdout",
     "output_type": "stream",
     "text": [
      "--GA--A-CT--T--T--A--A--A---AT--CTG-T--GT-G----G--C--T--GTCA--C-TC-------------\n",
      "str11: --G-C--A-G-A--G--CAT---T--T---TC--T--A--A-T-ATC----CA-C-A-A-A--A--T-G--A---A---G---GCA-A--T-A--A-T---T--G-T--A-C--T-A--C-TC-------------\n",
      "str12: ATGA--G-C----C--A-A-G-ATC---C---GA-CGA--AG--A--G---C--C--C----CA---AG-----GA---G---G-A--G---A--AG--GA---G---G----G--A--C--C--CC-----C---\n",
      "str13: -T--CT--C--A-C--A---G--T--T-CA---A--GA--A--C--C----CA---A-AG-T-A-C----C--C---C----C-CATAGC----C---C--TCT--T--A--A---AG-C--C-AC----------\n",
      "str14: A-G---G---T----T---T--AT-A--C--C--T---TC---C-T--A-G--G-TA-A---CA---A---A-C---CA--AC-CA-A-CT--T---TCGATCT---C--T---T--GT-A---------------\n",
      "str15: A-G---G---T----T---T--AT-A--C--C--T---TC---C--C-A-G--G-TA-A---CA---A---A-C---CA--AC-CA-A-CT--T---TCGATCT---C--T---T--GT-A---------------\n",
      "str16: -T-A---A---AAC--A-A--C-TCA---AT--A-C-A--A--CAT--A---AG--A-A-A--A--T---CA---A-C-G--C--A-A----A--A----A-C--A-C--TCA--CA---A---A-----------\n",
      "str17: ----C---CG---C---C---CAT--T---T-G---G----G-C---G--GC---T-C---TC-G--AG-C---GAT-AG--C---T--C-G-TC-G---A----ATC---C---C--TC---GACCT--------\n",
      "str18: AT-AC---C-T----T-C---C--CA-G----G-T--A--A--CA---A---A-C--CA-A-C--C-A---A-C--T---T-----T--C-GATC--TC--T-TG-T--A---G--A-TC-T-G------------\n",
      "str19: -T--CT--C--A-C--A---G--T--T-CA---A--GA--A--C--C--T-CA---A--G-TC---T---C--C---C----C-CATAG--G--C---C--TCT--T---TCAGTCAG------------------\n",
      "str20: --GA-T--C-T--C-T-C-T-CA-C---C---GA---A-C---C-T-G--GC--C--C----C-G---G-----G--CA--A---AT-GC----C---C--T---A---ATC---CAG--A--G----G-TG----\n",
      "str21: A-GA--G-C--AA--T-CA-G--T---GCATC-A--GA--A---AT--AT--A-C--C---T-A--T--T-AT--A-CA---C---T---T--T--G-C--T---A---A---G--A---AT--------------\n",
      "str22: A--A-T----TAA---A-A--CATC-T-CA---AT--A-CA---A-C-AT--A---A--GA--A---A---A---A-CA--ACGCA-A----A--A----A-C--A-C--TCA-T---------------------\n",
      "str23: A--A---ACG-AAC-T---T---T-A---A---A---ATC--T----G-TG----T---G----GCT-GTCA-C--TC-G---GC-T-GC--AT--G-C--T-T-A--G-T--G-C--------------------\n",
      "str24: AT-A---AC-TAA--T---T--A-C-TG--TCG-T---T--G--A-C-A-G--G--ACA---C-G--AGT-A---A-C--T-CG--T--CT-ATC--T---TCTG-------------------------------\n",
      "str25: ATGA--G---T---GT-CA--C-----G-A---AT---TCA--C---G-T--A-C-A-A--T--G--A---A-C--T--G---G-AT-G-T--TCA--CG-T--G---GA--A-T-A---A---------------\n",
      "str26: A---C---CGT---G-----G------GC---GA--G--C-G-----G-TG-A-C--C-G----G-T-GTC-T---TC----C---TAG-TG----G--G-TC----C---CA--C-GT--T-GA----A-----R\n",
      "str27: A--A---A-G----GT---T---T-AT--A-C---C--T---TC--C----CAG-----G-T-A---A--CA---A--A---C-CA-A-C----CA----A-CT--T---TC-G--A-TC-TC----T--TG----\n",
      "str28: A-G--T-A-GT----T-C--GC--C-TG--T-G-T-GA---G-C-T-GA--CA---A-A---C---T--T-A--G-T-AGT--G--T---T--T--GT-GA---G---GAT---T-A-------------------\n",
      "str29: -T---T----TA---TAC---C-T--T-C--C--T--A---G-----G-T--A---ACA-A--A-C----CA---A-C----C--A-A-CT--T---TCGATCT---C--T---T--GT-A--GA--T--------\n",
      "str30: ATG-C-G--GT--CGT-C-T-C-TC---C--C---CG----G-C-T---T-----T-----T----T--T--TC---C----C-C---GC-G--C---CG--C-G-T---T--G---G-C---G-CC-GA------\n",
      "str31: --G--TGAC--AA---A-A---A-CAT--A---AT-G----G--A-C--T-C--C-A-A---CA-C----CAT-G-TCA--A-GC-T---T--TCAG--G-T---A--GA-C------------------------\n",
      "str32: --G--TG---TAA-G-A-A---A-CA-G--T--A---A---G-C--C----C-G-----GA--AG-T-G-----G-T--GT-----T---T--T--G-CGAT-T--TCGA---G---G-C--CG----G-------\n",
      "str33: --GA--GA---A---T----G-A----G--TC--TC-AT---T-A-C----C-GC--C----C-G---GT-A-C--T---TA-GCA-AGCT-A--A-T--A---G-TC-A-C-G---G-C----------------\n",
      "str34: ATG--TG--GT--CG-A--TGC--CATG----GA--G----G-C--C----CA-C--CAG-T----T---CAT---T-A--A-G----GCT---C---C--T--G---G--CA-T---T-----------------\n",
      "str35: A---C-GA-G---CGT---T---T--T--A---A--G----G-----G---C--C--C-G--C-G--A--C-T-G--C-G-ACG----GC----CA--C-AT--G---G--C---C---C-T-G---T-ATG-T--\n",
      "str36: --G---G---T----T---T--AT-A--C--C--T---TC---C--C-A-G--G-TA-A---CA---A---A-C---CA--AC-CA-A-CT--T---TCGATCT---C--T---T--GT-A--G------------\n",
      "str37: -TG---G--G-AA-GT---T-C--CA---A---A---A---G--ATC-A--CA---A-A-A-CA-CTA--C--C-A---GT-C--A-A-C----C--T-GA----A--G-T-A--CA--C----------------\n",
      "str38: --GA---A-G---CGT---T--A--A--C---G-T-G-T---T----GA-G--G--A-A-A--AG--A--CA--G--C--T-----TAG--GA---G---A----A-C-A--AG--AG-C-T-G----G--G----\n",
      "str39: A---C---C--A--G--C--GCA-C-T---TCG---G--CAG-C---G--GCAGC-AC----C---T---C---G----G--C--A--GC--A-C---C--TC--A--G--CAG-CA---A-C-------------\n",
      "str40: ATG---G--G-A-C--A-A--C-T--T--AT---TC---C--T-ATC-ATG----T---G--C--C-A---A--GA---G---G--T---T--T---T--A-C----C---C-G---GT----GACC--A------\n",
      "str41: -T---TG---TA--G-A--T-C-T---G--T---TC--TC--T-A---A---A-C----GA--A-CT--T--T--A--A--A---AT--CTG-T--GT-G----G-T---T--GTCA--C-TC-------------\n",
      "str42: A--AC---C--AAC---CA---A-C-T---T---TCGATC--TC-T---TG----TA--GATC---T-GT--TC--TC--TA---A-A-C-GA--A--C--T-T--T--A--------------------------\n",
      "str43: --G---G--GT----T-C-TGC--CA-G----G--C-AT-AGTC-T---T-----T-----T----T--T--TC--T--G---GC---G--G--C---C---CT--T-G-T--GT-A---A---ACCTG-------\n",
      "str44: --G---G-C-T---G--CATGC-T--T--A--G-T-G--CA--C-TC-A--C-GC-A--G-T-A--TA---AT---T-A--A----TA----A-C--T--A----AT---T-A--C--T----G---T--------\n",
      "str45: -TG-C--A--T---G--C-T---T-A-G--T-G--C-A-C--TCA-CG---CAG-TA----T-A---A-T--T--A--A-TA---A---CT-A--A-T---T---A-C--T--GTC-GT-----------------\n",
      "str46: -T---T--C----C--ACA---A-C-T---T---TC---CA--C--C-A---AGCT-C---T--GC-A---A--GATC----C-CA--G---A---GTC-A---G---G----G---G-C--C----TG-T-----\n",
      "str47: -T--CT-A---AACG-A-A--C-T--T---T--A---A--A---ATC--TG----T---G-T--G---G-C-T-G-TCA---C---T--C-G----G-C--T--G--C-AT--G-C--T--T--A---G-------\n",
      "str48: A---C---CG----G-A--TG------GC--CG--CGAT---T--T---T-----T-C-G----G--AGTC--C--T---T--G----G--G----G--GA-C----C-A-C--TCAG--A---A--T-A-G--A-\n",
      "str49: ----CT----T---GTA---G-ATC-TG--T---TC--TC--T-A---A---A-C----GA--A-CT--T--T--A--A--A---AT--CTG-T--GT-G----G--C--T--GTCA--C-T--------------\n",
      "str50: ATGA--G-C--A-C-TA-A-GC-----G-A---A--GA--A--C--C-A---A---A-A-A---GC-AG--A-C-A--A-TAC--A-A-C----C---CG--CT-AT---T-A--C--------------------\n",
      "\n",
      "solution is feasible: True\n"
     ]
    }
   ],
   "source": [
    "_instance = instance_07\n",
    "_solution = solution_07\n",
    "\n",
    "util.show(_instance)\n",
    "if _solution is not None:\n",
    "    util.show(_instance, _solution)\n",
    "    print(f\"solution is feasible: {util.is_feasible(_instance, _solution)}\")\n",
    "else:\n",
    "    print(\"--- Solution not found ---\")"
   ]
  },
  {
   "cell_type": "code",
   "execution_count": null,
   "id": "Vxnm",
   "metadata": {},
   "outputs": [
    {
     "name": "stdout",
     "output_type": "stream",
     "text": [
      "\n",
      "Model:  expressions = 104, decisions = 100, constraints = 0, objectives = 1\n",
      "Param:  time limit = 60 sec, no iteration limit\n",
      "\n",
      "[objective direction ]:     minimize\n",
      "\n",
      "[  0 sec,       0 itr]:           62\n",
      "[ optimality gap     ]:      100.00%\n"
     ]
    },
    {
     "name": "stdout",
     "output_type": "stream",
     "text": [
      "[  1 sec,     334 itr]:           51\n"
     ]
    },
    {
     "name": "stdout",
     "output_type": "stream",
     "text": [
      "[  2 sec,    1104 itr]:           48\n"
     ]
    },
    {
     "name": "stdout",
     "output_type": "stream",
     "text": [
      "[  3 sec,    1931 itr]:           48\n"
     ]
    },
    {
     "name": "stdout",
     "output_type": "stream",
     "text": [
      "[  4 sec,    2625 itr]:           47\n"
     ]
    },
    {
     "name": "stdout",
     "output_type": "stream",
     "text": [
      "[  5 sec,    3314 itr]:           47\n"
     ]
    },
    {
     "name": "stdout",
     "output_type": "stream",
     "text": [
      "[  6 sec,    4033 itr]:           47\n"
     ]
    },
    {
     "name": "stdout",
     "output_type": "stream",
     "text": [
      "[  7 sec,    4770 itr]:           47\n"
     ]
    },
    {
     "name": "stdout",
     "output_type": "stream",
     "text": [
      "[  8 sec,    5481 itr]:           46\n"
     ]
    },
    {
     "name": "stdout",
     "output_type": "stream",
     "text": [
      "[  9 sec,    6253 itr]:           46\n"
     ]
    },
    {
     "name": "stdout",
     "output_type": "stream",
     "text": [
      "[ 10 sec,    6941 itr]:           46\n",
      "[ optimality gap     ]:      100.00%\n"
     ]
    },
    {
     "name": "stdout",
     "output_type": "stream",
     "text": [
      "[ 11 sec,    7739 itr]:           46\n"
     ]
    },
    {
     "name": "stdout",
     "output_type": "stream",
     "text": [
      "[ 12 sec,    8590 itr]:           46\n"
     ]
    },
    {
     "name": "stdout",
     "output_type": "stream",
     "text": [
      "[ 13 sec,    9474 itr]:           46\n"
     ]
    },
    {
     "name": "stdout",
     "output_type": "stream",
     "text": [
      "[ 14 sec,   10316 itr]:           46\n"
     ]
    },
    {
     "name": "stdout",
     "output_type": "stream",
     "text": [
      "[ 15 sec,   11134 itr]:           46\n"
     ]
    },
    {
     "name": "stdout",
     "output_type": "stream",
     "text": [
      "[ 16 sec,   11987 itr]:           46\n"
     ]
    },
    {
     "name": "stdout",
     "output_type": "stream",
     "text": [
      "[ 17 sec,   12705 itr]:           46\n"
     ]
    },
    {
     "name": "stdout",
     "output_type": "stream",
     "text": [
      "[ 18 sec,   13487 itr]:           46\n"
     ]
    },
    {
     "name": "stdout",
     "output_type": "stream",
     "text": [
      "[ 19 sec,   14253 itr]:           46\n"
     ]
    },
    {
     "name": "stdout",
     "output_type": "stream",
     "text": [
      "[ 20 sec,   15035 itr]:           46\n",
      "[ optimality gap     ]:      100.00%\n"
     ]
    },
    {
     "name": "stdout",
     "output_type": "stream",
     "text": [
      "[ 21 sec,   15855 itr]:           46\n"
     ]
    },
    {
     "name": "stdout",
     "output_type": "stream",
     "text": [
      "[ 22 sec,   16612 itr]:           45\n"
     ]
    },
    {
     "name": "stdout",
     "output_type": "stream",
     "text": [
      "[ 23 sec,   17419 itr]:           45\n"
     ]
    },
    {
     "name": "stdout",
     "output_type": "stream",
     "text": [
      "[ 24 sec,   18231 itr]:           45\n"
     ]
    },
    {
     "name": "stdout",
     "output_type": "stream",
     "text": [
      "[ 25 sec,   19102 itr]:           45\n"
     ]
    },
    {
     "name": "stdout",
     "output_type": "stream",
     "text": [
      "[ 26 sec,   19957 itr]:           45\n"
     ]
    },
    {
     "name": "stdout",
     "output_type": "stream",
     "text": [
      "[ 27 sec,   20815 itr]:           45\n"
     ]
    },
    {
     "name": "stdout",
     "output_type": "stream",
     "text": [
      "[ 28 sec,   21639 itr]:           45\n"
     ]
    },
    {
     "name": "stdout",
     "output_type": "stream",
     "text": [
      "[ 29 sec,   22522 itr]:           45\n"
     ]
    },
    {
     "name": "stdout",
     "output_type": "stream",
     "text": [
      "[ 30 sec,   23376 itr]:           45\n",
      "[ optimality gap     ]:      100.00%\n"
     ]
    },
    {
     "name": "stdout",
     "output_type": "stream",
     "text": [
      "[ 31 sec,   24280 itr]:           45\n"
     ]
    },
    {
     "name": "stdout",
     "output_type": "stream",
     "text": [
      "[ 32 sec,   25150 itr]:           45\n"
     ]
    },
    {
     "name": "stdout",
     "output_type": "stream",
     "text": [
      "[ 33 sec,   25893 itr]:           45\n"
     ]
    },
    {
     "name": "stdout",
     "output_type": "stream",
     "text": [
      "[ 34 sec,   26660 itr]:           45\n"
     ]
    },
    {
     "name": "stdout",
     "output_type": "stream",
     "text": [
      "[ 35 sec,   27444 itr]:           45\n"
     ]
    },
    {
     "name": "stdout",
     "output_type": "stream",
     "text": [
      "[ 36 sec,   28275 itr]:           45\n"
     ]
    },
    {
     "name": "stdout",
     "output_type": "stream",
     "text": [
      "[ 37 sec,   29071 itr]:           45\n"
     ]
    },
    {
     "name": "stdout",
     "output_type": "stream",
     "text": [
      "[ 38 sec,   29920 itr]:           44\n"
     ]
    },
    {
     "name": "stdout",
     "output_type": "stream",
     "text": [
      "[ 39 sec,   30739 itr]:           44\n"
     ]
    },
    {
     "name": "stdout",
     "output_type": "stream",
     "text": [
      "[ 40 sec,   31557 itr]:           44\n",
      "[ optimality gap     ]:      100.00%\n"
     ]
    },
    {
     "name": "stdout",
     "output_type": "stream",
     "text": [
      "[ 41 sec,   32396 itr]:           44\n"
     ]
    },
    {
     "name": "stdout",
     "output_type": "stream",
     "text": [
      "[ 42 sec,   33264 itr]:           44\n"
     ]
    },
    {
     "name": "stdout",
     "output_type": "stream",
     "text": [
      "[ 43 sec,   34132 itr]:           44\n"
     ]
    },
    {
     "name": "stdout",
     "output_type": "stream",
     "text": [
      "[ 44 sec,   35040 itr]:           44\n"
     ]
    },
    {
     "name": "stdout",
     "output_type": "stream",
     "text": [
      "[ 45 sec,   35900 itr]:           44\n"
     ]
    },
    {
     "name": "stdout",
     "output_type": "stream",
     "text": [
      "[ 46 sec,   36771 itr]:           44\n"
     ]
    },
    {
     "name": "stdout",
     "output_type": "stream",
     "text": [
      "[ 47 sec,   37627 itr]:           44\n"
     ]
    },
    {
     "name": "stdout",
     "output_type": "stream",
     "text": [
      "[ 48 sec,   38496 itr]:           44\n"
     ]
    },
    {
     "name": "stdout",
     "output_type": "stream",
     "text": [
      "[ 49 sec,   39342 itr]:           44\n"
     ]
    },
    {
     "name": "stdout",
     "output_type": "stream",
     "text": [
      "[ 50 sec,   40145 itr]:           44\n",
      "[ optimality gap     ]:      100.00%\n"
     ]
    },
    {
     "name": "stdout",
     "output_type": "stream",
     "text": [
      "[ 51 sec,   41000 itr]:           44\n"
     ]
    },
    {
     "name": "stdout",
     "output_type": "stream",
     "text": [
      "[ 52 sec,   41850 itr]:           44\n"
     ]
    },
    {
     "name": "stdout",
     "output_type": "stream",
     "text": [
      "[ 53 sec,   42695 itr]:           44\n"
     ]
    },
    {
     "name": "stdout",
     "output_type": "stream",
     "text": [
      "[ 54 sec,   43588 itr]:           44\n"
     ]
    },
    {
     "name": "stdout",
     "output_type": "stream",
     "text": [
      "[ 55 sec,   44421 itr]:           44\n"
     ]
    },
    {
     "name": "stdout",
     "output_type": "stream",
     "text": [
      "[ 56 sec,   45272 itr]:           44\n"
     ]
    },
    {
     "name": "stdout",
     "output_type": "stream",
     "text": [
      "[ 57 sec,   46164 itr]:           44\n"
     ]
    },
    {
     "name": "stdout",
     "output_type": "stream",
     "text": [
      "[ 58 sec,   47019 itr]:           44\n"
     ]
    },
    {
     "name": "stdout",
     "output_type": "stream",
     "text": [
      "[ 59 sec,   47876 itr]:           44\n"
     ]
    },
    {
     "name": "stdout",
     "output_type": "stream",
     "text": [
      "[ 60 sec,   48670 itr]:           44\n",
      "[ optimality gap     ]:      100.00%\n",
      "[ 60 sec,   48670 itr]:           44\n",
      "[ optimality gap     ]:      100.00%\n",
      "\n",
      "48670 iterations performed in 60 seconds\n",
      "\n",
      "Feasible solution: \n",
      "  obj    =           44\n",
      "  gap    =      100.00%\n",
      "  bounds =            0\n"
     ]
    }
   ],
   "source": [
    "instance_08 = util.parse(\"protein_n010k010.txt\")\n",
    "solution_08 = solve(instance_08, log=True)"
   ]
  },
  {
   "cell_type": "code",
   "execution_count": null,
   "id": "DnEU",
   "metadata": {},
   "outputs": [
    {
     "name": "stdout",
     "output_type": "stream",
     "text": [
      "--- Condition (with 19 chars) ---\n",
      "str01: MALSYCPKGT\n",
      "str02: MQSSLNAIPV\n",
      "str03: MPLSYQHFRK\n",
      "str04: MEEHVNELHD\n",
      "str05: MSNFDAIRAL\n",
      "str06: MFRNQNSRNG\n",
      "str07: MFYAHAFGGY\n",
      "str08: MSKFTRRPYQ\n",
      "str09: MSFVAGVTAQ\n",
      "str10: MESLVPGFNE\n",
      "\n",
      "--- Solution (of length 44) ---\n",
      "  Sol: MEQPSLSKFTRYAEHVNQELNSYCHFDAIRPGFKGVTANEGYQL\n",
      "str01: M-----------A------L-SYC------P--KG-T-------\n",
      "str02: M-Q-S-S------------LN------AI-P----V--------\n",
      "str03: M--P-LS----Y-----Q------HF---R---K----------\n",
      "str04: ME-----------EHVN-EL----H-D-----------------\n",
      "str05: M---S-----------N--------FDAIR-------A-----L\n",
      "str06: M-------F-R-----NQ--NS-------R--------N-G---\n",
      "str07: M-------F--YA-H------------A----F-G-----GY--\n",
      "str08: M---S--KFTR------------------RP----------YQ-\n",
      "str09: M---S---F------V-----------A---G---VTA----Q-\n",
      "str10: ME--SL---------V--------------PGF-----NE----\n",
      "\n",
      "solution is feasible: True\n"
     ]
    }
   ],
   "source": [
    "_instance = instance_08\n",
    "_solution = solution_08\n",
    "\n",
    "util.show(_instance)\n",
    "if _solution is not None:\n",
    "    util.show(_instance, _solution)\n",
    "    print(f\"solution is feasible: {util.is_feasible(_instance, _solution)}\")\n",
    "else:\n",
    "    print(\"--- Solution not found ---\")"
   ]
  },
  {
   "cell_type": "code",
   "execution_count": null,
   "id": "ulZA",
   "metadata": {},
   "outputs": [
    {
     "name": "stdout",
     "output_type": "stream",
     "text": [
      "\n",
      "Model:  expressions = 2504, decisions = 2500, constraints = 0, objectives = 1\n",
      "Param:  time limit = 60 sec, no iteration limit\n",
      "\n",
      "[objective direction ]:     minimize\n",
      "\n",
      "[  0 sec,       0 itr]:          536\n",
      "[ optimality gap     ]:      100.00%\n"
     ]
    },
    {
     "name": "stdout",
     "output_type": "stream",
     "text": [
      "[  1 sec,      20 itr]:          524\n"
     ]
    },
    {
     "name": "stdout",
     "output_type": "stream",
     "text": [
      "[  2 sec,      46 itr]:          509\n"
     ]
    },
    {
     "name": "stdout",
     "output_type": "stream",
     "text": [
      "[  3 sec,      84 itr]:          508\n"
     ]
    },
    {
     "name": "stdout",
     "output_type": "stream",
     "text": [
      "[  4 sec,     116 itr]:          507\n"
     ]
    },
    {
     "name": "stdout",
     "output_type": "stream",
     "text": [
      "[  5 sec,     176 itr]:          507\n"
     ]
    },
    {
     "name": "stdout",
     "output_type": "stream",
     "text": [
      "[  6 sec,     210 itr]:          507\n"
     ]
    },
    {
     "name": "stdout",
     "output_type": "stream",
     "text": [
      "[  7 sec,     251 itr]:          507\n"
     ]
    },
    {
     "name": "stdout",
     "output_type": "stream",
     "text": [
      "[  8 sec,     291 itr]:          507\n"
     ]
    },
    {
     "name": "stdout",
     "output_type": "stream",
     "text": [
      "[  9 sec,     328 itr]:          507\n"
     ]
    },
    {
     "name": "stdout",
     "output_type": "stream",
     "text": [
      "[ 10 sec,     358 itr]:          507\n",
      "[ optimality gap     ]:      100.00%\n"
     ]
    },
    {
     "name": "stdout",
     "output_type": "stream",
     "text": [
      "[ 11 sec,     406 itr]:          507\n"
     ]
    },
    {
     "name": "stdout",
     "output_type": "stream",
     "text": [
      "[ 12 sec,     435 itr]:          507\n"
     ]
    },
    {
     "name": "stdout",
     "output_type": "stream",
     "text": [
      "[ 13 sec,     476 itr]:          507\n"
     ]
    },
    {
     "name": "stdout",
     "output_type": "stream",
     "text": [
      "[ 14 sec,     515 itr]:          507\n"
     ]
    },
    {
     "name": "stdout",
     "output_type": "stream",
     "text": [
      "[ 15 sec,     553 itr]:          507\n"
     ]
    },
    {
     "name": "stdout",
     "output_type": "stream",
     "text": [
      "[ 16 sec,     600 itr]:          503\n"
     ]
    },
    {
     "name": "stdout",
     "output_type": "stream",
     "text": [
      "[ 17 sec,     638 itr]:          503\n"
     ]
    },
    {
     "name": "stdout",
     "output_type": "stream",
     "text": [
      "[ 18 sec,     686 itr]:          503\n"
     ]
    },
    {
     "name": "stdout",
     "output_type": "stream",
     "text": [
      "[ 19 sec,     714 itr]:          503\n"
     ]
    },
    {
     "name": "stdout",
     "output_type": "stream",
     "text": [
      "[ 20 sec,     741 itr]:          503\n",
      "[ optimality gap     ]:      100.00%\n"
     ]
    },
    {
     "name": "stdout",
     "output_type": "stream",
     "text": [
      "[ 21 sec,     786 itr]:          503\n"
     ]
    },
    {
     "name": "stdout",
     "output_type": "stream",
     "text": [
      "[ 22 sec,     835 itr]:          503\n"
     ]
    },
    {
     "name": "stdout",
     "output_type": "stream",
     "text": [
      "[ 23 sec,     868 itr]:          502\n"
     ]
    },
    {
     "name": "stdout",
     "output_type": "stream",
     "text": [
      "[ 24 sec,     903 itr]:          501\n"
     ]
    },
    {
     "name": "stdout",
     "output_type": "stream",
     "text": [
      "[ 25 sec,     952 itr]:          501\n"
     ]
    },
    {
     "name": "stdout",
     "output_type": "stream",
     "text": [
      "[ 26 sec,     991 itr]:          501\n"
     ]
    },
    {
     "name": "stdout",
     "output_type": "stream",
     "text": [
      "[ 27 sec,    1028 itr]:          501\n"
     ]
    },
    {
     "name": "stdout",
     "output_type": "stream",
     "text": [
      "[ 28 sec,    1071 itr]:          501\n"
     ]
    },
    {
     "name": "stdout",
     "output_type": "stream",
     "text": [
      "[ 29 sec,    1111 itr]:          501\n"
     ]
    },
    {
     "name": "stdout",
     "output_type": "stream",
     "text": [
      "[ 30 sec,    1155 itr]:          501\n",
      "[ optimality gap     ]:      100.00%\n"
     ]
    },
    {
     "name": "stdout",
     "output_type": "stream",
     "text": [
      "[ 31 sec,    1186 itr]:          501\n"
     ]
    },
    {
     "name": "stdout",
     "output_type": "stream",
     "text": [
      "[ 32 sec,    1215 itr]:          501\n"
     ]
    },
    {
     "name": "stdout",
     "output_type": "stream",
     "text": [
      "[ 33 sec,    1244 itr]:          501\n"
     ]
    },
    {
     "name": "stdout",
     "output_type": "stream",
     "text": [
      "[ 34 sec,    1284 itr]:          501\n"
     ]
    },
    {
     "name": "stdout",
     "output_type": "stream",
     "text": [
      "[ 35 sec,    1302 itr]:          501\n"
     ]
    },
    {
     "name": "stdout",
     "output_type": "stream",
     "text": [
      "[ 36 sec,    1341 itr]:          501\n"
     ]
    },
    {
     "name": "stdout",
     "output_type": "stream",
     "text": [
      "[ 37 sec,    1368 itr]:          501\n"
     ]
    },
    {
     "name": "stdout",
     "output_type": "stream",
     "text": [
      "[ 38 sec,    1411 itr]:          500\n"
     ]
    },
    {
     "name": "stdout",
     "output_type": "stream",
     "text": [
      "[ 39 sec,    1457 itr]:          500\n"
     ]
    },
    {
     "name": "stdout",
     "output_type": "stream",
     "text": [
      "[ 40 sec,    1494 itr]:          500\n",
      "[ optimality gap     ]:      100.00%\n"
     ]
    },
    {
     "name": "stdout",
     "output_type": "stream",
     "text": [
      "[ 41 sec,    1511 itr]:          500\n"
     ]
    },
    {
     "name": "stdout",
     "output_type": "stream",
     "text": [
      "[ 42 sec,    1547 itr]:          500\n"
     ]
    },
    {
     "name": "stdout",
     "output_type": "stream",
     "text": [
      "[ 43 sec,    1583 itr]:          500\n"
     ]
    },
    {
     "name": "stdout",
     "output_type": "stream",
     "text": [
      "[ 44 sec,    1627 itr]:          500\n"
     ]
    },
    {
     "name": "stdout",
     "output_type": "stream",
     "text": [
      "[ 45 sec,    1646 itr]:          499\n"
     ]
    },
    {
     "name": "stdout",
     "output_type": "stream",
     "text": [
      "[ 46 sec,    1684 itr]:          499\n"
     ]
    },
    {
     "name": "stdout",
     "output_type": "stream",
     "text": [
      "[ 47 sec,    1715 itr]:          499\n"
     ]
    },
    {
     "name": "stdout",
     "output_type": "stream",
     "text": [
      "[ 48 sec,    1741 itr]:          499\n"
     ]
    },
    {
     "name": "stdout",
     "output_type": "stream",
     "text": [
      "[ 49 sec,    1782 itr]:          499\n"
     ]
    },
    {
     "name": "stdout",
     "output_type": "stream",
     "text": [
      "[ 50 sec,    1816 itr]:          499\n",
      "[ optimality gap     ]:      100.00%\n"
     ]
    },
    {
     "name": "stdout",
     "output_type": "stream",
     "text": [
      "[ 51 sec,    1840 itr]:          499\n"
     ]
    },
    {
     "name": "stdout",
     "output_type": "stream",
     "text": [
      "[ 52 sec,    1872 itr]:          499\n"
     ]
    },
    {
     "name": "stdout",
     "output_type": "stream",
     "text": [
      "[ 53 sec,    1889 itr]:          499\n"
     ]
    },
    {
     "name": "stdout",
     "output_type": "stream",
     "text": [
      "[ 54 sec,    1910 itr]:          499\n"
     ]
    },
    {
     "name": "stdout",
     "output_type": "stream",
     "text": [
      "[ 55 sec,    1931 itr]:          498\n"
     ]
    },
    {
     "name": "stdout",
     "output_type": "stream",
     "text": [
      "[ 56 sec,    1954 itr]:          498\n"
     ]
    },
    {
     "name": "stdout",
     "output_type": "stream",
     "text": [
      "[ 57 sec,    1978 itr]:          498\n"
     ]
    },
    {
     "name": "stdout",
     "output_type": "stream",
     "text": [
      "[ 58 sec,    2022 itr]:          498\n"
     ]
    },
    {
     "name": "stdout",
     "output_type": "stream",
     "text": [
      "[ 59 sec,    2058 itr]:          498\n"
     ]
    },
    {
     "name": "stdout",
     "output_type": "stream",
     "text": [
      "[ 60 sec,    2096 itr]:          498\n",
      "[ optimality gap     ]:      100.00%\n",
      "[ 60 sec,    2096 itr]:          498\n",
      "[ optimality gap     ]:      100.00%\n",
      "\n",
      "2096 iterations performed in 60 seconds\n",
      "\n",
      "Feasible solution: \n",
      "  obj    =          498\n",
      "  gap    =      100.00%\n",
      "  bounds =            0\n"
     ]
    }
   ],
   "source": [
    "instance_09 = util.parse(\"protein_n050k050.txt\")\n",
    "solution_09 = solve(instance_09, log=True)"
   ]
  },
  {
   "cell_type": "code",
   "execution_count": null,
   "id": "ecfG",
   "metadata": {},
   "outputs": [
    {
     "name": "stdout",
     "output_type": "stream",
     "text": [
      "--- Condition (with 20 chars) ---\n",
      "str01: MRHLNIDIETYSSNDIKNGVYKYADAEDFEILLFAYSIDGGEVECLDLTR\n",
      "str02: MERRAHRTHQNWDATKPRERRKQTQHRLTHPDDSIYPRIEKAEGRKEDHG\n",
      "str03: MEPGAFSTALFDALCDDILHRRLESQLRFGGVQIPPEVSDPRVYAGYALL\n",
      "str04: MGKFYYSNRRLAVFAQAQSRHLGGSYEQWLACVSGDSAFRAEVKARVQKD\n",
      "str05: FFRENLAFQQGKAREFPSEEARANSPTSRELWVRRGGNPLSEAGAERRGT\n",
      "str06: MDPSLTQVWAVEGSVLSAAVDTAETNDTEPDEGLSAENEGETRIIRITGS\n",
      "str07: MAFDFSVTGNTKLDTSGFTQGVSSMTVAAGTLIADLVKTASSQLTNLAQS\n",
      "str08: MAVILPSTYTDGTAACTNGSPDVVGTGTMWVNTILPGDFFWTPSGESVRV\n",
      "str09: MNTGIIDLFDNHVDSIPTILPHQLATLDYLVRTIIDENRSVLLFHIMGSG\n",
      "str10: MFVFLVLLPLVSSQCVNLRTRTQLPPAYTNSFTRGVYYPDKVFRSSVLHS\n",
      "str11: MDSKETILIEIIPKIKSYLLDTNISPKSYNDFISRNKNIFVINLYNVSTI\n",
      "str12: MLLSGKKKMLLDNYETAAARGRGGDERRRGWAFDRPAIVTKRDKSDRMAH\n",
      "str13: MNGEEDDNEQAAAEQQTKKAKREKPKQARKVTSEAWEHFDATDDGAECKH\n",
      "str14: MESLVPGFNEKTHVQLSLPVLQVRDVLVRGFGDSVEEVLSEARQHLKDGT\n",
      "str15: MRYIVSPQLVLQVGKGQEVERALYLTPYDYIDEKSPIYYFLRSHLNIQRP\n",
      "str16: MPRVPVYDSPQVSPNTVPQARLATPSFATPTFRGADAPAFQDTANQQARQ\n",
      "str17: MFVFLVLLPLVSSQCVNLRTRTQLPLAYTNSFTRGVYYPDKVFRSSVLHS\n",
      "str18: MFVFFVLLPLVSSQCVNLTTRTQLPPAYTNSFTRGVYYPDKVFRSSVLHS\n",
      "str19: MEAIISFAGIGINYKKLQSKLQHDFGRVLKALTVTARALPGQPKHIAIRQ\n",
      "str20: MASSGPERAEHQIILPESHLSSPLVKHKLLYYWKLTGLPLPDECDFDHLI\n",
      "str21: MESLVPGFNEKTHVQLSLPVLQVRDVLVRGFGDSVEEVLSEVRQHLKDGT\n",
      "str22: MLAPSPNSKIQLFNNINIDINYEHTLYFASVSAQNSFFAQWVVYSADKAI\n",
      "str23: MSAITETKPTIELPALAEGFQRYNKTPGFTCVLDRYDHGVINDSKIVLYN\n",
      "str24: MKNIAEFKKAPELAEKLLEVFSNLKGNSRSLDPMRAGKHDVVVIESTKKL\n",
      "str25: MPQPLKQSLDQSKWLREAEKHLRALESLVDSNLEEEKLKPQLSMGEDVQS\n",
      "str26: MFVFLVLLPLVSSQCVNLITRTQSYTNSFTRGVYYPDKVFRSSVLHSTQD\n",
      "str27: MKFDVLSLFAPWAKVDEQEYDQQLNNNLESITAPKFDDGATEIESERGDI\n",
      "str28: MFVFLVLLPLVSSQCVNFTNRTQLPSAYTNSFTRGVYYPDKVFRSSVLHS\n",
      "str29: MWSIIVLKLISIQPLLLVTSLPLYNPNMDSCCLISRITPELAGKLTWIFI\n",
      "str30: MESLVPGFNEKTHVQLSLPVLQVRDVLVRGFGDSVEEFLSEARQHLKDGT\n",
      "str31: MFVFLVLLPLVSSQCVMPLFNLITTTQSYTNFTRGVYYPDKVFRSSVLHL\n",
      "str32: MHQITVVSGPTEVSTCFGSLHPFQSLKPVMANALGVLEGKMFCSIGGRSL\n",
      "str33: MATLLRSLALFKRNKDKPPITSGSGGAIRGIKHIIIVPIPGDSSITTRSR\n",
      "str34: MESLVPGFNEKTHVQLSLPVLQVRDVLVRGFGDSMEEVLSEARQHLKDGT\n",
      "str35: MFVFLVLLPLVSSQCVNLTTGTQLPPAYTNSFTRGVYYPDKVFRSSVLHS\n",
      "str36: MANIINLWNGIVPMVQDVNVASITAFKSMIDETWDKKIEANTCISRKHRN\n",
      "str37: MLNRIQTLMKTANNYETIEILRNYLRLYIILARNEEGRGILIYDDNIDSV\n",
      "str38: MADPAGTNGEEGTGCNGWFYVEAVVEKKTGDAISDDENENDSDTGEDLVD\n",
      "str39: MFVFLVLLPLVSSQCVNLRTRTQLPPSYTNSFTRGVYYPDKVFRSSVLHS\n",
      "str40: MESLVPGFNEKTHVQLSLPVLQVCDVLVRGFGDSVEEVLSEARQHLKDGT\n",
      "str41: MNNQRKKTARPSFNMLKRARNRVSTVSQLAKRFSKGLLSGQGPMKLVMAF\n",
      "str42: MSNFDAIRALVDTDAYKLGHIHMYPEGTEYVLSNFTDRGSRIEGVTHTVH\n",
      "str43: MIELRHEVQGDLVTINVVETPEDLDGFRDFIRAHLICLAVDTETTGLDIY\n",
      "str44: MFVFLVLLPLVSSQCVMPLFNLITTNQSYTNSFTRGVYYPDKVFRSSVLH\n",
      "str45: MSKDLVARQALMTARMKADFVFFLFVLWKALSLPVPTRCQIDMAKKLSAG\n",
      "str46: MASLLKSLTLFKRTRDQPPLASGSGGAIRGIKHVIIVLIPGDSSIVTRSR\n",
      "str47: MRVRGILRNWQQWWIWTSLGFWMFMICSVVGNLWVTVYYGVPVWKEAKTT\n",
      "str48: MAVEPFPRRPITRPHASIEVDTSGIGGSAGSSEKVFCLIGQAEGGEPNTV\n",
      "str49: MFYAHAFGGYDENLHAFPGISSTVANDVRKYSVVSVYNKKYNIVKNKYMW\n",
      "str50: MANYSKPFLLDIVFNKDIKCINDSCSHSDCRYQSNSYVELRRNQALNKNL\n",
      "\n",
      "--- Solution (of length 498) ---\n",
      "  Sol: MAFVFLESVLLPLVSSQCVNRPGFKNEDLKTHVQLSLPRAITRVLFQVSTGYALEIRDVLSPQLTKVRNGFMPLAGDSPTIEFLNDAYTVKLEQWNSFTRGIVDHAETYQPCGKIVLNRTAPSEAFNYLQGSAEKDHLMRTIEQLAVFPDKSEVILTRQHAGYPFSENDRTLKNSFAVRGQLTRGVYSDILPNVKTASGINLHPYPDKVFRSETSQLGVYLHSADFKRINPLCTNGSMRADEGKHVLWDAFSIPYTNVLEADGSVRIKGVELFTAIKPQGRDSWACSHITVLESDGKAFTRYEILNDRKVQGPADMSRIKLVTYFACSELIGQAHRYWLEGVSTNPDKHTVAILPDGEQSNDSFRISTPECLGFAVDSEGKILHIYNDSATVDERCLQWTMPRGIDFIRANEKHSGVKAECRLTNPDQYAGLNIVQKDSNRKIYMAKECDFHVIDLRICSVVGNLYWADKAHLINVTSAGQSTIVYYGVPVWKEAKTT\n",
      "str01: M-------------------R----------H--L---------------------------------N-----------I----D---------------I----ETY-------------S--------S-----------------------------------ND--------------------I----K-----N----------------GVY------K---------------------------Y-----AD------------A-----------------E-D---F---EIL---------------L---FA----------Y-----S---------I--DG---------------G-----E------------V-E-CL--------D----------------LT----------------R---------------------------------------------------------\n",
      "str02: M-----E-------------R-----------------RA----------------------------------------------------------------H-------------RT----------------H------Q-----------------------N-------------------------------------------------------------------------------WDA-----T-----------K---------P--R-----------E-------R------RK-Q-----------T---------Q-HR--L----T----H-----PD-----DS--I-------------------Y---------------PR-I------EK-----AE----------G---------RK-----E-D-H----------G-----------------------------------\n",
      "str03: M-----E----P----------G----------------A-----F--ST--AL----------------F-----D---------A----L-------------------C-----------------------D-------------D----IL---H---------R--------R--L------------------------------E-SQL----------R----------------------F-----------G-----GV--------Q---------I-----------------------P--------------------------------P-----------E-----------------V-S---------D-------------PR-------------V-----------YAG------------Y-A---------L--------L---------------------------------\n",
      "str04: M---------------------G-K--------------------F-----Y-----------------------------------Y--------S--------------------NR--------------------R----LAVF------------A-------------------Q---------------A------------------Q------S----R----------------H-L---------------G-----G-------------S------------------YE-------Q--------------------------WL------------A------------------C----V-S-G-------DSA----------------F-RA-E----VKA--R------------VQKD------------------------------------------------------------\n",
      "str05: --F-F---------------R-----E-----------------------------------------N----LA-------F----------Q---------------Q--GK------A------------------R--E----FP--SE-------------E---------A-R-----------------A---N----------S------------------P--T--S-R--E----LW---------V-------R--------------R--------------G---------------G--------------------------------NP-------L-----S---------E----A----G---------A---ER-------RG-------------------T--------------------------------------------------------------------------\n",
      "str06: M--------------------------D---------P----------S----L----------T----------------------------Q--------V------------------------------------------------------------------------------------------------------------------------------------------------W-A-------V-E--GSV------L----------S-A------------A-----------V----D-------T--A--E--------------TN-D--T-------E----------P-------D-EG--L-----SA---E----------------NE---G---E---T----------------R-I----------I--RI------------------T--G-S----------------\n",
      "str07: MAF------------------------D-----------------F--S---------V-----T----G--------------N---T-KL-----------D---T--------------S-------G----------------F--------T-Q--G---------------V---------S---------S---------------------------------------M-----------------T-V--A-------------A----G---------T-L-----------I---------AD-----LV-------------------------K-T-A-------S--S----------------------------------Q------------------------LTN------L-------------A----------------------------------QS----------------\n",
      "str08: MA-V------------------------------------I---L----------------P---------------S-T-------YT--------------D--------G------TA---A-----------------------------------------------------------------------------------------------------------CTNGS----------------P-------D--V----V---------G---------T-----G---T---------------M---------------------W---V--N----T--ILP-G----D-F---------F------------------------WT-P------------SG---E------------------S-------------V---R---V-------------------------------------\n",
      "str09: M------------------N----------T-------------------G----I------------------------I----D-----L-----F-----D-------------N------------------H---------V--D-S--I--------P------T------------------ILP----------H------------QL------A---------T------------L-D-----Y---L-----VR-------T-I------------I-----D-------E--N-R--------S----V-------L--------L------------------------F-------------------HI---------------M--G----------SG----------------------------------------------------------------------------------\n",
      "str10: M-FVFL--VLLPLVSSQCVN--------L---------R--TR------T------------QL--------P-----P-------AYT------NSFTRG-V-----Y------------------Y--------------------PDK--V----------F----R----S------------S-----V-------LH--------S----------------------------------------------------------------------------------------------------------------------------------------------------------------------------------------------------------------------------------------------------------------------------------------------\n",
      "str11: M--------------------------D-------S-----------------------------K---------------E------T------------I----"
     ]
    },
    {
     "name": "stdout",
     "output_type": "stream",
     "text": [
      "----------L------------------------IE-----------I----------------------------------I-P--K----I-------K---S-------YL----------L--------D--------------TN---------I---------------S-----------------------------P------K-------S--------Y-------N-D----------------F-IS---------------------------R---------------N-K-----------N--------I----------------F-VI---------NLY--------NV-S----TI--------------\n",
      "str12: M----L---L----S-------G-K----K-----------------------------------K-----M-L---------L-D---------N------------Y--------------E----------------T----A--------------A---------------A-RG---RG-------------G-------D-----E--------------R----------R--------------------------R--G--------------WA-------------F-------DR----PA----I--VT------------------------K----------------R-----------D---K-------S---D-R-----M--------A---H------------------------------------------------------------------------------------\n",
      "str13: M------------------N--G---E---------------------------E--D------------------D-------N-------EQ-----------A--------------A---A--------E---------Q--------------Q-----------T-K---------------------K-A----------K--R-E-------------K---P------------K----------------------------------Q-----A---------------R-------KV------------T----SE----A---W-E--------H--------------F------------D------------AT-D------------D---------G--AEC---------------K--------------H----------------------------------------------\n",
      "str14: M-----ES-L---V-------PGF-NE--KTHVQLSLP-----VL-QV--------RDVL------VR-GF----GDS-----------V--E-------------E--------VL-----SEA--------------R---Q---------------H-----------LK---------------D---------G--------------T--------------------------------------------------------------------------------------------------------------------------------------------------------------------------------------------------------------------------------------------------------------------------------------------\n",
      "str15: M-------------------R------------------------------Y---I--V-SPQL--V------L-------------------Q--------V---------GK----------------G------------Q--------EV------------E--R------A----L----Y---L----T-------PY-D------------Y--------I-----------DE-K-------S-P------------I----------------------------------Y---------------------YF----L-----R------S-----H----L------N----I-------------------------------Q----R----------------------P------------------------------------------------------------------------\n",
      "str16: M----------P--------R-----------V----P-----V-------Y-----D--SPQ---V----------SP-----N---TV--------------------P------------------Q--A------R----LA----------T------P-S---------FA-----T--------P---T-------------FR------G-----AD--------------A-------------P------A-----------F-----Q--D-------T-------A-------N----Q---------------------QA-R----------------------Q-------------------------------------------------------------------------------------------------------------------------------------------\n",
      "str17: M-FVFL--VLLPLVSSQCVN--------L---------R--TR------T------------QL--------PLA------------YT------NSFTRG-V-----Y------------------Y--------------------PDK--V----------F----R----S------------S-----V-------LH--------S----------------------------------------------------------------------------------------------------------------------------------------------------------------------------------------------------------------------------------------------------------------------------------------------\n",
      "str18: M-FVF------------------F--------V-L-LP------L--VS-----------S-Q------------------------------------------------C---V-N----------L-----------T---------------TR------------T---------QL---------P-----------P-------------------A------------------------------YTN------S--------FT------R--------------G-------------V-------------Y------------Y--------PDK--V------------FR-S----------S-------------V----L----------------HS-----------------------------------------------------------------------------------\n",
      "str19: M-----E--------------------------------AI--------------I----S---------F---AG----I-------------------GI---------------N---------Y------K---------------K----L--Q------S------K--------L---------------------------------Q-----H--DF---------G--R------VL--------------------K------A----------------L-------T---------V------------T--A---------R---------------A-LP-G-Q---------P-----------K--HI----A--------------I---R------------------Q----------------------------------------------------------------------\n",
      "str20: MA-----S------S-------G--------------P----------------E-R-----------------A------E----------------------H----Q----I--------------------------I--L---P---E------------S------------------------------------H-------------L-----S-------------S----------------P----L-----V--K-------------------H--------K-------L---------------L--Y------------YW---------K-----L-------------T----G---------L------------------P--------------------L--PD--------------------ECDF---D----------------HLI------------------------\n",
      "str21: M-----ES-L---V-------PGF-NE--KTHVQLSLP-----VL-QV--------RDVL------VR-GF----GDS-----------V--E-------------E--------VL-----SE----------------------V----------RQH-----------LK---------------D---------G--------------T--------------------------------------------------------------------------------------------------------------------------------------------------------------------------------------------------------------------------------------------------------------------------------------------\n",
      "str22: M----L---------------------------------A---------------------P---------------SP-----N-----------S----------------KI--------------Q-------L---------F-------------------N-----N---------------I--N------I------D---------------------IN------------------------Y----E---------------------------H-T-L---------Y----------------------FA-S-------------VS--------A------Q-N-SF---------FA----------------------QW-----------------V-----------------V--------Y---------------S-------ADKA--I------------------------\n",
      "str23: M------S-------------------------------AIT------------E---------TK------P------TIE-L--------------------------P---------A-------L---AE---------------------------G--F---------------Q--R--Y-----N-KT-------P-------------G-------F-------T---------------------------------------------------C----VL--D-----RY----D---------------------------H-----GV----------I-------NDS-----------------KI---------V----L-------------------------------Y---N-----------------------------------------------------------------\n",
      "str24: M-----------------------KN--------------I-----------A-E---------------F-------------------K----------------------K------AP-E----L---AEK--L------L-------EV----------FS-N---LK------G------------N----S------------RS----L-------D-----P------MRA--GKH---D--------V------V----V-----I----------------ES-----T--------K----------KL---------------------------------------------------------------------------------------------------------------------------------------------------------------------------------\n",
      "str25: M----------P----Q----P------LK---Q-SL--------------------D----Q--------------S------------K---W---------------------L-R----EA--------EK-HL-R-----A---------L----------E-------S------L---V--D--------S--NL----------E-----------"
     ]
    },
    {
     "name": "stdout",
     "output_type": "stream",
     "text": [
      "-----------------E-----------------E-------K---L----KPQ------------L-S---------------------M---------------G-------E------D---V-------QS------------------------------------------------------------------------------------------------------------------------------------------\n",
      "str26: M-FVFL--VLLPLVSSQCVN--------L-----------ITR------T------------Q--------------S---------YT------NSFTRG-V-----Y------------------Y--------------------PDK--V----------F----R----S------------S-----V-------LH--------S-T-Q--------D---------------------------------------------------------------------------------------------------------------------------------------------------------------------------------------------------------------------------------------------------------------------------------\n",
      "str27: M-----------------------K--------------------F-----------DVLS--L------F---A---P---------------W----------A-------K-V-------------------D------EQ--------E---------Y-----D-----------Q----------------------------------QL------------N----N---------------------N-LE---S--I------TA--P------------------K-F-------D-------D----------------G-A---------T-------------E-------I---E-------SE---------------R--------G-D-I------------------------------------------------------------------------------------------\n",
      "str28: M-FVFL--VLLPLVSSQCVN---F------T-------------------------------------N------------------------------R-------T-Q------L----PS-A--Y------------T--------------------------N------SF------TRGVY-----------------YPDKVFRS--S---V-LHS-----------------------------------------------------------------------------------------------------------------------------------------------------------------------------------------------------------------------------------------------------------------------------------\n",
      "str29: M---------------------------------------------------------------------------------------------W-S----I------------IVL-----------------K--L---I---------S--I---Q----P-------L---------L--------L--V-T-S---L-P------------L--Y---------NP---N--M--D----------S---------------------------------C----------------------------------------C--LI-----------S---------------------RI-TPE-L--A----GK-L-------T-------W-----I-FI------------------------------------------------------------------------------------------\n",
      "str30: M-----ES-L---V-------PGF-NE--KTHVQLSLP-----VL-QV--------RDVL------VR-GF----GDS-----------V--E-------------E------------------F--L--S-E-----------A-----------RQH-----------LK---------------D---------G--------------T--------------------------------------------------------------------------------------------------------------------------------------------------------------------------------------------------------------------------------------------------------------------------------------------\n",
      "str31: M-FVFL--VLLPLVSSQCV----------------------------------------------------MPL--------F-N------L---------I-----T-----------T--------------------T--Q-------S----------Y-------T--N-F------TRGVY-----------------YPDKVFRS--S---V-LH---------L--------------------------------------------------------------------------------------------------------------------------------------------------------------------------------------------------------------------------------------------------------------------------\n",
      "str32: M------------------------------H-Q------IT-V---VS-G----------P--T----------------E-------V------S-T------------C-------------F----GS-----L---------------------H---PF---------------Q------S--L---K--------P----V----------------------------M-A----------------N---A----------L-------G----------VLE--GK------------------M--------F-CS--IG--------G-----------------------R-S----L------------------------------------------------------------------------------------------------------------------------------\n",
      "str33: MA----------------------------T---L-L-R---------S----L--------------------A--------L-------------F---------------K----R-------N-------KD--------------K------------P---------------------------P-------I-------------TS--G----S------------G------G------A--I------------R--G------IK----------HI--------------I--------------I--V-----------------------P------I-P-G----DS---S--------------I--------T--------T--R-----------S------R----------------------------------------------------------------------------\n",
      "str34: M-----ES-L---V-------PGF-NE--KTHVQLSLP-----VL-QV--------RDVL------VR-GF----GDS------------------------------------------------------------M---E---------EV-L---------SE---------A-R-Q---------------------H-------------L---------K-------------D-G------------T--------------------------------------------------------------------------------------------------------------------------------------------------------------------------------------------------------------------------------------------------\n",
      "str35: M-FVFL--VLLPLVSSQCVN--------L-T----------T--------G-------------T----------------------------Q----------------------L----P--------------------------P-----------A-Y-------T--NSF------TRGVY-----------------YPDKVFRS--S---V-LHS-----------------------------------------------------------------------------------------------------------------------------------------------------------------------------------------------------------------------------------------------------------------------------------\n",
      "str36: MA-----------------N--------------------I--------------I------------N----L--------------------WN----GIV-------P---------------------------M-------V-----------Q---------D--------V--------------NV--AS-I-------------T---------A-FK---------SM--------------I--------D--------E--T---------W----------D-K-----------K---------I---------E----A----------N----T--------------------C----------I------S-----R-----------------KH-------R--N-------------------------------------------------------------------------\n",
      "str37: M----L-------------NR-------------------I-----Q--T---L-----------------M------------------K-------T------A-----------N--------NY-----E------TIE-----------IL-R---------N------------------Y---L-------------------R-----L--Y--------I-----------------------I-----L-A----R---------------------------------------N----------------------E----------EG-----------------------R-------G--------IL-IY-D----D-----------------N----------------------I---DS-------------V---------------------------------------------\n",
      "str38: MA-------------------------D---------P-A----------G-------------T---NG-----------E----------E-------G------T----G-----------------------------------------------------------------------------------------------------------------------C-NG-----------W--F---Y--V-EA---V----VE-----K-------------------K--T-----------G--D----------A----I-----------S---D--------D-E--N--------E----------------NDS---D------T---G-------E--------------D----L--V--D------------------------------------------------------------\n",
      "str39: M-FVFL--VLLPLVSSQCVN--------L---------R--TR------T------------QL--------P-----P-----------------S-----------Y----------T------N----S---------------F--------TR---G---------------V--------Y-----------------YPDKVFRS--S---V-LHS------------------------------------------------------------"
     ]
    },
    {
     "name": "stdout",
     "output_type": "stream",
     "text": [
      "-----------------------------------------------------------------------------------------------------------------------------------------------------------------------------------------------------------------------\n",
      "str40: M-----ES-L---V-------PGF-NE--KTHVQLSLP-----VL-QV---------------------------------------------------------------C-----------------------D----------V--------L---------------------VRG-----------------------------F-------G------D-----------S--------V-------------E----------E-------------------VL-S--------E----------A---R--------------Q-H---L--------K-------DG----------T----------------------------------------------------------------------------------------------------------------------------------\n",
      "str41: M------------------N-----N-------Q----R--------------------------K------------------------K-------T------A------------R--PS--FN-----------M-----L-----K------R--A--------R---N----R------V-S-------T------------V--S---QL------A--KR----------------------FS---------------KG--L-------------------L-S-G--------------QGP--M---KLV------------------------------------------------------------------------------M--------A----------------------------------------F-----------------------------------------------\n",
      "str42: M------S-----------N---F---D-----------AI-R---------AL----V-----------------D--T-----DAY--KL--------G---H---------I---------------------H-M-----------------------YP--E------------G--T-----------------------------E------Y-------------------------VL----S----N---------------FT-------D------------------R----------G----SRI---------E--G---------V-T----HTV--------------------------------H------------------------------------------------------------------------------------------------------------------\n",
      "str43: M---------------------------------------I-------------E----L-------R------------------------------------H-E--------V-------------QG----D-L--------V---------T--------------------------------I--NV--------------V---ET----------------P----------E------D---------L--DG---------F-------RD----------------F----I---R-----A--------------------H---L-------------I-----------------CL--AVD-------------T--E-----T-----------------------T------GL-----D----IY------------------------------------------------------\n",
      "str44: M-FVFL--VLLPLVSSQCV----------------------------------------------------MPL--------F-N------L---------I-----T-----------T------N--Q-S------------------------------Y-------T--NSF------TRGVY-----------------YPDKVFRS--S---V-LH------------------------------------------------------------------------------------------------------------------------------------------------------------------------------------------------------------------------------------------------------------------------------------\n",
      "str45: M------S----------------K--DL---V------A--R---Q-----AL-----------------M-------T------A------------R--------------------------------------M-----------K---------A-------D------F-V-------------------------------F---------------F-----L------------------F------VL------------------------W------------KA------L-----------S---L------------------------P----V---P------------T--------------------------RC-Q------ID--------------------------------------MAK----------------------K--L----SAG------------------\n",
      "str46: MA-----S-LL-------------K----------SL----T--LF-------------------K-R-----------T-------------------R---D-----QP----------P------L---A------------------S---------G---S-------------G----G-----------A--I----------R------G----------I--------------KHV------I-------------I--V-L---I-P-G-DS---S-I-V--------TR---------------SR------------------------------------------------------------------------------------------------------------------------------------------------------------------------------------\n",
      "str47: M-------------------R-----------V-----R-----------G----I---L-------RN-------------------------W--------------Q-------------------Q---------------------------------------------------------------------------------------------------------------------W-----------------------------------W----I------------------------------------------------W-----T---------------S-----------LGF------------------------W-M-----F-------------------------------------M--------I----CSVVGNL-W--------VT-------VYYGVPVWKEAKTT\n",
      "str48: MA-V--E----P-----------F-------------PR---R------------------P------------------I-------T----------R----------P-------------------------H--------A-----S--I-----------E----------V----------D------T-SGI-----------------G-----------------GS--A--G--------S-----------S------E-----K-------------V-------F---------------------------C--LIGQA-----EG---------------GE----------P-----------------N---TV----------------------------------------------------------------------------------------------------------\n",
      "str49: M-F------------------------------------------------YA---------------------------------------------------HA-------------------F----G------------------------------GY-----D-------------------------------------------E----------------N-L------------H----AF--P--------G---I---------------S---S--TV------A-------ND--V-------R-K---Y---S-------------V--------V--------S---------------V---------YN-------------------------K----K----------Y---NIV-K--N-K-YM---------------------W-------------------------------\n",
      "str50: MA-----------------N-------------------------------Y--------S----K------P---------FL-------L-----------D----------IV---------FN-------KD-----I--------K---------------------------------------------------------------------------------C-------------------I---N----D-S---------------------CSH-----SD-------------------------------C--------RY---------------------QSN-S----------------------Y-----V-E--L-----R-----R-N----------------Q-A-LN---K--N---------------L------------------------------------------\n",
      "\n",
      "solution is feasible: True\n"
     ]
    }
   ],
   "source": [
    "_instance = instance_09\n",
    "_solution = solution_09\n",
    "\n",
    "util.show(_instance)\n",
    "if _solution is not None:\n",
    "    util.show(_instance, _solution)\n",
    "    print(f\"solution is feasible: {util.is_feasible(_instance, _solution)}\")\n",
    "else:\n",
    "    print(\"--- Solution not found ---\")"
   ]
  }
 ],
 "metadata": {},
 "nbformat": 4,
 "nbformat_minor": 5
}
