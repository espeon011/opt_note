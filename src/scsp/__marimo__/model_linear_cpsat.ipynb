{
 "cells": [
  {
   "cell_type": "code",
   "execution_count": null,
   "id": "setup",
   "metadata": {
    "marimo": {
     "name": "setup"
    }
   },
   "outputs": [],
   "source": [
    "from ortools.sat.python import cp_model"
   ]
  },
  {
   "cell_type": "code",
   "execution_count": null,
   "id": "Hbol",
   "metadata": {},
   "outputs": [],
   "source": [
    "import marimo as mo\n",
    "import nbformat\n",
    "import util"
   ]
  },
  {
   "cell_type": "markdown",
   "id": "MJUe",
   "metadata": {
    "marimo": {
     "config": {
      "hide_code": true
     }
    }
   },
   "source": [
    "# MILP 定式化 (CP-SAT)"
   ]
  },
  {
   "cell_type": "markdown",
   "id": "vblA",
   "metadata": {
    "marimo": {
     "config": {
      "hide_code": true
     }
    }
   },
   "source": [
    "数理最適化モデルを用いて SCSP を解く.\n",
    "定式化については SCIP 版を参照."
   ]
  },
  {
   "cell_type": "code",
   "execution_count": null,
   "id": "bkHC",
   "metadata": {
    "marimo": {
     "name": "*Model"
    }
   },
   "outputs": [],
   "source": [
    "class Model:\n",
    "    def __init__(self, instance: list[str]):\n",
    "        max_len = sum(len(s) for s in instance)\n",
    "\n",
    "        cpmodel = cp_model.CpModel()\n",
    "\n",
    "        seqs = [\n",
    "            [\n",
    "                cpmodel.new_int_var(0, max_len - 1, \"\")\n",
    "                for c in s\n",
    "            ]\n",
    "            for s in instance\n",
    "        ]\n",
    "\n",
    "        for seq in seqs:\n",
    "            for idx, _ in enumerate(seq):\n",
    "                if idx == 0:\n",
    "                    continue\n",
    "                cpmodel.add(seq[idx - 1] < seq[idx])\n",
    "\n",
    "        for idx1, (s1, seq1) in enumerate(zip(instance, seqs)):\n",
    "            for idx2, (s2, seq2) in enumerate(zip(instance, seqs)):\n",
    "                if idx1 >= idx2:\n",
    "                    continue\n",
    "                for cidx1, (c1, cvar1) in enumerate(zip(s1, seq1)):\n",
    "                    for cidx2, (c2, cvar2) in enumerate(zip(s2, seq2)):\n",
    "                        if c1 != c2:\n",
    "                            cpmodel.add(cvar1 != cvar2)\n",
    "\n",
    "        obj = cpmodel.new_int_var(0, max_len, \"\")\n",
    "        cpmodel.add_max_equality(obj, [seq[-1] for seq in seqs])\n",
    "        cpmodel.minimize(obj)\n",
    "\n",
    "        self.instance = instance\n",
    "        self.cpmodel = cpmodel\n",
    "        self.cpsolver = cp_model.CpSolver()\n",
    "        self.seqs = seqs\n",
    "        self.status = None\n",
    "\n",
    "    def solve(self, time_limit: int | None = 60) -> \"Model\":\n",
    "        self.cpsolver.parameters.log_search_progress = True\n",
    "        if time_limit is not None:\n",
    "            self.cpsolver.parameters.max_time_in_seconds = time_limit\n",
    "        self.status = self.cpsolver.solve(self.cpmodel)\n",
    "\n",
    "        return self\n",
    "\n",
    "    def to_solution(self) -> str | None:\n",
    "        if self.status not in {cp_model.cp_model_pb2.OPTIMAL, cp_model.cp_model_pb2.FEASIBLE}:\n",
    "            return None\n",
    "\n",
    "        objval = int(self.cpsolver.objective_value)\n",
    "        sol_char_idx = 0\n",
    "        solution = \"\"\n",
    "        while sol_char_idx <= objval:\n",
    "            found = False\n",
    "            for idx, (s, seq) in enumerate(zip(self.instance, self.seqs)):\n",
    "                for c_idx, cvar in enumerate(seq):\n",
    "                    if self.cpsolver.value(cvar) == sol_char_idx:\n",
    "                        solution += s[c_idx]\n",
    "                        found = True\n",
    "                        sol_char_idx += 1\n",
    "                if found:\n",
    "                    break\n",
    "            if not found:\n",
    "                sol_char_idx += 1\n",
    "\n",
    "        return solution"
   ]
  },
  {
   "cell_type": "code",
   "execution_count": null,
   "id": "lEQa",
   "metadata": {
    "marimo": {
     "name": "*solve"
    }
   },
   "outputs": [],
   "source": [
    "def solve(instance: list[str], time_limit: int | None = 60) -> str | None:\n",
    "    return Model(instance).solve(time_limit).to_solution()"
   ]
  },
  {
   "cell_type": "code",
   "execution_count": null,
   "id": "PKri",
   "metadata": {},
   "outputs": [
    {
     "name": "stdout",
     "output_type": "stream",
     "text": [
      "\n",
      "Starting CP-SAT solver v9.14.6206\n",
      "Parameters: max_time_in_seconds: 60 log_search_progress: true\n",
      "Setting number of workers to 12\n",
      "\n",
      "Initial optimization model '': (model_fingerprint: 0xc79980cb1af75797)\n",
      "#Variables: 85 (#ints: 1 in objective) (84 primary variables)\n",
      "  - 84 in [0,83]\n",
      "  - 1 in [0,84]\n",
      "#kLinMax: 1 (#expressions: 4)\n",
      "#kLinear2: 2'607 (#complex_domain: 2'527)\n",
      "\n",
      "Starting presolve at 0.00s\n"
     ]
    },
    {
     "name": "stdout",
     "output_type": "stream",
     "text": [
      "  1.84e-04s  0.00e+00d  [DetectDominanceRelations] \n",
      "  3.84e-02s  0.00e+00d  [PresolveToFixPoint] #num_loops=25 #num_dual_strengthening=1 \n",
      "  2.03e-04s  0.00e+00d  [ExtractEncodingFromLinear] \n",
      "  1.85e-04s  0.00e+00d  [DetectDuplicateColumns] \n",
      "  4.32e-05s  0.00e+00d  [DetectDuplicateConstraints] \n",
      "[Symmetry] Graph for symmetry has 2'780 nodes and 5'306 arcs.\n",
      "[Symmetry] Symmetry computation done. time: 0.000288547 dtime: 0.00039434\n"
     ]
    },
    {
     "name": "stdout",
     "output_type": "stream",
     "text": [
      "  5.18e-05s  0.00e+00d  [DetectDuplicateConstraintsWithDifferentEnforcements] \n",
      "  1.74e-01s  5.43e-02d  [Probe] #probed=10'108 #new_binary_clauses=554 \n",
      "  5.69e-06s  0.00e+00d  [MaxClique] \n",
      "  1.63e-04s  0.00e+00d  [DetectDominanceRelations] \n",
      "  3.01e-03s  0.00e+00d  [PresolveToFixPoint] #num_loops=1 #num_dual_strengthening=1 \n",
      "  2.93e-04s  0.00e+00d  [ProcessAtMostOneAndLinear] \n",
      "  4.32e-05s  0.00e+00d  [DetectDuplicateConstraints] \n",
      "  4.59e-05s  0.00e+00d  [DetectDuplicateConstraintsWithDifferentEnforcements] \n",
      "  3.01e-04s  1.89e-05d  [DetectDominatedLinearConstraints] #relevant_constraints=2'611 \n"
     ]
    },
    {
     "name": "stdout",
     "output_type": "stream",
     "text": [
      "  1.07e-03s  0.00e+00d  [DetectDifferentVariables] #different=2'607 #cliques=71 #size=547 \n",
      "  1.05e-05s  0.00e+00d  [ProcessSetPPC] \n",
      "  9.46e-06s  0.00e+00d  [FindAlmostIdenticalLinearConstraints] \n",
      "  2.65e-06s  0.00e+00d  [FindBigAtMostOneAndLinearOverlap] \n",
      "  3.13e-04s  1.33e-04d  [FindBigVerticalLinearOverlap] \n",
      "  7.63e-06s  0.00e+00d  [FindBigHorizontalLinearOverlap] \n",
      "  5.19e-06s  0.00e+00d  [MergeClauses] \n",
      "  1.75e-04s  0.00e+00d  [DetectDominanceRelations] \n",
      "  2.69e-03s  0.00e+00d  [PresolveToFixPoint] #num_loops=1 #num_dual_strengthening=1 \n",
      "  1.70e-04s  0.00e+00d  [DetectDominanceRelations] \n",
      "  2.67e-03s  0.00e+00d  [PresolveToFixPoint] #num_loops=1 #num_dual_strengthening=1 \n",
      "  5.62e-05s  0.00e+00d  [DetectDuplicateColumns] \n",
      "  7.75e-05s  0.00e+00d  [DetectDuplicateConstraints] \n",
      "[Symmetry] Graph for symmetry has 2'935 nodes and 5'937 arcs.\n",
      "[Symmetry] Symmetry computation done. time: 0.000193938 dtime: 0.00043999\n"
     ]
    },
    {
     "name": "stdout",
     "output_type": "stream",
     "text": [
      "  1.09e-04s  0.00e+00d  [DetectDuplicateConstraintsWithDifferentEnforcements] \n",
      "  2.35e-01s  5.79e-02d  [Probe] #probed=10'108 #new_binary_clauses=554 \n",
      "  9.10e-06s  0.00e+00d  [MaxClique] \n",
      "  1.80e-04s  0.00e+00d  [DetectDominanceRelations] \n",
      "  2.77e-03s  0.00e+00d  [PresolveToFixPoint] #num_loops=1 #num_dual_strengthening=1 \n",
      "  2.92e-04s  0.00e+00d  [ProcessAtMostOneAndLinear] \n",
      "  8.26e-05s  0.00e+00d  [DetectDuplicateConstraints] \n",
      "  7.71e-05s  0.00e+00d  [DetectDuplicateConstraintsWithDifferentEnforcements] \n",
      "  3.05e-04s  1.89e-05d  [DetectDominatedLinearConstraints] #relevant_constraints=2'611 \n",
      "  3.15e-04s  0.00e+00d  [DetectDifferentVariables] \n",
      "  9.39e-06s  0.00e+00d  [ProcessSetPPC] \n",
      "  9.18e-06s  0.00e+00d  [FindAlmostIdenticalLinearConstraints] \n",
      "  2.69e-06s  0.00e+00d  [FindBigAtMostOneAndLinearOverlap] \n",
      "  3.11e-04s  1.33e-04d  [FindBigVerticalLinearOverlap] \n",
      "  6.90e-06s  0.00e+00d  [FindBigHorizontalLinearOverlap] \n",
      "  5.40e-06s  0.00e+00d  [MergeClauses] \n",
      "  1.72e-04s  0.00e+00d  [DetectDominanceRelations] \n",
      "  2.72e-03s  0.00e+00d  [PresolveToFixPoint] #num_loops=1 #num_dual_strengthening=1 \n",
      "  1.33e-05s  0.00e+00d  [ExpandObjective] \n",
      "\n",
      "Presolve summary:\n",
      "  - 0 affine relations were detected.\n",
      "  - rule 'TODO dual: only one unspecified blocking constraint?' was applied 6 times.\n",
      "  - rule 'all_diff: inferred from x != y constraints' was applied 71 times.\n",
      "  - rule 'lin_max: rewrite with precedences' was applied 1 time.\n",
      "  - rule 'lin_max: target domain reduced' was applied 1 time.\n",
      "  - rule 'linear: expanded complex rhs' was applied 2'527 times.\n",
      "  - rule 'linear: reduced variable domains' was applied 856 times.\n",
      "  - rule 'new_bool: complex linear expansion' was applied 2'527 times.\n",
      "  - rule 'presolve: 0 unused variables removed.' was applied 1 time.\n",
      "  - rule 'presolve: iteration' was applied 2 times.\n",
      "\n"
     ]
    },
    {
     "name": "stdout",
     "output_type": "stream",
     "text": [
      "Presolved optimization model '': (model_fingerprint: 0x445bc6169e986698)\n",
      "#Variables: 2'612 (#ints: 1 in objective) (2'611 primary variables)\n",
      "  - 2'527 Booleans in [0,1]\n",
      "  - 1 in [0,59]\n",
      "  - 2 in [0,63]\n",
      "  - 1 in [0,67]\n",
      "  - 1 in [1,60]\n",
      "  - 2 in [1,64]\n",
      "  - 1 in [1,68]\n",
      "  - 1 in [2,61]\n",
      "  - 2 in [2,65]\n",
      "  - 1 in [2,69]\n",
      "  - 1 in [3,62]\n",
      "  - 2 in [3,66]\n",
      "  - 1 in [3,70]\n",
      "  - 1 in [4,63]\n",
      "  - 2 in [4,67]\n",
      "  - 1 in [4,71]\n",
      "  - 1 in [5,64]\n",
      "  - 2 in [5,68]\n",
      "  - 1 in [5,72]\n",
      "  - 1 in [6,65]\n",
      "  - 2 in [6,69]\n",
      "  - 1 in [6,73]\n",
      "  - 1 in [7,66]\n",
      "  - 2 in [7,70]\n",
      "  - 1 in [7,74]\n",
      "  - 1 in [8,67]\n",
      "  - 2 in [8,71]\n",
      "  - 1 in [8,75]\n",
      "  - 1 in [9,68]\n",
      "  - 2 in [9,72]\n",
      "  - 1 in [9,76]\n",
      "  - 1 in [10,69]\n",
      "  - 2 in [10,73]\n",
      "  - 1 in [10,77]\n",
      "  - 1 in [11,70]\n",
      "  - 2 in [11,74]\n",
      "  - 1 in [11,78]\n",
      "  - 1 in [12,71]\n",
      "  - 2 in [12,75]\n",
      "  - 1 in [12,79]\n",
      "  - 1 in [13,72]\n",
      "  - 2 in [13,76]\n",
      "  - 1 in [13,80]\n",
      "  - 1 in [14,73]\n",
      "  - 2 in [14,77]\n",
      "  - 1 in [14,81]\n",
      "  - 1 in [15,74]\n",
      "  - 2 in [15,78]\n",
      "  - 1 in [15,82]\n",
      "  - 1 in [16,75]\n",
      "  - 2 in [16,79]\n",
      "  - 1 in [16,83]\n",
      "  - 1 in [17,76]\n",
      "  - 2 in [17,80]\n",
      "  - 1 in [18,77]\n",
      "  - 2 in [18,81]\n",
      "  - 1 in [19,78]\n",
      "  - 2 in [19,82]\n",
      "  - 1 in [20,79]\n",
      "  - 2 in [20,83]\n",
      "  - 1 in [21,80]\n",
      "  - 1 in [22,81]\n",
      "  - 1 in [23,82]\n",
      "  - 2 in [24,83]\n",
      "#kAllDiff: 71\n",
      "#kLinear2: 5'138 (#enforced: 5'054)\n",
      "[Symmetry] Graph for symmetry has 10'516 nodes and 18'572 arcs.\n",
      "[Symmetry] Symmetry computation done. time: 0.00125523 dtime: 0.00222849\n",
      "\n",
      "Preloading model.\n",
      "#Bound   0.49s best:inf   next:[24,83]    initial_domain\n",
      "#Model   0.49s var:2612/2612 constraints:5209/5209\n",
      "\n",
      "Starting search at 0.49s with 12 workers.\n",
      "8 full problem subsolvers: [default_lp, lb_tree_search, max_lp, no_lp, pseudo_costs, quick_restart, quick_restart_no_lp, reduced_costs]\n",
      "4 first solution subsolvers: [fj(2), fs_random, fs_random_no_lp]\n",
      "10 interleaved subsolvers: [feasibility_pump, graph_arc_lns, graph_cst_lns, graph_dec_lns, graph_var_lns, ls, ls_lin, rins/rens, rnd_cst_lns, rnd_var_lns]\n",
      "3 helper subsolvers: [neighborhood_helper, synchronization_agent, update_gap_integral]\n",
      "\n"
     ]
    },
    {
     "name": "stdout",
     "output_type": "stream",
     "text": [
      "#1       0.73s best:83    next:[24,82]    quick_restart_no_lp\n"
     ]
    },
    {
     "name": "stdout",
     "output_type": "stream",
     "text": [
      "#2       0.83s best:82    next:[24,81]    ls_restart_decay(batch:1 lin{mvs:294 evals:1'074} #w_updates:222 #perturb:0)\n",
      "#3       0.83s best:81    next:[24,80]    ls_lin_restart_perturb(batch:1 lin{mvs:234 evals:1'017} #w_updates:211 #perturb:0)\n",
      "#4       0.84s best:79    next:[24,78]    graph_var_lns (d=5.00e-01 s=27 t=0.10 p=0.00 stall=0 h=base)\n"
     ]
    },
    {
     "name": "stdout",
     "output_type": "stream",
     "text": [
      "#5       0.93s best:78    next:[24,77]    graph_var_lns (d=7.07e-01 s=35 t=0.10 p=1.00 stall=0 h=base)\n"
     ]
    },
    {
     "name": "stdout",
     "output_type": "stream",
     "text": [
      "#6       1.00s best:77    next:[24,76]    ls_restart(batch:1 lin{mvs:764 evals:4'481} #w_updates:320 #perturb:0)\n"
     ]
    },
    {
     "name": "stdout",
     "output_type": "stream",
     "text": [
      "#7       1.06s best:76    next:[24,75]    ls_restart_perturb(batch:1 lin{mvs:2'170 evals:10'273} #w_updates:1'600 #perturb:0)\n"
     ]
    },
    {
     "name": "stdout",
     "output_type": "stream",
     "text": [
      "#8       1.21s best:75    next:[24,74]    ls_restart_decay(batch:1 lin{mvs:4'130 evals:18'637} #w_updates:878 #perturb:0)\n",
      "#9       1.21s best:74    next:[24,73]    ls_lin_restart_decay(batch:1 lin{mvs:33 evals:127} #w_updates:27 #perturb:0)\n",
      "#Bound   1.21s best:74    next:[25,73]    reduced_costs\n"
     ]
    },
    {
     "name": "stdout",
     "output_type": "stream",
     "text": [
      "#Bound   1.72s best:74    next:[26,73]    reduced_costs\n"
     ]
    },
    {
     "name": "stdout",
     "output_type": "stream",
     "text": [
      "#10      1.83s best:73    next:[26,72]    rnd_cst_lns (d=8.14e-01 s=51 t=0.10 p=1.00 stall=1 h=base)\n"
     ]
    },
    {
     "name": "stdout",
     "output_type": "stream",
     "text": [
      "#Bound   2.05s best:73    next:[27,72]    reduced_costs\n"
     ]
    },
    {
     "name": "stdout",
     "output_type": "stream",
     "text": [
      "#Bound   2.52s best:73    next:[28,72]    reduced_costs\n"
     ]
    },
    {
     "name": "stdout",
     "output_type": "stream",
     "text": [
      "#11      3.18s best:72    next:[28,71]    rnd_var_lns (d=9.16e-01 s=76 t=0.10 p=0.83 stall=0 h=base)\n"
     ]
    },
    {
     "name": "stdout",
     "output_type": "stream",
     "text": [
      "#12      4.20s best:71    next:[28,70]    ls_restart(batch:1 lin{mvs:3'065 evals:14'570} #w_updates:1'914 #perturb:0)\n",
      "#13      4.21s best:70    next:[28,69]    ls_lin_restart_decay_perturb(batch:1 lin{mvs:433 evals:1'767} #w_updates:177 #perturb:0)\n"
     ]
    },
    {
     "name": "stdout",
     "output_type": "stream",
     "text": [
      "#Bound   5.18s best:70    next:[29,69]    reduced_costs\n"
     ]
    },
    {
     "name": "stdout",
     "output_type": "stream",
     "text": [
      "#14      5.20s best:69    next:[29,68]    ls_restart(batch:1 lin{mvs:5'158 evals:25'355} #w_updates:3'340 #perturb:0)\n"
     ]
    },
    {
     "name": "stdout",
     "output_type": "stream",
     "text": [
      "#15      6.11s best:68    next:[29,67]    rnd_var_lns (d=9.60e-01 s=142 t=0.10 p=0.77 stall=0 h=base)\n"
     ]
    },
    {
     "name": "stdout",
     "output_type": "stream",
     "text": [
      "#16      6.81s best:67    next:[29,66]    rins_pump_lns (d=5.29e-01 s=151 t=0.10 p=0.43 stall=0 h=base)\n"
     ]
    },
    {
     "name": "stdout",
     "output_type": "stream",
     "text": [
      "#17      7.86s best:65    next:[29,64]    graph_var_lns (d=5.29e-01 s=179 t=0.10 p=0.43 stall=0 h=base)\n"
     ]
    },
    {
     "name": "stdout",
     "output_type": "stream",
     "text": [
      "#Bound  23.39s best:65    next:[30,64]    reduced_costs\n"
     ]
    },
    {
     "name": "stdout",
     "output_type": "stream",
     "text": [
      "#18     55.06s best:64    next:[30,63]    graph_var_lns (d=7.11e-01 s=1211 t=0.10 p=0.51 stall=0 h=base)\n"
     ]
    },
    {
     "name": "stdout",
     "output_type": "stream",
     "text": [
      "\n",
      "Task timing                      n [     min,      max]      avg      dev     time         n [     min,      max]      avg      dev    dtime\n",
      "           'default_lp':         1 [  59.51s,   59.51s]   59.51s   0.00ns   59.51s         1 [  13.75s,   13.75s]   13.75s   0.00ns   13.75s\n",
      "     'feasibility_pump':       270 [ 10.22us,   7.13ms]  99.73us 430.88us  26.93ms       267 [ 11.64us,  64.63us]  11.84us   3.24us   3.16ms\n",
      "                   'fj':         4 [ 60.15ms,  68.36ms]  64.55ms   3.19ms 258.22ms         4 [100.13ms, 101.21ms] 100.44ms 444.66us 401.75ms\n",
      "                   'fj':         4 [ 61.23ms,  67.21ms]  65.03ms   2.29ms 260.13ms         4 [100.13ms, 101.14ms] 100.62ms 381.18us 402.49ms\n",
      "            'fs_random':         1 [238.35ms, 238.35ms] 238.35ms   0.00ns 238.35ms         1 [  1.41ms,   1.41ms]   1.41ms   0.00ns   1.41ms\n",
      "      'fs_random_no_lp':         1 [238.12ms, 238.12ms] 238.12ms   0.00ns 238.12ms         1 [  1.33ms,   1.33ms]   1.33ms   0.00ns   1.33ms\n",
      "        'graph_arc_lns':        61 [ 98.56ms, 737.27ms] 463.76ms 208.91ms   28.29s        61 [199.64us, 100.07ms]  60.62ms  42.18ms    3.70s\n",
      "        'graph_cst_lns':        67 [ 56.30ms, 704.01ms] 409.90ms 223.01ms   27.46s        66 [493.85us, 100.14ms]  53.94ms  46.17ms    3.56s\n",
      "        'graph_dec_lns':        70 [ 12.20ms, 784.23ms] 409.01ms 250.65ms   28.63s        68 [ 17.67us, 100.07ms]  56.34ms  46.47ms    3.83s\n",
      "        'graph_var_lns':        61 [ 95.00ms, 755.22ms] 448.29ms 237.00ms   27.35s        61 [510.13us, 100.07ms]  58.76ms  44.76ms    3.58s\n",
      "       'lb_tree_search':         1 [  59.51s,   59.51s]   59.51s   0.00ns   59.51s         1 [  34.06s,   34.06s]   34.06s   0.00ns   34.06s\n",
      "                   'ls':       270 [  7.10ms, 112.15ms]  77.41ms   8.51ms   20.90s       270 [  5.75ms, 100.69ms]  98.91ms   8.99ms   26.71s\n",
      "               'ls_lin':       270 [  1.10ms, 101.44ms]  76.53ms   9.56ms   20.66s       270 [586.65us, 100.99ms]  98.77ms  11.00ms   26.67s\n",
      "               'max_lp':         1 [  59.51s,   59.51s]   59.51s   0.00ns   59.51s         1 [  13.41s,   13.41s]   13.41s   0.00ns   13.41s\n",
      "                'no_lp':         1 [  59.50s,   59.50s]   59.50s   0.00ns   59.50s         1 [  15.27s,   15.27s]   15.27s   0.00ns   15.27s\n",
      "         'pseudo_costs':         1 [  59.51s,   59.51s]   59.51s   0.00ns   59.51s         1 [  13.42s,   13.42s]   13.42s   0.00ns   13.42s\n",
      "        'quick_restart':         1 [  59.51s,   59.51s]   59.51s   0.00ns   59.51s         1 [  10.84s,   10.84s]   10.84s   0.00ns   10.84s\n",
      "  'quick_restart_no_lp':         1 [  59.51s,   59.51s]   59.51s   0.00ns   59.51s         1 [  11.69s,   11.69s]   11.69s   0.00ns   11.69s\n",
      "        'reduced_costs':         1 [  59.51s,   59.51s]   59.51s   0.00ns   59.51s         1 [  15.73s,   15.73s]   15.73s   0.00ns   15.73s\n",
      "            'rins/rens':        96 [140.97us, 727.81ms] 295.57ms 278.63ms   28.38s        68 [ 74.86us, 100.19ms]  72.47ms  41.12ms    4.93s\n",
      "          'rnd_cst_lns':        64 [ 65.68ms, 775.52ms] 434.84ms 218.78ms   27.83s        63 [  1.07ms, 100.10ms]  58.43ms  43.92ms    3.68s\n",
      "          'rnd_var_lns':        83 [785.39us, 778.45ms] 328.29ms 262.47ms   27.25s        73 [ 10.00ns, 100.12ms]  52.61ms  46.79ms    3.84s\n",
      "\n",
      "Search stats              Bools  Conflicts  Branches  Restarts  BoolPropag  IntegerPropag\n",
      "           'default_lp':  2'527    252'059   522'305    17'596  14'798'224     22'551'131\n",
      "            'fs_random':  2'527         50     5'232     5'074         793         80'808\n",
      "      'fs_random_no_lp':  2'527          0     5'930     5'054       1'945         80'022\n",
      "       'lb_tree_search':  2'527        197   123'645    22'747   1'261'160      3'347'200\n",
      "               'max_lp':  2'527     26'569   176'068    23'103  11'189'533     18'245'831\n",
      "                'no_lp':  2'527    320'166   706'569    18'293  19'721'370     22'957'778\n",
      "         'pseudo_costs':  2'527     57'334   115'082    13'477   2'970'698      7'998'014\n",
      "        'quick_restart':  2'527     46'931   753'814    25'562  23'158'164     16'042'233\n",
      "  'quick_restart_no_lp':  2'527     51'174   810'279    25'723  24'759'409     17'208'804\n",
      "        'reduced_costs':  2'534     23'912   159'807    30'363  17'063'511     23'988'262\n",
      "\n",
      "SAT stats                 ClassicMinim  LitRemoved  LitLearned  LitForgotten  Subsumed  MClauses  MDecisions  MLitTrue  MSubsumed  MLitRemoved  MReused\n",
      "           'default_lp':        95'472     137'388   7'984'647     7'126'931    16'587     2'110       3'250         0         15           73    1'029\n",
      "            'fs_random':             0           0         100             0         0         0           0         0          0            0        0\n",
      "      'fs_random_no_lp':             0           0           0             0         0         0           0         0          0            0        0\n",
      "       'lb_tree_search':             0           0         515             0         0        70         150         0         12           48        0\n",
      "               'max_lp':        10'130      14'533     290'884       119'640     1'199     6'714      30'493         0      1'614       10'514    2'996\n",
      "                'no_lp':       112'753     148'435  10'843'115     9'988'034    14'217     1'943       2'793         0         16           76    1'146\n",
      "         'pseudo_costs':        22'873      37'351     904'672       633'031     3'239       256       1'252         0         10           93      119\n",
      "        'quick_restart':        19'027      25'905     468'532       134'502       879     8'373      25'155         0      2'267       14'029    2'422\n",
      "  'quick_restart_no_lp':        21'309      29'553     509'100       136'932     1'006     8'201      25'634         0      2'418       14'904    2'377\n",
      "        'reduced_costs':        18'428      45'490     180'506        15'349     1'017    12'196      46'430         0      4'370       25'399    3'706\n",
      "\n",
      "Lp stats             Component  Iterations  AddedCuts  OPTIMAL  DUAL_F.  DUAL_U.\n",
      "      'default_lp':          1           0          0  252'543        0        0\n",
      "       'fs_random':          1           0          0       10        0        0\n",
      "  'lb_tree_search':          1     369'928     59'225      285   34'790        0\n",
      "          'max_lp':          1     369'269     25'052   13'341   30'487        0\n",
      "    'pseudo_costs':          1     682'243     15'997   18'580   59'054        0\n",
      "   'quick_restart':          1           0          0  280'473        0        0\n",
      "   'reduced_costs':          1     307'247     44'225       66   29'353        0\n",
      "\n",
      "Lp dimension             Final dimension of first component\n",
      "      'default_lp':           0 rows, 85 columns, 0 entries\n",
      "       'fs_random':           0 rows, 85 columns, 0 entries\n",
      "  'lb_tree_search':  4964 rows, 2612 columns, 16396 entries\n",
      "          'max_lp':    456 rows, 2612 columns, 1287 entries\n",
      "    'pseudo_costs':     364 rows, 2612 columns, 968 entries\n",
      "   'quick_restart':           0 rows, 85 columns, 0 entries\n",
      "   'reduced_costs':   2930 rows, 2612 columns, 8130 entries\n",
      "\n",
      "Lp debug             CutPropag  CutEqPropag  Adjust  Overflow     Bad  BadScaling\n",
      "      'default_lp':          0            0       0         0       0           0\n",
      "       'fs_random':          0            0       0         0       0           0\n",
      "  'lb_tree_search':          0           69       0         0  43'142           0\n",
      "          'max_lp':          0           62       0         0   7'124           0\n",
      "    'pseudo_costs':          0            0       0         0   2'856           0\n",
      "   'quick_restart':          0            0       0         0       0           0\n",
      "   'reduced_costs':          0            0       0         0  10'642           0\n",
      "\n",
      "Lp pool              Constraints  Updates  Simplif  Merged  Shortened  Split  Strenghtened      Cuts/Call\n",
      "      'default_lp':           84        0        0       0          0      0             0            0/0\n",
      "       'fs_random':           84        0        0       0          0      0             0            0/0\n",
      "  'lb_tree_search':       10'683    6'905   41'096   3'680          0    739        49'094  59'225/99'707\n",
      "          'max_lp':       11'874    3'757   30'573   2'316          0    497        33'690  25'052/55'410\n",
      "    'pseudo_costs':       14'283    2'845   20'597     852          0      6        23'092  15'997/33'582\n",
      "   'quick_restart':           84        0        0       0          0      0             0            0/0\n",
      "   'reduced_costs':       13'019    7'624   51'392   4'344          0     11        57'672  44'225/72'342\n",
      "\n",
      "Lp Cut            reduced_costs  pseudo_costs  max_lp  lb_tree_search\n",
      "     AllDiff_aa:              2             2      29              29\n",
      "     AllDiff_ae:              -             -      11              11\n",
      "     AllDiff_ea:              3             6      16              15\n",
      "     AllDiff_ee:              4             4       7               7\n",
      "          CG_FF:             79            44      58             102\n",
      "           CG_K:             82            34      48             100\n",
      "           CG_R:             28            22      37              40\n",
      "          CG_RB:            179            56      94             300\n",
      "         CG_RBP:             59             4      37             120\n",
      "         Clique:            100            38      67             260\n",
      "             IB:          1'469         2'184   3'195           3'559\n",
      "       MIR_1_FF:          5'624         2'446   3'782           4'749\n",
      "        MIR_1_K:          4'956           985   1'832           4'721\n",
      "       MIR_1_KL:              -             -      11               -\n",
      "        MIR_1_R:          2'100           132      94             718\n",
      "       MIR_1_RB:          7'806         2'035   3'867          12'114\n",
      "      MIR_1_RBP:          3'989         1'072   1'311           5'762\n",
      "       MIR_2_FF:          1'062           407     311             767\n",
      "        MIR_2_K:            400            44     100             432\n",
      "       MIR_2_KL:              -             -       2               -\n",
      "        MIR_2_R:             97            12      33             193\n",
      "       MIR_2_RB:          1'493           357     216           2'033\n",
      "      MIR_2_RBP:            413           107      68             812\n",
      "       MIR_3_FF:            440           175      75             252\n",
      "        MIR_3_K:            154            33      30             123\n",
      "        MIR_3_R:             53            18      19             133\n",
      "       MIR_3_RB:            671           186      70             752\n",
      "      MIR_3_RBP:            214            67      21             340\n",
      "       MIR_4_FF:            138            56      18              98\n",
      "        MIR_4_K:             50            15       7              55\n",
      "        MIR_4_R:             15             6       3              72\n",
      "       MIR_4_RB:            283            90      24             373\n",
      "      MIR_4_RBP:             95            30       6             158\n",
      "       MIR_5_FF:             58            27       8              37\n",
      "        MIR_5_K:             34             4       6              20\n",
      "        MIR_5_R:             13             -       -              28\n",
      "       MIR_5_RB:            150            45      12             159\n",
      "      MIR_5_RBP:             42            21       1              63\n",
      "       MIR_6_FF:             24            10       3              17\n",
      "        MIR_6_K:             10             2       1              15\n",
      "        MIR_6_R:              2             -       -              25\n",
      "       MIR_6_RB:             76            30       5              90\n",
      "      MIR_6_RBP:             23            11       2              31\n",
      "   ZERO_HALF_FF:          1'468         1'320   2'188           2'181\n",
      "    ZERO_HALF_K:            545           405   1'044             969\n",
      "   ZERO_HALF_KL:              -             -       2               -\n",
      "    ZERO_HALF_R:          5'438         1'738   2'781           9'511\n",
      "   ZERO_HALF_RB:          3'460         1'022   2'233           5'057\n",
      "  ZERO_HALF_RBP:            824           695   1'267           1'822\n",
      "\n",
      "LNS stats           Improv/Calls  Closed  Difficulty  TimeLimit\n",
      "  'graph_arc_lns':         59/61     51%    7.59e-01       0.10\n",
      "  'graph_cst_lns':         66/67     52%    7.58e-01       0.10\n",
      "  'graph_dec_lns':         68/70     50%    7.34e-01       0.10\n",
      "  'graph_var_lns':         61/61     48%    5.31e-01       0.10\n",
      "      'rins/rens':         85/85     47%    2.89e-01       0.10\n",
      "    'rnd_cst_lns':         61/64     50%    6.90e-01       0.10\n",
      "    'rnd_var_lns':         76/79     56%    9.65e-01       0.10\n",
      "\n",
      "LS stats                                    Batches  Restarts/Perturbs  LinMoves  GenMoves  CompoundMoves  Bactracks  WeightUpdates  ScoreComputed\n",
      "                             'fj_restart':        1                  1     3'251         0              0          0             63         76'172\n",
      "        'fj_restart_compound_perturb_obj':        1                  1         0     1'436          1'120        148              0         62'577\n",
      "                       'fj_restart_decay':        1                  1     4'081         0              0          0             42         75'449\n",
      "      'fj_restart_decay_compound_perturb':        2                  2         0     2'876          1'921        473              0        125'601\n",
      "  'fj_restart_decay_compound_perturb_obj':        1                  1         0     1'657            952        348              0         65'500\n",
      "               'fj_restart_decay_perturb':        1                  1     3'630         0              0          0             43         75'535\n",
      "                 'fj_restart_perturb_obj':        1                  1     3'459         0              0          0             57         76'360\n",
      "                         'ls_lin_restart':       36                 17   147'558         0              0          0         30'708      2'542'552\n",
      "                'ls_lin_restart_compound':       36                 19         0    36'731          2'924     16'876            206      1'519'708\n",
      "        'ls_lin_restart_compound_perturb':       21                 17         0    21'315          1'816      9'724            117        848'843\n",
      "                   'ls_lin_restart_decay':       27                 23    92'797         0              0          0          6'087      1'876'000\n",
      "          'ls_lin_restart_decay_compound':       39                 22         0    34'855          3'690     15'546            148      1'649'193\n",
      "  'ls_lin_restart_decay_compound_perturb':       49                 19         0    45'157          4'291     20'406            183      2'082'230\n",
      "           'ls_lin_restart_decay_perturb':       33                 14   107'804         0              0          0          5'403      2'334'074\n",
      "                 'ls_lin_restart_perturb':       29                 17   112'565         0              0          0         22'849      2'023'916\n",
      "                             'ls_restart':       32                 26   125'043         0              0          0         25'858      2'198'451\n",
      "                    'ls_restart_compound':       15                 10         0    15'380          1'094      7'123             97        595'505\n",
      "            'ls_restart_compound_perturb':       34                 16         0    31'062          2'591     14'197            121      1'443'666\n",
      "                       'ls_restart_decay':       69                 27   233'677         0              0          0         12'488      4'930'179\n",
      "              'ls_restart_decay_compound':       30                 17         0    27'526          2'718     12'371            128      1'308'320\n",
      "      'ls_restart_decay_compound_perturb':       16                 13         0    16'816          1'595      7'575             98        628'783\n",
      "               'ls_restart_decay_perturb':       35                 14   120'138         0              0          0          6'319      2'539'082\n",
      "                     'ls_restart_perturb':       39                 25   159'566         0              0          0         31'539      2'761'949\n",
      "\n",
      "Solutions (18)                     Num     Rank\n",
      "                 'graph_var_lns':    4   [4,18]\n",
      "          'ls_lin_restart_decay':    1    [9,9]\n",
      "  'ls_lin_restart_decay_perturb':    1  [13,13]\n",
      "        'ls_lin_restart_perturb':    1    [3,3]\n",
      "                    'ls_restart':    3   [6,14]\n",
      "              'ls_restart_decay':    2    [2,8]\n",
      "            'ls_restart_perturb':    1    [7,7]\n",
      "           'quick_restart_no_lp':    1    [1,1]\n",
      "                 'rins_pump_lns':    1  [16,16]\n",
      "                   'rnd_cst_lns':    1  [10,10]\n",
      "                   'rnd_var_lns':    2  [11,15]\n",
      "\n",
      "Objective bounds     Num\n",
      "  'initial_domain':    1\n",
      "   'reduced_costs':    6\n",
      "\n",
      "Solution repositories    Added  Queried  Synchro\n",
      "  'feasible solutions':     30    1'365       29\n",
      "   'fj solution hints':      0        0        0\n",
      "        'lp solutions':  1'654       48      844\n",
      "                'pump':    269       48\n",
      "\n",
      "Improving bounds shared    Num  Sym\n",
      "                 'no_lp':   85    0\n",
      "         'quick_restart':  680    0\n",
      "   'quick_restart_no_lp':  512    0\n",
      "         'reduced_costs':   88    0\n",
      "\n",
      "Clauses shared              Num\n",
      "           'default_lp':    207\n",
      "            'fs_random':     50\n",
      "       'lb_tree_search':  2'191\n",
      "               'max_lp':  5'679\n",
      "                'no_lp':  4'262\n",
      "         'pseudo_costs':     27\n",
      "        'quick_restart':  4'451\n",
      "  'quick_restart_no_lp':  4'909\n",
      "        'reduced_costs':  8'645\n",
      "\n",
      "CpSolverResponse summary:\n",
      "status: FEASIBLE\n",
      "objective: 64\n",
      "best_bound: 30\n",
      "integers: 85\n",
      "booleans: 2527\n",
      "conflicts: 0\n",
      "branches: 5930\n",
      "propagations: 1945\n",
      "integer_propagations: 80022\n",
      "restarts: 5054\n",
      "lp_iterations: 0\n",
      "walltime: 60.0146\n",
      "usertime: 60.0146\n",
      "deterministic_time: 209.586\n",
      "gap_integral: 743.555\n",
      "solution_fingerprint: 0xf677d54e64ae1e0d\n",
      "\n"
     ]
    }
   ],
   "source": [
    "instance_01 = util.parse(\"uniform_q26n004k015-025.txt\")\n",
    "solution_01 = solve(instance_01)"
   ]
  },
  {
   "cell_type": "code",
   "execution_count": null,
   "id": "Xref",
   "metadata": {},
   "outputs": [
    {
     "name": "stdout",
     "output_type": "stream",
     "text": [
      "--- Condition (with 25 chars) ---\n",
      "str1: tkgnkuhmpxnhtqgxzvxis\n",
      "str2: iojiqfolnbxxcvsuqpvissbxf\n",
      "str3: ulcinycosovozpplp\n",
      "str4: igevazgbrddbcsvrvnngf\n",
      "\n",
      "--- Solution (of length 65) ---\n",
      " Sol: tigevauzkgbrldcdbinycojsiqfolnvbrxxcvnksuhmpxnhtqogxzpvxissbpxflp\n",
      "str1: t-------kg--------n-------------------k-uhmpxnhtq-gxz-vxis-------\n",
      "str2: -i-------------------oj-iqfoln-b-xxcv--su-------q----pv-issb-xf--\n",
      "str3: ------u-----l-c--inyco-s---o--v------------------o--zp------p--lp\n",
      "str4: -igeva-z-gbr-d-db---c--s------v-r---vn-------n----g-----------f--\n",
      "\n",
      "solution is feasible: True\n"
     ]
    }
   ],
   "source": [
    "_instance = instance_01\n",
    "_solution = solution_01\n",
    "\n",
    "util.show(_instance)\n",
    "if _solution is not None:\n",
    "    util.show(_instance, _solution)\n",
    "    print(f\"solution is feasible: {util.is_feasible(_instance, _solution)}\")\n",
    "else:\n",
    "    print(\"--- Solution not found ---\")"
   ]
  },
  {
   "cell_type": "code",
   "execution_count": null,
   "id": "SFPL",
   "metadata": {},
   "outputs": [
    {
     "name": "stdout",
     "output_type": "stream",
     "text": [
      "\n",
      "Starting CP-SAT solver v9.14.6206\n",
      "Parameters: max_time_in_seconds: 60 log_search_progress: true\n",
      "Setting number of workers to 12\n",
      "\n",
      "Initial optimization model '': (model_fingerprint: 0x3a94167cd68f9e7f)\n",
      "#Variables: 176 (#ints: 1 in objective) (175 primary variables)\n",
      "  - 175 in [0,174]\n",
      "  - 1 in [0,175]\n",
      "#kLinMax: 1 (#expressions: 8)\n",
      "#kLinear2: 12'970 (#complex_domain: 12'803)\n",
      "\n",
      "Starting presolve at 0.00s\n"
     ]
    },
    {
     "name": "stdout",
     "output_type": "stream",
     "text": [
      "  7.78e-04s  0.00e+00d  [DetectDominanceRelations] \n",
      "  1.89e-01s  0.00e+00d  [PresolveToFixPoint] #num_loops=25 #num_dual_strengthening=1 \n",
      "  4.55e-05s  0.00e+00d  [ExtractEncodingFromLinear] \n",
      "  8.70e-04s  0.00e+00d  [DetectDuplicateColumns] \n",
      "  2.32e-04s  0.00e+00d  [DetectDuplicateConstraints] \n",
      "[Symmetry] Graph for symmetry has 13'329 nodes and 26'131 arcs.\n",
      "[Symmetry] Symmetry computation done. time: 0.00136678 dtime: 0.0024951\n"
     ]
    },
    {
     "name": "stdout",
     "output_type": "stream",
     "text": [
      "  3.36e-04s  0.00e+00d  [DetectDuplicateConstraintsWithDifferentEnforcements] \n",
      "  2.17e+00s  5.61e-01d  [Probe] #probed=51'212 #new_bounds=1 \n",
      "  7.53e-05s  0.00e+00d  [MaxClique] \n"
     ]
    },
    {
     "name": "stdout",
     "output_type": "stream",
     "text": [
      "  8.01e-04s  0.00e+00d  [DetectDominanceRelations] \n",
      "  1.33e-02s  0.00e+00d  [PresolveToFixPoint] #num_loops=2 #num_dual_strengthening=1 \n",
      "  1.46e-03s  0.00e+00d  [ProcessAtMostOneAndLinear] \n",
      "  2.75e-04s  0.00e+00d  [DetectDuplicateConstraints] \n",
      "  2.68e-04s  0.00e+00d  [DetectDuplicateConstraintsWithDifferentEnforcements] \n",
      "  2.56e-03s  1.32e-04d  [DetectDominatedLinearConstraints] #relevant_constraints=12'978 \n",
      "  3.63e-03s  0.00e+00d  [DetectDifferentVariables] #different=12'970 #cliques=148 #size=1'985 \n",
      "  5.13e-05s  0.00e+00d  [ProcessSetPPC] \n",
      "  4.69e-05s  0.00e+00d  [FindAlmostIdenticalLinearConstraints] \n",
      "  5.28e-06s  0.00e+00d  [FindBigAtMostOneAndLinearOverlap] \n",
      "  1.62e-03s  6.59e-04d  [FindBigVerticalLinearOverlap] \n",
      "  3.32e-05s  0.00e+00d  [FindBigHorizontalLinearOverlap] \n"
     ]
    },
    {
     "name": "stdout",
     "output_type": "stream",
     "text": [
      "  2.42e-05s  0.00e+00d  [MergeClauses] \n"
     ]
    },
    {
     "name": "stdout",
     "output_type": "stream",
     "text": [
      "  7.97e-04s  0.00e+00d  [DetectDominanceRelations] \n",
      "  1.32e-02s  0.00e+00d  [PresolveToFixPoint] #num_loops=1 #num_dual_strengthening=1 \n"
     ]
    },
    {
     "name": "stdout",
     "output_type": "stream",
     "text": [
      "  7.95e-04s  0.00e+00d  [DetectDominanceRelations] \n",
      "  1.31e-02s  0.00e+00d  [PresolveToFixPoint] #num_loops=1 #num_dual_strengthening=1 \n",
      "  5.21e-04s  0.00e+00d  [DetectDuplicateColumns] \n",
      "  3.40e-04s  0.00e+00d  [DetectDuplicateConstraints] \n",
      "[Symmetry] Graph for symmetry has 13'652 nodes and 28'291 arcs.\n",
      "[Symmetry] Symmetry computation done. time: 0.00132505 dtime: 0.00262626\n"
     ]
    },
    {
     "name": "stdout",
     "output_type": "stream",
     "text": [
      "  4.17e-04s  0.00e+00d  [DetectDuplicateConstraintsWithDifferentEnforcements] \n",
      "  3.84e+00s  5.99e-01d  [Probe] #probed=51'212 \n",
      "  4.01e-05s  0.00e+00d  [MaxClique] \n"
     ]
    },
    {
     "name": "stdout",
     "output_type": "stream",
     "text": [
      "  8.15e-04s  0.00e+00d  [DetectDominanceRelations] \n",
      "  1.35e-02s  0.00e+00d  [PresolveToFixPoint] #num_loops=1 #num_dual_strengthening=1 \n",
      "  1.45e-03s  0.00e+00d  [ProcessAtMostOneAndLinear] \n",
      "  3.58e-04s  0.00e+00d  [DetectDuplicateConstraints] \n",
      "  3.56e-04s  0.00e+00d  [DetectDuplicateConstraintsWithDifferentEnforcements] \n",
      "  2.48e-03s  1.32e-04d  [DetectDominatedLinearConstraints] #relevant_constraints=12'978 \n",
      "  1.61e-03s  0.00e+00d  [DetectDifferentVariables] \n",
      "  4.01e-05s  0.00e+00d  [ProcessSetPPC] \n",
      "  4.20e-05s  0.00e+00d  [FindAlmostIdenticalLinearConstraints] \n",
      "  5.16e-06s  0.00e+00d  [FindBigAtMostOneAndLinearOverlap] \n",
      "  1.62e-03s  6.59e-04d  [FindBigVerticalLinearOverlap] \n",
      "  3.19e-05s  0.00e+00d  [FindBigHorizontalLinearOverlap] \n",
      "  2.37e-05s  0.00e+00d  [MergeClauses] \n"
     ]
    },
    {
     "name": "stdout",
     "output_type": "stream",
     "text": [
      "  8.59e-04s  0.00e+00d  [DetectDominanceRelations] \n",
      "  1.32e-02s  0.00e+00d  [PresolveToFixPoint] #num_loops=1 #num_dual_strengthening=1 \n",
      "  5.37e-05s  0.00e+00d  [ExpandObjective] \n"
     ]
    },
    {
     "name": "stdout",
     "output_type": "stream",
     "text": [
      "\n",
      "Presolve summary:\n",
      "  - 0 affine relations were detected.\n",
      "  - rule 'TODO dual: only one unspecified blocking constraint?' was applied 6 times.\n",
      "  - rule 'all_diff: inferred from x != y constraints' was applied 148 times.\n",
      "  - rule 'lin_max: rewrite with precedences' was applied 1 time.\n",
      "  - rule 'lin_max: target domain reduced' was applied 1 time.\n",
      "  - rule 'linear: expanded complex rhs' was applied 12'803 times.\n",
      "  - rule 'linear: reduced variable domains' was applied 1'850 times.\n",
      "  - rule 'new_bool: complex linear expansion' was applied 12'803 times.\n",
      "  - rule 'presolve: 0 unused variables removed.' was applied 1 time.\n",
      "  - rule 'presolve: iteration' was applied 2 times.\n",
      "\n",
      "Presolved optimization model '': (model_fingerprint: 0x7450215ab235f71b)\n",
      "#Variables: 12'979 (#ints: 1 in objective) (12'978 primary variables)\n",
      "  - 12'803 Booleans in [0,1]\n",
      "  - 109 different domains in [0,174] with a largest complexity of 1.\n",
      "#kAllDiff: 148\n",
      "#kLinear2: 25'781 (#enforced: 25'606)\n"
     ]
    },
    {
     "name": "stdout",
     "output_type": "stream",
     "text": [
      "[Symmetry] Graph for symmetry has 52'061 nodes and 92'306 arcs.\n",
      "[Symmetry] Symmetry computation done. time: 0.0075544 dtime: 0.0130648\n",
      "\n",
      "Preloading model.\n",
      "#Bound   6.34s best:inf   next:[25,174]   initial_domain\n"
     ]
    },
    {
     "name": "stdout",
     "output_type": "stream",
     "text": [
      "#Model   6.34s var:12979/12979 constraints:25929/25929\n",
      "\n",
      "Starting search at 6.35s with 12 workers.\n",
      "8 full problem subsolvers: [default_lp, lb_tree_search, max_lp, no_lp, pseudo_costs, quick_restart, quick_restart_no_lp, reduced_costs]\n",
      "4 first solution subsolvers: [fj(2), fs_random, fs_random_no_lp]\n",
      "10 interleaved subsolvers: [feasibility_pump, graph_arc_lns, graph_cst_lns, graph_dec_lns, graph_var_lns, ls, ls_lin, rins/rens, rnd_cst_lns, rnd_var_lns]\n",
      "3 helper subsolvers: [neighborhood_helper, synchronization_agent, update_gap_integral]\n",
      "\n"
     ]
    },
    {
     "name": "stdout",
     "output_type": "stream",
     "text": [
      "#1       8.78s best:165   next:[25,164]   rens_pump_lns (d=9.93e-01 s=66 t=0.10 p=1.00 stall=0 h=base)\n"
     ]
    },
    {
     "name": "stdout",
     "output_type": "stream",
     "text": [
      "#2       9.33s best:158   next:[25,157]   rens_pump_lns (d=9.93e-01 s=70 t=0.10 p=1.00 stall=0 h=base)\n"
     ]
    },
    {
     "name": "stdout",
     "output_type": "stream",
     "text": [
      "#3      10.26s best:157   next:[25,156]   ls_restart_decay(batch:1 lin{mvs:934 evals:4'445} #w_updates:240 #perturb:0)\n"
     ]
    },
    {
     "name": "stdout",
     "output_type": "stream",
     "text": [
      "#4      10.29s best:156   next:[25,155]   ls_restart_perturb(batch:1 lin{mvs:390 evals:1'686} #w_updates:352 #perturb:0)\n"
     ]
    },
    {
     "name": "stdout",
     "output_type": "stream",
     "text": [
      "#5      10.41s best:155   next:[25,154]   ls_restart_decay_perturb(batch:1 lin{mvs:226 evals:862} #w_updates:92 #perturb:0)\n"
     ]
    },
    {
     "name": "stdout",
     "output_type": "stream",
     "text": [
      "#6      10.43s best:154   next:[25,153]   ls_lin_restart_decay(batch:1 lin{mvs:453 evals:1'627} #w_updates:229 #perturb:0)\n"
     ]
    },
    {
     "name": "stdout",
     "output_type": "stream",
     "text": [
      "#Bound  10.47s best:154   next:[26,153]   reduced_costs\n"
     ]
    },
    {
     "name": "stdout",
     "output_type": "stream",
     "text": [
      "#Bound  10.64s best:154   next:[27,153]   reduced_costs\n"
     ]
    },
    {
     "name": "stdout",
     "output_type": "stream",
     "text": [
      "#7      10.74s best:153   next:[27,152]   ls_lin_restart_decay(batch:1 lin{mvs:476 evals:1'895} #w_updates:168 #perturb:0)\n"
     ]
    },
    {
     "name": "stdout",
     "output_type": "stream",
     "text": [
      "#8      10.88s best:152   next:[27,151]   ls_restart_decay_perturb(batch:1 lin{mvs:13 evals:49} #w_updates:10 #perturb:0)\n"
     ]
    },
    {
     "name": "stdout",
     "output_type": "stream",
     "text": [
      "#9      10.95s best:151   next:[27,150]   ls_restart(batch:1 lin{mvs:10 evals:40} #w_updates:7 #perturb:0)\n"
     ]
    },
    {
     "name": "stdout",
     "output_type": "stream",
     "text": [
      "#10     11.40s best:150   next:[27,149]   rnd_var_lns (d=9.39e-01 s=98 t=0.10 p=1.00 stall=0 h=base)\n"
     ]
    },
    {
     "name": "stdout",
     "output_type": "stream",
     "text": [
      "#11     14.00s best:148   next:[27,147]   rnd_cst_lns (d=7.07e-01 s=112 t=0.10 p=1.00 stall=1 h=base)\n"
     ]
    },
    {
     "name": "stdout",
     "output_type": "stream",
     "text": [
      "#Bound  14.08s best:148   next:[28,147]   reduced_costs\n"
     ]
    },
    {
     "name": "stdout",
     "output_type": "stream",
     "text": [
      "#12     14.20s best:147   next:[28,146]   graph_arc_lns (d=7.07e-01 s=115 t=0.10 p=1.00 stall=1 h=base)\n"
     ]
    },
    {
     "name": "stdout",
     "output_type": "stream",
     "text": [
      "#Bound  14.47s best:147   next:[29,146]   reduced_costs\n"
     ]
    },
    {
     "name": "stdout",
     "output_type": "stream",
     "text": [
      "#Bound  14.75s best:147   next:[30,146]   reduced_costs\n"
     ]
    },
    {
     "name": "stdout",
     "output_type": "stream",
     "text": [
      "#Bound  15.12s best:147   next:[31,146]   reduced_costs\n"
     ]
    },
    {
     "name": "stdout",
     "output_type": "stream",
     "text": [
      "#13     16.83s best:146   next:[31,145]   graph_cst_lns (d=8.14e-01 s=159 t=0.10 p=1.00 stall=0 h=base)\n"
     ]
    },
    {
     "name": "stdout",
     "output_type": "stream",
     "text": [
      "#Bound  18.02s best:146   next:[32,145]   reduced_costs\n"
     ]
    },
    {
     "name": "stdout",
     "output_type": "stream",
     "text": [
      "#14     19.11s best:145   next:[32,144]   graph_var_lns (d=5.38e-01 s=194 t=0.10 p=0.50 stall=0 h=base)\n"
     ]
    },
    {
     "name": "stdout",
     "output_type": "stream",
     "text": [
      "#15     19.57s best:144   next:[32,143]   ls_lin_restart_perturb(batch:1 lin{mvs:1'092 evals:6'228} #w_updates:496 #perturb:0)\n"
     ]
    },
    {
     "name": "stdout",
     "output_type": "stream",
     "text": [
      "#16     23.04s best:143   next:[32,142]   rnd_cst_lns (d=5.54e-01 s=273 t=0.10 p=0.50 stall=0 h=base)\n"
     ]
    },
    {
     "name": "stdout",
     "output_type": "stream",
     "text": [
      "#17     27.78s best:142   next:[32,141]   rnd_var_lns (d=9.81e-01 s=334 t=0.10 p=0.85 stall=0 h=base)\n"
     ]
    },
    {
     "name": "stdout",
     "output_type": "stream",
     "text": [
      "#18     32.92s best:139   next:[32,138]   graph_var_lns (d=5.29e-01 s=395 t=0.10 p=0.50 stall=0 h=base)\n"
     ]
    },
    {
     "name": "stdout",
     "output_type": "stream",
     "text": [
      "#19     35.60s best:138   next:[32,137]   graph_var_lns (d=3.91e-01 s=461 t=0.10 p=0.43 stall=0 h=base)\n"
     ]
    },
    {
     "name": "stdout",
     "output_type": "stream",
     "text": [
      "#20     45.98s best:135   next:[32,134]   graph_var_lns (d=3.74e-01 s=612 t=0.10 p=0.45 stall=0 h=base)\n"
     ]
    },
    {
     "name": "stdout",
     "output_type": "stream",
     "text": [
      "#21     52.15s best:134   next:[32,133]   graph_cst_lns (d=6.95e-01 s=664 t=0.10 p=0.55 stall=0 h=base)\n"
     ]
    },
    {
     "name": "stdout",
     "output_type": "stream",
     "text": [
      "#22     55.00s best:132   next:[32,131]   rnd_var_lns (d=9.46e-01 s=681 t=0.10 p=0.60 stall=0 h=base)\n"
     ]
    },
    {
     "name": "stdout",
     "output_type": "stream",
     "text": [
      "\n",
      "Task timing                      n [     min,      max]      avg      dev     time         n [     min,      max]      avg      dev    dtime\n",
      "           'default_lp':         1 [  53.65s,   53.65s]   53.65s   0.00ns   53.65s         1 [   7.00s,    7.00s]    7.00s   0.00ns    7.00s\n",
      "     'feasibility_pump':       224 [  6.73us,  28.57ms] 245.27us   1.90ms  54.94ms       217 [ 24.15us, 161.44us]  24.78us   9.30us   5.38ms\n",
      "                   'fj':        15 [ 63.95ms,  95.44ms]  77.26ms   8.64ms    1.16s        15 [100.06ms, 101.12ms] 100.61ms 355.29us    1.51s\n",
      "                   'fj':        15 [ 66.32ms,  95.92ms]  79.53ms   8.44ms    1.19s        15 [100.11ms, 100.96ms] 100.62ms 276.26us    1.51s\n",
      "            'fs_random':         1 [   2.43s,    2.43s]    2.43s   0.00ns    2.43s         0 [  0.00ns,   0.00ns]   0.00ns   0.00ns   0.00ns\n",
      "      'fs_random_no_lp':         1 [   2.43s,    2.43s]    2.43s   0.00ns    2.43s         0 [  0.00ns,   0.00ns]   0.00ns   0.00ns   0.00ns\n",
      "        'graph_arc_lns':        15 [874.54ms,    1.92s]    1.52s 357.75ms   22.83s        15 [  1.33ms, 100.11ms]  61.74ms  44.96ms 926.13ms\n",
      "        'graph_cst_lns':        15 [901.32ms,    2.27s]    1.67s 452.55ms   25.04s        15 [  1.94ms, 100.14ms]  63.66ms  44.72ms 954.91ms\n",
      "        'graph_dec_lns':        15 [171.29ms,    2.46s]    1.50s 679.77ms   22.43s        14 [392.48us, 100.09ms]  67.89ms  40.89ms 950.49ms\n",
      "        'graph_var_lns':        18 [297.98ms,    2.11s]    1.38s 491.07ms   24.88s        17 [  1.21ms, 100.21ms]  64.69ms  45.26ms    1.10s\n",
      "       'lb_tree_search':         1 [  53.68s,   53.68s]   53.68s   0.00ns   53.68s         1 [  13.13s,   13.13s]   13.13s   0.00ns   13.13s\n",
      "                   'ls':       224 [  3.10ms, 152.87ms]  86.00ms  17.39ms   19.26s       224 [382.99us, 108.21ms]  98.37ms  14.15ms   22.03s\n",
      "               'ls_lin':       223 [ 20.75ms, 147.73ms]  85.38ms  14.27ms   19.04s       223 [ 20.95ms, 104.77ms]  99.37ms   9.47ms   22.16s\n",
      "               'max_lp':         1 [  53.65s,   53.65s]   53.65s   0.00ns   53.65s         1 [  13.75s,   13.75s]   13.75s   0.00ns   13.75s\n",
      "                'no_lp':         1 [  53.65s,   53.65s]   53.65s   0.00ns   53.65s         1 [   6.91s,    6.91s]    6.91s   0.00ns    6.91s\n",
      "         'pseudo_costs':         1 [  53.65s,   53.65s]   53.65s   0.00ns   53.65s         1 [   7.85s,    7.85s]    7.85s   0.00ns    7.85s\n",
      "        'quick_restart':         1 [  53.65s,   53.65s]   53.65s   0.00ns   53.65s         1 [   4.98s,    4.98s]    4.98s   0.00ns    4.98s\n",
      "  'quick_restart_no_lp':         1 [  53.67s,   53.67s]   53.67s   0.00ns   53.67s         1 [   5.15s,    5.15s]    5.15s   0.00ns    5.15s\n",
      "        'reduced_costs':         1 [  53.65s,   53.65s]   53.65s   0.00ns   53.65s         1 [   5.02s,    5.02s]    5.02s   0.00ns    5.02s\n",
      "            'rins/rens':        31 [ 10.11ms,    2.30s] 812.13ms 859.66ms   25.18s        15 [100.00ms, 100.33ms] 100.07ms  81.68us    1.50s\n",
      "          'rnd_cst_lns':        15 [840.90ms,    2.05s]    1.61s 411.91ms   24.11s        15 [332.95us, 100.09ms]  66.59ms  43.56ms 998.85ms\n",
      "          'rnd_var_lns':        33 [ 20.25ms,    2.48s] 739.31ms 681.13ms   24.40s        26 [ 10.00ns, 100.15ms]  55.61ms  48.30ms    1.45s\n",
      "\n",
      "Search stats               Bools  Conflicts   Branches  Restarts  BoolPropag  IntegerPropag\n",
      "           'default_lp':  12'803     59'162    228'971    95'923   8'131'067      9'209'313\n",
      "            'fs_random':  12'803          0     17'874    17'874           0        282'059\n",
      "      'fs_random_no_lp':  12'803          0     18'678    18'678           0        294'423\n",
      "       'lb_tree_search':  12'803         26    157'925   137'240      57'599      2'215'998\n",
      "               'max_lp':  12'803      9'279    101'419    71'645     644'997      3'242'290\n",
      "                'no_lp':  12'803     59'268    228'047    95'930   7'994'431      9'165'307\n",
      "         'pseudo_costs':  12'803     12'066     82'421    51'196   1'706'992      4'315'152\n",
      "        'quick_restart':  12'803      7'243  1'415'600    97'075   4'604'317      6'252'342\n",
      "  'quick_restart_no_lp':  12'803      7'441  1'493'533    97'093   4'949'167      6'477'458\n",
      "        'reduced_costs':  12'810      3'737    112'262    89'667   8'630'530     11'546'697\n",
      "\n",
      "SAT stats                 ClassicMinim  LitRemoved  LitLearned  LitForgotten  Subsumed  MClauses  MDecisions  MLitTrue  MSubsumed  MLitRemoved  MReused\n",
      "           'default_lp':        15'633      18'528   1'487'782       876'215     1'966        29          56         0          0            0        2\n",
      "            'fs_random':             0           0           0             0         0         0           0         0          0            0        0\n",
      "      'fs_random_no_lp':             0           0           0             0         0         0           0         0          0            0        0\n",
      "       'lb_tree_search':             0           0          52             0         0         0           0         0          0            0        0\n",
      "               'max_lp':         3'799       5'190     181'510             0       626         0           0         0          0            0        0\n",
      "                'no_lp':        15'846      18'875   1'493'973       876'121     1'967        29          56         0          0            0        2\n",
      "         'pseudo_costs':         3'876       4'908     167'010        65'839       506         0           0         0          0            0        0\n",
      "        'quick_restart':         1'318       1'539      40'804             0        79     1'530       3'519         0         96          400      162\n",
      "  'quick_restart_no_lp':         1'385       1'617      42'444             0        80     1'403       3'349         0         86          359      139\n",
      "        'reduced_costs':         2'287       5'222      31'973             0       168       979       3'909         0        313        1'891      246\n",
      "\n",
      "Lp stats             Component  Iterations  AddedCuts  OPTIMAL  DUAL_F.  DUAL_U.\n",
      "      'default_lp':          1           0          0   76'407        0        0\n",
      "       'fs_random':          1           0          0        0        0        0\n",
      "  'lb_tree_search':          1      34'183    266'126       48    1'545        0\n",
      "          'max_lp':          1     153'338     45'112    1'979   13'096        0\n",
      "    'pseudo_costs':          1     190'305      7'944    3'444   17'094        0\n",
      "   'quick_restart':          1           0          0   74'965        0        0\n",
      "   'reduced_costs':          1      69'855     43'708       66    5'067        0\n",
      "\n",
      "Lp dimension               Final dimension of first component\n",
      "      'default_lp':            0 rows, 176 columns, 0 entries\n",
      "       'fs_random':            0 rows, 176 columns, 0 entries\n",
      "  'lb_tree_search':  26596 rows, 12979 columns, 78702 entries\n",
      "          'max_lp':     840 rows, 12979 columns, 2091 entries\n",
      "    'pseudo_costs':     793 rows, 12979 columns, 2226 entries\n",
      "   'quick_restart':            0 rows, 176 columns, 0 entries\n",
      "   'reduced_costs':    3350 rows, 12979 columns, 8991 entries\n",
      "\n",
      "Lp debug             CutPropag  CutEqPropag  Adjust  Overflow     Bad  BadScaling\n",
      "      'default_lp':          0            0       0         0       0           0\n",
      "       'fs_random':          0            0       0         0       0           0\n",
      "  'lb_tree_search':          0          149       0         0  78'495           0\n",
      "          'max_lp':          0            0       0         0   1'975           0\n",
      "    'pseudo_costs':          0            0       0         0   1'132           0\n",
      "   'quick_restart':          0            0       0         0       0           0\n",
      "   'reduced_costs':          0            0       0         0  10'864           0\n",
      "\n",
      "Lp pool              Constraints  Updates  Simplif  Merged  Shortened  Split  Strenghtened        Cuts/Call\n",
      "      'default_lp':          175        0        0       0          0      0             0              0/0\n",
      "       'fs_random':          175        0        0       0          0      0             0              0/0\n",
      "  'lb_tree_search':      209'545   57'173  280'814  54'362          0  2'316       308'585  266'126/581'222\n",
      "          'max_lp':       31'814    6'973   75'692   3'079          0      0        79'848    45'112/79'518\n",
      "    'pseudo_costs':       33'052      526   50'412     673          0      0        52'641     7'944/15'591\n",
      "   'quick_restart':          175        0        0       0          0      0             0              0/0\n",
      "   'reduced_costs':       33'854    9'613  201'767   5'635          0      0       208'472   43'708/113'834\n",
      "\n",
      "Lp Cut            reduced_costs  max_lp  pseudo_costs  lb_tree_search\n",
      "     AllDiff_aa:            182     165           285             119\n",
      "     AllDiff_ae:             38     112            36             101\n",
      "     AllDiff_ea:             54      19            51              14\n",
      "     AllDiff_ee:             98      36           115              42\n",
      "          CG_FF:             76      25            15              62\n",
      "           CG_K:             69      24             -              38\n",
      "           CG_R:             16       3             4              31\n",
      "          CG_RB:            158      10            31             191\n",
      "         CG_RBP:              8       -             1              18\n",
      "         Clique:             39       3             -              42\n",
      "             IB:          2'310   2'180           972           1'431\n",
      "       MIR_1_FF:          7'585  11'588         1'109          36'238\n",
      "        MIR_1_K:            902   4'528           239           9'782\n",
      "        MIR_1_R:            215       8             -             395\n",
      "       MIR_1_RB:          8'215   7'837         1'278          78'354\n",
      "      MIR_1_RBP:          1'128   2'951           743           5'160\n",
      "       MIR_2_FF:          1'277     104            65           2'951\n",
      "        MIR_2_K:             32      51            11             577\n",
      "        MIR_2_R:            206       -             5              46\n",
      "       MIR_2_RB:            889     106            87           4'645\n",
      "      MIR_2_RBP:             52      20            39             227\n",
      "       MIR_3_FF:            691      21             4             225\n",
      "        MIR_3_K:             12       5             -              45\n",
      "        MIR_3_R:            117       1             7              43\n",
      "       MIR_3_RB:            357      28            16             411\n",
      "      MIR_3_RBP:             27       2             4              13\n",
      "       MIR_4_FF:            298       7             -              38\n",
      "        MIR_4_K:              5       3             -               9\n",
      "        MIR_4_R:             68       -             1               2\n",
      "       MIR_4_RB:            156      10             5              63\n",
      "      MIR_4_RBP:              6       3             1               2\n",
      "       MIR_5_FF:            144       4             1               1\n",
      "        MIR_5_K:              2       1             -               1\n",
      "        MIR_5_R:             34       -             1               1\n",
      "       MIR_5_RB:             86       5             4               9\n",
      "      MIR_5_RBP:              7       -             2               -\n",
      "       MIR_6_FF:             57       2             -               1\n",
      "        MIR_6_K:              -       -             -               1\n",
      "        MIR_6_R:             12       -             1               2\n",
      "       MIR_6_RB:             34       5             2               2\n",
      "   ZERO_HALF_FF:          4'928   4'311           716          20'514\n",
      "    ZERO_HALF_K:            489   2'290           155           2'701\n",
      "    ZERO_HALF_R:          7'021   2'888           743          50'126\n",
      "   ZERO_HALF_RB:          5'013   3'596           762          47'442\n",
      "  ZERO_HALF_RBP:            595   2'160           433           4'010\n",
      "\n",
      "LNS stats           Improv/Calls  Closed  Difficulty  TimeLimit\n",
      "  'graph_arc_lns':         12/15     47%    4.74e-01       0.10\n",
      "  'graph_cst_lns':         14/15     40%    3.22e-01       0.10\n",
      "  'graph_dec_lns':         12/15     47%    5.98e-01       0.10\n",
      "  'graph_var_lns':         17/18     44%    3.19e-01       0.10\n",
      "      'rins/rens':         30/30     50%    9.12e-01       0.10\n",
      "    'rnd_cst_lns':         14/15     40%    2.92e-01       0.10\n",
      "    'rnd_var_lns':         26/31     55%    9.34e-01       0.10\n",
      "\n",
      "LS stats                                    Batches  Restarts/Perturbs  LinMoves  GenMoves  CompoundMoves  Bactracks  WeightUpdates  ScoreComputed\n",
      "                             'fj_restart':        3                  2    12'584         0              0          0             19        107'277\n",
      "                    'fj_restart_compound':        3                  3         0    14'002         13'999          0              0        129'322\n",
      "        'fj_restart_compound_perturb_obj':        2                  2         0     9'460          9'459          0              0         86'957\n",
      "      'fj_restart_decay_compound_perturb':        4                  2         0     9'973          9'918          0              0        136'397\n",
      "  'fj_restart_decay_compound_perturb_obj':        2                  2         0     8'989          8'989          0              0         83'431\n",
      "                   'fj_restart_decay_obj':        2                  1     8'546         0              0          0             12         70'153\n",
      "           'fj_restart_decay_perturb_obj':        3                  3    16'507         0              0          0             16        108'568\n",
      "                         'fj_restart_obj':        9                  5    31'904         0              0          0             62        316'167\n",
      "                     'fj_restart_perturb':        2                  1     6'925         0              0          0             13         70'229\n",
      "                         'ls_lin_restart':       40                 35    62'007         0              0          0         11'296      1'211'552\n",
      "                'ls_lin_restart_compound':       30                 28         0     6'204            539      2'781             28        293'803\n",
      "        'ls_lin_restart_compound_perturb':       16                 12         0     3'056             98      1'456             16        161'524\n",
      "                   'ls_lin_restart_decay':       35                 29    48'920         0              0          0          4'125      1'012'692\n",
      "          'ls_lin_restart_decay_compound':       29                 25         0     5'417            425      2'459             35        269'103\n",
      "  'ls_lin_restart_decay_compound_perturb':       27                 24         0     5'997            355      2'790             32        270'156\n",
      "           'ls_lin_restart_decay_perturb':       25                 22    37'745         0              0          0          2'992        753'748\n",
      "                 'ls_lin_restart_perturb':       21                 19    30'878         0              0          0          6'128        600'830\n",
      "                             'ls_restart':       26                 25    39'004         0              0          0          6'876        760'785\n",
      "                    'ls_restart_compound':       24                 19         0     5'286            257      2'487             32        231'501\n",
      "            'ls_restart_compound_perturb':       28                 25         0     5'796            298      2'723             26        261'541\n",
      "                       'ls_restart_decay':       28                 27    42'454         0              0          0          3'797        828'756\n",
      "              'ls_restart_decay_compound':       33                 28         0     6'890            478      3'174             36        311'147\n",
      "      'ls_restart_decay_compound_perturb':       28                 21         0     5'270            343      2'436             25        257'835\n",
      "               'ls_restart_decay_perturb':       21                 21    30'269         0              0          0          2'779        571'257\n",
      "                     'ls_restart_perturb':       36                 29    53'981         0              0          0          9'662      1'069'239\n",
      "\n",
      "Solutions (22)                 Num     Rank\n",
      "             'graph_arc_lns':    1  [12,12]\n",
      "             'graph_cst_lns':    2  [13,21]\n",
      "             'graph_var_lns':    4  [14,20]\n",
      "      'ls_lin_restart_decay':    2    [6,7]\n",
      "    'ls_lin_restart_perturb':    1  [15,15]\n",
      "                'ls_restart':    1    [9,9]\n",
      "          'ls_restart_decay':    1    [3,3]\n",
      "  'ls_restart_decay_perturb':    2    [5,8]\n",
      "        'ls_restart_perturb':    1    [4,4]\n",
      "             'rens_pump_lns':    2    [1,2]\n",
      "               'rnd_cst_lns':    2  [11,16]\n",
      "               'rnd_var_lns':    3  [10,22]\n",
      "\n",
      "Objective bounds     Num\n",
      "  'initial_domain':    1\n",
      "   'reduced_costs':    7\n",
      "\n",
      "Solution repositories    Added  Queried  Synchro\n",
      "  'feasible solutions':     29      655       29\n",
      "   'fj solution hints':     13        0       13\n",
      "        'lp solutions':    617       12      365\n",
      "                'pump':    223       19\n",
      "\n",
      "Improving bounds shared      Num  Sym\n",
      "            'default_lp':    176    0\n",
      "          'pseudo_costs':    352    0\n",
      "         'quick_restart':  1'235    0\n",
      "   'quick_restart_no_lp':    882    0\n",
      "         'reduced_costs':    353    0\n",
      "\n",
      "Clauses shared              Num\n",
      "           'default_lp':     27\n",
      "       'lb_tree_search':     26\n",
      "               'max_lp':     18\n",
      "                'no_lp':     19\n",
      "         'pseudo_costs':      6\n",
      "        'quick_restart':  3'187\n",
      "  'quick_restart_no_lp':  3'274\n",
      "        'reduced_costs':     31\n",
      "\n",
      "CpSolverResponse summary:\n",
      "status: FEASIBLE\n",
      "objective: 132\n",
      "best_bound: 32\n",
      "integers: 176\n",
      "booleans: 12803\n",
      "conflicts: 0\n",
      "branches: 18678\n",
      "propagations: 0\n",
      "integer_propagations: 294423\n",
      "restarts: 18678\n",
      "lp_iterations: 0\n",
      "walltime: 60.0491\n",
      "usertime: 60.0491\n",
      "deterministic_time: 120.033\n",
      "gap_integral: 552.753\n",
      "solution_fingerprint: 0xd409602829b0c211\n",
      "\n"
     ]
    }
   ],
   "source": [
    "instance_02 = util.parse(\"uniform_q26n008k015-025.txt\")\n",
    "solution_02 = solve(instance_02)"
   ]
  },
  {
   "cell_type": "code",
   "execution_count": null,
   "id": "BYtC",
   "metadata": {},
   "outputs": [
    {
     "name": "stdout",
     "output_type": "stream",
     "text": [
      "--- Condition (with 26 chars) ---\n",
      "str1: tkgnkuhmpxnhtqgxzvxis\n",
      "str2: iojiqfolnbxxcvsuqpvissbxf\n",
      "str3: ulcinycosovozpplp\n",
      "str4: igevazgbrddbcsvrvnngf\n",
      "str5: pyplrzxucpmqvgtdfuivcdsbo\n",
      "str6: pbdevdcvdpfzsmsbroqvbbh\n",
      "str7: enbczfjtvxerzbrvigple\n",
      "str8: rxwxqkrdrlctodtmprpxwd\n",
      "\n",
      "--- Solution (of length 133) ---\n",
      " Sol: rigevazxgbwxqkrdrlctodtmprpknbxwczfjtvxerzbrvigdevdcvdpfzsymsbrouplrzxucpmqvgtdfuivcdebcsivnycrolsvnboxkxcvsouzhpmplxnhtqpgxzvxissbxf\n",
      "str1: -------------------t-------k------------------g--------------------------------------------n-----------k-----u-h-mp-xnhtq-gxzvxis----\n",
      "str2: -i------------------o--------------j---------i----------------------------q----f---------------ol--nb-x-xcvs-u----------qp---v-issbxf\n",
      "str3: ----------------------------------------------------------------u-l----c---------i---------nyc-o-s---o----v-o-z-p-pl-----p-----------\n",
      "str4: -igevaz-gb----rd-----d-------b--c------------------------s-----------------v------------------r---vn-----------------n----g---------f\n",
      "str5: ------------------------p---------------------------------y------plrzxucpmqvgtdfuivcd---s-----------bo-------------------------------\n",
      "str6: ------------------------p----b-----------------devdcvdpfzs-msbro----------qv----------b-------------b----------h---------------------\n",
      "str7: ---e------------------------nb--czfjtvxerzbrvig-------p-----------l------------------e-----------------------------------------------\n",
      "str8: r------x--wxqkrdrlctodtmprp---xw---------------d-------------------------------------------------------------------------------------\n",
      "\n",
      "solution is feasible: True\n"
     ]
    }
   ],
   "source": [
    "_instance = instance_02\n",
    "_solution = solution_02\n",
    "\n",
    "util.show(_instance)\n",
    "if _solution is not None:\n",
    "    util.show(_instance, _solution)\n",
    "    print(f\"solution is feasible: {util.is_feasible(_instance, _solution)}\")\n",
    "else:\n",
    "    print(\"--- Solution not found ---\")"
   ]
  },
  {
   "cell_type": "code",
   "execution_count": null,
   "id": "RGSE",
   "metadata": {},
   "outputs": [
    {
     "name": "stdout",
     "output_type": "stream",
     "text": [
      "\n",
      "Starting CP-SAT solver v9.14.6206\n",
      "Parameters: max_time_in_seconds: 60 log_search_progress: true\n",
      "Setting number of workers to 12\n",
      "\n",
      "Initial optimization model '': (model_fingerprint: 0xee9bc41fa0f95ee6)\n",
      "#Variables: 324 (#ints: 1 in objective) (323 primary variables)\n",
      "  - 323 in [0,322]\n",
      "  - 1 in [0,323]\n",
      "#kLinMax: 1 (#expressions: 16)\n",
      "#kLinear2: 47'165 (#complex_domain: 46'858)\n",
      "\n",
      "Starting presolve at 0.01s\n"
     ]
    },
    {
     "name": "stdout",
     "output_type": "stream",
     "text": [
      "  2.75e-03s  0.00e+00d  [DetectDominanceRelations] \n",
      "  6.57e-01s  0.00e+00d  [PresolveToFixPoint] #num_loops=25 #num_dual_strengthening=1 \n",
      "  2.28e-04s  0.00e+00d  [ExtractEncodingFromLinear] \n"
     ]
    },
    {
     "name": "stdout",
     "output_type": "stream",
     "text": [
      "  3.30e-03s  0.00e+00d  [DetectDuplicateColumns] \n",
      "  1.08e-03s  0.00e+00d  [DetectDuplicateConstraints] \n",
      "[Symmetry] Graph for symmetry has 47'828 nodes and 94'685 arcs.\n"
     ]
    },
    {
     "name": "stdout",
     "output_type": "stream",
     "text": [
      "[Symmetry] Symmetry computation done. time: 0.00536159 dtime: 0.00957173\n"
     ]
    },
    {
     "name": "stdout",
     "output_type": "stream",
     "text": [
      "  1.20e-03s  0.00e+00d  [DetectDuplicateConstraintsWithDifferentEnforcements] \n",
      "  4.08e+00s  1.00e+00d *[Probe] #probed=51'616 #new_bounds=1 \n",
      "  1.78e-04s  0.00e+00d  [MaxClique] \n"
     ]
    },
    {
     "name": "stdout",
     "output_type": "stream",
     "text": [
      "  2.78e-03s  0.00e+00d  [DetectDominanceRelations] \n",
      "  4.86e-02s  0.00e+00d  [PresolveToFixPoint] #num_loops=2 #num_dual_strengthening=1 \n",
      "  5.25e-03s  0.00e+00d  [ProcessAtMostOneAndLinear] \n",
      "  1.10e-03s  0.00e+00d  [DetectDuplicateConstraints] \n",
      "  1.07e-03s  0.00e+00d  [DetectDuplicateConstraintsWithDifferentEnforcements] \n"
     ]
    },
    {
     "name": "stdout",
     "output_type": "stream",
     "text": [
      "  1.69e-02s  7.43e-04d  [DetectDominatedLinearConstraints] #relevant_constraints=47'181 \n"
     ]
    },
    {
     "name": "stdout",
     "output_type": "stream",
     "text": [
      "  1.70e-02s  0.00e+00d  [DetectDifferentVariables] #different=47'165 #cliques=274 #size=6'334 \n",
      "  3.39e-04s  0.00e+00d  [ProcessSetPPC] \n",
      "  4.13e-04s  0.00e+00d  [FindAlmostIdenticalLinearConstraints] \n",
      "  9.30e-06s  0.00e+00d  [FindBigAtMostOneAndLinearOverlap] \n",
      "  7.95e-03s  2.39e-03d  [FindBigVerticalLinearOverlap] \n",
      "  1.31e-04s  0.00e+00d  [FindBigHorizontalLinearOverlap] \n",
      "  8.19e-05s  0.00e+00d  [MergeClauses] \n"
     ]
    },
    {
     "name": "stdout",
     "output_type": "stream",
     "text": [
      "  2.92e-03s  0.00e+00d  [DetectDominanceRelations] \n",
      "  4.95e-02s  0.00e+00d  [PresolveToFixPoint] #num_loops=1 #num_dual_strengthening=1 \n"
     ]
    },
    {
     "name": "stdout",
     "output_type": "stream",
     "text": [
      "  2.88e-03s  0.00e+00d  [DetectDominanceRelations] \n",
      "  4.92e-02s  0.00e+00d  [PresolveToFixPoint] #num_loops=1 #num_dual_strengthening=1 \n",
      "  1.17e-03s  0.00e+00d  [DetectDuplicateColumns] \n",
      "  1.44e-03s  0.00e+00d  [DetectDuplicateConstraints] \n",
      "[Symmetry] Graph for symmetry has 48'425 nodes and 101'342 arcs.\n"
     ]
    },
    {
     "name": "stdout",
     "output_type": "stream",
     "text": [
      "[Symmetry] Symmetry computation done. time: 0.00426334 dtime: 0.00992362\n"
     ]
    },
    {
     "name": "stdout",
     "output_type": "stream",
     "text": [
      "  1.53e-03s  0.00e+00d  [DetectDuplicateConstraintsWithDifferentEnforcements] \n",
      "  1.28e+01s  1.00e+00d *[Probe] #probed=48'168 \n",
      "  1.92e-04s  0.00e+00d  [MaxClique] \n"
     ]
    },
    {
     "name": "stdout",
     "output_type": "stream",
     "text": [
      "  2.92e-03s  0.00e+00d  [DetectDominanceRelations] \n",
      "  4.96e-02s  0.00e+00d  [PresolveToFixPoint] #num_loops=1 #num_dual_strengthening=1 \n",
      "  5.24e-03s  0.00e+00d  [ProcessAtMostOneAndLinear] \n",
      "  1.44e-03s  0.00e+00d  [DetectDuplicateConstraints] \n",
      "  1.40e-03s  0.00e+00d  [DetectDuplicateConstraintsWithDifferentEnforcements] \n"
     ]
    },
    {
     "name": "stdout",
     "output_type": "stream",
     "text": [
      "  1.70e-02s  7.43e-04d  [DetectDominatedLinearConstraints] #relevant_constraints=47'181 \n",
      "  6.32e-03s  0.00e+00d  [DetectDifferentVariables] \n",
      "  2.23e-04s  0.00e+00d  [ProcessSetPPC] \n",
      "  2.87e-04s  0.00e+00d  [FindAlmostIdenticalLinearConstraints] \n",
      "  8.97e-06s  0.00e+00d  [FindBigAtMostOneAndLinearOverlap] \n"
     ]
    },
    {
     "name": "stdout",
     "output_type": "stream",
     "text": [
      "  8.18e-03s  2.39e-03d  [FindBigVerticalLinearOverlap] \n",
      "  1.75e-04s  0.00e+00d  [FindBigHorizontalLinearOverlap] \n",
      "  8.65e-05s  0.00e+00d  [MergeClauses] \n"
     ]
    },
    {
     "name": "stdout",
     "output_type": "stream",
     "text": [
      "  2.90e-03s  0.00e+00d  [DetectDominanceRelations] \n",
      "  4.96e-02s  0.00e+00d  [PresolveToFixPoint] #num_loops=1 #num_dual_strengthening=1 \n",
      "  2.49e-04s  0.00e+00d  [ExpandObjective] \n"
     ]
    },
    {
     "name": "stdout",
     "output_type": "stream",
     "text": [
      "\n",
      "Presolve summary:\n",
      "  - 0 affine relations were detected.\n",
      "  - rule 'TODO dual: only one unspecified blocking constraint?' was applied 6 times.\n",
      "  - rule 'all_diff: inferred from x != y constraints' was applied 274 times.\n",
      "  - rule 'lin_max: rewrite with precedences' was applied 1 time.\n",
      "  - rule 'lin_max: target domain reduced' was applied 1 time.\n",
      "  - rule 'linear: expanded complex rhs' was applied 46'858 times.\n",
      "  - rule 'linear: reduced variable domains' was applied 3'189 times.\n",
      "  - rule 'new_bool: complex linear expansion' was applied 46'858 times.\n",
      "  - rule 'presolve: 0 unused variables removed.' was applied 1 time.\n",
      "  - rule 'presolve: iteration' was applied 2 times.\n"
     ]
    },
    {
     "name": "stdout",
     "output_type": "stream",
     "text": [
      "\n"
     ]
    },
    {
     "name": "stdout",
     "output_type": "stream",
     "text": [
      "Presolved optimization model '': (model_fingerprint: 0xf8d45fdc883c8e8)\n",
      "#Variables: 47'182 (#ints: 1 in objective) (47'181 primary variables)\n",
      "  - 46'858 Booleans in [0,1]\n",
      "  - 167 different domains in [0,322] with a largest complexity of 1.\n",
      "#kAllDiff: 274\n",
      "#kLinear2: 94'039 (#enforced: 93'716)\n"
     ]
    },
    {
     "name": "stdout",
     "output_type": "stream",
     "text": [
      "[Symmetry] Graph for symmetry has 188'999 nodes and 335'632 arcs.\n"
     ]
    },
    {
     "name": "stdout",
     "output_type": "stream",
     "text": [
      "[Symmetry] Symmetry computation done. time: 0.0308277 dtime: 0.0491116\n",
      "\n",
      "Preloading model.\n",
      "#Bound  18.07s best:inf   next:[25,322]   initial_domain\n"
     ]
    },
    {
     "name": "stdout",
     "output_type": "stream",
     "text": [
      "#Model  18.10s var:47182/47182 constraints:94313/94313\n",
      "\n",
      "Starting search at 18.10s with 12 workers.\n",
      "8 full problem subsolvers: [default_lp, lb_tree_search, max_lp, no_lp, pseudo_costs, quick_restart, quick_restart_no_lp, reduced_costs]\n",
      "4 first solution subsolvers: [fj(2), fs_random, fs_random_no_lp]\n",
      "10 interleaved subsolvers: [feasibility_pump, graph_arc_lns, graph_cst_lns, graph_dec_lns, graph_var_lns, ls, ls_lin, rins/rens, rnd_cst_lns, rnd_var_lns]\n",
      "3 helper subsolvers: [neighborhood_helper, synchronization_agent, update_gap_integral]\n",
      "\n"
     ]
    },
    {
     "name": "stdout",
     "output_type": "stream",
     "text": [
      "#1      25.08s best:321   next:[25,320]   rens_pump_lns (d=9.96e-01 s=61 t=0.10 p=1.00 stall=0 h=base)\n"
     ]
    },
    {
     "name": "stdout",
     "output_type": "stream",
     "text": [
      "#2      36.27s best:320   next:[25,319]   ls_restart_decay(batch:1 lin{mvs:835 evals:2'876} #w_updates:566 #perturb:0)\n"
     ]
    },
    {
     "name": "stdout",
     "output_type": "stream",
     "text": [
      "#3      36.33s best:319   next:[25,318]   ls_lin_restart_perturb(batch:1 lin{mvs:126 evals:534} #w_updates:124 #perturb:0)\n"
     ]
    },
    {
     "name": "stdout",
     "output_type": "stream",
     "text": [
      "#4      36.36s best:318   next:[25,317]   ls_lin_restart_perturb(batch:1 lin{mvs:35 evals:139} #w_updates:32 #perturb:0)\n"
     ]
    },
    {
     "name": "stdout",
     "output_type": "stream",
     "text": [
      "#5      36.42s best:317   next:[25,316]   ls_restart_decay_perturb(batch:1 lin{mvs:529 evals:1'881} #w_updates:335 #perturb:0)\n"
     ]
    },
    {
     "name": "stdout",
     "output_type": "stream",
     "text": [
      "#6      38.34s best:296   next:[25,295]   graph_var_lns (d=5.00e-01 s=65 t=0.10 p=0.00 stall=0 h=base)\n"
     ]
    },
    {
     "name": "stdout",
     "output_type": "stream",
     "text": [
      "#Bound  41.24s best:296   next:[26,295]   reduced_costs\n"
     ]
    },
    {
     "name": "stdout",
     "output_type": "stream",
     "text": [
      "#7      42.03s best:295   next:[26,294]   ls_restart_decay_perturb(batch:1 lin{mvs:463 evals:1'944} #w_updates:209 #perturb:0)\n"
     ]
    },
    {
     "name": "stdout",
     "output_type": "stream",
     "text": [
      "#8      42.70s best:294   next:[26,293]   ls_restart_decay(batch:1 lin{mvs:735 evals:2'962} #w_updates:289 #perturb:0)\n"
     ]
    },
    {
     "name": "stdout",
     "output_type": "stream",
     "text": [
      "#9      44.15s best:293   next:[26,292]   ls_restart_decay_perturb(batch:1 lin{mvs:339 evals:1'661} #w_updates:87 #perturb:0)\n"
     ]
    },
    {
     "name": "stdout",
     "output_type": "stream",
     "text": [
      "#10     44.22s best:292   next:[26,291]   ls_restart_decay(batch:1 lin{mvs:626 evals:2'393} #w_updates:231 #perturb:0)\n"
     ]
    },
    {
     "name": "stdout",
     "output_type": "stream",
     "text": [
      "#11     44.55s best:291   next:[26,290]   ls_lin_restart_decay_perturb(batch:1 lin{mvs:240 evals:874} #w_updates:110 #perturb:0)\n"
     ]
    },
    {
     "name": "stdout",
     "output_type": "stream",
     "text": [
      "#12     48.18s best:289   next:[26,288]   rnd_var_lns (d=9.56e-01 s=200 t=0.10 p=1.00 stall=0 h=base)\n"
     ]
    },
    {
     "name": "stdout",
     "output_type": "stream",
     "text": [
      "#13     48.57s best:288   next:[26,287]   ls_lin_restart_decay_perturb(batch:1 lin{mvs:367 evals:1'530} #w_updates:109 #perturb:0)\n"
     ]
    },
    {
     "name": "stdout",
     "output_type": "stream",
     "text": [
      "#14     49.43s best:287   next:[26,286]   ls_lin_restart_perturb(batch:1 lin{mvs:516 evals:2'632} #w_updates:307 #perturb:0)\n"
     ]
    },
    {
     "name": "stdout",
     "output_type": "stream",
     "text": [
      "#15     53.44s best:286   next:[26,285]   ls_restart_decay(batch:1 lin{mvs:406 evals:1'843} #w_updates:110 #perturb:0)\n"
     ]
    },
    {
     "name": "stdout",
     "output_type": "stream",
     "text": [
      "#16     59.44s best:285   next:[26,284]   ls_lin_restart_perturb(batch:1 lin{mvs:175 evals:800} #w_updates:121 #perturb:0)\n"
     ]
    },
    {
     "name": "stdout",
     "output_type": "stream",
     "text": [
      "\n",
      "Task timing                      n [     min,      max]      avg      dev     time         n [     min,      max]      avg      dev    dtime\n",
      "           'default_lp':         1 [  41.91s,   41.91s]   41.91s   0.00ns   41.91s         1 [531.08ms, 531.08ms] 531.08ms   0.00ns 531.08ms\n",
      "     'feasibility_pump':       117 [ 20.43us, 130.98ms]   1.20ms  12.05ms 140.41ms        17 [ 44.48us, 373.35us]  63.82us  77.38us   1.08ms\n",
      "                   'fj':         9 [125.82ms, 241.70ms] 206.75ms  34.39ms    1.86s         9 [100.29ms, 102.49ms] 102.06ms 688.83us 918.57ms\n",
      "                   'fj':         9 [148.66ms, 285.67ms] 200.72ms  44.06ms    1.81s         9 [100.31ms, 103.32ms] 102.15ms   1.02ms 919.36ms\n",
      "            'fs_random':         1 [   7.00s,    7.00s]    7.00s   0.00ns    7.00s         0 [  0.00ns,   0.00ns]   0.00ns   0.00ns   0.00ns\n",
      "      'fs_random_no_lp':         1 [   6.99s,    6.99s]    6.99s   0.00ns    6.99s         0 [  0.00ns,   0.00ns]   0.00ns   0.00ns   0.00ns\n",
      "        'graph_arc_lns':         2 [   8.29s,   10.54s]    9.42s    1.13s   18.83s         1 [891.26us, 891.26us] 891.26us   0.00ns 891.26us\n",
      "        'graph_cst_lns':         2 [   8.70s,   10.35s]    9.53s 822.06ms   19.05s         1 [  1.14ms,   1.14ms]   1.14ms   0.00ns   1.14ms\n",
      "        'graph_dec_lns':         2 [   5.03s,    8.23s]    6.63s    1.60s   13.25s         2 [137.73us,  93.19ms]  46.66ms  46.52ms  93.32ms\n",
      "        'graph_var_lns':         2 [  13.24s,   14.96s]   14.10s 861.72ms   28.20s         2 [100.33ms, 100.49ms] 100.41ms  79.36us 200.82ms\n",
      "       'lb_tree_search':         1 [  41.95s,   41.95s]   41.95s   0.00ns   41.95s         0 [  0.00ns,   0.00ns]   0.00ns   0.00ns   0.00ns\n",
      "                   'ls':       117 [ 52.79ms, 134.81ms]  98.67ms  12.85ms   11.54s       117 [ 36.69ms, 126.16ms] 100.81ms  13.14ms   11.80s\n",
      "               'ls_lin':       117 [ 21.60ms, 189.58ms] 100.76ms  19.02ms   11.79s       117 [  3.07ms, 124.39ms] 100.25ms  19.49ms   11.73s\n",
      "               'max_lp':         1 [  41.89s,   41.89s]   41.89s   0.00ns   41.89s         1 [   7.59s,    7.59s]    7.59s   0.00ns    7.59s\n",
      "                'no_lp':         1 [  41.91s,   41.91s]   41.91s   0.00ns   41.91s         1 [700.44ms, 700.44ms] 700.44ms   0.00ns 700.44ms\n",
      "         'pseudo_costs':         1 [  41.91s,   41.91s]   41.91s   0.00ns   41.91s         1 [   3.11s,    3.11s]    3.11s   0.00ns    3.11s\n",
      "        'quick_restart':         1 [  41.91s,   41.91s]   41.91s   0.00ns   41.91s         1 [612.83ms, 612.83ms] 612.83ms   0.00ns 612.83ms\n",
      "  'quick_restart_no_lp':         1 [  41.91s,   41.91s]   41.91s   0.00ns   41.91s         1 [580.38ms, 580.38ms] 580.38ms   0.00ns 580.38ms\n",
      "        'reduced_costs':         1 [  41.91s,   41.91s]   41.91s   0.00ns   41.91s         1 [593.90ms, 593.90ms] 593.90ms   0.00ns 593.90ms\n",
      "            'rins/rens':        19 [ 66.71ms,    5.59s] 894.80ms    1.78s   17.00s         3 [100.01ms, 100.14ms] 100.08ms  53.91us 300.24ms\n",
      "          'rnd_cst_lns':         2 [   7.30s,   11.07s]    9.19s    1.88s   18.37s         1 [  2.13ms,   2.13ms]   2.13ms   0.00ns   2.13ms\n",
      "          'rnd_var_lns':         9 [161.25ms,    3.47s]    1.32s    1.05s   11.85s         9 [ 10.00ns, 100.13ms]  27.04ms  40.99ms 243.39ms\n",
      "\n",
      "Search stats               Bools  Conflicts  Branches  Restarts  BoolPropag  IntegerPropag\n",
      "           'default_lp':  46'858         51   108'498    69'422      13'141      1'138'611\n",
      "            'fs_random':  46'858          0    13'192    13'192           0        198'641\n",
      "      'fs_random_no_lp':  46'858          0    13'154    13'154           0        198'007\n",
      "       'lb_tree_search':  46'858          0    49'370    49'370           0        796'959\n",
      "               'max_lp':  46'858          0    49'966    49'370          10        798'795\n",
      "                'no_lp':  46'858         50   117'571    77'891      13'159      1'266'988\n",
      "         'pseudo_costs':  46'858         50    83'686    50'413       2'201        934'289\n",
      "        'quick_restart':  46'858         10    79'335    79'279          10      1'206'343\n",
      "  'quick_restart_no_lp':  46'858         10   107'140    74'518      14'909      1'180'246\n",
      "        'reduced_costs':  46'860          1    76'113    76'113      27'898      1'266'095\n",
      "\n",
      "SAT stats                 ClassicMinim  LitRemoved  LitLearned  LitForgotten  Subsumed  MClauses  MDecisions  MLitTrue  MSubsumed  MLitRemoved  MReused\n",
      "           'default_lp':            21          21       1'254             0         2         0           0         0          0            0        0\n",
      "            'fs_random':             0           0           0             0         0         0           0         0          0            0        0\n",
      "      'fs_random_no_lp':             0           0           0             0         0         0           0         0          0            0        0\n",
      "       'lb_tree_search':             0           0           0             0         0         0           0         0          0            0        0\n",
      "               'max_lp':             0           0           0             0         0         0           0         0          0            0        0\n",
      "                'no_lp':            21          27       1'040             0         1         0           0         0          0            0        0\n",
      "         'pseudo_costs':             0           0         151             0         0         0           0         0          0            0        0\n",
      "        'quick_restart':             0           0          20             0         0         0           0         0          0            0        0\n",
      "  'quick_restart_no_lp':             5           5         170             0         0         0           0         0          0            0        0\n",
      "        'reduced_costs':             0           0           1             0         0         0           0         0          0            0        0\n",
      "\n",
      "Lp stats             Component  Iterations  AddedCuts  OPTIMAL  DUAL_F.  DUAL_U.\n",
      "      'default_lp':          1           0          0    1'959        0        0\n",
      "       'fs_random':          1           0          0        0        0        0\n",
      "  'lb_tree_search':          1      35'711     47'615        1        0        0\n",
      "          'max_lp':          1      15'950          0        0      600        0\n",
      "    'pseudo_costs':          1      28'214      6'343      196    2'376        0\n",
      "   'quick_restart':          1           0          0        6        0        0\n",
      "   'reduced_costs':          1       1'738      7'173       12        0        0\n",
      "\n",
      "Lp dimension                Final dimension of first component\n",
      "      'default_lp':             0 rows, 324 columns, 0 entries\n",
      "       'fs_random':             0 rows, 324 columns, 0 entries\n",
      "  'lb_tree_search':  92667 rows, 47182 columns, 277773 entries\n",
      "          'max_lp':  92662 rows, 47182 columns, 277663 entries\n",
      "    'pseudo_costs':    8292 rows, 47182 columns, 24626 entries\n",
      "   'quick_restart':             0 rows, 324 columns, 0 entries\n",
      "   'reduced_costs':     1250 rows, 47182 columns, 5727 entries\n",
      "\n",
      "Lp debug             CutPropag  CutEqPropag  Adjust  Overflow     Bad  BadScaling\n",
      "      'default_lp':          0            0       0         0       0           0\n",
      "       'fs_random':          0            0       0         0       0           0\n",
      "  'lb_tree_search':          0            0       0         0  11'777           0\n",
      "          'max_lp':          0            0       0         0       0           0\n",
      "    'pseudo_costs':          0            0       0         0     744           0\n",
      "   'quick_restart':          0            0       0         0       0           0\n",
      "   'reduced_costs':          0            0       0         0     965           0\n",
      "\n",
      "Lp pool              Constraints  Updates  Simplif  Merged  Shortened  Split  Strenghtened      Cuts/Call\n",
      "      'default_lp':          323        0        0       0          0      0             0            0/0\n",
      "       'fs_random':          323        0        0       0          0      0             0            0/0\n",
      "  'lb_tree_search':      140'277       60        0   1'377          0      0        33'033  47'615/88'887\n",
      "          'max_lp':       92'662        0        0   1'377          0      0             0            0/0\n",
      "    'pseudo_costs':       98'445      714   92'339   1'937          0      0        93'118   6'343/25'155\n",
      "   'quick_restart':          323        0        0       0          0      0             0            0/0\n",
      "   'reduced_costs':       99'178      849   92'339   2'034          0      0        93'416   7'173/24'772\n",
      "\n",
      "Lp Cut            reduced_costs  pseudo_costs  lb_tree_search\n",
      "     AllDiff_aa:            580           461               3\n",
      "     AllDiff_ae:            365           228              54\n",
      "     AllDiff_ea:            441           386               -\n",
      "     AllDiff_ee:            554           509             116\n",
      "          CG_FF:             31            19              11\n",
      "           CG_K:             11             9              11\n",
      "           CG_R:             17            10               -\n",
      "          CG_RB:             27            23               -\n",
      "         CG_RBP:              5             9               -\n",
      "             IB:            194         1'614              50\n",
      "       MIR_1_FF:          1'600         1'230          15'373\n",
      "        MIR_1_K:             14            14             251\n",
      "       MIR_1_RB:            514           185           9'535\n",
      "      MIR_1_RBP:            107            92           3'802\n",
      "       MIR_2_FF:            375           148           1'111\n",
      "        MIR_2_K:              1             -              12\n",
      "        MIR_2_R:              -             1              16\n",
      "       MIR_2_RB:            345           154             764\n",
      "      MIR_2_RBP:             20            19              95\n",
      "       MIR_3_FF:             39            14             159\n",
      "        MIR_3_K:              4             -               4\n",
      "        MIR_3_R:              -             -              25\n",
      "       MIR_3_RB:             39            14             140\n",
      "      MIR_3_RBP:              1             1              39\n",
      "       MIR_4_FF:             19            13              28\n",
      "        MIR_4_R:              1             1               7\n",
      "       MIR_4_RB:             25            13              23\n",
      "      MIR_4_RBP:              1             3              13\n",
      "       MIR_5_FF:              7             7               3\n",
      "        MIR_5_R:              -             1               4\n",
      "       MIR_5_RB:             10             9               7\n",
      "      MIR_5_RBP:              -             -               5\n",
      "       MIR_6_FF:              3             3               -\n",
      "        MIR_6_R:              1             -               1\n",
      "       MIR_6_RB:              5             4               1\n",
      "      MIR_6_RBP:              -             2               1\n",
      "   ZERO_HALF_FF:            903           630           5'174\n",
      "    ZERO_HALF_K:             12            13             163\n",
      "    ZERO_HALF_R:            491           249           5'288\n",
      "   ZERO_HALF_RB:            323           159           4'696\n",
      "  ZERO_HALF_RBP:             88            96             630\n",
      "\n",
      "LNS stats           Improv/Calls  Closed  Difficulty  TimeLimit\n",
      "  'graph_arc_lns':           0/1    100%    7.07e-01       0.10\n",
      "  'graph_cst_lns':           0/1    100%    7.07e-01       0.10\n",
      "  'graph_dec_lns':           1/2    100%    8.14e-01       0.10\n",
      "  'graph_var_lns':           2/2      0%    1.86e-01       0.10\n",
      "      'rins/rens':         19/19     84%    9.93e-01       0.10\n",
      "    'rnd_cst_lns':           0/1    100%    7.07e-01       0.10\n",
      "    'rnd_var_lns':           4/9     78%    9.41e-01       0.10\n",
      "\n",
      "LS stats                                    Batches  Restarts/Perturbs  LinMoves  GenMoves  CompoundMoves  Bactracks  WeightUpdates  ScoreComputed\n",
      "                             'fj_restart':        1                  1    11'164         0              0          0              1         32'185\n",
      "            'fj_restart_compound_perturb':        2                  1         0    12'023         12'023          0              0         80'435\n",
      "                       'fj_restart_decay':        1                  1    10'927         0              0          0              0         33'056\n",
      "          'fj_restart_decay_compound_obj':        1                  1         0     8'025          7'996          0              0         49'218\n",
      "  'fj_restart_decay_compound_perturb_obj':        2                  2         0    16'945         16'936          0              0        105'086\n",
      "                   'fj_restart_decay_obj':        1                  1    10'948         0              0          0              1         32'025\n",
      "               'fj_restart_decay_perturb':        3                  2    24'459         0              0          0              2         83'501\n",
      "           'fj_restart_decay_perturb_obj':        2                  1    14'241         0              0          0              2         52'181\n",
      "                         'fj_restart_obj':        3                  3    33'505         0              0          0              3         98'238\n",
      "                     'fj_restart_perturb':        2                  1    14'284         0              0          0              3         52'076\n",
      "                         'ls_lin_restart':        8                  8     7'442         0              0          0          2'618        120'743\n",
      "                'ls_lin_restart_compound':       15                 15         0     1'673            102        751             36         62'967\n",
      "        'ls_lin_restart_compound_perturb':       16                 14         0     1'663             30        781             25         56'049\n",
      "                   'ls_lin_restart_decay':       14                 12    11'878         0              0          0          2'099        212'939\n",
      "          'ls_lin_restart_decay_compound':        9                  9         0       835             25        391             22         30'430\n",
      "  'ls_lin_restart_decay_compound_perturb':       19                 15         0     2'494             94      1'175             41         76'334\n",
      "           'ls_lin_restart_decay_perturb':       19                 16    15'410         0              0          0          2'759        266'562\n",
      "                 'ls_lin_restart_perturb':       17                 16    12'831         0              0          0          4'915        210'062\n",
      "                             'ls_restart':        9                  9     8'416         0              0          0          2'903        137'011\n",
      "                    'ls_restart_compound':       14                 12         0     1'166             33        530             26         50'104\n",
      "            'ls_restart_compound_perturb':       16                 16         0     1'769             38        845             29         59'146\n",
      "                       'ls_restart_decay':       10                  9     7'786         0              0          0          2'035        129'291\n",
      "              'ls_restart_decay_compound':       14                 12         0     2'152            127        994             37         65'802\n",
      "      'ls_restart_decay_compound_perturb':       16                 14         0     2'657             96      1'263             44         70'371\n",
      "               'ls_restart_decay_perturb':       15                 15    11'571         0              0          0          2'468        203'036\n",
      "                     'ls_restart_perturb':       23                 18    20'596         0              0          0          6'496        351'932\n",
      "\n",
      "Solutions (16)                     Num     Rank\n",
      "                 'graph_var_lns':    1    [6,6]\n",
      "  'ls_lin_restart_decay_perturb':    2  [11,13]\n",
      "        'ls_lin_restart_perturb':    4   [3,16]\n",
      "              'ls_restart_decay':    4   [2,15]\n",
      "      'ls_restart_decay_perturb':    3    [5,9]\n",
      "                 'rens_pump_lns':    1    [1,1]\n",
      "                   'rnd_var_lns':    1  [12,12]\n",
      "\n",
      "Objective bounds     Num\n",
      "  'initial_domain':    1\n",
      "   'reduced_costs':    1\n",
      "\n",
      "Solution repositories    Added  Queried  Synchro\n",
      "  'feasible solutions':     27      253       26\n",
      "   'fj solution hints':      6        0        6\n",
      "        'lp solutions':    337        1      192\n",
      "                'pump':    116       18\n",
      "\n",
      "Improving bounds shared    Num  Sym\n",
      "            'default_lp':  648    0\n",
      "          'pseudo_costs':  324    0\n",
      "         'quick_restart':  324    0\n",
      "         'reduced_costs':    1    0\n",
      "\n",
      "Clauses shared      Num\n",
      "   'pseudo_costs':    3\n",
      "  'quick_restart':   10\n",
      "\n",
      "CpSolverResponse summary:\n",
      "status: FEASIBLE\n",
      "objective: 285\n",
      "best_bound: 26\n",
      "integers: 324\n",
      "booleans: 46858\n",
      "conflicts: 0\n",
      "branches: 13154\n",
      "propagations: 0\n",
      "integer_propagations: 198007\n",
      "restarts: 13154\n",
      "lp_iterations: 0\n",
      "walltime: 60.0883\n",
      "usertime: 60.0883\n",
      "deterministic_time: 41.9281\n",
      "gap_integral: 222.679\n",
      "solution_fingerprint: 0x70ed82f4f977645e\n",
      "\n"
     ]
    }
   ],
   "source": [
    "instance_03 = util.parse(\"uniform_q26n016k015-025.txt\")\n",
    "solution_03 = solve(instance_03)"
   ]
  },
  {
   "cell_type": "code",
   "execution_count": null,
   "id": "Kclp",
   "metadata": {},
   "outputs": [
    {
     "name": "stdout",
     "output_type": "stream",
     "text": [
      "-------------------k-------------r---------i----------------------f----------savncdqwh--z-------------------------------c-----------------------------------------------------------------------------------------------------------------------------------------------\n",
      "str12: --------------------------q-------------a----------------x--------u------------dgqvqcewbfgijoww---------------------------------------------------------------------------------------------------y-------------------------------------------------------------------------------------------\n",
      "str13: -------------------------------------------------------rsxqjnfpadiusiqbezhko-------------------------------h---------------------------------------m----------------------g-------------------------------------------------------------------------------------------------------------------\n",
      "str14: ------i------------w-----------------------shvhcomiuvdd--------------------------------------------------------------------------------------------m------------------------------------------------------------------------------------------------------------------------------------------\n",
      "str15: ----------------------------htxxqjzqbctbak------------------n---------------------------------------------------------------------------------------------------------------------------------------------------------------------------------------------------------------------------------\n",
      "str16: -x------usfcfzpeecvwantfmgqz-----------------------u------------------------------------------------------------------------------------------------------------------------------------------------------------------------------------------------------------------------------------------\n",
      "\n",
      "solution is feasible: True\n"
     ]
    },
    {
     "name": "stdout",
     "output_type": "stream",
     "text": [
      "--- Condition (with 26 chars) ---\n",
      "str01: tkgnkuhmpxnhtqgxzvxis\n",
      "str02: iojiqfolnbxxcvsuqpvissbxf\n",
      "str03: ulcinycosovozpplp\n",
      "str04: igevazgbrddbcsvrvnngf\n",
      "str05: pyplrzxucpmqvgtdfuivcdsbo\n",
      "str06: pbdevdcvdpfzsmsbroqvbbh\n",
      "str07: enbczfjtvxerzbrvigple\n",
      "str08: rxwxqkrdrlctodtmprpxwd\n",
      "str09: kkqafigqjwokkskrblg\n",
      "str10: lxxpabivbvzkozzvd\n",
      "str11: krifsavncdqwhzc\n",
      "str12: qaxudgqvqcewbfgijowwy\n",
      "str13: rsxqjnfpadiusiqbezhkohmg\n",
      "str14: iwshvhcomiuvddm\n",
      "str15: htxxqjzqbctbakn\n",
      "str16: xusfcfzpeecvwantfmgqzu\n",
      "\n",
      "--- Solution (of length 286) ---\n",
      "  Sol: lxxpabivusfcfzpeecvwantfmgqzhtxxqjzqbctbakwshvhcomiuvddrsxqjnfpadiusiqbezhkoaxudgqvqcewbfgijowwkrifsavncdqwhbvzkozzkqafigqjwokkskrblrxwxqkrdrlctodtmprpxwenbczfjtvxerzbrvigplbdevdcvdpfzsmsbroqvbbyplrzxucpmqvgtdfuiovcdsgevazgbrddbcsvrvntlcinycosovozkgjppiqfolnkbxxcvsuhmpxnhtqgxzpvxissbxf\n",
      "str01: ----------------------t------------------k--------------------------------------g---------------------n--------k----------------------------------------------------------------------------------------u-----------------------------------------------------------------hmpxnhtqgxz-vxis----\n",
      "str02: ------i-----------------------------------------o----------j-----i---q------------------f---o--------------------------------------l----------------------nb------x------------------------------------x-c---v----------s------------------------------------------------u-------q---pv-issbxf\n",
      "str03: --------u--------------------------------------------------------------------------------------------------------------------------l----------c--------------------------i---------------------------------------------------------------n-----ycosovoz---pp----l-----------p-----------------\n",
      "str04: ------i------------------g---------------------------------------------e----------v-----------------a---------z---------g---------b-r------d-----d---------bc---------------------------s------v-----r-------v---------------------------n----n---------g-----f-------------------------------\n",
      "str05: ---p----------------------------------------------------------------------------------------------------------------------------------------------------------------------------------------------yplrzxucpmqvgtdfui-vcds------b-----------------o--------------------------------------------\n",
      "str06: ---p-b-----------------------------------------------d-----------------e----------v---------------------d-------------------------------------c------------------v------------d------pfzsmsbroqvbb------------------------------------------------------------------------h-------------------\n",
      "str07: ---------------e-----n--------------bc----------------------------------z---------------f--j---------------------------------------------------t-----------------vxerzbrvigpl--e--------------------------------------------------------------------------------------------------------------\n",
      "str08: -------------------------------------------------------r-x----------------------------w----------------------------------------------x--qkrdrlctodtmprpxw---------------------d---------------------------------------------------------------------------------------------------------------\n",
      "str09: -----------------------------------------k--------------------------------k------q------------------a-----------------figqjwokkskrbl--------------------------------------g-------------------------------------------------------------------------------------------------------------------\n",
      "str10: lxxpabiv----------------------------b--------v--------------------------z-ko----------------------------------z--z-----------------------------------------------v------------d---------------------------------------------------------------------------------------------------------------\n",
      "str11: -----------------------------------------k-------------r---------i----------------------f----------savncdqwh--z-------------------------------c-----------------------------------------------------------------------------------------------------------------------------------------------\n",
      "str12: --------------------------q-------------a----------------x--------u------------dgqvqcewbfgijoww---------------------------------------------------------------------------------------------------y-------------------------------------------------------------------------------------------\n",
      "str13: -------------------------------------------------------rsxqjnfpadiusiqbezhko-------------------------------h---------------------------------------m----------------------g-------------------------------------------------------------------------------------------------------------------\n",
      "str14: ------i------------w-----------------------shvhcomiuvdd--------------------------------------------------------------------------------------------m-------------------------------"
     ]
    },
    {
     "name": "stdout",
     "output_type": "stream",
     "text": [
      "-----------------------------------------------------------------------------------------------------------\n",
      "str15: ----------------------------htxxqjzqbctbak------------------n---------------------------------------------------------------------------------------------------------------------------------------------------------------------------------------------------------------------------------\n",
      "str16: -x------usfcfzpeecvwantfmgqz-----------------------u------------------------------------------------------------------------------------------------------------------------------------------------------------------------------------------------------------------------------------------\n",
      "\n",
      "solution is feasible: True\n"
     ]
    }
   ],
   "source": [
    "_instance = instance_03\n",
    "_solution = solution_03\n",
    "\n",
    "util.show(_instance)\n",
    "if _solution is not None:\n",
    "    util.show(_instance, _solution)\n",
    "    print(f\"solution is feasible: {util.is_feasible(_instance, _solution)}\")\n",
    "else:\n",
    "    print(\"--- Solution not found ---\")"
   ]
  },
  {
   "cell_type": "code",
   "execution_count": null,
   "id": "emfo",
   "metadata": {},
   "outputs": [
    {
     "name": "stdout",
     "output_type": "stream",
     "text": [
      "\n",
      "Starting CP-SAT solver v9.14.6206\n",
      "Parameters: max_time_in_seconds: 60 log_search_progress: true\n",
      "Setting number of workers to 12\n",
      "\n",
      "Initial optimization model '': (model_fingerprint: 0xe8b91a3b1b284b47)\n",
      "#Variables: 101 (#ints: 1 in objective) (100 primary variables)\n",
      "  - 100 in [0,99]\n",
      "  - 1 in [0,100]\n",
      "#kLinMax: 1 (#expressions: 10)\n",
      "#kLinear2: 3'705 (#complex_domain: 3'615)\n",
      "\n",
      "Starting presolve at 0.00s\n"
     ]
    },
    {
     "name": "stdout",
     "output_type": "stream",
     "text": [
      "  2.48e-04s  0.00e+00d  [DetectDominanceRelations] \n",
      "  2.55e-02s  0.00e+00d  [PresolveToFixPoint] #num_loops=10 #num_dual_strengthening=1 \n",
      "  1.43e-05s  0.00e+00d  [ExtractEncodingFromLinear] \n",
      "  1.37e-04s  0.00e+00d  [DetectDuplicateColumns] \n",
      "  1.27e-04s  0.00e+00d  [DetectDuplicateConstraints] \n",
      "[Symmetry] Graph for symmetry has 3'916 nodes and 7'530 arcs.\n",
      "[Symmetry] Symmetry computation done. time: 0.000404408 dtime: 0.0009157\n"
     ]
    },
    {
     "name": "stdout",
     "output_type": "stream",
     "text": [
      "  1.74e-04s  0.00e+00d  [DetectDuplicateConstraintsWithDifferentEnforcements] \n",
      "  1.60e-01s  4.68e-02d  [Probe] #probed=14'460 #new_bounds=1 \n",
      "  7.09e-06s  0.00e+00d  [MaxClique] \n",
      "  2.27e-04s  0.00e+00d  [DetectDominanceRelations] \n",
      "  3.74e-03s  0.00e+00d  [PresolveToFixPoint] #num_loops=2 #num_dual_strengthening=1 \n",
      "  4.12e-04s  0.00e+00d  [ProcessAtMostOneAndLinear] \n",
      "  1.49e-04s  0.00e+00d  [DetectDuplicateConstraints] \n",
      "  1.57e-04s  0.00e+00d  [DetectDuplicateConstraintsWithDifferentEnforcements] \n",
      "  4.90e-04s  2.84e-05d  [DetectDominatedLinearConstraints] #relevant_constraints=3'715 \n",
      "  9.63e-04s  0.00e+00d  [DetectDifferentVariables] #different=3'705 #cliques=84 #size=506 \n",
      "  1.46e-05s  0.00e+00d  [ProcessSetPPC] \n",
      "  1.58e-05s  0.00e+00d  [FindAlmostIdenticalLinearConstraints] \n",
      "  4.12e-06s  0.00e+00d  [FindBigAtMostOneAndLinearOverlap] \n",
      "  4.46e-04s  1.88e-04d  [FindBigVerticalLinearOverlap] \n",
      "  8.97e-06s  0.00e+00d  [FindBigHorizontalLinearOverlap] \n",
      "  1.14e-05s  0.00e+00d  [MergeClauses] \n"
     ]
    },
    {
     "name": "stdout",
     "output_type": "stream",
     "text": [
      "  2.41e-04s  0.00e+00d  [DetectDominanceRelations] \n",
      "  3.83e-03s  0.00e+00d  [PresolveToFixPoint] #num_loops=1 #num_dual_strengthening=1 \n",
      "  2.35e-04s  0.00e+00d  [DetectDominanceRelations] \n",
      "  3.75e-03s  0.00e+00d  [PresolveToFixPoint] #num_loops=1 #num_dual_strengthening=1 \n",
      "  8.01e-05s  0.00e+00d  [DetectDuplicateColumns] \n",
      "  1.76e-04s  0.00e+00d  [DetectDuplicateConstraints] \n",
      "[Symmetry] Graph for symmetry has 4'100 nodes and 8'136 arcs.\n",
      "[Symmetry] Symmetry computation done. time: 0.00040553 dtime: 0.00097168\n"
     ]
    },
    {
     "name": "stdout",
     "output_type": "stream",
     "text": [
      "  2.04e-04s  0.00e+00d  [DetectDuplicateConstraintsWithDifferentEnforcements] \n",
      "  2.03e-01s  5.00e-02d  [Probe] #probed=14'460 \n",
      "  9.63e-06s  0.00e+00d  [MaxClique] \n",
      "  2.45e-04s  0.00e+00d  [DetectDominanceRelations] \n",
      "  3.85e-03s  0.00e+00d  [PresolveToFixPoint] #num_loops=1 #num_dual_strengthening=1 \n",
      "  4.16e-04s  0.00e+00d  [ProcessAtMostOneAndLinear] \n",
      "  1.64e-04s  0.00e+00d  [DetectDuplicateConstraints] \n",
      "  1.84e-04s  0.00e+00d  [DetectDuplicateConstraintsWithDifferentEnforcements] \n",
      "  4.82e-04s  2.84e-05d  [DetectDominatedLinearConstraints] #relevant_constraints=3'715 \n",
      "  4.58e-04s  0.00e+00d  [DetectDifferentVariables] \n",
      "  1.25e-05s  0.00e+00d  [ProcessSetPPC] \n",
      "  1.26e-05s  0.00e+00d  [FindAlmostIdenticalLinearConstraints] \n",
      "  3.05e-06s  0.00e+00d  [FindBigAtMostOneAndLinearOverlap] \n",
      "  4.34e-04s  1.88e-04d  [FindBigVerticalLinearOverlap] \n",
      "  9.06e-06s  0.00e+00d  [FindBigHorizontalLinearOverlap] \n",
      "  6.33e-06s  0.00e+00d  [MergeClauses] \n",
      "  2.38e-04s  0.00e+00d  [DetectDominanceRelations] \n",
      "  3.75e-03s  0.00e+00d  [PresolveToFixPoint] #num_loops=1 #num_dual_strengthening=1 \n",
      "  1.74e-05s  0.00e+00d  [ExpandObjective] \n"
     ]
    },
    {
     "name": "stdout",
     "output_type": "stream",
     "text": [
      "\n",
      "Presolve summary:\n",
      "  - 0 affine relations were detected.\n",
      "  - rule 'TODO dual: only one unspecified blocking constraint?' was applied 6 times.\n",
      "  - rule 'all_diff: inferred from x != y constraints' was applied 84 times.\n",
      "  - rule 'lin_max: rewrite with precedences' was applied 1 time.\n",
      "  - rule 'lin_max: target domain reduced' was applied 1 time.\n",
      "  - rule 'linear: expanded complex rhs' was applied 3'615 times.\n",
      "  - rule 'linear: reduced variable domains' was applied 450 times.\n",
      "  - rule 'new_bool: complex linear expansion' was applied 3'615 times.\n",
      "  - rule 'presolve: 0 unused variables removed.' was applied 1 time.\n",
      "  - rule 'presolve: iteration' was applied 2 times.\n",
      "\n",
      "Presolved optimization model '': (model_fingerprint: 0xca6ae7e125f5a476)\n",
      "#Variables: 3'716 (#ints: 1 in objective) (3'715 primary variables)\n",
      "  - 3'615 Booleans in [0,1]\n",
      "  - 10 in [0,90]\n",
      "  - 10 in [1,91]\n",
      "  - 10 in [2,92]\n",
      "  - 10 in [3,93]\n",
      "  - 10 in [4,94]\n",
      "  - 10 in [5,95]\n",
      "  - 10 in [6,96]\n",
      "  - 10 in [7,97]\n",
      "  - 10 in [8,98]\n",
      "  - 10 in [9,99]\n",
      "  - 1 in [10,99]\n",
      "#kAllDiff: 84\n",
      "#kLinear2: 7'330 (#enforced: 7'230)\n",
      "[Symmetry] Graph for symmetry has 14'945 nodes and 26'211 arcs.\n",
      "[Symmetry] Symmetry computation done. time: 0.00196869 dtime: 0.00438016\n",
      "\n",
      "Preloading model.\n",
      "#Bound   0.43s best:inf   next:[10,99]    initial_domain\n",
      "#Model   0.43s var:3716/3716 constraints:7414/7414\n",
      "\n",
      "Starting search at 0.43s with 12 workers.\n",
      "8 full problem subsolvers: [default_lp, lb_tree_search, max_lp, no_lp, pseudo_costs, quick_restart, quick_restart_no_lp, reduced_costs]\n",
      "4 first solution subsolvers: [fj(2), fs_random, fs_random_no_lp]\n",
      "10 interleaved subsolvers: [feasibility_pump, graph_arc_lns, graph_cst_lns, graph_dec_lns, graph_var_lns, ls, ls_lin, rins/rens, rnd_cst_lns, rnd_var_lns]\n",
      "3 helper subsolvers: [neighborhood_helper, synchronization_agent, update_gap_integral]\n",
      "\n"
     ]
    },
    {
     "name": "stdout",
     "output_type": "stream",
     "text": [
      "#1       0.64s best:97    next:[10,96]    quick_restart_no_lp\n"
     ]
    },
    {
     "name": "stdout",
     "output_type": "stream",
     "text": [
      "#2       0.84s best:96    next:[10,95]    no_lp\n"
     ]
    },
    {
     "name": "stdout",
     "output_type": "stream",
     "text": [
      "#3       0.85s best:95    next:[10,94]    no_lp\n"
     ]
    },
    {
     "name": "stdout",
     "output_type": "stream",
     "text": [
      "#4       0.87s best:94    next:[10,93]    no_lp\n"
     ]
    },
    {
     "name": "stdout",
     "output_type": "stream",
     "text": [
      "#5       0.88s best:93    next:[10,92]    no_lp\n"
     ]
    },
    {
     "name": "stdout",
     "output_type": "stream",
     "text": [
      "#6       0.89s best:92    next:[10,91]    no_lp\n"
     ]
    },
    {
     "name": "stdout",
     "output_type": "stream",
     "text": [
      "#7       0.90s best:91    next:[10,90]    no_lp\n",
      "#8       0.91s best:90    next:[10,89]    no_lp\n"
     ]
    },
    {
     "name": "stdout",
     "output_type": "stream",
     "text": [
      "#9       0.91s best:89    next:[10,88]    no_lp\n",
      "#10      0.92s best:88    next:[10,87]    no_lp\n"
     ]
    },
    {
     "name": "stdout",
     "output_type": "stream",
     "text": [
      "#11      0.93s best:87    next:[10,86]    no_lp\n",
      "#12      0.93s best:86    next:[10,85]    ls_restart_decay(batch:1 lin{mvs:3 evals:13} #w_updates:1 #perturb:0)\n",
      "#13      0.94s best:85    next:[10,84]    ls_lin_restart_perturb(batch:1 lin{mvs:121 evals:534} #w_updates:84 #perturb:0)\n"
     ]
    },
    {
     "name": "stdout",
     "output_type": "stream",
     "text": [
      "#14      0.96s best:84    next:[10,83]    default_lp\n",
      "#15      0.96s best:83    next:[10,82]    ls_restart_decay_compound(batch:1 lin{mvs:0 evals:2} gen{mvs:3 evals:7} comp{mvs:3 btracks:0} #w_updates:0 #perturb:0)\n"
     ]
    },
    {
     "name": "stdout",
     "output_type": "stream",
     "text": [
      "#16      0.98s best:82    next:[10,81]    ls_lin_restart_compound_perturb(batch:1 lin{mvs:0 evals:60} gen{mvs:204 evals:538} comp{mvs:24 btracks:90} #w_updates:3 #perturb:0)\n",
      "#17      0.99s best:81    next:[10,80]    default_lp\n"
     ]
    },
    {
     "name": "stdout",
     "output_type": "stream",
     "text": [
      "#18      0.99s best:80    next:[10,79]    ls_lin_restart_decay_perturb(batch:1 lin{mvs:3 evals:10} #w_updates:1 #perturb:0)\n"
     ]
    },
    {
     "name": "stdout",
     "output_type": "stream",
     "text": [
      "#19      1.00s best:79    next:[10,78]    no_lp\n",
      "#20      1.01s best:78    next:[10,77]    no_lp\n"
     ]
    },
    {
     "name": "stdout",
     "output_type": "stream",
     "text": [
      "#21      1.02s best:77    next:[10,76]    no_lp\n",
      "#22      1.02s best:76    next:[10,75]    no_lp\n"
     ]
    },
    {
     "name": "stdout",
     "output_type": "stream",
     "text": [
      "#23      1.03s best:75    next:[10,74]    no_lp\n",
      "#24      1.04s best:74    next:[10,73]    no_lp\n"
     ]
    },
    {
     "name": "stdout",
     "output_type": "stream",
     "text": [
      "#25      1.05s best:73    next:[10,72]    default_lp\n",
      "#26      1.06s best:72    next:[10,71]    default_lp\n"
     ]
    },
    {
     "name": "stdout",
     "output_type": "stream",
     "text": [
      "#27      1.06s best:71    next:[10,70]    default_lp\n",
      "#28      1.07s best:70    next:[10,69]    default_lp\n"
     ]
    },
    {
     "name": "stdout",
     "output_type": "stream",
     "text": [
      "#29      1.08s best:69    next:[10,68]    default_lp\n",
      "#30      1.08s best:68    next:[10,67]    default_lp\n"
     ]
    },
    {
     "name": "stdout",
     "output_type": "stream",
     "text": [
      "#31      1.09s best:67    next:[10,66]    default_lp\n"
     ]
    },
    {
     "name": "stdout",
     "output_type": "stream",
     "text": [
      "#32      1.11s best:66    next:[10,65]    default_lp\n",
      "#33      1.11s best:65    next:[10,64]    default_lp\n"
     ]
    },
    {
     "name": "stdout",
     "output_type": "stream",
     "text": [
      "#34      1.12s best:64    next:[10,63]    default_lp\n",
      "#35      1.13s best:63    next:[10,62]    default_lp\n"
     ]
    },
    {
     "name": "stdout",
     "output_type": "stream",
     "text": [
      "#36      1.14s best:62    next:[10,61]    default_lp\n"
     ]
    },
    {
     "name": "stdout",
     "output_type": "stream",
     "text": [
      "#37      1.16s best:61    next:[10,60]    default_lp\n",
      "#38      1.16s best:60    next:[10,59]    default_lp\n"
     ]
    },
    {
     "name": "stdout",
     "output_type": "stream",
     "text": [
      "#39      1.21s best:59    next:[10,58]    default_lp\n"
     ]
    },
    {
     "name": "stdout",
     "output_type": "stream",
     "text": [
      "#40      1.22s best:58    next:[10,57]    default_lp\n"
     ]
    },
    {
     "name": "stdout",
     "output_type": "stream",
     "text": [
      "#41      1.23s best:57    next:[10,56]    default_lp\n"
     ]
    },
    {
     "name": "stdout",
     "output_type": "stream",
     "text": [
      "#42      1.24s best:56    next:[10,55]    default_lp\n"
     ]
    },
    {
     "name": "stdout",
     "output_type": "stream",
     "text": [
      "#43      1.25s best:55    next:[10,54]    default_lp\n",
      "#44      1.26s best:54    next:[10,53]    default_lp\n"
     ]
    },
    {
     "name": "stdout",
     "output_type": "stream",
     "text": [
      "#Bound   1.27s best:54    next:[11,53]    reduced_costs\n",
      "#45      1.28s best:53    next:[11,52]    default_lp\n",
      "#Bound   1.28s best:53    next:[12,52]    reduced_costs\n"
     ]
    },
    {
     "name": "stdout",
     "output_type": "stream",
     "text": [
      "#46      1.30s best:52    next:[12,51]    default_lp\n",
      "#47      1.31s best:51    next:[12,50]    default_lp\n"
     ]
    },
    {
     "name": "stdout",
     "output_type": "stream",
     "text": [
      "#48      1.37s best:50    next:[12,49]    ls_restart_decay(batch:1 lin{mvs:121 evals:503} #w_updates:51 #perturb:0)\n"
     ]
    },
    {
     "name": "stdout",
     "output_type": "stream",
     "text": [
      "#49      1.39s best:49    next:[12,48]    default_lp\n",
      "#50      1.40s best:48    next:[12,47]    default_lp\n"
     ]
    },
    {
     "name": "stdout",
     "output_type": "stream",
     "text": [
      "#51      1.41s best:47    next:[12,46]    default_lp\n"
     ]
    },
    {
     "name": "stdout",
     "output_type": "stream",
     "text": [
      "#52      1.46s best:46    next:[12,45]    default_lp\n"
     ]
    },
    {
     "name": "stdout",
     "output_type": "stream",
     "text": [
      "#53      1.50s best:45    next:[12,44]    default_lp\n"
     ]
    },
    {
     "name": "stdout",
     "output_type": "stream",
     "text": [
      "#54      1.53s best:44    next:[12,43]    default_lp\n"
     ]
    },
    {
     "name": "stdout",
     "output_type": "stream",
     "text": [
      "#55      1.55s best:43    next:[12,42]    ls_lin_restart_decay_perturb(batch:1 lin{mvs:446 evals:2'030} #w_updates:79 #perturb:0)\n"
     ]
    },
    {
     "name": "stdout",
     "output_type": "stream",
     "text": [
      "#56      1.72s best:42    next:[12,41]    graph_var_lns (d=7.07e-01 s=48 t=0.10 p=1.00 stall=0 h=base)\n"
     ]
    },
    {
     "name": "stdout",
     "output_type": "stream",
     "text": [
      "#Bound   1.77s best:42    next:[13,41]    reduced_costs\n"
     ]
    },
    {
     "name": "stdout",
     "output_type": "stream",
     "text": [
      "#Bound   2.20s best:42    next:[14,41]    reduced_costs\n",
      "#57      2.21s best:40    next:[14,39]    graph_arc_lns (d=8.14e-01 s=58 t=0.10 p=1.00 stall=0 h=base)\n"
     ]
    },
    {
     "name": "stdout",
     "output_type": "stream",
     "text": [
      "#Bound   2.88s best:40    next:[15,39]    reduced_costs\n"
     ]
    },
    {
     "name": "stdout",
     "output_type": "stream",
     "text": [
      "#58      2.98s best:39    next:[15,38]    graph_var_lns (d=8.76e-01 s=75 t=0.10 p=1.00 stall=0 h=base)\n"
     ]
    },
    {
     "name": "stdout",
     "output_type": "stream",
     "text": [
      "#59      3.37s best:31    next:[15,30]    rins_pump_lns (d=8.21e-01 s=74 t=0.10 p=0.75 stall=0 h=base)\n"
     ]
    },
    {
     "name": "stdout",
     "output_type": "stream",
     "text": [
      "#60      5.72s best:30    next:[15,29]    rnd_cst_lns (d=9.39e-01 s=113 t=0.10 p=1.00 stall=0 h=base)\n"
     ]
    },
    {
     "name": "stdout",
     "output_type": "stream",
     "text": [
      "#61      7.39s best:29    next:[15,28]    graph_var_lns (d=9.13e-01 s=148 t=0.10 p=0.83 stall=0 h=base)\n"
     ]
    },
    {
     "name": "stdout",
     "output_type": "stream",
     "text": [
      "#Bound   9.48s best:29    next:[16,28]    reduced_costs\n"
     ]
    },
    {
     "name": "stdout",
     "output_type": "stream",
     "text": [
      "#62     15.21s best:28    next:[16,27]    graph_var_lns (d=9.15e-01 s=291 t=0.10 p=0.70 stall=0 h=base)\n"
     ]
    },
    {
     "name": "stdout",
     "output_type": "stream",
     "text": [
      "\n",
      "Task timing                      n [     min,      max]      avg      dev     time         n [     min,      max]      avg      dev    dtime\n",
      "           'default_lp':         1 [  59.57s,   59.57s]   59.57s   0.00ns   59.57s         1 [   7.75s,    7.75s]    7.75s   0.00ns    7.75s\n",
      "     'feasibility_pump':       266 [  3.78us,   8.69ms] 108.83us 528.52us  28.95ms       254 [ 13.78us,  73.96us]  14.01us   3.77us   3.56ms\n",
      "                   'fj':         4 [ 62.17ms,  66.89ms]  65.14ms   1.80ms 260.56ms         4 [100.21ms, 100.92ms] 100.41ms 298.45us 401.63ms\n",
      "                   'fj':         4 [ 62.48ms,  65.22ms]  64.35ms   1.09ms 257.39ms         4 [100.21ms, 100.46ms] 100.31ms 101.92us 401.25ms\n",
      "            'fs_random':         1 [208.88ms, 208.88ms] 208.88ms   0.00ns 208.88ms         1 [930.89us, 930.89us] 930.89us   0.00ns 930.89us\n",
      "      'fs_random_no_lp':         1 [211.31ms, 211.31ms] 211.31ms   0.00ns 211.31ms         1 [  1.84ms,   1.84ms]   1.84ms   0.00ns   1.84ms\n",
      "        'graph_arc_lns':        38 [261.60ms,    1.12s] 761.73ms 243.72ms   28.95s        38 [423.32us, 100.25ms]  66.46ms  35.25ms    2.53s\n",
      "        'graph_cst_lns':        39 [224.17ms,    1.14s] 741.39ms 293.93ms   28.91s        39 [125.81us, 100.27ms]  61.81ms  38.63ms    2.41s\n",
      "        'graph_dec_lns':        38 [ 67.44ms,    1.08s] 699.31ms 299.24ms   26.57s        37 [  6.47us, 100.07ms]  60.65ms  38.29ms    2.24s\n",
      "        'graph_var_lns':        37 [268.96ms,    1.05s] 748.70ms 269.05ms   27.70s        37 [  2.94ms, 100.26ms]  66.86ms  37.16ms    2.47s\n",
      "       'lb_tree_search':         1 [  59.57s,   59.57s]   59.57s   0.00ns   59.57s         1 [  33.56s,   33.56s]   33.56s   0.00ns   33.56s\n",
      "                   'ls':       266 [803.84us, 115.29ms]  75.93ms   9.75ms   20.20s       266 [ 48.46us, 100.52ms]  98.95ms  10.49ms   26.32s\n",
      "               'ls_lin':       266 [978.73us, 114.67ms]  76.04ms  10.12ms   20.23s       266 [ 45.40us, 100.90ms]  98.70ms  11.26ms   26.25s\n",
      "               'max_lp':         1 [  59.57s,   59.57s]   59.57s   0.00ns   59.57s         1 [  26.70s,   26.70s]   26.70s   0.00ns   26.70s\n",
      "                'no_lp':         1 [  59.57s,   59.57s]   59.57s   0.00ns   59.57s         1 [   8.02s,    8.02s]    8.02s   0.00ns    8.02s\n",
      "         'pseudo_costs':         1 [  59.57s,   59.57s]   59.57s   0.00ns   59.57s         1 [  16.07s,   16.07s]   16.07s   0.00ns   16.07s\n",
      "        'quick_restart':         1 [  59.57s,   59.57s]   59.57s   0.00ns   59.57s         1 [   7.48s,    7.48s]    7.48s   0.00ns    7.48s\n",
      "  'quick_restart_no_lp':         1 [  59.58s,   59.58s]   59.58s   0.00ns   59.58s         1 [   8.06s,    8.06s]    8.06s   0.00ns    8.06s\n",
      "        'reduced_costs':         1 [  59.57s,   59.57s]   59.57s   0.00ns   59.57s         1 [   8.57s,    8.57s]    8.57s   0.00ns    8.57s\n",
      "            'rins/rens':        64 [506.55us,    1.01s] 449.84ms 371.84ms   28.79s        46 [ 15.16us, 100.16ms]  70.76ms  39.82ms    3.25s\n",
      "          'rnd_cst_lns':        37 [252.22ms,    1.11s] 751.11ms 273.06ms   27.79s        37 [245.50us, 100.26ms]  63.71ms  37.77ms    2.36s\n",
      "          'rnd_var_lns':        49 [  2.30ms,    1.07s] 573.54ms 399.92ms   28.10s        42 [ 10.00ns, 100.51ms]  61.56ms  43.24ms    2.59s\n",
      "\n",
      "Search stats              Bools  Conflicts  Branches  Restarts  BoolPropag  IntegerPropag\n",
      "           'default_lp':  3'955     61'833   212'508    37'263  31'423'362      8'969'153\n",
      "            'fs_random':  3'615         50     7'781     7'252          64         60'989\n",
      "      'fs_random_no_lp':  3'615          0     9'057     7'230         330         62'734\n",
      "       'lb_tree_search':  3'615         76   127'178    36'919     528'154      1'662'744\n",
      "               'max_lp':  3'615     10'644   150'479    38'455   7'057'756     10'655'678\n",
      "                'no_lp':  3'708     58'750   238'764    48'255  28'408'418     11'343'405\n",
      "         'pseudo_costs':  3'615     16'140   251'542    66'185  11'455'382     17'200'443\n",
      "        'quick_restart':  3'615     36'619   494'644    49'504  26'375'537      8'915'703\n",
      "  'quick_restart_no_lp':  3'676     41'540   455'005    47'561  28'844'166      9'134'547\n",
      "        'reduced_costs':  3'621     16'355   146'988    46'947  15'958'964     19'978'064\n",
      "\n",
      "SAT stats                 ClassicMinim  LitRemoved  LitLearned  LitForgotten  Subsumed  MClauses  MDecisions  MLitTrue  MSubsumed  MLitRemoved  MReused\n",
      "           'default_lp':        31'140      61'467     588'548       194'883     1'558    12'154      62'135         0      3'163       26'004    2'993\n",
      "            'fs_random':             0           0         100             0         0         0           0         0          0            0        0\n",
      "      'fs_random_no_lp':             0           0           0             0         0         0           0         0          0            0        0\n",
      "       'lb_tree_search':             0           0         186             0         0        31          58         0          0            0        4\n",
      "               'max_lp':         3'816       5'230     117'073             0       523     5'434      23'082         0        637        4'063    1'845\n",
      "                'no_lp':        24'444      37'064     598'048       342'288     2'274    13'315      55'776         0      2'564       16'499    4'262\n",
      "         'pseudo_costs':         6'813      10'284     163'129        50'930       753    13'003      51'307         0      1'116        7'347    3'411\n",
      "        'quick_restart':        14'115      17'962     321'985       119'269     1'035    15'516      50'788         0      3'550       20'123    3'761\n",
      "  'quick_restart_no_lp':        17'350      23'464     363'512       115'657     1'123    13'841      46'516         0      2'591       15'282    3'347\n",
      "        'reduced_costs':        10'625      25'791     136'170        19'228       781     7'475      30'961         0      2'026       12'762    2'178\n",
      "\n",
      "Lp stats             Component  Iterations  AddedCuts  OPTIMAL  DUAL_F.  DUAL_U.\n",
      "      'default_lp':          1           0          0   68'365        0        0\n",
      "       'fs_random':          1           0          0       43        0        0\n",
      "  'lb_tree_search':          1     199'851     78'363      202   17'507        0\n",
      "          'max_lp':          1     177'799     27'951       88   16'962        0\n",
      "    'pseudo_costs':          1     247'148     14'847      164   23'804        0\n",
      "   'quick_restart':          1           0          0  141'848        0        0\n",
      "   'reduced_costs':          1     205'912     33'251       45   19'774        0\n",
      "\n",
      "Lp dimension             Final dimension of first component\n",
      "      'default_lp':          0 rows, 101 columns, 0 entries\n",
      "       'fs_random':          0 rows, 101 columns, 0 entries\n",
      "  'lb_tree_search':  5827 rows, 3716 columns, 21903 entries\n",
      "          'max_lp':  7549 rows, 3716 columns, 22498 entries\n",
      "    'pseudo_costs':   3113 rows, 3716 columns, 9095 entries\n",
      "   'quick_restart':          0 rows, 101 columns, 0 entries\n",
      "   'reduced_costs':   2142 rows, 3716 columns, 5960 entries\n",
      "\n",
      "Lp debug             CutPropag  CutEqPropag  Adjust  Overflow     Bad  BadScaling\n",
      "      'default_lp':          0            0       0         0       0           0\n",
      "       'fs_random':          0            0       0         0       0           0\n",
      "  'lb_tree_search':          0           42       0         0  49'888           0\n",
      "          'max_lp':          0           31       0         0   5'713           0\n",
      "    'pseudo_costs':          0            0       0         0   3'589           0\n",
      "   'quick_restart':          0            0       0         0       0           0\n",
      "   'reduced_costs':          0            1       0         0   8'717           0\n",
      "\n",
      "Lp pool              Constraints  Updates  Simplif  Merged  Shortened  Split  Strenghtened       Cuts/Call\n",
      "      'default_lp':          100        0        0       0          0      0             0             0/0\n",
      "       'fs_random':          100        0        0       0          0      0             0             0/0\n",
      "  'lb_tree_search':       12'744   11'370   50'700   3'949          0    759        58'388  78'363/185'522\n",
      "          'max_lp':       16'295    4'982   21'810     986          0    237        29'025   27'951/64'446\n",
      "    'pseudo_costs':       16'503    3'167   28'057     674          0      0        30'890   14'847/31'778\n",
      "   'quick_restart':          100        0        0       0          0      0             0             0/0\n",
      "   'reduced_costs':       14'591    7'904   62'936   4'990          0      0        65'915   33'251/83'416\n",
      "\n",
      "Lp Cut            max_lp  reduced_costs  pseudo_costs  lb_tree_search\n",
      "     AllDiff_aa:      36             44            33              40\n",
      "     AllDiff_ae:      11              9             9              11\n",
      "     AllDiff_ea:       1              -             -               1\n",
      "     AllDiff_ee:      98             97            99             112\n",
      "          CG_FF:      35             52            11              60\n",
      "           CG_K:      42             45            14              98\n",
      "           CG_R:      10             30            14              21\n",
      "          CG_RB:      36            149            53             236\n",
      "         CG_RBP:      11              2             6              11\n",
      "         Clique:      23             50            33             173\n",
      "             IB:     429            986           803           1'751\n",
      "       MIR_1_FF:   4'447          5'653         1'737           6'558\n",
      "        MIR_1_K:     891            833           506           1'641\n",
      "       MIR_1_KL:      21              -            22               -\n",
      "        MIR_1_R:     127            436             -             258\n",
      "       MIR_1_RB:   6'682          8'599         4'021          28'264\n",
      "      MIR_1_RBP:   1'456            488           498           1'673\n",
      "       MIR_2_FF:     502            943           300           1'015\n",
      "        MIR_2_K:     140             29           101             207\n",
      "       MIR_2_KL:       2              -             1               -\n",
      "        MIR_2_R:      48            208            39             112\n",
      "       MIR_2_RB:     573          1'174           445           2'980\n",
      "      MIR_2_RBP:     124             26            29             173\n",
      "       MIR_3_FF:      60            402           191             185\n",
      "        MIR_3_K:      19             10            17              20\n",
      "        MIR_3_R:      26             60             7              49\n",
      "       MIR_3_RB:      90            484           250             687\n",
      "      MIR_3_RBP:       9             12            19              31\n",
      "       MIR_4_FF:      10            159            59              49\n",
      "        MIR_4_K:       2              8             9              13\n",
      "        MIR_4_R:       3             13             5              18\n",
      "       MIR_4_RB:      13            194            80             225\n",
      "      MIR_4_RBP:       -              1             6              14\n",
      "       MIR_5_FF:       -            100             8              15\n",
      "        MIR_5_K:       -             17             -               6\n",
      "        MIR_5_R:       3             13             1              10\n",
      "       MIR_5_RB:       1            120            13             100\n",
      "      MIR_5_RBP:       -              3             -               7\n",
      "       MIR_6_FF:       -             31             1               9\n",
      "        MIR_6_K:       -              4             1               2\n",
      "        MIR_6_R:       -              6             1              12\n",
      "       MIR_6_RB:       -             40            13              66\n",
      "      MIR_6_RBP:       -              1             -               3\n",
      "   ZERO_HALF_FF:   3'211          2'146           873           3'372\n",
      "    ZERO_HALF_K:     605            272           152             785\n",
      "    ZERO_HALF_R:   3'684          5'221         2'148          21'174\n",
      "   ZERO_HALF_RB:   3'369          3'819         1'984           5'123\n",
      "  ZERO_HALF_RBP:   1'101            262           235             993\n",
      "\n",
      "LNS stats           Improv/Calls  Closed  Difficulty  TimeLimit\n",
      "  'graph_arc_lns':         37/38     58%    9.54e-01       0.10\n",
      "  'graph_cst_lns':         38/39     54%    9.32e-01       0.10\n",
      "  'graph_dec_lns':         36/37     62%    9.70e-01       0.10\n",
      "  'graph_var_lns':         37/37     57%    9.39e-01       0.10\n",
      "      'rins/rens':         55/55     47%    5.70e-01       0.10\n",
      "    'rnd_cst_lns':         37/37     54%    9.29e-01       0.10\n",
      "    'rnd_var_lns':         46/48     56%    9.65e-01       0.10\n",
      "\n",
      "LS stats                                    Batches  Restarts/Perturbs  LinMoves  GenMoves  CompoundMoves  Bactracks  WeightUpdates  ScoreComputed\n",
      "                             'fj_restart':        2                  2     8'811         0              0          0             75        128'826\n",
      "                    'fj_restart_compound':        1                  1         0     1'734          1'628         30              0         62'522\n",
      "            'fj_restart_compound_perturb':        1                  1         0     1'831          1'771         28              0         63'120\n",
      "      'fj_restart_decay_compound_perturb':        1                  1         0     1'894          1'656        104              0         64'102\n",
      "  'fj_restart_decay_compound_perturb_obj':        2                  2         0     3'986          3'928         24              0        128'665\n",
      "                 'fj_restart_perturb_obj':        1                  1     4'866         0              0          0             39         64'488\n",
      "                         'ls_lin_restart':       22                 14    82'575         0              0          0          5'575      1'373'645\n",
      "                'ls_lin_restart_compound':       38                 17         0    56'202          3'975     26'064            199      1'891'211\n",
      "        'ls_lin_restart_compound_perturb':       21                 13         0    30'449          2'241     14'069            113        991'574\n",
      "                   'ls_lin_restart_decay':       41                 22   147'147         0              0          0          2'859      2'581'209\n",
      "          'ls_lin_restart_decay_compound':       43                 19         0    58'061          5'909     26'033            115      2'164'532\n",
      "  'ls_lin_restart_decay_compound_perturb':       58                 28         0    84'242          8'406     37'856            183      2'896'103\n",
      "           'ls_lin_restart_decay_perturb':       18                 14    55'836         0              0          0          1'284      1'011'107\n",
      "                 'ls_lin_restart_perturb':       25                 21    88'964         0              0          0          6'814      1'496'537\n",
      "                             'ls_restart':       43                 27   159'447         0              0          0         10'720      2'690'575\n",
      "                    'ls_restart_compound':       40                 20         0    56'913          4'479     26'167            171      1'983'809\n",
      "            'ls_restart_compound_perturb':       39                 19         0    61'697          4'318     28'658            222      1'908'591\n",
      "                       'ls_restart_decay':       43                 21   148'778         0              0          0          2'741      2'583'530\n",
      "              'ls_restart_decay_compound':       15                 11         0    23'596          1'868     10'835             64        673'431\n",
      "      'ls_restart_decay_compound_perturb':       27                 21         0    42'310          3'422     19'397            136      1'327'311\n",
      "               'ls_restart_decay_perturb':       44                 18   159'047         0              0          0          2'539      2'774'720\n",
      "                     'ls_restart_perturb':       15                 11    54'846         0              0          0          4'061        936'617\n",
      "\n",
      "Solutions (62)                        Num     Rank\n",
      "                       'default_lp':   31  [14,54]\n",
      "                    'graph_arc_lns':    1  [57,57]\n",
      "                    'graph_var_lns':    4  [56,62]\n",
      "  'ls_lin_restart_compound_perturb':    1  [16,16]\n",
      "     'ls_lin_restart_decay_perturb':    2  [18,55]\n",
      "           'ls_lin_restart_perturb':    1  [13,13]\n",
      "                 'ls_restart_decay':    2  [12,48]\n",
      "        'ls_restart_decay_compound':    1  [15,15]\n",
      "                            'no_lp':   16   [2,24]\n",
      "              'quick_restart_no_lp':    1    [1,1]\n",
      "                    'rins_pump_lns':    1  [59,59]\n",
      "                      'rnd_cst_lns':    1  [60,60]\n",
      "\n",
      "Objective bounds     Num\n",
      "  'initial_domain':    1\n",
      "   'reduced_costs':    6\n",
      "\n",
      "Solution repositories    Added  Queried  Synchro\n",
      "  'feasible solutions':    110      941       83\n",
      "   'fj solution hints':      0        0        0\n",
      "        'lp solutions':    676       30      497\n",
      "                'pump':    265       34\n",
      "\n",
      "Improving bounds shared      Num  Sym\n",
      "            'default_lp':  3'334    0\n",
      "                 'no_lp':  1'919    0\n",
      "         'quick_restart':    305    0\n",
      "   'quick_restart_no_lp':    709    0\n",
      "         'reduced_costs':      1    0\n",
      "\n",
      "Clauses shared              Num\n",
      "           'default_lp':  6'891\n",
      "            'fs_random':     50\n",
      "       'lb_tree_search':     41\n",
      "               'max_lp':    137\n",
      "                'no_lp':  4'170\n",
      "         'pseudo_costs':     67\n",
      "        'quick_restart':  2'047\n",
      "  'quick_restart_no_lp':  1'258\n",
      "        'reduced_costs':  8'041\n",
      "\n",
      "CpSolverResponse summary:\n",
      "status: FEASIBLE\n",
      "objective: 28\n",
      "best_bound: 16\n",
      "integers: 101\n",
      "booleans: 3615\n",
      "conflicts: 0\n",
      "branches: 9057\n",
      "propagations: 330\n",
      "integer_propagations: 62734\n",
      "restarts: 7230\n",
      "lp_iterations: 0\n",
      "walltime: 60.0207\n",
      "usertime: 60.0207\n",
      "deterministic_time: 187.568\n",
      "gap_integral: 471.405\n",
      "solution_fingerprint: 0xb9742c46caba805e\n",
      "\n"
     ]
    }
   ],
   "source": [
    "instance_04 = util.parse(\"uniform_q05n010k010-010.txt\")\n",
    "solution_04 = solve(instance_04)"
   ]
  },
  {
   "cell_type": "code",
   "execution_count": null,
   "id": "Hstk",
   "metadata": {},
   "outputs": [
    {
     "name": "stdout",
     "output_type": "stream",
     "text": [
      "--- Condition (with 5 chars) ---\n",
      "str01: dcbccdbcce\n",
      "str02: bddbeeeebd\n",
      "str03: cacdeecebe\n",
      "str04: aeddddebdd\n",
      "str05: acbeecabce\n",
      "str06: bbabebdcba\n",
      "str07: bbaeaebada\n",
      "str08: eeeecbdbee\n",
      "str09: ccdeedadcd\n",
      "str10: bdabdbeaad\n",
      "\n",
      "--- Solution (of length 29) ---\n",
      "  Sol: bbaecdacedbeedccbeadbcecebdad\n",
      "str01: -----d-c--b---cc---dbc-ce----\n",
      "str02: b----d---dbee----e----e--bd--\n",
      "str03: ----c-ac-d-ee-c--e--b-e------\n",
      "str04: --ae-d---d---d-----d--e--bd-d\n",
      "str05: --a-c-----bee-c---a-bce------\n",
      "str06: bba-------be----b--d-c---b-a-\n",
      "str07: bbae--a-e-b-------ad-------a-\n",
      "str08: ---e----e--ee-c-b--db-e-e----\n",
      "str09: ----c--c-d-eed----ad-c----d--\n",
      "str10: b----da---b--d--bea--------ad\n",
      "\n",
      "solution is feasible: True\n"
     ]
    }
   ],
   "source": [
    "_instance = instance_04\n",
    "_solution = solution_04\n",
    "\n",
    "util.show(_instance)\n",
    "if _solution is not None:\n",
    "    util.show(_instance, _solution)\n",
    "    print(f\"solution is feasible: {util.is_feasible(_instance, _solution)}\")\n",
    "else:\n",
    "    print(\"--- Solution not found ---\")"
   ]
  },
  {
   "cell_type": "code",
   "execution_count": null,
   "id": "nWHF",
   "metadata": {},
   "outputs": [
    {
     "name": "stdout",
     "output_type": "stream",
     "text": [
      "\n",
      "Starting CP-SAT solver v9.14.6206\n",
      "Parameters: max_time_in_seconds: 60 log_search_progress: true\n",
      "Setting number of workers to 12\n",
      "\n"
     ]
    },
    {
     "name": "stdout",
     "output_type": "stream",
     "text": [
      "Initial optimization model '': (model_fingerprint: 0xfb1fbec87aa5a80b)\n",
      "#Variables: 501 (#ints: 1 in objective) (500 primary variables)\n",
      "  - 500 in [0,499]\n",
      "  - 1 in [0,500]\n",
      "#kLinMax: 1 (#expressions: 50)\n",
      "#kLinear2: 98'481 (#complex_domain: 98'031)\n",
      "\n",
      "Starting presolve at 0.02s\n"
     ]
    },
    {
     "name": "stdout",
     "output_type": "stream",
     "text": [
      "  5.99e-03s  0.00e+00d  [DetectDominanceRelations] \n",
      "  6.98e-01s  0.00e+00d  [PresolveToFixPoint] #num_loops=10 #num_dual_strengthening=1 \n",
      "  8.13e-04s  0.00e+00d  [ExtractEncodingFromLinear] \n"
     ]
    },
    {
     "name": "stdout",
     "output_type": "stream",
     "text": [
      "  5.66e-03s  0.00e+00d  [DetectDuplicateColumns] \n",
      "  2.89e-03s  0.00e+00d  [DetectDuplicateConstraints] \n"
     ]
    },
    {
     "name": "stdout",
     "output_type": "stream",
     "text": [
      "[Symmetry] Graph for symmetry has 99'532 nodes and 197'562 arcs.\n"
     ]
    },
    {
     "name": "stdout",
     "output_type": "stream",
     "text": [
      "[Symmetry] Symmetry computation done. time: 0.0148943 dtime: 0.0245213\n"
     ]
    },
    {
     "name": "stdout",
     "output_type": "stream",
     "text": [
      "  3.03e-03s  0.00e+00d  [DetectDuplicateConstraintsWithDifferentEnforcements] \n",
      "  4.38e+00s  1.00e+00d *[Probe] #probed=76'328 #new_bounds=1 \n",
      "  5.40e-04s  0.00e+00d  [MaxClique] \n"
     ]
    },
    {
     "name": "stdout",
     "output_type": "stream",
     "text": [
      "  5.95e-03s  0.00e+00d  [DetectDominanceRelations] \n",
      "  1.02e-01s  0.00e+00d  [PresolveToFixPoint] #num_loops=2 #num_dual_strengthening=1 \n"
     ]
    },
    {
     "name": "stdout",
     "output_type": "stream",
     "text": [
      "  1.10e-02s  0.00e+00d  [ProcessAtMostOneAndLinear] \n",
      "  2.89e-03s  0.00e+00d  [DetectDuplicateConstraints] \n",
      "  2.84e-03s  0.00e+00d  [DetectDuplicateConstraintsWithDifferentEnforcements] \n"
     ]
    },
    {
     "name": "stdout",
     "output_type": "stream",
     "text": [
      "  5.31e-02s  2.00e-03d  [DetectDominatedLinearConstraints] #relevant_constraints=98'531 \n"
     ]
    },
    {
     "name": "stdout",
     "output_type": "stream",
     "text": [
      "  2.48e-02s  0.00e+00d  [DetectDifferentVariables] #different=98'481 #cliques=444 #size=2'593 \n",
      "  8.80e-04s  0.00e+00d  [ProcessSetPPC] \n",
      "  1.03e-03s  0.00e+00d  [FindAlmostIdenticalLinearConstraints] \n",
      "  1.36e-05s  0.00e+00d  [FindBigAtMostOneAndLinearOverlap] \n"
     ]
    },
    {
     "name": "stdout",
     "output_type": "stream",
     "text": [
      "  2.28e-02s  4.94e-03d  [FindBigVerticalLinearOverlap] \n",
      "  6.01e-04s  0.00e+00d  [FindBigHorizontalLinearOverlap] \n",
      "  3.08e-04s  0.00e+00d  [MergeClauses] \n"
     ]
    },
    {
     "name": "stdout",
     "output_type": "stream",
     "text": [
      "  6.05e-03s  0.00e+00d  [DetectDominanceRelations] \n",
      "  1.03e-01s  0.00e+00d  [PresolveToFixPoint] #num_loops=1 #num_dual_strengthening=1 \n"
     ]
    },
    {
     "name": "stdout",
     "output_type": "stream",
     "text": [
      "  6.10e-03s  0.00e+00d  [DetectDominanceRelations] \n",
      "  1.02e-01s  0.00e+00d  [PresolveToFixPoint] #num_loops=1 #num_dual_strengthening=1 \n",
      "  2.51e-03s  0.00e+00d  [DetectDuplicateColumns] \n",
      "  3.05e-03s  0.00e+00d  [DetectDuplicateConstraints] \n"
     ]
    },
    {
     "name": "stdout",
     "output_type": "stream",
     "text": [
      "[Symmetry] Graph for symmetry has 100'476 nodes and 200'655 arcs.\n"
     ]
    },
    {
     "name": "stdout",
     "output_type": "stream",
     "text": [
      "[Symmetry] Symmetry computation done. time: 0.012575 dtime: 0.0248469\n"
     ]
    },
    {
     "name": "stdout",
     "output_type": "stream",
     "text": [
      "  3.21e-03s  0.00e+00d  [DetectDuplicateConstraintsWithDifferentEnforcements] \n",
      "  4.67e+00s  1.00e+00d *[Probe] #probed=75'348 \n",
      "  5.37e-04s  0.00e+00d  [MaxClique] \n"
     ]
    },
    {
     "name": "stdout",
     "output_type": "stream",
     "text": [
      "  6.55e-03s  0.00e+00d  [DetectDominanceRelations] \n",
      "  1.04e-01s  0.00e+00d  [PresolveToFixPoint] #num_loops=1 #num_dual_strengthening=1 \n"
     ]
    },
    {
     "name": "stdout",
     "output_type": "stream",
     "text": [
      "  1.09e-02s  0.00e+00d  [ProcessAtMostOneAndLinear] \n",
      "  3.17e-03s  0.00e+00d  [DetectDuplicateConstraints] \n",
      "  2.94e-03s  0.00e+00d  [DetectDuplicateConstraintsWithDifferentEnforcements] \n"
     ]
    },
    {
     "name": "stdout",
     "output_type": "stream",
     "text": [
      "  5.36e-02s  2.00e-03d  [DetectDominatedLinearConstraints] #relevant_constraints=98'531 \n"
     ]
    },
    {
     "name": "stdout",
     "output_type": "stream",
     "text": [
      "  1.41e-02s  0.00e+00d  [DetectDifferentVariables] \n",
      "  7.77e-04s  0.00e+00d  [ProcessSetPPC] \n",
      "  1.03e-03s  0.00e+00d  [FindAlmostIdenticalLinearConstraints] \n",
      "  1.35e-05s  0.00e+00d  [FindBigAtMostOneAndLinearOverlap] \n"
     ]
    },
    {
     "name": "stdout",
     "output_type": "stream",
     "text": [
      "  2.22e-02s  4.94e-03d  [FindBigVerticalLinearOverlap] \n",
      "  5.55e-04s  0.00e+00d  [FindBigHorizontalLinearOverlap] \n",
      "  2.69e-04s  0.00e+00d  [MergeClauses] \n"
     ]
    },
    {
     "name": "stdout",
     "output_type": "stream",
     "text": [
      "  6.07e-03s  0.00e+00d  [DetectDominanceRelations] \n",
      "  1.02e-01s  0.00e+00d  [PresolveToFixPoint] #num_loops=1 #num_dual_strengthening=1 \n",
      "  8.10e-04s  0.00e+00d  [ExpandObjective] \n"
     ]
    },
    {
     "name": "stdout",
     "output_type": "stream",
     "text": [
      "\n",
      "Presolve summary:\n",
      "  - 0 affine relations were detected.\n",
      "  - rule 'TODO dual: only one unspecified blocking constraint?' was applied 6 times.\n",
      "  - rule 'all_diff: inferred from x != y constraints' was applied 444 times.\n",
      "  - rule 'lin_max: rewrite with precedences' was applied 1 time.\n",
      "  - rule 'lin_max: target domain reduced' was applied 1 time.\n",
      "  - rule 'linear: expanded complex rhs' was applied 98'031 times.\n",
      "  - rule 'linear: reduced variable domains' was applied 2'250 times.\n",
      "  - rule 'new_bool: complex linear expansion' was applied 98'031 times.\n",
      "  - rule 'presolve: 0 unused variables removed.' was applied 1 time.\n",
      "  - rule 'presolve: iteration' was applied 2 times.\n"
     ]
    },
    {
     "name": "stdout",
     "output_type": "stream",
     "text": [
      "\n"
     ]
    },
    {
     "name": "stdout",
     "output_type": "stream",
     "text": [
      "Presolved optimization model '': (model_fingerprint: 0x73e31e3d7d2d63ac)\n",
      "#Variables: 98'532 (#ints: 1 in objective) (98'531 primary variables)\n",
      "  - 98'031 Booleans in [0,1]\n",
      "  - 50 in [0,490]\n",
      "  - 50 in [1,491]\n",
      "  - 50 in [2,492]\n",
      "  - 50 in [3,493]\n",
      "  - 50 in [4,494]\n",
      "  - 50 in [5,495]\n",
      "  - 50 in [6,496]\n",
      "  - 50 in [7,497]\n",
      "  - 50 in [8,498]\n",
      "  - 50 in [9,499]\n",
      "  - 1 in [10,499]\n",
      "#kAllDiff: 444\n",
      "#kLinear2: 196'562 (#enforced: 196'062)\n"
     ]
    },
    {
     "name": "stdout",
     "output_type": "stream",
     "text": [
      "[Symmetry] Graph for symmetry has 394'569 nodes and 690'810 arcs.\n"
     ]
    },
    {
     "name": "stdout",
     "output_type": "stream",
     "text": [
      "[Symmetry] Symmetry computation done. time: 0.094993 dtime: 0.118958\n",
      "\n",
      "Preloading model.\n",
      "#Bound  11.01s best:inf   next:[10,499]   initial_domain\n"
     ]
    },
    {
     "name": "stdout",
     "output_type": "stream",
     "text": [
      "#Model  11.07s var:98532/98532 constraints:197006/197006\n",
      "\n",
      "Starting search at 11.08s with 12 workers.\n",
      "8 full problem subsolvers: [default_lp, lb_tree_search, max_lp, no_lp, pseudo_costs, quick_restart, quick_restart_no_lp, reduced_costs]\n",
      "4 first solution subsolvers: [fj(2), fs_random, fs_random_no_lp]\n",
      "10 interleaved subsolvers: [feasibility_pump, graph_arc_lns, graph_cst_lns, graph_dec_lns, graph_var_lns, ls, ls_lin, rins/rens, rnd_cst_lns, rnd_var_lns]\n",
      "3 helper subsolvers: [neighborhood_helper, synchronization_agent, update_gap_integral]\n",
      "\n"
     ]
    },
    {
     "name": "stdout",
     "output_type": "stream",
     "text": [
      "#Bound  20.33s best:inf   next:[11,499]   reduced_costs\n"
     ]
    },
    {
     "name": "stdout",
     "output_type": "stream",
     "text": [
      "#1      23.08s best:492   next:[11,491]   fs_random_no_lp\n"
     ]
    },
    {
     "name": "stdout",
     "output_type": "stream",
     "text": [
      "#2      23.85s best:491   next:[11,490]   no_lp\n"
     ]
    },
    {
     "name": "stdout",
     "output_type": "stream",
     "text": [
      "#Bound  28.68s best:491   next:[12,490]   reduced_costs\n"
     ]
    },
    {
     "name": "stdout",
     "output_type": "stream",
     "text": [
      "#Bound  29.54s best:491   next:[13,490]   reduced_costs\n"
     ]
    },
    {
     "name": "stdout",
     "output_type": "stream",
     "text": [
      "#Bound  30.12s best:491   next:[14,490]   reduced_costs\n"
     ]
    },
    {
     "name": "stdout",
     "output_type": "stream",
     "text": [
      "#3      34.38s best:490   next:[14,489]   no_lp\n"
     ]
    },
    {
     "name": "stdout",
     "output_type": "stream",
     "text": [
      "#4      37.13s best:489   next:[14,488]   no_lp\n"
     ]
    },
    {
     "name": "stdout",
     "output_type": "stream",
     "text": [
      "#5      37.70s best:488   next:[14,487]   no_lp\n"
     ]
    },
    {
     "name": "stdout",
     "output_type": "stream",
     "text": [
      "#6      38.27s best:487   next:[14,486]   no_lp\n"
     ]
    },
    {
     "name": "stdout",
     "output_type": "stream",
     "text": [
      "#7      38.81s best:486   next:[14,485]   no_lp\n"
     ]
    },
    {
     "name": "stdout",
     "output_type": "stream",
     "text": [
      "#8      39.34s best:485   next:[14,484]   no_lp\n"
     ]
    },
    {
     "name": "stdout",
     "output_type": "stream",
     "text": [
      "#9      39.87s best:484   next:[14,483]   no_lp\n"
     ]
    },
    {
     "name": "stdout",
     "output_type": "stream",
     "text": [
      "#10     40.38s best:483   next:[14,482]   no_lp\n"
     ]
    },
    {
     "name": "stdout",
     "output_type": "stream",
     "text": [
      "#11     41.25s best:482   next:[14,481]   no_lp\n"
     ]
    },
    {
     "name": "stdout",
     "output_type": "stream",
     "text": [
      "#12     41.76s best:481   next:[14,480]   no_lp\n"
     ]
    },
    {
     "name": "stdout",
     "output_type": "stream",
     "text": [
      "#13     42.52s best:480   next:[14,479]   no_lp\n"
     ]
    },
    {
     "name": "stdout",
     "output_type": "stream",
     "text": [
      "#Bound  43.22s best:480   next:[15,479]   reduced_costs\n"
     ]
    },
    {
     "name": "stdout",
     "output_type": "stream",
     "text": [
      "#14     43.76s best:479   next:[15,478]   default_lp\n"
     ]
    },
    {
     "name": "stdout",
     "output_type": "stream",
     "text": [
      "#15     46.30s best:478   next:[15,477]   default_lp\n"
     ]
    },
    {
     "name": "stdout",
     "output_type": "stream",
     "text": [
      "#16     48.91s best:477   next:[15,476]   default_lp\n"
     ]
    },
    {
     "name": "stdout",
     "output_type": "stream",
     "text": [
      "#17     49.80s best:476   next:[15,475]   default_lp\n"
     ]
    },
    {
     "name": "stdout",
     "output_type": "stream",
     "text": [
      "#18     50.49s best:475   next:[15,474]   no_lp\n"
     ]
    },
    {
     "name": "stdout",
     "output_type": "stream",
     "text": [
      "#19     51.09s best:474   next:[15,473]   no_lp\n"
     ]
    },
    {
     "name": "stdout",
     "output_type": "stream",
     "text": [
      "#20     51.60s best:473   next:[15,472]   no_lp\n"
     ]
    },
    {
     "name": "stdout",
     "output_type": "stream",
     "text": [
      "#21     52.13s best:472   next:[15,471]   no_lp\n"
     ]
    },
    {
     "name": "stdout",
     "output_type": "stream",
     "text": [
      "#22     52.93s best:471   next:[15,470]   no_lp\n"
     ]
    },
    {
     "name": "stdout",
     "output_type": "stream",
     "text": [
      "#23     53.70s best:470   next:[15,469]   no_lp\n"
     ]
    },
    {
     "name": "stdout",
     "output_type": "stream",
     "text": [
      "#24     55.23s best:469   next:[15,468]   default_lp\n"
     ]
    },
    {
     "name": "stdout",
     "output_type": "stream",
     "text": [
      "#25     56.11s best:468   next:[15,467]   default_lp\n"
     ]
    },
    {
     "name": "stdout",
     "output_type": "stream",
     "text": [
      "#26     57.02s best:467   next:[15,466]   default_lp\n"
     ]
    },
    {
     "name": "stdout",
     "output_type": "stream",
     "text": [
      "#27     57.93s best:466   next:[15,465]   default_lp\n"
     ]
    },
    {
     "name": "stdout",
     "output_type": "stream",
     "text": [
      "#28     58.85s best:465   next:[15,464]   default_lp\n"
     ]
    },
    {
     "name": "stdout",
     "output_type": "stream",
     "text": [
      "\n",
      "Task timing                      n [     min,      max]      avg      dev     time         n [     min,      max]      avg      dev    dtime\n",
      "           'default_lp':         1 [  48.58s,   48.58s]   48.58s   0.00ns   48.58s         1 [   2.83s,    2.83s]    2.83s   0.00ns    2.83s\n",
      "     'feasibility_pump':        42 [202.92us, 288.69ms]   7.21ms  43.96ms 302.80ms        41 [ 68.50us, 670.84us]  83.19us  92.92us   3.41ms\n",
      "                   'fj':        21 [105.30ms, 428.11ms] 204.95ms  78.04ms    4.30s        21 [101.23ms, 105.64ms] 104.36ms   1.63ms    2.19s\n",
      "                   'fj':        23 [118.39ms, 467.54ms] 201.37ms  77.19ms    4.63s        23 [100.98ms, 105.64ms] 104.17ms   1.72ms    2.40s\n",
      "            'fs_random':         1 [  12.01s,   12.01s]   12.01s   0.00ns   12.01s         1 [472.82ms, 472.82ms] 472.82ms   0.00ns 472.82ms\n",
      "      'fs_random_no_lp':         1 [  12.05s,   12.05s]   12.05s   0.00ns   12.05s         1 [277.69ms, 277.69ms] 277.69ms   0.00ns 277.69ms\n",
      "        'graph_arc_lns':         1 [  36.75s,   36.75s]   36.75s   0.00ns   36.75s         0 [  0.00ns,   0.00ns]   0.00ns   0.00ns   0.00ns\n",
      "        'graph_cst_lns':         1 [  36.38s,   36.38s]   36.38s   0.00ns   36.38s         0 [  0.00ns,   0.00ns]   0.00ns   0.00ns   0.00ns\n",
      "        'graph_dec_lns':         1 [496.75ms, 496.75ms] 496.75ms   0.00ns 496.75ms         0 [  0.00ns,   0.00ns]   0.00ns   0.00ns   0.00ns\n",
      "        'graph_var_lns':         1 [  37.01s,   37.01s]   37.01s   0.00ns   37.01s         0 [  0.00ns,   0.00ns]   0.00ns   0.00ns   0.00ns\n",
      "       'lb_tree_search':         1 [  49.03s,   49.03s]   49.03s   0.00ns   49.03s         0 [  0.00ns,   0.00ns]   0.00ns   0.00ns   0.00ns\n",
      "                   'ls':         0 [  0.00ns,   0.00ns]   0.00ns   0.00ns   0.00ns         0 [  0.00ns,   0.00ns]   0.00ns   0.00ns   0.00ns\n",
      "               'ls_lin':         0 [  0.00ns,   0.00ns]   0.00ns   0.00ns   0.00ns         0 [  0.00ns,   0.00ns]   0.00ns   0.00ns   0.00ns\n",
      "               'max_lp':         1 [  48.92s,   48.92s]   48.92s   0.00ns   48.92s         1 [  14.14s,   14.14s]   14.14s   0.00ns   14.14s\n",
      "                'no_lp':         1 [  48.92s,   48.92s]   48.92s   0.00ns   48.92s         1 [   2.83s,    2.83s]    2.83s   0.00ns    2.83s\n",
      "         'pseudo_costs':         1 [  48.92s,   48.92s]   48.92s   0.00ns   48.92s         1 [   5.28s,    5.28s]    5.28s   0.00ns    5.28s\n",
      "        'quick_restart':         1 [  48.92s,   48.92s]   48.92s   0.00ns   48.92s         1 [   2.82s,    2.82s]    2.82s   0.00ns    2.82s\n",
      "  'quick_restart_no_lp':         1 [  48.92s,   48.92s]   48.92s   0.00ns   48.92s         1 [   2.36s,    2.36s]    2.36s   0.00ns    2.36s\n",
      "        'reduced_costs':         1 [  48.86s,   48.86s]   48.86s   0.00ns   48.86s         1 [   1.93s,    1.93s]    1.93s   0.00ns    1.93s\n",
      "            'rins/rens':        20 [133.64ms,    6.20s] 754.89ms    1.67s   15.10s         2 [100.01ms, 100.15ms] 100.08ms  68.35us 200.15ms\n",
      "          'rnd_cst_lns':         1 [  37.03s,   37.03s]   37.03s   0.00ns   37.03s         0 [  0.00ns,   0.00ns]   0.00ns   0.00ns   0.00ns\n",
      "          'rnd_var_lns':         1 [656.38ms, 656.38ms] 656.38ms   0.00ns 656.38ms         1 [530.00ns, 530.00ns] 530.00ns   0.00ns 530.00ns\n",
      "\n",
      "Search stats               Bools  Conflicts  Branches  Restarts  BoolPropag  IntegerPropag\n",
      "           'default_lp':  98'097          7   463'123   151'204   1'537'146      2'170'373\n",
      "            'fs_random':  98'031         50   111'694   111'114         113        907'677\n",
      "      'fs_random_no_lp':  98'532          0   129'603    75'665      44'594        766'806\n",
      "       'lb_tree_search':  98'031          0    75'664    75'664           0        692'516\n",
      "               'max_lp':  98'031          0    76'406    75'664          10        694'452\n",
      "                'no_lp':  98'092          3   490'829   151'299   1'990'659      2'167'487\n",
      "         'pseudo_costs':  98'031          0   112'937    75'664          10        792'622\n",
      "        'quick_restart':  98'583        150   586'115   151'229     689'184      2'199'236\n",
      "  'quick_restart_no_lp':  98'050        221   437'184   151'299     271'209      1'960'068\n",
      "        'reduced_costs':  98'037        304   151'746   151'170   5'346'074      6'859'708\n",
      "\n",
      "SAT stats                 ClassicMinim  LitRemoved  LitLearned  LitForgotten  Subsumed  MClauses  MDecisions  MLitTrue  MSubsumed  MLitRemoved  MReused\n",
      "           'default_lp':             5           5         288             0         0         0           0         0          0            0        0\n",
      "            'fs_random':             0           0         100             0         0         0           0         0          0            0        0\n",
      "      'fs_random_no_lp':             0           0           0             0         0         0           0         0          0            0        0\n",
      "       'lb_tree_search':             0           0           0             0         0         0           0         0          0            0        0\n",
      "               'max_lp':             0           0           0             0         0         0           0         0          0            0        0\n",
      "                'no_lp':             3           3         149             0         0         0           0         0          0            0        0\n",
      "         'pseudo_costs':             0           0           0             0         0         0           0         0          0            0        0\n",
      "        'quick_restart':            10          13       1'725             0         1         0           0         0          0            0        0\n",
      "  'quick_restart_no_lp':            10          13       2'158             0         0         0           0         0          0            0        0\n",
      "        'reduced_costs':           147         325       1'950             0        19         0           0         0          0            0        0\n",
      "\n",
      "Lp stats             Component  Iterations  AddedCuts  OPTIMAL  DUAL_F.  DUAL_U.\n",
      "      'default_lp':          1         193          0   26'931        0        0\n",
      "       'fs_random':          1           0          0       15        0        0\n",
      "  'lb_tree_search':          1      62'926          0        0        1        0\n",
      "          'max_lp':          1      17'410          0        0      746        0\n",
      "    'pseudo_costs':          1      31'598      5'027      321    2'879        0\n",
      "   'quick_restart':          1           0          0   29'084        0        0\n",
      "   'reduced_costs':          1      10'907     23'233       32      426        0\n",
      "\n",
      "Lp dimension                 Final dimension of first component\n",
      "      'default_lp':           86 rows, 501 columns, 172 entries\n",
      "       'fs_random':              0 rows, 501 columns, 0 entries\n",
      "  'lb_tree_search':  186760 rows, 98532 columns, 559780 entries\n",
      "          'max_lp':  186760 rows, 98532 columns, 559780 entries\n",
      "    'pseudo_costs':    14271 rows, 98532 columns, 42254 entries\n",
      "   'quick_restart':              0 rows, 501 columns, 0 entries\n",
      "   'reduced_costs':      1750 rows, 98532 columns, 5044 entries\n",
      "\n",
      "Lp debug             CutPropag  CutEqPropag  Adjust  Overflow    Bad  BadScaling\n",
      "      'default_lp':          0            0       0         0      0           0\n",
      "       'fs_random':          0            0       0         0      0           0\n",
      "  'lb_tree_search':          0            0       0         0      0           0\n",
      "          'max_lp':          0            0       0         0      0           0\n",
      "    'pseudo_costs':          0            0       0         0     61           0\n",
      "   'quick_restart':          0            0       0         0      0           0\n",
      "   'reduced_costs':          0            0       0         0  5'874           0\n",
      "\n",
      "Lp pool              Constraints  Updates    Simplif  Merged  Shortened  Split  Strenghtened      Cuts/Call\n",
      "      'default_lp':          500        0          0       0          0      0             0            0/0\n",
      "       'fs_random':          500        0          0       0          0      0             0            0/0\n",
      "  'lb_tree_search':      186'760        0          0   9'802          0      0             0            0/0\n",
      "          'max_lp':      186'760        0          0   9'802          0      0             0            0/0\n",
      "    'pseudo_costs':      191'787        0          2   9'802          0      0           588   5'027/29'487\n",
      "   'quick_restart':          500        0          0       0          0      0             0            0/0\n",
      "   'reduced_costs':      193'929    7'577  1'304'461  17'866          0      0     1'310'204  23'233/83'995\n",
      "\n",
      "Lp Cut            reduced_costs  pseudo_costs\n",
      "     AllDiff_aa:            255           200\n",
      "     AllDiff_ae:            122            67\n",
      "     AllDiff_ea:             62            55\n",
      "     AllDiff_ee:            931           480\n",
      "          CG_FF:            101            33\n",
      "           CG_K:             68            32\n",
      "           CG_R:             70             -\n",
      "          CG_RB:             46             -\n",
      "         CG_RBP:              9             -\n",
      "         Clique:              1             -\n",
      "             IB:            602         2'263\n",
      "       MIR_1_FF:          7'339         1'014\n",
      "        MIR_1_K:          1'243             -\n",
      "        MIR_1_R:             49             -\n",
      "       MIR_1_RB:          3'356           172\n",
      "      MIR_1_RBP:            102             3\n",
      "       MIR_2_FF:          1'173           317\n",
      "        MIR_2_K:            587            33\n",
      "        MIR_2_R:             71             6\n",
      "       MIR_2_RB:            295            29\n",
      "      MIR_2_RBP:            156           156\n",
      "       MIR_3_FF:            612            46\n",
      "        MIR_3_K:            208            23\n",
      "        MIR_3_R:             19             -\n",
      "       MIR_3_RB:            157            10\n",
      "      MIR_3_RBP:             91            27\n",
      "       MIR_4_FF:            208             3\n",
      "        MIR_4_K:             89             -\n",
      "        MIR_4_R:              7             -\n",
      "       MIR_4_RB:            101             1\n",
      "      MIR_4_RBP:             35             2\n",
      "       MIR_5_FF:            170             1\n",
      "        MIR_5_K:             53             -\n",
      "        MIR_5_R:             14             1\n",
      "       MIR_5_RB:             87             1\n",
      "      MIR_5_RBP:             18             1\n",
      "       MIR_6_FF:            115             -\n",
      "        MIR_6_K:             26             -\n",
      "        MIR_6_R:             15             3\n",
      "       MIR_6_RB:             66             -\n",
      "      MIR_6_RBP:             16             3\n",
      "   ZERO_HALF_FF:          1'405            25\n",
      "    ZERO_HALF_K:            374             2\n",
      "    ZERO_HALF_R:          1'459            11\n",
      "   ZERO_HALF_RB:            872             4\n",
      "  ZERO_HALF_RBP:            378             3\n",
      "\n",
      "LNS stats           Improv/Calls  Closed  Difficulty  TimeLimit\n",
      "  'graph_arc_lns':           0/0      0%    5.00e-01       0.10\n",
      "  'graph_cst_lns':           0/0      0%    5.00e-01       0.10\n",
      "  'graph_dec_lns':           0/0      0%    5.00e-01       0.10\n",
      "  'graph_var_lns':           0/0      0%    5.00e-01       0.10\n",
      "      'rins/rens':         20/20     90%    9.97e-01       0.10\n",
      "    'rnd_cst_lns':           0/0      0%    5.00e-01       0.10\n",
      "    'rnd_var_lns':           0/1    100%    7.07e-01       0.10\n",
      "\n",
      "LS stats                                    Batches  Restarts/Perturbs  LinMoves  GenMoves  CompoundMoves  Bactracks  WeightUpdates  ScoreComputed\n",
      "                             'fj_restart':        7                  4    78'503         0              0          0              0        287'897\n",
      "                    'fj_restart_compound':        4                  2         0    46'142         46'142          0              0        294'326\n",
      "                'fj_restart_compound_obj':        2                  2         0    30'352         30'352          0              0        181'988\n",
      "        'fj_restart_compound_perturb_obj':        1                  1         0    14'949         14'949          0              0         90'137\n",
      "                       'fj_restart_decay':        1                  1    18'137         0              0          0              0         54'433\n",
      "              'fj_restart_decay_compound':        2                  1         0    24'254         24'254          0              0        153'281\n",
      "          'fj_restart_decay_compound_obj':        3                  2         0    39'756         39'756          0              0        246'621\n",
      "      'fj_restart_decay_compound_perturb':        7                  3         0    71'633         71'606          0              0        481'471\n",
      "  'fj_restart_decay_compound_perturb_obj':        2                  2         0    30'746         30'504          0              0        183'942\n",
      "                   'fj_restart_decay_obj':        2                  1    21'901         0              0          0              0         80'829\n",
      "           'fj_restart_decay_perturb_obj':        4                  3    57'766         0              0          0              0        189'034\n",
      "                         'fj_restart_obj':        1                  1    18'925         0              0          0              0         54'999\n",
      "                     'fj_restart_perturb':        1                  1    18'892         0              0          0              0         55'060\n",
      "                 'fj_restart_perturb_obj':        7                  4    84'744         0              0          0              1        287'531\n",
      "\n",
      "Solutions (28)        Num     Rank\n",
      "       'default_lp':    9  [14,28]\n",
      "  'fs_random_no_lp':    1    [1,1]\n",
      "            'no_lp':   18   [2,23]\n",
      "\n",
      "Objective bounds     Num\n",
      "  'initial_domain':    1\n",
      "   'reduced_costs':    5\n",
      "\n",
      "Solution repositories    Added  Queried  Synchro\n",
      "  'feasible solutions':     48       12       47\n",
      "   'fj solution hints':     20        0       20\n",
      "        'lp solutions':    384        0      242\n",
      "                'pump':     41       20\n",
      "\n",
      "Improving bounds shared      Num  Sym\n",
      "            'default_lp':  4'008    0\n",
      "                 'no_lp':  9'018    0\n",
      "          'pseudo_costs':      1    0\n",
      "         'quick_restart':    501    0\n",
      "   'quick_restart_no_lp':    501    0\n",
      "         'reduced_costs':      4    0\n",
      "\n",
      "Clauses shared            Num\n",
      "            'fs_random':   50\n",
      "        'quick_restart':   68\n",
      "  'quick_restart_no_lp':  118\n",
      "        'reduced_costs':    1\n",
      "\n",
      "CpSolverResponse summary:\n",
      "status: FEASIBLE\n",
      "objective: 465\n",
      "best_bound: 15\n",
      "integers: 501\n",
      "booleans: 98031\n",
      "conflicts: 50\n",
      "branches: 111694\n",
      "propagations: 113\n",
      "integer_propagations: 907677\n",
      "restarts: 111114\n",
      "lp_iterations: 0\n",
      "walltime: 60.1766\n",
      "usertime: 60.1766\n",
      "deterministic_time: 39.7473\n",
      "gap_integral: 230.974\n",
      "solution_fingerprint: 0xb64dbe0021e554a4\n",
      "\n"
     ]
    }
   ],
   "source": [
    "instance_05 = util.parse(\"uniform_q05n050k010-010.txt\")\n",
    "solution_05 = solve(instance_05)"
   ]
  },
  {
   "cell_type": "code",
   "execution_count": null,
   "id": "iLit",
   "metadata": {},
   "outputs": [
    {
     "name": "stdout",
     "output_type": "stream",
     "text": [
      "--- Condition (with 5 chars) ---\n",
      "str01: dcbccdbcce\n",
      "str02: bddbeeeebd\n",
      "str03: cacdeecebe\n",
      "str04: aeddddebdd\n",
      "str05: acbeecabce\n",
      "str06: bbabebdcba\n",
      "str07: bbaeaebada\n",
      "str08: eeeecbdbee\n",
      "str09: ccdeedadcd\n",
      "str10: bdabdbeaad\n",
      "str11: ededaaaeaa\n",
      "str12: aaeaabeeac\n",
      "str13: eaabcaccdb\n",
      "str14: bdeeadeade\n",
      "str15: caedadeeed\n",
      "str16: ebcadbabbe\n",
      "str17: ddceeabdea\n",
      "str18: dabcddeaec\n",
      "str19: aadceedaab\n",
      "str20: aeecceeeaa\n",
      "str21: bbdaecaade\n",
      "str22: dacedaedab\n",
      "str23: aaeabbbbce\n",
      "str24: dedbcbcaab\n",
      "str25: dbdaaebbcb\n",
      "str26: debedbebac\n",
      "str27: ceebcdcbde\n",
      "str28: dbedaadaab\n",
      "str29: cccdcbebdc\n",
      "str30: aeeacdbcbd\n",
      "str31: dacbeacccd\n",
      "str32: ecebccdbdb\n",
      "str33: ddbbcedabb\n",
      "str34: aaeabaaeba\n",
      "str35: ecbbcaadcd\n",
      "str36: debccecdbc\n",
      "str37: daacbaeebc\n",
      "str38: adabeaacce\n",
      "str39: daecdbacaa\n",
      "str40: dacbbdcedc\n",
      "str41: dedbeebbde\n",
      "str42: cdadcdcdaa\n",
      "str43: ceedcbaeed\n",
      "str44: ceaecaaaca\n",
      "str45: dcccebbbad\n",
      "str46: baeeaebbde\n",
      "str47: dbdebaccdb\n",
      "str48: ebcbeedaea\n",
      "str49: aeeebbdbca\n",
      "str50: dbdabcecbb\n",
      "\n",
      "--- Solution (of length 466) ---\n",
      "  Sol: adacedaedabdabcecbbaeeebbdbcaebcbeedaeadbdebaccdbaeeaebbdedcccebbbadceaecaaacaceedcbaeedcdadcdcdaadedbeebbdedacbbdcedcdaecdbacaadabeaaccedaacbaeebcdebccecdbcecbbcaadcdaaeabaaebaddbbcedabbecebccdbdbdacbeacccdaeeacdbcbdcccdcbebdcdbedaadaabceebcdcbdedebedbebacdbdaaebbcbdedbcbcaabeeeaadceedaabdabcddeaecddceeabdeaebcadbabbecaedadeeedbdeeadeadeaabcaccdbaaeaabeeacededaaaeaabdabdbeaadccdeedadcdeeeecbdbeebbaeaebadabbabebdcbacbeecabceaeddddebddcacdeecebebddbeeeebcbccdbcce\n",
      "str01: -d-c------b---c-c--------dbc---c-e------------------------------------------------------------------------------------------------------------------------------------------------------------------------------------------------------------------------------------------------------------------------------------------------------------------------------------------------------------------------------------------------------------------------------------------------\n",
      "str02: ----------bd-------------db--e---ee--e--bd----------------------------------------------------------------------------------------------------------------------------------------------------------------------------------------------------------------------------------------------------------------------------------------------------------------------------------------------------------------------------------------------------------------------------------------\n",
      "str03: ---c--a-------c----------d---e---e-----------c----e---b--e------------------------------------------------------------------------------------------------------------------------------------------------------------------------------------------------------------------------------------------------------------------------------------------------------------------------------------------------------------------------------------------------------------------------\n",
      "str04: a---ed--d--d-------------d---eb----d---d------------------------------------------------------------------------------------------------------------------------------------------------------------------------------------------------------------------------------------------------------------------------------------------------------------------------------------------------------------------------------------------------------------------------------------------\n",
      "str05: a--c------b----e----e------ca-bc-e------------------------------------------------------------------------------------------------------------------------------------------------------------------------------------------------------------------------------------------------------------------------------------------------------------------------------------------------------------------------------------------------------------------------------------------------\n",
      "str06: ----------b--b-----a---b-----eb----d---------c--ba--------------------------------------------------------------------------------------------------------------------------------------------------------------------------------------------------------------------------------------------------------------------------------------------------------------------------------------------------------------------------------------------------------------------------------\n",
      "str07: ----------b--b-----ae-------aeb-----a--d----a----------------------------------------------------"
     ]
    },
    {
     "name": "stdout",
     "output_type": "stream",
     "text": [
      "---------------------------------------------------------------------------------------------------------------------------------------------------------------------------------------------------------------------------------------------------------------------------------------------------------------------------------------------------------------------------------\n",
      "str08: ----e--e-------e----e------c--b----d----b-e-------e-------------------------------------------------------------------------------------------------------------------------------------------------------------------------------------------------------------------------------------------------------------------------------------------------------------------------------------------------------------------------------------------------------------------------------\n",
      "str09: ---c----------c----------d---e---e-da--d-----c-d----------------------------------------------------------------------------------------------------------------------------------------------------------------------------------------------------------------------------------------------------------------------------------------------------------------------------------------------------------------------------------------------------------------------------------\n",
      "str10: ----------bdab-----------db--e------a-ad------------------------------------------------------------------------------------------------------------------------------------------------------------------------------------------------------------------------------------------------------------------------------------------------------------------------------------------------------------------------------------------------------------------------------------------\n",
      "str11: ----ed-eda--a------ae-------a-------a---------------------------------------------------------------------------------------------------------------------------------------------------------------------------------------------------------------------------------------------------------------------------------------------------------------------------------------------------------------------------------------------------------------------------------------------\n",
      "str12: a-a-e-a--ab----e----e-------a--c--------------------------------------------------------------------------------------------------------------------------------------------------------------------------------------------------------------------------------------------------------------------------------------------------------------------------------------------------------------------------------------------------------------------------------------------------\n",
      "str13: ----e-a--ab---c----a-------c---c---d----b-----------------------------------------------------------------------------------------------------------------------------------------------------------------------------------------------------------------------------------------------------------------------------------------------------------"
     ]
    },
    {
     "name": "stdout",
     "output_type": "stream",
     "text": [
      "------------------------------------------------------------------------------------------------------------------------------\n",
      "str14: ----------bd---e----e-------a------d-ead--e---------------------------------------------------------------------------------------------------------------------------------------------------------------------------------------------------------------------------------------------------------------------------------------------------------------------------------------------------------------------------------------------------------------------------------------\n",
      "str15: ---c--aeda-d---e----ee---d--------------------------------------------------------------------------------------------------------------------------------------------------------------------------------------------------------------------------------------------------------------------------------------------------------------------------------------------------------------------------------------------------------------------------------------------------------\n",
      "str16: ----e-----b---c----a-----db-a-b-be------------------------------------------------------------------------------------------------------------------------------------------------------------------------------------------------------------------------------------------------------------------------------------------------------------------------------------------------------------------------------------------------------------------------------------------------\n",
      "str17: -d---d--------ce----e-------a-b----d-ea-------------------------------------------------------------------------------------------------------------------------------------------------------------------------------------------------------------------------------------------------------------------------------------------------------------------------------------------------------------------------------------------------------------------------------------------\n",
      "str18: -da-------b---c----------d---------d-ea---e--c------------------------------------------------------------------------------------------------------------------------------------------------------------------------------------------------------------------------------------------------------------------------------------------------------------------------------------------------------------------------------------------------------------------------------------\n",
      "str19: a-a--d--------ce----e----d--a-------a---b-----------------------------------------------------------------------------------------------------------------------------------------------------------------------------------------------------------------------------------------------------------------------------------------------------------------------------------------------------------------------------------------------------------------------------------------\n",
      "str20: a---e--e------c-c---eee-----a-------a----------------------------------------------------"
     ]
    },
    {
     "name": "stdout",
     "output_type": "stream",
     "text": [
      "-----------------------------------------------------------------------------------------------------------------------------------------------------------------------------------------------------------------------------------------------------------------------------------------------------------------------------------------------------------------------------------------\n",
      "str21: ----------b--b-----------d--ae-c----a-ad--e---------------------------------------------------------------------------------------------------------------------------------------------------------------------------------------------------------------------------------------------------------------------------------------------------------------------------------------------------------------------------------------------------------------------------------------\n",
      "str22: -dacedaedab-----------------------------------------------------------------------------------------------------------------------------------------------------------------------------------------------------------------------------------------------------------------------------------------------------------------------------------------------------------------------------------------------------------------------------------------------------------------------\n",
      "str23: a-a-e-a---b--b---bb--------c-e----------------------------------------------------------------------------------------------------------------------------------------------------------------------------------------------------------------------------------------------------------------------------------------------------------------------------------------------------------------------------------------------------------------------------------------------------\n",
      "str24: -d--ed----b---c--b---------ca-------a---b-----------------------------------------------------------------------------------------------------------------------------------------------------------------------------------------------------------------------------------------------------------------------------------------------------------------------------------------------------------------------------------------------------------------------------------------\n",
      "str25: -d--------bda------ae--bb--c--b---------------------------------------------------------------------------------------------------------------------------------------------------------------------------------------------------------------------------------------------------------------------------------------------------------------------------------------------------------------------------------------------------------------------------------------------------\n",
      "str26: -d--e-----b----e---------db--eb-----a--------c--------------------------------------------------------------------------------------------------------------------------------------------------------------------------------------------------------------------------------------------------------------------------------------------------"
     ]
    },
    {
     "name": "stdout",
     "output_type": "stream",
     "text": [
      "----------------------------------------------------------------------------------------------------------------------------------\n",
      "str27: ---ce--e--b---c----------d-c--b----d-e--------------------------------------------------------------------------------------------------------------------------------------------------------------------------------------------------------------------------------------------------------------------------------------------------------------------------------------------------------------------------------------------------------------------------------------------\n",
      "str28: -d--------b----e---------d--a-------a--d----a----a----b---------------------------------------------------------------------------------------------------------------------------------------------------------------------------------------------------------------------------------------------------------------------------------------------------------------------------------------------------------------------------------------------------------------------------\n",
      "str29: ---c----------c-c--------d-c--b--e------bd---c------------------------------------------------------------------------------------------------------------------------------------------------------------------------------------------------------------------------------------------------------------------------------------------------------------------------------------------------------------------------------------------------------------------------------------\n",
      "str30: a---e--e-a----c----------dbc--b----d----------------------------------------------------------------------------------------------------------------------------------------------------------------------------------------------------------------------------------------------------------------------------------------------------------------------------------------------------------------------------------------------------------------------------------------------\n",
      "str31: -dac------b----e---a-------c---c-------------c-d----------------------------------------------------------------------------------------------------------------------------------------------------------------------------------------------------------------------------------------------------------------------------------------------------------------------------------------------------------------------------------------------------------------------------------\n",
      "str32: ----e---------ce-b---------c---c---d----bd-b--------------------------------------------------------------------------------------------------------------------------------------------------------------------------------------------------------------------------------------------------------------------------------------------------------------------------------------------------------------------------------------------------------------------------------------\n",
      "str33: -d---d----b--bce---------d--a-b-b---------------------------------------------------------------------------------"
     ]
    },
    {
     "name": "stdout",
     "output_type": "stream",
     "text": [
      "----------------------------------------------------------------------------------------------------------------------------------------------------------------------------------------------------------------------------------------------------------------------------------------------------------------------------------------------------------------\n",
      "str34: a-a-e-a---b-a------ae--b----a-----------------------------------------------------------------------------------------------------------------------------------------------------------------------------------------------------------------------------------------------------------------------------------------------------------------------------------------------------------------------------------------------------------------------------------------------------\n",
      "str35: ----e---------c--bb--------ca-------a--d-----c-d----------------------------------------------------------------------------------------------------------------------------------------------------------------------------------------------------------------------------------------------------------------------------------------------------------------------------------------------------------------------------------------------------------------------------------\n",
      "str36: -d--e-----b---c-c---e------c-------d----b----c------------------------------------------------------------------------------------------------------------------------------------------------------------------------------------------------------------------------------------------------------------------------------------------------------------------------------------------------------------------------------------------------------------------------------------\n",
      "str37: -da---a-------c--b-aee-b---c------------------------------------------------------------------------------------------------------------------------------------------------------------------------------------------------------------------------------------------------------------------------------------------------------------------------------------------------------------------------------------------------------------------------------------------------------\n",
      "str38: ada-------b----e---a--------a--c-------------c----e-------------------------------------------------------------------------------------------------------------------------------------------------------------------------------------------------------------------------------------------------------------------------------------------------------------------------------------------------------------------------------------------------------------------------------\n",
      "str39: -da-e---------c----------db-a--c----a-a-----------------------------------------------------------------------------------------------------------------------------------------------------------------------------------------------------------------------------------------------------------------------------------------------------------------"
     ]
    },
    {
     "name": "stdout",
     "output_type": "stream",
     "text": [
      "--------------------------------------------------------------------------------------------------------------------------\n",
      "str40: -dac------b--b-----------d-c-e-----d---------c------------------------------------------------------------------------------------------------------------------------------------------------------------------------------------------------------------------------------------------------------------------------------------------------------------------------------------------------------------------------------------------------------------------------------------\n",
      "str41: -d--ed----b----e----e--bbd---e----------------------------------------------------------------------------------------------------------------------------------------------------------------------------------------------------------------------------------------------------------------------------------------------------------------------------------------------------------------------------------------------------------------------------------------------------\n",
      "str42: ---c-da-d-----c----------d-c-------da-a-------------------------------------------------------------------------------------------------------------------------------------------------------------------------------------------------------------------------------------------------------------------------------------------------------------------------------------------------------------------------------------------------------------------------------------------\n",
      "str43: ---ce--ed-----c--b-aee---d--------------------------------------------------------------------------------------------------------------------------------------------------------------------------------------------------------------------------------------------------------------------------------------------------------------------------------------------------------------------------------------------------------------------------------------------------------\n",
      "str44: ---ce-ae------c----a--------a-------a--------c---a--------------------------------------------------------------------------------------------------------------------------------------------------------------------------------------------------------------------------------------------------------------------------------------------------------------------------------------------------------------------------------------------------------------------------------\n",
      "str45: -d-c----------c-c---e--bb-b-a------d----------------------------------------------------------------------------------------------------------------------------------------------------------------------------------------------------------------------------------------------------------------------------------------------------------------------------------------------------------------------------------------------------------------------------------------------\n",
      "str46: ----------b-a--e----e-------aeb-b--d-e---------------------------------------------------------------"
     ]
    },
    {
     "name": "stdout",
     "output_type": "stream",
     "text": [
      "-----------------------------------------------------------------------------------------------------------------------------------------------------------------------------------------------------------------------------------------------------------------------------------------------------------------------------------------------------------------------------\n",
      "str47: -d--------bd---e-b-a-------c---c---d----b-----------------------------------------------------------------------------------------------------------------------------------------------------------------------------------------------------------------------------------------------------------------------------------------------------------------------------------------------------------------------------------------------------------------------------------------\n",
      "str48: ----e-----b---c--b--ee---d--ae------a---------------------------------------------------------------------------------------------------------------------------------------------------------------------------------------------------------------------------------------------------------------------------------------------------------------------------------------------------------------------------------------------------------------------------------------------\n",
      "str49: a---e--e-------e-bb------dbca-----------------------------------------------------------------------------------------------------------------------------------------------------------------------------------------------------------------------------------------------------------------------------------------------------------------------------------------------------------------------------------------------------------------------------------------------------\n",
      "str50: -d--------bdabcecbb---------------------------------------------------------------------------------------------------------------------------------------------------------------------------------------------------------------------------------------------------------------------------------------------------------------------------------------------------------------------------------------------------------------------------------------------------------------\n",
      "\n",
      "solution is feasible: True\n"
     ]
    }
   ],
   "source": [
    "_instance = instance_05\n",
    "_solution = solution_05\n",
    "\n",
    "util.show(_instance)\n",
    "if _solution is not None:\n",
    "    util.show(_instance, _solution)\n",
    "    print(f\"solution is feasible: {util.is_feasible(_instance, _solution)}\")\n",
    "else:\n",
    "    print(\"--- Solution not found ---\")"
   ]
  },
  {
   "cell_type": "code",
   "execution_count": null,
   "id": "ZHCJ",
   "metadata": {},
   "outputs": [
    {
     "name": "stdout",
     "output_type": "stream",
     "text": [
      "\n",
      "Starting CP-SAT solver v9.14.6206\n",
      "Parameters: max_time_in_seconds: 60 log_search_progress: true\n",
      "Setting number of workers to 12\n",
      "\n",
      "Initial optimization model '': (model_fingerprint: 0x13ba79668ddf2740)\n",
      "#Variables: 101 (#ints: 1 in objective) (100 primary variables)\n",
      "  - 100 in [0,99]\n",
      "  - 1 in [0,100]\n",
      "#kLinMax: 1 (#expressions: 10)\n",
      "#kLinear2: 3'429 (#complex_domain: 3'339)\n",
      "\n",
      "Starting presolve at 0.00s\n"
     ]
    },
    {
     "name": "stdout",
     "output_type": "stream",
     "text": [
      "  2.32e-04s  0.00e+00d  [DetectDominanceRelations] \n",
      "  2.33e-02s  0.00e+00d  [PresolveToFixPoint] #num_loops=10 #num_dual_strengthening=1 \n",
      "  1.33e-05s  0.00e+00d  [ExtractEncodingFromLinear] \n",
      "  9.81e-05s  0.00e+00d  [DetectDuplicateColumns] \n",
      "  5.96e-05s  0.00e+00d  [DetectDuplicateConstraints] \n",
      "[Symmetry] Graph for symmetry has 3'640 nodes and 6'978 arcs.\n",
      "[Symmetry] Symmetry computation done. time: 0.000355304 dtime: 0.00085275\n"
     ]
    },
    {
     "name": "stdout",
     "output_type": "stream",
     "text": [
      "  9.68e-05s  0.00e+00d  [DetectDuplicateConstraintsWithDifferentEnforcements] \n",
      "  1.42e-01s  4.09e-02d  [Probe] #probed=13'356 #new_bounds=1 \n",
      "  1.05e-05s  0.00e+00d  [MaxClique] \n",
      "  2.22e-04s  0.00e+00d  [DetectDominanceRelations] \n",
      "  3.52e-03s  0.00e+00d  [PresolveToFixPoint] #num_loops=2 #num_dual_strengthening=1 \n"
     ]
    },
    {
     "name": "stdout",
     "output_type": "stream",
     "text": [
      "  3.81e-04s  0.00e+00d  [ProcessAtMostOneAndLinear] \n",
      "  6.28e-05s  0.00e+00d  [DetectDuplicateConstraints] \n",
      "  6.33e-05s  0.00e+00d  [DetectDuplicateConstraintsWithDifferentEnforcements] \n",
      "  4.34e-04s  2.58e-05d  [DetectDominatedLinearConstraints] #relevant_constraints=3'439 \n",
      "  8.54e-04s  0.00e+00d  [DetectDifferentVariables] #different=3'429 #cliques=85 #size=411 \n",
      "  1.22e-05s  0.00e+00d  [ProcessSetPPC] \n",
      "  1.15e-05s  0.00e+00d  [FindAlmostIdenticalLinearConstraints] \n",
      "  3.10e-06s  0.00e+00d  [FindBigAtMostOneAndLinearOverlap] \n",
      "  4.05e-04s  1.74e-04d  [FindBigVerticalLinearOverlap] \n",
      "  8.42e-06s  0.00e+00d  [FindBigHorizontalLinearOverlap] \n",
      "  7.47e-06s  0.00e+00d  [MergeClauses] \n",
      "  2.17e-04s  0.00e+00d  [DetectDominanceRelations] \n",
      "  3.54e-03s  0.00e+00d  [PresolveToFixPoint] #num_loops=1 #num_dual_strengthening=1 \n",
      "  2.18e-04s  0.00e+00d  [DetectDominanceRelations] \n",
      "  3.46e-03s  0.00e+00d  [PresolveToFixPoint] #num_loops=1 #num_dual_strengthening=1 \n",
      "  7.34e-05s  0.00e+00d  [DetectDuplicateColumns] \n",
      "  9.09e-05s  0.00e+00d  [DetectDuplicateConstraints] \n",
      "[Symmetry] Graph for symmetry has 3'825 nodes and 7'489 arcs.\n",
      "[Symmetry] Symmetry computation done. time: 0.000381744 dtime: 0.00090583\n"
     ]
    },
    {
     "name": "stdout",
     "output_type": "stream",
     "text": [
      "  1.06e-04s  0.00e+00d  [DetectDuplicateConstraintsWithDifferentEnforcements] \n",
      "  1.61e-01s  4.33e-02d  [Probe] #probed=13'356 \n",
      "  7.68e-06s  0.00e+00d  [MaxClique] \n",
      "  2.23e-04s  0.00e+00d  [DetectDominanceRelations] \n",
      "  3.48e-03s  0.00e+00d  [PresolveToFixPoint] #num_loops=1 #num_dual_strengthening=1 \n",
      "  3.82e-04s  0.00e+00d  [ProcessAtMostOneAndLinear] \n",
      "  8.64e-05s  0.00e+00d  [DetectDuplicateConstraints] \n",
      "  9.04e-05s  0.00e+00d  [DetectDuplicateConstraintsWithDifferentEnforcements] \n",
      "  4.28e-04s  2.58e-05d  [DetectDominatedLinearConstraints] #relevant_constraints=3'439 \n",
      "  4.08e-04s  0.00e+00d  [DetectDifferentVariables] \n",
      "  1.10e-05s  0.00e+00d  [ProcessSetPPC] \n",
      "  1.14e-05s  0.00e+00d  [FindAlmostIdenticalLinearConstraints] \n",
      "  2.96e-06s  0.00e+00d  [FindBigAtMostOneAndLinearOverlap] \n",
      "  4.02e-04s  1.74e-04d  [FindBigVerticalLinearOverlap] \n",
      "  9.10e-06s  0.00e+00d  [FindBigHorizontalLinearOverlap] \n",
      "  5.96e-06s  0.00e+00d  [MergeClauses] \n",
      "  2.15e-04s  0.00e+00d  [DetectDominanceRelations] \n",
      "  3.46e-03s  0.00e+00d  [PresolveToFixPoint] #num_loops=1 #num_dual_strengthening=1 \n",
      "  1.63e-05s  0.00e+00d  [ExpandObjective] \n"
     ]
    },
    {
     "name": "stdout",
     "output_type": "stream",
     "text": [
      "\n",
      "Presolve summary:\n",
      "  - 0 affine relations were detected.\n",
      "  - rule 'TODO dual: only one unspecified blocking constraint?' was applied 6 times.\n",
      "  - rule 'all_diff: inferred from x != y constraints' was applied 85 times.\n",
      "  - rule 'lin_max: rewrite with precedences' was applied 1 time.\n",
      "  - rule 'lin_max: target domain reduced' was applied 1 time.\n",
      "  - rule 'linear: expanded complex rhs' was applied 3'339 times.\n",
      "  - rule 'linear: reduced variable domains' was applied 450 times.\n",
      "  - rule 'new_bool: complex linear expansion' was applied 3'339 times.\n",
      "  - rule 'presolve: 0 unused variables removed.' was applied 1 time.\n",
      "  - rule 'presolve: iteration' was applied 2 times.\n",
      "\n",
      "Presolved optimization model '': (model_fingerprint: 0xe7d5a2a1fbbe0080)\n",
      "#Variables: 3'440 (#ints: 1 in objective) (3'439 primary variables)\n",
      "  - 3'339 Booleans in [0,1]\n",
      "  - 10 in [0,90]\n",
      "  - 10 in [1,91]\n",
      "  - 10 in [2,92]\n",
      "  - 10 in [3,93]\n",
      "  - 10 in [4,94]\n",
      "  - 10 in [5,95]\n",
      "  - 10 in [6,96]\n",
      "  - 10 in [7,97]\n",
      "  - 10 in [8,98]\n",
      "  - 10 in [9,99]\n",
      "  - 1 in [10,99]\n",
      "#kAllDiff: 85\n",
      "#kLinear2: 6'778 (#enforced: 6'678)\n",
      "[Symmetry] Graph for symmetry has 13'842 nodes and 24'184 arcs.\n",
      "[Symmetry] Symmetry computation done. time: 0.001668 dtime: 0.00406373\n",
      "\n",
      "Preloading model.\n",
      "#Bound   0.37s best:inf   next:[10,99]    initial_domain\n",
      "#Model   0.37s var:3440/3440 constraints:6863/6863\n",
      "\n",
      "Starting search at 0.37s with 12 workers.\n",
      "8 full problem subsolvers: [default_lp, lb_tree_search, max_lp, no_lp, pseudo_costs, quick_restart, quick_restart_no_lp, reduced_costs]\n",
      "4 first solution subsolvers: [fj(2), fs_random, fs_random_no_lp]\n",
      "10 interleaved subsolvers: [feasibility_pump, graph_arc_lns, graph_cst_lns, graph_dec_lns, graph_var_lns, ls, ls_lin, rins/rens, rnd_cst_lns, rnd_var_lns]\n",
      "3 helper subsolvers: [neighborhood_helper, synchronization_agent, update_gap_integral]\n",
      "\n"
     ]
    },
    {
     "name": "stdout",
     "output_type": "stream",
     "text": [
      "#1       0.54s best:95    next:[10,94]    quick_restart_no_lp\n"
     ]
    },
    {
     "name": "stdout",
     "output_type": "stream",
     "text": [
      "#2       0.70s best:94    next:[10,93]    no_lp\n"
     ]
    },
    {
     "name": "stdout",
     "output_type": "stream",
     "text": [
      "#3       0.71s best:93    next:[10,92]    no_lp\n",
      "#4       0.72s best:92    next:[10,91]    no_lp\n"
     ]
    },
    {
     "name": "stdout",
     "output_type": "stream",
     "text": [
      "#5       0.74s best:91    next:[10,90]    no_lp\n",
      "#6       0.74s best:90    next:[10,89]    no_lp\n"
     ]
    },
    {
     "name": "stdout",
     "output_type": "stream",
     "text": [
      "#7       0.75s best:89    next:[10,88]    no_lp\n",
      "#8       0.75s best:88    next:[10,87]    no_lp\n"
     ]
    },
    {
     "name": "stdout",
     "output_type": "stream",
     "text": [
      "#9       0.76s best:87    next:[10,86]    no_lp\n",
      "#10      0.76s best:86    next:[10,85]    no_lp\n"
     ]
    },
    {
     "name": "stdout",
     "output_type": "stream",
     "text": [
      "#11      0.77s best:85    next:[10,84]    no_lp\n",
      "#12      0.78s best:84    next:[10,83]    no_lp\n"
     ]
    },
    {
     "name": "stdout",
     "output_type": "stream",
     "text": [
      "#13      0.78s best:83    next:[10,82]    no_lp\n",
      "#14      0.79s best:82    next:[10,81]    no_lp\n"
     ]
    },
    {
     "name": "stdout",
     "output_type": "stream",
     "text": [
      "#15      0.79s best:81    next:[10,80]    default_lp\n",
      "#16      0.80s best:80    next:[10,79]    default_lp\n"
     ]
    },
    {
     "name": "stdout",
     "output_type": "stream",
     "text": [
      "#17      0.81s best:79    next:[10,78]    default_lp\n",
      "#18      0.81s best:78    next:[10,77]    quick_restart\n"
     ]
    },
    {
     "name": "stdout",
     "output_type": "stream",
     "text": [
      "#19      0.82s best:77    next:[10,76]    default_lp\n",
      "#20      0.83s best:76    next:[10,75]    default_lp\n"
     ]
    },
    {
     "name": "stdout",
     "output_type": "stream",
     "text": [
      "#21      0.83s best:75    next:[10,74]    no_lp\n",
      "#22      0.84s best:74    next:[10,73]    quick_restart_no_lp\n"
     ]
    },
    {
     "name": "stdout",
     "output_type": "stream",
     "text": [
      "#23      0.85s best:73    next:[10,72]    default_lp\n",
      "#24      0.85s best:72    next:[10,71]    default_lp\n"
     ]
    },
    {
     "name": "stdout",
     "output_type": "stream",
     "text": [
      "#25      0.86s best:71    next:[10,70]    default_lp\n",
      "#26      0.87s best:70    next:[10,69]    no_lp\n"
     ]
    },
    {
     "name": "stdout",
     "output_type": "stream",
     "text": [
      "#27      0.88s best:69    next:[10,68]    no_lp\n",
      "#28      0.88s best:68    next:[10,67]    no_lp\n"
     ]
    },
    {
     "name": "stdout",
     "output_type": "stream",
     "text": [
      "#29      0.89s best:67    next:[10,66]    default_lp\n",
      "#30      0.90s best:66    next:[10,65]    default_lp\n"
     ]
    },
    {
     "name": "stdout",
     "output_type": "stream",
     "text": [
      "#31      0.90s best:65    next:[10,64]    default_lp\n",
      "#32      0.91s best:64    next:[10,63]    ls_restart_decay_perturb(batch:1 lin{mvs:158 evals:643} #w_updates:68 #perturb:0)\n"
     ]
    },
    {
     "name": "stdout",
     "output_type": "stream",
     "text": [
      "#33      0.92s best:63    next:[10,62]    no_lp\n",
      "#34      0.92s best:62    next:[10,61]    no_lp\n"
     ]
    },
    {
     "name": "stdout",
     "output_type": "stream",
     "text": [
      "#35      0.93s best:61    next:[10,60]    no_lp\n",
      "#36      0.94s best:60    next:[10,59]    no_lp\n"
     ]
    },
    {
     "name": "stdout",
     "output_type": "stream",
     "text": [
      "#37      0.95s best:59    next:[10,58]    no_lp\n",
      "#38      0.96s best:58    next:[10,57]    default_lp\n"
     ]
    },
    {
     "name": "stdout",
     "output_type": "stream",
     "text": [
      "#39      0.97s best:57    next:[10,56]    default_lp\n",
      "#40      0.98s best:56    next:[10,55]    no_lp\n"
     ]
    },
    {
     "name": "stdout",
     "output_type": "stream",
     "text": [
      "#41      0.98s best:55    next:[10,54]    no_lp\n",
      "#42      0.99s best:54    next:[10,53]    no_lp\n"
     ]
    },
    {
     "name": "stdout",
     "output_type": "stream",
     "text": [
      "#43      1.00s best:53    next:[10,52]    default_lp\n"
     ]
    },
    {
     "name": "stdout",
     "output_type": "stream",
     "text": [
      "#44      1.01s best:52    next:[10,51]    no_lp\n",
      "#45      1.02s best:51    next:[10,50]    no_lp\n"
     ]
    },
    {
     "name": "stdout",
     "output_type": "stream",
     "text": [
      "#46      1.03s best:50    next:[10,49]    no_lp\n",
      "#47      1.04s best:49    next:[10,48]    default_lp\n"
     ]
    },
    {
     "name": "stdout",
     "output_type": "stream",
     "text": [
      "#48      1.05s best:48    next:[10,47]    default_lp\n",
      "#49      1.06s best:47    next:[10,46]    default_lp\n"
     ]
    },
    {
     "name": "stdout",
     "output_type": "stream",
     "text": [
      "#50      1.06s best:46    next:[10,45]    default_lp\n",
      "#51      1.07s best:45    next:[10,44]    default_lp\n"
     ]
    },
    {
     "name": "stdout",
     "output_type": "stream",
     "text": [
      "#52      1.08s best:44    next:[10,43]    default_lp\n"
     ]
    },
    {
     "name": "stdout",
     "output_type": "stream",
     "text": [
      "#53      1.09s best:43    next:[10,42]    no_lp\n",
      "#54      1.09s best:42    next:[10,41]    no_lp\n"
     ]
    },
    {
     "name": "stdout",
     "output_type": "stream",
     "text": [
      "#55      1.11s best:41    next:[10,40]    quick_restart\n"
     ]
    },
    {
     "name": "stdout",
     "output_type": "stream",
     "text": [
      "#56      1.18s best:40    next:[10,39]    ls_lin_restart(batch:1 lin{mvs:478 evals:2'848} #w_updates:115 #perturb:0)\n"
     ]
    },
    {
     "name": "stdout",
     "output_type": "stream",
     "text": [
      "#Bound   1.20s best:40    next:[11,39]    reduced_costs\n"
     ]
    },
    {
     "name": "stdout",
     "output_type": "stream",
     "text": [
      "#57      1.23s best:39    next:[11,38]    no_lp\n",
      "#58      1.23s best:38    next:[11,37]    no_lp\n"
     ]
    },
    {
     "name": "stdout",
     "output_type": "stream",
     "text": [
      "#59      1.24s best:37    next:[11,36]    no_lp\n",
      "#60      1.25s best:36    next:[11,35]    no_lp\n"
     ]
    },
    {
     "name": "stdout",
     "output_type": "stream",
     "text": [
      "#61      1.25s best:35    next:[11,34]    no_lp\n"
     ]
    },
    {
     "name": "stdout",
     "output_type": "stream",
     "text": [
      "#62      1.27s best:34    next:[11,33]    no_lp\n"
     ]
    },
    {
     "name": "stdout",
     "output_type": "stream",
     "text": [
      "#63      1.54s best:33    next:[11,32]    rnd_cst_lns (d=8.14e-01 s=52 t=0.10 p=1.00 stall=0 h=base) [hint]\n"
     ]
    },
    {
     "name": "stdout",
     "output_type": "stream",
     "text": [
      "#64      1.61s best:31    next:[11,30]    graph_dec_lns (d=8.76e-01 s=50 t=0.10 p=1.00 stall=0 h=base)\n"
     ]
    },
    {
     "name": "stdout",
     "output_type": "stream",
     "text": [
      "#Bound   1.74s best:31    next:[12,30]    reduced_costs\n"
     ]
    },
    {
     "name": "stdout",
     "output_type": "stream",
     "text": [
      "#Bound   2.19s best:31    next:[13,30]    reduced_costs\n"
     ]
    },
    {
     "name": "stdout",
     "output_type": "stream",
     "text": [
      "#Bound   2.53s best:31    next:[14,30]    reduced_costs\n"
     ]
    },
    {
     "name": "stdout",
     "output_type": "stream",
     "text": [
      "#65      2.70s best:30    next:[14,29]    quick_restart\n"
     ]
    },
    {
     "name": "stdout",
     "output_type": "stream",
     "text": [
      "#66      2.79s best:29    next:[14,28]    ls_restart_decay_compound(batch:1 lin{mvs:0 evals:554} gen{mvs:600 evals:930} comp{mvs:82 btracks:259} #w_updates:7 #perturb:0)\n"
     ]
    },
    {
     "name": "stdout",
     "output_type": "stream",
     "text": [
      "#67      2.88s best:28    next:[14,27]    quick_restart_no_lp\n"
     ]
    },
    {
     "name": "stdout",
     "output_type": "stream",
     "text": [
      "#68      3.07s best:27    next:[14,26]    graph_var_lns (d=9.14e-01 s=82 t=0.10 p=1.00 stall=0 h=base)\n"
     ]
    },
    {
     "name": "stdout",
     "output_type": "stream",
     "text": [
      "#69      3.37s best:26    next:[14,25]    quick_restart\n"
     ]
    },
    {
     "name": "stdout",
     "output_type": "stream",
     "text": [
      "#70      3.87s best:25    next:[14,24]    graph_cst_lns (d=9.39e-01 s=98 t=0.10 p=1.00 stall=0 h=base)\n"
     ]
    },
    {
     "name": "stdout",
     "output_type": "stream",
     "text": [
      "#71      4.17s best:24    next:[14,23]    graph_arc_lns (d=9.39e-01 s=105 t=0.10 p=1.00 stall=0 h=base)\n"
     ]
    },
    {
     "name": "stdout",
     "output_type": "stream",
     "text": [
      "#Bound   5.34s best:24    next:[15,23]    reduced_costs\n"
     ]
    },
    {
     "name": "stdout",
     "output_type": "stream",
     "text": [
      "#72     18.42s best:23    next:[15,22]    graph_var_lns (d=9.74e-01 s=348 t=0.10 p=0.79 stall=0 h=base)\n"
     ]
    },
    {
     "name": "stdout",
     "output_type": "stream",
     "text": [
      "#Bound  19.93s best:23    next:[16,22]    reduced_costs\n"
     ]
    },
    {
     "name": "stdout",
     "output_type": "stream",
     "text": [
      "#Model  22.48s var:3439/3440 constraints:6862/6863\n"
     ]
    },
    {
     "name": "stdout",
     "output_type": "stream",
     "text": [
      "#Model  25.97s var:3438/3440 constraints:6861/6863\n"
     ]
    },
    {
     "name": "stdout",
     "output_type": "stream",
     "text": [
      "#Model  36.73s var:3437/3440 constraints:6860/6863\n"
     ]
    },
    {
     "name": "stdout",
     "output_type": "stream",
     "text": [
      "#Model  37.70s var:3436/3440 constraints:6859/6863\n"
     ]
    },
    {
     "name": "stdout",
     "output_type": "stream",
     "text": [
      "#Model  42.61s var:3435/3440 constraints:6858/6863\n"
     ]
    },
    {
     "name": "stdout",
     "output_type": "stream",
     "text": [
      "#Model  45.35s var:3434/3440 constraints:6857/6863\n"
     ]
    },
    {
     "name": "stdout",
     "output_type": "stream",
     "text": [
      "#Model  46.78s var:3433/3440 constraints:6856/6863\n"
     ]
    },
    {
     "name": "stdout",
     "output_type": "stream",
     "text": [
      "#Model  46.91s var:3432/3440 constraints:6855/6863\n"
     ]
    },
    {
     "name": "stdout",
     "output_type": "stream",
     "text": [
      "#Model  49.10s var:3431/3440 constraints:6854/6863\n"
     ]
    },
    {
     "name": "stdout",
     "output_type": "stream",
     "text": [
      "#Model  49.20s var:3430/3440 constraints:6853/6863\n"
     ]
    },
    {
     "name": "stdout",
     "output_type": "stream",
     "text": [
      "#Model  49.24s var:3429/3440 constraints:6852/6863\n"
     ]
    },
    {
     "name": "stdout",
     "output_type": "stream",
     "text": [
      "#Model  49.45s var:3428/3440 constraints:6851/6863\n"
     ]
    },
    {
     "name": "stdout",
     "output_type": "stream",
     "text": [
      "#Model  54.39s var:3427/3440 constraints:6850/6863\n"
     ]
    },
    {
     "name": "stdout",
     "output_type": "stream",
     "text": [
      "#Model  57.66s var:3426/3440 constraints:6849/6863\n"
     ]
    },
    {
     "name": "stdout",
     "output_type": "stream",
     "text": [
      "#Model  59.77s var:3425/3440 constraints:6848/6863\n"
     ]
    },
    {
     "name": "stdout",
     "output_type": "stream",
     "text": [
      "\n",
      "Task timing                      n [     min,      max]      avg      dev     time         n [     min,      max]      avg      dev    dtime\n",
      "           'default_lp':         1 [  59.63s,   59.63s]   59.63s   0.00ns   59.63s         1 [  10.18s,   10.18s]   10.18s   0.00ns   10.18s\n",
      "     'feasibility_pump':       268 [  4.07us,   6.36ms] 101.27us 385.07us  27.14ms       258 [ 13.78us,  73.96us]  14.01us   3.74us   3.61ms\n",
      "                   'fj':         3 [ 62.49ms,  94.96ms]  74.15ms  14.75ms 222.45ms         3 [100.20ms, 100.52ms] 100.36ms 128.36us 301.09ms\n",
      "                   'fj':         3 [ 63.82ms,  71.17ms]  66.30ms   3.44ms 198.91ms         3 [100.19ms, 100.34ms] 100.26ms  63.28us 300.79ms\n",
      "            'fs_random':         1 [170.62ms, 170.62ms] 170.62ms   0.00ns 170.62ms         1 [  1.67ms,   1.67ms]   1.67ms   0.00ns   1.67ms\n",
      "      'fs_random_no_lp':         1 [170.27ms, 170.27ms] 170.27ms   0.00ns 170.27ms         1 [  1.69ms,   1.69ms]   1.69ms   0.00ns   1.69ms\n",
      "        'graph_arc_lns':        42 [187.83ms,    1.03s] 642.29ms 282.91ms   26.98s        41 [  2.20ms, 100.43ms]  56.59ms  38.27ms    2.32s\n",
      "        'graph_cst_lns':        42 [174.94ms,    1.14s] 687.10ms 287.34ms   28.86s        42 [ 10.00ns, 100.34ms]  59.91ms  38.68ms    2.52s\n",
      "        'graph_dec_lns':        41 [ 84.67ms,    1.11s] 655.89ms 305.76ms   26.89s        41 [ 33.41us, 100.41ms]  58.34ms  39.99ms    2.39s\n",
      "        'graph_var_lns':        41 [187.98ms,    1.06s] 691.76ms 259.50ms   28.36s        41 [580.98us, 100.22ms]  63.61ms  34.51ms    2.61s\n",
      "       'lb_tree_search':         1 [  59.63s,   59.63s]   59.63s   0.00ns   59.63s         1 [  33.22s,   33.22s]   33.22s   0.00ns   33.22s\n",
      "                   'ls':       268 [  2.14ms, 125.57ms]  72.67ms   9.35ms   19.48s       267 [  2.95ms, 100.59ms]  99.30ms   7.90ms   26.51s\n",
      "               'ls_lin':       268 [  1.44ms, 112.61ms]  74.04ms   9.89ms   19.84s       268 [644.14us, 100.37ms]  98.80ms  10.51ms   26.48s\n",
      "               'max_lp':         1 [  59.63s,   59.63s]   59.63s   0.00ns   59.63s         1 [  19.83s,   19.83s]   19.83s   0.00ns   19.83s\n",
      "                'no_lp':         1 [  59.63s,   59.63s]   59.63s   0.00ns   59.63s         1 [   8.41s,    8.41s]    8.41s   0.00ns    8.41s\n",
      "         'pseudo_costs':         1 [  59.65s,   59.65s]   59.65s   0.00ns   59.65s         1 [  12.95s,   12.95s]   12.95s   0.00ns   12.95s\n",
      "        'quick_restart':         1 [  59.63s,   59.63s]   59.63s   0.00ns   59.63s         1 [   8.89s,    8.89s]    8.89s   0.00ns    8.89s\n",
      "  'quick_restart_no_lp':         1 [  59.63s,   59.63s]   59.63s   0.00ns   59.63s         1 [   9.45s,    9.45s]    9.45s   0.00ns    9.45s\n",
      "        'reduced_costs':         1 [  59.63s,   59.63s]   59.63s   0.00ns   59.63s         1 [  10.02s,   10.02s]   10.02s   0.00ns   10.02s\n",
      "            'rins/rens':        58 [196.67us,    1.05s] 507.69ms 365.53ms   29.45s        44 [310.02us, 100.34ms]  70.28ms  37.84ms    3.09s\n",
      "          'rnd_cst_lns':        41 [171.05ms,    1.03s] 707.35ms 276.61ms   29.00s        41 [  9.81us, 100.32ms]  64.60ms  37.73ms    2.65s\n",
      "          'rnd_var_lns':        46 [  1.01ms,    1.07s] 625.40ms 345.59ms   28.77s        43 [ 10.00ns, 100.20ms]  61.29ms  39.81ms    2.64s\n",
      "\n",
      "Search stats              Bools  Conflicts  Branches  Restarts  BoolPropag  IntegerPropag\n",
      "           'default_lp':  3'706     70'566   205'281    26'134  35'880'225      9'024'458\n",
      "            'fs_random':  3'339         50     7'324     6'797         154         58'178\n",
      "      'fs_random_no_lp':  3'339          0     8'537     6'678         349         57'960\n",
      "       'lb_tree_search':  3'339        146   115'680    15'862   2'615'693      3'655'678\n",
      "               'max_lp':  3'339      6'796   262'213    36'989  16'840'292     21'133'857\n",
      "                'no_lp':  3'621     61'409   202'964    31'069  31'023'232      9'943'044\n",
      "         'pseudo_costs':  3'362     13'628   176'046    33'707  16'296'005     20'515'393\n",
      "        'quick_restart':  3'860     36'311   253'410    35'309  33'184'197      8'358'506\n",
      "  'quick_restart_no_lp':  4'219     39'093   266'588    35'464  34'785'330      8'987'403\n",
      "        'reduced_costs':  3'346     14'843   141'642    25'768  16'812'053     20'711'489\n",
      "\n",
      "SAT stats                 ClassicMinim  LitRemoved  LitLearned  LitForgotten  Subsumed  MClauses  MDecisions  MLitTrue  MSubsumed  MLitRemoved  MReused\n",
      "           'default_lp':        42'921     151'721     809'753       210'830     1'464    12'484      62'587         0      3'480       32'523    2'590\n",
      "            'fs_random':             0           0         104             0         0         0           0         0          0            0        0\n",
      "      'fs_random_no_lp':             0           0           0             0         0         0           0         0          0            0        0\n",
      "       'lb_tree_search':             2           2         402             0         0       125         245         0          1            4        4\n",
      "               'max_lp':         2'735       3'793      48'152             0       605    18'572      64'462         0      1'554        9'176    5'455\n",
      "                'no_lp':        24'203      36'690     661'403       380'893     2'718     9'271      43'241         0      1'714       12'403    3'489\n",
      "         'pseudo_costs':         5'318       7'683     107'528             0     1'086    18'845      74'142         0      2'462       15'108    6'199\n",
      "        'quick_restart':        23'544      71'311     261'969        40'691       614    13'455      47'404         6      2'896       19'494    2'320\n",
      "  'quick_restart_no_lp':        25'496      80'879     300'382        38'777       553    12'938      46'484         1      2'853       18'796    2'154\n",
      "        'reduced_costs':         8'122      16'611     113'055        21'517       887    10'631      40'918         0      2'537       15'560    3'367\n",
      "\n",
      "Lp stats             Component  Iterations  AddedCuts  OPTIMAL  DUAL_F.  DUAL_U.\n",
      "      'default_lp':          1           0          0   75'235        0        0\n",
      "       'fs_random':          1           0          0      132        0        0\n",
      "  'lb_tree_search':          1     256'388     73'053      178   23'462        0\n",
      "          'max_lp':          1     132'105     66'658       67   10'191        0\n",
      "    'pseudo_costs':          1     225'411     82'795      106   18'881        0\n",
      "   'quick_restart':          1           0          0   86'728        0        0\n",
      "   'reduced_costs':          1     214'648     74'419       96   18'823        0\n",
      "\n",
      "Lp dimension             Final dimension of first component\n",
      "      'default_lp':          0 rows, 101 columns, 0 entries\n",
      "       'fs_random':          0 rows, 101 columns, 0 entries\n",
      "  'lb_tree_search':  5107 rows, 3440 columns, 16485 entries\n",
      "          'max_lp':  7932 rows, 3440 columns, 24498 entries\n",
      "    'pseudo_costs':  3593 rows, 3440 columns, 10875 entries\n",
      "   'quick_restart':          0 rows, 101 columns, 0 entries\n",
      "   'reduced_costs':   3097 rows, 3440 columns, 9248 entries\n",
      "\n",
      "Lp debug             CutPropag  CutEqPropag  Adjust  Overflow     Bad  BadScaling\n",
      "      'default_lp':          0            0       0         0       0           0\n",
      "       'fs_random':          0            0       0         0       0           0\n",
      "  'lb_tree_search':          0           66       0         0  56'211           0\n",
      "          'max_lp':          0          130       0         0  49'116           0\n",
      "    'pseudo_costs':          0            1       0         0  90'760           0\n",
      "   'quick_restart':          0            0       0         0       0           0\n",
      "   'reduced_costs':          0            0       0         0  72'995           0\n",
      "\n",
      "Lp pool              Constraints  Updates  Simplif  Merged  Shortened  Split  Strenghtened       Cuts/Call\n",
      "      'default_lp':          100        0        0       0          0      0             0             0/0\n",
      "       'fs_random':          100        0        0       0          0      0             0             0/0\n",
      "  'lb_tree_search':       20'330    7'805   35'856   4'501        730  1'090        43'227  73'053/173'779\n",
      "          'max_lp':       37'871    7'958   42'934   2'565      3'600  5'106        43'858  66'658/157'987\n",
      "    'pseudo_costs':       38'259    7'515   53'639   3'314      1'872  1'390        55'738  82'795/193'528\n",
      "   'quick_restart':          100        0        0       0          0      0             0             0/0\n",
      "   'reduced_costs':       31'858    8'366   65'327   5'339      1'982  1'347        67'114  74'419/183'207\n",
      "\n",
      "Lp Cut            max_lp  reduced_costs  lb_tree_search  pseudo_costs\n",
      "     AllDiff_aa:      23             23              30            24\n",
      "     AllDiff_ae:       6              6               6             7\n",
      "     AllDiff_ea:       2              2               2             2\n",
      "     AllDiff_ee:      70             97              74            92\n",
      "          CG_FF:      99            109              91           130\n",
      "           CG_K:     143            140              92           147\n",
      "          CG_KL:       8             11               2             9\n",
      "           CG_R:      42             64              29            57\n",
      "          CG_RB:     197            288             232           283\n",
      "         CG_RBP:      69            151              36           121\n",
      "         Clique:     290            366             223           415\n",
      "             IB:     753          1'703           2'546         1'752\n",
      "       MIR_1_FF:   5'386          7'147           8'354         6'401\n",
      "        MIR_1_K:   3'669          1'720           2'125         1'467\n",
      "       MIR_1_KL:   1'931            546             554         1'676\n",
      "        MIR_1_R:     161            695             419           222\n",
      "       MIR_1_RB:  18'301         15'794          18'658        17'211\n",
      "      MIR_1_RBP:   1'869          3'291           2'245         3'077\n",
      "       MIR_2_FF:     869          1'942           1'521         2'187\n",
      "        MIR_2_K:     473          1'174             336           761\n",
      "       MIR_2_KL:     456          1'122             466         1'987\n",
      "        MIR_2_R:      82            213             169           200\n",
      "       MIR_2_RB:   1'785          3'206           3'476         4'917\n",
      "      MIR_2_RBP:     237            891             503           953\n",
      "       MIR_3_FF:     148            927             407           914\n",
      "        MIR_3_K:      71            753              81           394\n",
      "       MIR_3_KL:      72            483             116           803\n",
      "        MIR_3_R:      26            178              69           132\n",
      "       MIR_3_RB:     306          1'622           1'004         2'265\n",
      "      MIR_3_RBP:      65            410             217           562\n",
      "       MIR_4_FF:      24            415             140           341\n",
      "        MIR_4_K:      14            511              37           221\n",
      "       MIR_4_KL:       6            175              29           271\n",
      "        MIR_4_R:       8             78              33            65\n",
      "       MIR_4_RB:      77            795             386         1'164\n",
      "      MIR_4_RBP:      17            189              97           314\n",
      "       MIR_5_FF:       6            252              47           152\n",
      "        MIR_5_K:       4            224              19            83\n",
      "       MIR_5_KL:       -             44              11            66\n",
      "        MIR_5_R:       3             30              16            25\n",
      "       MIR_5_RB:      19            466             222           728\n",
      "      MIR_5_RBP:       2             79              50           225\n",
      "       MIR_6_FF:       2            136              14            60\n",
      "        MIR_6_K:       2            114              17            71\n",
      "       MIR_6_KL:       -             11               1            13\n",
      "        MIR_6_R:       7             23               7            18\n",
      "       MIR_6_RB:       7            258             101           469\n",
      "      MIR_6_RBP:       3             31              25           102\n",
      "   ZERO_HALF_FF:   2'443          2'725           3'405         2'715\n",
      "    ZERO_HALF_K:     726            629             926           519\n",
      "   ZERO_HALF_KL:      73             61              12            76\n",
      "    ZERO_HALF_R:  20'846         16'708          17'794        20'879\n",
      "   ZERO_HALF_RB:   4'157          4'861           4'762         4'706\n",
      "  ZERO_HALF_RBP:     603            530             819           344\n",
      "\n",
      "LNS stats           Improv/Calls  Closed  Difficulty  TimeLimit\n",
      "  'graph_arc_lns':         42/42     64%    9.88e-01       0.10\n",
      "  'graph_cst_lns':         39/42     57%    9.73e-01       0.10\n",
      "  'graph_dec_lns':         41/41     63%    9.85e-01       0.10\n",
      "  'graph_var_lns':         40/41     61%    9.82e-01       0.10\n",
      "      'rins/rens':         50/51     51%    8.18e-01       0.10\n",
      "    'rnd_cst_lns':         41/41     59%    9.74e-01       0.10\n",
      "    'rnd_var_lns':         43/45     60%    9.86e-01       0.10\n",
      "\n",
      "LS stats                                    Batches  Restarts/Perturbs  LinMoves  GenMoves  CompoundMoves  Bactracks  WeightUpdates  ScoreComputed\n",
      "                             'fj_restart':        1                  1     5'000         0              0          0             56         68'600\n",
      "        'fj_restart_compound_perturb_obj':        1                  1         0     1'698          1'591         52              0         70'260\n",
      "          'fj_restart_decay_compound_obj':        1                  1         0     1'929          1'671        109              0         71'435\n",
      "  'fj_restart_decay_compound_perturb_obj':        2                  2         0     3'997          3'524        233              0        142'867\n",
      "                   'fj_restart_decay_obj':        1                  1     5'714         0              0          0             34         68'662\n",
      "                         'ls_lin_restart':       35                 20   147'321         0              0          0          9'182      2'214'459\n",
      "                'ls_lin_restart_compound':       28                 16         0    52'361          4'303     23'993            218      1'627'799\n",
      "        'ls_lin_restart_compound_perturb':       42                 19         0    83'122          6'467     38'274            400      2'470'315\n",
      "                   'ls_lin_restart_decay':       23                 15    98'786         0              0          0          1'874      1'545'352\n",
      "          'ls_lin_restart_decay_compound':       23                 15         0    47'385          5'229     21'045            205      1'339'262\n",
      "  'ls_lin_restart_decay_compound_perturb':       33                 19         0    65'312          7'298     28'970            275      1'947'141\n",
      "           'ls_lin_restart_decay_perturb':       52                 18   234'087         0              0          0          3'272      3'505'123\n",
      "                 'ls_lin_restart_perturb':       32                 20   135'856         0              0          0          9'185      2'069'219\n",
      "                             'ls_restart':       46                 19   213'469         0              0          0         14'430      3'075'786\n",
      "                    'ls_restart_compound':       36                 18         0    70'753          6'117     32'292            286      2'137'765\n",
      "            'ls_restart_compound_perturb':       19                 15         0    42'378          3'680     19'317            277      1'095'105\n",
      "                       'ls_restart_decay':       42                 17   183'142         0              0          0          2'678      2'761'045\n",
      "              'ls_restart_decay_compound':       15                 13         0    33'102          3'854     14'593            182        829'500\n",
      "      'ls_restart_decay_compound_perturb':       43                 24         0    89'396         10'131     39'568            317      2'532'765\n",
      "               'ls_restart_decay_perturb':       26                 16   109'558         0              0          0          2'159      1'681'641\n",
      "                     'ls_restart_perturb':       41                 20   186'193         0              0          0         12'598      2'737'660\n",
      "\n",
      "Solutions (72)                  Num     Rank\n",
      "                 'default_lp':   20  [15,52]\n",
      "              'graph_arc_lns':    1  [71,71]\n",
      "              'graph_cst_lns':    1  [70,70]\n",
      "              'graph_dec_lns':    1  [64,64]\n",
      "              'graph_var_lns':    2  [68,72]\n",
      "             'ls_lin_restart':    1  [56,56]\n",
      "  'ls_restart_decay_compound':    1  [66,66]\n",
      "   'ls_restart_decay_perturb':    1  [32,32]\n",
      "                      'no_lp':   36   [2,62]\n",
      "              'quick_restart':    4  [18,69]\n",
      "        'quick_restart_no_lp':    3   [1,67]\n",
      "                'rnd_cst_lns':    1  [63,63]\n",
      "\n",
      "Objective bounds     Num\n",
      "  'initial_domain':    1\n",
      "   'reduced_costs':    6\n",
      "\n",
      "Solution repositories    Added  Queried  Synchro\n",
      "  'feasible solutions':    152      946       99\n",
      "   'fj solution hints':      0        0        0\n",
      "        'lp solutions':    530       28      427\n",
      "                'pump':    267       30\n",
      "\n",
      "Improving bounds shared      Num  Sym\n",
      "            'default_lp':  2'045    0\n",
      "        'lb_tree_search':      1    0\n",
      "                 'no_lp':  4'040    0\n",
      "         'quick_restart':    531    0\n",
      "   'quick_restart_no_lp':    617    0\n",
      "\n",
      "Clauses shared                Num\n",
      "           'default_lp':    4'030\n",
      "            'fs_random':       48\n",
      "       'lb_tree_search':      146\n",
      "               'max_lp':  102'410\n",
      "                'no_lp':    1'805\n",
      "         'pseudo_costs':    7'203\n",
      "        'quick_restart':   38'153\n",
      "  'quick_restart_no_lp':   37'623\n",
      "        'reduced_costs':    6'707\n",
      "\n",
      "CpSolverResponse summary:\n",
      "status: FEASIBLE\n",
      "objective: 23\n",
      "best_bound: 16\n",
      "integers: 101\n",
      "booleans: 3339\n",
      "conflicts: 0\n",
      "branches: 8537\n",
      "propagations: 349\n",
      "integer_propagations: 57960\n",
      "restarts: 6678\n",
      "lp_iterations: 0\n",
      "walltime: 60.0276\n",
      "usertime: 60.0276\n",
      "deterministic_time: 184.869\n",
      "gap_integral: 368.492\n",
      "solution_fingerprint: 0xc9a8de9cdadd9de6\n",
      "\n"
     ]
    }
   ],
   "source": [
    "instance_06 = util.parse(\"nucleotide_n010k010.txt\")\n",
    "solution_06 = solve(instance_06)"
   ]
  },
  {
   "cell_type": "code",
   "execution_count": null,
   "id": "ROlb",
   "metadata": {},
   "outputs": [
    {
     "name": "stdout",
     "output_type": "stream",
     "text": [
      "--- Condition (with 4 chars) ---\n",
      "str01: ATGGGATACG\n",
      "str02: ATACCTTCCC\n",
      "str03: CACGAATTGA\n",
      "str04: TAAAATCTGT\n",
      "str05: AGGTAACAAA\n",
      "str06: TTCCTAGGTA\n",
      "str07: TTGTAGATCT\n",
      "str08: TGGGAAGTTC\n",
      "str09: TTCCACAACT\n",
      "str10: TCTAAACGAA\n",
      "\n",
      "--- Solution (of length 24) ---\n",
      "  Sol: ATGGTGACCTACGAATCTCCGTAA\n",
      "str01: ATGG-GA--TACG-----------\n",
      "str02: AT----ACCT-----TC-CC----\n",
      "str03: -------C--ACGAAT-T--G-A-\n",
      "str04: -T----A---A--AATCT--GT--\n",
      "str05: A-GGT-A---AC-AA-------A-\n",
      "str06: -T--T--CCTA-G-------GTA-\n",
      "str07: -T--TG---TA-GA-TCT------\n",
      "str08: -TGG-GA---A-G--T-TC-----\n",
      "str09: -T--T--CC-AC-AA-CT------\n",
      "str10: -T-----C-TA--AA-C---G-AA\n",
      "\n",
      "solution is feasible: True\n"
     ]
    }
   ],
   "source": [
    "_instance = instance_06\n",
    "_solution = solution_06\n",
    "\n",
    "util.show(_instance)\n",
    "if _solution is not None:\n",
    "    util.show(_instance, _solution)\n",
    "    print(f\"solution is feasible: {util.is_feasible(_instance, _solution)}\")\n",
    "else:\n",
    "    print(\"--- Solution not found ---\")"
   ]
  },
  {
   "cell_type": "code",
   "execution_count": null,
   "id": "qnkX",
   "metadata": {},
   "outputs": [
    {
     "name": "stdout",
     "output_type": "stream",
     "text": [
      "\n",
      "Starting CP-SAT solver v9.14.6206\n",
      "Parameters: max_time_in_seconds: 60 log_search_progress: true\n",
      "Setting number of workers to 12\n"
     ]
    },
    {
     "name": "stdout",
     "output_type": "stream",
     "text": [
      "\n"
     ]
    },
    {
     "name": "stdout",
     "output_type": "stream",
     "text": [
      "Initial optimization model '': (model_fingerprint: 0xd6817d8ed3086802)\n",
      "#Variables: 2'501 (#ints: 1 in objective) (2'500 primary variables)\n",
      "  - 2'500 in [0,2499]\n",
      "  - 1 in [0,2500]\n",
      "#kLinMax: 1 (#expressions: 50)\n",
      "#kLinear2: 2'286'040 (#complex_domain: 2'283'590)\n",
      "\n",
      "Starting presolve at 0.45s\n"
     ]
    },
    {
     "name": "stdout",
     "output_type": "stream",
     "text": [
      "  5.83e+01s  0.00e+00d  [PresolveToFixPoint] #num_loops=27 #num_dual_strengthening=1 \n"
     ]
    },
    {
     "name": "stdout",
     "output_type": "stream",
     "text": [
      "\n",
      "Presolve summary:\n",
      "  - 0 affine relations were detected.\n",
      "  - rule 'TODO dual: only one unspecified blocking constraint?' was applied 1 time.\n",
      "  - rule 'lin_max: rewrite with precedences' was applied 1 time.\n",
      "  - rule 'lin_max: target domain reduced' was applied 1 time.\n",
      "  - rule 'linear: expanded complex rhs' was applied 2'283'590 times.\n",
      "  - rule 'linear: reduced variable domains' was applied 48'600 times.\n",
      "  - rule 'new_bool: complex linear expansion' was applied 2'283'590 times.\n",
      "  - rule 'presolve: 0 unused variables removed.' was applied 1 time.\n",
      "  - rule 'presolve: iteration' was applied 1 time.\n"
     ]
    },
    {
     "name": "stdout",
     "output_type": "stream",
     "text": [
      "\n"
     ]
    },
    {
     "name": "stdout",
     "output_type": "stream",
     "text": [
      "Presolved optimization model '': (model_fingerprint: 0xfc857e20d7384fd3)\n",
      "#Variables: 2'286'091 (#ints: 1 in objective) (2'286'090 primary variables)\n",
      "  - 2'283'590 Booleans in [0,1]\n",
      "  - 50 in [0,2472]\n",
      "  - 50 in [1,2472]\n",
      "  - 50 in [2,2472]\n",
      "  - 50 in [3,2472]\n",
      "  - 50 in [4,2472]\n",
      "  - 50 in [5,2472]\n",
      "  - 50 in [6,2472]\n",
      "  - 50 in [7,2472]\n",
      "  - 50 in [8,2472]\n",
      "  - 50 in [9,2472]\n",
      "  - 50 in [10,2472]\n",
      "  - 50 in [11,2472]\n",
      "  - 50 in [12,2472]\n",
      "  - 50 in [13,2472]\n",
      "  - 50 in [14,2472]\n",
      "  - 50 in [15,2472]\n",
      "  - 50 in [16,2472]\n",
      "  - 50 in [17,2472]\n",
      "  - 50 in [18,2472]\n",
      "  - 50 in [19,2472]\n",
      "  - 50 in [20,2472]\n",
      "  - 50 in [21,2472]\n",
      "  - 50 in [22,2472]\n",
      "  - 50 in [23,2473]\n",
      "  - 50 in [24,2474]\n",
      "  - 50 in [25,2475]\n",
      "  - 50 in [26,2476]\n",
      "  - 50 in [27,2477]\n",
      "  - 50 in [28,2478]\n",
      "  - 50 in [29,2479]\n",
      "  - 50 in [30,2480]\n",
      "  - 50 in [31,2481]\n",
      "  - 50 in [32,2482]\n",
      "  - 50 in [33,2483]\n",
      "  - 50 in [34,2484]\n",
      "  - 50 in [35,2485]\n",
      "  - 50 in [36,2486]\n",
      "  - 50 in [37,2487]\n",
      "  - 50 in [38,2488]\n",
      "  - 50 in [39,2489]\n",
      "  - 50 in [40,2490]\n",
      "  - 50 in [41,2491]\n",
      "  - 50 in [42,2492]\n",
      "  - 50 in [43,2493]\n",
      "  - 50 in [44,2494]\n",
      "  - 50 in [45,2495]\n",
      "  - 50 in [46,2496]\n",
      "  - 50 in [47,2497]\n",
      "  - 50 in [48,2498]\n",
      "  - 51 in [49,2499]\n",
      "#kLinear2: 4'569'680 (#enforced: 4'567'180)\n"
     ]
    },
    {
     "name": "stdout",
     "output_type": "stream",
     "text": [
      "Stopped after presolve.\n",
      "PresolvedNumVariables: 2286091\n",
      "PresolvedNumConstraints: 4569680\n",
      "PresolvedNumTerms: 13706540\n",
      "CpSolverResponse summary:\n",
      "status: UNKNOWN\n",
      "objective: 0\n",
      "best_bound: 0\n",
      "integers: 0\n",
      "booleans: 0\n",
      "conflicts: 0\n",
      "branches: 0\n",
      "propagations: 0\n",
      "integer_propagations: 0\n",
      "restarts: 0\n",
      "lp_iterations: 0\n",
      "walltime: 66.8381\n",
      "usertime: 66.8381\n",
      "deterministic_time: 0\n",
      "gap_integral: 0\n",
      "\n"
     ]
    }
   ],
   "source": [
    "instance_07 = util.parse(\"nucleotide_n050k050.txt\")\n",
    "solution_07 = solve(instance_07)"
   ]
  },
  {
   "cell_type": "code",
   "execution_count": null,
   "id": "TqIu",
   "metadata": {},
   "outputs": [
    {
     "name": "stdout",
     "output_type": "stream",
     "text": [
      "--- Condition (with 5 chars) ---\n",
      "str01: TAGTAGTAGACTCCGGAAGTGACAAACCCTGAAAAGAATGGATAAATATA\n",
      "str02: GGATAAACACTCCCGAAAATAATTTGACTTAAACAACGCGACAGTTCAAG\n",
      "str03: ATACCTTCCTAGGTAACAAACCAACCAACTTTTGATCTCTTGTAGATCTG\n",
      "str04: TAAATTATAATCTTATACTAGTAAAAAATAGGGTGTAACCGAAAACGGTC\n",
      "str05: TTAAAACAGCCTGTGGGTTGCACCCACTCACAGGGCCCACTGGGCGCAAG\n",
      "str06: ATGACTTCCAATGGATCCCAACCTCAAGCTTCCACCCCAATGGTTTCAGC\n",
      "str07: AACAAACCAACCAACTTTTGATCTCTTGTAGATCTGTTCTCTAAACGAAC\n",
      "str08: ATGAAAACGAAAATTATTATCAAGGGTATGGAAGTGGAAGCTGACGAAAT\n",
      "str09: ACTCGGCTGCATGCTTAGTGCACTCACGCAGTATAATTAATAACTAATTA\n",
      "str10: TTGTAGATCTGTTCTCTAAACGAACTTTAAAATCTGTGTGGCTGTCACTC\n",
      "str11: GCAGAGCATTTTCTAATATCCACAAAATGAAGGCAATAATTGTACTACTC\n",
      "str12: ATGAGCCAAGATCCGACGAAGAGCCCCAAGGAGGAGAAGGAGGGACCCCC\n",
      "str13: TCTCACAGTTCAAGAACCCAAAGTACCCCCCATAGCCCTCTTAAAGCCAC\n",
      "str14: AGGTTTATACCTTCCTAGGTAACAAACCAACCAACTTTCGATCTCTTGTA\n",
      "str15: AGGTTTATACCTTCCCAGGTAACAAACCAACCAACTTTCGATCTCTTGTA\n",
      "str16: TAAAACAACTCAATACAACATAAGAAAATCAACGCAAAAACACTCACAAA\n",
      "str17: CCGCCCATTTGGGCGGCTCTCGAGCGATAGCTCGTCGAATCCCTCGACCT\n",
      "str18: ATACCTTCCCAGGTAACAAACCAACCAACTTTCGATCTCTTGTAGATCTG\n",
      "str19: TCTCACAGTTCAAGAACCTCAAGTCTCCCCCATAGGCCTCTTTCAGTCAG\n",
      "str20: GATCTCTCTCACCGAACCTGGCCCCGGGCAAATGCCCTAATCCAGAGGTG\n",
      "str21: AGAGCAATCAGTGCATCAGAAATATACCTATTATACACTTTGCTAAGAAT\n",
      "str22: AATTAAAACATCTCAATACAACATAAGAAAAACAACGCAAAAACACTCAT\n",
      "str23: AAACGAACTTTAAAATCTGTGTGGCTGTCACTCGGCTGCATGCTTAGTGC\n",
      "str24: ATAACTAATTACTGTCGTTGACAGGACACGAGTAACTCGTCTATCTTCTG\n",
      "str25: ATGAGTGTCACGAATTCACGTACAATGAACTGGATGTTCACGTGGAATAA\n",
      "str26: ACCGTGGGCGAGCGGTGACCGGTGTCTTCCTAGTGGGTCCCACGTTGAAR\n",
      "str27: AAAGGTTTATACCTTCCCAGGTAACAAACCAACCAACTTTCGATCTCTTG\n",
      "str28: AGTAGTTCGCCTGTGTGAGCTGACAAACTTAGTAGTGTTTGTGAGGATTA\n",
      "str29: TTTATACCTTCCTAGGTAACAAACCAACCAACTTTCGATCTCTTGTAGAT\n",
      "str30: ATGCGGTCGTCTCTCCCCGGCTTTTTTTCCCCGCGCCGCGTTGGCGCCGA\n",
      "str31: GTGACAAAAACATAATGGACTCCAACACCATGTCAAGCTTTCAGGTAGAC\n",
      "str32: GTGTAAGAAACAGTAAGCCCGGAAGTGGTGTTTTGCGATTTCGAGGCCGG\n",
      "str33: GAGAATGAGTCTCATTACCGCCCGGTACTTAGCAAGCTAATAGTCACGGC\n",
      "str34: ATGTGGTCGATGCCATGGAGGCCCACCAGTTCATTAAGGCTCCTGGCATT\n",
      "str35: ACGAGCGTTTTAAGGGCCCGCGACTGCGACGGCCACATGGCCCTGTATGT\n",
      "str36: GGTTTATACCTTCCCAGGTAACAAACCAACCAACTTTCGATCTCTTGTAG\n",
      "str37: TGGGAAGTTCCAAAAGATCACAAAACACTACCAGTCAACCTGAAGTACAC\n",
      "str38: GAAGCGTTAACGTGTTGAGGAAAAGACAGCTTAGGAGAACAAGAGCTGGG\n",
      "str39: ACCAGCGCACTTCGGCAGCGGCAGCACCTCGGCAGCACCTCAGCAGCAAC\n",
      "str40: ATGGGACAACTTATTCCTATCATGTGCCAAGAGGTTTTACCCGGTGACCA\n",
      "str41: TTGTAGATCTGTTCTCTAAACGAACTTTAAAATCTGTGTGGTTGTCACTC\n",
      "str42: AACCAACCAACTTTCGATCTCTTGTAGATCTGTTCTCTAAACGAACTTTA\n",
      "str43: GGGTTCTGCCAGGCATAGTCTTTTTTTCTGGCGGCCCTTGTGTAAACCTG\n",
      "str44: GGCTGCATGCTTAGTGCACTCACGCAGTATAATTAATAACTAATTACTGT\n",
      "str45: TGCATGCTTAGTGCACTCACGCAGTATAATTAATAACTAATTACTGTCGT\n",
      "str46: TTCCACAACTTTCCACCAAGCTCTGCAAGATCCCAGAGTCAGGGGCCTGT\n",
      "str47: TCTAAACGAACTTTAAAATCTGTGTGGCTGTCACTCGGCTGCATGCTTAG\n",
      "str48: ACCGGATGGCCGCGATTTTTCGGAGTCCTTGGGGGACCACTCAGAATAGA\n",
      "str49: CTTGTAGATCTGTTCTCTAAACGAACTTTAAAATCTGTGTGGCTGTCACT\n",
      "str50: ATGAGCACTAAGCGAAGAACCAAAAAGCAGACAATACAACCCGCTATTAC\n",
      "\n",
      "--- Solution not found ---\n"
     ]
    }
   ],
   "source": [
    "_instance = instance_07\n",
    "_solution = solution_07\n",
    "\n",
    "util.show(_instance)\n",
    "if _solution is not None:\n",
    "    util.show(_instance, _solution)\n",
    "    print(f\"solution is feasible: {util.is_feasible(_instance, _solution)}\")\n",
    "else:\n",
    "    print(\"--- Solution not found ---\")"
   ]
  },
  {
   "cell_type": "code",
   "execution_count": null,
   "id": "Vxnm",
   "metadata": {},
   "outputs": [
    {
     "name": "stdout",
     "output_type": "stream",
     "text": [
      "\n",
      "Starting CP-SAT solver v9.14.6206\n",
      "Parameters: max_time_in_seconds: 60 log_search_progress: true\n",
      "Setting number of workers to 12\n",
      "\n",
      "Initial optimization model '': (model_fingerprint: 0x5928eb50e609d76f)\n",
      "#Variables: 101 (#ints: 1 in objective) (100 primary variables)\n",
      "  - 100 in [0,99]\n",
      "  - 1 in [0,100]\n",
      "#kLinMax: 1 (#expressions: 10)\n",
      "#kLinear2: 4'341 (#complex_domain: 4'251)\n",
      "\n",
      "Starting presolve at 0.00s\n"
     ]
    },
    {
     "name": "stdout",
     "output_type": "stream",
     "text": [
      "  2.66e-04s  0.00e+00d  [DetectDominanceRelations] \n",
      "  2.97e-02s  0.00e+00d  [PresolveToFixPoint] #num_loops=10 #num_dual_strengthening=1 \n",
      "  1.63e-05s  0.00e+00d  [ExtractEncodingFromLinear] \n",
      "  2.76e-04s  0.00e+00d  [DetectDuplicateColumns] \n",
      "  7.12e-05s  0.00e+00d  [DetectDuplicateConstraints] \n",
      "[Symmetry] Graph for symmetry has 4'552 nodes and 8'802 arcs.\n",
      "[Symmetry] Symmetry computation done. time: 0.000545856 dtime: 0.00106314\n"
     ]
    },
    {
     "name": "stdout",
     "output_type": "stream",
     "text": [
      "  9.68e-05s  0.00e+00d  [DetectDuplicateConstraintsWithDifferentEnforcements] \n",
      "  2.11e-01s  6.15e-02d  [Probe] #probed=17'004 #new_bounds=1 \n",
      "  1.19e-05s  0.00e+00d  [MaxClique] \n",
      "  2.68e-04s  0.00e+00d  [DetectDominanceRelations] \n",
      "  4.39e-03s  0.00e+00d  [PresolveToFixPoint] #num_loops=2 #num_dual_strengthening=1 \n",
      "  4.83e-04s  0.00e+00d  [ProcessAtMostOneAndLinear] \n",
      "  7.75e-05s  0.00e+00d  [DetectDuplicateConstraints] \n",
      "  7.73e-05s  0.00e+00d  [DetectDuplicateConstraintsWithDifferentEnforcements] \n",
      "  6.08e-04s  3.46e-05d  [DetectDominatedLinearConstraints] #relevant_constraints=4'351 \n",
      "  1.36e-03s  0.00e+00d  [DetectDifferentVariables] #different=4'341 #cliques=69 #size=1'102 \n",
      "  1.44e-05s  0.00e+00d  [ProcessSetPPC] \n",
      "  1.43e-05s  0.00e+00d  [FindAlmostIdenticalLinearConstraints] \n",
      "  3.05e-06s  0.00e+00d  [FindBigAtMostOneAndLinearOverlap] \n",
      "  5.15e-04s  2.23e-04d  [FindBigVerticalLinearOverlap] \n",
      "  1.01e-05s  0.00e+00d  [FindBigHorizontalLinearOverlap] \n",
      "  7.65e-06s  0.00e+00d  [MergeClauses] \n"
     ]
    },
    {
     "name": "stdout",
     "output_type": "stream",
     "text": [
      "  2.84e-04s  0.00e+00d  [DetectDominanceRelations] \n",
      "  4.48e-03s  0.00e+00d  [PresolveToFixPoint] #num_loops=1 #num_dual_strengthening=1 \n",
      "  2.79e-04s  0.00e+00d  [DetectDominanceRelations] \n",
      "  4.45e-03s  0.00e+00d  [PresolveToFixPoint] #num_loops=1 #num_dual_strengthening=1 \n",
      "  9.34e-05s  0.00e+00d  [DetectDuplicateColumns] \n",
      "  1.33e-04s  0.00e+00d  [DetectDuplicateConstraints] \n",
      "[Symmetry] Graph for symmetry has 4'721 nodes and 10'004 arcs.\n",
      "[Symmetry] Symmetry computation done. time: 0.000437631 dtime: 0.00113292\n"
     ]
    },
    {
     "name": "stdout",
     "output_type": "stream",
     "text": [
      "  1.62e-04s  0.00e+00d  [DetectDuplicateConstraintsWithDifferentEnforcements] \n",
      "  5.08e-01s  6.78e-02d  [Probe] #probed=17'004 \n",
      "  1.03e-05s  0.00e+00d  [MaxClique] \n",
      "  2.83e-04s  0.00e+00d  [DetectDominanceRelations] \n",
      "  4.54e-03s  0.00e+00d  [PresolveToFixPoint] #num_loops=1 #num_dual_strengthening=1 \n",
      "  4.87e-04s  0.00e+00d  [ProcessAtMostOneAndLinear] \n",
      "  1.33e-04s  0.00e+00d  [DetectDuplicateConstraints] \n",
      "  1.34e-04s  0.00e+00d  [DetectDuplicateConstraintsWithDifferentEnforcements] \n",
      "  6.15e-04s  3.46e-05d  [DetectDominatedLinearConstraints] #relevant_constraints=4'351 \n",
      "  5.28e-04s  0.00e+00d  [DetectDifferentVariables] \n",
      "  1.40e-05s  0.00e+00d  [ProcessSetPPC] \n",
      "  1.54e-05s  0.00e+00d  [FindAlmostIdenticalLinearConstraints] \n",
      "  3.10e-06s  0.00e+00d  [FindBigAtMostOneAndLinearOverlap] \n",
      "  5.15e-04s  2.23e-04d  [FindBigVerticalLinearOverlap] \n",
      "  1.03e-05s  0.00e+00d  [FindBigHorizontalLinearOverlap] \n",
      "  7.88e-06s  0.00e+00d  [MergeClauses] \n"
     ]
    },
    {
     "name": "stdout",
     "output_type": "stream",
     "text": [
      "  2.82e-04s  0.00e+00d  [DetectDominanceRelations] \n",
      "  4.45e-03s  0.00e+00d  [PresolveToFixPoint] #num_loops=1 #num_dual_strengthening=1 \n",
      "  2.07e-05s  0.00e+00d  [ExpandObjective] \n",
      "\n",
      "Presolve summary:\n",
      "  - 0 affine relations were detected.\n",
      "  - rule 'TODO dual: only one unspecified blocking constraint?' was applied 6 times.\n",
      "  - rule 'all_diff: inferred from x != y constraints' was applied 69 times.\n",
      "  - rule 'lin_max: rewrite with precedences' was applied 1 time.\n",
      "  - rule 'lin_max: target domain reduced' was applied 1 time.\n",
      "  - rule 'linear: expanded complex rhs' was applied 4'251 times.\n",
      "  - rule 'linear: reduced variable domains' was applied 450 times.\n",
      "  - rule 'new_bool: complex linear expansion' was applied 4'251 times.\n",
      "  - rule 'presolve: 0 unused variables removed.' was applied 1 time.\n",
      "  - rule 'presolve: iteration' was applied 2 times.\n",
      "\n",
      "Presolved optimization model '': (model_fingerprint: 0xfb904c13c653b9cf)\n",
      "#Variables: 4'352 (#ints: 1 in objective) (4'351 primary variables)\n",
      "  - 4'251 Booleans in [0,1]\n",
      "  - 10 in [0,90]\n",
      "  - 10 in [1,91]\n",
      "  - 10 in [2,92]\n",
      "  - 10 in [3,93]\n",
      "  - 10 in [4,94]\n",
      "  - 10 in [5,95]\n",
      "  - 10 in [6,96]\n",
      "  - 10 in [7,97]\n",
      "  - 10 in [8,98]\n",
      "  - 10 in [9,99]\n",
      "  - 1 in [10,99]\n",
      "#kAllDiff: 69\n",
      "#kLinear2: 8'602 (#enforced: 8'502)\n",
      "[Symmetry] Graph for symmetry has 17'474 nodes and 31'259 arcs.\n",
      "[Symmetry] Symmetry computation done. time: 0.00233506 dtime: 0.00512936\n",
      "\n",
      "Preloading model.\n",
      "#Bound   0.79s best:inf   next:[10,99]    initial_domain\n"
     ]
    },
    {
     "name": "stdout",
     "output_type": "stream",
     "text": [
      "#Model   0.80s var:4352/4352 constraints:8671/8671\n",
      "\n",
      "Starting search at 0.80s with 12 workers.\n",
      "8 full problem subsolvers: [default_lp, lb_tree_search, max_lp, no_lp, pseudo_costs, quick_restart, quick_restart_no_lp, reduced_costs]\n",
      "4 first solution subsolvers: [fj(2), fs_random, fs_random_no_lp]\n",
      "10 interleaved subsolvers: [feasibility_pump, graph_arc_lns, graph_cst_lns, graph_dec_lns, graph_var_lns, ls, ls_lin, rins/rens, rnd_cst_lns, rnd_var_lns]\n",
      "3 helper subsolvers: [neighborhood_helper, synchronization_agent, update_gap_integral]\n",
      "\n"
     ]
    },
    {
     "name": "stdout",
     "output_type": "stream",
     "text": [
      "#1       1.28s best:99    next:[10,98]    quick_restart_no_lp\n"
     ]
    },
    {
     "name": "stdout",
     "output_type": "stream",
     "text": [
      "#2       1.58s best:98    next:[10,97]    ls_restart_decay(batch:1 lin{mvs:124 evals:486} #w_updates:102 #perturb:0)\n",
      "#3       1.58s best:97    next:[10,96]    ls_lin_restart_perturb(batch:1 lin{mvs:60 evals:261} #w_updates:57 #perturb:0)\n"
     ]
    },
    {
     "name": "stdout",
     "output_type": "stream",
     "text": [
      "#4       1.61s best:96    next:[10,95]    ls_lin_restart_perturb(batch:1 lin{mvs:80 evals:373} #w_updates:45 #perturb:0)\n"
     ]
    },
    {
     "name": "stdout",
     "output_type": "stream",
     "text": [
      "#5       1.63s best:90    next:[10,89]    graph_var_lns (d=5.00e-01 s=35 t=0.10 p=0.00 stall=0 h=base)\n"
     ]
    },
    {
     "name": "stdout",
     "output_type": "stream",
     "text": [
      "#6       1.70s best:89    next:[10,88]    ls_restart_perturb(batch:1 lin{mvs:532 evals:2'859} #w_updates:272 #perturb:0)\n"
     ]
    },
    {
     "name": "stdout",
     "output_type": "stream",
     "text": [
      "#Bound   1.72s best:89    next:[11,88]    max_lp\n"
     ]
    },
    {
     "name": "stdout",
     "output_type": "stream",
     "text": [
      "#Bound   1.78s best:89    next:[14,88]    reduced_costs\n"
     ]
    },
    {
     "name": "stdout",
     "output_type": "stream",
     "text": [
      "#Bound   1.81s best:89    next:[15,88]    pseudo_costs\n"
     ]
    },
    {
     "name": "stdout",
     "output_type": "stream",
     "text": [
      "#Bound   1.95s best:89    next:[16,88]    reduced_costs\n"
     ]
    },
    {
     "name": "stdout",
     "output_type": "stream",
     "text": [
      "#7       1.97s best:88    next:[16,87]    graph_cst_lns (d=7.07e-01 s=46 t=0.10 p=1.00 stall=0 h=base)\n"
     ]
    },
    {
     "name": "stdout",
     "output_type": "stream",
     "text": [
      "#8       2.04s best:87    next:[16,86]    ls_lin_restart_decay_perturb(batch:1 lin{mvs:151 evals:620} #w_updates:69 #perturb:0)\n"
     ]
    },
    {
     "name": "stdout",
     "output_type": "stream",
     "text": [
      "#9       2.31s best:84    next:[16,83]    graph_dec_lns (d=8.14e-01 s=58 t=0.10 p=1.00 stall=1 h=base)\n"
     ]
    },
    {
     "name": "stdout",
     "output_type": "stream",
     "text": [
      "#10      2.45s best:82    next:[16,81]    rnd_var_lns (d=9.39e-01 s=60 t=0.10 p=1.00 stall=0 h=base)\n"
     ]
    },
    {
     "name": "stdout",
     "output_type": "stream",
     "text": [
      "#11      2.53s best:81    next:[16,80]    ls_lin_restart_decay(batch:1 lin{mvs:40 evals:176} #w_updates:19 #perturb:0)\n"
     ]
    },
    {
     "name": "stdout",
     "output_type": "stream",
     "text": [
      "#Bound   2.66s best:81    next:[17,80]    reduced_costs\n"
     ]
    },
    {
     "name": "stdout",
     "output_type": "stream",
     "text": [
      "#Bound   2.99s best:81    next:[18,80]    reduced_costs\n"
     ]
    },
    {
     "name": "stdout",
     "output_type": "stream",
     "text": [
      "#Bound   3.17s best:81    next:[19,80]    reduced_costs\n"
     ]
    },
    {
     "name": "stdout",
     "output_type": "stream",
     "text": [
      "#Bound   3.33s best:81    next:[20,80]    reduced_costs\n"
     ]
    },
    {
     "name": "stdout",
     "output_type": "stream",
     "text": [
      "#12      3.45s best:79    next:[20,78]    graph_arc_lns (d=8.14e-01 s=63 t=0.10 p=1.00 stall=0 h=base)\n",
      "#13      3.46s best:78    next:[20,77]    ls_restart(batch:1 lin{mvs:295 evals:1'525} #w_updates:150 #perturb:0)\n"
     ]
    },
    {
     "name": "stdout",
     "output_type": "stream",
     "text": [
      "#14      3.60s best:77    next:[20,76]    default_lp\n"
     ]
    },
    {
     "name": "stdout",
     "output_type": "stream",
     "text": [
      "#Bound   3.68s best:77    next:[21,76]    reduced_costs\n"
     ]
    },
    {
     "name": "stdout",
     "output_type": "stream",
     "text": [
      "#15      3.72s best:76    next:[21,75]    ls_lin_restart(batch:1 lin{mvs:62 evals:327} #w_updates:34 #perturb:0)\n"
     ]
    },
    {
     "name": "stdout",
     "output_type": "stream",
     "text": [
      "#16      3.76s best:75    next:[21,74]    ls_lin_restart_decay(batch:1 lin{mvs:130 evals:557} #w_updates:54 #perturb:0)\n"
     ]
    },
    {
     "name": "stdout",
     "output_type": "stream",
     "text": [
      "#17      3.78s best:74    next:[21,73]    default_lp\n"
     ]
    },
    {
     "name": "stdout",
     "output_type": "stream",
     "text": [
      "#18      3.84s best:73    next:[21,72]    default_lp\n"
     ]
    },
    {
     "name": "stdout",
     "output_type": "stream",
     "text": [
      "#19      3.95s best:72    next:[21,71]    rnd_var_lns (d=9.40e-01 s=86 t=0.10 p=0.86 stall=0 h=base)\n"
     ]
    },
    {
     "name": "stdout",
     "output_type": "stream",
     "text": [
      "#Bound   4.02s best:72    next:[22,71]    reduced_costs\n"
     ]
    },
    {
     "name": "stdout",
     "output_type": "stream",
     "text": [
      "#Bound   4.34s best:72    next:[23,71]    reduced_costs\n"
     ]
    },
    {
     "name": "stdout",
     "output_type": "stream",
     "text": [
      "#20      4.57s best:71    next:[23,70]    rnd_cst_lns (d=6.92e-01 s=95 t=0.10 p=0.67 stall=0 h=base)\n"
     ]
    },
    {
     "name": "stdout",
     "output_type": "stream",
     "text": [
      "#21      4.64s best:70    next:[23,69]    default_lp\n"
     ]
    },
    {
     "name": "stdout",
     "output_type": "stream",
     "text": [
      "#22      4.68s best:69    next:[23,68]    default_lp\n"
     ]
    },
    {
     "name": "stdout",
     "output_type": "stream",
     "text": [
      "#23      4.97s best:68    next:[23,67]    ls_restart_perturb(batch:1 lin{mvs:101 evals:503} #w_updates:70 #perturb:0)\n"
     ]
    },
    {
     "name": "stdout",
     "output_type": "stream",
     "text": [
      "#24      5.31s best:67    next:[23,66]    ls_lin_restart_decay_perturb(batch:1 lin{mvs:206 evals:916} #w_updates:69 #perturb:0)\n"
     ]
    },
    {
     "name": "stdout",
     "output_type": "stream",
     "text": [
      "#25      5.61s best:66    next:[23,65]    ls_restart_perturb(batch:1 lin{mvs:1'088 evals:7'054} #w_updates:290 #perturb:0)\n"
     ]
    },
    {
     "name": "stdout",
     "output_type": "stream",
     "text": [
      "#Bound   5.85s best:66    next:[24,65]    reduced_costs\n"
     ]
    },
    {
     "name": "stdout",
     "output_type": "stream",
     "text": [
      "#26      6.66s best:65    next:[24,64]    graph_var_lns (d=3.59e-01 s=133 t=0.10 p=0.33 stall=0 h=base)\n"
     ]
    },
    {
     "name": "stdout",
     "output_type": "stream",
     "text": [
      "#27      7.57s best:64    next:[24,63]    ls_restart_perturb(batch:1 lin{mvs:2'555 evals:19'294} #w_updates:533 #perturb:0)\n"
     ]
    },
    {
     "name": "stdout",
     "output_type": "stream",
     "text": [
      "#28      8.26s best:63    next:[24,62]    graph_cst_lns (d=7.29e-01 s=152 t=0.10 p=0.60 stall=1 h=base)\n"
     ]
    },
    {
     "name": "stdout",
     "output_type": "stream",
     "text": [
      "#29      8.60s best:62    next:[24,61]    default_lp\n"
     ]
    },
    {
     "name": "stdout",
     "output_type": "stream",
     "text": [
      "#30      8.67s best:61    next:[24,60]    default_lp\n"
     ]
    },
    {
     "name": "stdout",
     "output_type": "stream",
     "text": [
      "#31      8.75s best:60    next:[24,59]    ls_restart(batch:1 lin{mvs:99 evals:471} #w_updates:79 #perturb:0)\n"
     ]
    },
    {
     "name": "stdout",
     "output_type": "stream",
     "text": [
      "#32      9.75s best:59    next:[24,58]    ls_lin_restart_perturb(batch:1 lin{mvs:988 evals:6'615} #w_updates:268 #perturb:0)\n"
     ]
    },
    {
     "name": "stdout",
     "output_type": "stream",
     "text": [
      "#33      9.81s best:56    next:[24,55]    graph_var_lns (d=5.08e-01 s=180 t=0.10 p=0.50 stall=0 h=base)\n"
     ]
    },
    {
     "name": "stdout",
     "output_type": "stream",
     "text": [
      "#34     13.71s best:55    next:[24,54]    graph_var_lns (d=6.20e-01 s=244 t=0.10 p=0.56 stall=0 h=base)\n"
     ]
    },
    {
     "name": "stdout",
     "output_type": "stream",
     "text": [
      "#35     16.10s best:53    next:[24,52]    graph_var_lns (d=6.17e-01 s=301 t=0.10 p=0.55 stall=0 h=base)\n"
     ]
    },
    {
     "name": "stdout",
     "output_type": "stream",
     "text": [
      "#36     21.68s best:52    next:[24,51]    graph_var_lns (d=5.21e-01 s=389 t=0.10 p=0.50 stall=0 h=base)\n"
     ]
    },
    {
     "name": "stdout",
     "output_type": "stream",
     "text": [
      "#37     22.61s best:51    next:[24,50]    graph_var_lns (d=6.92e-01 s=406 t=0.10 p=0.56 stall=0 h=base)\n"
     ]
    },
    {
     "name": "stdout",
     "output_type": "stream",
     "text": [
      "#38     24.88s best:49    next:[24,48]    rins_pump_lns (d=3.64e-01 s=471 t=0.10 p=0.40 stall=0 h=base)\n"
     ]
    },
    {
     "name": "stdout",
     "output_type": "stream",
     "text": [
      "\n",
      "Task timing                      n [     min,      max]      avg      dev     time         n [     min,      max]      avg      dev    dtime\n",
      "           'default_lp':         1 [  59.20s,   59.20s]   59.20s   0.00ns   59.20s         1 [   8.06s,    8.06s]    8.06s   0.00ns    8.06s\n",
      "     'feasibility_pump':       253 [ 42.06us,  20.12ms] 157.15us   1.26ms  39.76ms       252 [ 13.78us,  73.96us]  14.01us   3.78us   3.53ms\n",
      "                   'fj':         6 [ 64.33ms, 110.30ms]  79.87ms  17.08ms 479.20ms         6 [100.13ms, 100.43ms] 100.27ms  89.81us 601.64ms\n",
      "                   'fj':         6 [ 65.93ms, 101.29ms]  78.30ms  13.01ms 469.78ms         6 [100.24ms, 100.42ms] 100.30ms  64.65us 601.82ms\n",
      "            'fs_random':         1 [482.81ms, 482.81ms] 482.81ms   0.00ns 482.81ms         1 [  2.16ms,   2.16ms]   2.16ms   0.00ns   2.16ms\n",
      "      'fs_random_no_lp':         1 [482.47ms, 482.47ms] 482.47ms   0.00ns 482.47ms         1 [  3.12ms,   3.12ms]   3.12ms   0.00ns   3.12ms\n",
      "        'graph_arc_lns':        47 [159.36ms, 992.91ms] 601.78ms 334.32ms   28.28s        47 [332.96us, 100.20ms]  52.98ms  46.03ms    2.49s\n",
      "        'graph_cst_lns':        38 [182.49ms,    1.08s] 686.12ms 320.65ms   26.07s        38 [243.65us, 100.21ms]  62.70ms  43.05ms    2.38s\n",
      "        'graph_dec_lns':        48 [  9.41ms,    1.05s] 584.21ms 396.04ms   28.04s        42 [ 41.58us, 100.29ms]  62.46ms  45.54ms    2.62s\n",
      "        'graph_var_lns':        46 [128.63ms,    1.06s] 590.82ms 340.18ms   27.18s        46 [157.58us, 100.25ms]  54.94ms  44.87ms    2.53s\n",
      "       'lb_tree_search':         1 [  59.21s,   59.21s]   59.21s   0.00ns   59.21s         1 [  33.59s,   33.59s]   33.59s   0.00ns   33.59s\n",
      "                   'ls':       253 [  3.19ms, 159.28ms]  84.65ms  19.21ms   21.42s       253 [  2.30ms, 102.27ms]  97.96ms  13.90ms   24.78s\n",
      "               'ls_lin':       253 [  2.01ms, 133.63ms]  88.94ms  20.59ms   22.50s       253 [  1.08ms, 102.88ms]  97.10ms  17.14ms   24.57s\n",
      "               'max_lp':         1 [  59.20s,   59.20s]   59.20s   0.00ns   59.20s         1 [  19.65s,   19.65s]   19.65s   0.00ns   19.65s\n",
      "                'no_lp':         1 [  59.21s,   59.21s]   59.21s   0.00ns   59.21s         1 [   7.82s,    7.82s]    7.82s   0.00ns    7.82s\n",
      "         'pseudo_costs':         1 [  59.21s,   59.21s]   59.21s   0.00ns   59.21s         1 [  15.21s,   15.21s]   15.21s   0.00ns   15.21s\n",
      "        'quick_restart':         1 [  59.21s,   59.21s]   59.21s   0.00ns   59.21s         1 [   6.11s,    6.11s]    6.11s   0.00ns    6.11s\n",
      "  'quick_restart_no_lp':         1 [  59.20s,   59.20s]   59.20s   0.00ns   59.20s         1 [   6.59s,    6.59s]    6.59s   0.00ns    6.59s\n",
      "        'reduced_costs':         1 [  59.21s,   59.21s]   59.21s   0.00ns   59.21s         1 [  10.50s,   10.50s]   10.50s   0.00ns   10.50s\n",
      "            'rins/rens':        98 [186.98us, 938.02ms] 260.10ms 317.67ms   25.49s        50 [ 11.42us, 100.17ms]  82.12ms  36.42ms    4.11s\n",
      "          'rnd_cst_lns':        41 [210.69ms,    1.03s] 694.52ms 302.24ms   28.48s        41 [142.63us, 100.12ms]  63.77ms  42.21ms    2.61s\n",
      "          'rnd_var_lns':        60 [  6.29ms,    1.02s] 454.33ms 407.93ms   27.26s        44 [ 10.00ns, 100.20ms]  65.50ms  46.07ms    2.88s\n",
      "\n",
      "Search stats              Bools  Conflicts   Branches  Restarts  BoolPropag  IntegerPropag\n",
      "           'default_lp':  4'255     66'763    349'241   100'504  16'594'260     11'598'059\n",
      "            'fs_random':  4'251         50      9'212     8'721         151         73'368\n",
      "      'fs_random_no_lp':  4'251          0     10'965     8'502       1'372         74'685\n",
      "       'lb_tree_search':  4'251         79    142'784    65'051     231'644      1'362'397\n",
      "               'max_lp':  4'251     22'643     92'329    31'787   5'003'402      8'925'398\n",
      "                'no_lp':  4'252     58'355    362'283   107'101  16'545'888     12'113'421\n",
      "         'pseudo_costs':  4'251     31'185    100'790    28'082   4'989'621      9'031'230\n",
      "        'quick_restart':  4'251     22'986    965'075    74'780  12'425'394      8'783'353\n",
      "  'quick_restart_no_lp':  4'251     24'519  1'081'791    83'936  13'197'801      9'501'163\n",
      "        'reduced_costs':  4'261      9'660    361'826   148'488   6'630'184     11'695'246\n",
      "\n",
      "SAT stats                 ClassicMinim  LitRemoved  LitLearned  LitForgotten  Subsumed  MClauses  MDecisions  MLitTrue  MSubsumed  MLitRemoved  MReused\n",
      "           'default_lp':        20'220      28'724   1'389'063     1'022'613     2'489       212         414         0          1            4       30\n",
      "            'fs_random':             0           0         100             0         0         0           0         0          0            0        0\n",
      "      'fs_random_no_lp':             0           0           0             0         0         0           0         0          0            0        0\n",
      "       'lb_tree_search':             0           0         197             0         0        90         186         0          4           16        4\n",
      "               'max_lp':         5'897       7'366     392'436       197'550       940        80         127         0          1            4       33\n",
      "                'no_lp':        18'409      26'913     935'476       644'987     1'728         0           0         0          0            0        0\n",
      "         'pseudo_costs':         8'865      12'692     598'530       414'866       920        82         145         0          2            9       20\n",
      "        'quick_restart':         5'889       7'374     218'366        43'810       397    15'891      38'278         0        827        3'904    2'484\n",
      "  'quick_restart_no_lp':         6'366       8'485     227'580        43'472       429    22'531      50'522         0        960        4'274    4'176\n",
      "        'reduced_costs':         4'911       9'399     101'756             0       436     3'448      12'901         0        172        1'073      611\n",
      "\n",
      "Lp stats             Component  Iterations  AddedCuts  OPTIMAL  DUAL_F.  DUAL_U.\n",
      "      'default_lp':          1           0          0   83'533        0        0\n",
      "       'fs_random':          1           0          0       55        0        0\n",
      "  'lb_tree_search':          1     193'452     71'943      188   15'537        0\n",
      "          'max_lp':          1     395'398     29'539      686   37'870        0\n",
      "    'pseudo_costs':          1     501'869     13'805    4'635   47'339        0\n",
      "   'quick_restart':          1           0          0  190'347        0        0\n",
      "   'reduced_costs':          1     164'993     40'693       76   14'500        0\n",
      "\n",
      "Lp dimension             Final dimension of first component\n",
      "      'default_lp':          0 rows, 101 columns, 0 entries\n",
      "       'fs_random':          0 rows, 101 columns, 0 entries\n",
      "  'lb_tree_search':  6246 rows, 4352 columns, 22589 entries\n",
      "          'max_lp':   1809 rows, 4352 columns, 5423 entries\n",
      "    'pseudo_costs':   2019 rows, 4352 columns, 5949 entries\n",
      "   'quick_restart':          0 rows, 101 columns, 0 entries\n",
      "   'reduced_costs':  3034 rows, 4352 columns, 10487 entries\n",
      "\n",
      "Lp debug             CutPropag  CutEqPropag  Adjust  Overflow     Bad  BadScaling\n",
      "      'default_lp':          0            0       0         0       0           0\n",
      "       'fs_random':          0            0       0         0       0           0\n",
      "  'lb_tree_search':          0           52       0         0  57'625           0\n",
      "          'max_lp':          0           19       0         0   6'444           0\n",
      "    'pseudo_costs':          0            0       0         0   2'571           0\n",
      "   'quick_restart':          0            0       0         0       0           0\n",
      "   'reduced_costs':          0            0       0         0  19'386           0\n",
      "\n",
      "Lp pool              Constraints  Updates  Simplif  Merged  Shortened  Split  Strenghtened       Cuts/Call\n",
      "      'default_lp':          100        0        0       0          0      0             0             0/0\n",
      "       'fs_random':          100        0        0       0          0      0             0             0/0\n",
      "  'lb_tree_search':       14'269   22'954  111'531   4'276          0  2'313       125'741  71'943/163'446\n",
      "          'max_lp':       15'849    4'720   33'382   2'292          0    233        41'542   29'539/65'171\n",
      "    'pseudo_costs':       17'704    3'155   33'645     703          0      0        35'239   13'805/31'412\n",
      "   'quick_restart':          100        0        0       0          0      0             0             0/0\n",
      "   'reduced_costs':       17'202   19'401  148'171   1'093          0      3       149'525   40'693/93'744\n",
      "\n",
      "Lp Cut            max_lp  reduced_costs  pseudo_costs  lb_tree_search\n",
      "     AllDiff_aa:      13             54            60              13\n",
      "     AllDiff_ae:      71             61            94              92\n",
      "     AllDiff_ea:       1              2             2               -\n",
      "     AllDiff_ee:     359            298           289             451\n",
      "          CG_FF:      27             28            16              82\n",
      "           CG_K:      32            164            17             147\n",
      "           CG_R:       4             29            10              50\n",
      "          CG_RB:      35            167            65             184\n",
      "         CG_RBP:       2              1             4              16\n",
      "         Clique:       8            173            20             196\n",
      "             IB:     670            547         1'266           1'549\n",
      "       MIR_1_FF:   5'614          2'121         1'670           7'170\n",
      "        MIR_1_K:   1'046            486           288           1'227\n",
      "        MIR_1_R:      42             68             -              69\n",
      "       MIR_1_RB:   6'247         11'982         3'643          14'643\n",
      "      MIR_1_RBP:   1'384            550           396           2'526\n",
      "       MIR_2_FF:     553            312           258           1'657\n",
      "        MIR_2_K:      85             55            60              98\n",
      "        MIR_2_R:      45             79             8             156\n",
      "       MIR_2_RB:     516          2'271           384           1'932\n",
      "      MIR_2_RBP:      73             30            42             179\n",
      "       MIR_3_FF:      59            100            63             416\n",
      "        MIR_3_K:      11             14             9              34\n",
      "        MIR_3_R:      10            120             5              62\n",
      "       MIR_3_RB:     126          1'376           122             451\n",
      "      MIR_3_RBP:       7              2             1              30\n",
      "       MIR_4_FF:      14             59            16             107\n",
      "        MIR_4_K:       3              6             1               8\n",
      "        MIR_4_R:       -            110             2              23\n",
      "       MIR_4_RB:      80            770            45             179\n",
      "      MIR_4_RBP:       -              -             1               8\n",
      "       MIR_5_FF:      11             54            14              35\n",
      "        MIR_5_K:       -              4             -               4\n",
      "        MIR_5_R:       2            119             -               9\n",
      "       MIR_5_RB:      54            472            21              79\n",
      "      MIR_5_RBP:       1              -             -               4\n",
      "       MIR_6_FF:       5             30             4              16\n",
      "        MIR_6_K:       -              -             -               7\n",
      "        MIR_6_R:       2             65             1              10\n",
      "       MIR_6_RB:      29            231            10              46\n",
      "      MIR_6_RBP:       1              -             -               2\n",
      "   ZERO_HALF_FF:   3'358            878           720           3'901\n",
      "    ZERO_HALF_K:     686            127           128             661\n",
      "    ZERO_HALF_R:   4'141         12'607         1'931          27'125\n",
      "   ZERO_HALF_RB:   3'000          3'791         1'901           4'661\n",
      "  ZERO_HALF_RBP:   1'112            280           218           1'628\n",
      "\n",
      "LNS stats           Improv/Calls  Closed  Difficulty  TimeLimit\n",
      "  'graph_arc_lns':         46/47     49%    6.24e-01       0.10\n",
      "  'graph_cst_lns':         36/38     50%    7.05e-01       0.10\n",
      "  'graph_dec_lns':         45/48     50%    7.19e-01       0.10\n",
      "  'graph_var_lns':         46/46     52%    6.72e-01       0.10\n",
      "      'rins/rens':         72/72     46%    2.72e-01       0.10\n",
      "    'rnd_cst_lns':         40/41     51%    7.37e-01       0.10\n",
      "    'rnd_var_lns':         56/60     53%    9.30e-01       0.10\n",
      "\n",
      "LS stats                                    Batches  Restarts/Perturbs  LinMoves  GenMoves  CompoundMoves  Bactracks  WeightUpdates  ScoreComputed\n",
      "                             'fj_restart':        3                  3    14'588         0              0          0             86        164'897\n",
      "                    'fj_restart_compound':        1                  1         0     1'832          1'661         14              0         37'473\n",
      "                'fj_restart_compound_obj':        2                  1         0     2'247          2'164         10              0         68'498\n",
      "  'fj_restart_decay_compound_perturb_obj':        2                  2         0     3'692          3'566          5              0         74'174\n",
      "                   'fj_restart_decay_obj':        1                  1     6'070         0              0          0             24         54'212\n",
      "           'fj_restart_decay_perturb_obj':        1                  1     5'756         0              0          0             23         54'480\n",
      "                         'fj_restart_obj':        1                  1     4'458         0              0          0             28         55'096\n",
      "                     'fj_restart_perturb':        1                  1     5'032         0              0          0             29         54'826\n",
      "                         'ls_lin_restart':       28                 22    62'125         0              0          0          7'731      1'374'050\n",
      "                'ls_lin_restart_compound':       45                 28         0    27'429          3'369     11'885             29        919'773\n",
      "        'ls_lin_restart_compound_perturb':       38                 22         0    24'634          2'763     10'772             22        780'909\n",
      "                   'ls_lin_restart_decay':       15                 14    30'430         0              0          0          1'667        673'825\n",
      "          'ls_lin_restart_decay_compound':       33                 25         0    21'807          2'154      9'738             51        640'995\n",
      "  'ls_lin_restart_decay_compound_perturb':       33                 18         0    23'164          1'457     10'805             48        640'059\n",
      "           'ls_lin_restart_decay_perturb':       35                 26    75'031         0              0          0          3'668      1'721'725\n",
      "                 'ls_lin_restart_perturb':       26                 19    54'815         0              0          0          6'504      1'220'625\n",
      "                             'ls_restart':       51                 26   115'711         0              0          0         12'560      2'564'068\n",
      "                    'ls_restart_compound':       27                 20         0    18'482          1'458      8'438             37        531'726\n",
      "            'ls_restart_compound_perturb':       27                 22         0    18'513          2'711      7'751             30        550'451\n",
      "                       'ls_restart_decay':       21                 17    45'440         0              0          0          2'505      1'040'920\n",
      "              'ls_restart_decay_compound':       25                 18         0    17'865            996      8'380             30        486'195\n",
      "      'ls_restart_decay_compound_perturb':       30                 20         0    20'324          2'124      9'032             31        601'104\n",
      "               'ls_restart_decay_perturb':       27                 18    60'547         0              0          0          2'994      1'408'223\n",
      "                     'ls_restart_perturb':       45                 33   101'263         0              0          0         12'195      2'209'575\n",
      "\n",
      "Solutions (38)                     Num     Rank\n",
      "                    'default_lp':    7  [14,30]\n",
      "                 'graph_arc_lns':    1  [12,12]\n",
      "                 'graph_cst_lns':    2   [7,28]\n",
      "                 'graph_dec_lns':    1    [9,9]\n",
      "                 'graph_var_lns':    7   [5,37]\n",
      "                'ls_lin_restart':    1  [15,15]\n",
      "          'ls_lin_restart_decay':    2  [11,16]\n",
      "  'ls_lin_restart_decay_perturb':    2   [8,24]\n",
      "        'ls_lin_restart_perturb':    3   [3,32]\n",
      "                    'ls_restart':    2  [13,31]\n",
      "              'ls_restart_decay':    1    [2,2]\n",
      "            'ls_restart_perturb':    4   [6,27]\n",
      "           'quick_restart_no_lp':    1    [1,1]\n",
      "                 'rins_pump_lns':    1  [38,38]\n",
      "                   'rnd_cst_lns':    1  [20,20]\n",
      "                   'rnd_var_lns':    2  [10,19]\n",
      "\n",
      "Objective bounds     Num\n",
      "  'initial_domain':    1\n",
      "          'max_lp':    1\n",
      "    'pseudo_costs':    1\n",
      "   'reduced_costs':   10\n",
      "\n",
      "Solution repositories    Added  Queried  Synchro\n",
      "  'feasible solutions':     59    1'158       55\n",
      "   'fj solution hints':      3        0        3\n",
      "        'lp solutions':  1'164       42      673\n",
      "                'pump':    252       56\n",
      "\n",
      "Improving bounds shared      Num  Sym\n",
      "            'default_lp':    809    0\n",
      "                'max_lp':      1    0\n",
      "                 'no_lp':    304    0\n",
      "          'pseudo_costs':      1    0\n",
      "         'quick_restart':  1'114    0\n",
      "   'quick_restart_no_lp':  1'216    0\n",
      "         'reduced_costs':      1    0\n",
      "\n",
      "Clauses shared              Num\n",
      "           'default_lp':     10\n",
      "            'fs_random':     50\n",
      "       'lb_tree_search':     49\n",
      "               'max_lp':     24\n",
      "                'no_lp':      7\n",
      "         'pseudo_costs':     14\n",
      "        'quick_restart':  3'638\n",
      "  'quick_restart_no_lp':  4'231\n",
      "        'reduced_costs':     67\n",
      "\n",
      "CpSolverResponse summary:\n",
      "status: FEASIBLE\n",
      "objective: 49\n",
      "best_bound: 24\n",
      "integers: 101\n",
      "booleans: 4251\n",
      "conflicts: 0\n",
      "branches: 10965\n",
      "propagations: 1372\n",
      "integer_propagations: 74685\n",
      "restarts: 8502\n",
      "lp_iterations: 0\n",
      "walltime: 60.0165\n",
      "usertime: 60.0165\n",
      "deterministic_time: 177.849\n",
      "gap_integral: 581.921\n",
      "solution_fingerprint: 0xd4027656f97490a0\n",
      "\n"
     ]
    }
   ],
   "source": [
    "instance_08 = util.parse(\"protein_n010k010.txt\")\n",
    "solution_08 = solve(instance_08)"
   ]
  },
  {
   "cell_type": "code",
   "execution_count": null,
   "id": "DnEU",
   "metadata": {},
   "outputs": [
    {
     "name": "stdout",
     "output_type": "stream",
     "text": [
      "--- Condition (with 19 chars) ---\n",
      "str01: MALSYCPKGT\n",
      "str02: MQSSLNAIPV\n",
      "str03: MPLSYQHFRK\n",
      "str04: MEEHVNELHD\n",
      "str05: MSNFDAIRAL\n",
      "str06: MFRNQNSRNG\n",
      "str07: MFYAHAFGGY\n",
      "str08: MSKFTRRPYQ\n",
      "str09: MSFVAGVTAQ\n",
      "str10: MESLVPGFNE\n",
      "\n",
      "--- Solution (of length 50) ---\n",
      "  Sol: MESLKNFVPYAGEVFTHVDRANQNRIPELSYQHDSFCRGLNAIPKGTLYV\n",
      "str01: M---------A-----------------LSY-----C------PKGT---\n",
      "str02: M---------------------Q------S----S----LNAIP-----V\n",
      "str03: M-------P-------------------LSYQH--F-R------K-----\n",
      "str04: ME----------E---HV---N-----EL---HD----------------\n",
      "str05: M-S--NF-----------D-A----I-----------R---A-----L--\n",
      "str06: M-----F------------R-NQN-----S-------R--N----G----\n",
      "str07: M-----F--YA-----H---A--------------F--G------G--Y-\n",
      "str08: M-S-K-F--------T---R----R-P---YQ------------------\n",
      "str09: M-S---FV--AG-V-T----A-Q---------------------------\n",
      "str10: MESL---VP--G--F------N-----E----------------------\n",
      "\n",
      "solution is feasible: True\n"
     ]
    }
   ],
   "source": [
    "_instance = instance_08\n",
    "_solution = solution_08\n",
    "\n",
    "util.show(_instance)\n",
    "if _solution is not None:\n",
    "    util.show(_instance, _solution)\n",
    "    print(f\"solution is feasible: {util.is_feasible(_instance, _solution)}\")\n",
    "else:\n",
    "    print(\"--- Solution not found ---\")"
   ]
  },
  {
   "cell_type": "code",
   "execution_count": null,
   "id": "ulZA",
   "metadata": {},
   "outputs": [
    {
     "name": "stdout",
     "output_type": "stream",
     "text": [
      "\n",
      "Starting CP-SAT solver v9.14.6206\n",
      "Parameters: max_time_in_seconds: 60 log_search_progress: true\n",
      "Setting number of workers to 12\n"
     ]
    },
    {
     "name": "stdout",
     "output_type": "stream",
     "text": [
      "\n"
     ]
    },
    {
     "name": "stdout",
     "output_type": "stream",
     "text": [
      "Initial optimization model '': (model_fingerprint: 0x51ef83a55102100c)\n",
      "#Variables: 2'501 (#ints: 1 in objective) (2'500 primary variables)\n",
      "  - 2'500 in [0,2499]\n",
      "  - 1 in [0,2500]\n",
      "#kLinMax: 1 (#expressions: 50)\n",
      "#kLinear2: 2'882'859 (#complex_domain: 2'880'409)\n",
      "\n",
      "Starting presolve at 0.55s\n"
     ]
    },
    {
     "name": "stdout",
     "output_type": "stream",
     "text": [
      "  5.79e+01s  0.00e+00d  [PresolveToFixPoint] #num_loops=21 #num_dual_strengthening=1 \n"
     ]
    },
    {
     "name": "stdout",
     "output_type": "stream",
     "text": [
      "\n",
      "Presolve summary:\n",
      "  - 0 affine relations were detected.\n",
      "  - rule 'TODO dual: only one unspecified blocking constraint?' was applied 1 time.\n",
      "  - rule 'lin_max: rewrite with precedences' was applied 1 time.\n",
      "  - rule 'lin_max: target domain reduced' was applied 1 time.\n",
      "  - rule 'linear: expanded complex rhs' was applied 2'880'409 times.\n",
      "  - rule 'linear: reduced variable domains' was applied 40'950 times.\n",
      "  - rule 'new_bool: complex linear expansion' was applied 2'880'409 times.\n",
      "  - rule 'presolve: 0 unused variables removed.' was applied 1 time.\n",
      "  - rule 'presolve: iteration' was applied 1 time.\n"
     ]
    },
    {
     "name": "stdout",
     "output_type": "stream",
     "text": [
      "\n"
     ]
    },
    {
     "name": "stdout",
     "output_type": "stream",
     "text": [
      "Presolved optimization model '': (model_fingerprint: 0xa341dc7163e5bbfc)\n",
      "#Variables: 2'882'910 (#ints: 1 in objective) (2'882'909 primary variables)\n",
      "  - 2'880'409 Booleans in [0,1]\n",
      "  - 50 in [0,2478]\n",
      "  - 50 in [1,2478]\n",
      "  - 50 in [2,2478]\n",
      "  - 50 in [3,2478]\n",
      "  - 50 in [4,2478]\n",
      "  - 50 in [5,2478]\n",
      "  - 50 in [6,2478]\n",
      "  - 50 in [7,2478]\n",
      "  - 50 in [8,2478]\n",
      "  - 50 in [9,2478]\n",
      "  - 50 in [10,2478]\n",
      "  - 50 in [11,2478]\n",
      "  - 50 in [12,2478]\n",
      "  - 50 in [13,2478]\n",
      "  - 50 in [14,2478]\n",
      "  - 50 in [15,2478]\n",
      "  - 50 in [16,2478]\n",
      "  - 50 in [17,2478]\n",
      "  - 50 in [18,2478]\n",
      "  - 50 in [19,2478]\n",
      "  - 50 in [20,2478]\n",
      "  - 50 in [21,2478]\n",
      "  - 50 in [22,2478]\n",
      "  - 50 in [23,2478]\n",
      "  - 50 in [24,2478]\n",
      "  - 50 in [25,2478]\n",
      "  - 50 in [26,2478]\n",
      "  - 50 in [27,2478]\n",
      "  - 50 in [28,2478]\n",
      "  - 50 in [29,2479]\n",
      "  - 50 in [30,2480]\n",
      "  - 50 in [31,2481]\n",
      "  - 50 in [32,2482]\n",
      "  - 50 in [33,2483]\n",
      "  - 50 in [34,2484]\n",
      "  - 50 in [35,2485]\n",
      "  - 50 in [36,2486]\n",
      "  - 50 in [37,2487]\n",
      "  - 50 in [38,2488]\n",
      "  - 50 in [39,2489]\n",
      "  - 50 in [40,2490]\n",
      "  - 50 in [41,2491]\n",
      "  - 50 in [42,2492]\n",
      "  - 50 in [43,2493]\n",
      "  - 50 in [44,2494]\n",
      "  - 50 in [45,2495]\n",
      "  - 50 in [46,2496]\n",
      "  - 50 in [47,2497]\n",
      "  - 50 in [48,2498]\n",
      "  - 51 in [49,2499]\n",
      "#kLinear2: 5'763'318 (#enforced: 5'760'818)\n"
     ]
    },
    {
     "name": "stdout",
     "output_type": "stream",
     "text": [
      "Stopped after presolve.\n",
      "PresolvedNumVariables: 2882910\n",
      "PresolvedNumConstraints: 5763318\n",
      "PresolvedNumTerms: 17287454\n",
      "CpSolverResponse summary:\n",
      "status: UNKNOWN\n",
      "objective: 0\n",
      "best_bound: 0\n",
      "integers: 0\n",
      "booleans: 0\n",
      "conflicts: 0\n",
      "branches: 0\n",
      "propagations: 0\n",
      "integer_propagations: 0\n",
      "restarts: 0\n",
      "lp_iterations: 0\n",
      "walltime: 68.5468\n",
      "usertime: 68.5468\n",
      "deterministic_time: 0\n",
      "gap_integral: 0\n",
      "\n"
     ]
    }
   ],
   "source": [
    "instance_09 = util.parse(\"protein_n050k050.txt\")\n",
    "solution_09 = solve(instance_09)    "
   ]
  },
  {
   "cell_type": "code",
   "execution_count": null,
   "id": "ecfG",
   "metadata": {},
   "outputs": [
    {
     "name": "stdout",
     "output_type": "stream",
     "text": [
      "--- Condition (with 20 chars) ---\n",
      "str01: MRHLNIDIETYSSNDIKNGVYKYADAEDFEILLFAYSIDGGEVECLDLTR\n",
      "str02: MERRAHRTHQNWDATKPRERRKQTQHRLTHPDDSIYPRIEKAEGRKEDHG\n",
      "str03: MEPGAFSTALFDALCDDILHRRLESQLRFGGVQIPPEVSDPRVYAGYALL\n",
      "str04: MGKFYYSNRRLAVFAQAQSRHLGGSYEQWLACVSGDSAFRAEVKARVQKD\n",
      "str05: FFRENLAFQQGKAREFPSEEARANSPTSRELWVRRGGNPLSEAGAERRGT\n",
      "str06: MDPSLTQVWAVEGSVLSAAVDTAETNDTEPDEGLSAENEGETRIIRITGS\n",
      "str07: MAFDFSVTGNTKLDTSGFTQGVSSMTVAAGTLIADLVKTASSQLTNLAQS\n",
      "str08: MAVILPSTYTDGTAACTNGSPDVVGTGTMWVNTILPGDFFWTPSGESVRV\n",
      "str09: MNTGIIDLFDNHVDSIPTILPHQLATLDYLVRTIIDENRSVLLFHIMGSG\n",
      "str10: MFVFLVLLPLVSSQCVNLRTRTQLPPAYTNSFTRGVYYPDKVFRSSVLHS\n",
      "str11: MDSKETILIEIIPKIKSYLLDTNISPKSYNDFISRNKNIFVINLYNVSTI\n",
      "str12: MLLSGKKKMLLDNYETAAARGRGGDERRRGWAFDRPAIVTKRDKSDRMAH\n",
      "str13: MNGEEDDNEQAAAEQQTKKAKREKPKQARKVTSEAWEHFDATDDGAECKH\n",
      "str14: MESLVPGFNEKTHVQLSLPVLQVRDVLVRGFGDSVEEVLSEARQHLKDGT\n",
      "str15: MRYIVSPQLVLQVGKGQEVERALYLTPYDYIDEKSPIYYFLRSHLNIQRP\n",
      "str16: MPRVPVYDSPQVSPNTVPQARLATPSFATPTFRGADAPAFQDTANQQARQ\n",
      "str17: MFVFLVLLPLVSSQCVNLRTRTQLPLAYTNSFTRGVYYPDKVFRSSVLHS\n",
      "str18: MFVFFVLLPLVSSQCVNLTTRTQLPPAYTNSFTRGVYYPDKVFRSSVLHS\n",
      "str19: MEAIISFAGIGINYKKLQSKLQHDFGRVLKALTVTARALPGQPKHIAIRQ\n",
      "str20: MASSGPERAEHQIILPESHLSSPLVKHKLLYYWKLTGLPLPDECDFDHLI\n",
      "str21: MESLVPGFNEKTHVQLSLPVLQVRDVLVRGFGDSVEEVLSEVRQHLKDGT\n",
      "str22: MLAPSPNSKIQLFNNINIDINYEHTLYFASVSAQNSFFAQWVVYSADKAI\n",
      "str23: MSAITETKPTIELPALAEGFQRYNKTPGFTCVLDRYDHGVINDSKIVLYN\n",
      "str24: MKNIAEFKKAPELAEKLLEVFSNLKGNSRSLDPMRAGKHDVVVIESTKKL\n",
      "str25: MPQPLKQSLDQSKWLREAEKHLRALESLVDSNLEEEKLKPQLSMGEDVQS\n",
      "str26: MFVFLVLLPLVSSQCVNLITRTQSYTNSFTRGVYYPDKVFRSSVLHSTQD\n",
      "str27: MKFDVLSLFAPWAKVDEQEYDQQLNNNLESITAPKFDDGATEIESERGDI\n",
      "str28: MFVFLVLLPLVSSQCVNFTNRTQLPSAYTNSFTRGVYYPDKVFRSSVLHS\n",
      "str29: MWSIIVLKLISIQPLLLVTSLPLYNPNMDSCCLISRITPELAGKLTWIFI\n",
      "str30: MESLVPGFNEKTHVQLSLPVLQVRDVLVRGFGDSVEEFLSEARQHLKDGT\n",
      "str31: MFVFLVLLPLVSSQCVMPLFNLITTTQSYTNFTRGVYYPDKVFRSSVLHL\n",
      "str32: MHQITVVSGPTEVSTCFGSLHPFQSLKPVMANALGVLEGKMFCSIGGRSL\n",
      "str33: MATLLRSLALFKRNKDKPPITSGSGGAIRGIKHIIIVPIPGDSSITTRSR\n",
      "str34: MESLVPGFNEKTHVQLSLPVLQVRDVLVRGFGDSMEEVLSEARQHLKDGT\n",
      "str35: MFVFLVLLPLVSSQCVNLTTGTQLPPAYTNSFTRGVYYPDKVFRSSVLHS\n",
      "str36: MANIINLWNGIVPMVQDVNVASITAFKSMIDETWDKKIEANTCISRKHRN\n",
      "str37: MLNRIQTLMKTANNYETIEILRNYLRLYIILARNEEGRGILIYDDNIDSV\n",
      "str38: MADPAGTNGEEGTGCNGWFYVEAVVEKKTGDAISDDENENDSDTGEDLVD\n",
      "str39: MFVFLVLLPLVSSQCVNLRTRTQLPPSYTNSFTRGVYYPDKVFRSSVLHS\n",
      "str40: MESLVPGFNEKTHVQLSLPVLQVCDVLVRGFGDSVEEVLSEARQHLKDGT\n",
      "str41: MNNQRKKTARPSFNMLKRARNRVSTVSQLAKRFSKGLLSGQGPMKLVMAF\n",
      "str42: MSNFDAIRALVDTDAYKLGHIHMYPEGTEYVLSNFTDRGSRIEGVTHTVH\n",
      "str43: MIELRHEVQGDLVTINVVETPEDLDGFRDFIRAHLICLAVDTETTGLDIY\n",
      "str44: MFVFLVLLPLVSSQCVMPLFNLITTNQSYTNSFTRGVYYPDKVFRSSVLH\n",
      "str45: MSKDLVARQALMTARMKADFVFFLFVLWKALSLPVPTRCQIDMAKKLSAG\n",
      "str46: MASLLKSLTLFKRTRDQPPLASGSGGAIRGIKHVIIVLIPGDSSIVTRSR\n",
      "str47: MRVRGILRNWQQWWIWTSLGFWMFMICSVVGNLWVTVYYGVPVWKEAKTT\n",
      "str48: MAVEPFPRRPITRPHASIEVDTSGIGGSAGSSEKVFCLIGQAEGGEPNTV\n",
      "str49: MFYAHAFGGYDENLHAFPGISSTVANDVRKYSVVSVYNKKYNIVKNKYMW\n",
      "str50: MANYSKPFLLDIVFNKDIKCINDSCSHSDCRYQSNSYVELRRNQALNKNL\n",
      "\n",
      "--- Solution not found ---\n"
     ]
    }
   ],
   "source": [
    "_instance = instance_09\n",
    "_solution = solution_09\n",
    "\n",
    "util.show(_instance)\n",
    "if _solution is not None:\n",
    "    util.show(_instance, _solution)\n",
    "    print(f\"solution is feasible: {util.is_feasible(_instance, _solution)}\")\n",
    "else:\n",
    "    print(\"--- Solution not found ---\")"
   ]
  }
 ],
 "metadata": {},
 "nbformat": 4,
 "nbformat_minor": 5
}
