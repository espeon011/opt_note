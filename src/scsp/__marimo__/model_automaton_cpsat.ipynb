{
 "cells": [
  {
   "cell_type": "code",
   "execution_count": null,
   "id": "setup",
   "metadata": {
    "marimo": {
     "name": "setup"
    }
   },
   "outputs": [],
   "source": [
    "from ortools.sat.python import cp_model\n",
    "import util"
   ]
  },
  {
   "cell_type": "code",
   "execution_count": null,
   "id": "Hbol",
   "metadata": {},
   "outputs": [],
   "source": [
    "import marimo as mo\n",
    "import nbformat"
   ]
  },
  {
   "cell_type": "markdown",
   "id": "MJUe",
   "metadata": {
    "marimo": {
     "config": {
      "hide_code": true
     }
    }
   },
   "source": [
    "# オートマトン制約を用いた数理計画モデル"
   ]
  },
  {
   "cell_type": "markdown",
   "id": "vblA",
   "metadata": {
    "marimo": {
     "config": {
      "hide_code": true
     }
    }
   },
   "source": [
    "CP-SAT 固有のオートマトン制約を用いて定式化してみる.\n",
    "\n",
    "**定数**\n",
    "\n",
    "- $\\Sigma = \\lbrace \\sigma_1, \\dots, \\sigma_q \\rbrace$: 文字の集合\n",
    "\n",
    "**決定変数**\n",
    "\n",
    "- $x_i \\in \\mathbb{Z}$: 解において $i$ 番目の文字が $\\sigma_j$ であれば $j$ となる.\n",
    "  どの文字も対応しないとき $0$.\n",
    "  このとき解は $\\sigma_{x_0} \\sigma_{x_1} \\dots$ となる.\n",
    "  ただし $\\sigma_0$ は空文字列とする.\n",
    "- $v_i \\in \\lbrace 0, 1 \\rbrace$: 解の $i$ 番目が空でないとき $1$. 空のとき $0$.\n",
    "\n",
    "**制約条件**\n",
    "\n",
    "- $x_i > 0 \\Rightarrow v_i = 1$\n",
    "- 与えられた文字列 $s \\in S$ の各文字を $\\Sigma$ を基準にインデックスの配列としたものを $\\mathrm{index}_s$ とする.\n",
    "  $\\mathrm{index}_s$ を部分配列にもつすべての配列を受理するオートマトンを文字列の数だけ作成し,\n",
    "  $\\lbrace x_i \\rbrace_i$ が受理されるという制約を課す.\n",
    "\n",
    "**目的関数**\n",
    "\n",
    "- minimize $\\sum_{i} v_i$"
   ]
  },
  {
   "cell_type": "code",
   "execution_count": null,
   "id": "bkHC",
   "metadata": {
    "marimo": {
     "name": "*Model"
    }
   },
   "outputs": [],
   "source": [
    "class Model:\n",
    "    def __init__(self, instance: list[str]):\n",
    "        max_len = sum(len(s) for s in instance)\n",
    "        chars = sorted(list(set(\"\".join(instance))))\n",
    "\n",
    "        cpmodel = cp_model.CpModel()\n",
    "\n",
    "        cvars = [\n",
    "            cpmodel.new_int_var(lb=0, ub=len(chars), name=\"\")\n",
    "            for _ in range(max_len)\n",
    "        ]\n",
    "\n",
    "        for s in instance:\n",
    "            transition_triples = (\n",
    "                [\n",
    "                    (idx, jdx + 1, (idx + 1 if c == next_char else idx))\n",
    "                    for idx, next_char in enumerate(s)\n",
    "                    for jdx, c in enumerate(chars)\n",
    "                ]\n",
    "                + [(idx, 0, idx) for idx, _ in enumerate(s)]\n",
    "                + [(len(s), 0, len(s))]\n",
    "                + [(len(s), jdx + 1, len(s)) for jdx, _ in enumerate(chars)]\n",
    "            )\n",
    "            cpmodel.add_automaton(\n",
    "                transition_expressions=cvars,\n",
    "                starting_state=0,\n",
    "                final_states=[len(s)],\n",
    "                transition_triples=transition_triples,\n",
    "            )\n",
    "\n",
    "        valids = [cpmodel.new_bool_var(\"\") for _ in cvars]\n",
    "        for cvar, valid in zip(cvars, valids):\n",
    "            cpmodel.add(cvar == 0).only_enforce_if(~valid)\n",
    "        cpmodel.minimize(sum(valids))\n",
    "\n",
    "        self.instance = instance\n",
    "        self.chars = chars\n",
    "        self.cpmodel = cpmodel\n",
    "        self.cpsolver = cp_model.CpSolver()\n",
    "        self.cvars = cvars\n",
    "\n",
    "    def solve(self, time_limit: int | None = 60, log: bool = False) -> \"Model\":\n",
    "        self.cpsolver.parameters.log_search_progress = log\n",
    "        if time_limit is not None:\n",
    "            self.cpsolver.parameters.max_time_in_seconds = time_limit\n",
    "        self.status = self.cpsolver.solve(self.cpmodel)\n",
    "\n",
    "        return self\n",
    "\n",
    "    def to_solution(self) -> str | None:\n",
    "        if self.status not in {cp_model.cp_model_pb2.OPTIMAL, cp_model.cp_model_pb2.FEASIBLE}:\n",
    "            return None\n",
    "\n",
    "        solution = \"\"\n",
    "        for cvar in self.cvars:\n",
    "            cidx = self.cpsolver.value(cvar) - 1\n",
    "            if cidx >= 0:\n",
    "                solution += self.chars[cidx]\n",
    "\n",
    "        return solution"
   ]
  },
  {
   "cell_type": "code",
   "execution_count": null,
   "id": "lEQa",
   "metadata": {
    "marimo": {
     "name": "*solve"
    }
   },
   "outputs": [],
   "source": [
    "def solve(instance: list[str], time_limit: int | None = 60, log: bool = False) -> str | None:\n",
    "    return Model(instance).solve(time_limit, log).to_solution()"
   ]
  },
  {
   "cell_type": "code",
   "execution_count": null,
   "id": "PKri",
   "metadata": {},
   "outputs": [],
   "source": [
    "instance_01 = util.parse(\"uniform_q26n004k015-025.txt\")\n",
    "solution_01 = solve(instance_01)"
   ]
  },
  {
   "cell_type": "code",
   "execution_count": null,
   "id": "Xref",
   "metadata": {},
   "outputs": [
    {
     "name": "stdout",
     "output_type": "stream",
     "text": [
      "--- Condition (with 25 chars) ---\n",
      "str1: tkgnkuhmpxnhtqgxzvxis\n",
      "str2: iojiqfolnbxxcvsuqpvissbxf\n",
      "str3: ulcinycosovozpplp\n",
      "str4: igevazgbrddbcsvrvnngf\n",
      "\n",
      "--- Solution (of length 63) ---\n",
      " Sol: ulcinycostkgjiqfeovoazppglnbrdxdxbcsvrvsnkuhmpxnhtqpgxzvxissbxf\n",
      "str1: ---------tkg--------------n--------------kuhmpxnhtq-gxzvxis----\n",
      "str2: ---i---o----jiqf-o-------lnb--x-x-c-v--s--u-------qp---v-issbxf\n",
      "str3: ulcinycos--------ovo-zpp-l-------------------p-----------------\n",
      "str4: ---i-------g----e-v-az--g--brd-d-bcsvrv-n------n----g---------f\n",
      "\n",
      "solution is feasible: True\n"
     ]
    }
   ],
   "source": [
    "_instance = instance_01\n",
    "_solution = solution_01\n",
    "\n",
    "util.show(_instance)\n",
    "if _solution is not None:\n",
    "    util.show(_instance, _solution)\n",
    "    print(f\"solution is feasible: {util.is_feasible(_instance, _solution)}\")\n",
    "else:\n",
    "    print(\"--- Solution not found ---\")"
   ]
  },
  {
   "cell_type": "code",
   "execution_count": null,
   "id": "SFPL",
   "metadata": {},
   "outputs": [],
   "source": [
    "instance_02 = util.parse(\"uniform_q26n008k015-025.txt\")\n",
    "solution_02 = solve(instance_02)"
   ]
  },
  {
   "cell_type": "code",
   "execution_count": null,
   "id": "BYtC",
   "metadata": {},
   "outputs": [
    {
     "name": "stdout",
     "output_type": "stream",
     "text": [
      "--- Condition (with 26 chars) ---\n",
      "str1: tkgnkuhmpxnhtqgxzvxis\n",
      "str2: iojiqfolnbxxcvsuqpvissbxf\n",
      "str3: ulcinycosovozpplp\n",
      "str4: igevazgbrddbcsvrvnngf\n",
      "str5: pyplrzxucpmqvgtdfuivcdsbo\n",
      "str6: pbdevdcvdpfzsmsbroqvbbh\n",
      "str7: enbczfjtvxerzbrvigple\n",
      "str8: rxwxqkrdrlctodtmprpxwd\n",
      "\n",
      "--- Solution (of length 135) ---\n",
      " Sol: tkgnkuhmpxnhtqgiojiqfolnbxxcvsuqpvlcingesycosovazgbrddbcsvoplrzxucpmqvnngtdfeuivdcvdpfzsmsbroqvnbczfjtvxerzbrvhiwgpxqkrdrlctodtmprpxwed\n",
      "str1: tkgnkuhmpxnhtqg----------x----------------------z--------v-----x--------------i--------s-----------------------------------------------\n",
      "str2: ---------------iojiqfolnbxxcvsuqpv--i---s---s-----b------------x-----------f-----------------------------------------------------------\n",
      "str3: -----u----------------l----c--------in---ycosov-----------o---z---p-----------------p------------------------------------l------p------\n",
      "str4: ---------------i----------------------ge------vazgbrddbcsv---r-------vnng--f-----------------------------------------------------------\n",
      "str5: --------p--------------------------------y-----------------plrzxucpmqv--gtdf-uiv-c-d---s--b-o------------------------------------------\n",
      "str6: --------p---------------b---------------------------d-----------------------e--vdcvdpfzsmsbroqv-b----------b--h------------------------\n",
      "str7: ---------------------------------------e------------------------------n-------------------b------czfjtvxerzbrv-i-gp------l-----------e-\n",
      "str8: ---------------------------------------------------r-----------x------------------------------------------------w--xqkrdrlctodtmprpxw-d\n",
      "\n",
      "solution is feasible: True\n"
     ]
    }
   ],
   "source": [
    "_instance = instance_02\n",
    "_solution = solution_02\n",
    "\n",
    "util.show(_instance)\n",
    "if _solution is not None:\n",
    "    util.show(_instance, _solution)\n",
    "    print(f\"solution is feasible: {util.is_feasible(_instance, _solution)}\")\n",
    "else:\n",
    "    print(\"--- Solution not found ---\")"
   ]
  },
  {
   "cell_type": "code",
   "execution_count": null,
   "id": "RGSE",
   "metadata": {},
   "outputs": [],
   "source": [
    "instance_03 = util.parse(\"uniform_q26n016k015-025.txt\")\n",
    "solution_03 = solve(instance_03)"
   ]
  },
  {
   "cell_type": "code",
   "execution_count": null,
   "id": "Kclp",
   "metadata": {},
   "outputs": [
    {
     "name": "stdout",
     "output_type": "stream",
     "text": [
      "--- Condition (with 26 chars) ---\n",
      "str01: tkgnkuhmpxnhtqgxzvxis\n",
      "str02: iojiqfolnbxxcvsuqpvissbxf\n",
      "str03: ulcinycosovozpplp\n",
      "str04: igevazgbrddbcsvrvnngf\n",
      "str05: pyplrzxucpmqvgtdfuivcdsbo\n",
      "str06: pbdevdcvdpfzsmsbroqvbbh\n",
      "str07: enbczfjtvxerzbrvigple\n",
      "str08: rxwxqkrdrlctodtmprpxwd\n",
      "str09: kkqafigqjwokkskrblg\n",
      "str10: lxxpabivbvzkozzvd\n",
      "str11: krifsavncdqwhzc\n",
      "str12: qaxudgqvqcewbfgijowwy\n",
      "str13: rsxqjnfpadiusiqbezhkohmg\n",
      "str14: iwshvhcomiuvddm\n",
      "str15: htxxqjzqbctbakn\n",
      "str16: xusfcfzpeecvwantfmgqzu\n",
      "\n",
      "--- Solution (of length 242) ---\n",
      "  Sol: tkgnkuhmpxnhiojiqfolnbxxulcinycosoigevoazgbrddbcsvpyplrzxucpmqvgtdfupbdevdcvdpfzsmsenbczfjtvxerzbrvigxwxqkrdrlctodtmpkkqafigqjwokkskrlxxpabivbvzkozlfsavnqaxudgqvqcewbfgijowwyrsxqjnfpadiusiqbwezshkvhcomiuvddhtxxqjzqbctbakxusfcfzpeecvwantfmgqzu\n",
      "str01: tkgnkuhmpxnh----------------------------------------------------t---------------------------------------q------------------g----------x--------z-------v---x------------i------s------------------------------------------------------------------\n",
      "str02: ------------iojiqfolnbxx--c----------v----------s--------u---q------p---v--------------------------i------------------------------s------------------s---------------b----------x---f-------------------------------------------------------------\n",
      "str03: -----u-------------l------cinycoso---vo-z---------p-pl-----p--------------------------------------------------------------------------------------------------------------------------------------------------------------------------------------\n",
      "str04: ------------i----------------------gev-azgbrddbcsv----r-------v---------------------n-------------------------------------------------------------------n-----g-------f---------------------------------------------------------------------------\n",
      "str05: --------p--------------------y--------------------p--lrzxucpmqvgtdfu-------------------------------i----------------------------------------v---------------------c--------------------d--s--b---------o------------------------------------------\n",
      "str06: --------p------------b----------------------d--------------------------evdcvdpfzsms--b--------r-----------------o------q--------------------vb-----------------------b----------------------------h-----------------------------------------------\n",
      "str07: ------------------------------------e-----------------------------------------------nbczfjtvxerzbrvig---------------p----------------l-----------------------------e------------------------------------------------------------------------------\n",
      "str08: -------------------------------------------r------------x---------------------------------------------wxqkrdrlctodtmp---------------r---p------------------x--------w------------------d----------------------------------------------------------\n",
      "str09: -k--k-----------q----------------------a--------------------------f--------------------------------ig---q--------------------jwokkskr-----b--------l----------g-----------------------------------------------------------------------------------\n",
      "str10: -------------------l--xx--------------------------p---------------------------------------------------------------------a-----------------bivbvzkoz---------------------------------------------z---v-------d-------------------------------------\n",
      "str11: -k-----------------------------------------r-------------------------------------------------------i---------------------f--------s------a--v-----------n---------c--------------------d----q-w---h-----------------z--c--------------------------\n",
      "str12: ----------------q----------------------a----------------xu-------d----------------------------------g---q-----------------------------------v------------q--------cewbfgijowwy--------------------------------------------------------------------\n",
      "str13: -------------------------------------------r----s-------x----q---------------------------j--------------------------------------------------------------n-------------f--------------padiusiqb-ez-hk---o------h------------------------------mg---\n",
      "str14: ------------i-----------------------------------------------------------------------------------------w---------------------------s---------------------------------------------------------------h-vhcomiuvdd-------------------------------m----\n",
      "str15: ------h---------------------------------------------------------t---------------------------x--------x--q--------------------j-----------------z---------q-----------b--------------------------------c--------t------b---ak--------------n-------\n",
      "str16: ---------x--------------u-------s---------------------------------f-------c---fz------------------------------------p----------------------------------------------e---------------------------e------c----v----------------------------wantfmgqzu\n",
      "\n",
      "solution is feasible: True\n"
     ]
    }
   ],
   "source": [
    "_instance = instance_03\n",
    "_solution = solution_03\n",
    "\n",
    "util.show(_instance)\n",
    "if _solution is not None:\n",
    "    util.show(_instance, _solution)\n",
    "    print(f\"solution is feasible: {util.is_feasible(_instance, _solution)}\")\n",
    "else:\n",
    "    print(\"--- Solution not found ---\")"
   ]
  },
  {
   "cell_type": "code",
   "execution_count": null,
   "id": "emfo",
   "metadata": {},
   "outputs": [],
   "source": [
    "instance_04 = util.parse(\"uniform_q05n010k010-010.txt\")\n",
    "solution_04 = solve(instance_04)"
   ]
  },
  {
   "cell_type": "code",
   "execution_count": null,
   "id": "Hstk",
   "metadata": {},
   "outputs": [
    {
     "name": "stdout",
     "output_type": "stream",
     "text": [
      "--- Condition (with 5 chars) ---\n",
      "str01: dcbccdbcce\n",
      "str02: bddbeeeebd\n",
      "str03: cacdeecebe\n",
      "str04: aeddddebdd\n",
      "str05: acbeecabce\n",
      "str06: bbabebdcba\n",
      "str07: bbaeaebada\n",
      "str08: eeeecbdbee\n",
      "str09: ccdeedadcd\n",
      "str10: bdabdbeaad\n",
      "\n",
      "--- Solution (of length 28) ---\n",
      "  Sol: baeddcbacdeeaecbdbceabdcbade\n",
      "str01: ---d-cb-c-----c-dbc----c---e\n",
      "str02: b--dd-b---ee-e-----e-bd-----\n",
      "str03: -----c-acdee--c----e-b-----e\n",
      "str04: -aedd----d------d--e-bd---d-\n",
      "str05: -a---cb---ee--c-----ab-c---e\n",
      "str06: b-----ba-------b---e-bdcba--\n",
      "str07: b-----ba--e-ae-b----a-d--a--\n",
      "str08: --e-------ee-ecbdb-e-------e\n",
      "str09: -----c--cdee----d---a-dc--d-\n",
      "str10: b--d---a-------bdb-ea----ad-\n",
      "\n",
      "solution is feasible: True\n"
     ]
    }
   ],
   "source": [
    "_instance = instance_04\n",
    "_solution = solution_04\n",
    "\n",
    "util.show(_instance)\n",
    "if _solution is not None:\n",
    "    util.show(_instance, _solution)\n",
    "    print(f\"solution is feasible: {util.is_feasible(_instance, _solution)}\")\n",
    "else:\n",
    "    print(\"--- Solution not found ---\")"
   ]
  },
  {
   "cell_type": "code",
   "execution_count": null,
   "id": "nWHF",
   "metadata": {},
   "outputs": [],
   "source": [
    "instance_05 = util.parse(\"uniform_q05n050k010-010.txt\")\n",
    "solution_05 = solve(instance_05)"
   ]
  },
  {
   "cell_type": "code",
   "execution_count": null,
   "id": "iLit",
   "metadata": {},
   "outputs": [
    {
     "name": "stdout",
     "output_type": "stream",
     "text": [
      "--- Condition (with 5 chars) ---\n",
      "str01: dcbccdbcce\n",
      "str02: bddbeeeebd\n",
      "str03: cacdeecebe\n",
      "str04: aeddddebdd\n",
      "str05: acbeecabce\n",
      "str06: bbabebdcba\n",
      "str07: bbaeaebada\n",
      "str08: eeeecbdbee\n",
      "str09: ccdeedadcd\n",
      "str10: bdabdbeaad\n",
      "str11: ededaaaeaa\n",
      "str12: aaeaabeeac\n",
      "str13: eaabcaccdb\n",
      "str14: bdeeadeade\n",
      "str15: caedadeeed\n",
      "str16: ebcadbabbe\n",
      "str17: ddceeabdea\n",
      "str18: dabcddeaec\n",
      "str19: aadceedaab\n",
      "str20: aeecceeeaa\n",
      "str21: bbdaecaade\n",
      "str22: dacedaedab\n",
      "str23: aaeabbbbce\n",
      "str24: dedbcbcaab\n",
      "str25: dbdaaebbcb\n",
      "str26: debedbebac\n",
      "str27: ceebcdcbde\n",
      "str28: dbedaadaab\n",
      "str29: cccdcbebdc\n",
      "str30: aeeacdbcbd\n",
      "str31: dacbeacccd\n",
      "str32: ecebccdbdb\n",
      "str33: ddbbcedabb\n",
      "str34: aaeabaaeba\n",
      "str35: ecbbcaadcd\n",
      "str36: debccecdbc\n",
      "str37: daacbaeebc\n",
      "str38: adabeaacce\n",
      "str39: daecdbacaa\n",
      "str40: dacbbdcedc\n",
      "str41: dedbeebbde\n",
      "str42: cdadcdcdaa\n",
      "str43: ceedcbaeed\n",
      "str44: ceaecaaaca\n",
      "str45: dcccebbbad\n",
      "str46: baeeaebbde\n",
      "str47: dbdebaccdb\n",
      "str48: ebcbeedaea\n",
      "str49: aeeebbdbca\n",
      "str50: dbdabcecbb\n",
      "\n",
      "--- Solution (of length 39) ---\n",
      "  Sol: dacebaedacebabcdbaedcbcaedbacdeebdcaade\n",
      "str01: d-c-b----c----cdb---c-c-e--------------\n",
      "str02: ----b--d-------db-e-----e-----eebd-----\n",
      "str03: --c--a---c-----d--e-----e---c-e-b-----e\n",
      "str04: -a-e---d-------d---d-----d----e-bd---d-\n",
      "str05: -ac-b-e---e---c--a---bc-e--------------\n",
      "str06: ----b------bab----e--b---d--c---b--a---\n",
      "str07: ----b------ba-----e----ae-ba-d-----a---\n",
      "str08: ---e--e---e-------e-cb---db---ee-------\n",
      "str09: --c------c-----d--e-----ed-a-d----c--d-\n",
      "str10: ----b--da--b---db-e----a---a-d---------\n",
      "str11: ---e---d--e----d-a-----a---a--e----aa--\n",
      "str12: -a---ae-a---ab----e-----e--ac----------\n",
      "str13: ---e-a--a--b--c--a--c-c--db------------\n",
      "str14: ----b--d--e-------e----a-d----e----a-de\n",
      "str15: --c--aeda------d--e-----e-----e--d-----\n",
      "str16: ---eb----c--a--dba---b----b---e--------\n",
      "str17: d------d-ce-------e----a--b--de----a---\n",
      "str18: da--b----c-----d---d----e--a--e---c----\n",
      "str19: -a---a-d-ce-------ed---a---a----b------\n",
      "str20: -a-e--e--c----c---e-----e-----e----aa--\n",
      "str21: ----b------b---d-ae-c--a---a-de--------\n",
      "str22: dace---da-e----d-a---b-----------------\n",
      "str23: -a---ae-a--b-b--b----bc-e--------------\n",
      "str24: d--e---d---b--c-b---c--a---a----b------\n",
      "str25: d---b--da---a-----e--b----b-c---b------\n",
      "str26: d--eb-ed---b------e--b-a----c----------\n",
      "str27: --ce--e----b--cd----cb---d----e--------\n",
      "str28: d---b-eda---a--d-a-----a--b------------\n",
      "str29: --c------c----cd----cb--e-b--d----c----\n",
      "str30: -a-e--e-ac-----db---cb---d-------------\n",
      "str31: dac-b-e-ac----c-----c----d-------------\n",
      "str32: ---e-----ceb--c-----c----db--d--b------\n",
      "str33: d------d---b-bc---ed---a--b-----b------\n",
      "str34: -a---ae-a--ba----ae--b-a---------------\n",
      "str35: ---e-----c-b-bc--a-----a-d--cd---------\n",
      "str36: d--eb----c----c---e-c----db-c----------\n",
      "str37: da---a---c-ba-----e-----e-b-c----------\n",
      "str38: -a-----da--b------e----a---ac-----c---e\n",
      "str39: da-e-----c-----dba--c--a---a-----------\n",
      "str40: dac-b------b---d----c---ed--c----------\n",
      "str41: d--e---d---b------e-----e-b-----bd----e\n",
      "str42: --c----da------d----c----d--cd-----aa--\n",
      "str43: --ce--ed-c-ba-----e-----ed-------------\n",
      "str44: --ce-ae--c--a----a-----a----c------a---\n",
      "str45: d-c------c----c---e--b----b-----b--a-d-\n",
      "str46: ----bae---e-a-----e--b----b--de--------\n",
      "str47: d---b--d--eba-c-----c----db------------\n",
      "str48: ---eb----c-b------e-----ed-a--e----a---\n",
      "str49: -a-e--e---eb-b-db---c--a---------------\n",
      "str50: d---b--da--b--c---e-cb----b------------\n",
      "\n",
      "solution is feasible: True\n"
     ]
    }
   ],
   "source": [
    "_instance = instance_05\n",
    "_solution = solution_05\n",
    "\n",
    "util.show(_instance)\n",
    "if _solution is not None:\n",
    "    util.show(_instance, _solution)\n",
    "    print(f\"solution is feasible: {util.is_feasible(_instance, _solution)}\")\n",
    "else:\n",
    "    print(\"--- Solution not found ---\")"
   ]
  },
  {
   "cell_type": "code",
   "execution_count": null,
   "id": "ZHCJ",
   "metadata": {},
   "outputs": [],
   "source": [
    "instance_06 = util.parse(\"nucleotide_n010k010.txt\")\n",
    "solution_06 = solve(instance_06)"
   ]
  },
  {
   "cell_type": "code",
   "execution_count": null,
   "id": "ROlb",
   "metadata": {},
   "outputs": [
    {
     "name": "stdout",
     "output_type": "stream",
     "text": [
      "--- Condition (with 4 chars) ---\n",
      "str01: ATGGGATACG\n",
      "str02: ATACCTTCCC\n",
      "str03: CACGAATTGA\n",
      "str04: TAAAATCTGT\n",
      "str05: AGGTAACAAA\n",
      "str06: TTCCTAGGTA\n",
      "str07: TTGTAGATCT\n",
      "str08: TGGGAAGTTC\n",
      "str09: TTCCACAACT\n",
      "str10: TCTAAACGAA\n",
      "\n",
      "--- Solution (of length 24) ---\n",
      "  Sol: TATAGGCACGTAAGTCATCGACTA\n",
      "str01: -AT-GG---G-A--T-A-CG----\n",
      "str02: -ATA--C-C-T---TC--C--C--\n",
      "str03: ------CACG-AA-T--T-GA---\n",
      "str04: TA-A---A---A--TC-T-G--T-\n",
      "str05: -A--GG----TAA--CA---A--A\n",
      "str06: T-T---C-C-TA-G-----G--TA\n",
      "str07: T-T-G-----TA-G--ATC---T-\n",
      "str08: T---GG---G-AAGT--TC-----\n",
      "str09: T-T---C-C--A---CA---ACT-\n",
      "str10: T-----C---TAA---A-CGA--A\n",
      "\n",
      "solution is feasible: True\n"
     ]
    }
   ],
   "source": [
    "_instance = instance_06\n",
    "_solution = solution_06\n",
    "\n",
    "util.show(_instance)\n",
    "if _solution is not None:\n",
    "    util.show(_instance, _solution)\n",
    "    print(f\"solution is feasible: {util.is_feasible(_instance, _solution)}\")\n",
    "else:\n",
    "    print(\"--- Solution not found ---\")"
   ]
  },
  {
   "cell_type": "code",
   "execution_count": null,
   "id": "qnkX",
   "metadata": {},
   "outputs": [],
   "source": [
    "instance_07 = util.parse(\"nucleotide_n050k050.txt\")\n",
    "solution_07 = solve(instance_07)"
   ]
  },
  {
   "cell_type": "code",
   "execution_count": null,
   "id": "TqIu",
   "metadata": {},
   "outputs": [
    {
     "name": "stdout",
     "output_type": "stream",
     "text": [
      "--- Condition (with 5 chars) ---\n",
      "str01: TAGTAGTAGACTCCGGAAGTGACAAACCCTGAAAAGAATGGATAAATATA\n",
      "str02: GGATAAACACTCCCGAAAATAATTTGACTTAAACAACGCGACAGTTCAAG\n",
      "str03: ATACCTTCCTAGGTAACAAACCAACCAACTTTTGATCTCTTGTAGATCTG\n",
      "str04: TAAATTATAATCTTATACTAGTAAAAAATAGGGTGTAACCGAAAACGGTC\n",
      "str05: TTAAAACAGCCTGTGGGTTGCACCCACTCACAGGGCCCACTGGGCGCAAG\n",
      "str06: ATGACTTCCAATGGATCCCAACCTCAAGCTTCCACCCCAATGGTTTCAGC\n",
      "str07: AACAAACCAACCAACTTTTGATCTCTTGTAGATCTGTTCTCTAAACGAAC\n",
      "str08: ATGAAAACGAAAATTATTATCAAGGGTATGGAAGTGGAAGCTGACGAAAT\n",
      "str09: ACTCGGCTGCATGCTTAGTGCACTCACGCAGTATAATTAATAACTAATTA\n",
      "str10: TTGTAGATCTGTTCTCTAAACGAACTTTAAAATCTGTGTGGCTGTCACTC\n",
      "str11: GCAGAGCATTTTCTAATATCCACAAAATGAAGGCAATAATTGTACTACTC\n",
      "str12: ATGAGCCAAGATCCGACGAAGAGCCCCAAGGAGGAGAAGGAGGGACCCCC\n",
      "str13: TCTCACAGTTCAAGAACCCAAAGTACCCCCCATAGCCCTCTTAAAGCCAC\n",
      "str14: AGGTTTATACCTTCCTAGGTAACAAACCAACCAACTTTCGATCTCTTGTA\n",
      "str15: AGGTTTATACCTTCCCAGGTAACAAACCAACCAACTTTCGATCTCTTGTA\n",
      "str16: TAAAACAACTCAATACAACATAAGAAAATCAACGCAAAAACACTCACAAA\n",
      "str17: CCGCCCATTTGGGCGGCTCTCGAGCGATAGCTCGTCGAATCCCTCGACCT\n",
      "str18: ATACCTTCCCAGGTAACAAACCAACCAACTTTCGATCTCTTGTAGATCTG\n",
      "str19: TCTCACAGTTCAAGAACCTCAAGTCTCCCCCATAGGCCTCTTTCAGTCAG\n",
      "str20: GATCTCTCTCACCGAACCTGGCCCCGGGCAAATGCCCTAATCCAGAGGTG\n",
      "str21: AGAGCAATCAGTGCATCAGAAATATACCTATTATACACTTTGCTAAGAAT\n",
      "str22: AATTAAAACATCTCAATACAACATAAGAAAAACAACGCAAAAACACTCAT\n",
      "str23: AAACGAACTTTAAAATCTGTGTGGCTGTCACTCGGCTGCATGCTTAGTGC\n",
      "str24: ATAACTAATTACTGTCGTTGACAGGACACGAGTAACTCGTCTATCTTCTG\n",
      "str25: ATGAGTGTCACGAATTCACGTACAATGAACTGGATGTTCACGTGGAATAA\n",
      "str26: ACCGTGGGCGAGCGGTGACCGGTGTCTTCCTAGTGGGTCCCACGTTGAAR\n",
      "str27: AAAGGTTTATACCTTCCCAGGTAACAAACCAACCAACTTTCGATCTCTTG\n",
      "str28: AGTAGTTCGCCTGTGTGAGCTGACAAACTTAGTAGTGTTTGTGAGGATTA\n",
      "str29: TTTATACCTTCCTAGGTAACAAACCAACCAACTTTCGATCTCTTGTAGAT\n",
      "str30: ATGCGGTCGTCTCTCCCCGGCTTTTTTTCCCCGCGCCGCGTTGGCGCCGA\n",
      "str31: GTGACAAAAACATAATGGACTCCAACACCATGTCAAGCTTTCAGGTAGAC\n",
      "str32: GTGTAAGAAACAGTAAGCCCGGAAGTGGTGTTTTGCGATTTCGAGGCCGG\n",
      "str33: GAGAATGAGTCTCATTACCGCCCGGTACTTAGCAAGCTAATAGTCACGGC\n",
      "str34: ATGTGGTCGATGCCATGGAGGCCCACCAGTTCATTAAGGCTCCTGGCATT\n",
      "str35: ACGAGCGTTTTAAGGGCCCGCGACTGCGACGGCCACATGGCCCTGTATGT\n",
      "str36: GGTTTATACCTTCCCAGGTAACAAACCAACCAACTTTCGATCTCTTGTAG\n",
      "str37: TGGGAAGTTCCAAAAGATCACAAAACACTACCAGTCAACCTGAAGTACAC\n",
      "str38: GAAGCGTTAACGTGTTGAGGAAAAGACAGCTTAGGAGAACAAGAGCTGGG\n",
      "str39: ACCAGCGCACTTCGGCAGCGGCAGCACCTCGGCAGCACCTCAGCAGCAAC\n",
      "str40: ATGGGACAACTTATTCCTATCATGTGCCAAGAGGTTTTACCCGGTGACCA\n",
      "str41: TTGTAGATCTGTTCTCTAAACGAACTTTAAAATCTGTGTGGTTGTCACTC\n",
      "str42: AACCAACCAACTTTCGATCTCTTGTAGATCTGTTCTCTAAACGAACTTTA\n",
      "str43: GGGTTCTGCCAGGCATAGTCTTTTTTTCTGGCGGCCCTTGTGTAAACCTG\n",
      "str44: GGCTGCATGCTTAGTGCACTCACGCAGTATAATTAATAACTAATTACTGT\n",
      "str45: TGCATGCTTAGTGCACTCACGCAGTATAATTAATAACTAATTACTGTCGT\n",
      "str46: TTCCACAACTTTCCACCAAGCTCTGCAAGATCCCAGAGTCAGGGGCCTGT\n",
      "str47: TCTAAACGAACTTTAAAATCTGTGTGGCTGTCACTCGGCTGCATGCTTAG\n",
      "str48: ACCGGATGGCCGCGATTTTTCGGAGTCCTTGGGGGACCACTCAGAATAGA\n",
      "str49: CTTGTAGATCTGTTCTCTAAACGAACTTTAAAATCTGTGTGGCTGTCACT\n",
      "str50: ATGAGCACTAAGCGAAGAACCAAAAAGCAGACAATACAACCCGCTATTAC\n",
      "\n",
      "--- Solution not found ---\n"
     ]
    }
   ],
   "source": [
    "_instance = instance_07\n",
    "_solution = solution_07\n",
    "\n",
    "util.show(_instance)\n",
    "if _solution is not None:\n",
    "    util.show(_instance, _solution)\n",
    "    print(f\"solution is feasible: {util.is_feasible(_instance, _solution)}\")\n",
    "else:\n",
    "    print(\"--- Solution not found ---\")"
   ]
  },
  {
   "cell_type": "code",
   "execution_count": null,
   "id": "Vxnm",
   "metadata": {},
   "outputs": [],
   "source": [
    "instance_08 = util.parse(\"protein_n010k010.txt\")\n",
    "solution_08 = solve(instance_08)"
   ]
  },
  {
   "cell_type": "code",
   "execution_count": null,
   "id": "DnEU",
   "metadata": {},
   "outputs": [
    {
     "name": "stdout",
     "output_type": "stream",
     "text": [
      "--- Condition (with 19 chars) ---\n",
      "str01: MALSYCPKGT\n",
      "str02: MQSSLNAIPV\n",
      "str03: MPLSYQHFRK\n",
      "str04: MEEHVNELHD\n",
      "str05: MSNFDAIRAL\n",
      "str06: MFRNQNSRNG\n",
      "str07: MFYAHAFGGY\n",
      "str08: MSKFTRRPYQ\n",
      "str09: MSFVAGVTAQ\n",
      "str10: MESLVPGFNE\n",
      "\n",
      "--- Solution (of length 46) ---\n",
      "  Sol: MEQSKFPTRNSALSEYQNFSRDNAVIHACPGVFRKGTANEGLYHDQ\n",
      "str01: M----------ALS-Y------------CP----KGT---------\n",
      "str02: M-QS------S-L----N-----A-I---P-V--------------\n",
      "str03: M-----P-----LS-YQ---------H-----FRK-----------\n",
      "str04: ME------------E-----------H----V------NE-L-HD-\n",
      "str05: M--S-----N--------F--D-A-I-------R---A---L----\n",
      "str06: M----F--RN------QN-SR-N-------G---------------\n",
      "str07: M----F---------Y-------A--HA----F--G----G-Y---\n",
      "str08: M--SKF-TR-----------R--------P------------Y--Q\n",
      "str09: M--S-F------------------V--A--GV----TA-------Q\n",
      "str10: ME-S--------L-----------V----PG-F-----NE------\n",
      "\n",
      "solution is feasible: True\n"
     ]
    }
   ],
   "source": [
    "_instance = instance_08\n",
    "_solution = solution_08\n",
    "\n",
    "util.show(_instance)\n",
    "if _solution is not None:\n",
    "    util.show(_instance, _solution)\n",
    "    print(f\"solution is feasible: {util.is_feasible(_instance, _solution)}\")\n",
    "else:\n",
    "    print(\"--- Solution not found ---\")"
   ]
  },
  {
   "cell_type": "code",
   "execution_count": null,
   "id": "ulZA",
   "metadata": {},
   "outputs": [],
   "source": [
    "instance_09 = util.parse(\"protein_n050k050.txt\")\n",
    "solution_09 = solve(instance_09)    "
   ]
  },
  {
   "cell_type": "code",
   "execution_count": null,
   "id": "ecfG",
   "metadata": {},
   "outputs": [
    {
     "name": "stdout",
     "output_type": "stream",
     "text": [
      "--- Condition (with 20 chars) ---\n",
      "str01: MRHLNIDIETYSSNDIKNGVYKYADAEDFEILLFAYSIDGGEVECLDLTR\n",
      "str02: MERRAHRTHQNWDATKPRERRKQTQHRLTHPDDSIYPRIEKAEGRKEDHG\n",
      "str03: MEPGAFSTALFDALCDDILHRRLESQLRFGGVQIPPEVSDPRVYAGYALL\n",
      "str04: MGKFYYSNRRLAVFAQAQSRHLGGSYEQWLACVSGDSAFRAEVKARVQKD\n",
      "str05: FFRENLAFQQGKAREFPSEEARANSPTSRELWVRRGGNPLSEAGAERRGT\n",
      "str06: MDPSLTQVWAVEGSVLSAAVDTAETNDTEPDEGLSAENEGETRIIRITGS\n",
      "str07: MAFDFSVTGNTKLDTSGFTQGVSSMTVAAGTLIADLVKTASSQLTNLAQS\n",
      "str08: MAVILPSTYTDGTAACTNGSPDVVGTGTMWVNTILPGDFFWTPSGESVRV\n",
      "str09: MNTGIIDLFDNHVDSIPTILPHQLATLDYLVRTIIDENRSVLLFHIMGSG\n",
      "str10: MFVFLVLLPLVSSQCVNLRTRTQLPPAYTNSFTRGVYYPDKVFRSSVLHS\n",
      "str11: MDSKETILIEIIPKIKSYLLDTNISPKSYNDFISRNKNIFVINLYNVSTI\n",
      "str12: MLLSGKKKMLLDNYETAAARGRGGDERRRGWAFDRPAIVTKRDKSDRMAH\n",
      "str13: MNGEEDDNEQAAAEQQTKKAKREKPKQARKVTSEAWEHFDATDDGAECKH\n",
      "str14: MESLVPGFNEKTHVQLSLPVLQVRDVLVRGFGDSVEEVLSEARQHLKDGT\n",
      "str15: MRYIVSPQLVLQVGKGQEVERALYLTPYDYIDEKSPIYYFLRSHLNIQRP\n",
      "str16: MPRVPVYDSPQVSPNTVPQARLATPSFATPTFRGADAPAFQDTANQQARQ\n",
      "str17: MFVFLVLLPLVSSQCVNLRTRTQLPLAYTNSFTRGVYYPDKVFRSSVLHS\n",
      "str18: MFVFFVLLPLVSSQCVNLTTRTQLPPAYTNSFTRGVYYPDKVFRSSVLHS\n",
      "str19: MEAIISFAGIGINYKKLQSKLQHDFGRVLKALTVTARALPGQPKHIAIRQ\n",
      "str20: MASSGPERAEHQIILPESHLSSPLVKHKLLYYWKLTGLPLPDECDFDHLI\n",
      "str21: MESLVPGFNEKTHVQLSLPVLQVRDVLVRGFGDSVEEVLSEVRQHLKDGT\n",
      "str22: MLAPSPNSKIQLFNNINIDINYEHTLYFASVSAQNSFFAQWVVYSADKAI\n",
      "str23: MSAITETKPTIELPALAEGFQRYNKTPGFTCVLDRYDHGVINDSKIVLYN\n",
      "str24: MKNIAEFKKAPELAEKLLEVFSNLKGNSRSLDPMRAGKHDVVVIESTKKL\n",
      "str25: MPQPLKQSLDQSKWLREAEKHLRALESLVDSNLEEEKLKPQLSMGEDVQS\n",
      "str26: MFVFLVLLPLVSSQCVNLITRTQSYTNSFTRGVYYPDKVFRSSVLHSTQD\n",
      "str27: MKFDVLSLFAPWAKVDEQEYDQQLNNNLESITAPKFDDGATEIESERGDI\n",
      "str28: MFVFLVLLPLVSSQCVNFTNRTQLPSAYTNSFTRGVYYPDKVFRSSVLHS\n",
      "str29: MWSIIVLKLISIQPLLLVTSLPLYNPNMDSCCLISRITPELAGKLTWIFI\n",
      "str30: MESLVPGFNEKTHVQLSLPVLQVRDVLVRGFGDSVEEFLSEARQHLKDGT\n",
      "str31: MFVFLVLLPLVSSQCVMPLFNLITTTQSYTNFTRGVYYPDKVFRSSVLHL\n",
      "str32: MHQITVVSGPTEVSTCFGSLHPFQSLKPVMANALGVLEGKMFCSIGGRSL\n",
      "str33: MATLLRSLALFKRNKDKPPITSGSGGAIRGIKHIIIVPIPGDSSITTRSR\n",
      "str34: MESLVPGFNEKTHVQLSLPVLQVRDVLVRGFGDSMEEVLSEARQHLKDGT\n",
      "str35: MFVFLVLLPLVSSQCVNLTTGTQLPPAYTNSFTRGVYYPDKVFRSSVLHS\n",
      "str36: MANIINLWNGIVPMVQDVNVASITAFKSMIDETWDKKIEANTCISRKHRN\n",
      "str37: MLNRIQTLMKTANNYETIEILRNYLRLYIILARNEEGRGILIYDDNIDSV\n",
      "str38: MADPAGTNGEEGTGCNGWFYVEAVVEKKTGDAISDDENENDSDTGEDLVD\n",
      "str39: MFVFLVLLPLVSSQCVNLRTRTQLPPSYTNSFTRGVYYPDKVFRSSVLHS\n",
      "str40: MESLVPGFNEKTHVQLSLPVLQVCDVLVRGFGDSVEEVLSEARQHLKDGT\n",
      "str41: MNNQRKKTARPSFNMLKRARNRVSTVSQLAKRFSKGLLSGQGPMKLVMAF\n",
      "str42: MSNFDAIRALVDTDAYKLGHIHMYPEGTEYVLSNFTDRGSRIEGVTHTVH\n",
      "str43: MIELRHEVQGDLVTINVVETPEDLDGFRDFIRAHLICLAVDTETTGLDIY\n",
      "str44: MFVFLVLLPLVSSQCVMPLFNLITTNQSYTNSFTRGVYYPDKVFRSSVLH\n",
      "str45: MSKDLVARQALMTARMKADFVFFLFVLWKALSLPVPTRCQIDMAKKLSAG\n",
      "str46: MASLLKSLTLFKRTRDQPPLASGSGGAIRGIKHVIIVLIPGDSSIVTRSR\n",
      "str47: MRVRGILRNWQQWWIWTSLGFWMFMICSVVGNLWVTVYYGVPVWKEAKTT\n",
      "str48: MAVEPFPRRPITRPHASIEVDTSGIGGSAGSSEKVFCLIGQAEGGEPNTV\n",
      "str49: MFYAHAFGGYDENLHAFPGISSTVANDVRKYSVVSVYNKKYNIVKNKYMW\n",
      "str50: MANYSKPFLLDIVFNKDIKCINDSCSHSDCRYQSNSYVELRRNQALNKNL\n",
      "\n",
      "--- Solution not found ---\n"
     ]
    }
   ],
   "source": [
    "_instance = instance_09\n",
    "_solution = solution_09\n",
    "\n",
    "util.show(_instance)\n",
    "if _solution is not None:\n",
    "    util.show(_instance, _solution)\n",
    "    print(f\"solution is feasible: {util.is_feasible(_instance, _solution)}\")\n",
    "else:\n",
    "    print(\"--- Solution not found ---\")"
   ]
  }
 ],
 "metadata": {},
 "nbformat": 4,
 "nbformat_minor": 5
}
