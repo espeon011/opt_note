{
 "cells": [
  {
   "cell_type": "code",
   "execution_count": null,
   "id": "setup",
   "metadata": {
    "marimo": {
     "name": "setup"
    }
   },
   "outputs": [],
   "source": [
    "from ortools.sat.python import cp_model\n",
    "import util"
   ]
  },
  {
   "cell_type": "code",
   "execution_count": null,
   "id": "Hbol",
   "metadata": {},
   "outputs": [],
   "source": [
    "import marimo as mo\n",
    "import nbformat"
   ]
  },
  {
   "cell_type": "markdown",
   "id": "MJUe",
   "metadata": {
    "marimo": {
     "config": {
      "hide_code": true
     }
    }
   },
   "source": [
    "# オートマトン制約を用いた数理計画モデル"
   ]
  },
  {
   "cell_type": "markdown",
   "id": "vblA",
   "metadata": {},
   "source": [
    "CP-SAT 固有のオートマトン制約を用いて定式化してみる.\n",
    "\n",
    "**定数**\n",
    "\n",
    "- $\\Sigma = \\{ \\sigma_1, \\dots, \\sigma_q \\}$: 文字の集合\n",
    "\n",
    "**決定変数**\n",
    "\n",
    "- $x_i \\in \\mathbb{Z}$: 解において $i$ 番目の文字が $\\sigma_j$ であれば $j$ となる.\n",
    "  どの文字も対応しないとき $0$.\n",
    "  このとき解は $\\sigma_{x_0} \\sigma_{x_1} \\dots$ となる.\n",
    "  ただし $\\sigma_0$ は空文字列とする.\n",
    "\n",
    "- $v_i \\in \\{ 0, 1 \\}$: 解の $i$ 番目が空でないとき $1$. 空のとき $0$.\n",
    "\n",
    "**制約条件**\n",
    "\n",
    "- $x_i > 0 \\Rightarrow v_i = 1$\n",
    "- 与えられた文字列 $s \\in S$ の各文字を $\\Sigma$ を基準にインデックスの配列としたものを $\\mathrm{index}_s$ とする.\n",
    "  $\\mathrm{index}_s$ を部分配列にもつすべての配列を受理するオートマトンを文字列の数だけ作成し,\n",
    "  $\\{ x_i \\}_i$ が受理されるという制約を課す.\n",
    "\n",
    "**目的関数**\n",
    "\n",
    "- minimize $\\Sigma_{i} v_i$"
   ]
  },
  {
   "cell_type": "code",
   "execution_count": null,
   "id": "bkHC",
   "metadata": {
    "marimo": {
     "name": "*Model"
    }
   },
   "outputs": [],
   "source": [
    "class Model:\n",
    "    def __init__(self, instance: list[str]):\n",
    "        max_len = sum(len(s) for s in instance)\n",
    "        chars = sorted(list(set(\"\".join(instance))))\n",
    "\n",
    "        cpmodel = cp_model.CpModel()\n",
    "\n",
    "        cvars = [\n",
    "            cpmodel.new_int_var(lb=0, ub=len(chars), name=\"\")\n",
    "            for _ in range(max_len)\n",
    "        ]\n",
    "\n",
    "        for s in instance:\n",
    "            transition_triples = (\n",
    "                [\n",
    "                    (idx, jdx + 1, (idx + 1 if c == next_char else idx))\n",
    "                    for idx, next_char in enumerate(s)\n",
    "                    for jdx, c in enumerate(chars)\n",
    "                ]\n",
    "                + [(idx, 0, idx) for idx, _ in enumerate(s)]\n",
    "                + [(len(s), 0, len(s))]\n",
    "                + [(len(s), jdx + 1, len(s)) for jdx, _ in enumerate(chars)]\n",
    "            )\n",
    "            cpmodel.add_automaton(\n",
    "                transition_expressions=cvars,\n",
    "                starting_state=0,\n",
    "                final_states=[len(s)],\n",
    "                transition_triples=transition_triples,\n",
    "            )\n",
    "\n",
    "        valids = [cpmodel.new_bool_var(\"\") for _ in cvars]\n",
    "        for cvar, valid in zip(cvars, valids):\n",
    "            cpmodel.add(cvar == 0).only_enforce_if(~valid)\n",
    "        cpmodel.minimize(sum(valids))\n",
    "\n",
    "        self.instance = instance\n",
    "        self.chars = chars\n",
    "        self.cpmodel = cpmodel\n",
    "        self.cpsolver = cp_model.CpSolver()\n",
    "        self.cvars = cvars\n",
    "\n",
    "    def solve(self, time_limit: int | None = 60, log: bool = False) -> \"Model\":\n",
    "        self.cpsolver.parameters.log_search_progress = log\n",
    "        if time_limit is not None:\n",
    "            self.cpsolver.parameters.max_time_in_seconds = time_limit\n",
    "        self.status = self.cpsolver.solve(self.cpmodel)\n",
    "\n",
    "        return self\n",
    "\n",
    "    def to_solution(self) -> str | None:\n",
    "        if self.status not in {cp_model.cp_model_pb2.OPTIMAL, cp_model.cp_model_pb2.FEASIBLE}:\n",
    "            return None\n",
    "\n",
    "        solution = \"\"\n",
    "        for cvar in self.cvars:\n",
    "            cidx = self.cpsolver.value(cvar) - 1\n",
    "            if cidx >= 0:\n",
    "                solution += self.chars[cidx]\n",
    "\n",
    "        return solution"
   ]
  },
  {
   "cell_type": "code",
   "execution_count": null,
   "id": "lEQa",
   "metadata": {
    "marimo": {
     "name": "*solve"
    }
   },
   "outputs": [],
   "source": [
    "def solve(instance: list[str], time_limit: int | None = 60, log: bool = False) -> str | None:\n",
    "    return Model(instance).solve(time_limit, log).to_solution()"
   ]
  },
  {
   "cell_type": "code",
   "execution_count": null,
   "id": "PKri",
   "metadata": {},
   "outputs": [],
   "source": [
    "instance_01 = util.parse(\"uniform_q26n004k015-025.txt\")\n",
    "solution_01 = solve(instance_01)"
   ]
  },
  {
   "cell_type": "code",
   "execution_count": null,
   "id": "Xref",
   "metadata": {},
   "outputs": [
    {
     "name": "stdout",
     "output_type": "stream",
     "text": [
      "--- Condition (with 25 chars) ---\n",
      "str1: tkgnkuhmpxnhtqgxzvxis\n",
      "str2: iojiqfolnbxxcvsuqpvissbxf\n",
      "str3: ulcinycosovozpplp\n",
      "str4: igevazgbrddbcsvrvnngf\n",
      "\n",
      "--- Solution (of length 65) ---\n",
      " Sol: ulcignevazgbrdydbcosjoviqfotlnzkbxxgpcrvnksuhmpxlnhtqgxzpvxissbxf\n",
      "str1: ---------------------------t---k---g----nk-uhmpx-nhtqgxz-vxis----\n",
      "str2: ---i--------------o-j--iqfo-ln--bxx--c-v--su--------q---pv-issbxf\n",
      "str3: ulci-n--------y--cos-ov---o---z-----p---------p-l-------p--------\n",
      "str4: ---ig-evazgbrd-dbc-s--v---------------rvn--------n---g----------f\n",
      "\n",
      "solution is feasible: True\n"
     ]
    }
   ],
   "source": [
    "_instance = instance_01\n",
    "_solution = solution_01\n",
    "\n",
    "util.show(_instance)\n",
    "if _solution is not None:\n",
    "    util.show(_instance, _solution)\n",
    "    print(f\"solution is feasible: {util.is_feasible(_instance, _solution)}\")\n",
    "else:\n",
    "    print(\"--- Solution not found ---\")"
   ]
  },
  {
   "cell_type": "code",
   "execution_count": null,
   "id": "SFPL",
   "metadata": {},
   "outputs": [],
   "source": [
    "instance_02 = util.parse(\"uniform_q26n008k015-025.txt\")\n",
    "solution_02 = solve(instance_02)"
   ]
  },
  {
   "cell_type": "code",
   "execution_count": null,
   "id": "BYtC",
   "metadata": {},
   "outputs": [
    {
     "name": "stdout",
     "output_type": "stream",
     "text": [
      "--- Condition (with 26 chars) ---\n",
      "str1: tkgnkuhmpxnhtqgxzvxis\n",
      "str2: iojiqfolnbxxcvsuqpvissbxf\n",
      "str3: ulcinycosovozpplp\n",
      "str4: igevazgbrddbcsvrvnngf\n",
      "str5: pyplrzxucpmqvgtdfuivcdsbo\n",
      "str6: pbdevdcvdpfzsmsbroqvbbh\n",
      "str7: enbczfjtvxerzbrvigple\n",
      "str8: rxwxqkrdrlctodtmprpxwd\n",
      "\n",
      "--- Solution (of length 138) ---\n",
      " Sol: tkgnkuhmpxnhtqgiojiqfolnbxxcvsuqplcvinycosgsoevoazgbrddbcpyspvlrvnzxuncpmqvgbtdefuivdcvdpfzsmsnbrczfjtoqvbxerzbrvwigpxqkhrdrlctodtmprpxwed\n",
      "str1: tkgnkuhmpxnhtqg----------x-----------------------z-----------v-----x--------------i--------s----------------------------------------------\n",
      "str2: ---------------iojiqfolnbxxcvsuqp--vi----s-s-------b---------------x------------f---------------------------------------------------------\n",
      "str3: -----u----------------l----c--------inycos--o-vo-z-------p--p-l--------p------------------------------------------------------------------\n",
      "str4: ---------------i--------------------------g--ev-azgbrddbc--s-v-rvn---n-----g----f---------------------------------------------------------\n",
      "str5: --------p-----------------------------y------------------p----lr--zxu-cpmqvg-td-fuiv-c-d---s---b------o-----------------------------------\n",
      "str6: --------p---------------b----------------------------d-------------------------e---vdcvdpfzsms-br-----oqvb----b---------h-----------------\n",
      "str7: ---------------------------------------------e-------------------n----------b--------c----z--------fjt--v-xerzbrv-igp-------l-----------e-\n",
      "str8: ----------------------------------------------------r--------------x---------------------------------------------w---xqk-rdrlctodtmprpxw-d\n",
      "\n",
      "solution is feasible: True\n"
     ]
    }
   ],
   "source": [
    "_instance = instance_02\n",
    "_solution = solution_02\n",
    "\n",
    "util.show(_instance)\n",
    "if _solution is not None:\n",
    "    util.show(_instance, _solution)\n",
    "    print(f\"solution is feasible: {util.is_feasible(_instance, _solution)}\")\n",
    "else:\n",
    "    print(\"--- Solution not found ---\")"
   ]
  },
  {
   "cell_type": "code",
   "execution_count": null,
   "id": "RGSE",
   "metadata": {},
   "outputs": [],
   "source": [
    "instance_03 = util.parse(\"uniform_q26n016k015-025.txt\")\n",
    "solution_03 = solve(instance_03)"
   ]
  },
  {
   "cell_type": "code",
   "execution_count": null,
   "id": "Kclp",
   "metadata": {},
   "outputs": [
    {
     "name": "stdout",
     "output_type": "stream",
     "text": [
      "--- Condition (with 26 chars) ---\n",
      "str01: tkgnkuhmpxnhtqgxzvxis\n",
      "str02: iojiqfolnbxxcvsuqpvissbxf\n",
      "str03: ulcinycosovozpplp\n",
      "str04: igevazgbrddbcsvrvnngf\n",
      "str05: pyplrzxucpmqvgtdfuivcdsbo\n",
      "str06: pbdevdcvdpfzsmsbroqvbbh\n",
      "str07: enbczfjtvxerzbrvigple\n",
      "str08: rxwxqkrdrlctodtmprpxwd\n",
      "str09: kkqafigqjwokkskrblg\n",
      "str10: lxxpabivbvzkozzvd\n",
      "str11: krifsavncdqwhzc\n",
      "str12: qaxudgqvqcewbfgijowwy\n",
      "str13: rsxqjnfpadiusiqbezhkohmg\n",
      "str14: iwshvhcomiuvddm\n",
      "str15: htxxqjzqbctbakn\n",
      "str16: xusfcfzpeecvwantfmgqzu\n",
      "\n",
      "--- Solution (of length 245) ---\n",
      "  Sol: tkgnkuhmpxnhiojiqfolnbxxulcinycosovoigevazgbrddbcsvpyplrzxucpmqvgtdfupbdevdcvdpfzsmsenbczfjtvxerzbrvigxwxqkrdrlctodtmpkkqafigqjwokkskrblxxpabivbvzkozrifsavnqaxudgqvqcewbfgijowwysxqjnfpadiusiqbezhkwshvhcomiuvddhtxxqjzqbctbakxusfcfzpeecvwantfmgqzu\n",
      "str01: tkgnkuhmpxnh-----------------------------------------------------t---------------------------------------q------------------g-----------x--------z--------v---x------------i-----s-------------------------------------------------------------------\n",
      "str02: ------------iojiqfolnbxx--c-------v--------------s--------u---q------p---v--------------------------i------------------------------s--------------------s---------------b---------x---f--------------------------------------------------------------\n",
      "str03: -----u-------------l------cinycosovo-----z---------p-pl-----p----------------------------------------------------------------------------------------------------------------------------------------------------------------------------------------\n",
      "str04: ------------i------------------------gevazgbrddbcsv----r-------v---------------------n---------------------------------------------------------------------n-----g-------f---------------------------------------------------------------------------\n",
      "str05: --------p--------------------y---------------------p--lrzxucpmqvgtdfu-------------------------------i-----------------------------------------v----------------------c-------------------d--s--b----------o------------------------------------------\n",
      "str06: --------p------------b-----------------------d--------------------------evdcvdpfzsms--b--------r-----------------o------q---------------------vb------------------------b-------------------------h--------------------------------------------------\n",
      "str07: --------------------------------------e----------------------------------------------nbczfjtvxerzbrvig---------------p-----------------l------------------------------e------------------------------------------------------------------------------\n",
      "str08: --------------------------------------------r------------x---------------------------------------------wxqkrdrlctodtmp---------------r----p-------------------x--------w-----------------d-----------------------------------------------------------\n",
      "str09: -k--k-----------q-----------------------a--------------------------f--------------------------------ig---q--------------------jwokkskrbl-------------------------g-----------------------------------------------------------------------------------\n",
      "str10: -------------------l--xx---------------------------p---------------------------------------------------------------------a------------b------ivbvzkoz--------------------------------------------z-----v-------d-------------------------------------\n",
      "str11: -k------------------------------------------r-------------------------------------------------------i---------------------f--------s-------a--v------------n---------c-------------------d----q-----w-h----------------z--c--------------------------\n",
      "str12: ----------------q-----------------------a----------------xu-------d----------------------------------g---q------------------------------------v-------------q--------cewbfgijowwy--------------------------------------------------------------------\n",
      "str13: --------------------------------------------r----s-------x----q---------------------------j----------------------------------------------------------------n-------------f-------------padiusiqbezhk------o------h------------------------------mg---\n",
      "str14: ------------i------------------------------------------------------------------------------------------w---------------------------s--------------------------------------------------------------h----vhcomiuvdd-------------------------------m----\n",
      "str15: ------h----------------------------------------------------------t---------------------------x--------x--q--------------------j------------------z----------q-----------b--------------------------------c--------t------b---ak--------------n-------\n",
      "str16: ---------x--------------u-------s----------------------------------f-------c---fz------------------------------------p------------------------------------------------e-------------------------e--------c----v----------------------------wantfm"
     ]
    },
    {
     "name": "stdout",
     "output_type": "stream",
     "text": [
      "gqzu\n",
      "\n",
      "solution is feasible: True\n"
     ]
    }
   ],
   "source": [
    "_instance = instance_03\n",
    "_solution = solution_03\n",
    "\n",
    "util.show(_instance)\n",
    "if _solution is not None:\n",
    "    util.show(_instance, _solution)\n",
    "    print(f\"solution is feasible: {util.is_feasible(_instance, _solution)}\")\n",
    "else:\n",
    "    print(\"--- Solution not found ---\")"
   ]
  },
  {
   "cell_type": "code",
   "execution_count": null,
   "id": "emfo",
   "metadata": {},
   "outputs": [],
   "source": [
    "instance_04 = util.parse(\"uniform_q05n010k010-010.txt\")\n",
    "solution_04 = solve(instance_04)"
   ]
  },
  {
   "cell_type": "code",
   "execution_count": null,
   "id": "Hstk",
   "metadata": {},
   "outputs": [
    {
     "name": "stdout",
     "output_type": "stream",
     "text": [
      "--- Condition (with 5 chars) ---\n",
      "str01: dcbccdbcce\n",
      "str02: bddbeeeebd\n",
      "str03: cacdeecebe\n",
      "str04: aeddddebdd\n",
      "str05: acbeecabce\n",
      "str06: bbabebdcba\n",
      "str07: bbaeaebada\n",
      "str08: eeeecbdbee\n",
      "str09: ccdeedadcd\n",
      "str10: bdabdbeaad\n",
      "\n",
      "--- Solution (of length 30) ---\n",
      "  Sol: bcdaecdbecdecadbeadcebadcbeead\n",
      "str01: --d--c-b-c--c-db---c----c-e---\n",
      "str02: b-d---dbe--e----e---eb-d------\n",
      "str03: -c-a-cd-e--ec---e----b----e---\n",
      "str04: ---ae-d---d---d---d-eb-d-----d\n",
      "str05: ---a-c-be--eca-b---ce---------\n",
      "str06: b------b-----a-be----b-dcb--a-\n",
      "str07: b------b-----a--ea--ebad----a-\n",
      "str08: ----e---e--e----e--c-b-d-bee--\n",
      "str09: -c---cd-e--e--d--adc---d------\n",
      "str10: b-da---b--d----bea----ad------\n",
      "\n",
      "solution is feasible: True\n"
     ]
    }
   ],
   "source": [
    "_instance = instance_04\n",
    "_solution = solution_04\n",
    "\n",
    "util.show(_instance)\n",
    "if _solution is not None:\n",
    "    util.show(_instance, _solution)\n",
    "    print(f\"solution is feasible: {util.is_feasible(_instance, _solution)}\")\n",
    "else:\n",
    "    print(\"--- Solution not found ---\")"
   ]
  },
  {
   "cell_type": "code",
   "execution_count": null,
   "id": "nWHF",
   "metadata": {},
   "outputs": [],
   "source": [
    "instance_05 = util.parse(\"uniform_q05n050k010-010.txt\")\n",
    "solution_05 = solve(instance_05)"
   ]
  },
  {
   "cell_type": "code",
   "execution_count": null,
   "id": "iLit",
   "metadata": {},
   "outputs": [
    {
     "name": "stdout",
     "output_type": "stream",
     "text": [
      "--- Condition (with 5 chars) ---\n",
      "str01: dcbccdbcce\n",
      "str02: bddbeeeebd\n",
      "str03: cacdeecebe\n",
      "str04: aeddddebdd\n",
      "str05: acbeecabce\n",
      "str06: bbabebdcba\n",
      "str07: bbaeaebada\n",
      "str08: eeeecbdbee\n",
      "str09: ccdeedadcd\n",
      "str10: bdabdbeaad\n",
      "str11: ededaaaeaa\n",
      "str12: aaeaabeeac\n",
      "str13: eaabcaccdb\n",
      "str14: bdeeadeade\n",
      "str15: caedadeeed\n",
      "str16: ebcadbabbe\n",
      "str17: ddceeabdea\n",
      "str18: dabcddeaec\n",
      "str19: aadceedaab\n",
      "str20: aeecceeeaa\n",
      "str21: bbdaecaade\n",
      "str22: dacedaedab\n",
      "str23: aaeabbbbce\n",
      "str24: dedbcbcaab\n",
      "str25: dbdaaebbcb\n",
      "str26: debedbebac\n",
      "str27: ceebcdcbde\n",
      "str28: dbedaadaab\n",
      "str29: cccdcbebdc\n",
      "str30: aeeacdbcbd\n",
      "str31: dacbeacccd\n",
      "str32: ecebccdbdb\n",
      "str33: ddbbcedabb\n",
      "str34: aaeabaaeba\n",
      "str35: ecbbcaadcd\n",
      "str36: debccecdbc\n",
      "str37: daacbaeebc\n",
      "str38: adabeaacce\n",
      "str39: daecdbacaa\n",
      "str40: dacbbdcedc\n",
      "str41: dedbeebbde\n",
      "str42: cdadcdcdaa\n",
      "str43: ceedcbaeed\n",
      "str44: ceaecaaaca\n",
      "str45: dcccebbbad\n",
      "str46: baeeaebbde\n",
      "str47: dbdebaccdb\n",
      "str48: ebcbeedaea\n",
      "str49: aeeebbdbca\n",
      "str50: dbdabcecbb\n",
      "\n",
      "--- Solution (of length 42) ---\n",
      "  Sol: dacebaedacebabcdbaedcbbcaedbacdaebdeabacde\n",
      "str01: d-c-b----c----cdb---c--c-e----------------\n",
      "str02: ----b--d-------db-e------e------e--e-b--d-\n",
      "str03: --c--a---c-----d--e------e---c--eb-e------\n",
      "str04: -a-e---d-------d---d------d-----ebd-----d-\n",
      "str05: -ac-b-e---e---c--a---b-c-e----------------\n",
      "str06: ----b------bab----e--b----d--c---b--a-----\n",
      "str07: ----b------ba-----e-----ae-ba-da----------\n",
      "str08: ---e--e---e-------e-cb----db----e--e------\n",
      "str09: --c------c-----d--e------ed-a-d--------cd-\n",
      "str10: ----b--da--b---db-e-----a---a-d-----------\n",
      "str11: ---e---d--e----d-a------a---a---e---a-a---\n",
      "str12: -a---ae-a---ab----e------e--ac------------\n",
      "str13: ---e-a--a--b--c--a--c--c--db--------------\n",
      "str14: ----b--d--e-------e-----a-d-----e---a---de\n",
      "str15: --c--aeda------d--e------e------e-d-------\n",
      "str16: ---eb----c--a--dba---bb--e----------------\n",
      "str17: d------d-ce-------e-----a--b--d-e---a-----\n",
      "str18: da--b----c-----d---d-----e--a---e------c--\n",
      "str19: -a---a-d-ce-------ed----a---a----b--------\n",
      "str20: -a-e--e--c----c---e------e------e---a-a---\n",
      "str21: ----b------b---d-ae-c---a---a-d-e---------\n",
      "str22: dace---da-e----d-a---b--------------------\n",
      "str23: -a---ae-a--b-b--b----b-c-e----------------\n",
      "str24: d--e---d---b--c-b---c---a---a----b--------\n",
      "str25: d---b--da---a-----e--bbc---b--------------\n",
      "str26: d--eb-ed---b------e--b--a----c------------\n",
      "str27: --ce--e----b--cd----cb----d-----e---------\n",
      "str28: d---b-eda---a--d-a------a--b--------------\n",
      "str29: --c------c----cd----cb---e-b--d--------c--\n",
      "str30: -a-e--e-ac-----db---cb----d---------------\n",
      "str31: dac-b-e-ac----c-----c-----d---------------\n",
      "str32: ---e-----ceb--c-----c-----db--d--b--------\n",
      "str33: d------d---b-bc---ed----a--b-----b--------\n",
      "str34: -a---ae-a--ba----ae--b--a-----------------\n",
      "str35: ---e-----c-b-bc--a------a-d--cd-----------\n",
      "str36: d--eb----c----c---e-c-----db-c------------\n",
      "str37: da---a---c-ba-----e------e-b-c------------\n",
      "str38: -a-----da--b------e-----a---ac---------c-e\n",
      "str39: da-e-----c-----dba--c---a---a-------------\n",
      "str40: dac-b------b---d----c----ed--c------------\n",
      "str41: d--e---d---b------e------e-b-----bde------\n",
      "str42: --c----da------d----c-----d--cda----a-----\n",
      "str43: --ce--ed-c-ba-----e------ed---------------\n",
      "str44: --ce-ae--c--a----a------a----c-a----------\n",
      "str45: d-c------c----c---e--bb----ba-d-----------\n",
      "str46: ----bae---e-a-----e--bb---d-----e---------\n",
      "str47: d---b--d--eba-c-----c-----db--------------\n",
      "str48: ---eb----c-b------e------ed-a---e---a-----\n",
      "str49: -a-e--e---eb-b-db---c---a-----------------\n",
      "str50: d---b--da--b--c---e-cbb-------------------\n",
      "\n",
      "solution is feasible: True\n"
     ]
    }
   ],
   "source": [
    "_instance = instance_05\n",
    "_solution = solution_05\n",
    "\n",
    "util.show(_instance)\n",
    "if _solution is not None:\n",
    "    util.show(_instance, _solution)\n",
    "    print(f\"solution is feasible: {util.is_feasible(_instance, _solution)}\")\n",
    "else:\n",
    "    print(\"--- Solution not found ---\")"
   ]
  },
  {
   "cell_type": "code",
   "execution_count": null,
   "id": "ZHCJ",
   "metadata": {},
   "outputs": [],
   "source": [
    "instance_06 = util.parse(\"nucleotide_n010k010.txt\")\n",
    "solution_06 = solve(instance_06)"
   ]
  },
  {
   "cell_type": "code",
   "execution_count": null,
   "id": "ROlb",
   "metadata": {},
   "outputs": [
    {
     "name": "stdout",
     "output_type": "stream",
     "text": [
      "--- Condition (with 4 chars) ---\n",
      "str01: ATGGGATACG\n",
      "str02: ATACCTTCCC\n",
      "str03: CACGAATTGA\n",
      "str04: TAAAATCTGT\n",
      "str05: AGGTAACAAA\n",
      "str06: TTCCTAGGTA\n",
      "str07: TTGTAGATCT\n",
      "str08: TGGGAAGTTC\n",
      "str09: TTCCACAACT\n",
      "str10: TCTAAACGAA\n",
      "\n",
      "--- Solution (of length 25) ---\n",
      "  Sol: ATGGTCGACACTAGAATCTCGTAAC\n",
      "str01: ATGG--GA---TA----C--G----\n",
      "str02: AT-----AC-CT----TC-C----C\n",
      "str03: -----C-AC----GAAT-T-G-A--\n",
      "str04: -T-----A-A--A-A-TCT-GT---\n",
      "str05: A-GGT--A-AC-A-AA---------\n",
      "str06: -T--TC--C--TAG------GTA--\n",
      "str07: -T--T-G----TAGA-TCT------\n",
      "str08: -TGG--GA-A---G--T-TC-----\n",
      "str09: -T--TC--CAC-A-A--CT------\n",
      "str10: -T---C-----TA-AA-C--G-AA-\n",
      "\n",
      "solution is feasible: True\n"
     ]
    }
   ],
   "source": [
    "_instance = instance_06\n",
    "_solution = solution_06\n",
    "\n",
    "util.show(_instance)\n",
    "if _solution is not None:\n",
    "    util.show(_instance, _solution)\n",
    "    print(f\"solution is feasible: {util.is_feasible(_instance, _solution)}\")\n",
    "else:\n",
    "    print(\"--- Solution not found ---\")"
   ]
  },
  {
   "cell_type": "code",
   "execution_count": null,
   "id": "qnkX",
   "metadata": {},
   "outputs": [],
   "source": [
    "instance_07 = util.parse(\"nucleotide_n050k050.txt\")\n",
    "solution_07 = solve(instance_07)"
   ]
  },
  {
   "cell_type": "code",
   "execution_count": null,
   "id": "TqIu",
   "metadata": {},
   "outputs": [
    {
     "name": "stdout",
     "output_type": "stream",
     "text": [
      "--- Condition (with 5 chars) ---\n",
      "str01: TAGTAGTAGACTCCGGAAGTGACAAACCCTGAAAAGAATGGATAAATATA\n",
      "str02: GGATAAACACTCCCGAAAATAATTTGACTTAAACAACGCGACAGTTCAAG\n",
      "str03: ATACCTTCCTAGGTAACAAACCAACCAACTTTTGATCTCTTGTAGATCTG\n",
      "str04: TAAATTATAATCTTATACTAGTAAAAAATAGGGTGTAACCGAAAACGGTC\n",
      "str05: TTAAAACAGCCTGTGGGTTGCACCCACTCACAGGGCCCACTGGGCGCAAG\n",
      "str06: ATGACTTCCAATGGATCCCAACCTCAAGCTTCCACCCCAATGGTTTCAGC\n",
      "str07: AACAAACCAACCAACTTTTGATCTCTTGTAGATCTGTTCTCTAAACGAAC\n",
      "str08: ATGAAAACGAAAATTATTATCAAGGGTATGGAAGTGGAAGCTGACGAAAT\n",
      "str09: ACTCGGCTGCATGCTTAGTGCACTCACGCAGTATAATTAATAACTAATTA\n",
      "str10: TTGTAGATCTGTTCTCTAAACGAACTTTAAAATCTGTGTGGCTGTCACTC\n",
      "str11: GCAGAGCATTTTCTAATATCCACAAAATGAAGGCAATAATTGTACTACTC\n",
      "str12: ATGAGCCAAGATCCGACGAAGAGCCCCAAGGAGGAGAAGGAGGGACCCCC\n",
      "str13: TCTCACAGTTCAAGAACCCAAAGTACCCCCCATAGCCCTCTTAAAGCCAC\n",
      "str14: AGGTTTATACCTTCCTAGGTAACAAACCAACCAACTTTCGATCTCTTGTA\n",
      "str15: AGGTTTATACCTTCCCAGGTAACAAACCAACCAACTTTCGATCTCTTGTA\n",
      "str16: TAAAACAACTCAATACAACATAAGAAAATCAACGCAAAAACACTCACAAA\n",
      "str17: CCGCCCATTTGGGCGGCTCTCGAGCGATAGCTCGTCGAATCCCTCGACCT\n",
      "str18: ATACCTTCCCAGGTAACAAACCAACCAACTTTCGATCTCTTGTAGATCTG\n",
      "str19: TCTCACAGTTCAAGAACCTCAAGTCTCCCCCATAGGCCTCTTTCAGTCAG\n",
      "str20: GATCTCTCTCACCGAACCTGGCCCCGGGCAAATGCCCTAATCCAGAGGTG\n",
      "str21: AGAGCAATCAGTGCATCAGAAATATACCTATTATACACTTTGCTAAGAAT\n",
      "str22: AATTAAAACATCTCAATACAACATAAGAAAAACAACGCAAAAACACTCAT\n",
      "str23: AAACGAACTTTAAAATCTGTGTGGCTGTCACTCGGCTGCATGCTTAGTGC\n",
      "str24: ATAACTAATTACTGTCGTTGACAGGACACGAGTAACTCGTCTATCTTCTG\n",
      "str25: ATGAGTGTCACGAATTCACGTACAATGAACTGGATGTTCACGTGGAATAA\n",
      "str26: ACCGTGGGCGAGCGGTGACCGGTGTCTTCCTAGTGGGTCCCACGTTGAAR\n",
      "str27: AAAGGTTTATACCTTCCCAGGTAACAAACCAACCAACTTTCGATCTCTTG\n",
      "str28: AGTAGTTCGCCTGTGTGAGCTGACAAACTTAGTAGTGTTTGTGAGGATTA\n",
      "str29: TTTATACCTTCCTAGGTAACAAACCAACCAACTTTCGATCTCTTGTAGAT\n",
      "str30: ATGCGGTCGTCTCTCCCCGGCTTTTTTTCCCCGCGCCGCGTTGGCGCCGA\n",
      "str31: GTGACAAAAACATAATGGACTCCAACACCATGTCAAGCTTTCAGGTAGAC\n",
      "str32: GTGTAAGAAACAGTAAGCCCGGAAGTGGTGTTTTGCGATTTCGAGGCCGG\n",
      "str33: GAGAATGAGTCTCATTACCGCCCGGTACTTAGCAAGCTAATAGTCACGGC\n",
      "str34: ATGTGGTCGATGCCATGGAGGCCCACCAGTTCATTAAGGCTCCTGGCATT\n",
      "str35: ACGAGCGTTTTAAGGGCCCGCGACTGCGACGGCCACATGGCCCTGTATGT\n",
      "str36: GGTTTATACCTTCCCAGGTAACAAACCAACCAACTTTCGATCTCTTGTAG\n",
      "str37: TGGGAAGTTCCAAAAGATCACAAAACACTACCAGTCAACCTGAAGTACAC\n",
      "str38: GAAGCGTTAACGTGTTGAGGAAAAGACAGCTTAGGAGAACAAGAGCTGGG\n",
      "str39: ACCAGCGCACTTCGGCAGCGGCAGCACCTCGGCAGCACCTCAGCAGCAAC\n",
      "str40: ATGGGACAACTTATTCCTATCATGTGCCAAGAGGTTTTACCCGGTGACCA\n",
      "str41: TTGTAGATCTGTTCTCTAAACGAACTTTAAAATCTGTGTGGTTGTCACTC\n",
      "str42: AACCAACCAACTTTCGATCTCTTGTAGATCTGTTCTCTAAACGAACTTTA\n",
      "str43: GGGTTCTGCCAGGCATAGTCTTTTTTTCTGGCGGCCCTTGTGTAAACCTG\n",
      "str44: GGCTGCATGCTTAGTGCACTCACGCAGTATAATTAATAACTAATTACTGT\n",
      "str45: TGCATGCTTAGTGCACTCACGCAGTATAATTAATAACTAATTACTGTCGT\n",
      "str46: TTCCACAACTTTCCACCAAGCTCTGCAAGATCCCAGAGTCAGGGGCCTGT\n",
      "str47: TCTAAACGAACTTTAAAATCTGTGTGGCTGTCACTCGGCTGCATGCTTAG\n",
      "str48: ACCGGATGGCCGCGATTTTTCGGAGTCCTTGGGGGACCACTCAGAATAGA\n",
      "str49: CTTGTAGATCTGTTCTCTAAACGAACTTTAAAATCTGTGTGGCTGTCACT\n",
      "str50: ATGAGCACTAAGCGAAGAACCAAAAAGCAGACAATACAACCCGCTATTAC\n",
      "\n",
      "--- Solution not found ---\n"
     ]
    }
   ],
   "source": [
    "_instance = instance_07\n",
    "_solution = solution_07\n",
    "\n",
    "util.show(_instance)\n",
    "if _solution is not None:\n",
    "    util.show(_instance, _solution)\n",
    "    print(f\"solution is feasible: {util.is_feasible(_instance, _solution)}\")\n",
    "else:\n",
    "    print(\"--- Solution not found ---\")"
   ]
  },
  {
   "cell_type": "code",
   "execution_count": null,
   "id": "Vxnm",
   "metadata": {},
   "outputs": [],
   "source": [
    "instance_08 = util.parse(\"protein_n010k010.txt\")\n",
    "solution_08 = solve(instance_08)"
   ]
  },
  {
   "cell_type": "code",
   "execution_count": null,
   "id": "DnEU",
   "metadata": {},
   "outputs": [
    {
     "name": "stdout",
     "output_type": "stream",
     "text": [
      "--- Condition (with 19 chars) ---\n",
      "str01: MALSYCPKGT\n",
      "str02: MQSSLNAIPV\n",
      "str03: MPLSYQHFRK\n",
      "str04: MEEHVNELHD\n",
      "str05: MSNFDAIRAL\n",
      "str06: MFRNQNSRNG\n",
      "str07: MFYAHAFGGY\n",
      "str08: MSKFTRRPYQ\n",
      "str09: MSFVAGVTAQ\n",
      "str10: MESLVPGFNE\n",
      "\n",
      "--- Solution (of length 45) ---\n",
      "  Sol: MEQSFPARSNKFLQNDSEYVAICPKGQHVTRAFRKNEPGLGYQHD\n",
      "str01: M-----A-----L---S-Y---CPKG---T---------------\n",
      "str02: M-QS----S---L-N-----AI-P----V----------------\n",
      "str03: M----P------L---S-Y-------QH----FRK----------\n",
      "str04: ME---------------E---------HV------NE--L---HD\n",
      "str05: M--S-----N-F---D----AI--------RA-------L-----\n",
      "str06: M---F--R-N---QN-S-------------R----N--G------\n",
      "str07: M---F-------------Y-A------H---AF-----G-GY---\n",
      "str08: M--S------KF-----------------TR--R---P---YQ--\n",
      "str09: M--SF--------------VA----G--VT-A----------Q--\n",
      "str10: ME-S--------L------V---P-G------F--NE--------\n",
      "\n",
      "solution is feasible: True\n"
     ]
    }
   ],
   "source": [
    "_instance = instance_08\n",
    "_solution = solution_08\n",
    "\n",
    "util.show(_instance)\n",
    "if _solution is not None:\n",
    "    util.show(_instance, _solution)\n",
    "    print(f\"solution is feasible: {util.is_feasible(_instance, _solution)}\")\n",
    "else:\n",
    "    print(\"--- Solution not found ---\")"
   ]
  },
  {
   "cell_type": "code",
   "execution_count": null,
   "id": "ulZA",
   "metadata": {},
   "outputs": [],
   "source": [
    "instance_09 = util.parse(\"protein_n050k050.txt\")\n",
    "solution_09 = solve(instance_09)    "
   ]
  },
  {
   "cell_type": "code",
   "execution_count": null,
   "id": "ecfG",
   "metadata": {},
   "outputs": [
    {
     "name": "stdout",
     "output_type": "stream",
     "text": [
      "--- Condition (with 20 chars) ---\n",
      "str01: MRHLNIDIETYSSNDIKNGVYKYADAEDFEILLFAYSIDGGEVECLDLTR\n",
      "str02: MERRAHRTHQNWDATKPRERRKQTQHRLTHPDDSIYPRIEKAEGRKEDHG\n",
      "str03: MEPGAFSTALFDALCDDILHRRLESQLRFGGVQIPPEVSDPRVYAGYALL\n",
      "str04: MGKFYYSNRRLAVFAQAQSRHLGGSYEQWLACVSGDSAFRAEVKARVQKD\n",
      "str05: FFRENLAFQQGKAREFPSEEARANSPTSRELWVRRGGNPLSEAGAERRGT\n",
      "str06: MDPSLTQVWAVEGSVLSAAVDTAETNDTEPDEGLSAENEGETRIIRITGS\n",
      "str07: MAFDFSVTGNTKLDTSGFTQGVSSMTVAAGTLIADLVKTASSQLTNLAQS\n",
      "str08: MAVILPSTYTDGTAACTNGSPDVVGTGTMWVNTILPGDFFWTPSGESVRV\n",
      "str09: MNTGIIDLFDNHVDSIPTILPHQLATLDYLVRTIIDENRSVLLFHIMGSG\n",
      "str10: MFVFLVLLPLVSSQCVNLRTRTQLPPAYTNSFTRGVYYPDKVFRSSVLHS\n",
      "str11: MDSKETILIEIIPKIKSYLLDTNISPKSYNDFISRNKNIFVINLYNVSTI\n",
      "str12: MLLSGKKKMLLDNYETAAARGRGGDERRRGWAFDRPAIVTKRDKSDRMAH\n",
      "str13: MNGEEDDNEQAAAEQQTKKAKREKPKQARKVTSEAWEHFDATDDGAECKH\n",
      "str14: MESLVPGFNEKTHVQLSLPVLQVRDVLVRGFGDSVEEVLSEARQHLKDGT\n",
      "str15: MRYIVSPQLVLQVGKGQEVERALYLTPYDYIDEKSPIYYFLRSHLNIQRP\n",
      "str16: MPRVPVYDSPQVSPNTVPQARLATPSFATPTFRGADAPAFQDTANQQARQ\n",
      "str17: MFVFLVLLPLVSSQCVNLRTRTQLPLAYTNSFTRGVYYPDKVFRSSVLHS\n",
      "str18: MFVFFVLLPLVSSQCVNLTTRTQLPPAYTNSFTRGVYYPDKVFRSSVLHS\n",
      "str19: MEAIISFAGIGINYKKLQSKLQHDFGRVLKALTVTARALPGQPKHIAIRQ\n",
      "str20: MASSGPERAEHQIILPESHLSSPLVKHKLLYYWKLTGLPLPDECDFDHLI\n",
      "str21: MESLVPGFNEKTHVQLSLPVLQVRDVLVRGFGDSVEEVLSEVRQHLKDGT\n",
      "str22: MLAPSPNSKIQLFNNINIDINYEHTLYFASVSAQNSFFAQWVVYSADKAI\n",
      "str23: MSAITETKPTIELPALAEGFQRYNKTPGFTCVLDRYDHGVINDSKIVLYN\n",
      "str24: MKNIAEFKKAPELAEKLLEVFSNLKGNSRSLDPMRAGKHDVVVIESTKKL\n",
      "str25: MPQPLKQSLDQSKWLREAEKHLRALESLVDSNLEEEKLKPQLSMGEDVQS\n",
      "str26: MFVFLVLLPLVSSQCVNLITRTQSYTNSFTRGVYYPDKVFRSSVLHSTQD\n",
      "str27: MKFDVLSLFAPWAKVDEQEYDQQLNNNLESITAPKFDDGATEIESERGDI\n",
      "str28: MFVFLVLLPLVSSQCVNFTNRTQLPSAYTNSFTRGVYYPDKVFRSSVLHS\n",
      "str29: MWSIIVLKLISIQPLLLVTSLPLYNPNMDSCCLISRITPELAGKLTWIFI\n",
      "str30: MESLVPGFNEKTHVQLSLPVLQVRDVLVRGFGDSVEEFLSEARQHLKDGT\n",
      "str31: MFVFLVLLPLVSSQCVMPLFNLITTTQSYTNFTRGVYYPDKVFRSSVLHL\n",
      "str32: MHQITVVSGPTEVSTCFGSLHPFQSLKPVMANALGVLEGKMFCSIGGRSL\n",
      "str33: MATLLRSLALFKRNKDKPPITSGSGGAIRGIKHIIIVPIPGDSSITTRSR\n",
      "str34: MESLVPGFNEKTHVQLSLPVLQVRDVLVRGFGDSMEEVLSEARQHLKDGT\n",
      "str35: MFVFLVLLPLVSSQCVNLTTGTQLPPAYTNSFTRGVYYPDKVFRSSVLHS\n",
      "str36: MANIINLWNGIVPMVQDVNVASITAFKSMIDETWDKKIEANTCISRKHRN\n",
      "str37: MLNRIQTLMKTANNYETIEILRNYLRLYIILARNEEGRGILIYDDNIDSV\n",
      "str38: MADPAGTNGEEGTGCNGWFYVEAVVEKKTGDAISDDENENDSDTGEDLVD\n",
      "str39: MFVFLVLLPLVSSQCVNLRTRTQLPPSYTNSFTRGVYYPDKVFRSSVLHS\n",
      "str40: MESLVPGFNEKTHVQLSLPVLQVCDVLVRGFGDSVEEVLSEARQHLKDGT\n",
      "str41: MNNQRKKTARPSFNMLKRARNRVSTVSQLAKRFSKGLLSGQGPMKLVMAF\n",
      "str42: MSNFDAIRALVDTDAYKLGHIHMYPEGTEYVLSNFTDRGSRIEGVTHTVH\n",
      "str43: MIELRHEVQGDLVTINVVETPEDLDGFRDFIRAHLICLAVDTETTGLDIY\n",
      "str44: MFVFLVLLPLVSSQCVMPLFNLITTNQSYTNSFTRGVYYPDKVFRSSVLH\n",
      "str45: MSKDLVARQALMTARMKADFVFFLFVLWKALSLPVPTRCQIDMAKKLSAG\n",
      "str46: MASLLKSLTLFKRTRDQPPLASGSGGAIRGIKHVIIVLIPGDSSIVTRSR\n",
      "str47: MRVRGILRNWQQWWIWTSLGFWMFMICSVVGNLWVTVYYGVPVWKEAKTT\n",
      "str48: MAVEPFPRRPITRPHASIEVDTSGIGGSAGSSEKVFCLIGQAEGGEPNTV\n",
      "str49: MFYAHAFGGYDENLHAFPGISSTVANDVRKYSVVSVYNKKYNIVKNKYMW\n",
      "str50: MANYSKPFLLDIVFNKDIKCINDSCSHSDCRYQSNSYVELRRNQALNKNL\n",
      "\n",
      "--- Solution not found ---\n"
     ]
    }
   ],
   "source": [
    "_instance = instance_09\n",
    "_solution = solution_09\n",
    "\n",
    "util.show(_instance)\n",
    "if _solution is not None:\n",
    "    util.show(_instance, _solution)\n",
    "    print(f\"solution is feasible: {util.is_feasible(_instance, _solution)}\")\n",
    "else:\n",
    "    print(\"--- Solution not found ---\")"
   ]
  }
 ],
 "metadata": {},
 "nbformat": 4,
 "nbformat_minor": 5
}
