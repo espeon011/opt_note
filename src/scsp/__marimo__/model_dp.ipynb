{
 "cells": [
  {
   "cell_type": "code",
   "execution_count": null,
   "id": "setup",
   "metadata": {
    "marimo": {
     "name": "setup"
    }
   },
   "outputs": [],
   "source": [
    "import itertools\n",
    "import util"
   ]
  },
  {
   "cell_type": "code",
   "execution_count": null,
   "id": "Hbol",
   "metadata": {},
   "outputs": [],
   "source": [
    "import marimo as mo\n",
    "import nbformat"
   ]
  },
  {
   "cell_type": "markdown",
   "id": "MJUe",
   "metadata": {
    "marimo": {
     "config": {
      "hide_code": true
     }
    }
   },
   "source": [
    "# 動的計画法"
   ]
  },
  {
   "cell_type": "markdown",
   "id": "vblA",
   "metadata": {
    "marimo": {
     "config": {
      "hide_code": true
     }
    }
   },
   "source": [
    "- 計算量: $O(k^n)$ らしいがこの実装では $O(k^n q n )$ かかる.\n",
    "- 近似精度: $1$"
   ]
  },
  {
   "cell_type": "markdown",
   "id": "bkHC",
   "metadata": {},
   "source": [
    "文字列 $s$ を $j$ 文字目までと $j+1$ 文字目以降に分けたうちの前半を $s[0..j]$ と書く.\n",
    "$t = (j_1, \\dots, j_n) \\ (j_i \\in \\{ 0, \\dots, |s_i| \\})$ を transversal と呼び,\n",
    "$s_1[0..j_1], \\dots, s_n[0..j_n]$"
   ]
  },
  {
   "cell_type": "code",
   "execution_count": null,
   "id": "lEQa",
   "metadata": {
    "marimo": {
     "name": "*solve"
    }
   },
   "outputs": [],
   "source": [
    "def solve(instance: list[str]) -> str:\n",
    "    chars = sorted(list(set(\"\".join(instance))))\n",
    "\n",
    "    dp = {(0,) * len(instance): (0, None)}\n",
    "    for transversal in itertools.product(*[range(len(s) + 1) for s in instance]):\n",
    "        if transversal in dp:\n",
    "            continue\n",
    "\n",
    "        end_chars = set(\n",
    "            s[t - 1] for s, t in zip(instance, transversal) if t > 0\n",
    "        )\n",
    "        pretransversals = [\n",
    "            tuple(\n",
    "                t - 1 if t > 0 and s[t - 1] == c else t\n",
    "                for s, t in zip(instance, transversal)\n",
    "            )\n",
    "            for c in end_chars\n",
    "        ]\n",
    "\n",
    "        min_transversal = pretransversals[0]\n",
    "        min_length = dp[min_transversal][0]\n",
    "        for pretransversal in pretransversals:\n",
    "            if dp[pretransversal][0] < min_length:\n",
    "                min_transversal = pretransversal\n",
    "                min_length = dp[pretransversal][0]\n",
    "\n",
    "        dp[transversal] = (min_length + 1, min_transversal)\n",
    "\n",
    "    solution = \"\"\n",
    "    left_transversal = (0,) * len(instance)\n",
    "    right_transversal = tuple(len(s) for s in instance)\n",
    "    current_transversal = right_transversal\n",
    "    while current_transversal != left_transversal:\n",
    "        pretransversal = dp[current_transversal][1]\n",
    "        c = None\n",
    "        for s, t1, t2 in zip(instance, current_transversal, pretransversal):\n",
    "            if t1 == t2 + 1:\n",
    "                c = s[t2]\n",
    "                break\n",
    "\n",
    "        solution += c\n",
    "        current_transversal = pretransversal\n",
    "\n",
    "    return solution[::-1]"
   ]
  },
  {
   "cell_type": "markdown",
   "id": "PKri",
   "metadata": {
    "marimo": {
     "config": {
      "hide_code": true
     }
    }
   },
   "source": [
    "**現実的な時間内に解を求められないため,\n",
    "小さいインスタンスに対してのみ実行する.**"
   ]
  },
  {
   "cell_type": "code",
   "execution_count": null,
   "id": "Xref",
   "metadata": {},
   "outputs": [
    {
     "name": "stdout",
     "output_type": "stream",
     "text": [
      "--- Condition (with 25 chars) ---\n",
      "str1: tkgnkuhmpxnhtqgxzvxis\n",
      "str2: iojiqfolnbxxcvsuqpvissbxf\n",
      "str3: ulcinycosovozpplp\n",
      "str4: igevazgbrddbcsvrvnngf\n",
      "\n"
     ]
    },
    {
     "name": "stdout",
     "output_type": "stream",
     "text": [
      "--- Solution (of length 62) ---\n",
      " Sol: ulcitkgnycojisoevqfoazkuhmpplxnhtqgbrxzddbxcvsuqpvxirvsnnsbgxf\n",
      "str1: ----tkgn--------------kuhmp--xnhtqg--xz-----v-----xi--s-------\n",
      "str2: ---i------oji----qfo--------l-n----b-x----xcvsuqpv-i--s--sb-xf\n",
      "str3: ulci---nyco--so-v--o-z----ppl-------------------p-------------\n",
      "str4: ---i--g--------ev---az------------gbr--ddb-c-s---v--rv-nn--g-f\n",
      "\n",
      "solution is feasible: True\n"
     ]
    }
   ],
   "source": [
    "_instance = util.parse(\"uniform_q26n004k015-025.txt\")\n",
    "util.show(_instance)\n",
    "_solution = solve(_instance)\n",
    "util.show(_instance, _solution)\n",
    "print(f\"solution is feasible: {util.is_feasible(_instance, _solution)}\")"
   ]
  },
  {
   "cell_type": "code",
   "execution_count": null,
   "id": "SFPL",
   "metadata": {},
   "outputs": [
    {
     "name": "stdout",
     "output_type": "stream",
     "text": [
      "--- Condition (with 4 chars) ---\n",
      "str1: ATGGGATACG\n",
      "str2: ATACCTTCCC\n",
      "str3: CACGAATTGA\n",
      "str4: TAAAATCTGT\n",
      "str5: AGGTAACAAA\n",
      "\n"
     ]
    },
    {
     "name": "stdout",
     "output_type": "stream",
     "text": [
      "--- Solution (of length 21) ---\n",
      " Sol: ATGGTACACGATATCTGTACC\n",
      "str1: ATGG-----GATA-C-G----\n",
      "str2: AT---AC-C--T-TC----CC\n",
      "str3: ------CACGA-AT-TG-A--\n",
      "str4: -T---A-A--A-ATCTGT---\n",
      "str5: A-GGTA-AC-A-A-----A--\n",
      "\n",
      "solution is feasible: True\n"
     ]
    }
   ],
   "source": [
    "_instance = util.parse(\"nucleotide_n005k010.txt\")\n",
    "util.show(_instance)\n",
    "_solution = solve(_instance)\n",
    "util.show(_instance, _solution)\n",
    "print(f\"solution is feasible: {util.is_feasible(_instance, _solution)}\")"
   ]
  },
  {
   "cell_type": "code",
   "execution_count": null,
   "id": "BYtC",
   "metadata": {},
   "outputs": [
    {
     "name": "stdout",
     "output_type": "stream",
     "text": [
      "--- Condition (with 19 chars) ---\n",
      "str1: MALSYCPKGT\n",
      "str2: MQSSLNAIPV\n",
      "str3: MPLSYQHFRK\n",
      "str4: MEEHVNELHD\n",
      "str5: MSNFDAIRAL\n",
      "\n"
     ]
    },
    {
     "name": "stdout",
     "output_type": "stream",
     "text": [
      "--- Solution (of length 31) ---\n",
      " Sol: MAPLSYQEEHSSVLNFELHDAICRPKGTVAL\n",
      "str1: MA-LSY----------------C-PKGT---\n",
      "str2: M-----Q---SS-LN-----AI--P---V--\n",
      "str3: M-PLSYQ--H-----F-------R-K-----\n",
      "str4: M------EEH--V-N-ELHD-----------\n",
      "str5: M---S---------NF---DAI-R-----AL\n",
      "\n",
      "solution is feasible: True\n"
     ]
    }
   ],
   "source": [
    "_instance = util.parse(\"protein_n005k010.txt\")\n",
    "util.show(_instance)\n",
    "_solution = solve(_instance)\n",
    "util.show(_instance, _solution)\n",
    "print(f\"solution is feasible: {util.is_feasible(_instance, _solution)}\")"
   ]
  }
 ],
 "metadata": {},
 "nbformat": 4,
 "nbformat_minor": 5
}
