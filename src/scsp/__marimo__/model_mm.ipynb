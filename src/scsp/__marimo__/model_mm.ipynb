{
 "cells": [
  {
   "cell_type": "code",
   "execution_count": null,
   "id": "Hbol",
   "metadata": {},
   "outputs": [],
   "source": [
    "import marimo as mo\n",
    "import nbformat\n",
    "import util"
   ]
  },
  {
   "cell_type": "markdown",
   "id": "MJUe",
   "metadata": {
    "marimo": {
     "config": {
      "hide_code": true
     }
    }
   },
   "source": [
    "# Majority Merge アルゴリズム"
   ]
  },
  {
   "cell_type": "markdown",
   "id": "vblA",
   "metadata": {
    "marimo": {
     "config": {
      "hide_code": true
     }
    }
   },
   "source": [
    "- 計算量: $O(qkn)$. この実装ではもっとかかる.\n",
    "- 近似精度: なし"
   ]
  },
  {
   "cell_type": "markdown",
   "id": "bkHC",
   "metadata": {
    "marimo": {
     "config": {
      "hide_code": true
     }
    }
   },
   "source": [
    "与えられた文字列たちの先頭を調べ, 最も出現頻度が高い文字を採用し,\n",
    "文字列たちの先頭から削除する操作を全ての文字列が空になるまで繰り返す.\n",
    "\n",
    "- 解 $\\mathrm{sol}$ を空文字列で初期化する.\n",
    "- 各文字列の先頭の文字 $s_1[0], s_2[0], \\dots, s_n[0]$ を調べ, 最も多い文字を $c$ とする.\n",
    "- $\\mathrm{sol}$ の後ろに $c$ を追加する.\n",
    "- 各文字列 $s_1, s_2, \\dots, s_n$ に対し, 先頭の文字が $c$ である場合は先頭 1 文字を削除する.\n",
    "- $s_1, s_2, \\dots, s_n$ が全て空文字列になれば終了."
   ]
  },
  {
   "cell_type": "code",
   "execution_count": null,
   "id": "lEQa",
   "metadata": {
    "marimo": {
     "name": "*solve"
    }
   },
   "outputs": [],
   "source": [
    "def solve(instance: list[str]) -> str:\n",
    "    chars = sorted(list(set(\"\".join(instance))))\n",
    "    indices = [0 for _ in instance]\n",
    "    solution = \"\"\n",
    "\n",
    "    while not all(idx == len(s) for idx, s in zip(indices, instance)):\n",
    "        fronts = [s[idx] for idx, s in zip(indices, instance) if idx < len(s)]\n",
    "        counts = [fronts.count(c) for c in chars]\n",
    "        next_char = chars[counts.index(max(counts))]\n",
    "\n",
    "        solution += next_char\n",
    "        for jdx in range(len(instance)):\n",
    "            s = instance[jdx]\n",
    "            idx = indices[jdx]\n",
    "            if idx < len(s) and s[idx] == next_char:\n",
    "                indices[jdx] += 1\n",
    "\n",
    "    return solution"
   ]
  },
  {
   "cell_type": "code",
   "execution_count": null,
   "id": "PKri",
   "metadata": {},
   "outputs": [
    {
     "name": "stdout",
     "output_type": "stream",
     "text": [
      "--- Condition (with 25 chars) ---\n",
      "str1: tkgnkuhmpxnhtqgxzvxis\n",
      "str2: iojiqfolnbxxcvsuqpvissbxf\n",
      "str3: ulcinycosovozpplp\n",
      "str4: igevazgbrddbcsvrvnngf\n",
      "\n",
      "--- Solution (of length 74) ---\n",
      " Sol: igeojiqfolnbtkgnkuhlcimnpxnhtqgxcvazgbrddbcsvruqpvinngfssbxfisycosovozpplp\n",
      "str1: ------------tkgnkuh---m-pxnhtqgx---z--------v-------------x-is------------\n",
      "str2: i--ojiqfolnb-------------x-----xcv---------s--uqpvi----ssbxf--------------\n",
      "str3: -----------------u-lci-n--------------------------------------ycosovozpplp\n",
      "str4: ige------------------------------vazgbrddbcsvr---v-nngf-------------------\n",
      "\n",
      "solution is feasible: True\n"
     ]
    }
   ],
   "source": [
    "_instance = util.parse(\"uniform_q26n004k015-025.txt\")\n",
    "util.show(_instance)\n",
    "_solution = solve(_instance)\n",
    "util.show(_instance, _solution)\n",
    "print(f\"solution is feasible: {util.is_feasible(_instance, _solution)}\")"
   ]
  },
  {
   "cell_type": "code",
   "execution_count": null,
   "id": "Xref",
   "metadata": {},
   "outputs": [
    {
     "name": "stdout",
     "output_type": "stream",
     "text": [
      "--- Condition (with 26 chars) ---\n",
      "str1: tkgnkuhmpxnhtqgxzvxis\n",
      "str2: iojiqfolnbxxcvsuqpvissbxf\n",
      "str3: ulcinycosovozpplp\n",
      "str4: igevazgbrddbcsvrvnngf\n",
      "str5: pyplrzxucpmqvgtdfuivcdsbo\n",
      "str6: pbdevdcvdpfzsmsbroqvbbh\n",
      "str7: enbczfjtvxerzbrvigple\n",
      "str8: rxwxqkrdrlctodtmprpxwd\n",
      "\n",
      "--- Solution (of length 148) ---\n",
      " Sol: ipbdegevadcnbczfgbrddbcjtvxdekgnkuhlcimpfnycosjiovrzboplrvzxnhigplengfplpqfolnbsmsbroqtqgxucpmqvbbghtdfuivcdsbowxcqkrdrlctodtmprpvsuqpvissbxfwdzvxis\n",
      "str1: ------------------------t----kgnkuh---mp-------------------xnh------------------------tqgx-----------------------------------------------------zvxis\n",
      "str2: i-------------------------------------------o-ji-------------------------qfolnb----------x----------------------xc---------------vsuqpvissbxf-------\n",
      "str3: ---------------------------------u-lci---nycos--ov---o----z-----p-----plp---------------------------------------------------------------------------\n",
      "str4: i----geva-----z-gbrddbc----------------------s---vr------v--n------ngf------------------------------------------------------------------------------\n",
      "str5: -p----------------------------------------y-----------plr-zx------------------------------ucpmqv--g-tdfuivcdsbo-------------------------------------\n",
      "str6: -pbde--v-dc--------------v-d-----------pf----------z------------"
     ]
    },
    {
     "name": "stdout",
     "output_type": "stream",
     "text": [
      "---------------smsbroq---------vbb-h------------------------------------------------\n",
      "str7: ----e------nbczf-------jtvx-e---------------------rzb---rv----igple---------------------------------------------------------------------------------\n",
      "str8: ------------------r-------x------------------------------------------------------------------------------------wx-qkrdrlctodtmprp----------x-wd-----\n",
      "\n",
      "solution is feasible: True\n"
     ]
    }
   ],
   "source": [
    "_instance = util.parse(\"uniform_q26n008k015-025.txt\")\n",
    "util.show(_instance)\n",
    "_solution = solve(_instance)\n",
    "util.show(_instance, _solution)\n",
    "print(f\"solution is feasible: {util.is_feasible(_instance, _solution)}\")"
   ]
  },
  {
   "cell_type": "code",
   "execution_count": null,
   "id": "SFPL",
   "metadata": {},
   "outputs": [
    {
     "name": "stdout",
     "output_type": "stream",
     "text": [
      "--- Condition (with 26 chars) ---\n",
      "str01: tkgnkuhmpxnhtqgxzvxis\n",
      "str02: iojiqfolnbxxcvsuqpvissbxf\n",
      "str03: ulcinycosovozpplp\n",
      "str04: igevazgbrddbcsvrvnngf\n",
      "str05: pyplrzxucpmqvgtdfuivcdsbo\n",
      "str06: pbdevdcvdpfzsmsbroqvbbh\n",
      "str07: enbczfjtvxerzbrvigple\n",
      "str08: rxwxqkrdrlctodtmprpxwd\n",
      "str09: kkqafigqjwokkskrblg\n",
      "str10: lxxpabivbvzkozzvd\n",
      "str11: krifsavncdqwhzc\n",
      "str12: qaxudgqvqcewbfgijowwy\n",
      "str13: rsxqjnfpadiusiqbezhkohmg\n",
      "str14: iwshvhcomiuvddm\n",
      "str15: htxxqjzqbctbakn\n",
      "str16: xusfcfzpeecvwantfmgqzu\n",
      "\n",
      "--- Solution (of length 198) ---\n",
      "  Sol: ikrpxulswxqkaxbcifshtavncdeqypafbigvbcojnbczfpevadiqjuswhzcokgvdozpfzbrddbcsmivrlctodvnksuxerzbrvxqbcddeghmplnbxgfigpjzqvbctbaknhkoqcewabfghmgijlentfmgqgxzucvprbbhlgmopxwdisquqpvgissbtdfuivcdsbowxfy\n",
      "str01: --------------------t---------------------------------------kg------------------------nk-u---------------hmp---x---------------nh------------------t---qgxz--v----------x--is-------------------------\n",
      "str02: i-------------------------------------oj----------iq---------------f---------------o------------------------lnbx-----------------------------------------x--cv--------------s-uqpv-issb------------xf-\n",
      "str03: -----ul--------ci------n----y--------co---------------s----o--v-ozp----------------------------------------pl-------p---------------------------------------------------------------------------------\n",
      "str04: i---------------------------------g-----------eva--------z---g-------brddbcs--vr-----vn----------------------n--gf------------------------------------------------------------------------------------\n",
      "str05: ---p------------------------yp--------------------------------------------------l-----------rz---x---------------------------------------------------------uc-p------m-------q---vg----tdfuivcdsbo----\n",
      "str06: ---p----------b----------de--------v-------------d--------c---vd--pfz------sm-----------s-----br----------------------------------oq-------------------------v--bbh-----------------------------------\n",
      "str07: --------------------------e-------------nbczf-------j-----------------------------t--v----xerzbrv-----------------igp---------------------------le----------------------------------------------------\n",
      "str08: --r-x---wxqk----------------------------------------------------------rd-------rlctod--------------------------------------t----------------m-----------------pr-------pxwd---------------------------\n",
      "str09: -k---------k---------------q--af-ig----------------qj--w---ok--------------------------ks-------------------------------------k--------------------------------rb--lg---------------------------------\n",
      "str10: ------l--x---x---------------pa-bi-vb----------v---------z--k---oz--z---------v-----d-----------------------------------------------------------------------------------------------------------------\n",
      "str11: -kr-------------ifs--avncd-q---------------------------whzc-------------------------------------------------------------------------------------------------------------------------------------------\n",
      "str12: ----------q-ax---------------------------------------u---------d----------------------------------------g--------------qv----------qcew-bfg---ij----------------------o--w------------------------w--y\n",
      "str13: --r----s-xq----------------------------jn---fp--adi--us----------------------i--------------------qb---e--------------z---------hko----"
     ]
    },
    {
     "name": "stdout",
     "output_type": "stream",
     "text": [
      "----hmg--------------------------------------------------------\n",
      "str14: i-------w---------sh--v---------------------------------h-co----------------mi-----------u------v----dd---m-------------------------------------------------------------------------------------------\n",
      "str15: -------------------ht---------------------------------------------------------------------x------xq------------------jzq-bctbakn----------------------------------------------------------------------\n",
      "str16: ----xu-s---------f------c------f-----------z-pe--------------------------------------------e--------c-------------------v-------------wa----------ntfmgq--zu------------------------------------------\n",
      "\n",
      "solution is feasible: True\n"
     ]
    }
   ],
   "source": [
    "_instance = util.parse(\"uniform_q26n016k015-025.txt\")\n",
    "util.show(_instance)\n",
    "_solution = solve(_instance)\n",
    "util.show(_instance, _solution)\n",
    "print(f\"solution is feasible: {util.is_feasible(_instance, _solution)}\")"
   ]
  },
  {
   "cell_type": "code",
   "execution_count": null,
   "id": "BYtC",
   "metadata": {},
   "outputs": [
    {
     "name": "stdout",
     "output_type": "stream",
     "text": [
      "--- Condition (with 5 chars) ---\n",
      "str01: dcbccdbcce\n",
      "str02: bddbeeeebd\n",
      "str03: cacdeecebe\n",
      "str04: aeddddebdd\n",
      "str05: acbeecabce\n",
      "str06: bbabebdcba\n",
      "str07: bbaeaebada\n",
      "str08: eeeecbdbee\n",
      "str09: ccdeedadcd\n",
      "str10: bdabdbeaad\n",
      "\n",
      "--- Solution (of length 32) ---\n",
      "  Sol: bdacbaecdebecaebdadcbdeabebdcced\n",
      "str01: -d-cb--c----c---d---b-------cce-\n",
      "str02: bd------d-be--e-------e--ebd----\n",
      "str03: ---c-a-cde-ec-eb------e---------\n",
      "str04: --a---e-d-------d-d--de-b--d---d\n",
      "str05: --acb-e--e--ca-b---c--e---------\n",
      "str06: b---ba----be---bd--cb--a--------\n",
      "str07: b---bae------aeb-ad----a--------\n",
      "str08: ------e--e-e--e----cbd--be----e-\n",
      "str09: ---c---cde-e----dadc-d----------\n",
      "str10: bda-b---d-be-a---ad-------------\n",
      "\n",
      "solution is feasible: True\n"
     ]
    }
   ],
   "source": [
    "_instance = util.parse(\"uniform_q05n010k010-010.txt\")\n",
    "util.show(_instance)\n",
    "_solution = solve(_instance)\n",
    "util.show(_instance, _solution)\n",
    "print(f\"solution is feasible: {util.is_feasible(_instance, _solution)}\")"
   ]
  },
  {
   "cell_type": "code",
   "execution_count": null,
   "id": "RGSE",
   "metadata": {},
   "outputs": [
    {
     "name": "stdout",
     "output_type": "stream",
     "text": [
      "--- Condition (with 5 chars) ---\n",
      "str01: dcbccdbcce\n",
      "str02: bddbeeeebd\n",
      "str03: cacdeecebe\n",
      "str04: aeddddebdd\n",
      "str05: acbeecabce\n",
      "str06: bbabebdcba\n",
      "str07: bbaeaebada\n",
      "str08: eeeecbdbee\n",
      "str09: ccdeedadcd\n",
      "str10: bdabdbeaad\n",
      "str11: ededaaaeaa\n",
      "str12: aaeaabeeac\n",
      "str13: eaabcaccdb\n",
      "str14: bdeeadeade\n",
      "str15: caedadeeed\n",
      "str16: ebcadbabbe\n",
      "str17: ddceeabdea\n",
      "str18: dabcddeaec\n",
      "str19: aadceedaab\n",
      "str20: aeecceeeaa\n",
      "str21: bbdaecaade\n",
      "str22: dacedaedab\n",
      "str23: aaeabbbbce\n",
      "str24: dedbcbcaab\n",
      "str25: dbdaaebbcb\n",
      "str26: debedbebac\n",
      "str27: ceebcdcbde\n",
      "str28: dbedaadaab\n",
      "str29: cccdcbebdc\n",
      "str30: aeeacdbcbd\n",
      "str31: dacbeacccd\n",
      "str32: ecebccdbdb\n",
      "str33: ddbbcedabb\n",
      "str34: aaeabaaeba\n",
      "str35: ecbbcaadcd\n",
      "str36: debccecdbc\n",
      "str37: daacbaeebc\n",
      "str38: adabeaacce\n",
      "str39: daecdbacaa\n",
      "str40: dacbbdcedc\n",
      "str41: dedbeebbde\n",
      "str42: cdadcdcdaa\n",
      "str43: ceedcbaeed\n",
      "str44: ceaecaaaca\n",
      "str45: dcccebbbad\n",
      "str46: baeeaebbde\n",
      "str47: dbdebaccdb\n",
      "str48: ebcbeedaea\n",
      "str49: aeeebbdbca\n",
      "str50: dbdabcecbb\n",
      "\n",
      "--- Solution (of length 36) ---\n",
      "  Sol: daecbdeabcedacbeadcbedabeacbdeacdbed\n",
      "str01: d--cb----c---c---d-b------c----c--e-\n",
      "str02: ----bd-----d--be----e---e----e---b-d\n",
      "str03: ---c---a-c-d---e----e-----c--e---be-\n",
      "str04: -ae--d-----d-----d---d--e--bd---d---\n",
      "str05: -a-cb-e---e--c--a--b------c--e------\n",
      "str06: ----b---b---a-be---b-d----cb--a-----\n",
      "str07: ----b---b---a--ea---e--b-a--d-a-----\n",
      "str08: --e---e---e----e--cb-d-be----e------\n",
      "str09: ---c-----c-d---e----eda-----d--cd---\n",
      "str10: ----bd-ab--d--bea-----a-----d-------\n",
      "str11: --e--de----da---a-----a-ea----a-----\n",
      "str12: -a-----a--e-a---a--be---eac---------\n",
      "str13: --e----a----a-b---c---a---c----cdb--\n",
      "str14: ----bde---e-a----d--e-a-----de------\n",
      "str15: ---c---a--eda----d--e---e----e--d---\n",
      "str16: --e-b----c--a----d-b--ab---b-e------\n",
      "str17: d----d---ce----ea--b-d--ea----------\n",
      "str18: da--b----c-d-----d--e-a-e-c---------\n",
      "str19: -a-----a---d-c-e----eda--a-b--------\n",
      "str20: -ae---e--c---c-e----e---ea----a-----\n",
      "str21: ----b---b--da--e--c---a--a--de------\n",
      "str22: da-c--e----da--e-d----ab------------\n",
      "str23: -a-----a--e-a-b----b---b---b---c--e-\n",
      "str24: d-e--d--bc----b---c---a--a-b--------\n",
      "str25: d---bd-a----a--e---b---b--cb--------\n",
      "str26: d-e-b-e----d--be---b--a---c---------\n",
      "str27: ---c--e---e---b---c--d----cbde------\n",
      "str28: d---b-e----da---ad----a--a-b--------\n",
      "str29: ---c-----c---c---dcbe--b----d--c----\n",
      "str30: -ae---ea-c-d--b---cb-d--------------\n",
      "str31: da-cb-ea-c---c----c--d--------------\n",
      "str32: --ec--e-bc---c---d-b-d-b------------\n",
      "str33: d----d--b-----b---c-edab---b--------\n",
      "str34: -a-----a--e-a-b-a-----a-e--b--a-----\n",
      "str35: --ecb---bc--a---adc--d--------------\n",
      "str36: d-e-b----c---c-e--c--d-b--c---------\n",
      "str37: da-----a-c----b-a---e---e--b---c----\n",
      "str38: -a---d-ab-e-a---a-c-------c--e------\n",
      "str39: daec-d--b---ac--a-----a-------------\n",
      "str40: da-cb---b--d-c-e-dc-----------------\n",
      "str41: d-e--d--b-e----e---b---b----de------\n",
      "str42: ---c-d-a---d-c---dc--da--a----------\n",
      "str43: ---c--e---ed-cb-a---e---e---d-------\n",
      "str44: ---c--ea--e--c--a-----a--ac---a-----\n",
      "str45: d--c-----c---c-e---b---b---b--a-d---\n",
      "str46: ----b--a--e----ea---e--b---bde------\n",
      "str47: d---bde-b---ac----c--d-b------------\n",
      "str48: --e-b----c----be----eda-ea----------\n",
      "str49: -ae---e---e---b----b-d-b--c---a-----\n",
      "str50: d---bd-abce--cb----b----------------\n",
      "\n",
      "solution is feasible: True\n"
     ]
    }
   ],
   "source": [
    "_instance = util.parse(\"uniform_q05n050k010-010.txt\")\n",
    "util.show(_instance)\n",
    "_solution = solve(_instance)\n",
    "util.show(_instance, _solution)\n",
    "print(f\"solution is feasible: {util.is_feasible(_instance, _solution)}\")"
   ]
  }
 ],
 "metadata": {},
 "nbformat": 4,
 "nbformat_minor": 5
}
