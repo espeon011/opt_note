{
 "cells": [
  {
   "cell_type": "code",
   "execution_count": null,
   "id": "setup",
   "metadata": {
    "marimo": {
     "name": "setup"
    }
   },
   "outputs": [],
   "source": [
    "import enum\n",
    "import didppy\n",
    "import util"
   ]
  },
  {
   "cell_type": "code",
   "execution_count": null,
   "id": "Hbol",
   "metadata": {},
   "outputs": [],
   "source": [
    "import marimo as mo\n",
    "import nbformat"
   ]
  },
  {
   "cell_type": "markdown",
   "id": "MJUe",
   "metadata": {
    "marimo": {
     "config": {
      "hide_code": true
     }
    }
   },
   "source": [
    "# DIDP を用いたモデル"
   ]
  },
  {
   "cell_type": "markdown",
   "id": "vblA",
   "metadata": {
    "marimo": {
     "config": {
      "hide_code": true
     }
    }
   },
   "source": [
    "考案者の解説記事: [動的計画法ベースの数理最適化ソルバDIDPPyで最短共通超配列問題を解く](https://zenn.dev/okaduki/articles/7f9a3f3c54bc98)"
   ]
  },
  {
   "cell_type": "code",
   "execution_count": null,
   "id": "bkHC",
   "metadata": {
    "marimo": {
     "name": "*BoundOption"
    }
   },
   "outputs": [],
   "source": [
    "class BoundOption(enum.IntFlag):\n",
    "    MAX_LEN = 0b1\n",
    "    SCS2LEN = 0b10\n",
    "    CHAR_COUNT = 0b100\n",
    "\n",
    "    ALL = 0b111"
   ]
  },
  {
   "cell_type": "code",
   "execution_count": null,
   "id": "lEQa",
   "metadata": {
    "marimo": {
     "name": "*boundexpr_maxlen"
    }
   },
   "outputs": [],
   "source": [
    "def boundexpr_maxlen(\n",
    "    instance: list[str],\n",
    "    dpmodel: didppy.Model,\n",
    "    index_vars: list[didppy.ElementVar]\n",
    ") -> didppy.IntExpr:\n",
    "    min_to = dpmodel.add_int_table(\n",
    "        [\n",
    "            [\n",
    "                len(s) - j for j in range(len(s) + 1)\n",
    "            ]\n",
    "            for s in instance\n",
    "        ]\n",
    "    )\n",
    "\n",
    "    bound = didppy.IntExpr(0)\n",
    "    for sidx, index_var in enumerate(index_vars):\n",
    "        bound = didppy.max(bound, min_to[sidx, index_var])\n",
    "\n",
    "    return bound"
   ]
  },
  {
   "cell_type": "code",
   "execution_count": null,
   "id": "PKri",
   "metadata": {
    "marimo": {
     "name": "*boundtable_scs2"
    }
   },
   "outputs": [],
   "source": [
    "def boundtable_scs2(s1: str, s2: str) -> list[list[int]]:\n",
    "    len1, len2 = len(s1), len(s2)\n",
    "\n",
    "    dp = [[len1 + len2 for _ in range(len2 + 1)] for _ in range(len1 + 1)]\n",
    "\n",
    "    for i1 in range(len1 + 1):\n",
    "        dp[i1][len2] = len1 - i1\n",
    "    for i2 in range(len2 + 1):\n",
    "        dp[len1][i2] = len2 - i2\n",
    "\n",
    "    for i1 in range(len1 - 1, -1, -1):\n",
    "        for i2 in range(len2 - 1, -1, -1):\n",
    "            if s1[i1] == s2[i2]:\n",
    "                dp[i1][i2] = dp[i1 + 1][i2 + 1] + 1\n",
    "            else:\n",
    "                dp[i1][i2] = min(dp[i1 + 1][i2], dp[i1][i2 + 1]) + 1\n",
    "\n",
    "    return dp"
   ]
  },
  {
   "cell_type": "code",
   "execution_count": null,
   "id": "Xref",
   "metadata": {
    "marimo": {
     "name": "*boundexpr_scs2len"
    }
   },
   "outputs": [],
   "source": [
    "def boundexpr_scs2len(\n",
    "    instance: list[str],\n",
    "    dpmodel: didppy.Model,\n",
    "    index_vars: list[didppy.ElementVar]\n",
    ") -> didppy.IntExpr:\n",
    "    exprs = []\n",
    "    for idx1, (s1, index_var1) in enumerate(zip(instance, index_vars)):\n",
    "        for idx2, (s2, index_var2) in enumerate(zip(instance, index_vars)):\n",
    "            if idx2 >= idx1:\n",
    "                continue\n",
    "            table_idx1_idx2 = dpmodel.add_int_table(boundtable_scs2(s1, s2))\n",
    "            exprs.append(table_idx1_idx2[index_var1, index_var2])\n",
    "\n",
    "    bound = didppy.IntExpr(0)\n",
    "    for expr in exprs:\n",
    "        bound = didppy.max(bound, expr)\n",
    "\n",
    "    return bound"
   ]
  },
  {
   "cell_type": "code",
   "execution_count": null,
   "id": "SFPL",
   "metadata": {
    "marimo": {
     "name": "*boundexpr_charcount"
    }
   },
   "outputs": [],
   "source": [
    "def boundexpr_charcount(\n",
    "    instance: list[str],\n",
    "    dpmodel: didppy.Model,\n",
    "    index_vars: list[didppy.ElementVar]\n",
    ") -> didppy.IntExpr:\n",
    "    chars = sorted(list(set(\"\".join(instance))))\n",
    "\n",
    "    # alpha_counts[char][s_i][idx]\n",
    "    alpha_counts: list[list[list[int]]] = [\n",
    "        [\n",
    "            [0] * (len(s) + 1)\n",
    "            for s in instance\n",
    "        ]\n",
    "        for char in chars\n",
    "    ]\n",
    "\n",
    "    for cidx, c in enumerate(chars):\n",
    "        for sidx, s in enumerate(instance):\n",
    "            alpha_counts[cidx][sidx][len(s)] = 0\n",
    "            for i in range(len(s) - 1, -1, -1):\n",
    "                alpha_counts[cidx][sidx][i] = alpha_counts[cidx][sidx][\n",
    "                    i + 1\n",
    "                ] + (1 if s[i] == c else 0)\n",
    "\n",
    "    bound = didppy.IntExpr(0)\n",
    "    for cidx, _ in enumerate(chars):\n",
    "        expr = didppy.IntExpr(0)\n",
    "        for sidx, _ in enumerate(instance):\n",
    "            table_i = dpmodel.add_int_table(alpha_counts[cidx][sidx])\n",
    "            expr = didppy.max(expr, table_i[index_vars[sidx]])\n",
    "        bound += expr\n",
    "\n",
    "    return bound"
   ]
  },
  {
   "cell_type": "code",
   "execution_count": null,
   "id": "BYtC",
   "metadata": {
    "marimo": {
     "name": "*Model"
    }
   },
   "outputs": [],
   "source": [
    "class Model:\n",
    "    def __init__(\n",
    "        self, instance: list[str], bound_option: BoundOption = BoundOption.SCS2LEN\n",
    "    ):\n",
    "        chars = sorted(list(set(\"\".join(instance))))\n",
    "\n",
    "        dpmodel = didppy.Model(maximize=False, float_cost=False)\n",
    "\n",
    "        index_types = [dpmodel.add_object_type(number=len(s) + 1) for s in instance]\n",
    "        index_vars = [\n",
    "            dpmodel.add_element_var(object_type=index_type, target=0)\n",
    "            for index_type in index_types\n",
    "        ]\n",
    "\n",
    "        instance_table = dpmodel.add_element_table(\n",
    "            [\n",
    "                [\n",
    "                    chars.index(c) for c in s\n",
    "                ] + [len(chars)]\n",
    "                for s in instance\n",
    "            ]\n",
    "        )\n",
    "\n",
    "        dpmodel.add_base_case(\n",
    "            [\n",
    "                index_var == len(s)\n",
    "                for s, index_var in zip(instance, index_vars)\n",
    "            ]\n",
    "        )\n",
    "\n",
    "        # 文字 char に従って進む\n",
    "        for id_char, char in enumerate(chars):\n",
    "            condition = didppy.Condition(False)\n",
    "            for sidx, index_var in enumerate(index_vars):\n",
    "                condition |= (instance_table[sidx, index_var] == id_char)\n",
    "            trans = didppy.Transition(\n",
    "                name=f\"{char}\",\n",
    "                cost=1 + didppy.IntExpr.state_cost(),\n",
    "                effects=[\n",
    "                    (\n",
    "                        index_var,\n",
    "                        (\n",
    "                            instance_table[sidx, index_var] == id_char\n",
    "                        ).if_then_else(index_var + 1, index_var),\n",
    "                    )\n",
    "                    for sidx, index_var in enumerate(index_vars)\n",
    "                ],\n",
    "                preconditions=[condition],\n",
    "            )\n",
    "            dpmodel.add_transition(trans)\n",
    "\n",
    "        # Dual Bound\n",
    "        if bound_option & BoundOption.MAX_LEN:\n",
    "            # 残っている文字数が最長のものが下限\n",
    "            dpmodel.add_dual_bound(boundexpr_maxlen(instance, dpmodel, index_vars))\n",
    "        if bound_option & BoundOption.SCS2LEN:\n",
    "            # 残っている文字列から 2 つを選んで SCS を取って長さが最大の物が下限\n",
    "            # primal solution は 3 つの中で一番良いけど best bound は弱い\n",
    "            dpmodel.add_dual_bound(boundexpr_scs2len(instance, dpmodel, index_vars))\n",
    "        if bound_option & BoundOption.CHAR_COUNT:\n",
    "            # 文字列とアルファベットごとに残数をカウントし, その最大値をアルファベット全体にわたって足したものが下限\n",
    "            # best bound は良くなるけど primal solution はそんなに良くない\n",
    "            dpmodel.add_dual_bound(boundexpr_charcount(instance, dpmodel, index_vars))\n",
    "\n",
    "        self.instance = instance\n",
    "        self.dpmodel = dpmodel\n",
    "        self.dpsolver = None\n",
    "        self.solution = None\n",
    "\n",
    "    def solve(self, time_limit: int | None = 60, log: bool = False) -> \"Model\":\n",
    "        self.dpsolver = didppy.CABS(self.dpmodel, threads=12, time_limit=time_limit, quiet=(not log))\n",
    "        self.solution = self.dpsolver.search()\n",
    "        return self\n",
    "\n",
    "    def to_solution(self) -> str:\n",
    "        return \"\".join([trans.name for trans in self.solution.transitions])"
   ]
  },
  {
   "cell_type": "code",
   "execution_count": null,
   "id": "RGSE",
   "metadata": {
    "marimo": {
     "name": "*solve"
    }
   },
   "outputs": [],
   "source": [
    "def solve(instance: list[str], time_limit: int | None = 60, log: bool = False) -> str:\n",
    "    model = Model(instance)\n",
    "    model.solve(time_limit, log)\n",
    "    return model.to_solution()"
   ]
  },
  {
   "cell_type": "code",
   "execution_count": null,
   "id": "Kclp",
   "metadata": {},
   "outputs": [],
   "source": [
    "instance_01 = util.parse(\"uniform_q26n004k015-025.txt\")\n",
    "model_01 = Model(instance_01)\n",
    "solution_01 = model_01.solve().to_solution()"
   ]
  },
  {
   "cell_type": "code",
   "execution_count": null,
   "id": "emfo",
   "metadata": {},
   "outputs": [
    {
     "name": "stdout",
     "output_type": "stream",
     "text": [
      "--- Condition (with 25 chars) ---\n",
      "str1: tkgnkuhmpxnhtqgxzvxis\n",
      "str2: iojiqfolnbxxcvsuqpvissbxf\n",
      "str3: ulcinycosovozpplp\n",
      "str4: igevazgbrddbcsvrvnngf\n",
      "\n",
      "--- Solution (of length 62) ---\n",
      " Sol: ultkcignkyuhcosjoemviqfaozgpplnbrxdxdbcsvrvnnshtuqgpxzvxissbxf\n",
      "str1: --tk--gnk-uh------m--------p-----x---------n--ht-qg-xzvxis----\n",
      "str2: -----i-------o-j----iqf-o----lnb-x-x--c-v----s--uq-p--v-issbxf\n",
      "str3: ul--ci-n-y--cos-o--v----oz-ppl---------------------p----------\n",
      "str4: -----ig----------e-v---a-zg----br-d-dbcsvrvnn-----g----------f\n",
      "\n",
      "solution is feasible: True\n",
      "solution is optimal: True\n",
      "best bound: 62\n"
     ]
    }
   ],
   "source": [
    "_instance = instance_01\n",
    "_model = model_01\n",
    "_solution = solution_01\n",
    "\n",
    "util.show(_instance)\n",
    "if _solution is not None:\n",
    "    util.show(_instance, _solution)\n",
    "    print(f\"solution is feasible: {util.is_feasible(_instance, _solution)}\")\n",
    "    print(f\"solution is optimal: {_model.solution.is_optimal}\")\n",
    "    print(f\"best bound: {_model.solution.best_bound}\")\n",
    "else:\n",
    "    print(\"--- Solution not found ---\")"
   ]
  },
  {
   "cell_type": "code",
   "execution_count": null,
   "id": "Hstk",
   "metadata": {},
   "outputs": [],
   "source": [
    "instance_02 = util.parse(\"uniform_q26n008k015-025.txt\")\n",
    "model_02 = Model(instance_02)\n",
    "solution_02 = model_02.solve().to_solution()"
   ]
  },
  {
   "cell_type": "code",
   "execution_count": null,
   "id": "nWHF",
   "metadata": {},
   "outputs": [
    {
     "name": "stdout",
     "output_type": "stream",
     "text": [
      "--- Condition (with 26 chars) ---\n",
      "str1: tkgnkuhmpxnhtqgxzvxis\n",
      "str2: iojiqfolnbxxcvsuqpvissbxf\n",
      "str3: ulcinycosovozpplp\n",
      "str4: igevazgbrddbcsvrvnngf\n",
      "str5: pyplrzxucpmqvgtdfuivcdsbo\n",
      "str6: pbdevdcvdpfzsmsbroqvbbh\n",
      "str7: enbczfjtvxerzbrvigple\n",
      "str8: rxwxqkrdrlctodtmprpxwd\n",
      "\n",
      "--- Solution (of length 99) ---\n",
      " Sol: iojiqfopyplrtkgbdenbxvazwxqkrdurlcphmqvzfgjtdbpfuivxernzdsychodutmsbopcsvroqgxzpvnxnigplesswbpbxhdf\n",
      "str1: ------------tkg---n--------k--u----hm---------p----x--n-----h---t----------qgxz-v-x-i----s---------\n",
      "str2: iojiqfo---l-------nbx----x-------c----v------------------s-----u-----------q---pv---i----ss-b--x--f\n",
      "str3: ------------------------------u-lc---------------i----n---yc-o----s-o---v-o---zp------pl-----p-----\n",
      "str4: i-------------g--e---vaz-----------------g---b-------r--d-----d----b--csvr------vn-n-g------------f\n",
      "str5: -------pyplr-----------z-x----u--cp-mqv--g-td--fuiv--------c--d---sbo------------------------------\n",
      "str6: -------p-------bde---v-------d---c----v-----d-pf-------z-s-------msb-----roq----v-----------b-b-h--\n",
      "str7: -----------------enb-------------c-----zf-jt------vxer-z-----------b-----r------v---igple----------\n",
      "str8: -----------r--------x---wxqkrd-rlc---------t-----------------od-tm---p---r-----p--x--------w-----d-\n",
      "\n",
      "solution is feasible: True\n",
      "solution is optimal: False\n",
      "best bound: 56\n"
     ]
    }
   ],
   "source": [
    "_instance = instance_02\n",
    "_model = model_02\n",
    "_solution = solution_02\n",
    "\n",
    "util.show(_instance)\n",
    "if _solution is not None:\n",
    "    util.show(_instance, _solution)\n",
    "    print(f\"solution is feasible: {util.is_feasible(_instance, _solution)}\")\n",
    "    print(f\"solution is optimal: {_model.solution.is_optimal}\")\n",
    "    print(f\"best bound: {_model.solution.best_bound}\")\n",
    "else:\n",
    "    print(\"--- Solution not found ---\")"
   ]
  },
  {
   "cell_type": "code",
   "execution_count": null,
   "id": "iLit",
   "metadata": {},
   "outputs": [],
   "source": [
    "instance_03 = util.parse(\"uniform_q26n016k015-025.txt\")\n",
    "model_03 = Model(instance_03)\n",
    "solution_03 = model_03.solve().to_solution()"
   ]
  },
  {
   "cell_type": "code",
   "execution_count": null,
   "id": "ZHCJ",
   "metadata": {},
   "outputs": [
    {
     "name": "stdout",
     "output_type": "stream",
     "text": [
      "--- Condition (with 26 chars) ---\n",
      "str01: tkgnkuhmpxnhtqgxzvxis\n",
      "str02: iojiqfolnbxxcvsuqpvissbxf\n",
      "str03: ulcinycosovozpplp\n",
      "str04: igevazgbrddbcsvrvnngf\n",
      "str05: pyplrzxucpmqvgtdfuivcdsbo\n",
      "str06: pbdevdcvdpfzsmsbroqvbbh\n",
      "str07: enbczfjtvxerzbrvigple\n",
      "str08: rxwxqkrdrlctodtmprpxwd\n",
      "str09: kkqafigqjwokkskrblg\n",
      "str10: lxxpabivbvzkozzvd\n",
      "str11: krifsavncdqwhzc\n",
      "str12: qaxudgqvqcewbfgijowwy\n",
      "str13: rsxqjnfpadiusiqbezhkohmg\n",
      "str14: iwshvhcomiuvddm\n",
      "str15: htxxqjzqbctbakn\n",
      "str16: xusfcfzpeecvwantfmgqzu\n",
      "\n",
      "--- Solution (of length 149) ---\n",
      "  Sol: pyplrsxutiqobdzkjwaisgexqfolnbvckurdafzcpgqafjhtvdbmpxierfngxlequycdvjzseghtiwaoduqmbkvncestfzompbuvhdgikskrjvozqxizucpwvdsbngphxbaknghzlwidcompyfsge\n",
      "str01: --------t------k-----g------n---ku------------h----mpx----n---------------ht------q-------------------g----------x-z----v-------x---------i-------s--\n",
      "str02: ---------i-o----j--i----qfolnb-----------------------x------x-----c-v--s---------uq-------------p--v---i-s----------------sb----x----------------f---\n",
      "str03: -------u-------------------l---c----------------------i---n------yc------------o----------s---o----v----------oz------p-------p---------l------p-----\n",
      "str04: ---------i-----------ge-------v-----a-z--g--------b-----r----------d------------d---b---c-s--------v-------r-v--------------n-------ng-----------f---\n",
      "str05: pyplr---------z--------x---------u-----cp----------m-----------q----v----g-t----d-----------f-----u----i-----v-------c---dsb-----------------o-------\n",
      "str06: p-----------bd--------e-------v----d---c--------vd--p----f------------zs-----------m------s------b---------r--o-q-------v--b-----b----h--------------\n",
      "str07: ----------------------e-----nb-c------z-----fj-tv----x-er-------------z-------------b----------------------r-v----i----------gp---------l-----------e\n",
      "str08: ----r-x----------w-----xq-------k-rd--------------------r----l----c--------t---od----------t---mp----------r----------p---------x--------w-d---------\n",
      "str09: ---------------k----------------k---------qaf---------i----g---q-----j-------w-o-----k------------------kskr---------------b------------l----------g-\n",
      "str10: ---l--x----------------x----------------p--a------b---i-------------v---------------b-v------z----------k-----oz---z----vd---------------------------\n",
      "str11: ---------------k------------------r-------------------i--f-------------s------a-------vnc------------d----------q------w-------h-------z----c--------\n",
      "str12: ----------q-------a----x---------u-d-----gq-----v--------------q--c-----e----w------b-------f---------gi----j-o--------w-----------------w------y----\n",
      "str13: ----rsx---q-----j-----------n--------f--p--a-----d----i---------u------s----i-----q-b----e---z------h---k-----o----------------h--------------m----g-\n",
      "str14: ---------i-------w--s-------------------------h-v-------------------------h-------------c-----om-------i------------u---vd-----------------d--m------\n",
      "str15: ----------------------------------------------ht-----x------x--q-----jz-----------q-b---c--t-----b--------------------------------akn----------------\n",
      "str16: ------xu------------s----f-----c-----fz-p--------------e------e---c-v--------wa--------n---tf--m------g---------q--zu--------------------------------\n",
      "\n",
      "solution is feasible: True\n",
      "solution is optimal: False\n",
      "best bound: 49\n"
     ]
    }
   ],
   "source": [
    "_instance = instance_03\n",
    "_model = model_03\n",
    "_solution = solution_03\n",
    "\n",
    "util.show(_instance)\n",
    "if _solution is not None:\n",
    "    util.show(_instance, _solution)\n",
    "    print(f\"solution is feasible: {util.is_feasible(_instance, _solution)}\")\n",
    "    print(f\"solution is optimal: {_model.solution.is_optimal}\")\n",
    "    print(f\"best bound: {_model.solution.best_bound}\")\n",
    "else:\n",
    "    print(\"--- Solution not found ---\")"
   ]
  },
  {
   "cell_type": "code",
   "execution_count": null,
   "id": "ROlb",
   "metadata": {},
   "outputs": [],
   "source": [
    "instance_04 = util.parse(\"uniform_q05n010k010-010.txt\")\n",
    "model_04 = Model(instance_04)\n",
    "solution_04 = model_04.solve().to_solution()"
   ]
  },
  {
   "cell_type": "code",
   "execution_count": null,
   "id": "qnkX",
   "metadata": {},
   "outputs": [
    {
     "name": "stdout",
     "output_type": "stream",
     "text": [
      "--- Condition (with 5 chars) ---\n",
      "str01: dcbccdbcce\n",
      "str02: bddbeeeebd\n",
      "str03: cacdeecebe\n",
      "str04: aeddddebdd\n",
      "str05: acbeecabce\n",
      "str06: bbabebdcba\n",
      "str07: bbaeaebada\n",
      "str08: eeeecbdbee\n",
      "str09: ccdeedadcd\n",
      "str10: bdabdbeaad\n",
      "\n",
      "--- Solution (of length 27) ---\n",
      "  Sol: bbaedcdbeacdeecbdbeacbdcade\n",
      "str01: ----dc-b--c---c-db--c--c--e\n",
      "str02: b---d-dbe---ee----e--bd----\n",
      "str03: -----c---acdeec---e--b----e\n",
      "str04: --aed-d----d----d-e--bd--d-\n",
      "str05: --a--c-be---e-c----a-b-c--e\n",
      "str06: bba----be------bd---cb--a--\n",
      "str07: bbae-----a--e--b---a--d-a--\n",
      "str08: ---e----e---eecbdbe-------e\n",
      "str09: -----c----cdee--d--a--dc-d-\n",
      "str10: b---d----a-----bdbea----ad-\n",
      "\n",
      "solution is feasible: True\n",
      "solution is optimal: True\n",
      "best bound: 27\n"
     ]
    }
   ],
   "source": [
    "_instance = instance_04\n",
    "_model = model_04\n",
    "_solution = solution_04\n",
    "\n",
    "util.show(_instance)\n",
    "if _solution is not None:\n",
    "    util.show(_instance, _solution)\n",
    "    print(f\"solution is feasible: {util.is_feasible(_instance, _solution)}\")\n",
    "    print(f\"solution is optimal: {_model.solution.is_optimal}\")\n",
    "    print(f\"best bound: {_model.solution.best_bound}\")\n",
    "else:\n",
    "    print(\"--- Solution not found ---\")"
   ]
  },
  {
   "cell_type": "code",
   "execution_count": null,
   "id": "TqIu",
   "metadata": {},
   "outputs": [],
   "source": [
    "instance_05 = util.parse(\"uniform_q05n050k010-010.txt\")\n",
    "model_05 = Model(instance_05)\n",
    "solution_05 = model_05.solve().to_solution()"
   ]
  },
  {
   "cell_type": "code",
   "execution_count": null,
   "id": "Vxnm",
   "metadata": {},
   "outputs": [
    {
     "name": "stdout",
     "output_type": "stream",
     "text": [
      "--- Condition (with 5 chars) ---\n",
      "str01: dcbccdbcce\n",
      "str02: bddbeeeebd\n",
      "str03: cacdeecebe\n",
      "str04: aeddddebdd\n",
      "str05: acbeecabce\n",
      "str06: bbabebdcba\n",
      "str07: bbaeaebada\n",
      "str08: eeeecbdbee\n",
      "str09: ccdeedadcd\n",
      "str10: bdabdbeaad\n",
      "str11: ededaaaeaa\n",
      "str12: aaeaabeeac\n",
      "str13: eaabcaccdb\n",
      "str14: bdeeadeade\n",
      "str15: caedadeeed\n",
      "str16: ebcadbabbe\n",
      "str17: ddceeabdea\n",
      "str18: dabcddeaec\n",
      "str19: aadceedaab\n",
      "str20: aeecceeeaa\n",
      "str21: bbdaecaade\n",
      "str22: dacedaedab\n",
      "str23: aaeabbbbce\n",
      "str24: dedbcbcaab\n",
      "str25: dbdaaebbcb\n",
      "str26: debedbebac\n",
      "str27: ceebcdcbde\n",
      "str28: dbedaadaab\n",
      "str29: cccdcbebdc\n",
      "str30: aeeacdbcbd\n",
      "str31: dacbeacccd\n",
      "str32: ecebccdbdb\n",
      "str33: ddbbcedabb\n",
      "str34: aaeabaaeba\n",
      "str35: ecbbcaadcd\n",
      "str36: debccecdbc\n",
      "str37: daacbaeebc\n",
      "str38: adabeaacce\n",
      "str39: daecdbacaa\n",
      "str40: dacbbdcedc\n",
      "str41: dedbeebbde\n",
      "str42: cdadcdcdaa\n",
      "str43: ceedcbaeed\n",
      "str44: ceaecaaaca\n",
      "str45: dcccebbbad\n",
      "str46: baeeaebbde\n",
      "str47: dbdebaccdb\n",
      "str48: ebcbeedaea\n",
      "str49: aeeebbdbca\n",
      "str50: dbdabcecbb\n",
      "\n",
      "--- Solution (of length 34) ---\n",
      "  Sol: dbaecdeabecdabceadecbdeabeacdbcead\n",
      "str01: d---c---b-c---c--d--b------c--ce--\n",
      "str02: -b---d-----d-b-e--e---e--e---b---d\n",
      "str03: ----c--a--cd---e--ec--e-be--------\n",
      "str04: --ae-d-----d-----d---de-b---d----d\n",
      "str05: --a-c---be-----e---c---ab--c---e--\n",
      "str06: -b------b---ab-e----bd-----c-b--a-\n",
      "str07: -b------b---a--ea-e-b--a----d---a-\n",
      "str08: ---e--e--e-----e---cbd--be-----e--\n",
      "str09: ----c-----cd---e--e--d-a----d-c--d\n",
      "str10: -b---d-ab--d-b-ea------a----d-----\n",
      "str11: ---e-de----da---a------a-ea-----a-\n",
      "str12: --a----a-e--a---a---b-e--eac------\n",
      "str13: ---e---a----abc-a--c-------cdb----\n",
      "str14: -b---de--e--a----de----a----d--e--\n",
      "str15: ----c--a-e-da----de---e--e--d-----\n",
      "str16: ---e----b-c-a----d--b--ab----b-e--\n",
      "str17: d----d----c----e--e----ab---d--ea-\n",
      "str18: d-a-----b-cd-----de----a-e-c------\n",
      "str19: --a----a---d--ce--e--d-a--a--b----\n",
      "str20: --ae--e---c---ce--e---ea--a-------\n",
      "str21: -b------b--da--e---c---a--a-d--e--\n",
      "str22: d-a-c-e----da--e-d-----ab---------\n",
      "str23: --a----a-e--ab------b---b----bce--\n",
      "str24: d--e-d--b-c--bc-a------ab---------\n",
      "str25: db---d-a----a--e----b---b--c-b----\n",
      "str26: d--e----be-d-b-e----b--a---c------\n",
      "str27: ----c-e--e---bc--d-cbde-----------\n",
      "str28: db-e-d-a----a----d-----a--a--b----\n",
      "str29: ----c-----c---c--d-cb-e-b---d-c---\n",
      "str30: --ae--ea--cd-bc-----bd------------\n",
      "str31: d-a-c---be--a-c----c-------cd-----\n",
      "str32: ---ec-e-b-c---c--d--bd--b---------\n",
      "str33: d----d--b----bce-d-----ab----b----\n",
      "str34: --a----a-e--ab--a------a-e---b--a-\n",
      "str35: ---ec---b----bc-a------a----d-c--d\n",
      "str36: d--e----b-c---ce---c-d--b--c------\n",
      "str37: d-a----a--c--b--a-e---e-b--c------\n",
      "str38: --a--d-abe--a---a--c-------c---e--\n",
      "str39: d-aecd--b---a-c-a------a----------\n",
      "str40: d-a-c---b----b---d-c--e-----d-c---\n",
      "str41: d--e-d--be-----e----b---b---d--e--\n",
      "str42: ----cd-a---d--c--d-c-d-a--a-------\n",
      "str43: ----c-e--e-d--c-----b--a-e-----e-d\n",
      "str44: ----c-ea-ec-a---a------a---c----a-\n",
      "str45: d---c-----c---ce----b---b----b--ad\n",
      "str46: -bae--ea-e---b------bde-----------\n",
      "str47: db---de-b---a-c----c-d--b---------\n",
      "str48: ---e----b-c--b-e--e--d-a-ea-------\n",
      "str49: --ae--e--e---b------bd--b--c----a-\n",
      "str50: db---d-ab-c----e---cb---b---------\n",
      "\n",
      "solution is feasible: True\n",
      "solution is optimal: False\n",
      "best bound: 24\n"
     ]
    }
   ],
   "source": [
    "_instance = instance_05\n",
    "_model = model_05\n",
    "_solution = solution_05\n",
    "\n",
    "util.show(_instance)\n",
    "if _solution is not None:\n",
    "    util.show(_instance, _solution)\n",
    "    print(f\"solution is feasible: {util.is_feasible(_instance, _solution)}\")\n",
    "    print(f\"solution is optimal: {_model.solution.is_optimal}\")\n",
    "    print(f\"best bound: {_model.solution.best_bound}\")\n",
    "else:\n",
    "    print(\"--- Solution not found ---\")"
   ]
  },
  {
   "cell_type": "code",
   "execution_count": null,
   "id": "DnEU",
   "metadata": {},
   "outputs": [],
   "source": [
    "instance_06 = util.parse(\"nucleotide_n010k010.txt\")\n",
    "model_06 = Model(instance_06)\n",
    "solution_06 = model_06.solve().to_solution()"
   ]
  },
  {
   "cell_type": "code",
   "execution_count": null,
   "id": "ulZA",
   "metadata": {},
   "outputs": [
    {
     "name": "stdout",
     "output_type": "stream",
     "text": [
      "--- Condition (with 4 chars) ---\n",
      "str01: ATGGGATACG\n",
      "str02: ATACCTTCCC\n",
      "str03: CACGAATTGA\n",
      "str04: TAAAATCTGT\n",
      "str05: AGGTAACAAA\n",
      "str06: TTCCTAGGTA\n",
      "str07: TTGTAGATCT\n",
      "str08: TGGGAAGTTC\n",
      "str09: TTCCACAACT\n",
      "str10: TCTAAACGAA\n",
      "\n",
      "--- Solution (of length 24) ---\n",
      "  Sol: TACTACGCGTAGATCAGACTGTAC\n",
      "str01: -A-T--G-G--GAT-A--C-G---\n",
      "str02: -A-TAC-C-T---TC---C----C\n",
      "str03: --C-ACG---A-AT-----TG-A-\n",
      "str04: TA--A-----A-ATC----TGT--\n",
      "str05: -A----G-GTA-A-CA-A----A-\n",
      "str06: T--T-C-C-TAG----G--T--A-\n",
      "str07: T--T--G--TAGATC----T----\n",
      "str08: T-----G-G--GA--AG--T-T-C\n",
      "str09: T--T-C-C--A---CA-ACT----\n",
      "str10: T-CTA-----A-A-C-GA----A-\n",
      "\n",
      "solution is feasible: True\n",
      "solution is optimal: True\n",
      "best bound: 24\n"
     ]
    }
   ],
   "source": [
    "_instance = instance_06\n",
    "_model = model_06\n",
    "_solution = solution_06\n",
    "\n",
    "util.show(_instance)\n",
    "if _solution is not None:\n",
    "    util.show(_instance, _solution)\n",
    "    print(f\"solution is feasible: {util.is_feasible(_instance, _solution)}\")\n",
    "    print(f\"solution is optimal: {_model.solution.is_optimal}\")\n",
    "    print(f\"best bound: {_model.solution.best_bound}\")\n",
    "else:\n",
    "    print(\"--- Solution not found ---\")"
   ]
  },
  {
   "cell_type": "code",
   "execution_count": null,
   "id": "ecfG",
   "metadata": {},
   "outputs": [],
   "source": [
    "instance_07 = util.parse(\"nucleotide_n050k050.txt\")\n",
    "model_07 = Model(instance_07)\n",
    "solution_07 = model_07.solve().to_solution()"
   ]
  },
  {
   "cell_type": "code",
   "execution_count": null,
   "id": "Pvdt",
   "metadata": {},
   "outputs": [
    {
     "name": "stdout",
     "output_type": "stream",
     "text": [
      "--- Condition (with 5 chars) ---\n",
      "str01: TAGTAGTAGACTCCGGAAGTGACAAACCCTGAAAAGAATGGATAAATATA\n",
      "str02: GGATAAACACTCCCGAAAATAATTTGACTTAAACAACGCGACAGTTCAAG\n",
      "str03: ATACCTTCCTAGGTAACAAACCAACCAACTTTTGATCTCTTGTAGATCTG\n",
      "str04: TAAATTATAATCTTATACTAGTAAAAAATAGGGTGTAACCGAAAACGGTC\n",
      "str05: TTAAAACAGCCTGTGGGTTGCACCCACTCACAGGGCCCACTGGGCGCAAG\n",
      "str06: ATGACTTCCAATGGATCCCAACCTCAAGCTTCCACCCCAATGGTTTCAGC\n",
      "str07: AACAAACCAACCAACTTTTGATCTCTTGTAGATCTGTTCTCTAAACGAAC\n",
      "str08: ATGAAAACGAAAATTATTATCAAGGGTATGGAAGTGGAAGCTGACGAAAT\n",
      "str09: ACTCGGCTGCATGCTTAGTGCACTCACGCAGTATAATTAATAACTAATTA\n",
      "str10: TTGTAGATCTGTTCTCTAAACGAACTTTAAAATCTGTGTGGCTGTCACTC\n",
      "str11: GCAGAGCATTTTCTAATATCCACAAAATGAAGGCAATAATTGTACTACTC\n",
      "str12: ATGAGCCAAGATCCGACGAAGAGCCCCAAGGAGGAGAAGGAGGGACCCCC\n",
      "str13: TCTCACAGTTCAAGAACCCAAAGTACCCCCCATAGCCCTCTTAAAGCCAC\n",
      "str14: AGGTTTATACCTTCCTAGGTAACAAACCAACCAACTTTCGATCTCTTGTA\n",
      "str15: AGGTTTATACCTTCCCAGGTAACAAACCAACCAACTTTCGATCTCTTGTA\n",
      "str16: TAAAACAACTCAATACAACATAAGAAAATCAACGCAAAAACACTCACAAA\n",
      "str17: CCGCCCATTTGGGCGGCTCTCGAGCGATAGCTCGTCGAATCCCTCGACCT\n",
      "str18: ATACCTTCCCAGGTAACAAACCAACCAACTTTCGATCTCTTGTAGATCTG\n",
      "str19: TCTCACAGTTCAAGAACCTCAAGTCTCCCCCATAGGCCTCTTTCAGTCAG\n",
      "str20: GATCTCTCTCACCGAACCTGGCCCCGGGCAAATGCCCTAATCCAGAGGTG\n",
      "str21: AGAGCAATCAGTGCATCAGAAATATACCTATTATACACTTTGCTAAGAAT\n",
      "str22: AATTAAAACATCTCAATACAACATAAGAAAAACAACGCAAAAACACTCAT\n",
      "str23: AAACGAACTTTAAAATCTGTGTGGCTGTCACTCGGCTGCATGCTTAGTGC\n",
      "str24: ATAACTAATTACTGTCGTTGACAGGACACGAGTAACTCGTCTATCTTCTG\n",
      "str25: ATGAGTGTCACGAATTCACGTACAATGAACTGGATGTTCACGTGGAATAA\n",
      "str26: ACCGTGGGCGAGCGGTGACCGGTGTCTTCCTAGTGGGTCCCACGTTGAAR\n",
      "str27: AAAGGTTTATACCTTCCCAGGTAACAAACCAACCAACTTTCGATCTCTTG\n",
      "str28: AGTAGTTCGCCTGTGTGAGCTGACAAACTTAGTAGTGTTTGTGAGGATTA\n",
      "str29: TTTATACCTTCCTAGGTAACAAACCAACCAACTTTCGATCTCTTGTAGAT\n",
      "str30: ATGCGGTCGTCTCTCCCCGGCTTTTTTTCCCCGCGCCGCGTTGGCGCCGA\n",
      "str31: GTGACAAAAACATAATGGACTCCAACACCATGTCAAGCTTTCAGGTAGAC\n",
      "str32: GTGTAAGAAACAGTAAGCCCGGAAGTGGTGTTTTGCGATTTCGAGGCCGG\n",
      "str33: GAGAATGAGTCTCATTACCGCCCGGTACTTAGCAAGCTAATAGTCACGGC\n",
      "str34: ATGTGGTCGATGCCATGGAGGCCCACCAGTTCATTAAGGCTCCTGGCATT\n",
      "str35: ACGAGCGTTTTAAGGGCCCGCGACTGCGACGGCCACATGGCCCTGTATGT\n",
      "str36: GGTTTATACCTTCCCAGGTAACAAACCAACCAACTTTCGATCTCTTGTAG\n",
      "str37: TGGGAAGTTCCAAAAGATCACAAAACACTACCAGTCAACCTGAAGTACAC\n",
      "str38: GAAGCGTTAACGTGTTGAGGAAAAGACAGCTTAGGAGAACAAGAGCTGGG\n",
      "str39: ACCAGCGCACTTCGGCAGCGGCAGCACCTCGGCAGCACCTCAGCAGCAAC\n",
      "str40: ATGGGACAACTTATTCCTATCATGTGCCAAGAGGTTTTACCCGGTGACCA\n",
      "str41: TTGTAGATCTGTTCTCTAAACGAACTTTAAAATCTGTGTGGTTGTCACTC\n",
      "str42: AACCAACCAACTTTCGATCTCTTGTAGATCTGTTCTCTAAACGAACTTTA\n",
      "str43: GGGTTCTGCCAGGCATAGTCTTTTTTTCTGGCGGCCCTTGTGTAAACCTG\n",
      "str44: GGCTGCATGCTTAGTGCACTCACGCAGTATAATTAATAACTAATTACTGT\n",
      "str45: TGCATGCTTAGTGCACTCACGCAGTATAATTAATAACTAATTACTGTCGT\n",
      "str46: TTCCACAACTTTCCACCAAGCTCTGCAAGATCCCAGAGTCAGGGGCCTGT\n",
      "str47: TCTAAACGAACTTTAAAATCTGTGTGGCTGTCACTCGGCTGCATGCTTAG\n",
      "str48: ACCGGATGGCCGCGATTTTTCGGAGTCCTTGGGGGACCACTCAGAATAGA\n",
      "str49: CTTGTAGATCTGTTCTCTAAACGAACTTTAAAATCTGTGTGGCTGTCACT\n",
      "str50: ATGAGCACTAAGCGAAGAACCAAAAAGCAGACAATACAACCCGCTATTAC\n",
      "\n",
      "--- Solution (of length 133) ---\n",
      "  Sol: ACTGACGTAGTAACGTACATGCATCAGACTCAGTCAGTAGCTGATCATGCGATCAGTACAGCTAACTGCAAGTACCTGCATAGCATGCAGTCGATGCACTGCAGTACTCGTACGTAGACTGCATCCGTAGTCR\n",
      "str01: --T-A-GTAGTA--G-AC-T-C--C-G-----G--A--AG-TGA-CA----A--A---C--C---CTG-AA--A-----A--G-A---A-T-G--G-A-T--A--A-----A--TA---T--A----------\n",
      "str02: ---G--G-A-TAA---ACA--C-TC---C-C-G--A--A----A--AT---A--A-T-----T---TG-A----C-T---TA--A---A--C-A---AC-GC-G-AC----A-GT----T-CA-----AG---\n",
      "str03: A-T-AC-------C-T---T-C--C----T-AG---GTA----A-CA----A--A---C--C-AAC--CAA---C-T---T----T----T-GAT-C--T-C--T--T-GTA-G-A---T-C-T--G------\n",
      "str04: --T-A---A--A---T---T--AT-A-A-TC--T---TA--T-A-C-T---A---GTA-A---AA----AA-TA---G----G---G---T-G-T--A----A---C-CG-A---A-A----A-C-G--GTC-\n",
      "str05: --T----TA--AA---ACA-GC--C----T--GT--G--G--G-T--TGC-A-C----C--C-A-CT-CA----C----A--G---G--G-C----C-C---A---CT-G---G--G-C-GCA-----AG---\n",
      "str06: A-TGAC-T--T--C---CA---AT--G-----G--A-T--C----C---C-A--A---C--CT--C---AAG--C-T---T--C---CA--C----C-C--CA--A-T-G---GT----T---TC---AG-C-\n",
      "str07: A---AC--A--AAC---CA---A-C---C--A---A----CT--T--T----T--G-A----T--CT-C---T---TG--TAG-AT-C--T-G-T----T-C--T-CT---A---A-AC-G-A-----A--C-\n",
      "str08: A-TGA---A--AACG-A-A---A--A---T---T-A-T---T-ATCA----A---G----G------G----TA--TG----G-A---AGT-G--G-A----AG--CT-G-ACG-A-A----AT---------\n",
      "str09: ACT--CG--G---C-T----GCAT--G-CT---T-AGT-GC--A-C-T-C-A-C-G--CAG-TA--T--AA-T---T--A-A---T--A----A--C--T--A--A-T--TA---------------------\n",
      "str10: --T----T-GTA--G-A--T-C-T--G--T---TC--T--CT-A--A----A-C-G-A-A-CT---T-----TA-----A-A--AT-C--T-G-TG---TG--G--CT-GT-C--A--CT-C-----------\n",
      "str11: ---G-C--AG-A--G--CAT---T-----T---TC--TA----AT-AT-C---CA---CA---AA----A--T----G-A-AG---GCA----AT--A----A-T--T-GTAC-TA--CT-C-----------\n",
      "str12: A-TGA-G------C---CA---A---GA-TC---C-G-A-C-GA--A-G--A---G--C--C---C--CAAG-----G-A--G---G-AG---A---A--G--G-A---G---G--GAC--C--CC-----C-\n",
      "str13: --T--C-T-----C--ACA-G--T-----TCA---AG-A----A-C---C---CA--A-AG-TA-C--C-----CC--C----CAT--AG-C----C-CT-C--T--T---A---A-A--GC--C---A--C-\n",
      "str14: A--G--GT--T----TA--T--A-C---CT---TC-----CT-A----G-G-T-A--ACA---AAC--CAA---CC---A-A-C-T----T---T-C---G-A-T-CTC-T---T-G--T--A----------\n",
      "str15: A--G--GT--T----TA--T--A-C---CT---TC-----C----CA-G-G-T-A--ACA---AAC--CAA---CC---A-A-C-T----T---T-C---G-A-T-CTC-T---T-G--T--A----------\n",
      "str16: --T-A---A--AAC--A-A--C-TCA-A-T-A--CA--A-C--AT-A----A---G-A-A---AA-T-CAA---C--GCA-A--A---A----A--CACT-CA---C----A---A-A---------------\n",
      "str17: -C---CG------C---C---CAT-----T---T--G--G--G--C--G-G--C--T-C---T--C-G-A-G--C--G-ATAGC-T-C-GTCGA---A-T-C----C-C-T-CG-A--C--C-T---------\n",
      "str18: A-T-AC-------C-T---T-C--C---C--AG---GTA----A-CA----A--A---C--C-AAC--CAA---C-T---T----T-C-G---AT-C--T-C--T--T-GTA-G-A---T-C-T--G------\n",
      "str19: --T--C-T-----C--ACA-G--T-----TCA---AG-A----A-C---C--TCA--A--G-T--CT-C-----CC--C----CAT--AG--G---C-CT-C--T--T--T-C--AG--T-CA---G------\n",
      "str20: ---GA--T-----C-T-C-T-C-TCA--C-C-G--A--A-C----C-TG-G--C----C--C---C-G---G-----GCA-A--ATGC---C----C--T--A--A-TC---C--AGA--G-----GT-G---\n",
      "str21: A--GA-G------C--A-AT-CA---G--T--G-CA-T--C--A----G--A--A--A----TA--T--A----CCT--AT----T--A-T--A--CACT----T--T-G--C-TA-A--G-A-----A-T--\n",
      "str22: A---A--T--TAA---A"
     ]
    },
    {
     "name": "stdout",
     "output_type": "stream",
     "text": [
      "-A--CATC----TCA---A-TA-C--A--A--C-AT-A--A--G--AA----AA--AC----A-A-C--GCA----A---A----A--AC----AC-T---C---AT---------\n",
      "str23: A---A---A----CG-A-A--C-T-----T---T-A--A----A--AT-C--T--GT---G-T----G---G--C-TG--T--CA--C--TCG--GC--TGCA-T----G--C-T----T--A---GT-G-C-\n",
      "str24: A-T-A---A----C-TA-AT---T-A--CT--GTC-GT---TGA-CA-G-GA-CA---C-G--A---G----TA-----A---C-T-C-GTC--T--A-T-C--T--TC-T--G-------------------\n",
      "str25: A-TGA-GT-GT--C--AC--G-A--A---T---TCA----C-G-T-A--C-A--A-T---G--AACTG---G-A--TG--T----T-CA--CG-TG----G-A--A-T---A---A-----------------\n",
      "str26: AC---CGT-G----G-----GC----GA----G-C-G--G-TGA-C---CG----GT---G-T--CT-----T-CCT--A--G--TG--G--G-T-C-C--CA---C--GT---T-GA----A---------R\n",
      "str27: A---A---AG----GT---T---T-A---T-A--C-----CT--TC---C---CAG----G-TAAC---AA--ACC---A-A-C---CA----A--C--T----T--TCG-A--T---CT-C-T---T-G---\n",
      "str28: A--G---TAGT----T-C--GC--C----T--GT--GT-G---A----GC--T--G-ACA---AACT-----TA---G--TAG--TG---T---T----TG---T----G-A-G--GA-T---T----A----\n",
      "str29: --T----T--TA---TAC---C-T-----TC---C--TAG--G-T-A----A-CA--A-A-C---C---AA---CC---A-A-C-T----T---T-C---G-A-T-CTC-T---T-G--T--A---G-A-T--\n",
      "str30: A-TG-CG--GT--CGT-C-T-C-TC---C-C---C-G--GCT--T--T----T---T-----T---T-C-----CC--C---GC--GC---CG---C---G---T--T-G---G----C-GC--C-G-A----\n",
      "str31: ---G---T-G-A-C--A-A---A--A-AC--A-T-A--A--TG-----G--A-C--T-C--C-AAC---A----CC---AT-G--T-CA----A-GC--T----T--TC--A-G--G--T--A---G-A--C-\n",
      "str32: ---G---T-GTAA-G-A-A---A-CAG--T-A---AG---C----C---CG----G-A-AG-T----G---GT----G--T----T----T---TGC---G-A-T--T--T-CG-AG---GC--C-G--G---\n",
      "str33: ---GA-G-A--A---T----G-A---G--TC--TCA-T---T-A-C---CG--C----C--C-----G---GTAC-T---TAGCA---AG-C--T--A----A-TA---GT-C--A--C-G-----G----C-\n",
      "str34: A-TG---T-G----GT-C--G-AT--G-C-CA-T--G--G---A----G-G--C----C--C-A-C--CA-GT---T-CAT----T--A----A-G----GC--T-C-C-T--G--G-C---AT---T-----\n",
      "str35: AC-GA-G------CGT---T---T-----T-A---AG--G--G--C---C---C-G--C-G--A-CTGC--G-AC--G----GC---CA--C-ATG----GC----C-C-T--GTA---TG--T---------\n",
      "str36: ---G--GT--T----TA--T--A-C---CT---TC-----C----CA-G-G-T-A--ACA---AAC--CAA---CC---A-A-C-T----T---T-C---G-A-T-CTC-T---T-G--T--A---G------\n",
      "str37: --TG--G--G-AA-GT---T-C--CA-A---A---AG-A--T---CA--C-A--A--A-A-C-A-CT--A----CC---A--G--T-CA----A--C-CTG-A--A---GTAC--A--C--------------\n",
      "str38: ---GA---AG---CGT---T--A--A--C---GT--GT---TGA----G-GA--A--A-AG--A-C---A-G--C-T---TAG---G-AG---A---AC---A--A---G-A-G----CTG-----G--G---\n",
      "str39: AC---C--AG---CG--CA--C-T-----TC-G---G---C--A----GCG----G--CAGC-A-C--C---T-C--G----GCA-GCA--C----C--T-CAG--C----A-G----C---A-----A--C-\n",
      "str40: A-TG--G--G-A-C--A-A--C-T-----T-A-T---T--C----C-T---ATCA-T---G-T----GC-----C----A-AG-A-G--GT---T----T----TAC-C---CG--G--TG-A-CC--A----\n",
      "str41: --T----T-GTA--G-A--T-C-T--G--T---TC--T--CT-A--A----A-C-G-A-A-CT---T-----TA-----A-A--AT-C--T-G-TG---TG--GT--T-GT-C--A--CT-C-----------\n",
      "str42: A---AC-------C--A-A--C--CA-ACT---T---T--C-GATC-T-C--T---T---G-TA---G-A--T-C-TG--T----T-C--TC--T--A----A--AC--G-A---A--CT---T---TA----\n",
      "str43: ---G--G--GT----T-C-TGC--CAG-----G-CA-TAG-T---C-T----T---T-----T---T-----T---T-C-T-G---GC-G--G---C-C--C--T--T-GT--GTA-A----A-CC-T-G---\n",
      "str44: ---G--G------C-T----GCAT--G-CT---T-AGT-GC--A-C-T-C-A-C-G--CAG-TA--T--AA-T---T--A-A---T--A----A--C--T--A--A-T--TAC-T-G--T-------------\n",
      "str45: --TG-C--A-T---G--C-T---T-AG--T--G-CA----CT---CA--CG--CAGTA----TAA-T-----TA-----ATA--A--C--T--A---A-T----TACT-GT-CGT------------------\n",
      "str46: --T----T-----C---CA--CA--A--CT---T---T--C----CA--C---CA--A--GCT--CTGCAAG-A--T-C----C---CAG---A-G---T-CAG-----G---G--G-C--C-T--GT-----\n",
      "str47: --T--C-TA--AACG-A-A--C-T-----T---T-A--A----A--AT-C--T--GT---G-T----G---G--C-TG--T--CA--C--TCG--GC--TGCA-T----G--C-T----T--A---G------\n",
      "str48: AC---CG--G-A---T----G-----G-C-C-G-C-G-A--T--T--T----T---T-C-G------G-A-GT-CCT---T-G---G--G--G--G-AC--CA---CTC--A-G-A-A-T--A---G-A----\n",
      "str49: -CT----T-GTA--G-A--T-C-T--G--T---TC--T--CT-A--A----A-C-G-A-A-CT---T-----TA-----A-A--AT-C--T-G-TG---TG--G--CT-GT-C--A--CT-------------\n",
      "str50: A-TGA-G------C--AC-T--A--AG-C---G--A--AG---A--A--C---CA--A-A---AA--GCA-G-AC----A-A---T--A--C-A---AC--C----C--G--C-TA---T---T----A--C-\n",
      "\n",
      "solution is feasible: True\n",
      "solution is optimal: False\n",
      "best bound: 84\n"
     ]
    }
   ],
   "source": [
    "_instance = instance_07\n",
    "_model = model_07\n",
    "_solution = solution_07\n",
    "\n",
    "util.show(_instance)\n",
    "if _solution is not None:\n",
    "    util.show(_instance, _solution)\n",
    "    print(f\"solution is feasible: {util.is_feasible(_instance, _solution)}\")\n",
    "    print(f\"solution is optimal: {_model.solution.is_optimal}\")\n",
    "    print(f\"best bound: {_model.solution.best_bound}\")\n",
    "else:\n",
    "    print(\"--- Solution not found ---\")"
   ]
  },
  {
   "cell_type": "code",
   "execution_count": null,
   "id": "ZBYS",
   "metadata": {},
   "outputs": [],
   "source": [
    "instance_08 = util.parse(\"protein_n010k010.txt\")\n",
    "model_08 = Model(instance_08)\n",
    "solution_08 = model_08.solve().to_solution()"
   ]
  },
  {
   "cell_type": "code",
   "execution_count": null,
   "id": "aLJB",
   "metadata": {},
   "outputs": [
    {
     "name": "stdout",
     "output_type": "stream",
     "text": [
      "--- Condition (with 19 chars) ---\n",
      "str01: MALSYCPKGT\n",
      "str02: MQSSLNAIPV\n",
      "str03: MPLSYQHFRK\n",
      "str04: MEEHVNELHD\n",
      "str05: MSNFDAIRAL\n",
      "str06: MFRNQNSRNG\n",
      "str07: MFYAHAFGGY\n",
      "str08: MSKFTRRPYQ\n",
      "str09: MSFVAGVTAQ\n",
      "str10: MESLVPGFNE\n",
      "\n",
      "--- Solution (of length 44) ---\n",
      "  Sol: MQPSKFTRAESLNESYAQHFVDANISRCPGVKFGTNEALHDGYQ\n",
      "str01: M-------A--L--SY-----------CP--K-GT---------\n",
      "str02: MQ-S------SLN---A-------I---P-V-------------\n",
      "str03: M-P--------L--SY-QHF------R----K------------\n",
      "str04: M--------E---E----H-V--N------------E-LHD---\n",
      "str05: M--S--------N------F-DA-I-R----------AL-----\n",
      "str06: M----F-R----N----Q-----N-SR--------N-----G--\n",
      "str07: M----F---------YA-H---A---------FG-------GY-\n",
      "str08: M--SKFTR------------------R-P-------------YQ\n",
      "str09: M--S-F--------------V-A------GV---T--A-----Q\n",
      "str10: M--------ESL--------V-------PG--F--NE-------\n",
      "\n",
      "solution is feasible: True\n",
      "solution is optimal: False\n",
      "best bound: 29\n"
     ]
    }
   ],
   "source": [
    "_instance = instance_08\n",
    "_model = model_08\n",
    "_solution = solution_08\n",
    "\n",
    "util.show(_instance)\n",
    "if _solution is not None:\n",
    "    util.show(_instance, _solution)\n",
    "    print(f\"solution is feasible: {util.is_feasible(_instance, _solution)}\")\n",
    "    print(f\"solution is optimal: {_model.solution.is_optimal}\")\n",
    "    print(f\"best bound: {_model.solution.best_bound}\")\n",
    "else:\n",
    "    print(\"--- Solution not found ---\")"
   ]
  },
  {
   "cell_type": "code",
   "execution_count": null,
   "id": "nHfw",
   "metadata": {},
   "outputs": [],
   "source": [
    "instance_09 = util.parse(\"protein_n050k050.txt\")\n",
    "model_09 = Model(instance_09)\n",
    "solution_09 = model_09.solve().to_solution()"
   ]
  },
  {
   "cell_type": "code",
   "execution_count": null,
   "id": "xXTn",
   "metadata": {},
   "outputs": [
    {
     "name": "stdout",
     "output_type": "stream",
     "text": [
      "--- Condition (with 20 chars) ---\n",
      "str01: MRHLNIDIETYSSNDIKNGVYKYADAEDFEILLFAYSIDGGEVECLDLTR\n",
      "str02: MERRAHRTHQNWDATKPRERRKQTQHRLTHPDDSIYPRIEKAEGRKEDHG\n",
      "str03: MEPGAFSTALFDALCDDILHRRLESQLRFGGVQIPPEVSDPRVYAGYALL\n",
      "str04: MGKFYYSNRRLAVFAQAQSRHLGGSYEQWLACVSGDSAFRAEVKARVQKD\n",
      "str05: FFRENLAFQQGKAREFPSEEARANSPTSRELWVRRGGNPLSEAGAERRGT\n",
      "str06: MDPSLTQVWAVEGSVLSAAVDTAETNDTEPDEGLSAENEGETRIIRITGS\n",
      "str07: MAFDFSVTGNTKLDTSGFTQGVSSMTVAAGTLIADLVKTASSQLTNLAQS\n",
      "str08: MAVILPSTYTDGTAACTNGSPDVVGTGTMWVNTILPGDFFWTPSGESVRV\n",
      "str09: MNTGIIDLFDNHVDSIPTILPHQLATLDYLVRTIIDENRSVLLFHIMGSG\n",
      "str10: MFVFLVLLPLVSSQCVNLRTRTQLPPAYTNSFTRGVYYPDKVFRSSVLHS\n",
      "str11: MDSKETILIEIIPKIKSYLLDTNISPKSYNDFISRNKNIFVINLYNVSTI\n",
      "str12: MLLSGKKKMLLDNYETAAARGRGGDERRRGWAFDRPAIVTKRDKSDRMAH\n",
      "str13: MNGEEDDNEQAAAEQQTKKAKREKPKQARKVTSEAWEHFDATDDGAECKH\n",
      "str14: MESLVPGFNEKTHVQLSLPVLQVRDVLVRGFGDSVEEVLSEARQHLKDGT\n",
      "str15: MRYIVSPQLVLQVGKGQEVERALYLTPYDYIDEKSPIYYFLRSHLNIQRP\n",
      "str16: MPRVPVYDSPQVSPNTVPQARLATPSFATPTFRGADAPAFQDTANQQARQ\n",
      "str17: MFVFLVLLPLVSSQCVNLRTRTQLPLAYTNSFTRGVYYPDKVFRSSVLHS\n",
      "str18: MFVFFVLLPLVSSQCVNLTTRTQLPPAYTNSFTRGVYYPDKVFRSSVLHS\n",
      "str19: MEAIISFAGIGINYKKLQSKLQHDFGRVLKALTVTARALPGQPKHIAIRQ\n",
      "str20: MASSGPERAEHQIILPESHLSSPLVKHKLLYYWKLTGLPLPDECDFDHLI\n",
      "str21: MESLVPGFNEKTHVQLSLPVLQVRDVLVRGFGDSVEEVLSEVRQHLKDGT\n",
      "str22: MLAPSPNSKIQLFNNINIDINYEHTLYFASVSAQNSFFAQWVVYSADKAI\n",
      "str23: MSAITETKPTIELPALAEGFQRYNKTPGFTCVLDRYDHGVINDSKIVLYN\n",
      "str24: MKNIAEFKKAPELAEKLLEVFSNLKGNSRSLDPMRAGKHDVVVIESTKKL\n",
      "str25: MPQPLKQSLDQSKWLREAEKHLRALESLVDSNLEEEKLKPQLSMGEDVQS\n",
      "str26: MFVFLVLLPLVSSQCVNLITRTQSYTNSFTRGVYYPDKVFRSSVLHSTQD\n",
      "str27: MKFDVLSLFAPWAKVDEQEYDQQLNNNLESITAPKFDDGATEIESERGDI\n",
      "str28: MFVFLVLLPLVSSQCVNFTNRTQLPSAYTNSFTRGVYYPDKVFRSSVLHS\n",
      "str29: MWSIIVLKLISIQPLLLVTSLPLYNPNMDSCCLISRITPELAGKLTWIFI\n",
      "str30: MESLVPGFNEKTHVQLSLPVLQVRDVLVRGFGDSVEEFLSEARQHLKDGT\n",
      "str31: MFVFLVLLPLVSSQCVMPLFNLITTTQSYTNFTRGVYYPDKVFRSSVLHL\n",
      "str32: MHQITVVSGPTEVSTCFGSLHPFQSLKPVMANALGVLEGKMFCSIGGRSL\n",
      "str33: MATLLRSLALFKRNKDKPPITSGSGGAIRGIKHIIIVPIPGDSSITTRSR\n",
      "str34: MESLVPGFNEKTHVQLSLPVLQVRDVLVRGFGDSMEEVLSEARQHLKDGT\n",
      "str35: MFVFLVLLPLVSSQCVNLTTGTQLPPAYTNSFTRGVYYPDKVFRSSVLHS\n",
      "str36: MANIINLWNGIVPMVQDVNVASITAFKSMIDETWDKKIEANTCISRKHRN\n",
      "str37: MLNRIQTLMKTANNYETIEILRNYLRLYIILARNEEGRGILIYDDNIDSV\n",
      "str38: MADPAGTNGEEGTGCNGWFYVEAVVEKKTGDAISDDENENDSDTGEDLVD\n",
      "str39: MFVFLVLLPLVSSQCVNLRTRTQLPPSYTNSFTRGVYYPDKVFRSSVLHS\n",
      "str40: MESLVPGFNEKTHVQLSLPVLQVCDVLVRGFGDSVEEVLSEARQHLKDGT\n",
      "str41: MNNQRKKTARPSFNMLKRARNRVSTVSQLAKRFSKGLLSGQGPMKLVMAF\n",
      "str42: MSNFDAIRALVDTDAYKLGHIHMYPEGTEYVLSNFTDRGSRIEGVTHTVH\n",
      "str43: MIELRHEVQGDLVTINVVETPEDLDGFRDFIRAHLICLAVDTETTGLDIY\n",
      "str44: MFVFLVLLPLVSSQCVMPLFNLITTNQSYTNSFTRGVYYPDKVFRSSVLH\n",
      "str45: MSKDLVARQALMTARMKADFVFFLFVLWKALSLPVPTRCQIDMAKKLSAG\n",
      "str46: MASLLKSLTLFKRTRDQPPLASGSGGAIRGIKHVIIVLIPGDSSIVTRSR\n",
      "str47: MRVRGILRNWQQWWIWTSLGFWMFMICSVVGNLWVTVYYGVPVWKEAKTT\n",
      "str48: MAVEPFPRRPITRPHASIEVDTSGIGGSAGSSEKVFCLIGQAEGGEPNTV\n",
      "str49: MFYAHAFGGYDENLHAFPGISSTVANDVRKYSVVSVYNKKYNIVKNKYMW\n",
      "str50: MANYSKPFLLDIVFNKDIKCINDSCSHSDCRYQSNSYVELRRNQALNKNL\n",
      "\n",
      "--- Solution (of length 500) ---\n",
      "  Sol: MEWFNGPAKDELRYSIVFDAHREPSNGADLIKSDTYQLREHIGSANIFTKGVPLYERQSFKVIDNLVWASGANEKAIQTMEGRLDMNASFHQAPKYRLTDYIEVADIFQNTWGLIDEPSAHKVLDGNSMYWRQATIHVFWNECKPAADHLNTFAQSRVCDLMGIAWLAEKPRGIFYVDLASQTNGEAHFDLIDPFERVTKGNSCRPQLETWKDAMGYSHGEQRKIVTLMPFNAQLHDRYFSATGGNSDCVLNFKMPEADGHIVKTGCRYEPARDNTFAHQKSLEQMVVYIATNGLSFADWRGKESTICAYLRFAKWPVCIDANTRAKHYLWSGVDKFQSNIELVDFYCLRAEPIGIEMAIKTYEFVMDSLNHPARYIAGKDEHKLFTNRFASYVIGDPLCGEQFCADLSAVRWEKTPGNDCEIVSEVAPRDMYGACDKFWHQDNSKLIYTHMAGEVDQLNSHTMLQAIYRWSHPKVIADGQMTSNRQFGLADTIKYVHPL\n",
      "str01: M-----------R-------H--------L---------------NI----------------D------------I---E-----------------T-Y-----------------S--------S------------N------D---------------I-----K-------------NG------------V------------------Y------K--------------Y--A-----D---------A-----------E---D--F------E-----I----L---------------L-FA--------------Y--S--------I---D---------G-----------------------G--E-----------V-------E--C--L-----------D--------------------------L--T-------------------R------------------------------\n",
      "str02: ME----------R--------R-----A------------H---------------R---------------------T-----------HQ-----------------N-W---D---A--------------T--------KP-----------R-----------E--R------------------------R--K------Q--T-----------Q-------------H-R------------L-------------T-------------H-------------------------------------P---D-------------D---S-I-----Y-----P---------------------R-I----E-K------A----------E---------------G-----------R-------K----------------E-D----H-----------------G--------------------\n",
      "str03: ME----P-------------------GA-------------------F----------S-------------------T--------A---------L---------F-------D---A---L------------------C----D-----------D---I--L--------------------H--------R-------R--LE--------S---Q-----L---------R-F---GG----V-----------------------------Q---------I--------------------------P-----------------------------------P---E--------V--S-----------D----------------P-------------R-----------V--------Y-A------------------G--------------Y--------A-----------L---------L\n",
      "str04: M----G--K--------F-----------------Y------------------Y---S-----N-----------------R-------------RL------A-----------------V---------------F------A--------Q---------A----------------Q--------------------S-R-------------H--------L---------------GG-S---------------------YE---------Q-------------------W----------L--A----C--------------V----S---------------G------------DS----A-----------F--R-A----------E--------V---K------------A-R-------------------------V-Q----------------K---D---------------------\n",
      "str05: ---F-------------F---RE--N---L--------------A--F---------Q-------------------Q---G------------K---------A--------------------------R---------E----------F-----------------P---------S----E---------E-----------------A--------R---------A------------NS--------P--------T----------------S------------------R--E------L----W-V------R------------------------R----G-----------------------G--------N---------PL---------S----E-------------A-----GA-------------------E--------------R---------------R--G---T-------\n",
      "str06: M--------D-------------PS----L----T-Q--------------V---------------WA----------------------------------V------------E--------G-S---------V-----------L-----S--------A--A--------VD----T---A--------E--T--N----------D-------------T-----------------------------E-------------P--D---------E---------GLS-A-----E------------------N------------------E-"
     ]
    },
    {
     "name": "stdout",
     "output_type": "stream",
     "text": [
      "-----------G-E----T------------R-I-----------------I----------------R----------I--------------------------T---G------S---------------------------------------\n",
      "str07: M------A---------FD----------------------------F----------S--V----------------T--G----N-----------T----------------------K-LD---------T--------------------S------G-----------F-------T-----------------------Q--------G---------V--------------S-----S-------M---------T---------------------V---A------A---G---T----L--------I-A------------D-------LV----------------KT-----------A-----------------S----------------S--------------------------------Q----L--T---------N----L-A-------------Q--S----------------\n",
      "str08: M------A--------V-------------I------L--------------P-----S-------------------T----------------Y--TD------------G---------------------T----------AA-----------C-----------------------TNG-----------------S--P------D------------V-----------------------V---------G----TG---------T---------M-------------W-----------------V----NT----------------I-L---------P-G------------D-----------------F---F----------------------W--TP-------S--------G--------------------E-----S--------------V---------R----------V---\n",
      "str09: M---N-----------------------------T-------G---I---------------ID-L-----------------------F---------D---------N----------H-V-D--S-------I--------P------T-----------I--L---P----------------H------------------QL-----A------------TL--------D-Y-----------L-----------V----R-------T-------------I----------------I-------------D--------------------E----------------------------N---R----------------S-V----L--------L------------------------------F-H------I---M-G------S------------------G--------------------\n",
      "str10: M--F------------VF-----------L---------------------V-L-----------L---------------------------P---L-----V--------------S--------S----Q---------C--------------V-------------------------N------L-----R-T-----R----T-----------Q-----L-P-------------------------P-A----------Y------T----------------N--SF--------T-----R--------------------GV------------Y---------------Y---------P-------D--K---------V---------F-------R------------S-------------------S----------V--L--H---------S----------------------------\n",
      "str11: M--------D----S----------------K-------E--------T-------------I--L----------I---E--------------------I----I----------P---K-------------I-------K-----------S-------------------Y--L-----------L-D-----T--N----------------------I---------------S--------------P-------K-----------------S------Y---N-----D-------------F------I-----------S-----------------R--------------------N--------K-------N------I--------F------V-----------I--------------------N--L-Y----------N---------------V-------S--------TI------\n",
      "str12: M----------L-----------------L--S---------G------K----------K-------------K----M---L-------------L-D---------N-------------------Y-----------E---------T-A----------A--A---RG-----------------------R---G--------------G--------------------D-------------------E----------R----R---------------------------RG-------------W-----A--------------F-------D----R--P-----AI-----V--------------------T---------------------------K--------------RD------K------S-----------D------------R-----------M--------A------H--\n",
      "str13: M---NG----E-----------E-----D----D-----------N---------E-Q----------A--A---A----E----------Q----------------Q-T----------K---------------------K-A-----------------------K-R-------------E-------------K-----P-----K---------Q----------A----R---------------K--------V-T----------------S-E------A--------W---E-----------------------H--------F-------D-----A----------T-----D------------D--------------G---------A-------E------C----------------K--H-----------------------------------------------------------\n",
      "str14: ME------------S--------------L---------------------VP-----------------G------------------F-------------------N------E----K------------T-HV----------------Q-----L-------------------S---------L--P---V---------L-------------Q---V-----------R---------D-VL-----------V----R-------------------------G--F----G------------------D----------S-V-------E---------E-------------V---L---------------------S---------E---A-----R-----------------------------Q--------H-------L---------------K---DG--T-----------------\n",
      "str15: M-----------RY-IV-------S---------------------------P----Q-------LV----------------L-------Q-----------V--------G--------K---G------Q--------E---------------V----------E--R-------A----------L-------------------------Y----------L--------------T------------P------------Y----D--------------YI--------D----E----------K----------------S--------------------PI--------Y------------Y---------F------------L------------R------------S---------------H-----L------------N-------I------------Q----R------------P-\n",
      "str16: M-----P-----R---V------P---------------------------V--Y--------D-----S-----------------------P--------------Q-------------V----S----------------P-----NT-----V------------P----------Q----A---------R----------L-----A------------T--P----------S-----------F----A------T-----P----TF-------------"
     ]
    },
    {
     "name": "stdout",
     "output_type": "stream",
     "text": [
      "----------RG------A-----------DA------------------------------P-----A-----F-------------------------------------Q---D--------T-----------A---------------N-------------Q-------QA--R----------Q-------------------\n",
      "str17: M--F------------VF-----------L---------------------V-L-----------L---------------------------P---L-----V--------------S--------S----Q---------C--------------V-------------------------N------L-----R-T-----R----T-----------Q-----L-P----L------A--------------------------Y------T----------------N--SF--------T-----R--------------------GV------------Y---------------Y---------P-------D--K---------V---------F-------R------------S-------------------S----------V--L--H---------S----------------------------\n",
      "str18: M--F------------VF-----------------------------F---V-L-----------L---------------------------P---L-----V--------------S--------S----Q---------C--------------V-------------------------N------L-------T----------T------------R---T------QL--------------------P--------------PA----------------Y--TN--SF--------T-----R--------------------GV------------Y---------------Y---------P-------D--K---------V---------F-------R------------S-------------------S----------V--L--H---------S----------------------------\n",
      "str19: ME-----A-------I--------------I-S--------------F--------------------A-G-----I----G-------------------I-------N-------------------Y-------------K-------------------------K--------L--Q--------------------S--------K---------------L-----Q-HD--F---G-----------------------R------------------V-------L-------K-----A-L------------T---------V---------------------------T-----------AR--A------L------------P--G-Q-------------P--------------------K--H------I----A--------------I-R----------Q-------------------\n",
      "str20: M------A------S---------S-G-------------------------P--ER-----------A----E----------------HQ---------I----I------L---P-----------------------E-------------S-------------------------------H--L-----------S--------------S-----------P----L--------------V---K------H--K------------------L-----------L--------------Y------------------Y-W----K------L------------------T----------------G-----L------------PL-----------------P--D-E-------------CD-F---D-------H-------L--------I--------------------------------\n",
      "str21: ME------------S--------------L---------------------VP-----------------G------------------F-------------------N------E----K------------T-HV----------------Q-----L-------------------S---------L--P---V---------L-------------Q---V-----------R---------D-VL-----------V----R-------------------------G--F----G------------------D----------S-V-------E---------E-------------V---L---------------------S---------E--------VR-----------------------------Q--------H-------L---------------K---DG--T-----------------\n",
      "str22: M----------L-------A---PS---------------------------P-----------N----S----K-IQ-----L-----F-------------------N----------------N--------I----N----------------------I-------------D-------------I---------N--------------Y---E--------------H------T-------L-----------------Y-------FA---S----V--------S-A---------------------------------------Q-N----------------------------S----------------F---FA-----------Q---------W----------V--V-----Y-----------S-------A---D-----------------K--A---------------I------\n",
      "str23: M-------------S----A----------I---T----E--------TK--P-------------------------T----------------------IE----------L---P-A---L---------A-------E--------------------G-----------F------Q--------------R-------------------Y--------------N---------------------K----------T-----P----------------------G--F--------T-C---------V-----------L----D--------------R------------Y----D---H------G--------------VI-----------------------ND----S------------K---------I-------V--L---------Y---------------N---------------\n",
      "str24: M-------K----------------N----I-------------A----------E---FK-------------KA-----------------P--------E----------L-----A---------------------E-K-----L----------L-------E-------V-----------F-------------S----------------------------N--L------------------K-----G--------------N------S------------------R---S-----L---------D-------------------------------P----M----------------R--AGK--H-------------D-------------V------------V--V--------------------I------E-----S-T-----------K-------------------K----L\n",
      "str25: M-----P-----------------------------Q---------------PL------K----------------Q----------S--------L-D--------Q---------S--K--------W------------------L------R-----------E----------A-----E-------------K------------------H--------L---------R---A--------L-----E------------------------SL---V-----------D-----S-----------------N------L-----------E---------E----E---K--------L---------K-----------------P----Q----LS----------------------M-G--------------------E-D------------------V----Q--S----------------\n",
      "str26: M--F------------VF-----------L---------------------V-L-----------L---------------------------P---L-----V--------------S--------S----Q---------C--------------V-------------------------N------LI------T-----R----T-----------Q----------------"
     ]
    },
    {
     "name": "stdout",
     "output_type": "stream",
     "text": [
      "--S---------------------------Y------T----------------N--SF--------T-----R--------------------GV------------Y---------------Y---------P-------D--K---------V---------F-------R------------S-------------------S----------V--L--H---------S----------T---Q----D--------\n",
      "str27: M-------K--------FD--------------------------------V-L----S------L-----------------------F--AP-----------------W-------A-KV-D----------------E------------Q-------------E------Y-D---Q------------------------QL-----------------------N-------------N-----N------------------------------LE-----------S----------I----------------T-A--------------------------P-------K---F--D------------D--------------G---------A---------T-----EI--E------------------S---------E--------------R---------G-----------D-I------\n",
      "str28: M--F------------VF-----------L---------------------V-L-----------L---------------------------P---L-----V--------------S--------S----Q---------C--------------V-------------------------N----F---------T--N--R----T-----------Q-----L-P----------SA--------------------------Y------T----------------N--SF--------T-----R--------------------GV------------Y---------------Y---------P-------D--K---------V---------F-------R------------S-------------------S----------V--L--H---------S----------------------------\n",
      "str29: M-W-----------SI--------------I--------------------V-L------K----L----------I-----------S------------I------Q--------P-----L-------------------------L----------L---------------V-----T-------------------S----L---------------------P----L---Y------N---------P------------------N----------M------------D-----S--C----------C----------L----------I---------------------------S-----R-I---------T----------P---E-----L-A-------G-------------------K--------L--T--------------------W-----I----------F-----I------\n",
      "str30: ME------------S--------------L---------------------VP-----------------G------------------F-------------------N------E----K------------T-HV----------------Q-----L-------------------S---------L--P---V---------L-------------Q---V-----------R---------D-VL-----------V----R-------------------------G--F----G------------------D----------S-V-------E---------E------------F----L---------------------S---------E---A-----R-----------------------------Q--------H-------L---------------K---DG--T-----------------\n",
      "str31: M--F------------VF-----------L---------------------V-L-----------L---------------------------P---L-----V--------------S--------S----Q---------C--------------V---M--------P-------L---------F------------N-----L----------------I-T---------------T---------------------T--------------Q-S------Y--TN---F--------T-----R--------------------GV------------Y---------------Y---------P-------D--K---------V---------F-------R------------S-------------------S----------V--L--H--L-----------------------------------\n",
      "str32: M-------------------H---------------Q----I------T--V---------V-------SG----------------------P----T---EV--------------S---------------T-------C---------F---------G-----------------S---------L---------------------------H-----"
     ]
    },
    {
     "name": "stdout",
     "output_type": "stream",
     "text": [
      "-----PF--Q------S---------L--K-P------V----------------------M----A-N----A------------L---------------------GV--------L--------E--G-----K-----M------------------F-------------C--------S-------------I----------G-------------------G---------------R-S-----------------L----------\n",
      "str33: M------A--------------------------T--L---------------L--R-S------L--A--------------L-----F----K-R------------N-----------K--D------------------KP-------------------------P--I--------T-------------------S------------G-S-G-----------------------G-------------A---I-----R-------------------------G------------I-------K------------H------------I------------I-I---------V------P---I--------------------P--G-----D-S---------------S----------------------I-T------------T------R-S-------------R--------------\n",
      "str34: ME------------S--------------L---------------------VP-----------------G------------------F-------------------N------E----K------------T-HV----------------Q-----L-------------------S---------L--P---V---------L-------------Q---V-----------R---------D-VL-----------V----R-------------------------G--F----G------------------D----------S-------------------------M-----E-----------------E-----------V----L---------S----E-------------A-R-----------Q--------H-------L---------------K---DG--T-----------------\n",
      "str35: M--F------------VF-----------L---------------------V-L-----------L---------------------------P---L-----V--------------S--------S----Q---------C--------------V-------------------------N------L-------T----------T-----G----------T------QL--------------------P--------------PA----------------Y--TN--SF--------T-----R--------------------GV------------Y---------------Y---------P-------D--K---------V---------F-------R------------S-------------------S----------V--L--H---------S----------------------------\n",
      "str36: M------A-----------------N----I----------I---N-------L-------------W----N--------G-------------------I-V-------------P----------M--------V----------------Q----D----------------V------N-------------V---------------A---S------I-T-----A------F-------------K---------------------------S---M---I--------D----E-T---------W----D-----K--------K----IE--------A-------------------N---------------T------------C----------------------I-S----R-------K--H----------------------------R--------------N---------------\n",
      "str37: M----------L-------------N------------R--I---------------Q--------------------T----L-M--------K---T-----A----N----------------N--Y-----------E---------T-----------I----E----I----L-----------------R----N--------------Y----------L---------R------------L-----------------Y--------------------I----------------I---L--A----------R--------------N-E---------E--G-------------------R---G---------------I---L-----------------------I---------Y---D-----DN---I--------D---S--------------V------------------------\n",
      "str38: M------A-D-------------P---A--------------G-----T---------------N-----G--E------EG----------------T-------------G-----------------------------C-------N-----------G--W--------FYV--------EA"
     ]
    },
    {
     "name": "stdout",
     "output_type": "stream",
     "text": [
      "----------V---------------------------V------------------------------E------K----------------K----------T-G----D---------A----------I-----------S--D---------D------E------------------N----------E-----N--------D-----------S----------D-----------------------------T---GE-D-L----------------V--D---------------------\n",
      "str39: M--F------------VF-----------L---------------------V-L-----------L---------------------------P---L-----V--------------S--------S----Q---------C--------------V-------------------------N------L-----R-T-----R----T-----------Q-----L-P-------------------------P-------------------------S------Y--TN--SF--------T-----R--------------------GV------------Y---------------Y---------P-------D--K---------V---------F-------R------------S-------------------S----------V--L--H---------S----------------------------\n",
      "str40: ME------------S--------------L---------------------VP-----------------G------------------F-------------------N------E----K------------T-HV----------------Q-----L-------------------S---------L--P---V---------L-------------Q---V----------------------C---------D---V-------------------L---V-------------RG----------F-------------------G-D---S----V-------E----E--------V---L---------------------S---------E---A-----R-----------------------------Q--------H-------L---------------K---DG--T-----------------\n",
      "str41: M---N--------------------N----------Q-R----------K----------K-----------------T--------A--------R--------------------PS-------------------F-N--------------------M----L--K-R-------A----------------R----N--R--------------------V--------------S-T------V-------------------------------S--Q---------L--A----K--------RF------------------S---K------------------G--------------L--------------L------S---G------Q--------------G----------P--M-----K--------L--------V-------M--A--------------------F------------\n",
      "str42: M-------------S----------N---------------------F---------------D----A-------I-----R----A---------L-----V-D----T----D---A---------Y-------------K-----L------------G------------------------H---I--------------------------H---------M---------Y----------------PE--G----T----E------------------Y----------------------------V-----------L-S-------N-----F---------------T-----D------R---G------------S-------------------R----------I--E-------G---------------------V------T---------H---------T-------------VH--\n",
      "str43: M--------------I------E------L--------R-H--------------E-----V---------------Q---G--D------------L-----V------T---I-----------N----------V-------------------V----------E-------------T----------P-E----------------D--------------L--------D------G--------F--------------R-----D--F------------I----------R-------A------------------H-L----------I------CL-A--------------V-D------------------T--------------E-------------T---------------------------------T---G----L-------------------D--------------I-Y----\n",
      "str44: M--F------------VF-----------L---------------------V-L-----------L---------------------------P---L-----V--------------S--------S----Q---------C--------------V---M--------P-------L---------F------------N-----L----------------I-T---------------T--N---------------------------------Q-S------Y--TN--SF--------T-----R--------------------GV------------Y---------------Y---------P-------D--K---------V---------F-------R------------S-------------------S----------V--L--H--------------------------------------\n",
      "str45: M-------------S----------------K-D---L-------------V----------------A-------------R--------QA----L------------------------------M-----T----------A----------R----M-------K---------A---------D----F--V--------------------------------F--------F----------L-F---------V-------------------L----------------W--K-----A-L--------------------S----------L---------P------------V------P-------------T-R----------C--Q-------------------I-------DM--A--K-------KL-------------S-----A------------G--------------------\n",
      "str46: M------A------S--------------L-------L-----------K--------S------L------------T----L-----F----K-R-T--------------------------------R---------------D--"
     ]
    },
    {
     "name": "stdout",
     "output_type": "stream",
     "text": [
      "----Q---------------P----------------------P-------------L-----A---S-G--------------------S--GG------------A---I-----R-------------------------G------------I-------K------------H-----V------I------------I-----------V---L------I--------------------P--G-----D-S---------------S----------------------I-------V------T------R-S-------------R--------------\n",
      "str47: M-----------R---V----R----G---I------LR------N---------------------W---------Q-------------Q-------------------W------------------W----I---W-----------T---S----L-G-----------F-----------------------------------W---M---------------F-----------------------M------I----C--------------S----VV-----G----------------------------N------LW--V---------------------------T---V---------Y----------------Y--G--------------V-----P------V---------------W-----K--------E-----------A-------K-------T---------T-------\n",
      "str48: M------A--------V-----EP-----------------------F----P---R-------------------------R----------P-------I--------T--------------------R------------P---H----A-S-------I----E-------VD----T-------------------S------------G--------I------------------GG-S----------A-G---------------------S-------------S-------E----------K--V------------------F----------CL----IG-----------------------------------------------Q--A-------E---G---------------G--------------------E------------------P----------N-------T---V---\n",
      "str49: M--F---------Y-----AH------A-------------------F--G-------------------G------------------------Y---D--E------N---L------H------------A----F-----P-----------------GI----------------S---------------------S------T---------------V------A------------N-D-V-----------------R------------K-------Y------S---------------------V---------------V----S----V--Y-----------------------N--------K---K--------Y-------------------------N---IV-------------K-----N-K--Y--M------------------W-----------------------------\n",
      "str50: M------A-----------------N---------Y-------S-----K--P------F-----L-----------------LD----------------I-V---F-N-----------K--D----------I-------K--------------C----I-------------------N-----D------------SC-------------SH---------------------S------DC------------------RY----------Q-S----------N--S-------------Y-------V-----------------------EL------R------------------------R------------N--------------Q--A-L----------N------------------K-----N--L-----------------------------------------------------\n",
      "\n",
      "solution is feasible: True\n",
      "solution is optimal: False\n",
      "best bound: 93\n"
     ]
    }
   ],
   "source": [
    "_instance = instance_09\n",
    "_model = model_09\n",
    "_solution = solution_09\n",
    "\n",
    "util.show(_instance)\n",
    "if _solution is not None:\n",
    "    util.show(_instance, _solution)\n",
    "    print(f\"solution is feasible: {util.is_feasible(_instance, _solution)}\")\n",
    "    print(f\"solution is optimal: {_model.solution.is_optimal}\")\n",
    "    print(f\"best bound: {_model.solution.best_bound}\")\n",
    "else:\n",
    "    print(\"--- Solution not found ---\")"
   ]
  }
 ],
 "metadata": {},
 "nbformat": 4,
 "nbformat_minor": 5
}
