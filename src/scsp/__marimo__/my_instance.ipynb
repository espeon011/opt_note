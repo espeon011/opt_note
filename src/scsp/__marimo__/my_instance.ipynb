{
 "cells": [
  {
   "cell_type": "code",
   "execution_count": null,
   "id": "setup",
   "metadata": {
    "marimo": {
     "name": "setup"
    }
   },
   "outputs": [],
   "source": [
    "import model_didp2\n",
    "import util"
   ]
  },
  {
   "cell_type": "code",
   "execution_count": null,
   "id": "Hbol",
   "metadata": {},
   "outputs": [],
   "source": [
    "import marimo as mo\n",
    "import nbformat"
   ]
  },
  {
   "cell_type": "markdown",
   "id": "MJUe",
   "metadata": {
    "marimo": {
     "config": {
      "hide_code": true
     }
    }
   },
   "source": [
    "# 計算時間は度外視して最適値が知りたい"
   ]
  },
  {
   "cell_type": "code",
   "execution_count": null,
   "id": "vblA",
   "metadata": {},
   "outputs": [
    {
     "name": "stdout",
     "output_type": "stream",
     "text": [
      "Solver: CABS from DIDPPy v0.10.0\n",
      "Searched with beam size: 1, threads: 12, kept: 450, sent: 0\n",
      "Searched with beam size: 1, expanded: 80, elapsed time: 0.001608304\n",
      "New primal bound: 80, expanded: 80, elapsed time: 0.001610638\n",
      "Searched with beam size: 2, threads: 12, kept: 375, sent: 393\n",
      "Searched with beam size: 2, expanded: 221, elapsed time: 0.002939492\n",
      "New dual bound: 46, expanded: 221, elapsed time: 0.002940253\n",
      "Searched with beam size: 4, threads: 12, kept: 372, sent: 1218\n",
      "Searched with beam size: 4, expanded: 512, elapsed time: 0.004728549\n",
      "New primal bound: 75, expanded: 512, elapsed time: 0.004830523\n",
      "Searched with beam size: 8, threads: 12, kept: 368, sent: 2824\n",
      "Searched with beam size: 8, expanded: 1074, elapsed time: 0.088721171\n",
      "New primal bound: 74, expanded: 1074, elapsed time: 0.088813396\n",
      "Searched with beam size: 16, threads: 12, kept: 483, sent: 5356\n",
      "Searched with beam size: 16, expanded: 2062, elapsed time: 0.158398627\n",
      "Searched with beam size: 32, threads: 12, kept: 918, sent: 10987\n",
      "Searched with beam size: 32, expanded: 4203, elapsed time: 0.22616828\n",
      "New dual bound: 47, expanded: 4203, elapsed time: 0.226170053\n",
      "New primal bound: 69, expanded: 4203, elapsed time: 0.226260996\n",
      "Searched with beam size: 64, threads: 12, kept: 1847, sent: 20988\n",
      "Searched with beam size: 64, expanded: 8268, elapsed time: 0.235997397\n",
      "New primal bound: 66, expanded: 8268, elapsed time: 0.236141771\n",
      "Searched with beam size: 128, threads: 12, kept: 3133, sent: 35274\n",
      "Searched with beam size: 128, expanded: 14741, elapsed time: 0.250773439\n",
      "New dual bound: 48, expanded: 14741, elapsed time: 0.250774421\n",
      "Searched with beam size: 256, threads: 12, kept: 6898, sent: 77330\n",
      "Searched with beam size: 256, expanded: 29649, elapsed time: 0.282091556\n",
      "New dual bound: 49, expanded: 29649, elapsed time: 0.282092588\n",
      "New primal bound: 64, expanded: 29649, elapsed time: 0.282164755\n",
      "Searched with beam size: 512, threads: 12, kept: 12959, sent: 143435\n",
      "Searched with beam size: 512, expanded: 57506, elapsed time: 0.339744615\n",
      "New dual bound: 50, expanded: 57506, elapsed time: 0.339745647\n",
      "New primal bound: 62, expanded: 57506, elapsed time: 0.33981536\n",
      "Searched with beam size: 1024, threads: 12, kept: 21659, sent: 239001\n",
      "Searched with beam size: 1024, expanded: 102264, elapsed time: 0.434250423\n",
      "Searched with beam size: 2048, threads: 12, kept: 42137, sent: 467335\n",
      "Searched with beam size: 2048, expanded: 188672, elapsed time: 0.61596504\n",
      "New dual bound: 51, expanded: 188672, elapsed time: 0.615966303\n",
      "Searched with beam size: 4096, threads: 12, kept: 82256, sent: 908332\n",
      "Searched with beam size: 4096, expanded: 356154, elapsed time: 0.983001025\n",
      "Searched with beam size: 8192, threads: 12, kept: 159990, sent: 1767672\n",
      "Searched with beam size: 8192, expanded: 679814, elapsed time: 1.6689851500000001\n",
      "New dual bound: 52, expanded: 679814, elapsed time: 1.6689868030000001\n",
      "Searched with beam size: 16384, threads: 12, kept: 309945, sent: 3415054\n",
      "Searched with beam size: 16384, expanded: 1303116, elapsed time: 3.038070554\n",
      "New dual bound: 53, expanded: 1303116, elapsed time: 3.038073329\n",
      "Searched with beam size: 32768, threads: 12, kept: 595796, sent: 6569149\n",
      "Searched with beam size: 32768, expanded: 2497248, elapsed time: 5.758296379\n",
      "Searched with beam size: 65536, threads: 12, kept: 1138104, sent: 12535716\n",
      "Searched with beam size: 65536, expanded: 4770268, elapsed time: 11.19765398\n",
      "New dual bound: 54, expanded: 4770268, elapsed time: 11.197656545\n",
      "Searched with beam size: 131072, threads: 12, kept: 2155524, sent: 23739899\n",
      "Searched with beam size: 131072, expanded: 9063125, elapsed time: 21.743439098\n",
      "New dual bound: 55, expanded: 9063125, elapsed time: 21.743440992\n",
      "Searched with beam size: 262144, threads: 12, kept: 4053953, sent: 44599277\n",
      "Searched with beam size: 262144, expanded: 17101987, elapsed time: 41.978211971\n",
      "New dual bound: 56, expanded: 17101987, elapsed time: 41.978214827\n",
      "Searched with beam size: 524288, threads: 12, kept: 7498746, sent: 82443237\n",
      "Searched with beam size: 524288, expanded: 31991682, elapsed time: 80.545532599\n",
      "New dual bound: 57, expanded: 31991682, elapsed time: 80.545534903\n",
      "Searched with beam size: 1048576, threads: 12, kept: 13618221, sent: 149704037\n",
      "Searched with beam size: 1048576, expanded: 59214685, elapsed time: 153.4048695\n",
      "New dual bound: 58, expanded: 59214685, elapsed time: 153.404871675\n",
      "Searched with beam size: 2097152, threads: 12, kept: 23885940, sent: 262634307\n",
      "Searched with beam size: 2097152, expanded: 107392634, elapsed time: 286.450816385\n",
      "New dual bound: 59, expanded: 107392634, elapsed time: 286.450818799\n",
      "Searched with beam size: 4194304, threads: 12, kept: 39595249, sent: 435508298\n",
      "Searched with beam size: 4194304, expanded: 189866744, elapsed time: 518.833821321\n",
      "New dual bound: 60, expanded: 189866744, elapsed time: 518.833823575\n",
      "Searched with beam size: 8388608, threads: 12, kept: 51965294, sent: 571625351\n",
      "Searched with beam size: 8388608, expanded: 318541616, elapsed time: 869.394033316\n",
      "New dual bound: 61, expanded: 318541616, elapsed time: 869.39403548\n",
      "Searched with beam size: 16777216, threads: 12, kept: 53795141, sent: 591728481\n",
      "Searched with beam size: 16777216, expanded: 458450774, elapsed time: 1245.773937496\n"
     ]
    }
   ],
   "source": [
    "instance = [\n",
    "    \"aehdmmqrstuwv\",\n",
    "    \"afiknllppaavxusqszab\",\n",
    "    \"bgglopqsssv\",\n",
    "    \"cabhiknaampawqryssuv\",\n",
    "    \"dbhciknddmpdqryssuwc\",\n",
    "    \"cajhiknapasqrssuvv\",\n",
    "    \"dacngoaiatsimawxltsc\",\n",
    "    \"zbndjkozfrizsyctviw\",\n",
    "]\n",
    "model = model_didp2.Model(instance)\n",
    "solution = model.solve(time_limit=1800, log=True).to_solution()"
   ]
  },
  {
   "cell_type": "code",
   "execution_count": null,
   "id": "bkHC",
   "metadata": {},
   "outputs": [
    {
     "name": "stdout",
     "output_type": "stream",
     "text": [
      "--- Condition (with 26 chars) ---\n",
      "str1: aehdmmqrstuwv\n",
      "str2: afiknllppaavxusqszab\n",
      "str3: bgglopqsssv\n",
      "str4: cabhiknaampawqryssuv\n",
      "str5: dbhciknddmpdqryssuwc\n",
      "str6: cajhiknapasqrssuvv\n",
      "str7: dacngoaiatsimawxltsc\n",
      "str8: zbndjkozfrizsyctviw\n",
      "\n",
      "--- Solution (of length 62) ---\n",
      " Sol: dzcaejbhfciknlggdljkpopaizatfvsdimpdawxumsqryiszsycltuviwascbv\n",
      "str1: ---ae--h--------d----------------m------m-qr--s-----tu--w----v\n",
      "str2: ---a----f-iknl---l--p-pa--a--v--------xu-sq---sz---------a--b-\n",
      "str3: ------b-------gg-l---op-------------------q---s-s---------s--v\n",
      "str4: --ca--bh--ikn----------a--a------mp-aw----qry-s-s----uv-------\n",
      "str5: d-----bh-cikn---d--------------d-mpd------qry-s-s----u--w--c--\n",
      "str6: --ca-j-h--ikn----------a----------p-a----sqr--s-s----uv------v\n",
      "str7: d--a-----c--n-g------o-ai-at--s-im--awx------------lt-----sc--\n",
      "str8: -z----b-----n---d-jk-o---z--f--------------r-i-zsyc-t-viw-----\n",
      "\n",
      "solution is feasible: True\n",
      "solution is optimal: True\n",
      "best bound: 62\n"
     ]
    }
   ],
   "source": [
    "util.show(instance)\n",
    "if solution is not None:\n",
    "    util.show(instance, solution)\n",
    "    print(f\"solution is feasible: {util.is_feasible(instance, solution)}\")\n",
    "    print(f\"solution is optimal: {model.solution.is_optimal}\")\n",
    "    print(f\"best bound: {model.solution.best_bound}\")\n",
    "else:\n",
    "    print(\"--- Solution not found ---\")"
   ]
  },
  {
   "cell_type": "markdown",
   "id": "lEQa",
   "metadata": {
    "marimo": {
     "config": {
      "hide_code": true
     }
    }
   },
   "source": [
    "計算時間は 20 分 46 秒だった."
   ]
  }
 ],
 "metadata": {},
 "nbformat": 4,
 "nbformat_minor": 5
}
