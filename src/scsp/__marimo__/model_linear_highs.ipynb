{
 "cells": [
  {
   "cell_type": "code",
   "execution_count": null,
   "id": "setup",
   "metadata": {
    "marimo": {
     "name": "setup"
    }
   },
   "outputs": [],
   "source": [
    "import math\n",
    "import highspy"
   ]
  },
  {
   "cell_type": "code",
   "execution_count": null,
   "id": "Hbol",
   "metadata": {},
   "outputs": [],
   "source": [
    "import marimo as mo\n",
    "import nbformat\n",
    "import util"
   ]
  },
  {
   "cell_type": "markdown",
   "id": "MJUe",
   "metadata": {
    "marimo": {
     "config": {
      "hide_code": true
     }
    }
   },
   "source": [
    "# MILP 定式化 (HiGHS)"
   ]
  },
  {
   "cell_type": "markdown",
   "id": "vblA",
   "metadata": {
    "marimo": {
     "config": {
      "hide_code": true
     }
    }
   },
   "source": [
    "数理最適化モデルを用いて SCSP を解く.\n",
    "定式化については SCIP 版を参照."
   ]
  },
  {
   "cell_type": "code",
   "execution_count": null,
   "id": "bkHC",
   "metadata": {
    "marimo": {
     "name": "*Model"
    }
   },
   "outputs": [],
   "source": [
    "class Model:\n",
    "    def __init__(self, instance: list[str]):\n",
    "        max_len = sum(len(s) for s in instance)\n",
    "\n",
    "        highs = highspy.Highs()\n",
    "\n",
    "        seqs = [\n",
    "            [\n",
    "                highs.addIntegral(lb=0, ub=max_len - 1)\n",
    "                for idx, _ in enumerate(s)\n",
    "            ]\n",
    "            for s in instance\n",
    "        ]\n",
    "        for seq in seqs:\n",
    "            for idx, _ in enumerate(seq):\n",
    "                if idx == 0:\n",
    "                    continue\n",
    "                highs.addConstr(seq[idx - 1] + 1 <= seq[idx])\n",
    "\n",
    "        for idx1, (s1, seq1) in enumerate(zip(instance, seqs)):\n",
    "            for idx2, (s2, seq2) in enumerate(zip(instance, seqs)):\n",
    "                if idx1 >= idx2:\n",
    "                    continue\n",
    "\n",
    "                for cidx1, (c1, cvar1) in enumerate(zip(s1, seq1)):\n",
    "                    for cidx2, (c2, cvar2) in enumerate(zip(s2, seq2)):\n",
    "                        if c1 != c2:\n",
    "                            lt = highs.addBinary()\n",
    "                            gt = highs.addBinary()\n",
    "                            highs.addConstr(lt + gt == 1)\n",
    "                            big_m = max_len\n",
    "                            highs.addConstr(cvar1 + 1 <= cvar2 + big_m * (1 - lt))\n",
    "                            highs.addConstr(cvar1 + big_m * (1 - gt) >= cvar2 + 1)\n",
    "\n",
    "        obj = highs.addVariable(lb=0, ub=max_len)\n",
    "        for seq in seqs:\n",
    "            highs.addConstr(obj >= seq[-1])\n",
    "        highs.setObjective(obj=obj, sense=highspy.ObjSense.kMinimize)\n",
    "\n",
    "        self.instance = instance\n",
    "        self.highs = highs\n",
    "        self.seqs = seqs\n",
    "\n",
    "    def solve(self, time_limit: int | None = 60) -> \"Model\":\n",
    "        if time_limit is not None:\n",
    "            self.highs.setOptionValue(\"time_limit\", time_limit)\n",
    "        self.highs.solve()\n",
    "        return self\n",
    "\n",
    "    def to_solution(self) -> str | None:\n",
    "        info = self.highs.getInfo()\n",
    "        primal_status = info.primal_solution_status\n",
    "        if primal_status != highspy.SolutionStatus.kSolutionStatusFeasible:\n",
    "            return None\n",
    "\n",
    "        highssolution = self.highs.getSolution()\n",
    "        objval = int(self.highs.getObjectiveValue())\n",
    "        sol_char_idx = 0\n",
    "        solution = \"\"\n",
    "        while sol_char_idx <= objval:\n",
    "            found = False\n",
    "            for idx, (s, seq) in enumerate(zip(self.instance, self.seqs)):\n",
    "                for c_idx, cvar in enumerate(seq):\n",
    "                    if math.isclose(\n",
    "                        highssolution.col_value[cvar.index],\n",
    "                        sol_char_idx\n",
    "                    ):\n",
    "                        solution += s[c_idx]\n",
    "                        found = True\n",
    "                        sol_char_idx += 1\n",
    "                if found:\n",
    "                    break\n",
    "            if not found:\n",
    "                sol_char_idx += 1\n",
    "\n",
    "        return solution"
   ]
  },
  {
   "cell_type": "code",
   "execution_count": null,
   "id": "lEQa",
   "metadata": {
    "marimo": {
     "name": "*solve"
    }
   },
   "outputs": [],
   "source": [
    "def solve(instance: list[str], time_limit: int | None = 60) -> str | None:\n",
    "    return Model(instance).solve(time_limit).to_solution()"
   ]
  },
  {
   "cell_type": "code",
   "execution_count": null,
   "id": "PKri",
   "metadata": {},
   "outputs": [
    {
     "name": "stdout",
     "output_type": "stream",
     "text": [
      "Running HiGHS 1.11.0 (git hash: 364c83a): Copyright (c) 2025 HiGHS under MIT licence terms\n"
     ]
    },
    {
     "name": "stdout",
     "output_type": "stream",
     "text": [
      "MIP  has 7665 rows; 5139 cols; 20384 nonzeros; 5138 integer variables (5054 binary)\n",
      "Coefficient ranges:\n",
      "  Matrix [1e+00, 8e+01]\n",
      "  Cost   [1e+00, 1e+00]\n",
      "  Bound  [1e+00, 8e+01]\n",
      "  RHS    [1e+00, 8e+01]\n"
     ]
    },
    {
     "name": "stdout",
     "output_type": "stream",
     "text": [
      "Presolving model\n",
      "5138 rows, 2612 cols, 15330 nonzeros  0s\n"
     ]
    },
    {
     "name": "stdout",
     "output_type": "stream",
     "text": [
      "4987 rows, 2612 cols, 14877 nonzeros  0s\n",
      "Objective function is integral with scale 1\n",
      "\n",
      "Solving MIP model with:\n",
      "   4987 rows\n",
      "   2612 cols (2527 binary, 84 integer, 1 implied int., 0 continuous, 0 domain fixed)\n",
      "   14877 nonzeros\n"
     ]
    },
    {
     "name": "stdout",
     "output_type": "stream",
     "text": [
      "\n",
      "Src: B => Branching; C => Central rounding; F => Feasibility pump; J => Feasibility jump;\n",
      "     H => Heuristic; L => Sub-MIP; P => Empty MIP; R => Randomized rounding; Z => ZI Round;\n",
      "     I => Shifting; S => Solve LP; T => Evaluate node; U => Unbounded; X => User solution;\n",
      "     z => Trivial zero; l => Trivial lower; u => Trivial upper; p => Trivial point\n",
      "\n",
      "        Nodes      |    B&B Tree     |            Objective Bounds              |  Dynamic Constraints |       Work      \n",
      "Src  Proc. InQueue |  Leaves   Expl. | BestBound       BestSol              Gap |   Cuts   InLp Confl. | LpIters     Time\n",
      "\n",
      "         0       0         0   0.00%   24              inf                  inf        0      0      0         0     0.1s\n"
     ]
    },
    {
     "name": "stdout",
     "output_type": "stream",
     "text": [
      " R       0       0         0   0.00%   24              80                70.00%        0      0      0      1198     0.2s\n"
     ]
    },
    {
     "name": "stdout",
     "output_type": "stream",
     "text": [
      " C       0       0         0   0.00%   24              79                69.62%    10591    792      0      2513     0.5s\n"
     ]
    },
    {
     "name": "stdout",
     "output_type": "stream",
     "text": [
      " L       0       0         0   0.00%   25              76                67.11%    10663   1324     84     13333     4.6s\n"
     ]
    },
    {
     "name": "stdout",
     "output_type": "stream",
     "text": [
      "       216      67        60   0.00%   25              76                67.11%    11080   1071    329     40092    14.6s\n"
     ]
    },
    {
     "name": "stdout",
     "output_type": "stream",
     "text": [
      " T     579     185       143  37.60%   25              75                66.67%    12799   1097    970     49959    15.8s\n"
     ]
    },
    {
     "name": "stdout",
     "output_type": "stream",
     "text": [
      "\n",
      "Restarting search from the root node\n"
     ]
    },
    {
     "name": "stdout",
     "output_type": "stream",
     "text": [
      "Model after restart has 4917 rows, 2612 cols (2527 bin., 84 int., 1 impl., 0 cont., 0 dom.fix.), and 14667 nonzeros\n",
      "\n"
     ]
    },
    {
     "name": "stdout",
     "output_type": "stream",
     "text": [
      "      1536       0         0   0.00%   25              75                66.67%     1196      0      0     76931    18.8s\n"
     ]
    },
    {
     "name": "stdout",
     "output_type": "stream",
     "text": [
      "      1536       0         0   0.00%   25              75                66.67%     1196    950     16     78064    18.9s\n"
     ]
    },
    {
     "name": "stdout",
     "output_type": "stream",
     "text": [
      "      2229      98       223   0.00%   25              75                66.67%     1099     32   1345    105896    25.3s\n"
     ]
    },
    {
     "name": "stdout",
     "output_type": "stream",
     "text": [
      "\n",
      "Restarting search from the root node\n"
     ]
    },
    {
     "name": "stdout",
     "output_type": "stream",
     "text": [
      "Model after restart has 4917 rows, 2612 cols (2527 bin., 84 int., 1 impl., 0 cont., 0 dom.fix.), and 14667 nonzeros\n",
      "\n"
     ]
    },
    {
     "name": "stdout",
     "output_type": "stream",
     "text": [
      "      3451       0         0   0.00%   25              75                66.67%      923      0      0    154409    29.8s\n"
     ]
    },
    {
     "name": "stdout",
     "output_type": "stream",
     "text": [
      "      3451       0         0   0.00%   25              75                66.67%      923    867     26    155592    29.9s\n"
     ]
    },
    {
     "name": "stdout",
     "output_type": "stream",
     "text": [
      " T    4495     114       320  23.04%   25              74                66.22%      910    893   3495    196765    34.9s\n"
     ]
    },
    {
     "name": "stdout",
     "output_type": "stream",
     "text": [
      "      5603     249       637  23.09%   25              74                66.22%     1146    939   6102    253643    39.9s\n"
     ]
    },
    {
     "name": "stdout",
     "output_type": "stream",
     "text": [
      "\n",
      "Restarting search from the root node\n"
     ]
    },
    {
     "name": "stdout",
     "output_type": "stream",
     "text": [
      "Model after restart has 4917 rows, 2612 cols (2527 bin., 84 int., 1 impl., 0 cont., 0 dom.fix.), and 14667 nonzeros\n",
      "\n"
     ]
    },
    {
     "name": "stdout",
     "output_type": "stream",
     "text": [
      "      6885       0         0   0.00%   25              74                66.22%       76      0      0    281612    43.1s\n"
     ]
    },
    {
     "name": "stdout",
     "output_type": "stream",
     "text": [
      "      6885       0         0   0.00%   25              74                66.22%       76     50     23    281728    43.1s\n"
     ]
    },
    {
     "name": "stdout",
     "output_type": "stream",
     "text": [
      "      7826      94       301   2.78%   25              74                66.22%    33031    983   2279    330670    48.4s\n"
     ]
    },
    {
     "name": "stdout",
     "output_type": "stream",
     "text": [
      "      8051     125       379   2.78%   25              74                66.22%     1109    918   2786    347501    53.5s\n"
     ]
    },
    {
     "name": "stdout",
     "output_type": "stream",
     "text": [
      "      8447     158       511   2.78%   25              74                66.22%     1003    899   3649    380350    60.0s\n",
      "      8447     158       511   2.78%   25              74                66.22%     1003    899   3649    380350    60.0s\n",
      "\n",
      "Solving report\n",
      "  Status            Time limit reached\n",
      "  Primal bound      74\n",
      "  Dual bound        25\n",
      "  Gap               66.22% (tolerance: 0.01%)\n",
      "  P-D integral      39.8981656145\n",
      "  Solution status   feasible\n",
      "                    74 (objective)\n",
      "                    0 (bound viol.)\n",
      "                    7.1054273576e-15 (int. viol.)\n",
      "                    0 (row viol.)\n",
      "  Timing            60.03 (total)\n",
      "                    0.00 (presolve)\n",
      "                    0.00 (solve)\n",
      "                    0.00 (postsolve)\n",
      "  Max sub-MIP depth 5\n",
      "  Nodes             8447\n",
      "  Repair LPs        0 (0 feasible; 0 iterations)\n",
      "  LP iterations     380350 (total)\n",
      "                    1365 (strong br.)\n",
      "                    38340 (separation)\n",
      "                    66052 (heuristics)\n"
     ]
    }
   ],
   "source": [
    "instance_01 = util.parse(\"uniform_q26n004k015-025.txt\")\n",
    "solution_01 = solve(instance_01)"
   ]
  },
  {
   "cell_type": "code",
   "execution_count": null,
   "id": "Xref",
   "metadata": {},
   "outputs": [
    {
     "name": "stdout",
     "output_type": "stream",
     "text": [
      "--- Condition (with 25 chars) ---\n",
      "str1: tkgnkuhmpxnhtqgxzvxis\n",
      "str2: iojiqfolnbxxcvsuqpvissbxf\n",
      "str3: ulcinycosovozpplp\n",
      "str4: igevazgbrddbcsvrvnngf\n",
      "\n",
      "--- Solution (of length 75) ---\n",
      " Sol: tkgnkuhmpxnhtqgxzvxulcinycosovozppljigqfolnbxxecvsuaqpvzissgbxrddbcsvrvnngf\n",
      "str1: tkgnkuhmpxnhtqgxzvx---i----s-----------------------------------------------\n",
      "str2: ----------------------i---o--------ji-qfolnbxx-cvsu-qpv-iss-bx------------f\n",
      "str3: -----u--------------lcinycosovozppl------------------p---------------------\n",
      "str4: ----------------------i--------------g--------e-v--a---z---gb-rddbcsvrvnngf\n",
      "\n",
      "solution is feasible: True\n"
     ]
    }
   ],
   "source": [
    "_instance = instance_01\n",
    "_solution = solution_01\n",
    "\n",
    "util.show(_instance)\n",
    "if _solution is not None:\n",
    "    util.show(_instance, _solution)\n",
    "    print(f\"solution is feasible: {util.is_feasible(_instance, _solution)}\")\n",
    "else:\n",
    "    print(\"--- Solution not found ---\")"
   ]
  },
  {
   "cell_type": "code",
   "execution_count": null,
   "id": "SFPL",
   "metadata": {},
   "outputs": [
    {
     "name": "stdout",
     "output_type": "stream",
     "text": [
      "Running HiGHS 1.11.0 (git hash: 364c83a): Copyright (c) 2025 HiGHS under MIT licence terms\n"
     ]
    },
    {
     "name": "stdout",
     "output_type": "stream",
     "text": [
      "MIP  has 38584 rows; 25782 cols; 102774 nonzeros; 25781 integer variables (25606 binary)\n",
      "Coefficient ranges:\n",
      "  Matrix [1e+00, 2e+02]\n",
      "  Cost   [1e+00, 1e+00]\n",
      "  Bound  [1e+00, 2e+02]\n",
      "  RHS    [1e+00, 2e+02]\n"
     ]
    },
    {
     "name": "stdout",
     "output_type": "stream",
     "text": [
      "Presolving model\n"
     ]
    },
    {
     "name": "stdout",
     "output_type": "stream",
     "text": [
      "25781 rows, 12979 cols, 77168 nonzeros  0s\n"
     ]
    },
    {
     "name": "stdout",
     "output_type": "stream",
     "text": [
      "25096 rows, 12979 cols, 75113 nonzeros  0s\n",
      "Objective function is integral with scale 1\n",
      "\n",
      "Solving MIP model with:\n",
      "   25096 rows\n",
      "   12979 cols (12803 binary, 175 integer, 1 implied int., 0 continuous, 0 domain fixed)\n",
      "   75113 nonzeros\n"
     ]
    },
    {
     "name": "stdout",
     "output_type": "stream",
     "text": [
      "\n",
      "Src: B => Branching; C => Central rounding; F => Feasibility pump; J => Feasibility jump;\n",
      "     H => Heuristic; L => Sub-MIP; P => Empty MIP; R => Randomized rounding; Z => ZI Round;\n",
      "     I => Shifting; S => Solve LP; T => Evaluate node; U => Unbounded; X => User solution;\n",
      "     z => Trivial zero; l => Trivial lower; u => Trivial upper; p => Trivial point\n",
      "\n",
      "        Nodes      |    B&B Tree     |            Objective Bounds              |  Dynamic Constraints |       Work      \n",
      "Src  Proc. InQueue |  Leaves   Expl. | BestBound       BestSol              Gap |   Cuts   InLp Confl. | LpIters     Time\n",
      "\n",
      "         0       0         0   0.00%   24              inf                  inf        0      0      0         0     0.6s\n"
     ]
    },
    {
     "name": "stdout",
     "output_type": "stream",
     "text": [
      " R       0       0         0   0.00%   24              147               83.67%        0      0      0      6906     2.5s\n"
     ]
    },
    {
     "name": "stdout",
     "output_type": "stream",
     "text": [
      "         0       0         0   0.00%   25              147               82.99%    22513   4366    185     34501    25.7s\n"
     ]
    },
    {
     "name": "stdout",
     "output_type": "stream",
     "text": [
      "       101      71        15   0.00%   25              147               82.99%    24390   4392    234     62374    60.1s\n",
      "       101      71        15   0.00%   25              147               82.99%    24390   4392    234     62374    60.1s\n",
      "\n",
      "Solving report\n",
      "  Status            Time limit reached\n",
      "  Primal bound      147\n",
      "  Dual bound        25\n",
      "  Gap               82.99% (tolerance: 0.01%)\n",
      "  P-D integral      47.807171215\n",
      "  Solution status   feasible\n",
      "                    147 (objective)\n",
      "                    0 (bound viol.)\n",
      "                    0 (int. viol.)\n",
      "                    0 (row viol.)\n",
      "  Timing            60.06 (total)\n",
      "                    0.00 (presolve)\n",
      "                    0.00 (solve)\n",
      "                    0.00 (postsolve)\n",
      "  Max sub-MIP depth 2\n",
      "  Nodes             101\n",
      "  Repair LPs        0 (0 feasible; 0 iterations)\n",
      "  LP iterations     62374 (total)\n",
      "                    0 (strong br.)\n",
      "                    6669 (separation)\n",
      "                    39468 (heuristics)\n"
     ]
    }
   ],
   "source": [
    "instance_02 = util.parse(\"uniform_q26n008k015-025.txt\")\n",
    "solution_02 = solve(instance_02)"
   ]
  },
  {
   "cell_type": "code",
   "execution_count": null,
   "id": "BYtC",
   "metadata": {},
   "outputs": [
    {
     "name": "stdout",
     "output_type": "stream",
     "text": [
      "--- Condition (with 26 chars) ---\n",
      "str1: tkgnkuhmpxnhtqgxzvxis\n",
      "str2: iojiqfolnbxxcvsuqpvissbxf\n",
      "str3: ulcinycosovozpplp\n",
      "str4: igevazgbrddbcsvrvnngf\n",
      "str5: pyplrzxucpmqvgtdfuivcdsbo\n",
      "str6: pbdevdcvdpfzsmsbroqvbbh\n",
      "str7: enbczfjtvxerzbrvigple\n",
      "str8: rxwxqkrdrlctodtmprpxwd\n",
      "\n",
      "--- Solution (of length 148) ---\n",
      " Sol: ulcinygevacosovozpplrxwtknbczfjxqkrdrlctodtmprpxwgnkuhmpxnhvxerzbrvigpledcvdpfzsmsbroqvbbhtcsvrvnngyfqgxzplrzxucpmqvgtdfuxisolnbxxcvsuqpvissbxfcdsbo\n",
      "str1: -----------------------tk------------------------gnkuhmpxnh-------------------------------t----------qgxz----------v-----xis------------------------\n",
      "str2: ---i-------o------------------j------------------------------------i-----------------q--------------f-----------------------olnbxxcvsuqpvissbxf-----\n",
      "str3: ulciny----cosovozppl------------------------p-------------------------------------------------------------------------------------------------------\n",
      "str4: ---i--geva------z--------------------------------g--------------br------d--d------b--------csvrvnng-f-----------------------------------------------\n",
      "str5: -----------------p---------------------------------------------------------------------------------y-----plrzxucpmqvgtdfu-i--------v-----------cdsbo\n",
      "str6: -----------------p--------b--------d-------------------------e----v-----dcvdpfzsmsbroqvbbh----------------------------------------------------------\n",
      "str7: -------e-----------------nbczfj--------t-------------------vxerzbrvigple----------------------------------------------------------------------------\n",
      "str8: --------------------rxw--------xqkrdrlctodtmprpxw-----------------------d---------------------------------------------------------------------------\n",
      "\n",
      "solution is feasible: True\n"
     ]
    }
   ],
   "source": [
    "_instance = instance_02\n",
    "_solution = solution_02\n",
    "\n",
    "util.show(_instance)\n",
    "if _solution is not None:\n",
    "    util.show(_instance, _solution)\n",
    "    print(f\"solution is feasible: {util.is_feasible(_instance, _solution)}\")\n",
    "else:\n",
    "    print(\"--- Solution not found ---\")"
   ]
  },
  {
   "cell_type": "code",
   "execution_count": null,
   "id": "RGSE",
   "metadata": {},
   "outputs": [
    {
     "name": "stdout",
     "output_type": "stream",
     "text": [
      "Running HiGHS 1.11.0 (git hash: 364c83a): Copyright (c) 2025 HiGHS under MIT licence terms\n"
     ]
    },
    {
     "name": "stdout",
     "output_type": "stream",
     "text": [
      "MIP  has 140897 rows; 94040 cols; 375510 nonzeros; 94039 integer variables (93716 binary)\n",
      "Coefficient ranges:\n",
      "  Matrix [1e+00, 3e+02]\n",
      "  Cost   [1e+00, 1e+00]\n",
      "  Bound  [1e+00, 3e+02]\n",
      "  RHS    [1e+00, 3e+02]\n"
     ]
    },
    {
     "name": "stdout",
     "output_type": "stream",
     "text": [
      "Presolving model\n"
     ]
    },
    {
     "name": "stdout",
     "output_type": "stream",
     "text": [
      "94039 rows, 47182 cols, 281794 nonzeros  0s\n"
     ]
    },
    {
     "name": "stdout",
     "output_type": "stream",
     "text": [
      "91182 rows, 47182 cols, 273223 nonzeros  1s\n"
     ]
    },
    {
     "name": "stdout",
     "output_type": "stream",
     "text": [
      "Objective function is integral with scale 1\n",
      "\n",
      "Solving MIP model with:\n",
      "   91182 rows\n",
      "   47182 cols (46858 binary, 323 integer, 1 implied int., 0 continuous, 0 domain fixed)\n",
      "   273223 nonzeros\n"
     ]
    },
    {
     "name": "stdout",
     "output_type": "stream",
     "text": [
      "\n",
      "Src: B => Branching; C => Central rounding; F => Feasibility pump; J => Feasibility jump;\n",
      "     H => Heuristic; L => Sub-MIP; P => Empty MIP; R => Randomized rounding; Z => ZI Round;\n",
      "     I => Shifting; S => Solve LP; T => Evaluate node; U => Unbounded; X => User solution;\n",
      "     z => Trivial zero; l => Trivial lower; u => Trivial upper; p => Trivial point\n",
      "\n",
      "        Nodes      |    B&B Tree     |            Objective Bounds              |  Dynamic Constraints |       Work      \n",
      "Src  Proc. InQueue |  Leaves   Expl. | BestBound       BestSol              Gap |   Cuts   InLp Confl. | LpIters     Time\n",
      "\n",
      "         0       0         0   0.00%   25              inf                  inf        0      0      0         0     3.9s\n"
     ]
    },
    {
     "name": "stdout",
     "output_type": "stream",
     "text": [
      "         0       0         0   0.00%   25              inf                  inf        0      0      6     24836    27.1s\n"
     ]
    },
    {
     "name": "stdout",
     "output_type": "stream",
     "text": [
      "         0       0         0   0.00%   25              inf                  inf   288925  11617      7     44359    56.9s\n"
     ]
    },
    {
     "name": "stdout",
     "output_type": "stream",
     "text": [
      "         0       0         0   0.00%   25              inf                  inf    95173  14460      8     46635    60.1s\n",
      "\n",
      "Solving report\n",
      "  Status            Time limit reached\n",
      "  Primal bound      inf\n",
      "  Dual bound        25\n",
      "  Gap               inf\n",
      "  P-D integral      0\n",
      "  Solution status   -\n",
      "  Timing            60.07 (total)\n",
      "                    0.00 (presolve)\n",
      "                    0.00 (solve)\n",
      "                    0.00 (postsolve)\n",
      "  Max sub-MIP depth 0\n",
      "  Nodes             0\n",
      "  Repair LPs        0 (0 feasible; 0 iterations)\n",
      "  LP iterations     46635 (total)\n",
      "                    0 (strong br.)\n",
      "                    21799 (separation)\n",
      "                    0 (heuristics)\n"
     ]
    }
   ],
   "source": [
    "instance_03 = util.parse(\"uniform_q26n016k015-025.txt\")\n",
    "solution_03 = solve(instance_03)"
   ]
  },
  {
   "cell_type": "code",
   "execution_count": null,
   "id": "Kclp",
   "metadata": {},
   "outputs": [
    {
     "name": "stdout",
     "output_type": "stream",
     "text": [
      "--- Condition (with 26 chars) ---\n",
      "str01: tkgnkuhmpxnhtqgxzvxis\n",
      "str02: iojiqfolnbxxcvsuqpvissbxf\n",
      "str03: ulcinycosovozpplp\n",
      "str04: igevazgbrddbcsvrvnngf\n",
      "str05: pyplrzxucpmqvgtdfuivcdsbo\n",
      "str06: pbdevdcvdpfzsmsbroqvbbh\n",
      "str07: enbczfjtvxerzbrvigple\n",
      "str08: rxwxqkrdrlctodtmprpxwd\n",
      "str09: kkqafigqjwokkskrblg\n",
      "str10: lxxpabivbvzkozzvd\n",
      "str11: krifsavncdqwhzc\n",
      "str12: qaxudgqvqcewbfgijowwy\n",
      "str13: rsxqjnfpadiusiqbezhkohmg\n",
      "str14: iwshvhcomiuvddm\n",
      "str15: htxxqjzqbctbakn\n",
      "str16: xusfcfzpeecvwantfmgqzu\n",
      "\n",
      "--- Solution not found ---\n"
     ]
    }
   ],
   "source": [
    "_instance = instance_03\n",
    "_solution = solution_03\n",
    "\n",
    "util.show(_instance)\n",
    "if _solution is not None:\n",
    "    util.show(_instance, _solution)\n",
    "    print(f\"solution is feasible: {util.is_feasible(_instance, _solution)}\")\n",
    "else:\n",
    "    print(\"--- Solution not found ---\")"
   ]
  },
  {
   "cell_type": "code",
   "execution_count": null,
   "id": "emfo",
   "metadata": {},
   "outputs": [
    {
     "name": "stdout",
     "output_type": "stream",
     "text": [
      "Running HiGHS 1.11.0 (git hash: 364c83a): Copyright (c) 2025 HiGHS under MIT licence terms\n"
     ]
    },
    {
     "name": "stdout",
     "output_type": "stream",
     "text": [
      "MIP  has 10945 rows; 7331 cols; 29120 nonzeros; 7330 integer variables (7230 binary)\n",
      "Coefficient ranges:\n",
      "  Matrix [1e+00, 1e+02]\n",
      "  Cost   [1e+00, 1e+00]\n",
      "  Bound  [1e+00, 1e+02]\n",
      "  RHS    [1e+00, 1e+02]\n",
      "Presolving model\n"
     ]
    },
    {
     "name": "stdout",
     "output_type": "stream",
     "text": [
      "7330 rows, 3716 cols, 21890 nonzeros  0s\n"
     ]
    },
    {
     "name": "stdout",
     "output_type": "stream",
     "text": [
      "6964 rows, 3716 cols, 20792 nonzeros  0s\n",
      "Objective function is integral with scale 1\n",
      "\n",
      "Solving MIP model with:\n",
      "   6964 rows\n",
      "   3716 cols (3615 binary, 100 integer, 1 implied int., 0 continuous, 0 domain fixed)\n",
      "   20792 nonzeros\n"
     ]
    },
    {
     "name": "stdout",
     "output_type": "stream",
     "text": [
      "\n",
      "Src: B => Branching; C => Central rounding; F => Feasibility pump; J => Feasibility jump;\n",
      "     H => Heuristic; L => Sub-MIP; P => Empty MIP; R => Randomized rounding; Z => ZI Round;\n",
      "     I => Shifting; S => Solve LP; T => Evaluate node; U => Unbounded; X => User solution;\n",
      "     z => Trivial zero; l => Trivial lower; u => Trivial upper; p => Trivial point\n",
      "\n",
      "        Nodes      |    B&B Tree     |            Objective Bounds              |  Dynamic Constraints |       Work      \n",
      "Src  Proc. InQueue |  Leaves   Expl. | BestBound       BestSol              Gap |   Cuts   InLp Confl. | LpIters     Time\n",
      "\n",
      "         0       0         0   0.00%   10              inf                  inf        0      0      0         0     0.3s\n"
     ]
    },
    {
     "name": "stdout",
     "output_type": "stream",
     "text": [
      "         0       0         0   0.00%   10              inf                  inf        0      0      3      2110     0.4s\n"
     ]
    },
    {
     "name": "stdout",
     "output_type": "stream",
     "text": [
      " L       0       0         0   0.00%   10              55                81.82%    12352   1935    493     11913     7.5s\n"
     ]
    },
    {
     "name": "stdout",
     "output_type": "stream",
     "text": [
      "       483     351         9   0.15%   10.00010305     55                81.82%    11218   2379    577     78569    16.5s\n"
     ]
    },
    {
     "name": "stdout",
     "output_type": "stream",
     "text": [
      "       621     513        28   0.15%   10.00010305     55                81.82%     8856   2606    642    105825    23.5s\n"
     ]
    },
    {
     "name": "stdout",
     "output_type": "stream",
     "text": [
      "       909     750        64   0.17%   10.00010305     55                81.82%     8214   1357    783    132237    32.9s\n"
     ]
    },
    {
     "name": "stdout",
     "output_type": "stream",
     "text": [
      " L    1007     783        85   0.20%   10.00010305     51                80.39%    12461   1477    883    137755    37.8s\n"
     ]
    },
    {
     "name": "stdout",
     "output_type": "stream",
     "text": [
      "      1270     864       129   0.20%   10.00010305     51                80.39%    13087   1541   1064    182778    45.1s\n"
     ]
    },
    {
     "name": "stdout",
     "output_type": "stream",
     "text": [
      "      1396     953       146   0.20%   10.00010305     51                80.39%     1832   1647   1261    208471    52.2s\n"
     ]
    },
    {
     "name": "stdout",
     "output_type": "stream",
     "text": [
      "      1406     953       150   0.20%   10.00010305     51                80.39%     1890   1677   1310    228086    60.0s\n",
      "      1406     953       150   0.20%   10.00010305     51                80.39%     1890   1677   1310    228086    60.0s\n",
      "\n",
      "Solving report\n",
      "  Status            Time limit reached\n",
      "  Primal bound      51\n",
      "  Dual bound        11\n",
      "  Gap               78.43% (tolerance: 0.01%)\n",
      "  P-D integral      42.6274600134\n",
      "  Solution status   feasible\n",
      "                    51 (objective)\n",
      "                    0 (bound viol.)\n",
      "                    2.79776202206e-14 (int. viol.)\n",
      "                    0 (row viol.)\n",
      "  Timing            60.03 (total)\n",
      "                    0.00 (presolve)\n",
      "                    0.00 (solve)\n",
      "                    0.00 (postsolve)\n",
      "  Max sub-MIP depth 6\n",
      "  Nodes             1406\n",
      "  Repair LPs        0 (0 feasible; 0 iterations)\n",
      "  LP iterations     228086 (total)\n",
      "                    0 (strong br.)\n",
      "                    6671 (separation)\n",
      "                    154884 (heuristics)\n"
     ]
    }
   ],
   "source": [
    "instance_04 = util.parse(\"uniform_q05n010k010-010.txt\")\n",
    "solution_04 = solve(instance_04)"
   ]
  },
  {
   "cell_type": "code",
   "execution_count": null,
   "id": "Hstk",
   "metadata": {},
   "outputs": [
    {
     "name": "stdout",
     "output_type": "stream",
     "text": [
      "--- Condition (with 5 chars) ---\n",
      "str01: dcbccdbcce\n",
      "str02: bddbeeeebd\n",
      "str03: cacdeecebe\n",
      "str04: aeddddebdd\n",
      "str05: acbeecabce\n",
      "str06: bbabebdcba\n",
      "str07: bbaeaebada\n",
      "str08: eeeecbdbee\n",
      "str09: ccdeedadcd\n",
      "str10: bdabdbeaad\n",
      "\n",
      "--- Solution (of length 52) ---\n",
      "  Sol: dcbacdebadbaaeaebadacbeeadbccdeaeeadcbcdeedacbdbecde\n",
      "str01: dcb-c---------------c----dbcc-e---------------------\n",
      "str02: --b--d---db--e-e------ee--b--d----------------------\n",
      "str03: -c-acde------e------c-e---b---e---------------------\n",
      "str04: ---a--e--d--------d------d---de------b-d--d---------\n",
      "str05: ---ac--b-----e-e----c---a-bc--e---------------------\n",
      "str06: --b----ba-b--e--b-d-cb--a---------------------------\n",
      "str07: --b----ba----eaebada--------------------------------\n",
      "str08: ------e------e-e------e----c---------b-d-----b--e--e\n",
      "str09: -c--cde------e----da-----d-c-d----------------------\n",
      "str10: --b--d--a-b-------d--be-a------a---d----------------\n",
      "\n",
      "solution is feasible: True\n"
     ]
    }
   ],
   "source": [
    "_instance = instance_04\n",
    "_solution = solution_04\n",
    "\n",
    "util.show(_instance)\n",
    "if _solution is not None:\n",
    "    util.show(_instance, _solution)\n",
    "    print(f\"solution is feasible: {util.is_feasible(_instance, _solution)}\")\n",
    "else:\n",
    "    print(\"--- Solution not found ---\")"
   ]
  },
  {
   "cell_type": "code",
   "execution_count": null,
   "id": "nWHF",
   "metadata": {},
   "outputs": [
    {
     "name": "stdout",
     "output_type": "stream",
     "text": [
      "Running HiGHS 1.11.0 (git hash: 364c83a): Copyright (c) 2025 HiGHS under MIT licence terms\n"
     ]
    },
    {
     "name": "stdout",
     "output_type": "stream",
     "text": [
      "MIP  has 294593 rows; 196563 cols; 785248 nonzeros; 196562 integer variables (196062 binary)\n",
      "Coefficient ranges:\n",
      "  Matrix [1e+00, 5e+02]\n",
      "  Cost   [1e+00, 1e+00]\n",
      "  Bound  [1e+00, 5e+02]\n",
      "  RHS    [1e+00, 5e+02]\n"
     ]
    },
    {
     "name": "stdout",
     "output_type": "stream",
     "text": [
      "Presolving model\n"
     ]
    },
    {
     "name": "stdout",
     "output_type": "stream",
     "text": [
      "196562 rows, 98532 cols, 589186 nonzeros  0s\n"
     ]
    },
    {
     "name": "stdout",
     "output_type": "stream",
     "text": [
      "186760 rows, 98532 cols, 559780 nonzeros  2s\n"
     ]
    },
    {
     "name": "stdout",
     "output_type": "stream",
     "text": [
      "Objective function is integral with scale 1\n",
      "\n",
      "Solving MIP model with:\n",
      "   186760 rows\n",
      "   98532 cols (98031 binary, 500 integer, 1 implied int., 0 continuous, 0 domain fixed)\n",
      "   559780 nonzeros\n"
     ]
    },
    {
     "name": "stdout",
     "output_type": "stream",
     "text": [
      "\n",
      "Src: B => Branching; C => Central rounding; F => Feasibility pump; J => Feasibility jump;\n",
      "     H => Heuristic; L => Sub-MIP; P => Empty MIP; R => Randomized rounding; Z => ZI Round;\n",
      "     I => Shifting; S => Solve LP; T => Evaluate node; U => Unbounded; X => User solution;\n",
      "     z => Trivial zero; l => Trivial lower; u => Trivial upper; p => Trivial point\n",
      "\n",
      "        Nodes      |    B&B Tree     |            Objective Bounds              |  Dynamic Constraints |       Work      \n",
      "Src  Proc. InQueue |  Leaves   Expl. | BestBound       BestSol              Gap |   Cuts   InLp Confl. | LpIters     Time\n",
      "\n",
      "         0       0         0   0.00%   10              inf                  inf        0      0      0         0     4.3s\n"
     ]
    },
    {
     "name": "stdout",
     "output_type": "stream",
     "text": [
      "         0       0         0   0.00%   10              inf                  inf        0      0      6     22092    60.1s\n",
      "\n",
      "Solving report\n",
      "  Status            Time limit reached\n",
      "  Primal bound      inf\n",
      "  Dual bound        10\n",
      "  Gap               inf\n",
      "  P-D integral      0\n",
      "  Solution status   -\n",
      "  Timing            60.08 (total)\n",
      "                    0.00 (presolve)\n",
      "                    0.00 (solve)\n",
      "                    0.00 (postsolve)\n",
      "  Max sub-MIP depth 0\n",
      "  Nodes             0\n",
      "  Repair LPs        0 (0 feasible; 0 iterations)\n",
      "  LP iterations     22092 (total)\n",
      "                    0 (strong br.)\n",
      "                    0 (separation)\n",
      "                    0 (heuristics)\n"
     ]
    }
   ],
   "source": [
    "instance_05 = util.parse(\"uniform_q05n050k010-010.txt\")\n",
    "solution_05 = solve(instance_05)"
   ]
  },
  {
   "cell_type": "code",
   "execution_count": null,
   "id": "iLit",
   "metadata": {},
   "outputs": [
    {
     "name": "stdout",
     "output_type": "stream",
     "text": [
      "--- Condition (with 5 chars) ---\n",
      "str01: dcbccdbcce\n",
      "str02: bddbeeeebd\n",
      "str03: cacdeecebe\n",
      "str04: aeddddebdd\n",
      "str05: acbeecabce\n",
      "str06: bbabebdcba\n",
      "str07: bbaeaebada\n",
      "str08: eeeecbdbee\n",
      "str09: ccdeedadcd\n",
      "str10: bdabdbeaad\n",
      "str11: ededaaaeaa\n",
      "str12: aaeaabeeac\n",
      "str13: eaabcaccdb\n",
      "str14: bdeeadeade\n",
      "str15: caedadeeed\n",
      "str16: ebcadbabbe\n",
      "str17: ddceeabdea\n",
      "str18: dabcddeaec\n",
      "str19: aadceedaab\n",
      "str20: aeecceeeaa\n",
      "str21: bbdaecaade\n",
      "str22: dacedaedab\n",
      "str23: aaeabbbbce\n",
      "str24: dedbcbcaab\n",
      "str25: dbdaaebbcb\n",
      "str26: debedbebac\n",
      "str27: ceebcdcbde\n",
      "str28: dbedaadaab\n",
      "str29: cccdcbebdc\n",
      "str30: aeeacdbcbd\n",
      "str31: dacbeacccd\n",
      "str32: ecebccdbdb\n",
      "str33: ddbbcedabb\n",
      "str34: aaeabaaeba\n",
      "str35: ecbbcaadcd\n",
      "str36: debccecdbc\n",
      "str37: daacbaeebc\n",
      "str38: adabeaacce\n",
      "str39: daecdbacaa\n",
      "str40: dacbbdcedc\n",
      "str41: dedbeebbde\n",
      "str42: cdadcdcdaa\n",
      "str43: ceedcbaeed\n",
      "str44: ceaecaaaca\n",
      "str45: dcccebbbad\n",
      "str46: baeeaebbde\n",
      "str47: dbdebaccdb\n",
      "str48: ebcbeedaea\n",
      "str49: aeeebbdbca\n",
      "str50: dbdabcecbb\n",
      "\n",
      "--- Solution not found ---\n"
     ]
    }
   ],
   "source": [
    "_instance = instance_05\n",
    "_solution = solution_05\n",
    "\n",
    "util.show(_instance)\n",
    "if _solution is not None:\n",
    "    util.show(_instance, _solution)\n",
    "    print(f\"solution is feasible: {util.is_feasible(_instance, _solution)}\")\n",
    "else:\n",
    "    print(\"--- Solution not found ---\")"
   ]
  },
  {
   "cell_type": "code",
   "execution_count": null,
   "id": "ZHCJ",
   "metadata": {},
   "outputs": [
    {
     "name": "stdout",
     "output_type": "stream",
     "text": [
      "Running HiGHS 1.11.0 (git hash: 364c83a): Copyright (c) 2025 HiGHS under MIT licence terms\n"
     ]
    },
    {
     "name": "stdout",
     "output_type": "stream",
     "text": [
      "MIP  has 10117 rows; 6779 cols; 26912 nonzeros; 6778 integer variables (6678 binary)\n",
      "Coefficient ranges:\n",
      "  Matrix [1e+00, 1e+02]\n",
      "  Cost   [1e+00, 1e+00]\n",
      "  Bound  [1e+00, 1e+02]\n",
      "  RHS    [1e+00, 1e+02]\n",
      "Presolving model\n"
     ]
    },
    {
     "name": "stdout",
     "output_type": "stream",
     "text": [
      "6778 rows, 3440 cols, 20234 nonzeros  0s\n"
     ]
    },
    {
     "name": "stdout",
     "output_type": "stream",
     "text": [
      "6450 rows, 3440 cols, 19250 nonzeros  0s\n",
      "Objective function is integral with scale 1\n",
      "\n",
      "Solving MIP model with:\n",
      "   6450 rows\n",
      "   3440 cols (3339 binary, 100 integer, 1 implied int., 0 continuous, 0 domain fixed)\n",
      "   19250 nonzeros\n"
     ]
    },
    {
     "name": "stdout",
     "output_type": "stream",
     "text": [
      "\n",
      "Src: B => Branching; C => Central rounding; F => Feasibility pump; J => Feasibility jump;\n",
      "     H => Heuristic; L => Sub-MIP; P => Empty MIP; R => Randomized rounding; Z => ZI Round;\n",
      "     I => Shifting; S => Solve LP; T => Evaluate node; U => Unbounded; X => User solution;\n",
      "     z => Trivial zero; l => Trivial lower; u => Trivial upper; p => Trivial point\n",
      "\n",
      "        Nodes      |    B&B Tree     |            Objective Bounds              |  Dynamic Constraints |       Work      \n",
      "Src  Proc. InQueue |  Leaves   Expl. | BestBound       BestSol              Gap |   Cuts   InLp Confl. | LpIters     Time\n",
      "\n",
      "         0       0         0   0.00%   10              inf                  inf        0      0      0         0     0.2s\n"
     ]
    },
    {
     "name": "stdout",
     "output_type": "stream",
     "text": [
      " R       0       0         0   0.00%   10              31                67.74%        0      0      0      2002     0.3s\n"
     ]
    },
    {
     "name": "stdout",
     "output_type": "stream",
     "text": [
      "         0       0         0   0.00%   10              31                67.74%    11856   1566    501     19147     5.5s\n"
     ]
    },
    {
     "name": "stdout",
     "output_type": "stream",
     "text": [
      "       659     432        50   9.41%   11              31                64.52%     3763   2835    841     56772    10.5s\n"
     ]
    },
    {
     "name": "stdout",
     "output_type": "stream",
     "text": [
      "      1150     488       183   9.41%   11              31                64.52%     3273   1446   1739    105026    19.6s\n"
     ]
    },
    {
     "name": "stdout",
     "output_type": "stream",
     "text": [
      "\n",
      "Restarting search from the root node\n"
     ]
    },
    {
     "name": "stdout",
     "output_type": "stream",
     "text": [
      "Model after restart has 6450 rows, 3440 cols (3339 bin., 100 int., 1 impl., 0 cont., 0 dom.fix.), and 19250 nonzeros\n",
      "\n"
     ]
    },
    {
     "name": "stdout",
     "output_type": "stream",
     "text": [
      "      1533       0         0   0.00%   11              31                64.52%     1445      0      0    130566    22.6s\n"
     ]
    },
    {
     "name": "stdout",
     "output_type": "stream",
     "text": [
      "      1533       0         0   0.00%   11              31                64.52%     1445   1273      6    132243    22.7s\n"
     ]
    },
    {
     "name": "stdout",
     "output_type": "stream",
     "text": [
      "      1845      80        81   0.02%   11              31                64.52%     4727   1527    504    165783    29.5s\n"
     ]
    },
    {
     "name": "stdout",
     "output_type": "stream",
     "text": [
      "      1945      80       119   0.02%   11              31                64.52%     6486    205    694    190357    36.0s\n"
     ]
    },
    {
     "name": "stdout",
     "output_type": "stream",
     "text": [
      "      2159     111       174   0.02%   11              31                64.52%     2104   1452   1027    224678    42.8s\n"
     ]
    },
    {
     "name": "stdout",
     "output_type": "stream",
     "text": [
      "      2252     122       196   0.02%   11              31                64.52%     2342   1482   1189    257887    51.5s\n"
     ]
    },
    {
     "name": "stdout",
     "output_type": "stream",
     "text": [
      "      2468     143       260   0.02%   11              31                64.52%     5188    299   1639    286110    57.7s\n"
     ]
    },
    {
     "name": "stdout",
     "output_type": "stream",
     "text": [
      "      2561     154       293   0.02%   11              31                64.52%    18745   1465   1829    298407    60.0s\n",
      "\n",
      "Solving report\n",
      "  Status            Time limit reached\n",
      "  Primal bound      31\n",
      "  Dual bound        11\n",
      "  Gap               64.52% (tolerance: 0.01%)\n",
      "  P-D integral      38.7559191488\n",
      "  Solution status   feasible\n",
      "                    31 (objective)\n",
      "                    0 (bound viol.)\n",
      "                    0 (int. viol.)\n",
      "                    0 (row viol.)\n",
      "  Timing            60.01 (total)\n",
      "                    0.00 (presolve)\n",
      "                    0.00 (solve)\n",
      "                    0.00 (postsolve)\n",
      "  Max sub-MIP depth 5\n",
      "  Nodes             2561\n",
      "  Repair LPs        0 (0 feasible; 0 iterations)\n",
      "  LP iterations     298407 (total)\n",
      "                    0 (strong br.)\n",
      "                    17149 (separation)\n",
      "                    127627 (heuristics)\n"
     ]
    }
   ],
   "source": [
    "instance_06 = util.parse(\"nucleotide_n010k010.txt\")\n",
    "solution_06 = solve(instance_06)"
   ]
  },
  {
   "cell_type": "code",
   "execution_count": null,
   "id": "ROlb",
   "metadata": {},
   "outputs": [
    {
     "name": "stdout",
     "output_type": "stream",
     "text": [
      "--- Condition (with 4 chars) ---\n",
      "str01: ATGGGATACG\n",
      "str02: ATACCTTCCC\n",
      "str03: CACGAATTGA\n",
      "str04: TAAAATCTGT\n",
      "str05: AGGTAACAAA\n",
      "str06: TTCCTAGGTA\n",
      "str07: TTGTAGATCT\n",
      "str08: TGGGAAGTTC\n",
      "str09: TTCCACAACT\n",
      "str10: TCTAAACGAA\n",
      "\n",
      "--- Solution (of length 32) ---\n",
      "  Sol: ATGGGATACGCTTCCCACGGAACTTGCTGTAA\n",
      "str01: ATGGGATACG----------------------\n",
      "str02: AT---A--C-CTTCCC----------------\n",
      "str03: --------C-------ACG-AA-TTG----A-\n",
      "str04: -T---A-A--------A---A--T--CTGT--\n",
      "str05: A-GG--TA--------AC--AA--------A-\n",
      "str06: -T----T-C-CT----A-GG---T------A-\n",
      "str07: -T----T--G-T----A-G-A--T--CT----\n",
      "str08: -TGGGA-A-G-TTC------------------\n",
      "str09: -T----T-C-C-----AC--AACT--------\n",
      "str10: -T------C--T----A---AAC--G----AA\n",
      "\n",
      "solution is feasible: True\n"
     ]
    }
   ],
   "source": [
    "_instance = instance_06\n",
    "_solution = solution_06\n",
    "\n",
    "util.show(_instance)\n",
    "if _solution is not None:\n",
    "    util.show(_instance, _solution)\n",
    "    print(f\"solution is feasible: {util.is_feasible(_instance, _solution)}\")\n",
    "else:\n",
    "    print(\"--- Solution not found ---\")"
   ]
  },
  {
   "cell_type": "code",
   "execution_count": null,
   "id": "qnkX",
   "metadata": {},
   "outputs": [
    {
     "name": "stdout",
     "output_type": "stream",
     "text": [
      "Running HiGHS 1.11.0 (git hash: 364c83a): Copyright (c) 2025 HiGHS under MIT licence terms\n"
     ]
    },
    {
     "name": "stdout",
     "output_type": "stream",
     "text": [
      "MIP  has 6853270 rows; 4569681 cols; 18273720 nonzeros; 4569680 integer variables (4567180 binary)\n"
     ]
    },
    {
     "name": "stdout",
     "output_type": "stream",
     "text": [
      "Coefficient ranges:\n",
      "  Matrix [1e+00, 2e+03]\n",
      "  Cost   [1e+00, 1e+00]\n",
      "  Bound  [1e+00, 2e+03]\n",
      "  RHS    [1e+00, 2e+03]\n"
     ]
    },
    {
     "name": "stdout",
     "output_type": "stream",
     "text": [
      "Presolving model\n"
     ]
    },
    {
     "name": "stdout",
     "output_type": "stream",
     "text": [
      "4569680 rows, 2286091 cols, 13706540 nonzeros  12s\n"
     ]
    },
    {
     "name": "stdout",
     "output_type": "stream",
     "text": [
      "4524372 rows, 2286091 cols, 13570616 nonzeros  61s\n"
     ]
    },
    {
     "name": "stdout",
     "output_type": "stream",
     "text": [
      "Presolve: Time limit reached\n",
      "\n",
      "Src: B => Branching; C => Central rounding; F => Feasibility pump; J => Feasibility jump;\n",
      "     H => Heuristic; L => Sub-MIP; P => Empty MIP; R => Randomized rounding; Z => ZI Round;\n",
      "     I => Shifting; S => Solve LP; T => Evaluate node; U => Unbounded; X => User solution;\n",
      "     z => Trivial zero; l => Trivial lower; u => Trivial upper; p => Trivial point\n",
      "\n",
      "        Nodes      |    B&B Tree     |            Objective Bounds              |  Dynamic Constraints |       Work      \n",
      "Src  Proc. InQueue |  Leaves   Expl. | BestBound       BestSol              Gap |   Cuts   InLp Confl. | LpIters     Time\n",
      "\n",
      "         0       0         0   0.00%   -inf            inf                  inf        0      0      0         0    62.4s\n",
      "\n",
      "Solving report\n",
      "  Status            Time limit reached\n",
      "  Primal bound      inf\n",
      "  Dual bound        -inf\n",
      "  Gap               inf\n",
      "  P-D integral      0\n",
      "  Solution status   -\n",
      "  Timing            62.44 (total)\n",
      "                    0.00 (presolve)\n",
      "                    0.00 (solve)\n",
      "                    0.00 (postsolve)\n",
      "  Max sub-MIP depth 0\n",
      "  Nodes             0\n",
      "  Repair LPs        0 (0 feasible; 0 iterations)\n",
      "  LP iterations     0 (total)\n",
      "                    0 (strong br.)\n",
      "                    0 (separation)\n",
      "                    0 (heuristics)\n"
     ]
    }
   ],
   "source": [
    "instance_07 = util.parse(\"nucleotide_n050k050.txt\")\n",
    "solution_07 = solve(instance_07)"
   ]
  },
  {
   "cell_type": "code",
   "execution_count": null,
   "id": "TqIu",
   "metadata": {},
   "outputs": [
    {
     "name": "stdout",
     "output_type": "stream",
     "text": [
      "--- Condition (with 5 chars) ---\n",
      "str01: TAGTAGTAGACTCCGGAAGTGACAAACCCTGAAAAGAATGGATAAATATA\n",
      "str02: GGATAAACACTCCCGAAAATAATTTGACTTAAACAACGCGACAGTTCAAG\n",
      "str03: ATACCTTCCTAGGTAACAAACCAACCAACTTTTGATCTCTTGTAGATCTG\n",
      "str04: TAAATTATAATCTTATACTAGTAAAAAATAGGGTGTAACCGAAAACGGTC\n",
      "str05: TTAAAACAGCCTGTGGGTTGCACCCACTCACAGGGCCCACTGGGCGCAAG\n",
      "str06: ATGACTTCCAATGGATCCCAACCTCAAGCTTCCACCCCAATGGTTTCAGC\n",
      "str07: AACAAACCAACCAACTTTTGATCTCTTGTAGATCTGTTCTCTAAACGAAC\n",
      "str08: ATGAAAACGAAAATTATTATCAAGGGTATGGAAGTGGAAGCTGACGAAAT\n",
      "str09: ACTCGGCTGCATGCTTAGTGCACTCACGCAGTATAATTAATAACTAATTA\n",
      "str10: TTGTAGATCTGTTCTCTAAACGAACTTTAAAATCTGTGTGGCTGTCACTC\n",
      "str11: GCAGAGCATTTTCTAATATCCACAAAATGAAGGCAATAATTGTACTACTC\n",
      "str12: ATGAGCCAAGATCCGACGAAGAGCCCCAAGGAGGAGAAGGAGGGACCCCC\n",
      "str13: TCTCACAGTTCAAGAACCCAAAGTACCCCCCATAGCCCTCTTAAAGCCAC\n",
      "str14: AGGTTTATACCTTCCTAGGTAACAAACCAACCAACTTTCGATCTCTTGTA\n",
      "str15: AGGTTTATACCTTCCCAGGTAACAAACCAACCAACTTTCGATCTCTTGTA\n",
      "str16: TAAAACAACTCAATACAACATAAGAAAATCAACGCAAAAACACTCACAAA\n",
      "str17: CCGCCCATTTGGGCGGCTCTCGAGCGATAGCTCGTCGAATCCCTCGACCT\n",
      "str18: ATACCTTCCCAGGTAACAAACCAACCAACTTTCGATCTCTTGTAGATCTG\n",
      "str19: TCTCACAGTTCAAGAACCTCAAGTCTCCCCCATAGGCCTCTTTCAGTCAG\n",
      "str20: GATCTCTCTCACCGAACCTGGCCCCGGGCAAATGCCCTAATCCAGAGGTG\n",
      "str21: AGAGCAATCAGTGCATCAGAAATATACCTATTATACACTTTGCTAAGAAT\n",
      "str22: AATTAAAACATCTCAATACAACATAAGAAAAACAACGCAAAAACACTCAT\n",
      "str23: AAACGAACTTTAAAATCTGTGTGGCTGTCACTCGGCTGCATGCTTAGTGC\n",
      "str24: ATAACTAATTACTGTCGTTGACAGGACACGAGTAACTCGTCTATCTTCTG\n",
      "str25: ATGAGTGTCACGAATTCACGTACAATGAACTGGATGTTCACGTGGAATAA\n",
      "str26: ACCGTGGGCGAGCGGTGACCGGTGTCTTCCTAGTGGGTCCCACGTTGAAR\n",
      "str27: AAAGGTTTATACCTTCCCAGGTAACAAACCAACCAACTTTCGATCTCTTG\n",
      "str28: AGTAGTTCGCCTGTGTGAGCTGACAAACTTAGTAGTGTTTGTGAGGATTA\n",
      "str29: TTTATACCTTCCTAGGTAACAAACCAACCAACTTTCGATCTCTTGTAGAT\n",
      "str30: ATGCGGTCGTCTCTCCCCGGCTTTTTTTCCCCGCGCCGCGTTGGCGCCGA\n",
      "str31: GTGACAAAAACATAATGGACTCCAACACCATGTCAAGCTTTCAGGTAGAC\n",
      "str32: GTGTAAGAAACAGTAAGCCCGGAAGTGGTGTTTTGCGATTTCGAGGCCGG\n",
      "str33: GAGAATGAGTCTCATTACCGCCCGGTACTTAGCAAGCTAATAGTCACGGC\n",
      "str34: ATGTGGTCGATGCCATGGAGGCCCACCAGTTCATTAAGGCTCCTGGCATT\n",
      "str35: ACGAGCGTTTTAAGGGCCCGCGACTGCGACGGCCACATGGCCCTGTATGT\n",
      "str36: GGTTTATACCTTCCCAGGTAACAAACCAACCAACTTTCGATCTCTTGTAG\n",
      "str37: TGGGAAGTTCCAAAAGATCACAAAACACTACCAGTCAACCTGAAGTACAC\n",
      "str38: GAAGCGTTAACGTGTTGAGGAAAAGACAGCTTAGGAGAACAAGAGCTGGG\n",
      "str39: ACCAGCGCACTTCGGCAGCGGCAGCACCTCGGCAGCACCTCAGCAGCAAC\n",
      "str40: ATGGGACAACTTATTCCTATCATGTGCCAAGAGGTTTTACCCGGTGACCA\n",
      "str41: TTGTAGATCTGTTCTCTAAACGAACTTTAAAATCTGTGTGGTTGTCACTC\n",
      "str42: AACCAACCAACTTTCGATCTCTTGTAGATCTGTTCTCTAAACGAACTTTA\n",
      "str43: GGGTTCTGCCAGGCATAGTCTTTTTTTCTGGCGGCCCTTGTGTAAACCTG\n",
      "str44: GGCTGCATGCTTAGTGCACTCACGCAGTATAATTAATAACTAATTACTGT\n",
      "str45: TGCATGCTTAGTGCACTCACGCAGTATAATTAATAACTAATTACTGTCGT\n",
      "str46: TTCCACAACTTTCCACCAAGCTCTGCAAGATCCCAGAGTCAGGGGCCTGT\n",
      "str47: TCTAAACGAACTTTAAAATCTGTGTGGCTGTCACTCGGCTGCATGCTTAG\n",
      "str48: ACCGGATGGCCGCGATTTTTCGGAGTCCTTGGGGGACCACTCAGAATAGA\n",
      "str49: CTTGTAGATCTGTTCTCTAAACGAACTTTAAAATCTGTGTGGCTGTCACT\n",
      "str50: ATGAGCACTAAGCGAAGAACCAAAAAGCAGACAATACAACCCGCTATTAC\n",
      "\n",
      "--- Solution not found ---\n"
     ]
    }
   ],
   "source": [
    "_instance = instance_07\n",
    "_solution = solution_07\n",
    "\n",
    "util.show(_instance)\n",
    "if _solution is not None:\n",
    "    util.show(_instance, _solution)\n",
    "    print(f\"solution is feasible: {util.is_feasible(_instance, _solution)}\")\n",
    "else:\n",
    "    print(\"--- Solution not found ---\")"
   ]
  },
  {
   "cell_type": "code",
   "execution_count": null,
   "id": "Vxnm",
   "metadata": {},
   "outputs": [
    {
     "name": "stdout",
     "output_type": "stream",
     "text": [
      "Running HiGHS 1.11.0 (git hash: 364c83a): Copyright (c) 2025 HiGHS under MIT licence terms\n"
     ]
    },
    {
     "name": "stdout",
     "output_type": "stream",
     "text": [
      "MIP  has 12853 rows; 8603 cols; 34208 nonzeros; 8602 integer variables (8502 binary)\n",
      "Coefficient ranges:\n",
      "  Matrix [1e+00, 1e+02]\n",
      "  Cost   [1e+00, 1e+00]\n",
      "  Bound  [1e+00, 1e+02]\n",
      "  RHS    [1e+00, 1e+02]\n",
      "Presolving model\n"
     ]
    },
    {
     "name": "stdout",
     "output_type": "stream",
     "text": [
      "8602 rows, 4352 cols, 25706 nonzeros  0s\n"
     ]
    },
    {
     "name": "stdout",
     "output_type": "stream",
     "text": [
      "8220 rows, 4352 cols, 24560 nonzeros  0s\n",
      "Objective function is integral with scale 1\n",
      "\n",
      "Solving MIP model with:\n",
      "   8220 rows\n",
      "   4352 cols (4251 binary, 100 integer, 1 implied int., 0 continuous, 0 domain fixed)\n",
      "   24560 nonzeros\n"
     ]
    },
    {
     "name": "stdout",
     "output_type": "stream",
     "text": [
      "\n",
      "Src: B => Branching; C => Central rounding; F => Feasibility pump; J => Feasibility jump;\n",
      "     H => Heuristic; L => Sub-MIP; P => Empty MIP; R => Randomized rounding; Z => ZI Round;\n",
      "     I => Shifting; S => Solve LP; T => Evaluate node; U => Unbounded; X => User solution;\n",
      "     z => Trivial zero; l => Trivial lower; u => Trivial upper; p => Trivial point\n",
      "\n",
      "        Nodes      |    B&B Tree     |            Objective Bounds              |  Dynamic Constraints |       Work      \n",
      "Src  Proc. InQueue |  Leaves   Expl. | BestBound       BestSol              Gap |   Cuts   InLp Confl. | LpIters     Time\n",
      "\n",
      "         0       0         0   0.00%   10              inf                  inf        0      0      0         0     0.1s\n"
     ]
    },
    {
     "name": "stdout",
     "output_type": "stream",
     "text": [
      " R       0       0         0   0.00%   10              65                84.62%        0      0      0      2459     0.4s\n"
     ]
    },
    {
     "name": "stdout",
     "output_type": "stream",
     "text": [
      "       217     159         3   0.00%   10              65                84.62%    14720   2211    359     34482     5.4s\n"
     ]
    },
    {
     "name": "stdout",
     "output_type": "stream",
     "text": [
      "       427     300        48   0.00%   10.00000107     65                84.62%     6875   1841    503     95033    23.2s\n"
     ]
    },
    {
     "name": "stdout",
     "output_type": "stream",
     "text": [
      "       631     390        81   0.00%   11              65                83.08%    13250   1972    676    125328    34.9s\n"
     ]
    },
    {
     "name": "stdout",
     "output_type": "stream",
     "text": [
      "       721     432       102   0.78%   11              65                83.08%     9230   2004    839    153274    41.5s\n"
     ]
    },
    {
     "name": "stdout",
     "output_type": "stream",
     "text": [
      "       937     503       153   0.78%   11              65                83.08%    13946   1736   1144    182757    47.4s\n"
     ]
    },
    {
     "name": "stdout",
     "output_type": "stream",
     "text": [
      "      1011     562       172   0.78%   11              65                83.08%     2195   1796   1233    198540    55.3s\n"
     ]
    },
    {
     "name": "stdout",
     "output_type": "stream",
     "text": [
      "      1028     563       180   0.78%   11              65                83.08%     2319   1813   1279    206489    60.1s\n",
      "\n",
      "Solving report\n",
      "  Status            Time limit reached\n",
      "  Primal bound      65\n",
      "  Dual bound        11\n",
      "  Gap               83.08% (tolerance: 0.01%)\n",
      "  P-D integral      49.9379967533\n",
      "  Solution status   feasible\n",
      "                    65 (objective)\n",
      "                    0 (bound viol.)\n",
      "                    0 (int. viol.)\n",
      "                    0 (row viol.)\n",
      "  Timing            60.06 (total)\n",
      "                    0.00 (presolve)\n",
      "                    0.00 (solve)\n",
      "                    0.00 (postsolve)\n",
      "  Max sub-MIP depth 6\n",
      "  Nodes             1028\n",
      "  Repair LPs        0 (0 feasible; 0 iterations)\n",
      "  LP iterations     206489 (total)\n",
      "                    0 (strong br.)\n",
      "                    6622 (separation)\n",
      "                    137572 (heuristics)\n"
     ]
    }
   ],
   "source": [
    "instance_08 = util.parse(\"protein_n010k010.txt\")\n",
    "solution_08 = solve(instance_08)"
   ]
  },
  {
   "cell_type": "code",
   "execution_count": null,
   "id": "DnEU",
   "metadata": {},
   "outputs": [
    {
     "name": "stdout",
     "output_type": "stream",
     "text": [
      "--- Condition (with 19 chars) ---\n",
      "str01: MALSYCPKGT\n",
      "str02: MQSSLNAIPV\n",
      "str03: MPLSYQHFRK\n",
      "str04: MEEHVNELHD\n",
      "str05: MSNFDAIRAL\n",
      "str06: MFRNQNSRNG\n",
      "str07: MFYAHAFGGY\n",
      "str08: MSKFTRRPYQ\n",
      "str09: MSFVAGVTAQ\n",
      "str10: MESLVPGFNE\n",
      "\n",
      "--- Solution (of length 66) ---\n",
      "  Sol: MALSYCNFDAIQSSLNAIEEHVNELHDPKGTLSYQHFRKAGVTHLVPGFNEAFGGYQNSRRPYQNG\n",
      "str01: MALSYC---------------------PKGT-----------------------------------\n",
      "str02: M----------QSSLNAI---------P-------------V------------------------\n",
      "str03: M--------------------------P---LSYQHFRK---------------------------\n",
      "str04: M-----------------EEHVNELHD---------------------------------------\n",
      "str05: M--S--NFDAI--------------------------R-A----L---------------------\n",
      "str06: M------F-----------------------------R-----------N------QNSR----NG\n",
      "str07: M------F-------------------------Y-----A---H-------AFGGY----------\n",
      "str08: M--S------------------------K-------F-----T----------------RRPYQ--\n",
      "str09: M--S---F-------------V-----------------AGVT--------A----Q---------\n",
      "str10: M-----------------E-------------S-----------LVPGFNE---------------\n",
      "\n",
      "solution is feasible: True\n"
     ]
    }
   ],
   "source": [
    "_instance = instance_08\n",
    "_solution = solution_08\n",
    "\n",
    "util.show(_instance)\n",
    "if _solution is not None:\n",
    "    util.show(_instance, _solution)\n",
    "    print(f\"solution is feasible: {util.is_feasible(_instance, _solution)}\")\n",
    "else:\n",
    "    print(\"--- Solution not found ---\")"
   ]
  },
  {
   "cell_type": "code",
   "execution_count": null,
   "id": "ulZA",
   "metadata": {},
   "outputs": [
    {
     "name": "stdout",
     "output_type": "stream",
     "text": [
      "Running HiGHS 1.11.0 (git hash: 364c83a): Copyright (c) 2025 HiGHS under MIT licence terms\n"
     ]
    },
    {
     "name": "stdout",
     "output_type": "stream",
     "text": [
      "MIP  has 8643727 rows; 5763319 cols; 23048272 nonzeros; 5763318 integer variables (5760818 binary)\n"
     ]
    },
    {
     "name": "stdout",
     "output_type": "stream",
     "text": [
      "Coefficient ranges:\n",
      "  Matrix [1e+00, 2e+03]\n",
      "  Cost   [1e+00, 1e+00]\n",
      "  Bound  [1e+00, 2e+03]\n",
      "  RHS    [1e+00, 2e+03]\n"
     ]
    },
    {
     "name": "stdout",
     "output_type": "stream",
     "text": [
      "Presolving model\n"
     ]
    },
    {
     "name": "stdout",
     "output_type": "stream",
     "text": [
      "5763318 rows, 2882910 cols, 17287454 nonzeros  14s\n"
     ]
    },
    {
     "name": "stdout",
     "output_type": "stream",
     "text": [
      "5708453 rows, 2882910 cols, 17122859 nonzeros  75s\n"
     ]
    },
    {
     "name": "stdout",
     "output_type": "stream",
     "text": [
      "Presolve: Time limit reached\n",
      "\n",
      "Src: B => Branching; C => Central rounding; F => Feasibility pump; J => Feasibility jump;\n",
      "     H => Heuristic; L => Sub-MIP; P => Empty MIP; R => Randomized rounding; Z => ZI Round;\n",
      "     I => Shifting; S => Solve LP; T => Evaluate node; U => Unbounded; X => User solution;\n",
      "     z => Trivial zero; l => Trivial lower; u => Trivial upper; p => Trivial point\n",
      "\n",
      "        Nodes      |    B&B Tree     |            Objective Bounds              |  Dynamic Constraints |       Work      \n",
      "Src  Proc. InQueue |  Leaves   Expl. | BestBound       BestSol              Gap |   Cuts   InLp Confl. | LpIters     Time\n",
      "\n",
      "         0       0         0   0.00%   -inf            inf                  inf        0      0      0         0    76.7s\n",
      "\n",
      "Solving report\n",
      "  Status            Time limit reached\n",
      "  Primal bound      inf\n",
      "  Dual bound        -inf\n",
      "  Gap               inf\n",
      "  P-D integral      0\n",
      "  Solution status   -\n",
      "  Timing            76.66 (total)\n",
      "                    0.00 (presolve)\n",
      "                    0.00 (solve)\n",
      "                    0.00 (postsolve)\n",
      "  Max sub-MIP depth 0\n",
      "  Nodes             0\n",
      "  Repair LPs        0 (0 feasible; 0 iterations)\n",
      "  LP iterations     0 (total)\n",
      "                    0 (strong br.)\n",
      "                    0 (separation)\n",
      "                    0 (heuristics)\n"
     ]
    }
   ],
   "source": [
    "instance_09 = util.parse(\"protein_n050k050.txt\")\n",
    "solution_09 = solve(instance_09)"
   ]
  },
  {
   "cell_type": "code",
   "execution_count": null,
   "id": "ecfG",
   "metadata": {},
   "outputs": [
    {
     "name": "stdout",
     "output_type": "stream",
     "text": [
      "--- Condition (with 20 chars) ---\n",
      "str01: MRHLNIDIETYSSNDIKNGVYKYADAEDFEILLFAYSIDGGEVECLDLTR\n",
      "str02: MERRAHRTHQNWDATKPRERRKQTQHRLTHPDDSIYPRIEKAEGRKEDHG\n",
      "str03: MEPGAFSTALFDALCDDILHRRLESQLRFGGVQIPPEVSDPRVYAGYALL\n",
      "str04: MGKFYYSNRRLAVFAQAQSRHLGGSYEQWLACVSGDSAFRAEVKARVQKD\n",
      "str05: FFRENLAFQQGKAREFPSEEARANSPTSRELWVRRGGNPLSEAGAERRGT\n",
      "str06: MDPSLTQVWAVEGSVLSAAVDTAETNDTEPDEGLSAENEGETRIIRITGS\n",
      "str07: MAFDFSVTGNTKLDTSGFTQGVSSMTVAAGTLIADLVKTASSQLTNLAQS\n",
      "str08: MAVILPSTYTDGTAACTNGSPDVVGTGTMWVNTILPGDFFWTPSGESVRV\n",
      "str09: MNTGIIDLFDNHVDSIPTILPHQLATLDYLVRTIIDENRSVLLFHIMGSG\n",
      "str10: MFVFLVLLPLVSSQCVNLRTRTQLPPAYTNSFTRGVYYPDKVFRSSVLHS\n",
      "str11: MDSKETILIEIIPKIKSYLLDTNISPKSYNDFISRNKNIFVINLYNVSTI\n",
      "str12: MLLSGKKKMLLDNYETAAARGRGGDERRRGWAFDRPAIVTKRDKSDRMAH\n",
      "str13: MNGEEDDNEQAAAEQQTKKAKREKPKQARKVTSEAWEHFDATDDGAECKH\n",
      "str14: MESLVPGFNEKTHVQLSLPVLQVRDVLVRGFGDSVEEVLSEARQHLKDGT\n",
      "str15: MRYIVSPQLVLQVGKGQEVERALYLTPYDYIDEKSPIYYFLRSHLNIQRP\n",
      "str16: MPRVPVYDSPQVSPNTVPQARLATPSFATPTFRGADAPAFQDTANQQARQ\n",
      "str17: MFVFLVLLPLVSSQCVNLRTRTQLPLAYTNSFTRGVYYPDKVFRSSVLHS\n",
      "str18: MFVFFVLLPLVSSQCVNLTTRTQLPPAYTNSFTRGVYYPDKVFRSSVLHS\n",
      "str19: MEAIISFAGIGINYKKLQSKLQHDFGRVLKALTVTARALPGQPKHIAIRQ\n",
      "str20: MASSGPERAEHQIILPESHLSSPLVKHKLLYYWKLTGLPLPDECDFDHLI\n",
      "str21: MESLVPGFNEKTHVQLSLPVLQVRDVLVRGFGDSVEEVLSEVRQHLKDGT\n",
      "str22: MLAPSPNSKIQLFNNINIDINYEHTLYFASVSAQNSFFAQWVVYSADKAI\n",
      "str23: MSAITETKPTIELPALAEGFQRYNKTPGFTCVLDRYDHGVINDSKIVLYN\n",
      "str24: MKNIAEFKKAPELAEKLLEVFSNLKGNSRSLDPMRAGKHDVVVIESTKKL\n",
      "str25: MPQPLKQSLDQSKWLREAEKHLRALESLVDSNLEEEKLKPQLSMGEDVQS\n",
      "str26: MFVFLVLLPLVSSQCVNLITRTQSYTNSFTRGVYYPDKVFRSSVLHSTQD\n",
      "str27: MKFDVLSLFAPWAKVDEQEYDQQLNNNLESITAPKFDDGATEIESERGDI\n",
      "str28: MFVFLVLLPLVSSQCVNFTNRTQLPSAYTNSFTRGVYYPDKVFRSSVLHS\n",
      "str29: MWSIIVLKLISIQPLLLVTSLPLYNPNMDSCCLISRITPELAGKLTWIFI\n",
      "str30: MESLVPGFNEKTHVQLSLPVLQVRDVLVRGFGDSVEEFLSEARQHLKDGT\n",
      "str31: MFVFLVLLPLVSSQCVMPLFNLITTTQSYTNFTRGVYYPDKVFRSSVLHL\n",
      "str32: MHQITVVSGPTEVSTCFGSLHPFQSLKPVMANALGVLEGKMFCSIGGRSL\n",
      "str33: MATLLRSLALFKRNKDKPPITSGSGGAIRGIKHIIIVPIPGDSSITTRSR\n",
      "str34: MESLVPGFNEKTHVQLSLPVLQVRDVLVRGFGDSMEEVLSEARQHLKDGT\n",
      "str35: MFVFLVLLPLVSSQCVNLTTGTQLPPAYTNSFTRGVYYPDKVFRSSVLHS\n",
      "str36: MANIINLWNGIVPMVQDVNVASITAFKSMIDETWDKKIEANTCISRKHRN\n",
      "str37: MLNRIQTLMKTANNYETIEILRNYLRLYIILARNEEGRGILIYDDNIDSV\n",
      "str38: MADPAGTNGEEGTGCNGWFYVEAVVEKKTGDAISDDENENDSDTGEDLVD\n",
      "str39: MFVFLVLLPLVSSQCVNLRTRTQLPPSYTNSFTRGVYYPDKVFRSSVLHS\n",
      "str40: MESLVPGFNEKTHVQLSLPVLQVCDVLVRGFGDSVEEVLSEARQHLKDGT\n",
      "str41: MNNQRKKTARPSFNMLKRARNRVSTVSQLAKRFSKGLLSGQGPMKLVMAF\n",
      "str42: MSNFDAIRALVDTDAYKLGHIHMYPEGTEYVLSNFTDRGSRIEGVTHTVH\n",
      "str43: MIELRHEVQGDLVTINVVETPEDLDGFRDFIRAHLICLAVDTETTGLDIY\n",
      "str44: MFVFLVLLPLVSSQCVMPLFNLITTNQSYTNSFTRGVYYPDKVFRSSVLH\n",
      "str45: MSKDLVARQALMTARMKADFVFFLFVLWKALSLPVPTRCQIDMAKKLSAG\n",
      "str46: MASLLKSLTLFKRTRDQPPLASGSGGAIRGIKHVIIVLIPGDSSIVTRSR\n",
      "str47: MRVRGILRNWQQWWIWTSLGFWMFMICSVVGNLWVTVYYGVPVWKEAKTT\n",
      "str48: MAVEPFPRRPITRPHASIEVDTSGIGGSAGSSEKVFCLIGQAEGGEPNTV\n",
      "str49: MFYAHAFGGYDENLHAFPGISSTVANDVRKYSVVSVYNKKYNIVKNKYMW\n",
      "str50: MANYSKPFLLDIVFNKDIKCINDSCSHSDCRYQSNSYVELRRNQALNKNL\n",
      "\n",
      "--- Solution not found ---\n"
     ]
    }
   ],
   "source": [
    "_instance = instance_09\n",
    "_solution = solution_09\n",
    "\n",
    "util.show(_instance)\n",
    "if _solution is not None:\n",
    "    util.show(_instance, _solution)\n",
    "    print(f\"solution is feasible: {util.is_feasible(_instance, _solution)}\")\n",
    "else:\n",
    "    print(\"--- Solution not found ---\")"
   ]
  }
 ],
 "metadata": {},
 "nbformat": 4,
 "nbformat_minor": 5
}
