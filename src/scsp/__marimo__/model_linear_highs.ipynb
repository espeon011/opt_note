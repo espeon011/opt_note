{
 "cells": [
  {
   "cell_type": "code",
   "execution_count": null,
   "id": "setup",
   "metadata": {
    "marimo": {
     "name": "setup"
    }
   },
   "outputs": [],
   "source": [
    "import math\n",
    "import highspy"
   ]
  },
  {
   "cell_type": "code",
   "execution_count": null,
   "id": "Hbol",
   "metadata": {},
   "outputs": [],
   "source": [
    "import marimo as mo\n",
    "import nbformat\n",
    "import util"
   ]
  },
  {
   "cell_type": "markdown",
   "id": "MJUe",
   "metadata": {
    "marimo": {
     "config": {
      "hide_code": true
     }
    }
   },
   "source": [
    "# MILP 定式化 (HiGHS)"
   ]
  },
  {
   "cell_type": "markdown",
   "id": "vblA",
   "metadata": {
    "marimo": {
     "config": {
      "hide_code": true
     }
    }
   },
   "source": [
    "数理最適化モデルを用いて SCSP を解く.\n",
    "定式化については SCIP 版を参照."
   ]
  },
  {
   "cell_type": "code",
   "execution_count": null,
   "id": "bkHC",
   "metadata": {
    "marimo": {
     "name": "*Model"
    }
   },
   "outputs": [],
   "source": [
    "class Model:\n",
    "    def __init__(self, instance: list[str]):\n",
    "        max_len = sum(len(s) for s in instance)\n",
    "\n",
    "        highs = highspy.Highs()\n",
    "\n",
    "        seqs = [\n",
    "            [\n",
    "                highs.addIntegral(lb=0, ub=max_len - 1)\n",
    "                for idx, _ in enumerate(s)\n",
    "            ]\n",
    "            for s in instance\n",
    "        ]\n",
    "        for seq in seqs:\n",
    "            for idx, _ in enumerate(seq):\n",
    "                if idx == 0:\n",
    "                    continue\n",
    "                highs.addConstr(seq[idx - 1] + 1 <= seq[idx])\n",
    "\n",
    "        for idx1, (s1, seq1) in enumerate(zip(instance, seqs)):\n",
    "            for idx2, (s2, seq2) in enumerate(zip(instance, seqs)):\n",
    "                if idx1 >= idx2:\n",
    "                    continue\n",
    "\n",
    "                for cidx1, (c1, cvar1) in enumerate(zip(s1, seq1)):\n",
    "                    for cidx2, (c2, cvar2) in enumerate(zip(s2, seq2)):\n",
    "                        if c1 != c2:\n",
    "                            lt = highs.addBinary()\n",
    "                            gt = highs.addBinary()\n",
    "                            highs.addConstr(lt + gt == 1)\n",
    "                            big_m = max_len\n",
    "                            highs.addConstr(cvar1 + 1 <= cvar2 + big_m * (1 - lt))\n",
    "                            highs.addConstr(cvar1 + big_m * (1 - gt) >= cvar2 + 1)\n",
    "\n",
    "        obj = highs.addVariable(lb=0, ub=max_len)\n",
    "        for seq in seqs:\n",
    "            highs.addConstr(obj >= seq[-1])\n",
    "        highs.setObjective(obj=obj, sense=highspy.ObjSense.kMinimize)\n",
    "\n",
    "        self.instance = instance\n",
    "        self.highs = highs\n",
    "        self.seqs = seqs\n",
    "\n",
    "    def solve(self, time_limit: int | None = 60) -> \"Model\":\n",
    "        if time_limit is not None:\n",
    "            self.highs.setOptionValue(\"time_limit\", time_limit)\n",
    "        self.highs.solve()\n",
    "        return self\n",
    "\n",
    "    def to_solution(self) -> str | None:\n",
    "        info = self.highs.getInfo()\n",
    "        primal_status = info.primal_solution_status\n",
    "        if primal_status != highspy.SolutionStatus.kSolutionStatusFeasible:\n",
    "            return None\n",
    "\n",
    "        highssolution = self.highs.getSolution()\n",
    "        objval = int(self.highs.getObjectiveValue())\n",
    "        sol_char_idx = 0\n",
    "        solution = \"\"\n",
    "        while sol_char_idx <= objval:\n",
    "            found = False\n",
    "            for idx, (s, seq) in enumerate(zip(self.instance, self.seqs)):\n",
    "                for c_idx, cvar in enumerate(seq):\n",
    "                    if math.isclose(\n",
    "                        highssolution.col_value[cvar.index],\n",
    "                        sol_char_idx\n",
    "                    ):\n",
    "                        solution += s[c_idx]\n",
    "                        found = True\n",
    "                        sol_char_idx += 1\n",
    "                if found:\n",
    "                    break\n",
    "            if not found:\n",
    "                sol_char_idx += 1\n",
    "\n",
    "        return solution"
   ]
  },
  {
   "cell_type": "code",
   "execution_count": null,
   "id": "lEQa",
   "metadata": {
    "marimo": {
     "name": "*solve"
    }
   },
   "outputs": [],
   "source": [
    "def solve(instance: list[str], time_limit: int | None = 60) -> str | None:\n",
    "    return Model(instance).solve(time_limit).to_solution()"
   ]
  },
  {
   "cell_type": "code",
   "execution_count": null,
   "id": "PKri",
   "metadata": {},
   "outputs": [
    {
     "name": "stdout",
     "output_type": "stream",
     "text": [
      "Running HiGHS 1.11.0 (git hash: 364c83a): Copyright (c) 2025 HiGHS under MIT licence terms\n"
     ]
    },
    {
     "name": "stdout",
     "output_type": "stream",
     "text": [
      "MIP  has 7665 rows; 5139 cols; 20384 nonzeros; 5138 integer variables (5054 binary)\n",
      "Coefficient ranges:\n",
      "  Matrix [1e+00, 8e+01]\n",
      "  Cost   [1e+00, 1e+00]\n",
      "  Bound  [1e+00, 8e+01]\n",
      "  RHS    [1e+00, 8e+01]\n",
      "Presolving model\n"
     ]
    },
    {
     "name": "stdout",
     "output_type": "stream",
     "text": [
      "5138 rows, 2612 cols, 15330 nonzeros  0s\n"
     ]
    },
    {
     "name": "stdout",
     "output_type": "stream",
     "text": [
      "4987 rows, 2612 cols, 14877 nonzeros  0s\n",
      "Objective function is integral with scale 1\n",
      "\n",
      "Solving MIP model with:\n",
      "   4987 rows\n",
      "   2612 cols (2527 binary, 84 integer, 1 implied int., 0 continuous, 0 domain fixed)\n",
      "   14877 nonzeros\n"
     ]
    },
    {
     "name": "stdout",
     "output_type": "stream",
     "text": [
      "\n",
      "Src: B => Branching; C => Central rounding; F => Feasibility pump; J => Feasibility jump;\n",
      "     H => Heuristic; L => Sub-MIP; P => Empty MIP; R => Randomized rounding; Z => ZI Round;\n",
      "     I => Shifting; S => Solve LP; T => Evaluate node; U => Unbounded; X => User solution;\n",
      "     z => Trivial zero; l => Trivial lower; u => Trivial upper; p => Trivial point\n",
      "\n",
      "        Nodes      |    B&B Tree     |            Objective Bounds              |  Dynamic Constraints |       Work      \n",
      "Src  Proc. InQueue |  Leaves   Expl. | BestBound       BestSol              Gap |   Cuts   InLp Confl. | LpIters     Time\n",
      "\n",
      "         0       0         0   0.00%   24              inf                  inf        0      0      0         0     0.1s\n"
     ]
    },
    {
     "name": "stdout",
     "output_type": "stream",
     "text": [
      " R       0       0         0   0.00%   24              80                70.00%        0      0      0      1198     0.2s\n"
     ]
    },
    {
     "name": "stdout",
     "output_type": "stream",
     "text": [
      " C       0       0         0   0.00%   24              79                69.62%    10591    792      0      2513     0.5s\n"
     ]
    },
    {
     "name": "stdout",
     "output_type": "stream",
     "text": [
      " L       0       0         0   0.00%   25              76                67.11%    10663   1324     84     13333     4.6s\n"
     ]
    },
    {
     "name": "stdout",
     "output_type": "stream",
     "text": [
      "       216      67        60   0.00%   25              76                67.11%    11080   1071    329     40092    14.7s\n"
     ]
    },
    {
     "name": "stdout",
     "output_type": "stream",
     "text": [
      " T     579     185       143  37.60%   25              75                66.67%    12799   1097    970     49959    15.8s\n"
     ]
    },
    {
     "name": "stdout",
     "output_type": "stream",
     "text": [
      "\n",
      "Restarting search from the root node\n"
     ]
    },
    {
     "name": "stdout",
     "output_type": "stream",
     "text": [
      "Model after restart has 4917 rows, 2612 cols (2527 bin., 84 int., 1 impl., 0 cont., 0 dom.fix.), and 14667 nonzeros\n",
      "\n"
     ]
    },
    {
     "name": "stdout",
     "output_type": "stream",
     "text": [
      "      1536       0         0   0.00%   25              75                66.67%     1196      0      0     76931    18.8s\n"
     ]
    },
    {
     "name": "stdout",
     "output_type": "stream",
     "text": [
      "      1536       0         0   0.00%   25              75                66.67%     1196    950     16     78064    18.9s\n"
     ]
    },
    {
     "name": "stdout",
     "output_type": "stream",
     "text": [
      "      2229      98       223   0.00%   25              75                66.67%     1099     32   1345    105896    25.3s\n"
     ]
    },
    {
     "name": "stdout",
     "output_type": "stream",
     "text": [
      "\n",
      "Restarting search from the root node\n"
     ]
    },
    {
     "name": "stdout",
     "output_type": "stream",
     "text": [
      "Model after restart has 4917 rows, 2612 cols (2527 bin., 84 int., 1 impl., 0 cont., 0 dom.fix.), and 14667 nonzeros\n",
      "\n"
     ]
    },
    {
     "name": "stdout",
     "output_type": "stream",
     "text": [
      "      3451       0         0   0.00%   25              75                66.67%      923      0      0    154409    29.8s\n"
     ]
    },
    {
     "name": "stdout",
     "output_type": "stream",
     "text": [
      "      3451       0         0   0.00%   25              75                66.67%      923    867     26    155592    29.9s\n"
     ]
    },
    {
     "name": "stdout",
     "output_type": "stream",
     "text": [
      " T    4495     114       320  23.04%   25              74                66.22%      910    893   3495    196765    34.9s\n"
     ]
    },
    {
     "name": "stdout",
     "output_type": "stream",
     "text": [
      "      5616     250       643  23.09%   25              74                66.22%     1146    939   6132    253771    39.9s\n"
     ]
    },
    {
     "name": "stdout",
     "output_type": "stream",
     "text": [
      "\n",
      "Restarting search from the root node\n"
     ]
    },
    {
     "name": "stdout",
     "output_type": "stream",
     "text": [
      "Model after restart has 4917 rows, 2612 cols (2527 bin., 84 int., 1 impl., 0 cont., 0 dom.fix.), and 14667 nonzeros\n",
      "\n"
     ]
    },
    {
     "name": "stdout",
     "output_type": "stream",
     "text": [
      "      6885       0         0   0.00%   25              74                66.22%       76      0      0    281612    43.1s\n"
     ]
    },
    {
     "name": "stdout",
     "output_type": "stream",
     "text": [
      "      6885       0         0   0.00%   25              74                66.22%       76     50     23    281728    43.1s\n"
     ]
    },
    {
     "name": "stdout",
     "output_type": "stream",
     "text": [
      "      7826      94       301   2.78%   25              74                66.22%    33031    983   2279    330670    48.4s\n"
     ]
    },
    {
     "name": "stdout",
     "output_type": "stream",
     "text": [
      "      8048     126       377   2.78%   25              74                66.22%     1058    906   2757    347410    53.4s\n"
     ]
    },
    {
     "name": "stdout",
     "output_type": "stream",
     "text": [
      "      8447     158       511   2.78%   25              74                66.22%     1003    899   3649    380350    60.0s\n",
      "      8447     158       511   2.78%   25              74                66.22%     1003    899   3649    380350    60.0s\n",
      "\n",
      "Solving report\n",
      "  Status            Time limit reached\n",
      "  Primal bound      74\n",
      "  Dual bound        25\n",
      "  Gap               66.22% (tolerance: 0.01%)\n",
      "  P-D integral      39.8901535198\n",
      "  Solution status   feasible\n",
      "                    74 (objective)\n",
      "                    0 (bound viol.)\n",
      "                    7.1054273576e-15 (int. viol.)\n",
      "                    0 (row viol.)\n",
      "  Timing            60.02 (total)\n",
      "                    0.00 (presolve)\n",
      "                    0.00 (solve)\n",
      "                    0.00 (postsolve)\n",
      "  Max sub-MIP depth 5\n",
      "  Nodes             8447\n",
      "  Repair LPs        0 (0 feasible; 0 iterations)\n",
      "  LP iterations     380350 (total)\n",
      "                    1365 (strong br.)\n",
      "                    38340 (separation)\n",
      "                    66052 (heuristics)\n"
     ]
    }
   ],
   "source": [
    "instance_01 = util.parse(\"uniform_q26n004k015-025.txt\")\n",
    "solution_01 = solve(instance_01)"
   ]
  },
  {
   "cell_type": "code",
   "execution_count": null,
   "id": "Xref",
   "metadata": {},
   "outputs": [
    {
     "name": "stdout",
     "output_type": "stream",
     "text": [
      "--- Condition (with 25 chars) ---\n",
      "str1: tkgnkuhmpxnhtqgxzvxis\n",
      "str2: iojiqfolnbxxcvsuqpvissbxf\n",
      "str3: ulcinycosovozpplp\n",
      "str4: igevazgbrddbcsvrvnngf\n",
      "\n",
      "--- Solution (of length 75) ---\n",
      " Sol: tkgnkuhmpxnhtqgxzvxulcinycosovozppljigqfolnbxxecvsuaqpvzissgbxrddbcsvrvnngf\n",
      "str1: tkgnkuhmpxnhtqgxzvx---i----s-----------------------------------------------\n",
      "str2: ----------------------i---o--------ji-qfolnbxx-cvsu-qpv-iss-bx------------f\n",
      "str3: -----u--------------lcinycosovozppl------------------p---------------------\n",
      "str4: ----------------------i--------------g--------e-v--a---z---gb-rddbcsvrvnngf\n",
      "\n",
      "solution is feasible: True\n"
     ]
    }
   ],
   "source": [
    "_instance = instance_01\n",
    "_solution = solution_01\n",
    "\n",
    "util.show(_instance)\n",
    "if _solution is not None:\n",
    "    util.show(_instance, _solution)\n",
    "    print(f\"solution is feasible: {util.is_feasible(_instance, _solution)}\")\n",
    "else:\n",
    "    print(\"--- Solution not found ---\")"
   ]
  },
  {
   "cell_type": "code",
   "execution_count": null,
   "id": "SFPL",
   "metadata": {},
   "outputs": [
    {
     "name": "stdout",
     "output_type": "stream",
     "text": [
      "Running HiGHS 1.11.0 (git hash: 364c83a): Copyright (c) 2025 HiGHS under MIT licence terms\n"
     ]
    },
    {
     "name": "stdout",
     "output_type": "stream",
     "text": [
      "MIP  has 38584 rows; 25782 cols; 102774 nonzeros; 25781 integer variables (25606 binary)\n",
      "Coefficient ranges:\n",
      "  Matrix [1e+00, 2e+02]\n",
      "  Cost   [1e+00, 1e+00]\n",
      "  Bound  [1e+00, 2e+02]\n",
      "  RHS    [1e+00, 2e+02]\n"
     ]
    },
    {
     "name": "stdout",
     "output_type": "stream",
     "text": [
      "Presolving model\n"
     ]
    },
    {
     "name": "stdout",
     "output_type": "stream",
     "text": [
      "25781 rows, 12979 cols, 77168 nonzeros  0s\n"
     ]
    },
    {
     "name": "stdout",
     "output_type": "stream",
     "text": [
      "25096 rows, 12979 cols, 75113 nonzeros  0s\n",
      "Objective function is integral with scale 1\n",
      "\n",
      "Solving MIP model with:\n",
      "   25096 rows\n",
      "   12979 cols (12803 binary, 175 integer, 1 implied int., 0 continuous, 0 domain fixed)\n",
      "   75113 nonzeros\n"
     ]
    },
    {
     "name": "stdout",
     "output_type": "stream",
     "text": [
      "\n",
      "Src: B => Branching; C => Central rounding; F => Feasibility pump; J => Feasibility jump;\n",
      "     H => Heuristic; L => Sub-MIP; P => Empty MIP; R => Randomized rounding; Z => ZI Round;\n",
      "     I => Shifting; S => Solve LP; T => Evaluate node; U => Unbounded; X => User solution;\n",
      "     z => Trivial zero; l => Trivial lower; u => Trivial upper; p => Trivial point\n",
      "\n",
      "        Nodes      |    B&B Tree     |            Objective Bounds              |  Dynamic Constraints |       Work      \n",
      "Src  Proc. InQueue |  Leaves   Expl. | BestBound       BestSol              Gap |   Cuts   InLp Confl. | LpIters     Time\n",
      "\n",
      "         0       0         0   0.00%   24              inf                  inf        0      0      0         0     0.6s\n"
     ]
    },
    {
     "name": "stdout",
     "output_type": "stream",
     "text": [
      " R       0       0         0   0.00%   24              147               83.67%        0      0      0      6906     2.5s\n"
     ]
    },
    {
     "name": "stdout",
     "output_type": "stream",
     "text": [
      "         0       0         0   0.00%   25              147               82.99%    22513   4366    185     34501    25.7s\n"
     ]
    },
    {
     "name": "stdout",
     "output_type": "stream",
     "text": [
      "       101      71        15   0.00%   25              147               82.99%    24390   4392    234     62139    60.1s\n",
      "       101      71        15   0.00%   25              147               82.99%    24390   4392    234     62139    60.1s\n",
      "\n",
      "Solving report\n",
      "  Status            Time limit reached\n",
      "  Primal bound      147\n",
      "  Dual bound        25\n",
      "  Gap               82.99% (tolerance: 0.01%)\n",
      "  P-D integral      47.8074669481\n",
      "  Solution status   feasible\n",
      "                    147 (objective)\n",
      "                    0 (bound viol.)\n",
      "                    0 (int. viol.)\n",
      "                    0 (row viol.)\n",
      "  Timing            60.05 (total)\n",
      "                    0.00 (presolve)\n",
      "                    0.00 (solve)\n",
      "                    0.00 (postsolve)\n",
      "  Max sub-MIP depth 2\n",
      "  Nodes             101\n",
      "  Repair LPs        0 (0 feasible; 0 iterations)\n",
      "  LP iterations     62139 (total)\n",
      "                    0 (strong br.)\n",
      "                    6669 (separation)\n",
      "                    39233 (heuristics)\n"
     ]
    }
   ],
   "source": [
    "instance_02 = util.parse(\"uniform_q26n008k015-025.txt\")\n",
    "solution_02 = solve(instance_02)"
   ]
  },
  {
   "cell_type": "code",
   "execution_count": null,
   "id": "BYtC",
   "metadata": {},
   "outputs": [
    {
     "name": "stdout",
     "output_type": "stream",
     "text": [
      "--- Condition (with 26 chars) ---\n",
      "str1: tkgnkuhmpxnhtqgxzvxis\n",
      "str2: iojiqfolnbxxcvsuqpvissbxf\n",
      "str3: ulcinycosovozpplp\n",
      "str4: igevazgbrddbcsvrvnngf\n",
      "str5: pyplrzxucpmqvgtdfuivcdsbo\n",
      "str6: pbdevdcvdpfzsmsbroqvbbh\n",
      "str7: enbczfjtvxerzbrvigple\n",
      "str8: rxwxqkrdrlctodtmprpxwd\n",
      "\n",
      "--- Solution (of length 148) ---\n",
      " Sol: ulcinygevacosovozpplrxwtknbczfjxqkrdrlctodtmprpxwgnkuhmpxnhvxerzbrvigpledcvdpfzsmsbroqvbbhtcsvrvnngyfqgxzplrzxucpmqvgtdfuxisolnbxxcvsuqpvissbxfcdsbo\n",
      "str1: -----------------------tk------------------------gnkuhmpxnh-------------------------------t----------qgxz----------v-----xis------------------------\n",
      "str2: ---i-------o------------------j------------------------------------i-----------------q--------------f-----------------------olnbxxcvsuqpvissbxf-----\n",
      "str3: ulciny----cosovozppl------------------------p-------------------------------------------------------------------------------------------------------\n",
      "str4: ---i--geva------z--------------------------------g--------------br------d--d------b--------csvrvnng-f-----------------------------------------------\n",
      "str5: -----------------p---------------------------------------------------------------------------------y-----plrzxucpmqvgtdfu-i--------v-----------cdsbo\n",
      "str6: -----------------p--------b--------d-------------------------e----v-----dcvdpfzsmsbroqvbbh----------------------------------------------------------\n",
      "str7: -------e-----------------nbczfj--------t-------------------vxerzbrvigple----------------------------------------------------------------------------\n",
      "str8: --------------------rxw--------xqkrdrlctodtmprpxw-----------------------d---------------------------------------------------------------------------\n",
      "\n",
      "solution is feasible: True\n"
     ]
    }
   ],
   "source": [
    "_instance = instance_02\n",
    "_solution = solution_02\n",
    "\n",
    "util.show(_instance)\n",
    "if _solution is not None:\n",
    "    util.show(_instance, _solution)\n",
    "    print(f\"solution is feasible: {util.is_feasible(_instance, _solution)}\")\n",
    "else:\n",
    "    print(\"--- Solution not found ---\")"
   ]
  },
  {
   "cell_type": "code",
   "execution_count": null,
   "id": "RGSE",
   "metadata": {},
   "outputs": [
    {
     "name": "stdout",
     "output_type": "stream",
     "text": [
      "Running HiGHS 1.11.0 (git hash: 364c83a): Copyright (c) 2025 HiGHS under MIT licence terms\n"
     ]
    },
    {
     "name": "stdout",
     "output_type": "stream",
     "text": [
      "MIP  has 140897 rows; 94040 cols; 375510 nonzeros; 94039 integer variables (93716 binary)\n",
      "Coefficient ranges:\n",
      "  Matrix [1e+00, 3e+02]\n",
      "  Cost   [1e+00, 1e+00]\n",
      "  Bound  [1e+00, 3e+02]\n",
      "  RHS    [1e+00, 3e+02]\n"
     ]
    },
    {
     "name": "stdout",
     "output_type": "stream",
     "text": [
      "Presolving model\n"
     ]
    },
    {
     "name": "stdout",
     "output_type": "stream",
     "text": [
      "94039 rows, 47182 cols, 281794 nonzeros  0s\n"
     ]
    },
    {
     "name": "stdout",
     "output_type": "stream",
     "text": [
      "91182 rows, 47182 cols, 273223 nonzeros  1s\n"
     ]
    },
    {
     "name": "stdout",
     "output_type": "stream",
     "text": [
      "Objective function is integral with scale 1\n",
      "\n",
      "Solving MIP model with:\n",
      "   91182 rows\n",
      "   47182 cols (46858 binary, 323 integer, 1 implied int., 0 continuous, 0 domain fixed)\n",
      "   273223 nonzeros\n"
     ]
    },
    {
     "name": "stdout",
     "output_type": "stream",
     "text": [
      "\n",
      "Src: B => Branching; C => Central rounding; F => Feasibility pump; J => Feasibility jump;\n",
      "     H => Heuristic; L => Sub-MIP; P => Empty MIP; R => Randomized rounding; Z => ZI Round;\n",
      "     I => Shifting; S => Solve LP; T => Evaluate node; U => Unbounded; X => User solution;\n",
      "     z => Trivial zero; l => Trivial lower; u => Trivial upper; p => Trivial point\n",
      "\n",
      "        Nodes      |    B&B Tree     |            Objective Bounds              |  Dynamic Constraints |       Work      \n",
      "Src  Proc. InQueue |  Leaves   Expl. | BestBound       BestSol              Gap |   Cuts   InLp Confl. | LpIters     Time\n",
      "\n",
      "         0       0         0   0.00%   25              inf                  inf        0      0      0         0     3.9s\n"
     ]
    },
    {
     "name": "stdout",
     "output_type": "stream",
     "text": [
      "         0       0         0   0.00%   25              inf                  inf        0      0      6     24836    27.1s\n"
     ]
    },
    {
     "name": "stdout",
     "output_type": "stream",
     "text": [
      "         0       0         0   0.00%   25              inf                  inf   288925  11617      7     44359    56.8s\n"
     ]
    },
    {
     "name": "stdout",
     "output_type": "stream",
     "text": [
      "         0       0         0   0.00%   25              inf                  inf    95173  14460      8     47116    60.1s\n",
      "\n",
      "Solving report\n",
      "  Status            Time limit reached\n",
      "  Primal bound      inf\n",
      "  Dual bound        25\n",
      "  Gap               inf\n",
      "  P-D integral      0\n",
      "  Solution status   -\n",
      "  Timing            60.07 (total)\n",
      "                    0.00 (presolve)\n",
      "                    0.00 (solve)\n",
      "                    0.00 (postsolve)\n",
      "  Max sub-MIP depth 0\n",
      "  Nodes             0\n",
      "  Repair LPs        0 (0 feasible; 0 iterations)\n",
      "  LP iterations     47116 (total)\n",
      "                    0 (strong br.)\n",
      "                    22280 (separation)\n",
      "                    0 (heuristics)\n"
     ]
    }
   ],
   "source": [
    "instance_03 = util.parse(\"uniform_q26n016k015-025.txt\")\n",
    "solution_03 = solve(instance_03)"
   ]
  },
  {
   "cell_type": "code",
   "execution_count": null,
   "id": "Kclp",
   "metadata": {},
   "outputs": [
    {
     "name": "stdout",
     "output_type": "stream",
     "text": [
      "--- Condition (with 26 chars) ---\n",
      "str01: tkgnkuhmpxnhtqgxzvxis\n",
      "str02: iojiqfolnbxxcvsuqpvissbxf\n",
      "str03: ulcinycosovozpplp\n",
      "str04: igevazgbrddbcsvrvnngf\n",
      "str05: pyplrzxucpmqvgtdfuivcdsbo\n",
      "str06: pbdevdcvdpfzsmsbroqvbbh\n",
      "str07: enbczfjtvxerzbrvigple\n",
      "str08: rxwxqkrdrlctodtmprpxwd\n",
      "str09: kkqafigqjwokkskrblg\n",
      "str10: lxxpabivbvzkozzvd\n",
      "str11: krifsavncdqwhzc\n",
      "str12: qaxudgqvqcewbfgijowwy\n",
      "str13: rsxqjnfpadiusiqbezhkohmg\n",
      "str14: iwshvhcomiuvddm\n",
      "str15: htxxqjzqbctbakn\n",
      "str16: xusfcfzpeecvwantfmgqzu\n",
      "\n",
      "--- Solution not found ---\n"
     ]
    }
   ],
   "source": [
    "_instance = instance_03\n",
    "_solution = solution_03\n",
    "\n",
    "util.show(_instance)\n",
    "if _solution is not None:\n",
    "    util.show(_instance, _solution)\n",
    "    print(f\"solution is feasible: {util.is_feasible(_instance, _solution)}\")\n",
    "else:\n",
    "    print(\"--- Solution not found ---\")"
   ]
  },
  {
   "cell_type": "code",
   "execution_count": null,
   "id": "emfo",
   "metadata": {},
   "outputs": [
    {
     "name": "stdout",
     "output_type": "stream",
     "text": [
      "Running HiGHS 1.11.0 (git hash: 364c83a): Copyright (c) 2025 HiGHS under MIT licence terms\n",
      "MIP  has 10945 rows; 7331 cols; 29120 nonzeros; 7330 integer variables (7230 binary)\n"
     ]
    },
    {
     "name": "stdout",
     "output_type": "stream",
     "text": [
      "Coefficient ranges:\n",
      "  Matrix [1e+00, 1e+02]\n",
      "  Cost   [1e+00, 1e+00]\n",
      "  Bound  [1e+00, 1e+02]\n",
      "  RHS    [1e+00, 1e+02]\n",
      "Presolving model\n"
     ]
    },
    {
     "name": "stdout",
     "output_type": "stream",
     "text": [
      "7330 rows, 3716 cols, 21890 nonzeros  0s\n"
     ]
    },
    {
     "name": "stdout",
     "output_type": "stream",
     "text": [
      "6964 rows, 3716 cols, 20792 nonzeros  0s\n",
      "Objective function is integral with scale 1\n",
      "\n",
      "Solving MIP model with:\n",
      "   6964 rows\n",
      "   3716 cols (3615 binary, 100 integer, 1 implied int., 0 continuous, 0 domain fixed)\n",
      "   20792 nonzeros\n"
     ]
    },
    {
     "name": "stdout",
     "output_type": "stream",
     "text": [
      "\n",
      "Src: B => Branching; C => Central rounding; F => Feasibility pump; J => Feasibility jump;\n",
      "     H => Heuristic; L => Sub-MIP; P => Empty MIP; R => Randomized rounding; Z => ZI Round;\n",
      "     I => Shifting; S => Solve LP; T => Evaluate node; U => Unbounded; X => User solution;\n",
      "     z => Trivial zero; l => Trivial lower; u => Trivial upper; p => Trivial point\n",
      "\n",
      "        Nodes      |    B&B Tree     |            Objective Bounds              |  Dynamic Constraints |       Work      \n",
      "Src  Proc. InQueue |  Leaves   Expl. | BestBound       BestSol              Gap |   Cuts   InLp Confl. | LpIters     Time\n",
      "\n",
      "         0       0         0   0.00%   10              inf                  inf        0      0      0         0     0.3s\n"
     ]
    },
    {
     "name": "stdout",
     "output_type": "stream",
     "text": [
      "         0       0         0   0.00%   10              inf                  inf        0      0      3      2110     0.4s\n"
     ]
    },
    {
     "name": "stdout",
     "output_type": "stream",
     "text": [
      " L       0       0         0   0.00%   10              55                81.82%    12352   1935    493     11913     7.5s\n"
     ]
    },
    {
     "name": "stdout",
     "output_type": "stream",
     "text": [
      "       483     351         9   0.15%   10.00010305     55                81.82%    11218   2379    577     78569    16.5s\n"
     ]
    },
    {
     "name": "stdout",
     "output_type": "stream",
     "text": [
      "       621     513        28   0.15%   10.00010305     55                81.82%     8856   2606    642    105825    23.5s\n"
     ]
    },
    {
     "name": "stdout",
     "output_type": "stream",
     "text": [
      "       909     750        64   0.17%   10.00010305     55                81.82%     8214   1357    783    132237    32.8s\n"
     ]
    },
    {
     "name": "stdout",
     "output_type": "stream",
     "text": [
      " L    1007     783        85   0.20%   10.00010305     51                80.39%    12461   1477    883    137755    37.8s\n"
     ]
    },
    {
     "name": "stdout",
     "output_type": "stream",
     "text": [
      "      1270     864       129   0.20%   10.00010305     51                80.39%    13087   1541   1064    182778    45.1s\n"
     ]
    },
    {
     "name": "stdout",
     "output_type": "stream",
     "text": [
      "      1396     953       146   0.20%   10.00010305     51                80.39%     1832   1647   1261    208471    52.1s\n"
     ]
    },
    {
     "name": "stdout",
     "output_type": "stream",
     "text": [
      "      1406     953       150   0.20%   10.00010305     51                80.39%     1890   1677   1310    228090    60.1s\n",
      "      1406     953       150   0.20%   10.00010305     51                80.39%     1890   1677   1310    228090    60.1s\n",
      "\n",
      "Solving report\n",
      "  Status            Time limit reached\n",
      "  Primal bound      51\n",
      "  Dual bound        11\n",
      "  Gap               78.43% (tolerance: 0.01%)\n",
      "  P-D integral      42.6610020537\n",
      "  Solution status   feasible\n",
      "                    51 (objective)\n",
      "                    0 (bound viol.)\n",
      "                    2.79776202206e-14 (int. viol.)\n",
      "                    0 (row viol.)\n",
      "  Timing            60.06 (total)\n",
      "                    0.00 (presolve)\n",
      "                    0.00 (solve)\n",
      "                    0.00 (postsolve)\n",
      "  Max sub-MIP depth 6\n",
      "  Nodes             1406\n",
      "  Repair LPs        0 (0 feasible; 0 iterations)\n",
      "  LP iterations     228090 (total)\n",
      "                    0 (strong br.)\n",
      "                    6671 (separation)\n",
      "                    154888 (heuristics)\n"
     ]
    }
   ],
   "source": [
    "instance_04 = util.parse(\"uniform_q05n010k010-010.txt\")\n",
    "solution_04 = solve(instance_04)"
   ]
  },
  {
   "cell_type": "code",
   "execution_count": null,
   "id": "Hstk",
   "metadata": {},
   "outputs": [
    {
     "name": "stdout",
     "output_type": "stream",
     "text": [
      "--- Condition (with 5 chars) ---\n",
      "str01: dcbccdbcce\n",
      "str02: bddbeeeebd\n",
      "str03: cacdeecebe\n",
      "str04: aeddddebdd\n",
      "str05: acbeecabce\n",
      "str06: bbabebdcba\n",
      "str07: bbaeaebada\n",
      "str08: eeeecbdbee\n",
      "str09: ccdeedadcd\n",
      "str10: bdabdbeaad\n",
      "\n",
      "--- Solution (of length 52) ---\n",
      "  Sol: dcbacdebadbaaeaebadacbeeadbccdeaeeadcbcdeedacbdbecde\n",
      "str01: dcb-c---------------c----dbcc-e---------------------\n",
      "str02: --b--d---db--e-e------ee--b--d----------------------\n",
      "str03: -c-acde------e------c-e---b---e---------------------\n",
      "str04: ---a--e--d--------d------d---de------b-d--d---------\n",
      "str05: ---ac--b-----e-e----c---a-bc--e---------------------\n",
      "str06: --b----ba-b--e--b-d-cb--a---------------------------\n",
      "str07: --b----ba----eaebada--------------------------------\n",
      "str08: ------e------e-e------e----c---------b-d-----b--e--e\n",
      "str09: -c--cde------e----da-----d-c-d----------------------\n",
      "str10: --b--d--a-b-------d--be-a------a---d----------------\n",
      "\n",
      "solution is feasible: True\n"
     ]
    }
   ],
   "source": [
    "_instance = instance_04\n",
    "_solution = solution_04\n",
    "\n",
    "util.show(_instance)\n",
    "if _solution is not None:\n",
    "    util.show(_instance, _solution)\n",
    "    print(f\"solution is feasible: {util.is_feasible(_instance, _solution)}\")\n",
    "else:\n",
    "    print(\"--- Solution not found ---\")"
   ]
  },
  {
   "cell_type": "code",
   "execution_count": null,
   "id": "nWHF",
   "metadata": {},
   "outputs": [
    {
     "name": "stdout",
     "output_type": "stream",
     "text": [
      "Running HiGHS 1.11.0 (git hash: 364c83a): Copyright (c) 2025 HiGHS under MIT licence terms\n"
     ]
    },
    {
     "name": "stdout",
     "output_type": "stream",
     "text": [
      "MIP  has 294593 rows; 196563 cols; 785248 nonzeros; 196562 integer variables (196062 binary)\n",
      "Coefficient ranges:\n",
      "  Matrix [1e+00, 5e+02]\n",
      "  Cost   [1e+00, 1e+00]\n",
      "  Bound  [1e+00, 5e+02]\n",
      "  RHS    [1e+00, 5e+02]\n"
     ]
    },
    {
     "name": "stdout",
     "output_type": "stream",
     "text": [
      "Presolving model\n"
     ]
    },
    {
     "name": "stdout",
     "output_type": "stream",
     "text": [
      "196562 rows, 98532 cols, 589186 nonzeros  0s\n"
     ]
    },
    {
     "name": "stdout",
     "output_type": "stream",
     "text": [
      "186760 rows, 98532 cols, 559780 nonzeros  2s\n"
     ]
    },
    {
     "name": "stdout",
     "output_type": "stream",
     "text": [
      "Objective function is integral with scale 1\n",
      "\n",
      "Solving MIP model with:\n",
      "   186760 rows\n",
      "   98532 cols (98031 binary, 500 integer, 1 implied int., 0 continuous, 0 domain fixed)\n",
      "   559780 nonzeros\n"
     ]
    },
    {
     "name": "stdout",
     "output_type": "stream",
     "text": [
      "\n",
      "Src: B => Branching; C => Central rounding; F => Feasibility pump; J => Feasibility jump;\n",
      "     H => Heuristic; L => Sub-MIP; P => Empty MIP; R => Randomized rounding; Z => ZI Round;\n",
      "     I => Shifting; S => Solve LP; T => Evaluate node; U => Unbounded; X => User solution;\n",
      "     z => Trivial zero; l => Trivial lower; u => Trivial upper; p => Trivial point\n",
      "\n",
      "        Nodes      |    B&B Tree     |            Objective Bounds              |  Dynamic Constraints |       Work      \n",
      "Src  Proc. InQueue |  Leaves   Expl. | BestBound       BestSol              Gap |   Cuts   InLp Confl. | LpIters     Time\n",
      "\n",
      "         0       0         0   0.00%   10              inf                  inf        0      0      0         0     4.3s\n"
     ]
    },
    {
     "name": "stdout",
     "output_type": "stream",
     "text": [
      "         0       0         0   0.00%   10              inf                  inf        0      0      1     22207    60.2s\n",
      "\n",
      "Solving report\n",
      "  Status            Time limit reached\n",
      "  Primal bound      inf\n",
      "  Dual bound        10\n",
      "  Gap               inf\n",
      "  P-D integral      0\n",
      "  Solution status   -\n",
      "  Timing            60.15 (total)\n",
      "                    0.00 (presolve)\n",
      "                    0.00 (solve)\n",
      "                    0.00 (postsolve)\n",
      "  Max sub-MIP depth 0\n",
      "  Nodes             0\n",
      "  Repair LPs        0 (0 feasible; 0 iterations)\n",
      "  LP iterations     22207 (total)\n",
      "                    0 (strong br.)\n",
      "                    0 (separation)\n",
      "                    0 (heuristics)\n"
     ]
    }
   ],
   "source": [
    "instance_05 = util.parse(\"uniform_q05n050k010-010.txt\")\n",
    "solution_05 = solve(instance_05)"
   ]
  },
  {
   "cell_type": "code",
   "execution_count": null,
   "id": "iLit",
   "metadata": {},
   "outputs": [
    {
     "name": "stdout",
     "output_type": "stream",
     "text": [
      "--- Condition (with 5 chars) ---\n",
      "str01: dcbccdbcce\n",
      "str02: bddbeeeebd\n",
      "str03: cacdeecebe\n",
      "str04: aeddddebdd\n",
      "str05: acbeecabce\n",
      "str06: bbabebdcba\n",
      "str07: bbaeaebada\n",
      "str08: eeeecbdbee\n",
      "str09: ccdeedadcd\n",
      "str10: bdabdbeaad\n",
      "str11: ededaaaeaa\n",
      "str12: aaeaabeeac\n",
      "str13: eaabcaccdb\n",
      "str14: bdeeadeade\n",
      "str15: caedadeeed\n",
      "str16: ebcadbabbe\n",
      "str17: ddceeabdea\n",
      "str18: dabcddeaec\n",
      "str19: aadceedaab\n",
      "str20: aeecceeeaa\n",
      "str21: bbdaecaade\n",
      "str22: dacedaedab\n",
      "str23: aaeabbbbce\n",
      "str24: dedbcbcaab\n",
      "str25: dbdaaebbcb\n",
      "str26: debedbebac\n",
      "str27: ceebcdcbde\n",
      "str28: dbedaadaab\n",
      "str29: cccdcbebdc\n",
      "str30: aeeacdbcbd\n",
      "str31: dacbeacccd\n",
      "str32: ecebccdbdb\n",
      "str33: ddbbcedabb\n",
      "str34: aaeabaaeba\n",
      "str35: ecbbcaadcd\n",
      "str36: debccecdbc\n",
      "str37: daacbaeebc\n",
      "str38: adabeaacce\n",
      "str39: daecdbacaa\n",
      "str40: dacbbdcedc\n",
      "str41: dedbeebbde\n",
      "str42: cdadcdcdaa\n",
      "str43: ceedcbaeed\n",
      "str44: ceaecaaaca\n",
      "str45: dcccebbbad\n",
      "str46: baeeaebbde\n",
      "str47: dbdebaccdb\n",
      "str48: ebcbeedaea\n",
      "str49: aeeebbdbca\n",
      "str50: dbdabcecbb\n",
      "\n",
      "--- Solution not found ---\n"
     ]
    }
   ],
   "source": [
    "_instance = instance_05\n",
    "_solution = solution_05\n",
    "\n",
    "util.show(_instance)\n",
    "if _solution is not None:\n",
    "    util.show(_instance, _solution)\n",
    "    print(f\"solution is feasible: {util.is_feasible(_instance, _solution)}\")\n",
    "else:\n",
    "    print(\"--- Solution not found ---\")"
   ]
  },
  {
   "cell_type": "code",
   "execution_count": null,
   "id": "ZHCJ",
   "metadata": {},
   "outputs": [
    {
     "name": "stdout",
     "output_type": "stream",
     "text": [
      "Running HiGHS 1.11.0 (git hash: 364c83a): Copyright (c) 2025 HiGHS under MIT licence terms\n",
      "MIP  has 9256 rows; 6205 cols; 24616 nonzeros; 6204 integer variables (6104 binary)\n",
      "Coefficient ranges:\n",
      "  Matrix [1e+00, 1e+02]\n",
      "  Cost   [1e+00, 1e+00]\n",
      "  Bound  [1e+00, 1e+02]\n",
      "  RHS    [1e+00, 1e+02]\n",
      "Presolving model\n"
     ]
    },
    {
     "name": "stdout",
     "output_type": "stream",
     "text": [
      "6204 rows, 3153 cols, 18512 nonzeros  0s\n"
     ]
    },
    {
     "name": "stdout",
     "output_type": "stream",
     "text": [
      "5981 rows, 3153 cols, 17843 nonzeros  0s\n",
      "Objective function is integral with scale 1\n",
      "\n",
      "Solving MIP model with:\n",
      "   5981 rows\n",
      "   3153 cols (3052 binary, 100 integer, 1 implied int., 0 continuous, 0 domain fixed)\n",
      "   17843 nonzeros\n"
     ]
    },
    {
     "name": "stdout",
     "output_type": "stream",
     "text": [
      "\n",
      "Src: B => Branching; C => Central rounding; F => Feasibility pump; J => Feasibility jump;\n",
      "     H => Heuristic; L => Sub-MIP; P => Empty MIP; R => Randomized rounding; Z => ZI Round;\n",
      "     I => Shifting; S => Solve LP; T => Evaluate node; U => Unbounded; X => User solution;\n",
      "     z => Trivial zero; l => Trivial lower; u => Trivial upper; p => Trivial point\n",
      "\n",
      "        Nodes      |    B&B Tree     |            Objective Bounds              |  Dynamic Constraints |       Work      \n",
      "Src  Proc. InQueue |  Leaves   Expl. | BestBound       BestSol              Gap |   Cuts   InLp Confl. | LpIters     Time\n",
      "\n",
      "         0       0         0   0.00%   10              inf                  inf        0      0      0         0     0.1s\n"
     ]
    },
    {
     "name": "stdout",
     "output_type": "stream",
     "text": [
      " R       0       0         0   0.00%   10              30                66.67%        0      0      0      1800     0.2s\n"
     ]
    },
    {
     "name": "stdout",
     "output_type": "stream",
     "text": [
      " C       0       0         0   0.00%   10              29                65.52%     8162   1304     83      3366     0.5s\n"
     ]
    },
    {
     "name": "stdout",
     "output_type": "stream",
     "text": [
      "         0       0         0   0.00%   10              29                65.52%    11808   1397     87     24613     5.7s\n"
     ]
    },
    {
     "name": "stdout",
     "output_type": "stream",
     "text": [
      "       815     406       101   6.42%   11              29                62.07%     6126   1415   1011     77641    11.0s\n"
     ]
    },
    {
     "name": "stdout",
     "output_type": "stream",
     "text": [
      " L    1065     436       155   6.42%   11              26                57.69%     1616   1457   1469     95941    14.6s\n"
     ]
    },
    {
     "name": "stdout",
     "output_type": "stream",
     "text": [
      "      1495     499       257   6.42%   11              26                57.69%     2116   1606   2275    160269    22.6s\n"
     ]
    },
    {
     "name": "stdout",
     "output_type": "stream",
     "text": [
      "      1971     581       377   6.42%   11              26                57.69%     2198   1793   3138    228798    32.3s\n"
     ]
    },
    {
     "name": "stdout",
     "output_type": "stream",
     "text": [
      "\n",
      "Restarting search from the root node\n"
     ]
    },
    {
     "name": "stdout",
     "output_type": "stream",
     "text": [
      "Model after restart has 5981 rows, 3153 cols (3052 bin., 100 int., 1 impl., 0 cont., 0 dom.fix.), and 17843 nonzeros\n",
      "\n"
     ]
    },
    {
     "name": "stdout",
     "output_type": "stream",
     "text": [
      "      2360       0         0   0.00%   11              26                57.69%     1326      0      0    270785    35.9s\n"
     ]
    },
    {
     "name": "stdout",
     "output_type": "stream",
     "text": [
      "      2360       0         0   0.00%   11              26                57.69%     1326   1195      5    272277    36.0s\n"
     ]
    },
    {
     "name": "stdout",
     "output_type": "stream",
     "text": [
      "      2606      25        65   0.00%   11              26                57.69%    16797   1277    466    303002    41.0s\n"
     ]
    },
    {
     "name": "stdout",
     "output_type": "stream",
     "text": [
      " L    2671      44        85   0.20%   11              25                56.00%     1394   1291    606    304470    47.4s\n"
     ]
    },
    {
     "name": "stdout",
     "output_type": "stream",
     "text": [
      " L    2780      29       117   0.20%   11              23                52.17%    16895   1317    835    334691    51.6s\n"
     ]
    },
    {
     "name": "stdout",
     "output_type": "stream",
     "text": [
      "      2887      51       143   0.21%   11              23                52.17%     2128   1368    964    384318    58.2s\n"
     ]
    },
    {
     "name": "stdout",
     "output_type": "stream",
     "text": [
      "      2928      49       158   0.21%   11              23                52.17%     3753    382   1051    391615    60.0s\n",
      "\n",
      "Solving report\n",
      "  Status            Time limit reached\n",
      "  Primal bound      23\n",
      "  Dual bound        11\n",
      "  Gap               52.17% (tolerance: 0.01%)\n",
      "  P-D integral      34.8248826328\n",
      "  Solution status   feasible\n",
      "                    23 (objective)\n",
      "                    0 (bound viol.)\n",
      "                    0 (int. viol.)\n",
      "                    0 (row viol.)\n",
      "  Timing            60.02 (total)\n",
      "                    0.00 (presolve)\n",
      "                    0.00 (solve)\n",
      "                    0.00 (postsolve)\n",
      "  Max sub-MIP depth 4\n",
      "  Nodes             2928\n",
      "  Repair LPs        0 (0 feasible; 0 iterations)\n",
      "  LP iterations     391615 (total)\n",
      "                    0 (strong br.)\n",
      "                    28330 (separation)\n",
      "                    124994 (heuristics)\n"
     ]
    }
   ],
   "source": [
    "instance_06 = util.parse(\"nucleotide_n010k010.txt\")\n",
    "solution_06 = solve(instance_06)"
   ]
  },
  {
   "cell_type": "code",
   "execution_count": null,
   "id": "ROlb",
   "metadata": {},
   "outputs": [
    {
     "name": "stdout",
     "output_type": "stream",
     "text": [
      "--- Condition (with 4 chars) ---\n",
      "str01: CTTTTGATCT\n",
      "str02: CTGCATGCTT\n",
      "str03: TTGTAGATCT\n",
      "str04: ATAACTAATT\n",
      "str05: AGGTTTATAC\n",
      "str06: CTTTTGATCT\n",
      "str07: TTGTAGATCT\n",
      "str08: TTGTAGATCT\n",
      "str09: TTGTAGATCT\n",
      "str10: TAATATTACC\n",
      "\n",
      "--- Solution (of length 24) ---\n",
      "  Sol: CTTAGCTATGATTACCGTATATCT\n",
      "str01: CTT---T-TGAT--C--T------\n",
      "str02: CT--GC-ATG----C--T-T----\n",
      "str03: -TT-G-TA-GAT--C--T------\n",
      "str04: ---A--TA--A---C--TA-AT-T\n",
      "str05: ---AG----G-TT----TATA-C-\n",
      "str06: CTT---T-TGAT--C--T------\n",
      "str07: -TT-G-TA-GAT--C--T------\n",
      "str08: -TT-G-TA-GAT--C--T------\n",
      "str09: -TT-G-TA-GAT--C--T------\n",
      "str10: -T-A---AT-ATTACC--------\n",
      "\n",
      "solution is feasible: True\n"
     ]
    }
   ],
   "source": [
    "_instance = instance_06\n",
    "_solution = solution_06\n",
    "\n",
    "util.show(_instance)\n",
    "if _solution is not None:\n",
    "    util.show(_instance, _solution)\n",
    "    print(f\"solution is feasible: {util.is_feasible(_instance, _solution)}\")\n",
    "else:\n",
    "    print(\"--- Solution not found ---\")"
   ]
  },
  {
   "cell_type": "code",
   "execution_count": null,
   "id": "qnkX",
   "metadata": {},
   "outputs": [
    {
     "name": "stdout",
     "output_type": "stream",
     "text": [
      "Running HiGHS 1.11.0 (git hash: 364c83a): Copyright (c) 2025 HiGHS under MIT licence terms\n"
     ]
    },
    {
     "name": "stdout",
     "output_type": "stream",
     "text": [
      "MIP  has 6732070 rows; 4488881 cols; 17950520 nonzeros; 4488880 integer variables (4486380 binary)\n"
     ]
    },
    {
     "name": "stdout",
     "output_type": "stream",
     "text": [
      "Coefficient ranges:\n",
      "  Matrix [1e+00, 2e+03]\n",
      "  Cost   [1e+00, 1e+00]\n",
      "  Bound  [1e+00, 2e+03]\n",
      "  RHS    [1e+00, 2e+03]\n"
     ]
    },
    {
     "name": "stdout",
     "output_type": "stream",
     "text": [
      "Presolving model\n"
     ]
    },
    {
     "name": "stdout",
     "output_type": "stream",
     "text": [
      "4488880 rows, 2245691 cols, 13464140 nonzeros  11s\n"
     ]
    },
    {
     "name": "stdout",
     "output_type": "stream",
     "text": [
      "4448576 rows, 2245691 cols, 13343228 nonzeros  60s\n"
     ]
    },
    {
     "name": "stdout",
     "output_type": "stream",
     "text": [
      "Presolve: Time limit reached\n",
      "\n",
      "Src: B => Branching; C => Central rounding; F => Feasibility pump; J => Feasibility jump;\n",
      "     H => Heuristic; L => Sub-MIP; P => Empty MIP; R => Randomized rounding; Z => ZI Round;\n",
      "     I => Shifting; S => Solve LP; T => Evaluate node; U => Unbounded; X => User solution;\n",
      "     z => Trivial zero; l => Trivial lower; u => Trivial upper; p => Trivial point\n",
      "\n",
      "        Nodes      |    B&B Tree     |            Objective Bounds              |  Dynamic Constraints |       Work      \n",
      "Src  Proc. InQueue |  Leaves   Expl. | BestBound       BestSol              Gap |   Cuts   InLp Confl. | LpIters     Time\n",
      "\n",
      "         0       0         0   0.00%   -inf            inf                  inf        0      0      0         0    61.2s\n",
      "\n",
      "Solving report\n",
      "  Status            Time limit reached\n",
      "  Primal bound      inf\n",
      "  Dual bound        -inf\n",
      "  Gap               inf\n",
      "  P-D integral      0\n",
      "  Solution status   -\n",
      "  Timing            61.18 (total)\n",
      "                    0.00 (presolve)\n",
      "                    0.00 (solve)\n",
      "                    0.00 (postsolve)\n",
      "  Max sub-MIP depth 0\n",
      "  Nodes             0\n",
      "  Repair LPs        0 (0 feasible; 0 iterations)\n",
      "  LP iterations     0 (total)\n",
      "                    0 (strong br.)\n",
      "                    0 (separation)\n",
      "                    0 (heuristics)\n"
     ]
    }
   ],
   "source": [
    "instance_07 = util.parse(\"nucleotide_n050k050.txt\")\n",
    "solution_07 = solve(instance_07)"
   ]
  },
  {
   "cell_type": "code",
   "execution_count": null,
   "id": "TqIu",
   "metadata": {},
   "outputs": [
    {
     "name": "stdout",
     "output_type": "stream",
     "text": [
      "--- Condition (with 4 chars) ---\n",
      "str01: CTTTTGATCTCTTGTAGATCTGTTCTCTAAACGAACTTTAAAATCTGTGT\n",
      "str02: CTGCATGCTTAGTGCACTCACGCAGTATAATTAATAACTAATTACTGTCG\n",
      "str03: TTGTAGATCTGTTCTCTAAACGAACTTTAAAATCTGTGTGGCTGTCACTC\n",
      "str04: ATAACTAATTACTGTCGTTGACAGGACACGAGTAACTCGTCTATCTTCTG\n",
      "str05: AGGTTTATACCTTCCTAGGTAACAAACCAACCAACTTTCGATCTCTTGTA\n",
      "str06: CTTTTGATCTCTTGTAGATCTGTTCTCTAAACGAACTTTAAAATCTGTGT\n",
      "str07: TTGTAGATCTGTTCTCTAAACGAACTTTAAAATCTGTGTGGCTGTCACTC\n",
      "str08: TTGTAGATCTGTTCTCTAAACGAACTTTAAAATCTGTGTGGCTGTCACTC\n",
      "str09: TTGTAGATCTGTTCTCTAAACGAACTTTAAAATCTGTGTGGCTGTCACTC\n",
      "str10: TAATATTACCTGATGGCCGCGCCCCTCAAAAAGTGGGCCCTTGGACAGAT\n",
      "str11: TAAAGGTTTATACCTTCCCAGGTAACAAACCAACCAACTTTCGATCTCTT\n",
      "str12: ACCAACCAACTTTCGATCTCTTGTAGATCTGTTCTCTAAACGAACTTTAA\n",
      "str13: TTGTAGATCTGTTCTCTAAACGAACTTTAAAATCTGTGTGGCTGTCACTC\n",
      "str14: ACCAACCAACTTTCGATCTCTTGTAGATCTGTTCTCTAAACGAACTTTAA\n",
      "str15: GTTAACAATAATCACACCATCACCGTTTTTTCAAGCGGGAAAAAATAGCC\n",
      "str16: TTGTAGATCTGTTCTCTAAACGAACTTTAAAATCTGTGTGGCTGTCACTC\n",
      "str17: AGATCTGTTCTCTAAACGAACTTTAAAATCTGTGTGGCTGTCACTCGGCT\n",
      "str18: AACAAACCAACCAACTTTCGATCTCTTGTAGATCTGTTCTCTAAACGAAC\n",
      "str19: AGATCTGTTCTCTAAACGAACTTTAAAATCTGTGTGGCTGTCACTCGGCT\n",
      "str20: ACCCCCGCCCCAGGTTCAGCGGAGTCATCACGTGAGACGCACATGACATT\n",
      "str21: AACTTTAAAATCTGTGTGGCTGTCACTCGGCTGCATGCTTAGTGCACTCA\n",
      "str22: TAAAGGTTTATACCCTTCCCAGGTAACAAACCAACCAACTTTTGATCTCT\n",
      "str23: TTGTAGATCTGTTCTCTAAACGAACTTTAAAATCTGTGTGGCTGTCACTC\n",
      "str24: TTGTAGATCTGTTCTCTAAACGAACTTTAAAATCTGTGTGGCTGTCACTC\n",
      "str25: ATCGTGCTTTTGTCGTCTTTGACACTTTCGACTAACTAAAGATGATTTCT\n",
      "str26: ATTAAAGGTTTATACCTTCCCAGGTAACAAACCAACCAACTTTTGATCTC\n",
      "str27: TAAAGGTTTATACCTTCCTAGGTAACAAACCAACCAACTTTTGATCTCTT\n",
      "str28: ACTAAAGGTTTATACCTTCCCAGGTAACAAACCAACCAACTTTTGATCTC\n",
      "str29: CCAACTTTCGATCTCTTGTAGATCTGTTCTCTAAACGAACTTTAAAATCT\n",
      "str30: ATTAAAGGTTTATACCTTCCCAGGTAACAAACCAACCAACTTTTGATCTC\n",
      "str31: TACCTTCCCAGGTAACAAACCAACCAACTTTCGATCTCTTGTAGATCTGT\n",
      "str32: ATGTGTTATCGTCAACTACATATTAAAAATAATGCTAATCATTTTAGTCG\n",
      "str33: TTGTAGATCTGTTCTCTAAACGAACTTTAAAATCTGTGTGGCTGTCACTC\n",
      "str34: AACTTTAAAATCTGTGTGGCTGTCACTCGGCTGCATGCTTAGTGCACTCA\n",
      "str35: TTGTAGATCTGTTCTCTAAACGAACTTTAAAATCTGTGTGGCTGTCACTC\n",
      "str36: CTTTCGATCTCTTGTAGATCTGTTCTCTAAACGAACTTTAAAATCTGTGT\n",
      "str37: TTGTAGATCTGTTCTCTAAACGAACTTTAAAATCTGTGTGGCTGTCACTC\n",
      "str38: TTAAAGGTTTATACCTTCCCAGGTAACAAACCAACCAACTTTTGATCTCT\n",
      "str39: ATGAAAACGAAAATTATTATCAAGGGTATGGAAGTGGAAGCTGACGAAAT\n",
      "str40: AGGTAACAAACCAACCAACTTTCGATCTCTTGTAGATCTGTTCTCTAAAC\n",
      "str41: TTGTAGATCTGTTCTCTAAACGAACTTTAAAATCTGTGTGGCTGTCACTC\n",
      "str42: CTTTCGATCTCTTGTAGATCTGTTCTCTAAACGAACTTTAAAATCTGTGT\n",
      "str43: AACAAACCAACCAACTTTCGATCTCTTGTAGATCTGTTCTCTAAACGAAC\n",
      "str44: TTGTAGATCTGTTCTCTAAACGAACTTTAAAATCTGTGTGGCTGTCACTC\n",
      "str45: AGGTTTATACCTTCCCAGGTAACAAACCAACCAACTTTCGATCTCTTGTA\n",
      "str46: CTGATGTACGAGATTCGTACATACCTTGTACGAAATTCGTACAACACCAT\n",
      "str47: TAAAGGTTTATACCTTCCCAGGTAACAAACCAACCAACTTTCGATCTCTT\n",
      "str48: ACAAGAGAATACAAGGGAGGACCTGCTGCTATACGCGCTGCCTCTTTCGC\n",
      "str49: CTTTTGATCTCTTGTAGATCTGTTCTCTAAACGAACTTTAAAATCTGTGT\n",
      "str50: TTGTAGATCTGTTCTCTAAACGAACTTTAAAATCTGTGTGGCTGTCACTC\n",
      "\n",
      "--- Solution not found ---\n"
     ]
    }
   ],
   "source": [
    "_instance = instance_07\n",
    "_solution = solution_07\n",
    "\n",
    "util.show(_instance)\n",
    "if _solution is not None:\n",
    "    util.show(_instance, _solution)\n",
    "    print(f\"solution is feasible: {util.is_feasible(_instance, _solution)}\")\n",
    "else:\n",
    "    print(\"--- Solution not found ---\")"
   ]
  },
  {
   "cell_type": "code",
   "execution_count": null,
   "id": "Vxnm",
   "metadata": {},
   "outputs": [
    {
     "name": "stdout",
     "output_type": "stream",
     "text": [
      "Running HiGHS 1.11.0 (git hash: 364c83a): Copyright (c) 2025 HiGHS under MIT licence terms\n"
     ]
    },
    {
     "name": "stdout",
     "output_type": "stream",
     "text": [
      "MIP  has 11872 rows; 7949 cols; 31592 nonzeros; 7948 integer variables (7848 binary)\n",
      "Coefficient ranges:\n",
      "  Matrix [1e+00, 1e+02]\n",
      "  Cost   [1e+00, 1e+00]\n",
      "  Bound  [1e+00, 1e+02]\n",
      "  RHS    [1e+00, 1e+02]\n",
      "Presolving model\n"
     ]
    },
    {
     "name": "stdout",
     "output_type": "stream",
     "text": [
      "7948 rows, 4025 cols, 23744 nonzeros  0s\n"
     ]
    },
    {
     "name": "stdout",
     "output_type": "stream",
     "text": [
      "7732 rows, 4025 cols, 23096 nonzeros  0s\n",
      "Objective function is integral with scale 1\n",
      "\n",
      "Solving MIP model with:\n",
      "   7732 rows\n",
      "   4025 cols (3924 binary, 100 integer, 1 implied int., 0 continuous, 0 domain fixed)\n",
      "   23096 nonzeros\n"
     ]
    },
    {
     "name": "stdout",
     "output_type": "stream",
     "text": [
      "\n",
      "Src: B => Branching; C => Central rounding; F => Feasibility pump; J => Feasibility jump;\n",
      "     H => Heuristic; L => Sub-MIP; P => Empty MIP; R => Randomized rounding; Z => ZI Round;\n",
      "     I => Shifting; S => Solve LP; T => Evaluate node; U => Unbounded; X => User solution;\n",
      "     z => Trivial zero; l => Trivial lower; u => Trivial upper; p => Trivial point\n",
      "\n",
      "        Nodes      |    B&B Tree     |            Objective Bounds              |  Dynamic Constraints |       Work      \n",
      "Src  Proc. InQueue |  Leaves   Expl. | BestBound       BestSol              Gap |   Cuts   InLp Confl. | LpIters     Time\n",
      "\n",
      "         0       0         0   0.00%   10              inf                  inf        0      0      0         0     0.1s\n"
     ]
    },
    {
     "name": "stdout",
     "output_type": "stream",
     "text": [
      " R       0       0         0   0.00%   10              18                44.44%        0      0      0      2377     0.4s\n"
     ]
    },
    {
     "name": "stdout",
     "output_type": "stream",
     "text": [
      " L       0       0         0   0.00%   10              17                41.18%     6952   1805    504      8282     4.0s\n"
     ]
    },
    {
     "name": "stdout",
     "output_type": "stream",
     "text": [
      "\n",
      "13.2% inactive integer columns, restarting\n"
     ]
    },
    {
     "name": "stdout",
     "output_type": "stream",
     "text": [
      "Model after restart has 6982 rows, 3515 cols (3414 bin., 100 int., 1 impl., 0 cont., 0 dom.fix.), and 20576 nonzeros\n",
      "\n",
      "         0       0         0   0.00%   10              17                41.18%     1626      0      0     11197     4.6s\n"
     ]
    },
    {
     "name": "stdout",
     "output_type": "stream",
     "text": [
      "         0       0         0   0.00%   10              17                41.18%     1626   1602      3     13065     4.7s\n"
     ]
    },
    {
     "name": "stdout",
     "output_type": "stream",
     "text": [
      " L       0       0         0   0.00%   10              16                37.50%    11835   1933      3     15624     7.5s\n"
     ]
    },
    {
     "name": "stdout",
     "output_type": "stream",
     "text": [
      "\n",
      "8.9% inactive integer columns, restarting\n"
     ]
    },
    {
     "name": "stdout",
     "output_type": "stream",
     "text": [
      "Model after restart has 6400 rows, 3203 cols (3102 bin., 100 int., 1 impl., 0 cont., 0 dom.fix.), and 18788 nonzeros\n",
      "\n",
      "         0       0         0   0.00%   10              16                37.50%     1459      0      0     18694     8.1s\n"
     ]
    },
    {
     "name": "stdout",
     "output_type": "stream",
     "text": [
      "         0       0         0   0.00%   10              16                37.50%     1459   1452      3     20467     8.2s\n"
     ]
    },
    {
     "name": "stdout",
     "output_type": "stream",
     "text": [
      "       310      35        77  32.30%   10              16                37.50%    11897   1693    578     53496    13.3s\n"
     ]
    },
    {
     "name": "stdout",
     "output_type": "stream",
     "text": [
      "       523      39       140  41.23%   11              16                31.25%    15450   1194    963     99764    18.4s\n"
     ]
    },
    {
     "name": "stdout",
     "output_type": "stream",
     "text": [
      "       950      78       270  48.70%   11              16                31.25%     2278   1022   1901    151815    23.6s\n"
     ]
    },
    {
     "name": "stdout",
     "output_type": "stream",
     "text": [
      "      1282     100       381  53.68%   11              16                31.25%     5488   1073   2568    210092    32.7s\n"
     ]
    },
    {
     "name": "stdout",
     "output_type": "stream",
     "text": [
      "      1598     116       483  56.67%   11              16                31.25%    19912    980   3267    257260    37.7s\n"
     ]
    },
    {
     "name": "stdout",
     "output_type": "stream",
     "text": [
      "      1963     138       599  57.14%   11              16                31.25%    20841   1095   4049    300415    42.8s\n"
     ]
    },
    {
     "name": "stdout",
     "output_type": "stream",
     "text": [
      "      2336     182       712  57.94%   11              16                31.25%     8499   1628   4754    350323    47.8s\n"
     ]
    },
    {
     "name": "stdout",
     "output_type": "stream",
     "text": [
      "      2719     230       824  59.50%   11              16                31.25%     4123   1273   5522    401771    52.8s\n"
     ]
    },
    {
     "name": "stdout",
     "output_type": "stream",
     "text": [
      "      3090     241       946  59.81%   11              16                31.25%    17390   1185   6238    449061    57.9s\n"
     ]
    },
    {
     "name": "stdout",
     "output_type": "stream",
     "text": [
      "      3213     257       987  59.82%   11              16                31.25%    10190   1209   6439    468724    60.2s\n",
      "\n",
      "Solving report\n",
      "  Status            Time limit reached\n",
      "  Primal bound      16\n",
      "  Dual bound        11\n",
      "  Gap               31.25% (tolerance: 0.01%)\n",
      "  P-D integral      20.1297174418\n",
      "  Solution status   feasible\n",
      "                    16 (objective)\n",
      "                    0 (bound viol.)\n",
      "                    0 (int. viol.)\n",
      "                    0 (row viol.)\n",
      "  Timing            60.23 (total)\n",
      "                    0.00 (presolve)\n",
      "                    0.00 (solve)\n",
      "                    0.00 (postsolve)\n",
      "  Max sub-MIP depth 2\n",
      "  Nodes             3213\n",
      "  Repair LPs        0 (0 feasible; 0 iterations)\n",
      "  LP iterations     468724 (total)\n",
      "                    0 (strong br.)\n",
      "                    22442 (separation)\n",
      "                    28630 (heuristics)\n"
     ]
    }
   ],
   "source": [
    "instance_08 = util.parse(\"protein_n010k010.txt\")\n",
    "solution_08 = solve(instance_08)"
   ]
  },
  {
   "cell_type": "code",
   "execution_count": null,
   "id": "DnEU",
   "metadata": {},
   "outputs": [
    {
     "name": "stdout",
     "output_type": "stream",
     "text": [
      "--- Condition (with 9 chars) ---\n",
      "str01: MESLVPGFNE\n",
      "str02: MESLVPGFNE\n",
      "str03: MFVFLVLLPL\n",
      "str04: MESLVPGFNE\n",
      "str05: MESLVPGFNE\n",
      "str06: MESLVPGFNE\n",
      "str07: MFVFLVLLPL\n",
      "str08: MFVFLVLLPL\n",
      "str09: MESLVPGFNE\n",
      "str10: MFVFLVLLPL\n",
      "\n",
      "--- Solution (of length 17) ---\n",
      "  Sol: MEFSLVPGFLVLNLPEL\n",
      "str01: ME-SLVPGF---N--E-\n",
      "str02: ME-SLVPGF---N--E-\n",
      "str03: M-F--V--FLVL-LP-L\n",
      "str04: ME-SLVPGF---N--E-\n",
      "str05: ME-SLVPGF---N--E-\n",
      "str06: ME-SLVPGF---N--E-\n",
      "str07: M-F--V--FLVL-LP-L\n",
      "str08: M-F--V--FLVL-LP-L\n",
      "str09: ME-SLVPGF---N--E-\n",
      "str10: M-F--V--FLVL-LP-L\n",
      "\n",
      "solution is feasible: True\n"
     ]
    }
   ],
   "source": [
    "_instance = instance_08\n",
    "_solution = solution_08\n",
    "\n",
    "util.show(_instance)\n",
    "if _solution is not None:\n",
    "    util.show(_instance, _solution)\n",
    "    print(f\"solution is feasible: {util.is_feasible(_instance, _solution)}\")\n",
    "else:\n",
    "    print(\"--- Solution not found ---\")"
   ]
  },
  {
   "cell_type": "code",
   "execution_count": null,
   "id": "ulZA",
   "metadata": {},
   "outputs": [
    {
     "name": "stdout",
     "output_type": "stream",
     "text": [
      "Running HiGHS 1.11.0 (git hash: 364c83a): Copyright (c) 2025 HiGHS under MIT licence terms\n"
     ]
    },
    {
     "name": "stdout",
     "output_type": "stream",
     "text": [
      "MIP  has 8489785 rows; 5660691 cols; 22637760 nonzeros; 5660690 integer variables (5658190 binary)\n"
     ]
    },
    {
     "name": "stdout",
     "output_type": "stream",
     "text": [
      "Coefficient ranges:\n",
      "  Matrix [1e+00, 2e+03]\n",
      "  Cost   [1e+00, 1e+00]\n",
      "  Bound  [1e+00, 2e+03]\n",
      "  RHS    [1e+00, 2e+03]\n"
     ]
    },
    {
     "name": "stdout",
     "output_type": "stream",
     "text": [
      "Presolving model\n"
     ]
    },
    {
     "name": "stdout",
     "output_type": "stream",
     "text": [
      "5660690 rows, 2831596 cols, 16979570 nonzeros  14s\n"
     ]
    },
    {
     "name": "stdout",
     "output_type": "stream",
     "text": [
      "5626342 rows, 2831596 cols, 16876526 nonzeros  73s\n"
     ]
    },
    {
     "name": "stdout",
     "output_type": "stream",
     "text": [
      "Presolve: Time limit reached\n",
      "\n",
      "Src: B => Branching; C => Central rounding; F => Feasibility pump; J => Feasibility jump;\n",
      "     H => Heuristic; L => Sub-MIP; P => Empty MIP; R => Randomized rounding; Z => ZI Round;\n",
      "     I => Shifting; S => Solve LP; T => Evaluate node; U => Unbounded; X => User solution;\n",
      "     z => Trivial zero; l => Trivial lower; u => Trivial upper; p => Trivial point\n",
      "\n",
      "        Nodes      |    B&B Tree     |            Objective Bounds              |  Dynamic Constraints |       Work      \n",
      "Src  Proc. InQueue |  Leaves   Expl. | BestBound       BestSol              Gap |   Cuts   InLp Confl. | LpIters     Time\n",
      "\n",
      "         0       0         0   0.00%   -inf            inf                  inf        0      0      0         0    75.1s\n",
      "\n",
      "Solving report\n",
      "  Status            Time limit reached\n",
      "  Primal bound      inf\n",
      "  Dual bound        -inf\n",
      "  Gap               inf\n",
      "  P-D integral      0\n",
      "  Solution status   -\n",
      "  Timing            75.14 (total)\n",
      "                    0.00 (presolve)\n",
      "                    0.00 (solve)\n",
      "                    0.00 (postsolve)\n",
      "  Max sub-MIP depth 0\n",
      "  Nodes             0\n",
      "  Repair LPs        0 (0 feasible; 0 iterations)\n",
      "  LP iterations     0 (total)\n",
      "                    0 (strong br.)\n",
      "                    0 (separation)\n",
      "                    0 (heuristics)\n"
     ]
    }
   ],
   "source": [
    "instance_09 = util.parse(\"protein_n050k050.txt\")\n",
    "solution_09 = solve(instance_09)"
   ]
  },
  {
   "cell_type": "code",
   "execution_count": null,
   "id": "ecfG",
   "metadata": {},
   "outputs": [
    {
     "name": "stdout",
     "output_type": "stream",
     "text": [
      "--- Condition (with 20 chars) ---\n",
      "str01: MESLVPGFNEKTHVQLSLPVLQVRDVLVRGFGDSVEEVLSEARQHLKDGT\n",
      "str02: MESLVPGFNEKTHVQLSLPVLQVRDVLVRGFGDSVEEVLSEARQHLKDGT\n",
      "str03: MFVFLVLLPLVSSQCVNLTTRTQLPPAYTNSFTRGVYYPDKVFRSSVLHS\n",
      "str04: MESLVPGFNEKTHVQLSLPVLQVRDVLVRGFGDSVEEVLSEARQHLKDGT\n",
      "str05: MESLVPGFNEKTHVQLSLPVLQVRDVLVRGFGDSVEEVLSEARQHLKDGT\n",
      "str06: MESLVPGFNEKTHVQLSLPVLQVRDVLVRGFGDSVEEVLSEARQHLKDGT\n",
      "str07: MFVFLVLLPLVSSQCVNLITRTQSYTNSFTRGVYYPDKVFRSSVLHSTKD\n",
      "str08: MFVFLVLLPLVSSQCVNLRTRTQLPPAYTNSFTRGVYYPDKVFRSSVLHS\n",
      "str09: MESLVPGFNEKTHVQLSLPVLQVRDVLVRGFGDSVEEVLSEARQHLKDGT\n",
      "str10: MFVFLVLLPLVSSQCVNLTTRTQLPPAYTNSFTRGVYYPDKVFRSSVLHS\n",
      "str11: MFVFLVLLPLVSSQCVMPLFNLITTTQSYTNFTRGVYYPDKVFRSSVLHL\n",
      "str12: MESLVPGFNEKTHVQLSLPVLQVRDVLVRGFGDSVEEVLSEARQHLKDGT\n",
      "str13: MFVFLVLLPLVSSQCVNLTTRTQLPPAYTNSFTRGVYYPDKVFRSSVLHS\n",
      "str14: MDPIINGSSANVYLTDSYLKGVISFSECNALGSYLFNGPYLKNDYTNLIS\n",
      "str15: MFVFLVLLPLVSSQCVNLTTRTQLPPAYTNSFTRGVYYPDKVFRSSVLHS\n",
      "str16: MESLVPGFNEKTHVQLSLPVLQVRDVLVRGFGDSVEEVLSEARQHLKDGT\n",
      "str17: MESLVPGFNEKTHVQLSLPVLQVRDVLVRGFGDSVEEVLSEARQHLKDGT\n",
      "str18: MESLVPGFNEKTHVQLSLPVLQVRDVLVRGFGDSVEEVLSEARQHLKDGT\n",
      "str19: MESLVPGFNEKTHVQLSLPVLQVRDVLVRGFGDSVEEVLSEARQHLKDGT\n",
      "str20: MESLVPGFNEKTHVQLSLPVLQVRDVLVRGFGDSVEEVLSEARQHLKDGT\n",
      "str21: MESLVPGFNEKTHVQLSLPVLQVRDVLVRGFGDSVEEVLSEARQHLKDGT\n",
      "str22: MLNRIQTLMKTANNYETIEILRNYLRLYIILARNEEGRGILIYDDNIDSV\n",
      "str23: MESLVPGFNEKTHVQLSLPVLQVRDVLVRGFGDSVEEVLSEARQHLKDGT\n",
      "str24: MESLVPGFNEKTHVQLSLPVLQVRDVLVRGFGDSVEEVLSEARQHLKDGT\n",
      "str25: MFVFLVLLPLVSSQCVNLRTRTQLPPAYTNSFTRGVYYPDKVFRSSVLHS\n",
      "str26: MESLVPGFNEKTHVQLSLPVLQVRDVLVRGFGDSVEEVLSEARQHLKDGT\n",
      "str27: MDPIINGSSANVYLTDSYLKGVISFSECNALGSYLFNGPYLKNDYTNLIS\n",
      "str28: MESLVPGFNEKTHVQLSLPVLQVRDVLVRGFGDSVEEVLSEARQHLKDGT\n",
      "str29: MESLVPGFNEKTHVQLSLPVLQVRDVLVRGFGDSVEEVLSEARQHLKDGT\n",
      "str30: MESLVPGFNEKTHVQLSLPVLQVRDVLVRGFGDSVEEVLSEARQHLKDGT\n",
      "str31: MESLVPGFNEKTHVQLSLPVLQVRDVLVRGFGDSVEEVLSEARQHLKDGT\n",
      "str32: MESLVPGFNEKTHVQLSLPVLQVRDVLVRGFGDSVEEVLSEARQHLKDGT\n",
      "str33: MFVFLVLLPLVSSQCVNLITRTQSYTNSFTRGVYYPDKVFRSSVLHSTQD\n",
      "str34: MESTVGPACPPGRTVTKRPWALAEDTPGGPDSPPKRPRPNSLPLTTTFRP\n",
      "str35: MNNQRKKTARPSFNMLKRARNRVSTVSQLAKRFSKGLLSGQGPMKLVMAF\n",
      "str36: MFVFLVLLPLVSSQCVNLITRTQSYTNSFTRGVYYPDKVFRSSVLHSTQD\n",
      "str37: MEPGAFSTALFDALCDDILHRRLESQLRFGGVQIPPEVSDPRVYAGYALL\n",
      "str38: MESLVPGFNEKTHVQLSLPVLQVRDVLVRGFGDSVEEVLSEARQHLKDGT\n",
      "str39: MESLVPGFNEKTHVQLSLPVLQVRDVLVRGFGDSVEEVLSEARQHLKDGT\n",
      "str40: MESLVPGFNEKTHVQLSLPVLQVRDVLVRGFGDSVEEVLSEARQHLKDGT\n",
      "str41: MFVFLVLLPLVSSQCVNLTTRTQLPPAYTNSFTRGVYYPDKVFRSSVLHS\n",
      "str42: MKKNTDSEMDQRLGYKFLVPDPKAGVFYRPLHFQYVSYSNFILHRLHEIL\n",
      "str43: MESLVPGFNEKTHVQLSLPVLQVRDVLVRGFGDSVEEVLSEARQHLKDGT\n",
      "str44: MESLVPGFNEKTHVQLSLPVLQVRDVLVRGFGDSVEEVLSEARQHLKDGT\n",
      "str45: MESLVPGFNEKTHVQLSLPVLQVRDVLVRGFGDSVEEVLSEARQHLKDGT\n",
      "str46: MFVFLVLLPLVSSQCVNLTTRTQLPPAYTNSFTRGVYYPDKVFRSSVLHS\n",
      "str47: MESLVPGFNEKTHVQLSLPVLQVRDVLVRGFGDSVEEVLSEARQHLKDGT\n",
      "str48: MESLVPGFNEKTHVQLSLPVLQVRDVLVRGFGDSVEEVLSEARQHLKDGT\n",
      "str49: MFVFLVLLPLVSSQCVNLITRTQSYTNSFTRGVYYPDKVFRSSVLHSTQD\n",
      "str50: MESLVPGFNEKTHVQLSLPVLQVRDVLVRGFGDSVEEVLSEARQHLKDGT\n",
      "\n",
      "--- Solution not found ---\n"
     ]
    }
   ],
   "source": [
    "_instance = instance_09\n",
    "_solution = solution_09\n",
    "\n",
    "util.show(_instance)\n",
    "if _solution is not None:\n",
    "    util.show(_instance, _solution)\n",
    "    print(f\"solution is feasible: {util.is_feasible(_instance, _solution)}\")\n",
    "else:\n",
    "    print(\"--- Solution not found ---\")"
   ]
  }
 ],
 "metadata": {},
 "nbformat": 4,
 "nbformat_minor": 5
}
