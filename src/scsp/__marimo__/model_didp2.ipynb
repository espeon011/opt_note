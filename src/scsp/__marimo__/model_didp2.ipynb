{
 "cells": [
  {
   "cell_type": "code",
   "execution_count": null,
   "id": "setup",
   "metadata": {
    "marimo": {
     "name": "setup"
    }
   },
   "outputs": [],
   "source": [
    "import didppy\n",
    "import util\n",
    "import model_didp"
   ]
  },
  {
   "cell_type": "code",
   "execution_count": null,
   "id": "Hbol",
   "metadata": {},
   "outputs": [],
   "source": [
    "import marimo as mo\n",
    "import nbformat"
   ]
  },
  {
   "cell_type": "markdown",
   "id": "MJUe",
   "metadata": {
    "marimo": {
     "config": {
      "hide_code": true
     }
    }
   },
   "source": [
    "# DIDP with other bounds"
   ]
  },
  {
   "cell_type": "markdown",
   "id": "vblA",
   "metadata": {
    "marimo": {
     "config": {
      "hide_code": true
     }
    }
   },
   "source": [
    "DIDP ソルバーを使用した定式化において dual bound を計算する方法をインスタンス内の任意の 2 つの 文字列の SCS 長の最大値からインスタンス内の任意の 3 つの文字列の SCS 長の最大値に変更してみる.\n",
    "\n",
    "これによって dual bound 自体はタイトになるものの,\n",
    "事前計算のオーダーが $n^2 k^2$ から $n^3 k^3$ になり,\n",
    "小さくないインスタンスに対してはそもそも DIDP による計算を開始できるようになるまでにかなり時間がかかるようになる.\n",
    "例えば長さが一律で 10 の文字列が 50 個あるようなインスタンスでは 1 分近く事前計算をしたうえで Python カーネルが死んでしまった(`The Python kernel for file ...(略)... died unexpectedly.` と出力されていた)(もしかしたら Marimo の方の問題かもしれない).\n",
    "\n",
    "\n",
    "小さいインスタンスに対しては確かに dual bound が改善した...\n",
    "が今まで最適性を証明できていなかったインスタンスに対して最適性を証明できたりしたわけではなかった.\n",
    "また, primal bound はあまり改善しなかった."
   ]
  },
  {
   "cell_type": "code",
   "execution_count": null,
   "id": "bkHC",
   "metadata": {
    "marimo": {
     "name": "*boundtable_scs3"
    }
   },
   "outputs": [],
   "source": [
    "def boundtable_scs3(s1: str, s2: str, s3: str) -> list[list[list[int]]]:\n",
    "    len1, len2, len3 = len(s1), len(s2), len(s3)\n",
    "\n",
    "    # dp[i1][i2][i3]: s1[i1..] と s2[i2..] と s3[i3..] の SCS 長さ\n",
    "    dp = [\n",
    "        [\n",
    "            [\n",
    "                len1 + len2 + len3 + 1\n",
    "                for _ in range(len3 + 1)\n",
    "            ]\n",
    "            for _ in range(len2 + 1)\n",
    "        ]\n",
    "        for _ in range(len1 + 1)\n",
    "    ]\n",
    "\n",
    "    for i1 in range(len1 + 1):\n",
    "        dp[i1][len2][len3] = len1 - i1\n",
    "    for i2 in range(len2 + 1):\n",
    "        dp[len1][i2][len3] = len2 - i2\n",
    "    for i3 in range(len3 + 1):\n",
    "        dp[len1][len2][i3] = len3 - i3\n",
    "\n",
    "    for i1 in range(len1, -1, -1):\n",
    "        for i2 in range(len2, -1, -1):\n",
    "            for i3 in range(len3 , -1, -1):\n",
    "                if [i1 == len1, i2 == len2, i3 == len3].count(True) >=2:\n",
    "                    continue\n",
    "\n",
    "                front_chars = \"\"\n",
    "                if i1 < len1:\n",
    "                    front_chars += s1[i1]\n",
    "                if i2 < len2:\n",
    "                    front_chars += s2[i2]\n",
    "                if i3 < len3:\n",
    "                    front_chars += s3[i3]\n",
    "                front_chars = set(front_chars)\n",
    "\n",
    "                pretransversals = [\n",
    "                    (\n",
    "                        i1 + 1 if i1 < len1 and s1[i1] == c else i1,\n",
    "                        i2 + 1 if i2 < len2 and s2[i2] == c else i2,\n",
    "                        i3 + 1 if i3 < len3 and s3[i3] == c else i3,\n",
    "                    )\n",
    "                    for c in front_chars\n",
    "                ]\n",
    "                min_i1, min_i2, min_i3 = pretransversals[0]\n",
    "                min_length = dp[min_i1][min_i2][min_i3]\n",
    "                for pre_i1, pre_i2, pre_i3 in pretransversals:\n",
    "                    if dp[pre_i1][pre_i2][pre_i3] < min_length:\n",
    "                        min_i1 = pre_i1\n",
    "                        min_i2 = pre_i2\n",
    "                        min_i3 = pre_i3\n",
    "                        min_length = dp[pre_i1][pre_i2][pre_i3]\n",
    "\n",
    "                dp[i1][i2][i3] = min_length + 1\n",
    "\n",
    "    return dp"
   ]
  },
  {
   "cell_type": "code",
   "execution_count": null,
   "id": "lEQa",
   "metadata": {
    "marimo": {
     "name": "*boundexpr_scs3len"
    }
   },
   "outputs": [],
   "source": [
    "def boundexpr_scs3len(\n",
    "    instance: list[str],\n",
    "    dpmodel: didppy.Model,\n",
    "    index_vars: list[didppy.ElementVar]\n",
    ") -> didppy.IntExpr:\n",
    "    exprs = []\n",
    "    for idx1 in range(len(instance)):\n",
    "        for idx2 in range(idx1 + 1, len(instance)):\n",
    "            for idx3 in range(idx2 + 1, len(instance)):\n",
    "                s1 = instance[idx1]\n",
    "                s2 = instance[idx2]\n",
    "                s3 = instance[idx3]\n",
    "                index_var1 = index_vars[idx1]\n",
    "                index_var2 = index_vars[idx2]\n",
    "                index_var3 = index_vars[idx3]\n",
    "                table_s1s2s3 = dpmodel.add_int_table(boundtable_scs3(s1, s2, s3))\n",
    "                exprs.append(table_s1s2s3[index_var1, index_var2, index_var3])\n",
    "\n",
    "    bound = didppy.IntExpr(0)\n",
    "    for expr in exprs:\n",
    "        bound = didppy.max(bound, expr)\n",
    "\n",
    "    return bound"
   ]
  },
  {
   "cell_type": "code",
   "execution_count": null,
   "id": "PKri",
   "metadata": {
    "marimo": {
     "name": "*create_model"
    }
   },
   "outputs": [],
   "source": [
    "def create_model(instance: list[str]) -> model_didp.Model:\n",
    "    return model_didp.Model(instance, extra_bounds=[boundexpr_scs3len], disable_default_bound=True)"
   ]
  },
  {
   "cell_type": "code",
   "execution_count": null,
   "id": "Xref",
   "metadata": {
    "marimo": {
     "name": "*solve"
    }
   },
   "outputs": [],
   "source": [
    "def solve(instance: list[str], time_limit: int | None = 60, log: bool = False) -> str:\n",
    "    model = create_model(instance)\n",
    "    model.solve(time_limit, log)\n",
    "    return model.to_solution()"
   ]
  },
  {
   "cell_type": "markdown",
   "id": "SFPL",
   "metadata": {
    "marimo": {
     "config": {
      "hide_code": true
     }
    }
   },
   "source": [
    "大きいインスタンスでは正常に動作しないため, 一部のインスタンスに対して実験する.\n",
    "具体的に, 以下のインスタンスはスキップ.\n",
    "\n",
    "- `uniform_q05n050k010-010.txt`\n",
    "- `nucleotide_n050k050.txt`\n",
    "- `protein_n050k050.txt`"
   ]
  },
  {
   "cell_type": "code",
   "execution_count": null,
   "id": "BYtC",
   "metadata": {},
   "outputs": [],
   "source": [
    "instance_01 = util.parse(\"uniform_q26n004k015-025.txt\")\n",
    "model_01 = create_model(instance_01)\n",
    "solution_01 = model_01.solve().to_solution()"
   ]
  },
  {
   "cell_type": "code",
   "execution_count": null,
   "id": "RGSE",
   "metadata": {},
   "outputs": [
    {
     "name": "stdout",
     "output_type": "stream",
     "text": [
      "--- Condition (with 25 chars) ---\n",
      "str1: tkgnkuhmpxnhtqgxzvxis\n",
      "str2: iojiqfolnbxxcvsuqpvissbxf\n",
      "str3: ulcinycosovozpplp\n",
      "str4: igevazgbrddbcsvrvnngf\n",
      "\n",
      "--- Solution (of length 62) ---\n",
      " Sol: ultcikgnycosjkuiqhoevmafozpxplnhtqgbrddxbxzcvsxuqpvirvsnnsbgxf\n",
      "str1: --t--kgn-----ku--h---m----px--nhtqg----x--z-v-x----i--s-------\n",
      "str2: ----i-----o-j--iq------fo----ln----b---x-x-cvs-uqpvi--s--sb-xf\n",
      "str3: ul-ci--nycos------o-v---ozp-pl-------------------p------------\n",
      "str4: ----i-g------------ev-a--z--------gbrdd-b--c-s----v-rv-nn--g-f\n",
      "\n",
      "solution is feasible: True\n",
      "solution is optimal: True\n",
      "best bound: 62\n"
     ]
    }
   ],
   "source": [
    "_instance = instance_01\n",
    "_model = model_01\n",
    "_solution = solution_01\n",
    "\n",
    "util.show(_instance)\n",
    "if _solution is not None:\n",
    "    util.show(_instance, _solution)\n",
    "    print(f\"solution is feasible: {util.is_feasible(_instance, _solution)}\")\n",
    "    print(f\"solution is optimal: {_model.solution.is_optimal}\")\n",
    "    print(f\"best bound: {_model.solution.best_bound}\")\n",
    "else:\n",
    "    print(\"--- Solution not found ---\")"
   ]
  },
  {
   "cell_type": "code",
   "execution_count": null,
   "id": "Kclp",
   "metadata": {},
   "outputs": [],
   "source": [
    "instance_02 = util.parse(\"uniform_q26n008k015-025.txt\")\n",
    "model_02 = create_model(instance_02)\n",
    "solution_02 = model_02.solve().to_solution()"
   ]
  },
  {
   "cell_type": "code",
   "execution_count": null,
   "id": "emfo",
   "metadata": {},
   "outputs": [
    {
     "name": "stdout",
     "output_type": "stream",
     "text": [
      "--- Condition (with 26 chars) ---\n",
      "str1: tkgnkuhmpxnhtqgxzvxis\n",
      "str2: iojiqfolnbxxcvsuqpvissbxf\n",
      "str3: ulcinycosovozpplp\n",
      "str4: igevazgbrddbcsvrvnngf\n",
      "str5: pyplrzxucpmqvgtdfuivcdsbo\n",
      "str6: pbdevdcvdpfzsmsbroqvbbh\n",
      "str7: enbczfjtvxerzbrvigple\n",
      "str8: rxwxqkrdrlctodtmprpxwd\n",
      "\n",
      "--- Solution (of length 96) ---\n",
      " Sol: iorjtipxwxypqkfolrbgdevazngbxkurlxdchpmqvgztdpfzsjutivbxnycodhtmsberoqvgoxzpbrvxissnngpbxlhfwpde\n",
      "str1: ----t--------k-----g-----n---ku-----h-m------p---------xn----ht------q-g-xz---vxis--------------\n",
      "str2: io-j-i------q-fol--------n-bx----x-c----v-------s-u------------------q-----p--v-iss----bx--f----\n",
      "str3: ------------------------------u-l--c----------------i---nyco----s---o-v-o-zp----------p--l---p--\n",
      "str4: i------------------g-evaz-gb---r--d---------d---------b---c-----s-----v------rv----nng-----f----\n",
      "str5: ------p---yp----lr------z---x-u----c-pmqvg-td-f---u-iv----c-d---sb--o---------------------------\n",
      "str6: ------p-----------b-dev-----------dc----v---dpfzs--------------msb-roqv-----b----------b--h-----\n",
      "str7: ---------------------e---n-b-------c------z---f--j-t-v-x----------er------z-brv-i----gp--l-----e\n",
      "str8: --r----xwx--qk---r--d----------rl--c-------t---------------od-tm-----------p-r--------p-x---w-d-\n",
      "\n",
      "solution is feasible: True\n",
      "solution is optimal: False\n",
      "best bound: 67\n"
     ]
    }
   ],
   "source": [
    "_instance = instance_02\n",
    "_model = model_02\n",
    "_solution = solution_02\n",
    "\n",
    "util.show(_instance)\n",
    "if _solution is not None:\n",
    "    util.show(_instance, _solution)\n",
    "    print(f\"solution is feasible: {util.is_feasible(_instance, _solution)}\")\n",
    "    print(f\"solution is optimal: {_model.solution.is_optimal}\")\n",
    "    print(f\"best bound: {_model.solution.best_bound}\")\n",
    "else:\n",
    "    print(\"--- Solution not found ---\")"
   ]
  },
  {
   "cell_type": "code",
   "execution_count": null,
   "id": "Hstk",
   "metadata": {},
   "outputs": [],
   "source": [
    "instance_03 = util.parse(\"uniform_q26n016k015-025.txt\")\n",
    "model_03 = create_model(instance_03)\n",
    "solution_03 = model_03.solve().to_solution()"
   ]
  },
  {
   "cell_type": "code",
   "execution_count": null,
   "id": "nWHF",
   "metadata": {},
   "outputs": [
    {
     "name": "stdout",
     "output_type": "stream",
     "text": [
      "--- Condition (with 26 chars) ---\n",
      "str01: tkgnkuhmpxnhtqgxzvxis\n",
      "str02: iojiqfolnbxxcvsuqpvissbxf\n",
      "str03: ulcinycosovozpplp\n",
      "str04: igevazgbrddbcsvrvnngf\n",
      "str05: pyplrzxucpmqvgtdfuivcdsbo\n",
      "str06: pbdevdcvdpfzsmsbroqvbbh\n",
      "str07: enbczfjtvxerzbrvigple\n",
      "str08: rxwxqkrdrlctodtmprpxwd\n",
      "str09: kkqafigqjwokkskrblg\n",
      "str10: lxxpabivbvzkozzvd\n",
      "str11: krifsavncdqwhzc\n",
      "str12: qaxudgqvqcewbfgijowwy\n",
      "str13: rsxqjnfpadiusiqbezhkohmg\n",
      "str14: iwshvhcomiuvddm\n",
      "str15: htxxqjzqbctbakn\n",
      "str16: xusfcfzpeecvwantfmgqzu\n",
      "\n",
      "--- Solution (of length 151) ---\n",
      "  Sol: rxiwusxptypokqjgenkiqbdflcevarzoxflxupjadzhcgpiqnbrmtvdxpxgqlfeyecujvzsinhgewtoaudqrzvbenmcktsofmpbuvzkrgdijhsoqxzuvwcdskpxirgobnpabhznlvkwdmsgxfnycoep\n",
      "str01: --------t---k--g-nk-----------------u-----h--------m----px--------------nh---t----q---------------------g-------xz-v------xi-----------------s---------\n",
      "str02: --i--------o--j----iq--f-------o--l-------------nb-----x-x-------c--v-s---------u-q--------------p--v-----i--s---------s-------b---------------xf------\n",
      "str03: ----u-------------------lc--------------------i-n--------------y-c------------o--------------so-----v---------o--z-------p-------p-----l--------------p\n",
      "str04: --i------------ge----------va-z-------------g----br---d--------------------------d----b---c--s------v--r-----------v------------n-----n-------g-f------\n",
      "str05: -------p-yp-------------l----rz-x---u------c-p-----m-------q--------v-----g--t---d-------------f---u------i--------v-cds-------b--------------------o--\n",
      "str06: -------p-------------bd---ev------------d--c---------vd-p----f-------zs------------------m---s----b----r------oq---v-----------b---bh------------------\n",
      "str07: ----------------en---b---c----z--f----j-------------tv-x------e--------------------rz-b----------------r-----------v-------i-g---p-----l-------------e-\n",
      "str08: rx-w--x------q----k----------r----------d---------r---------l----c-----------to--d----------t---mp-----r-----------------px---------------wd-----------\n",
      "str09: ------------k-----k-q-------a----f------------i-----------gq-------j--------w-o------------k----------k------s----------k---r--b-------l------g--------\n",
      "str10: ------------------------l-------x--x-p-a---------b---------------------i-------------vb-------------vzk-------o--z-------------------z--v--d-----------\n",
      "str11: ------------k----------------r----------------i--------------f--------s--------a-----v--n-c--------------d-----q----w---------------hz-------------c---\n",
      "str12: -------------q--------------a---x---u---d---g--q-----v-----q-----c---------ew---------b--------f--------g-ij--o-----w---------------------w-------y----\n",
      "str13: r----sx------qj--n-----f-------------p-ad-----i-------------------u---si----------q---be-------------z------h-----------k-----o-----h-------m-g--------\n",
      "str14: --iw-s------------------------------------h----------v-------------------h----------------c---o-m---------i-------uv--d--------------------dm----------\n",
      "str15: ------------------------------------------h---------t--x-x-q-------j-z------------q---b---c-t-----b-------------------------------a------k-------n-----\n",
      "str16: -x--us-----------------f-c-------f-------z---p----------------e-ec--v-------w--a--------n---t--fm-------g------q-zu------------------------------------\n",
      "\n",
      "solution is feasible: True\n",
      "solution is optimal: False\n",
      "best bound: 62\n"
     ]
    }
   ],
   "source": [
    "_instance = instance_03\n",
    "_model = model_03\n",
    "_solution = solution_03\n",
    "\n",
    "util.show(_instance)\n",
    "if _solution is not None:\n",
    "    util.show(_instance, _solution)\n",
    "    print(f\"solution is feasible: {util.is_feasible(_instance, _solution)}\")\n",
    "    print(f\"solution is optimal: {_model.solution.is_optimal}\")\n",
    "    print(f\"best bound: {_model.solution.best_bound}\")\n",
    "else:\n",
    "    print(\"--- Solution not found ---\")"
   ]
  },
  {
   "cell_type": "code",
   "execution_count": null,
   "id": "iLit",
   "metadata": {},
   "outputs": [],
   "source": [
    "instance_04 = util.parse(\"uniform_q05n010k010-010.txt\")\n",
    "model_04 = create_model(instance_04)\n",
    "solution_04 = model_04.solve().to_solution()"
   ]
  },
  {
   "cell_type": "code",
   "execution_count": null,
   "id": "ZHCJ",
   "metadata": {},
   "outputs": [
    {
     "name": "stdout",
     "output_type": "stream",
     "text": [
      "--- Condition (with 5 chars) ---\n",
      "str01: dcbccdbcce\n",
      "str02: bddbeeeebd\n",
      "str03: cacdeecebe\n",
      "str04: aeddddebdd\n",
      "str05: acbeecabce\n",
      "str06: bbabebdcba\n",
      "str07: bbaeaebada\n",
      "str08: eeeecbdbee\n",
      "str09: ccdeedadcd\n",
      "str10: bdabdbeaad\n",
      "\n",
      "--- Solution (of length 27) ---\n",
      "  Sol: bbaeddcbacdeeecbdbceabdcead\n",
      "str01: ----d-cb-c----c-dbc----ce--\n",
      "str02: b---dd-b---eee-----e-bd----\n",
      "str03: ------c-acdee-c----e-b--e--\n",
      "str04: --aedd----d-----d--e-bd---d\n",
      "str05: --a---cb---ee-c-----ab-ce--\n",
      "str06: bba----b---e---bd-c--b---a-\n",
      "str07: bbae----a--e---b----a-d--a-\n",
      "str08: ---e-------eeecbdb-e----e--\n",
      "str09: ------c--cdee---d---a-dc--d\n",
      "str10: b---d---a------bdb-ea----ad\n",
      "\n",
      "solution is feasible: True\n",
      "solution is optimal: True\n",
      "best bound: 27\n"
     ]
    }
   ],
   "source": [
    "_instance = instance_04\n",
    "_model = model_04\n",
    "_solution = solution_04\n",
    "\n",
    "util.show(_instance)\n",
    "if _solution is not None:\n",
    "    util.show(_instance, _solution)\n",
    "    print(f\"solution is feasible: {util.is_feasible(_instance, _solution)}\")\n",
    "    print(f\"solution is optimal: {_model.solution.is_optimal}\")\n",
    "    print(f\"best bound: {_model.solution.best_bound}\")\n",
    "else:\n",
    "    print(\"--- Solution not found ---\")"
   ]
  },
  {
   "cell_type": "code",
   "execution_count": null,
   "id": "ROlb",
   "metadata": {},
   "outputs": [],
   "source": [
    "instance_06 = util.parse(\"nucleotide_n010k010.txt\")\n",
    "model_06 = create_model(instance_06)\n",
    "solution_06 = model_06.solve().to_solution()"
   ]
  },
  {
   "cell_type": "code",
   "execution_count": null,
   "id": "qnkX",
   "metadata": {},
   "outputs": [
    {
     "name": "stdout",
     "output_type": "stream",
     "text": [
      "--- Condition (with 4 chars) ---\n",
      "str01: ATGGGATACG\n",
      "str02: ATACCTTCCC\n",
      "str03: CACGAATTGA\n",
      "str04: TAAAATCTGT\n",
      "str05: AGGTAACAAA\n",
      "str06: TTCCTAGGTA\n",
      "str07: TTGTAGATCT\n",
      "str08: TGGGAAGTTC\n",
      "str09: TTCCACAACT\n",
      "str10: TCTAAACGAA\n",
      "\n",
      "--- Solution (of length 24) ---\n",
      "  Sol: TACTGACGCGTAATCAGATCGTAC\n",
      "str01: -A-TG--G-G-A-T-A---CG---\n",
      "str02: -A-T-AC-C-T--TC----C---C\n",
      "str03: --C--ACG---AAT----T-G-A-\n",
      "str04: TA---A-----AATC---T-GT--\n",
      "str05: -A--G--G--TAA-CA-A----A-\n",
      "str06: T--T--C-C-TA----G---GTA-\n",
      "str07: T--TG-----TA----GATC-T--\n",
      "str08: T---G--G-G-AA---G-T--T-C\n",
      "str09: T--T--C-C--A--CA-A-C-T--\n",
      "str10: T-CT-A-----AA-C-GA----A-\n",
      "\n",
      "solution is feasible: True\n",
      "solution is optimal: True\n",
      "best bound: 24\n"
     ]
    }
   ],
   "source": [
    "_instance = instance_06\n",
    "_model = model_06\n",
    "_solution = solution_06\n",
    "\n",
    "util.show(_instance)\n",
    "if _solution is not None:\n",
    "    util.show(_instance, _solution)\n",
    "    print(f\"solution is feasible: {util.is_feasible(_instance, _solution)}\")\n",
    "    print(f\"solution is optimal: {_model.solution.is_optimal}\")\n",
    "    print(f\"best bound: {_model.solution.best_bound}\")\n",
    "else:\n",
    "    print(\"--- Solution not found ---\")"
   ]
  },
  {
   "cell_type": "code",
   "execution_count": null,
   "id": "TqIu",
   "metadata": {},
   "outputs": [],
   "source": [
    "instance_08 = util.parse(\"protein_n010k010.txt\")\n",
    "model_08 = create_model(instance_08)\n",
    "solution_08 = model_08.solve().to_solution()"
   ]
  },
  {
   "cell_type": "code",
   "execution_count": null,
   "id": "Vxnm",
   "metadata": {},
   "outputs": [
    {
     "name": "stdout",
     "output_type": "stream",
     "text": [
      "--- Condition (with 19 chars) ---\n",
      "str01: MALSYCPKGT\n",
      "str02: MQSSLNAIPV\n",
      "str03: MPLSYQHFRK\n",
      "str04: MEEHVNELHD\n",
      "str05: MSNFDAIRAL\n",
      "str06: MFRNQNSRNG\n",
      "str07: MFYAHAFGGY\n",
      "str08: MSKFTRRPYQ\n",
      "str09: MSFVAGVTAQ\n",
      "str10: MESLVPGFNE\n",
      "\n",
      "--- Solution (of length 44) ---\n",
      "  Sol: MQESNKFDAPETRLSNYQAHVLNASICFRPGKVFNEGTALHDYQ\n",
      "str01: M-------A----LS-Y---------C--P-K----GT------\n",
      "str02: MQ-S----------S------LNA-I---P--V-----------\n",
      "str03: M--------P---LS-YQ-H-------FR--K------------\n",
      "str04: M-E-------E--------HV-N------------E---LHD--\n",
      "str05: M--SN-FDA----------------I--R---------AL----\n",
      "str06: M-----F-----R--N-Q----N-S---R-----N-G-------\n",
      "str07: M-----F---------Y-AH---A---F--G-----G-----Y-\n",
      "str08: M--S-KF----TR---------------RP------------YQ\n",
      "str09: M--S--F-------------V--A------G-V----TA----Q\n",
      "str10: M-ES---------L------V--------PG--FNE--------\n",
      "\n",
      "solution is feasible: True\n",
      "solution is optimal: False\n",
      "best bound: 34\n"
     ]
    }
   ],
   "source": [
    "_instance = instance_08\n",
    "_model = model_08\n",
    "_solution = solution_08\n",
    "\n",
    "util.show(_instance)\n",
    "if _solution is not None:\n",
    "    util.show(_instance, _solution)\n",
    "    print(f\"solution is feasible: {util.is_feasible(_instance, _solution)}\")\n",
    "    print(f\"solution is optimal: {_model.solution.is_optimal}\")\n",
    "    print(f\"best bound: {_model.solution.best_bound}\")\n",
    "else:\n",
    "    print(\"--- Solution not found ---\")"
   ]
  }
 ],
 "metadata": {},
 "nbformat": 4,
 "nbformat_minor": 5
}
