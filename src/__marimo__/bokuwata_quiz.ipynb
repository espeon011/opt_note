{
 "cells": [
  {
   "cell_type": "code",
   "execution_count": null,
   "id": "Hbol",
   "metadata": {},
   "outputs": [],
   "source": [
    "import marimo as mo"
   ]
  },
  {
   "cell_type": "markdown",
   "id": "MJUe",
   "metadata": {
    "marimo": {
     "config": {
      "hide_code": true
     }
    }
   },
   "source": [
    "# プリンを食べた嘘つきは誰？"
   ]
  },
  {
   "cell_type": "markdown",
   "id": "vblA",
   "metadata": {
    "marimo": {
     "config": {
      "hide_code": true
     }
    }
   },
   "source": [
    "<center>\n",
    "<iframe width=\"560\" height=\"315\" src=\"https://www.youtube.com/embed/n8i0RpDbWMk\" title=\"【論理クイズ】プリンを食べた嘘つきは誰？【激ムズ】\" frameborder=\"0\" allow=\"accelerometer; autoplay; clipboard-write; encrypted-media; gyroscope; picture-in-picture\" allowfullscreen></iframe>\n",
    "</center>\n",
    "\n",
    "## 証言\n",
    "\n",
    "- A「A と D は食べてない」\n",
    "- B「E は食べてない」\n",
    "- C「C と B は食べてない」\n",
    "- D「A と C は食べてない」\n",
    "- E「D と E は食べてない」\n",
    "- 探偵「嘘つきは 1 人」「私は食べてない」\n",
    "- 主人公「私は食べてない」「このチャンネルは面白い」\n",
    "\n",
    "## 論理クイズのルール\n",
    "\n",
    "- このクイズの登場人物は「正直者」か「嘘つき」のどちらか\n",
    "- 正直者は本当のことしか言わない\n",
    "- 嘘つきは嘘のことしか言わない"
   ]
  },
  {
   "cell_type": "code",
   "execution_count": null,
   "id": "bkHC",
   "metadata": {},
   "outputs": [],
   "source": [
    "from ortools.sat.python import cp_model\n",
    "import polars as pl\n",
    "\n",
    "_ = pl.Config.set_tbl_rows(16)"
   ]
  },
  {
   "cell_type": "code",
   "execution_count": null,
   "id": "lEQa",
   "metadata": {},
   "outputs": [],
   "source": [
    "class Model:\n",
    "    def __init__(\n",
    "        self,\n",
    "        c_one: bool = False,\n",
    "        ex_bokuwata: bool = False,\n",
    "        not_ex_bokuwata: bool = False,\n",
    "    ):\n",
    "        self.model = cp_model.CpModel()\n",
    "\n",
    "        self.suspects = [\"A\", \"B\", \"C\", \"D\", \"E\", \"探偵\", \"主人公\"]\n",
    "        self.liars = {\n",
    "            _s: self.model.new_bool_var(f\"{_s}_is_liar\")\n",
    "            for _s in self.suspects\n",
    "        }\n",
    "        self.culprits = {\n",
    "            _s: self.model.new_bool_var(f\"{_s}_is_culprit\")\n",
    "            for _s in self.suspects\n",
    "        }\n",
    "\n",
    "        # A「A と D は食べてない」\n",
    "        self.model.add(\n",
    "            self.culprits[\"A\"] + self.culprits[\"D\"] == 0\n",
    "        ).only_enforce_if(self.liars[\"A\"].negated())\n",
    "        self.model.add(\n",
    "            self.culprits[\"A\"] + self.culprits[\"D\"] > 0\n",
    "        ).only_enforce_if(self.liars[\"A\"])\n",
    "\n",
    "        # B「E は食べてない」\n",
    "        self.model.add(self.culprits[\"E\"] == 0).only_enforce_if(\n",
    "            self.liars[\"B\"].negated()\n",
    "        )\n",
    "        self.model.add(self.culprits[\"E\"] == 1).only_enforce_if(\n",
    "            self.liars[\"B\"]\n",
    "        )\n",
    "\n",
    "        # C「C と B は食べてない」\n",
    "        self.model.add(\n",
    "            self.culprits[\"C\"] + self.culprits[\"B\"] == 0\n",
    "        ).only_enforce_if(self.liars[\"C\"].negated())\n",
    "        self.model.add(\n",
    "            self.culprits[\"C\"] + self.culprits[\"B\"] > 0\n",
    "        ).only_enforce_if(self.liars[\"C\"])\n",
    "\n",
    "        # D「A と C は食べてない」\n",
    "        self.model.add(\n",
    "            self.culprits[\"A\"] + self.culprits[\"C\"] == 0\n",
    "        ).only_enforce_if(self.liars[\"D\"].negated())\n",
    "        self.model.add(\n",
    "            self.culprits[\"A\"] + self.culprits[\"C\"] > 0\n",
    "        ).only_enforce_if(self.liars[\"D\"])\n",
    "\n",
    "        # E「D と E は食べてない」\n",
    "        self.model.add(\n",
    "            self.culprits[\"D\"] + self.culprits[\"E\"] == 0\n",
    "        ).only_enforce_if(self.liars[\"E\"].negated())\n",
    "        self.model.add(\n",
    "            self.culprits[\"D\"] + self.culprits[\"E\"] > 0\n",
    "        ).only_enforce_if(self.liars[\"E\"])\n",
    "\n",
    "        # 探偵「嘘つきは 1 人」「私は食べてない」\n",
    "        self.model.add(self.culprits[\"探偵\"] == 0).only_enforce_if(\n",
    "            self.liars[\"探偵\"].negated()\n",
    "        )\n",
    "        self.model.add(self.culprits[\"探偵\"] == 1).only_enforce_if(\n",
    "            self.liars[\"探偵\"]\n",
    "        )\n",
    "        self.model.add(\n",
    "            sum(self.liars[_s] for _s in self.suspects) == 1\n",
    "        ).only_enforce_if(self.liars[\"探偵\"].negated())\n",
    "        self.model.add(\n",
    "            sum(self.liars[_s] for _s in self.suspects) != 1\n",
    "        ).only_enforce_if(self.liars[\"探偵\"])\n",
    "\n",
    "        # 主人公「私は食べてない」\n",
    "        self.model.add(self.culprits[\"主人公\"] == 0).only_enforce_if(\n",
    "            self.liars[\"主人公\"].negated()\n",
    "        )\n",
    "        self.model.add(self.culprits[\"主人公\"] == 1).only_enforce_if(\n",
    "            self.liars[\"主人公\"]\n",
    "        )\n",
    "\n",
    "        # 追加: 犯人は 1 人\n",
    "        if c_one:\n",
    "            self.model.add_exactly_one(self.culprits.values())\n",
    "        # 追加: ぼくわたチャンネルは面白い\n",
    "        if ex_bokuwata:\n",
    "            self.model.add(self.liars[\"主人公\"] == 0)\n",
    "        # 追加: ぼくわたチャンネルは面白い\n",
    "        if not_ex_bokuwata:\n",
    "            self.model.add(self.liars[\"主人公\"] == 1)\n",
    "\n",
    "    def solve(self):\n",
    "        self.solver = cp_model.CpSolver()\n",
    "        self.solution_printer = VarArraySolutionPrinter(\n",
    "            self.suspects, self.liars, self.culprits\n",
    "        )\n",
    "        self.solver.parameters.enumerate_all_solutions = True\n",
    "        return self.solver.solve(self.model, self.solution_printer)"
   ]
  },
  {
   "cell_type": "code",
   "execution_count": null,
   "id": "PKri",
   "metadata": {},
   "outputs": [],
   "source": [
    "class VarArraySolutionPrinter(cp_model.CpSolverSolutionCallback):\n",
    "    def __init__(self, suspects, liars, culprits):\n",
    "        cp_model.CpSolverSolutionCallback.__init__(self)\n",
    "        self.__suspects = suspects\n",
    "        self.__liars = liars\n",
    "        self.__culprits = culprits\n",
    "        self.__solution_count = 0\n",
    "        self.__dataframe = pl.DataFrame()\n",
    "\n",
    "    def on_solution_callback(self):\n",
    "        self.__solution_count = self.__solution_count + 1\n",
    "        _add = {_s: [] for _s in self.__suspects}\n",
    "        for _s in self.__suspects:\n",
    "            _result_string = \"-\"\n",
    "            if (\n",
    "                self.value(self.__liars[_s]) + self.value(self.__culprits[_s])\n",
    "                > 0\n",
    "            ):\n",
    "                _result_string = \"\"\n",
    "                _result_string += (\n",
    "                    f\"{\"嘘つき\" if self.value(self.__liars[_s]) == 1 else \"\"}\"\n",
    "                )\n",
    "                _result_string += \"/\"\n",
    "                _result_string += (\n",
    "                    f\"{\"有罪\" if self.value(self.__culprits[_s]) == 1 else \"\"}\"\n",
    "                )\n",
    "                _result_string = _result_string.strip(\"/\")\n",
    "            _add[_s].append(_result_string)\n",
    "            # print(f\"{_s}:{_result_string}\", end=\" \")\n",
    "        # print()\n",
    "        self.__dataframe = pl.concat([self.__dataframe, pl.DataFrame(_add)])\n",
    "\n",
    "    @property\n",
    "    def solution_count(self):\n",
    "        return self.__solution_count\n",
    "\n",
    "    @property\n",
    "    def dataframe(self):\n",
    "        return self.__dataframe"
   ]
  },
  {
   "cell_type": "code",
   "execution_count": null,
   "id": "Xref",
   "metadata": {},
   "outputs": [],
   "source": [
    "statuses = {\n",
    "    cp_model.OPTIMAL: \"OPTIMAL\",\n",
    "    cp_model.FEASIBLE: \"FEASIBLE\",\n",
    "    cp_model.INFEASIBLE: \"INFEASIBLE\",\n",
    "    cp_model.MODEL_INVALID: \"MODEL_INVALID\",\n",
    "    cp_model.UNKNOWN: \"UNKNOWN\",\n",
    "}"
   ]
  },
  {
   "cell_type": "code",
   "execution_count": null,
   "id": "SFPL",
   "metadata": {},
   "outputs": [
    {
     "data": {
      "text/html": [
       "<span class=\"markdown prose dark:prose-invert\"><h2 id=\"_1\">計算結果</h2>\n",
       "<ul>\n",
       "<li>Number of solutions found: 65</li>\n",
       "<li>Status = OPTIMAL</li>\n",
       "<li>Time = 0.182579757</li>\n",
       "</ul></span>"
      ]
     },
     "metadata": {},
     "output_type": "display_data"
    }
   ],
   "source": [
    "model = Model()\n",
    "status = model.solve()\n",
    "\n",
    "mo.md(f\"\"\"\n",
    "## 計算結果\n",
    "\n",
    "- Number of solutions found: {model.solution_printer.solution_count}\n",
    "- Status = {statuses[status]}\n",
    "- Time = {model.solver.wall_time}\n",
    "\"\"\")"
   ]
  },
  {
   "cell_type": "code",
   "execution_count": null,
   "id": "BYtC",
   "metadata": {},
   "outputs": [
    {
     "data": {
      "text/html": [
       "<marimo-ui-element object-id='BYtC-0' random-id='f33268fd-e7b4-84cc-ffc3-7fad69e67fbf'><marimo-table data-initial-value='[]' data-label='null' data-data='&quot;[{&#92;&quot;A&#92;&quot;:&#92;&quot;&#92;&#92;u5618&#92;&#92;u3064&#92;&#92;u304d/&#92;&#92;u6709&#92;&#92;u7f6a&#92;&quot;,&#92;&quot;B&#92;&quot;:&#92;&quot;&#92;&#92;u5618&#92;&#92;u3064&#92;&#92;u304d&#92;&quot;,&#92;&quot;C&#92;&quot;:&#92;&quot;-&#92;&quot;,&#92;&quot;D&#92;&quot;:&#92;&quot;&#92;&#92;u5618&#92;&#92;u3064&#92;&#92;u304d&#92;&quot;,&#92;&quot;E&#92;&quot;:&#92;&quot;&#92;&#92;u5618&#92;&#92;u3064&#92;&#92;u304d/&#92;&#92;u6709&#92;&#92;u7f6a&#92;&quot;,&#92;&quot;&#92;&#92;u63a2&#92;&#92;u5075&#92;&quot;:&#92;&quot;&#92;&#92;u5618&#92;&#92;u3064&#92;&#92;u304d/&#92;&#92;u6709&#92;&#92;u7f6a&#92;&quot;,&#92;&quot;&#92;&#92;u4e3b&#92;&#92;u4eba&#92;&#92;u516c&#92;&quot;:&#92;&quot;-&#92;&quot;},{&#92;&quot;A&#92;&quot;:&#92;&quot;&#92;&#92;u5618&#92;&#92;u3064&#92;&#92;u304d/&#92;&#92;u6709&#92;&#92;u7f6a&#92;&quot;,&#92;&quot;B&#92;&quot;:&#92;&quot;-&#92;&quot;,&#92;&quot;C&#92;&quot;:&#92;&quot;-&#92;&quot;,&#92;&quot;D&#92;&quot;:&#92;&quot;&#92;&#92;u5618&#92;&#92;u3064&#92;&#92;u304d&#92;&quot;,&#92;&quot;E&#92;&quot;:&#92;&quot;-&#92;&quot;,&#92;&quot;&#92;&#92;u63a2&#92;&#92;u5075&#92;&quot;:&#92;&quot;&#92;&#92;u5618&#92;&#92;u3064&#92;&#92;u304d/&#92;&#92;u6709&#92;&#92;u7f6a&#92;&quot;,&#92;&quot;&#92;&#92;u4e3b&#92;&#92;u4eba&#92;&#92;u516c&#92;&quot;:&#92;&quot;-&#92;&quot;},{&#92;&quot;A&#92;&quot;:&#92;&quot;&#92;&#92;u5618&#92;&#92;u3064&#92;&#92;u304d/&#92;&#92;u6709&#92;&#92;u7f6a&#92;&quot;,&#92;&quot;B&#92;&quot;:&#92;&quot;-&#92;&quot;,&#92;&quot;C&#92;&quot;:&#92;&quot;-&#92;&quot;,&#92;&quot;D&#92;&quot;:&#92;&quot;&#92;&#92;u5618&#92;&#92;u3064&#92;&#92;u304d&#92;&quot;,&#92;&quot;E&#92;&quot;:&#92;&quot;-&#92;&quot;,&#92;&quot;&#92;&#92;u63a2&#92;&#92;u5075&#92;&quot;:&#92;&quot;&#92;&#92;u5618&#92;&#92;u3064&#92;&#92;u304d/&#92;&#92;u6709&#92;&#92;u7f6a&#92;&quot;,&#92;&quot;&#92;&#92;u4e3b&#92;&#92;u4eba&#92;&#92;u516c&#92;&quot;:&#92;&quot;&#92;&#92;u5618&#92;&#92;u3064&#92;&#92;u304d/&#92;&#92;u6709&#92;&#92;u7f6a&#92;&quot;},{&#92;&quot;A&#92;&quot;:&#92;&quot;&#92;&#92;u5618&#92;&#92;u3064&#92;&#92;u304d/&#92;&#92;u6709&#92;&#92;u7f6a&#92;&quot;,&#92;&quot;B&#92;&quot;:&#92;&quot;&#92;&#92;u5618&#92;&#92;u3064&#92;&#92;u304d&#92;&quot;,&#92;&quot;C&#92;&quot;:&#92;&quot;-&#92;&quot;,&#92;&quot;D&#92;&quot;:&#92;&quot;&#92;&#92;u5618&#92;&#92;u3064&#92;&#92;u304d&#92;&quot;,&#92;&quot;E&#92;&quot;:&#92;&quot;&#92;&#92;u5618&#92;&#92;u3064&#92;&#92;u304d/&#92;&#92;u6709&#92;&#92;u7f6a&#92;&quot;,&#92;&quot;&#92;&#92;u63a2&#92;&#92;u5075&#92;&quot;:&#92;&quot;&#92;&#92;u5618&#92;&#92;u3064&#92;&#92;u304d/&#92;&#92;u6709&#92;&#92;u7f6a&#92;&quot;,&#92;&quot;&#92;&#92;u4e3b&#92;&#92;u4eba&#92;&#92;u516c&#92;&quot;:&#92;&quot;&#92;&#92;u5618&#92;&#92;u3064&#92;&#92;u304d/&#92;&#92;u6709&#92;&#92;u7f6a&#92;&quot;},{&#92;&quot;A&#92;&quot;:&#92;&quot;&#92;&#92;u5618&#92;&#92;u3064&#92;&#92;u304d/&#92;&#92;u6709&#92;&#92;u7f6a&#92;&quot;,&#92;&quot;B&#92;&quot;:&#92;&quot;&#92;&#92;u5618&#92;&#92;u3064&#92;&#92;u304d/&#92;&#92;u6709&#92;&#92;u7f6a&#92;&quot;,&#92;&quot;C&#92;&quot;:&#92;&quot;&#92;&#92;u5618&#92;&#92;u3064&#92;&#92;u304d&#92;&quot;,&#92;&quot;D&#92;&quot;:&#92;&quot;&#92;&#92;u5618&#92;&#92;u3064&#92;&#92;u304d&#92;&quot;,&#92;&quot;E&#92;&quot;:&#92;&quot;&#92;&#92;u5618&#92;&#92;u3064&#92;&#92;u304d/&#92;&#92;u6709&#92;&#92;u7f6a&#92;&quot;,&#92;&quot;&#92;&#92;u63a2&#92;&#92;u5075&#92;&quot;:&#92;&quot;&#92;&#92;u5618&#92;&#92;u3064&#92;&#92;u304d/&#92;&#92;u6709&#92;&#92;u7f6a&#92;&quot;,&#92;&quot;&#92;&#92;u4e3b&#92;&#92;u4eba&#92;&#92;u516c&#92;&quot;:&#92;&quot;&#92;&#92;u5618&#92;&#92;u3064&#92;&#92;u304d/&#92;&#92;u6709&#92;&#92;u7f6a&#92;&quot;},{&#92;&quot;A&#92;&quot;:&#92;&quot;&#92;&#92;u5618&#92;&#92;u3064&#92;&#92;u304d/&#92;&#92;u6709&#92;&#92;u7f6a&#92;&quot;,&#92;&quot;B&#92;&quot;:&#92;&quot;&#92;&#92;u6709&#92;&#92;u7f6a&#92;&quot;,&#92;&quot;C&#92;&quot;:&#92;&quot;&#92;&#92;u5618&#92;&#92;u3064&#92;&#92;u304d&#92;&quot;,&#92;&quot;D&#92;&quot;:&#92;&quot;&#92;&#92;u5618&#92;&#92;u3064&#92;&#92;u304d&#92;&quot;,&#92;&quot;E&#92;&quot;:&#92;&quot;-&#92;&quot;,&#92;&quot;&#92;&#92;u63a2&#92;&#92;u5075&#92;&quot;:&#92;&quot;&#92;&#92;u5618&#92;&#92;u3064&#92;&#92;u304d/&#92;&#92;u6709&#92;&#92;u7f6a&#92;&quot;,&#92;&quot;&#92;&#92;u4e3b&#92;&#92;u4eba&#92;&#92;u516c&#92;&quot;:&#92;&quot;&#92;&#92;u5618&#92;&#92;u3064&#92;&#92;u304d/&#92;&#92;u6709&#92;&#92;u7f6a&#92;&quot;},{&#92;&quot;A&#92;&quot;:&#92;&quot;&#92;&#92;u5618&#92;&#92;u3064&#92;&#92;u304d/&#92;&#92;u6709&#92;&#92;u7f6a&#92;&quot;,&#92;&quot;B&#92;&quot;:&#92;&quot;&#92;&#92;u6709&#92;&#92;u7f6a&#92;&quot;,&#92;&quot;C&#92;&quot;:&#92;&quot;&#92;&#92;u5618&#92;&#92;u3064&#92;&#92;u304d&#92;&quot;,&#92;&quot;D&#92;&quot;:&#92;&quot;&#92;&#92;u5618&#92;&#92;u3064&#92;&#92;u304d&#92;&quot;,&#92;&quot;E&#92;&quot;:&#92;&quot;-&#92;&quot;,&#92;&quot;&#92;&#92;u63a2&#92;&#92;u5075&#92;&quot;:&#92;&quot;&#92;&#92;u5618&#92;&#92;u3064&#92;&#92;u304d/&#92;&#92;u6709&#92;&#92;u7f6a&#92;&quot;,&#92;&quot;&#92;&#92;u4e3b&#92;&#92;u4eba&#92;&#92;u516c&#92;&quot;:&#92;&quot;-&#92;&quot;},{&#92;&quot;A&#92;&quot;:&#92;&quot;&#92;&#92;u5618&#92;&#92;u3064&#92;&#92;u304d/&#92;&#92;u6709&#92;&#92;u7f6a&#92;&quot;,&#92;&quot;B&#92;&quot;:&#92;&quot;&#92;&#92;u5618&#92;&#92;u3064&#92;&#92;u304d/&#92;&#92;u6709&#92;&#92;u7f6a&#92;&quot;,&#92;&quot;C&#92;&quot;:&#92;&quot;&#92;&#92;u5618&#92;&#92;u3064&#92;&#92;u304d&#92;&quot;,&#92;&quot;D&#92;&quot;:&#92;&quot;&#92;&#92;u5618&#92;&#92;u3064&#92;&#92;u304d&#92;&quot;,&#92;&quot;E&#92;&quot;:&#92;&quot;&#92;&#92;u5618&#92;&#92;u3064&#92;&#92;u304d/&#92;&#92;u6709&#92;&#92;u7f6a&#92;&quot;,&#92;&quot;&#92;&#92;u63a2&#92;&#92;u5075&#92;&quot;:&#92;&quot;&#92;&#92;u5618&#92;&#92;u3064&#92;&#92;u304d/&#92;&#92;u6709&#92;&#92;u7f6a&#92;&quot;,&#92;&quot;&#92;&#92;u4e3b&#92;&#92;u4eba&#92;&#92;u516c&#92;&quot;:&#92;&quot;-&#92;&quot;},{&#92;&quot;A&#92;&quot;:&#92;&quot;&#92;&#92;u5618&#92;&#92;u3064&#92;&#92;u304d/&#92;&#92;u6709&#92;&#92;u7f6a&#92;&quot;,&#92;&quot;B&#92;&quot;:&#92;&quot;&#92;&#92;u5618&#92;&#92;u3064&#92;&#92;u304d/&#92;&#92;u6709&#92;&#92;u7f6a&#92;&quot;,&#92;&quot;C&#92;&quot;:&#92;&quot;&#92;&#92;u5618&#92;&#92;u3064&#92;&#92;u304d/&#92;&#92;u6709&#92;&#92;u7f6a&#92;&quot;,&#92;&quot;D&#92;&quot;:&#92;&quot;&#92;&#92;u5618&#92;&#92;u3064&#92;&#92;u304d&#92;&quot;,&#92;&quot;E&#92;&quot;:&#92;&quot;&#92;&#92;u5618&#92;&#92;u3064&#92;&#92;u304d/&#92;&#92;u6709&#92;&#92;u7f6a&#92;&quot;,&#92;&quot;&#92;&#92;u63a2&#92;&#92;u5075&#92;&quot;:&#92;&quot;&#92;&#92;u5618&#92;&#92;u3064&#92;&#92;u304d/&#92;&#92;u6709&#92;&#92;u7f6a&#92;&quot;,&#92;&quot;&#92;&#92;u4e3b&#92;&#92;u4eba&#92;&#92;u516c&#92;&quot;:&#92;&quot;-&#92;&quot;},{&#92;&quot;A&#92;&quot;:&#92;&quot;&#92;&#92;u5618&#92;&#92;u3064&#92;&#92;u304d/&#92;&#92;u6709&#92;&#92;u7f6a&#92;&quot;,&#92;&quot;B&#92;&quot;:&#92;&quot;&#92;&#92;u6709&#92;&#92;u7f6a&#92;&quot;,&#92;&quot;C&#92;&quot;:&#92;&quot;&#92;&#92;u5618&#92;&#92;u3064&#92;&#92;u304d/&#92;&#92;u6709&#92;&#92;u7f6a&#92;&quot;,&#92;&quot;D&#92;&quot;:&#92;&quot;&#92;&#92;u5618&#92;&#92;u3064&#92;&#92;u304d&#92;&quot;,&#92;&quot;E&#92;&quot;:&#92;&quot;-&#92;&quot;,&#92;&quot;&#92;&#92;u63a2&#92;&#92;u5075&#92;&quot;:&#92;&quot;&#92;&#92;u5618&#92;&#92;u3064&#92;&#92;u304d/&#92;&#92;u6709&#92;&#92;u7f6a&#92;&quot;,&#92;&quot;&#92;&#92;u4e3b&#92;&#92;u4eba&#92;&#92;u516c&#92;&quot;:&#92;&quot;-&#92;&quot;}]&quot;' data-total-rows='65' data-total-columns='7' data-max-columns='50' data-banner-text='&quot;&quot;' data-pagination='true' data-page-size='10' data-field-types='[[&quot;A&quot;, [&quot;string&quot;, &quot;str&quot;]], [&quot;B&quot;, [&quot;string&quot;, &quot;str&quot;]], [&quot;C&quot;, [&quot;string&quot;, &quot;str&quot;]], [&quot;D&quot;, [&quot;string&quot;, &quot;str&quot;]], [&quot;E&quot;, [&quot;string&quot;, &quot;str&quot;]], [&quot;&#92;u63a2&#92;u5075&quot;, [&quot;string&quot;, &quot;str&quot;]], [&quot;&#92;u4e3b&#92;u4eba&#92;u516c&quot;, [&quot;string&quot;, &quot;str&quot;]]]' data-show-filters='true' data-show-download='true' data-show-column-summaries='true' data-show-data-types='true' data-show-page-size-selector='true' data-show-column-explorer='true' data-show-chart-builder='true' data-row-headers='[]' data-has-stable-row-id='false' data-lazy='false' data-preload='false'></marimo-table></marimo-ui-element>"
      ]
     },
     "metadata": {},
     "output_type": "display_data"
    }
   ],
   "source": [
    "model.solution_printer.dataframe"
   ]
  },
  {
   "cell_type": "code",
   "execution_count": null,
   "id": "RGSE",
   "metadata": {
    "marimo": {
     "config": {
      "hide_code": true
     }
    }
   },
   "outputs": [
    {
     "data": {
      "text/html": [
       "<div style='display: flex;flex: 1;flex-direction: row;justify-content: space-between;align-items: normal;flex-wrap: nowrap;gap: 0.5rem'><span class=\"markdown prose dark:prose-invert\"><h2 id=\"_1\">追加条件</h2></span><marimo-ui-element object-id='RGSE-0' random-id='b2e011ee-1ae8-14f1-25ca-dfe19b06a697'><marimo-switch data-initial-value='true' data-label='&quot;&lt;span class=&#92;&quot;markdown prose dark:prose-invert&#92;&quot;&gt;&lt;span class=&#92;&quot;paragraph&#92;&quot;&gt;&#92;u72af&#92;u4eba&#92;u306f 1 &#92;u4eba&#92;u3068&#92;u3059&#92;u308b&lt;/span&gt;&lt;/span&gt;&quot;' data-disabled='false'></marimo-switch></marimo-ui-element><marimo-ui-element object-id='RGSE-1' random-id='170e9c96-d579-ed46-667c-c001a1741be5'><marimo-switch data-initial-value='false' data-label='&quot;&lt;span class=&#92;&quot;markdown prose dark:prose-invert&#92;&quot;&gt;&lt;span class=&#92;&quot;paragraph&#92;&quot;&gt;&#92;u307c&#92;u304f&#92;u308f&#92;u305f&#92;u30c1&#92;u30e3&#92;u30f3&#92;u30cd&#92;u30eb&#92;u306f&#92;u9762&#92;u767d&#92;u3044&lt;/span&gt;&lt;/span&gt;&quot;' data-disabled='false'></marimo-switch></marimo-ui-element><marimo-ui-element object-id='RGSE-2' random-id='f8539a6f-ca4f-24ea-ac7a-c598e580c3b8'><marimo-switch data-initial-value='false' data-label='&quot;&lt;span class=&#92;&quot;markdown prose dark:prose-invert&#92;&quot;&gt;&lt;span class=&#92;&quot;paragraph&#92;&quot;&gt;&#92;u307c&#92;u304f&#92;u308f&#92;u305f&#92;u30c1&#92;u30e3&#92;u30f3&#92;u30cd&#92;u30eb&#92;u306f&#92;u9762&#92;u767d&#92;u304f&#92;u306a&#92;u3044&lt;/span&gt;&lt;/span&gt;&quot;' data-disabled='false'></marimo-switch></marimo-ui-element></div>"
      ]
     },
     "metadata": {},
     "output_type": "display_data"
    }
   ],
   "source": [
    "switch_c_one = mo.ui.switch(label=\"犯人は 1 人とする\", value=True)\n",
    "switch_exciting_bokuwata = mo.ui.switch(\n",
    "    label=\"ぼくわたチャンネルは面白い\"\n",
    ")\n",
    "switch_not_exciting_bokuwata = mo.ui.switch(\n",
    "    label=\"ぼくわたチャンネルは面白くない\"\n",
    ")\n",
    "\n",
    "mo.hstack(\n",
    "    [\n",
    "        mo.md(\"## 追加条件\"),\n",
    "        switch_c_one,\n",
    "        switch_exciting_bokuwata,\n",
    "        switch_not_exciting_bokuwata,\n",
    "    ]\n",
    ")"
   ]
  },
  {
   "cell_type": "code",
   "execution_count": null,
   "id": "Kclp",
   "metadata": {},
   "outputs": [
    {
     "data": {
      "text/html": [
       "<span class=\"markdown prose dark:prose-invert\"><h2 id=\"_1\">計算結果</h2>\n",
       "<ul>\n",
       "<li>Number of solutions found: 2</li>\n",
       "<li>Status = OPTIMAL</li>\n",
       "<li>Time = 0.003114728</li>\n",
       "</ul></span>"
      ]
     },
     "metadata": {},
     "output_type": "display_data"
    }
   ],
   "source": [
    "model2 = Model(\n",
    "    switch_c_one.value,\n",
    "    switch_exciting_bokuwata.value,\n",
    "    switch_not_exciting_bokuwata.value,\n",
    ")\n",
    "status2 = model2.solve()\n",
    "\n",
    "mo.md(f\"\"\"\n",
    "## 計算結果\n",
    "\n",
    "- Number of solutions found: {model2.solution_printer.solution_count}\n",
    "- Status = {statuses[status2]}\n",
    "- Time = {model2.solver.wall_time}\n",
    "\"\"\")"
   ]
  },
  {
   "cell_type": "code",
   "execution_count": null,
   "id": "emfo",
   "metadata": {},
   "outputs": [
    {
     "data": {
      "text/html": [
       "<marimo-ui-element object-id='emfo-0' random-id='e8b77185-5b84-6b5a-a73e-fd596ddc780c'><marimo-table data-initial-value='[]' data-label='null' data-data='&quot;[{&#92;&quot;A&#92;&quot;:&#92;&quot;-&#92;&quot;,&#92;&quot;B&#92;&quot;:&#92;&quot;-&#92;&quot;,&#92;&quot;C&#92;&quot;:&#92;&quot;-&#92;&quot;,&#92;&quot;D&#92;&quot;:&#92;&quot;-&#92;&quot;,&#92;&quot;E&#92;&quot;:&#92;&quot;-&#92;&quot;,&#92;&quot;&#92;&#92;u63a2&#92;&#92;u5075&#92;&quot;:&#92;&quot;-&#92;&quot;,&#92;&quot;&#92;&#92;u4e3b&#92;&#92;u4eba&#92;&#92;u516c&#92;&quot;:&#92;&quot;&#92;&#92;u5618&#92;&#92;u3064&#92;&#92;u304d/&#92;&#92;u6709&#92;&#92;u7f6a&#92;&quot;},{&#92;&quot;A&#92;&quot;:&#92;&quot;-&#92;&quot;,&#92;&quot;B&#92;&quot;:&#92;&quot;&#92;&#92;u6709&#92;&#92;u7f6a&#92;&quot;,&#92;&quot;C&#92;&quot;:&#92;&quot;&#92;&#92;u5618&#92;&#92;u3064&#92;&#92;u304d&#92;&quot;,&#92;&quot;D&#92;&quot;:&#92;&quot;-&#92;&quot;,&#92;&quot;E&#92;&quot;:&#92;&quot;-&#92;&quot;,&#92;&quot;&#92;&#92;u63a2&#92;&#92;u5075&#92;&quot;:&#92;&quot;-&#92;&quot;,&#92;&quot;&#92;&#92;u4e3b&#92;&#92;u4eba&#92;&#92;u516c&#92;&quot;:&#92;&quot;-&#92;&quot;}]&quot;' data-total-rows='2' data-total-columns='7' data-max-columns='50' data-banner-text='&quot;&quot;' data-pagination='true' data-page-size='10' data-field-types='[[&quot;A&quot;, [&quot;string&quot;, &quot;str&quot;]], [&quot;B&quot;, [&quot;string&quot;, &quot;str&quot;]], [&quot;C&quot;, [&quot;string&quot;, &quot;str&quot;]], [&quot;D&quot;, [&quot;string&quot;, &quot;str&quot;]], [&quot;E&quot;, [&quot;string&quot;, &quot;str&quot;]], [&quot;&#92;u63a2&#92;u5075&quot;, [&quot;string&quot;, &quot;str&quot;]], [&quot;&#92;u4e3b&#92;u4eba&#92;u516c&quot;, [&quot;string&quot;, &quot;str&quot;]]]' data-show-filters='true' data-show-download='true' data-show-column-summaries='false' data-show-data-types='true' data-show-page-size-selector='false' data-show-column-explorer='true' data-show-chart-builder='true' data-row-headers='[]' data-has-stable-row-id='false' data-lazy='false' data-preload='false'></marimo-table></marimo-ui-element>"
      ]
     },
     "metadata": {},
     "output_type": "display_data"
    }
   ],
   "source": [
    "model2.solution_printer.dataframe"
   ]
  },
  {
   "cell_type": "markdown",
   "id": "Hstk",
   "metadata": {
    "marimo": {
     "config": {
      "hide_code": true
     }
    }
   },
   "source": [
    "## 人力で解く方法\n",
    "\n",
    "犯人は 1 人だけとする.\n",
    "\n",
    "B を嘘つきと仮定すると E はプリンを食べたことになる.\n",
    "E は自分は食べてないと主張しているので嘘つきになる.\n",
    "B も E も嘘つきであるため嘘つきは 1 人だけと主張する探偵も嘘つきになり, 探偵も犯人になる. 犯人は 1 人のため矛盾.\n",
    "よって B は正直者. E は犯人ではない.\n",
    "\n",
    "E を嘘つきとする. このとき D か E のどちらか一方はプリンを食べたことになる.\n",
    "上の結果より E は食べていないので D が犯人となる.\n",
    "A は A も D もプリンを食べていないと主張しているため嘘つきとなる.\n",
    "E も A も嘘つきとなり, 探偵も嘘つきとなることから探偵も犯人となるが, D と探偵が犯人となるため矛盾.\n",
    "よって E は正直者. 特に D は犯人ではない.\n",
    "\n",
    "A を嘘つきとする. このとき A と D のどちらか一方はプリンを食べたことになる.\n",
    "上の結果より D は食べていないので A が犯人となる.\n",
    "このとき A も C もプリンを食べていないと主張する D も嘘つきとなる.\n",
    "そして嘘つきが 1 人であると主張する探偵も嘘つきになり, 探偵も犯人となり矛盾する.\n",
    "よって A は正直者. 特に A は犯人ではない.\n",
    "\n",
    "D を嘘つきとする. このとき A と C のどちらか一方はプリンを食べたことになる.\n",
    "上の結果より A は犯人ではないので C が犯人である.\n",
    "C 自身も C が犯人でないと主張しているため, C も嘘つきとなる.\n",
    "嘘つきが 2 人以上いるので探偵も嘘つきとなり, 探偵も犯人となり, 矛盾する.\n",
    "よって D は正直者. 特に C は犯人ではない.\n",
    "\n",
    "探偵を嘘つきとする.\n",
    "このとき探偵が犯人であり, 嘘つきは 2 人以上存在する.\n",
    "主人公が嘘つきだとすると 2 人目の犯人になってしまうため, 2 人目の嘘つきは C となる.\n",
    "C が嘘つきのため C と B のどちらかは犯人であるが, 2 人目の犯人になってしまうため矛盾.\n",
    "よって探偵は正直者. 特に探偵は犯人ではない.\n",
    "\n",
    "ここまでで確定していないのは\n",
    "\n",
    "- C が嘘つきか正直者か\n",
    "- B が犯人かどうか\n",
    "- 主人公が嘘つきかどうか\n",
    "- 主人公が犯人かどうか\n",
    "\n",
    "で C と主人公以外は全員正直者で確定しており,\n",
    "B と主人公以外は犯人でないことが確定している.\n",
    "\n",
    "残りの問題については\n",
    "\n",
    "- 主人公が嘘つき ⇔ 主人公が犯人\n",
    "- C が嘘つき ⇔ B が犯人\n",
    "\n",
    "で, 探偵が正直者であり, 嘘つきが 1 人しかいないことから\n",
    "\n",
    "| ケース | 主人公 | B | C |\n",
    "| :--- | ---: | ---: | ---: |\n",
    "| ケース 1 | 嘘つき/犯人| - | - |\n",
    "| ケース 2 | - | 犯人 | 嘘つき |\n",
    "\n",
    "の 2 通りしかない.\n",
    "\n",
    "どちらになるかは, ぼくわたチャンネルが面白いかどうかに依存し,\n",
    "\n",
    "- ぼくわたチャンネルが面白い場合, 主人公は正直者で無実のケース 2\n",
    "- ぼくわたチャンネルが面白くない場合, 主人公は嘘つきで犯人のケース 1\n",
    "\n",
    "となる."
   ]
  },
  {
   "cell_type": "code",
   "execution_count": null,
   "id": "nWHF",
   "metadata": {},
   "outputs": [],
   "source": []
  }
 ],
 "metadata": {},
 "nbformat": 4,
 "nbformat_minor": 5
}
