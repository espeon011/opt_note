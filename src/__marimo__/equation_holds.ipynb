{
 "cells": [
  {
   "cell_type": "code",
   "execution_count": null,
   "id": "Hbol",
   "metadata": {},
   "outputs": [],
   "source": [
    "import marimo as mo"
   ]
  },
  {
   "cell_type": "code",
   "execution_count": null,
   "id": "MJUe",
   "metadata": {},
   "outputs": [],
   "source": [
    "from ortools.sat.python import cp_model"
   ]
  },
  {
   "cell_type": "markdown",
   "id": "vblA",
   "metadata": {
    "marimo": {
     "config": {
      "hide_code": true
     }
    }
   },
   "source": [
    "# 方程式が成立するかどうかを表す Bool 変数"
   ]
  },
  {
   "cell_type": "markdown",
   "id": "bkHC",
   "metadata": {
    "marimo": {
     "config": {
      "hide_code": true
     }
    }
   },
   "source": [
    "$x$ を 0-1 決定変数, $a, b$ を整数決定変数として\n",
    "\n",
    "$$\n",
    "x = 1 \\iff a = b\n",
    "$$\n",
    "\n",
    "を実現する制約条件を考えたい.\n",
    "まずは不等式の場合から考える."
   ]
  },
  {
   "cell_type": "markdown",
   "id": "lEQa",
   "metadata": {
    "marimo": {
     "config": {
      "hide_code": true
     }
    }
   },
   "source": [
    "## 不等式の場合"
   ]
  },
  {
   "cell_type": "markdown",
   "id": "PKri",
   "metadata": {
    "marimo": {
     "config": {
      "hide_code": true
     }
    }
   },
   "source": [
    "$x$ を 0-1 決定変数, $a, b$ を整数決定変数として\n",
    "\n",
    "$$\n",
    "x = 1 \\iff a \\leq b\n",
    "$$\n",
    "\n",
    "を実現する制約は big-M 法を使えば次のように線形に書ける.\n",
    "\n",
    "\\begin{align*}\n",
    "a &\\leq b + M (1 - x) \\\\\n",
    "a - 1 &\\geq b - M x\n",
    "\\end{align*}"
   ]
  },
  {
   "cell_type": "code",
   "execution_count": null,
   "id": "Xref",
   "metadata": {},
   "outputs": [],
   "source": [
    "class VarArraySolutionPrinter(cp_model.CpSolverSolutionCallback):\n",
    "    def __init__(self, variables):\n",
    "        cp_model.CpSolverSolutionCallback.__init__(self)\n",
    "        self.__variables = variables\n",
    "        self.__solution_count = 0\n",
    "\n",
    "    def on_solution_callback(self):\n",
    "        self.__solution_count = self.__solution_count + 1\n",
    "        for v in self.__variables:\n",
    "            print(f'{v}={self.value(v)}', end=' ')\n",
    "        print()\n",
    "\n",
    "    @property\n",
    "    def solution_count(self):\n",
    "        return self.__solution_count"
   ]
  },
  {
   "cell_type": "code",
   "execution_count": null,
   "id": "SFPL",
   "metadata": {},
   "outputs": [
    {
     "name": "stdout",
     "output_type": "stream",
     "text": [
      "(a<=b)=0 a=2 b=1 \n",
      "(a<=b)=0 a=3 b=1 \n",
      "(a<=b)=0 a=4 b=1 \n",
      "(a<=b)=0 a=4 b=2 \n",
      "(a<=b)=0 a=3 b=2 \n",
      "(a<=b)=0 a=5 b=2 \n",
      "(a<=b)=0 a=5 b=1 \n",
      "(a<=b)=0 a=5 b=3 \n",
      "(a<=b)=0 a=4 b=3 \n",
      "(a<=b)=0 a=5 b=4 \n",
      "(a<=b)=1 a=5 b=5 \n",
      "(a<=b)=1 a=4 b=4 \n",
      "(a<=b)=1 a=3 b=4 \n",
      "(a<=b)=1 a=3 b=3 \n",
      "(a<=b)=1 a=3 b=5 \n",
      "(a<=b)=1 a=4 b=5 \n",
      "(a<=b)=1 a=1 b=5 \n",
      "(a<=b)=1 a=1 b=4 \n",
      "(a<=b)=1 a=1 b=3 \n",
      "(a<=b)=1 a=1 b=2 \n",
      "(a<=b)=1 a=2 b=2 \n",
      "(a<=b)=1 a=2 b=3 \n",
      "(a<=b)=1 a=2 b=4 \n",
      "(a<=b)=1 a=2 b=5 \n",
      "(a<=b)=1 a=1 b=1 \n"
     ]
    }
   ],
   "source": [
    "_lb_a, _ub_a = (1, 5)\n",
    "_lb_b, _ub_b = (1, 5)\n",
    "_model = cp_model.CpModel()\n",
    "x = _model.new_bool_var('(a<=b)')\n",
    "a = _model.new_int_var(_lb_a, _ub_a, 'a')\n",
    "b = _model.new_int_var(_lb_b, _ub_b, 'b')\n",
    "_big_m = _ub_b - _lb_a + 1\n",
    "_model.add(a <= b + _big_m * (1 - x))\n",
    "_model.add(a - 1 >= b - _big_m * x)\n",
    "\n",
    "_solver = cp_model.CpSolver()\n",
    "_solution_printer = VarArraySolutionPrinter([x, a, b])\n",
    "_solver.parameters.enumerate_all_solutions = True\n",
    "_status = _solver.solve(_model, _solution_printer)"
   ]
  },
  {
   "cell_type": "markdown",
   "id": "BYtC",
   "metadata": {
    "marimo": {
     "config": {
      "hide_code": true
     }
    }
   },
   "source": [
    "## 方程式の場合"
   ]
  },
  {
   "cell_type": "markdown",
   "id": "RGSE",
   "metadata": {
    "marimo": {
     "config": {
      "hide_code": true
     }
    }
   },
   "source": [
    "big-M 法を用いれば方程式の場合も線形に表すことができる.\n",
    "\n",
    "- $x = 1 \\iff a \\leq b$ を表す制約\n",
    "  - $a \\leq b + M (1 - x)$\n",
    "  - $a - 1 \\geq b - M x$\n",
    "- $y = 1 \\iff a \\geq b$ を表す制約\n",
    "  - $b \\leq a + M (1 - y)$\n",
    "  - $b - 1 \\geq a - M y$\n",
    "- $z = x \\land y$ を表す制約\n",
    "  - $z + 1 \\geq x + y$\n",
    "  - $2 z \\leq x + y$\n",
    "\n",
    "これで\n",
    "$z = 1 \\iff a = b$\n",
    "となる."
   ]
  },
  {
   "cell_type": "code",
   "execution_count": null,
   "id": "Kclp",
   "metadata": {},
   "outputs": [
    {
     "name": "stdout",
     "output_type": "stream",
     "text": [
      "(a==b)=0 (a<=b)=1 (a>=b)=0 a=1 b=2 \n",
      "(a==b)=1 (a<=b)=1 (a>=b)=1 a=1 b=1 \n",
      "(a==b)=1 (a<=b)=1 (a>=b)=1 a=2 b=2 \n",
      "(a==b)=1 (a<=b)=1 (a>=b)=1 a=3 b=3 \n",
      "(a==b)=0 (a<=b)=1 (a>=b)=0 a=2 b=3 \n",
      "(a==b)=0 (a<=b)=1 (a>=b)=0 a=1 b=3 \n",
      "(a==b)=0 (a<=b)=1 (a>=b)=0 a=1 b=4 \n",
      "(a==b)=0 (a<=b)=1 (a>=b)=0 a=1 b=5 \n",
      "(a==b)=0 (a<=b)=1 (a>=b)=0 a=2 b=5 \n",
      "(a==b)=0 (a<=b)=1 (a>=b)=0 a=2 b=4 \n",
      "(a==b)=0 (a<=b)=1 (a>=b)=0 a=3 b=4 \n",
      "(a==b)=0 (a<=b)=1 (a>=b)=0 a=3 b=5 \n",
      "(a==b)=0 (a<=b)=1 (a>=b)=0 a=4 b=5 \n",
      "(a==b)=1 (a<=b)=1 (a>=b)=1 a=5 b=5 \n",
      "(a==b)=1 (a<=b)=1 (a>=b)=1 a=4 b=4 \n",
      "(a==b)=0 (a<=b)=0 (a>=b)=1 a=5 b=4 \n",
      "(a==b)=0 (a<=b)=0 (a>=b)=1 a=4 b=3 \n",
      "(a==b)=0 (a<=b)=0 (a>=b)=1 a=5 b=3 \n",
      "(a==b)=0 (a<=b)=0 (a>=b)=1 a=5 b=1 \n",
      "(a==b)=0 (a<=b)=0 (a>=b)=1 a=5 b=2 \n",
      "(a==b)=0 (a<=b)=0 (a>=b)=1 a=4 b=2 \n",
      "(a==b)=0 (a<=b)=0 (a>=b)=1 a=4 b=1 \n",
      "(a==b)=0 (a<=b)=0 (a>=b)=1 a=3 b=1 \n",
      "(a==b)=0 (a<=b)=0 (a>=b)=1 a=3 b=2 \n",
      "(a==b)=0 (a<=b)=0 (a>=b)=1 a=2 b=1 \n"
     ]
    }
   ],
   "source": [
    "_lb_a, _ub_a = (1, 5)\n",
    "_lb_b, _ub_b = (1, 5)\n",
    "_model = cp_model.CpModel()\n",
    "_x = _model.new_bool_var('(a<=b)')\n",
    "_y = _model.new_bool_var('(a>=b)')\n",
    "_z = _model.new_bool_var('(a==b)')\n",
    "_a = _model.new_int_var(_lb_a, _ub_a, 'a')\n",
    "_b = _model.new_int_var(_lb_b, _ub_b, 'b')\n",
    "_big_m = max(_ub_a - _lb_b + 1, _ub_b - _lb_a + 1)\n",
    "_model.add(_a <= _b + _big_m * (1 - _x))\n",
    "_model.add(_a - 1 >= _b - _big_m * _x)\n",
    "_model.add(_b <= _a + _big_m * (1 - _y))\n",
    "_model.add(_b - 1 >= _a - _big_m * _y)\n",
    "_model.add(_z + 1 >= _x + _y)\n",
    "_model.add(2 * _z <= _x + _y)\n",
    "\n",
    "_solver = cp_model.CpSolver()\n",
    "_solution_printer = VarArraySolutionPrinter([_z, _x, _y, _a, _b])\n",
    "_solver.parameters.enumerate_all_solutions = True\n",
    "_status = _solver.solve(_model, _solution_printer)"
   ]
  },
  {
   "cell_type": "markdown",
   "id": "emfo",
   "metadata": {
    "marimo": {
     "config": {
      "hide_code": true
     }
    }
   },
   "source": [
    "## `only_enforce_if()` の利用"
   ]
  },
  {
   "cell_type": "markdown",
   "id": "Hstk",
   "metadata": {
    "marimo": {
     "config": {
      "hide_code": true
     }
    }
   },
   "source": [
    "Google OR-Tools には `only_enforce_if()` 関数があり,\n",
    "特定の Bool 変数が `True` のときのみ制約を ON にすることができる."
   ]
  },
  {
   "cell_type": "markdown",
   "id": "nWHF",
   "metadata": {
    "marimo": {
     "config": {
      "hide_code": true
     }
    }
   },
   "source": [
    "### 同値でなくてもよい場合"
   ]
  },
  {
   "cell_type": "markdown",
   "id": "iLit",
   "metadata": {
    "marimo": {
     "config": {
      "hide_code": true
     }
    }
   },
   "source": [
    "下記を直接制約に加える.\n",
    "\n",
    "$$\n",
    "x = 1 \\Longrightarrow a = b\n",
    "$$"
   ]
  },
  {
   "cell_type": "code",
   "execution_count": null,
   "id": "ZHCJ",
   "metadata": {},
   "outputs": [
    {
     "name": "stdout",
     "output_type": "stream",
     "text": [
      "(a==b)=0 a=1 b=1 \n",
      "(a==b)=0 a=2 b=1 \n",
      "(a==b)=0 a=2 b=2 \n",
      "(a==b)=0 a=1 b=2 \n",
      "(a==b)=0 a=3 b=2 \n",
      "(a==b)=0 a=3 b=1 \n",
      "(a==b)=0 a=3 b=3 \n",
      "(a==b)=0 a=2 b=3 \n",
      "(a==b)=0 a=1 b=3 \n",
      "(a==b)=0 a=4 b=3 \n",
      "(a==b)=0 a=4 b=2 \n",
      "(a==b)=0 a=4 b=1 \n",
      "(a==b)=0 a=4 b=4 \n",
      "(a==b)=0 a=3 b=4 \n",
      "(a==b)=0 a=2 b=4 \n",
      "(a==b)=0 a=1 b=4 \n",
      "(a==b)=0 a=5 b=4 \n",
      "(a==b)=0 a=5 b=3 \n",
      "(a==b)=0 a=5 b=2 \n",
      "(a==b)=0 a=5 b=1 \n",
      "(a==b)=0 a=5 b=5 \n",
      "(a==b)=0 a=4 b=5 \n",
      "(a==b)=0 a=3 b=5 \n",
      "(a==b)=0 a=2 b=5 \n",
      "(a==b)=0 a=1 b=5 \n",
      "(a==b)=1 a=1 b=1 \n",
      "(a==b)=1 a=2 b=2 \n",
      "(a==b)=1 a=3 b=3 \n",
      "(a==b)=1 a=4 b=4 \n",
      "(a==b)=1 a=5 b=5 \n"
     ]
    }
   ],
   "source": [
    "_lb_a, _ub_a = (1, 5)\n",
    "_lb_b, _ub_b = (1, 5)\n",
    "_model = cp_model.CpModel()\n",
    "_x = _model.new_bool_var('(a==b)')\n",
    "_a = _model.new_int_var(_lb_a, _ub_a, 'a')\n",
    "_b = _model.new_int_var(_lb_b, _ub_b, 'b')\n",
    "_model.add(_a == _b).only_enforce_if(_x)\n",
    "\n",
    "_solver = cp_model.CpSolver()\n",
    "_solution_printer = VarArraySolutionPrinter([_x, _a, _b])\n",
    "_solver.parameters.enumerate_all_solutions = True\n",
    "_status = _solver.solve(_model, _solution_printer)"
   ]
  },
  {
   "cell_type": "markdown",
   "id": "ROlb",
   "metadata": {
    "marimo": {
     "config": {
      "hide_code": true
     }
    }
   },
   "source": [
    "### 同値にしたい場合"
   ]
  },
  {
   "cell_type": "markdown",
   "id": "qnkX",
   "metadata": {
    "marimo": {
     "config": {
      "hide_code": true
     }
    }
   },
   "source": [
    "上記の\n",
    "\n",
    "$$\n",
    "x = 1 \\Longrightarrow a = b\n",
    "$$\n",
    "\n",
    "に加えてその裏を制約に入れることで同値にできる:\n",
    "\n",
    "$$\n",
    "x = 0 \\Longrightarrow a \\ne b\n",
    "$$"
   ]
  },
  {
   "cell_type": "code",
   "execution_count": null,
   "id": "TqIu",
   "metadata": {},
   "outputs": [
    {
     "name": "stdout",
     "output_type": "stream",
     "text": [
      "(a==b)=0 a=1 b=2 \n",
      "(a==b)=0 a=2 b=1 \n",
      "(a==b)=0 a=3 b=1 \n",
      "(a==b)=0 a=4 b=1 \n",
      "(a==b)=0 a=4 b=2 \n",
      "(a==b)=0 a=3 b=2 \n",
      "(a==b)=0 a=5 b=2 \n",
      "(a==b)=0 a=5 b=1 \n",
      "(a==b)=0 a=5 b=3 \n",
      "(a==b)=0 a=4 b=3 \n",
      "(a==b)=0 a=5 b=4 \n",
      "(a==b)=0 a=4 b=5 \n",
      "(a==b)=0 a=3 b=4 \n",
      "(a==b)=0 a=3 b=5 \n",
      "(a==b)=0 a=2 b=5 \n",
      "(a==b)=0 a=2 b=4 \n",
      "(a==b)=0 a=2 b=3 \n",
      "(a==b)=0 a=1 b=3 \n",
      "(a==b)=0 a=1 b=4 \n",
      "(a==b)=0 a=1 b=5 \n",
      "(a==b)=1 a=4 b=4 \n",
      "(a==b)=1 a=3 b=3 \n",
      "(a==b)=1 a=5 b=5 \n",
      "(a==b)=1 a=2 b=2 \n",
      "(a==b)=1 a=1 b=1 \n"
     ]
    }
   ],
   "source": [
    "_lb_a, _ub_a = (1, 5)\n",
    "_lb_b, _ub_b = (1, 5)\n",
    "_model = cp_model.CpModel()\n",
    "_x = _model.new_bool_var('(a==b)')\n",
    "_a = _model.new_int_var(_lb_a, _ub_a, 'a')\n",
    "_b = _model.new_int_var(_lb_b, _ub_b, 'b')\n",
    "_model.add(_a == _b).only_enforce_if(_x)\n",
    "_model.add(_a != _b).only_enforce_if(_x.negated())\n",
    "\n",
    "_solver = cp_model.CpSolver()\n",
    "_solution_printer = VarArraySolutionPrinter([_x, _a, _b])\n",
    "_solver.parameters.enumerate_all_solutions = True\n",
    "_status = _solver.solve(_model, _solution_printer)"
   ]
  },
  {
   "cell_type": "markdown",
   "id": "Vxnm",
   "metadata": {
    "marimo": {
     "config": {
      "hide_code": true
     }
    }
   },
   "source": [
    "## 応用"
   ]
  },
  {
   "cell_type": "markdown",
   "id": "DnEU",
   "metadata": {
    "marimo": {
     "config": {
      "hide_code": true
     }
    }
   },
   "source": [
    "X のポスト([https://x.com/mrsolyu/status/1846512850879275074](https://x.com/mrsolyu/status/1846512850879275074))でこういった問題があったので定式化して犯人を求める.\n",
    "\n",
    "> お前達の誰かが、あの祠を壊したんか！？\n",
    ">\n",
    "> A「俺がやりました」\n",
    ">\n",
    "> B「犯人は2人いる」\n",
    ">\n",
    "> C「Dが犯人でないなら僕が犯人」\n",
    ">\n",
    "> D「4人の中で嘘つきは奇数人」\n",
    ">\n",
    "> 犯人はこの中にいるはずじゃ。そして呪いで嘘しかつけなくなっておるわい。\n",
    "> 誰が祠を壊したかのう？\n",
    "\n",
    "総当たりで探索しても一瞬で終わる程度の規模ではあるが, 練習のために定式化と実装を行う."
   ]
  },
  {
   "cell_type": "markdown",
   "id": "ulZA",
   "metadata": {
    "marimo": {
     "config": {
      "hide_code": true
     }
    }
   },
   "source": [
    "### 定式化"
   ]
  },
  {
   "cell_type": "markdown",
   "id": "ecfG",
   "metadata": {
    "marimo": {
     "config": {
      "hide_code": true
     }
    }
   },
   "source": [
    "#### 変数\n",
    "\n",
    "- $x_A, x_B, x_C, x_D$: A ~ D が嘘つきのとき $1$, 正直もののとき $0$\n",
    "- $y_A, y_B, y_C, y_D$: A ~ D が犯人のとき $1$, そうでないとき $0$\n",
    "\n",
    "#### 制約\n",
    "\n",
    "- 祠を壊したものは呪いで嘘しかつけなくなっている\n",
    "  - $y_* <= x_*$\n",
    "- A「俺がやりました」\n",
    "  - $x_A = 0 \\Longrightarrow y_A = 1$\n",
    "  - $x_A = 1 \\Longrightarrow y_A = 0$\n",
    "  - 上記 2 つをまとめて $x_A = 1 - y_A$ と書ける\n",
    "- B「犯人は2人いる」\n",
    "    - $x_B = 0 \\Longrightarrow y_A + y_B + y_C + y_D = 2$\n",
    "    - $x_B = 1 \\Longrightarrow y_A + y_B + y_C + y_D \\ne 2$\n",
    "- C「Dが犯人でないなら僕が犯人」\n",
    "  - $x_C = 0 \\Longrightarrow$ 「$y_D = 0 \\Longrightarrow y_C = 1$」だがこれは $1 - x_C \\leq y_C + y_D$ と同値\n",
    "  - $x_C = 1 \\Longrightarrow$ 「$y_D = 0 \\land y_C = 0$」だがこれは $2 (1 - x_C) \\geq y_C + y_D$ と同値\n",
    "- D「4人の中で嘘つきは奇数人」\n",
    "  - $x_D = 0 \\Longrightarrow x_A + x_B + x_C + x_D \\equiv 1 \\mod 2$\n",
    "  - $x_D = 1 \\Longrightarrow x_A + x_B + x_C + x_D \\equiv 0 \\mod 2$\n",
    "  - 上記をまとめて $x_A + x_B + x_C + x_D \\equiv 1 - x_D \\mod 2$ として実装する\n",
    "  - この条件は線形にすることができる.\n",
    "    $e, o$ を 0-1 決定変数とし, 嘘つきの数が偶数人か奇数人かに対応させるとする.\n",
    "    この条件は次のように書ける. $s_e, z$ を整数決定変数として,\n",
    "\n",
    "    - $e + o = 1$\n",
    "    - $x_D = e$\n",
    "    - $s_e = 2 * z$\n",
    "    - $x_A + x_B + x_C + x_D = s_e + o$\n",
    "\n",
    "    とすればよい.\n",
    "    こうして A から D までの全ての条件は線形制約で記述できる."
   ]
  },
  {
   "cell_type": "markdown",
   "id": "Pvdt",
   "metadata": {
    "marimo": {
     "config": {
      "hide_code": true
     }
    }
   },
   "source": [
    "### 実装"
   ]
  },
  {
   "cell_type": "code",
   "execution_count": null,
   "id": "ZBYS",
   "metadata": {},
   "outputs": [],
   "source": [
    "suspects = ['A', 'B', 'C', 'D']"
   ]
  },
  {
   "cell_type": "code",
   "execution_count": null,
   "id": "aLJB",
   "metadata": {},
   "outputs": [
    {
     "name": "stdout",
     "output_type": "stream",
     "text": [
      "A_is_liar=1 B_is_liar=1 C_is_liar=1 D_is_liar=0 A_is_culprit=0 B_is_culprit=1 C_is_culprit=0 D_is_culprit=0 \n",
      "A_is_liar=1 B_is_liar=1 C_is_liar=1 D_is_liar=1 A_is_culprit=0 B_is_culprit=1 C_is_culprit=0 D_is_culprit=0 \n"
     ]
    }
   ],
   "source": [
    "_model = cp_model.CpModel()\n",
    "_liar = {_s: _model.new_bool_var(f'{_s}_is_liar') for _s in suspects}\n",
    "_culprit = {_s: _model.new_bool_var(f'{_s}_is_culprit') for _s in suspects}\n",
    "for _s in suspects:\n",
    "    _model.add_implication(_culprit[_s], _liar[_s])\n",
    "_model.add_bool_xor(_liar['A'], _culprit['A'])\n",
    "_model.add(sum((_culprit[_s] for _s in suspects)) == 2).only_enforce_if(_liar['B'].negated())\n",
    "_model.add(sum((_culprit[_s] for _s in suspects)) != 2).only_enforce_if(_liar['B'])\n",
    "_model.add_implication(_culprit['D'].negated(), _culprit['C']).only_enforce_if(_liar['C'].negated())\n",
    "_model.add(_culprit['C'] == 0).only_enforce_if(_liar['C'])\n",
    "_model.add(_culprit['D'] == 0).only_enforce_if(_liar['C'])\n",
    "_n_liar = _model.new_int_var(0, len(suspects), 'num_of_liars')\n",
    "_model.add(_n_liar == sum((_liar[_s] for _s in suspects)))\n",
    "_model.add_modulo_equality(_liar['D'].negated(), _n_liar, 2)\n",
    "_model.add(sum((_culprit[_s] for _s in suspects)) >= 1)\n",
    "\n",
    "_solver = cp_model.CpSolver()\n",
    "_solution_printer = VarArraySolutionPrinter(list(_liar.values()) + list(_culprit.values()))\n",
    "_solver.parameters.enumerate_all_solutions = True\n",
    "_status = _solver.solve(_model, _solution_printer)"
   ]
  },
  {
   "cell_type": "markdown",
   "id": "nHfw",
   "metadata": {
    "marimo": {
     "config": {
      "hide_code": true
     }
    }
   },
   "source": [
    "### 実装(線形版)"
   ]
  },
  {
   "cell_type": "code",
   "execution_count": null,
   "id": "xXTn",
   "metadata": {},
   "outputs": [
    {
     "name": "stdout",
     "output_type": "stream",
     "text": [
      "A_is_liar=1 B_is_liar=1 C_is_liar=1 D_is_liar=0 A_is_culprit=0 B_is_culprit=1 C_is_culprit=0 D_is_culprit=0 \n",
      "A_is_liar=1 B_is_liar=1 C_is_liar=1 D_is_liar=1 A_is_culprit=0 B_is_culprit=1 C_is_culprit=0 D_is_culprit=0 \n"
     ]
    }
   ],
   "source": [
    "_model = cp_model.CpModel()\n",
    "_liar = {_s: _model.new_bool_var(f'{_s}_is_liar') for _s in suspects}\n",
    "_culprit = {_s: _model.new_bool_var(f'{_s}_is_culprit') for _s in suspects}\n",
    "for _s in suspects:\n",
    "    _model.add(_culprit[_s] <= _liar[_s])\n",
    "_model.add(1 - _liar['A'] == _culprit['A'])\n",
    "_y = _model.new_bool_var('(culprits<=2)')\n",
    "_z = _model.new_bool_var('(culprits>=2)')\n",
    "_m = 10\n",
    "_model.add(sum((_culprit[_s] for _s in suspects)) <= 2 + _m * (1 - _y))\n",
    "_model.add(sum((_culprit[_s] for _s in suspects)) - 1 >= 2 - _m * _y)\n",
    "_model.add(2 <= sum((_culprit[_s] for _s in suspects)) + _m * (1 - _z))\n",
    "_model.add(2 - 1 >= sum((_culprit[_s] for _s in suspects)) - _m * _z)\n",
    "_model.add(1 - _liar['B'] + 1 >= _y + _z)\n",
    "_model.add(2 * (1 - _liar['B']) <= _y + _z)\n",
    "_model.add(1 - _liar['C'] <= _culprit['C'] + _culprit['D'])\n",
    "_model.add(2 * (1 - _liar['C']) >= _culprit['C'] + _culprit['D'])\n",
    "_e = _model.new_bool_var('n_liar_is_even')\n",
    "_o = _model.new_bool_var('n_liar_is_odd')\n",
    "_model.add(_e + _o == 1)\n",
    "_model.add(_liar['D'] == _e)\n",
    "_se = _model.new_int_var(0, len(_liar) // 2, 'n_liar//2')\n",
    "_model.add(sum((_liar[_s] for _s in suspects)) == 2 * _se + _o)\n",
    "_model.add(sum((_culprit[_s] for _s in suspects)) >= 1)\n",
    "\n",
    "_solver = cp_model.CpSolver()\n",
    "_solution_printer = VarArraySolutionPrinter(list(_liar.values()) + list(_culprit.values()))\n",
    "_solver.parameters.enumerate_all_solutions = True\n",
    "_status = _solver.solve(_model, _solution_printer)"
   ]
  },
  {
   "cell_type": "markdown",
   "id": "AjVT",
   "metadata": {
    "marimo": {
     "config": {
      "hide_code": true
     }
    }
   },
   "source": [
    "### 補足"
   ]
  },
  {
   "cell_type": "markdown",
   "id": "pHFh",
   "metadata": {
    "marimo": {
     "config": {
      "hide_code": true
     }
    }
   },
   "source": [
    "犯人が 1 人以上いると仮定すると犯人は B でそれ以外は無実だった.\n",
    "全員が犯人でないケースもあり得たが今回は除外.\n",
    "嘘つきかどうかに関しては D 以外は全員嘘つきで確定していて, D は嘘つきでも正直ものでもどちらでも整合する.\n",
    "\n",
    "`add_modulo_equality()` の引数に式をそのまま入れてしまうと `MODEL_INVALID` になってしまった.\n",
    "他の関数, 例えば `add_multiplication_equality()` でも同様のことが起こったため,\n",
    "線形でない制約を追加する際は式を新しい変数に格納してから渡すと安全そう.\n",
    "\n",
    "また, `add_modulo_equality()` の返り値に `only_enforce_if()` を繋げたら `MODEL_INVALID` となってしまった.\n",
    "ドキュメントには書かれていなかったが `only_enforce_if()` が使える制約と使えない制約があるようで,\n",
    "例えば `add_bool_xor()` は明確に\n",
    "\n",
    "> In contrast to add_bool_or and add_bool_and, it does not support .only_enforce_if().\n",
    "\n",
    "と書かれている.\n",
    "(`model.add(a != b)` には `only_enforce_if()` をつなげることができたのでなぜこうなっているかは謎)"
   ]
  }
 ],
 "metadata": {},
 "nbformat": 4,
 "nbformat_minor": 5
}
